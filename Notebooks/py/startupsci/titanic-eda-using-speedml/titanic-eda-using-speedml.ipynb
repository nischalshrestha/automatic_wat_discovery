{
  "cells": [
    {
      "cell_type": "markdown",
      "metadata": {
        "_cell_guid": "4639df1e-1fc6-4e18-d49f-d4b7f66a6e43"
      },
      "source": [
        "## Titanic EDA Using Speedml\n",
        "\n",
        "This notebook performs Exploratory Data Analysis (EDA) on the Titanic dataset using the [Speedml](https://speedml.com) package.\n",
        "\n",
        "> Speedml is a Python package for speed starting machine learning projects.\n",
        "\n",
        "Speedml imports and initializes popular packages like pandas, xgboost, and sklearn, so you only need to import one package. Simple."
      ]
    },
    {
      "cell_type": "code",
      "execution_count": null,
      "metadata": {
        "_cell_guid": "ced84f0d-5ad4-9ebb-3d9b-c3c868aedcab"
      },
      "outputs": [],
      "source": [
        "from speedml import Speedml\n",
        "\n",
        "%matplotlib inline"
      ]
    },
    {
      "cell_type": "markdown",
      "metadata": {
        "_cell_guid": "5d559809-7bb7-19e6-58e4-6ae5e17c382b"
      },
      "source": [
        "## Initialize\n",
        "\n",
        "Let us load the datasets, identify target variable `Survived` and unique id `PassengerId` using single call to Speedml.\n",
        "\n",
        "Then return the shape information (#samples, #features) or (#features)."
      ]
    },
    {
      "cell_type": "code",
      "execution_count": null,
      "metadata": {
        "_cell_guid": "a0acd597-7c18-1943-f66a-d1038b9cfcac"
      },
      "outputs": [],
      "source": [
        "sml = Speedml('../input/train.csv', '../input/test.csv', \n",
        "              target = 'Survived', uid = 'PassengerId')\n",
        "sml.shape()"
      ]
    },
    {
      "cell_type": "markdown",
      "metadata": {
        "_cell_guid": "2d02d7c1-2708-4cc3-ef33-0083fdb73d91"
      },
      "source": [
        "## Datasets\n",
        "\n",
        "Speedml API exposes pandas methods directly so you can do with speedml what you can do with pandas."
      ]
    },
    {
      "cell_type": "code",
      "execution_count": null,
      "metadata": {
        "_cell_guid": "43884325-a504-7cfd-1f43-b3b1668b11b4"
      },
      "outputs": [],
      "source": [
        "sml.train.head()"
      ]
    },
    {
      "cell_type": "markdown",
      "metadata": {
        "_cell_guid": "1c7aca58-2b81-ef9e-0b76-8e518f20d0a0"
      },
      "source": [
        "**Observations**\n",
        "\n",
        "- The dataset contains several text features which need to be converted to numeric for model ready data.\n",
        "- Name feature may contain inconsistent non-categorical data. Candidate for feature extraction and dropping.\n",
        "- Is Ticket feature categorical? Do Ticket values remain same across multiple samples or passengers?"
      ]
    },
    {
      "cell_type": "code",
      "execution_count": null,
      "metadata": {
        "_cell_guid": "11227e20-0b97-b513-2ea4-f471d9a6d261"
      },
      "outputs": [],
      "source": [
        "sml.train.describe()"
      ]
    },
    {
      "cell_type": "code",
      "execution_count": null,
      "metadata": {
        "_cell_guid": "3f97e1a9-de69-c819-9d89-17b300fc3b75"
      },
      "outputs": [],
      "source": [
        "sml.train.info()\n",
        "print('-'*40)\n",
        "sml.test.info()"
      ]
    },
    {
      "cell_type": "markdown",
      "metadata": {
        "_cell_guid": "636a0ebe-9bee-504f-ea4c-481a72f77339"
      },
      "source": [
        "**Observations**\n",
        "\n",
        "- Age feature contains null values which may need to be imputed.\n",
        "- Cabin feature has a lot of null values\n",
        "- Embarked feature has few null values for train dataset."
      ]
    },
    {
      "cell_type": "markdown",
      "metadata": {
        "_cell_guid": "43294ab1-657b-7378-1953-1d2899bd177c"
      },
      "source": [
        "## Correlations\n",
        "\n",
        "Plot correlation matrix heatmap for numerical features of the training dataset. Use this plot to understand if certain features are duplicate, are of low importance, or possibly high importance for our model."
      ]
    },
    {
      "cell_type": "code",
      "execution_count": null,
      "metadata": {
        "_cell_guid": "f6d3833c-a16e-3e69-72e8-03e71d43a94a"
      },
      "outputs": [],
      "source": [
        "sml.plot.correlate()"
      ]
    },
    {
      "cell_type": "markdown",
      "metadata": {
        "_cell_guid": "c681969d-3a8e-1282-358b-2d992de0587d"
      },
      "source": [
        "## Distributions\n",
        "\n",
        "Plot multiple feature distribution histogram plots for all numeric features. This helps understand skew of distribution from normal (horizontal middle) to quickly and relatively identify outliers in the dataset."
      ]
    },
    {
      "cell_type": "code",
      "execution_count": null,
      "metadata": {
        "_cell_guid": "4046d052-a936-b02a-f6cc-7e830a18e640"
      },
      "outputs": [],
      "source": [
        "sml.plot.distribute()"
      ]
    },
    {
      "cell_type": "markdown",
      "metadata": {
        "_cell_guid": "881892e6-c840-e337-72d8-409e6b0c72f2"
      },
      "source": [
        "## Outliers for categorical features\n",
        "\n",
        "We use Violin plots on categorical features to note distribution of values across target variable and existence of any outliers (long thin lines extending out in the plots)."
      ]
    },
    {
      "cell_type": "code",
      "execution_count": null,
      "metadata": {
        "_cell_guid": "13ba674e-d6eb-2fa8-1564-e73fab6810b0"
      },
      "outputs": [],
      "source": [
        "sml.plot.ordinal('Parch')"
      ]
    },
    {
      "cell_type": "code",
      "execution_count": null,
      "metadata": {
        "_cell_guid": "74605d61-33bd-1693-3909-c462980ea58c"
      },
      "outputs": [],
      "source": [
        "sml.plot.ordinal('SibSp')"
      ]
    },
    {
      "cell_type": "markdown",
      "metadata": {
        "_cell_guid": "6685427a-d174-56b5-88c2-382897189001"
      },
      "source": [
        "## Outliers for continuous features\n",
        "\n",
        "We use scatter plots to determine outliers for continuous features. The further out and spread the upper or lower part of the curve, the more the outliers deviate from normal distribution."
      ]
    },
    {
      "cell_type": "code",
      "execution_count": null,
      "metadata": {
        "_cell_guid": "d19c41b4-eb12-0b41-7a2f-69dec22409cf"
      },
      "outputs": [],
      "source": [
        "sml.plot.continuous('Age')"
      ]
    },
    {
      "cell_type": "code",
      "execution_count": null,
      "metadata": {
        "_cell_guid": "f7099ef3-8a63-1738-5116-c006c29d6ae5"
      },
      "outputs": [],
      "source": [
        "sml.plot.continuous('Fare')"
      ]
    },
    {
      "cell_type": "markdown",
      "metadata": {
        "_cell_guid": "8efc8bc9-84e8-310d-0a78-8f3394a893c6"
      },
      "source": [
        "## Cross-tabulate features and target\n",
        "\n",
        "Following analysis uses simple crosstab method to note how samples are distributed across target variable when classified by a certain feature."
      ]
    },
    {
      "cell_type": "code",
      "execution_count": null,
      "metadata": {
        "_cell_guid": "6701b1e5-b9ec-fdb7-8e0a-5cbbef8995ac"
      },
      "outputs": [],
      "source": [
        "sml.plot.crosstab('Survived', 'Pclass')"
      ]
    },
    {
      "cell_type": "code",
      "execution_count": null,
      "metadata": {
        "_cell_guid": "41b128ae-e164-9a7e-01c7-27b013d0f967"
      },
      "outputs": [],
      "source": [
        "sml.plot.crosstab('Survived', 'Parch')"
      ]
    },
    {
      "cell_type": "code",
      "execution_count": null,
      "metadata": {
        "_cell_guid": "f639a0ef-f38a-7847-1d27-859b515f92c1"
      },
      "outputs": [],
      "source": [
        "sml.plot.crosstab('Survived', 'SibSp')"
      ]
    },
    {
      "cell_type": "code",
      "execution_count": null,
      "metadata": {
        "_cell_guid": "580649e7-1533-290c-e2fc-4b163c4def2c"
      },
      "outputs": [],
      "source": [
        "sml.plot.crosstab('Survived', 'Sex')"
      ]
    },
    {
      "cell_type": "code",
      "execution_count": null,
      "metadata": {
        "_cell_guid": "5818eea3-f92d-e2c6-c03c-eb8e0f39850b"
      },
      "outputs": [],
      "source": [
        "sml.plot.crosstab('Survived', 'Embarked')"
      ]
    }
  ],
  "metadata": {
    "_change_revision": 0,
    "_is_fork": false,
    "kernelspec": {
      "display_name": "Python 3",
      "language": "python",
      "name": "python3"
    },
    "language_info": {
      "codemirror_mode": {
        "name": "ipython",
        "version": 3
      },
      "file_extension": ".py",
      "mimetype": "text/x-python",
      "name": "python",
      "nbconvert_exporter": "python",
      "pygments_lexer": "ipython3",
      "version": "3.6.0"
    }
  },
  "nbformat": 4,
  "nbformat_minor": 0
}