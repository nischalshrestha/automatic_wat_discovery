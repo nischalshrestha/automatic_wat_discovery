{
  "cells": [
    {
      "cell_type": "markdown",
      "metadata": {
        "_cell_guid": "ffa8e220-1dbc-d335-60b4-82b3224b33e4"
      },
      "source": [
        "# Titanic Solution Using Speedml\n",
        "\n",
        "### This notebook uses the [Speedml](https://speedml.com)  Python package to speed start machine learning projects.\n",
        "\n",
        "Speedml integrates best ML packages and popular strategies used by top data scientists in an easy to use Python package.\n",
        "\n",
        "> Using Speedml on Titanic dataset we **quickly jumped from low 80% rank to top 20% rank**, within just a few feature engineering iterations.\n",
        "\n",
        "Speedml is under active development and Kaggle version of the API may not be the latest. For demonstrating the latest Speedml features we have also created the same notebook on GitHub.\n",
        "\n",
        "### Download the latest version of [this notebook from GitHub](https://github.com/Speedml/notebooks/blob/master/titanic/titanic-solution-using-speedml.ipynb).\n",
        "\n",
        "### Table of Contents\n",
        "\n",
        "- Loading the datasets.\n",
        "- Differentiating between numerical, categorical, high-cardinality, and continuous features.\n",
        "- Feature correlation heatmap matrix.\n",
        "- Feature distribution for outliers detection.\n",
        "- Plotting continuous features for outliers detection.\n",
        "- Plotting categorical features for outliers detection.\n",
        "- Fixing outliers with a single line of code.\n",
        "- Plotting continuous features against categorical features.\n",
        "- Feature engineering for high-cardinality.\n",
        "- New feature extraction from existing features.\n",
        "- Hyper-parameters tuning for model classifier.\n",
        "- Model evaluation and accuracy ranking.\n",
        "- Model prediction and feature selection.\n",
        "- Saving the results."
      ]
    },
    {
      "cell_type": "markdown",
      "metadata": {
        "_cell_guid": "0c03fb84-7fc0-e5a4-5f25-cc0743a275bc"
      },
      "source": [
        "## Getting Started\n",
        "\n",
        "To get started all you need to do is include one package in your project. Speedml includes pandas, sklearn, numpy, xgboost, by default so you do not need to import these."
      ]
    },
    {
      "cell_type": "code",
      "execution_count": null,
      "metadata": {
        "_cell_guid": "8755c676-b081-1f69-d416-69d90588b68d"
      },
      "outputs": [],
      "source": [
        "from speedml import Speedml\n",
        "\n",
        "%matplotlib inline"
      ]
    },
    {
      "cell_type": "markdown",
      "metadata": {
        "_cell_guid": "54c98879-56bd-9202-c250-a3297ce0a2b1"
      },
      "source": [
        "It takes one line of code to initialize train, test datasets, define the target and unique id variables. This also initializes wrapper components for EDA (sml.plot), XGBoost (sml.xgb), modeling (sml.model), feature engineering (sml.feature) and more..."
      ]
    },
    {
      "cell_type": "code",
      "execution_count": null,
      "metadata": {
        "_cell_guid": "7a02bd0f-6ddb-3f81-d523-dc95f7857c25"
      },
      "outputs": [],
      "source": [
        "sml = Speedml('../input/train.csv', \n",
        "              '../input/test.csv', \n",
        "              target = 'Survived',\n",
        "              uid = 'PassengerId')"
      ]
    },
    {
      "cell_type": "markdown",
      "metadata": {
        "_cell_guid": "ca824058-ef9b-a472-95f0-44c1e2ec803f"
      },
      "source": [
        "You can access pandas directly as a Speedml component."
      ]
    },
    {
      "cell_type": "code",
      "execution_count": null,
      "metadata": {
        "_cell_guid": "8085d8d2-b5f0-f31e-5293-920e3f76ffe8"
      },
      "outputs": [],
      "source": [
        "sml.train.head()"
      ]
    },
    {
      "cell_type": "markdown",
      "metadata": {
        "_cell_guid": "80cc1ba3-54c9-1e8e-3483-21a63706ecc7"
      },
      "source": [
        "## Feature Correlations\n",
        "\n",
        "You can quickly check feature correlations using a plot. Learn how to interpret this plot at https://speedml.com/plot-correlation-of-features/ "
      ]
    },
    {
      "cell_type": "code",
      "execution_count": null,
      "metadata": {
        "_cell_guid": "031293f7-2eb2-08b7-dd0c-53d8c88492fd"
      },
      "outputs": [],
      "source": [
        "sml.plot.correlate()"
      ]
    },
    {
      "cell_type": "markdown",
      "metadata": {
        "_cell_guid": "192c6312-cc08-560d-f95d-75558acee262"
      },
      "source": [
        "## Outliers Detection and Fix\n",
        "\n",
        "We can use distributions to understand skew (left/right) for determining outliers."
      ]
    },
    {
      "cell_type": "code",
      "execution_count": null,
      "metadata": {
        "_cell_guid": "6fd187b6-7f52-98b7-f0cb-597b9797910c"
      },
      "outputs": [],
      "source": [
        "sml.plot.distribute()"
      ]
    },
    {
      "cell_type": "markdown",
      "metadata": {
        "_cell_guid": "2b3ec33a-98da-3ece-6404-ddfa454fb97b"
      },
      "source": [
        "Continuous or high-cardinality numerical features are better plotted using scatter plot for determining outliers.\n",
        "\n",
        "We do not expect outliers in case of Age feature as the distribution plot is fairly close to normal (rising in the middle of x-axis and falling on either sides evenly)."
      ]
    },
    {
      "cell_type": "code",
      "execution_count": null,
      "metadata": {
        "_cell_guid": "db5d4030-e572-7d75-55a7-85dcec9fa244"
      },
      "outputs": [],
      "source": [
        "sml.plot.continuous('Age')"
      ]
    },
    {
      "cell_type": "markdown",
      "metadata": {
        "_cell_guid": "c0993896-f23d-0bcc-97e8-67f6d2795a23"
      },
      "source": [
        "The method clearly shows some outliers in case of Fare feature. This coincides with our observation from the distribution plot for the Fare feature which is skewed towards left."
      ]
    },
    {
      "cell_type": "code",
      "execution_count": null,
      "metadata": {
        "_cell_guid": "8a52f9f6-5ec6-ea55-702e-6b02b492bb7c"
      },
      "outputs": [],
      "source": [
        "sml.plot.continuous('Fare')"
      ]
    },
    {
      "cell_type": "markdown",
      "metadata": {
        "_cell_guid": "868c9c2a-fe3b-f6e4-1103-d44a95e1b92a"
      },
      "source": [
        "To correct the outliers we fix only values in upper range of the 99th percentile. As the results show these constitute around 1% of overall samples."
      ]
    },
    {
      "cell_type": "code",
      "execution_count": null,
      "metadata": {
        "_cell_guid": "fac64434-9314-2c19-16c5-cb67063cc938"
      },
      "outputs": [],
      "source": [
        "sml.feature.outliers('Fare', upper=99)"
      ]
    },
    {
      "cell_type": "markdown",
      "metadata": {
        "_cell_guid": "f53262e6-1615-8251-609a-b159caeda330"
      },
      "source": [
        "While we impact only a few samples, the outliers fix is fairly significant as shown by the same plot after the fix."
      ]
    },
    {
      "cell_type": "code",
      "execution_count": null,
      "metadata": {
        "_cell_guid": "ddeb53a1-ff84-1900-26ee-d7a1005231f6"
      },
      "outputs": [],
      "source": [
        "sml.plot.continuous('Fare')"
      ]
    },
    {
      "cell_type": "markdown",
      "metadata": {
        "_cell_guid": "fd1559b9-1a78-7956-bafb-ea27e0e4f6b0"
      },
      "source": [
        "Let us fix a categorical feature this time."
      ]
    },
    {
      "cell_type": "code",
      "execution_count": null,
      "metadata": {
        "_cell_guid": "4f584470-5e70-bef6-2503-a1bf3b036716"
      },
      "outputs": [],
      "source": [
        "sml.plot.ordinal('Parch')\n",
        "print(sml.feature.outliers('Parch', upper=99))\n",
        "sml.plot.ordinal('Parch')"
      ]
    },
    {
      "cell_type": "markdown",
      "metadata": {
        "_cell_guid": "6cd0cc42-543b-73fa-cb0a-0a1ff8bf3407"
      },
      "source": [
        "## Feature Engineering For High-Cardinality\n",
        "\n",
        "High-cardinality features like Ticket and Age are candidates for feature engineering. We use the density method to create a new feature based on Age and Ticket and drop the Ticket feature in turn. This simple iteration improves our model significantly and helps us jump 100s of positions on the Kaggle leaderboard."
      ]
    },
    {
      "cell_type": "code",
      "execution_count": null,
      "metadata": {
        "_cell_guid": "a7c0c30b-18a4-5437-d0b5-c63edea824ca"
      },
      "outputs": [],
      "source": [
        "sml.feature.density('Age')\n",
        "sml.train[['Age', 'Age_density']].head()"
      ]
    },
    {
      "cell_type": "code",
      "execution_count": null,
      "metadata": {
        "_cell_guid": "ee223b2b-2474-b578-46c5-9131af923835"
      },
      "outputs": [],
      "source": [
        "sml.feature.density('Ticket')\n",
        "sml.train[['Ticket', 'Ticket_density']].head()"
      ]
    },
    {
      "cell_type": "code",
      "execution_count": null,
      "metadata": {
        "_cell_guid": "4bc0c399-2c29-4f7b-7792-715fab5ec349"
      },
      "outputs": [],
      "source": [
        "sml.feature.drop(['Ticket'])"
      ]
    },
    {
      "cell_type": "markdown",
      "metadata": {
        "_cell_guid": "1bf3163b-9a88-8b77-3e4e-4213bd99ddc4"
      },
      "source": [
        "## Extracting New Features\n",
        "\n",
        "We will now extract new features Deck from Cabin and FamilySize from Parch and SibSp."
      ]
    },
    {
      "cell_type": "code",
      "execution_count": null,
      "metadata": {
        "_cell_guid": "48a4a807-707c-ba08-b945-ec5865961ab7"
      },
      "outputs": [],
      "source": [
        "sml.plot.crosstab('Survived', 'SibSp')"
      ]
    },
    {
      "cell_type": "code",
      "execution_count": null,
      "metadata": {
        "_cell_guid": "d8373c55-3783-cb5a-384b-3239604cba6a"
      },
      "outputs": [],
      "source": [
        "sml.plot.crosstab('Survived', 'Parch')"
      ]
    },
    {
      "cell_type": "markdown",
      "metadata": {
        "_cell_guid": "22c794d3-1e6e-f195-eecd-c77dd21a7575"
      },
      "source": [
        "This cell demonstrates linear, concise workflow Speedml API enables within few lines of code."
      ]
    },
    {
      "cell_type": "code",
      "execution_count": null,
      "metadata": {
        "_cell_guid": "b2016662-a31c-e927-636f-074ca93ffac8"
      },
      "outputs": [],
      "source": [
        "sml.feature.fillna(a='Cabin', new='Z')\n",
        "sml.feature.extract(new='Deck', a='Cabin', regex='([A-Z]){1}')\n",
        "sml.feature.drop(['Cabin'])\n",
        "sml.feature.mapping('Sex', {'male': 0, 'female': 1})\n",
        "sml.feature.sum(new='FamilySize', a='Parch', b='SibSp')\n",
        "sml.feature.add('FamilySize', 1)"
      ]
    },
    {
      "cell_type": "code",
      "execution_count": null,
      "metadata": {
        "_cell_guid": "86f25e45-b1c7-1163-8fd4-7f5e154d3d10"
      },
      "outputs": [],
      "source": [
        "sml.plot.crosstab('Survived', 'Deck')"
      ]
    },
    {
      "cell_type": "code",
      "execution_count": null,
      "metadata": {
        "_cell_guid": "900eee6b-90ca-0793-c1e3-fef7b05e121c"
      },
      "outputs": [],
      "source": [
        "sml.plot.crosstab('Survived', 'FamilySize')"
      ]
    },
    {
      "cell_type": "code",
      "execution_count": null,
      "metadata": {
        "_cell_guid": "3d38a9e3-6c3e-808f-c765-e6c7906cb75e"
      },
      "outputs": [],
      "source": [
        "sml.feature.drop(['Parch', 'SibSp'])"
      ]
    },
    {
      "cell_type": "markdown",
      "metadata": {
        "_cell_guid": "a8c98b4e-149b-db34-492e-ed0de95a0e2c"
      },
      "source": [
        "Here is a single line of code to impute all empty features values (numerical and text) with numerical median or most common text value."
      ]
    },
    {
      "cell_type": "code",
      "execution_count": null,
      "metadata": {
        "_cell_guid": "52982d4e-c72f-5b97-ce83-9d4a8f6ad9c9"
      },
      "outputs": [],
      "source": [
        "sml.feature.impute()"
      ]
    },
    {
      "cell_type": "code",
      "execution_count": null,
      "metadata": {
        "_cell_guid": "1adeda1d-2fcf-3e52-37bf-f381eb7d1613"
      },
      "outputs": [],
      "source": [
        "sml.train.info()\n",
        "print('-'*50)\n",
        "sml.test.info()"
      ]
    },
    {
      "cell_type": "code",
      "execution_count": null,
      "metadata": {
        "_cell_guid": "62df0aa1-f5ad-387f-6ecd-dbbcec801c9d"
      },
      "outputs": [],
      "source": [
        "sml.plot.importance()"
      ]
    },
    {
      "cell_type": "code",
      "execution_count": null,
      "metadata": {
        "_cell_guid": "d52904fe-9f55-047a-28c2-8cbbf2c2f7c6"
      },
      "outputs": [],
      "source": [
        "sml.train.head()"
      ]
    },
    {
      "cell_type": "code",
      "execution_count": null,
      "metadata": {
        "_cell_guid": "393f0547-ac42-50a3-7890-3a5bff1067ae"
      },
      "outputs": [],
      "source": [
        "sml.feature.extract(new='Title', a='Name', regex=' ([A-Za-z]+)\\.')\n",
        "sml.plot.crosstab('Title', 'Sex')"
      ]
    },
    {
      "cell_type": "code",
      "execution_count": null,
      "metadata": {
        "_cell_guid": "439e1460-2ac9-bd41-b2fd-30cf9beb2d96"
      },
      "outputs": [],
      "source": [
        "sml.feature.replace(a='Title', match=['Lady', 'Countess','Capt', 'Col',\\\n",
        "'Don', 'Dr', 'Major', 'Rev', 'Sir', 'Jonkheer', 'Dona'], new='Rare')"
      ]
    },
    {
      "cell_type": "code",
      "execution_count": null,
      "metadata": {
        "_cell_guid": "402aebd7-880e-f939-a304-714ed6279280"
      },
      "outputs": [],
      "source": [
        "sml.feature.replace('Title', 'Mlle', 'Miss')"
      ]
    },
    {
      "cell_type": "code",
      "execution_count": null,
      "metadata": {
        "_cell_guid": "ba2f0328-c62a-da4d-1715-d0462241d3a0"
      },
      "outputs": [],
      "source": [
        "sml.feature.replace('Title', 'Ms', 'Miss')\n",
        "sml.feature.replace('Title', 'Mme', 'Mrs')\n",
        "sml.train[['Name', 'Title']].head()"
      ]
    },
    {
      "cell_type": "code",
      "execution_count": null,
      "metadata": {
        "_cell_guid": "19336a16-8606-e6d4-b3eb-eacaa78b1964"
      },
      "outputs": [],
      "source": [
        "sml.feature.drop(['Name'])\n",
        "sml.feature.labels(['Title', 'Embarked', 'Deck'])\n",
        "sml.train.head()"
      ]
    },
    {
      "cell_type": "code",
      "execution_count": null,
      "metadata": {
        "_cell_guid": "ac91bf9a-a2e7-b895-9a54-d1f850da6ffa"
      },
      "outputs": [],
      "source": [
        "sml.plot.importance()"
      ]
    },
    {
      "cell_type": "code",
      "execution_count": null,
      "metadata": {
        "_cell_guid": "3d5007a0-3cef-12d1-0918-a9ae810dd4a4"
      },
      "outputs": [],
      "source": [
        "sml.plot.correlate()"
      ]
    },
    {
      "cell_type": "code",
      "execution_count": null,
      "metadata": {
        "_cell_guid": "74d70702-5e54-7c3a-b0ab-a550210e9080"
      },
      "outputs": [],
      "source": [
        "sml.plot.distribute()"
      ]
    },
    {
      "cell_type": "markdown",
      "metadata": {
        "_cell_guid": "3c6abd20-fafd-3cc4-dd08-a1cbc69d5f21"
      },
      "source": [
        "### For next steps in the workflow including hyper-parameter tuning, model evaluation, feature selection.\n",
        "\n",
        "### Download the latest version of [this notebook from GitHub](https://github.com/Speedml/notebooks/blob/master/titanic/titanic-solution-using-speedml.ipynb)."
      ]
    }
  ],
  "metadata": {
    "_change_revision": 0,
    "_is_fork": false,
    "kernelspec": {
      "display_name": "Python 3",
      "language": "python",
      "name": "python3"
    },
    "language_info": {
      "codemirror_mode": {
        "name": "ipython",
        "version": 3
      },
      "file_extension": ".py",
      "mimetype": "text/x-python",
      "name": "python",
      "nbconvert_exporter": "python",
      "pygments_lexer": "ipython3",
      "version": "3.6.0"
    }
  },
  "nbformat": 4,
  "nbformat_minor": 0
}