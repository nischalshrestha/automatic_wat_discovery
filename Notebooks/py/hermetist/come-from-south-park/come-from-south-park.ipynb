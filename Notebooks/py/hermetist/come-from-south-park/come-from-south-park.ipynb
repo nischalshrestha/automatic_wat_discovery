{
  "cells": [
    {
      "cell_type": "markdown",
      "metadata": {
        "_cell_guid": "a18eb69c-a786-0ac6-1fb6-ffaa101396c1"
      },
      "source": [
        "A test on Titanic"
      ]
    },
    {
      "cell_type": "code",
      "execution_count": null,
      "metadata": {
        "_cell_guid": "4313b67b-a70f-b92f-ec5d-3139b59321d5"
      },
      "outputs": [],
      "source": [
        "import pandas as pd\n",
        "import numpy as nm\n",
        "\n",
        "import matplotlib.pyplot as plt\n",
        "import seaborn as sns\n",
        "\n",
        "from sklearn.linear_model  import LogisticRegression\n",
        "from sklearn.svm import SVC, LinearSVC\n",
        "from sklearn.ensemble import RandomForestClassifier\n",
        "from sklearn.neighbors import KNeighborsClassifier\n",
        "from sklearn.naive_bayes import GaussianNB\n",
        "\n",
        "titanic_train = pd.read_csv('../input/train.csv')\n",
        "titanic_test = pd.read_csv('../input/test.csv')\n"
      ]
    },
    {
      "cell_type": "code",
      "execution_count": null,
      "metadata": {
        "_cell_guid": "d242d1ac-785a-6d46-a60a-10852155424c"
      },
      "outputs": [],
      "source": [
        "\n",
        "# Take a look at data \n",
        "# Only showed number types\n",
        "print(titanic_train.describe())\n",
        "\n",
        "print('-------------------')\n",
        "print(titanic_train.isnull().sum())\n",
        "print('-------------------')\n",
        "print(titanic_test.isnull().sum())\n",
        "print('-------------------')\n",
        "titanic_train.head()\n",
        "\n",
        "# info is used to the types of data"
      ]
    },
    {
      "cell_type": "code",
      "execution_count": null,
      "metadata": {
        "_cell_guid": "3d69a4d8-3d87-8010-b57c-f5465216febf"
      },
      "outputs": [],
      "source": [
        "titanic_train.info()\n",
        "print('------------------------')\n",
        "titanic_test.info()"
      ]
    },
    {
      "cell_type": "code",
      "execution_count": null,
      "metadata": {
        "_cell_guid": "d866951a-9634-af67-2438-ffca78263dc1"
      },
      "outputs": [],
      "source": [
        "print(titanic_train[\"Embarked\"].unique())\n",
        "print(titanic_test[\"Embarked\"].unique())\n",
        "print(titanic_train[\"SibSp\"].unique())\n",
        "print(titanic_test[\"SibSp\"].unique())\n",
        "print(titanic_train[\"Pclass\"].unique())\n",
        "print(titanic_test[\"Pclass\"].unique())"
      ]
    },
    {
      "cell_type": "code",
      "execution_count": null,
      "metadata": {
        "_cell_guid": "aad21125-8689-c54d-1c52-2a15486a5a22"
      },
      "outputs": [],
      "source": [
        "print(titanic_train.columns.values)\n",
        "print(titanic_test.columns.values)\n",
        "#There is a question: if there are some data elements missed in test. \n",
        "#Should I completed it and then predict? or just drop all we needn't element types?"
      ]
    },
    {
      "cell_type": "code",
      "execution_count": null,
      "metadata": {
        "_cell_guid": "ca9c9e62-a29b-3cc0-bdfc-af06bc33b6a4"
      },
      "outputs": [],
      "source": [
        "from numpy import arange\n",
        "#sns.set(font_scale=1)\n",
        "\n",
        "#pd.options.display.mpl_style = 'default'\n",
        "titanic_train.hist(bins=10,figsize=(9,7),grid=False)\n",
        "\n",
        "\n",
        "#print(len(x))\n",
        "#sns.lmplot(x, y = 'PassengerId', data = titanic_train)\n",
        "#for d\n",
        "#print(titanic[\"PassengerId\"])"
      ]
    },
    {
      "cell_type": "code",
      "execution_count": null,
      "metadata": {
        "_cell_guid": "84fb1cf5-14dd-8919-b723-e7b618d14387"
      },
      "outputs": [],
      "source": [
        "#x = arange(1,titanic_train.shape[0] + 1, 1)\n",
        "#print(titanic_train.columns.values)\n",
        "#plt.plot(x, titanic_train[\"PassengerId\"])\n",
        "# I just found that PassengerId is userless......"
      ]
    },
    {
      "cell_type": "code",
      "execution_count": null,
      "metadata": {
        "_cell_guid": "165ee96e-af1e-c1a6-fa31-01e2f3c43598"
      },
      "outputs": [],
      "source": [
        "g = sns.FacetGrid(titanic_train, col=\"Sex\", row=\"Survived\", margin_titles=True)\n",
        "g.map(plt.hist, \"Age\",color=\"purple\")"
      ]
    },
    {
      "cell_type": "code",
      "execution_count": null,
      "metadata": {
        "_cell_guid": "4f9f7510-5a1e-dc92-0391-7d00b8be2f7c"
      },
      "outputs": [],
      "source": [
        "g = sns.FacetGrid(titanic_train, hue=\"Survived\", col=\"Pclass\", margin_titles=True,\n",
        "                  palette={1:\"seagreen\", 0:\"gray\"})\n",
        "g=g.map(plt.scatter, \"Fare\", \"Age\", edgecolor=\"w\").add_legend()"
      ]
    },
    {
      "cell_type": "code",
      "execution_count": null,
      "metadata": {
        "_cell_guid": "a14c9d42-55f9-2659-3790-2d40e964cb5d"
      },
      "outputs": [],
      "source": [
        "g = sns.FacetGrid(titanic_train, hue=\"Survived\", col=\"Sex\", margin_titles=True,\n",
        "                palette=\"Set1\",hue_kws=dict(marker=[\"v\", \"^\"]), size = 4.5)\n",
        "#hue_kws seems useless\n",
        "g.map(plt.scatter, \"Fare\", \"Age\",edgecolor=\"w\").add_legend()\n",
        "plt.subplots_adjust(top=0.8)\n",
        "g.fig.suptitle('Survival by Gender , Age and Fare')"
      ]
    },
    {
      "cell_type": "code",
      "execution_count": null,
      "metadata": {
        "_cell_guid": "2012da5d-4bdd-326a-8bc4-ccd92fcad15a"
      },
      "outputs": [],
      "source": [
        "titanic_train.Embarked.value_counts().plot(kind='bar', alpha=0.55)\n",
        "#This plot comes from pandas's plot.\n",
        "plt.title(\"Passengers per boarding location\")\n"
      ]
    },
    {
      "cell_type": "code",
      "execution_count": null,
      "metadata": {
        "_cell_guid": "08ebc1ac-8de3-8a50-09ed-563cfbfef10d"
      },
      "outputs": [],
      "source": [
        "g = sns.kdeplot(titanic_train[\"Age\"], shade=True, color=\"r\")\n",
        "#print(titanic_train[\"Age\"].unique())     # Age contains NaN\n"
      ]
    },
    {
      "cell_type": "code",
      "execution_count": null,
      "metadata": {
        "_cell_guid": "766a5d69-16d4-8620-0754-5f16481ade28"
      },
      "outputs": [],
      "source": [
        "#g = sns.FacetGrid(titanic_train, hue = \"Survived\", col = \"Sex\", margin_titles=True)\n",
        "#g.map(sns.plt.ked, \"Age\")\n",
        "g = sns.FacetGrid(titanic_train, row = \"Survived\", col = \"Sex\", margin_titles = True)\n",
        "g.map(sns.kdeplot, \"Age\", shade=True)\n",
        "# Is there a bug or anything? when I didn't print anything. The g.map will plot the same 2 things.\n",
        "print(titanic_train[\"Survived\"].unique())\n",
        "print(titanic_train[\"Sex\"].unique())\n",
        "#g.map(plt.scatter, \"Fare\", \"Age\",edgecolor=\"w\").add_legend()"
      ]
    },
    {
      "cell_type": "code",
      "execution_count": null,
      "metadata": {
        "_cell_guid": "4c038ef3-399e-f04a-0103-731144e8e9d2"
      },
      "outputs": [],
      "source": [
        "sns.factorplot(x = 'Embarked',y=\"Survived\", data = titanic_train,color=\"b\")\n",
        "# To view the factor."
      ]
    },
    {
      "cell_type": "code",
      "execution_count": null,
      "metadata": {
        "_cell_guid": "b21e3aa8-71ac-f6e7-cae4-4223b160e86f"
      },
      "outputs": [],
      "source": [
        "sns.set(font_scale=1)\n",
        "g = sns.factorplot(x=\"Sex\", y=\"Survived\", col=\"Pclass\",\n",
        "                    data=titanic_train, saturation=.5,\n",
        "                    kind=\"bar\", ci=None, aspect=.6)\n",
        "(g.set_axis_labels(\"\", \"Survival Rate\")\n",
        "    .set_xticklabels([\"Men\", \"Women\"])\n",
        "    #.set_titles(\"{col_name} {col_var}\")\n",
        "    .set(ylim=(0, 1))\n",
        "    .despine(left=True))  \n",
        "plt.subplots_adjust(top=0.8)\n",
        "g.fig.suptitle('How many Men and Women Survived by Passenger Class')"
      ]
    },
    {
      "cell_type": "code",
      "execution_count": null,
      "metadata": {
        "_cell_guid": "039f8049-5cad-3e8f-6708-2f731f6c5575"
      },
      "outputs": [],
      "source": [
        "ax = sns.boxplot(x=\"Survived\", y=\"Age\", \n",
        "                data=titanic_train)\n",
        "ax = sns.stripplot(x=\"Survived\", y=\"Age\",\n",
        "                   data=titanic_train, jitter=True,\n",
        "                   edgecolor=\"gray\")\n",
        "sns.plt.title(\"Survival by Age\",fontsize=12)"
      ]
    },
    {
      "cell_type": "code",
      "execution_count": null,
      "metadata": {
        "_cell_guid": "15210eb9-ab1e-b86a-9b74-acdf606d0fd0"
      },
      "outputs": [],
      "source": [
        "corr=titanic_train.corr()#[\"Survived\"]\n",
        "plt.figure(figsize=(10, 10))\n",
        "\n",
        "sns.heatmap(corr, vmax=1, square=True,annot=True,cmap='YlGnBu')\n",
        "plt.title('Correlation between features')"
      ]
    },
    {
      "cell_type": "code",
      "execution_count": null,
      "metadata": {
        "_cell_guid": "eb32d0e3-acd5-0240-a812-250aec7b3224"
      },
      "outputs": [],
      "source": [
        "g = sns.factorplot(x=\"Fare\", y=\"Embarked\",\n",
        "                    hue=\"Sex\", row=\"Pclass\",\n",
        "                    data=titanic_train[titanic_train.Embarked.notnull()],\n",
        "                    orient=\"h\", size=2, aspect=3.5, \n",
        "                   palette={'male':\"purple\", 'female':\"blue\"},\n",
        "                    kind=\"violin\", split=True, cut=0, bw=.2)\n",
        "#print(titanic_train.head())\n",
        "# So far, in fact, only two"
      ]
    },
    {
      "cell_type": "markdown",
      "metadata": {
        "_cell_guid": "c26038e1-ef06-df97-e409-185dc049609e"
      },
      "source": [
        "The reason that we have to fill all missed data up. Because, some algorithms need full matrix-like dataset, in fact, a lot.  \n",
        "\n",
        "How much effect the the filled data have? How to quantify this kind of effect?\n",
        "\n",
        "Tree-structure algorithms perhaps perform better in such missed data."
      ]
    },
    {
      "cell_type": "code",
      "execution_count": null,
      "metadata": {
        "_cell_guid": "c1863aa5-19b0-adc6-b663-94ceba38b320"
      },
      "outputs": [],
      "source": [
        "titanic_train[titanic_train['Embarked'].isnull()]"
      ]
    },
    {
      "cell_type": "code",
      "execution_count": null,
      "metadata": {
        "_cell_guid": "bc50c651-496e-5a6c-b827-e545d62d0af1"
      },
      "outputs": [],
      "source": [
        "sns.boxplot(x=\"Embarked\", y=\"Fare\", hue=\"Pclass\", data = titanic_train)\n",
        "ax = sns.stripplot(x=\"Embarked\", y=\"Fare\", hue =\"Pclass\",\n",
        "                   data = titanic_train, jitter=True,\n",
        "                   edgecolor=\"gray\")"
      ]
    },
    {
      "cell_type": "code",
      "execution_count": null,
      "metadata": {
        "_cell_guid": "a0d85a86-3537-05fd-5bb0-112ccac58bca"
      },
      "outputs": [],
      "source": [
        "sns.boxplot(x=\"Embarked\", y=\"Age\", hue=\"Sex\", data=titanic_train)\n",
        "ax = sns.stripplot(x=\"Embarked\", y=\"Age\", hue =\"Sex\",\n",
        "                   data=titanic_train, jitter=True,\n",
        "                   edgecolor=\"gray\")"
      ]
    },
    {
      "cell_type": "code",
      "execution_count": null,
      "metadata": {
        "_cell_guid": "88101b20-7a1e-fbeb-ac28-9d336b9870d2"
      },
      "outputs": [],
      "source": [
        "titanic_train[\"Embarked\"] = titanic_train[\"Embarked\"].fillna('C')\n",
        "# either S or C. The only question is I don't thikd just Fare and Pclass and Sex can be\n",
        "# used to  determine the Embarked. In fact it's more make sense thar use Cabin and Ticket do that.\n",
        "# I do it later."
      ]
    },
    {
      "cell_type": "markdown",
      "metadata": {
        "_cell_guid": "be714606-e9d3-71ab-6186-46e42890a1de"
      },
      "source": [
        "There is a problem. In fact, all information just lay down there. But it's me to extract features. Is there any possible that can extract feature automatic? \n"
      ]
    },
    {
      "cell_type": "code",
      "execution_count": null,
      "metadata": {
        "_cell_guid": "150ab491-e966-4a9d-5324-0149f310cbd2"
      },
      "outputs": [],
      "source": [
        "titanic_test[titanic_test['Fare'].isnull()]"
      ]
    }
  ],
  "metadata": {
    "_change_revision": 0,
    "_is_fork": false,
    "kernelspec": {
      "display_name": "Python 3",
      "language": "python",
      "name": "python3"
    },
    "language_info": {
      "codemirror_mode": {
        "name": "ipython",
        "version": 3
      },
      "file_extension": ".py",
      "mimetype": "text/x-python",
      "name": "python",
      "nbconvert_exporter": "python",
      "pygments_lexer": "ipython3",
      "version": "3.6.0"
    }
  },
  "nbformat": 4,
  "nbformat_minor": 0
}