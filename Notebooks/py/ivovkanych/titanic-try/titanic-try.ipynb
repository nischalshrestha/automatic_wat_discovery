{
  "cells": [
    {
      "cell_type": "markdown",
      "metadata": {
        "_cell_guid": "c81a5a26-002a-d727-bb75-0f2e3a558e94"
      },
      "source": [
        "just my first try"
      ]
    },
    {
      "cell_type": "code",
      "execution_count": null,
      "metadata": {
        "_cell_guid": "c50efa64-f4ec-f305-f06d-a4617491f8af"
      },
      "outputs": [],
      "source": [
        "#Python 3\n",
        "import numpy as np # linear algebra\n",
        "import pandas as pd # data processing, CSV file I/O (e.g. pd.read_csv)\n",
        "from sklearn import linear_model, cross_validation #statistics and ML"
      ]
    },
    {
      "cell_type": "code",
      "execution_count": null,
      "metadata": {
        "_cell_guid": "0a5653b9-aeb1-3d4f-06fc-a2b9640ce186"
      },
      "outputs": [],
      "source": [
        "#Print you can execute arbitrary python code\n",
        "train = pd.read_csv(\"../input/train.csv\", dtype={\"Age\": np.float64}, )\n",
        "\n",
        "\n",
        "#Print to standard output, and see the results in the \"log\" section below after running your script\n",
        "print(\"\\n\\nTop of the training data:\")\n",
        "print(train.head())\n",
        "\n",
        "print(\"\\n\\nSummary statistics of training data\")\n",
        "print(train.describe())\n",
        "\n",
        "print(\"\\n\\nUnique values for some of the columns\")\n",
        "print(train['Sex'].unique())"
      ]
    },
    {
      "cell_type": "markdown",
      "metadata": {
        "_cell_guid": "0f75ddd1-befe-9cc3-75fc-fa7335e0cfe5"
      },
      "source": [
        "**Filling NAs**"
      ]
    },
    {
      "cell_type": "code",
      "execution_count": null,
      "metadata": {
        "_cell_guid": "91493311-4a71-c31d-720a-23fd245a7b67"
      },
      "outputs": [],
      "source": [
        "train['Age']=train['Age'].fillna(train['Age'].median())\n",
        "train['Embarked']=train['Embarked'].fillna('S')"
      ]
    },
    {
      "cell_type": "markdown",
      "metadata": {
        "_cell_guid": "d7ac6841-3c05-9d72-a41c-f2d97f59ece5"
      },
      "source": [
        "**Formating categorical variables into numeric format**"
      ]
    },
    {
      "cell_type": "code",
      "execution_count": null,
      "metadata": {
        "_cell_guid": "8ca432df-c0af-f349-cc28-6c6ed49f311f"
      },
      "outputs": [],
      "source": [
        "train.loc[train['Sex']=='male','Sex']=0\n",
        "train.loc[train['Sex']=='female','Sex']=1\n",
        "train.loc[train['Embarked']=='S','Embarked']=0\n",
        "train.loc[train['Embarked']=='C','Embarked']=1\n",
        "train.loc[train['Embarked']=='Q','Embarked']=2"
      ]
    },
    {
      "cell_type": "markdown",
      "metadata": {
        "_cell_guid": "252036bb-fba1-96f7-3738-6da389a56b91"
      },
      "source": [
        "**Linear regression**"
      ]
    },
    {
      "cell_type": "code",
      "execution_count": null,
      "metadata": {
        "_cell_guid": "78d5e7b2-c77c-471a-80d6-bc5fd8c85967"
      },
      "outputs": [],
      "source": [
        "factors=['Pclass','Sex','Age','SibSp','Parch','Fare','Embarked']\n",
        "linreg=linear_model.LinearRegression()\n",
        "kf=cross_validation.KFold(train.shape[0], n_folds=3, random_state=1)\n",
        "\n",
        "predictions = []\n",
        "\n",
        "for k_train,k_test in kf:\n",
        "    train_predictors=train[factors].iloc[k_train,:]\n",
        "    train_target=train[\"Survived\"].iloc[k_train]\n",
        "    linreg.fit(train_predictors,train_target)\n",
        "    test_predictions = linreg.predict(train[factors].iloc[k_test,:])\n",
        "    predictions.append(test_predictions)\n",
        "\n",
        "predictions = np.concatenate(predictions, axis=0)\n",
        "\n",
        "predictions[predictions>0.5]=1\n",
        "predictions[predictions<=0.5]=0\n",
        "\n",
        "accuracy=sum(train['Survived']==predictions)/len(train['Survived'])\n",
        "print('Linear regression accuracy:',accuracy)"
      ]
    },
    {
      "cell_type": "markdown",
      "metadata": {
        "_cell_guid": "5968b4fe-f332-c87d-3632-c338a87d2d49"
      },
      "source": [
        "**Logistic regression**"
      ]
    },
    {
      "cell_type": "code",
      "execution_count": null,
      "metadata": {
        "_cell_guid": "60de03a1-7f20-b3d6-f359-ca5e3107cd2c"
      },
      "outputs": [],
      "source": [
        "logalg=linear_model.LogisticRegression(random_state=1)\n",
        "scores=cross_validation.cross_val_score(logalg,train[factors],train[\"Survived\"],cv=3)\n",
        "print('Logistinc regression accuracy:', scores.mean())"
      ]
    },
    {
      "cell_type": "code",
      "execution_count": null,
      "metadata": {
        "_cell_guid": "38c81f2b-f500-1df8-a786-facc1eb8e674"
      },
      "outputs": [],
      "source": [
        "test = pd.read_csv(\"../input/test.csv\", dtype={\"Age\": np.float64}, )\n",
        "test['Age']=test['Age'].fillna(train['Age'].median())\n",
        "test['Fare']=test['Fare'].fillna(test['Fare'].median())\n",
        "test['Embarked']=test['Embarked'].fillna('S')\n",
        "\n",
        "test.loc[test['Sex']=='male','Sex']=0\n",
        "test.loc[test['Sex']=='female','Sex']=1\n",
        "test.loc[test['Embarked']=='S','Embarked']=0\n",
        "test.loc[test['Embarked']=='C','Embarked']=1\n",
        "test.loc[test['Embarked']=='Q','Embarked']=2\n",
        "\n",
        "print(test)"
      ]
    },
    {
      "cell_type": "code",
      "execution_count": null,
      "metadata": {
        "_cell_guid": "2c1b74ed-0a1c-ff73-6968-02bfe693425d"
      },
      "outputs": [],
      "source": [
        "logalg=linear_model.LogisticRegression(random_state=1)\n",
        "logalg.fit(train[factors],train['Survived'])\n",
        "predictions=logalg.predict(test[factors])\n",
        "submission = pd.DataFrame({\"PassengerId\":test[\"PassengerId\"],\n",
        "                          \"Survived\":predictions})\n",
        "print(submission)"
      ]
    },
    {
      "cell_type": "markdown",
      "metadata": {
        "_cell_guid": "6b5eaa0a-5179-ebbe-4100-3796c4912b34"
      },
      "source": [
        "**Saving the results**"
      ]
    },
    {
      "cell_type": "code",
      "execution_count": null,
      "metadata": {
        "_cell_guid": "be9d487d-6710-e1ab-d34a-446ca05bb08f"
      },
      "outputs": [],
      "source": [
        "submission.to_csv('voi_titanic_submission1.csv', index=False)"
      ]
    }
  ],
  "metadata": {
    "_change_revision": 0,
    "_is_fork": false,
    "kernelspec": {
      "display_name": "Python 3",
      "language": "python",
      "name": "python3"
    },
    "language_info": {
      "codemirror_mode": {
        "name": "ipython",
        "version": 3
      },
      "file_extension": ".py",
      "mimetype": "text/x-python",
      "name": "python",
      "nbconvert_exporter": "python",
      "pygments_lexer": "ipython3",
      "version": "3.5.2"
    }
  },
  "nbformat": 4,
  "nbformat_minor": 0
}