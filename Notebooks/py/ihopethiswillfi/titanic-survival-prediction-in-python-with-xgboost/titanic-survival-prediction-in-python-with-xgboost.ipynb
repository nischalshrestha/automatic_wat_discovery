{
  "cells": [
    {
      "cell_type": "markdown",
      "metadata": {
        "_cell_guid": "55342cb6-ea89-07c1-d3ae-53f7976f4dec"
      },
      "source": [
        "**Titanic survival prediction in Python with XGBoost tutorial**\n",
        "=========================="
      ]
    },
    {
      "cell_type": "markdown",
      "metadata": {
        "_cell_guid": "b83785e3-b726-8f98-56a3-6869c2ae9b23"
      },
      "source": [
        "This notebook runs through most of the basic components of a ML script on the Titanic dataset, using...\n",
        "\n",
        "- Python\n",
        "- Pandas\n",
        "- Sci-kit learn\n",
        "- XGBoost\n",
        "\n",
        "\n",
        "The goal is to use a simple and easy to understand implementation of:\n",
        "\n",
        "- feature engineering\n",
        "- feature selection using Greedy Search (RFECV)\n",
        "- hyperparameter tuning using Grid Search\n",
        "- XGBoost classifier\n",
        "\n",
        "\n",
        "What this script doesn't do:\n",
        "\n",
        "- aim for a high score on the leaderboard.  On this small dataset with the answers publicly available, the public leaderboard ranking doesn't mean much anyway.\n",
        "- we are not guarding against overfitting."
      ]
    },
    {
      "cell_type": "code",
      "execution_count": null,
      "metadata": {
        "_cell_guid": "9a860601-6eb3-c841-29f0-8abb20b95ee9"
      },
      "outputs": [],
      "source": [
        "from IPython.display import display\n",
        "\n",
        "import re\n",
        "import pandas as pd\n",
        "import numpy as np\n",
        "import xgboost as xgb\n",
        "\n",
        "from sklearn import preprocessing\n",
        "from sklearn import cross_validation\n",
        "from sklearn.model_selection import KFold\n",
        "from sklearn.feature_selection import RFECV\n",
        "from sklearn.grid_search import GridSearchCV"
      ]
    },
    {
      "cell_type": "markdown",
      "metadata": {
        "_cell_guid": "72bfc886-9112-ed09-3193-74af2c0cb3a1"
      },
      "source": [
        "Functions to generate new features\n",
        "-------------------"
      ]
    },
    {
      "cell_type": "code",
      "execution_count": null,
      "metadata": {
        "_cell_guid": "5fb97dc3-09cb-dfe5-a059-ba42a2078006"
      },
      "outputs": [],
      "source": [
        "def extract_maritial(name):\n",
        "    \"\"\" extract the person's title, and bin it to Mr. Miss. and Mrs.\n",
        "    assuming a Miss, Lady or Countess has more change to survive than a regular married woman.\"\"\"\n",
        "    \n",
        "    re_maritial = r' ([A-Za-z]+\\.) '   # use regular expressions to extract the persons title\n",
        "    found = re.findall(re_maritial, name)[0]\n",
        "    replace = [['Dr.','Sir.'],\n",
        "               ['Rev.','Sir.'],\n",
        "               ['Major.','Officer.'],\n",
        "               ['Mlle.','Miss.'],\n",
        "               ['Col.','Officer.'],\n",
        "               ['Master.','Sir.'],\n",
        "               ['Jonkheer.','Sir.'],\n",
        "               ['Sir.','Sir.'],\n",
        "               ['Don.','Sir.'],\n",
        "               ['Countess.','High.'],\n",
        "               ['Capt.','Officer.'],\n",
        "               ['Ms.','High.'],\n",
        "               ['Mme.','High.'],\n",
        "               ['Dona.','High.'],\n",
        "               ['Lady.','High.']]\n",
        "                \n",
        "    for i in range(0,len(replace)):\n",
        "        if found == replace[i][0]:\n",
        "            found = replace[i][1]\n",
        "            break\n",
        "    return found\n",
        "\n",
        "\n",
        "def father(sex, age, parch):\n",
        "    if sex == 'male' and age > 16 and parch > 0:\n",
        "        return 1\n",
        "    else:\n",
        "        return 0\n",
        "        \n",
        "        \n",
        "def mother(sex, age, parch):\n",
        "    if sex == 'female' and age > 16 and parch > 0:\n",
        "        return 1\n",
        "    else:\n",
        "        return 0\n",
        "        \n",
        "        \n",
        "def parent(sex, age, parch):\n",
        "    if mother(sex, age, parch) == 1 or father(sex, age, parch) == 1:\n",
        "        return 1\n",
        "    else:\n",
        "        return 0\n",
        "        \n",
        "        \n",
        "def extract_cabin_nr(cabin):\n",
        "    \"\"\" Extracts the cabin number.  If there no number found, return NaN \"\"\"\n",
        "    if not pd.isnull(cabin):\n",
        "        cabin = cabin.split(' ')[-1]    # if several cabins on ticket, take last one\n",
        "        re_numb = r'[A-Z]([0-9]+)'\n",
        "        try:\n",
        "            number = int(re.findall(re_numb, cabin)[0])\n",
        "            return number\n",
        "        except:\n",
        "            return np.nan\n",
        "    else:\n",
        "        return np.nan\n",
        "    \n",
        "    \n",
        "def extract_cabin_letter(cabin):\n",
        "    \"\"\" Extracts the cabin letter.  If there no letter found, return NaN \"\"\"\n",
        "    if not pd.isnull(cabin):\n",
        "        cabin = cabin.split(' ')[-1]    # if several cabins on ticket, take last one\n",
        "        re_char = r'([A-Z])[0-9]+'\n",
        "        try:\n",
        "            character = re.findall(re_char, cabin)[0]\n",
        "            return character\n",
        "        except:\n",
        "            return np.nan\n",
        "    else:\n",
        "        return np.nan\n",
        "        \n",
        "        \n",
        "def expand_sex(sex, age):\n",
        "    \"\"\" this expands male/female with kid.  Cause below 14 years old, male or female is irrelevant\"\"\"\n",
        "    if age < 14:\n",
        "        return 'kid'\n",
        "    else:\n",
        "        return sex"
      ]
    },
    {
      "cell_type": "markdown",
      "metadata": {
        "_cell_guid": "8ba4e062-45c8-ee49-bb3e-57492b953a02"
      },
      "source": [
        "Function to add the new features to our data set\n",
        "-------------------------"
      ]
    },
    {
      "cell_type": "code",
      "execution_count": null,
      "metadata": {
        "_cell_guid": "2e69cc2c-58fa-f4a6-ee3c-19a4d0c7106f"
      },
      "outputs": [],
      "source": [
        "def feat_eng(data):\n",
        "    # create feature 'Title', which extracts the persons title from their name.\n",
        "    data['Title'] = list(map(extract_maritial, data['Name']))\n",
        "\n",
        "    # Extract features from cabins\n",
        "    data['Cabin_char'] = list(map(extract_cabin_letter, data['Cabin']))\n",
        "    data['Cabin_nr'] = list(map(extract_cabin_nr, data['Cabin']))\n",
        "    data['Cabin_nr_odd'] = data.Cabin_nr.apply(lambda x: np.nan if x == np.nan else x%2)\n",
        "    \n",
        "    # Family features\n",
        "    data['Father'] = list(map(father, data.Sex, data.Age, data.Parch))\n",
        "    data['Mother'] = list(map(mother, data.Sex, data.Age, data.Parch))\n",
        "    data['Parent'] = list(map(parent, data.Sex, data.Age, data.Parch))\n",
        "    data['has_parents_or_kids'] = data.Parch.apply(lambda x: 1 if x > 0 else 0)\n",
        "    data['FamilySize'] = data.SibSp + data.Parch\n",
        "    \n",
        "    # Extend the male/female feature with kid.  Cause for kids gender doesn't matter.\n",
        "    data['Sex'] = list(map(expand_sex, data['Sex'], data['Age']))\n",
        "    \n",
        "    # Create bins for Fare and Age\n",
        "    data['FareBin'] = pd.cut(data.Fare, bins=(-1000,0,8.67,16.11,32,350,1000))\n",
        "    data['AgeBin'] = pd.cut(data.Age, bins=(0,15,25,60,90))\n",
        "\n",
        "    data.head(8)\n",
        "    return data"
      ]
    },
    {
      "cell_type": "markdown",
      "metadata": {
        "_cell_guid": "075440c3-28cd-ece5-2b49-0d28bcd0ba7b"
      },
      "source": [
        "Function to handle missing data\n",
        "---------------------"
      ]
    },
    {
      "cell_type": "code",
      "execution_count": null,
      "metadata": {
        "_cell_guid": "5f8cbd5a-3d6c-ad2a-0354-e4326a02ccfb"
      },
      "outputs": [],
      "source": [
        "def missing(data):\n",
        "    # If Age is null, we impute it with the median Age for their title.\n",
        "    data.loc[(data.Age.isnull()) & (data.Title == 'Sir.'), 'Age'] = data.loc[data.Title == 'Sir.', 'Age'].median()        \n",
        "    data.loc[(data.Age.isnull()) & (data.Title == 'Officer.'), 'Age'] = data.loc[data.Title == 'Officer.', 'Age'].median()\n",
        "    data.loc[(data.Age.isnull()) & (data.Title == 'Miss.'), 'Age'] = data.loc[data.Title == 'Miss.', 'Age'].median()\n",
        "    data.loc[(data.Age.isnull()) & (data.Title == 'High.'), 'Age'] = data.loc[data.Title == 'High.', 'Age'].median()\n",
        "    data.loc[(data.Age.isnull()) & (data.Title == 'Mrs.'), 'Age'] = data.loc[data.Title == 'Mrs.', 'Age'].median()\n",
        "    data.loc[(data.Age.isnull()) & (data.Title == 'Mr.'), 'Age'] = data.loc[data.Title == 'Mr.', 'Age'].median()\n",
        "\n",
        "    # There is one row without a Fare...\n",
        "    median_fare = data['Fare'].median()\n",
        "    data['Fare'].fillna(value=median_fare, inplace=True)\n",
        "\n",
        "    # ... and 2 rows without Embarked.\n",
        "    mode_embarked = data['Embarked'].mode()[0]\n",
        "    data['Embarked'].fillna(value=mode_embarked, inplace=True)\n",
        "\n",
        "    # deal with the NaN's in some of our newly created columns\n",
        "    data['Cabin_char'].fillna(value=-9999, inplace=True)\n",
        "    data['Cabin_nr'].fillna(value=-9999, inplace=True)\n",
        "    data['Cabin_nr_odd'].fillna(value=-9999, inplace=True)\n",
        "\n",
        "    # after our feature engineering, we don't need some of the original features anymore\n",
        "    data = data.drop(['Name','Cabin','Fare','Age','Ticket'], 1)\n",
        "\n",
        "    data.head(8)\n",
        "    return data"
      ]
    },
    {
      "cell_type": "markdown",
      "metadata": {
        "_cell_guid": "8f9b0941-69bd-2789-80c9-3802ebd09dc8"
      },
      "source": [
        "MAIN SCRIPT STARTS HERE\n",
        "=====================\n",
        "Preparing the training set\n",
        "----------------------------"
      ]
    },
    {
      "cell_type": "code",
      "execution_count": null,
      "metadata": {
        "_cell_guid": "eaee3795-3265-3e77-171e-0f3bd02f0b8b"
      },
      "outputs": [],
      "source": [
        "# read the training set\n",
        "train = pd.read_csv('../input/train.csv')\n",
        "display(\"Unaltered training set:\")\n",
        "display(train.head(8))\n",
        "\n",
        "# feature engineering\n",
        "train = feat_eng(train)\n",
        "display(\"After feature engineering:\")\n",
        "display(train.head(8))\n",
        "\n",
        "# treat missing values\n",
        "train = missing(train)\n",
        "display(\"After handling missing values:\")\n",
        "display(train.head(8))\n",
        "\n",
        "# convert categorical values to numerical\n",
        "train = pd.get_dummies(train, drop_first=True)\n",
        "display(\"After handling categorical values:\")\n",
        "display(train.head(8))"
      ]
    },
    {
      "cell_type": "markdown",
      "metadata": {
        "_cell_guid": "59d421f3-4353-a005-90d2-c7b774bc16b3"
      },
      "source": [
        "Training our first XGBoost model\n",
        "------------------"
      ]
    },
    {
      "cell_type": "code",
      "execution_count": null,
      "metadata": {
        "_cell_guid": "da67dd5a-af28-d135-c10a-02b4b07d74d1"
      },
      "outputs": [],
      "source": [
        "X = np.array(train.drop(['Survived','PassengerId'], 1))\n",
        "training_features = np.array(train.drop(['Survived','PassengerId'], 1).columns)\n",
        "#X = preprocessing.scale(X)  --- not needed for XGboost?\n",
        "y = np.array(train['Survived'])"
      ]
    },
    {
      "cell_type": "code",
      "execution_count": null,
      "metadata": {
        "_cell_guid": "d706bb96-632e-112f-24cb-1c0c3071a9a5"
      },
      "outputs": [],
      "source": [
        "clf = xgb.XGBClassifier()\n",
        "cv = cross_validation.KFold(len(X), n_folds=20, shuffle=True, random_state=1)\n",
        "scores = cross_validation.cross_val_score(clf, X, y, cv=cv, n_jobs=1, scoring='accuracy')\n",
        "clf.fit(X,y)\n",
        "print(scores)\n",
        "print('Accuracy: %.3f stdev: %.2f' % (np.mean(np.abs(scores)), np.std(scores)))"
      ]
    },
    {
      "cell_type": "markdown",
      "metadata": {
        "_cell_guid": "65092356-5b57-21b5-644f-4ca555bac71a"
      },
      "source": [
        "Feature selection with Greedy Search (RFECV)\n",
        "---------------------"
      ]
    },
    {
      "cell_type": "code",
      "execution_count": null,
      "metadata": {
        "_cell_guid": "bfa09d29-b0cc-d535-87a0-c3c118a061d2"
      },
      "outputs": [],
      "source": [
        "featselect = RFECV(estimator=clf, cv=cv, scoring='accuracy')\n",
        "featselect.fit(X,y)\n",
        "\n",
        "print(\"features used during training: \")\n",
        "print(training_features)\n",
        "print(\"\")\n",
        "print(\"features proposed by RFECV: \"),\n",
        "print(training_features[featselect.support_])\n",
        "\n",
        "# Note that for our feature Sex, which consists of male/female/kid, the classifier only needs to\n",
        "# know if a person is male or not.  The classifier expects women and children to have equal\n",
        "# chance of survival.  Which makes sense when we think about \"Women and children first!\"."
      ]
    },
    {
      "cell_type": "markdown",
      "metadata": {
        "_cell_guid": "71863b79-d69a-9e4b-b550-05bacaaf9595"
      },
      "source": [
        "Training our XGBoost model again after feature selection\n",
        "-------------"
      ]
    },
    {
      "cell_type": "code",
      "execution_count": null,
      "metadata": {
        "_cell_guid": "6773f2b3-643c-b3d8-a05c-b2406fbae92c"
      },
      "outputs": [],
      "source": [
        "selection = np.append(training_features[featselect.support_], ['Survived','PassengerId'])\n",
        "train2 = train[selection]\n",
        "\n",
        "X = np.array(train2.drop(['Survived','PassengerId'], 1))\n",
        "training_features = np.array(train2.drop(['Survived','PassengerId'], 1).columns)\n",
        "#X = preprocessing.scale(X)  --- not needed for XGboost?\n",
        "y = np.array(train2['Survived'])\n",
        "\n",
        "clf = xgb.XGBClassifier()\n",
        "cv = cross_validation.KFold(len(X), n_folds=20, shuffle=True, random_state=1)\n",
        "scores = cross_validation.cross_val_score(clf, X, y, cv=cv, n_jobs=1, scoring='accuracy')\n",
        "print(scores)\n",
        "print('Accuracy: %.3f stdev: %.2f' % (np.mean(np.abs(scores)), np.std(scores)))\n",
        "clf.fit(X,y)"
      ]
    },
    {
      "cell_type": "markdown",
      "metadata": {
        "_cell_guid": "01339d0d-ce1d-c75c-f437-00c41245e6a2"
      },
      "source": [
        "Hyper parameter tuning using Grid Search\n",
        "---------------------------"
      ]
    },
    {
      "cell_type": "code",
      "execution_count": null,
      "metadata": {
        "_cell_guid": "ae5a5ff1-65cc-b518-fa86-0e091b0da66c"
      },
      "outputs": [],
      "source": [
        "# just as an example, tuning 2 parameters.\n",
        "# first try a wide range, e.g. [0, 0.1, 0.2, 0.4, 0.6, 0.8, 1.0]\n",
        "# and then narrow it down.\n",
        "grid = {'learning_rate':[0, 0.001, 0.002, 0.004, 0.006, 0.008, 0.010], \n",
        "       'reg_lambda':[0, 0.01, 0.10, 0.50, 1]}\n",
        "\n",
        "search = GridSearchCV(estimator=clf, param_grid=grid, scoring='accuracy', n_jobs=1, refit=True, cv=cv)\n",
        "search.fit(X,y)\n",
        "\n",
        "print(search.best_params_)\n",
        "print(search.best_score_)"
      ]
    },
    {
      "cell_type": "markdown",
      "metadata": {
        "_cell_guid": "4639a593-e9bd-4e2a-e786-8a05f21d587e"
      },
      "source": [
        "Making predictions\n",
        "-------------------"
      ]
    },
    {
      "cell_type": "code",
      "execution_count": null,
      "metadata": {
        "_cell_guid": "4034f690-0b24-fc3a-b0c0-fdfc1ea65a62"
      },
      "outputs": [],
      "source": [
        "# read test set\n",
        "test = pd.read_csv('../input/test.csv')\n",
        "\n",
        "# pull the test set through our feature engineering and missing values functions\n",
        "test = feat_eng(test)\n",
        "test = missing(test)\n",
        "\n",
        "# deal with categorical values\n",
        "test = pd.get_dummies(test, drop_first=True)\n",
        "\n",
        "# remove features deemed unworthy by our feature selection (RFECV)\n",
        "test2 = test[training_features]\n",
        "# the above line removes several features incl. PassengerId.\n",
        "# So we prefer to keep our 'test' variable as it is, cause a few lines below\n",
        "# we will need the passengerid feature.\n",
        "\n",
        "X = np.array(test2)\n",
        "#X = preprocessing.scale(X)\n",
        "y_predict = clf.predict(X)\n",
        "dfresult = pd.DataFrame(y_predict, test.PassengerId)"
      ]
    },
    {
      "cell_type": "markdown",
      "metadata": {
        "_cell_guid": "5ceead6d-613f-44d7-f329-2278018b7091"
      },
      "source": [
        "Write submission to disk\n",
        "-----------------"
      ]
    },
    {
      "cell_type": "code",
      "execution_count": null,
      "metadata": {
        "_cell_guid": "2640e025-452c-5cbf-45fd-f3aedf7dff9e"
      },
      "outputs": [],
      "source": [
        "dfresult.columns = ['Survived']\n",
        "dfresult.to_csv('predictions.csv')\n",
        "print(\"done.\")"
      ]
    }
  ],
  "metadata": {
    "_change_revision": 0,
    "_is_fork": false,
    "kernelspec": {
      "display_name": "Python 3",
      "language": "python",
      "name": "python3"
    },
    "language_info": {
      "codemirror_mode": {
        "name": "ipython",
        "version": 3
      },
      "file_extension": ".py",
      "mimetype": "text/x-python",
      "name": "python",
      "nbconvert_exporter": "python",
      "pygments_lexer": "ipython3",
      "version": "3.5.2"
    }
  },
  "nbformat": 4,
  "nbformat_minor": 0
}