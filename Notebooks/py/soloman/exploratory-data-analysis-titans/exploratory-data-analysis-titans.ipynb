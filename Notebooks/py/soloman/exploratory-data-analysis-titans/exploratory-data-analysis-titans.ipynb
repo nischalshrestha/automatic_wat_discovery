{
  "cells": [
    {
      "cell_type": "code",
      "execution_count": null,
      "metadata": {
        "_cell_guid": "031cd3fc-0001-5217-9e3f-4f5d54acea79"
      },
      "outputs": [],
      "source": [
        "# This Python 3 environment comes with many helpful analytics libraries installed\n",
        "# It is defined by the kaggle/python docker image: https://github.com/kaggle/docker-python\n",
        "# For example, here's several helpful packages to load in \n",
        "\n",
        "import numpy as np # linear algebra\n",
        "import pandas as pd # data processing, CSV file I/O (e.g. pd.read_csv)\n",
        "\n",
        "# Input data files are available in the \"../input/\" directory.\n",
        "# For example, running this (by clicking run or pressing Shift+Enter) will list the files in the input directory\n",
        "\n",
        "from subprocess import check_output\n",
        "print(check_output([\"ls\", \"../input\"]).decode(\"utf8\"))\n",
        "\n",
        "# Any results you write to the current directory are saved as output."
      ]
    },
    {
      "cell_type": "code",
      "execution_count": null,
      "metadata": {
        "_cell_guid": "0ca8b44e-19a1-38c9-f7e2-829447fde2f8"
      },
      "outputs": [],
      "source": [
        "data = pd.read_csv('../input/train.csv')\n",
        "\n",
        "data.head()"
      ]
    },
    {
      "cell_type": "markdown",
      "metadata": {
        "_cell_guid": "9ec7484c-8d5e-5a64-4a82-cea4aaaed967"
      },
      "source": [
        "**Get concise summary of the dataframe**"
      ]
    },
    {
      "cell_type": "code",
      "execution_count": null,
      "metadata": {
        "_cell_guid": "c3d48a0c-fba0-fac9-97fc-31c7a1890894"
      },
      "outputs": [],
      "source": [
        "data.info()"
      ]
    },
    {
      "cell_type": "code",
      "execution_count": null,
      "metadata": {
        "_cell_guid": "d0f1cbca-271e-92d7-9f51-35c98cfa3c57"
      },
      "outputs": [],
      "source": [
        "# setup ploting lib\n",
        "import matplotlib.pyplot as plt\n",
        "import seaborn as sn\n",
        "\n",
        "%matplotlib inline\n",
        "sn.set_style('whitegrid')"
      ]
    },
    {
      "cell_type": "code",
      "execution_count": null,
      "metadata": {
        "_cell_guid": "1dea9238-48cf-2571-9198-ab8e98a92428"
      },
      "outputs": [],
      "source": [
        "# count graphs\n",
        "\n",
        "fig, ax = plt.subplots(2, 2)\n",
        "for idx, dimension in enumerate(['Sex', 'Pclass', 'Survived', 'Embarked']):\n",
        "    sn.countplot(x=dimension, data=data, ax=ax[idx // 2][idx % 2])"
      ]
    },
    {
      "cell_type": "code",
      "execution_count": null,
      "metadata": {
        "_cell_guid": "8e3b05b8-8dd4-be0d-5ddd-13bea3e36751"
      },
      "outputs": [],
      "source": [
        "# plot of different attribute against surived field\n",
        "\n",
        "fig, ax = plt.subplots(2, 2)\n",
        "\n",
        "for idx, dimension in enumerate(['Sex', 'Pclass', 'Embarked']):\n",
        "    sn.countplot(x='Survived', hue=dimension, data=data, ax=ax[idx // 2][idx % 2])"
      ]
    },
    {
      "cell_type": "code",
      "execution_count": null,
      "metadata": {
        "_cell_guid": "69ba8801-667e-d0bf-9b06-d8bb243b6a6b"
      },
      "outputs": [],
      "source": [
        "survived = data[data['Survived']==0]\n",
        "not_survived = data[data['Survived']==1]\n",
        "\n",
        "plt.hist([survived['Age'].fillna(0), not_survived['Age'].fillna(0)], color=['r','b'], alpha=0.5)\n"
      ]
    },
    {
      "cell_type": "code",
      "execution_count": null,
      "metadata": {
        "_cell_guid": "03db24d4-d408-7c60-d5c6-7525bf0a2b1d"
      },
      "outputs": [],
      "source": [
        "sn.swarmplot(x=\"Survived\", y=\"Age\", data=data)"
      ]
    }
  ],
  "metadata": {
    "_change_revision": 0,
    "_is_fork": false,
    "kernelspec": {
      "display_name": "Python 3",
      "language": "python",
      "name": "python3"
    },
    "language_info": {
      "codemirror_mode": {
        "name": "ipython",
        "version": 3
      },
      "file_extension": ".py",
      "mimetype": "text/x-python",
      "name": "python",
      "nbconvert_exporter": "python",
      "pygments_lexer": "ipython3",
      "version": "3.5.2"
    }
  },
  "nbformat": 4,
  "nbformat_minor": 0
}