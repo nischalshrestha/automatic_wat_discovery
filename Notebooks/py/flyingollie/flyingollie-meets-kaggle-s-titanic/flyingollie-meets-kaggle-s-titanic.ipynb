{
  "cells": [
    {
      "cell_type": "markdown",
      "metadata": {
        "_cell_guid": "f171e5e0-9c10-e06a-6d21-73889e4bb24c"
      },
      "source": [
        "# flyingOllie meets Kaggle's Titanic\n",
        "* this is a Python 3 notebook running on a kaggle/python docker image:\n",
        "     https://github.com/kaggle/docker-python\n",
        "* thanks to tanlikesmath for some insights:\n",
        "     https://www.kaggle.com/tanlikesmath/titanic/titanic/notebook"
      ]
    },
    {
      "cell_type": "markdown",
      "metadata": {
        "_cell_guid": "56de7d1d-c41e-9b4b-3f08-581ac60ff3f6"
      },
      "source": [
        "## note: observations on kernel behavior\n",
        "* you cannot delete a kernel but you can hide a kernel from the public\n",
        "* if you you don't see the usual kernel controls, click the 'Edit' button\n",
        "* if kernel is 'Stopped' click the 'Restart kernel' button\n",
        "* if you want to run some else's kernel you will have to fork"
      ]
    },
    {
      "cell_type": "markdown",
      "metadata": {
        "_cell_guid": "27b3ef88-87c2-dd67-d25a-25c8428b3de6"
      },
      "source": [
        "## note: observations on Python Notebook\n",
        "* use Shift-Return to execute a cell\n",
        "* click on 'Styling with Markdown supported' to see how to mark style"
      ]
    },
    {
      "cell_type": "code",
      "execution_count": null,
      "metadata": {
        "_cell_guid": "8038d5fb-3fc7-c36d-92b0-4b886ad25b71"
      },
      "outputs": [],
      "source": [
        "import pandas as pd # feature engineering\n",
        "import numpy as np # linear algebra\n",
        "import re # regular expressions\n",
        "import matplotlib.pyplot as plt\n",
        "import csv as csv\n",
        "\n",
        "from subprocess import check_output # i/o\n",
        "\n",
        "# from sklearn import cross_validation\n",
        "# from sklearn.feature_selection import SelectKBest, f_classif\n",
        "# from sklearn.linear_model import LogisticRegression\n",
        "from sklearn.ensemble import RandomForestClassifier\n",
        "# from sklearn.ensemble import GradientBoostingClassifier\n",
        "\n",
        "import xgboost as xgb"
      ]
    },
    {
      "cell_type": "code",
      "execution_count": null,
      "metadata": {
        "_cell_guid": "e532222e-158b-b0f4-c6a2-77fa480bdc24"
      },
      "outputs": [],
      "source": [
        "# input files are here\n",
        "print(check_output([\"ls\", \"../input\"]).decode(\"utf8\"))\n",
        "# output files (to current directory) go here\n",
        "print(check_output([\"ls\", \"../working\"]).decode(\"utf8\"))"
      ]
    },
    {
      "cell_type": "markdown",
      "metadata": {
        "_cell_guid": "e6279f5c-97d8-341b-2aee-c4ca90e0d87a"
      },
      "source": [
        "## here is the feature engineering to apply to all data"
      ]
    },
    {
      "cell_type": "code",
      "execution_count": null,
      "metadata": {
        "_cell_guid": "68ce9859-ea10-6129-2b3f-2d3f92f336a3"
      },
      "outputs": [],
      "source": [
        "def feature_engineer_pandas_df(the_original_pandas_df): # _df means dataframe\n",
        "\n",
        "    #\n",
        "    # Original fields:\n",
        "    # \n",
        "    #  0 PassengerId (dropped, unused)\n",
        "    #  1 Survived (target, only in train data)\n",
        "    #  2 Pclass\n",
        "    #  3 Name (dropped, unused)\n",
        "    #  4 Sex (dropped, see Gender)\n",
        "    #  5 Age (dropped, see AgeFill)\n",
        "    #  6 SibSp\n",
        "    #  7 Parch\n",
        "    #  8 Ticket (dropped, unused)\n",
        "    #  9 Fare (dropped, see FareFill)\n",
        "    # 10 Cabin (dropped, unused)\n",
        "    # 11 Embarked (dropped, see EmbarkedInteger)\n",
        "    # \n",
        "    # Added fields:\n",
        "    # \n",
        "    # 12 Gender (integer version of Sex)\n",
        "    # 13 EmbarkedInteger (null: 1, 'S': 0, 'C': 1, 'Q': 2)\n",
        "    # 14 FareFill (null fares are filled with median for associated Pclass)\n",
        "    # 15 FareIsNull\n",
        "    # 16 AgeFill (null ages are filled with median for associated Pclass and Gender)\n",
        "    # 17 AgeIsNull\n",
        "    # 18 FamilySize (SibSp + Parch)\n",
        "    # 19 Age*Class (AgeFill * Pclass)\n",
        "    #\n",
        "    \n",
        "    the_df = the_original_pandas_df\n",
        "    the_df['Gender'] = the_df['Sex'].map( {'female': 0, 'male': 1} ).astype(int)\n",
        "    the_df['EmbarkedInteger'] = the_df['Embarked'].fillna('X')\n",
        "    the_df['EmbarkedInteger'] = the_df['EmbarkedInteger'].map( {'X': 1, 'S': 0, 'C': 1, 'Q': 2} ).astype(int)\n",
        "\n",
        "    median_fares = np.zeros(3)\n",
        "    for j in range(0, 3):\n",
        "        median_fares[j] = the_df[(the_df['Pclass'] == j+1)]['Fare'].dropna().median()\n",
        "    the_df['FareFill'] = the_df['Fare']\n",
        "    for j in range(0, 3):\n",
        "        the_df.loc[ (the_df.Fare.isnull()) & (the_df.Pclass == j+1),\\\n",
        "                'FareFill'] = median_fares[j]\n",
        "    the_df['FareIsNull'] = pd.isnull(the_df.Fare).astype(int)\n",
        " \n",
        "    median_ages = np.zeros((2,3))\n",
        "    for i in range(0, 2):\n",
        "        for j in range(0, 3):\n",
        "            median_ages[i,j] = the_df[(the_df['Gender'] == i) & \\\n",
        "                              (the_df['Pclass'] == j+1)]['Age'].dropna().median()\n",
        "    the_df['AgeFill'] = the_df['Age']\n",
        "    for i in range(0, 2):\n",
        "        for j in range(0, 3):\n",
        "            the_df.loc[ (the_df.Age.isnull()) & (the_df.Gender == i) & (the_df.Pclass == j+1),\\\n",
        "                'AgeFill'] = median_ages[i,j]\n",
        "    the_df['AgeIsNull'] = pd.isnull(the_df.Age).astype(int)\n",
        "    \n",
        "    the_df['FamilySize'] = the_df['SibSp'] + the_df['Parch']\n",
        "    the_df['Age*Class'] = the_df.AgeFill * the_df.Pclass\n",
        "    the_df = the_df.drop(['PassengerId', 'Name', 'Sex', 'Age', 'Ticket', 'Fare', 'Cabin', 'Embarked'], axis=1) \n",
        "    return the_df"
      ]
    },
    {
      "cell_type": "markdown",
      "metadata": {
        "_cell_guid": "8e831908-c235-392e-3645-d2d8fd546f4b"
      },
      "source": [
        "# read the data and feature-engineer it"
      ]
    },
    {
      "cell_type": "code",
      "execution_count": null,
      "metadata": {
        "_cell_guid": "a43888cb-1423-deba-8928-f72b7f146841"
      },
      "outputs": [],
      "source": [
        "train_df = pd.read_csv('../input/train.csv', header=0)\n",
        "train_engineered_df = feature_engineer_pandas_df(train_df) # column 0 is target\n",
        "test_df = pd.read_csv('../input/test.csv', header=0)\n",
        "test_engineered_df = feature_engineer_pandas_df(test_df) # no target column"
      ]
    },
    {
      "cell_type": "markdown",
      "metadata": {
        "_cell_guid": "acab17c5-3c77-2167-a63a-c49a04533b4a"
      },
      "source": [
        "# create the random forest decision trees"
      ]
    },
    {
      "cell_type": "code",
      "execution_count": null,
      "metadata": {
        "_cell_guid": "7bef3d84-0015-3b7c-6110-fb2824b7220b"
      },
      "outputs": [],
      "source": [
        "forest_classifier = RandomForestClassifier(random_state=1, n_estimators=10, min_samples_split=10, min_samples_leaf=5)\n",
        "forest = forest_classifier.fit(train_engineered_df.iloc[:,1:],train_engineered_df.iloc[:,0])"
      ]
    },
    {
      "cell_type": "markdown",
      "metadata": {
        "_cell_guid": "5f0a14a2-214c-316a-8730-3efa55e829a0"
      },
      "source": [
        "## train and create predictions"
      ]
    },
    {
      "cell_type": "code",
      "execution_count": null,
      "metadata": {
        "_cell_guid": "c0024940-4f50-462c-0e3c-b1c2c5777ea6"
      },
      "outputs": [],
      "source": [
        "train_actual = train_engineered_df.iloc[:,0]\n",
        "train_prediction = forest.predict(train_engineered_df.iloc[:,1:])\n",
        "test_prediction = forest.predict(test_engineered_df)"
      ]
    },
    {
      "cell_type": "markdown",
      "metadata": {
        "_cell_guid": "91767f21-9973-fad9-97b0-8f298de82473"
      },
      "source": [
        "## calc accuracy on training data"
      ]
    },
    {
      "cell_type": "code",
      "execution_count": null,
      "metadata": {
        "_cell_guid": "a69ea521-e6c4-e8cd-cbb0-2b221238044b"
      },
      "outputs": [],
      "source": [
        "mask = np.array(train_prediction == train_engineered_df.iloc[:,0], dtype = bool)\n",
        "accuracy_train = len(train_prediction[mask])/len(train_prediction)\n",
        "print(accuracy_train)"
      ]
    },
    {
      "cell_type": "markdown",
      "metadata": {
        "_cell_guid": "848dba6e-ed1f-b98c-305a-c8e15cd8732c"
      },
      "source": [
        "## write test data predictions to file for later submission"
      ]
    },
    {
      "cell_type": "code",
      "execution_count": null,
      "metadata": {
        "_cell_guid": "e53e1869-5443-bf7b-41a7-debe8ed86494"
      },
      "outputs": [],
      "source": [
        "predictions_file = open(\"randomforestmodel.csv\", \"w\", newline='')\n",
        "predictions_file_object = csv.writer(predictions_file)\n",
        "predictions_file_object.writerow([\"PassengerId\", \"Survived\"])\n",
        "for row in range(len(test_df)):\n",
        "    predictions_file_object.writerow([test_df['PassengerId'][row], \"%d\" % int(test_prediction[row])])\n",
        "predictions_file.close()\n",
        "print(check_output([\"ls\", \"../working\"]).decode(\"utf8\"))"
      ]
    },
    {
      "cell_type": "code",
      "execution_count": null,
      "metadata": {
        "_cell_guid": "3da5f6b1-3816-9af0-a3bf-fd4a054b6121"
      },
      "outputs": [],
      "source": [
        "print(test_prediction)"
      ]
    },
    {
      "cell_type": "markdown",
      "metadata": {
        "_cell_guid": "47811708-54c4-91f9-ee9a-f86bdc7cf3ed"
      },
      "source": [
        "## note: how to publish your prediction file\n",
        "* 'restart kernel' (button at top of notebook)\n",
        "* 'execute all cells' (button at top of notebook)\n",
        "* 'Publish' this kernel (button at top of notebook)\n",
        "* might have to click on 'view the latest version of the script'\n",
        "* tap on the 'Output' tab\n",
        "* then click on the 'Submit to Titanic: ...' button"
      ]
    }
  ],
  "metadata": {
    "_change_revision": 0,
    "_is_fork": false,
    "kernelspec": {
      "display_name": "Python 3",
      "language": "python",
      "name": "python3"
    },
    "language_info": {
      "codemirror_mode": {
        "name": "ipython",
        "version": 3
      },
      "file_extension": ".py",
      "mimetype": "text/x-python",
      "name": "python",
      "nbconvert_exporter": "python",
      "pygments_lexer": "ipython3",
      "version": "3.5.2"
    }
  },
  "nbformat": 4,
  "nbformat_minor": 0
}