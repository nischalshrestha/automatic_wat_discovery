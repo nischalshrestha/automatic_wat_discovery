{
  "cells": [
    {
      "cell_type": "markdown",
      "metadata": {
        "_cell_guid": "7dda0a53-fcca-6ae7-1d55-36ebd10245e2"
      },
      "source": [
        "**Hi, I am Simha. I am new to Python and currently learning the new stuff.! Firstly I have imported the libraries and loaded the data. Next I have explored the data sets and identified the missing values. I have next imputed the missing values and started performing modelling. I have compared different models and picked the best one with highest score. Thanks to the work of other Kaggle users, I used it as a reference and started exploring it in my way. Feeling more positive after handling this data set. !** "
      ]
    },
    {
      "cell_type": "code",
      "execution_count": null,
      "metadata": {
        "_cell_guid": "bda2ec9e-4eca-1944-7fbf-0acb5af5f6bf"
      },
      "outputs": [],
      "source": [
        "# Ignore warnings\n",
        "import warnings\n",
        "warnings.filterwarnings('ignore')\n",
        "import numpy as np # linear algebra\n",
        "import pandas as pd # data processing, CSV file I/O (e.g. pd.read_csv)\n",
        "\n",
        "# Modelling Algorithms\n",
        "from sklearn.tree import DecisionTreeClassifier\n",
        "from sklearn.linear_model import LogisticRegression\n",
        "from sklearn.neighbors import KNeighborsClassifier\n",
        "from sklearn.naive_bayes import GaussianNB\n",
        "from sklearn.svm import SVC, LinearSVC\n",
        "from sklearn.ensemble import RandomForestClassifier , GradientBoostingClassifier\n",
        "titanic = pd.read_csv(\"../input/train.csv\")\n",
        "\n",
        "# Modelling Helpers\n",
        "from sklearn.preprocessing import Imputer , Normalizer , scale\n",
        "from sklearn.cross_validation import train_test_split , StratifiedKFold\n",
        "from sklearn.feature_selection import RFECV\n",
        "# Input data files are available in the \"../input/\" directory.\n",
        "# For example, running this (by clicking run or pressing Shift+Enter) will list the files in the input directory\n",
        "\n",
        "from subprocess import check_output\n",
        "print(check_output([\"ls\", \"../input\"]).decode(\"utf8\"))\n",
        "\n",
        "# Any results you write to the current directory are saved as output."
      ]
    },
    {
      "cell_type": "code",
      "execution_count": null,
      "metadata": {
        "_cell_guid": "be2804d3-33fa-9655-57dc-386e049f3079"
      },
      "outputs": [],
      "source": [
        "import numpy as np # linear algebra\n",
        "import pandas as pd # data processing, CSV file I/O (e.g. pd.read_csv)\n",
        "\n",
        "titanic = pd.read_csv(\"../input/train.csv\")\n",
        "titanic.head(50)  #displays 50 rows"
      ]
    },
    {
      "cell_type": "code",
      "execution_count": null,
      "metadata": {
        "_cell_guid": "a7445c1d-0df4-62ba-973d-0b1cda8feaba"
      },
      "outputs": [],
      "source": [
        "round(titanic.describe(),2) #rounding off the values to two integers\n",
        "# There are some missing valuees in Age\n",
        "# We know the mean age is 29.70 from the values we have"
      ]
    },
    {
      "cell_type": "code",
      "execution_count": null,
      "metadata": {
        "_cell_guid": "bc9ac3ba-952e-fa2a-d562-e1eed06a4f8c"
      },
      "outputs": [],
      "source": [
        "titanic.isnull().sum()\n",
        "#We are finding out the total number of missing values in Age and other variables.\n",
        "#From the below output we can understand there are missing values in Cabin, \n",
        "# and Embarked variable in addition to Age(which we already know)\n",
        "# We can also use titanic.info() and find out the same.(if the value is less than 891 then it has missing value)"
      ]
    },
    {
      "cell_type": "code",
      "execution_count": null,
      "metadata": {
        "_cell_guid": "698a8316-2929-fca7-4c13-90f66aa3c73a"
      },
      "outputs": [],
      "source": [
        "titanic_test=pd.read_csv(\"../input/test.csv\")\n",
        "titanic_test.isnull().sum()\n",
        "#There are missing values in Age and Cabin in test data set"
      ]
    },
    {
      "cell_type": "code",
      "execution_count": null,
      "metadata": {
        "_cell_guid": "e2cbfdbc-b793-da74-47c2-2833af69441a"
      },
      "outputs": [],
      "source": [
        "titanic.isnull().sum() - titanic_test.isnull().sum()\n",
        "\n",
        "#Now we know there is no survived variable in test data set"
      ]
    },
    {
      "cell_type": "code",
      "execution_count": null,
      "metadata": {
        "_cell_guid": "db3f4388-e72c-f80f-084b-2c763e8291c5"
      },
      "outputs": [],
      "source": [
        "#Visualization\n",
        "%matplotlib inline\n",
        "import matplotlib.pyplot as plt\n",
        "import seaborn as sns\n",
        "sns.set(font_scale=0.7)\n",
        "pd.options.display.mpl_style = 'default'\n",
        "titanic.hist(bins=10,figsize=(9,8),grid=False)\n",
        "# x axis had count and y axis values are split based on bins"
      ]
    },
    {
      "cell_type": "code",
      "execution_count": null,
      "metadata": {
        "_cell_guid": "e1192072-41c8-22e6-4377-83f62053a570"
      },
      "outputs": [],
      "source": [
        "g1 = sns.FacetGrid(titanic, col=\"Sex\", row=\"Survived\", margin_titles=True)\n",
        "g1.map(plt.hist,\"Age\",color=\"red\")"
      ]
    },
    {
      "cell_type": "code",
      "execution_count": null,
      "metadata": {
        "_cell_guid": "f650770f-3c70-fe50-b753-0ac27d823a6c"
      },
      "outputs": [],
      "source": [
        "g2 = sns.FacetGrid(titanic, hue=\"Survived\", col=\"Pclass\", margin_titles=True,\n",
        "               palette={1:\"red\", 0:\"green\"})\n",
        "g2=g2.map(plt.scatter, \"Fare\", \"Age\",edgecolor=\"w\").add_legend()"
      ]
    },
    {
      "cell_type": "code",
      "execution_count": null,
      "metadata": {
        "_cell_guid": "1720ecbf-de5a-05d4-91e1-db8f7cd2ec7b"
      },
      "outputs": [],
      "source": [
        "titanic.Embarked.value_counts().plot(kind='bar',color=\"violet\", alpha=0.9)\n",
        "#alpha is the tranperency of the cell (for a lighter purple color choose low alpha \n",
        "#                                      and for darker vice versa)\n",
        "plt.title(\"Passengers boarding from\")\n",
        "#(C = Cherbourg; Q = Queenstown; S = Southampton)\n",
        "# better way is to represent this graph in a pie diagram"
      ]
    },
    {
      "cell_type": "code",
      "execution_count": null,
      "metadata": {
        "_cell_guid": "1274d780-658d-3315-5398-cbdfea35bd80"
      },
      "outputs": [],
      "source": [
        "sns.factorplot(x = 'Embarked',y= \"Survived\", data = titanic, color=\"b\")\n",
        "# C = Cherbourg; Q = Queenstown; S = Southampton\n",
        "# The survival\"pr\", bability of people who have boarded from Cherbourg is higher than the other two\n",
        "            # (Correct me if i have interpreted the graph wrongly)\n",
        "            # factor graph is a really great area to learn. I have read many articles on factoring after this graph"
      ]
    },
    {
      "cell_type": "code",
      "execution_count": null,
      "metadata": {
        "_cell_guid": "7fe00533-c7ba-6fb2-f58d-e3a3205ced52"
      },
      "outputs": [],
      "source": [
        "#This graph helps us to know the survival rate of men and women with reference to each subclass\n",
        "sns.set(font_scale=1)\n",
        "g3 = sns.factorplot(x=\"Sex\", y=\"Survived\", col=\"Pclass\",\n",
        "                    data=titanic, saturation=0.8,\n",
        "                    kind=\"bar\", ci=None, aspect=.6)\n",
        "# saturation determines the color of the cell and aspect decides the size of the cell\n",
        "(g3.set_axis_labels(\"\", \"Survival Rate\")\n",
        "    .set_xticklabels([\"Men\", \"Women\"])\n",
        "    .set_titles(\"{col_name} {col_var}\")\n",
        "    .set(ylim=(0, 1))\n",
        "    .despine(left=True))\n",
        "# Xtick lables are the name of the bar's inside each subclass. i.e. men and women\n",
        "# ylim varaibles tell the range of the values on y axis (0 to 1)\n",
        "plt.subplots_adjust(top=0.8)\n",
        "# subplots_adjust(top makes us to adjust the height of the bar)\n",
        "g3.fig.suptitle('Survival rate of men and women in each subclass')"
      ]
    },
    {
      "cell_type": "code",
      "execution_count": null,
      "metadata": {
        "_cell_guid": "8af93382-dc0a-44a8-61d9-51df276249cf"
      },
      "outputs": [],
      "source": [
        "ax = sns.boxplot(x=\"Survived\", y=\"Age\", data=titanic, saturation=0.8)\n",
        "# the results are interesting. Survival rate of people within 60 years of age is more\n",
        "# other words, people who are younger had a higher chance of survival\n",
        "# But the median value of people who have survived and not usrvived are close to 28 years of age\n",
        "# Mean always averages the age value but Median picks the middle value. The best in this instance."
      ]
    },
    {
      "cell_type": "code",
      "execution_count": null,
      "metadata": {
        "_cell_guid": "ef5deebe-deba-a821-7410-5b411bdd595b"
      },
      "outputs": [],
      "source": [
        "# Now we will draw an line graph for survived and non survived people\n",
        "\n",
        "g4 = sns.FacetGrid(titanic, hue=\"Survived\",aspect=2.5)\n",
        "g4.map(sns.kdeplot,'Age',shade= True)\n",
        "g4.set(xlim=(0, titanic['Age'].max()))\n",
        "g4.add_legend()\n",
        "\n",
        "# Kids between 0 - 12 years of age and Adults who are between 30 - 38 years of age had \n",
        "#                                   a higher chance of survival."
      ]
    },
    {
      "cell_type": "code",
      "execution_count": null,
      "metadata": {
        "_cell_guid": "5a3fa726-1a70-50cd-9b74-67df39f9aeb8"
      },
      "outputs": [],
      "source": [
        "# Different way of bringing in three graphs into one graph\n",
        "\n",
        "titanic.Age[titanic.Pclass == 1].plot(kind='kde')    \n",
        "titanic.Age[titanic.Pclass == 2].plot(kind='kde')\n",
        "titanic.Age[titanic.Pclass == 3].plot(kind='kde')\n",
        "plt.xlabel(\"Age\")    # x axis label\n",
        "plt.title(\"Age vs.Passenger class\") #legend\n",
        "plt.legend(('Class 1', 'Class 2','Class 3'),loc='best') "
      ]
    },
    {
      "cell_type": "code",
      "execution_count": null,
      "metadata": {
        "_cell_guid": "40249c4c-ceae-f5a6-9148-32de62c119d2"
      },
      "outputs": [],
      "source": [
        "corr=titanic.corr() #(correlation of all variables in your data set)\n",
        "plt.figure(figsize=(8,8)) #let have a square shaped output\n",
        "sns.heatmap(corr, vmax=1, square=True,annot=True,cmap='cubehelix')\n",
        "plt.title('Correlation b/w all values')\n",
        "\n",
        "# from the below output the maximum correlation was between Parch and Sibsp\n",
        "# sibsp           Number of Siblings/Spouses Aboard\n",
        "# parch           Number of Parents/Children Aboard\n",
        "\n",
        "# In Titanic, there were more families with sibilings, spouses, parents and children on board\n",
        "\n",
        "\n",
        "# Intestingly passenger class and fare are negatively correlated.\n",
        "# Lets find out later why passenger class and fare are negatively correlated as \n",
        "#                                                 our focus is more on survival\n",
        "\n",
        "# to display values with reference to survived\n",
        "round(titanic.corr()[\"Survived\"],2)\n",
        "# the output shows that fare had a positive correlation with survival rate\n",
        "# also, passenger class is negatively correlated with survival rate"
      ]
    },
    {
      "cell_type": "code",
      "execution_count": null,
      "metadata": {
        "_cell_guid": "dcfe734b-9b01-4fe7-24f7-8ee3114f2009"
      },
      "outputs": [],
      "source": [
        "round(titanic.corr()[\"Survived\"],2).plot(kind='bar', color=\"blue\", alpha=0.9)\n",
        "# the output shows that fare had a positive correlation with survival rate\n",
        "# also, passenger class is negatively correlated with survival rate"
      ]
    },
    {
      "cell_type": "code",
      "execution_count": null,
      "metadata": {
        "_cell_guid": "14715b09-a800-47af-eaae-88a46e5dfbdc"
      },
      "outputs": [],
      "source": [
        "g6 = sns.factorplot(x=\"Age\", y=\"Embarked\", hue=\"Sex\", row=\"Pclass\",\n",
        "                    data=titanic[titanic.Embarked.notnull()],orient=\"h\", size=2, aspect=3.5, \n",
        "                   palette={'male':\"red\", 'female':\"green\"}, kind=\"violin\", split=True, cut=0, bw=.2)"
      ]
    },
    {
      "cell_type": "code",
      "execution_count": null,
      "metadata": {
        "_cell_guid": "793223db-c58d-e19c-d9ac-017a7141906e"
      },
      "outputs": [],
      "source": [
        ""
      ]
    },
    {
      "cell_type": "code",
      "execution_count": null,
      "metadata": {
        "_cell_guid": "9944ab15-02d8-d6a8-d560-30f27aee489e"
      },
      "outputs": [],
      "source": [
        "round(titanic.corr()[\"Survived\"],2).plot(kind='bar', color=\"blue\", alpha=0.9)\n",
        "# the output shows that fare had a positive correlation with survival rate\n",
        "# also, passenger class is negatively correlated with survival rate"
      ]
    },
    {
      "cell_type": "code",
      "execution_count": null,
      "metadata": {
        "_cell_guid": "9c528301-eed6-d339-8c5e-0082f850f187"
      },
      "outputs": [],
      "source": [
        "g6 = sns.factorplot(x=\"Age\", y=\"Embarked\", hue=\"Sex\", row=\"Pclass\",\n",
        "                    data=titanic[titanic.Embarked.notnull()],orient=\"h\", size=2, aspect=3.5, \n",
        "                   palette={'male':\"red\", 'female':\"green\"}, kind=\"violin\", split=True, cut=0, bw=.2)"
      ]
    },
    {
      "cell_type": "code",
      "execution_count": null,
      "metadata": {
        "_cell_guid": "6997c224-c9ff-f5a4-6b73-eb21541005df"
      },
      "outputs": [],
      "source": [
        "def plot_model_var_imp( model , X , y ):\n",
        "    imp = pd.DataFrame( \n",
        "        model.feature_importances_  , \n",
        "        columns = [ 'Importance' ] , \n",
        "        index = X.columns \n",
        "    )\n",
        "    imp = imp.sort_values( [ 'Importance' ] , ascending = True )\n",
        "    imp[ : 10 ].plot( kind = 'barh' )\n",
        "    print (model.score( X , y ))"
      ]
    },
    {
      "cell_type": "code",
      "execution_count": null,
      "metadata": {
        "_cell_guid": "26948cc0-00e9-d0c6-4bed-8b692f8c754f"
      },
      "outputs": [],
      "source": [
        "Missing Values Imputation"
      ]
    },
    {
      "cell_type": "code",
      "execution_count": null,
      "metadata": {
        "_cell_guid": "bd5a7b09-08ce-5247-fc9b-de06468daf5c"
      },
      "outputs": [],
      "source": [
        "full = titanic.append(titanic_test, ignore_index= True)\n",
        "print ('Full data set',full.shape, 'titanic:',titanic.shape)\n",
        "# we are taking appending full data set to one place so that it will be easy to impute missing values"
      ]
    },
    {
      "cell_type": "code",
      "execution_count": null,
      "metadata": {
        "_cell_guid": "09ceb36f-107f-de6f-238e-7310681b99a8"
      },
      "outputs": [],
      "source": [
        "impute = pd.DataFrame()\n",
        "impute ['Age']= full.Age.fillna(full.Age.mean())\n",
        "impute ['Fare']= full.Age.fillna(full.Age.mean())\n",
        "impute.isnull().sum()"
      ]
    },
    {
      "cell_type": "code",
      "execution_count": null,
      "metadata": {
        "_cell_guid": "50c8c816-774a-d19b-31b7-eb4c8ec1780e"
      },
      "outputs": [],
      "source": [
        "full.isnull().sum()\n",
        "#See the difference.! Impute carries new values "
      ]
    },
    {
      "cell_type": "code",
      "execution_count": null,
      "metadata": {
        "_cell_guid": "74654c45-ef74-5e47-2901-1783cce273a2"
      },
      "outputs": [],
      "source": [
        "# Cabin stil has missing values. We can replace the variables with U"
      ]
    },
    {
      "cell_type": "code",
      "execution_count": null,
      "metadata": {
        "_cell_guid": "5d2bd48b-613a-ee9a-38bc-b91a7c68c0d3"
      },
      "outputs": [],
      "source": [
        "cabin = pd.DataFrame()\n",
        "cabin['Cabin' ] = full.Cabin.fillna ('U')\n",
        "cabin['Cabin'] = cabin['Cabin'].map(lambda c: c[0])\n",
        "cabin = pd.get_dummies(cabin['Cabin'], prefix = 'Cabin')\n",
        "cabin.head()"
      ]
    },
    {
      "cell_type": "code",
      "execution_count": null,
      "metadata": {
        "_cell_guid": "a02c1fa4-5c30-fa6b-c880-b6f619e187a3"
      },
      "outputs": [],
      "source": [
        "title = pd.DataFrame()\n",
        "title[ 'Title' ] = full[ 'Name' ].map( lambda name: name.split( ',' )[1].split( '.' )[0].strip() )\n",
        "Title_Dictionary = {\n",
        "                    \"Capt\":       \"High Designation\",\n",
        "                    \"Col\":        \"High Designation\",\n",
        "                    \"Major\":      \"High Designation\",\n",
        "                    \"Jonkheer\":   \"High Status\",\n",
        "                    \"Don\":        \"High Status\",\n",
        "                    \"Sir\" :       \"High Status\",\n",
        "                    \"Dr\":         \"High Designation\",\n",
        "                    \"Rev\":        \"High Designation\",\n",
        "                    \"the Countess\":\"High Designation\",\n",
        "                    \"Dona\":       \"High Designation\",\n",
        "                    \"Mme\":        \"Mrs\",\n",
        "                    \"Mlle\":       \"Miss\",\n",
        "                    \"Ms\":         \"Mrs\",\n",
        "                    \"Mr\" :        \"Mr\",\n",
        "                    \"Mrs\" :       \"Mrs\",\n",
        "                    \"Miss\" :      \"Miss\",\n",
        "                    \"Master\" :    \"Mr\",\n",
        "                    \"Lady\" :      \"High Designation\"\n",
        "                    }\n",
        "title[ 'Title' ] = title.Title.map( Title_Dictionary )\n",
        "title = pd.get_dummies( title.Title )\n",
        "title.head()"
      ]
    },
    {
      "cell_type": "code",
      "execution_count": null,
      "metadata": {
        "_cell_guid": "114ba857-6f0b-c8b2-111b-a7ac0bb3bad4"
      },
      "outputs": [],
      "source": [
        "family = pd.DataFrame()\n",
        "family[ 'FamilySize' ] = full[ 'Parch' ] + full[ 'SibSp' ] + 1\n",
        "family[ 'Family_Single' ] = family[ 'FamilySize' ].map( lambda s : 1 if s == 1 else 0 )\n",
        "family[ 'Family_Small' ]  = family[ 'FamilySize' ].map( lambda s : 1 if 2 <= s <= 3 else 0 )\n",
        "family[ 'Family_Large' ]  = family[ 'FamilySize' ].map( lambda s : 1 if 4 <= s else 0 )\n",
        "family.head()"
      ]
    },
    {
      "cell_type": "code",
      "execution_count": null,
      "metadata": {
        "_cell_guid": "80f5667c-5d79-c665-fc61-c1e905ed3301"
      },
      "outputs": [],
      "source": [
        "age1 = pd.DataFrame()\n",
        "age1[ 'AgeGroup' ] = impute[ 'Age' ]\n",
        "age1[ 'Until10' ] = age1[ 'AgeGroup' ].map( lambda r : 1 if r <= 10 else 0 )\n",
        "age1[ '11to25' ] = age1[ 'AgeGroup' ].map(  lambda r : 1 if 11 <= r <= 25 else 0 )\n",
        "age1[ '26to40' ]  = age1[ 'AgeGroup' ].map( lambda r : 1 if 26 <= r <= 40 else 0 )\n",
        "age1[ '40to60' ]  = age1[ 'AgeGroup' ].map( lambda r : 1 if 41 <= r <= 60 else 0 )\n",
        "age1[ '60Plus' ]  = age1[ 'AgeGroup' ].map( lambda r : 1 if 61 <= r else 0 )\n",
        "age1.head(50)"
      ]
    },
    {
      "cell_type": "code",
      "execution_count": null,
      "metadata": {
        "_cell_guid": "f78fa805-3184-ccc1-b94d-381f4bf7b744"
      },
      "outputs": [],
      "source": [
        "full_x = pd.concat((impute,cabin,age1,family,title), axis=1)\n",
        "full_x.head()\n",
        "# concating new variables after f"
      ]
    },
    {
      "cell_type": "code",
      "execution_count": null,
      "metadata": {
        "_cell_guid": "25752925-4356-a93e-70a6-2ece75ef87d5"
      },
      "outputs": [],
      "source": [
        "train_valid_x = full_x[0:891]\n",
        "train_valid_y = titanic.Survived\n",
        "test_x = full_x[891:]\n",
        "train_x, valid_x, train_y, valid_y = train_test_split(train_valid_x, train_valid_y, train_size=0.7)\n",
        "print(full_x.shape,train_x.shape, valid_x.shape, train_y.shape, valid_y.shape, test_x.shape)\n",
        "\n",
        "#SPLITTING INTO TRAINING AND TESTING DATASETS"
      ]
    },
    {
      "cell_type": "code",
      "execution_count": null,
      "metadata": {
        "_cell_guid": "b0675dcd-88d6-f24e-897c-d7c8a6806123"
      },
      "outputs": [],
      "source": [
        "#Modelling"
      ]
    },
    {
      "cell_type": "code",
      "execution_count": null,
      "metadata": {
        "_cell_guid": "64b38017-eda3-8c7f-5038-ca3acff249c7"
      },
      "outputs": [],
      "source": [
        "#Random Forest Model\n",
        "model1 = RandomForestClassifier(n_estimators=100)\n",
        "#support vector machines\n",
        "model2 = SVC()\n",
        "#gradient boosting classifier\n",
        "model3 = GradientBoostingClassifier()\n",
        "#K nearest neighbour\n",
        "model4 = KNeighborsClassifier(n_neighbors = 3)\n",
        "#gaussian naive bayes\n",
        "model5 = GaussianNB()\n",
        "#Logistic Regression\n",
        "model6 = LogisticRegression()"
      ]
    },
    {
      "cell_type": "code",
      "execution_count": null,
      "metadata": {
        "_cell_guid": "3c671127-c593-f8e8-887d-b41eeacb272f"
      },
      "outputs": [],
      "source": [
        "#Training the model\n",
        "model1.fit(train_x,train_y)\n",
        "model2.fit(train_x,train_y)\n",
        "model3.fit(train_x,train_y)\n",
        "model4.fit(train_x,train_y)\n",
        "model5.fit(train_x,train_y)\n",
        "model6.fit(train_x,train_y)"
      ]
    },
    {
      "cell_type": "code",
      "execution_count": null,
      "metadata": {
        "_cell_guid": "7a40be27-2b1a-3a42-7848-c85e218d498e"
      },
      "outputs": [],
      "source": [
        "#Model Performance\n",
        "plot_model_var_imp(model1, train_x, train_y)"
      ]
    },
    {
      "cell_type": "code",
      "execution_count": null,
      "metadata": {
        "_cell_guid": "3df5b20f-f857-4e56-33c5-f801cbd35645"
      },
      "outputs": [],
      "source": [
        "#Model Performance\n",
        "print ('Model 2', model2.score( train_x , train_y ) , model2.score( valid_x , valid_y ))\n",
        "print ('Model 3', model3.score( train_x , train_y ) , model3.score( valid_x , valid_y ))\n",
        "print ('Model 4', model4.score( train_x , train_y ) , model4.score( valid_x , valid_y ))\n",
        "print ('Model 5', model5.score( train_x , train_y ) , model5.score( valid_x , valid_y ))\n",
        "print ('Model 6', model6.score( train_x , train_y ) , model6.score( valid_x , valid_y ))"
      ]
    },
    {
      "cell_type": "code",
      "execution_count": null,
      "metadata": {
        "_cell_guid": "087a4bbd-a9f4-b00d-8e05-151ac0049dcd"
      },
      "outputs": [],
      "source": [
        "rfecv = RFECV( estimator = model1, step = 1 , cv = StratifiedKFold( train_y , 2 ) , scoring = 'accuracy' )\n",
        "rfecv.fit( train_x , train_y )"
      ]
    },
    {
      "cell_type": "code",
      "execution_count": null,
      "metadata": {
        "_cell_guid": "2020d93a-2091-653f-c15a-9dfdfaea194e"
      },
      "outputs": [],
      "source": [
        "#completion time"
      ]
    },
    {
      "cell_type": "code",
      "execution_count": null,
      "metadata": {
        "_cell_guid": "962649e7-406d-fc67-3e07-83c956d6d748"
      },
      "outputs": [],
      "source": [
        "test_y = model1.predict( test_x )\n",
        "passenger_id = full[891:].PassengerId\n",
        "test = pd.DataFrame( { 'PassengerId': passenger_id , 'Survived': test_y } )\n",
        "test.shape\n",
        "test.head()\n",
        "test.to_csv( 'titanic_prediction2.csv' , index = False )"
      ]
    }
  ],
  "metadata": {
    "_change_revision": 0,
    "_is_fork": false,
    "kernelspec": {
      "display_name": "Python 3",
      "language": "python",
      "name": "python3"
    },
    "language_info": {
      "codemirror_mode": {
        "name": "ipython",
        "version": 3
      },
      "file_extension": ".py",
      "mimetype": "text/x-python",
      "name": "python",
      "nbconvert_exporter": "python",
      "pygments_lexer": "ipython3",
      "version": "3.6.0"
    }
  },
  "nbformat": 4,
  "nbformat_minor": 0
}