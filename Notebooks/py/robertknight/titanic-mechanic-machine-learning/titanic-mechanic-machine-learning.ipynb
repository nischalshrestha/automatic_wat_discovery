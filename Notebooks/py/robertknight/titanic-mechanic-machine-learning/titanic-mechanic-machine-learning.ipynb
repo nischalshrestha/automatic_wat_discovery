{
  "cells": [
    {
      "cell_type": "markdown",
      "metadata": {
        "_cell_guid": "cdcef6b5-e543-8c41-c1e4-4e12160cf634"
      },
      "source": [
        "Introduction\n",
        "----------------\n",
        "\n",
        "My first kaggle entry, just joining the other 17,000 already uploaded! My thinking is to explore the data looking how different features affect survival rates. Using intuition and knowledge of the scenario, we can say that gender, age and whether or not you are with family will make a huge difference to your survival rate. But let's confirm these assumptions."
      ]
    },
    {
      "cell_type": "code",
      "execution_count": null,
      "metadata": {
        "_cell_guid": "1aa001d8-75c2-ac56-b580-ee7f1a5a0073"
      },
      "outputs": [],
      "source": [
        "# This Python 3 environment comes with many helpful analytics libraries installed\n",
        "# It is defined by the kaggle/python docker image: https://github.com/kaggle/docker-python\n",
        "\n",
        "# Numpy and Pandas\n",
        "import numpy as np # linear algebra\n",
        "import pandas as pd # data processing, CSV file I/O (e.g. pd.read_csv)\n",
        "\n",
        "# Machine Learning\n",
        "from patsy import dmatrices\n",
        "from sklearn.linear_model import LogisticRegression\n",
        "from sklearn.ensemble import RandomForestClassifier\n",
        "from sklearn.model_selection import train_test_split, cross_val_score\n",
        "from sklearn.feature_selection import RFE\n",
        "from sklearn import metrics\n",
        "\n",
        "# graphical modules\n",
        "import matplotlib as mpl\n",
        "import matplotlib.pyplot as plt\n",
        "import seaborn as sns\n",
        "sns.set(style=\"whitegrid\", color_codes=True)\n",
        "\n",
        "# Input data files are available in the \"../input/\" directory.\n",
        "# For example, running this (by clicking run or pressing Shift+Enter) will list the files in the input directory\n",
        "\n",
        "from subprocess import check_output\n",
        "#print(check_output([\"ls\", \"../input\"]).decode(\"utf8\"))"
      ]
    },
    {
      "cell_type": "markdown",
      "metadata": {
        "_cell_guid": "f5792e09-fa90-1a09-e84a-009c78ed2d0e"
      },
      "source": [
        "Import\n",
        "----------\n",
        "\n",
        "First we need to import the data set, and assign them to test, train and full (test and train combined). After printing the head of the data frame to see how the data is formated."
      ]
    },
    {
      "cell_type": "code",
      "execution_count": null,
      "metadata": {
        "_cell_guid": "844cd9c4-0286-7fea-02c9-9e6a4dda587b"
      },
      "outputs": [],
      "source": [
        "# import test and train and combine to full data set \n",
        "test = pd.read_csv(\"../input/test.csv\")\n",
        "train = pd.read_csv(\"../input/train.csv\")\n",
        "\n",
        "titanic = train.append(test, ignore_index = True)\n",
        "\n",
        "# printing the first row and structure\n",
        "print(\"The number of records are as follows:\")\n",
        "print(\"Training set: {}\".format(train[\"Age\"].count()))\n",
        "print(\"Test set: {}\".format(test[\"Age\"].count()))\n",
        "print(\"\\nBelow see an example record \\n\")\n",
        "print(titanic.iloc[1])\n",
        "print(\"\\nBelow see the data type for each column/variable \\n\")\n",
        "print(titanic.dtypes)"
      ]
    },
    {
      "cell_type": "markdown",
      "metadata": {
        "_cell_guid": "d41a3e9b-0508-12b5-231a-195c6fbacf43"
      },
      "source": [
        "Missing Values\n",
        "--------------\n",
        "\n",
        "Before looking into any relationships in the data, I would like to observe if there are missing values and attempt to impute these (if reasonable) for features of importance."
      ]
    },
    {
      "cell_type": "code",
      "execution_count": null,
      "metadata": {
        "_cell_guid": "937bd824-33fb-6469-adc4-8147f0676528"
      },
      "outputs": [],
      "source": [
        "# Return missing values in dataframe for training set\n",
        "print(\"Total Records: {}\\n\".format(titanic[\"Age\"].count()))\n",
        "\n",
        "print(\"Training set missing values\")\n",
        "print(train.isnull().sum())\n",
        "print(\"\\n\")\n",
        "\n",
        "print(\"Testing set missing values\")\n",
        "print(test.isnull().sum())"
      ]
    },
    {
      "cell_type": "markdown",
      "metadata": {
        "_cell_guid": "eb6e7a6c-92e9-2b47-bb17-fe4abde46c68"
      },
      "source": [
        "Whilst some useful information could potentially have been gathered from Cabin (as this may have been and implication of location of the persons in relation to the lifeboats) the bulk of values are missing and so it may be more useful to ignore this feature in any predictive models.\n",
        "\n",
        "However, I have already hypothesised that Age will be important. In order to build an accurate model later I would like to try using simple imputation to produce a preprocessed dataframe. This is so that I can use age as a feature and use the data from other features in records where Age is Null in formulating my model."
      ]
    },
    {
      "cell_type": "code",
      "execution_count": null,
      "metadata": {
        "_cell_guid": "3f95871d-c3a6-f36b-3d46-1ce71799817c"
      },
      "outputs": [],
      "source": [
        "# replace each Null Age with the mean\n",
        "train[\"Age\"].fillna(train[\"Age\"].mean(), inplace=True)\n",
        "\n",
        "# apply the same preprocessing to test set\n",
        "test[\"Age\"].fillna(test[\"Age\"].mean(), inplace=True)\n",
        "test[\"Fare\"].fillna(test[\"Fare\"].mean(), inplace=True)\n",
        "\n",
        "# confirm values are no longer null\n",
        "print(\"Training set missing values after pre-processing\")\n",
        "print(train.isnull().sum())\n",
        "print(\"\\n\")"
      ]
    },
    {
      "cell_type": "markdown",
      "metadata": {
        "_cell_guid": "f36d9815-b6ea-f1c9-e5a5-181d1889e35b"
      },
      "source": [
        "Feature relationships\n",
        "-------------------------\n",
        "\n",
        "**Sex & Age**\n",
        "\n",
        "Now I would like to look deeper at how the different features are related. Some of these features are obviously going to have no causal relationship to survival, for example what embark point the passenger is will likely have no affect on their survival, so I would like to ignore these.\n",
        "\n",
        "However, I have already hypothesised that Sex and Age will play a key role in survival rates but visualising this relationship to test that seems like a good idea."
      ]
    },
    {
      "cell_type": "code",
      "execution_count": null,
      "metadata": {
        "_cell_guid": "523fd8c0-9a1b-8675-752c-bb61c0ea1762"
      },
      "outputs": [],
      "source": [
        "# Seaborn Violin Plot would be a nice way to look at this relationship\n",
        "sns.violinplot(x=\"Sex\", y=\"Age\", hue=\"Survived\", data=train,\n",
        "               split=True, cut =0, inner=\"stick\", palette=\"Set1\")"
      ]
    },
    {
      "cell_type": "markdown",
      "metadata": {
        "_cell_guid": "6c20ecd4-eefa-7f92-af33-ca66bd4d7fc3"
      },
      "source": [
        "So quite clearly my assumption about Sex and Age was a bit off. It is clear that males under 18 had a much higher survival rate, and young males has a relatively poor survival rate. However, females are much harder to understand and is much more of an even distribution. A deeper dive is needed to establish what features are clearly important to survival.\n"
      ]
    },
    {
      "cell_type": "markdown",
      "metadata": {
        "_cell_guid": "1c27886d-42a6-e913-b177-cab26bbbfd40"
      },
      "source": [
        "**Class & Fare**\n",
        "\n",
        "We also know that aboard the titanic there were many different classes of people, having more or less influence in the disaster situation when trying to get a lifeboat. So let's take a dive into this relationship via a swarm plot."
      ]
    },
    {
      "cell_type": "code",
      "execution_count": null,
      "metadata": {
        "_cell_guid": "b071f7d9-1700-bbf1-e6b4-8a9e1879c6ec"
      },
      "outputs": [],
      "source": [
        "# swarm plot of embarked and fare\n",
        "sns.swarmplot(x=\"Pclass\", y=\"Fare\", hue=\"Survived\", data=train, palette=\"dark\")"
      ]
    },
    {
      "cell_type": "markdown",
      "metadata": {
        "_cell_guid": "91d20848-b331-95bd-bf76-5017078b6d53"
      },
      "source": [
        "To predict survival for passengers will be a multi feature classification problem, so it is worth considering all of the features and then trying combinations of the features that seem to have clear relationships on survival rates to see which produce the best fitting model."
      ]
    },
    {
      "cell_type": "markdown",
      "metadata": {
        "_cell_guid": "01ad1b37-d965-99b7-9022-a24e77363683"
      },
      "source": [
        "Feature Engineering\n",
        "-------------------\n",
        "There are a number of features that can be engineered from the existing data. If we consider what assumptions we have made around women and children, there are some fairly obvious features to extract.\n",
        "\n",
        "**Children**\n",
        "\n",
        "Let us assume that all passengers under 18 are children, and assign within Child in the data frame. "
      ]
    },
    {
      "cell_type": "code",
      "execution_count": null,
      "metadata": {
        "_cell_guid": "76c6fe8f-4f8e-9cba-518b-be60400e82e1"
      },
      "outputs": [],
      "source": [
        "# create Child column into dataframe for train and test using a list comprehension\n",
        "train[\"Child\"] = [\"Child\" if int(x) < 18 else \"Adult\" for x in train[\"Age\"]]\n",
        "test[\"Child\"] = [\"Child\" if int(x) < 18 else \"Adult\" for x in test[\"Age\"]]"
      ]
    },
    {
      "cell_type": "markdown",
      "metadata": {
        "_cell_guid": "0f25764b-182c-2085-bb1a-46aed2f1f60f"
      },
      "source": [
        "**Family Size**\n",
        "\n",
        "From the children/parent and sibling/spouse attributes we can quite easily establish a family size feature. My thinking is larger families would have found it difficult to find lifeboats, and maybe being in a smaller unit would have been better. \n",
        "\n",
        "Below I can produce a family size feature using Parch and SibSp, and adding 1 (to include the person themselves)."
      ]
    },
    {
      "cell_type": "code",
      "execution_count": null,
      "metadata": {
        "_cell_guid": "cd3fe51f-5fd0-6e1b-fce0-fb7cf937d9bf"
      },
      "outputs": [],
      "source": [
        "# Family size column\n",
        "train[\"Family_size\"] = train[\"Parch\"].astype(np.int64) + train[\"SibSp\"].astype(np.int64) + 1 \n",
        "test[\"Family_size\"] = test[\"Parch\"].astype(np.int64) + test[\"SibSp\"].astype(np.int64) + 1 \n",
        "\n",
        "print(\"See below a record for a child with sibling and parent, we know have a Child and Family Size indicator: \\n\")\n",
        "print(train.iloc[10])"
      ]
    },
    {
      "cell_type": "markdown",
      "metadata": {
        "_cell_guid": "aad9d05c-dc59-437c-3f0f-644fd8f9b6e5"
      },
      "source": [
        "Then we can plot this into a heatmap with child/adult to observe how family size affects survival rate when a child or adult. "
      ]
    },
    {
      "cell_type": "code",
      "execution_count": null,
      "metadata": {
        "_cell_guid": "d18735ea-d61f-3b22-200c-f17c2fd7f944"
      },
      "outputs": [],
      "source": [
        "# Produce heatmap\n",
        "family = train.pivot_table(values=\"Survived\", index = [\"Child\"], columns = \"Family_size\")\n",
        "\n",
        "# Draw a heatmap with the numeric values in each cell\n",
        "htmp = sns.heatmap(family, annot=True, cmap=\"YlGn\")"
      ]
    },
    {
      "cell_type": "markdown",
      "metadata": {
        "_cell_guid": "cbcd3ff1-deb0-15ab-d693-3b73a62076ec"
      },
      "source": [
        "We clearly see that both of these features have a clear affect on survival. Children in families of 2-4 in size had significantly better survival rates than those who were alone or in large families. Adults in these family sizes also experience some of this benefit over larger or smaller families, but less so, which makes sense if you consider that both parents might not have been allowed to board the life boat in the disaster.\n",
        "\n",
        "**Title**\n",
        "\n",
        "Next I would like to look at Title, and how this can be used to extract further features such as Mothers more effectively. To do this we will need to extract the Title from the Name field. Whilst we are at it lets print out the values so we can see what titles are aboard the Titanic."
      ]
    },
    {
      "cell_type": "code",
      "execution_count": null,
      "metadata": {
        "_cell_guid": "c772b8fe-b2ae-fc0a-563e-dbca7e909fdd"
      },
      "outputs": [],
      "source": [
        "# Use regex and str.extract method to extract title from name for test and train\n",
        "train[\"Title\"] = train[\"Name\"].str.extract(\"\\,\\s(.*?)\\.\" , expand=True)\n",
        "train[\"Title\"].str.strip(\" \")\n",
        "test[\"Title\"] = test[\"Name\"].str.extract(\"\\,\\s(.*?)\\.\" , expand=True)\n",
        "test[\"Title\"].str.strip(\" \")\n",
        "\n",
        "# Print list of values and the count for that data frame series\n",
        "train[\"Title\"].value_counts(ascending = False)"
      ]
    },
    {
      "cell_type": "markdown",
      "metadata": {
        "_cell_guid": "8fa53cae-6a47-9842-99a3-9aa056b8e50a"
      },
      "source": [
        "Next, lets combine all of the titles with only 1 count into a variable \"Vip\" as they seem to relate to people who would likely be highly esteemed passengers aboard the ship."
      ]
    },
    {
      "cell_type": "code",
      "execution_count": null,
      "metadata": {
        "_cell_guid": "db652245-5ad0-3d9e-a384-aaf3d726e9d1"
      },
      "outputs": [],
      "source": [
        "# roll-up titles\n",
        "train[\"Title\"] = [x if x in [\"Miss\", \"Mr\", \"Mrs\", \"Master\", \"Dr\", \"Rev\"] else \"Vip\" for x in train[\"Title\"] ]\n",
        "test[\"Title\"] = [x if x in [\"Miss\", \"Mr\", \"Mrs\", \"Master\", \"Dr\", \"Rev\"] else \"Vip\" for x in test[\"Title\"] ]\n",
        "\n",
        "# Seaborn Plot to show survival based on Title\n",
        "bar = sns.barplot(\"Title\", \"Survived\", data = train, palette=\"Greys\")\n",
        "bar.set_ylabel(\"Chance of Survival\")"
      ]
    },
    {
      "cell_type": "markdown",
      "metadata": {
        "_cell_guid": "3cc75681-8b17-831d-2ad8-a53e592763f5"
      },
      "source": [
        "From this we can see the chance of survival is a lot grater if you are female, a young male, doctor or Vip. The confidence interval is a lot wider on Vip and Doctor is a lot larger however. Clearly Title is going to be a very important feature for any classification algorithm we might implement later. "
      ]
    },
    {
      "cell_type": "markdown",
      "metadata": {
        "_cell_guid": "c4964482-b41e-7cff-35c0-8a4c75f42d9f"
      },
      "source": [
        "**Mothers**\n",
        "\n",
        "Now using the Age, Sex, Title and Parch we can define a Mother feature much like the child. The assumption being that a female with Age greater than 18, Title Mrs and Parch is greater than 0, that the person in question is a mother. Obviously this is not perfect as there could be unmarried mothers, or mothers under the age of 18. But roughly speaking this should create a feature that can be of use in the classification step."
      ]
    },
    {
      "cell_type": "code",
      "execution_count": null,
      "metadata": {
        "_cell_guid": "2dde6a8f-2f0d-9709-f809-208aa305829d"
      },
      "outputs": [],
      "source": [
        "# create mothers\n",
        "def mother(row):\n",
        "  if row[\"Child\"] == \"Adult\" and row[\"Sex\"] == \"female\" and row[\"Title\"] == \"Mrs\" and row[\"Parch\"] > 0:\n",
        "    return \"Mother\"\n",
        "  else:\n",
        "    return \"Not Mother\"\n",
        "\n",
        "train[\"Mother\"] = train.apply(mother, axis=1)\n",
        "test[\"Mother\"] = test.apply(mother, axis=1)\n",
        "\n",
        "print(\"See below and example record for who we believe to be a mother:\\n\")\n",
        "print(train.iloc[25])"
      ]
    },
    {
      "cell_type": "markdown",
      "metadata": {
        "_cell_guid": "286429dc-b009-2904-0478-937657fcde48"
      },
      "source": [
        "Classification\n",
        "=======\n",
        "\n",
        "Now I think I have enough features to start training a classifier which can hopefully prove to be fairly accurate at predicting survival on our test set population that has been preprocessed in the same way as the training set. \n",
        "\n",
        "As this is my first kernel, I would like to try a number of classification algorithms starting from the simpler ones such as Logistic Regression and SVM. Moving towards using Random Forest and maybe even Neural Networks and Deep Learning if I can. \n",
        "\n",
        "If I can gather accuracy stats from the test set I can choose the best model and finish the Kernel with a maximum achieved accuracy after some hyper parameter tuning."
      ]
    },
    {
      "cell_type": "markdown",
      "metadata": {
        "_cell_guid": "df748906-959a-b305-5448-60d6d87a4a1d"
      },
      "source": [
        "*NOTE: I have realized that the est.csv data set is not a test set but rather a set to use at the end to predict on as there are no survived labels to test against. Therefore I will split the train set into a train and test set to enable validating the accuracy of my model against a data set that it was not trained on.*"
      ]
    },
    {
      "cell_type": "markdown",
      "metadata": {
        "_cell_guid": "ab22fc79-23ad-72dc-8932-f0cb3e63f1ce"
      },
      "source": [
        "**Logistic Regression**\n",
        "\n",
        "I am splitting the train data into training and test sets with a 80/20 split and checking the accuracy."
      ]
    },
    {
      "cell_type": "code",
      "execution_count": null,
      "metadata": {
        "_cell_guid": "777b72d7-45be-d2da-8ade-8ced6fd0a158"
      },
      "outputs": [],
      "source": [
        "# format using patsy to get a matrix to pass into the LR model\n",
        "y, X = dmatrices('Survived ~ Title + Age + Sex + Child + Family_size + Mother + Fare',\n",
        "                  train, return_type=\"dataframe\")\n",
        "# flatten y into a 1-D array\n",
        "y = np.ravel(y)\n",
        "\n",
        "# evaluate the model by splitting into train and test sets\n",
        "X_train, X_test, y_train, y_test = train_test_split(X, y, test_size=0.2, random_state=0)\n",
        "\n",
        "# instantiate a logistic regression model, and fit with X and y\n",
        "LRmodel = LogisticRegression()\n",
        "LRmodel = LRmodel.fit(X_train, y_train)\n",
        "\n",
        "# check the accuracy on the training set\n",
        "LRmodel.score(X_train, y_train)"
      ]
    },
    {
      "cell_type": "markdown",
      "metadata": {
        "_cell_guid": "29fa7bb0-db70-353a-482c-17eea6e9d9f1"
      },
      "source": [
        "According to this we have an 83% accuracy on the training set. Let's compare this with the Null Error Rate, which is the percentage we would get if we only predicted survived or died. "
      ]
    },
    {
      "cell_type": "code",
      "execution_count": null,
      "metadata": {
        "_cell_guid": "5a882560-0431-4fce-b9c0-f958a762a2ca"
      },
      "outputs": [],
      "source": [
        "# what percentage had affairs?\n",
        "y.mean()"
      ]
    },
    {
      "cell_type": "markdown",
      "metadata": {
        "_cell_guid": "dcc7c9e9-123b-10e3-81ad-8f6c569680c6"
      },
      "source": [
        "If 38.4% survived, this means that the null error rate for predicting death for every passenger is 61.6%, so the prediction accuracy on the training set is significantly higher.\n",
        "\n",
        "Now let's look at predictions in the test set. "
      ]
    },
    {
      "cell_type": "code",
      "execution_count": null,
      "metadata": {
        "_cell_guid": "e34f88e8-fd87-57ae-944f-39da48d0c737"
      },
      "outputs": [],
      "source": [
        "# check the accuracy on the test set\n",
        "predicted = LRmodel.predict(X_test)\n",
        "print(metrics.accuracy_score(y_test, predicted))"
      ]
    },
    {
      "cell_type": "markdown",
      "metadata": {
        "_cell_guid": "38531d6a-5178-653e-1ede-97e1d0df7942"
      },
      "source": [
        "Here we see we have a similar accuracy level to the accuracy in the training set, implying that the model has high training accuracy because of over fitting. \n",
        "\n",
        "Lets use *Cross Validation* to check more thoroughly the accuracy of the model by applying it to smaller units and averaging the accuracy response."
      ]
    },
    {
      "cell_type": "code",
      "execution_count": null,
      "metadata": {
        "_cell_guid": "30bb68d3-9588-682b-4dee-bf4d1a610b2a"
      },
      "outputs": [],
      "source": [
        "# evaluate the model using 10-fold cross-validation\n",
        "scores = cross_val_score(LogisticRegression(), X, y, scoring='accuracy', cv=10)\n",
        "\n",
        "print(\"List of Scores for CV Folds:\")\n",
        "[print(score) for score in scores]\n",
        "\n",
        "print(\"\\nMean Accuracy\")\n",
        "print(scores.mean())"
      ]
    },
    {
      "cell_type": "markdown",
      "metadata": {
        "_cell_guid": "ea1f1182-8093-75d3-39d0-8b7418cba265"
      },
      "source": [
        "We can see that the accuracy across the folds is pretty close to 83% again, implying that we have no over fitted the LRmodel.\n",
        "\n",
        "Now let's use this model to predict on the \"test\" set provided to see the percentage of people we think survived based on the features we have defined. "
      ]
    },
    {
      "cell_type": "code",
      "execution_count": null,
      "metadata": {
        "_cell_guid": "892bef46-3b7f-185b-3ccd-2eefb8c2b597"
      },
      "outputs": [],
      "source": [
        "# add Survived column to test dataframe (blank)\n",
        "test[\"Survived\"] = \"\"\n",
        "\n",
        "# format using patsy to get a matrix to pass into the LR model\n",
        "yt, Xt = dmatrices('Survived ~ Title + Age + Sex + Child + Family_size + Mother + Fare',\n",
        "                  test, return_type=\"dataframe\")\n",
        "# flatten y into a 1-D array\n",
        "yt = np.ravel(yt)\n",
        "\n",
        "# predict on the data\n",
        "test[\"Survived\"] = LRmodel.predict(Xt)\n",
        "\n",
        "print(\"Chance of Survival for Passengers in Test Data:\")\n",
        "print(test[\"Survived\"].mean())"
      ]
    },
    {
      "cell_type": "markdown",
      "metadata": {
        "_cell_guid": "2e34c5e4-bac9-3253-72c5-85b2ddd5093d"
      },
      "source": [
        "**Random Forest Classifier**\n",
        "\n",
        "Now lets look at Random Forest, which should allow for us to more easily observe feature importance and should handle non-linear relationships between features more efficiently than a simple logistic regression."
      ]
    },
    {
      "cell_type": "code",
      "execution_count": null,
      "metadata": {
        "_cell_guid": "8fa27990-a17d-4d7f-9fa3-30015539c001"
      },
      "outputs": [],
      "source": [
        "# instantiate Random Forest Classifier and train\n",
        "RFCmodel = RandomForestClassifier(n_estimators =1000)\n",
        "RFCmodel = RFCmodel.fit(X_train, y_train)\n",
        "\n",
        "# print score for training set\n",
        "print(\"Train data accuracy:\")\n",
        "print(RFCmodel.score(X_train, y_train))\n",
        "\n",
        "# check the accuracy on the test set\n",
        "predicted = RFCmodel.predict(X_test)\n",
        "print(\"\\nTest data accuracy:\")\n",
        "print(metrics.accuracy_score(y_test, predicted))"
      ]
    },
    {
      "cell_type": "markdown",
      "metadata": {
        "_cell_guid": "41d46ca8-1d50-43fd-bb5b-32f7c702d038"
      },
      "source": [
        "So initially the model looked to be very accurate on the train data set, but clearly there is some overfitting and the RFC is probably sensitive to noise in the data. \n",
        "\n",
        "I think we can optimize this algorithm further by looking at hyper parameters. In particular, min_sample_leaf will affect the RFC susceptibility to noise. So by looking at different values for this and selecting a value which produces the highest test data accuracy without having a huge affect on the train data accuracy, we should have a model that is less susceptible to noise.\n",
        "\n",
        "I will right a script to return the 5 highest test accuracy figures and we will pick the size that has the smallest difference between test and train accuracy for the model going forward."
      ]
    },
    {
      "cell_type": "code",
      "execution_count": null,
      "metadata": {
        "_cell_guid": "8116b58c-6d96-0576-b117-61c3eb663651"
      },
      "outputs": [],
      "source": [
        "leafsizes = []\n",
        "\n",
        "for x in range(1,110,2):\n",
        "    RFCmodel = RandomForestClassifier(n_estimators =100, min_samples_leaf= x)\n",
        "    \n",
        "    RFCmodel = RFCmodel.fit(X_train, y_train)\n",
        "    RFC_acc = (RFCmodel.score(X_train, y_train))\n",
        "    \n",
        "    predicted = RFCmodel.predict(X_test)\n",
        "    RFC_test_acc = metrics.accuracy_score(y_test, predicted)\n",
        "    \n",
        "    diff_mag = (((RFC_acc - RFC_test_acc)**2)**0.5)\n",
        "    \n",
        "    leafsizes.append((\"leaf {0}\".format(x), RFC_acc, RFC_test_acc, diff_mag))\n",
        "\n",
        "leafsizes = list(reversed(sorted(leafsizes, key=lambda tup: tup[2])))\n",
        "    \n",
        "for i in range(5):\n",
        "    print(leafsizes[i])"
      ]
    },
    {
      "cell_type": "markdown",
      "metadata": {
        "_cell_guid": "10c69236-c2b1-959e-32d2-d2ba46470c0e"
      },
      "source": [
        "So we see at around min_sample_leaf = 15 we get quite a closely accuracy but with very low difference between test and train.\n",
        "\n",
        "Lets use cross validation as with the LR to see if this model is actually less accurate and that we should stick to the simpler but more effective LR model."
      ]
    },
    {
      "cell_type": "code",
      "execution_count": null,
      "metadata": {
        "_cell_guid": "b674f01e-6a0a-d937-e216-8fe34f27d1ec"
      },
      "outputs": [],
      "source": [
        "# assign RFC model with the chosen  min_samples_leaf\n",
        "RFCmodel = RandomForestClassifier(n_estimators =100, min_samples_leaf= 15)\n",
        "RFCmodel = RFCmodel.fit(X_train, y_train)\n",
        "\n",
        "# evaluate the model using 10-fold cross-validation\n",
        "scores = cross_val_score(RandomForestClassifier(n_estimators =100, min_samples_leaf= 15), X, y, scoring='accuracy', cv=10)\n",
        "\n",
        "print(\"List of Scores for CV Folds:\")\n",
        "[print(score) for score in scores]\n",
        "\n",
        "print(\"\\nMean Accuracy\")\n",
        "print(scores.mean())\n",
        "\n",
        "print(RFCmodel.feature_importances_)"
      ]
    },
    {
      "cell_type": "markdown",
      "metadata": {
        "_cell_guid": "d5cf5396-b111-50a4-c311-50f868546b12"
      },
      "source": [
        "Submissions\n",
        "=======\n",
        "\n",
        "First submission - I believe the LR model to be more accurate. Lets see how I do!\n"
      ]
    },
    {
      "cell_type": "code",
      "execution_count": null,
      "metadata": {
        "_cell_guid": "7b2b14f0-cda7-6501-0479-7f00d2adf1a5"
      },
      "outputs": [],
      "source": [
        "# run model and place values in test dataframe\n",
        "test[\"Survived\"] = LRmodel.predict(Xt)\n",
        "\n",
        "# produce submission format\n",
        "submission_lr = pd.DataFrame()\n",
        "\n",
        "submission_lr[\"PassengerId\"] = test[\"PassengerId\"]\n",
        "submission_lr[\"Survived\"] = test[\"Survived\"]\n",
        "\n",
        "print(\"Check format:\\n\")\n",
        "print(submission_lr.head())\n",
        "\n",
        "submission_lr.to_csv(\"Submission_lr.csv\", index = False)"
      ]
    },
    {
      "cell_type": "markdown",
      "metadata": {
        "_cell_guid": "c669dba8-6a00-8607-3787-9f3cce4222ed"
      },
      "source": [
        "The competition entry for LR was not as high as the tests (around 78%) so now I would like to utilize the RFC and see if that can do any better upon submission. "
      ]
    },
    {
      "cell_type": "code",
      "execution_count": null,
      "metadata": {
        "_cell_guid": "f5a5bc06-b7ba-5c34-427a-622503368d17"
      },
      "outputs": [],
      "source": [
        "# run model and place values in test dataframe\n",
        "test[\"Survived\"] = RFCmodel.predict(Xt)\n",
        "\n",
        "# produce submission format\n",
        "submission_rfc = pd.DataFrame()\n",
        "\n",
        "submission_rfc[\"PassengerId\"] = test[\"PassengerId\"]\n",
        "submission_rfc[\"Survived\"] = test[\"Survived\"]\n",
        "\n",
        "print(\"Check format:\\n\")\n",
        "print(submission_rfc.head())\n",
        "\n",
        "submission_rfc.to_csv(\"Submission_rfc.csv\", index = False)"
      ]
    },
    {
      "cell_type": "markdown",
      "metadata": {
        "_cell_guid": "62816d2c-6347-055d-2ff3-480c3c7edbb5"
      },
      "source": [
        "I will submit this csv to see how it fairs in comparison to LR.\n",
        "\n",
        "LR is still marginally better but both models are sitting around 78%"
      ]
    }
  ],
  "metadata": {
    "_change_revision": 0,
    "_is_fork": false,
    "kernelspec": {
      "display_name": "Python 3",
      "language": "python",
      "name": "python3"
    },
    "language_info": {
      "codemirror_mode": {
        "name": "ipython",
        "version": 3
      },
      "file_extension": ".py",
      "mimetype": "text/x-python",
      "name": "python",
      "nbconvert_exporter": "python",
      "pygments_lexer": "ipython3",
      "version": "3.5.2"
    }
  },
  "nbformat": 4,
  "nbformat_minor": 0
}