{
  "cells": [
    {
      "cell_type": "markdown",
      "metadata": {
        "_cell_guid": "c2c859d9-fd8e-afa3-6d41-b87537f60e33"
      },
      "source": [
        "## Prediction of Survival on the Titanic (Kaggle)\n",
        "\n",
        "Dec 30, 2016\n",
        "alexindata\n",
        "\n",
        "A starter script using Random Forest."
      ]
    },
    {
      "cell_type": "markdown",
      "metadata": {
        "_cell_guid": "ecdea4e7-3bd5-30aa-bb26-ae9a649a075a"
      },
      "source": [
        "## Exploratory data analysis of Titanic data set"
      ]
    },
    {
      "cell_type": "code",
      "execution_count": null,
      "metadata": {
        "_cell_guid": "d7949250-c435-dea2-6eb3-05a0f5ddf343"
      },
      "outputs": [],
      "source": [
        "import numpy as np\n",
        "import pandas as pd"
      ]
    },
    {
      "cell_type": "code",
      "execution_count": null,
      "metadata": {
        "_cell_guid": "35882f78-2cb5-982a-f59d-28f448f865eb"
      },
      "outputs": [],
      "source": [
        "train_data = pd.read_csv('../input/train.csv', header=0)\n",
        "test_data = pd.read_csv('../input/test.csv', header=0)\n",
        "test_data.loc[:, 'Survived'] = None\n",
        "\n",
        "frames = [train_data, test_data]\n",
        "df = pd.concat(frames, axis=0, join='outer', ignore_index=True, keys=None, levels=None, names=None, verify_integrity=False, copy=True) # ignore_index=True"
      ]
    },
    {
      "cell_type": "code",
      "execution_count": null,
      "metadata": {
        "_cell_guid": "129edf6b-73a0-b646-bfa3-2c38018df6d5"
      },
      "outputs": [],
      "source": [
        "df.tail(5)"
      ]
    },
    {
      "cell_type": "code",
      "execution_count": null,
      "metadata": {
        "_cell_guid": "fbc97dfb-3d7b-23dc-e3ae-ac9114a0f8fe"
      },
      "outputs": [],
      "source": [
        "df.shape"
      ]
    },
    {
      "cell_type": "code",
      "execution_count": null,
      "metadata": {
        "_cell_guid": "58f43b7d-f467-11a5-25b0-71d2780ddb9a"
      },
      "outputs": [],
      "source": [
        "# df.info() can id missing values\n",
        "df.info()"
      ]
    },
    {
      "cell_type": "code",
      "execution_count": null,
      "metadata": {
        "_cell_guid": "a315f6e0-f77f-9218-9b21-5204328dbeb8"
      },
      "outputs": [],
      "source": [
        "df.describe()"
      ]
    },
    {
      "cell_type": "code",
      "execution_count": null,
      "metadata": {
        "_cell_guid": "3daed5ae-f056-16d2-9ca3-a232a42ce0df"
      },
      "outputs": [],
      "source": [
        "# check null values by column\n",
        "df.isnull().sum(0)"
      ]
    },
    {
      "cell_type": "code",
      "execution_count": null,
      "metadata": {
        "_cell_guid": "7497c021-c2d8-0190-5d38-4fb5f4ed6d5e"
      },
      "outputs": [],
      "source": [
        "df.groupby(['Pclass']).size()"
      ]
    },
    {
      "cell_type": "code",
      "execution_count": null,
      "metadata": {
        "_cell_guid": "a8bac903-c7da-254f-7f98-baf61ac30739"
      },
      "outputs": [],
      "source": [
        "df[df['Survived'] == 1].groupby(['Pclass']).size()"
      ]
    },
    {
      "cell_type": "code",
      "execution_count": null,
      "metadata": {
        "_cell_guid": "cb33454e-b323-a7a1-0921-a71f52444364"
      },
      "outputs": [],
      "source": [
        "df[df['Sex'] == 'female'].groupby(['Pclass']).size()"
      ]
    },
    {
      "cell_type": "code",
      "execution_count": null,
      "metadata": {
        "_cell_guid": "784c1fac-f1a1-81d9-f4c5-fcd841b584f5"
      },
      "outputs": [],
      "source": [
        "df[(df['Survived'] == 1) & (df['Sex'] == 'female')].groupby(['Pclass']).size()"
      ]
    },
    {
      "cell_type": "code",
      "execution_count": null,
      "metadata": {
        "_cell_guid": "1e0aa5cf-787c-859c-7ad4-9707354b3180"
      },
      "outputs": [],
      "source": [
        "# histogram in python with pylab\n",
        "import pylab as pl\n",
        "df['Age'].hist() # only generates the object\n",
        "pl.show()"
      ]
    },
    {
      "cell_type": "code",
      "execution_count": null,
      "metadata": {
        "_cell_guid": "86575d00-516b-f902-6d79-bf9312b01fb0"
      },
      "outputs": [],
      "source": [
        "df['Age'].dropna().hist(bins=20, range=(0, 80), alpha=.5)\n",
        "pl.show()"
      ]
    },
    {
      "cell_type": "markdown",
      "metadata": {
        "_cell_guid": "312322e8-cc3b-b8c5-23d2-15e332c6b615"
      },
      "source": [
        "## Data manipulation"
      ]
    },
    {
      "cell_type": "code",
      "execution_count": null,
      "metadata": {
        "_cell_guid": "1066c3ff-6304-a33f-d60e-f49c5e08e7a0"
      },
      "outputs": [],
      "source": [
        "# data manipulation\n",
        "df['gender'] = df['Sex'].map( lambda x: x[0].lower() ) \n",
        "\n",
        "df.head(5)"
      ]
    },
    {
      "cell_type": "code",
      "execution_count": null,
      "metadata": {
        "_cell_guid": "b5cf7466-4e10-26f1-eba4-a1d7518a2beb"
      },
      "outputs": [],
      "source": [
        "df['gender_num'] = df['Sex'].map( {'female':0, 'male':1} ).astype(int)\n",
        "df.dtypes"
      ]
    },
    {
      "cell_type": "code",
      "execution_count": null,
      "metadata": {
        "_cell_guid": "e4cce467-9e85-2117-4748-b8e12b671c72"
      },
      "outputs": [],
      "source": [
        "df['Age'].dropna().map( lambda x: round(x)).astype(int).min()\n",
        "df['Age'].dropna().map( lambda x: round(x)).astype(int).max()\n",
        "df['Age'].dropna().map( lambda x: round(x)).astype(int).values\n",
        "age_range = df['Age'].max() - df['Age'].min()"
      ]
    },
    {
      "cell_type": "code",
      "execution_count": null,
      "metadata": {
        "_cell_guid": "acdf00a1-9d54-89fa-a529-fde6e369c029"
      },
      "outputs": [],
      "source": [
        "df['age_fill'] = df['Age']"
      ]
    },
    {
      "cell_type": "code",
      "execution_count": null,
      "metadata": {
        "_cell_guid": "c1d470ea-398d-4ea1-faad-fbafc02d126a"
      },
      "outputs": [],
      "source": [
        "# generate a median age table to use for missing data imputation\n",
        "\n",
        "median_ages = np.zeros((2, 3)).astype(float)\n",
        "median_ages"
      ]
    },
    {
      "cell_type": "code",
      "execution_count": null,
      "metadata": {
        "_cell_guid": "123fccc2-d273-5148-5958-6974bb80cc04"
      },
      "outputs": [],
      "source": [
        "df['age_fill'].isnull().sum(0) # 177 rows have NaN"
      ]
    },
    {
      "cell_type": "code",
      "execution_count": null,
      "metadata": {
        "_cell_guid": "e9e835ec-f5e4-2148-fa13-f729e162b0d9"
      },
      "outputs": [],
      "source": [
        "class_range = df['Pclass'].max() - df['Pclass'].min() \n",
        "gender_range = df['gender_num'].max() - df['gender_num'].min()\n",
        "\n",
        "for i in range(0, gender_range + 1):\n",
        "        for j in range(0, class_range + 1):\n",
        "            median_ages[i, j] = df[(df['gender_num'] == i) & (df['Pclass'] == (j + 1))]['Age'].median()\n",
        "            df.loc[ (df['Age'].isnull() & (df['Pclass'] == (j + 1)) & (df['gender_num'] == i)), 'age_fill' ] = median_ages[i, j]\n",
        "            \n",
        "median_ages\n",
        "df['age_fill'].isnull().sum(0) # all filled"
      ]
    },
    {
      "cell_type": "code",
      "execution_count": null,
      "metadata": {
        "_cell_guid": "70540e36-e2ac-2edd-8502-e6ae3d1b83d9"
      },
      "outputs": [],
      "source": [
        "import pylab as pl\n",
        "df['age_fill'].hist()\n",
        "#df['Age'].hist()\n",
        "pl.show()"
      ]
    },
    {
      "cell_type": "code",
      "execution_count": null,
      "metadata": {
        "_cell_guid": "51fab6f9-de1b-ba97-9246-b7b899b292bb"
      },
      "outputs": [],
      "source": [
        "df[ df['Age'].isnull() ][ ['Age', 'Pclass', 'age_fill', 'Name', 'Sex', 'gender_num'] ].head(10)"
      ]
    },
    {
      "cell_type": "code",
      "execution_count": null,
      "metadata": {
        "_cell_guid": "b95f6dbf-827c-520f-e31c-2c9b6fa4f56d"
      },
      "outputs": [],
      "source": [
        "df[df.Embarked.isnull()]"
      ]
    },
    {
      "cell_type": "code",
      "execution_count": null,
      "metadata": {
        "_cell_guid": "145e7421-fabf-2a5e-8e51-d1408a18f5b1"
      },
      "outputs": [],
      "source": [
        "df.groupby('Embarked').size()"
      ]
    },
    {
      "cell_type": "code",
      "execution_count": null,
      "metadata": {
        "_cell_guid": "618fdc57-0b0d-eaa6-b9f6-04fa31634b75"
      },
      "outputs": [],
      "source": [
        "df['embarked_fill'] = df['Embarked']\n",
        "df.loc[df.embarked_fill.isnull(), 'embarked_fill'] = 'S'\n",
        "df['ageIsNull'] = df.Age.isnull().astype(int)"
      ]
    },
    {
      "cell_type": "code",
      "execution_count": null,
      "metadata": {
        "_cell_guid": "864cfa12-9b6b-1a66-7563-25fc5f2555ec"
      },
      "outputs": [],
      "source": [
        "# combo variables\n",
        "df['age*class'] = df['ageIsNull'] * df['Pclass']\n",
        "\n",
        "df['group_size'] = df['SibSp'] + df['Parch'] + 1"
      ]
    },
    {
      "cell_type": "code",
      "execution_count": null,
      "metadata": {
        "_cell_guid": "69b89d0e-67d5-cc22-64a3-11857915b45e"
      },
      "outputs": [],
      "source": [
        "df.dtypes[df.dtypes.map(lambda x: x == 'object')]"
      ]
    },
    {
      "cell_type": "code",
      "execution_count": null,
      "metadata": {
        "_cell_guid": "82e5e03e-6f19-e5a5-b8ab-381dd1f82243"
      },
      "outputs": [],
      "source": [
        "df['Fare'].median()\n",
        "df.loc[df['Fare'].isnull(), 'Fare'] = df['Fare'].median()"
      ]
    },
    {
      "cell_type": "code",
      "execution_count": null,
      "metadata": {
        "_cell_guid": "07923868-7efb-bc07-9346-ed88f37c9aae"
      },
      "outputs": [],
      "source": [
        "df_1 = df.drop(['PassengerId', 'Name', 'Sex', 'Ticket', 'Cabin', 'Embarked', 'gender', 'embarked_fill', 'Age', 'age*class'], axis=1, inplace=False)\n",
        "df_1.head()"
      ]
    },
    {
      "cell_type": "code",
      "execution_count": null,
      "metadata": {
        "_cell_guid": "e98e13c6-a24c-5846-b2d1-58da7b1173f4"
      },
      "outputs": [],
      "source": [
        "print(df_1.shape)\n",
        "print(train_data.shape)\n",
        "print(test_data.shape)"
      ]
    },
    {
      "cell_type": "code",
      "execution_count": null,
      "metadata": {
        "_cell_guid": "fd57091f-e24e-59dd-0fb0-22a924759b51"
      },
      "outputs": [],
      "source": [
        "df_1.isnull().sum(0)"
      ]
    },
    {
      "cell_type": "code",
      "execution_count": null,
      "metadata": {
        "_cell_guid": "fc1acfb6-8b54-ae4d-794d-499f7930877f"
      },
      "outputs": [],
      "source": [
        "print(df_1.isnull().sum(0))\n",
        "print(df_1.dtypes)"
      ]
    },
    {
      "cell_type": "markdown",
      "metadata": {
        "_cell_guid": "11edde63-6fc3-b51f-85ff-ae300f455c21"
      },
      "source": [
        "#### Survived is coded as object, must convert"
      ]
    },
    {
      "cell_type": "code",
      "execution_count": null,
      "metadata": {
        "_cell_guid": "76d404c9-69cd-8760-a9f9-c717031b1210"
      },
      "outputs": [],
      "source": [
        "df_1['survival'] = df_1['Survived']\n",
        "df_1['survival'] = df_1['survival'].apply(pd.to_numeric, errors='coerce')"
      ]
    },
    {
      "cell_type": "code",
      "execution_count": null,
      "metadata": {
        "_cell_guid": "d60dfe3f-ca44-2748-146c-76a8c2a91c73"
      },
      "outputs": [],
      "source": [
        "df_1.drop(['Survived'], axis=1, inplace=True)\n",
        "df_1.dtypes"
      ]
    },
    {
      "cell_type": "markdown",
      "metadata": {
        "_cell_guid": "51c0cd61-a091-f222-540c-3239c29d2175"
      },
      "source": [
        "## Prepare for SciKit-learn machine learning steps"
      ]
    },
    {
      "cell_type": "code",
      "execution_count": null,
      "metadata": {
        "_cell_guid": "79ad3dff-4c2e-9e4b-d1fc-500cb99577ca"
      },
      "outputs": [],
      "source": [
        "all = df_1.values"
      ]
    },
    {
      "cell_type": "code",
      "execution_count": null,
      "metadata": {
        "_cell_guid": "7ce278b5-e047-5774-8ed3-dc543a7cbb89"
      },
      "outputs": [],
      "source": [
        "train = all[:train_data.shape[0], :]\n",
        "test = all[train_data.shape[0]:df.shape[0], :]\n",
        "print(train.shape, test.shape)\n",
        "all[890, :]"
      ]
    },
    {
      "cell_type": "code",
      "execution_count": null,
      "metadata": {
        "_cell_guid": "ca351f89-3848-8332-e246-b1cf00af1e16"
      },
      "outputs": [],
      "source": [
        "from sklearn.ensemble import RandomForestClassifier \n",
        "\n",
        "model = RandomForestClassifier(n_estimators=100, min_samples_leaf=10, random_state=1)\n",
        "predictions = model.fit(np.delete(train, 8, axis=1), list(train[:, 8]))"
      ]
    },
    {
      "cell_type": "code",
      "execution_count": null,
      "metadata": {
        "_cell_guid": "2800ce98-da26-9b2e-11b4-06fbf9fe6157"
      },
      "outputs": [],
      "source": [
        "# Take the same decision trees and run it on the test data\n",
        "output = predictions.predict(np.delete(test, 8, axis=1))"
      ]
    },
    {
      "cell_type": "code",
      "execution_count": null,
      "metadata": {
        "_cell_guid": "2c33fa9d-9730-9159-4ed7-7659ae4eb646"
      },
      "outputs": [],
      "source": [
        "final = pd.DataFrame({'PassengerId': test_data.loc[:, 'PassengerId'], 'Survived': output})"
      ]
    },
    {
      "cell_type": "code",
      "execution_count": null,
      "metadata": {
        "_cell_guid": "ec4a466e-fa19-74b1-d776-4ec8eb5d9019"
      },
      "outputs": [],
      "source": [
        "final.tail()"
      ]
    },
    {
      "cell_type": "markdown",
      "metadata": {
        "_cell_guid": "06334695-7757-02ab-3a79-c919c9a78ed0"
      },
      "source": [
        "## Write output to csv"
      ]
    },
    {
      "cell_type": "code",
      "execution_count": null,
      "metadata": {
        "_cell_guid": "b8b5442c-ea85-fc4b-6b96-5f4886aa9077"
      },
      "outputs": [],
      "source": [
        "# DataFrame.to_csv()\n",
        "# final.to_csv(\"./data/kaggleTitanic21py.csv\", index=False)"
      ]
    },
    {
      "cell_type": "code",
      "execution_count": null,
      "metadata": {
        "_cell_guid": "25013ea6-651c-0a49-2979-b109a5c98ad2"
      },
      "outputs": [],
      "source": [
        "import time\n",
        "print(time.ctime())"
      ]
    },
    {
      "cell_type": "markdown",
      "metadata": {
        "_cell_guid": "76b6dd14-a2e2-ef4f-2d73-e5522de4a50c"
      },
      "source": [
        "## Improvements/To-do's\n",
        "\n",
        "1. additional feature engineering\n",
        "\n",
        "2. mean normalize some features\n",
        "\n",
        "3. setup cross-validation sets, and test performance\n",
        "\n",
        "4. other ML algorithms"
      ]
    },
    {
      "cell_type": "code",
      "execution_count": null,
      "metadata": {
        "_cell_guid": "2998e7dc-529f-9d1c-2aa2-051b34c51749"
      },
      "outputs": [],
      "source": [
        ""
      ]
    }
  ],
  "metadata": {
    "_change_revision": 0,
    "_is_fork": false,
    "kernelspec": {
      "display_name": "Python 3",
      "language": "python",
      "name": "python3"
    },
    "language_info": {
      "codemirror_mode": {
        "name": "ipython",
        "version": 3
      },
      "file_extension": ".py",
      "mimetype": "text/x-python",
      "name": "python",
      "nbconvert_exporter": "python",
      "pygments_lexer": "ipython3",
      "version": "3.6.0"
    }
  },
  "nbformat": 4,
  "nbformat_minor": 0
}