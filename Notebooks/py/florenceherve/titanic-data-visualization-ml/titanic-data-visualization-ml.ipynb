{
  "cells": [
    {
      "cell_type": "markdown",
      "metadata": {
        "_cell_guid": "a32daa22-556e-673b-9d7d-01b8706ad16e"
      },
      "source": [
        "This notebook is part of the final project of the Udacity course \"Intro to Data Analysis\". In this notebook I'll apply the concepts learned in class to visualize the Titanic data and test some hypotheses. In a second part, I'll set up a machine learning algorithm to try to predict the survival of a passenger using the information we have in the database.\n",
        "I used the following notebooks for help... thanks a ton to their authors !!\n",
        "1. 'A Journey through Titanic' https://www.kaggle.com/omarelgabry/titanic/a-journey-through-titanic/\n",
        "2. 'Machine Learning for Survival Prediction' https://www.kaggle.com/skywalkerhc/titanic/machine-learning-for-survival-prediction-2\n",
        "3. 'Kaggle-Titanic-001' https://www.kaggle.com/michielkalkman/titanic/kaggle-titanic-001"
      ]
    },
    {
      "cell_type": "code",
      "execution_count": null,
      "metadata": {
        "_cell_guid": "6a251210-3600-d3de-5562-453fb908b9f9"
      },
      "outputs": [],
      "source": [
        "# This Python 3 environment comes with many helpful analytics libraries installed\n",
        "# It is defined by the kaggle/python docker image: https://github.com/kaggle/docker-python\n",
        "# For example, here's several helpful packages to load in \n",
        "\n",
        "import numpy as np # linear algebra\n",
        "import pandas as pd # data processing, CSV file I/O (e.g. pd.read_csv)\n",
        "\n",
        "# Input data files are available in the \"../input/\" directory.\n",
        "# For example, running this (by clicking run or pressing Shift+Enter) will list the files in the input directory\n",
        "\n",
        "from subprocess import check_output\n",
        "print(check_output([\"ls\", \"../input\"]).decode(\"utf8\"))\n",
        "\n",
        "# Any results you write to the current directory are saved as output."
      ]
    },
    {
      "cell_type": "markdown",
      "metadata": {
        "_cell_guid": "cd5947d2-367e-7f85-dd45-b2c96f63478e"
      },
      "source": [
        "**1. Set Up**"
      ]
    },
    {
      "cell_type": "code",
      "execution_count": null,
      "metadata": {
        "_cell_guid": "7870ed3e-9d25-a815-ba26-8b872e735c3d"
      },
      "outputs": [],
      "source": [
        "# Imports\n",
        "import pandas as pd\n",
        "from pandas import Series,DataFrame\n",
        "\n",
        "# unicodecsv\n",
        "import unicodecsv\n",
        "\n",
        "# numpy, matplotlib, seaborn\n",
        "import seaborn as sns\n",
        "%matplotlib inline\n",
        "import matplotlib.pyplot as plt\n",
        "sns.set_style('whitegrid')\n",
        "import numpy as np\n",
        "\n",
        "# machine learning\n",
        "import sklearn\n",
        "from time import time\n",
        "from sklearn.metrics import accuracy_score\n",
        "from sklearn.cross_validation import train_test_split\n",
        "from sklearn.metrics import precision_score\n",
        "from sklearn.metrics import recall_score\n",
        "\n",
        "from sklearn import datasets, linear_model\n",
        "from sklearn.naive_bayes import GaussianNB #for Naive Bayes\n",
        "from sklearn import svm #for SVM\n",
        "from sklearn.svm import SVC #for SVM with 'rbf' kernel\n",
        "from sklearn import tree #for decision trees"
      ]
    },
    {
      "cell_type": "code",
      "execution_count": null,
      "metadata": {
        "_cell_guid": "cd60c5ac-4ab5-1a33-ce84-4cc3205d2ce5"
      },
      "outputs": [],
      "source": [
        "# Choose color palette for the seaborn graphs for the rest of the notebook:\n",
        "# Import color widget from seaborn:\n",
        "sns.choose_colorbrewer_palette (data_type='sequential', as_cmap=False)\n",
        "# Set color palette below:\n",
        "sns.set_palette(\"YlGnBu\", n_colors=5, desat=1, color_codes=False)\n",
        "\n",
        "# Matplotlib color codes can be found here: http://stackoverflow.com/questions/22408237/named-colors-in-matplotlib"
      ]
    },
    {
      "cell_type": "markdown",
      "metadata": {
        "_cell_guid": "56b743ea-8ba5-917e-ac5c-71ddf2b009d8"
      },
      "source": [
        "Read the file and clean the data"
      ]
    },
    {
      "cell_type": "code",
      "execution_count": null,
      "metadata": {
        "_cell_guid": "7a27c0e9-36f3-1e69-82c4-46f7dab7e326"
      },
      "outputs": [],
      "source": [
        "titanic_df = pd.read_csv(\"../input/train.csv\")\n",
        "test_df    = pd.read_csv(\"../input/test.csv\")\n",
        "# Preview the data\n",
        "titanic_df.head()"
      ]
    },
    {
      "cell_type": "code",
      "execution_count": null,
      "metadata": {
        "_cell_guid": "e4b546c5-2e13-3355-7d4d-5e95f776ee5e"
      },
      "outputs": [],
      "source": [
        "titanic_df.info()"
      ]
    },
    {
      "cell_type": "markdown",
      "metadata": {
        "_cell_guid": "9ff7408e-71d8-2869-64f8-868658b58236"
      },
      "source": [
        "From this I see that we have 891 rows in total, with 3 fields that are not populated everywhere: Age (714 rows filled), Cabin (only 204 rows) and Embarked (889 rows). Not all fields are in the right format as well ('Sex' for instance is an object), I will take care of this too in the next few steps.\n",
        "\n",
        "From an overview of the columns and fields available in titanic_df, it looks like the information in some columns is not relevant to our analysis of predicting the survival of a passenger. I would consider those fields to be irrelevant for now:\n",
        "1. Name\n",
        "2. Ticket\n",
        "3. Cabin\n",
        "4. Embarked\n",
        "\n",
        "I am going to drop those fields in the next step. Then I'll proceed to standardize the remaining data in the dataset before starting the analysis."
      ]
    },
    {
      "cell_type": "code",
      "execution_count": null,
      "metadata": {
        "_cell_guid": "e6fb2a78-db37-2d2c-d437-1706f8e8a973"
      },
      "outputs": [],
      "source": [
        "# Removing useless fields:\n",
        "titanic_df = titanic_df.drop(['Name','Ticket','Cabin','Embarked'],axis=1)\n",
        "test_df = test_df.drop(['Name','Ticket','Cabin','Embarked'],axis=1)\n",
        "titanic_df.info()"
      ]
    },
    {
      "cell_type": "code",
      "execution_count": null,
      "metadata": {
        "_cell_guid": "9d67d50d-e8d3-383a-988e-f1c46b7932e7"
      },
      "outputs": [],
      "source": [
        "# Changing the 'Sex' field from string to integer: 0 for male and 1 for female\n",
        "titanic_df.loc[titanic_df[\"Sex\"] == \"male\", \"Sex\"] = 0\n",
        "titanic_df.loc[titanic_df[\"Sex\"] == \"female\", \"Sex\"] = 1\n",
        "test_df.loc[test_df[\"Sex\"] == \"male\", \"Sex\"] = 0\n",
        "test_df.loc[test_df[\"Sex\"] == \"female\", \"Sex\"] = 1\n",
        "# Convert to int\n",
        "titanic_df['Sex'] = titanic_df['Sex'].astype(int)\n",
        "test_df['Sex'] = test_df['Sex'].astype(int)"
      ]
    },
    {
      "cell_type": "markdown",
      "metadata": {
        "_cell_guid": "a85652a8-4ddd-68ed-7722-9271b90f38e1"
      },
      "source": [
        "The biggest question now is what to do with the 'Age' field. 177 rows are not populated; excluding them from the analysis will greatly reduce the size of the dataset and possibly impair the training and testing of the machine learning classifiers. On the other hand, assigning random values to those fields might create a bias in the results. After reading through previous submissions I decided to create a new column, 'Age_filled', and fill the empty rows or N/As there with the median age of the passengers. I'll use this column for the classifiers in part 3., but the data visualization could still be done with the original values if needed."
      ]
    },
    {
      "cell_type": "code",
      "execution_count": null,
      "metadata": {
        "_cell_guid": "f41f54cc-a172-3ccf-05de-b8fa97ad99ce"
      },
      "outputs": [],
      "source": [
        "# Duplicate 'Age' column (for train dataset only)\n",
        "titanic_df['Age_filled'] = titanic_df['Age']\n",
        "\n",
        "# Fill N/As in 'Age_filled' column with median values\n",
        "titanic_df['Age_filled'] = titanic_df['Age_filled'].fillna(titanic_df['Age'].median())\n",
        "test_df['Age_filled'] = test_df['Age'].fillna(test_df['Age'].median())\n",
        "print (\"The median age for Titanic passengers is: \", titanic_df['Age'].median())\n",
        "\n",
        "# Convert from float to int\n",
        "titanic_df['Age_filled'] = titanic_df['Age_filled'].astype(int)\n",
        "test_df['Age_filled'] = test_df['Age_filled'].astype(int)"
      ]
    },
    {
      "cell_type": "code",
      "execution_count": null,
      "metadata": {
        "_cell_guid": "e360f206-c3f5-338b-eb45-01be3533a0ec"
      },
      "outputs": [],
      "source": [
        "# The two missing values in the 'Fare' column can also be filled with median values. \n",
        "# Fill N/As in 'Fare' column with median values\n",
        "print (\"The median fare for Titanic passengers is: \", titanic_df['Fare'].median())\n",
        "titanic_df['Fare'] = titanic_df['Fare'].fillna(titanic_df['Fare'].median())\n",
        "test_df['Fare'] = test_df['Fare'].fillna(test_df['Fare'].median())\n",
        "\n",
        "titanic_df.info()"
      ]
    },
    {
      "cell_type": "markdown",
      "metadata": {
        "_cell_guid": "cd6d60ae-d7cc-9378-540a-b99845aa628d"
      },
      "source": [
        "Query the data & Getting used to Panda Dataframes"
      ]
    },
    {
      "cell_type": "code",
      "execution_count": null,
      "metadata": {
        "_cell_guid": "4432f9ca-4741-6191-36cd-c23cfa9919e8"
      },
      "outputs": [],
      "source": [
        "# Survival function for counting survivors:\n",
        "def Survival(dataframe, field, value):\n",
        "    count = 0\n",
        "    for index, row in dataframe.iterrows():\n",
        "        if field == 0 and value == 0:\n",
        "            if row['Survived'] == 1:\n",
        "                count += 1\n",
        "        if row[field] == value and row['Survived'] == 1:\n",
        "            count +=1\n",
        "    return count\n",
        "\n",
        "print (Survival(titanic_df, 0, 0))\n",
        "print (Survival(titanic_df, \"Sex\", 0))"
      ]
    },
    {
      "cell_type": "code",
      "execution_count": null,
      "metadata": {
        "_cell_guid": "20b48846-3068-c369-b9b1-6e8ccc97bcdd"
      },
      "outputs": [],
      "source": [
        "# Looking for Jack & Rose:\n",
        "potential_Jacks = []\n",
        "potential_Roses = []\n",
        "\n",
        "for index, row in titanic_df.iterrows():\n",
        "    if row['Sex'] == 0 and row['Pclass'] == 3 and row['Survived'] == 0 and row['Age'] == 20:\n",
        "        potential_Jacks.append(row)\n",
        "    if row['Sex'] == 1 and row['Pclass'] == 1 and row['Survived'] == 1 and row['Age'] == 17:\n",
        "        potential_Roses.append(row)\n",
        "print (\"There are %s potential Jacks in our dataset\" % (len(potential_Jacks)))\n",
        "print (\"There are %s potential Roses in our dataset\" % (len(potential_Roses)))\n",
        "print (\"---------\")\n",
        "\n",
        "# Printing out different passengers:\n",
        "oldest_passenger = titanic_df.loc[titanic_df['Age'].idxmax()]\n",
        "print (\"The oldest passenger was %s years old.\" % oldest_passenger['Age'])\n",
        "youngest_passenger = titanic_df.loc[titanic_df['Age'].idxmin()]\n",
        "print (\"The youngest passenger was %s years old.\" % youngest_passenger['Age'])\n",
        "print (\"---------\")\n",
        "\n",
        "# Main fares:\n",
        "print (\"The cheapest fare cost %s dollars.\" % titanic_df.loc[titanic_df['Fare'].idxmin()]['Fare'])\n",
        "print (\"The most expensive one was %s dollars.\" % titanic_df.loc[titanic_df['Fare'].idxmax()]['Fare'])\n",
        "print (\"The mean fare was %s dollars.\" % titanic_df['Fare'].mean())"
      ]
    },
    {
      "cell_type": "markdown",
      "metadata": {
        "_cell_guid": "42709fd7-e310-accb-1d17-db505e095f2a"
      },
      "source": [
        "**2. Data Analysis and Visualization**"
      ]
    },
    {
      "cell_type": "markdown",
      "metadata": {
        "_cell_guid": "018b6b29-0314-a25e-95a4-2ea1825cc283"
      },
      "source": [
        "I would consider the following fields to be good predictors of survival on the Titanic - Let's investigate those one by one:\n",
        "Gender \"Sex\"\n",
        "Class \"Pclass\"\n",
        "Age\n",
        "Number of siblings on board \"SibSp\"\n",
        "Number of children on board \"Parch\""
      ]
    },
    {
      "cell_type": "markdown",
      "metadata": {
        "_cell_guid": "5cc0cf07-ca6d-f825-127b-72b268f565c8"
      },
      "source": [
        "*a. Gender*"
      ]
    },
    {
      "cell_type": "code",
      "execution_count": null,
      "metadata": {
        "_cell_guid": "4a974c7e-4e1b-a042-9ac7-23918e22014c"
      },
      "outputs": [],
      "source": [
        "female_live = Survival(titanic_df, \"Sex\", 1)\n",
        "male_live = Survival(titanic_df, \"Sex\", 0)\n",
        "female_all = 0\n",
        "male_all = 0\n",
        "\n",
        "for index, row in titanic_df.iterrows():\n",
        "    if row['Sex'] == 1:\n",
        "        female_all +=1\n",
        "    if row['Sex'] == 0:\n",
        "        male_all +=1\n",
        "\n",
        "female_die = female_all - female_live\n",
        "male_die = male_all - male_live\n",
        "print ('Survival rate / female: ', float(female_live) / float(female_all))\n",
        "print ('Survival rate / male: ', float(male_live) / float(male_all))"
      ]
    },
    {
      "cell_type": "code",
      "execution_count": null,
      "metadata": {
        "_cell_guid": "3e35a166-ef31-41a2-99e1-1207deffa84a"
      },
      "outputs": [],
      "source": [
        "# Original tutorial on http://matplotlib.org/examples/pylab_examples/bar_stacked.html\n",
        "\n",
        "# Version 1: show bars as 'Survived' and 'Did not survive'\n",
        "N = 2\n",
        "women_data = (female_live, female_die)\n",
        "men_data = (male_live, male_die)\n",
        "ind = np.arange(N)    # the x locations for the groups\n",
        "width = 0.45       # the width of the bars: can also be len(x) sequence\n",
        "\n",
        "p1 = plt.bar(ind, men_data, width, facecolor='darkslateblue', edgecolor='white', align='center')\n",
        "p2 = plt.bar(ind, women_data, width, facecolor='teal',edgecolor='white', bottom=men_data, align='center')\n",
        "\n",
        "plt.ylabel('# of people')\n",
        "plt.xticks(ind + width/2., ('Survived', 'Did not survive'))\n",
        "plt.legend((p1[0], p2[0]), ('Men', 'Women'), loc=\"upper left\")\n",
        "plt.show()\n",
        "\n",
        "# Version 2: show bars as 'Men' and 'Women'\n",
        "N = 2\n",
        "live_data = (female_live, male_live)\n",
        "die_data = (female_die, male_die)\n",
        "ind = np.arange(N)    # the x locations for the groups\n",
        "width = 0.45       # the width of the bars: can also be len(x) sequence\n",
        "\n",
        "p1 = plt.bar(ind, live_data, width, facecolor='darkslateblue', edgecolor='white', align='center')\n",
        "p2 = plt.bar(ind, die_data, width, facecolor='teal', edgecolor='white', bottom=live_data, align='center')\n",
        "\n",
        "plt.ylabel('# of people')\n",
        "plt.xticks(ind + width/2., ('Women', 'Men'))\n",
        "plt.legend((p1[0], p2[0]), ('Survived', 'Did not survive'), loc=\"upper left\")\n",
        "plt.show()"
      ]
    },
    {
      "cell_type": "markdown",
      "metadata": {
        "_cell_guid": "41a149ce-6822-e4f5-3272-4600dd12a0e2"
      },
      "source": [
        "There seem to be a much better survival rate among women than among men (74.2% vs 18.9%). Two possible explanations are: 1) \"Women and children first\" policy on lifeboats and 2) A higher proportion of women on 1st and 2nd class (which I anticipate have higher survival rates than 3rd class). Let's now investigate the survival rates within classes."
      ]
    },
    {
      "cell_type": "markdown",
      "metadata": {
        "_cell_guid": "96ab4106-1c02-37d7-95e0-c04dff5042aa"
      },
      "source": [
        "*b. Passenger Class*"
      ]
    },
    {
      "cell_type": "code",
      "execution_count": null,
      "metadata": {
        "_cell_guid": "bc5b5fd6-cc48-74ff-e241-59e1771cc2e0"
      },
      "outputs": [],
      "source": [
        "#Divide the Titanic data set into different classes\n",
        "def divide_pclass(dataframe, x):\n",
        "    new_pclass = 0\n",
        "    for index, row in dataframe.iterrows():\n",
        "        if row['Pclass'] == x:\n",
        "            new_pclass+= 1\n",
        "    return new_pclass\n",
        "\n",
        "first_class = divide_pclass(titanic_df, 1)\n",
        "second_class = divide_pclass(titanic_df, 2)\n",
        "third_class = divide_pclass(titanic_df, 3)\n",
        "\n",
        "#Check that all rows in the data set have been allocated to a class set:\n",
        "print (\"First class: \", first_class, \" Second class: \", second_class, \" Third class: \", third_class)\n",
        "print (\"Total number of passengers (should match to 891): \", first_class + second_class + third_class)"
      ]
    },
    {
      "cell_type": "code",
      "execution_count": null,
      "metadata": {
        "_cell_guid": "b37b701e-5e83-0fab-1ad4-99b15a7f351a"
      },
      "outputs": [],
      "source": [
        "from decimal import *\n",
        "getcontext().prec = 4\n",
        "\n",
        "# Print out basic distribution and survival rates accross classes:\n",
        "first_survived = Survival(titanic_df, \"Pclass\", 1)\n",
        "second_survived = Survival(titanic_df, \"Pclass\", 2)\n",
        "third_survived = Survival(titanic_df, \"Pclass\", 3)\n",
        "\n",
        "ratio_first_survival = Decimal(first_survived) / Decimal(first_class)\n",
        "ratio_second_survival = Decimal(second_survived) / Decimal(second_class)\n",
        "ratio_third_survival = Decimal(third_survived) / Decimal(third_class)\n",
        "\n",
        "# Note: use %s (and not %d) to show decimal places in survival rates\n",
        "print (\"%s of the first class passengers lived, meaning a survival rate of %s\" % (first_survived, Decimal(ratio_first_survival)))\n",
        "print (\"Regarding the second class, %s lived, meaning a survival rate of %s\" % (second_survived, Decimal(ratio_second_survival)))\n",
        "print (\"Finally, %s of the third class passengers lived, meaning a survival rate of %s\" % (third_survived, Decimal(ratio_third_survival)))"
      ]
    },
    {
      "cell_type": "code",
      "execution_count": null,
      "metadata": {
        "_cell_guid": "c59a369b-0fe1-ed6a-3208-a45e25e79b23"
      },
      "outputs": [],
      "source": [
        "# Simple bar charts from kaggle notebook https://www.kaggle.com/omarelgabry/titanic/a-journey-through-titanic/\n",
        "fig, (axis1,axis2) = plt.subplots(1,2,sharex=True,figsize=(10,5))\n",
        "\n",
        "# Version 1: simple count\n",
        "sns.countplot(x='Pclass', data=titanic_df, order=[1,2,3], ax=axis1)\n",
        "\n",
        "# Version 2: with mean\n",
        "# In dataframe: group by class, and get the mean for survived passengers for each value in Class\n",
        "pclass_surv_mean = titanic_df[[\"Pclass\", \"Survived\"]].groupby(['Pclass'],as_index=False).mean()\n",
        "# Plot the total number of passengers per class\n",
        "sns.barplot(x=\"Pclass\", y=\"Survived\", data=pclass_surv_mean, label=\"Total number of passengers\", order=[1,2,3], ax=axis2)"
      ]
    },
    {
      "cell_type": "markdown",
      "metadata": {
        "_cell_guid": "20933cb4-5b46-2c53-5079-f2d2cd38908b"
      },
      "source": [
        "*c. Age*"
      ]
    },
    {
      "cell_type": "code",
      "execution_count": null,
      "metadata": {
        "_cell_guid": "e4197e3c-0596-7b58-714f-9a82e1603536"
      },
      "outputs": [],
      "source": [
        "# I'm using the 'Age' column (with NAs) since it is the original data\n",
        "mean_age = titanic_df['Age'].mean()\n",
        "median_age = titanic_df['Age'].median()\n",
        "std_age = titanic_df['Age'].std()\n",
        "print (\"Key metrics:\")\n",
        "print (\"The mean age for Titanic passengers is %s; the median is %s and the std is %s.\"% (mean_age, median_age, std_age))\n",
        "\n",
        "# Plot Age values on an histogram\n",
        "titanic_df['Age'].hist(bins=80) #bins=80 as ages range from 0 to 80 years old\n",
        "\n",
        "plt.xlabel('Age')\n",
        "plt.ylabel('Frequency')\n",
        "plt.grid(True)\n",
        "plt.show()"
      ]
    },
    {
      "cell_type": "markdown",
      "metadata": {
        "_cell_guid": "cc2f3660-7696-291b-dbd8-7fa4b7074d9e"
      },
      "source": [
        "*d. Number of siblings and children*"
      ]
    },
    {
      "cell_type": "markdown",
      "metadata": {
        "_cell_guid": "ce71b9b2-c050-5d73-1e5c-8a2aefc12bb0"
      },
      "source": [
        "I'll combine the 'SibSp' and 'Parch' datapoints into a 'Family' indicator. The goal here would be to identify if having a family on board made you more or less likely to survive."
      ]
    },
    {
      "cell_type": "code",
      "execution_count": null,
      "metadata": {
        "_cell_guid": "a86ebdba-7ce0-751c-0967-d0453ed66ebb"
      },
      "outputs": [],
      "source": [
        "# Create a new 'Family' column in the dataframe:\n",
        "titanic_df['Family'] =  titanic_df['Parch'] + titanic_df['SibSp']\n",
        "test_df['Family'] =  test_df['Parch'] + test_df['SibSp']\n",
        "\n",
        "# This column sums up the values in 'Parch' and 'SibSp' columns. \n",
        "#I would like to make it a dummy variable, 0 for no family onboard and 1 for one.\n",
        "titanic_df.loc[titanic_df['Family'] >= 1, 'Family'] = 1\n",
        "titanic_df.loc[titanic_df['Family'] == 0, 'Family'] = 0\n",
        "test_df.loc[test_df['Family'] >= 1, 'Family'] = 1\n",
        "test_df.loc[test_df['Family'] == 0, 'Family'] = 0\n",
        "# Convert to int\n",
        "titanic_df['Family'] = titanic_df['Family'].astype(int)\n",
        "test_df['Family'] = test_df['Family'].astype(int)"
      ]
    },
    {
      "cell_type": "code",
      "execution_count": null,
      "metadata": {
        "_cell_guid": "81eead7e-2738-e7c4-7cbb-67d9c80608df"
      },
      "outputs": [],
      "source": [
        "fig, (axis1,axis2) = plt.subplots(1,2,sharex=True,figsize=(10,5))\n",
        "\n",
        "# Version 1: simple count\n",
        "sns.countplot(x='Family', data=titanic_df, order=[1,0], ax=axis1)\n",
        "\n",
        "# Version 2: with mean\n",
        "# In dataframe: group by class, and get the mean for survived passengers for each value in Class\n",
        "family_surv_mean = titanic_df[[\"Family\", \"Survived\"]].groupby(['Family'],as_index=False).mean()\n",
        "# Plot the total number of passengers per class\n",
        "sns.barplot(x=\"Family\", y=\"Survived\", data=family_surv_mean, order=[1,0], ax=axis2)\n",
        "\n",
        "axis1.set_xticklabels([\"Family\",\"Alone\"], rotation=0)"
      ]
    },
    {
      "cell_type": "markdown",
      "metadata": {
        "_cell_guid": "895bc2e3-6f54-3ffb-76e7-b842587d2aab"
      },
      "source": [
        "Those conclusions could be drawn from the 'Women and children first' rules for the lifeboats. Next I decide to isolate the types of passengers less likely to survive - that is, adult men - and see if the adult men with a family onboard were indeed more likely to survive."
      ]
    },
    {
      "cell_type": "code",
      "execution_count": null,
      "metadata": {
        "_cell_guid": "31ec1d80-f1b3-b9e0-ebd1-19cf643913a4"
      },
      "outputs": [],
      "source": [
        "# Dividing men above 18 years old into two groups:\n",
        "men_alone = 0\n",
        "men_family = 0\n",
        "men_alone_1 = 0\n",
        "men_family_1 = 0\n",
        "\n",
        "for index, row in titanic_df.iterrows():\n",
        "    if row['Sex'] == 0 and row['Family'] == 0 and row['Age'] >= 18:\n",
        "        men_alone += 1\n",
        "        if row['Survived'] == 1:\n",
        "            men_alone_1 += 1\n",
        "    if row['Sex'] == 0 and row['Family'] == 1 and row['Age'] >= 18:\n",
        "        men_family += 1\n",
        "        if row['Survived'] == 1:\n",
        "            men_family_1 += 1\n",
        "print (\"There are %s men alone and %s men with family in our dataset.\" % (men_alone, men_family))\n",
        "print (\"---------\")\n",
        "\n",
        "# Survival rates in the two groups:\n",
        "print ('Survival rate / men alone: ', float(men_alone_1) / float(men_alone))\n",
        "print ('Survival rate / men with family: ', float(men_family_1) / float(men_family))"
      ]
    },
    {
      "cell_type": "markdown",
      "metadata": {
        "_cell_guid": "bb392b16-612e-00d9-3eed-1bc248627ba9"
      },
      "source": [
        "**3. Machine Learning**"
      ]
    },
    {
      "cell_type": "markdown",
      "metadata": {
        "_cell_guid": "80c2bc3f-59e0-2ce7-3d7e-992efca9fcb7"
      },
      "source": [
        "Dividing the data into test and train datasets"
      ]
    },
    {
      "cell_type": "code",
      "execution_count": null,
      "metadata": {
        "_cell_guid": "503ca700-8b10-0fb2-46bf-a603722b105b"
      },
      "outputs": [],
      "source": [
        "\"\"\"\n",
        "Dividing the data between training and testing datasets: \n",
        "1. Removing 'Survived' from the features (as this is what we are trying to predict)\n",
        "2. Removing 'Age' column to keep only 'Age_filled'\n",
        "\"\"\" \n",
        "features_train = titanic_df.drop([\"Survived\", \"Age\"],axis=1)\n",
        "labels_train = titanic_df[\"Survived\"]\n",
        "features_test  = test_df.drop(\"Age\", axis=1).copy()"
      ]
    },
    {
      "cell_type": "markdown",
      "metadata": {
        "_cell_guid": "05ea8b19-82d6-e84a-6406-ac6ce5275f67"
      },
      "source": [
        "*a. Logistic Regression*"
      ]
    },
    {
      "cell_type": "code",
      "execution_count": null,
      "metadata": {
        "_cell_guid": "652db688-1733-75c5-3db8-c61ef01dd4c4"
      },
      "outputs": [],
      "source": [
        "\"\"\"\n",
        "from sklearn import datasets, linear_model\n",
        "\n",
        "logreg = linear_model.LogisticRegression()\n",
        "logreg.fit(features_train, labels_train)\n",
        "\n",
        "#print('Coefficient:', logreg.coef_)\n",
        "print('Intercept:', logreg.intercept_)\n",
        "print('Score on train data:', logreg.score(features_train, labels_train))\n",
        "#print('Score on test data:', logreg.score(features_test, labels_test))\n",
        "\n",
        "# get Correlation Coefficient for each feature using Logistic Regression\n",
        "coeff_df = DataFrame(titanic_df.columns.delete(0))\n",
        "coeff_df.columns = ['Features']\n",
        "coeff_df[\"Coefficient Estimate\"] = pd.Series(logreg.coef_[0])\n",
        "print (coeff_df)\n",
        "\"\"\""
      ]
    },
    {
      "cell_type": "markdown",
      "metadata": {
        "_cell_guid": "f754beec-93d4-eaf9-491b-f269a68d5338"
      },
      "source": [
        "*b. Naive Bayes*"
      ]
    },
    {
      "cell_type": "code",
      "execution_count": null,
      "metadata": {
        "_cell_guid": "9dc19795-f194-a495-c789-e2cdd11b0541"
      },
      "outputs": [],
      "source": [
        "\n",
        "\"\"\"\n",
        "from sklearn.naive_bayes import GaussianNB\n",
        "from sklearn.metrics import precision_score\n",
        "from sklearn.metrics import recall_score\n",
        "\n",
        "clf = GaussianNB()\n",
        "\n",
        "t0 = time()\n",
        "clf.fit(features_train, labels_train)\n",
        "print (\"training time:\", round(time()-t0, 3), \"s\")\n",
        "\n",
        "t0 = time()\n",
        "pred = clf.predict(features_test)\n",
        "print (\"prediction time:\", round(time()-t0, 3), \"s\")\n",
        "print (\"---------\")\n",
        "\n",
        "print (clf.score(features_train, labels_train))\n",
        "#print (\"Accuracy score: \", accuracy_score(pred, labels_test))\n",
        "\n",
        "#precision = precision_score(labels_test, pred)\n",
        "#print (\"Precision: \", precision)\n",
        "\n",
        "#recall = recall_score(labels_test, pred)\n",
        "#print (\"Recall: \", recall)\n",
        "\n",
        "# Calculate F1 score:\n",
        "#f1 = 2 * (precision * recall) / (precision + recall)\n",
        "#print (\"The F1 score is: \", f1)\n",
        "\"\"\""
      ]
    },
    {
      "cell_type": "markdown",
      "metadata": {
        "_cell_guid": "12f4362e-8dbf-5d9b-866b-1d93c719e27d"
      },
      "source": [
        "*c. SVM*"
      ]
    },
    {
      "cell_type": "code",
      "execution_count": null,
      "metadata": {
        "_cell_guid": "aba1dfbd-5723-e8cb-e60d-321c145d7eec"
      },
      "outputs": [],
      "source": [
        "\"\"\"\n",
        "from sklearn import svm\n",
        "\n",
        "clf = svm.SVC(kernel = 'linear')\n",
        "t0 = time()\n",
        "clf.fit(features_train, labels_train) \n",
        "print (\"training time:\", round(time()-t0, 3), \"s\")\n",
        "\n",
        "t0 = time()\n",
        "pred = clf.predict(features_test)\n",
        "print (\"prediction time:\", round(time()-t0, 3), \"s\")\n",
        "print (\"---------\")\n",
        "\n",
        "print (clf.score(features_train, labels_train))\n",
        "\"\"\""
      ]
    },
    {
      "cell_type": "markdown",
      "metadata": {
        "_cell_guid": "629ea1a8-7acf-9eca-a466-651b145d0ef7"
      },
      "source": [
        "*d. Decision Tree*"
      ]
    },
    {
      "cell_type": "code",
      "execution_count": null,
      "metadata": {
        "_cell_guid": "c622489c-aa56-7f72-fc7a-6cd2ae1932d5"
      },
      "outputs": [],
      "source": [
        "# Adjusting min_samples_split\n",
        "\n",
        "from sklearn import tree\n",
        "\n",
        "clf = tree.DecisionTreeClassifier(min_samples_split=10)\n",
        "\n",
        "t0 = time()\n",
        "clf = clf.fit(features_train, labels_train)\n",
        "print (\"training time:\", round(time()-t0, 3), \"s\")\n",
        "\n",
        "t0 = time()\n",
        "pred = clf.predict(features_test)\n",
        "print (\"prediction time:\", round(time()-t0, 3), \"s\")\n",
        "print (\"---------\")\n",
        "\n",
        "print (clf.score(features_train, labels_train))"
      ]
    },
    {
      "cell_type": "code",
      "execution_count": null,
      "metadata": {
        "_cell_guid": "5b8b5605-e4f1-0410-751d-f680b2d420e5"
      },
      "outputs": [],
      "source": [
        "\"\"\"\n",
        "#print clf.feature_importances_\n",
        "important_features = []\n",
        "for x,i in enumerate(clf.feature_importances_):\n",
        "    if i>0.2:\n",
        "        important_features.append([str(x),str(i)])\n",
        "        #print (x,i)\n",
        "    print (important_features)\n",
        "\"\"\""
      ]
    },
    {
      "cell_type": "code",
      "execution_count": null,
      "metadata": {
        "_cell_guid": "1534dd74-542b-8f77-401d-cef41362aa03"
      },
      "outputs": [],
      "source": [
        "submission = pd.DataFrame({\n",
        "        \"PassengerId\": test_df[\"PassengerId\"],\n",
        "        \"Survived\": pred\n",
        "    })\n",
        "submission.to_csv('titanic.csv', index=False)"
      ]
    },
    {
      "cell_type": "code",
      "execution_count": null,
      "metadata": {
        "_cell_guid": "2c522783-b065-75c7-d7bc-88800a030d75"
      },
      "outputs": [],
      "source": [
        "submission = pd.DataFrame({\n",
        "        \"PassengerId\": test_df[\"PassengerId\"],\n",
        "        \"Survived\": pred\n",
        "    })\n",
        "submission.to_csv('titanic.csv', index=False)"
      ]
    }
  ],
  "metadata": {
    "_change_revision": 0,
    "_is_fork": false,
    "kernelspec": {
      "display_name": "Python 3",
      "language": "python",
      "name": "python3"
    },
    "language_info": {
      "codemirror_mode": {
        "name": "ipython",
        "version": 3
      },
      "file_extension": ".py",
      "mimetype": "text/x-python",
      "name": "python",
      "nbconvert_exporter": "python",
      "pygments_lexer": "ipython3",
      "version": "3.5.2"
    }
  },
  "nbformat": 4,
  "nbformat_minor": 0
}