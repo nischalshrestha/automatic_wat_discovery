{
  "cells": [
    {
      "cell_type": "markdown",
      "metadata": {
        "_cell_guid": "e308bc00-85be-7c50-a9df-d655821a7c53"
      },
      "source": [
        "Titanic Survival Model"
      ]
    },
    {
      "cell_type": "code",
      "execution_count": null,
      "metadata": {
        "_cell_guid": "0fe47eeb-d969-865b-37a6-a33f62a3f787"
      },
      "outputs": [],
      "source": [
        "# This Python 3 environment comes with many helpful analytics libraries installed\n",
        "# It is defined by the kaggle/python docker image: https://github.com/kaggle/docker-python\n",
        "# For example, here's several helpful packages to load in \n",
        "\n",
        "import numpy as np # linear algebra\n",
        "import pandas as pd # data processing, CSV file I/O (e.g. pd.read_csv)\n",
        "\n",
        "# Input data files are available in the \"../input/\" directory.\n",
        "# For example, running this (by clicking run or pressing Shift+Enter) will list the files in the input directory\n",
        "\n",
        "from subprocess import check_output\n",
        "print(check_output([\"ls\", \"../input\"]).decode(\"utf8\"))\n",
        "\n",
        "# Any results you write to the current directory are saved as output."
      ]
    },
    {
      "cell_type": "code",
      "execution_count": null,
      "metadata": {
        "_cell_guid": "a728b4a3-5754-4154-bc36-618e0013a59e"
      },
      "outputs": [],
      "source": [
        "train = pd.read_csv('../input/train.csv')"
      ]
    },
    {
      "cell_type": "markdown",
      "metadata": {
        "_cell_guid": "8001a5b0-03dd-3339-f775-e321895abbdf"
      },
      "source": [
        "Drop columns that logically shouldn't matter or are mostly null:"
      ]
    },
    {
      "cell_type": "code",
      "execution_count": null,
      "metadata": {
        "_cell_guid": "1b1054e6-66d0-5411-4583-f5eb32132417"
      },
      "outputs": [],
      "source": [
        "train.drop(['PassengerId', 'Name', 'Cabin', 'Embarked', 'Ticket', 'Fare'], axis=1, inplace=True)"
      ]
    },
    {
      "cell_type": "markdown",
      "metadata": {
        "_cell_guid": "774b78a7-f6dd-8b4a-f61b-b72a1c5e321d"
      },
      "source": [
        "Convert sex into a dummy varible so we can regress on it:"
      ]
    },
    {
      "cell_type": "code",
      "execution_count": null,
      "metadata": {
        "_cell_guid": "48ed22a3-4b4c-e364-34d5-7b6784ef1756"
      },
      "outputs": [],
      "source": [
        "train['Male'] = pd.get_dummies(train['Sex'])['male']\n",
        "train.drop('Sex', axis=1, inplace=True)"
      ]
    },
    {
      "cell_type": "markdown",
      "metadata": {
        "_cell_guid": "e0d778fb-e288-57dc-f2d6-bd38c5ffaccb"
      },
      "source": [
        "Let's create another dummy that indicates whether they were a child or not:"
      ]
    },
    {
      "cell_type": "code",
      "execution_count": null,
      "metadata": {
        "_cell_guid": "8cfe08f0-3383-8cd8-6601-63307e4da90b"
      },
      "outputs": [],
      "source": [
        "train['Child'] = train.apply(lambda row: row['Age'] <= 12.0, axis=1)\n",
        "train.drop('Age', inplace=True, axis=1)"
      ]
    },
    {
      "cell_type": "markdown",
      "metadata": {
        "_cell_guid": "0af91d03-88f6-15c6-27b1-e142a9cb14a1"
      },
      "source": [
        "Instead of regressing on family sizes, let's create a dummy indicating whether the person had any family"
      ]
    },
    {
      "cell_type": "code",
      "execution_count": null,
      "metadata": {
        "_cell_guid": "85b715da-b856-e93f-6c98-f03fd1320bc2"
      },
      "outputs": [],
      "source": [
        "train['SibsSp'] = train.apply(lambda row: row['SibSp'] > 0, axis=1)\n",
        "train['Parch'] = train.apply(lambda row: row['Parch'] > 0, axis=1)"
      ]
    },
    {
      "cell_type": "markdown",
      "metadata": {
        "_cell_guid": "0029b403-b5e6-3473-1498-7b71600ba1e6"
      },
      "source": [
        "Separate y values:"
      ]
    },
    {
      "cell_type": "code",
      "execution_count": null,
      "metadata": {
        "_cell_guid": "4c77a15b-9916-ee49-e6cd-0c3dd748b9ff"
      },
      "outputs": [],
      "source": [
        "labels = train['Survived']\n",
        "train.drop('Survived', axis=1, inplace=True)"
      ]
    },
    {
      "cell_type": "markdown",
      "metadata": {
        "_cell_guid": "5d787fa4-91f5-f328-4199-f059445e14d1"
      },
      "source": [
        "Import various models to try out:"
      ]
    },
    {
      "cell_type": "code",
      "execution_count": null,
      "metadata": {
        "_cell_guid": "0aa6154c-20b0-3bde-ab82-2e8b07c56338"
      },
      "outputs": [],
      "source": [
        "from sklearn.ensemble import RandomForestClassifier\n",
        "from sklearn.svm import SVC\n",
        "from sklearn.tree import DecisionTreeClassifier\n",
        "from sklearn.naive_bayes import GaussianNB\n",
        "from sklearn.model_selection import KFold"
      ]
    },
    {
      "cell_type": "markdown",
      "metadata": {
        "_cell_guid": "2dd787d3-daf3-acf6-ad5c-caeb1db7bc11"
      },
      "source": [
        "Do a KFold validation for each of our candidate models, then print the best:"
      ]
    },
    {
      "cell_type": "code",
      "execution_count": null,
      "metadata": {
        "_cell_guid": "e2fcdb38-0d98-6e37-1800-6d912e4386bf"
      },
      "outputs": [],
      "source": [
        "splits = KFold(n_splits=5, shuffle=True)\n",
        "for model in [RandomForestClassifier(), SVC(), DecisionTreeClassifier(), GaussianNB()]:\n",
        "    print(model)\n",
        "    print(np.mean([model.fit(train.iloc[tr], labels.iloc[tr]).score(train.iloc[te], labels.iloc[te]) for tr, te in splits.split(train, labels)]))"
      ]
    },
    {
      "cell_type": "markdown",
      "metadata": {
        "_cell_guid": "1c1fcc1f-03a0-2137-1747-027ad19b85ec"
      },
      "source": [
        "It definitely looks like Support Vectors are performing the best here, so that is the model we will use for our predictions on the test data."
      ]
    },
    {
      "cell_type": "markdown",
      "metadata": {
        "_cell_guid": "07e66844-f75d-a79e-c3d6-3bacc7a044de"
      },
      "source": [
        "Performing data massaging on the test data:"
      ]
    },
    {
      "cell_type": "code",
      "execution_count": null,
      "metadata": {
        "_cell_guid": "79b85e57-6a29-aa31-e0f9-bb2922f080cf"
      },
      "outputs": [],
      "source": [
        "test = pd.read_csv('../input/test.csv')\n",
        "test.drop(['Name', 'Cabin', 'Embarked', 'Ticket', 'Fare'], axis=1, inplace=True)\n",
        "test['Male'] = pd.get_dummies(test['Sex'])['male']\n",
        "test.drop('Sex', axis=1, inplace=True)\n",
        "test['Child'] = test.apply(lambda row: row['Age'] <= 12.0, axis=1)\n",
        "test.drop('Age', inplace=True, axis=1)\n",
        "test['SibsSp'] = test.apply(lambda row: row['SibSp'] > 0, axis=1)\n",
        "test['Parch'] = test.apply(lambda row: row['Parch'] > 0, axis=1)\n"
      ]
    },
    {
      "cell_type": "markdown",
      "metadata": {
        "_cell_guid": "a8baab74-8253-d184-1ada-0ca2315d370c"
      },
      "source": [
        "Predict the survival values and write them to a csv file:"
      ]
    },
    {
      "cell_type": "code",
      "execution_count": null,
      "metadata": {
        "_cell_guid": "1dfb1e33-f8eb-5fec-748e-2f5a0c3d067c"
      },
      "outputs": [],
      "source": [
        "submission = pd.DataFrame({\n",
        "        \"PassengerId\": test['PassengerId'],\n",
        "        \"Survived\": SVC().fit(train, labels).predict(test.drop('PassengerId', axis=1))\n",
        "    })\n",
        "submission.to_csv('titanic.csv', index=False)"
      ]
    }
  ],
  "metadata": {
    "_change_revision": 0,
    "_is_fork": false,
    "kernelspec": {
      "display_name": "Python 3",
      "language": "python",
      "name": "python3"
    },
    "language_info": {
      "codemirror_mode": {
        "name": "ipython",
        "version": 3
      },
      "file_extension": ".py",
      "mimetype": "text/x-python",
      "name": "python",
      "nbconvert_exporter": "python",
      "pygments_lexer": "ipython3",
      "version": "3.5.2"
    }
  },
  "nbformat": 4,
  "nbformat_minor": 0
}