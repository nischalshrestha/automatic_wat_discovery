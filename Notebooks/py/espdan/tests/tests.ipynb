{
  "cells": [
    {
      "cell_type": "code",
      "execution_count": null,
      "metadata": {
        "_cell_guid": "6e4b23e7-d507-f681-d11b-6648030fd776"
      },
      "outputs": [],
      "source": [
        "#Load the packages that we will use\n",
        "import pandas as pd\n",
        "import numpy as np\n",
        "import csv as csv\n",
        "from sklearn import ensemble\n",
        "from sklearn import tree "
      ]
    },
    {
      "cell_type": "code",
      "execution_count": null,
      "metadata": {
        "_cell_guid": "93e3e5db-80b9-9874-0fe7-114fe8f51cc0"
      },
      "outputs": [],
      "source": [
        "#Finding the working directory\n",
        "import os\n",
        "os.getcwd()"
      ]
    },
    {
      "cell_type": "code",
      "execution_count": null,
      "metadata": {
        "_cell_guid": "06814bfd-c6a7-2f41-d6df-9d40ff2243a2"
      },
      "outputs": [],
      "source": [
        "#Check what files are in the working directory\n",
        "from subprocess import check_output\n",
        "print(check_output([\"ls\", \"../working\"]).decode(\"utf8\"))"
      ]
    },
    {
      "cell_type": "code",
      "execution_count": null,
      "metadata": {
        "_cell_guid": "17b13f44-df28-ada1-63c2-99e2b804b480"
      },
      "outputs": [],
      "source": [
        "#Check what files are in the working directory\n",
        "from subprocess import check_output\n",
        "print(check_output([\"ls\", \"../input\"]).decode(\"utf8\"))"
      ]
    },
    {
      "cell_type": "code",
      "execution_count": null,
      "metadata": {
        "_cell_guid": "c304674e-cd97-096f-8ec6-1f78cfecb3a3"
      },
      "outputs": [],
      "source": [
        "#Change it if not conveninent\n",
        "os.chdir('/kaggle/input')\n",
        "\n",
        "#Verify it has been changed successfully\n",
        "import os\n",
        "os.getcwd()"
      ]
    },
    {
      "cell_type": "code",
      "execution_count": null,
      "metadata": {
        "_cell_guid": "956aa977-ed5f-a6a4-b838-e6f3ec344897"
      },
      "outputs": [],
      "source": [
        "train_df = pd.read_csv('train.csv', header=0)"
      ]
    },
    {
      "cell_type": "code",
      "execution_count": null,
      "metadata": {
        "_cell_guid": "6303f494-f2a1-7189-9a37-f2f3be98c694"
      },
      "outputs": [],
      "source": [
        "whos"
      ]
    },
    {
      "cell_type": "code",
      "execution_count": null,
      "metadata": {
        "_cell_guid": "6fcc353d-317f-1aed-f04a-920619ec7af6"
      },
      "outputs": [],
      "source": [
        "#Count number of rows and columns\n",
        "train_df.shape"
      ]
    },
    {
      "cell_type": "code",
      "execution_count": null,
      "metadata": {
        "_cell_guid": "bda35f8a-e8bb-ac16-2f9c-6ace5f125df1"
      },
      "outputs": [],
      "source": [
        "#Geet information about the variables in the dataframe\n",
        "train_df.info()"
      ]
    },
    {
      "cell_type": "code",
      "execution_count": null,
      "metadata": {
        "_cell_guid": "6bcccc46-807b-0add-8f69-9c815ca15e30"
      },
      "outputs": [],
      "source": [
        "#Inspect a statistical summary of the dataframe\n",
        "train_df.describe().transpose()\n",
        "#But not all of the variables show up!"
      ]
    },
    {
      "cell_type": "code",
      "execution_count": null,
      "metadata": {
        "_cell_guid": "e90920ce-072d-1314-4695-4eb56e1eaf87"
      },
      "outputs": [],
      "source": [
        "#Checking the type of variables in the dataframe\n",
        "train_df.dtypes"
      ]
    },
    {
      "cell_type": "code",
      "execution_count": null,
      "metadata": {
        "_cell_guid": "1169daa6-5dd7-a1b6-aa2f-62a071d8bf19"
      },
      "outputs": [],
      "source": [
        "#Inspect first rows\n",
        "train_df.head(5)"
      ]
    },
    {
      "cell_type": "code",
      "execution_count": null,
      "metadata": {
        "_cell_guid": "2f1eff5f-f8ac-08e1-8334-5f86c659f5aa"
      },
      "outputs": [],
      "source": [
        "#Inspect last rows\n",
        "train_df.tail(5)"
      ]
    },
    {
      "cell_type": "code",
      "execution_count": null,
      "metadata": {
        "_cell_guid": "4e37a2f3-9d0d-c5b3-95d9-222630126b3b"
      },
      "outputs": [],
      "source": [
        "# I need to convert all strings to integer classifiers.\n",
        "# I need to fill in the missing values of the data and make it complete.\n",
        "# female = 0, Male = 1\n",
        "train_df['Gender'] = train_df['Sex'].map( {'female': 0, 'male': 1} ).astype(int)"
      ]
    },
    {
      "cell_type": "code",
      "execution_count": null,
      "metadata": {
        "_cell_guid": "22e0d267-5e3d-05e8-a111-e903ce1fee08"
      },
      "outputs": [],
      "source": [
        "# All the ages with no data -> make the median of all Ages\n",
        "median_age = train_df['Age'].dropna().median()\n",
        "if len(train_df.Age[ train_df.Age.isnull() ]) > 0:\n",
        "    train_df.loc[ (train_df.Age.isnull()), 'Age'] = median_age"
      ]
    },
    {
      "cell_type": "code",
      "execution_count": null,
      "metadata": {
        "_cell_guid": "2ef006a4-1141-03e7-ef20-5b455547b9d4"
      },
      "outputs": [],
      "source": [
        "# All missing Embarked -> just make them embark from most common place\n",
        "mode_embark = train_df['Embarked'].dropna().mode().values\n",
        "\n",
        "if len(train_df.Embarked[ train_df.Embarked.isnull() ]) > 0:\n",
        "    train_df.loc[ (train_df.Embarked.isnull()),'Embarked' ] = mode_embark"
      ]
    },
    {
      "cell_type": "code",
      "execution_count": null,
      "metadata": {
        "_cell_guid": "0f4a1839-18d1-7429-2881-a5f463d7708e"
      },
      "outputs": [],
      "source": [
        "# Embarked from 'C', 'Q', 'S'\n",
        "# Note this is not ideal: in translating categories to numbers, Port \"2\" is not 2 times greater than Port \"1\", etc.Ports = list(enumerate(np.unique(train_df['Embarked'])))    # determine all values of Embarked,\n",
        "Ports = list(enumerate(np.unique(train_df['Embarked'])))    # determine all values of Embarked,\n",
        "Ports_dict = { name : i for i, name in Ports }              # set up a dictionary in the form  Ports : index\n",
        "train_df.Embarked = train_df.Embarked.map( lambda x: Ports_dict[x]).astype(int)     # Convert all Embark strings to int"
      ]
    },
    {
      "cell_type": "code",
      "execution_count": null,
      "metadata": {
        "_cell_guid": "7510088a-eeef-57b6-63a4-02394ada3133"
      },
      "outputs": [],
      "source": [
        "# All the missing Fares -> assume median of their respective class\n",
        "if len(train_df.Fare[ train_df.Fare.isnull() ]) > 0:\n",
        "    median_fare = np.zeros(3)\n",
        "    for f in range(0,3):                                              # loop 0 to 2\n",
        "        median_fare[f] = train_df[ train_df.Pclass == f+1 ]['Fare'].dropna().median()\n",
        "    for f in range(0,3):                                              # loop 0 to 2\n",
        "        train_df.loc[ (train_df.Fare.isnull()) & (train_df.Pclass == f+1 ), 'Fare'] = median_fare[f]"
      ]
    },
    {
      "cell_type": "code",
      "execution_count": null,
      "metadata": {
        "_cell_guid": "554b42ec-8711-9387-9a51-2fa16778b6fd"
      },
      "outputs": [],
      "source": [
        "# Remove the Name column, Cabin, Ticket, and Sex (since I copied and filled it to Gender)\n",
        "train_df = train_df.drop(['Name', 'Sex', 'Ticket', 'Cabin', 'PassengerId'], axis=1) "
      ]
    },
    {
      "cell_type": "code",
      "execution_count": null,
      "metadata": {
        "_cell_guid": "9e4e7257-ea47-0139-f4b9-7548cb902637"
      },
      "outputs": [],
      "source": [
        "# Data cleanup\n",
        "# TEST DATA\n",
        "test_df = pd.read_csv('test.csv', header=0)        # Load the test file into a dataframe\n",
        "\n",
        "# I need to do the same with the test data now, so that the columns are the same as the training data\n",
        "# I need to convert all strings to integer classifiers:\n",
        "# female = 0, Male = 1\n",
        "test_df['Gender'] = test_df['Sex'].map( {'female': 0, 'male': 1} ).astype(int)\n",
        "\n",
        "# All the ages with no data -> make the median of all Ages\n",
        "median_age = test_df['Age'].dropna().median()\n",
        "if len(test_df.Age[ test_df.Age.isnull() ]) > 0:\n",
        "    test_df.loc[ (test_df.Age.isnull()), 'Age'] = median_age\n",
        "    \n",
        "# All missing Embarked -> just make them embark from most common place\n",
        "mode_embark = test_df['Embarked'].dropna().mode().values\n",
        "if len(test_df.Embarked[ test_df.Embarked.isnull() ]) > 0:\n",
        "    test_df.loc[ (test_df.Embarked.isnull()),'Embarked' ] = mode_embark\n",
        "\n",
        "# Again convert all Embarked strings to int\n",
        "test_df.Embarked = test_df.Embarked.map( lambda x: Ports_dict[x]).astype(int)\n",
        "\n",
        "# All the missing Fares -> assume median of their respective class\n",
        "if len(test_df.Fare[ test_df.Fare.isnull() ]) > 0:\n",
        "    median_fare = np.zeros(3)\n",
        "    for f in range(0,3):                                              # loop 0 to 2\n",
        "        median_fare[f] = test_df[ test_df.Pclass == f+1 ]['Fare'].dropna().median()\n",
        "    for f in range(0,3):                                              # loop 0 to 2\n",
        "        test_df.loc[ (test_df.Fare.isnull()) & (test_df.Pclass == f+1 ), 'Fare'] = median_fare[f]\n",
        "\n",
        "# Collect the test data's PassengerIds before dropping it\n",
        "ids = test_df['PassengerId'].values\n",
        "# Remove the Name column, Cabin, Ticket, and Sex (since I copied and filled it to Gender)\n",
        "test_df = test_df.drop(['Name', 'Sex', 'Ticket', 'Cabin', 'PassengerId'], axis=1) "
      ]
    },
    {
      "cell_type": "code",
      "execution_count": null,
      "metadata": {
        "_cell_guid": "4dfbb2d1-0d16-f9f4-841a-1db582491688"
      },
      "outputs": [],
      "source": [
        "# The data is now ready to go. So lets fit to the train, then predict to the test!\n",
        "# Convert back to a numpy array\n",
        "train_data = train_df.values\n",
        "test_data = test_df.values"
      ]
    },
    {
      "cell_type": "code",
      "execution_count": null,
      "metadata": {
        "_cell_guid": "916e9e42-be91-02c5-63a3-9d6733f16d3e"
      },
      "outputs": [],
      "source": [
        "print ('Training...')\n",
        "clf = tree.DecisionTreeClassifier()\n",
        "clf = clf.fit( train_data[0::,1::], train_data[0::,0] )\n",
        "\n",
        "print ('Predicting...')\n",
        "output = clf.predict(test_data).astype(int)\n",
        "\n",
        "\n",
        "predictions_file = pd.DataFrame({'PassengerId':ids, 'Survived':output})\n",
        "tree.export_graphviz(clf,out_file=None)\n",
        "print ('Done.')"
      ]
    },
    {
      "cell_type": "code",
      "execution_count": null,
      "metadata": {
        "_cell_guid": "714e9566-63dd-8c9e-a0fb-d49bc16aaced"
      },
      "outputs": [],
      "source": [
        "import pydotplus \n",
        "from IPython.display import Image  \n",
        "dot_data = tree.export_graphviz(clf,  \n",
        "                         filled=True, rounded=True,  \n",
        "                         special_characters=True)  \n",
        "graph = pydotplus.graph_from_dot_data(dot_data)  \n",
        "Image(graph.create_png())"
      ]
    },
    {
      "cell_type": "markdown",
      "metadata": {
        "_cell_guid": "61b53ca2-57b0-08d0-ab9b-33d330b0e1f6"
      },
      "source": [
        "print ('Training...')\n",
        "forest = RandomForestClassifier(n_estimators=100)\n",
        "forest = forest.fit( train_data[0::,1::], train_data[0::,0] )\n",
        "\n",
        "print ('Predicting...')\n",
        "output = forest.predict(test_data).astype(int)\n",
        "\n",
        "\n",
        "predictions_file = pd.DataFrame({'PassengerId':ids, 'Survived':output})\n",
        "print ('Done.')"
      ]
    },
    {
      "cell_type": "code",
      "execution_count": null,
      "metadata": {
        "_cell_guid": "d9717d17-4a99-3e16-5ff6-6421c2257d30"
      },
      "outputs": [],
      "source": ""
    }
  ],
  "metadata": {
    "_change_revision": 0,
    "_is_fork": false,
    "kernelspec": {
      "display_name": "Python 3",
      "language": "python",
      "name": "python3"
    },
    "language_info": {
      "codemirror_mode": {
        "name": "ipython",
        "version": 3
      },
      "file_extension": ".py",
      "mimetype": "text/x-python",
      "name": "python",
      "nbconvert_exporter": "python",
      "pygments_lexer": "ipython3",
      "version": "3.5.2"
    }
  },
  "nbformat": 4,
  "nbformat_minor": 0
}