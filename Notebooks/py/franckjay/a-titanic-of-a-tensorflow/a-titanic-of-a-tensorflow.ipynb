{
  "cells": [
    {
      "cell_type": "markdown",
      "metadata": {
        "_cell_guid": "080dfddb-7564-cb13-8122-5fbaf33760ef"
      },
      "source": [
        "I wanted to test my TensorFlow skills on real data sets, and thought that the Titanic Dataset \n",
        "would be a nice start. If you have any questions, please submit them and I will try to answer. If you have any suggestions, I would be very pleased to see those as well. Let us load the data and get our house in order."
      ]
    },
    {
      "cell_type": "code",
      "execution_count": null,
      "metadata": {
        "_cell_guid": "2456a461-74d3-727b-aa6b-7d55dfa2b86b"
      },
      "outputs": [],
      "source": [
        "# This Python 3 environment comes with many helpful analytics libraries installed\n",
        "# It is defined by the kaggle/python docker image: https://github.com/kaggle/docker-python\n",
        "# For example, here's several helpful packages to load in \n",
        "\n",
        "import numpy as np # linear algebra\n",
        "import pandas as pd # data processing, CSV file I/O (e.g. pd.read_csv)\n",
        "import tensorflow as tf\n",
        "\n",
        "# Input data files are available in the \"../input/\" directory.\n",
        "# For example, running this (by clicking run or pressing Shift+Enter) will list the files in the input directory\n",
        "\n",
        "from subprocess import check_output\n",
        "print(check_output([\"ls\", \"../input\"]).decode(\"utf8\"))\n",
        "\n",
        "titanic = pd.read_csv(\"../input/train.csv\")\n",
        "test = pd.read_csv(\"../input/test.csv\")\n",
        "\n",
        "titanic[\"Age\"] = titanic[\"Age\"].fillna(titanic[\"Age\"].median()) #Fillna fills columns with N/A numbers. Here we use the median values\n",
        "print('hi')\n",
        "titanic.loc[titanic[\"Sex\"] == \"male\", \"Sex\"] = 0 #Replaces all male values with 0\n",
        "titanic.loc[titanic[\"Sex\"] == \"female\", \"Sex\"] = 1\n",
        "titanic['Embarked']=titanic['Embarked'].fillna('S') # The most common value!\n",
        "titanic.loc[titanic['Embarked']=='S', 'Embarked'] = 0\n",
        "titanic.loc[titanic['Embarked']=='C', 'Embarked'] = 1\n",
        "titanic.loc[titanic['Embarked']=='Q', 'Embarked'] = 2\n",
        "\n",
        "#Transform the test data in the same way\n",
        "test[\"Age\"] = test[\"Age\"].fillna(test[\"Age\"].median()) #Fillna fills columns with N/A numbers. Here we use the median values\n",
        "test.loc[test[\"Sex\"] == \"male\", \"Sex\"] = 0 #Replaces all male values with 0\n",
        "test.loc[test[\"Sex\"] == \"female\", \"Sex\"] = 1\n",
        "test['Embarked']=test['Embarked'].fillna('S') # The most common value!\n",
        "test.loc[test['Embarked']=='S', 'Embarked'] = 0\n",
        "test.loc[test['Embarked']=='C', 'Embarked'] = 1\n",
        "test.loc[test['Embarked']=='Q', 'Embarked'] = 2\n",
        "\n",
        "\n",
        "#Just to check our data loaded correctly:\n",
        "print (titanic.head())\n",
        "\n",
        "#Just to check our TensorFlow is working.\n",
        "hello = tf.constant('Hello, TensorFlow!')\n",
        "sess = tf.Session()\n",
        "sess.run(hello)"
      ]
    },
    {
      "cell_type": "markdown",
      "metadata": {
        "_cell_guid": "e947f57b-f581-0168-44ad-188489b79f44"
      },
      "source": [
        "The above looks like it successfully loaded some data, but we need to start getting the data into a usable format.\n",
        "That means filling NaNs in, changing categorical variables, and general mucking about:\n"
      ]
    },
    {
      "cell_type": "markdown",
      "metadata": {
        "_cell_guid": "e8cf220e-8ac8-06c4-9ece-4265c142b108"
      },
      "source": [
        "We can do a lot more than this in the future, but this is a barebones version where we can start working on the data to see if TensorFlow works with this data set. I am going to start with some easy examples, because that is just what I do Here is a good Linear Regression intro: http://www.kdnuggets.com/2016/08/gentlest-introduction-tensorflow-part-1.html or  http://www.kdnuggets.com/2016/02/scikit-flow-easy-deep-learning-tensorflow-scikit-learn.html. "
      ]
    },
    {
      "cell_type": "code",
      "execution_count": null,
      "metadata": {
        "_cell_guid": "55d0baac-a359-9f20-f730-4c9a99ea46c7"
      },
      "outputs": [],
      "source": [
        "#from sklearn import metrics\n",
        "#import skflow\n",
        "#classifier = skflow.TensorFlowLinearClassifier(n_classes=2)\n",
        "#classifier.fit(titanic.data, titanic.target)\n",
        "#score = metrics.accuracy_score(titanic.target, classifier.predict(titanic.data))\n",
        "#print(\"Accuracy: %f\" % score)\n",
        "print('skflow is not implemented unfortunately to test the above out.')\n",
        "\n",
        "#From http://www.kdnuggets.com/2016/09/urban-sound-classification-neural-networks-tensorflow.html/2\n",
        "nIter = 1000 #How many times should we run this?\n",
        "nDim = titanic.shape[1] # 12 in this cases\n",
        "nClasses = 1# How many classes do we have in our model?\n",
        "nHidden1 = 100 #First hidden layer size\n",
        "nHidden2 = 80 #Second\n",
        "SDEV = 1 / np.sqrt(nDim)#Standard Deviation\n",
        "LR = 0.01 #Learning Rate of our model"
      ]
    },
    {
      "cell_type": "code",
      "execution_count": null,
      "metadata": {
        "_cell_guid": "76c39510-d767-109e-b242-97fd3c8f9b6a"
      },
      "outputs": [],
      "source": [
        "#Taken from : https://www.kaggle.com/dysonlin/titanic/tensorflow/run/807342\n",
        "\n",
        "nIter = 40000\n",
        "LR = 0.1\n",
        "\n",
        "trainX=titanic[[\"Pclass\", \"Sex\", \"Age\", \"SibSp\", \"Parch\", \"Fare\", \"Embarked\"]]\n",
        "trainY=titanic[['Survived']]\n",
        "\n",
        "def weight_variable(shape):\n",
        "  initial = tf.truncated_normal(shape, stddev=0.1)\n",
        "  return tf.Variable(initial)\n",
        " \n",
        "def bias_variable(shape):\n",
        "  initial = tf.constant(0.1, shape=shape)\n",
        "  return tf.Variable(initial)\n",
        "\n",
        "# Let's train the model\n",
        "feature_count = trainX.shape[1]\n",
        "x = tf.placeholder('float', shape=[None, feature_count], name='x')\n",
        "y_ = tf.placeholder('float', shape=[None, 1], name='y_')\n",
        "\n",
        "print(x.get_shape())\n",
        "\n",
        "nodes = 200\n",
        "\n",
        "w1 = weight_variable([feature_count, nodes])\n",
        "b1 = bias_variable([nodes])\n",
        "l1 = tf.nn.relu(tf.matmul(x, w1) + b1)\n",
        "\n",
        "w2 = weight_variable([nodes, 1])\n",
        "b2 = bias_variable([1])\n",
        "y = tf.nn.sigmoid(tf.matmul(l1, w2) + b2)\n",
        "\n",
        "cross_entropy = -tf.reduce_mean(y_*tf.log(tf.maximum(0.01, y)) + (1.0 - y_)*tf.log(tf.maximum(0.00001, 1.0-y)))\n",
        "reg = 0.01 * (tf.reduce_mean(tf.square(w1)) + tf.reduce_mean(tf.square(w2)))\n",
        "\n",
        "predict = (y > 0.5)\n",
        "\n",
        "correct_prediction = tf.equal(predict, (y_ > 0.5))\n",
        "\n",
        "accuracy = tf.reduce_mean(tf.cast(correct_prediction, 'float'))\n",
        "                              \n",
        "                              \n",
        "\n",
        "train_step = tf.train.AdamOptimizer(LR).minimize(cross_entropy + reg)\n",
        "\n",
        "init = tf.global_variables_initializer()\n",
        "\n",
        "sess = tf.Session()\n",
        "sess.run(init)\n",
        "\n",
        "for i in range(nIter):\n",
        "    feed={x:trainX, y_:trainY}\n",
        "    sess.run(train_step, feed_dict=feed)\n",
        "    if i % 1000 == 0 or i == nIter-1:\n",
        "        print('{} {} {:.2f}%'.format(i, sess.run(cross_entropy, feed_dict=feed), sess.run(accuracy, feed_dict=feed)*100.0))"
      ]
    }
  ],
  "metadata": {
    "_change_revision": 0,
    "_is_fork": false,
    "kernelspec": {
      "display_name": "Python 3",
      "language": "python",
      "name": "python3"
    },
    "language_info": {
      "codemirror_mode": {
        "name": "ipython",
        "version": 3
      },
      "file_extension": ".py",
      "mimetype": "text/x-python",
      "name": "python",
      "nbconvert_exporter": "python",
      "pygments_lexer": "ipython3",
      "version": "3.6.0"
    }
  },
  "nbformat": 4,
  "nbformat_minor": 0
}