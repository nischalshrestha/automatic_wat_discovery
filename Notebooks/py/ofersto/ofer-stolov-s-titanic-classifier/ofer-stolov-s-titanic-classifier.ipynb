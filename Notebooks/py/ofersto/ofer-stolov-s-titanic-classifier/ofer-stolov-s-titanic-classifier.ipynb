{
  "cells": [
    {
      "cell_type": "code",
      "execution_count": null,
      "metadata": {
        "_cell_guid": "40be72fa-cbe5-800c-dc82-7feab5eb0517"
      },
      "outputs": [],
      "source": [
        "# This Python 3 environment comes with many helpful analytics libraries installed\n",
        "# It is defined by the kaggle/python docker image: https://github.com/kaggle/docker-python\n",
        "# For example, here's several helpful packages to load in \n",
        "\n",
        "import numpy as np # linear algebra\n",
        "import pandas as pd # data processing, CSV file I/O (e.g. pd.read_csv)\n",
        "\n",
        "from sklearn import cross_validation"
      ]
    },
    {
      "cell_type": "code",
      "execution_count": null,
      "metadata": {
        "_cell_guid": "deaf5785-c4f5-ed58-d3a8-6de5fc1f9262"
      },
      "outputs": [],
      "source": [
        "def create_submission(alg, train, test, features, filename):\n",
        "    alg.fit(train[features], train[\"Survived\"])\n",
        "    predictions = alg.predict(test[features])\n",
        "\n",
        "    submission = pd.DataFrame({\n",
        "        \"PassengerId\": test[\"PassengerId\"],\n",
        "        \"Survived\": predictions\n",
        "    })\n",
        "    \n",
        "    submission.to_csv(filename, index=False)"
      ]
    },
    {
      "cell_type": "code",
      "execution_count": null,
      "metadata": {
        "_cell_guid": "bac6913a-bd7d-645c-1549-34def4c41ae8"
      },
      "outputs": [],
      "source": [
        "train_df = pd.read_csv(\"../input/train.csv\")\n",
        "test_df = pd.read_csv(\"../input/test.csv\")"
      ]
    },
    {
      "cell_type": "code",
      "execution_count": null,
      "metadata": {
        "_cell_guid": "b79e287d-c34a-5dac-4bdb-e4fb148837af"
      },
      "outputs": [],
      "source": [
        "# Sex to number\n",
        "train_df[\"Sex\"] = train_df[\"Sex\"].map({\"female\": 0, \"male\": 1}).astype(int)\n",
        "test_df[\"Sex\"] = test_df[\"Sex\"].map({\"female\": 0, \"male\": 1}).astype(int)"
      ]
    },
    {
      "cell_type": "code",
      "execution_count": null,
      "metadata": {
        "_cell_guid": "4ac95a3a-505e-d9e4-37d6-bf6a28e20798"
      },
      "outputs": [],
      "source": [
        "# Empty ages and fares to median\n",
        "age_median = train_df.append(test_df)[\"Age\"].dropna().median()\n",
        "train_df[\"Age\"].fillna(age_median, inplace=True)\n",
        "test_df[\"Age\"].fillna(age_median, inplace=True)\n",
        "\n",
        "fare_median = train_df.append(test_df)[\"Fare\"].dropna().median()\n",
        "train_df[\"Fare\"].fillna(age_median, inplace=True)\n",
        "test_df[\"Fare\"].fillna(age_median, inplace=True)"
      ]
    },
    {
      "cell_type": "code",
      "execution_count": null,
      "metadata": {
        "_cell_guid": "49117cde-b5ba-5d02-9734-83a709a2ff98"
      },
      "outputs": [],
      "source": [
        "features = [\"Pclass\", \"Sex\", \"Age\", \"SibSp\", \"Parch\", \"Fare\"]"
      ]
    },
    {
      "cell_type": "code",
      "execution_count": null,
      "metadata": {
        "_cell_guid": "f60f553f-8448-4068-cedc-32ff77190ab2"
      },
      "outputs": [],
      "source": [
        "from sklearn.ensemble import RandomForestClassifier\n",
        "rf_clf = RandomForestClassifier(\n",
        "    n_estimators=250,\n",
        "    random_state=1,\n",
        "    min_samples_leaf=2,\n",
        ")\n",
        "scores = cross_validation.cross_val_score(rf_clf, train_df[features], train_df[\"Survived\"], cv=3)\n",
        "print(scores.mean())\n",
        "create_submission(rf_clf, train_df, test_df, features, \"random_forest.csv\")"
      ]
    },
    {
      "cell_type": "code",
      "execution_count": null,
      "metadata": {
        "_cell_guid": "faf0c267-522f-ebae-3fe1-a106a6cf7773"
      },
      "outputs": [],
      "source": [
        "from sklearn.ensemble import GradientBoostingClassifier\n",
        "gb_clf = GradientBoostingClassifier()\n",
        "scores = cross_validation.cross_val_score(rf_clf, train_df[features], train_df[\"Survived\"], cv=3)\n",
        "print(scores.mean())\n",
        "create_submission(gb_clf, train_df, test_df, features, \"gradient_boosting.csv\")"
      ]
    },
    {
      "cell_type": "code",
      "execution_count": null,
      "metadata": {
        "_cell_guid": "caf57d64-03c6-67f2-9795-29f78d5ce8b8"
      },
      "outputs": [],
      "source": [
        "from sklearn.ensemble import AdaBoostClassifier\n",
        "ab_clf = AdaBoostClassifier(\n",
        "    learning_rate=0.1,\n",
        "    n_estimators=250\n",
        ")\n",
        "scores = cross_validation.cross_val_score(ab_clf, train_df[features], train_df[\"Survived\"], cv=3)\n",
        "print(scores.mean())\n",
        "create_submission(gb_clf, train_df, test_df, features, \"ada_boosting.csv\")"
      ]
    },
    {
      "cell_type": "code",
      "execution_count": null,
      "metadata": {
        "_cell_guid": "ba8c0f65-474f-53bf-a774-c41c8d879049"
      },
      "outputs": [],
      "source": [
        "from sklearn.neural_network import MLPClassifier\n",
        "mlp_clf = MLPClassifier(\n",
        "    max_iter=500\n",
        ")\n",
        "scores = cross_validation.cross_val_score(mlp_clf, train_df[features], train_df[\"Survived\"], cv=3)\n",
        "print(scores.mean())\n",
        "create_submission(mlp_clf, train_df, test_df, features, \"mlp_classifier.csv\")"
      ]
    },
    {
      "cell_type": "code",
      "execution_count": null,
      "metadata": {
        "_cell_guid": "fc90d696-56e9-c325-ff76-79bd7017a4cc"
      },
      "outputs": [],
      "source": [
        "from sklearn.neighbors import KNeighborsClassifier\n",
        "kn_clf = KNeighborsClassifier()\n",
        "scores = cross_validation.cross_val_score(kn_clf, train_df[features], train_df[\"Survived\"], cv=3)\n",
        "print(scores.mean())\n",
        "create_submission(kn_clf, train_df, test_df, features, \"k_neighbors.csv\")"
      ]
    },
    {
      "cell_type": "code",
      "execution_count": null,
      "metadata": {
        "_cell_guid": "cfc060cc-9845-e90b-3026-a3a9942eabea"
      },
      "outputs": [],
      "source": ""
    }
  ],
  "metadata": {
    "_change_revision": 0,
    "_is_fork": false,
    "kernelspec": {
      "display_name": "Python 3",
      "language": "python",
      "name": "python3"
    },
    "language_info": {
      "codemirror_mode": {
        "name": "ipython",
        "version": 3
      },
      "file_extension": ".py",
      "mimetype": "text/x-python",
      "name": "python",
      "nbconvert_exporter": "python",
      "pygments_lexer": "ipython3",
      "version": "3.5.2"
    }
  },
  "nbformat": 4,
  "nbformat_minor": 0
}