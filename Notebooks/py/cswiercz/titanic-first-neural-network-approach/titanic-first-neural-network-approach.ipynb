{
  "cells": [
    {
      "cell_type": "markdown",
      "metadata": {
        "_cell_guid": "8d1df207-7b99-8fcb-1855-50e35f606c13"
      },
      "source": [
        "This notebook contains a first neural network attempt at the Titanic problem. The first half, written by my teammate [Kyle Lang](https://www.kaggle.com/noogakl81), performs some pre-processing on the data. The second half is my attempt at classifying the data using a simple two hidden-layer neural network.\n",
        "\n",
        "Some experiments suggest that a range of 32-128 features in the first hidden layer is sufficient. Not yet sure what the impact is of feature count selection in the second hidden layer. With this setup I achieve approximately 96% classification accuracy on the training set and 71% on the test data so there is much room for improvement.\n",
        "\n",
        "Outside of more intense data munging (e.g. extracting titles, separating embarkment data) some things I will try next:\n",
        "\n",
        "* dropout in the hidden layers - the NN gets stuck at around 96%. This might suggest overfitting. Implementing [dropout](https://www.cs.toronto.edu/%7Ehinton/absps/JMLRdropout.pdf) might help.\n",
        "* different neuron activation functions - sigmoid is the vanilla standard. I don't know much about ReLU but people use it and effectively.  Remember to initialize with slightly positive bias in this case.\n",
        "* don't bother with sparely connected or partitioned layers - if the problem had some degree of locality to it then maybe. Like convolutions, I don't see a strong argument to attempt this. Prove me wrong."
      ]
    },
    {
      "cell_type": "code",
      "execution_count": null,
      "metadata": {
        "_cell_guid": "282d0c75-8eb7-7dbe-5102-a4d4e4ca80f6",
        "collapsed": true
      },
      "outputs": [],
      "source": ""
    },
    {
      "cell_type": "code",
      "execution_count": null,
      "metadata": {
        "_cell_guid": "13dfd1ce-24bb-3644-bca3-fa188061cd55"
      },
      "outputs": [],
      "source": ""
    },
    {
      "cell_type": "code",
      "execution_count": null,
      "metadata": {
        "_cell_guid": "704634ea-9fa0-e4f4-6425-cf0e72389629"
      },
      "outputs": [],
      "source": ""
    },
    {
      "cell_type": "code",
      "execution_count": null,
      "metadata": {
        "_cell_guid": "b4c7c4bf-c325-798a-5f15-7851c94ce68b"
      },
      "outputs": [],
      "source": ""
    },
    {
      "cell_type": "code",
      "execution_count": null,
      "metadata": {
        "_cell_guid": "710ac6d5-cbba-c596-e82c-8e97dbf625fe"
      },
      "outputs": [],
      "source": ""
    },
    {
      "cell_type": "code",
      "execution_count": null,
      "metadata": {
        "_cell_guid": "5d926c4f-f1d2-fa46-6746-1f20ddd4c7c8"
      },
      "outputs": [],
      "source": ""
    },
    {
      "cell_type": "code",
      "execution_count": null,
      "metadata": {
        "_cell_guid": "748b43f7-bd5b-d613-90fb-950a859ea3a8"
      },
      "outputs": [],
      "source": ""
    },
    {
      "cell_type": "code",
      "execution_count": null,
      "metadata": {
        "_cell_guid": "7172a32d-09bd-24a6-3984-defec531ce15"
      },
      "outputs": [],
      "source": ""
    },
    {
      "cell_type": "code",
      "execution_count": null,
      "metadata": {
        "_cell_guid": "f9e401a8-049f-706b-d888-55e42416fda9"
      },
      "outputs": [],
      "source": ""
    },
    {
      "cell_type": "code",
      "execution_count": null,
      "metadata": {
        "_cell_guid": "80e23bdd-a188-dc23-929f-59e1dd96e15c"
      },
      "outputs": [],
      "source": ""
    },
    {
      "cell_type": "code",
      "execution_count": null,
      "metadata": {
        "_cell_guid": "bf9c0818-bbbc-2912-3d95-38597e7d74bb"
      },
      "outputs": [],
      "source": ""
    },
    {
      "cell_type": "code",
      "execution_count": null,
      "metadata": {
        "_cell_guid": "b84cf8f0-344e-814c-98fe-41abf9830ff2"
      },
      "outputs": [],
      "source": ""
    },
    {
      "cell_type": "code",
      "execution_count": null,
      "metadata": {
        "_cell_guid": "9112c747-de7d-1b5e-5908-04dfe3365dec",
        "collapsed": true
      },
      "outputs": [],
      "source": ""
    },
    {
      "cell_type": "code",
      "execution_count": null,
      "metadata": {
        "_cell_guid": "f8b24c74-7b5c-108c-8a0e-d4b2f20f5c01"
      },
      "outputs": [],
      "source": ""
    },
    {
      "cell_type": "code",
      "execution_count": null,
      "metadata": {
        "_cell_guid": "31b15c96-8975-7879-671a-dad58f61a96c",
        "collapsed": true
      },
      "outputs": [],
      "source": ""
    },
    {
      "cell_type": "code",
      "execution_count": null,
      "metadata": {
        "_cell_guid": "5bcf9a91-dbd9-1a1b-5b79-0035e12ec3e5",
        "collapsed": true
      },
      "outputs": [],
      "source": ""
    },
    {
      "cell_type": "markdown",
      "metadata": {
        "_cell_guid": "084d7446-a098-c721-8334-69d0d34b7731"
      },
      "source": ""
    },
    {
      "cell_type": "code",
      "execution_count": null,
      "metadata": {
        "_cell_guid": "6668a88c-029a-7e96-75dc-59d902438445"
      },
      "outputs": [],
      "source": ""
    },
    {
      "cell_type": "code",
      "execution_count": null,
      "metadata": {
        "_cell_guid": "938b432f-4463-540c-d404-88dfe85d3281"
      },
      "outputs": [],
      "source": ""
    },
    {
      "cell_type": "code",
      "execution_count": null,
      "metadata": {
        "_cell_guid": "cd42f99a-b422-6e4c-d710-d8a630540cbb"
      },
      "outputs": [],
      "source": ""
    },
    {
      "cell_type": "markdown",
      "metadata": {
        "_cell_guid": "324d5a2b-71a3-293f-4365-e16dd06c808a"
      },
      "source": ""
    },
    {
      "cell_type": "code",
      "execution_count": null,
      "metadata": {
        "_cell_guid": "7d466af8-31a6-a4ed-d504-f507fd95cb65"
      },
      "outputs": [],
      "source": ""
    },
    {
      "cell_type": "code",
      "execution_count": null,
      "metadata": {
        "_cell_guid": "8f08afa0-e2a3-6ecb-2bd9-88281f9db130"
      },
      "outputs": [],
      "source": ""
    },
    {
      "cell_type": "markdown",
      "metadata": {
        "_cell_guid": "0c0b62e1-d6f0-2e2b-c738-5fe908aabf09"
      },
      "source": ""
    },
    {
      "cell_type": "code",
      "execution_count": null,
      "metadata": {
        "_cell_guid": "175590ff-986e-be11-1d1b-d0162276299b"
      },
      "outputs": [],
      "source": ""
    },
    {
      "cell_type": "code",
      "execution_count": null,
      "metadata": {
        "_cell_guid": "03ff74bf-c075-9596-aa7f-c0455e3a64c2",
        "collapsed": true
      },
      "outputs": [],
      "source": ""
    },
    {
      "cell_type": "code",
      "execution_count": null,
      "metadata": {
        "_cell_guid": "06eb468e-7ae8-8617-3e2b-f29944a0ba4a"
      },
      "outputs": [],
      "source": ""
    },
    {
      "cell_type": "markdown",
      "metadata": {
        "_cell_guid": "2f4630c2-8e75-aa81-1c0a-13523f544940"
      },
      "source": ""
    },
    {
      "cell_type": "code",
      "execution_count": null,
      "metadata": {
        "_cell_guid": "42e88ff5-4f7a-838f-5b7c-ca186526e511"
      },
      "outputs": [],
      "source": ""
    },
    {
      "cell_type": "code",
      "execution_count": null,
      "metadata": {
        "_cell_guid": "150f1d2f-cbc5-70ae-2884-8b3e10111094"
      },
      "outputs": [],
      "source": ""
    },
    {
      "cell_type": "code",
      "execution_count": null,
      "metadata": {
        "_cell_guid": "5425e799-7688-26c2-7420-8f7c3c40193f"
      },
      "outputs": [],
      "source": ""
    },
    {
      "cell_type": "code",
      "execution_count": null,
      "metadata": {
        "_cell_guid": "05838c8e-2868-f08b-4ff2-1ddd116d0091",
        "collapsed": true
      },
      "outputs": [],
      "source": ""
    }
  ],
  "metadata": {
    "_change_revision": 0,
    "_is_fork": false,
    "kernelspec": {
      "display_name": "Python 3",
      "language": "python",
      "name": "python3"
    },
    "language_info": {
      "codemirror_mode": {
        "name": "ipython",
        "version": 3
      },
      "file_extension": ".py",
      "mimetype": "text/x-python",
      "name": "python",
      "nbconvert_exporter": "python",
      "pygments_lexer": "ipython3",
      "version": "3.5.2"
    }
  },
  "nbformat": 4,
  "nbformat_minor": 0
}