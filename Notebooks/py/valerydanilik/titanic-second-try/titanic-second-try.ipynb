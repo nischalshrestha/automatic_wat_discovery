{
  "cells": [
    {
      "cell_type": "markdown",
      "metadata": {
        "_cell_guid": "ad703091-b067-fd5f-da67-9fb4d09cb7db"
      },
      "source": [
        "<h3>Importing all packages needed:</h3>"
      ]
    },
    {
      "cell_type": "code",
      "execution_count": null,
      "metadata": {
        "_cell_guid": "276b338c-0e83-6d43-00bd-185cdaffac6f"
      },
      "outputs": [],
      "source": [
        "import pandas as pd\n",
        "import matplotlib.pyplot as plt\n",
        "from sklearn.preprocessing import LabelEncoder\n",
        "plt.style.use('fivethirtyeight')\n",
        "from sklearn.ensemble import ExtraTreesClassifier, RandomForestClassifier\n",
        "from sklearn.feature_selection import SelectFromModel\n",
        "from sklearn.model_selection import StratifiedKFold, GridSearchCV"
      ]
    },
    {
      "cell_type": "markdown",
      "metadata": {
        "_cell_guid": "438ad54d-94ae-b955-6c54-cb33fcd5efe6"
      },
      "source": [
        "<h3>Setting paths for test and train files:</h3>"
      ]
    },
    {
      "cell_type": "code",
      "execution_count": null,
      "metadata": {
        "_cell_guid": "4e570029-7f9b-7c1b-518d-822184583f1b"
      },
      "outputs": [],
      "source": [
        "TEST_PATH = \"../input/test.csv\"\n",
        "TRAIN_PATH = \"../input/train.csv\""
      ]
    },
    {
      "cell_type": "code",
      "execution_count": null,
      "metadata": {
        "_cell_guid": "14a8a984-75b2-e0a1-82d7-e0dc9fa17356"
      },
      "outputs": [],
      "source": [
        "test = pd.read_csv(TEST_PATH)\n",
        "train = pd.read_csv(TRAIN_PATH)"
      ]
    },
    {
      "cell_type": "markdown",
      "metadata": {
        "_cell_guid": "76e777a3-4b33-9393-1307-ffa6ec1316db"
      },
      "source": [
        "<h3>Let's have a look on our train and test data:</h3>"
      ]
    },
    {
      "cell_type": "code",
      "execution_count": null,
      "metadata": {
        "_cell_guid": "01288cc1-e1b2-cdb8-6898-ebf1abe69027"
      },
      "outputs": [],
      "source": [
        "print(train.info())\n",
        "print(test.info())"
      ]
    },
    {
      "cell_type": "markdown",
      "metadata": {
        "_cell_guid": "cf950329-626d-ba98-9113-164f9bf3a4ca"
      },
      "source": [
        "<h3>First of all I'd like to drop \"Survived\" column and analyse the features of the merged table:</h3>"
      ]
    },
    {
      "cell_type": "code",
      "execution_count": null,
      "metadata": {
        "_cell_guid": "b7fa1ce8-0446-dc36-0167-121fad7537ba"
      },
      "outputs": [],
      "source": [
        "train_target = train.loc[:,\"Survived\"]\n",
        "train = train.drop(\"Survived\", axis=1)\n",
        "model_data = train.append(test)"
      ]
    },
    {
      "cell_type": "code",
      "execution_count": null,
      "metadata": {
        "_cell_guid": "c5940fd3-1ed5-1f19-1291-5d0101a453fd"
      },
      "outputs": [],
      "source": [
        "###DELETED GRAPHS###"
      ]
    },
    {
      "cell_type": "markdown",
      "metadata": {
        "_cell_guid": "69e60eed-be42-fb3a-ca0b-5dc77df2edf9"
      },
      "source": [
        "<h3>Let's have a look on \"Name\" feature, it has a Title in it, so we can get it from the Name</h3>\n",
        "And after we got a column \"Title\" with all titles, let's group titles to *`['Mr', 'Miss', 'Master', 'Pro..', 'Mrs', 'Royal']`*"
      ]
    },
    {
      "cell_type": "code",
      "execution_count": null,
      "metadata": {
        "_cell_guid": "0cb53931-212c-54fe-70c9-66bd9e0d0da7"
      },
      "outputs": [],
      "source": [
        "model_data[\"Title\"] = model_data['Name'].map(lambda name:name.split(\",\")[1].split(\".\")[0].strip())\n",
        "\n",
        "titles = {\n",
        "    \"Mr\": \"Mr\",\n",
        "    \"Miss\": \"Miss\",\n",
        "    \"Mrs\": \"Mrs\",\n",
        "    \"Master\": \"Master\",\n",
        "    \"Rev\": \"Professional\",\n",
        "    \"Dr\": \"Professional\",\n",
        "    \"Col\": \"Professional\",\n",
        "    \"Major\": \"Professional\",\n",
        "    \"Ms\": \"Mrs\",\n",
        "    \"Mlle\": \"Miss\",\n",
        "    \"Dona\": \"Royal\",\n",
        "    \"Mme\": \"Mrs\",\n",
        "    \"Capt\": \"Professional\",\n",
        "    \"Sir\": \"Royal\",\n",
        "    \"the Countess\": \"Royal\",\n",
        "    \"Lady\": \"Miss\",\n",
        "    \"Don\": \"Royal\",\n",
        "    \"Jonkheer\": \"Royal\"\n",
        "}\n",
        "\n",
        "model_data[\"Title\"] = model_data[\"Title\"].map(titles)"
      ]
    },
    {
      "cell_type": "markdown",
      "metadata": {
        "_cell_guid": "062be5d7-9dbc-6e4d-e49c-a6984ad34725"
      },
      "source": [
        "<h3>Finally we have a feature to fill an \"Age\" feature</h3>\n",
        "We will do it later :)"
      ]
    },
    {
      "cell_type": "markdown",
      "metadata": {
        "_cell_guid": "2935a620-d8d7-17b1-8015-58366e490b98"
      },
      "source": [
        "<h3>Let's look on \"Cabin\" feature:</h3>\n",
        "It has the most NAs but it can have a great value to our prediction model"
      ]
    },
    {
      "cell_type": "code",
      "execution_count": null,
      "metadata": {
        "_cell_guid": "724db143-beb9-f436-cc15-9f71072ffb7e"
      },
      "outputs": [],
      "source": [
        "print(\"Cabin feature has {} out of {} values\".format(model_data.loc[model_data.Cabin.notnull(),'Cabin'].count(),model_data.PassengerId.count()))"
      ]
    },
    {
      "cell_type": "markdown",
      "metadata": {
        "_cell_guid": "7fb58030-6e36-5092-c4e2-a91dadd6c806"
      },
      "source": [
        "<h3>First, pull out first letter of the \"Cabin number\"<br></h3>\n",
        "Some cabin numbers have \"F\" letter before another letter + number, but I didn't get what does it mean so I droped those F letters :)"
      ]
    },
    {
      "cell_type": "code",
      "execution_count": null,
      "metadata": {
        "_cell_guid": "660ca378-1121-46de-0ee8-e371a38f28c2"
      },
      "outputs": [],
      "source": [
        "import re\n",
        "model_data.loc[model_data.Cabin.notnull(),\"Cabin_Letter\"] = model_data.loc[model_data.Cabin.notnull(),\"Cabin\"].map(lambda letter:letter[0] if not re.match(\"F \\w+\",letter) else letter[2])\n",
        "model_data.loc[model_data.Cabin.notnull(),('Cabin','Cabin_Letter')]"
      ]
    },
    {
      "cell_type": "markdown",
      "metadata": {
        "_cell_guid": "1bcbffcf-d626-eb07-1d9a-30fdf7e77ee9"
      },
      "source": [
        "<h3>Looks nice, isn't it?</h3>"
      ]
    },
    {
      "cell_type": "code",
      "execution_count": null,
      "metadata": {
        "_cell_guid": "2f4d186f-00a7-c149-5ddf-34ee3b49d5f3"
      },
      "outputs": [],
      "source": [
        "model_data.loc[:,\"Family_count\"] = model_data[\"SibSp\"] + model_data[\"Parch\"]\n",
        "model_data.loc[model_data.Fare.isnull(),'Fare'] = 11.10\n",
        "model_data.loc[model_data.Embarked.isnull(),'Embarked'] = 'S'"
      ]
    },
    {
      "cell_type": "code",
      "execution_count": null,
      "metadata": {
        "_cell_guid": "af767ee4-ef9b-48e9-23e5-d0228049beb6"
      },
      "outputs": [],
      "source": [
        "f_class_letters = model_data.loc[model_data.Pclass == 1,('Cabin_Letter')].value_counts()\n",
        "s_class_letters = model_data.loc[model_data.Pclass == 2,('Cabin_Letter')].value_counts()\n",
        "t_class_letters = model_data.loc[model_data.Pclass == 3,('Cabin_Letter')].value_counts()\n",
        "\n",
        "df = pd.concat([f_class_letters,s_class_letters,t_class_letters], axis=1)\n",
        "df\n",
        "\n",
        "#pd.DataFrame([\"f_class_letters\",\"s_class_letters\",\"t_class_letters\"]).plot(kind=\"bar\")"
      ]
    },
    {
      "cell_type": "code",
      "execution_count": null,
      "metadata": {
        "_cell_guid": "b6511072-161f-7ea4-c93c-595b0e88a9c4"
      },
      "outputs": [],
      "source": [
        "#model_data.loc[(model_data.Pclass == 1)&(model_data.Fare == )&model_data.Age.isnull(),('Age')] = 7"
      ]
    },
    {
      "cell_type": "code",
      "execution_count": null,
      "metadata": {
        "_cell_guid": "ae79f8e6-9796-4c4d-0e64-0329db7479a9"
      },
      "outputs": [],
      "source": [
        "model_data['Cabin_Letter_num'] = model_data['Cabin_Letter'].map({'A':0, 'B':1, 'C':2, 'D':3, 'E':4, 'F':4, 'G':5, 'T':6})\n",
        "\n",
        "model_data.loc[model_data.Ticket.notnull(),'Ticket_clf'] = model_data.loc[model_data.Ticket.notnull(),'Ticket'].map(lambda ticket: ticket[0:2] if re.match(\"PC\",ticket) else ticket[0])\n",
        "model_data.Ticket_clf.drop_duplicates()\n",
        "model_data['Ticket_clf'] = model_data['Ticket_clf'].map({'A':0, 'PC':10, 'S':11, 'P':12, 'C':13, 'W':14, 'F':15, 'L':16, '1':1, '2':2, '3':3, '4':4, '5':5, '6':6, '7':7, '8':8, '9':9})"
      ]
    },
    {
      "cell_type": "code",
      "execution_count": null,
      "metadata": {
        "_cell_guid": "3748f85c-f29a-1a51-3f42-42bd7ef3e452"
      },
      "outputs": [],
      "source": [
        "label = LabelEncoder()\n",
        "label.fit(model_data.Title)\n",
        "model_data.Title = label.transform(model_data.Title)\n",
        "\n",
        "label.fit(model_data.loc[:,\"Sex\"])\n",
        "model_data.loc[:,\"Sex\"] = label.transform(model_data.loc[:,\"Sex\"])\n",
        "\n",
        "label.fit(model_data.Embarked)\n",
        "model_data.loc[:,\"Embarked\"] = label.transform(model_data.loc[:,\"Embarked\"])"
      ]
    },
    {
      "cell_type": "code",
      "execution_count": null,
      "metadata": {
        "_cell_guid": "ae5f8a7e-af5b-8dd3-24de-9e24e87fcbc7"
      },
      "outputs": [],
      "source": [
        "model_data.loc[(model_data.Pclass == 1)&(model_data.Title == 0)&model_data.Age.isnull(),('Age')] = 7\n",
        "model_data.loc[(model_data.Pclass == 1)&(model_data.Title == 1)&model_data.Age.isnull(),('Age')] = 30\n",
        "model_data.loc[(model_data.Pclass == 1)&(model_data.Title == 2)&model_data.Age.isnull(),('Age')] = 41\n",
        "model_data.loc[(model_data.Pclass == 1)&(model_data.Title == 3)&model_data.Age.isnull(),('Age')] = 43\n",
        "model_data.loc[(model_data.Pclass == 1)&(model_data.Title == 4)&model_data.Age.isnull(),('Age')] = 51\n",
        "model_data.loc[(model_data.Pclass == 1)&(model_data.Title == 5)&model_data.Age.isnull(),('Age')] = 40\n",
        "\n",
        "model_data.loc[(model_data.Pclass == 2)&(model_data.Title == 0)&model_data.Age.isnull(),('Age')] = 3\n",
        "model_data.loc[(model_data.Pclass == 2)&(model_data.Title == 1)&model_data.Age.isnull(),('Age')] = 21\n",
        "model_data.loc[(model_data.Pclass == 2)&(model_data.Title == 2)&model_data.Age.isnull(),('Age')] = 32\n",
        "model_data.loc[(model_data.Pclass == 2)&(model_data.Title == 3)&model_data.Age.isnull(),('Age')] = 33\n",
        "model_data.loc[(model_data.Pclass == 2)&(model_data.Title == 4)&model_data.Age.isnull(),('Age')] = 41\n",
        "\n",
        "model_data.loc[(model_data.Pclass == 3)&(model_data.Title == 0)&model_data.Age.isnull(),('Age')] = 6\n",
        "model_data.loc[(model_data.Pclass == 3)&(model_data.Title == 1)&model_data.Age.isnull(),('Age')] = 17\n",
        "model_data.loc[(model_data.Pclass == 3)&(model_data.Title == 2)&model_data.Age.isnull(),('Age')] = 28\n",
        "model_data.loc[(model_data.Pclass == 3)&(model_data.Title == 3)&model_data.Age.isnull(),('Age')] = 32"
      ]
    },
    {
      "cell_type": "code",
      "execution_count": null,
      "metadata": {
        "_cell_guid": "dedce623-9641-6f57-a0db-b423bbb0d071"
      },
      "outputs": [],
      "source": [
        "model_data.head()"
      ]
    },
    {
      "cell_type": "code",
      "execution_count": null,
      "metadata": {
        "_cell_guid": "57c4e29b-715a-4dbe-0787-861fe3a18ff3"
      },
      "outputs": [],
      "source": [
        "train_data = model_data[0:891]\n",
        "test_data = model_data[891:]\n",
        "train_data = train_data.drop(['Cabin','Cabin_Letter','Cabin_Letter_num', 'Name', 'Ticket'], axis=1)\n",
        "\n",
        "test_data = test_data.drop(['Cabin','Cabin_Letter','Cabin_Letter_num', 'Name', 'Ticket'], axis=1)\n",
        "test_data.head()"
      ]
    },
    {
      "cell_type": "code",
      "execution_count": null,
      "metadata": {
        "_cell_guid": "e60f56af-a24c-3494-269e-c972449b6eea"
      },
      "outputs": [],
      "source": [
        "clf = ExtraTreesClassifier(n_estimators=200)\n",
        "clf = clf.fit(train_data, train_target)"
      ]
    },
    {
      "cell_type": "code",
      "execution_count": null,
      "metadata": {
        "_cell_guid": "379272e9-614b-aabb-10d0-26987b66fe60"
      },
      "outputs": [],
      "source": [
        "features = pd.DataFrame()\n",
        "features['feature'] = train_data.columns\n",
        "features['importance'] = clf.feature_importances_\n",
        "features"
      ]
    },
    {
      "cell_type": "code",
      "execution_count": null,
      "metadata": {
        "_cell_guid": "76e28fb8-7912-3797-2c15-181849890c66"
      },
      "outputs": [],
      "source": [
        "forest = RandomForestClassifier(max_features='sqrt')\n",
        "\n",
        "parameter_grid = {\n",
        "                 'max_depth' : [4,5,6,7,8],\n",
        "                 'n_estimators': [200,210,240,250],\n",
        "                 'criterion': ['gini','entropy']\n",
        "                 }\n",
        "cross_validation = StratifiedKFold(5)\n",
        "\n",
        "grid_search = GridSearchCV(forest,\n",
        "                           param_grid=parameter_grid,\n",
        "                           cv=cross_validation)\n",
        "\n",
        "grid_search.fit(train_data, train_target)\n",
        "\n",
        "print('Best score: {}'.format(grid_search.best_score_))\n",
        "print('Best parameters: {}'.format(grid_search.best_params_))"
      ]
    },
    {
      "cell_type": "code",
      "execution_count": null,
      "metadata": {
        "_cell_guid": "551ad8b1-3342-4d39-c073-060431034c85"
      },
      "outputs": [],
      "source": [
        "output = grid_search.predict(test_data).astype(int)\n",
        "df_output = pd.DataFrame()\n",
        "df_output['PassengerId'] = test_data['PassengerId']\n",
        "df_output['Survived'] = output\n",
        "df_output[['PassengerId','Survived']].to_csv('output.csv',index=False)"
      ]
    }
  ],
  "metadata": {
    "_change_revision": 0,
    "_is_fork": false,
    "kernelspec": {
      "display_name": "Python 3",
      "language": "python",
      "name": "python3"
    },
    "language_info": {
      "codemirror_mode": {
        "name": "ipython",
        "version": 3
      },
      "file_extension": ".py",
      "mimetype": "text/x-python",
      "name": "python",
      "nbconvert_exporter": "python",
      "pygments_lexer": "ipython3",
      "version": "3.5.2"
    }
  },
  "nbformat": 4,
  "nbformat_minor": 0
}