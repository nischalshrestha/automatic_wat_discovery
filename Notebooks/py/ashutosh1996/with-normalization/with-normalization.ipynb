{
  "cells": [
    {
      "cell_type": "code",
      "execution_count": null,
      "metadata": {
        "_cell_guid": "9f75a76f-44f2-309a-5a48-0d4f4480a22d"
      },
      "outputs": [],
      "source": [
        "# This Python 3 environment comes with many helpful analytics libraries installed\n",
        "# It is defined by the kaggle/python docker image: https://github.com/kaggle/docker-python\n",
        "# For example, here's several helpful packages to load in \n",
        "\n",
        "import numpy as np # linear algebra\n",
        "import pandas as pd # data processing, CSV file I/O (e.g. pd.read_csv)\n",
        "\n",
        "# Input data files are available in the \"../input/\" directory.\n",
        "# For example, running this (by clicking run or pressing Shift+Enter) will list the files in the input directory\n",
        "\n",
        "from subprocess import check_output\n",
        "print(check_output([\"ls\", \"../input\"]).decode(\"utf8\"))\n",
        "\n",
        "# Any results you write to the current directory are saved as output."
      ]
    },
    {
      "cell_type": "code",
      "execution_count": null,
      "metadata": {
        "_cell_guid": "10d26129-7323-bd69-5d5e-61518e5da288"
      },
      "outputs": [],
      "source": [
        "import numpy as np # linear algebra\n",
        "import pandas as pd # data processing, CSV file I/O (e.g. pd.read_csv)\n",
        "from sklearn.linear_model import LogisticRegression\n",
        "\n",
        "\n",
        "train=pd.read_csv(\"../input/train.csv\", na_values=\"NA\")\n",
        "test = pd.read_csv(\"../input/test.csv\", na_values=\"NA\")\n",
        "\n",
        "y = train['Survived']\n",
        "train.drop(['Survived'],axis=1,inplace=True)\n",
        "X=pd.concat([train,test])\n",
        "X.drop(['PassengerId','Ticket','Cabin','Embarked','Name'],axis=1,inplace=True)\n",
        "X['Sex']=pd.get_dummies(X['Sex'])\n",
        "m1=X.loc[:,'Age'].mean()\n",
        "m2=X.loc[:,'Fare'].mean()\n",
        "max1=X.loc[:,'Age'].max()\n",
        "min1=X.loc[:,'Age'].min()\n",
        "max2=X.loc[:,'Fare'].max(axis=0)\n",
        "min2=X.loc[:,'Fare'].min(axis=0)\n",
        "X1=(X.loc[:,'Age']).as_matrix()\n",
        "X2=(X.loc[:,'Fare']).as_matrix()\n",
        "\n",
        "\n",
        "for i in range(0,X.shape[0]):\n",
        "    X1[i]=(X2[i]-m1)/(max1-min1)\n",
        "    X2[i]=(X2[i]-m2)/(max2-min2)\n",
        "x=X.as_matrix()\n",
        "\n",
        "x[:,2]= X1\n",
        "x[:,5]= X2\n",
        "\n",
        "\n",
        "x = np.nan_to_num(x)\n",
        "\n",
        "x_train=x[:int(train.shape[0] * 0.8)]\n",
        "x_cv= x[int(train.shape[0] * 0.8):train.shape[0]]\n",
        "x_test=x[train.shape[0]:]\n",
        "y_train=y[:int(train.shape[0] * 0.8)]\n",
        "y_cv=y[int(train.shape[0]*0.8):]\n",
        "\"\"\"alphas=[0.5,1,100,1000,5000,6000,7000,8000,10000]\n",
        "errors={}\n",
        "for alpha in alphas:\n",
        "    lr=LogisticRegression(penalty='l1',intercept_scaling=alpha)\n",
        "    lr.fit(x_train,y_train)\n",
        "\n",
        "    h = lr.predict_proba(x_cv)\n",
        "    h=h[:,1]\n",
        "    sq_diff = -y_cv*np.log(h)-(1-y_cv)*np.log(1-h)\n",
        "    errors[alpha] = (np.sum(sq_diff) /y_cv.shape[0])\n",
        "print(errors)\"\"\"\n",
        "\n",
        "lr=LogisticRegression(penalty='l1',intercept_scaling=7000)\n",
        "lr.fit(x_train,y_train)\n",
        "Y=lr.predict(x_test)\n",
        "out = pd.DataFrame()\n",
        "out['PassengerId'] = [i for i in range(train.shape[0]+1,train.shape[0]+x_test.shape[0]+1)]\n",
        "out['Survived'] = Y\n",
        "out.to_csv(\"output2.csv\", index=False)\n",
        "#print(out)\n"
      ]
    }
  ],
  "metadata": {
    "_change_revision": 0,
    "_is_fork": false,
    "kernelspec": {
      "display_name": "Python 3",
      "language": "python",
      "name": "python3"
    },
    "language_info": {
      "codemirror_mode": {
        "name": "ipython",
        "version": 3
      },
      "file_extension": ".py",
      "mimetype": "text/x-python",
      "name": "python",
      "nbconvert_exporter": "python",
      "pygments_lexer": "ipython3",
      "version": "3.6.0"
    }
  },
  "nbformat": 4,
  "nbformat_minor": 0
}