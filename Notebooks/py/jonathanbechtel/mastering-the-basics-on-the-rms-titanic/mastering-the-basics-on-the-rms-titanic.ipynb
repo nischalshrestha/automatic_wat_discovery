{
  "cells": [
    {
      "cell_type": "markdown",
      "metadata": {
        "_cell_guid": "9561d799-b9a2-41c3-6e4d-d70cdbb1aac5"
      },
      "source": [
        "The Titanic dataset is a great way to hone your chops on the basics of Data Science.  Being my first foray as a Kaggler, I figured I'd use this exercise as a way to carefully walk myself through the basics of data mining with an emphasis on the following details:\n",
        "\n",
        " - Careful data handling and categorization that removes bias\n",
        " - Thoughtful feature selection that adds extra value to the model\n",
        " - Simple but deliberate Cross Validation that prevents overfitting\n",
        " - Astute analysis post-hoc to determine the best roads for future improvements\n",
        "\n",
        "So, with that said, here's how the journey went.\n",
        "\n",
        "**Step 1:  Load the Data.**\n",
        " \n",
        "The one detail to note is that I set the 'PassengerId' column as the index, which makes future munging more convenient since it's what's used to identify who survives and who doesn't."
      ]
    },
    {
      "cell_type": "code",
      "execution_count": null,
      "metadata": {
        "_cell_guid": "33838167-4de7-f789-a9a3-1b87af257a5d"
      },
      "outputs": [],
      "source": [
        "import numpy as np\n",
        "import pandas as pd\n",
        "import matplotlib.pyplot as plt\n",
        "plt.style.use('ggplot')\n",
        "from sklearn.preprocessing import LabelEncoder\n",
        "from sklearn.cross_validation import train_test_split\n",
        "from sklearn.linear_model import LogisticRegression\n",
        "from sklearn.metrics import precision_recall_fscore_support\n",
        "from sklearn import svm\n",
        "\n",
        "#Read files into the program\n",
        "test = pd.read_csv(\"../input/test.csv\", index_col='PassengerId')\n",
        "train = pd.read_csv(\"../input/train.csv\", index_col='PassengerId')"
      ]
    },
    {
      "cell_type": "markdown",
      "metadata": {
        "_cell_guid": "144b38a6-84a4-d904-eb07-58dc8550b8e0"
      },
      "source": [
        "If we take a look at our training set we get the following:"
      ]
    },
    {
      "cell_type": "code",
      "execution_count": null,
      "metadata": {
        "_cell_guid": "9c8639a0-fcf5-4da2-f0d0-1ab28c2a39f2"
      },
      "outputs": [],
      "source": [
        "train.head(5)"
      ]
    },
    {
      "cell_type": "markdown",
      "metadata": {
        "_cell_guid": "b65e3971-b038-6cf4-09ec-38ff682b3e3d"
      },
      "source": [
        "We're going to do three things to start off:\n",
        "\n",
        " 1. Store the 'Survived' column as its own separate series and delete it from the 'Train' dataset.\n",
        " 2.  Concatenate the training and testing set to fill in and parse all the data at once.\n",
        " 3.  Drop two columns:  'Embarked' and 'Ticket.'\n",
        "\n",
        "Embarked demarcates what port a passenger was picked up at, and because the Titanic stopped only at major cities and it denotes details of an event that happened *before* the ship actually sank I'm going to assume it has no predictive value.  \n",
        "\n",
        "Logic for dropping the ticket number is similar.......if there's causal information to be inferred from it I'm not sure what it is, so at the risk of carrying variables that just add noise we're going to ax them:"
      ]
    },
    {
      "cell_type": "code",
      "execution_count": null,
      "metadata": {
        "_cell_guid": "b796f6d7-2c55-df35-2418-81d9ef7dcc22"
      },
      "outputs": [],
      "source": [
        "y = train['Survived']\n",
        "del train['Survived']\n",
        "\n",
        "train = pd.concat([train, test])\n",
        "\n",
        "#Drop unnecessary columns\n",
        "train = train.drop(train.columns[[6,9]], axis=1)  "
      ]
    },
    {
      "cell_type": "markdown",
      "metadata": {
        "_cell_guid": "c67d31a5-bb89-ec58-a8be-eeff46002f96"
      },
      "source": [
        "So now we get:"
      ]
    },
    {
      "cell_type": "code",
      "execution_count": null,
      "metadata": {
        "_cell_guid": "14fd9961-054d-49fd-a15f-79f9f0f0bb58"
      },
      "outputs": [],
      "source": [
        "train.head(5)"
      ]
    },
    {
      "cell_type": "markdown",
      "metadata": {
        "_cell_guid": "cd6ff205-898a-af44-1cea-d5af8b7d400e"
      },
      "source": [
        "**Categorical Data:  Encoding and Feature Generation**\n",
        "\n",
        "All  the operations in Sci-kit learn operate on integers so any data that exists as text needs to be classified into digits.  \n",
        "\n",
        "Ie, a category like 'Sex' should be  either 0 or 1.  Something with three options (like Pclass) should be 0,1,2 and so on.  \n",
        "\n",
        "The easiest way to do this (IMO) is with the [LabelEncoder()][1] method in SciKitLearn.  It categorizes all the different data in a Series and translates it into sequential digits.   You can do this in one fell swoop with the method fit_transform().\n",
        "\n",
        "Let's do that for PClass and Sex:\n",
        "\n",
        "  [1]: http://scikit-learn.org/stable/modules/generated/sklearn.preprocessing.LabelEncoder.html"
      ]
    },
    {
      "cell_type": "code",
      "execution_count": null,
      "metadata": {
        "_cell_guid": "179f135f-d154-7702-3178-5f80e7368268"
      },
      "outputs": [],
      "source": [
        "train['Sex'] = LabelEncoder().fit_transform(train.Sex)\n",
        "train['Pclass'] = LabelEncoder().fit_transform(train.Pclass)"
      ]
    },
    {
      "cell_type": "markdown",
      "metadata": {
        "_cell_guid": "2ce03d60-d8c1-9851-0844-3463b99f5cd9"
      },
      "source": [
        "For the 'Cabin' feature we're going to first do a little bit of data transformation.  \n",
        "\n",
        "Might the deck someone stays on have some predictive value for what kind of passenger they were?  Perhaps the 'C' deck was for passengers of a lower financial ilk, while the 'F' deck was the equivalent of the Penthouse, only reserved for the cream of the crop.\n",
        "\n",
        "To see we're going to extract the first letter of each passenger's cabin (if it exists) using the 'lambda x' feature in Python, and then encode it.  We change the np.nan values to 'X' so all data is the same type, allowing it to be labeled."
      ]
    },
    {
      "cell_type": "code",
      "execution_count": null,
      "metadata": {
        "_cell_guid": "6dd8ac2a-9bba-79d0-3978-95aa02158a7f"
      },
      "outputs": [],
      "source": [
        "train['Cabin'] = train.Cabin.apply(lambda x: x[0] if pd.notnull(x) else 'X')\n",
        "train['Cabin'] = LabelEncoder().fit_transform(train.Cabin)"
      ]
    },
    {
      "cell_type": "markdown",
      "metadata": {
        "_cell_guid": "2abfd2d1-a2af-9dbc-3bb5-b865421ea06f"
      },
      "source": [
        "Looking at these three categories we now have:"
      ]
    },
    {
      "cell_type": "code",
      "execution_count": null,
      "metadata": {
        "_cell_guid": "d6e1ccc0-b294-d2d4-07a3-9874ce416f53"
      },
      "outputs": [],
      "source": [
        "train[['Pclass', 'Sex', 'Cabin']][0:3]"
      ]
    },
    {
      "cell_type": "markdown",
      "metadata": {
        "_cell_guid": "2f2660c6-4e17-ad44-ec26-9208d23d0c48"
      },
      "source": [
        "grreeeaaaat.  \n",
        "\n",
        "**Missing Data**\n",
        "\n",
        "Now let's look to see if we have any missing data:"
      ]
    },
    {
      "cell_type": "code",
      "execution_count": null,
      "metadata": {
        "_cell_guid": "457e40c1-7652-bc88-8a72-1f1e294d76a9"
      },
      "outputs": [],
      "source": [
        "train.info()"
      ]
    },
    {
      "cell_type": "markdown",
      "metadata": {
        "_cell_guid": "a3882a40-bd83-29b4-c761-6c63e5473771"
      },
      "source": [
        "Clearly there's an important amount of missing data in the 'Age' category.  To fill it we're going to use the median age of that passengers Class and Sex, which will be accessed via the groupby method in Pandas:"
      ]
    },
    {
      "cell_type": "code",
      "execution_count": null,
      "metadata": {
        "_cell_guid": "a404c982-5d0e-5054-e3f6-c7c2c7e5dc81"
      },
      "outputs": [],
      "source": [
        "train.groupby(['Pclass', 'Sex'])['Age'].median()"
      ]
    },
    {
      "cell_type": "markdown",
      "metadata": {
        "_cell_guid": "71bc7aba-3a73-2a38-1231-98e2e37d186a"
      },
      "source": [
        "And then set using Lambda x"
      ]
    },
    {
      "cell_type": "code",
      "execution_count": null,
      "metadata": {
        "_cell_guid": "7f70e13e-3f2e-7d1e-23c7-29f28c904906"
      },
      "outputs": [],
      "source": [
        "train['Age'] = train.groupby(['Pclass', 'Sex'])['Age'].transform(lambda x: x.replace(np.nan, x.median()))\n",
        "train.iloc[1043, 6] = 7.90"
      ]
    },
    {
      "cell_type": "markdown",
      "metadata": {
        "_cell_guid": "0051cd9b-3fa5-d772-bb38-87276fa1dc5f"
      },
      "source": [
        "The missing cell for 'Fare' was achieved in a similar fashion.  \n",
        "\n",
        "**Feature Generation:  Family Size and Greeting**\n",
        "\n",
        "We're going to create a new feature called 'Family Size' that's the sum of the 'Parch' and 'SibSp' features.  The idea being that maybe large families were at increased risk of not getting on a boat together,  or that maybe people with children were given preference over singles.  \n",
        "\n",
        "This can be accomplished in one line:"
      ]
    },
    {
      "cell_type": "code",
      "execution_count": null,
      "metadata": {
        "_cell_guid": "1fd2a64e-31d4-7265-a286-9d156844ec2c"
      },
      "outputs": [],
      "source": [
        "train['Family_Size'] = train.SibSp + train.Parch"
      ]
    },
    {
      "cell_type": "markdown",
      "metadata": {
        "_cell_guid": "67ec0744-7611-3e51-61e5-3c5072eb6eed"
      },
      "source": [
        "Next we're going to use string processing to extract the greeting that was used for each passenger on the name of their ticket.  \n",
        "\n",
        "Conveniently each person's name is used with a greeting that begins with a capital letter and ends with a period like so:"
      ]
    },
    {
      "cell_type": "code",
      "execution_count": null,
      "metadata": {
        "_cell_guid": "8108f415-78c7-6cb3-55db-739ddead8e87"
      },
      "outputs": [],
      "source": [
        "train['Name'].iloc[0]"
      ]
    },
    {
      "cell_type": "markdown",
      "metadata": {
        "_cell_guid": "2c8f7cf3-784a-6594-ddd4-c9184cdc927b"
      },
      "source": [
        "So we'll extract each of these labels using a for loop by using the Python method split() to break up each name into an array of words, and then evaluate them using the isupper() and endswith() methods in a for loop:"
      ]
    },
    {
      "cell_type": "code",
      "execution_count": null,
      "metadata": {
        "_cell_guid": "95c32f90-bcb5-465a-a325-cb90d1c8c297"
      },
      "outputs": [],
      "source": [
        "#Used to create new pd Series from Name data that extracts the greeting used for their name to be used as a separate variable\n",
        "def greeting_search(words):\n",
        "    for word in words.split():\n",
        "        if word[0].isupper() and word.endswith('.'):\n",
        "            return word"
      ]
    },
    {
      "cell_type": "markdown",
      "metadata": {
        "_cell_guid": "f0e477ac-9754-96b3-2f81-c2b9e670ba80"
      },
      "source": [
        "We'll then apply this function to the 'Name' column:"
      ]
    },
    {
      "cell_type": "code",
      "execution_count": null,
      "metadata": {
        "_cell_guid": "ce9cd696-3937-ebdf-df2d-a805e4f5e296"
      },
      "outputs": [],
      "source": [
        "train['Greeting'] = train.Name.apply(greeting_search)"
      ]
    },
    {
      "cell_type": "markdown",
      "metadata": {
        "_cell_guid": "cc6f5357-7738-312a-51af-38372c9c3c95"
      },
      "source": [
        "Which yields the following greetings:"
      ]
    },
    {
      "cell_type": "code",
      "execution_count": null,
      "metadata": {
        "_cell_guid": "556f2036-6e53-aea0-4250-9773b6f4bb45"
      },
      "outputs": [],
      "source": [
        "train['Greeting'].value_counts()"
      ]
    },
    {
      "cell_type": "markdown",
      "metadata": {
        "_cell_guid": "326505b7-c907-c141-bb65-22de86d420c4"
      },
      "source": [
        "Looks interesting to me.  \n",
        "\n",
        "**Useless Trivia:**  I had no idea what 'Jonkheer' meant before doing this exercise, but it turns out it's a Dutch word for Royalty, increasing my naive hope that I might be onto something here.\n",
        "\n",
        "However, it's not a good idea to have large amounts of teensy-weensy variable because it can create outliers in your data that'll skew your results.  \n",
        "\n",
        "So we'll take all the greetings that occur 8 or less times and classify them under the moniker 'Rare', encode it, and then delete the Series called 'Name' since we don't need it anymore."
      ]
    },
    {
      "cell_type": "code",
      "execution_count": null,
      "metadata": {
        "_cell_guid": "c99538cd-f066-8ab2-c080-dd755e052bfe"
      },
      "outputs": [],
      "source": [
        "train['Greeting'] = train.groupby('Greeting')['Greeting'].transform(lambda x: 'Rare' if x.count() < 9 else x)\n",
        "del train['Name']"
      ]
    },
    {
      "cell_type": "markdown",
      "metadata": {
        "_cell_guid": "ed545512-d7b5-c6d9-b500-d944dfe30db2"
      },
      "source": [
        "Then tranform the data and drop the 'Name' series since it's no longer needed."
      ]
    },
    {
      "cell_type": "code",
      "execution_count": null,
      "metadata": {
        "_cell_guid": "f7d3108d-f71a-bfa7-6d84-d35e7d5b69f8"
      },
      "outputs": [],
      "source": [
        "train['Greeting'] = LabelEncoder().fit_transform(train.Greeting)"
      ]
    },
    {
      "cell_type": "markdown",
      "metadata": {
        "_cell_guid": "94b1631e-974c-bc74-2214-a3de1ae1b6e0"
      },
      "source": [
        "**Categorical Coding**\n",
        "\n",
        "Continuous order has a precise hierarchy to it.  Someone who paid $50 for a ticket definitely paid more than someone who paid $30.  \n",
        "\n",
        "However, someone who's greeted as 'Master' doesn't have more of a greeting than someone who's approached as 'Miss', but if one as coded as a 6 and the other a 1, SKLearn will think the one is 6 times as large as the other.  \n",
        "\n",
        "But they're actuallly separate yes/no categorizations packed on top of one another.  \n",
        "\n",
        "So what we want to do is re-code a Series into a package of yes/no decisions demarcated as 0 or 1 depending on which option they were.\n",
        "\n",
        "Ie, Someone's Passenger class should be denoted as [0, 0, 1], [1, 0, 0], or [0, 1, 0] depending on which of the three classes they are.  \n",
        "\n",
        "Pandas has a useful tool to do this called pd.get_dummies, which takes a series of encoded and then unpacks it into the appropriate number of yes/no columns.\n",
        "\n",
        "For example, we can take the 'Pclass' series and use pd.get_dummies like this:"
      ]
    },
    {
      "cell_type": "code",
      "execution_count": null,
      "metadata": {
        "_cell_guid": "510b478b-48ce-eaa6-e763-3ecc93861385"
      },
      "outputs": [],
      "source": [
        "#Categorical coding for data with more than two labels\n",
        "Pclass = pd.get_dummies(train['Pclass'], prefix='Passenger Class', drop_first=True)"
      ]
    },
    {
      "cell_type": "markdown",
      "metadata": {
        "_cell_guid": "bc6cd102-c03a-1de3-6aa6-c14c77a2b32b"
      },
      "source": [
        "And have it turned into this:"
      ]
    },
    {
      "cell_type": "code",
      "execution_count": null,
      "metadata": {
        "_cell_guid": "efcb1808-253a-6661-70a0-c4a2acce6bbc"
      },
      "outputs": [],
      "source": [
        "Pclass.head(5)"
      ]
    },
    {
      "cell_type": "markdown",
      "metadata": {
        "_cell_guid": "d38d5467-0733-133b-3299-657b1d4f2cee"
      },
      "source": [
        "**Important:**  You might notice there's an option called 'drop_first' which is set to 'True.'\n",
        "\n",
        "That means the first variable in the series is excluded, which is important for avoiding something called collinearity, which you can read more about [here][1].\n",
        "\n",
        "To be honest, probably not that important for this dataset, but a useful habit to keep in mind, especially if you work with Time Series data.\n",
        "\n",
        "We can transform our other categorical variables in the same way:\n",
        "\n",
        "  [1]: https://en.wikipedia.org/wiki/Multicollinearity"
      ]
    },
    {
      "cell_type": "code",
      "execution_count": null,
      "metadata": {
        "_cell_guid": "33b1e9fb-bfa2-c768-8ef3-d33fb17b9a8d"
      },
      "outputs": [],
      "source": [
        "Greetings = pd.get_dummies(train['Greeting'], prefix='Greeting', drop_first=True)\n",
        "Cabins = pd.get_dummies(train['Cabin'], prefix='Cabin', drop_first=True)"
      ]
    },
    {
      "cell_type": "markdown",
      "metadata": {
        "_cell_guid": "cc26a988-6fa9-4ac0-b831-d40e0c6a29ba"
      },
      "source": [
        "**Scaling Data**\n",
        "\n",
        "Continuous data needs to be scaled so the values that get fed into it have similar properties.  In particular, the L2 penalization assumes all data follows the standard normal distribution.  \n",
        "\n",
        "Some algorithms like the Support Vector Machine are sensitive to scale, and not scaling it can significantly skew its results.  Not scaling isn't always going to be a cardinal sin, but it's good practice to do it to help the consistency of your results and make your data more robust to overfitting and false signals.  \n",
        "\n",
        "There are a number of ways to scale data, but the most popular method is probably taking each value and subtracting the mean from it and then dividing by the standard deviation, like so:"
      ]
    },
    {
      "cell_type": "code",
      "execution_count": null,
      "metadata": {
        "_cell_guid": "c7a86d01-57b1-ec91-8f8e-6b0ba307d25f"
      },
      "outputs": [],
      "source": [
        "#Scale Continuous Data\n",
        "train['SibSp_scaled'] = (train.SibSp - train.SibSp.mean())/train.SibSp.std()\n",
        "train['Parch_scaled'] = (train.Parch - train.Parch.mean())/train.Parch.std()\n",
        "train['Family_scaled'] = (train.Family_Size - train.Family_Size.mean())/train.Family_Size.std()\n",
        "train['Age_scaled'] = (train.Age - train.Age.mean())/train.Age.std()\n",
        "train['Fare_scaled'] = (train.Fare - train.Fare.mean())/train.Fare.std()"
      ]
    },
    {
      "cell_type": "markdown",
      "metadata": {
        "_cell_guid": "902a59e0-e705-a5c6-cb98-c7754362001a"
      },
      "source": [
        "**Final Processing**\n",
        "\n",
        "Here's what we'll do for the final data processing steps:\n",
        "\n",
        " 1. Drop the columns that have been transformed into something else.\n",
        " 2.  Concatenate the dataframes that were created with pd.get_dummies()\n",
        " 3.  split the data back into its training and test sets now that everything's been munged, scaled, filled and transformed."
      ]
    },
    {
      "cell_type": "code",
      "execution_count": null,
      "metadata": {
        "_cell_guid": "d99317e3-792c-14bc-ccb1-5df260211a04"
      },
      "outputs": [],
      "source": [
        "#Drop unmodified data since it's no longer needed\n",
        "train = train.drop(train.columns[[0,2,3,4,5,6,7,8]], axis=1)\n",
        "\n",
        "#Concat modified data to be used for analysis, set to X and y values\n",
        "data = pd.concat([train, Greetings, Pclass, Cabins], axis=1)\n",
        "\n",
        "#Split the data back into its original training and test sets\n",
        "test = data.iloc[891:]\n",
        "X = data[:891]"
      ]
    },
    {
      "cell_type": "markdown",
      "metadata": {
        "_cell_guid": "29ab3861-efdc-e4af-1bac-8367fd843359"
      },
      "source": [
        "**Cross Validation**\n",
        "\n",
        "We need to cross-validate to avoid overfitting.  \n",
        "\n",
        "Lots of people use the K-fold technique, but the only method I've ever used myself is creating a separate Cross Validation set from the original training data, so that's what we'll do here using train_test_split() from SKLearn"
      ]
    },
    {
      "cell_type": "code",
      "execution_count": null,
      "metadata": {
        "_cell_guid": "51d9e933-ab4a-9879-ff95-9643b13ab43d"
      },
      "outputs": [],
      "source": [
        "#Create cross - validation set \n",
        "X_train, X_val, y_train, y_val = train_test_split(X, y, train_size = 0.6)"
      ]
    },
    {
      "cell_type": "markdown",
      "metadata": {
        "_cell_guid": "e71259b0-a0c1-1666-87b3-a2ca4aecec1d"
      },
      "source": [
        "Then we'll initialize the Logistic Regression Algorithm:"
      ]
    },
    {
      "cell_type": "code",
      "execution_count": null,
      "metadata": {
        "_cell_guid": "df22a6b5-64bd-b2f9-c5a4-6ddd96b0ad01"
      },
      "outputs": [],
      "source": [
        "clf = LogisticRegression()"
      ]
    },
    {
      "cell_type": "markdown",
      "metadata": {
        "_cell_guid": "43f3b313-e2f1-b019-8316-2269d466d7a3"
      },
      "source": [
        "Next we're going to iterate through multiple values of C on the Cross Validation set to find which one creates the smallest amount of error."
      ]
    },
    {
      "cell_type": "code",
      "execution_count": null,
      "metadata": {
        "_cell_guid": "b5891e1d-fdb3-1f85-13ec-fb5f25f20158"
      },
      "outputs": [],
      "source": [
        "def find_C(X, y):\n",
        "    Cs = np.logspace(-4, 4, 10)\n",
        "    score = []  \n",
        "    for C in Cs:\n",
        "        clf.C = C\n",
        "        clf.fit(X_train, y_train)\n",
        "        score.append(clf.score(X, y))\n",
        "  \n",
        "    plt.figure()\n",
        "    plt.semilogx(Cs, score, marker='x')\n",
        "    plt.xlabel('Value of C')\n",
        "    plt.ylabel('Accuracy on Cross Validation Set')\n",
        "    plt.title('What\\'s the Best Value of C?')\n",
        "    plt.show()\n",
        "    clf.C = Cs[score.index(max(score))]\n",
        "    print(\"Ideal value of C is %g\" % (Cs[score.index(max(score))]))\n",
        "    print('Accuracy: %g' % (max(score)))"
      ]
    },
    {
      "cell_type": "markdown",
      "metadata": {
        "_cell_guid": "ca28856d-3194-f0b3-b2e6-9cf7a1d43dd0"
      },
      "source": [
        "Here's a brief overview of what went on here:\n",
        "\n",
        " - We created an array of C values that range from 10^-4 to 10^4.  \n",
        "For each value of C we:\n",
        " - fit the data to X_train and y_train\n",
        " -  score it on X_val and y_val\n",
        " - append the score into the list 'score', and then plot the values in 'score' to their corresponding C values\n",
        "  - set the value of C in Logistic Regression to the value that had the highest accuracy on the cross validation data.  \n",
        "\n",
        "Running it gives us this:"
      ]
    },
    {
      "cell_type": "code",
      "execution_count": null,
      "metadata": {
        "_cell_guid": "4bf45392-870c-51dc-9466-5938682c0390"
      },
      "outputs": [],
      "source": [
        "find_C(X_val, y_val)"
      ]
    },
    {
      "cell_type": "markdown",
      "metadata": {
        "_cell_guid": "976ce23d-c301-7d5d-e206-3f84ad854363"
      },
      "source": [
        "As you can see, the choice of C can have a pretty large impact on the results!  "
      ]
    },
    {
      "cell_type": "markdown",
      "metadata": {
        "_cell_guid": "dedd61c9-aee4-9833-480d-ffdad01e704a"
      },
      "source": [
        "**Final Answers**\n",
        "\n",
        "We'll make our predictions on the test data and write them to a .csv file here:"
      ]
    },
    {
      "cell_type": "code",
      "execution_count": null,
      "metadata": {
        "_cell_guid": "b7088fb7-5975-ebda-1fa0-30e8b30ca508"
      },
      "outputs": [],
      "source": [
        "answer = pd.DataFrame(clf.predict(test), index=test.index, columns=['Survived'])\n",
        "answer.to_csv('answer.csv')"
      ]
    },
    {
      "cell_type": "markdown",
      "metadata": {
        "_cell_guid": "a879df47-15e7-603c-dc72-e3abf7c12816"
      },
      "source": [
        "**Analyzing the Results**\n",
        "\n",
        "Now that our analysis is done it might be helpful to do some post-hoc analysis to see what was going on underneath the hood.  \n",
        "\n",
        "An additional benefit of feaure scaling is that it makes it much easier to compare coefficients of different variables.  \n",
        "\n",
        "Let's store and look at them now:"
      ]
    },
    {
      "cell_type": "code",
      "execution_count": null,
      "metadata": {
        "_cell_guid": "c91b8b90-3bc6-f72e-f970-41d3ee567f9b"
      },
      "outputs": [],
      "source": [
        "coef = pd.DataFrame({'Variable': data.columns, 'Coefficient': clf.coef_[0]})\n",
        "coef"
      ]
    },
    {
      "cell_type": "markdown",
      "metadata": {
        "_cell_guid": "f1e6debc-faae-0d83-2bd8-a15f95cb9648"
      },
      "source": [
        "As expected, sex and passenger class had large effects on final outcome.  It's also useful to note that the greetings had a very large effect as well, with everything else being more modest.\n",
        "\n",
        "**Precision and Recall**\n",
        "\n",
        "Classifications algorithms can have a high level of accuracy without necessarily being well-tuned to the problem at hand.  \n",
        "\n",
        "To take a closer look at how our algorithm is handling the data, let's evaluate it using two measures known as Precision and Recall.  \n",
        "\n",
        "Simply put, they measure how accurately your algorithm accepts correct answers and rejects false ones.  [You can read more about them here][1].\n",
        "\n",
        "Once you have these measures you can evaluate them using an F1-Score, which is:\n",
        "\n",
        "2 * Precision * Recall / (Precision + Recall)\n",
        "\n",
        "SK learn has its own method for doing it, which you can see [here][2] , but somestimes it's useful to roll things out yourself to make sure you understand what's going on.  \n",
        "\n",
        "So here's a simple function that calculates all three measures:\n",
        "\n",
        "  [1]: https://en.wikipedia.org/wiki/Precision_and_recall\n",
        "  [2]: http://scikit-learn.org/stable/auto_examples/model_selection/plot_precision_recall.html"
      ]
    },
    {
      "cell_type": "code",
      "execution_count": null,
      "metadata": {
        "_cell_guid": "13b2f850-fdd9-de9d-1b05-43364ff78309"
      },
      "outputs": [],
      "source": [
        "results = y_val.tolist()\n",
        "predict = clf.predict(X_val)\n",
        "\n",
        "def precision_recall(predictions, results):\n",
        "    \n",
        "    tp, fp, fn, tn, i = 0.0, 0.0, 0.0, 0.0, 0\n",
        "    \n",
        "    while i < len(results):\n",
        "        \n",
        "            if predictions[i] == 1 and results[i] == 1:\n",
        "                tp = tp + 1\n",
        "            elif predictions[i] == 1 and results[i] == 0:\n",
        "                fp = fp + 1\n",
        "            elif predictions[i] == 0 and results[i] == 0:\n",
        "                tn = tn + 1\n",
        "            else: \n",
        "                fn = fn + 1\n",
        "            i = i + 1\n",
        "    \n",
        "    precision = tp / (tp + fp)\n",
        "    recall = tn / (tn + fn)\n",
        "    f1 = 2*precision*recall / (precision + recall)\n",
        "    print(\"Precision: %g, Recall: %g, f1: %g\" % (precision, recall, f1))"
      ]
    },
    {
      "cell_type": "markdown",
      "metadata": {
        "_cell_guid": "e67b60e7-8243-91ca-1961-e95b91335519"
      },
      "source": [
        "If we run it, we get:\t"
      ]
    },
    {
      "cell_type": "code",
      "execution_count": null,
      "metadata": {
        "_cell_guid": "12ac2555-6f52-4870-6a03-0b622e3edbfe"
      },
      "outputs": [],
      "source": [
        "precision_recall(predict, results)"
      ]
    },
    {
      "cell_type": "markdown",
      "metadata": {
        "_cell_guid": "24b98921-1322-df59-0b6e-5c7cab209a6d"
      },
      "source": [
        "So the algorithm is a little better at throwing out the baddies than recognizing the goodies, but is reasonably sound at both.\n",
        "\n",
        "Okay, so that about wraps it up.  Critiques, questions, and improvements are all welcome and appreciated!  \n",
        "\n",
        "Here are some future steps you could take with this data:\n",
        "\n",
        " - Different algorithms that might fit the data more tightly (SVM, Random Forest, etc)\n",
        " - Detection of outliers that might be skewing data (I have a feeling this might be one of the most useful    \n",
        "    steps with such a limited data set).\n",
        " - Playing around with the addition or subtraction of features to see if they improve performance.  (**hint:** I actually improved my score by removing one of the initial categories entirely, so there is some noise in this script).\n",
        "\n",
        "Hope this helped, enjoy!"
      ]
    }
  ],
  "metadata": {
    "_change_revision": 0,
    "_is_fork": false,
    "kernelspec": {
      "display_name": "Python 3",
      "language": "python",
      "name": "python3"
    },
    "language_info": {
      "codemirror_mode": {
        "name": "ipython",
        "version": 3
      },
      "file_extension": ".py",
      "mimetype": "text/x-python",
      "name": "python",
      "nbconvert_exporter": "python",
      "pygments_lexer": "ipython3",
      "version": "3.5.2"
    }
  },
  "nbformat": 4,
  "nbformat_minor": 0
}