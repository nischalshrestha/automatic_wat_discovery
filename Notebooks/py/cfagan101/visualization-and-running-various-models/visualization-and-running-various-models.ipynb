{"cells":[
 {
  "cell_type": "code",
  "execution_count": null,
  "metadata": {
   "collapsed": true
  },
  "outputs": [],
  "source": "%matplotlib inline"
 },
 {
  "cell_type": "code",
  "execution_count": null,
  "metadata": {
   "collapsed": false
  },
  "outputs": [],
  "source": "import numpy as np\nfrom pandas import Series, DataFrame\nimport pandas as pd\nimport seaborn as sns\nimport matplotlib.pyplot as plt\n%matplotlib inline"
 },
 {
  "cell_type": "code",
  "execution_count": null,
  "metadata": {
   "collapsed": false
  },
  "outputs": [],
  "source": "titanic_df = pd.read_csv('../input/train.csv')\ntest_df = pd.read_csv('../input/test.csv')"
 },
 {
  "cell_type": "code",
  "execution_count": null,
  "metadata": {
   "collapsed": false
  },
  "outputs": [],
  "source": "#Need to fill missing values for age so will explore that first\ntitanic_df['Age'].hist(bins=100, label=\"Train set\")\ntest_df['Age'].hist(bins=100, label=\"Test set\")\nplt.legend()"
 },
 {
  "cell_type": "code",
  "execution_count": null,
  "metadata": {
   "collapsed": false
  },
  "outputs": [],
  "source": "#There doesn't appear to be any outliers so will replace all NaN values with median\ntitanic_df['Age'].fillna(titanic_df['Age'].median(), inplace=True)\ntest_df['Age'].fillna(test_df['Age'].median(), inplace=True)"
 },
 {
  "cell_type": "code",
  "execution_count": null,
  "metadata": {
   "collapsed": false
  },
  "outputs": [],
  "source": "#Define who is a child, female adult and male adult:\ndef child_female_male(passenger):\n    Age, Sex = passenger\n    if Age < 16:\n        return 'child'\n    else:\n        return Sex"
 },
 {
  "cell_type": "code",
  "execution_count": null,
  "metadata": {
   "collapsed": false
  },
  "outputs": [],
  "source": "#Create new column to define if passenger was child/female/male\ntitanic_df['Type'] = titanic_df[['Age', 'Sex']].apply(child_female_male, axis = 1)\ntest_df['Type'] = test_df[['Age', 'Sex']].apply(child_female_male, axis = 1)"
 },
 {
  "cell_type": "code",
  "execution_count": null,
  "metadata": {
   "collapsed": false
  },
  "outputs": [],
  "source": "#plot this\nsns.factorplot('Type',data=titanic_df, kind=\"count\", palette='summer')"
 },
 {
  "cell_type": "code",
  "execution_count": null,
  "metadata": {
   "collapsed": false
  },
  "outputs": [],
  "source": "#Look at the amount of 'Type' of person in each class\nsns.factorplot('Pclass', data=titanic_df, kind='count', hue='Type', x_order=(1,2,3), palette='winter')"
 },
 {
  "cell_type": "code",
  "execution_count": null,
  "metadata": {
   "collapsed": false
  },
  "outputs": [],
  "source": "#Take a look at the dispersion of age in the different classes in the training set\nfig = sns.FacetGrid(titanic_df, hue='Pclass', aspect=4)\nfig.map(sns.kdeplot, 'Age', shade=True)\nfig.set(xlim=(0,titanic_df['Age'].max()))\nfig.add_legend()"
 },
 {
  "cell_type": "code",
  "execution_count": null,
  "metadata": {
   "collapsed": false
  },
  "outputs": [],
  "source": "#Where passengers embarked from\nsns.factorplot('Embarked', data=titanic_df, kind='count')"
 },
 {
  "cell_type": "code",
  "execution_count": null,
  "metadata": {
   "collapsed": false
  },
  "outputs": [],
  "source": "#Fill NaN value for \"Embarked\" with most common value\ntitanic_df[\"Embarked\"] = titanic_df[\"Embarked\"].fillna(\"S\")"
 },
 {
  "cell_type": "code",
  "execution_count": null,
  "metadata": {
   "collapsed": false
  },
  "outputs": [],
  "source": "#Replace the one NaN value in test set 'Fare'\ntest_df[\"Fare\"].fillna(test_df[\"Fare\"].median(), inplace=True)"
 },
 {
  "cell_type": "code",
  "execution_count": null,
  "metadata": {
   "collapsed": false
  },
  "outputs": [],
  "source": "#Convert Fare to int value\ntitanic_df['Fare']= titanic_df['Fare'].astype(int)\ntest_df['Fare'] = test_df['Fare'].astype(int)"
 },
 {
  "cell_type": "code",
  "execution_count": null,
  "metadata": {
   "collapsed": false
  },
  "outputs": [],
  "source": "#Map each object to an integer\ntitanic_df['Type'] = titanic_df['Type'].map({'male': 0, 'female': 1, 'child':2})\ntest_df['Type'] = test_df['Type'].map({'male':0, 'female':1, 'child':2})\ntitanic_df['Embarked'] = titanic_df['Embarked'].map({'C':0, 'Q':1, 'S':2})\ntest_df['Embarked'] = test_df['Embarked'].map({'C':0, 'Q':1, 'S':2})"
 },
 {
  "cell_type": "code",
  "execution_count": null,
  "metadata": {
   "collapsed": false
  },
  "outputs": [],
  "source": "#Look who had family and who didn't\ntitanic_df['Family'] = titanic_df['Parch'] + titanic_df['SibSp']\ntitanic_df['Family'].loc[titanic_df['Family'] > 0] = 1\ntitanic_df['Family'].loc[titanic_df['Family'] == 0] = 0\n\n\ntest_df['Family'] = test_df['Parch'] + test_df['SibSp']\ntest_df['Family'].loc[test_df['Family'] > 0] = 1\ntest_df['Family'].loc[test_df['Family'] == 0] = 0"
 },
 {
  "cell_type": "code",
  "execution_count": null,
  "metadata": {
   "collapsed": false
  },
  "outputs": [],
  "source": "#Can view linear relationships between different features and Survived\n#Younger passengers with family had a higher chance of surviving\nsns.lmplot('Age', 'Survived', hue='Family', data=titanic_df)"
 },
 {
  "cell_type": "code",
  "execution_count": null,
  "metadata": {
   "collapsed": false
  },
  "outputs": [],
  "source": "#Those who paid a higher Fare also had a higher chance of surving\nsns.lmplot('Fare', 'Survived', hue='Sex', data=titanic_df)"
 },
 {
  "cell_type": "code",
  "execution_count": null,
  "metadata": {
   "collapsed": false
  },
  "outputs": [],
  "source": "#Members of a small family (<5) had a higher chance of survival so merge train set and test set\ntitanic_all = pd.concat([titanic_df, test_df], ignore_index=True)"
 },
 {
  "cell_type": "code",
  "execution_count": null,
  "metadata": {
   "collapsed": false
  },
  "outputs": [],
  "source": "#Say a small family is less than 5 whilst a large family contains 5 or more\ntitanic_all['Small_fam'] = titanic_all['Parch'] + titanic_all['SibSp'] + 1\ntitanic_all['Small_fam'].loc[titanic_all['Small_fam'] >= 5] = 0\ntitanic_all['Small_fam'].loc[titanic_all['Small_fam'] < 5] = 1"
 },
 {
  "cell_type": "code",
  "execution_count": null,
  "metadata": {
   "collapsed": false
  },
  "outputs": [],
  "source": "#Split back into train set and test set\ntitanic_df = titanic_all[:891]"
 },
 {
  "cell_type": "code",
  "execution_count": null,
  "metadata": {
   "collapsed": false
  },
  "outputs": [],
  "source": "test_df = titanic_all[891:]\ntest_df = test_df.reset_index(drop=True)"
 },
 {
  "cell_type": "code",
  "execution_count": null,
  "metadata": {
   "collapsed": false
  },
  "outputs": [],
  "source": "#Drop the features we won't use in our models\ntitanic_df = titanic_df.drop(['Name', 'Sex', 'Ticket', 'Cabin', 'PassengerId', 'Parch', 'SibSp'], axis=1)\ntest_df = test_df.drop(['Name', 'Sex', 'Ticket', 'Cabin', 'SibSp', 'Parch', 'Survived'], axis=1)"
 },
 {
  "cell_type": "code",
  "execution_count": null,
  "metadata": {
   "collapsed": false
  },
  "outputs": [],
  "source": "X_train = titanic_df.drop([\"Survived\"],axis=1)\nY_train = titanic_df[\"Survived\"]\n\nX_test  = test_df.drop(\"PassengerId\",axis=1).copy()"
 },
 {
  "cell_type": "code",
  "execution_count": null,
  "metadata": {
   "collapsed": false
  },
  "outputs": [],
  "source": "from sklearn.preprocessing import Imputer\nX_train = Imputer().fit_transform(X_train)"
 },
 {
  "cell_type": "code",
  "execution_count": null,
  "metadata": {
   "collapsed": false
  },
  "outputs": [],
  "source": "from sklearn import cross_validation"
 },
 {
  "cell_type": "code",
  "execution_count": null,
  "metadata": {
   "collapsed": false
  },
  "outputs": [],
  "source": "Xcross_train, Xcross_test, ycross_train, ycross_test = cross_validation.train_test_split(\n    X_train, Y_train, test_size=0.2, random_state=0)"
 },
 {
  "cell_type": "code",
  "execution_count": null,
  "metadata": {
   "collapsed": false
  },
  "outputs": [],
  "source": "#Try Logistic Regression\nfrom sklearn import linear_model\nlogistic = linear_model.LogisticRegression()"
 },
 {
  "cell_type": "code",
  "execution_count": null,
  "metadata": {
   "collapsed": false
  },
  "outputs": [],
  "source": "clf = logistic.fit(Xcross_train, ycross_train)\nclf.score(Xcross_test, ycross_test)"
 },
 {
  "cell_type": "code",
  "execution_count": null,
  "metadata": {
   "collapsed": false
  },
  "outputs": [],
  "source": "#Try Naive Bayes (GaussianNB as we have few features vs. size of training set)\nfrom sklearn.naive_bayes import GaussianNB\ngnb = GaussianNB()\nclf = gnb.fit(Xcross_train, ycross_train)\nclf.score(Xcross_test, ycross_test)"
 },
 {
  "cell_type": "code",
  "execution_count": null,
  "metadata": {
   "collapsed": false
  },
  "outputs": [],
  "source": "#Try Support Vector Machines\nfrom sklearn import svm\nclf = svm.SVC()\nclf = clf.fit(Xcross_train, ycross_train)\nclf.score(Xcross_test, ycross_test)"
 },
 {
  "cell_type": "code",
  "execution_count": null,
  "metadata": {
   "collapsed": false
  },
  "outputs": [],
  "source": "#Random Forest Classifier\nfrom sklearn.ensemble import RandomForestClassifier\nclf = RandomForestClassifier(n_estimators=200,\n    min_samples_split=4,\n    min_samples_leaf=2)\nclf = clf.fit(Xcross_train, ycross_train)\nclf.score(Xcross_test, ycross_test)"
 },
 {
  "cell_type": "code",
  "execution_count": null,
  "metadata": {
   "collapsed": false
  },
  "outputs": [],
  "source": "#Highest score so far, let's look at the Classification Report\nfrom sklearn.metrics import classification_report\nfrom sklearn import metrics\ny_true, y_pred = ycross_test, clf.predict(Xcross_test)\nprint(classification_report(y_true, y_pred))"
 },
 {
  "cell_type": "code",
  "execution_count": null,
  "metadata": {
   "collapsed": false
  },
  "outputs": [],
  "source": "y_pred = clf.predict(X_test).astype(int)\nsubmission = pd.DataFrame({'PassengerId': test_df['PassengerId'],'Survived': y_pred})\nsubmission.to_csv('titanic_submission.csv', index=False)"
 },
 {
  "cell_type": "code",
  "execution_count": null,
  "metadata": {
   "collapsed": false
  },
  "outputs": [],
  "source": "#See if ExtraTrees Classifier is an improvement on RandomForest\nfrom sklearn.ensemble import ExtraTreesClassifier\nclf = ExtraTreesClassifier(n_estimators=200, max_depth=None,min_samples_split=1, random_state=0)\nclf = clf.fit(Xcross_train, ycross_train)\nclf.score(Xcross_test, ycross_test)"
 },
 {
  "cell_type": "code",
  "execution_count": null,
  "metadata": {
   "collapsed": false
  },
  "outputs": [],
  "source": ""
 }
],"metadata":{"kernelspec":{"display_name":"Python 3","language":"python","name":"python3"}}, "nbformat": 4, "nbformat_minor": 0}