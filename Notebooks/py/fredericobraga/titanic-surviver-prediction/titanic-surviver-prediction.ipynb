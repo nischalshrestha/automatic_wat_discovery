{
  "cells": [
    {
      "cell_type": "markdown",
      "metadata": {
        "_cell_guid": "7cc2b541-4e40-24ec-b474-2af3fcdfa5fa"
      },
      "source": [
        "## Data Analysis Process\n",
        "\n",
        "### 1. Questions\n",
        "\n",
        "Which passengers survived the Titanic?"
      ]
    },
    {
      "cell_type": "code",
      "execution_count": null,
      "metadata": {
        "_cell_guid": "5726f75e-d25a-6123-2304-ad934b4f9103"
      },
      "outputs": [],
      "source": [
        "%matplotlib inline\n",
        "\n",
        "#get data\n",
        "import pandas as pd\n",
        "import warnings\n",
        "import matplotlib.pyplot as plt\n",
        "import seaborn as sns\n",
        "import re\n",
        "\n",
        "# machine learning\n",
        "from sklearn.linear_model import LogisticRegression\n",
        "from sklearn.svm import SVC, LinearSVC\n",
        "from sklearn.ensemble import RandomForestClassifier\n",
        "from sklearn.neighbors import KNeighborsClassifier\n",
        "from sklearn.naive_bayes import GaussianNB\n",
        "\n",
        "aged_changed = False\n",
        "\n",
        "warnings.filterwarnings('ignore')\n",
        "\n",
        "train_df = pd.read_csv('../input/train.csv')\n",
        "test_df = pd.read_csv('../input/test.csv')\n",
        "\n",
        "train_df.head()\n",
        "test_df.head()"
      ]
    },
    {
      "cell_type": "markdown",
      "metadata": {
        "_cell_guid": "149ea8ba-dcf8-110b-c9fc-5f80c7dc0eb9"
      },
      "source": [
        "###  2. Wrangle"
      ]
    },
    {
      "cell_type": "code",
      "execution_count": null,
      "metadata": {
        "_cell_guid": "8df77054-64b0-44d3-2e54-2964f741d666"
      },
      "outputs": [],
      "source": [
        "#clean\n",
        "\n",
        "survive_count = train_df.groupby('Survived').size() \n",
        "\n",
        "#erase useless columns for the prediction\n",
        "traind_df = train_df.drop(['Ticket', 'Cabin'], axis=1, inplace=True)\n",
        "\n",
        "print (train_df.describe())\n",
        "\n",
        "print (train_df.head())"
      ]
    },
    {
      "cell_type": "code",
      "execution_count": null,
      "metadata": {
        "_cell_guid": "4ded134b-0ef9-6266-402f-a6720ae7008b"
      },
      "outputs": [],
      "source": [
        "#pclass\n",
        "\n",
        "pclass_count  = train_df.groupby('Pclass').size()\n",
        "unique_pclass   = train_df['Pclass'].unique()\n",
        "\n",
        "print('Pclass count',pclass_count )\n",
        "print ('Pclass', unique_pclass)\n",
        "\n",
        "sns.factorplot('Pclass', 'Survived',data=train_df, order=unique_pclass.sort())"
      ]
    },
    {
      "cell_type": "code",
      "execution_count": null,
      "metadata": {
        "_cell_guid": "6781fdf6-abd7-1068-bfb5-7415dbf701b6"
      },
      "outputs": [],
      "source": [
        "#sex\n",
        "sex_count     = train_df.groupby('Sex').size()\n",
        "unique_sex      = train_df['Sex'].unique()\n",
        "\n",
        "print( 'Sex count', sex_count)\n",
        "print ('Sex', unique_sex)\n",
        "sns.factorplot('Sex', 'Survived',data=train_df, order=unique_sex.sort())\n",
        "\n",
        "train_df['Sex'] = train_df['Sex'].map( {'male': 0, 'female': 1} ).astype(int)"
      ]
    },
    {
      "cell_type": "code",
      "execution_count": null,
      "metadata": {
        "_cell_guid": "a2a24abb-d2db-69c6-e672-b93585b611ef"
      },
      "outputs": [],
      "source": [
        "#siblings and spouses\n",
        "\n",
        "sibsp_count   = train_df.groupby('SibSp').size()\n",
        "unique_sibsp    = train_df['SibSp'].unique()\n",
        "\n",
        "print( 'SibSp count', sibsp_count)  \n",
        "print ('SibSp', unique_sibsp)\n",
        "#sns.factorplot('SibSp', 'Survived',data=train_df, order=unique_sibsp.sort())"
      ]
    },
    {
      "cell_type": "code",
      "execution_count": null,
      "metadata": {
        "_cell_guid": "a5739ee8-0b4b-8579-356e-dbc5285be8a8"
      },
      "outputs": [],
      "source": [
        "#parents and children\n",
        "\n",
        "parch_count  = train_df.groupby('Parch').size()\n",
        "unique_parch = train_df['Parch'].unique()\n",
        "\n",
        "print( 'Parch count', parch_count )\n",
        "print ('Parch', unique_parch)\n",
        "#sns.factorplot('Parch', 'Survived',data=train_df, order=unique_parch.sort())"
      ]
    },
    {
      "cell_type": "code",
      "execution_count": null,
      "metadata": {
        "_cell_guid": "f6f0df6c-f2a6-6131-2b23-31a6f9bab58f"
      },
      "outputs": [],
      "source": [
        "# is Alone\n",
        "\n",
        "\n",
        "train_df['isAlone'] = (train_df['SibSp'] + train_df['Parch']) == 0\n",
        "train_df['isAlone']\n",
        "\n",
        "is_alone_count  = train_df.groupby('isAlone').size()\n",
        "unique_is_alone = train_df['isAlone'].unique()\n",
        "\n",
        "print( 'isAlone count', is_alone_count )\n",
        "print ('isAlone', unique_is_alone)\n",
        "sns.factorplot('isAlone', 'Survived',data=train_df, order=unique_is_alone.sort())\n",
        "\n",
        "traind_df = train_df.drop(['SibSp', 'Parch'], axis=1, inplace=True)\n",
        "\n",
        "train_df.head()"
      ]
    },
    {
      "cell_type": "code",
      "execution_count": null,
      "metadata": {
        "_cell_guid": "9b0f0533-2da7-b2db-f3a3-94261ef46b7f"
      },
      "outputs": [],
      "source": [
        "# age\n",
        "\n",
        "def split_equal_groups(age):\n",
        "   \n",
        "    if age < 23:\n",
        "        return 0\n",
        "    elif age < 33 or age == None:\n",
        "        return 1\n",
        "    elif age < 55:\n",
        "        return 2\n",
        "    elif age:\n",
        "        return 3\n",
        "    \n",
        "if aged_changed == False :\n",
        "    train_df['Age'] = train_df['Age'].apply(split_equal_groups)    \n",
        "    aged_changed = True\n",
        "    \n",
        "#train_df['Age'].fillna(age_count.argmax(), inplace=True)\n",
        "\n",
        "age_count  = train_df.groupby('Age').size()\n",
        "unique_age      = train_df['Age'].unique()\n",
        "\n",
        "print( 'Age count', age_count )   \n",
        "print ('Age', unique_age)\n",
        "plt.hist(train_df['Age'])\n",
        "sns.factorplot('Age', 'Survived',data=train_df, order=unique_age.sort())\n",
        "\n",
        "train_df['Age'].fillna(age_count.argmax(), inplace=True)"
      ]
    },
    {
      "cell_type": "code",
      "execution_count": null,
      "metadata": {
        "_cell_guid": "96438300-a259-c983-2e63-4668c2fca156"
      },
      "outputs": [],
      "source": [
        "#name\n",
        "def get_title(name):\n",
        "    title_search = re.search(' ([A-Za-z]+)\\.', name)\n",
        "    # If the title exists, extract and return it.\n",
        "    if title_search:\n",
        "        return title_search.group(1)\n",
        "    return \"\"\n",
        "    \n",
        "def filter_title(title):\n",
        "    \n",
        "    if train_df.groupby('Title').size()[title] >= 40:\n",
        "        return title\n",
        "    else:\n",
        "        return 'Other'\n",
        "    \n",
        "def filter_title_test(title):\n",
        "\n",
        "    if test_df.groupby('Title').size()[title] >= 40:\n",
        "        return title\n",
        "    else:\n",
        "        return 'Other'\n",
        "\n",
        "def classify_title(title):\n",
        "    \n",
        "    if title == \"Mr\":\n",
        "        return 0\n",
        "    elif title == \"Mrs\":\n",
        "        return 1\n",
        "    elif title == \"Miss\":\n",
        "        return 2\n",
        "    elif title == \"Master\":\n",
        "        return 3\n",
        "    else: \n",
        "        return 4\n",
        "    \n",
        "train_df['Title'] = train_df['Name'].apply(get_title)\n",
        "train_df['Name_Len'] = train_df['Name'].apply(lambda x: len(x))\n",
        "train_df.drop(['Name'], axis=1, inplace=True)\n",
        "\n",
        "train_df['Title'] = train_df['Title'].apply(filter_title)\n",
        "\n",
        "title_count  = train_df.groupby('Title').size()\n",
        "unique_title = train_df['Title'].unique()\n",
        "\n",
        "print( 'Title count', title_count )   \n",
        "print ('Title', unique_title)\n",
        "\n",
        "train_df['Title'] = train_df['Title'].apply(classify_title)\n",
        "\n",
        "train_df['Title']\n",
        "\n",
        "\n",
        "    \n",
        "\n"
      ]
    },
    {
      "cell_type": "code",
      "execution_count": null,
      "metadata": {
        "_cell_guid": "0d72ca56-cc89-7cc0-16b3-ccf05bb4173a"
      },
      "outputs": [],
      "source": [
        "#fare\n",
        "\n",
        "train_df['Fare'].fillna(train_df['Fare'].mean())\n"
      ]
    },
    {
      "cell_type": "code",
      "execution_count": null,
      "metadata": {
        "_cell_guid": "278752d5-5e66-1014-acc3-0195fdad0f90"
      },
      "outputs": [],
      "source": [
        "#Embarked\n",
        "def convert_embarked(embarked):\n",
        "    if embarked == 'S':\n",
        "        return 0\n",
        "    elif embarked == 'C':\n",
        "        return 1\n",
        "    elif embarked == 'Q':\n",
        "        return 2\n",
        "    else:\n",
        "        return 0\n",
        "\n",
        "\n",
        "embarked_count  = train_df.groupby('Embarked').size()\n",
        "unique_embarked = train_df['Embarked'].unique()\n",
        "\n",
        "print('Embarked count', embarked_count)\n",
        "print ('Embarked', unique_embarked)\n",
        "\n",
        "train_df['Embarked'] = train_df['Embarked'].apply(convert_embarked)\n",
        "sns.factorplot('Embarked', 'Survived',data=train_df, order=unique_is_alone.sort())\n"
      ]
    },
    {
      "cell_type": "code",
      "execution_count": null,
      "metadata": {
        "_cell_guid": "283a729f-72ef-374a-c9c8-ceadbab0bd38"
      },
      "outputs": [],
      "source": [
        "### 3. Explore"
      ]
    },
    {
      "cell_type": "code",
      "execution_count": null,
      "metadata": {
        "_cell_guid": "844b4adf-0961-54cd-59a8-21f794a234a1"
      },
      "outputs": [],
      "source": [
        "corr = train_df.astype(float).corr()\n",
        "corr"
      ]
    },
    {
      "cell_type": "code",
      "execution_count": null,
      "metadata": {
        "_cell_guid": "d72d1481-42df-27e5-208e-b6dba1e85f72"
      },
      "outputs": [],
      "source": [
        "colormap = plt.cm.viridis\n",
        "plt.figure(figsize=(12,12))\n",
        "plt.title('Pearson Correlation of Features', y=1.05, size=15)\n",
        "sns.heatmap(corr,linewidths=0.1,vmax=1.0, square=True, cmap=colormap, linecolor='white', annot=True)"
      ]
    },
    {
      "cell_type": "code",
      "execution_count": null,
      "metadata": {
        "_cell_guid": "746fa802-aafe-a9b4-ff15-a7f593a7f15a"
      },
      "outputs": [],
      "source": [
        "def dummies(train, test, columns = ['Pclass', 'Sex', 'Embarked', 'Title']):\n",
        "    for column in columns:\n",
        "        train[column] = train[column].apply(lambda x: str(x))\n",
        "        test[column] = test[column].apply(lambda x: str(x))\n",
        "        good_cols = [column+'_'+i for i in train[column].unique() if i in test[column].unique()]\n",
        "        train = pd.concat((train, pd.get_dummies(train[column], prefix = column)[good_cols]), axis = 1)\n",
        "        test = pd.concat((test, pd.get_dummies(test[column], prefix = column)[good_cols]), axis = 1)\n",
        "        del train[column]\n",
        "        del test[column]\n",
        "    return train, test"
      ]
    },
    {
      "cell_type": "code",
      "execution_count": null,
      "metadata": {
        "_cell_guid": "4b67d98d-0154-936d-ff44-7eee296f1e58"
      },
      "outputs": [],
      "source": [
        "#prep for fit\n",
        "train_df.drop(['PassengerId'], axis=1, inplace=True)\n",
        "\n",
        "test_passenger_id = test_df['PassengerId'].copy()\n",
        "\n",
        "test_df['Age'].fillna(age_count.argmax(), inplace=True)\n",
        "test_df['Sex'] = test_df['Sex'].map( {'male': 0, 'female': 1} ).astype(int)\n",
        "test_df['isAlone'] = (test_df['SibSp'] + test_df['Parch']) == 0\n",
        "test_df['Title'] = test_df['Name'].apply(get_title)\n",
        "test_df['Title'] = test_df['Title'].apply(filter_title_test).apply(classify_title)\n",
        "test_df['Fare'] = test_df['Fare'].fillna(test_df['Fare'].mean())\n",
        "test_df['Embarked'].fillna('S', inplace=True)\n",
        "test_df['Embarked'] = test_df['Embarked'].apply(convert_embarked)\n",
        "test_df['Name_Len'] = test_df['Name'].apply(lambda x: len(x))\n",
        "test_df.drop(['PassengerId','Ticket', 'Name', 'Cabin', 'SibSp','Parch' ], axis=1, inplace=True)\n",
        "\n"
      ]
    },
    {
      "cell_type": "code",
      "execution_count": null,
      "metadata": {
        "_cell_guid": "30e79647-9313-8eab-c420-4ae5e3ed699e"
      },
      "outputs": [],
      "source": [
        "train_df, test_df = dummies(train_df, test_df)\n",
        "\n",
        "print (train_df.head())\n",
        "print (test_df.head())"
      ]
    },
    {
      "cell_type": "code",
      "execution_count": null,
      "metadata": {
        "_cell_guid": "bcb0f4b7-ce2b-1c09-f2b5-c54675a61494"
      },
      "outputs": [],
      "source": [
        "#prediction\n",
        "\n",
        "X_train = train_df.drop(\"Survived\", axis=1)\n",
        "Y_train = train_df[\"Survived\"]\n",
        "X_test = test_df\n",
        "X_train.shape, Y_train.shape, X_test.shape\n",
        "\n",
        "predictions = dict()\n"
      ]
    },
    {
      "cell_type": "code",
      "execution_count": null,
      "metadata": {
        "_cell_guid": "c384e571-71f9-d7ef-4083-07784eb774eb"
      },
      "outputs": [],
      "source": [
        "#Random Forrest\n",
        "'''random_forest = RandomForestClassifier(n_estimators=100)\n",
        "random_forest.fit(X_train, Y_train)\n",
        "Y_pred_random_forrest = random_forest.predict(X_test)\n",
        "\n",
        "random_forest.score(X_train, Y_train)\n",
        "acc_random_forest = round(random_forest.score(X_train, Y_train) * 100, 2)\n",
        "predictions[\"Random Forrest\"] = (acc_random_forest, Y_pred_random_forrest)'''"
      ]
    },
    {
      "cell_type": "code",
      "execution_count": null,
      "metadata": {
        "_cell_guid": "54c6584f-5847-1b96-c177-67fce67dffac"
      },
      "outputs": [],
      "source": [
        "# Logistic Regression\n",
        "\n",
        "logreg = LogisticRegression()\n",
        "logreg.fit(X_train, Y_train)\n",
        "Y_pred_logreg = logreg.predict(X_test)\n",
        "\n",
        "logreg.score(X_train, Y_train)\n",
        "acc_reg = round(logreg.score(X_train, Y_train) * 100, 2)\n",
        "predictions[\"Logistic Regression\"] = (acc_reg, Y_pred_logreg)"
      ]
    },
    {
      "cell_type": "code",
      "execution_count": null,
      "metadata": {
        "_cell_guid": "32faf4b2-a310-adc1-e094-a2947718d06e"
      },
      "outputs": [],
      "source": [
        "# Support Vector Machines\n",
        "\n",
        "'''svc = SVC()\n",
        "svc.fit(X_train, Y_train)\n",
        "Y_pred_svc = svc.predict(X_test)\n",
        "\n",
        "svc.score(X_train, Y_train)\n",
        "acc_svc = round(svc.score(X_train, Y_train) * 100, 2)\n",
        "predictions[\"SVC\"] = (acc_svc, Y_pred_svc)'''"
      ]
    },
    {
      "cell_type": "code",
      "execution_count": null,
      "metadata": {
        "_cell_guid": "9cad4fab-cd60-5cac-226b-93075ac29e1d"
      },
      "outputs": [],
      "source": [
        "# KNeighbors\n",
        "\n",
        "knn = KNeighborsClassifier(n_neighbors = 3)\n",
        "knn.fit(X_train, Y_train)\n",
        "Y_pred_knn = knn.predict(X_test)\n",
        "\n",
        "knn.score(X_train, Y_train)\n",
        "acc_knn = round(knn.score(X_train, Y_train) * 100, 2)\n",
        "predictions[\"KNeighbors\"] = (acc_knn, Y_pred_knn)"
      ]
    },
    {
      "cell_type": "markdown",
      "metadata": {
        "_cell_guid": "a5a82a65-7c68-4d23-0de2-ab0e5c851b8b"
      },
      "source": [
        "### 4. Conclusions"
      ]
    },
    {
      "cell_type": "code",
      "execution_count": null,
      "metadata": {
        "_cell_guid": "f7bd19f0-934c-617f-2b55-baa4803dbe3a"
      },
      "outputs": [],
      "source": [
        "# Gaussian Naive Bayes\n",
        "\n",
        "gaussian = GaussianNB()\n",
        "gaussian.fit(X_train, Y_train)\n",
        "Y_pred_gaussian = gaussian.predict(X_test)\n",
        "\n",
        "gaussian.score(X_train, Y_train)\n",
        "acc_gaussian = round(gaussian.score(X_train, Y_train) * 100, 2)\n",
        "\n",
        "predictions[\"Gaussian Naive Bayes\"] = (acc_gaussian, Y_pred_gaussian)"
      ]
    },
    {
      "cell_type": "code",
      "execution_count": null,
      "metadata": {
        "_cell_guid": "67eb03b6-48a0-3114-40c5-ead0be6ee4c5"
      },
      "outputs": [],
      "source": [
        "predictions"
      ]
    },
    {
      "cell_type": "code",
      "execution_count": null,
      "metadata": {
        "_cell_guid": "039881a0-023d-cc82-8a48-bb33cc1ee37b"
      },
      "outputs": [],
      "source": [
        "key_max = max(predictions, key=predictions.get)\n",
        "acc, Y_pred = predictions[key_max]\n",
        "\n",
        "print (key_max , acc)"
      ]
    },
    {
      "cell_type": "code",
      "execution_count": null,
      "metadata": {
        "_cell_guid": "afa087ba-1f87-be4d-8de0-b13f5d241808"
      },
      "outputs": [],
      "source": [
        ""
      ]
    },
    {
      "cell_type": "markdown",
      "metadata": {
        "_cell_guid": "a31768bd-3e86-33ca-5896-adf946e3c1ab"
      },
      "source": [
        "### 5. Communicate"
      ]
    },
    {
      "cell_type": "code",
      "execution_count": null,
      "metadata": {
        "_cell_guid": "6dccaffa-f41a-0d38-bd3a-b9675a6f13b7"
      },
      "outputs": [],
      "source": [
        "#submission\n",
        "\n",
        "submission = pd.DataFrame({\n",
        "        \"PassengerId\": test_passenger_id,\n",
        "        \"Survived\": Y_pred\n",
        "    })\n",
        "\n",
        "print(submission)\n",
        "submission.to_csv('submission.csv', index=False)"
      ]
    }
  ],
  "metadata": {
    "_change_revision": 0,
    "_is_fork": false,
    "kernelspec": {
      "display_name": "Python 3",
      "language": "python",
      "name": "python3"
    },
    "language_info": {
      "codemirror_mode": {
        "name": "ipython",
        "version": 3
      },
      "file_extension": ".py",
      "mimetype": "text/x-python",
      "name": "python",
      "nbconvert_exporter": "python",
      "pygments_lexer": "ipython3",
      "version": "3.6.0"
    }
  },
  "nbformat": 4,
  "nbformat_minor": 0
}