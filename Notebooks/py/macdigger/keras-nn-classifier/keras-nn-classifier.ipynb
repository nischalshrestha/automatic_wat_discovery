{
  "cells": [
    {
      "cell_type": "markdown",
      "metadata": {
        "_cell_guid": "09ca0d39-c68b-b001-318d-ccfb3b1f1c79"
      },
      "source": ""
    },
    {
      "cell_type": "code",
      "execution_count": null,
      "metadata": {
        "_cell_guid": "be04f84a-0ff2-27ef-fd46-0d9f8d37d57b"
      },
      "outputs": [],
      "source": [
        "import pandas as pd"
      ]
    },
    {
      "cell_type": "code",
      "execution_count": null,
      "metadata": {
        "_cell_guid": "54fddbe4-2337-c940-efa1-8a41e8f7fc7d"
      },
      "outputs": [],
      "source": [
        "df = pd.read_csv(\"../input/train.csv\")\n",
        "del df['Name']"
      ]
    },
    {
      "cell_type": "code",
      "execution_count": null,
      "metadata": {
        "_cell_guid": "14858845-f61e-2295-1da9-c8eda7c61037"
      },
      "outputs": [],
      "source": [
        "sb = lambda x: 0 if x == 'male' else 1\n",
        "df[\"Sex\"] = df[\"Sex\"].apply(sb)"
      ]
    },
    {
      "cell_type": "code",
      "execution_count": null,
      "metadata": {
        "_cell_guid": "13428dbd-a738-6ff4-f025-6ac40c95ff90"
      },
      "outputs": [],
      "source": [
        "del df['Ticket']\n",
        "del df['Cabin']"
      ]
    },
    {
      "cell_type": "code",
      "execution_count": null,
      "metadata": {
        "_cell_guid": "e59df36d-c4d3-8309-5398-edbd48c95aa5"
      },
      "outputs": [],
      "source": [
        "def emb(a):\n",
        "    cases = {'Q': 1, 'S': 2, 'C': 3}\n",
        "    if a in cases:\n",
        "        return cases[a]\n",
        "    else:\n",
        "        return 0\n",
        "df['Embarked'] = df['Embarked'].apply(emb)"
      ]
    },
    {
      "cell_type": "code",
      "execution_count": null,
      "metadata": {
        "_cell_guid": "89fb8da7-76eb-820d-4775-a2d3f8eba72a"
      },
      "outputs": [],
      "source": [
        "del df['PassengerId']"
      ]
    },
    {
      "cell_type": "code",
      "execution_count": null,
      "metadata": {
        "_cell_guid": "74d61184-c718-cacc-63b5-c9bb2cc33234"
      },
      "outputs": [],
      "source": [
        "df = df.fillna(df.mean())"
      ]
    },
    {
      "cell_type": "code",
      "execution_count": null,
      "metadata": {
        "_cell_guid": "aa7013bd-a043-ef0a-f61b-1447974f4703"
      },
      "outputs": [],
      "source": [
        "dfn = (df - df.min()) / (df.max() - df.min())"
      ]
    },
    {
      "cell_type": "code",
      "execution_count": null,
      "metadata": {
        "_cell_guid": "f104c9b9-5c09-500c-7c7d-227bd62f144b"
      },
      "outputs": [],
      "source": [
        "trainY = dfn['Survived'].values\n",
        "trainX = dfn\n",
        "del trainX['Survived']\n",
        "trainX = trainX.values"
      ]
    },
    {
      "cell_type": "code",
      "execution_count": null,
      "metadata": {
        "_cell_guid": "911c9bdf-2eaa-502a-f5a7-f905624c3cd9"
      },
      "outputs": [],
      "source": [
        "from keras.utils import np_utils\n",
        "trainY = np_utils.to_categorical(trainY, 2)"
      ]
    },
    {
      "cell_type": "code",
      "execution_count": null,
      "metadata": {
        "_cell_guid": "23e07224-e8d1-cbe6-d40d-f2bbd7043ccc"
      },
      "outputs": [],
      "source": [
        "from keras.layers import Dense, Activation, Dropout\n",
        "from keras.models import Sequential\n",
        "\n",
        "model = Sequential()\n",
        "model.add(Dense(20, input_shape=[7,]))\n",
        "model.add(Activation('relu'))\n",
        "model.add(Dropout(0.1))\n",
        "model.add(Dense(10))\n",
        "model.add(Activation('relu'))\n",
        "model.add(Dropout(0.1))\n",
        "model.add(Dense(2))\n",
        "model.add(Activation('softmax'))\n",
        "\n",
        "model.compile('adam','mean_squared_error', metrics=['accuracy'])"
      ]
    },
    {
      "cell_type": "code",
      "execution_count": null,
      "metadata": {
        "_cell_guid": "e88451a0-ebac-122d-e446-d0d5a124bd1d"
      },
      "outputs": [],
      "source": [
        "tf = pd.read_csv(\"../input/test.csv\")\n",
        "del tf['Name']\n",
        "tf[\"Sex\"] = tf[\"Sex\"].apply(sb)\n",
        "del tf['Ticket']\n",
        "del tf['Cabin']\n",
        "tf['Embarked'] = tf['Embarked'].apply(emb)\n",
        "del tf['PassengerId']\n",
        "tf = tf.fillna(tf.mean())\n",
        "tfn = (tf - tf.min()) / (tf.max() - tf.min())"
      ]
    },
    {
      "cell_type": "code",
      "execution_count": null,
      "metadata": {
        "_cell_guid": "0eff7b65-59fa-7d0c-8aa6-4ea7da3b5835"
      },
      "outputs": [],
      "source": [
        "testX = tfn.values"
      ]
    },
    {
      "cell_type": "code",
      "execution_count": null,
      "metadata": {
        "_cell_guid": "c6ec1c34-b5a3-0a4b-6d2b-678faeb8067d"
      },
      "outputs": [],
      "source": [
        "model.fit(trainX, trainY, epochs=150, verbose=1, batch_size=100)"
      ]
    },
    {
      "cell_type": "code",
      "execution_count": null,
      "metadata": {
        "_cell_guid": "ae07f05a-e79b-3fc8-c240-2870db0ee4fa"
      },
      "outputs": [],
      "source": [
        "import numpy as np"
      ]
    },
    {
      "cell_type": "code",
      "execution_count": null,
      "metadata": {
        "_cell_guid": "416a4e97-8a6f-1e5f-c290-1eee72d190e6"
      },
      "outputs": [],
      "source": [
        "preds = [int(i) for i in model.predict_classes(testX)]"
      ]
    },
    {
      "cell_type": "code",
      "execution_count": null,
      "metadata": {
        "_cell_guid": "ebce8347-a028-bd6c-ed04-4992a07152bb"
      },
      "outputs": [],
      "source": [
        "preds = [[a, b] for a, b in zip(range(892, 1310), preds)]\n",
        "testY = pd.DataFrame(preds, columns=['PassengerID','Survived'])"
      ]
    },
    {
      "cell_type": "code",
      "execution_count": null,
      "metadata": {
        "_cell_guid": "9a360e54-3b6f-0b7e-80ec-92c23c4e2d4e"
      },
      "outputs": [],
      "source": [
        "testY.to_csv('pred.csv', index=False)"
      ]
    }
  ],
  "metadata": {
    "_change_revision": 0,
    "_is_fork": false,
    "kernelspec": {
      "display_name": "Python 3",
      "language": "python",
      "name": "python3"
    },
    "language_info": {
      "codemirror_mode": {
        "name": "ipython",
        "version": 3
      },
      "file_extension": ".py",
      "mimetype": "text/x-python",
      "name": "python",
      "nbconvert_exporter": "python",
      "pygments_lexer": "ipython3",
      "version": "3.6.0"
    }
  },
  "nbformat": 4,
  "nbformat_minor": 0
}