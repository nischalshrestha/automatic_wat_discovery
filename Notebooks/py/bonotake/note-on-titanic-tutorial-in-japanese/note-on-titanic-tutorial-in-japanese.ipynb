{
  "cells": [
    {
      "cell_type": "markdown",
      "metadata": {
        "_cell_guid": "11f4858a-0d85-bbdb-5760-07698aaf4df9"
      },
      "source": [
        "# Note on Titanic tutorial: May 6, 2017 (in Japanese)\n",
        "\u3053\u306eGW\u3001[Kaggle\u306eTitanic\u30c1\u30e5\u30fc\u30c8\u30ea\u30a2\u30eb](https://www.kaggle.com/c/titanic)\u306b\u53d6\u308a\u7d44\u3093\u3060\u306e\u3067\u3001\u30e1\u30e2\u3002\u3061\u306a\u307f\u306b\u3001kaggle\u306f\u3082\u3061\u308d\u3093\u3001\u6a5f\u68b0\u5b66\u7fd2\u3082\u30c7\u30fc\u30bf\u5206\u6790\u3082Python\u3082\u521d\u5fc3\u8005\u3067\u3059\u3002\n",
        "\n",
        "\u82f1\u8a9e\u3067\u66f8\u3053\u3046\u304b\u3068\u601d\u3063\u305f\u3051\u3069\u3068\u308a\u3042\u3048\u305a\u65e5\u672c\u8a9e\u3067\u3002\n",
        "\n",
        "\u3068\u308a\u3042\u3048\u305a\u6700\u9ad8\u30b9\u30b3\u30a2\uff08_0.79426_\uff09\u3092\u51fa\u3057\u305f\u3068\u304d\u306e\u518d\u73fe\u3002\u305f\u3060\u3057\u3001\u4eca\u3084\u3063\u3066\u307f\u3066\u3082\u5024\u304c\u4e00\u81f4\u3057\u306a\u3044\uff085\u4eba\u5206\u307b\u3069\u9055\u3046\uff09\u306e\u3067\u3001\u305f\u307e\u305f\u307e\u904b\u304c\u826f\u304b\u3063\u305f\u306e\u304b\u3082\u3057\u308c\u306a\u3044\u3002\uff08train_test_split \u3067\u5206\u5272\u3057\u305f\u5f8c\u306e\u30b5\u30f3\u30d7\u30eb\u3067\u30e2\u30c7\u30eb\u3092\u4f5c\u3063\u305f\u304b\u3089\u304b\u3082\u3057\u308c\u306a\u3044\uff09\n",
        "\n",
        "\u4ee5\u4e0b\u3001\u3055\u3089\u3063\u3068\u66f8\u3044\u3066\u307e\u3059\u304c\u5b9f\u969b\u306f\u8a66\u884c\u932f\u8aa4\u306e\u7d50\u679c\u3067\u3059\u3002\n",
        "\n",
        "## \u53c2\u8003\u306b\u3057\u305f\u4ed6\u306e\u4eba\u306e\u4ed5\u4e8b\n",
        "- https://www.kaggle.com/poonaml/titanic-survival-prediction-end-to-end-ml-pipeline\n",
        "- https://www.kaggle.com/startupsci/titanic-data-science-solutions\n",
        "- [Python\u6a5f\u68b0\u5b66\u7fd2\u30d7\u30ed\u30b0\u30e9\u30df\u30f3\u30b0 \u9054\u4eba\u30c7\u30fc\u30bf\u30b5\u30a4\u30a8\u30f3\u30c6\u30a3\u30b9\u30c8\u306b\u3088\u308b\u7406\u8ad6\u3068\u5b9f\u8df5](http://book.impress.co.jp/books/1115101122)\n",
        "\n",
        "## \u30e9\u30a4\u30d6\u30e9\u30ea\u4e00\u5f0f\u3092\u8aad\u307f\u8fbc\u3080\n",
        "\u3068\u308a\u3042\u3048\u305a\u3001\u5fc5\u8981\u306a\u306e\u3092\u304c\u3055\u3054\u305d\u3068\u3002"
      ]
    },
    {
      "cell_type": "code",
      "execution_count": null,
      "metadata": {
        "_cell_guid": "388b9e2b-ca86-53ec-9056-97ac99933e5c"
      },
      "outputs": [],
      "source": [
        "import pandas as pd\n",
        "import numpy as np\n",
        "\n",
        "from sklearn.preprocessing import Imputer, StandardScaler\n",
        "from sklearn.model_selection import train_test_split\n",
        "from sklearn.linear_model import LogisticRegression\n",
        "from sklearn.svm import SVC, LinearSVC\n",
        "from sklearn.ensemble import RandomForestClassifier, RandomForestRegressor, VotingClassifier"
      ]
    },
    {
      "cell_type": "markdown",
      "metadata": {
        "_cell_guid": "4144de88-1497-9a0d-09a1-65586969820b"
      },
      "source": [
        "## \u30d5\u30a1\u30a4\u30eb\u3092\u8aad\u307f\u8fbc\u3080"
      ]
    },
    {
      "cell_type": "code",
      "execution_count": null,
      "metadata": {
        "_cell_guid": "3448622e-5359-c986-1a36-f5523275b5a6"
      },
      "outputs": [],
      "source": [
        "df = pd.read_csv('../input/train.csv')\n",
        "df_final = pd.read_csv('../input/test.csv')"
      ]
    },
    {
      "cell_type": "markdown",
      "metadata": {
        "_cell_guid": "bfb206be-5983-4c9c-8810-dcc451754583"
      },
      "source": [
        "\"final\"\u306a\u3093\u3066\u540d\u524d\u306b\u3057\u3066\u308b\u306e\u306f\u3001train.csv\u304b\u3089\u66f4\u306b\u30c8\u30ec\u30fc\u30cb\u30f3\u30b0\u30c7\u30fc\u30bf\u3068\u30c6\u30b9\u30c8\u30c7\u30fc\u30bf\u306b\u5206\u5272\u3057\u3066\u3044\u305f\u306e\u3067\u3001\u540d\u524d\u304c\u88ab\u3089\u306a\u3044\u3088\u3046\u306b\u3002\u6df1\u3044\u610f\u5473\u306f\u306a\u3044\u3002"
      ]
    },
    {
      "cell_type": "markdown",
      "metadata": {
        "_cell_guid": "2b6f36fa-c6b5-efde-7023-2a64095f61f2"
      },
      "source": [
        "## \u30c7\u30fc\u30bf\u3092\u773a\u3081\u308b\n",
        "\u3068\u308a\u3042\u3048\u305a\u2026\u2026"
      ]
    },
    {
      "cell_type": "code",
      "execution_count": null,
      "metadata": {
        "_cell_guid": "7fab7ccd-14d7-f5bc-1a47-796b8911cdd8"
      },
      "outputs": [],
      "source": [
        "df.head()"
      ]
    },
    {
      "cell_type": "markdown",
      "metadata": {
        "_cell_guid": "70937698-e447-025c-7d2e-8216ec402d01"
      },
      "source": [
        "\u6b20\u6e2c\u5024\u304c\u3042\u308a\u305d\u3046\u3002\u30ab\u30a6\u30f3\u30c8\u3057\u3066\u307f\u308b\u3002\n",
        "\n"
      ]
    },
    {
      "cell_type": "code",
      "execution_count": null,
      "metadata": {
        "_cell_guid": "35539fc3-9e40-0a64-00e8-0cbfc78c8fb2"
      },
      "outputs": [],
      "source": [
        "df.count()"
      ]
    },
    {
      "cell_type": "code",
      "execution_count": null,
      "metadata": {
        "_cell_guid": "250006fd-1161-9324-5f3a-28b8af93b0f0"
      },
      "outputs": [],
      "source": [
        "df_final.count()"
      ]
    },
    {
      "cell_type": "markdown",
      "metadata": {
        "_cell_guid": "23805c1c-9ff2-6353-c64c-914e633dcf30"
      },
      "source": [
        "Age, Fare, Cabin, Embarked \u304c\u6b20\u6e2c\u3057\u3066\u308b\u3063\u307d\u3044\u3002\uff08Embarked \u306f df \u306e\u307f\u3001Fare \u306f df_final \u306e\u307f\uff09\n",
        "\n",
        "\u3058\u3063\u3068\u773a\u3081\u3066\u3001Age, Fare, Embarked\u306f\u88dc\u5b8c\u3059\u308b\u65b9\u91dd\u3067\u3002Cabin\u306f\u6b20\u6e2c\u3057\u3059\u304e\u3066\u3066\u4f7f\u3048\u306a\u3055\u305d\u3046\u306a\u306e\u3067\u3001\u6368\u3066\u308b\u3053\u3068\u3092\u8003\u3048\u308b\u3002"
      ]
    },
    {
      "cell_type": "markdown",
      "metadata": {
        "_cell_guid": "3de86d98-6227-c15c-9d68-748b1ea61c15"
      },
      "source": [
        "## \u6b20\u6e2c\u5024\u306e\u88dc\u5b8c\n",
        "### Age \u306e\u88dc\u5b8c\n",
        "\u53c2\u7167\u30b5\u30a4\u30c8\u3092\u53c2\u8003\u306b\u3001\u4ee5\u4e0b\u306e\u30b3\u30fc\u30c9\u3067\u3002"
      ]
    },
    {
      "cell_type": "code",
      "execution_count": null,
      "metadata": {
        "_cell_guid": "1d5e65cf-340c-49d9-0fb9-6d19365393ea"
      },
      "outputs": [],
      "source": [
        "def guess_ages(_df1):\n",
        "    result = np.zeros((2,3))\n",
        "    for i in range(0, 2):\n",
        "        for j in range(0, 3):\n",
        "            guess_df = _df1[(_df1['Sex'] == ['male','female'][i]) & \\\n",
        "                                  (_df1['Pclass'] == j+1)]['Age'].dropna()\n",
        "            age_guess = guess_df.mean()\n",
        "            result[i,j] = int( age_guess/0.5 + 0.5 ) * 0.5\n",
        "    return result\n",
        "\n",
        "def impute_ages(_df1, guess):\n",
        "    for i in range(0, 2):\n",
        "        for j in range(0, 3):\n",
        "            _df1.loc[ (_df1.Age.isnull()) & (_df1.Sex == ['male','female'][i]) \n",
        "                     & (_df1.Pclass == j+1), 'Age'] = guess[i,j]\n",
        "\n",
        "    _df1['Age'] = _df1['Age'].astype(int)\n",
        "\n",
        "    return _df1"
      ]
    },
    {
      "cell_type": "code",
      "execution_count": null,
      "metadata": {
        "_cell_guid": "112e326c-0da8-17bd-2493-5ab20d03fde4"
      },
      "outputs": [],
      "source": [
        "guess = guess_ages(df)\n",
        "df = impute_ages(df, guess)\n",
        "guess = guess_ages(df_final)\n",
        "df_final = impute_ages(df_final, guess)"
      ]
    },
    {
      "cell_type": "markdown",
      "metadata": {
        "_cell_guid": "ea0598db-bd4b-9fdb-66c5-9fe6950a7dec"
      },
      "source": [
        "\u3053\u3053\u3067\u306fguess\u306e\u5024\u3092df\u3001df_final \u5225\u3005\u306b\u8a08\u7b97\u3057\u3066\u3044\u308b\u304c\u3001\u7d71\u4e00\u3057\u305f\u307b\u3046\u304c\u826f\u3044\u306e\u304b\u3082\u3057\u308c\u306a\u3044\u3002\n",
        "\u305f\u3060\u3001\u7d71\u4e00\u3057\u3066\u3082\u30b9\u30b3\u30a2\u306e\u5411\u4e0a\u306f\u898b\u3089\u308c\u306a\u304b\u3063\u305f\u3002"
      ]
    },
    {
      "cell_type": "markdown",
      "metadata": {
        "_cell_guid": "82e4fe36-3d60-2c87-0c50-ba56ee77e0f5"
      },
      "source": [
        "### Embarked \u306e\u88dc\u5b8c\n",
        "\u3068\u308a\u3042\u3048\u305a\u3001\u96c6\u8a08\u3057\u3066\u307f\u308b\u3002"
      ]
    },
    {
      "cell_type": "code",
      "execution_count": null,
      "metadata": {
        "_cell_guid": "9b64f16d-5293-b75a-f89e-257ab363c277"
      },
      "outputs": [],
      "source": [
        "df[['Embarked','PassengerId']].groupby('Embarked').count()"
      ]
    },
    {
      "cell_type": "markdown",
      "metadata": {
        "_cell_guid": "c57a4c0f-c5fb-9455-241b-a876fa9467ad"
      },
      "source": [
        "\u6700\u983b\u5024S\u304c\u5727\u5012\u7684\u306b\u591a\u3044\u306e\u3067\u3001S\u3067\u88dc\u5b8c\u3059\u308b\u3053\u3068\u306b\u3059\u308b\u3002"
      ]
    },
    {
      "cell_type": "code",
      "execution_count": null,
      "metadata": {
        "_cell_guid": "4537676e-22bc-5259-b149-fdd9c727f30b"
      },
      "outputs": [],
      "source": [
        "df['Embarked'] = df['Embarked'].fillna('S')"
      ]
    },
    {
      "cell_type": "markdown",
      "metadata": {
        "_cell_guid": "aec5856e-8070-274e-7eab-978ab5171a88"
      },
      "source": [
        "### Fare\u306e\u88dc\u5b8c\n",
        "\u3072\u3068\u307e\u305a\u3001\u6b20\u6e2c\u3057\u3066\u308b\u30b5\u30f3\u30d7\u30eb\u3092\u898b\u3066\u307f\u308b\u3002"
      ]
    },
    {
      "cell_type": "code",
      "execution_count": null,
      "metadata": {
        "_cell_guid": "e8f5ba57-384c-1f75-d1c0-ee5a703e2d57"
      },
      "outputs": [],
      "source": [
        "df_final.loc[df_final['Fare'].isnull()]"
      ]
    },
    {
      "cell_type": "markdown",
      "metadata": {
        "_cell_guid": "4ddcd0fd-3e03-c29b-1847-377d008b5bec"
      },
      "source": [
        "\u3053\u308c\u3092\u898b\u308b\u9650\u308a\u3001Pclass\u304c3\u3001Embarked\u304cS\u3067\u3001\u8981\u306f\u5b89\u3044\u30c1\u30b1\u30c3\u30c8\u3092\u8cb7\u3063\u3066\u3044\u308b\u53ef\u80fd\u6027\u3002\n",
        "\n",
        "\u3068\u3044\u3046\u3053\u3068\u3067\u3001\u305d\u3046\u3044\u3046\u30c1\u30b1\u30c3\u30c8\u3092\u8cb7\u3063\u3066\u305d\u3046\u306a\u4eba\u9054\u306e\u904b\u8cc3\u304b\u3089\u63a8\u6e2c\u3059\u308b\u3002"
      ]
    },
    {
      "cell_type": "code",
      "execution_count": null,
      "metadata": {
        "_cell_guid": "4445cff2-2deb-b932-24cd-f5a912c4922b"
      },
      "outputs": [],
      "source": [
        "df_final['Fare'].fillna(df_final[(df_final['Pclass'] == 3) & \\\n",
        "                                 (df_final['Embarked'] == 'S')]['Fare'].dropna().median(), inplace=True)"
      ]
    },
    {
      "cell_type": "markdown",
      "metadata": {
        "_cell_guid": "6ba001b2-885e-918b-2378-1dcfe65f1914"
      },
      "source": [
        "## Feature engineering\n",
        "###  'Title' \u306e\u8ffd\u52a0\n",
        "'Name'\u304c\u3053\u306e\u307e\u307e\u3060\u3068\u4f7f\u3044\u3082\u306e\u306b\u306a\u3089\u306a\u3055\u305d\u3046\u3060\u3051\u3069\u3001\u80a9\u66f8\u306f\u53c2\u8003\u306b\u306a\u308b\u304b\u3082\u3002\n",
        "\n",
        "\u3068\u3044\u3046\u3053\u3068\u3067\u3001\u80a9\u66f8\u3092\u62bd\u51fa\u3001\u65b0\u305f\u306a\u7279\u5fb4\u3068\u3057\u3066\u8ffd\u52a0\u3059\u308b\u3002"
      ]
    },
    {
      "cell_type": "code",
      "execution_count": null,
      "metadata": {
        "_cell_guid": "2bbdab6a-d27e-12e8-0730-816ad58715c6"
      },
      "outputs": [],
      "source": [
        "def get_title(_df1):\n",
        "    names = _df1.Name.values\n",
        "    title = []\n",
        "    for name in names:\n",
        "        parts = name.split()\n",
        "        for p in parts:\n",
        "            if '.' in p:\n",
        "                title.append(p)\n",
        "                break\n",
        "\n",
        "    return title\n",
        "\n",
        "def add_title(_df1):\n",
        "    title = get_title(_df1)\n",
        "    _df1['Title'] = title\n",
        "    \n",
        "    _df1['Title'] = _df1['Title'].replace(['Lady.', 'Countess.','Capt.', 'Col.',\\\n",
        "         'Don.', 'Dr.', 'Major.', 'Rev.', 'Sir.', 'Jonkheer.', 'Dona.'], 'Rare')\n",
        "    _df1['Title'] = _df1['Title'].replace('Mlle.', 'Miss.')\n",
        "    _df1['Title'] = _df1['Title'].replace('Ms.', 'Miss.')\n",
        "    _df1['Title'] = _df1['Title'].replace('Mme.', 'Mrs.')\n",
        "    \n",
        "    return _df1"
      ]
    },
    {
      "cell_type": "code",
      "execution_count": null,
      "metadata": {
        "_cell_guid": "bc50394e-63ab-a5ee-647d-fdab94fc6ed2"
      },
      "outputs": [],
      "source": [
        "df = add_title(df)\n",
        "df.head()"
      ]
    },
    {
      "cell_type": "markdown",
      "metadata": {
        "_cell_guid": "bf5f90f2-d886-7a46-e661-3b0d87580395"
      },
      "source": [
        "Title\u3068Survived\u306e\u50be\u5411\u3092\u898b\u3066\u307f\u308b\u3002"
      ]
    },
    {
      "cell_type": "code",
      "execution_count": null,
      "metadata": {
        "_cell_guid": "ce657a0f-c8b5-7250-6cd0-b3fa9ff84456"
      },
      "outputs": [],
      "source": [
        "df[['Survived', 'Title']].groupby('Title', as_index=False) \\\n",
        "                            .mean().sort_values(by='Survived', ascending=False)"
      ]
    },
    {
      "cell_type": "markdown",
      "metadata": {
        "_cell_guid": "8fdbaf06-2319-7c5e-ffe3-dfae44a799bb"
      },
      "source": [
        "'Sex'\u3068\u306e\u6bd4\u8f03\u3002"
      ]
    },
    {
      "cell_type": "code",
      "execution_count": null,
      "metadata": {
        "_cell_guid": "97dd4d99-beda-2586-fafb-ff8634ddce0c"
      },
      "outputs": [],
      "source": [
        "df[['Survived', 'Sex', 'Title']].corr()"
      ]
    },
    {
      "cell_type": "markdown",
      "metadata": {
        "_cell_guid": "a64fd51d-f2cb-5a8d-89ce-14cc595808db"
      },
      "source": [
        "\u2191\u306a\u3093\u3067\u304bcorr \u3067 Title \u304c\u51fa\u3066\u3053\u306a\u3044\u2026\u2026\u62d7\u306d\u308b\u3002\n",
        "\u307e\u3044\u3044\u3084\u3002\u6b21\u884c\u304f\u3002\u540c\u3058\u3053\u3068\u3092df_final \u306b\u3082\u3057\u3066\u304a\u304f\u3002"
      ]
    },
    {
      "cell_type": "code",
      "execution_count": null,
      "metadata": {
        "_cell_guid": "4b98697b-8d33-06b5-7dc7-d78cff0f986d"
      },
      "outputs": [],
      "source": [
        "df_final = add_title(df_final)"
      ]
    },
    {
      "cell_type": "markdown",
      "metadata": {
        "_cell_guid": "62043234-0c9b-7141-e46c-ec399802b496"
      },
      "source": [
        "### \u5bb6\u65cf\u30b5\u30a4\u30ba FamilySize \u8ffd\u52a0\n"
      ]
    },
    {
      "cell_type": "code",
      "execution_count": null,
      "metadata": {
        "_cell_guid": "a0a6d9d5-c7eb-5aa8-af7b-c9d9440d8bbb"
      },
      "outputs": [],
      "source": [
        "df['FamilySize'] = df['SibSp'] + df['Parch'] + 1\n",
        "df_final['FamilySize'] = df_final['SibSp'] + df_final['Parch'] + 1"
      ]
    },
    {
      "cell_type": "markdown",
      "metadata": {
        "_cell_guid": "26aded37-9a9c-1a4f-5195-1e88d64acecf"
      },
      "source": [
        "\u6b63\u5473\u3001\u3053\u306eFamilySize\u306e\u8ffd\u52a0\uff08\u306b\u3088\u3063\u3066SibSp\u3068Parch\u304c\u4e0d\u8981\u306b\u306a\u3063\u305f\u3053\u3068\uff09\u304c\u30b9\u30b3\u30a2\u4e0a\u6607\u306b\u304b\u306a\u308a\u52b9\u3044\u305f\u3002\u6b21\u5143\u6e1b\u3089\u3059\u306e\u5927\u4e8b\u3002\n",
        "\n",
        "\u3061\u306a\u307f\u306b\uff1a"
      ]
    },
    {
      "cell_type": "code",
      "execution_count": null,
      "metadata": {
        "_cell_guid": "3a9141df-a46a-00f2-e93e-a97d0de25a34"
      },
      "outputs": [],
      "source": [
        "df[['Survived', 'FamilySize']].groupby('FamilySize', as_index=False).mean().sort_values(by='Survived', ascending=False)"
      ]
    },
    {
      "cell_type": "markdown",
      "metadata": {
        "_cell_guid": "a42e85c0-f5ae-e92c-ecef-c73aefcb63dd"
      },
      "source": [
        "2\uff5e4\u4eba\u3060\u3068\u751f\u304d\u6b8b\u308b\u78ba\u7387\u304c\u9ad8\u304f\u3066\u30011\u4eba\uff08\u72ec\u308a\u8eab\uff09\u30845\u4eba\u4ee5\u4e0a\u306e\u5927\u5bb6\u65cf\u3060\u3068\u9006\u306b\u6b7b\u3093\u3067\u308b\u3063\u307d\u3044\u3002\n",
        "\n",
        "\u305d\u3046\u3044\u3046\u610f\u5473\u3067\u306f\u3001\u3053\u3053\u3067\u30d0\u30f3\u30c9\u5316\u3057\u305f\u65b9\u304c\u3044\u3044\u3093\u3060\u308d\u3046\u3051\u3069\u3001\u4eca\u56de\u306f\u3057\u3066\u306a\u304b\u3063\u305f\u3002"
      ]
    },
    {
      "cell_type": "markdown",
      "metadata": {
        "_cell_guid": "60765abb-8bc7-dc56-5d57-bc69fb5c0bcb"
      },
      "source": [
        "### \u7279\u5fb4\u91cf\u306e\u9078\u629e\n",
        "\u3053\u3053\u3067\u3001\u8981\u3089\u306a\u3044\u3082\u306e\u3092\u6368\u3066\u3061\u3083\u3046\u3002"
      ]
    },
    {
      "cell_type": "code",
      "execution_count": null,
      "metadata": {
        "_cell_guid": "6c005d47-7087-abef-0989-260700f474c0"
      },
      "outputs": [],
      "source": [
        "df2 = df.drop(['Ticket', 'Name', 'Cabin', 'SibSp', 'Parch', 'PassengerId', 'Survived'], axis=1)\n",
        "df2_final = df_final.drop(['Ticket', 'Name', 'Cabin', 'SibSp', 'Parch', 'PassengerId'], axis=1)"
      ]
    },
    {
      "cell_type": "code",
      "execution_count": null,
      "metadata": {
        "_cell_guid": "c0d27837-8c20-df38-4c5b-2a66bb7c1410"
      },
      "outputs": [],
      "source": [
        "df2.head()"
      ]
    },
    {
      "cell_type": "markdown",
      "metadata": {
        "_cell_guid": "6f4fb314-a4a2-393c-f36f-1b41fb70df4a"
      },
      "source": [
        "## \u30ab\u30c6\u30b4\u30ea\u5024\u306e\u6570\u5024\u5316\n",
        "\u6b8b\u308b\u7279\u5fb4\u91cf\u306e\u3046\u3061\u3001\u30ab\u30c6\u30b4\u30ea\u5024\u306f Sex\u3001Embarked\u3001Title\u3002\n",
        "\n",
        "\u3053\u306e\u3046\u3061\u3001Sex \u306f2\u5024\u3067\u3001\u305d\u306e\u307e\u307e\u6570\u5024\u5316\u3057\u3066\u9806\u5e8f\u4ed8\u3051\u3057\u3066\u3082\u554f\u984c\u306a\u3055\u305d\u3046\u306a\u306e\u3067\u3001\u305d\u3046\u3059\u308b\u3002\n",
        "\n",
        "\u4ed6\u306e\u7279\u5fb4\u91cf\u306b\u3064\u3044\u3066\u306f\u3001one-hot\u30a8\u30f3\u30b3\u30fc\u30c7\u30a3\u30f3\u30b0\u3092\u4f7f\u3046\u3002\n",
        "\n",
        "### Sex\u306e\u6570\u5024\u5316"
      ]
    },
    {
      "cell_type": "code",
      "execution_count": null,
      "metadata": {
        "_cell_guid": "9a779e78-3c37-42c6-74ef-8c6d4b91263c"
      },
      "outputs": [],
      "source": [
        "df['Sex'] = df['Sex'].replace('male', 1)\n",
        "df['Sex'] = df['Sex'].replace('female', 0)\n",
        "\n",
        "df_final['Sex'] = df_final['Sex'].replace('male', 1)\n",
        "df_final['Sex'] = df_final['Sex'].replace('female', 0)"
      ]
    },
    {
      "cell_type": "markdown",
      "metadata": {
        "_cell_guid": "265dd6bb-4d93-0f69-c795-09d67f9cb63f"
      },
      "source": [
        "\u540c\u3058\u3053\u3068\u306f sklearn.preprocessing.LabelEncoder \u3092\u4f7f\u3048\u3070\u3082\u3063\u3068\u30b9\u30de\u30fc\u30c8\u306b\u3067\u304d\u308b\u3088\u3046\u3060\u3002"
      ]
    },
    {
      "cell_type": "markdown",
      "metadata": {
        "_cell_guid": "e5fe892b-f9ad-0f29-fb9d-e9e04a8eb458"
      },
      "source": [
        "### \u6b8b\u308a\u306e\u30ab\u30c6\u30b4\u30ea\u5024\u306eone-hot\u30d1\u30e9\u30e1\u30fc\u30bf\u5316\n",
        "\u6b21\u306e\u30b3\u30de\u30f3\u30c9\u3067\u4e00\u6c17\u306b\u3002"
      ]
    },
    {
      "cell_type": "code",
      "execution_count": null,
      "metadata": {
        "_cell_guid": "594b0722-0df1-e7ad-9a05-f6bdbe98a24f"
      },
      "outputs": [],
      "source": [
        "df2 = pd.get_dummies(df2)\n",
        "df2_final = pd.get_dummies(df2_final)\n",
        "\n",
        "df2.head()"
      ]
    },
    {
      "cell_type": "code",
      "execution_count": null,
      "metadata": {
        "_cell_guid": "5a0c3729-c1be-a7c1-c3d1-266ce9ab21d0"
      },
      "outputs": [],
      "source": [
        "df2_final.head()"
      ]
    },
    {
      "cell_type": "markdown",
      "metadata": {
        "_cell_guid": "52ad08e3-b4c2-fbbd-5143-776667b35249"
      },
      "source": [
        "\u672c\u5f53\u306f\u66f4\u306b\u3001\u5404\u5024\u306e\u6b63\u898f\u5316 or \u6a19\u6e96\u5316 \u3092\u3057\u305f\u65b9\u304c\u3044\u3044\u306f\u305a\u306a\u3093\u3060\u3051\u3069\u3001\u5b9f\u969b\u3084\u3063\u3066\u3082\u7279\u306b\u5f71\u97ff\u306a\u304b\u3063\u305f\uff08\u30b9\u30b3\u30a2\u304c\u6a2a\u3070\u3044\u3001\u3082\u3057\u304f\u306f\u4f4e\u4e0b\u3057\u305f\uff09\u3002\n",
        "\n",
        "\u5927\u4f53\u3001\u4ee5\u4e0a\u304c\u524d\u51e6\u7406\u3002\n",
        "\n",
        "## \u30e2\u30c7\u30eb\u306e\u9078\u629e\n",
        "\u5f8c\u306f\u30e2\u30c7\u30eb\u306e\u9078\u629e\u3002\n",
        "\n",
        "### \u30b5\u30f3\u30d7\u30eb\u306e\u5206\u5272\n",
        "train_test_split \u3092\u4f7f\u3046\u3002"
      ]
    },
    {
      "cell_type": "code",
      "execution_count": null,
      "metadata": {
        "_cell_guid": "3e6e1b0f-2cbd-c0ac-caf9-be422486fff1"
      },
      "outputs": [],
      "source": [
        "X = df2.values\n",
        "X_final = df2_final.values\n",
        "y = df.Survived.values\n",
        "\n",
        "X_train, X_test, y_train, y_test = train_test_split(X, y, test_size=0.2)"
      ]
    },
    {
      "cell_type": "markdown",
      "metadata": {
        "_cell_guid": "73bbec28-5411-4569-c555-b0333416f4ea"
      },
      "source": [
        "### Logistic Regression"
      ]
    },
    {
      "cell_type": "code",
      "execution_count": null,
      "metadata": {
        "_cell_guid": "00d0b11a-c9c7-8923-c6b0-6ca852096682"
      },
      "outputs": [],
      "source": [
        "lr = LogisticRegression()\n",
        "lr.fit(X_train, y_train)\n",
        "\n",
        "lr.score(X_train, y_train)"
      ]
    },
    {
      "cell_type": "code",
      "execution_count": null,
      "metadata": {
        "_cell_guid": "24b545d8-2037-3a6e-ca09-a1d7b8fa77d5"
      },
      "outputs": [],
      "source": [
        "lr.score(X_test, y_test)"
      ]
    },
    {
      "cell_type": "markdown",
      "metadata": {
        "_cell_guid": "d7cbef35-f9b4-736e-5722-34e0d085b941"
      },
      "source": [
        "\u30c8\u30ec\u30fc\u30cb\u30f3\u30b0\u30c7\u30fc\u30bf\u3068\u30c6\u30b9\u30c8\u30c7\u30fc\u30bf\u306e\u5dee\u304c\u306a\u3044\uff08\u2191\u3080\u3057\u308d\u9006\uff1f\uff09\u306b\u306a\u3063\u3066\u3066\u60aa\u304f\u306a\u3044\u611f\u3058\u3002\n",
        "\n",
        "### SVM"
      ]
    },
    {
      "cell_type": "code",
      "execution_count": null,
      "metadata": {
        "_cell_guid": "d672272f-a404-6277-1108-9f52f5ead0f1"
      },
      "outputs": [],
      "source": [
        "svm = SVC()\n",
        "svm.fit(X_train, y_train)\n",
        "\n",
        "svm.score(X_train, y_train)"
      ]
    },
    {
      "cell_type": "code",
      "execution_count": null,
      "metadata": {
        "_cell_guid": "252a5d73-aa77-9dd9-6801-44b5a03d0f9a"
      },
      "outputs": [],
      "source": [
        "svm.score(X_test, y_test)"
      ]
    },
    {
      "cell_type": "markdown",
      "metadata": {
        "_cell_guid": "a258ec78-f4a2-3da0-9697-178115436acb"
      },
      "source": [
        "\u3084\u3084\u904e\u5b66\u7fd2\u6c17\u5473\u3002\n",
        "\n",
        "### Random Forest"
      ]
    },
    {
      "cell_type": "code",
      "execution_count": null,
      "metadata": {
        "_cell_guid": "d3d43027-29a6-3105-ab72-fe885bcf4381"
      },
      "outputs": [],
      "source": [
        "forest = RandomForestClassifier()\n",
        "forest.fit(X_train, y_train)\n",
        "\n",
        "forest.score(X_train, y_train)"
      ]
    },
    {
      "cell_type": "code",
      "execution_count": null,
      "metadata": {
        "_cell_guid": "67fbc037-5479-6f13-536a-ebbb30b18351"
      },
      "outputs": [],
      "source": [
        "forest.score(X_test, y_test)"
      ]
    },
    {
      "cell_type": "markdown",
      "metadata": {
        "_cell_guid": "49a17f51-265d-b5bd-8486-eac9ec9ad236"
      },
      "source": [
        "\u3081\u3063\u3061\u3083\u904e\u5b66\u7fd2\u3057\u3066\u308b\u3002\u4ee5\u4e0a\u304b\u3089\u3001\u30ed\u30b8\u30b9\u30c6\u30a3\u30c3\u30af\u56de\u5e30\u63a1\u7528\u3002\n",
        "\n",
        "\u3061\u306a\u307f\u306b\u3001random forest \u306e\u7d50\u679c\u304b\u3089\u7279\u5fb4\u91cf\u306e\u91cd\u8981\u5ea6\u3092\u89b3\u3066\u307f\u308b\u3068\uff1a"
      ]
    },
    {
      "cell_type": "code",
      "execution_count": null,
      "metadata": {
        "_cell_guid": "490b1bd6-057f-3a80-7626-6df2125124d9"
      },
      "outputs": [],
      "source": [
        "importances=forest.feature_importances_\n",
        "std = np.std([forest.feature_importances_ for tree in forest.estimators_],\n",
        "             axis=0)\n",
        "indices = np.argsort(importances)[::-1]\n",
        "sorted_important_features=[]\n",
        "predictors = df2.columns\n",
        "for i in indices:\n",
        "    sorted_important_features.append(predictors[i])\n",
        "\n",
        "%matplotlib inline\n",
        "\n",
        "import matplotlib.pyplot as plt\n",
        "\n",
        "plt.figure()\n",
        "plt.title(\"Feature Importances By Random Forest Model\")\n",
        "plt.bar(range(np.size(predictors)), importances[indices],\n",
        "       color=\"r\", yerr=std[indices], align=\"center\")\n",
        "plt.xticks(range(np.size(predictors)), sorted_important_features, rotation='vertical')\n",
        "\n",
        "plt.xlim([-1, np.size(predictors)])"
      ]
    },
    {
      "cell_type": "markdown",
      "metadata": {
        "_cell_guid": "4795b4ce-0c55-5fa0-baf2-f4f778402c7e"
      },
      "source": [
        "Fare\u3068Age\u304c\u3081\u3063\u3061\u3083\u52b9\u3044\u3066\u3044\u308b\u3002\n",
        "\n",
        "\u3053\u306e\u8fba\u308a\u304b\u3089\u3001\u7279\u5fb4\u91cf\u3092\u9078\u629e\u3059\u308b\u65b9\u91dd\u3082\u30a2\u30ea\u3060\u3068\u601d\u3048\u3066\u6b21\u5143\u524a\u6e1b\u3092\u3044\u308d\u3044\u308d\u8a66\u3057\u3066\u307f\u305f\u3051\u3069\u3001\u3069\u308c\u3082\u52b9\u304b\u306a\u304b\u3063\u305f\u3002"
      ]
    },
    {
      "cell_type": "markdown",
      "metadata": {
        "_cell_guid": "44382f1b-b677-1d8b-5359-315657bf17e9"
      },
      "source": [
        "## \u5b9f\u969b\u306b\u4e88\u6e2c\u3059\u308b"
      ]
    },
    {
      "cell_type": "code",
      "execution_count": null,
      "metadata": {
        "_cell_guid": "2e40225e-8cf8-85c9-2851-0fd34f1aa04b"
      },
      "outputs": [],
      "source": [
        "def to_csv(fname, result):\n",
        "    #csv\u30d5\u30a1\u30a4\u30eb\u306e\u4f5c\u6210\n",
        "    results = []\n",
        "    index = df_final['PassengerId'].values\n",
        "    for idx, r in zip(index, result):\n",
        "        results.append([idx, r])\n",
        "    df_result = pd.DataFrame(results)\n",
        "    df_result.columns = ['PassengerId', 'Survived']\n",
        "    df_result.to_csv(fname, index=False)"
      ]
    },
    {
      "cell_type": "code",
      "execution_count": null,
      "metadata": {
        "_cell_guid": "0f30e107-bc6b-67fe-9648-8f06070353aa"
      },
      "outputs": [],
      "source": [
        "lr.fit(X, y)\n",
        "result = lr.predict(X_final)\n",
        "\n",
        "to_csv('result.csv', result)"
      ]
    },
    {
      "cell_type": "markdown",
      "metadata": {
        "_cell_guid": "e226caa4-75ed-0746-9201-ae866dd258dc"
      },
      "source": [
        "\u4ee5\u4e0a\u3067\u304a\u3057\u307e\u3044\u3002"
      ]
    }
  ],
  "metadata": {
    "_change_revision": 0,
    "_is_fork": false,
    "kernelspec": {
      "display_name": "Python 3",
      "language": "python",
      "name": "python3"
    },
    "language_info": {
      "codemirror_mode": {
        "name": "ipython",
        "version": 3
      },
      "file_extension": ".py",
      "mimetype": "text/x-python",
      "name": "python",
      "nbconvert_exporter": "python",
      "pygments_lexer": "ipython3",
      "version": "3.6.0"
    }
  },
  "nbformat": 4,
  "nbformat_minor": 0
}