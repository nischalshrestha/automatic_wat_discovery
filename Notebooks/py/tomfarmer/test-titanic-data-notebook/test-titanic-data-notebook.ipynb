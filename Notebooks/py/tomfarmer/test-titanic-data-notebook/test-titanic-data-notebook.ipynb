{
  "cells": [
    {
      "cell_type": "markdown",
      "metadata": {
        "_cell_guid": "b7f1c610-5b3b-c9b9-60e0-1acb09b730f6"
      },
      "source": [
        "Getting packages and the data"
      ]
    },
    {
      "cell_type": "code",
      "execution_count": null,
      "metadata": {
        "_cell_guid": "21e50707-8e75-8ad5-9878-8d62e8229038"
      },
      "outputs": [],
      "source": [
        "import pandas as pd\n",
        "import numpy as np\n",
        "import sklearn\n",
        "import matplotlib.pyplot as plt\n",
        "import seaborn as sns #enables heatmap for correlations\n",
        "from sklearn import preprocessing\n",
        "from sklearn.preprocessing import OneHotEncoder\n",
        "\n",
        "train =  pd.read_csv('../input/train.csv')\n",
        "test =  pd.read_csv('../input/test.csv')\n",
        "\n",
        "print(len(train), len(test)) #891 then 418\n",
        "print(train.head())\n",
        "#print(test.head())"
      ]
    },
    {
      "cell_type": "markdown",
      "metadata": {
        "_cell_guid": "7964d7df-bc73-6ed7-7d5a-e37bb12934c4"
      },
      "source": [
        "Test code"
      ]
    },
    {
      "cell_type": "code",
      "execution_count": null,
      "metadata": {
        "_cell_guid": "ecddf9bf-1140-3058-d6e9-7ab295d26169"
      },
      "outputs": [],
      "source": [
        "print(train.columns)\n",
        "train['Fare'].describe()"
      ]
    },
    {
      "cell_type": "code",
      "execution_count": null,
      "metadata": {
        "_cell_guid": "2d317ae5-ec3b-9efd-4a91-7e5c04c35a00"
      },
      "outputs": [],
      "source": [
        "plt.hist(train['Fare'], 100)"
      ]
    },
    {
      "cell_type": "markdown",
      "metadata": {
        "_cell_guid": "956aa0b6-a8e4-29e3-f1fd-ba241e7f9dde"
      },
      "source": [
        ""
      ]
    },
    {
      "cell_type": "code",
      "execution_count": null,
      "metadata": {
        "_cell_guid": "7c566a1e-49d6-4101-cfe1-b42379a1f451"
      },
      "outputs": [],
      "source": [
        "corrmat = train.corr()\n",
        "sns.heatmap(corrmat)"
      ]
    },
    {
      "cell_type": "code",
      "execution_count": null,
      "metadata": {
        "_cell_guid": "78602adc-091d-aa56-1318-73736d3e25aa"
      },
      "outputs": [],
      "source": [
        "enc = OneHotEncoder()\n",
        "\n",
        "encodedData = train\n",
        "\n",
        "print(encodedData.Sex.unique())\n",
        "print(encodedData.Pclass.unique())\n",
        "print(encodedData.Embarked.unique())\n",
        "print(encodedData.SibSp.unique())\n",
        "#encodedData[['Pclass','Sex']]\n",
        "\n",
        "enc.fit(encodedData[['Pclass','SibSp']])\n",
        "encodedData = enc.transform(encodedData[['Pclass','SibSp']])\n",
        "encodedData"
      ]
    }
  ],
  "metadata": {
    "_change_revision": 0,
    "_is_fork": false,
    "kernelspec": {
      "display_name": "Python 3",
      "language": "python",
      "name": "python3"
    },
    "language_info": {
      "codemirror_mode": {
        "name": "ipython",
        "version": 3
      },
      "file_extension": ".py",
      "mimetype": "text/x-python",
      "name": "python",
      "nbconvert_exporter": "python",
      "pygments_lexer": "ipython3",
      "version": "3.6.0"
    }
  },
  "nbformat": 4,
  "nbformat_minor": 0
}