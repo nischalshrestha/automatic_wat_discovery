{
  "cells": [
    {
      "cell_type": "markdown",
      "metadata": {
        "_cell_guid": "086dfa88-c06d-d2f0-17ca-31a8c724f1cc"
      },
      "source": [
        "We import the useful libraries."
      ]
    },
    {
      "cell_type": "code",
      "execution_count": null,
      "metadata": {
        "_cell_guid": "fc585952-ce77-7f5d-5090-6f227f39dadc"
      },
      "outputs": [],
      "source": [
        "# remove warnings\n",
        "import warnings\n",
        "warnings.filterwarnings('ignore')\n",
        "# ---\n",
        "\n",
        "%matplotlib inline\n",
        "import pandas as pd\n",
        "pd.options.display.max_columns = 100\n",
        "from matplotlib import pyplot as plt\n",
        "import matplotlib\n",
        "matplotlib.style.use('ggplot')\n",
        "import numpy as np\n",
        "from sklearn import cross_validation\n",
        "from sklearn.ensemble import RandomForestClassifier\n",
        "\n",
        "\n",
        "pd.options.display.max_rows = 100"
      ]
    },
    {
      "cell_type": "code",
      "execution_count": null,
      "metadata": {
        "_cell_guid": "a5468fd1-4600-447b-4450-74b8cdcfecc2"
      },
      "outputs": [],
      "source": [
        "data_train = pd.read_csv('../input/train.csv')"
      ]
    },
    {
      "cell_type": "code",
      "execution_count": null,
      "metadata": {
        "_cell_guid": "6a35b90b-8d6d-8e19-2ca6-981881cfa815"
      },
      "outputs": [],
      "source": [
        "data_train.head()"
      ]
    },
    {
      "cell_type": "code",
      "execution_count": null,
      "metadata": {
        "_cell_guid": "00913098-381b-adcf-8cda-e7d2927fb8e4"
      },
      "outputs": [],
      "source": [
        "data_train.describe()"
      ]
    },
    {
      "cell_type": "code",
      "execution_count": null,
      "metadata": {
        "_cell_guid": "0cd772c7-55a2-c199-e7a3-6af0894c7fe9"
      },
      "outputs": [],
      "source": [
        "data_train['Age'].fillna(data_train['Age'].median(), inplace=True)"
      ]
    },
    {
      "cell_type": "code",
      "execution_count": null,
      "metadata": {
        "_cell_guid": "1d1ce507-1393-c892-aac7-9bfe057a35f2"
      },
      "outputs": [],
      "source": [
        "data_train.describe()"
      ]
    },
    {
      "cell_type": "code",
      "execution_count": null,
      "metadata": {
        "_cell_guid": "485bb706-6688-2835-8dbb-8a129821c9ac"
      },
      "outputs": [],
      "source": [
        "survived_sex = data_train[data_train['Survived']==1]['Sex'].value_counts()\n",
        "dead_sex = data_train[data_train['Survived']==0]['Sex'].value_counts()\n",
        "df = pd.DataFrame([survived_sex,dead_sex])\n",
        "df.index = ['Survived','Dead']\n",
        "df.plot(kind='bar',stacked=True, figsize=(13,8))"
      ]
    },
    {
      "cell_type": "code",
      "execution_count": null,
      "metadata": {
        "_cell_guid": "a5d429d5-0584-4321-07ef-ee2f758a95f1"
      },
      "outputs": [],
      "source": [
        "figure = plt.figure(figsize=(13,8))\n",
        "plt.hist([data_train[data_train['Survived']==1]['Fare'],data_train[data_train['Survived']==0]['Fare']], stacked=True, color = ['g','r'],\n",
        "         bins = 30,label = ['Survived','Dead'])\n",
        "plt.xlabel('Fare')\n",
        "plt.ylabel('Number of passengers')\n",
        "plt.legend()"
      ]
    },
    {
      "cell_type": "code",
      "execution_count": null,
      "metadata": {
        "_cell_guid": "1b171c44-3728-033c-fcab-fc7b14e205c5"
      },
      "outputs": [],
      "source": [
        "plt.figure(figsize=(13,8))\n",
        "ax = plt.subplot()\n",
        "ax.scatter(data_train[data_train['Survived']==1]['Age'],data_train[data_train['Survived']==1]['Fare'],c='green',s=40)\n",
        "ax.scatter(data_train[data_train['Survived']==0]['Age'],data_train[data_train['Survived']==0]['Fare'],c='red',s=40)\n",
        "ax.set_xlabel('Age')\n",
        "ax.set_ylabel('Fare')\n",
        "ax.legend(('survived','dead'),scatterpoints=1,loc='upper right',fontsize=15,)"
      ]
    },
    {
      "cell_type": "code",
      "execution_count": null,
      "metadata": {
        "_cell_guid": "8a2fdaa6-0a5a-9ef0-04a4-b5580594a4a2"
      },
      "outputs": [],
      "source": [
        "ax = plt.subplot()\n",
        "ax.set_ylabel('Average fare')\n",
        "data_train.groupby('Pclass').mean()['Fare'].plot(kind='bar',figsize=(13,8), ax = ax)"
      ]
    },
    {
      "cell_type": "code",
      "execution_count": null,
      "metadata": {
        "_cell_guid": "a71df057-c9da-d7ba-026e-fb9e943cc011"
      },
      "outputs": [],
      "source": [
        "survived_embark = data_train[data_train['Survived']==1]['Embarked'].value_counts()\n",
        "dead_embark = data_train[data_train['Survived']==0]['Embarked'].value_counts()\n",
        "df = pd.DataFrame([survived_embark,dead_embark])\n",
        "df.index = ['Survived','Dead']\n",
        "df.plot(kind='bar',stacked=True, figsize=(13,8))"
      ]
    },
    {
      "cell_type": "code",
      "execution_count": null,
      "metadata": {
        "_cell_guid": "9e515799-982a-3a5d-e960-99317b13c890"
      },
      "outputs": [],
      "source": [
        "# Store our features in a list\n",
        "predictors = [\"Pclass\", \"Sex\", \"Age\", \"SibSp\", \"Parch\", \"Fare\", \"Embarked\"]"
      ]
    },
    {
      "cell_type": "code",
      "execution_count": null,
      "metadata": {
        "_cell_guid": "263460c8-5824-8f94-2938-760876d810b8"
      },
      "outputs": [],
      "source": [
        "data_train = pd.read_csv('../input/train.csv')\n",
        "\n",
        "#Clean Data\n",
        "# 1) Replace all missing values with the median for that feature column\n",
        "data_train[\"Age\"] = data_train[\"Age\"].fillna(data_train[\"Age\"].median())\n",
        "\n",
        "# 2) Convert male and female labels from string to int: male = 0, female = 1\n",
        "data_train.loc[data_train[\"Sex\"] == \"male\", \"Sex\"] = 0\n",
        "data_train.loc[data_train[\"Sex\"] == \"female\", \"Sex\"] = 1\n",
        "    \n",
        "# 3) Convert departure points from char to int: S = 0, C = 1, Q = 2\n",
        "print(data_train[\"Embarked\"].unique())\n",
        "data_train[\"Embarked\"] = data_train[\"Embarked\"].fillna(\"S\")\n",
        "data_train.loc[data_train[\"Embarked\"] == \"S\", \"Embarked\"] = 0\n",
        "data_train.loc[data_train[\"Embarked\"] == \"C\", \"Embarked\"] = 1\n",
        "data_train.loc[data_train[\"Embarked\"] == \"Q\", \"Embarked\"] = 2"
      ]
    },
    {
      "cell_type": "code",
      "execution_count": null,
      "metadata": {
        "_cell_guid": "a72504b4-a095-7155-af12-4d0ac1bd7575"
      },
      "outputs": [],
      "source": [
        "alg = RandomForestClassifier(random_state=1, n_estimators=10, min_samples_split=2, min_samples_leaf=1)"
      ]
    },
    {
      "cell_type": "code",
      "execution_count": null,
      "metadata": {
        "_cell_guid": "4b417221-4871-3817-fca0-5c586bdbe52d"
      },
      "outputs": [],
      "source": [
        "kf = cross_validation.KFold(data_train.shape[0], n_folds=3, random_state=1)\n",
        "scores = cross_validation.cross_val_score(alg, data_train[predictors], data_train[\"Survived\"], cv=kf)"
      ]
    },
    {
      "cell_type": "code",
      "execution_count": null,
      "metadata": {
        "_cell_guid": "e588ffef-0734-f6a8-5d03-645f6a18015c"
      },
      "outputs": [],
      "source": [
        "alg = RandomForestClassifier(random_state=1, n_estimators=150, min_samples_split=4, min_samples_leaf=2)"
      ]
    },
    {
      "cell_type": "code",
      "execution_count": null,
      "metadata": {
        "_cell_guid": "889e96eb-5972-3502-efff-8ae54eacf941"
      },
      "outputs": [],
      "source": [
        "kf = cross_validation.KFold(data_train.shape[0], 3, random_state=1)\n",
        "scores = cross_validation.cross_val_score(alg, data_train[predictors], data_train[\"Survived\"], cv=kf)"
      ]
    },
    {
      "cell_type": "code",
      "execution_count": null,
      "metadata": {
        "_cell_guid": "22a3cd37-0e27-05e7-00e1-eeace6b7ce89"
      },
      "outputs": [],
      "source": [
        "print(scores.mean())"
      ]
    },
    {
      "cell_type": "code",
      "execution_count": null,
      "metadata": {
        "_cell_guid": "29b99882-e479-ae9e-5613-39b67c553ca7"
      },
      "outputs": [],
      "source": [
        "# Now Let's Test our mod"
      ]
    },
    {
      "cell_type": "code",
      "execution_count": null,
      "metadata": {
        "_cell_guid": "3b3a2225-c265-bbb4-8359-9a6456964822"
      },
      "outputs": [],
      "source": [
        "#Load the test set\n",
        "titanic_test = pd.read_csv('../input/test.csv')"
      ]
    },
    {
      "cell_type": "code",
      "execution_count": null,
      "metadata": {
        "_cell_guid": "26923444-a3b9-e46a-cffe-4f380c0a551e"
      },
      "outputs": [],
      "source": [
        "#Clean the test set as we did the training set\n",
        "titanic_test[\"Age\"] = titanic_test[\"Age\"].fillna(titanic_test[\"Age\"].median())\n",
        "titanic_test.loc[titanic_test[\"Sex\"] == \"male\", \"Sex\"] = 0\n",
        "titanic_test.loc[titanic_test[\"Sex\"] == \"female\", \"Sex\"] = 1\n",
        "titanic_test[\"Embarked\"] = titanic_test[\"Embarked\"].fillna(\"S\")\n",
        "titanic_test.loc[titanic_test[\"Embarked\"] == \"S\", \"Embarked\"] = 0\n",
        "titanic_test.loc[titanic_test[\"Embarked\"] == \"C\", \"Embarked\"] = 1\n",
        "titanic_test.loc[titanic_test[\"Embarked\"] == \"Q\", \"Embarked\"] = 2\n",
        "\n",
        "# Fix a bad datapoint in the Fares Column which was not in the training set\n",
        "titanic_test[\"Fare\"] = titanic_test[\"Fare\"].fillna(titanic_test[\"Fare\"].median())"
      ]
    },
    {
      "cell_type": "code",
      "execution_count": null,
      "metadata": {
        "_cell_guid": "da967126-1131-6ee8-7abf-10cd7ea3df38"
      },
      "outputs": [],
      "source": [
        "alg.fit(data_train[predictors], data_train[\"Survived\"])\n",
        "# Predict using the test dataset.  We have to convert all the columns to floats to avoid an error.\n",
        "predictions = alg.predict_proba(titanic_test[predictors].astype(float))[:,1]\n",
        "\n",
        "# Must convert outcomes to either died or survived\n",
        "predictions[predictions > .5] = 1\n",
        "predictions[predictions <= .5] = 0\n",
        "predictions = predictions.astype(int)"
      ]
    },
    {
      "cell_type": "code",
      "execution_count": null,
      "metadata": {
        "_cell_guid": "e62f8341-01a9-9f98-a066-9c3792db0e0a"
      },
      "outputs": [],
      "source": [
        "# Store your results in a submission file\n",
        "submission_unformatted = pd.DataFrame({\"PassengerId\": titanic_test[\"PassengerId\"],\"Survived\":predictions})\n",
        "submission = submission_unformatted.set_index(\"PassengerId\")\n",
        "submission.to_csv('../working/simple_submission.csv')"
      ]
    },
    {
      "cell_type": "code",
      "execution_count": null,
      "metadata": {
        "_cell_guid": "63479196-6422-0615-3cb0-3389668f2b4d"
      },
      "outputs": [],
      "source": [
        "import os\n",
        "#os.listdir('.')\n",
        "os.listdir('../working')"
      ]
    },
    {
      "cell_type": "code",
      "execution_count": null,
      "metadata": {
        "_cell_guid": "d55f3517-2c38-e361-9f21-c713c74b7b7d"
      },
      "outputs": [],
      "source": ""
    }
  ],
  "metadata": {
    "_change_revision": 0,
    "_is_fork": false,
    "kernelspec": {
      "display_name": "Python 3",
      "language": "python",
      "name": "python3"
    },
    "language_info": {
      "codemirror_mode": {
        "name": "ipython",
        "version": 3
      },
      "file_extension": ".py",
      "mimetype": "text/x-python",
      "name": "python",
      "nbconvert_exporter": "python",
      "pygments_lexer": "ipython3",
      "version": "3.5.2"
    }
  },
  "nbformat": 4,
  "nbformat_minor": 0
}