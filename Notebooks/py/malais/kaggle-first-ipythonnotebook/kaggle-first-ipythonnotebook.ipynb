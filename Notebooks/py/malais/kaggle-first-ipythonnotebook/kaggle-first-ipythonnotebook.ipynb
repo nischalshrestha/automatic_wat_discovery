{"cells":[
 {
  "cell_type": "code",
  "execution_count": null,
  "metadata": {
   "collapsed": false
  },
  "outputs": [],
  "source": "%matplotlib inline"
 },
 {
  "cell_type": "code",
  "execution_count": null,
  "metadata": {
   "collapsed": false
  },
  "outputs": [],
  "source": "import matplotlib.pyplot as plt\n%matplotlib inline\nimport numpy as np\nimport pandas as pd\nfrom sklearn import linear_model as lm\nfrom sklearn import ensemble\n\n"
 },
 {
  "cell_type": "code",
  "execution_count": null,
  "metadata": {
   "collapsed": false
  },
  "outputs": [],
  "source": "train = pd.read_csv(\"../input/train.csv\", dtype={\"Age\": np.float64}, )\ntrain.head()"
 },
 {
  "cell_type": "code",
  "execution_count": null,
  "metadata": {
   "collapsed": false
  },
  "outputs": [],
  "source": "train.dtypes"
 },
 {
  "cell_type": "code",
  "execution_count": null,
  "metadata": {
   "collapsed": false
  },
  "outputs": [],
  "source": "train.describe()\n"
 },
 {
  "cell_type": "code",
  "execution_count": null,
  "metadata": {
   "collapsed": false
  },
  "outputs": [],
  "source": "train.dtypes\n"
 },
 {
  "cell_type": "code",
  "execution_count": null,
  "metadata": {
   "collapsed": false
  },
  "outputs": [],
  "source": "train['Cabin'].describe()"
 },
 {
  "cell_type": "code",
  "execution_count": null,
  "metadata": {
   "collapsed": false
  },
  "outputs": [],
  "source": "train['Embarked'].describe()"
 },
 {
  "cell_type": "code",
  "execution_count": null,
  "metadata": {
   "collapsed": false
  },
  "outputs": [],
  "source": "train = train.drop(['Ticket','Cabin'], axis=1)\ntrain = train.dropna() \n\n\n\n"
 },
 {
  "cell_type": "code",
  "execution_count": null,
  "metadata": {
   "collapsed": false
  },
  "outputs": [],
  "source": "train.describe()"
 },
 {
  "cell_type": "code",
  "execution_count": null,
  "metadata": {
   "collapsed": false
  },
  "outputs": [],
  "source": "# specifies the parameters of our graphs\nfig = plt.figure(figsize=(18,6), dpi=1600) \nalpha=alpha_scatterplot = 0.2 \nalpha_bar_chart = 0.55\n\n# lets us plot many diffrent shaped graphs together \nax1 = plt.subplot2grid((2,3),(0,0))\n# plots a bar graph of those who surived vs those who did not.               \ntrain.Survived.value_counts().plot(kind='bar', alpha=alpha_bar_chart)\n# this nicely sets the margins in matplotlib to deal with a recent bug 1.3.1\nax1.set_xlim(-1, 2)\n# puts a title on our graph\nplt.title(\"Distribution of Survival, (1 = Survived)\")    \n\nplt.subplot2grid((2,3),(0,1))\nplt.scatter(train.Survived, train.Age, alpha=alpha_scatterplot)\n# sets the y axis lablea\nplt.ylabel(\"Age\")\n# formats the grid line style of our graphs                          \nplt.grid(b=True, which='major', axis='y')  \nplt.title(\"Survial by Age,  (1 = Survived)\")\n\nax3 = plt.subplot2grid((2,3),(0,2))\ntrain.Pclass.value_counts().plot(kind=\"barh\", alpha=alpha_bar_chart)\nax3.set_ylim(-1, len(train.Pclass.value_counts()))\nplt.title(\"Class Distribution\")\n\nplt.subplot2grid((2,3),(1,0), colspan=2)\n# plots a kernel desnsity estimate of the subset of the 1st class passanges's age\ntrain.Age[train.Pclass == 1].plot(kind='kde')    \ntrain.Age[train.Pclass == 2].plot(kind='kde')\ntrain.Age[train.Pclass == 3].plot(kind='kde')\n # plots an axis lable\nplt.xlabel(\"Age\")    \nplt.title(\"Age Distribution within classes\")\n# sets our legend for our graph.\nplt.legend(('1st Class', '2nd Class','3rd Class'),loc='best') \n\nax5 = plt.subplot2grid((2,3),(1,2))\ntrain.Embarked.value_counts().plot(kind='bar', alpha=alpha_bar_chart)\nax5.set_xlim(-1, len(train.Embarked.value_counts()))\n# specifies the parameters of our graphs\nplt.title(\"Passengers per boarding location\")"
 },
 {
  "cell_type": "code",
  "execution_count": null,
  "metadata": {
   "collapsed": false
  },
  "outputs": [],
  "source": "fig = plt.figure(figsize=(18,6))\n\n# create a plot of two subsets, male and female, of the survived variable.\n# After we do that we call value_counts() so it can be easily plotted as a bar graph. \n# 'barh' is just a horizontal bar graph\nax1 = fig.add_subplot(121)\ntrain.Survived[train.Sex == 'male'].value_counts().plot(kind='barh',label='Male')\ntrain.Survived[train.Sex == 'female'].value_counts().plot(kind='barh', color='#FA2379',label='Female')\nax1.set_ylim(-1, 2) \nplt.title(\"Who Survived? with respect to Gender, (raw value counts) \"); plt.legend(loc='best')\n\n\n# adjust graph to display the proportions of survival by gender\nax2 = fig.add_subplot(122)\n(train.Survived[train.Sex == 'male'].value_counts()/float(train.Sex[train.Sex == 'male'].size)).plot(kind='barh',label='Male')  \n(train.Survived[train.Sex == 'female'].value_counts()/float(train.Sex[train.Sex == 'female'].size)).plot(kind='barh', color='#FA2379',label='Female')\nax2.set_ylim(-1, 2)\nplt.title(\"Who Survived proportionally? with respect to Gender\"); plt.legend(loc='best')"
 },
 {
  "cell_type": "code",
  "execution_count": null,
  "metadata": {
   "collapsed": false
  },
  "outputs": [],
  "source": "fig = plt.figure(figsize=(18,4), dpi=1600)\nalpha_level = 0.65\n\n# building on the previous code, here we create an additional subset with in the gender subset \n# we created for the survived variable. I know, thats a lot of subsets. After we do that we call \n# value_counts() so it it can be easily plotted as a bar graph. this is repeated for each gender \n# class pair.\nax1=fig.add_subplot(141)\nfemale_highclass = train.Survived[train.Sex == 'female'][train.Pclass != 3].value_counts()\nfemale_highclass.plot(kind='bar', label='female highclass', color='#FA2479', alpha=alpha_level)\nax1.set_xticklabels([\"Survived\", \"Died\"], rotation=0)\nax1.set_xlim(-1, len(female_highclass))\nplt.title(\"Who Survived? with respect to Gender and Class\"); plt.legend(loc='best')\n\nax2=fig.add_subplot(142, sharey=ax1)\nfemale_lowclass = train.Survived[train.Sex == 'female'][train.Pclass == 3].value_counts()\nfemale_lowclass.plot(kind='bar', label='female, low class', color='pink', alpha=alpha_level)\nax2.set_xticklabels([\"Died\",\"Survived\"], rotation=0)\nax2.set_xlim(-1, len(female_lowclass))\nplt.legend(loc='best')\n\nax3=fig.add_subplot(143, sharey=ax1)\nmale_lowclass = train.Survived[train.Sex == 'male'][train.Pclass == 3].value_counts()\nmale_lowclass.plot(kind='bar', label='male, low class',color='lightblue', alpha=alpha_level)\nax3.set_xticklabels([\"Died\",\"Survived\"], rotation=0)\nax3.set_xlim(-1, len(male_lowclass))\nplt.legend(loc='best')\n\nax4=fig.add_subplot(144, sharey=ax1)\nmale_highclass = train.Survived[train.Sex == 'male'][train.Pclass != 3].value_counts()\nmale_highclass.plot(kind='bar', label='male highclass', alpha=alpha_level, color='steelblue')\nax4.set_xticklabels([\"Died\",\"Survived\"], rotation=0)\nax4.set_xlim(-1, len(male_highclass))\nplt.legend(loc='best')"
 },
 {
  "cell_type": "code",
  "execution_count": null,
  "metadata": {
   "collapsed": false
  },
  "outputs": [],
  "source": "train = train.drop(['Name','PassengerId'], axis=1)\n"
 },
 {
  "cell_type": "code",
  "execution_count": null,
  "metadata": {
   "collapsed": false
  },
  "outputs": [],
  "source": "train['Pclass'] = train['Pclass'].astype(object)\ntrain['Survived'] = train['Survived'].astype(int)\n"
 },
 {
  "cell_type": "code",
  "execution_count": null,
  "metadata": {
   "collapsed": false
  },
  "outputs": [],
  "source": "train.dtypes"
 },
 {
  "cell_type": "code",
  "execution_count": null,
  "metadata": {
   "collapsed": false
  },
  "outputs": [],
  "source": " pclass_frame  = pd.get_dummies(train['Pclass'],prefix='Class')\n pclass_frame.dtypes\n pclass_frame.head()\n\n"
 },
 {
  "cell_type": "code",
  "execution_count": null,
  "metadata": {
   "collapsed": false
  },
  "outputs": [],
  "source": " pclass_frame = pclass_frame.drop(['Class_3'], axis=1)\ntrain = train.join(pclass_frame)"
 },
 {
  "cell_type": "code",
  "execution_count": null,
  "metadata": {
   "collapsed": false
  },
  "outputs": [],
  "source": " sex_frame  = pd.get_dummies(train['Sex'])\n sex_frame = sex_frame.drop(['male'], axis=1)\n\n \n"
 },
 {
  "cell_type": "code",
  "execution_count": null,
  "metadata": {
   "collapsed": false
  },
  "outputs": [],
  "source": "sex_frame.head()"
 },
 {
  "cell_type": "code",
  "execution_count": null,
  "metadata": {
   "collapsed": false
  },
  "outputs": [],
  "source": ""
 },
 {
  "cell_type": "code",
  "execution_count": null,
  "metadata": {
   "collapsed": false
  },
  "outputs": [],
  "source": "train = train.drop(['Sex','Pclass','Embarked'], axis=1)\n"
 },
 {
  "cell_type": "code",
  "execution_count": null,
  "metadata": {
   "collapsed": false
  },
  "outputs": [],
  "source": "train.head()"
 },
 {
  "cell_type": "code",
  "execution_count": null,
  "metadata": {
   "collapsed": false
  },
  "outputs": [],
  "source": "labels = train.Survived.values"
 },
 {
  "cell_type": "code",
  "execution_count": null,
  "metadata": {
   "collapsed": false
  },
  "outputs": [],
  "source": "train = train.drop(['Survived'], axis=1)"
 },
 {
  "cell_type": "code",
  "execution_count": null,
  "metadata": {
   "collapsed": false
  },
  "outputs": [],
  "source": "train_Array = train.ix[:,:]"
 },
 {
  "cell_type": "code",
  "execution_count": null,
  "metadata": {
   "collapsed": false
  },
  "outputs": [],
  "source": "clf = ensemble.RandomForestClassifier(n_jobs=-1, n_estimators=10)\nclf.fit(train_Array, labels)\n"
 },
 {
  "cell_type": "code",
  "execution_count": null,
  "metadata": {
   "collapsed": false
  },
  "outputs": [],
  "source": "logreg = lm.LogisticRegression(C=1e5)\nlogreg.fit(train_Array,labels)"
 },
 {
  "cell_type": "code",
  "execution_count": null,
  "metadata": {
   "collapsed": false
  },
  "outputs": [],
  "source": "test = pd.read_csv(\"../input/test.csv\", dtype={\"Age\": np.float64}, )\n"
 },
 {
  "cell_type": "code",
  "execution_count": null,
  "metadata": {
   "collapsed": false
  },
  "outputs": [],
  "source": "train.dtypes"
 },
 {
  "cell_type": "code",
  "execution_count": null,
  "metadata": {
   "collapsed": false
  },
  "outputs": [],
  "source": "test.dtypes\n"
 },
 {
  "cell_type": "code",
  "execution_count": null,
  "metadata": {
   "collapsed": false
  },
  "outputs": [],
  "source": "predictors = ['Age','SibSp','Parch','Fare','Class_1','Class_2','female']"
 },
 {
  "cell_type": "code",
  "execution_count": null,
  "metadata": {
   "collapsed": false
  },
  "outputs": [],
  "source": " test_sex_frame  = pd.get_dummies(test['Sex'])\n test_sex_frame = test_sex_frame.drop(['male'], axis=1)\ntest = test.join(test_sex_frame)\n test_pclass_frame  = pd.get_dummies(test['Pclass'],prefix='Class')\n test_pclass_frame = test_pclass_frame.drop(['Class_3'], axis=1)\ntest = test.join(test_pclass_frame)"
 },
 {
  "cell_type": "code",
  "execution_count": null,
  "metadata": {
   "collapsed": false
  },
  "outputs": [],
  "source": "test = test.drop(['Pclass','Sex'],axis = 1)"
 },
 {
  "cell_type": "code",
  "execution_count": null,
  "metadata": {
   "collapsed": false
  },
  "outputs": [],
  "source": "test = test.fillna(0)"
 },
 {
  "cell_type": "code",
  "execution_count": null,
  "metadata": {
   "collapsed": false
  },
  "outputs": [],
  "source": "predicted_probability = clf.predict(test[predictors])\n"
 },
 {
  "cell_type": "code",
  "execution_count": null,
  "metadata": {
   "collapsed": false
  },
  "outputs": [],
  "source": "predicted_probability"
 },
 {
  "cell_type": "code",
  "execution_count": null,
  "metadata": {
   "collapsed": false
  },
  "outputs": [],
  "source": "# Create a new dataframe with only the columns Kaggle wants from the dataset.\nsubmission = pd.DataFrame({\n        \"PassengerId\": test[\"PassengerId\"],\n        \"Survived\": predicted_probability\n    })"
 },
 {
  "cell_type": "code",
  "execution_count": null,
  "metadata": {
   "collapsed": false
  },
  "outputs": [],
  "source": "submission.head()"
 },
 {
  "cell_type": "code",
  "execution_count": null,
  "metadata": {
   "collapsed": false
  },
  "outputs": [],
  "source": "submission.to_csv(\"malai_submission.csv\", index=False)"
 },
 {
  "cell_type": "code",
  "execution_count": null,
  "metadata": {
   "collapsed": false
  },
  "outputs": [],
  "source": ""
 }
],"metadata":{"kernelspec":{"display_name":"Python 3","language":"python","name":"python3"}}, "nbformat": 4, "nbformat_minor": 0}