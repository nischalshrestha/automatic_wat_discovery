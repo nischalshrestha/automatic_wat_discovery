{"cells":[
 {
  "cell_type": "code",
  "execution_count": null,
  "metadata": {
   "collapsed": true
  },
  "outputs": [],
  "source": "%matplotlib inline"
 },
 {
  "cell_type": "code",
  "execution_count": null,
  "metadata": {
   "collapsed": false
  },
  "outputs": [],
  "source": "import numpy as np # linear algebra\nimport pandas as pd # data processing, CSV file I/O (e.g. pd.read_csv)\nfrom subprocess import check_output\nprint(check_output([\"ls\", \"../input\"]).decode(\"utf8\"))\n\n# Any results you write to the current directory are saved as output."
 },
 {
  "cell_type": "code",
  "execution_count": null,
  "metadata": {
   "collapsed": false
  },
  "outputs": [],
  "source": "data = pd.read_csv('../input/train.csv')\ndata.info()\nlen(data.Ticket.unique())"
 },
 {
  "cell_type": "markdown",
  "metadata": {},
  "source": "Since the length is different from the expected value of 891 we know that there are some duplicates. What are the Fare values of these duplicate tickets?"
 },
 {
  "cell_type": "code",
  "execution_count": null,
  "metadata": {
   "collapsed": false
  },
  "outputs": [],
  "source": "counts = []\nfor tk in data.Ticket.unique():\n    this = data.loc[data.Ticket == tk, 'Fare']\n    l = len(this.unique())\n    counts.append(l)\n    if l > 1:\n        print(data.loc[data.Ticket == tk])\nprint(set(counts))"
 },
 {
  "cell_type": "markdown",
  "metadata": {},
  "source": "We see that there is just one case where the same ticket has a different Fare for the people associated with it. Who are these people?  \nAccording to **[Encyclopedia-Titanica](http://www.encyclopedia-titanica.org/titanic-victim/olaf-elon-osen.html)** they were travelling companions.\n\nThe fare differs since they had different destinations. What about the other cases?"
 },
 {
  "cell_type": "code",
  "execution_count": null,
  "metadata": {
   "collapsed": false
  },
  "outputs": [],
  "source": "data.Fare.hist(figsize=(15, 10), bins=50)\nfor tk in data.Ticket.unique():\n    this = data.loc[data.Ticket == tk, 'Fare']\n    no_of_people = this.count()\n    distribute_evenly = this / no_of_people\n    data.loc[data.Ticket == tk, 'Fare'] = distribute_evenly\ndata.Fare.hist(bins=50, alpha=0.5)"
 },
 {
  "cell_type": "markdown",
  "metadata": {},
  "source": "As we can see, the histogram changes a lot since the Fare column was earlier denoting **Fare per Ticket**  \nand now denotes **Fare per person**."
 }
],"metadata":{"kernelspec":{"display_name":"Python 3","language":"python","name":"python3"}}, "nbformat": 4, "nbformat_minor": 0}