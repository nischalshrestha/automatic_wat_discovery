{
  "cells": [
    {
      "cell_type": "markdown",
      "metadata": {
        "_cell_guid": "d96412a0-8780-7084-ea79-633054ff5f93"
      },
      "source": ""
    },
    {
      "cell_type": "code",
      "execution_count": null,
      "metadata": {
        "_cell_guid": "8adb0255-3d29-1776-2864-4bc386ba77a7"
      },
      "outputs": [],
      "source": [
        "import numpy as np # linear algebra\n",
        "import pandas as pd \n",
        "from pandas import Series,DataFrame\n",
        "import matplotlib.pyplot as plt\n",
        "import seaborn as sns\n",
        "sns.set_style('whitegrid')"
      ]
    },
    {
      "cell_type": "code",
      "execution_count": null,
      "metadata": {
        "_cell_guid": "b69da41d-c9a3-1bf7-5a75-258816f9235e"
      },
      "outputs": [],
      "source": [
        "train_df = pd.read_csv('../input/train.csv')\n",
        "test_df = pd.read_csv('../input/test.csv')\n",
        "\n",
        "train_df.head()"
      ]
    },
    {
      "cell_type": "code",
      "execution_count": null,
      "metadata": {
        "_cell_guid": "3b869045-0631-afc2-7d8a-2ad8adbc1294"
      },
      "outputs": [],
      "source": [
        "train_df.info()\n",
        "print('<------------>')\n",
        "test_df.info()"
      ]
    },
    {
      "cell_type": "code",
      "execution_count": null,
      "metadata": {
        "_cell_guid": "1d65b160-ad32-184d-8a1d-76d09bda7f27"
      },
      "outputs": [],
      "source": [
        "train_df = train_df.drop(['PassengerId','Name','Ticket'], axis = 1)\n",
        "test_df = test_df.drop(['Name','Ticket'], axis = 1)"
      ]
    },
    {
      "cell_type": "code",
      "execution_count": null,
      "metadata": {
        "_cell_guid": "dc99f4e7-e789-3aaf-a72a-f4862ed067b1"
      },
      "outputs": [],
      "source": [
        "%matplotlib inline\n",
        "train_df[\"Embarked\"] = train_df[\"Embarked\"].fillna(\"S\")\n",
        "sns.factorplot('Embarked', 'Survived', data = train_df, size = 4, aspect = 3)\n",
        "\n",
        "fig, (axis1,axis2,axis3) = plt.subplots(1,3,figsize=(15,5))\n",
        "\n",
        "sns.countplot(x='Embarked', data=train_df, ax=axis1)\n",
        "sns.countplot(x='Survived', hue=\"Embarked\", data=train_df, order=[1,0], ax=axis2)\n",
        "embark_perc = train_df[[\"Embarked\", \"Survived\"]].groupby(['Embarked'],as_index=False).mean()\n",
        "sns.barplot(x='Embarked', y='Survived', order=['S','C','Q'], data=embark_perc,ax=axis3)"
      ]
    },
    {
      "cell_type": "code",
      "execution_count": null,
      "metadata": {
        "_cell_guid": "bec227ac-eab6-8c61-c8db-c2250cfd3295"
      },
      "outputs": [],
      "source": [
        "embark_dummies_train  = pd.get_dummies(train_df['Embarked'])\n",
        "embark_dummies_train.drop(['S'], axis=1, inplace=True)\n",
        "\n",
        "embark_dummies_test  = pd.get_dummies(test_df['Embarked'])\n",
        "embark_dummies_test.drop(['S'], axis=1, inplace=True)\n",
        "\n",
        "train_df = train_df.join(embark_dummies_train)\n",
        "test_df    = test_df.join(embark_dummies_test)\n",
        "\n",
        "train_df.drop(['Embarked'], axis=1,inplace=True)\n",
        "test_df.drop(['Embarked'], axis=1,inplace=True)"
      ]
    },
    {
      "cell_type": "code",
      "execution_count": null,
      "metadata": {
        "_cell_guid": "e6e21f03-f1f0-a96f-d29c-470d5113cb0e"
      },
      "outputs": [],
      "source": [
        "fig, (axis1, axis2) = plt.subplots(1,2,figsize= (10,2))\n",
        "axis1.set_title(\"Original Ages\")\n",
        "axis2.set_title(\"New Ages\")\n",
        "\n",
        "avg_age_train = train_df[\"Age\"].mean()\n",
        "std_age_train = train_df[\"Age\"].std()\n",
        "count_nan_age_train = train_df[\"Age\"].isnull().sum()\n",
        "\n",
        "avg_age_test = test_df[\"Age\"].mean()\n",
        "std_age_test = test_df[\"Age\"].std()\n",
        "count_nan_age_test = test_df[\"Age\"].isnull().sum()\n",
        "\n",
        "rand1 = np.random.randint(avg_age_train - std_age_train, avg_age_train + std_age_train, size = count_nan_age_train)\n",
        "rand2 = np.random.randint(avg_age_test - std_age_test, avg_age_test + std_age_test, size = count_nan_age_test)\n",
        "\n",
        "train_df[\"Age\"].dropna().astype(int).hist(bins = 70, ax=axis1)\n",
        "\n",
        "train_df[\"Age\"][np.isnan(train_df[\"Age\"])] = rand1\n",
        "test_df[\"Age\"][np.isnan(test_df[\"Age\"])] = rand2\n",
        "\n",
        "train_df[\"Age\"] = train_df[\"Age\"].astype(int)\n",
        "test_df[\"Age\"] = test_df[\"Age\"].astype(int)\n",
        "\n",
        "train_df[\"Age\"].hist(bins = 70, ax = axis2)"
      ]
    },
    {
      "cell_type": "code",
      "execution_count": null,
      "metadata": {
        "_cell_guid": "3b58871a-c0e5-99f8-c752-09ccdb53d084"
      },
      "outputs": [],
      "source": [
        "facet = sns.FacetGrid(train_df, hue = \"Survived\", aspect = 3)\n",
        "facet.map(sns.kdeplot, 'Age', shade=True)\n",
        "facet.set(xlim=(0, train_df[\"Age\"].max()))\n",
        "facet.add_legend()\n",
        "\n",
        "fig, axis1 = plt.subplots(1,1,figsize=(18,3))\n",
        "average_age = train_df[[\"Age\", \"Survived\"]].groupby([\"Age\"], as_index=False).mean()\n",
        "sns.barplot(x=\"Age\",y=\"Survived\", data=average_age)"
      ]
    },
    {
      "cell_type": "code",
      "execution_count": null,
      "metadata": {
        "_cell_guid": "8212bb30-2317-a933-7b92-d6d038b9b7ac"
      },
      "outputs": [],
      "source": [
        "train_df.drop(\"Cabin\", axis=1, inplace=True)\n",
        "test_df.drop(\"Cabin\", axis=1, inplace=True)"
      ]
    },
    {
      "cell_type": "code",
      "execution_count": null,
      "metadata": {
        "_cell_guid": "068541b4-dcd0-82e1-4fe7-69ae80af1a0b"
      },
      "outputs": [],
      "source": [
        "train_df['Family'] = train_df['Parch'] + train_df[\"SibSp\"]\n",
        "train_df[\"Family\"].loc[train_df[\"Family\"] > 0] = 1\n",
        "train_df[\"Family\"].loc[train_df[\"Family\"] == 0] = 0\n",
        "\n",
        "test_df['Family'] = test_df['Parch'] + test_df[\"SibSp\"]\n",
        "test_df[\"Family\"].loc[test_df[\"Family\"] > 0] = 1\n",
        "test_df[\"Family\"].loc[test_df[\"Family\"] == 0] = 0\n",
        "\n",
        "train_df = train_df.drop(['Parch','SibSp'], axis = 1)\n",
        "test_df = test_df.drop(['Parch','SibSp'], axis = 1)"
      ]
    },
    {
      "cell_type": "code",
      "execution_count": null,
      "metadata": {
        "_cell_guid": "ef12dcd2-c976-b7ce-0c8e-3e07345afa8b"
      },
      "outputs": [],
      "source": [
        "fig, (axis1, axis2) = plt.subplots(1,2,sharex=True,figsize=(10,5))\n",
        "sns.countplot(x='Family', data=train_df, order=[1,0], ax=axis1)\n",
        "\n",
        "family_perc = train_df[['Family','Survived']].groupby(['Family'], as_index=False).mean()\n",
        "sns.barplot(x='Family', y='Survived', data=family_perc, order=[1,0], ax = axis2)"
      ]
    },
    {
      "cell_type": "code",
      "execution_count": null,
      "metadata": {
        "_cell_guid": "b9cb12b4-ab24-f3f6-a86b-999d668f8439"
      },
      "outputs": [],
      "source": [
        "def get_person(passenger):\n",
        "    age,sex = passenger\n",
        "    return 'child' if age < 16 else sex\n",
        "\n",
        "train_df[\"Person\"] = train_df[['Age','Sex']].apply(get_person, axis=1)\n",
        "test_df['Person'] = test_df[['Age','Sex']].apply(get_person, axis=1)\n",
        "\n",
        "train_df.drop(['Sex','Age'], axis = 1, inplace=True)\n",
        "test_df.drop(['Sex','Age'], axis = 1, inplace=True)\n",
        "\n",
        "person_dummies_train = pd.get_dummies(train_df['Person'])\n",
        "person_dummies_train.columns = ['Child', 'Female', 'Male']\n",
        "person_dummies_train.drop(['Male'], axis = 1, inplace = True)\n",
        "\n",
        "person_dummies_test = pd.get_dummies(test_df['Person'])\n",
        "person_dummies_test.columns = ['Child', 'Female', 'Male']\n",
        "person_dummies_test.drop(['Male'], axis = 1, inplace = True)\n",
        "\n",
        "train_df = train_df.join(person_dummies_train)\n",
        "test_df = test_df.join(person_dummies_test)\n",
        "\n",
        "fig, (axis1, axis2) = plt.subplots(1,2,figsize=(10,5))\n",
        "\n",
        "sns.countplot(x='Person', data=train_df, ax = axis1)\n",
        "\n",
        "person_perc = train_df[['Person', 'Survived']].groupby(['Person'], as_index=False).mean()\n",
        "sns.barplot(x='Person', y='Survived', data=person_perc, ax= axis2, order =['male','female', 'child'])\n",
        "\n",
        "train_df.drop(['Person'], axis = 1, inplace = True)\n",
        "test_df.drop(['Person'], axis = 1, inplace = True)"
      ]
    },
    {
      "cell_type": "code",
      "execution_count": null,
      "metadata": {
        "_cell_guid": "26cd8242-87ae-d015-8d9e-4ff2cd89600e"
      },
      "outputs": [],
      "source": [
        "sns.factorplot('Pclass', 'Survived', order=[1,2,3], data=train_df, size = 4)\n",
        "\n",
        "pclass_dummies_train = pd.get_dummies(train_df['Pclass'])\n",
        "pclass_dummies_train.columns = ['C1','C2', 'C3']\n",
        "pclass_dummies_train.drop(['C3'], axis=1, inplace=True)\n",
        "\n",
        "pclass_dummies_test = pd.get_dummies(test_df['Pclass'])\n",
        "pclass_dummies_test.columns = ['C1','C2', 'C3']\n",
        "pclass_dummies_test.drop(['C3'], axis=1, inplace=True)\n",
        "\n",
        "train_df.drop(['Pclass'], axis = 1, inplace=True)\n",
        "test_df.drop(['Pclass'], axis = 1, inplace=True)\n",
        "\n",
        "train_df = train_df.join(pclass_dummies_train)\n",
        "test_df = test_df.join(pclass_dummies_test)"
      ]
    },
    {
      "cell_type": "code",
      "execution_count": null,
      "metadata": {
        "_cell_guid": "cd8f5bb1-ed6c-992b-9976-1cf030b33942"
      },
      "outputs": [],
      "source": [
        "X_train = train_df.drop(\"Survived\",axis = 1)\n",
        "Y_train = train_df['Survived']\n",
        "X_test = test_df.drop(\"PassengerId\", axis = 1).copy()"
      ]
    },
    {
      "cell_type": "code",
      "execution_count": null,
      "metadata": {
        "_cell_guid": "0b0dad0c-261a-cbd2-1638-346faec7d1f5"
      },
      "outputs": [],
      "source": [
        "X_train.head()\n",
        "X_test[\"Fare\"].fillna(X_test[\"Fare\"].median(),inplace = True)"
      ]
    },
    {
      "cell_type": "code",
      "execution_count": null,
      "metadata": {
        "_cell_guid": "58e378e1-7c4f-3804-dd90-25adb4e469cd"
      },
      "outputs": [],
      "source": [
        "from sklearn.linear_model import LogisticRegression\n",
        "logreg = LogisticRegression()\n",
        "logreg.fit(X_train, Y_train)\n",
        "Y_pred = logreg.predict(X_test)\n",
        "logreg.score(X_train,Y_train)\n",
        "print('asa')"
      ]
    },
    {
      "cell_type": "code",
      "execution_count": null,
      "metadata": {
        "_cell_guid": "9b2cd7cb-5b99-c7af-06d8-9796b6617b3c"
      },
      "outputs": [],
      "source": [
        "from sklearn.ensemble import RandomForestClassifier\n",
        "from sklearn.neighbors import KNeighborsClassifier\n",
        "from sklearn.naive_bayes import GaussianNB\n",
        "\n",
        "random_forest = RandomForestClassifier(n_estimators=100)\n",
        "random_forest.fit(X_train, Y_train)\n",
        "Y_pred = random_forest.predict(X_test)\n",
        "random_forest.score(X_train, Y_train)"
      ]
    },
    {
      "cell_type": "code",
      "execution_count": null,
      "metadata": {
        "_cell_guid": "8986e7fe-6a84-abf1-8ab2-16f7fc7bc8c7"
      },
      "outputs": [],
      "source": [
        "coeff_df = DataFrame(train_df.columns.delete(0))\n",
        "coeff_df.columns = ['Features']\n",
        "coeff_df[\"coeff. est.\"] = pd.Series(logreg.coef_[0])\n",
        "\n",
        "coeff_df"
      ]
    },
    {
      "cell_type": "code",
      "execution_count": null,
      "metadata": {
        "_cell_guid": "cd3f500a-717a-e18f-a6c3-5c44f995f1fa"
      },
      "outputs": [],
      "source": [
        "submission = pd.DataFrame({\n",
        "        \"PassengerId\": test_df[\"PassengerId\"],\n",
        "        \"Survived\": Y_pred\n",
        "    })\n",
        "submission.to_csv('titanic.csv', index=False)\n",
        "\n",
        "submission.save()"
      ]
    }
  ],
  "metadata": {
    "_change_revision": 0,
    "_is_fork": false,
    "kernelspec": {
      "display_name": "Python 3",
      "language": "python",
      "name": "python3"
    },
    "language_info": {
      "codemirror_mode": {
        "name": "ipython",
        "version": 3
      },
      "file_extension": ".py",
      "mimetype": "text/x-python",
      "name": "python",
      "nbconvert_exporter": "python",
      "pygments_lexer": "ipython3",
      "version": "3.5.2"
    }
  },
  "nbformat": 4,
  "nbformat_minor": 0
}