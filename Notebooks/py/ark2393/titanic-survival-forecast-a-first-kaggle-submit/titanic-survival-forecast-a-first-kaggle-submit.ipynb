{
  "cells": [
    {
      "cell_type": "markdown",
      "metadata": {
        "_cell_guid": "7f94c6be-f738-2f6e-d1a0-af70814bc2c9"
      },
      "source": [
        "This is a Python Notebook for  the Titanic Survival Challenge were the objective will not be only to develop a model, will also be analyze the features and compare a variety of models that can help to solve this challenge.\n",
        "\n",
        "This notebook will be divided on the next sections:\n",
        "\n",
        " 1. Intro \n",
        " 2. Data cleaning and Transformation\n",
        " 3. Data Exploration \n",
        " 4. Data Modeling with\n",
        "     4.1 Decision Tree Model\n",
        "     4.2 Logistic Regression\n",
        "     4.3 Support Vector Machine.\n",
        " 5. Comparation\n",
        " 6. Conclusion\n",
        "\n",
        "let's take on count that the predictive models might need different preprocessing steps, so I will use different dataframes if needed"
      ]
    },
    {
      "cell_type": "code",
      "execution_count": null,
      "metadata": {
        "_cell_guid": "8282e6e4-7ab0-804c-19e3-01ed8c28d881"
      },
      "outputs": [],
      "source": [
        "import numpy as np # linear algebra\n",
        "import pandas as pd # data processing libary\n",
        "from sklearn import preprocessing, svm, tree, linear_model, metrics #methods \n",
        "#for machine learning tools like preprocessing, models and metrics\n",
        "from sklearn.model_selection import train_test_split #replace cross_validation method\n",
        "import matplotlib.pyplot as plt #plotting library\n",
        "%matplotlib inline"
      ]
    },
    {
      "cell_type": "markdown",
      "metadata": {
        "_cell_guid": "a94d9da8-d44b-90a4-a494-bab6cd60aa24"
      },
      "source": [
        "## Intro \n",
        "A first impression"
      ]
    },
    {
      "cell_type": "code",
      "execution_count": null,
      "metadata": {
        "_cell_guid": "43fed246-c7a2-00ca-5fb0-785e7f85f5c0"
      },
      "outputs": [],
      "source": [
        "#first let's read the data and take a look\n",
        "titanic_df = pd.read_csv(\"../input/train.csv\") \n",
        "titanic_df.head()"
      ]
    },
    {
      "cell_type": "markdown",
      "metadata": {
        "_cell_guid": "685d2955-c802-3440-0c80-cd67228a9936"
      },
      "source": [
        "There 12 features including our target feature (Survived), so now check how is builded our dataset\n",
        "\n",
        "Take this as a note for embarkation: C = Cherbourg, Q = Queenstown, S = Southampton"
      ]
    },
    {
      "cell_type": "code",
      "execution_count": null,
      "metadata": {
        "_cell_guid": "3164bd32-5921-8ce2-5c56-8e4274edfc2a"
      },
      "outputs": [],
      "source": [
        "titanic_df.info()"
      ]
    },
    {
      "cell_type": "markdown",
      "metadata": {
        "_cell_guid": "732ed04f-4e81-8ace-7ab9-7c5f83982475"
      },
      "source": [
        "First, there are three columns with missing data, \"Age\", \"Cabin\" and \"Embarked\". This problem is handled on the next step.\n",
        "There are five non-numeric columns, we should take a look and then decide how to transform them. Non-numeric data is troublesome so we will handle it on the next step too."
      ]
    },
    {
      "cell_type": "markdown",
      "metadata": {
        "_cell_guid": "76dedd9e-87fa-6910-c58c-c0387cbff232"
      },
      "source": [
        "### Cleaning and Transforming Data"
      ]
    },
    {
      "cell_type": "markdown",
      "metadata": {
        "_cell_guid": "05a3e59e-31e9-43d1-e48f-c32aa5ca220a"
      },
      "source": [
        "Here the first thing is to handle missing data. There are several ways to deal with them, some of them are removing the record, nullify the value (set to null) or impute values. So we must check first the column and how it can affect the target"
      ]
    },
    {
      "cell_type": "code",
      "execution_count": null,
      "metadata": {
        "_cell_guid": "ec6605e5-81db-2b75-257e-7986533591b6"
      },
      "outputs": [],
      "source": [
        "print(\"Cabin value count: %d \" % titanic_df[\"Cabin\"].count())\n",
        "print(\"Age value count: %d\" % titanic_df[\"Age\"].count())\n",
        "print(\"Embarked value count: %d\" % titanic_df[\"Embarked\"].count())"
      ]
    },
    {
      "cell_type": "markdown",
      "metadata": {
        "_cell_guid": "4c0efbcb-a343-327b-60cc-5e090833f478"
      },
      "source": [
        "Cabin column must be dropped, is amount of missing data is to big that it will affect negatively the model.\n",
        "For embarked, the value of missing data is very slow, so we can try to imput some value.\n",
        "Age contains a lot of missing value, but is not so big as Cabin. We could impute the mean age in the missing ages value, but I will use the simplest way: remove the rows (not column) after filling Embarked missing values"
      ]
    },
    {
      "cell_type": "code",
      "execution_count": null,
      "metadata": {
        "_cell_guid": "cfcc077a-4636-01b1-0826-52b8ef6e7993"
      },
      "outputs": [],
      "source": [
        "titanic_df.drop(\"Cabin\",axis=1,inplace=True)\n",
        "titanic_df[\"Embarked\"].value_counts()"
      ]
    },
    {
      "cell_type": "markdown",
      "metadata": {
        "_cell_guid": "896c0bbd-3b8a-3ce1-fd5f-2037a1ca8287"
      },
      "source": [
        "There is a majority class, which is \"S\", so we can input \"S\" for those missing values and proceed to remove the rows with missing values on Age"
      ]
    },
    {
      "cell_type": "code",
      "execution_count": null,
      "metadata": {
        "_cell_guid": "97721fe7-8be6-eb4b-d705-8e34f1cb52e8"
      },
      "outputs": [],
      "source": [
        "titanic_df[\"Embarked\"].fillna(\"S\",inplace = True)\n",
        "titanic_df.dropna(inplace=True)\n",
        "titanic_df.info()"
      ]
    },
    {
      "cell_type": "markdown",
      "metadata": {
        "_cell_guid": "b8fb19ea-2400-3f46-b200-447c34bb46b1"
      },
      "source": [
        "Now that all the columns have the same number of records, let's transform the non-numeric data and drop columns to improve our analysis. We can make some suppositions based on the columns info. By example, \"Name\" column have the name of the passengers, and it should be very unique, so it can be 714 different names and that doesn't help to generalize a model. The same goes to \"Ticket\" column.\n",
        "\"PassengerId\" is a unique numerical value, but for our goal (predict survival rate) this information doesn't help. Let's check them."
      ]
    },
    {
      "cell_type": "code",
      "execution_count": null,
      "metadata": {
        "_cell_guid": "bb97ab6a-ed22-fe8f-04db-54518b7a9c0f"
      },
      "outputs": [],
      "source": [
        "print(\"Name value count: %d \" % titanic_df[\"Name\"].value_counts().size)\n",
        "print(\"Ticket value count: %d \" % titanic_df[\"Ticket\"].value_counts().size)\n",
        "print(\"PassengerId value count: %d \" % titanic_df[\"PassengerId\"].value_counts().size)\n",
        "print(\"Sex value count: %d \" % titanic_df[\"Sex\"].value_counts().size)\n",
        "print(\"Embarked value count: %d \" % titanic_df[\"Embarked\"].value_counts().size)"
      ]
    },
    {
      "cell_type": "markdown",
      "metadata": {
        "_cell_guid": "1c8511df-ebb3-c806-dc52-c4194046b125"
      },
      "source": [
        "As previously said, \"Name\", \"Ticket\" and \"PassengerID\" have very unique values, so we should drop them. For \"Sex\" and \"Embarked\", let's transform them into numeric values to improve our analysis. Let's save the true label for later too."
      ]
    },
    {
      "cell_type": "code",
      "execution_count": null,
      "metadata": {
        "_cell_guid": "ebbb62b2-9192-1215-23b9-0f28062d4dfb"
      },
      "outputs": [],
      "source": [
        "titanic_df.drop([\"Name\",\"Ticket\",\"PassengerId\"],axis=1, inplace=True)\n",
        "sex_labels= titanic_df[\"Sex\"].unique()\n",
        "embarked_labels = titanic_df[\"Embarked\"].unique()"
      ]
    },
    {
      "cell_type": "code",
      "execution_count": null,
      "metadata": {
        "_cell_guid": "8a6cacd9-13e9-cd0c-a24d-7ddf61a85dfc"
      },
      "outputs": [],
      "source": [
        "le = preprocessing.LabelEncoder()\n",
        "le.fit(titanic_df.Sex.values)\n",
        "titanic_df[\"Sex\"] = le.transform(titanic_df.Sex.values)\n",
        "sex_labels = titanic_df[\"Sex\"].unique()\n",
        "sex_labelsE = le.inverse_transform(sex_labels)\n",
        "le.fit(titanic_df.Embarked.values)\n",
        "titanic_df[\"Embarked\"] = le.transform(titanic_df.Embarked.values)\n",
        "embarked_labels = titanic_df[\"Embarked\"].unique()\n",
        "embarked_labelsE = le.inverse_transform(embarked_labels)"
      ]
    },
    {
      "cell_type": "code",
      "execution_count": null,
      "metadata": {
        "_cell_guid": "c33d1d6f-a25a-51cc-2757-a1e7ffac5616"
      },
      "outputs": [],
      "source": [
        "titanic_df.head()"
      ]
    },
    {
      "cell_type": "markdown",
      "metadata": {
        "_cell_guid": "b27af0c8-fa27-6df9-43cc-a25111f04c69"
      },
      "source": [
        "Now let's start the Data Exploration"
      ]
    },
    {
      "cell_type": "markdown",
      "metadata": {
        "_cell_guid": "e43fa256-2259-a194-b93e-c31b512de373"
      },
      "source": [
        "### Data Exploration"
      ]
    },
    {
      "cell_type": "code",
      "execution_count": null,
      "metadata": {
        "_cell_guid": "c47906ef-f701-791d-386e-370f0a4bf8f7"
      },
      "outputs": [],
      "source": [
        "fig = plt.figure()\n",
        "ax = fig.add_subplot(111)\n",
        "titanic_df.groupby('Pclass').sum()['Survived'].plot.pie(\n",
        "    figsize = (8,8), autopct = '%1.1f%%', startangle = 90, fontsize = 15, explode=(0.05,0,0) )\n",
        "ax.set_ylabel('')\n",
        "ax.set_title('Survival rate', fontsize = 16)\n",
        "ax.legend(labels = titanic_df['Pclass'].unique().sort(), loc = \"best\", title='Class', fontsize=14)"
      ]
    },
    {
      "cell_type": "code",
      "execution_count": null,
      "metadata": {
        "_cell_guid": "0fbc1277-8261-72c6-49ad-2507f72ece57"
      },
      "outputs": [],
      "source": [
        "fig = plt.figure()\n",
        "ax = fig.add_subplot(111)\n",
        "ax.set_ylabel(\"Survival rate\")\n",
        "titanic_df.groupby(\"Pclass\").mean()[\"Survived\"].plot.bar()\n",
        "ax.set_xticklabels(labels = ax.get_xticklabels(),rotation=0)"
      ]
    },
    {
      "cell_type": "markdown",
      "metadata": {
        "_cell_guid": "445cca9a-3733-5983-1635-747b535cda98"
      },
      "source": [
        "We can see that Passenger class is a important feature for forecast survival rate. In average more passenger of the 1\u00b0 class survived and of the survivors distribution they were a majority class."
      ]
    },
    {
      "cell_type": "code",
      "execution_count": null,
      "metadata": {
        "_cell_guid": "eb8dedc0-f372-00b8-0e9a-b2ee565a5b9c"
      },
      "outputs": [],
      "source": [
        "fig = plt.figure()\n",
        "sorted_labes = [x for (y,x) in sorted(zip(sex_labels,sex_labelsE))]\n",
        "ax = fig.add_subplot(111)\n",
        "ax.set_ylabel(\"Survival rate\")\n",
        "titanic_df.groupby(\"Sex\").mean()[\"Survived\"].plot.bar()\n",
        "ax.set_xticklabels(labels = sorted_labes,rotation=20)"
      ]
    },
    {
      "cell_type": "markdown",
      "metadata": {
        "_cell_guid": "0ce3a61f-88c8-5c21-ff0b-08386b77437f"
      },
      "source": [
        "Female passengers had a greater chance to survive than male passengers (75% vs 20%), let's see plots with the relation between PClass and Sex for male and female for all the classes"
      ]
    },
    {
      "cell_type": "code",
      "execution_count": null,
      "metadata": {
        "_cell_guid": "1e640e55-8e14-245a-ad05-11048b99fd67"
      },
      "outputs": [],
      "source": [
        "index_name=titanic_df.groupby([\"Pclass\",\"Sex\"]).mean()[\"Survived\"].index.names\n",
        "index_level=titanic_df.groupby([\"Pclass\",\"Sex\"]).mean()[\"Survived\"].index.levels\n",
        "index_ = zip(index_name,index_level)"
      ]
    },
    {
      "cell_type": "code",
      "execution_count": null,
      "metadata": {
        "_cell_guid": "2b11d16b-d40a-120a-91cb-c7fc999320bf"
      },
      "outputs": [],
      "source": [
        "fig, axes = plt.subplots(nrows=1, ncols=3)\n",
        "titanic_df.groupby([\"Pclass\",\"Sex\"]).mean()[\"Survived\"][1].plot.bar(ax=axes[0] )\n",
        "titanic_df.groupby([\"Pclass\",\"Sex\"]).mean()[\"Survived\"][2].plot.bar(ax=axes[1] )\n",
        "titanic_df.groupby([\"Pclass\",\"Sex\"]).mean()[\"Survived\"][3].plot.bar(ax=axes[2] )\n",
        "axes[0].set_title('Class 1')\n",
        "axes[0].set_xticklabels(labels = sorted_labes,rotation=20)\n",
        "axes[0].set_yticks(np.arange(0.0,1.1,0.1))\n",
        "axes[1].set_title('Class 2')\n",
        "axes[1].set_xticklabels(labels = sorted_labes,rotation=20)\n",
        "axes[1].set_yticks(np.arange(0.0,1.1,0.1))\n",
        "axes[2].set_title('Class 3')\n",
        "axes[2].set_xticklabels(labels = sorted_labes,rotation=20)\n",
        "axes[2].set_yticks(np.arange(0.0,1.1,0.1))\n",
        "fig.tight_layout()"
      ]
    },
    {
      "cell_type": "markdown",
      "metadata": {
        "_cell_guid": "f969d93f-a826-a01d-55e8-f070e42b5934"
      },
      "source": [
        "Now, let's see about ranges of ages grouped by 10 units"
      ]
    },
    {
      "cell_type": "code",
      "execution_count": null,
      "metadata": {
        "_cell_guid": "25557b02-c69c-2f15-adaf-ea0e654d14a1"
      },
      "outputs": [],
      "source": [
        "years_range = np.arange(0,90,10)"
      ]
    },
    {
      "cell_type": "code",
      "execution_count": null,
      "metadata": {
        "_cell_guid": "13388437-2ed8-ffd3-022e-c31538152327"
      },
      "outputs": [],
      "source": [
        "fig, axes = plt.subplots(nrows=3, ncols=2, figsize=(8,12))\n",
        "titanic_df.groupby(by=[\"Pclass\",\"Sex\",pd.cut(titanic_df[\"Age\"],years_range)]).mean()[\"Survived\"][1,0].plot.bar(ax=axes[0,0], title = (\"Women Class 1\") )\n",
        "titanic_df.groupby(by=[\"Pclass\",\"Sex\",pd.cut(titanic_df[\"Age\"],years_range)]).mean()[\"Survived\"][1,1].plot.bar(ax=axes[0,1], title = (\"Men Class 1\") )\n",
        "titanic_df.groupby(by=[\"Pclass\",\"Sex\",pd.cut(titanic_df[\"Age\"],years_range)]).mean()[\"Survived\"][2,0].plot.bar(ax=axes[1,0], title = (\"Women Class 2\") )\n",
        "titanic_df.groupby(by=[\"Pclass\",\"Sex\",pd.cut(titanic_df[\"Age\"],years_range)]).mean()[\"Survived\"][2,1].plot.bar(ax=axes[1,1], title = (\"Men Class 2\") )\n",
        "titanic_df.groupby(by=[\"Pclass\",\"Sex\",pd.cut(titanic_df[\"Age\"],years_range)]).mean()[\"Survived\"][3,0].plot.bar(ax=axes[2,0], title = (\"Women Class 3\") )\n",
        "titanic_df.groupby(by=[\"Pclass\",\"Sex\",pd.cut(titanic_df[\"Age\"],years_range)]).mean()[\"Survived\"][3,1].plot.bar(ax=axes[2,1], title = (\"Men Class 3\") )\n",
        "axes[0,0].set_yticks(np.arange(0.0,1.1,0.1))\n",
        "axes[0,1].set_yticks(np.arange(0.0,1.1,0.1))\n",
        "axes[1,0].set_yticks(np.arange(0.0,1.1,0.1))\n",
        "axes[1,1].set_yticks(np.arange(0.0,1.1,0.1))\n",
        "axes[2,0].set_yticks(np.arange(0.0,1.1,0.1))\n",
        "axes[2,1].set_yticks(np.arange(0.0,1.1,0.1))\n",
        "fig.tight_layout()"
      ]
    },
    {
      "cell_type": "markdown",
      "metadata": {
        "_cell_guid": "f34fab68-c8da-5193-2ba0-84f977324938"
      },
      "source": [
        "We can see some paterns like  a female passenger had bigger survival rate in all the clases than male passengers. Also we see that children and older people had the same pattern.\n",
        "Now let's check the others features"
      ]
    },
    {
      "cell_type": "code",
      "execution_count": null,
      "metadata": {
        "_cell_guid": "520927a3-598e-42a1-13b7-898a1726f5b1"
      },
      "outputs": [],
      "source": [
        "fig, axes = plt.subplots(nrows=1, ncols=3)\n",
        "sorted_labes = [x for (y,x) in sorted(zip(embarked_labels,embarked_labelsE))]\n",
        "titanic_df.groupby([\"Pclass\",\"Embarked\"]).mean()[\"Survived\"][1].plot.bar(ax=axes[0] )\n",
        "titanic_df.groupby([\"Pclass\",\"Embarked\"]).mean()[\"Survived\"][2].plot.bar(ax=axes[1] )\n",
        "titanic_df.groupby([\"Pclass\",\"Embarked\"]).mean()[\"Survived\"][3].plot.bar(ax=axes[2] )\n",
        "axes[0].set_title('Class 1')\n",
        "axes[0].set_yticks(np.arange(0.0,1.1,0.1))\n",
        "axes[0].set_xticklabels(labels = sorted_labes,rotation=20)\n",
        "axes[1].set_title('Class 2')\n",
        "axes[1].set_yticks(np.arange(0.0,1.1,0.1))\n",
        "axes[1].set_xticklabels(labels = sorted_labes,rotation=20)\n",
        "axes[2].set_title('Class 3')\n",
        "axes[2].set_yticks(np.arange(0.0,1.1,0.1))\n",
        "axes[2].set_xticklabels(labels = sorted_labes,rotation=20)\n",
        "fig.tight_layout()"
      ]
    },
    {
      "cell_type": "markdown",
      "metadata": {
        "_cell_guid": "8170add4-3bfa-0708-a77c-f8f9d7a9a41c"
      },
      "source": [
        "There is a relation between the embarked port and the survival rate, but is not as bigger like Age and Sex"
      ]
    },
    {
      "cell_type": "code",
      "execution_count": null,
      "metadata": {
        "_cell_guid": "ea204cfb-10b1-27b0-59a6-39d20690b2c7"
      },
      "outputs": [],
      "source": [
        "titanic_df.groupby(\"SibSp\").mean()[\"Survived\"].plot.bar()"
      ]
    },
    {
      "cell_type": "code",
      "execution_count": null,
      "metadata": {
        "_cell_guid": "6f039e0b-fb6c-82e0-4829-eb74072b6dfd"
      },
      "outputs": [],
      "source": [
        "titanic_df.groupby(\"Parch\").mean()[\"Survived\"].plot.bar()"
      ]
    },
    {
      "cell_type": "code",
      "execution_count": null,
      "metadata": {
        "_cell_guid": "bf355624-6185-d1b7-857c-e3495ecf7707"
      },
      "outputs": [],
      "source": [
        "fare_ranges = np.arange(0,max(titanic_df.Fare)+1,max(titanic_df.Fare)/10)\n",
        "titanic_df.groupby(pd.cut(titanic_df[\"Fare\"],fare_ranges)).mean()[\"Survived\"].plot.bar()"
      ]
    },
    {
      "cell_type": "markdown",
      "metadata": {
        "_cell_guid": "1091d2b8-ce60-6999-1046-ddc27c034df1"
      },
      "source": [
        "Between SibSp, Parch, Fare there is no important correlation."
      ]
    },
    {
      "cell_type": "markdown",
      "metadata": {
        "_cell_guid": "be2e214a-c475-8af7-6ea8-c512aad2d248"
      },
      "source": [
        "Just to be sure, I will run a Random Forest Assesing Feature algorithm (A Feature Selection Algorithm) on the transformed features to asses if my chosed features "
      ]
    },
    {
      "cell_type": "code",
      "execution_count": null,
      "metadata": {
        "_cell_guid": "544185e0-3721-3d98-9c0c-a6b87c6f886f"
      },
      "outputs": [],
      "source": [
        "titanic_features = titanic_df.drop(\"Survived\", axis=1)\n",
        "feat_labels = titanic_df.columns[1:]"
      ]
    },
    {
      "cell_type": "code",
      "execution_count": null,
      "metadata": {
        "_cell_guid": "2bd65ebe-e9c1-a09e-7665-743bee54d257"
      },
      "outputs": [],
      "source": [
        "from sklearn import ensemble\n",
        "forest = ensemble.RandomForestClassifier(n_estimators=10000, random_state=0, n_jobs=-1)\n",
        "forest.fit(titanic_features,titanic_df[\"Survived\"])\n",
        "importances = forest.feature_importances_\n",
        "indices= np.argsort(importances)[::-1]\n",
        "for f in range(titanic_features.shape[1]):\n",
        "    print(\"%2d) %-*s %f\" % (f+1, 30, feat_labels[f], importances[indices[f]]))"
      ]
    },
    {
      "cell_type": "markdown",
      "metadata": {
        "_cell_guid": "9f76484a-44c7-cdc0-6c7e-13c8a69242fd"
      },
      "source": [
        "As the data exploration show, the most influential features are Pclass, Sex and Age; the other ones have a little correlation. Let's check also an option with only the major features"
      ]
    },
    {
      "cell_type": "code",
      "execution_count": null,
      "metadata": {
        "_cell_guid": "99ad968e-480a-4a84-1dcb-9a5b6519ae08"
      },
      "outputs": [],
      "source": [
        "titanic_3features = titanic_features[titanic_features.columns[:3]]\n",
        "titanic_3features.head()"
      ]
    },
    {
      "cell_type": "markdown",
      "metadata": {
        "_cell_guid": "40d93eff-3c80-ffd8-ce62-fc2a776f4dff"
      },
      "source": [
        "## Starting with Machine Learning Models"
      ]
    },
    {
      "cell_type": "markdown",
      "metadata": {
        "_cell_guid": "81e5cf45-465b-d804-38f4-0b135b9bc790"
      },
      "source": [
        "We have to split the Data into two subsets: training and test data.\n",
        "This subsets will allow us to measure the accuracy and precision of the models to chose the best one to use"
      ]
    },
    {
      "cell_type": "code",
      "execution_count": null,
      "metadata": {
        "_cell_guid": "5160272c-c93c-2289-eb9d-76d5bb0be414"
      },
      "outputs": [],
      "source": [
        "from sklearn import model_selection\n",
        "from sklearn import preprocessing, metrics"
      ]
    },
    {
      "cell_type": "code",
      "execution_count": null,
      "metadata": {
        "_cell_guid": "3658cc2c-0c13-122f-369b-af2993fd18f0"
      },
      "outputs": [],
      "source": [
        "#let's standarize the feature value to improve the prediction\n",
        "sc = preprocessing.StandardScaler()\n",
        "#------ for all features\n",
        "sc.fit(titanic_features)\n",
        "titanic_features_std = sc.transform(titanic_features)\n",
        "#------ only 3 features\n",
        "sc.fit(titanic_3features)\n",
        "titanic_3features_std = sc.transform(titanic_3features)"
      ]
    },
    {
      "cell_type": "code",
      "execution_count": null,
      "metadata": {
        "_cell_guid": "0795c578-7010-3b91-d51d-c46fad19adde"
      },
      "outputs": [],
      "source": [
        "#let's split the data into training and test subsets\n",
        "#-------- for all features\n",
        "x_train, x_test, y_train, y_test =  model_selection.train_test_split(\n",
        "    titanic_features_std, titanic_df.Survived, test_size = 0.3, random_state = 0)\n",
        "#-------- only 3 features\n",
        "x_3f_train, x_3f_test, y_3f_train, y_3f_test = model_selection.train_test_split(\n",
        "    titanic_3features_std, titanic_df.Survived, test_size = 0.3, random_state = 0)"
      ]
    },
    {
      "cell_type": "markdown",
      "metadata": {
        "_cell_guid": "9ac9fbef-9f59-3eae-b059-0ad5a65654d4"
      },
      "source": [
        "### Decision Trees"
      ]
    },
    {
      "cell_type": "markdown",
      "metadata": {
        "_cell_guid": "eeea5eca-5b1f-4702-1eca-63c6aad468cc"
      },
      "source": [
        "Decision Trees are of the most intuitive algorithms, so I will start with it.\n",
        "Remember, the first thing is to train the model and test it with the training data."
      ]
    },
    {
      "cell_type": "code",
      "execution_count": null,
      "metadata": {
        "_cell_guid": "bff4adfe-7678-1128-e9aa-55e908403e62"
      },
      "outputs": [],
      "source": [
        "from sklearn.tree import DecisionTreeClassifier\n",
        "cm_tree = DecisionTreeClassifier(criterion='entropy',max_depth=3, random_state=0)"
      ]
    },
    {
      "cell_type": "markdown",
      "metadata": {
        "_cell_guid": "6e6858a1-bd1b-a24d-6ac4-1a8309167377"
      },
      "source": [
        "#### All features"
      ]
    },
    {
      "cell_type": "code",
      "execution_count": null,
      "metadata": {
        "_cell_guid": "9b18a8f2-dd92-cede-31a6-fa39c697537e"
      },
      "outputs": [],
      "source": [
        "cm_tree.fit(x_train,y_train)"
      ]
    },
    {
      "cell_type": "code",
      "execution_count": null,
      "metadata": {
        "_cell_guid": "198a0730-f38a-efc2-5ba9-928cfe11f261"
      },
      "outputs": [],
      "source": [
        "y_predict = cm_tree.predict(x_test)\n",
        "print(\"The accuracy is: %2f\" % metrics.accuracy_score(y_test,y_predict))\n",
        "print(\"The precision is: %2f\" % metrics.precision_score(y_test,y_predict))"
      ]
    },
    {
      "cell_type": "markdown",
      "metadata": {
        "_cell_guid": "1df0891d-f29b-22ac-15e6-d3f0527c7bc6"
      },
      "source": [
        "#### 3 major features"
      ]
    },
    {
      "cell_type": "code",
      "execution_count": null,
      "metadata": {
        "_cell_guid": "abe84b80-9f8e-32e0-335d-5616a001d16f"
      },
      "outputs": [],
      "source": [
        "cm_tree.fit(x_3f_train,y_3f_train)"
      ]
    },
    {
      "cell_type": "code",
      "execution_count": null,
      "metadata": {
        "_cell_guid": "2489d2dc-b6e6-8460-c7f9-c0a66b1651f5"
      },
      "outputs": [],
      "source": [
        "y_3f_predict = cm_tree.predict(x_3f_test)\n",
        "print(\"The accuracy is: %2f\" % metrics.accuracy_score(y_3f_test,y_3f_predict))\n",
        "print(\"The precision is: %2f\" % metrics.precision_score(y_3f_test,y_3f_predict))"
      ]
    },
    {
      "cell_type": "markdown",
      "metadata": {
        "_cell_guid": "6ec85631-5518-7381-a3bd-6e96bff370b7"
      },
      "source": [
        "### Logistic Regression"
      ]
    },
    {
      "cell_type": "markdown",
      "metadata": {
        "_cell_guid": "ce14219c-1563-e9ab-4628-65441d376b86"
      },
      "source": [
        "Of the most classic ML algoritmhs for Classification Task"
      ]
    },
    {
      "cell_type": "code",
      "execution_count": null,
      "metadata": {
        "_cell_guid": "73c1fa95-e184-35c0-d509-448410ec75ee"
      },
      "outputs": [],
      "source": [
        "from sklearn.linear_model import LogisticRegression\n",
        "cm_lr = LogisticRegression(C=1000.0, random_state = 0)"
      ]
    },
    {
      "cell_type": "markdown",
      "metadata": {
        "_cell_guid": "2d32c869-e1ed-3b7b-5542-7298c9174178"
      },
      "source": [
        "#### all Features"
      ]
    },
    {
      "cell_type": "code",
      "execution_count": null,
      "metadata": {
        "_cell_guid": "191ecf36-04a0-be6d-1209-9d11bbc52da6"
      },
      "outputs": [],
      "source": [
        "cm_lr.fit(x_train,y_train)"
      ]
    },
    {
      "cell_type": "code",
      "execution_count": null,
      "metadata": {
        "_cell_guid": "7c53c29b-f28b-333e-c1e6-9b51493cd7a6"
      },
      "outputs": [],
      "source": [
        "y_predict = cm_lr.predict(x_test)\n",
        "print(\"The accuracy is: %2f\" % metrics.accuracy_score(y_test,y_predict))\n",
        "print(\"The precision is: %2f\" % metrics.precision_score(y_test,y_predict))"
      ]
    },
    {
      "cell_type": "markdown",
      "metadata": {
        "_cell_guid": "bf227cf2-9214-995e-9322-50dd07fda35d"
      },
      "source": [
        "#### Only 3 features"
      ]
    },
    {
      "cell_type": "code",
      "execution_count": null,
      "metadata": {
        "_cell_guid": "81f8b9e3-b844-f625-99b7-51d850b1509e"
      },
      "outputs": [],
      "source": [
        "cm_lr.fit(x_3f_train,y_3f_train)"
      ]
    },
    {
      "cell_type": "code",
      "execution_count": null,
      "metadata": {
        "_cell_guid": "8871c020-7af4-f965-e100-1f81a8c6ecae"
      },
      "outputs": [],
      "source": [
        "y_predict = cm_lr.predict(x_3f_test)\n",
        "print(\"The accuracy is: %2f\" % metrics.accuracy_score(y_test,y_predict))\n",
        "print(\"The precision is: %2f\" % metrics.precision_score(y_test,y_predict))"
      ]
    },
    {
      "cell_type": "markdown",
      "metadata": {
        "_cell_guid": "2687d208-3143-6fb9-4c2e-fb2744223599"
      },
      "source": [
        "### SVM - Support Vector Classifier"
      ]
    },
    {
      "cell_type": "markdown",
      "metadata": {
        "_cell_guid": "07c83fbc-3fe6-0c4f-bae1-931a473c2459"
      },
      "source": [
        "This Algorithm is very popular in the Classification Task due the performance and the heuristic approach (the algorithm doesn't depend of random values)"
      ]
    },
    {
      "cell_type": "code",
      "execution_count": null,
      "metadata": {
        "_cell_guid": "68345ef2-0872-6d81-e6c0-1a495a65a234"
      },
      "outputs": [],
      "source": [
        "from sklearn.svm import SVC\n",
        "svm = SVC(kernel = 'linear', C = 10.0, random_state = 0)"
      ]
    },
    {
      "cell_type": "markdown",
      "metadata": {
        "_cell_guid": "64c84e2e-3779-e55d-074d-f1c536196e0e"
      },
      "source": [
        "#### All Features"
      ]
    },
    {
      "cell_type": "code",
      "execution_count": null,
      "metadata": {
        "_cell_guid": "33e360bb-e1b1-480a-88c2-f013635cca7f"
      },
      "outputs": [],
      "source": [
        "svm.fit(x_train, y_train)"
      ]
    },
    {
      "cell_type": "code",
      "execution_count": null,
      "metadata": {
        "_cell_guid": "47930052-4fe0-46fc-d1ae-2113f1b5ebe8"
      },
      "outputs": [],
      "source": [
        "y_predict = svm.predict(x_test)\n",
        "print(\"The accuracy is: %2f\" % metrics.accuracy_score(y_test,y_predict))\n",
        "print(\"The precision is: %2f\" % metrics.precision_score(y_test,y_predict))"
      ]
    },
    {
      "cell_type": "markdown",
      "metadata": {
        "_cell_guid": "8130de12-6247-da78-89a1-f1ff82005699"
      },
      "source": [
        "#### Only 3 Features"
      ]
    },
    {
      "cell_type": "code",
      "execution_count": null,
      "metadata": {
        "_cell_guid": "40cccf2f-8a6f-7a53-0397-a845cd36d1f2"
      },
      "outputs": [],
      "source": [
        "svm.fit(x_3f_train, y_3f_train)"
      ]
    },
    {
      "cell_type": "code",
      "execution_count": null,
      "metadata": {
        "_cell_guid": "86a3b8ed-f054-149b-9310-b68c951f5bd8"
      },
      "outputs": [],
      "source": [
        "y_predict = svm.predict(x_3f_test)\n",
        "print(\"The accuracy is: %2f\" % metrics.accuracy_score(y_test,y_predict))\n",
        "print(\"The precision is: %2f\" % metrics.precision_score(y_test,y_predict))"
      ]
    },
    {
      "cell_type": "markdown",
      "metadata": {
        "_cell_guid": "a106cbc3-add5-c94d-a6c6-92b26f2794b8"
      },
      "source": [
        "## Conclusion"
      ]
    },
    {
      "cell_type": "markdown",
      "metadata": {
        "_cell_guid": "386ac4da-2bf8-78c6-e4cb-320b05a71905"
      },
      "source": [
        "The Data Exploration and Cleaning phases wheren't to deep, but it gave us the enough information to know which columns had to be dropped before creating the ML model and of the remainig features which where the Most Influential ones. \n",
        "On the ML phase the three models are from the simplest one to learn and had a good performance. I can't say that one model is better than other because each one had good points and bad point in different dataset types, and for this one they had very low differneces. Altough, I will use the Logistic Regression to make my submit for this dataset"
      ]
    }
  ],
  "metadata": {
    "_change_revision": 0,
    "_is_fork": false,
    "kernelspec": {
      "display_name": "Python 3",
      "language": "python",
      "name": "python3"
    },
    "language_info": {
      "codemirror_mode": {
        "name": "ipython",
        "version": 3
      },
      "file_extension": ".py",
      "mimetype": "text/x-python",
      "name": "python",
      "nbconvert_exporter": "python",
      "pygments_lexer": "ipython3",
      "version": "3.6.0"
    }
  },
  "nbformat": 4,
  "nbformat_minor": 0
}