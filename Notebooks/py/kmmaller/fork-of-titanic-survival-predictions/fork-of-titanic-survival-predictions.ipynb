{
  "cells": [
    {
      "cell_type": "code",
      "execution_count": null,
      "metadata": {
        "_cell_guid": "3d28cc9a-05bd-a420-5f93-5354a60f0a40"
      },
      "outputs": [],
      "source": [
        "# This Python 3 environment comes with many helpful analytics libraries installed\n",
        "# It is defined by the kaggle/python docker image: https://github.com/kaggle/docker-python\n",
        "# For example, here's several helpful packages to load in \n",
        "\n",
        "import numpy as np # linear algebra\n",
        "import pandas as pd # data processing, CSV file I/O (e.g. pd.read_csv)\n",
        "\n",
        "import matplotlib.pyplot as plt\n",
        "import seaborn as sns\n",
        "import os\n",
        "# machine learning\n",
        "from sklearn.linear_model import LogisticRegression\n",
        "from sklearn.svm import SVC, LinearSVC\n",
        "from sklearn.ensemble import RandomForestClassifier\n",
        "from sklearn.neighbors import KNeighborsClassifier\n",
        "from sklearn.naive_bayes import GaussianNB\n",
        "from sklearn.pipeline import make_pipeline\n",
        "from sklearn.model_selection import GridSearchCV\n",
        "from sklearn.metrics import mean_squared_error, r2_score, accuracy_score\n",
        "from sklearn.model_selection import train_test_split\n",
        "from sklearn import preprocessing\n",
        "\n",
        "# Input data files are available in the \"../input/\" directory.\n",
        "# For example, running this (by clicking run or pressing Shift+Enter) will list the files in the input directory\n",
        "\n",
        "from subprocess import check_output\n",
        "print(check_output([\"ls\", \"../input\"]).decode(\"utf8\"))\n",
        "\n",
        "# Any results you write to the current directory are saved as output."
      ]
    },
    {
      "cell_type": "code",
      "execution_count": null,
      "metadata": {
        "_cell_guid": "d7b48a5e-4d1a-10d1-9dd2-c6fa658a3416"
      },
      "outputs": [],
      "source": [
        "#input data.  split into features and values.  drop cabin as its values are mostly null.\n",
        "#also from ticket\n",
        "data_train = pd.read_csv('../input/train.csv')\n",
        "data_test = pd.read_csv('../input/test.csv')\n",
        "y_train = data_train['Survived']\n",
        "X_train = data_train.drop(['Cabin','Ticket'],axis=1)\n",
        "X_final_test = data_test.drop(['Cabin','Ticket'],axis=1)\n",
        "X_train = X_train.set_index(\"PassengerId\")\n",
        "X_final_test = X_final_test.set_index('PassengerId')\n",
        "X_train.info()\n",
        "print('---')\n",
        "X_final_test.info()"
      ]
    },
    {
      "cell_type": "code",
      "execution_count": null,
      "metadata": {
        "_cell_guid": "7e08b04a-252c-3b97-3e2b-f3a7d062ce2f"
      },
      "outputs": [],
      "source": [
        "#some exploratory plots to get an idea of what features matter.  \n",
        "# is appears Pclass matters\n",
        "sns.countplot(X_train['Pclass'], hue=X_train['Survived'])\n"
      ]
    },
    {
      "cell_type": "code",
      "execution_count": null,
      "metadata": {
        "_cell_guid": "d931b675-9884-a5ce-3533-0faaeff3a434"
      },
      "outputs": [],
      "source": [
        "sns.countplot(X_train['Sex'], hue=X_train['Survived'])\n",
        "#unsurprisingly, sex matters"
      ]
    },
    {
      "cell_type": "code",
      "execution_count": null,
      "metadata": {
        "_cell_guid": "794c15b0-13d3-3084-6467-1167fec9e4c2"
      },
      "outputs": [],
      "source": [
        "\n",
        "sns.countplot(pd.qcut(X_train['Age'],7), hue=X_train['Survived'])\n",
        "#divide ages into groups.  it appears the only group where more survived then died are children"
      ]
    },
    {
      "cell_type": "code",
      "execution_count": null,
      "metadata": {
        "_cell_guid": "5a5135a3-6c6b-eb28-7e6d-1e7fb7d11dd5"
      },
      "outputs": [],
      "source": [
        "sns.countplot(pd.qcut(X_train['Fare'],4), hue=X_train['Survived'])\n",
        "#do the same thing with the fare which shows one had a better chance of survival if one \n",
        "#paud more for their ticket"
      ]
    },
    {
      "cell_type": "code",
      "execution_count": null,
      "metadata": {
        "_cell_guid": "8d2351f7-0172-b8d4-6523-12c28a61a45d"
      },
      "outputs": [],
      "source": [
        "#fix the missing data. must be done for training and test sets in the same way.\n",
        "X_train['Embarked']=X_train['Embarked'].fillna('S')\n",
        "X_train['Age']= X_train['Age'].fillna(X_train['Age'].mean())\n",
        "X_final_test['Age']= X_final_test['Age'].fillna(X_train['Age'].mean())\n",
        "X_final_test['Fare']=X_final_test['Fare'].fillna(X_train['Fare'].mean())\n",
        "X_train.info()\n",
        "print('--')\n",
        "X_final_test.info()"
      ]
    },
    {
      "cell_type": "code",
      "execution_count": null,
      "metadata": {
        "_cell_guid": "8d338c6b-5197-0af2-3c1f-fa8671ae3b1a"
      },
      "outputs": [],
      "source": [
        "#inspired by kaggle user: ZlatanKremonic  lets see if we can do anything with the name before \n",
        "#disregarding it as a useless feature.\n",
        "X_train['Name'].head()"
      ]
    },
    {
      "cell_type": "code",
      "execution_count": null,
      "metadata": {
        "_cell_guid": "2bbade5c-a0a0-cb4b-559a-5220f5f612b2"
      },
      "outputs": [],
      "source": [
        "X_train['Name_title']= X_train['Name'].apply(lambda x: x.split(',')[1])\n",
        "X_train['Name_title']= X_train['Name_title'].apply(lambda x: x.split()[0])\n",
        "X_train['Name_title'].value_counts()\n",
        "sns.countplot(X_train['Name_title'], hue=X_train['Survived'])\n",
        "#from this we can see that misters largely did not survive while mrs., miss and master \n",
        "# had a better chance!"
      ]
    },
    {
      "cell_type": "code",
      "execution_count": null,
      "metadata": {
        "_cell_guid": "5e7b9cf7-ad8b-a964-0590-7e9b0539aac5"
      },
      "outputs": [],
      "source": [
        "X_train['Name_len'] = X_train['Name'].apply(lambda x: x.split())\n",
        "X_train['Name_len'] = X_train['Name_len'].apply(lambda x: len(x))\n",
        "X_train['Name_len'].value_counts()"
      ]
    },
    {
      "cell_type": "code",
      "execution_count": null,
      "metadata": {
        "_cell_guid": "76d22d58-bcfe-cac9-02ec-a4794b2ec80d"
      },
      "outputs": [],
      "source": [
        "sns.countplot(X_train['Name_len'], hue=X_train['Survived'])\n",
        "#here we people with shorter names were less likely to survive.  this could be another good\n",
        "#feature"
      ]
    },
    {
      "cell_type": "code",
      "execution_count": null,
      "metadata": {
        "_cell_guid": "54fc8002-c3b4-ce24-cc9f-2379a6ac2327"
      },
      "outputs": [],
      "source": [
        "#now that we have made new features, we need to add them to the test data and get rid of the\n",
        "#old features in both data sets\n",
        "X_final_test['Name_len'] = X_final_test['Name'].apply(lambda x: x.split())\n",
        "X_final_test['Name_len'] = X_final_test['Name_len'].apply(lambda x: len(x))\n",
        "X_final_test['Name_title']= X_final_test['Name'].apply(lambda x: x.split(',')[1])\n",
        "X_final_test['Name_title']= X_final_test['Name_title'].apply(lambda x: x.split()[0])\n",
        "X_train = X_train.drop(['Name'],axis=1)\n",
        "X_final_test = X_final_test.drop(['Name'],axis=1)\n",
        "X_train = X_train.drop(['Survived'],axis=1)\n"
      ]
    },
    {
      "cell_type": "code",
      "execution_count": null,
      "metadata": {
        "_cell_guid": "edf5dcc6-6ac1-06b6-4eb2-74cdb31791cf"
      },
      "outputs": [],
      "source": [
        "X_final_test['Name_title'].value_counts()\n",
        "\n",
        "#X_train['Name_title'].value_counts()\n"
      ]
    },
    {
      "cell_type": "code",
      "execution_count": null,
      "metadata": {
        "_cell_guid": "4d5aee65-e2f5-76a5-a832-d285203a0b39"
      },
      "outputs": [],
      "source": [
        "#for name_title there are columns in the train and will not be in the test\n",
        "# leading to difference dimension feature matrices.  we need to fix that by only allowing\n",
        "# name_titles that appear in both data sets\n",
        "good_cols = [\"Name_title_\"+i for i in X_train['Name_title'].unique() \n",
        "             if i in X_final_test['Name_title'].unique()]\n",
        "print(good_cols)"
      ]
    },
    {
      "cell_type": "code",
      "execution_count": null,
      "metadata": {
        "_cell_guid": "dd034d5c-b660-7f2c-6123-0b566148eb38"
      },
      "outputs": [],
      "source": [
        "#categorical data needs to be replaced with dummy variables Sex and Embarked, and name_title\n",
        "\n",
        "\n",
        "X_train_sex = pd.get_dummies(X_train['Sex'],prefix='Sex')\n",
        "X_train_Embarked = pd.get_dummies(X_train['Embarked'],prefix='Embarked')\n",
        "X_train_Pclass = pd.get_dummies(X_train['Pclass'],prefix='Pclass')\n",
        "X_train_Name_title = pd.get_dummies(X_train['Name_title'],prefix='Name_title')\n",
        "\n",
        "X_final_test_sex = pd.get_dummies(X_final_test['Sex'],prefix='Sex')\n",
        "X_final_test_Embarked = pd.get_dummies(X_final_test['Embarked'],prefix='Embarked')\n",
        "X_final_test_Pclass = pd.get_dummies(X_final_test['Pclass'],prefix='Pclass')\n",
        "X_final_test_Name_title = pd.get_dummies(X_final_test['Name_title'],prefix='Name_title')\n",
        "\n",
        "X_train = pd.concat([X_train,X_train_sex,X_train_Embarked,X_train_Pclass,\n",
        "                     X_train_Name_title[good_cols]],axis=1)\n",
        "X_train = X_train.drop(['Sex','Embarked','Pclass','Name_title'],axis=1)\n",
        "X_final_test = pd.concat([X_final_test,X_final_test_sex,X_final_test_Embarked,\n",
        "                          X_final_test_Pclass,X_final_test_Name_title[good_cols]],axis=1)\n",
        "X_final_test = X_final_test.drop(['Sex','Embarked','Pclass','Name_title'],axis=1)\n",
        "X_train.info()\n",
        "print('---')\n",
        "X_final_test.info()"
      ]
    },
    {
      "cell_type": "code",
      "execution_count": null,
      "metadata": {
        "_cell_guid": "ec444af2-fc1b-5b84-1840-1b83f840336f"
      },
      "outputs": [],
      "source": [
        "#train with all the features\n",
        "X_train2,X_test2,y_train2,y_test2 = train_test_split(X_train,y_train,test_size=0.2,random_state=42,stratify=y_train)\n",
        "pipeline = make_pipeline(preprocessing.StandardScaler(),\n",
        "                        RandomForestClassifier(n_estimators=700, oob_score=True))\n",
        "hyperparameters = {'randomforestclassifier__min_samples_leaf':[1,5,10],\n",
        "                  'randomforestclassifier__max_depth':[None,10,7,5],\n",
        "                  'randomforestclassifier__min_samples_split':[2,4,8,12]}\n",
        "grid_search = GridSearchCV(pipeline,hyperparameters,cv=10)\n",
        "grid_search.fit(X_train2,y_train2)\n",
        "print(grid_search.best_params_)\n",
        "grid_search.refit\n",
        "pred = grid_search.predict(X_test2)\n",
        "print(\"accuracy score: \", accuracy_score(y_test2,pred))"
      ]
    },
    {
      "cell_type": "code",
      "execution_count": null,
      "metadata": {
        "_cell_guid": "27919e6c-466a-a8bc-f6a3-b327868e4649"
      },
      "outputs": [],
      "source": [
        "X_train2,X_test2,y_train2,y_test2 = train_test_split(X_train,y_train,test_size=0.2,random_state=42,stratify=y_train)\n",
        "\n",
        "rf=RandomForestClassifier(n_estimators=700,oob_score=True,max_depth=10,min_samples_leaf=5,\n",
        "                         min_samples_split=8)\n",
        "rf.fit(X_train2,y_train2)\n",
        "pred=rf.predict(X_test2)\n",
        "\n",
        "pd.concat((pd.DataFrame(X_train2.iloc[:, 1:].columns, columns = ['variable']), \n",
        "           pd.DataFrame(rf.feature_importances_, columns = ['importance'])), \n",
        "          axis = 1).sort_values(by='importance', ascending = False)[:20]"
      ]
    },
    {
      "cell_type": "code",
      "execution_count": null,
      "metadata": {
        "_cell_guid": "9892ea43-baeb-5517-a8f2-ad0eeb58acbe"
      },
      "outputs": [],
      "source": [
        "final_pred = rf.predict(X_final_test)\n"
      ]
    },
    {
      "cell_type": "code",
      "execution_count": null,
      "metadata": {
        "_cell_guid": "7242d065-1291-7680-f4ff-b00614322df4"
      },
      "outputs": [],
      "source": [
        "X_final_test=X_final_test.reset_index();\n",
        "predictions = pd.DataFrame(final_pred,columns=['Survived'])\n",
        "predictions = pd.concat((X_final_test['PassengerId'],predictions),axis=1)"
      ]
    },
    {
      "cell_type": "code",
      "execution_count": null,
      "metadata": {
        "_cell_guid": "6e5f4030-cfb8-6ce1-a360-4323d11f81d1"
      },
      "outputs": [],
      "source": [
        "predictions.shape"
      ]
    },
    {
      "cell_type": "code",
      "execution_count": null,
      "metadata": {
        "_cell_guid": "b327bd59-2e66-6288-fe2d-88f803ec11f3"
      },
      "outputs": [],
      "source": [
        "predictions.to_csv('../output/submission1.csv',index = False)\n"
      ]
    },
    {
      "cell_type": "code",
      "execution_count": null,
      "metadata": {
        "_cell_guid": "15668888-8372-b8e0-dfe9-5853db278e65"
      },
      "outputs": [],
      "source": [
        "\n",
        "predictions.to_csv('submission.csv',index = False)\n"
      ]
    },
    {
      "cell_type": "code",
      "execution_count": null,
      "metadata": {
        "_cell_guid": "13f3828a-14ce-b828-4b7c-2879976f4c1e"
      },
      "outputs": [],
      "source": ""
    }
  ],
  "metadata": {
    "_change_revision": 0,
    "_is_fork": false,
    "kernelspec": {
      "display_name": "Python 3",
      "language": "python",
      "name": "python3"
    },
    "language_info": {
      "codemirror_mode": {
        "name": "ipython",
        "version": 3
      },
      "file_extension": ".py",
      "mimetype": "text/x-python",
      "name": "python",
      "nbconvert_exporter": "python",
      "pygments_lexer": "ipython3",
      "version": "3.5.2"
    }
  },
  "nbformat": 4,
  "nbformat_minor": 0
}