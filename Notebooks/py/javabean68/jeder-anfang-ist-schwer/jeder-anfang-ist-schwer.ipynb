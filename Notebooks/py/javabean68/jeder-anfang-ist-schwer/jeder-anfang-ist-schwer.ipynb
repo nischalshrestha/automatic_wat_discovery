{
  "cells": [
    {
      "cell_type": "markdown",
      "metadata": {
        "_cell_guid": "b4b78f50-4fec-ac06-e406-cdf532761292"
      },
      "source": [
        "My Notebook\n"
      ]
    },
    {
      "cell_type": "code",
      "execution_count": null,
      "metadata": {
        "_cell_guid": "5caebaee-16ad-d712-e213-b8453ed0eb31"
      },
      "outputs": [],
      "source": [
        "print('Hello World!')"
      ]
    },
    {
      "cell_type": "code",
      "execution_count": null,
      "metadata": {
        "_cell_guid": "68a3fcac-ec3a-ba91-d5a3-67089263dcd2"
      },
      "outputs": [],
      "source": [
        "import keras"
      ]
    },
    {
      "cell_type": "code",
      "execution_count": null,
      "metadata": {
        "_cell_guid": "28577272-538c-6b27-534e-133b21d7c514"
      },
      "outputs": [],
      "source": [
        "import this"
      ]
    },
    {
      "cell_type": "code",
      "execution_count": null,
      "metadata": {
        "_cell_guid": "d3327cb1-5f26-dd8c-2c53-a884a5b2d22e"
      },
      "outputs": [],
      "source": [
        "import pandas\n",
        "titanic = pandas.read_csv(\"../input/train.csv\")\n",
        "\n",
        "titanic.head()\n",
        "\n",
        "titanic.info()\n",
        "\n",
        "print(titanic[\"Embarked\"].value_counts())\n",
        "\n",
        "print(titanic[\"Sex\"].value_counts())\n",
        "\n",
        "print(titanic.describe())"
      ]
    },
    {
      "cell_type": "code",
      "execution_count": null,
      "metadata": {
        "_cell_guid": "33271235-80e9-4d5e-66a9-d3d111a7096b"
      },
      "outputs": [],
      "source": [
        "# Added version check for recent scikit-learn 0.18 checks\n",
        "from distutils.version import LooseVersion as Version\n",
        "from sklearn import __version__ as sklearn_version"
      ]
    },
    {
      "cell_type": "code",
      "execution_count": null,
      "metadata": {
        "_cell_guid": "c1f31b2f-9c43-7de3-b6b4-f3f155d85e04"
      },
      "outputs": [],
      "source": [
        "if Version(sklearn_version) < '0.18':\n",
        "    from sklearn.cross_validation import train_test_split\n",
        "else:\n",
        "    from sklearn.model_selection import train_test_split\n",
        "\n",
        "X, y = titanic.iloc[:, 2:].values, titanic.iloc[:, 1].values\n",
        "\n",
        "\n",
        "\n",
        "X_train, X_test, y_train, y_test = \\\n",
        "    train_test_split(X, y, test_size=0.2, random_state=0)"
      ]
    },
    {
      "cell_type": "code",
      "execution_count": null,
      "metadata": {
        "_cell_guid": "a9b08017-6c25-52ec-a4cc-7911d03107fd"
      },
      "outputs": [],
      "source": [
        "len(X_train),len(X_test)"
      ]
    },
    {
      "cell_type": "code",
      "execution_count": null,
      "metadata": {
        "_cell_guid": "885bd622-116e-39f9-4676-8018d5ec61c0"
      },
      "outputs": [],
      "source": [
        "from sklearn.preprocessing import StandardScaler\n",
        "\n",
        "sc = StandardScaler()\n",
        "X_train_std = sc.fit_transform(X_train)\n",
        "X_test_std = sc.transform(X_test)"
      ]
    }
  ],
  "metadata": {
    "_change_revision": 0,
    "_is_fork": false,
    "kernelspec": {
      "display_name": "Python 3",
      "language": "python",
      "name": "python3"
    },
    "language_info": {
      "codemirror_mode": {
        "name": "ipython",
        "version": 3
      },
      "file_extension": ".py",
      "mimetype": "text/x-python",
      "name": "python",
      "nbconvert_exporter": "python",
      "pygments_lexer": "ipython3",
      "version": "3.6.0"
    }
  },
  "nbformat": 4,
  "nbformat_minor": 0
}