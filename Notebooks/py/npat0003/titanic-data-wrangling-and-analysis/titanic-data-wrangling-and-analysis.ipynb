{
  "cells": [
    {
      "cell_type": "markdown",
      "metadata": {
        "_cell_guid": "e52c9c50-80e4-1145-c627-071504b5ccf5"
      },
      "source": [
        "# Titanic Dataset Analysis\n",
        "\n",
        "## By: Nick Patil\n",
        "          14/12/2016"
      ]
    },
    {
      "cell_type": "markdown",
      "metadata": {
        "_cell_guid": "c06b098d-4c50-9a02-4c20-20af72bb87fb"
      },
      "source": [
        "**1. Data Parsing**\n",
        "---------------\n",
        "\n",
        "Import the libraries to read, plot and analyse the data"
      ]
    },
    {
      "cell_type": "code",
      "execution_count": null,
      "metadata": {
        "_cell_guid": "d7f5e2ae-0c33-df70-e016-df1c1b976d2a"
      },
      "outputs": [],
      "source": [
        "import pandas as pd\n",
        "import numpy as np\n",
        "import matplotlib.pyplot as plt\n",
        "from matplotlib import style\n",
        "from sklearn.linear_model import LogisticRegression\n",
        "from sklearn.ensemble import RandomForestClassifier\n",
        "from sklearn.ensemble import ExtraTreesClassifier"
      ]
    },
    {
      "cell_type": "markdown",
      "metadata": {
        "_cell_guid": "33bcd28e-e94b-8e09-c7db-6ba60a07f27a"
      },
      "source": [
        "#**Use pandas to read the csv into the dataframe**"
      ]
    },
    {
      "cell_type": "code",
      "execution_count": null,
      "metadata": {
        "_cell_guid": "01dc6ac3-94b9-a550-8acb-3c16407ffe5c"
      },
      "outputs": [],
      "source": [
        "titanic1 = pd.read_csv('../input/train.csv')\n",
        "titanic2 = pd.read_csv('../input/test.csv')"
      ]
    },
    {
      "cell_type": "markdown",
      "metadata": {
        "_cell_guid": "1ed1c75c-2b1a-7fa1-580c-9969a053629d"
      },
      "source": [
        "## Merge the two dataframes"
      ]
    },
    {
      "cell_type": "code",
      "execution_count": null,
      "metadata": {
        "_cell_guid": "ca3077e4-2d28-2bbe-20eb-981b00f77f26"
      },
      "outputs": [],
      "source": [
        "titanic = pd.merge(titanic1, titanic2, how='outer')"
      ]
    },
    {
      "cell_type": "markdown",
      "metadata": {
        "_cell_guid": "ed5789ea-5d4d-7a3e-3d4c-9c9499244053"
      },
      "source": [
        "##Take an overview of the data"
      ]
    },
    {
      "cell_type": "code",
      "execution_count": null,
      "metadata": {
        "_cell_guid": "50b9a95c-1668-b770-71cd-5fd01f4efe61"
      },
      "outputs": [],
      "source": [
        "\n",
        "titanic.head()"
      ]
    },
    {
      "cell_type": "code",
      "execution_count": null,
      "metadata": {
        "_cell_guid": "0439bcf6-3318-f58d-f3e3-eebc29fb86c1"
      },
      "outputs": [],
      "source": [
        "titanic.info()"
      ]
    },
    {
      "cell_type": "markdown",
      "metadata": {
        "_cell_guid": "826c84f4-1df8-747b-6cc5-2ecff74ed902"
      },
      "source": [
        "### There are few missing values for Age, Cabin columns\n",
        "### Also Survived column has missing values for which we need to create a model for predictions"
      ]
    },
    {
      "cell_type": "code",
      "execution_count": null,
      "metadata": {
        "_cell_guid": "e9f41f17-d321-e3cd-7034-fe8fbc42be38"
      },
      "outputs": [],
      "source": [
        "# The name column can be splitted into more meaningful columns for better analysis \n",
        "titanic.Name.unique()"
      ]
    },
    {
      "cell_type": "code",
      "execution_count": null,
      "metadata": {
        "_cell_guid": "10855767-2ccd-be54-63d0-116b746959e0"
      },
      "outputs": [],
      "source": [
        "# Lets seperate the titles from the name \n",
        "coltitle = titanic['Name'].apply(lambda s: pd.Series({'Title': s.split(',')[1].split('.')[0].strip(),\n",
        "                                                   'LastName':s.split(',')[0].strip(), 'FirstName':s.split(',')[1].split('.')[1].strip()}))\n",
        "print (coltitle)"
      ]
    },
    {
      "cell_type": "code",
      "execution_count": null,
      "metadata": {
        "_cell_guid": "86c72f3f-479a-1795-06e6-816d5ac34899"
      },
      "outputs": [],
      "source": [
        "# Add the columns to the titanic dataframe\n",
        "titanic = pd.concat([titanic, coltitle], axis=1) \n",
        "# Drop the Name column\n",
        "titanic.drop('Name', axis=1, inplace=True)\n",
        "print (titanic.head())"
      ]
    },
    {
      "cell_type": "code",
      "execution_count": null,
      "metadata": {
        "_cell_guid": "86891ab7-ed76-83f3-5238-25aa8906e9af"
      },
      "outputs": [],
      "source": [
        "# Lets check the number of male and female\n",
        "titanic.Sex.value_counts()"
      ]
    },
    {
      "cell_type": "code",
      "execution_count": null,
      "metadata": {
        "_cell_guid": "df205b60-b2a9-7f40-8e92-402aeb21fed2"
      },
      "outputs": [],
      "source": [
        "# Lets set a style for all the plots\n",
        "print (style.available)\n",
        "style.use('classic')"
      ]
    },
    {
      "cell_type": "code",
      "execution_count": null,
      "metadata": {
        "_cell_guid": "16b7f8f2-43ce-6aa0-52d4-8acf853e7f4d"
      },
      "outputs": [],
      "source": [
        "# Lets plot the number of male and females on the ship\n",
        "titanic.Sex.value_counts().plot(kind='bar')\n",
        "plt.show()"
      ]
    },
    {
      "cell_type": "code",
      "execution_count": null,
      "metadata": {
        "_cell_guid": "3a98c352-09fd-21cd-d873-c3811981ff16"
      },
      "outputs": [],
      "source": [
        "# Lets check the number of casualties on the ship\n",
        "titanic.Survived.value_counts()"
      ]
    },
    {
      "cell_type": "code",
      "execution_count": null,
      "metadata": {
        "_cell_guid": "2ec01d1a-a22f-1d5c-8c21-4eefb8999e07"
      },
      "outputs": [],
      "source": [
        "# Lets plot the casualties\n",
        "titanic.Survived.value_counts().plot(kind='bar', title='Number of people survived [0 - Not Surv, 1 - Surv]\\n')\n",
        "plt.show()"
      ]
    },
    {
      "cell_type": "markdown",
      "metadata": {
        "_cell_guid": "897db8e1-4861-1791-6ded-344c463f4f84"
      },
      "source": [
        "## Lets now find number of passengers based on their Titles"
      ]
    },
    {
      "cell_type": "code",
      "execution_count": null,
      "metadata": {
        "_cell_guid": "bb7a9057-3deb-725f-c2cb-d091b8968a57"
      },
      "outputs": [],
      "source": [
        "# We can use the title column to get an inside\n",
        "titanic.Title.unique()"
      ]
    },
    {
      "cell_type": "code",
      "execution_count": null,
      "metadata": {
        "_cell_guid": "0fd7ee88-214b-21e2-71be-117858f93b20"
      },
      "outputs": [],
      "source": [
        "# Also reassign mlle, ms, and mme accordingly\n",
        "titanic.loc[titanic['Title']=='Mlle', 'Title']='Miss'.strip()\n",
        "titanic.loc[titanic['Title']=='Ms', 'Title']='Miss'.strip()\n",
        "titanic.loc[titanic['Title']=='Mme', 'Title']='Mrs'.strip()"
      ]
    },
    {
      "cell_type": "code",
      "execution_count": null,
      "metadata": {
        "_cell_guid": "16ce69d3-c9a1-e07c-f2d0-9f0c7288b7e3"
      },
      "outputs": [],
      "source": [
        "# Get the count of female and male passengers based on titles\n",
        "tab = titanic.groupby(['Sex', 'Title']).size()\n",
        "print (tab)"
      ]
    },
    {
      "cell_type": "code",
      "execution_count": null,
      "metadata": {
        "_cell_guid": "863b6955-7020-84f4-8fa7-8c714eb031a2"
      },
      "outputs": [],
      "source": [
        "# Now lets get the count of unique surnames \n",
        "print (titanic.LastName.unique().shape[0])"
      ]
    },
    {
      "cell_type": "markdown",
      "metadata": {
        "_cell_guid": "a5cce618-802d-a126-8688-0770d305583f"
      },
      "source": [
        "##Total number of families on the ship"
      ]
    },
    {
      "cell_type": "code",
      "execution_count": null,
      "metadata": {
        "_cell_guid": "a93cc561-51ca-5dac-51ee-cfbd10f70003"
      },
      "outputs": [],
      "source": [
        "titanic['total_members'] = titanic.SibSp + titanic.Parch + 1\n"
      ]
    },
    {
      "cell_type": "markdown",
      "metadata": {
        "_cell_guid": "e890a609-4885-19ad-0305-f7506f4fda6f"
      },
      "source": [
        "## Do families sink or swim together based on number of family members\n",
        "\n",
        "\n",
        "----------\n"
      ]
    },
    {
      "cell_type": "code",
      "execution_count": null,
      "metadata": {
        "_cell_guid": "89665b02-ee81-b4aa-8220-2403551d77c3"
      },
      "outputs": [],
      "source": [
        "survivor = titanic[['Survived', 'total_members']].groupby('total_members').mean()\n",
        "survivor.plot(kind='bar')\n",
        "plt.show()"
      ]
    },
    {
      "cell_type": "markdown",
      "metadata": {
        "_cell_guid": "cca35b77-dc81-a23d-dffb-6e8aeaeba522"
      },
      "source": [
        "##We can see that there\u2019s a survival penalty to singletons and those with family sizes above 4\u00b6\n"
      ]
    },
    {
      "cell_type": "code",
      "execution_count": null,
      "metadata": {
        "_cell_guid": "30b2f662-f7a5-887e-1cd5-23cdeac7afdb"
      },
      "outputs": [],
      "source": [
        "titanic.isnull().sum()"
      ]
    },
    {
      "cell_type": "markdown",
      "metadata": {
        "_cell_guid": "c17cb26d-4203-0f8b-001b-d9b117d6cc2b"
      },
      "source": [
        "##Drop unnecessary columns, these columns won't be useful in analysis and prediction"
      ]
    },
    {
      "cell_type": "code",
      "execution_count": null,
      "metadata": {
        "_cell_guid": "374f9465-2cfd-cfe6-f580-45b18317e256"
      },
      "outputs": [],
      "source": [
        "# Drop the Ticket and Cabin column \n",
        "titanic.drop('Cabin', axis=1, inplace=True)\n",
        "titanic.drop('Ticket', axis=1, inplace=True)"
      ]
    },
    {
      "cell_type": "code",
      "execution_count": null,
      "metadata": {
        "_cell_guid": "a15941f0-b572-7b03-bf41-e3cd9f87bd9a"
      },
      "outputs": [],
      "source": [
        "# There is one missing value in Fare\n",
        "titanic[titanic.Fare.isnull()==True]"
      ]
    },
    {
      "cell_type": "code",
      "execution_count": null,
      "metadata": {
        "_cell_guid": "39a6ae4f-0f25-0ab9-a82b-650c4a47507b"
      },
      "outputs": [],
      "source": [
        "titanic[['Pclass', 'Fare']].groupby('Pclass').mean()"
      ]
    },
    {
      "cell_type": "code",
      "execution_count": null,
      "metadata": {
        "_cell_guid": "c513b1fd-9128-702f-593f-d2d0304d1eb6"
      },
      "outputs": [],
      "source": [
        "titanic.loc[titanic.PassengerId==1044.0, 'Fare']=13.30"
      ]
    },
    {
      "cell_type": "code",
      "execution_count": null,
      "metadata": {
        "_cell_guid": "983c9738-01d6-2630-6dab-a93fb412960b"
      },
      "outputs": [],
      "source": [
        "# Check the null values in Embarked column\n",
        "titanic.Embarked.isnull().sum()"
      ]
    },
    {
      "cell_type": "code",
      "execution_count": null,
      "metadata": {
        "_cell_guid": "d502e80b-7b9a-b9d6-47be-12addca35e1d"
      },
      "outputs": [],
      "source": [
        "titanic[titanic['Embarked'].isnull() == True]"
      ]
    },
    {
      "cell_type": "markdown",
      "metadata": {
        "_cell_guid": "535c7769-032b-1f3a-be12-e60f152cf92e"
      },
      "source": [
        "## Impute missing value based on Survived column\n",
        "We see that they paid 80 dollars respectively and their classes are 1 and 1, also they survived. So lets try to find where they embarked from."
      ]
    },
    {
      "cell_type": "code",
      "execution_count": null,
      "metadata": {
        "_cell_guid": "7edf535a-b3c3-34bc-4614-ff29da218eef"
      },
      "outputs": [],
      "source": [
        "# Lets try to find the embark based on survived\n",
        "titanic[['Embarked', 'Survived']].groupby(['Embarked'],as_index=False).mean()"
      ]
    },
    {
      "cell_type": "markdown",
      "metadata": {
        "_cell_guid": "0d0d3223-78ea-2eb9-1836-ddac5b269352"
      },
      "source": [
        "We will go with C as the passengers survived and there is 55% chance for surviving with Embark C"
      ]
    },
    {
      "cell_type": "code",
      "execution_count": null,
      "metadata": {
        "_cell_guid": "a0e99515-cdd7-096d-ace9-0d69e039b753"
      },
      "outputs": [],
      "source": [
        "# Also lets try to find the fare based on Embarked \n",
        "titanic[['Embarked', 'Fare']].groupby('Embarked').mean()"
      ]
    },
    {
      "cell_type": "markdown",
      "metadata": {
        "_cell_guid": "ed186090-6632-dbf2-f832-e2be80242203"
      },
      "source": [
        "##The fare they paid is 80 dollars which is close to C, hence we can impute C as the missing value. "
      ]
    },
    {
      "cell_type": "code",
      "execution_count": null,
      "metadata": {
        "_cell_guid": "57923b42-55d0-a4b7-150d-a8163be806ff"
      },
      "outputs": [],
      "source": [
        "# Imputting the missing value\n",
        "titanic.loc[titanic['Embarked'].isnull() == True, 'Embarked']='C'.strip()"
      ]
    },
    {
      "cell_type": "markdown",
      "metadata": {
        "_cell_guid": "8fe3a4c0-39be-cb07-347d-a678d35d3af5"
      },
      "source": [
        "## Check the missing values for Age"
      ]
    },
    {
      "cell_type": "code",
      "execution_count": null,
      "metadata": {
        "_cell_guid": "e3af23b4-d268-16b6-3ca2-b4e8835b0fd2"
      },
      "outputs": [],
      "source": [
        "titanic.Age.isnull().sum()"
      ]
    },
    {
      "cell_type": "code",
      "execution_count": null,
      "metadata": {
        "_cell_guid": "8c618bf4-d26f-81b2-86b3-e5aed83e50b1"
      },
      "outputs": [],
      "source": [
        "titanic.Age.plot(kind='hist')\n",
        "plt.show()"
      ]
    },
    {
      "cell_type": "markdown",
      "metadata": {
        "_cell_guid": "e7a3af52-4dbd-79e0-1b1c-a55563063d59"
      },
      "source": [
        "##  The Age can be predicted based on Sex, Title and Pclass of existing customer and imputting the median age value."
      ]
    },
    {
      "cell_type": "code",
      "execution_count": null,
      "metadata": {
        "_cell_guid": "23f2b441-b8ad-51b4-8b7d-daca34746e01"
      },
      "outputs": [],
      "source": [
        "pd.pivot_table(titanic, index=['Sex', 'Title', 'Pclass'], values=['Age'], aggfunc='median')"
      ]
    },
    {
      "cell_type": "code",
      "execution_count": null,
      "metadata": {
        "_cell_guid": "68037234-403c-08c3-13a4-924c4fb6cf05"
      },
      "outputs": [],
      "source": [
        "# a function that fills the missing values of the Age variable\n",
        "    \n",
        "def fillAges(row):\n",
        "    \n",
        "    if row['Sex']=='female' and row['Pclass'] == 1:\n",
        "        if row['Title'] == 'Miss':\n",
        "            return 29.5\n",
        "        elif row['Title'] == 'Mrs':\n",
        "            return 38.0\n",
        "        elif row['Title'] == 'Dr':\n",
        "            return 49.0\n",
        "        elif row['Title'] == 'Lady':\n",
        "            return 48.0\n",
        "        elif row['Title'] == 'the Countess':\n",
        "            return 33.0\n",
        "\n",
        "    elif row['Sex']=='female' and row['Pclass'] == 2:\n",
        "        if row['Title'] == 'Miss':\n",
        "            return 24.0\n",
        "        elif row['Title'] == 'Mrs':\n",
        "            return 32.0\n",
        "\n",
        "    elif row['Sex']=='female' and row['Pclass'] == 3:\n",
        "        \n",
        "        if row['Title'] == 'Miss':\n",
        "            return 9.0\n",
        "        elif row['Title'] == 'Mrs':\n",
        "            return 29.0\n",
        "\n",
        "    elif row['Sex']=='male' and row['Pclass'] == 1:\n",
        "        if row['Title'] == 'Master':\n",
        "            return 4.0\n",
        "        elif row['Title'] == 'Mr':\n",
        "            return 36.0\n",
        "        elif row['Title'] == 'Sir':\n",
        "            return 49.0\n",
        "        elif row['Title'] == 'Capt':\n",
        "            return 70.0\n",
        "        elif row['Title'] == 'Col':\n",
        "            return 58.0\n",
        "        elif row['Title'] == 'Don':\n",
        "            return 40.0\n",
        "        elif row['Title'] == 'Dr':\n",
        "            return 38.0\n",
        "        elif row['Title'] == 'Major':\n",
        "            return 48.5\n",
        "\n",
        "    elif row['Sex']=='male' and row['Pclass'] == 2:\n",
        "        if row['Title'] == 'Master':\n",
        "            return 1.0\n",
        "        elif row['Title'] == 'Mr':\n",
        "            return 30.0\n",
        "        elif row['Title'] == 'Dr':\n",
        "            return 38.5\n",
        "\n",
        "    elif row['Sex']=='male' and row['Pclass'] == 3:\n",
        "        if row['Title'] == 'Master':\n",
        "            return 4.0\n",
        "        elif row['Title'] == 'Mr':\n",
        "            return 22.0\n",
        "\n",
        "\n",
        "titanic['Age'] = titanic.apply(lambda s: fillAges(s) if np.isnan(s['Age']) else s['Age'], axis=1)\n"
      ]
    },
    {
      "cell_type": "markdown",
      "metadata": {
        "_cell_guid": "e33929cb-e72f-9d38-a3fd-28d25f2846d7"
      },
      "source": [
        "##Plot after imputting the missing values"
      ]
    },
    {
      "cell_type": "code",
      "execution_count": null,
      "metadata": {
        "_cell_guid": "724cd9a6-4052-9d9d-5874-854d09ffb91e"
      },
      "outputs": [],
      "source": [
        "titanic.Age.plot(kind='hist')\n",
        "plt.show()"
      ]
    },
    {
      "cell_type": "markdown",
      "metadata": {
        "_cell_guid": "6a6a1d8c-dffe-776e-80aa-49bca9aaf4da"
      },
      "source": [
        "# Prediction for Survived\n",
        "\n",
        "###Sex, Pclass, Age, Embarked, Kids, Mother, total_members"
      ]
    },
    {
      "cell_type": "code",
      "execution_count": null,
      "metadata": {
        "_cell_guid": "35f8e806-3432-942c-7d1c-6f1d298c9b97"
      },
      "outputs": [],
      "source": [
        "titanic.info()"
      ]
    },
    {
      "cell_type": "markdown",
      "metadata": {
        "_cell_guid": "40fcf367-cb06-3fc6-dc0d-06050294b4af"
      },
      "source": [
        "##Convert objects to numeric for predictions"
      ]
    },
    {
      "cell_type": "code",
      "execution_count": null,
      "metadata": {
        "_cell_guid": "2293a6d7-27b3-155c-54eb-0779b96e06b6"
      },
      "outputs": [],
      "source": [
        "# Convert sex to 0 and 1 (Female and Male)\n",
        "def trans_sex(x):\n",
        "    if x == 'female':\n",
        "        return 0\n",
        "    else:\n",
        "        return 1\n",
        "titanic['Sex'] = titanic['Sex'].apply(trans_sex)\n",
        "\n",
        "# Convert Embarked to 1, 2, 3 (S, C, Q)\n",
        "def trans_embark(x):\n",
        "    if x == 'S':\n",
        "        return 3\n",
        "    if x == 'C':\n",
        "        return 2\n",
        "    if x == 'Q':\n",
        "        return 1\n",
        "titanic['Embarked'] = titanic['Embarked'].apply(trans_embark)    \n",
        "    "
      ]
    },
    {
      "cell_type": "code",
      "execution_count": null,
      "metadata": {
        "_cell_guid": "f0c3a180-5574-9918-5354-ce8edadff705"
      },
      "outputs": [],
      "source": [
        "# Add a child and mother column for predicting survivals\n",
        "titanic['Child'] = 0\n",
        "titanic.loc[titanic['Age']<18.0, 'Child'] = 1\n",
        "titanic['Mother'] = 0\n",
        "titanic.loc[(titanic['Age']>18.0) & (titanic['Parch'] > 0.0) & (titanic['Sex']==0) & (titanic['Title']!='Miss'), 'Mother'] =1"
      ]
    },
    {
      "cell_type": "markdown",
      "metadata": {
        "_cell_guid": "ac89ecb3-251a-27eb-1862-81200dd6d1f9"
      },
      "source": [
        "##predict who survives among passengers of the Titanic based on variables that we carefully curated and treated for missing values"
      ]
    },
    {
      "cell_type": "code",
      "execution_count": null,
      "metadata": {
        "_cell_guid": "6042a979-6dcb-5e07-e38a-ec0cef25947d"
      },
      "outputs": [],
      "source": [
        "titanic.isnull().sum()"
      ]
    },
    {
      "cell_type": "markdown",
      "metadata": {
        "_cell_guid": "942a4ee8-ffdb-a4f2-130f-38a66b94d4d2"
      },
      "source": [
        "##We divide the datasource into training and test data based on Null values in Survived column"
      ]
    },
    {
      "cell_type": "code",
      "execution_count": null,
      "metadata": {
        "_cell_guid": "b53c7e4e-ea8a-5e59-902f-8504bdb84440"
      },
      "outputs": [],
      "source": [
        "# Feature selection for doing the predictions\n",
        "features_label = ['Pclass', 'Sex', 'Age', 'SibSp', 'Parch', 'Fare', 'Embarked', 'total_members', 'Child', 'Mother']\n",
        "target_label= ['Survived']\n",
        "train = titanic[titanic['Survived'].isnull()!= True]\n",
        "test = titanic[titanic['Survived'].isnull()== True]\n"
      ]
    },
    {
      "cell_type": "code",
      "execution_count": null,
      "metadata": {
        "_cell_guid": "a4c04608-78e1-b6b3-eb1c-5d86333cd562"
      },
      "outputs": [],
      "source": [
        "print (train.shape)\n",
        "print (test.shape)"
      ]
    },
    {
      "cell_type": "markdown",
      "metadata": {
        "_cell_guid": "91c0a01b-0298-ad04-0ae2-49eb9ebfcca0"
      },
      "source": [
        "##Random Forest Regression "
      ]
    },
    {
      "cell_type": "code",
      "execution_count": null,
      "metadata": {
        "_cell_guid": "d488ed01-b828-9e4b-182b-a55b3571476e"
      },
      "outputs": [],
      "source": [
        "random_forest = RandomForestClassifier(n_estimators=100)\n",
        "\n",
        "random_forest.fit(X=train[features_label], y=train[target_label])\n",
        "\n",
        "Y_pred = random_forest.predict(X=test[features_label])\n",
        "\n",
        "random_forest.score(X=train[features_label], y=train[target_label])"
      ]
    },
    {
      "cell_type": "markdown",
      "metadata": {
        "_cell_guid": "4e0fb280-d2a9-e3ad-3864-a675d31e3e09"
      },
      "source": [
        "##Using Logistic Regression to predict and imputing the predicted values into the Survived column with null values"
      ]
    },
    {
      "cell_type": "code",
      "execution_count": null,
      "metadata": {
        "_cell_guid": "cf69e577-b431-0bb3-f61a-d5dce67c660a"
      },
      "outputs": [],
      "source": [
        "# Logistic Regression\n",
        "regr = LogisticRegression()\n",
        "regr.fit(X=train[features_label], y=train[target_label])\n",
        "regr.score(X=train[features_label], y=train[target_label])"
      ]
    },
    {
      "cell_type": "code",
      "execution_count": null,
      "metadata": {
        "_cell_guid": "f905414a-5484-d796-caf0-4754a0acbf7f"
      },
      "outputs": [],
      "source": [
        "# Predicted Values for Survived\n",
        "predict_t = regr.predict(X=test[features_label])\n",
        "print (predict_t)"
      ]
    },
    {
      "cell_type": "code",
      "execution_count": null,
      "metadata": {
        "_cell_guid": "9c409c6d-f0da-be1f-979d-76295d1c8deb"
      },
      "outputs": [],
      "source": [
        "# Insert the predicted values for the missing rows for Survived column\n",
        "titanic.loc[titanic['Survived'].isnull()== True, 'Survived']= predict_t"
      ]
    },
    {
      "cell_type": "markdown",
      "metadata": {
        "_cell_guid": "ed744040-d213-2ae4-1da1-ec259883f3f6"
      },
      "source": [
        "##Extra Trees model for selecting Features based on importance"
      ]
    },
    {
      "cell_type": "code",
      "execution_count": null,
      "metadata": {
        "_cell_guid": "1477fa95-91a5-4064-678f-ddf3dd7bc58d"
      },
      "outputs": [],
      "source": [
        "# fit an Extra Trees model to the data\n",
        "model = ExtraTreesClassifier()\n",
        "model.fit(X=train[features_label], y=train[target_label])\n",
        "# display the relative importance of each attribute\n",
        "importance = model.feature_importances_\n",
        "print (importance)"
      ]
    },
    {
      "cell_type": "code",
      "execution_count": null,
      "metadata": {
        "_cell_guid": "58f2db00-fc7d-cf48-620a-668265b213eb"
      },
      "outputs": [],
      "source": [
        "# model is of type array, convert to type dataframe\n",
        "\n",
        "imp = pd.DataFrame({'feature':features_label,'importance':np.round(model.feature_importances_,3)})\n",
        "imp = imp.sort_values('importance',ascending=False).set_index('feature')\n",
        "print (imp)\n",
        "imp.plot.bar()\n",
        "plt.show()"
      ]
    },
    {
      "cell_type": "markdown",
      "metadata": {
        "_cell_guid": "9dfdf270-2c63-86e6-8991-d53b08c0f7b3"
      },
      "source": [
        "##passengers who survived based on sex, class, child and mothers"
      ]
    },
    {
      "cell_type": "code",
      "execution_count": null,
      "metadata": {
        "_cell_guid": "a2958ff1-0396-e022-8e0c-921bca8c3d2c"
      },
      "outputs": [],
      "source": [
        "print (\"\\nThe number of passengers based on Sex\\n\")\n",
        "print (titanic['Sex'].value_counts()) \n",
        "\n",
        "print (\"\\nThe number of survivors based on Sex\\n\")\n",
        "print(titanic[['Survived', 'Sex']].groupby('Sex').sum()) \n",
        "\n",
        "print (\"\\nThe number of passengers based on Pclass\\n\")\n",
        "print (titanic['Pclass'].value_counts())\n",
        "       \n",
        "print(\"\\nThe number of survivors based on Pclass\\n\")\n",
        "print(titanic[['Survived', 'Pclass']].groupby('Pclass').sum()) \n",
        "\n",
        "print (\"\\nThe number of passengers who are Mother\\n\")\n",
        "print (titanic['Mother'].value_counts())\n",
        "       \n",
        "print (\"\\nThe number of survivors based on Mother\\n\")\n",
        "print (titanic[['Survived', 'Mother']].groupby('Mother').sum())"
      ]
    },
    {
      "cell_type": "markdown",
      "metadata": {
        "_cell_guid": "5acca14f-24c4-b424-fbb4-5be3f950d1c4"
      },
      "source": [
        "# Inferences\n",
        "### From the above more females survived then men, More of VIP Pclass(1) passengers survived then common passengers, Mother survivor is also high"
      ]
    },
    {
      "cell_type": "markdown",
      "metadata": {
        "_cell_guid": "d5732a14-63ae-6394-f197-51be665baee7"
      },
      "source": [
        "## Convert the columns to their string values"
      ]
    },
    {
      "cell_type": "code",
      "execution_count": null,
      "metadata": {
        "_cell_guid": "c1ba1bb9-2d50-8d79-37db-8affd8a34744"
      },
      "outputs": [],
      "source": [
        "# Convert sex to 0 and 1 (Female and Male)\n",
        "def trans_sex(x):\n",
        "    if x == 0:\n",
        "        return 'female'\n",
        "    else:\n",
        "        return 'male'\n",
        "titanic['Sex'] = titanic['Sex'].apply(trans_sex)\n",
        "\n",
        "# Convert Embarked to 1, 2, 3 (S, C, Q)\n",
        "def trans_embark(x):\n",
        "    if x == 3:\n",
        "        return 'S'\n",
        "    if x == 2:\n",
        "        return 'C'\n",
        "    if x == 1:\n",
        "        return 'Q'\n",
        "titanic['Embarked'] = titanic['Embarked'].apply(trans_embark) "
      ]
    },
    {
      "cell_type": "markdown",
      "metadata": {
        "_cell_guid": "9b794b10-8df1-a48f-7627-230c5f38a509"
      },
      "source": [
        "## Export the data into a CSV file"
      ]
    },
    {
      "cell_type": "code",
      "execution_count": null,
      "metadata": {
        "_cell_guid": "476cec89-6440-20b6-3e45-62a1e9586a4d"
      },
      "outputs": [],
      "source": [
        "titanic.to_csv('titanic.csv')"
      ]
    },
    {
      "cell_type": "markdown",
      "metadata": {
        "_cell_guid": "33a469f3-64ab-b0d3-681c-12efc69c64de"
      },
      "source": [
        "##Summary:\n",
        "Thanks Kaggle for the opportunity to do this project. As I am new to Data Science enjoyed doing it. \n",
        "Suggestions are welcome.\n"
      ]
    },
    {
      "cell_type": "code",
      "execution_count": null,
      "metadata": {
        "_cell_guid": "5dd2c23b-1225-cead-8a56-d648bf93fcae"
      },
      "outputs": [],
      "source": [
        ""
      ]
    }
  ],
  "metadata": {
    "_change_revision": 0,
    "_is_fork": false,
    "kernelspec": {
      "display_name": "Python 3",
      "language": "python",
      "name": "python3"
    },
    "language_info": {
      "codemirror_mode": {
        "name": "ipython",
        "version": 3
      },
      "file_extension": ".py",
      "mimetype": "text/x-python",
      "name": "python",
      "nbconvert_exporter": "python",
      "pygments_lexer": "ipython3",
      "version": "3.5.2"
    }
  },
  "nbformat": 4,
  "nbformat_minor": 0
}