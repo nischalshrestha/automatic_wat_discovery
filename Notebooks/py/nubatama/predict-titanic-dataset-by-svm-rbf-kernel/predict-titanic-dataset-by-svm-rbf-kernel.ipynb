{
  "cells": [
    {
      "cell_type": "markdown",
      "metadata": {
        "_cell_guid": "71194e5b-3c07-6d01-cfe6-7835a45f5c63"
      },
      "source": [
        "## Load training dataset and test dataset"
      ]
    },
    {
      "cell_type": "code",
      "execution_count": null,
      "metadata": {
        "_cell_guid": "ce694cb6-024f-0561-f02c-b2eb94faa1c8"
      },
      "outputs": [],
      "source": [
        "#Import libraries\n",
        "import pandas as pd\n",
        "import numpy as np\n",
        "\n",
        "# For .read_csv, always use header=0 when you know row 0 is the header row\n",
        "train_df = pd.read_csv('../input/train.csv', header=0)\n",
        "test_df = pd.read_csv('../input/test.csv', header=0)"
      ]
    },
    {
      "cell_type": "markdown",
      "metadata": {
        "_cell_guid": "bff212f1-e6bb-4f56-2e9e-d6db9a82e232"
      },
      "source": [
        "### Cleaning data"
      ]
    },
    {
      "cell_type": "code",
      "execution_count": null,
      "metadata": {
        "_cell_guid": "b3f5838f-39cd-9fa1-a719-4aae191233d7"
      },
      "outputs": [],
      "source": [
        "## Sex\n",
        "train_df['Gender'] = train_df['Sex'].map( {'male':1, 'female':2} ).astype(int)\n",
        "\n",
        "## Age\n",
        "# Calculate mediain of each passenger class\n",
        "median_ages = np.zeros((2,3))\n",
        "for i in range(0,2):\n",
        "    for j in range(0,3):\n",
        "        median_ages[i,j]=train_df[\n",
        "                            (train_df['Gender'] == i+1) &\n",
        "                            (train_df['Pclass'] == j+1)\n",
        "                           ]['Age'].dropna().median()\n",
        "\n",
        "# Copy 'Age' to new row, 'AgeFill'\n",
        "train_df['AgeFill'] = train_df['Age']\n",
        "\n",
        "# Fill nan 'Age' by median value of each Pclass\n",
        "for i in range(0,2):\n",
        "    for j in range(0,3):\n",
        "        train_df.loc[(train_df.Age.isnull()) & (train_df.Gender==i+1) & (train_df.Pclass==j+1), 'AgeFill'] = median_ages[i,j]\n",
        "train_df['AgeIsNull'] = pd.isnull(train_df.Age).astype(int)\n",
        "\n",
        "## Embarked \n",
        "# fill nan 'Embarked' by 'S'\n",
        "train_df.loc[(train_df.Embarked.isnull()), 'Embarked'] = 'S'\n",
        "\n",
        "# Map to integer code\n",
        "train_df['EmbarkedPos'] = train_df['Embarked'].map( {'C':1, 'Q':2, 'S':3}).astype(int)\n",
        "\n",
        "## Fare \n",
        "train_df.loc[(train_df.Fare.isnull()), 'Fare'] = 0.0"
      ]
    },
    {
      "cell_type": "code",
      "execution_count": null,
      "metadata": {
        "_cell_guid": "bd93bedd-20b9-bb5b-2ff9-14e43579a991"
      },
      "outputs": [],
      "source": [
        "# Feture engineering\n",
        "train_df['FamilySize'] = train_df['SibSp'] + train_df['Parch']\n",
        "train_df['GenderPclass'] = train_df['Pclass'] - train_df['Gender'] + 1\n",
        "train_df['Pclass'] = train_df['Pclass'] / 3\n",
        "\n",
        "# Drop object type data\n",
        "train_df.dtypes[train_df.dtypes.map(lambda x: x=='object')]\n",
        "train_df = train_df.drop(['Name', 'Sex', 'Ticket', 'Cabin', 'Embarked', 'Fare', 'Age'], axis=1)\n",
        "\n",
        "# Get train data\n",
        "whole_data = train_df.values\n",
        "whole_data_y = whole_data[:,1]\n",
        "whole_data_x = whole_data[:,2:]\n",
        "\n",
        "# Preprocessring data\n",
        "from sklearn import preprocessing\n",
        "whole_data_x_scaled = preprocessing.scale(whole_data_x)"
      ]
    },
    {
      "cell_type": "markdown",
      "metadata": {
        "_cell_guid": "f360799d-9b12-2be8-a6ec-3c62846457fb"
      },
      "source": [
        "## Create model by SVM (RBF kernel)"
      ]
    },
    {
      "cell_type": "markdown",
      "metadata": {
        "_cell_guid": "4df01005-c4f9-2349-1640-24509b625ce2"
      },
      "source": [
        "### find better 'gamma'"
      ]
    },
    {
      "cell_type": "code",
      "execution_count": null,
      "metadata": {
        "_cell_guid": "a5bf77fe-7026-5ed0-dbf3-5da9b28487c0"
      },
      "outputs": [],
      "source": [
        "from sklearn import svm\n",
        "from sklearn.model_selection import learning_curve\n",
        "from sklearn.model_selection import validation_curve\n",
        "from sklearn.model_selection import train_test_split\n",
        "from matplotlib import pyplot as plt\n",
        "%matplotlib inline\n",
        "\n",
        "# Find better 'gamma' by default C value\n",
        "param_range = np.logspace(-2, 0, 20)\n",
        "print(param_range)\n",
        "train_scores, test_scores = validation_curve(\n",
        "    svm.SVC(C=0.6), whole_data_x_scaled, whole_data_y, param_name=\"gamma\", param_range=param_range,\n",
        "    cv=10, scoring=\"accuracy\", n_jobs=1)\n",
        "\n",
        "train_scores_mean = np.mean(train_scores, axis=1)\n",
        "train_scores_std = np.std(train_scores, axis=1)\n",
        "test_scores_mean = np.mean(test_scores, axis=1)\n",
        "test_scores_std = np.std(test_scores, axis=1)\n",
        "\n",
        "plt.title(\"Validation Curve with SVM\")\n",
        "plt.xlabel(\"$\\gamma$\")\n",
        "plt.ylabel(\"Score\")\n",
        "plt.ylim(0.6, 1.1)\n",
        "lw = 2\n",
        "plt.semilogx(param_range, train_scores_mean, label=\"Training score\",\n",
        "             color=\"darkorange\", lw=lw)\n",
        "plt.fill_between(param_range, train_scores_mean - train_scores_std,\n",
        "                 train_scores_mean + train_scores_std, alpha=0.2,\n",
        "                 color=\"darkorange\", lw=lw)\n",
        "plt.semilogx(param_range, test_scores_mean, label=\"Cross-validation score\",\n",
        "             color=\"navy\", lw=lw)\n",
        "plt.fill_between(param_range, test_scores_mean - test_scores_std,\n",
        "                 test_scores_mean + test_scores_std, alpha=0.2,\n",
        "                 color=\"navy\", lw=lw)\n",
        "plt.legend(loc=\"best\")\n",
        "plt.show()\n",
        "print(test_scores_mean)"
      ]
    },
    {
      "cell_type": "markdown",
      "metadata": {
        "_cell_guid": "e590985e-893f-52b4-0ed5-68243832d978"
      },
      "source": [
        "### Find better 'C'"
      ]
    },
    {
      "cell_type": "code",
      "execution_count": null,
      "metadata": {
        "_cell_guid": "f967b41c-f326-8835-2f6d-3e06876059e4"
      },
      "outputs": [],
      "source": [
        "# Find better 'C' by better gamma\n",
        "param_range = np.linspace(2.0, 0.1, 10)\n",
        "print(param_range)\n",
        "train_scores, test_scores = validation_curve(\n",
        "    svm.SVC(gamma=0.112), whole_data_x_scaled, whole_data_y, param_name=\"C\", param_range=param_range,\n",
        "    cv=10, scoring=\"accuracy\", n_jobs=1)\n",
        "\n",
        "train_scores_mean = np.mean(train_scores, axis=1)\n",
        "train_scores_std = np.std(train_scores, axis=1)\n",
        "test_scores_mean = np.mean(test_scores, axis=1)\n",
        "test_scores_std = np.std(test_scores, axis=1)\n",
        "\n",
        "plt.title(\"Validation Curve with SVM\")\n",
        "plt.xlabel(\"C\")\n",
        "plt.ylabel(\"Score\")\n",
        "plt.ylim(0.7, 0.9)\n",
        "lw = 2\n",
        "plt.semilogx(param_range, train_scores_mean, label=\"Training score\",\n",
        "             color=\"darkorange\", lw=lw)\n",
        "plt.fill_between(param_range, train_scores_mean - train_scores_std,\n",
        "                 train_scores_mean + train_scores_std, alpha=0.2,\n",
        "                 color=\"darkorange\", lw=lw)\n",
        "plt.semilogx(param_range, test_scores_mean, label=\"Cross-validation score\",\n",
        "             color=\"navy\", lw=lw)\n",
        "plt.fill_between(param_range, test_scores_mean - test_scores_std,\n",
        "                 test_scores_mean + test_scores_std, alpha=0.2,\n",
        "                 color=\"navy\", lw=lw)\n",
        "plt.legend(loc=\"best\")\n",
        "plt.show()"
      ]
    },
    {
      "cell_type": "markdown",
      "metadata": {
        "_cell_guid": "d59fe966-bd63-7bfe-5b6c-85f567996e79"
      },
      "source": [
        "### Training and predict"
      ]
    },
    {
      "cell_type": "code",
      "execution_count": null,
      "metadata": {
        "_cell_guid": "52657c06-ccff-cef7-0959-ccad36599cb5"
      },
      "outputs": [],
      "source": [
        "## Create estimater\n",
        "clf = svm.SVC(C=0.7,gamma=0.11)\n",
        "\n",
        "# Fit all training data\n",
        "clf.fit(whole_data_x_scaled, whole_data_y)\n",
        "\n",
        "## Cleaning test data under same rule of training data\n",
        "# Sex\n",
        "test_df['Gender'] = test_df['Sex'].map( {'male':1, 'female':2} ).astype(int)\n",
        "\n",
        "# Copy 'Age' to new row, 'AgeFill'\n",
        "test_df['AgeFill'] = test_df['Age']\n",
        "\n",
        "# Fill nan 'Age' by median value of each Pclass\n",
        "for i in range(0,2):\n",
        "    for j in range(0,3):\n",
        "        test_df.loc[(test_df.Age.isnull()) & (test_df.Gender==i+1) & (test_df.Pclass==j+1), 'AgeFill'] = median_ages[i,j]\n",
        "test_df['AgeIsNull'] = pd.isnull(test_df.Age).astype(int)\n",
        "\n",
        "# Embarked\n",
        "test_df.loc[(test_df.Embarked.isnull()), 'Embarked'] = 'S'\n",
        "test_df['EmbarkedPos'] = test_df['Embarked'].map( {'C':1, 'Q':2, 'S':3}).astype(int)\n",
        "\n",
        "# Fare\n",
        "test_df.loc[test_df.Fare.isnull(), 'Fare'] = 0.0\n",
        "\n",
        "# Add 'FamilySize', SibSp * Parch\n",
        "test_df['FamilySize'] = test_df['SibSp'] + test_df['Parch']\n",
        "test_df['GenderPclass'] = test_df['Pclass'] - test_df['Gender'] + 1\n",
        "test_df['Pclass'] = test_df['Pclass'] / 3\n",
        "\n",
        "# Drop unnecessary data\n",
        "test_df = test_df.drop(['Age', 'Name', 'Sex', 'Ticket', 'Cabin', 'Embarked', 'Fare'], axis=1)\n",
        "\n",
        "# Get test data\n",
        "test_data = test_df.values\n",
        "test_data = test_data[:,1:]\n",
        "test_data = preprocessing.scale(test_data)\n",
        "\n",
        "# predict\n",
        "result = clf.predict(test_data)\n",
        "test_df['Survived'] = result\n",
        "df_test_result = test_df[['PassengerId', 'Survived']] \n",
        "df_test_result.Survived = df_test_result.Survived.astype(int)\n",
        "df_test_result.to_csv('predict.csv', index=False)"
      ]
    },
    {
      "cell_type": "code",
      "execution_count": null,
      "metadata": {
        "_cell_guid": "bd3bac77-8098-9e44-19fe-95e91df71605",
        "collapsed": true
      },
      "outputs": [],
      "source": [
        ""
      ]
    }
  ],
  "metadata": {
    "_change_revision": 0,
    "_is_fork": false,
    "kernelspec": {
      "display_name": "Python 3",
      "language": "python",
      "name": "python3"
    },
    "language_info": {
      "codemirror_mode": {
        "name": "ipython",
        "version": 3
      },
      "file_extension": ".py",
      "mimetype": "text/x-python",
      "name": "python",
      "nbconvert_exporter": "python",
      "pygments_lexer": "ipython3",
      "version": "3.5.2"
    }
  },
  "nbformat": 4,
  "nbformat_minor": 0
}