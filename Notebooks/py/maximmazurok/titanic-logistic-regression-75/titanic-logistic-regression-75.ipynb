{
  "cells": [
    {
      "cell_type": "code",
      "execution_count": null,
      "metadata": {
        "_cell_guid": "2d665cca-1166-8800-eba1-518255817b4d"
      },
      "outputs": [],
      "source": [
        "import numpy as np\n",
        "import pandas as pd\n",
        "from sklearn.linear_model import LogisticRegression"
      ]
    },
    {
      "cell_type": "code",
      "execution_count": null,
      "metadata": {
        "_cell_guid": "64af771a-afa8-b1c5-ce1a-a91c60b0c0f7"
      },
      "outputs": [],
      "source": [
        "titanic_train = pd.read_csv('../input/train.csv')\n",
        "titanic_test = pd.read_csv('../input/test.csv')"
      ]
    },
    {
      "cell_type": "code",
      "execution_count": null,
      "metadata": {
        "_cell_guid": "2422415f-7c89-98dc-d827-5e6aaea8671c"
      },
      "outputs": [],
      "source": [
        "titanic_train['Age'] = titanic_train['Age'].fillna(titanic_train['Age'].median())\n",
        "titanic_train.loc[titanic_train['Sex'] == 'male', 'Sex'] = 0\n",
        "titanic_train.loc[titanic_train['Sex'] == 'female', 'Sex'] = 1\n",
        "titanic_train['Embarked'] = titanic_train['Embarked'].fillna('S')\n",
        "titanic_train.loc[titanic_train['Embarked'] == 'S', 'Embarked'] = 0\n",
        "titanic_train.loc[titanic_train['Embarked'] == 'C', 'Embarked'] = 1\n",
        "titanic_train.loc[titanic_train['Embarked'] == 'Q', 'Embarked'] = 2\n",
        "titanic_train['Fare'] = titanic_train['Fare'].fillna(titanic_train['Fare'].median())\n",
        "\n",
        "titanic_test['Age'] = titanic_test['Age'].fillna(titanic_train['Age'].median())\n",
        "titanic_test.loc[titanic_test['Sex'] == 'male', 'Sex'] = 0\n",
        "titanic_test.loc[titanic_test['Sex'] == 'female', 'Sex'] = 1\n",
        "titanic_test['Embarked'] = titanic_test['Embarked'].fillna('S')\n",
        "titanic_test.loc[titanic_test['Embarked'] == 'S', 'Embarked'] = 0\n",
        "titanic_test.loc[titanic_test['Embarked'] == 'C', 'Embarked'] = 1\n",
        "titanic_test.loc[titanic_test['Embarked'] == 'Q', 'Embarked'] = 2\n",
        "titanic_test['Fare'] = titanic_test['Fare'].fillna(titanic_test['Fare'].median())"
      ]
    },
    {
      "cell_type": "code",
      "execution_count": null,
      "metadata": {
        "_cell_guid": "5274c395-ff80-a614-09c9-566e143b5e83"
      },
      "outputs": [],
      "source": [
        "predictors = [\"Pclass\", \"Sex\", \"Age\", \"SibSp\", \"Parch\", \"Fare\", \"Embarked\"]"
      ]
    },
    {
      "cell_type": "code",
      "execution_count": null,
      "metadata": {
        "_cell_guid": "b08aa3a2-3e0f-b3e1-b0a8-d2d21daaf18b"
      },
      "outputs": [],
      "source": [
        "alg = LogisticRegression(random_state=1)\n",
        "alg.fit(titanic_train[predictors], titanic_train[\"Survived\"])\n",
        "predictions = alg.predict(titanic_test[predictors])\n"
      ]
    },
    {
      "cell_type": "code",
      "execution_count": null,
      "metadata": {
        "_cell_guid": "72806e84-1d84-7190-5c9f-a4be095aa0b6"
      },
      "outputs": [],
      "source": [
        "submission = pd.DataFrame({\n",
        "        \"PassengerId\": titanic_test[\"PassengerId\"],\n",
        "        \"Survived\": predictions\n",
        "    })\n",
        "submission.to_csv(\"kaggle.csv\", index=False)"
      ]
    }
  ],
  "metadata": {
    "_change_revision": 0,
    "_is_fork": false,
    "kernelspec": {
      "display_name": "Python 3",
      "language": "python",
      "name": "python3"
    },
    "language_info": {
      "codemirror_mode": {
        "name": "ipython",
        "version": 3
      },
      "file_extension": ".py",
      "mimetype": "text/x-python",
      "name": "python",
      "nbconvert_exporter": "python",
      "pygments_lexer": "ipython3",
      "version": "3.6.0"
    }
  },
  "nbformat": 4,
  "nbformat_minor": 0
}