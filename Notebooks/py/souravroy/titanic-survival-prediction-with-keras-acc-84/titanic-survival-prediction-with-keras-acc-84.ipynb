{
  "cells": [
    {
      "cell_type": "markdown",
      "metadata": {
        "_cell_guid": "155ed215-cf6d-3787-edd9-b059c2952332"
      },
      "source": [
        "**Titanic survival prediction with Keras deep learning framework and tensorflow as keras backend .**"
      ]
    },
    {
      "cell_type": "code",
      "execution_count": null,
      "metadata": {
        "_cell_guid": "20aa07d2-0687-f906-c148-3b933a8a06b8"
      },
      "outputs": [],
      "source": [
        "import numpy as np\n",
        "import pandas as pd\n",
        "from subprocess import check_output\n",
        "from sklearn.model_selection import train_test_split\n",
        "from sklearn.preprocessing import LabelEncoder\n",
        "from sklearn import metrics\n",
        "import keras"
      ]
    },
    {
      "cell_type": "code",
      "execution_count": null,
      "metadata": {
        "_cell_guid": "37259d74-21f4-9ae6-5139-5382ab3faca8"
      },
      "outputs": [],
      "source": [
        "df_train = pd.read_csv(\"../input/train.csv\")\n",
        "df_test = pd.read_csv(\"../input/test.csv\")"
      ]
    },
    {
      "cell_type": "code",
      "execution_count": null,
      "metadata": {
        "_cell_guid": "c316f9c2-a0a5-9eab-0b25-2560763d9777"
      },
      "outputs": [],
      "source": [
        "df_train.head(3)"
      ]
    },
    {
      "cell_type": "code",
      "execution_count": null,
      "metadata": {
        "_cell_guid": "1d2f366a-a6c0-22d3-065e-8ed473a6a82d"
      },
      "outputs": [],
      "source": [
        "df_test.head(3)"
      ]
    },
    {
      "cell_type": "code",
      "execution_count": null,
      "metadata": {
        "_cell_guid": "b6c88bf6-8de9-c040-aae5-907f3e8697c8"
      },
      "outputs": [],
      "source": [
        "features_list = list(df_train.columns.values)\n",
        "print(features_list)"
      ]
    },
    {
      "cell_type": "code",
      "execution_count": null,
      "metadata": {
        "_cell_guid": "cc3356ac-e874-68e8-1546-408fe5eb4856"
      },
      "outputs": [],
      "source": [
        "#Use only important features\n",
        "features = ['Pclass','Sex','Age','Fare']"
      ]
    },
    {
      "cell_type": "code",
      "execution_count": null,
      "metadata": {
        "_cell_guid": "8e7f1cba-c8cb-3469-0ae5-b445c4e46d7e"
      },
      "outputs": [],
      "source": [
        "#Processing data\n",
        "le = LabelEncoder()\n",
        "\n",
        "df_train[\"Sex\"] =  le.fit_transform(df_train[\"Sex\"])\n",
        "df_test[\"Sex\"] =  le.fit_transform(df_test[\"Sex\"])\n",
        "\n",
        "df_train['Fare'] = df_train['Fare'].fillna(df_train['Fare'].mean())\n",
        "df_test['Fare'] = df_train['Fare'].fillna(df_train['Fare'].mean())\n",
        "\n",
        "df_train['Age'] = df_train['Age'].fillna(df_train['Age'].mean())\n",
        "df_test['Age'] = df_train['Age'].fillna(df_train['Age'].mean())\n",
        "\n",
        "df_train['Embarked'] = df_train['Embarked'].fillna(\"S\")\n",
        "df_test['Embarked'] = df_test['Embarked'].fillna(\"S\")\n",
        "\n",
        "df_train['Embarked'] = le.fit_transform(df_train['Embarked'])\n",
        "df_test['Embarked'] = le.fit_transform(df_test['Embarked'])\n",
        "\n",
        "df_train['Cabin'] = df_train['Cabin'].fillna(\"None\")\n",
        "df_test['Cabin'] = df_test['Cabin'].fillna(\"None\")\n",
        "df_train['Cabin'] = le.fit_transform(df_train['Cabin'])\n",
        "df_test['Cabin'] = le.fit_transform(df_test['Cabin'])\n",
        "\n",
        "df_train['Ticket'] = le.fit_transform(df_train['Ticket'])\n",
        "df_test['Ticket'] = le.fit_transform(df_test['Ticket'])\n",
        "\n",
        "\n",
        "\n",
        "y = df_train['Survived']\n",
        "x = df_train[features]\n",
        "x_t = df_test[features]"
      ]
    },
    {
      "cell_type": "code",
      "execution_count": null,
      "metadata": {
        "_cell_guid": "4c747053-d9e2-5d77-5708-df4740521cfe"
      },
      "outputs": [],
      "source": [
        "df_train.head(1)"
      ]
    },
    {
      "cell_type": "code",
      "execution_count": null,
      "metadata": {
        "_cell_guid": "fa88d1a3-ca78-9aa9-8955-1805fe3c142f"
      },
      "outputs": [],
      "source": [
        "df_test.head(1)"
      ]
    },
    {
      "cell_type": "code",
      "execution_count": null,
      "metadata": {
        "_cell_guid": "edf5fbed-57ca-0dbe-c20e-cde6f280ff76"
      },
      "outputs": [],
      "source": [
        "df_train.isnull().sum()"
      ]
    },
    {
      "cell_type": "code",
      "execution_count": null,
      "metadata": {
        "_cell_guid": "bdeeeb05-9b23-19df-e50c-792019b9ea14"
      },
      "outputs": [],
      "source": [
        "df_test.isnull().sum()"
      ]
    },
    {
      "cell_type": "code",
      "execution_count": null,
      "metadata": {
        "_cell_guid": "5f7c942a-45cf-f708-00bf-486db3186847"
      },
      "outputs": [],
      "source": [
        "X_train, X_test, y_train, y_test = train_test_split(x, y, test_size=0.10,random_state=32)"
      ]
    },
    {
      "cell_type": "code",
      "execution_count": null,
      "metadata": {
        "_cell_guid": "e39be1ab-6dea-b7f4-a953-1167f372d686"
      },
      "outputs": [],
      "source": [
        "print(\"X_train :\",X_train.shape)\n",
        "print(\"X_test :\",X_test.shape)\n",
        "print(\"y_train :\",y_train.shape)\n",
        "print(\"y_test :\",y_test.shape)"
      ]
    },
    {
      "cell_type": "code",
      "execution_count": null,
      "metadata": {
        "_cell_guid": "4c2a9af0-d650-52a8-1dfa-b22d5bdd2bcf"
      },
      "outputs": [],
      "source": [
        "df_train.head(1)"
      ]
    },
    {
      "cell_type": "code",
      "execution_count": null,
      "metadata": {
        "_cell_guid": "d259801b-6790-2886-46c3-e7d7c1ce036a"
      },
      "outputs": [],
      "source": [
        "df_test.head(1)"
      ]
    },
    {
      "cell_type": "code",
      "execution_count": null,
      "metadata": {
        "_cell_guid": "a4cb4277-6900-2065-b30f-f156bad95a4b"
      },
      "outputs": [],
      "source": [
        "from keras.models import Sequential\n",
        "from keras.layers import Dense,Activation,Dropout\n",
        "from keras.utils import np_utils\n",
        "from keras.optimizers import SGD"
      ]
    },
    {
      "cell_type": "code",
      "execution_count": null,
      "metadata": {
        "_cell_guid": "f2f8ce55-3482-3774-2c14-d8a810832e00"
      },
      "outputs": [],
      "source": [
        "model = Sequential()\n",
        "\n",
        "model.add(Dense(64,input_dim=4))\n",
        "model.add(Activation(\"relu\"))\n",
        "model.add(Dropout(0.3))\n",
        "\n",
        "model.add(Dense(64))\n",
        "model.add(Activation(\"relu\"))\n",
        "model.add(Dropout(0.3))\n",
        "\n",
        "model.add(Dense(2))\n",
        "model.add(Activation(\"softmax\"))"
      ]
    },
    {
      "cell_type": "code",
      "execution_count": null,
      "metadata": {
        "_cell_guid": "cb25d427-996a-4c12-802f-078cd83c417b"
      },
      "outputs": [],
      "source": [
        "model.compile(loss='categorical_crossentropy', optimizer='adam', metrics=['accuracy'])"
      ]
    },
    {
      "cell_type": "code",
      "execution_count": null,
      "metadata": {
        "_cell_guid": "03c1fd03-3564-a81c-733d-25d24f14e091"
      },
      "outputs": [],
      "source": [
        "y_train_categorical = np_utils.to_categorical(y_train)"
      ]
    },
    {
      "cell_type": "code",
      "execution_count": null,
      "metadata": {
        "_cell_guid": "46c08c43-d712-db6e-6b33-b775dcb9953b"
      },
      "outputs": [],
      "source": [
        "a = model.fit(X_train.values, y_train_categorical, nb_epoch=500)"
      ]
    },
    {
      "cell_type": "code",
      "execution_count": null,
      "metadata": {
        "_cell_guid": "318bf290-2206-061c-bf11-39b530ee78f0"
      },
      "outputs": [],
      "source": [
        "y_test_categorical = np_utils.to_categorical(y_test)\n",
        "loss_and_metrics = model.evaluate(X_test.values, y_test_categorical)\n",
        "print(loss_and_metrics)"
      ]
    },
    {
      "cell_type": "code",
      "execution_count": null,
      "metadata": {
        "_cell_guid": "50a69171-8d6d-a8f2-c286-9ab322540970"
      },
      "outputs": [],
      "source": [
        "classes = model.predict_classes(x_t.values)"
      ]
    },
    {
      "cell_type": "code",
      "execution_count": null,
      "metadata": {
        "_cell_guid": "3c352030-3da3-54b6-5755-99fdf01f88d4"
      },
      "outputs": [],
      "source": [
        "submission = pd.DataFrame({\n",
        "    \"PassengerId\": df_test[\"PassengerId\"],\n",
        "    \"Survived\": classes})\n",
        "print(submission[0:10])\n",
        "\n",
        "submission.to_csv('./keras_model_3.csv', index=False)"
      ]
    },
    {
      "cell_type": "code",
      "execution_count": null,
      "metadata": {
        "_cell_guid": "727e1f72-90ea-c824-d1a2-2d0d35a12863"
      },
      "outputs": [],
      "source": [
        ""
      ]
    }
  ],
  "metadata": {
    "_change_revision": 0,
    "_is_fork": false,
    "kernelspec": {
      "display_name": "Python 3",
      "language": "python",
      "name": "python3"
    },
    "language_info": {
      "codemirror_mode": {
        "name": "ipython",
        "version": 3
      },
      "file_extension": ".py",
      "mimetype": "text/x-python",
      "name": "python",
      "nbconvert_exporter": "python",
      "pygments_lexer": "ipython3",
      "version": "3.6.0"
    }
  },
  "nbformat": 4,
  "nbformat_minor": 0
}