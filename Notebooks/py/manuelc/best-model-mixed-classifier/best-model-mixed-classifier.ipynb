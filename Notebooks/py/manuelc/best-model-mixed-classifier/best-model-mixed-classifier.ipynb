{
  "cells": [
    {
      "cell_type": "markdown",
      "metadata": {
        "_cell_guid": "3879b9fa-a33f-c76d-af79-56c688ebe032"
      },
      "source": [
        "# Introduction\n",
        "\n",
        "This notebook is largely inspired from [Sina's notebook](https://www.kaggle.com/sinakhorami/titanic/titanic-best-working-classifier/) about the best working classifier.\n",
        "\n",
        "The aim is here to create a mixed model, and to show that this model outperforms every other classifier.\n",
        "\n",
        "The pre-processing of the data is exactly the same than in Sina's notebook:"
      ]
    },
    {
      "cell_type": "code",
      "execution_count": null,
      "metadata": {
        "_cell_guid": "50706799-1b62-51ff-5dbf-396f04a432e5"
      },
      "outputs": [],
      "source": [
        "import numpy as np\n",
        "import pandas as pd\n",
        "import re as re\n",
        "\n",
        "train = pd.read_csv('../input/train.csv', header=0, dtype={'Age': np.float64})\n",
        "test = pd.read_csv('../input/test.csv', header=0, dtype={'Age': np.float64})\n",
        "full_data = [train, test]\n",
        "\n",
        "### PRE-PROCESSING\n",
        "\n",
        "def get_title(name):\n",
        "    title_search = re.search(' ([A-Za-z]+)\\.', name)\n",
        "    # If the title exists, extract and return it.\n",
        "    if title_search:\n",
        "        return title_search.group(1)\n",
        "    return \"\"\n",
        "\n",
        "for dataset in full_data:\n",
        "    dataset['FamilySize'] = dataset['SibSp'] + dataset['Parch'] + 1\n",
        "    dataset['IsAlone'] = 0\n",
        "    dataset.loc[dataset['FamilySize'] == 1, 'IsAlone'] = 1\n",
        "    dataset['Embarked'] = dataset['Embarked'].fillna('S')\n",
        "    dataset['Fare'] = dataset['Fare'].fillna(train['Fare'].median())\n",
        "    age_avg = dataset['Age'].mean()\n",
        "    age_std = dataset['Age'].std()\n",
        "    age_null_count = dataset['Age'].isnull().sum()\n",
        "    age_null_random_list = np.random.randint(age_avg - age_std, age_avg + age_std, size=age_null_count)\n",
        "    dataset['Age'][np.isnan(dataset['Age'])] = age_null_random_list\n",
        "    dataset['Age'] = dataset['Age'].astype(int)\n",
        "    dataset['Title'] = dataset['Name'].apply(get_title)\n",
        "    dataset['Title'] = dataset['Title'].replace(['Lady', 'Countess', 'Capt', 'Col', \\\n",
        "                                                 'Don', 'Dr', 'Major', 'Rev', 'Sir', 'Jonkheer', 'Dona'], 'Rare')\n",
        "    dataset['Title'] = dataset['Title'].replace('Mlle', 'Miss')\n",
        "    dataset['Title'] = dataset['Title'].replace('Ms', 'Miss')\n",
        "    dataset['Title'] = dataset['Title'].replace('Mme', 'Mrs')\n",
        "    # Mapping Sex\n",
        "    dataset['Sex'] = dataset['Sex'].map({'female': 0, 'male': 1}).astype(int)\n",
        "\n",
        "    # Mapping titles\n",
        "    title_mapping = {\"Mr\": 1, \"Miss\": 2, \"Mrs\": 3, \"Master\": 4, \"Rare\": 5}\n",
        "    dataset['Title'] = dataset['Title'].map(title_mapping)\n",
        "    dataset['Title'] = dataset['Title'].fillna(0)\n",
        "\n",
        "    # Mapping Embarked\n",
        "    dataset['Embarked'] = dataset['Embarked'].map({'S': 0, 'C': 1, 'Q': 2}).astype(int)\n",
        "\n",
        "    # Mapping Fare\n",
        "    dataset.loc[dataset['Fare'] <= 10, 'Fare'] = 0\n",
        "    dataset.loc[(dataset['Fare'] > 10) & (dataset['Fare'] <= 20), 'Fare'] = 1\n",
        "    dataset.loc[(dataset['Fare'] > 20) & (dataset['Fare'] <= 30), 'Fare'] = 2\n",
        "    dataset.loc[dataset['Fare'] > 30, 'Fare'] = 3\n",
        "    dataset['Fare'] = dataset['Fare'].astype(int)\n",
        "\n",
        "    # Mapping Age\n",
        "    dataset.loc[dataset['Age'] <= 16, 'Age'] = 0\n",
        "    dataset.loc[(dataset['Age'] > 16) & (dataset['Age'] <= 32), 'Age'] = 1\n",
        "    dataset.loc[(dataset['Age'] > 32) & (dataset['Age'] <= 48), 'Age'] = 2\n",
        "    dataset.loc[(dataset['Age'] > 48) & (dataset['Age'] <= 64), 'Age'] = 3\n",
        "    dataset.loc[dataset['Age'] > 64, 'Age'] = 4\n",
        "\n",
        "train['CategoricalFare'] = pd.cut(train['Fare'], 4)\n",
        "train['CategoricalAge'] = pd.cut(train['Age'], 5)\n",
        "\n",
        "# Feature Selection\n",
        "drop_elements = ['PassengerId', 'Name', 'Ticket', 'Cabin', 'SibSp',\\\n",
        "                 'Parch', 'FamilySize']\n",
        "train = train.drop(drop_elements, axis = 1)\n",
        "train = train.drop(['CategoricalAge', 'CategoricalFare'], axis = 1)\n",
        "test = test.drop(drop_elements, axis = 1)\n",
        "train = train.values\n",
        "test = test.values"
      ]
    },
    {
      "cell_type": "markdown",
      "metadata": {
        "_cell_guid": "acc6d183-4b05-65e8-1fba-d37e1dd3e94c"
      },
      "source": [
        "And here we add the relevant point, the mixing function:"
      ]
    },
    {
      "cell_type": "code",
      "execution_count": null,
      "metadata": {
        "_cell_guid": "db82399c-9542-2603-0f6b-d8fb04a6a1d6",
        "collapsed": true
      },
      "outputs": [],
      "source": [
        "from scipy.optimize import minimize\n",
        "\n",
        "def mix(x):\n",
        "    n_methods = len(classifiers)\n",
        "    y_mix = [np.multiply(x[i], y_[i]) for i in range(n_methods)]\n",
        "    y_mix = np.sum(y_mix, axis=0)\n",
        "    y_mix = np.array([round(y).astype(int) for y in y_mix])\n",
        "    acc = accuracy_score(y_test, y_mix)\n",
        "    return -acc"
      ]
    },
    {
      "cell_type": "markdown",
      "metadata": {
        "_cell_guid": "58357128-1df0-329f-050d-d8b66f237d64"
      },
      "source": [
        "Since we want to minimize this function, we let it return the opposite of the accuracy. $x$ is a vector containing the weights of the different classifiers.\n",
        "\n",
        "The rest is exactly the same as in the previous notebook, excepted some details I commented:"
      ]
    },
    {
      "cell_type": "code",
      "execution_count": null,
      "metadata": {
        "_cell_guid": "23d7c458-d535-d85b-42f9-cdd9368ac366"
      },
      "outputs": [],
      "source": [
        "import matplotlib.pyplot as plt\n",
        "import seaborn as sns\n",
        "\n",
        "from sklearn.model_selection import StratifiedShuffleSplit\n",
        "from sklearn.metrics import accuracy_score, log_loss\n",
        "from sklearn.neighbors import KNeighborsClassifier\n",
        "from sklearn.svm import SVC\n",
        "from sklearn.tree import DecisionTreeClassifier\n",
        "from sklearn.ensemble import RandomForestClassifier, AdaBoostClassifier, GradientBoostingClassifier\n",
        "from sklearn.naive_bayes import GaussianNB\n",
        "from sklearn.discriminant_analysis import LinearDiscriminantAnalysis, QuadraticDiscriminantAnalysis\n",
        "from sklearn.linear_model import LogisticRegression\n",
        "\n",
        "classifiers = [\n",
        "    KNeighborsClassifier(3),\n",
        "    SVC(probability=True),\n",
        "    DecisionTreeClassifier(),\n",
        "    RandomForestClassifier(),\n",
        "    AdaBoostClassifier(),\n",
        "    GradientBoostingClassifier(),\n",
        "    GaussianNB(),\n",
        "    LinearDiscriminantAnalysis(),\n",
        "    QuadraticDiscriminantAnalysis(),\n",
        "    LogisticRegression()]\n",
        "\n",
        "log_cols = [\"Classifier\", \"Accuracy\"]\n",
        "log = pd.DataFrame(columns=log_cols)\n",
        "\n",
        "sss = StratifiedShuffleSplit(n_splits=10, test_size=0.1, random_state=0)\n",
        "\n",
        "X = train[0::, 1::]\n",
        "y = train[0::, 0]\n",
        "\n",
        "acc_dict = {}\n",
        "x0 = [1 / len(classifiers)]*len(classifiers)\n",
        "\n",
        "\n",
        "for train_index, test_index in sss.split(X, y):\n",
        "    X_train, X_test = X[train_index], X[test_index]\n",
        "    y_train, y_test = y[train_index], y[test_index]\n",
        "    y_ = [] # array of predictions from the classifiers\n",
        "\n",
        "    for clf in classifiers:\n",
        "        name = clf.__class__.__name__\n",
        "        clf.fit(X_train, y_train)\n",
        "        train_predictions = clf.predict(X_test)\n",
        "        acc = accuracy_score(y_test, train_predictions)\n",
        "        y_.append(train_predictions) # prediction of current classifier appended\n",
        "        if name in acc_dict:\n",
        "            acc_dict[name] += acc\n",
        "        else:\n",
        "            acc_dict[name] = acc\n",
        "\n",
        "    # Computing mixed model\n",
        "    res = minimize(mix, x0, bounds=[(0, 1)] * len(classifiers))\n",
        "    weights = res.x\n",
        "    acc = -res.fun # best accuracy reached through mixing\n",
        "    if 'mix' in acc_dict:\n",
        "        acc_dict['mix'] += acc\n",
        "    else:\n",
        "        acc_dict['mix'] = acc\n",
        "\n",
        "for clf in acc_dict:\n",
        "    acc_dict[clf] = acc_dict[clf] / 10.0\n",
        "    log_entry = pd.DataFrame([[clf, acc_dict[clf]]], columns=log_cols)\n",
        "    log = log.append(log_entry)\n",
        "\n",
        "plt.xlabel('Accuracy')\n",
        "plt.title('Classifier Accuracy')\n",
        "\n",
        "sns.set_color_codes(\"muted\")\n",
        "sns.barplot(x='Accuracy', y='Classifier', data=log, color=\"b\")\n",
        "\n",
        "plt.show()"
      ]
    },
    {
      "cell_type": "markdown",
      "metadata": {
        "_cell_guid": "64897244-3aff-026a-45f3-22ad82e301f0"
      },
      "source": [
        "# Conclusion\n",
        "\n",
        "The (optimally) mixed model outperforms every single model. SVC, the best single classifier, reaches an accuracy of 81.89% vs. 82.89% for our mixed model. "
      ]
    },
    {
      "cell_type": "code",
      "execution_count": null,
      "metadata": {
        "_cell_guid": "50ba00e4-12b9-f2cf-1e8e-aac3c68b0ea3"
      },
      "outputs": [],
      "source": ""
    }
  ],
  "metadata": {
    "_change_revision": 0,
    "_is_fork": false,
    "kernelspec": {
      "display_name": "Python 3",
      "language": "python",
      "name": "python3"
    },
    "language_info": {
      "codemirror_mode": {
        "name": "ipython",
        "version": 3
      },
      "file_extension": ".py",
      "mimetype": "text/x-python",
      "name": "python",
      "nbconvert_exporter": "python",
      "pygments_lexer": "ipython3",
      "version": "3.5.2"
    }
  },
  "nbformat": 4,
  "nbformat_minor": 0
}