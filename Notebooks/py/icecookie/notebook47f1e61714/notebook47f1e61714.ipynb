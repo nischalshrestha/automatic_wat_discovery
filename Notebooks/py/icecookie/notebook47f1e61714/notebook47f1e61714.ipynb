{
  "cells": [
    {
      "cell_type": "code",
      "execution_count": null,
      "metadata": {
        "_cell_guid": "1f86548d-8d2b-abb6-14a0-f1841c3c70cd"
      },
      "outputs": [],
      "source": [
        "from sklearn.linear_model import LinearRegression, LogisticRegression\n",
        "from sklearn import cross_validation as cv\n",
        "from sklearn.grid_search import GridSearchCV\n",
        "#%matplotlib inline\n",
        "import matplotlib.pyplot as plt\n",
        "import numpy as np\n",
        "import pandas as pd\n",
        "import seaborn as sns\n",
        "import matplotlib.pyplot as plt"
      ]
    },
    {
      "cell_type": "code",
      "execution_count": null,
      "metadata": {
        "_cell_guid": "d7eb5068-bef1-024b-5681-f0f4eb2b69f6"
      },
      "outputs": [],
      "source": [
        "train = pd.read_csv('../input/train.csv')\n",
        "examples = len(train.index)\n",
        "print('in train.csv' , examples, 'elements')\n",
        "header_list = list(train.columns)\n",
        "print('Header in train.csv', header_list )\n",
        "train['Sex'] = train.Sex.map({'male': 0, 'female': 1})"
      ]
    },
    {
      "cell_type": "code",
      "execution_count": null,
      "metadata": {
        "_cell_guid": "c0a8f082-bbc6-28ed-efe9-ca363319a75f"
      },
      "outputs": [],
      "source": [
        "train = train.drop(['Ticket','Cabin','Embarked'], axis=1)\n",
        "train = train.dropna()\n",
        "median_age = train['Age'].dropna().median()\n",
        "\n",
        "if len(train.Age[ train.Age.isnull() ]) > 0:\n",
        "\n",
        "    train.loc[ (train.Age.isnull()), 'Age'] = median_age\n",
        "    \n",
        "header_list = list(train.columns)\n",
        "print('Header in train.csv', header_list )\n",
        "print(train)"
      ]
    },
    {
      "cell_type": "code",
      "execution_count": null,
      "metadata": {
        "_cell_guid": "4814638f-4c93-6b26-c781-fe76b0ac7bba"
      },
      "outputs": [],
      "source": [
        "feature_labels = [ 'Pclass',  'Sex', 'Parch','SibSp','Age']\n",
        "idx = train[feature_labels].dropna().index\n",
        "X = train.loc[idx, feature_labels].values\n",
        "y = train.Survived.loc[idx]    "
      ]
    },
    {
      "cell_type": "code",
      "execution_count": null,
      "metadata": {
        "_cell_guid": "21062013-11e8-dbe3-7646-d8f79c7bbbd5"
      },
      "outputs": [],
      "source": [
        "test = pd.read_csv('../input/test.csv')\n",
        "\n",
        "test['Sex'] = test.Sex.map({'male': 0, 'female': 1})\n",
        "test = test.dropna()\n",
        "\n",
        "median_age_2 = test['Age'].dropna().median()\n",
        "if len(test.Age[ test.Age.isnull() ]) > 0:\n",
        "    train.loc[ (test.Age.isnull()), 'Age'] = median_age_2\n",
        "    \n",
        "print(test)"
      ]
    },
    {
      "cell_type": "code",
      "execution_count": null,
      "metadata": {
        "_cell_guid": "efadb56e-57d2-f238-77f6-fcb00f074bb3"
      },
      "outputs": [],
      "source": [
        "clf = LogisticRegression()\n",
        "clf.fit(X, y)\n",
        "yhats = {}\n",
        "yhats['yhat_logistic_0'] = clf.predict(test[feature_labels].values)\n",
        "print(\"Training Score: \", clf.score(X, y))"
      ]
    }
  ],
  "metadata": {
    "_change_revision": 0,
    "_is_fork": false,
    "kernelspec": {
      "display_name": "Python 3",
      "language": "python",
      "name": "python3"
    },
    "language_info": {
      "codemirror_mode": {
        "name": "ipython",
        "version": 3
      },
      "file_extension": ".py",
      "mimetype": "text/x-python",
      "name": "python",
      "nbconvert_exporter": "python",
      "pygments_lexer": "ipython3",
      "version": "3.5.2"
    }
  },
  "nbformat": 4,
  "nbformat_minor": 0
}