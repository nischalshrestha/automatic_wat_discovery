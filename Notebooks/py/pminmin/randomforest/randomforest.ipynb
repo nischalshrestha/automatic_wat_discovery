{
  "cells": [
    {
      "cell_type": "code",
      "execution_count": null,
      "metadata": {
        "_cell_guid": "2c857a8e-4950-b86d-c92d-c585f5a82052"
      },
      "outputs": [],
      "source": [
        "# remove warnings\n",
        "import warnings\n",
        "warnings.filterwarnings('ignore')\n",
        "# ---\n",
        "%matplotlib inline\n",
        "import pandas as pd\n",
        "pd.options.display.max_columns = 100\n",
        "from matplotlib import pyplot as plt\n",
        "import matplotlib\n",
        "matplotlib.style.use('ggplot')\n",
        "import numpy as np\n",
        "pd.options.display.max_rows = 100"
      ]
    },
    {
      "cell_type": "code",
      "execution_count": null,
      "metadata": {
        "_cell_guid": "e540b1bd-f537-4622-9861-dccde6498636"
      },
      "outputs": [],
      "source": [
        "def status(feature):\n",
        "    print('Processing', feature, ':OK')"
      ]
    },
    {
      "cell_type": "code",
      "execution_count": null,
      "metadata": {
        "_cell_guid": "2d79523a-12e1-e1e0-43c9-b7270c38eaf4"
      },
      "outputs": [],
      "source": [
        "def get_combined_data():\n",
        "    train = pd.read_csv('../input/train.csv')\n",
        "    test = pd.read_csv('../input/test.csv')\n",
        "    targets = train.Survived # extracting and removing the targets from training data\n",
        "    train.drop(['Survived'], 1, inplace=True)\n",
        "    \n",
        "    combined = train.append(test)\n",
        "    combined.reset_index(inplace=True)\n",
        "    combined.drop('index', inplace=True, axis=1)\n",
        "    return combined"
      ]
    },
    {
      "cell_type": "code",
      "execution_count": null,
      "metadata": {
        "_cell_guid": "afba040d-5c4c-4a61-32b3-47b5e48da00c"
      },
      "outputs": [],
      "source": [
        "combined = get_combined_data()"
      ]
    },
    {
      "cell_type": "code",
      "execution_count": null,
      "metadata": {
        "_cell_guid": "14b20b8b-16e5-2409-5e8f-78aa2672c4d6"
      },
      "outputs": [],
      "source": [
        "combined.shape"
      ]
    },
    {
      "cell_type": "markdown",
      "metadata": {
        "_cell_guid": "a3d7ec2a-77c9-7bce-6580-85be25338469"
      },
      "source": [
        "**Extracing the passenger titles**"
      ]
    },
    {
      "cell_type": "code",
      "execution_count": null,
      "metadata": {
        "_cell_guid": "9c55e28f-62ce-4aee-aac1-74277eec60b6"
      },
      "outputs": [],
      "source": [
        "def get_titles():\n",
        "    global combined\n",
        "    combined['Title'] = combined['Name'].map(lambda name:name.split(',')[1].split('.')[0].strip())\n",
        "    Title_Dictionary = {\n",
        "        'Capt':    'Officer',\n",
        "        'Col':     'Officer',\n",
        "        'Major':   'Officer',\n",
        "        'Jonkheer':'Royalty',\n",
        "        'Don':     'Royalty',\n",
        "        'Sir':     'Royalty',\n",
        "        'Dr':      'Officer',\n",
        "        'Rev':     'Officer',\n",
        "        'the Countess':'Royalty',\n",
        "        'Dona':    'Royalty',\n",
        "        'Mme':'Mrs',\n",
        "        'Mlle':'Miss',\n",
        "        'Ms':'Mrs',\n",
        "        'Mr':'Mr',\n",
        "        'Mrs':'Mrs',\n",
        "        'Miss':'Miss',\n",
        "        'Master':'Master',\n",
        "        'Lady':'Royalty'\n",
        "    }\n",
        "    combined['Title'] = combined.Title.map(Title_Dictionary)\n",
        "    combined.drop('Name', 1, inplace=True)"
      ]
    },
    {
      "cell_type": "code",
      "execution_count": null,
      "metadata": {
        "_cell_guid": "408428c2-c2db-9017-5df2-0b799940cba3"
      },
      "outputs": [],
      "source": [
        "get_titles()\n",
        "combined.head(5)"
      ]
    },
    {
      "cell_type": "markdown",
      "metadata": {
        "_cell_guid": "3a081f8c-cafb-8393-f74c-d60b7533f9f2"
      },
      "source": [
        "**Processing the ages**"
      ]
    },
    {
      "cell_type": "code",
      "execution_count": null,
      "metadata": {
        "_cell_guid": "521dea77-a3de-16e7-672f-7bddcc0a0008"
      },
      "outputs": [],
      "source": [
        "grouped = combined.groupby(['Sex','Pclass','Title'])\n",
        "grouped.median()"
      ]
    },
    {
      "cell_type": "code",
      "execution_count": null,
      "metadata": {
        "_cell_guid": "0a88edc7-4181-31be-d4cc-0e870600cb5f"
      },
      "outputs": [],
      "source": [
        "def process_age():\n",
        "    \n",
        "    global combined\n",
        "    \n",
        "    # a function that fills the missing values of the Age variable\n",
        "    \n",
        "    def fillAges(row):\n",
        "        if row['Sex']=='female' and row['Pclass'] == 1:\n",
        "            if row['Title'] == 'Miss':\n",
        "                return 30\n",
        "            elif row['Title'] == 'Mrs':\n",
        "                return 45\n",
        "            elif row['Title'] == 'Officer':\n",
        "                return 49\n",
        "            elif row['Title'] == 'Royalty':\n",
        "                return 39\n",
        "\n",
        "        elif row['Sex']=='female' and row['Pclass'] == 2:\n",
        "            if row['Title'] == 'Miss':\n",
        "                return 20\n",
        "            elif row['Title'] == 'Mrs':\n",
        "                return 30\n",
        "\n",
        "        elif row['Sex']=='female' and row['Pclass'] == 3:\n",
        "            if row['Title'] == 'Miss':\n",
        "                return 18\n",
        "            elif row['Title'] == 'Mrs':\n",
        "                return 31\n",
        "\n",
        "        elif row['Sex']=='male' and row['Pclass'] == 1:\n",
        "            if row['Title'] == 'Master':\n",
        "                return 6\n",
        "            elif row['Title'] == 'Mr':\n",
        "                return 41.5\n",
        "            elif row['Title'] == 'Officer':\n",
        "                return 52\n",
        "            elif row['Title'] == 'Royalty':\n",
        "                return 40\n",
        "\n",
        "        elif row['Sex']=='male' and row['Pclass'] == 2:\n",
        "            if row['Title'] == 'Master':\n",
        "                return 2\n",
        "            elif row['Title'] == 'Mr':\n",
        "                return 30\n",
        "            elif row['Title'] == 'Officer':\n",
        "                return 41.5\n",
        "\n",
        "        elif row['Sex']=='male' and row['Pclass'] == 3:\n",
        "            if row['Title'] == 'Master':\n",
        "                return 6\n",
        "            elif row['Title'] == 'Mr':\n",
        "                return 26\n",
        "    combined.Age = combined.apply(lambda r: fillAges(r) if np.isnan(r['Age']) else r['Age'], axis=1)\n",
        "    status('age')"
      ]
    },
    {
      "cell_type": "code",
      "execution_count": null,
      "metadata": {
        "_cell_guid": "2a96118e-6f51-2d09-0357-11ee912e4d29"
      },
      "outputs": [],
      "source": [
        "process_age()\n",
        "combined.info()"
      ]
    },
    {
      "cell_type": "code",
      "execution_count": null,
      "metadata": {
        "_cell_guid": "00d35da5-f09e-b25a-28be-eaebe881a2ce"
      },
      "outputs": [],
      "source": [
        "def process_names():\n",
        "    global combined\n",
        "    titles_dummies = pd.get_dummies(combined['Title'], prefix='Title')\n",
        "    combined = pd.concat([combined, titles_dummies], axis=1)\n",
        "    combined.drop('Title', axis=1, inplace=True)\n",
        "    status('Name')"
      ]
    },
    {
      "cell_type": "code",
      "execution_count": null,
      "metadata": {
        "_cell_guid": "943f2598-d2c6-8cf3-e391-964a2b20a58f"
      },
      "outputs": [],
      "source": [
        "process_names()\n",
        "combined.head(5)"
      ]
    },
    {
      "cell_type": "code",
      "execution_count": null,
      "metadata": {
        "_cell_guid": "6c7514ac-603a-6aed-3128-58c5502423e2"
      },
      "outputs": [],
      "source": [
        "def process_fare():\n",
        "    global combined\n",
        "    combined.Fare.fillna(combined.Fare.mean(), inplace=True)\n",
        "    status('fare')"
      ]
    },
    {
      "cell_type": "code",
      "execution_count": null,
      "metadata": {
        "_cell_guid": "084a0bd2-1259-5eef-973d-fe73eb0e8b81"
      },
      "outputs": [],
      "source": [
        "process_fare()"
      ]
    },
    {
      "cell_type": "code",
      "execution_count": null,
      "metadata": {
        "_cell_guid": "42fd7cb3-4b3c-2c99-4b7b-fe2564085b61"
      },
      "outputs": [],
      "source": [
        "def process_embarked():\n",
        "    global combined\n",
        "    combined.Embarked.fillna('S', inplace=True)\n",
        "    # dummy encoding\n",
        "    embarked_dummies = pd.get_dummies(combined['Embarked'], prefix='Embarked')\n",
        "    combined = pd.concat([combined, embarked_dummies], axis=1)\n",
        "    combined.drop('Embarked', axis=1, inplace=True)\n",
        "    status('Embarked')"
      ]
    },
    {
      "cell_type": "code",
      "execution_count": null,
      "metadata": {
        "_cell_guid": "43c86a2d-87bc-4328-9b23-e3fc0aafb82d"
      },
      "outputs": [],
      "source": [
        "process_embarked()"
      ]
    },
    {
      "cell_type": "code",
      "execution_count": null,
      "metadata": {
        "_cell_guid": "ff9e9289-b923-f251-347c-5536a301bd19"
      },
      "outputs": [],
      "source": [
        "def process_cabin():\n",
        "    global combined\n",
        "    combined.Cabin.fillna('U', inplace=True)\n",
        "    # mapping each \n",
        "    combined['Cabin'] = combined['Cabin'].map(lambda c : c[0])\n",
        "    # dummy encoding\n",
        "    cabin_dummies = pd.get_dummies(combined['Cabin'], prefix='Cabin')\n",
        "    combined = pd.concat([combined, cabin_dummies], axis=1)\n",
        "    combined.drop('Cabin', axis=1, inplace=True)\n",
        "    status('Cabin')"
      ]
    },
    {
      "cell_type": "code",
      "execution_count": null,
      "metadata": {
        "_cell_guid": "77f4c3c2-3b37-cd3a-afbf-d44d9289eefd"
      },
      "outputs": [],
      "source": [
        "process_cabin()\n",
        "combined.head(5)"
      ]
    },
    {
      "cell_type": "code",
      "execution_count": null,
      "metadata": {
        "_cell_guid": "fbb19270-441b-70de-4998-5bde693b547d"
      },
      "outputs": [],
      "source": [
        "def process_sex():\n",
        "    global combined\n",
        "    combined['Sex'] = combined['Sex'].map({'male':0, 'female':1})\n",
        "    status('sex')"
      ]
    },
    {
      "cell_type": "code",
      "execution_count": null,
      "metadata": {
        "_cell_guid": "c6da9e1f-587a-f293-725d-329bfda731cf"
      },
      "outputs": [],
      "source": [
        "process_sex()"
      ]
    },
    {
      "cell_type": "code",
      "execution_count": null,
      "metadata": {
        "_cell_guid": "512b84e5-334c-234d-e6e0-f1f38d4fab68"
      },
      "outputs": [],
      "source": [
        "def process_pclass():\n",
        "    global combined\n",
        "    pclass_dummies = pd.get_dummies(combined['Pclass'], prefix='Pclass')\n",
        "    combined = pd.concat([combined, pclass_dummies], axis=1)\n",
        "    combined.drop('Pclass', axis=1, inplace=True)\n",
        "    status('pclass')"
      ]
    },
    {
      "cell_type": "code",
      "execution_count": null,
      "metadata": {
        "_cell_guid": "179e8d54-6ab5-b9b9-2fdb-150e2adadcf7"
      },
      "outputs": [],
      "source": [
        "process_pclass()"
      ]
    },
    {
      "cell_type": "code",
      "execution_count": null,
      "metadata": {
        "_cell_guid": "1a85909c-8f1c-784c-f8a3-ea8b3249a126"
      },
      "outputs": [],
      "source": [
        "def process_ticket():\n",
        "    global combined\n",
        "    # a function that extracts each prefix of the ticket, returns 'XXX' if no prefix\n",
        "    def cleanTicket(ticket):\n",
        "        ticket = ticket.replace('.','')\n",
        "        ticket = ticket.replace('/','')\n",
        "        ticket = map(lambda t : t.strip(), ticket)\n",
        "        # print(type(ticket))\n",
        "        ticket = list(filter(lambda t : not t.isdigit(), ticket))\n",
        "        if len(ticket) > 0:\n",
        "            return ticket[0]\n",
        "        else:\n",
        "            return 'XXX'\n",
        "    # extracing dummy variables from tickets\n",
        "    combined['Ticket'] = combined['Ticket'].map(cleanTicket)\n",
        "    tickets_dummies = pd.get_dummies(combined['Ticket'], prefix='Ticket')\n",
        "    combined = pd.concat([combined, tickets_dummies], axis=1)\n",
        "    combined.drop('Ticket', inplace=True, axis=1)\n",
        "    status('Ticket')"
      ]
    },
    {
      "cell_type": "code",
      "execution_count": null,
      "metadata": {
        "_cell_guid": "07d5b722-84e8-3e74-9194-d8c3124e19df"
      },
      "outputs": [],
      "source": [
        "process_ticket()\n",
        "combined.head(5)"
      ]
    },
    {
      "cell_type": "code",
      "execution_count": null,
      "metadata": {
        "_cell_guid": "c1c2259b-6a6e-07c8-55a8-349344dad77b"
      },
      "outputs": [],
      "source": [
        "def process_family():\n",
        "    global combined\n",
        "    combined['FamilySize'] = combined['Parch'] + combined['SibSp'] + 1\n",
        "    \n",
        "    combined['Singleton'] = combined['FamilySize'].map(lambda s : 1 if s == 1 else 0)\n",
        "    combined['SmallFamily'] = combined['FamilySize'].map(lambda s : 1 if 2<=s<=4 else 0)\n",
        "    combined['BigFamily'] = combined['FamilySize'].map(lambda s : 1 if s > 4 else 0)\n",
        "    status('family')"
      ]
    },
    {
      "cell_type": "code",
      "execution_count": null,
      "metadata": {
        "_cell_guid": "85dad349-9adc-0dc3-9fc6-34039c33a221"
      },
      "outputs": [],
      "source": [
        "process_family()\n",
        "combined.shape\n",
        "combined.head(5)"
      ]
    },
    {
      "cell_type": "code",
      "execution_count": null,
      "metadata": {
        "_cell_guid": "4655a58d-4296-e5fc-3ed0-e4f62a429979"
      },
      "outputs": [],
      "source": [
        "def scale_all_features():\n",
        "    global combined\n",
        "    features = list(combined.columns)\n",
        "    features.remove('PassengerId')\n",
        "    combined[features] = combined[features].apply(lambda x : x/x.max(), axis=0)\n",
        "    print('Features scaled successfully!')"
      ]
    },
    {
      "cell_type": "code",
      "execution_count": null,
      "metadata": {
        "_cell_guid": "547636ed-856f-b207-eb0a-3de956f881e4"
      },
      "outputs": [],
      "source": [
        "scale_all_features()\n",
        "combined.head(5)"
      ]
    },
    {
      "cell_type": "code",
      "execution_count": null,
      "metadata": {
        "_cell_guid": "f21ec1fc-c4ad-114f-7a3b-e51e898588c1"
      },
      "outputs": [],
      "source": [
        "from sklearn.pipeline import make_pipeline\n",
        "from sklearn.ensemble import RandomForestClassifier\n",
        "from sklearn.feature_selection import SelectKBest\n",
        "from sklearn.cross_validation import StratifiedKFold\n",
        "from sklearn.grid_search import GridSearchCV\n",
        "from sklearn.ensemble.gradient_boosting import GradientBoostingClassifier\n",
        "from sklearn.cross_validation import cross_val_score"
      ]
    },
    {
      "cell_type": "code",
      "execution_count": null,
      "metadata": {
        "_cell_guid": "22a1b5f5-e489-d3a3-2840-b8b18abb76a3"
      },
      "outputs": [],
      "source": [
        "def compute_score(clf, X, y, scoring='accuracy'):\n",
        "    xval = cross_val_score(clf, X, y, cv=5, scoring=scoring)\n",
        "    return np.mean(xval)"
      ]
    },
    {
      "cell_type": "code",
      "execution_count": null,
      "metadata": {
        "_cell_guid": "8226d585-796e-8e9d-ddd2-1152c96d3cf1"
      },
      "outputs": [],
      "source": [
        "def recover_train_test_target():\n",
        "    global combined\n",
        "    train0 = pd.read_csv('../input/train.csv')\n",
        "    targets = train0.Survived\n",
        "    train = combined.ix[0:890]\n",
        "    test = combined.ix[891:]\n",
        "    return train, test, targets"
      ]
    },
    {
      "cell_type": "code",
      "execution_count": null,
      "metadata": {
        "_cell_guid": "5892b378-aaac-cb31-f713-6b1c2a7e2524"
      },
      "outputs": [],
      "source": [
        "train, test, targets = recover_train_test_target()"
      ]
    },
    {
      "cell_type": "code",
      "execution_count": null,
      "metadata": {
        "_cell_guid": "06dcb450-b8fe-0785-d74e-254b841e1243"
      },
      "outputs": [],
      "source": [
        "from sklearn.ensemble import ExtraTreesClassifier\n",
        "from sklearn.feature_selection import SelectFromModel\n",
        "clf = ExtraTreesClassifier(n_estimators=200)\n",
        "clf = clf.fit(train, targets)"
      ]
    },
    {
      "cell_type": "code",
      "execution_count": null,
      "metadata": {
        "_cell_guid": "5f51b790-478d-ddf6-84be-877567078ff2"
      },
      "outputs": [],
      "source": [
        "features = pd.DataFrame()\n",
        "features['feature'] = train.columns\n",
        "features['importance'] = clf.feature_importances_\n",
        "features.sort(['importance'], ascending=False)"
      ]
    },
    {
      "cell_type": "code",
      "execution_count": null,
      "metadata": {
        "_cell_guid": "21a2281d-d8c8-1677-90eb-fc9d4297990a"
      },
      "outputs": [],
      "source": [
        "# do feature selection\n",
        "model = SelectFromModel(clf, prefit=True)\n",
        "train_new = model.transform(train)\n",
        "train_new.shape"
      ]
    },
    {
      "cell_type": "code",
      "execution_count": null,
      "metadata": {
        "_cell_guid": "967a0968-c80f-dec3-e549-50abcbd7c06e"
      },
      "outputs": [],
      "source": [
        "test_new = model.transform(test)\n",
        "test_new.shape"
      ]
    },
    {
      "cell_type": "code",
      "execution_count": null,
      "metadata": {
        "_cell_guid": "afa7414c-548c-1655-0d2c-2c0b56cdde4a"
      },
      "outputs": [],
      "source": [
        "forest = RandomForestClassifier(max_features='sqrt')\n",
        "parameter_grid = {\n",
        "    'max_depth' : [4,5,6,7,8],\n",
        "    'n_estimators' : [200, 300, 400],\n",
        "    'criterion' : ['gini', 'entropy']\n",
        "}\n",
        "cross_validation = StratifiedKFold(targets, n_folds=5)\n",
        "grid_search = GridSearchCV(forest, param_grid=parameter_grid, cv=cross_validation)\n",
        "grid_search.fit(train_new, targets)\n",
        "\n",
        "print('Best score : {}'.format(grid_search.best_score_))\n",
        "print('Best parameters : {}'.format(grid_search.best_params_))"
      ]
    },
    {
      "cell_type": "code",
      "execution_count": null,
      "metadata": {
        "_cell_guid": "8a22a456-bfcf-bf0a-fe50-a2501e2c7f36"
      },
      "outputs": [],
      "source": [
        "pipeline = grid_search\n",
        "output = pipeline.predict(test_new).astype(int)\n",
        "df_output = pd.DataFrame()\n",
        "df_output['PassengerId'] = test['PassengerId']\n",
        "df_output['Survived'] = output\n",
        "df_output[['PassengerId', 'Survived']].to_csv('output.csv', index=False)"
      ]
    }
  ],
  "metadata": {
    "_change_revision": 0,
    "_is_fork": false,
    "kernelspec": {
      "display_name": "Python 3",
      "language": "python",
      "name": "python3"
    },
    "language_info": {
      "codemirror_mode": {
        "name": "ipython",
        "version": 3
      },
      "file_extension": ".py",
      "mimetype": "text/x-python",
      "name": "python",
      "nbconvert_exporter": "python",
      "pygments_lexer": "ipython3",
      "version": "3.6.0"
    }
  },
  "nbformat": 4,
  "nbformat_minor": 0
}