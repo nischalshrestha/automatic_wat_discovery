{
  "cells": [
    {
      "cell_type": "code",
      "execution_count": null,
      "metadata": {
        "_cell_guid": "2de1f698-2d8c-4635-e157-ec54169eff36"
      },
      "outputs": [],
      "source": [
        "import pandas as pd\n",
        "import numpy as np"
      ]
    },
    {
      "cell_type": "code",
      "execution_count": null,
      "metadata": {
        "_cell_guid": "31dd3a39-347f-58a0-1068-9ab158d18962"
      },
      "outputs": [],
      "source": [
        "import matplotlib.pyplot as plt\n",
        "%matplotlib inline\n",
        "import seaborn as sns"
      ]
    },
    {
      "cell_type": "code",
      "execution_count": null,
      "metadata": {
        "_cell_guid": "6982e69a-9a98-2838-ec52-0584d0aa2974"
      },
      "outputs": [],
      "source": [
        "from sklearn.preprocessing import StandardScaler\n",
        "from sklearn.linear_model import LogisticRegression\n",
        "from sklearn.ensemble import RandomForestClassifier\n",
        "from sklearn import svm\n",
        "from sklearn.grid_search import GridSearchCV\n",
        "from sklearn.metrics import precision_recall_curve\n",
        "from sklearn.cross_validation import train_test_split"
      ]
    },
    {
      "cell_type": "code",
      "execution_count": null,
      "metadata": {
        "_cell_guid": "31352054-9df9-d4eb-125f-2a47e4672757"
      },
      "outputs": [],
      "source": [
        "train = pd.read_csv('../input/train.csv')\n",
        "test = pd.read_csv('../input/test.csv')"
      ]
    },
    {
      "cell_type": "code",
      "execution_count": null,
      "metadata": {
        "_cell_guid": "faa7ff4e-8cc9-7d81-2611-b09d28859245"
      },
      "outputs": [],
      "source": [
        "train.tail()"
      ]
    },
    {
      "cell_type": "code",
      "execution_count": null,
      "metadata": {
        "_cell_guid": "418ab581-915d-d6c4-dd4a-8c9522049054"
      },
      "outputs": [],
      "source": [
        "test.tail()"
      ]
    },
    {
      "cell_type": "code",
      "execution_count": null,
      "metadata": {
        "_cell_guid": "2c9fe7bc-b9f5-e16c-81d7-5d513fa27335"
      },
      "outputs": [],
      "source": [
        "train.info()"
      ]
    },
    {
      "cell_type": "code",
      "execution_count": null,
      "metadata": {
        "_cell_guid": "3f72ac0d-c36b-a320-01f3-9342ab335301"
      },
      "outputs": [],
      "source": [
        "test.info()"
      ]
    },
    {
      "cell_type": "code",
      "execution_count": null,
      "metadata": {
        "_cell_guid": "4b00bc06-0634-b125-4621-f574d3286d7d"
      },
      "outputs": [],
      "source": [
        "train.shape"
      ]
    },
    {
      "cell_type": "code",
      "execution_count": null,
      "metadata": {
        "_cell_guid": "91402f8d-a981-2377-e74c-5e3cc127c72a"
      },
      "outputs": [],
      "source": [
        "test.shape"
      ]
    },
    {
      "cell_type": "markdown",
      "metadata": {
        "_cell_guid": "21f95982-e172-1f8d-0e41-ddb6e22a89dd"
      },
      "source": [
        "Data Exploration"
      ]
    },
    {
      "cell_type": "code",
      "execution_count": null,
      "metadata": {
        "_cell_guid": "6e046fc6-9fbc-1b71-4301-8732804b8356"
      },
      "outputs": [],
      "source": [
        "#Age\n",
        "fig=plt.figure(figsize=(10,5))\n",
        "\n",
        "age1=train[train['Survived']==1]['Age'].value_counts()\n",
        "age2=train[train['Survived']==0]['Age'].value_counts()\n",
        "\n",
        "sns.set_style('white')\n",
        "sns.distplot(age1,hist=False,label='Survived')\n",
        "sns.distplot(age2,hist=False,label='Died')"
      ]
    },
    {
      "cell_type": "code",
      "execution_count": null,
      "metadata": {
        "_cell_guid": "36ae3a4c-01d7-d9e1-aa22-f1246ee33d00"
      },
      "outputs": [],
      "source": [
        "#Sex\n",
        "sns.countplot(x='Sex',hue='Survived',data=train)"
      ]
    },
    {
      "cell_type": "code",
      "execution_count": null,
      "metadata": {
        "_cell_guid": "435ade38-6649-08cc-528e-65bb0e4ca6da"
      },
      "outputs": [],
      "source": [
        "#Pclass\n",
        "sns.barplot(x='Pclass',y='Survived',hue='Sex',data=train)"
      ]
    },
    {
      "cell_type": "code",
      "execution_count": null,
      "metadata": {
        "_cell_guid": "5cd83646-2870-fe70-ecb8-93d0070439e0"
      },
      "outputs": [],
      "source": [
        "#SibSp & Parch\n",
        "fig=plt.figure(figsize=(10,5))\n",
        "\n",
        "train[\"Family\"]=train['SibSp']+train['Parch']\n",
        "sns.barplot(x='Family',y='Survived',data=train)"
      ]
    },
    {
      "cell_type": "code",
      "execution_count": null,
      "metadata": {
        "_cell_guid": "74d07f7f-76cc-7773-893c-2a74753df43c"
      },
      "outputs": [],
      "source": [
        "#Embarked\n",
        "sns.countplot(x='Embarked',hue='Survived',data=train)"
      ]
    },
    {
      "cell_type": "markdown",
      "metadata": {
        "_cell_guid": "f268d2ba-b712-ea59-348a-75120aa1fecc"
      },
      "source": [
        "Data Cleaning"
      ]
    },
    {
      "cell_type": "code",
      "execution_count": null,
      "metadata": {
        "_cell_guid": "3b1d382d-eaf9-fab8-551d-b0a092cb42cd"
      },
      "outputs": [],
      "source": [
        "train.drop(['Family'],inplace=True,axis=1)\n",
        "train.isnull().sum()"
      ]
    },
    {
      "cell_type": "code",
      "execution_count": null,
      "metadata": {
        "_cell_guid": "3ff58b5b-5cb1-ca27-e8cd-37b2ab828001"
      },
      "outputs": [],
      "source": [
        "test.isnull().sum()"
      ]
    },
    {
      "cell_type": "code",
      "execution_count": null,
      "metadata": {
        "_cell_guid": "9a52a04d-30ea-9f2d-8c89-f63efe029efb"
      },
      "outputs": [],
      "source": [
        "# Embarked  missing\n",
        "train['Embarked']=train[\"Embarked\"].fillna(\"S\")"
      ]
    },
    {
      "cell_type": "code",
      "execution_count": null,
      "metadata": {
        "_cell_guid": "8347160a-22e5-b97b-2c62-85b7f088d3d2"
      },
      "outputs": [],
      "source": [
        "#Fare  missing\n",
        "test['Fare'].fillna(test[\"Fare\"].mean(),inplace=True)"
      ]
    },
    {
      "cell_type": "code",
      "execution_count": null,
      "metadata": {
        "_cell_guid": "68af6286-7cf7-9c28-eda8-0e71a39d877d"
      },
      "outputs": [],
      "source": [
        "# drop unnecessary columns\n",
        "train.drop(['PassengerId','Name','Ticket','Cabin'], axis=1,inplace=True)\n",
        "test.drop(['Name','Ticket','Cabin'], axis=1,inplace=True)"
      ]
    },
    {
      "cell_type": "code",
      "execution_count": null,
      "metadata": {
        "_cell_guid": "e190244f-b87d-ae93-d624-9ebfa2454ebd"
      },
      "outputs": [],
      "source": [
        "train.head()"
      ]
    },
    {
      "cell_type": "markdown",
      "metadata": {
        "_cell_guid": "362ec30f-b414-14a3-aa92-3ce842320963"
      },
      "source": [
        "Feature Engineering"
      ]
    },
    {
      "cell_type": "code",
      "execution_count": null,
      "metadata": {
        "_cell_guid": "59d18a67-2946-5ea7-3004-34d15dd05168"
      },
      "outputs": [],
      "source": [
        "#creature feature : Family\n",
        "train[\"Family\"]=train['SibSp']+train['Parch']\n",
        "train.drop(['SibSp','Parch'],axis=1,inplace=1)\n",
        "\n",
        "test[\"Family\"]=test['SibSp']+test['Parch']\n",
        "test.drop(['SibSp','Parch'],axis=1,inplace=1)"
      ]
    },
    {
      "cell_type": "code",
      "execution_count": null,
      "metadata": {
        "_cell_guid": "0398bb0e-6b32-c8e3-e095-814b27f70d42"
      },
      "outputs": [],
      "source": [
        "#Encoding sex, female: 0 and male: 1\n",
        "train['Sex'].loc[train['Sex']=='female']=0\n",
        "train['Sex'].loc[train['Sex']=='male']=1\n",
        "\n",
        "test['Sex'].loc[test['Sex']=='female']=0\n",
        "test['Sex'].loc[test['Sex']=='male']=1"
      ]
    },
    {
      "cell_type": "code",
      "execution_count": null,
      "metadata": {
        "_cell_guid": "5105e98b-70f4-607e-0281-b10e1378d09a"
      },
      "outputs": [],
      "source": [
        "train=pd.get_dummies(train,columns=[\"Pclass\",\"Embarked\"])\n",
        "test=pd.get_dummies(test,columns=[\"Pclass\",\"Embarked\"])"
      ]
    },
    {
      "cell_type": "code",
      "execution_count": null,
      "metadata": {
        "_cell_guid": "f2b73b99-69b1-297f-98cb-ba146a16d581"
      },
      "outputs": [],
      "source": [
        "#Age\n",
        "mean1 = train[\"Age\"].mean()\n",
        "std1= train[\"Age\"].std()\n",
        "count1 = train[\"Age\"].isnull().sum()\n",
        "\n",
        "mean2= test[\"Age\"].mean()\n",
        "std2= test[\"Age\"].std()\n",
        "count2 = test[\"Age\"].isnull().sum()\n",
        "\n",
        "rand1=np.random.randint(mean1-std1,mean1+std1,size=count1)\n",
        "rand2=np.random.randint(mean2-std2,mean2+std2,size=count2)\n",
        "\n",
        "train['Age'][np.isnan(train['Age'])]=rand1\n",
        "test['Age'][np.isnan(test['Age'])]=rand2"
      ]
    },
    {
      "cell_type": "code",
      "execution_count": null,
      "metadata": {
        "_cell_guid": "b324cd0a-3056-094b-1e26-e30cb2856df9"
      },
      "outputs": [],
      "source": [
        "#Standardization\n",
        "sd_train=train[['Age','Fare','Family']]\n",
        "sd_test=test[['Age','Fare','Family']]\n",
        "\n",
        "sds = StandardScaler()\n",
        "sds.fit(sd_train)\n",
        "\n",
        "sds_xtrain1 = sds.transform(sd_train)\n",
        "sds_xtest1  = sds.transform(sd_test)\n",
        "train[['Age','Fare','Family']]=sds_xtrain1\n",
        "test[['Age','Fare','Family']]=sds_xtest1"
      ]
    },
    {
      "cell_type": "code",
      "execution_count": null,
      "metadata": {
        "_cell_guid": "95d545a6-b9ee-b8df-0ae3-7bc77ba0de8d"
      },
      "outputs": [],
      "source": [
        "train.head()"
      ]
    },
    {
      "cell_type": "code",
      "execution_count": null,
      "metadata": {
        "_cell_guid": "f1c8028f-d984-34ef-fba2-6a6a9da6e7d2"
      },
      "outputs": [],
      "source": [
        "xdata=train.drop(\"Survived\",axis=1)\n",
        "ydata=train[\"Survived\"]\n",
        "xtrain,xtest,ytrain,ytest = train_test_split(xdata,ydata,test_size = 0.2)"
      ]
    },
    {
      "cell_type": "markdown",
      "metadata": {
        "_cell_guid": "535879f9-bb2c-518c-3145-aa238a3cf8f6"
      },
      "source": [
        "LogisticRegression"
      ]
    },
    {
      "cell_type": "code",
      "execution_count": null,
      "metadata": {
        "_cell_guid": "c5982b1a-e928-f341-c6da-cdc5480fac25"
      },
      "outputs": [],
      "source": [
        "lr= LogisticRegression()\n",
        "param = {\"C\":[0.001,0.01,0.1,1],'max_iter':[10,50,100,200]}\n",
        "gs = GridSearchCV(lr,param,cv = 5)\n",
        "gs.fit(xtrain,ytrain)"
      ]
    },
    {
      "cell_type": "code",
      "execution_count": null,
      "metadata": {
        "_cell_guid": "53c4d26f-021a-780b-3a70-fff1095ae94b"
      },
      "outputs": [],
      "source": [
        "lr=gs.best_estimator_"
      ]
    },
    {
      "cell_type": "code",
      "execution_count": null,
      "metadata": {
        "_cell_guid": "afd43e43-036b-df79-183f-aeed48aeb8f1"
      },
      "outputs": [],
      "source": [
        "lr.fit(xtrain,ytrain)"
      ]
    },
    {
      "cell_type": "code",
      "execution_count": null,
      "metadata": {
        "_cell_guid": "e740248e-1326-c8d2-e1ff-e79f188bd106"
      },
      "outputs": [],
      "source": [
        "lr.score(xtest,ytest)"
      ]
    },
    {
      "cell_type": "markdown",
      "metadata": {
        "_cell_guid": "68144a6d-9c6f-7533-c5ef-89656361e1a1"
      },
      "source": [
        "Random Forest"
      ]
    },
    {
      "cell_type": "code",
      "execution_count": null,
      "metadata": {
        "_cell_guid": "c14c9a6d-1b81-7bc1-40dc-19ccee6d8591"
      },
      "outputs": [],
      "source": [
        "rfc=RandomForestClassifier()\n",
        "param1={\"n_estimators\":list(range(5,50))}\n",
        "gs1=GridSearchCV(rfc,param1,cv=5)\n",
        "gs1.fit(xtrain,ytrain)"
      ]
    },
    {
      "cell_type": "code",
      "execution_count": null,
      "metadata": {
        "_cell_guid": "cd98df75-dc9d-ef22-9043-8c66098bcc95"
      },
      "outputs": [],
      "source": [
        "rfc=gs1.best_estimator_"
      ]
    },
    {
      "cell_type": "code",
      "execution_count": null,
      "metadata": {
        "_cell_guid": "5536beba-594a-2b82-73c0-b0a5519cb421"
      },
      "outputs": [],
      "source": [
        "rfc.fit(xtrain,ytrain)"
      ]
    },
    {
      "cell_type": "code",
      "execution_count": null,
      "metadata": {
        "_cell_guid": "638eeebc-599d-1a74-00cc-63bfb2908af8"
      },
      "outputs": [],
      "source": [
        "rfc.score(xtest,ytest)"
      ]
    },
    {
      "cell_type": "markdown",
      "metadata": {
        "_cell_guid": "6b1097d4-fa7c-1d88-1e7b-c94e3d97c956"
      },
      "source": [
        "SVM"
      ]
    },
    {
      "cell_type": "code",
      "execution_count": null,
      "metadata": {
        "_cell_guid": "4f914d0f-9a3a-bd08-bb12-1928fe09ce53"
      },
      "outputs": [],
      "source": [
        "clf=svm.SVC(probability=True)\n",
        "param2={\"kernel\":(\"linear\",\"rbf\"),\"C\":[0.001,0.01,0.1,1]}\n",
        "gs2=GridSearchCV(clf,param2,cv=5)\n",
        "gs2.fit(xtrain,ytrain)"
      ]
    },
    {
      "cell_type": "code",
      "execution_count": null,
      "metadata": {
        "_cell_guid": "975ccd4a-ff1a-8bb7-0abe-3e60f71ba205"
      },
      "outputs": [],
      "source": [
        "clf=gs2.best_estimator_"
      ]
    },
    {
      "cell_type": "code",
      "execution_count": null,
      "metadata": {
        "_cell_guid": "d69a12ee-091e-3ebd-9e78-0a21f90177d5"
      },
      "outputs": [],
      "source": [
        "clf.fit(xtrain,ytrain)"
      ]
    },
    {
      "cell_type": "code",
      "execution_count": null,
      "metadata": {
        "_cell_guid": "cbc16285-ee3a-a04f-bc1c-0670cff6839f"
      },
      "outputs": [],
      "source": [
        "clf.score(xtest,ytest)"
      ]
    },
    {
      "cell_type": "markdown",
      "metadata": {
        "_cell_guid": "77a1f966-6b3b-f80e-da7a-12d0b2487a74"
      },
      "source": [
        "Make submission"
      ]
    },
    {
      "cell_type": "code",
      "execution_count": null,
      "metadata": {
        "_cell_guid": "5f6095fb-d326-0898-e5fc-66cb28136000"
      },
      "outputs": [],
      "source": [
        "ID = test['PassengerId']\n",
        "xtest=test.drop(['PassengerId'],axis=1)"
      ]
    },
    {
      "cell_type": "code",
      "execution_count": null,
      "metadata": {
        "_cell_guid": "6c9566e6-1708-0808-4a7d-53761683d0ec"
      },
      "outputs": [],
      "source": [
        "ytest=clf.predict(xtest)"
      ]
    },
    {
      "cell_type": "code",
      "execution_count": null,
      "metadata": {
        "_cell_guid": "b7f927f4-d667-da7b-8964-13cbb4c18edb"
      },
      "outputs": [],
      "source": [
        "submission=pd.DataFrame({'PassengerId':ID,'Survived':ytest})"
      ]
    },
    {
      "cell_type": "code",
      "execution_count": null,
      "metadata": {
        "_cell_guid": "335c2344-9f76-4d3a-5772-21d1ac545e9c"
      },
      "outputs": [],
      "source": [
        "submission.to_csv(\"titanic.csv\",index=False)"
      ]
    },
    {
      "cell_type": "code",
      "execution_count": null,
      "metadata": {
        "_cell_guid": "a0f1bfa4-6890-508b-6b8b-c3c1623a76d3"
      },
      "outputs": [],
      "source": ""
    }
  ],
  "metadata": {
    "_change_revision": 0,
    "_is_fork": false,
    "kernelspec": {
      "display_name": "Python 3",
      "language": "python",
      "name": "python3"
    },
    "language_info": {
      "codemirror_mode": {
        "name": "ipython",
        "version": 3
      },
      "file_extension": ".py",
      "mimetype": "text/x-python",
      "name": "python",
      "nbconvert_exporter": "python",
      "pygments_lexer": "ipython3",
      "version": "3.5.2"
    }
  },
  "nbformat": 4,
  "nbformat_minor": 0
}