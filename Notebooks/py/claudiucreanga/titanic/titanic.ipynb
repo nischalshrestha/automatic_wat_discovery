{
  "cells": [
    {
      "cell_type": "markdown",
      "metadata": {
        "_cell_guid": "0d4f0ee8-c416-be23-1345-fc8137103f44"
      },
      "source": [
        "Titanic"
      ]
    },
    {
      "cell_type": "code",
      "execution_count": null,
      "metadata": {
        "_cell_guid": "d19f8edf-2b96-07ac-38ba-0bf1c74a9400"
      },
      "outputs": [],
      "source": [
        "# load the data\n",
        "import pandas as pd\n",
        "import matplotlib.pyplot as plt\n",
        "import numpy as np\n",
        "\n",
        "%matplotlib inline\n",
        "\n",
        "X = pd.read_csv(\"../input/train.csv\")\n",
        "X_test = pd.read_csv(\"../input/test.csv\")"
      ]
    },
    {
      "cell_type": "code",
      "execution_count": null,
      "metadata": {
        "_cell_guid": "a4c5d419-b5c3-2cec-32ab-6e4fac16b8f4"
      },
      "outputs": [],
      "source": [
        "X.describe()"
      ]
    },
    {
      "cell_type": "code",
      "execution_count": null,
      "metadata": {
        "_cell_guid": "77f2f929-cde4-9294-93cc-a5c245aef5cd"
      },
      "outputs": [],
      "source": [
        "# check null values\n",
        "\n",
        "null_columns=X.columns[X.isnull().any()]\n",
        "X.isnull().sum()"
      ]
    },
    {
      "cell_type": "code",
      "execution_count": null,
      "metadata": {
        "_cell_guid": "07c0ba93-d889-0875-8ab0-4134107e03d2"
      },
      "outputs": [],
      "source": [
        "# title from name looks interesting because you can get if the person is married or not and guess their age if it is not known\n",
        "\n",
        "import re\n",
        "\n",
        "#A function to get the title from a name.\n",
        "def get_title(name):\n",
        "    # Use a regular expression to search for a title.  Titles always consist of capital and lowercase letters, and end with a period.\n",
        "    title_search = re.search(' ([A-Za-z]+)\\.', name)\n",
        "    #If the title exists, extract and return it.\n",
        "    if title_search:\n",
        "        return title_search.group(1)\n",
        "    return \"\"\n",
        "\n",
        "X[\"Title\"] = X[\"Name\"].apply(get_title)\n",
        "X_test[\"Title\"] = X_test[\"Name\"].apply(get_title)\n",
        "\n",
        "X[\"Title\"].value_counts()"
      ]
    },
    {
      "cell_type": "code",
      "execution_count": null,
      "metadata": {
        "_cell_guid": "31976f56-460b-c1a4-e274-fa06910fc022"
      },
      "outputs": [],
      "source": [
        "# We can see here that most people with Mr in their title died while Miss and Mrs survived\n",
        "\n",
        "title_survive = X[[\"Title\", \"Survived\"]]\n",
        "title_survive_transformed = pd.get_dummies(title_survive, columns=[\"Title\"])\n",
        "\n",
        "bar = title_survive_transformed.groupby(\"Survived\").apply(lambda column: column.sum()).transpose().drop([\"Survived\"])\n",
        "bar.columns = [\"Died\",\"Survived\"]\n",
        "bar.plot.bar()"
      ]
    },
    {
      "cell_type": "code",
      "execution_count": null,
      "metadata": {
        "_cell_guid": "003b67bd-42c9-5c71-6ff5-03ad96331256"
      },
      "outputs": [],
      "source": [
        ""
      ]
    },
    {
      "cell_type": "code",
      "execution_count": null,
      "metadata": {
        "_cell_guid": "64907881-25ba-d07e-ff09-17e69e91bf66"
      },
      "outputs": [],
      "source": [
        "# you can see that you had a greater chance to survive if you were in embarked C or Q\n",
        "\n",
        "embarked_survive = X[[\"Survived\", \"Embarked\"]]\n",
        "embarked_survive_transformed = pd.get_dummies(embarked_survive, columns=[\"Embarked\"])\n",
        "\n",
        "e_bar = embarked_survive_transformed.groupby(\"Survived\").apply(lambda column: column.sum()).transpose().drop([\"Survived\"])\n",
        "e_bar.columns = [\"Died\",\"Survived\"]\n",
        "e_bar.plot.bar()"
      ]
    },
    {
      "cell_type": "code",
      "execution_count": null,
      "metadata": {
        "_cell_guid": "0e73b4df-b4b4-cdc8-eff8-534556c9357b"
      },
      "outputs": [],
      "source": [
        "X[\"FamilySize\"] = 1 + X[\"SibSp\"] + X[\"Parch\"]\n",
        "X_test[\"FamilySize\"] = 1 + X_test[\"SibSp\"] + X_test[\"Parch\"]\n",
        "family_size = X[\"FamilySize\"].apply(lambda row: \"Single\" if row == 1 else (\"Large\" if row < 5 else \"Extreme\"))     \n",
        "family_size_test = X_test[\"FamilySize\"].apply(lambda row: \"Single\" if row == 1 else (\"Large\" if row < 5 else \"Extreme\"))     \n",
        "X[\"FamilySize\"] = family_size\n",
        "\n",
        "family_size = pd.DataFrame(family_size)\n",
        "family_size[\"Survived\"] = X[\"Survived\"]\n",
        "family_size_transformed = pd.get_dummies(family_size, columns=[\"FamilySize\"])\n",
        "\n",
        "X_test[\"FamilySize\"] = family_size_test\n",
        "\n",
        "f_bar = family_size_transformed.groupby(\"Survived\").apply(lambda column: column.sum()).transpose().drop([\"Survived\"])\n",
        "f_bar.columns = [\"Died\",\"Survived\"]\n",
        "f_bar.plot.bar()"
      ]
    },
    {
      "cell_type": "code",
      "execution_count": null,
      "metadata": {
        "_cell_guid": "7d153b4d-6d0e-9048-59f2-2de1efb15f4b"
      },
      "outputs": [],
      "source": [
        "# fill NaN values with mean so that we can do transformations\n",
        "\n",
        "X.fillna(X.mean(), inplace=True)\n",
        "X_test.fillna(X_test.mean(), inplace=True)\n",
        "X.head()"
      ]
    },
    {
      "cell_type": "code",
      "execution_count": null,
      "metadata": {
        "_cell_guid": "cef65c18-6ae4-d46e-fc44-23a18fd006dc"
      },
      "outputs": [],
      "source": [
        "# Age and Fares are on different scales, so let's scale them\n",
        "\n",
        "from sklearn import preprocessing\n",
        "\n",
        "std_scale = preprocessing.StandardScaler().fit_transform(X[['Age', 'Fare']])\n",
        "X[[\"Age\", \"Fare\"]] = std_scale\n",
        "std_scale_test = preprocessing.StandardScaler().fit_transform(X_test[['Age', 'Fare']])\n",
        "X_test[[\"Age\", \"Fare\"]] = std_scale_test\n",
        "std_scale"
      ]
    },
    {
      "cell_type": "code",
      "execution_count": null,
      "metadata": {
        "_cell_guid": "fa0d5a93-ec25-f795-805b-3138183cb1ae"
      },
      "outputs": [],
      "source": [
        "# transform form categorical to numerical\n",
        "\n",
        "X_transformed = pd.get_dummies(X, columns = [\"Sex\", \"FamilySize\", \"Cabin\", \"Title\", \"Embarked\"])\n",
        "X_test_transformed = pd.get_dummies(X_test, columns = [\"Sex\", \"FamilySize\", \"Cabin\", \"Title\", \"Embarked\"])"
      ]
    },
    {
      "cell_type": "code",
      "execution_count": null,
      "metadata": {
        "_cell_guid": "0badcf30-2eb5-3818-5b77-998cc597f562"
      },
      "outputs": [],
      "source": [
        "X_transformed.head()"
      ]
    },
    {
      "cell_type": "code",
      "execution_count": null,
      "metadata": {
        "_cell_guid": "26b20370-9398-f390-ff57-0a189a9f61e6"
      },
      "outputs": [],
      "source": [
        "# correlations\n",
        "\n",
        "corr_matrix = X_transformed.corr()\n",
        "corr_matrix[\"Survived\"].sort_values(ascending=False)"
      ]
    },
    {
      "cell_type": "code",
      "execution_count": null,
      "metadata": {
        "_cell_guid": "dc3f76a7-e7cb-c0f3-7aac-9f3da119028c"
      },
      "outputs": [],
      "source": [
        "# remove columns that offer little help and the labels\n",
        "\n",
        "y = X_transformed[\"Survived\"]\n",
        "X_fewer_columns = X_transformed.drop([\"Survived\", \"Name\", \"Ticket\", \"PassengerId\"], axis=1).copy()\n",
        "X_test_fewer_columns = X_test_transformed.drop([\"Name\", \"Ticket\", \"PassengerId\"], axis=1).copy()"
      ]
    },
    {
      "cell_type": "code",
      "execution_count": null,
      "metadata": {
        "_cell_guid": "a00b7fcc-019f-66f9-fac1-268ea1f63f3b"
      },
      "outputs": [],
      "source": [
        "# Stochastic Gradient Descent Classifier\n",
        "\n",
        "from sklearn.linear_model import SGDClassifier\n",
        "\n",
        "sgd_clf = SGDClassifier(random_state=42)\n",
        "X_matrix = X_fewer_columns.as_matrix()\n",
        "y_matrix = y.as_matrix()\n",
        "sgd_clf.fit(X_matrix, y_matrix)"
      ]
    },
    {
      "cell_type": "code",
      "execution_count": null,
      "metadata": {
        "_cell_guid": "7221bc32-4fd3-909b-1a9e-0e7857eedb3b"
      },
      "outputs": [],
      "source": [
        "# display all scores in one go\n",
        "\n",
        "from sklearn.model_selection import cross_val_predict\n",
        "from sklearn.metrics import confusion_matrix\n",
        "from sklearn.metrics import precision_score, recall_score\n",
        "from sklearn.metrics import f1_score\n",
        "from sklearn.metrics import roc_curve\n",
        "\n",
        "def plot_roc_curve(fpr, tpr, **options):\n",
        "    plt.plot(fpr, tpr, linewidth=2, **options)\n",
        "    plt.plot([0, 1], [0, 1], 'k--')\n",
        "    plt.axis([0, 1, 0, 1])\n",
        "    plt.xlabel('False Positive Rate', fontsize=16)\n",
        "    plt.ylabel('True Positive Rate', fontsize=16)\n",
        "    \n",
        "def display_all_scores(model, X):\n",
        "    y_train_predictions = cross_val_predict(model, X, y_matrix, cv = 3)\n",
        "    print(\"Scores for model:\",model.__class__.__name__)\n",
        "    print(\"Confusion metrics:\", confusion_matrix(y_matrix, y_train_predictions))\n",
        "    print(\"Precision score:\", precision_score(y_matrix, y_train_predictions))\n",
        "    print(\"Recall score:\", recall_score(y_matrix, y_train_predictions))\n",
        "    print(\"F1 score:\", f1_score(y_matrix, y_train_predictions))\n",
        "   "
      ]
    },
    {
      "cell_type": "code",
      "execution_count": null,
      "metadata": {
        "_cell_guid": "30c27411-639f-ed51-0ba4-b206b493bf48"
      },
      "outputs": [],
      "source": [
        "display_all_scores(sgd_clf, X_matrix)"
      ]
    },
    {
      "cell_type": "code",
      "execution_count": null,
      "metadata": {
        "_cell_guid": "ffb0ee49-e136-28c4-53f7-04395ebbb4f8"
      },
      "outputs": [],
      "source": [
        "# let's see how we do if we remove more columns that do not look interesting\n",
        "\n",
        "remove_some_cabins = [c for c in X_fewer_columns.columns \n",
        "                      if c[:6] != \"Cabin_\" \n",
        "                      and c != \"Parch\" \n",
        "                      and c != \"SibSp\" \n",
        "                      and c != \"Title_Major\"\n",
        "                      and c != \"Title_Rev\"\n",
        "                      and c != \"Title_Sir\"\n",
        "                      and c != \"Title_Jonkheer\"\n",
        "                      and c != \"Title_Dr\"\n",
        "                      and c != \"Title_Don\"\n",
        "                      and c != \"Title_Countess\"\n",
        "                      and c != \"Title_Col\"\n",
        "                      and c != \"Title_Capt\"\n",
        "                      ]    \n",
        "X_even_fewer_columns = X_fewer_columns[remove_some_cabins]\n",
        "X_even_fewer_columns.columns"
      ]
    },
    {
      "cell_type": "code",
      "execution_count": null,
      "metadata": {
        "_cell_guid": "3b45cc5a-df27-8214-2172-8a3a2c29be3f"
      },
      "outputs": [],
      "source": [
        "sgd_clf1 = SGDClassifier(random_state=42)\n",
        "X_matrix = X_even_fewer_columns.as_matrix()\n",
        "y_matrix = y.as_matrix()\n",
        "sgd_clf1.fit(X_matrix, y_matrix)"
      ]
    },
    {
      "cell_type": "code",
      "execution_count": null,
      "metadata": {
        "_cell_guid": "3f0a709c-3cc0-e9a4-2820-6a9fbbca4ab5"
      },
      "outputs": [],
      "source": [
        "# As you can see this score is worse then the previous one \n",
        "\n",
        "display_all_scores(sgd_clf1, X_matrix)"
      ]
    },
    {
      "cell_type": "code",
      "execution_count": null,
      "metadata": {
        "_cell_guid": "16e769ed-84fe-6c4d-80d7-38ee05113b4a"
      },
      "outputs": [],
      "source": [
        "# Let's check the Random Forest and you can see that it fares better\n",
        "\n",
        "from sklearn.ensemble import RandomForestClassifier\n",
        "from sklearn.model_selection import cross_val_predict\n",
        "from sklearn.model_selection import cross_val_score\n",
        "\n",
        "X_matrix = X_fewer_columns.as_matrix()\n",
        "rf = RandomForestClassifier(n_jobs=2)\n",
        "rf.fit(X_matrix, y_matrix) \n",
        "\n",
        "y_train_predictions = cross_val_predict(rf, X_matrix,y_matrix,cv=3)\n",
        "scores = cross_val_score(rf, X_matrix, y_matrix, scoring='f1', cv=3)\n",
        "print(\"F1 score for Random Forest\", scores.mean())"
      ]
    }
  ],
  "metadata": {
    "_change_revision": 0,
    "_is_fork": false,
    "kernelspec": {
      "display_name": "Python 3",
      "language": "python",
      "name": "python3"
    },
    "language_info": {
      "codemirror_mode": {
        "name": "ipython",
        "version": 3
      },
      "file_extension": ".py",
      "mimetype": "text/x-python",
      "name": "python",
      "nbconvert_exporter": "python",
      "pygments_lexer": "ipython3",
      "version": "3.6.0"
    }
  },
  "nbformat": 4,
  "nbformat_minor": 0
}