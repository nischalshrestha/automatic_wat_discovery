{
  "cells": [
    {
      "cell_type": "code",
      "execution_count": null,
      "metadata": {
        "_cell_guid": "abbc1632-f4a1-1b4e-a37d-7bdc2600205c"
      },
      "outputs": [],
      "source": [
        "# Class Imports\n",
        "import re\n",
        "import math\n",
        "import numpy as np  # linear algebra\n",
        "import pandas as pd # data processing, CSV file I/O (e.g. pd.read_csv)\n",
        "import seaborn as sns\n",
        "import matplotlib.pyplot as plt\n",
        "\n",
        "# Utility Functions\n",
        "sns_percent = lambda x: sum(x)/len(x)*100"
      ]
    },
    {
      "cell_type": "code",
      "execution_count": null,
      "metadata": {
        "_cell_guid": "8011a8e0-0fc3-7752-01ca-6e75d1bff82c"
      },
      "outputs": [],
      "source": [
        "train = pd.read_csv('../input/train.csv')\n",
        "test  = pd.read_csv('../input/test.csv')"
      ]
    },
    {
      "cell_type": "code",
      "execution_count": null,
      "metadata": {
        "_cell_guid": "76c293ea-1c0b-af1f-7ab7-c98fc3b16606"
      },
      "outputs": [],
      "source": [
        "# Data mappings\n",
        "for dataset in [test, train]:\n",
        "    dataset['Gender']     = dataset['Sex'].map({'female': 0, 'male': 1}).astype(int)\n",
        "    dataset['CabinClass'] = dataset['Cabin'].astype(str).map(lambda x: re.sub('^(\\w)?.*', '\\\\1', x) if x != \"nan\" else None )\n",
        "    dataset['LogFare']    = dataset['Fare'].astype(float).map(lambda x: math.log(x) if x else None)\n",
        "    dataset['Title']      = dataset['Name'].astype(str).map(lambda x: re.findall('(\\w+)\\.', x)[0])\n",
        "train.head() \n",
        "\n",
        "#cabin_classes = dataset['Cabin'].astype(str).map(lambda x: re.sub('^(\\w)?.*', '\\\\1', x) if x != \"nan\" else None ).unique()    \n",
        "#test.groupby('Title')['Title'].count()   "
      ]
    },
    {
      "cell_type": "markdown",
      "metadata": {
        "_cell_guid": "33f95078-72ad-3e4d-a948-175fa60ac44b"
      },
      "source": [
        "# 1. Guessing at random is our null hypothesis\n",
        "50% success rate based on no information, strangely there where entries on the leaderboard worst than this"
      ]
    },
    {
      "cell_type": "code",
      "execution_count": null,
      "metadata": {
        "_cell_guid": "90474eba-a2a5-34ff-24bc-d5539839c005"
      },
      "outputs": [],
      "source": [
        "output_random = pd.DataFrame({\n",
        "    \"PassengerId\": test[\"PassengerId\"],\n",
        "    \"Survived\"   : np.random.randint(0,2, size=len(test)) # random number 0 or 1\n",
        "})\n",
        "output_random.to_csv('random.csv', index=False); # score 0.51196 (6993/7071)"
      ]
    },
    {
      "cell_type": "markdown",
      "metadata": {
        "_cell_guid": "ffe99049-0817-5242-8630-235353b5d160"
      },
      "source": [
        "# 2. Assume everybody died"
      ]
    },
    {
      "cell_type": "code",
      "execution_count": null,
      "metadata": {
        "_cell_guid": "c1a51af3-7af3-6aca-0b1a-b1487a11a31a"
      },
      "outputs": [],
      "source": [
        "train[\"Survived\"].map({0: \"dead\", 1: \"alive\"}).value_counts()/len(train)"
      ]
    },
    {
      "cell_type": "markdown",
      "metadata": {
        "_cell_guid": "48e8f248-ac9a-7f29-1fff-4be87dd649b6"
      },
      "source": [
        "More people died rather survived, so our next predictive model is just to assume the everybody died. Assuming the test dataset is statistically similar, we should expect around 61% accuracy."
      ]
    },
    {
      "cell_type": "code",
      "execution_count": null,
      "metadata": {
        "_cell_guid": "adb72e1b-64e7-3c04-08db-df65f5befe15"
      },
      "outputs": [],
      "source": [
        "output_everybody_dead = pd.DataFrame({\n",
        "    \"PassengerId\": test[\"PassengerId\"],\n",
        "    \"Survived\"   : 0\n",
        "})\n",
        "output_everybody_dead.to_csv('everybody_dead.csv', index=False) # score 0.62679 (6884/7071)"
      ]
    },
    {
      "cell_type": "markdown",
      "metadata": {
        "_cell_guid": "09edce17-27c1-213f-1eb8-e108314ee12a"
      },
      "source": [
        "We score 62% which means there are about 1% more casualties in the test dataset"
      ]
    },
    {
      "cell_type": "markdown",
      "metadata": {
        "_cell_guid": "899728e4-88c8-10ff-49c2-37e042dc626f"
      },
      "source": [
        "# Women\n",
        "\n",
        "Our next model is just to focus on the women"
      ]
    },
    {
      "cell_type": "code",
      "execution_count": null,
      "metadata": {
        "_cell_guid": "8d055d3b-467e-c50a-5e4f-b3438bea3edd"
      },
      "outputs": [],
      "source": [
        "train[\"Sex\"].value_counts()/len(train)"
      ]
    },
    {
      "cell_type": "code",
      "execution_count": null,
      "metadata": {
        "_cell_guid": "eaf9a7e2-9e7c-ba6c-289e-d2f730ca5e0b"
      },
      "outputs": [],
      "source": [
        "survivors  = train[train['Survived'] == 1]\n",
        "casualties = train[train['Survived'] == 0]\n",
        "pd.DataFrame({\n",
        "    \"survivors\":  survivors[\"Sex\"].value_counts()/len(train),\n",
        "    \"casualties\": casualties[\"Sex\"].value_counts()/len(train),\n",
        "})"
      ]
    },
    {
      "cell_type": "code",
      "execution_count": null,
      "metadata": {
        "_cell_guid": "c95750df-1361-808e-140e-2bfeadb74516"
      },
      "outputs": [],
      "source": ""
    },
    {
      "cell_type": "markdown",
      "metadata": {
        "_cell_guid": "42eff1aa-fa35-bf95-b271-af6d0dd07257"
      },
      "source": [
        "As we can see: \n",
        "\n",
        "- 38% / 62% of passengers were dead / alive\n",
        "- 65% / 35% of passengers where male / female\n",
        "- 31% / 68% of male / female passengers survived \n",
        "\n",
        "So our next predictive model is just to assume the women survive"
      ]
    },
    {
      "cell_type": "code",
      "execution_count": null,
      "metadata": {
        "_cell_guid": "f8daae0c-645d-f7ef-0c49-9546fb9acf5d"
      },
      "outputs": [],
      "source": [
        "output_everybody_dead = pd.DataFrame({\n",
        "    \"PassengerId\": test[\"PassengerId\"],\n",
        "    \"Survived\"   : test[\"Gender\"]\n",
        "})\n",
        "output_everybody_dead.to_csv('only_women_survive.csv', index=False) # score 0.76555 (5384/7071)"
      ]
    },
    {
      "cell_type": "markdown",
      "metadata": {
        "_cell_guid": "cc620cbe-8782-ffca-c147-79d98eb4be65"
      },
      "source": [
        "# Children\n",
        "As the phrase goes: women and children first!\n",
        "\n",
        "So what is the age distribution of the survivors?"
      ]
    },
    {
      "cell_type": "markdown",
      "metadata": {
        "_cell_guid": "0e7bfc54-526d-7724-ee67-8f62fcb078c6"
      },
      "source": [
        "This scores 0.76555 (5384/)"
      ]
    },
    {
      "cell_type": "markdown",
      "metadata": {
        "_cell_guid": "fa2cfcaa-d1fa-ccf5-34c8-82e3fb1d6ed8"
      },
      "source": [
        "How many people of each age group survived as a percentage of total people that age"
      ]
    },
    {
      "cell_type": "code",
      "execution_count": null,
      "metadata": {
        "_cell_guid": "d87f5b40-500a-4ef0-c77a-bc0f2120ee07"
      },
      "outputs": [],
      "source": [
        "train_with_age = train[ ~np.isnan(train[\"Age\"]) ]\n",
        "survivalpc_by_age = train_with_age.groupby([\"Sex\",\"Age\"], as_index = False)[\"Survived\"].mean()\n",
        "#sns.boxplot(\"Age\", \"Survived\", survivalpc_by_age)\n",
        "\n",
        "for gender in [\"male\", \"female\"]:\n",
        "    plt.figure()\n",
        "    sns.lmplot(data=survivalpc_by_age[survivalpc_by_age[\"Sex\"]==gender], x=\"Age\", y=\"Survived\", order=4)\n",
        "    plt.title(\"%s survival by age\" % gender)\n",
        "    plt.xlim(0, 80)\n",
        "    plt.ylim(0, 1)"
      ]
    },
    {
      "cell_type": "markdown",
      "metadata": {
        "_cell_guid": "3b2df5d6-157d-3471-5057-3b29a67c21e9"
      },
      "source": [
        "As we can see, there is a very different age/survival distribution between the genders.\n",
        "\n",
        "- Male children who had not entered their teenage years (<= 12), had a higher survival rate than adult males\n",
        "- Maybe a statistical anomaly, but age of 80+ also got you a ticket onto the lifeboat (there where no 80 year women)\n",
        "- Female survival, whilst significantly higher than male survival, was actually worse for children and young adults (>=30)\n",
        "\n",
        "Our next model is to assume:\n",
        "\n",
        "- All women survived\n",
        "- All males 12 or under survived\n",
        "- All males 80 or over survived\n",
        "- All other males died"
      ]
    },
    {
      "cell_type": "code",
      "execution_count": null,
      "metadata": {
        "_cell_guid": "2ed12ffc-8ce1-e278-a289-abf795e60c41"
      },
      "outputs": [],
      "source": [
        "output_women_and_children_first = pd.DataFrame({\n",
        "    \"PassengerId\": test[\"PassengerId\"],\n",
        "    \"Survived\"   : ((test[\"Sex\"] == \"female\") | ((test[\"Age\"] <= 12) | (test[\"Age\"] >= 80))).astype(int)\n",
        "})\n",
        "output_women_and_children_first.to_csv('women_and_children_first.csv', index=False) # score 0.77033 (4523/7071)"
      ]
    },
    {
      "cell_type": "markdown",
      "metadata": {
        "_cell_guid": "93052623-c1bb-ff44-439d-2b13e1d0085b"
      },
      "source": [
        "A 0.5% improvement over only women survive, what about just limiting children to toddlers (<=6) which is roughly where the regression line reaches 50% survival for male children"
      ]
    },
    {
      "cell_type": "code",
      "execution_count": null,
      "metadata": {
        "_cell_guid": "bf0efc32-0fd5-bbb7-df40-dd6e9df350f0"
      },
      "outputs": [],
      "source": [
        "output_women_and_toddlers_first = pd.DataFrame({\n",
        "    \"PassengerId\": test[\"PassengerId\"],\n",
        "    \"Survived\"   : ((test[\"Sex\"] == \"female\") | (test[\"Age\"] <= 6)).astype(int)\n",
        "})\n",
        "output_women_and_toddlers_first.to_csv('women_and_toddlers_first.csv', index=False) # score 0.75598 (4523/7071)\n",
        "# Your submission scored 0.75598, which is not an improvement of your best score. Keep trying!"
      ]
    },
    {
      "cell_type": "markdown",
      "metadata": {
        "_cell_guid": "5dbbbd81-fad4-382b-0a2b-224998000b7d"
      },
      "source": [
        "Surprisingly this model (75.5%) does even worse than just women (76.5%) or women and children first (77%)"
      ]
    },
    {
      "cell_type": "markdown",
      "metadata": {
        "_cell_guid": "973041c5-c3f4-1b0e-5eeb-c76a35c8ecbc"
      },
      "source": [
        "# Confusion Matrix\n",
        "\n",
        "Given that age and gender are probably the two strongest correlations, the next question is to explore what other correlations exist"
      ]
    },
    {
      "cell_type": "code",
      "execution_count": null,
      "metadata": {
        "_cell_guid": "0a5eb9a3-058a-9d93-9232-4253d9ff2d33"
      },
      "outputs": [],
      "source": [
        "train"
      ]
    },
    {
      "cell_type": "code",
      "execution_count": null,
      "metadata": {
        "_cell_guid": "48597507-3dbb-e4e3-8dca-f942d3aabbcb"
      },
      "outputs": [],
      "source": [
        "train_dummies = pd.get_dummies(train, columns=[\"Title\",\"CabinClass\",\"Embarked\"]).corr()\n",
        "sns.heatmap(train_dummies.corr(), square=True, annot=False)"
      ]
    },
    {
      "cell_type": "code",
      "execution_count": null,
      "metadata": {
        "_cell_guid": "e27e7499-d813-31d7-e93f-7c7b37f013c6"
      },
      "outputs": [],
      "source": [
        "train_dummies.corr()['Survived']"
      ]
    },
    {
      "cell_type": "code",
      "execution_count": null,
      "metadata": {
        "_cell_guid": "350b62ab-c28c-b524-4860-1eaf4e99f242"
      },
      "outputs": [],
      "source": ""
    }
  ],
  "metadata": {
    "_change_revision": 0,
    "_is_fork": false,
    "kernelspec": {
      "display_name": "Python 3",
      "language": "python",
      "name": "python3"
    },
    "language_info": {
      "codemirror_mode": {
        "name": "ipython",
        "version": 3
      },
      "file_extension": ".py",
      "mimetype": "text/x-python",
      "name": "python",
      "nbconvert_exporter": "python",
      "pygments_lexer": "ipython3",
      "version": "3.6.0"
    }
  },
  "nbformat": 4,
  "nbformat_minor": 0
}