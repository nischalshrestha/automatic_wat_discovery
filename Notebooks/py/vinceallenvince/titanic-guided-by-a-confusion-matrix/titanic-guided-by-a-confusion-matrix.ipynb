{
  "cells": [
    {
      "cell_type": "markdown",
      "metadata": {
        "_cell_guid": "c012ed1f-a3f8-f26f-7389-5dc73b7e9bdb"
      },
      "source": [
        "## Titanic - Guided by a confusion matrix\n",
        "This walkthrough uses a [confusion matrix][1] to shape the reasoning behind our model construction. In the end, we'll submit a prediction and receive a **0.80861** score which currently lands in the top 500 (~10%) of the leaderboard. \n",
        "\n",
        "This notebook borrows ideas from other [kernels][2]. But it also explores a hypothesis that *children or husbands of perishing mothers likely did not survive*. The counter hypothesis, *children or wives of surviving fathers or husbands likely survived*, further boosts the model's efficiency.\n",
        "\n",
        "Scroll to the bottom if you'd like to skip the boilerplate. \n",
        "\n",
        "  [1]: https://en.wikipedia.org/wiki/Confusion_matrix\n",
        "  [2]: https://www.kaggle.com/oysteijo/titanic/titanic-passenger-survival"
      ]
    },
    {
      "cell_type": "code",
      "execution_count": null,
      "metadata": {
        "_cell_guid": "1073647b-2a76-7fcd-f42e-e7f66e630c5e"
      },
      "outputs": [],
      "source": [
        "from __future__ import division\n",
        "import operator\n",
        "import pandas as pd\n",
        "from pandas import Series, DataFrame\n",
        "import numpy as np\n",
        "\n",
        "import matplotlib.pyplot as plt\n",
        "import seaborn as sns\n",
        "sns.set_style('whitegrid')\n",
        "%matplotlib inline\n",
        "\n",
        "from sklearn.metrics import confusion_matrix\n",
        "\n",
        "from sklearn import preprocessing\n",
        "from sklearn.feature_selection import SelectFromModel\n",
        "from sklearn.model_selection import cross_val_score\n",
        "from sklearn.model_selection import StratifiedKFold\n",
        "from sklearn.model_selection import GridSearchCV\n",
        "\n",
        "from sklearn.linear_model import LogisticRegression\n",
        "from sklearn.svm import SVC, LinearSVC\n",
        "from sklearn.ensemble import RandomForestClassifier\n",
        "from sklearn.ensemble import RandomForestRegressor\n",
        "from sklearn.neighbors import KNeighborsClassifier\n",
        "from sklearn.naive_bayes import GaussianNB"
      ]
    },
    {
      "cell_type": "code",
      "execution_count": null,
      "metadata": {
        "_cell_guid": "904c7dd9-fb76-17f4-6dc6-8d032b13b531"
      },
      "outputs": [],
      "source": [
        "X_train = pd.read_csv('../input/train.csv', dtype={'Age': np.float64})\n",
        "y_train = X_train['Survived']"
      ]
    },
    {
      "cell_type": "code",
      "execution_count": null,
      "metadata": {
        "_cell_guid": "8464ff93-7a8a-2124-a596-2b3c59ca9a69"
      },
      "outputs": [],
      "source": [
        "X_test = pd.read_csv('../input/test.csv', dtype={'Age': np.float64})"
      ]
    },
    {
      "cell_type": "markdown",
      "metadata": {
        "_cell_guid": "13c0f2ab-f6e4-eac4-751b-b3da9435bf02"
      },
      "source": [
        "## Functions\n",
        "Let's create some functions we'll use to help guide our thinking."
      ]
    },
    {
      "cell_type": "code",
      "execution_count": null,
      "metadata": {
        "_cell_guid": "c0c9b952-9ed4-ab4d-5bdf-fbd9b24117a1"
      },
      "outputs": [],
      "source": [
        "def plot_confusion_mat(null_mat, confused_mat, legend_loc=3, scores=None, filename=None):\n",
        "    \"\"\"\n",
        "    Renders a confusion matrix and creates a bar graph representing the model's\n",
        "    previous and current F1 scores.\n",
        "    \"\"\"\n",
        "    \n",
        "    new_style = {'grid': False}\n",
        "    plt.rc('axes', **new_style)\n",
        "\n",
        "    colors = ['#3182bd', '#fd8d3c', '#fdd0a2', '#c6dbef', '#9467bd', '#98df8a']\n",
        "    line_alpha = 0.25\n",
        "    plot_size = confused_mat.sum()\n",
        "    quad = plot_size / 2\n",
        "   \n",
        "    fig, (axis1, axis2) = plt.subplots(1, 2, figsize=(10, 5))\n",
        "\n",
        "    ##########\n",
        "    # AXIS 1 #\n",
        "    ##########\n",
        "    \n",
        "    axis1.tick_params(\n",
        "        axis='both',\n",
        "        top='off',right='off', bottom='off', left='off',\n",
        "        labeltop='off', labelright='off', labelbottom='off', labelleft='off')\n",
        "    axis1.spines['top'].set_linewidth(0)\n",
        "    axis1.spines['right'].set_linewidth(0)\n",
        "    axis1.spines['bottom'].set_linewidth(0)\n",
        "    axis1.spines['left'].set_linewidth(0)\n",
        "\n",
        "    axis1.set_xlim(0,plot_size)\n",
        "    axis1.set_ylim(0,plot_size)\n",
        "\n",
        "    # plot cross marks\n",
        "    axis1.plot([quad, quad], [0, plot_size], color='0', alpha=line_alpha)\n",
        "    axis1.plot([0, plot_size], [quad, quad], color='0', alpha=line_alpha)\n",
        "    \n",
        "    # draw confusion matrix\n",
        "    \n",
        "    total_tn = null_mat[0][0]\n",
        "    total_fn = null_mat[1][0]\n",
        "    \n",
        "    tn = confused_mat[0][0]\n",
        "    a = (tn/total_tn) * quad # percentage of total true negatives * quad\n",
        "    axis1.bar([quad-a], [a], width=a, bottom=quad, lw=0, color=colors[0], label='True negative')\n",
        "    \n",
        "    fp = confused_mat[0][1]\n",
        "    a = (fp/total_fn) * quad # percentage of total false negatives * quad\n",
        "    axis1.bar([quad], [a], width=a, bottom=quad, lw=0, color=colors[1], label='False positive')\n",
        "    \n",
        "    fn = confused_mat[1][0]\n",
        "    a = (fn/total_fn) * quad # percentage of total false negatives * quad\n",
        "    axis1.bar([quad-a], [a], width=a, bottom=quad-a, lw=0, color=colors[2], label='False negative')\n",
        "    \n",
        "    tp = confused_mat[1][1]\n",
        "    a = (tp/total_fn) * quad # percentage of total true negatives * quad\n",
        "    axis1.bar([quad], [a], width=a, bottom=quad-a, lw=0, color=colors[3], label='True positive')\n",
        "\n",
        "    # legend\n",
        "    leg = axis1.legend(loc=legend_loc, framealpha=line_alpha, borderpad=1, labelspacing=1, handlelength=1, fontsize=11)\n",
        "    \n",
        "    # set the linewidth of each legend object\n",
        "    for legobj in leg.legendHandles:\n",
        "        legobj.set_linewidth(0)\n",
        "    \n",
        "    ##########\n",
        "    # AXIS 2 #\n",
        "    ##########\n",
        "    \n",
        "    lw = 0.75 if scores != None else 0.0\n",
        "    ticks = 'on' if scores != None else 'off'\n",
        "    axis2.tick_params(\n",
        "        axis='both',\n",
        "        top='off',right='off', bottom=ticks, left=ticks,\n",
        "        labeltop='off', labelright='off', labelbottom=ticks, labelleft=ticks)\n",
        "    axis2.spines['top'].set_linewidth(0)\n",
        "    axis2.spines['right'].set_linewidth(0)\n",
        "    axis2.spines['bottom'].set_linewidth(lw)\n",
        "    axis2.spines['left'].set_linewidth(lw)\n",
        "    \n",
        "    if scores:\n",
        "    \n",
        "        bar_width=10\n",
        "        bar_padding=5\n",
        "        axis2.set_xlim(0, 40)\n",
        "        axis2.set_ylim(0, 1)\n",
        "\n",
        "        x = [1.5*bar_width, 2.5*bar_width]\n",
        "    \n",
        "        if len(scores) > 1:\n",
        "            axis2.bar(bar_width, scores[-2]['f1'], width=bar_width, lw=0, color=colors[4], alpha=0.3)\n",
        "        axis2.bar(2*bar_width, scores[-1]['f1'], width=bar_width, lw=0, color=colors[4])\n",
        "\n",
        "        axis2.set_xticks(x)\n",
        "        axis2.set_xticklabels(['previous', 'current'])\n",
        "        axis2.set_ylabel('F1 score')\n",
        "    \n",
        "    plt.tight_layout(w_pad=6.0)\n",
        "    if (filename):\n",
        "        plt.savefig('plots/' + filename)\n",
        "        "
      ]
    },
    {
      "cell_type": "code",
      "execution_count": null,
      "metadata": {
        "_cell_guid": "b7f511bb-7a9d-6c72-6a1e-0b17f2462eb3"
      },
      "outputs": [],
      "source": [
        "def check_classifiers(X_train, Y_train):\n",
        "    \"\"\"\n",
        "    Returns a sorted list of accuracy scores from fitting and scoring passed data\n",
        "    against several alogrithms.\n",
        "    \"\"\"\n",
        "    _cv = 5\n",
        "    classifier_score = {}\n",
        "    \n",
        "    scores = cross_val_score(LogisticRegression(), X, y, cv=_cv)\n",
        "    classifier_score['LogisticRegression'] = scores.mean()\n",
        "    \n",
        "    scores = cross_val_score(KNeighborsClassifier(), X, y, cv=_cv)\n",
        "    classifier_score['KNeighborsClassifier'] = scores.mean()\n",
        "    \n",
        "    scores = cross_val_score(RandomForestClassifier(), X, y, cv=_cv)\n",
        "    classifier_score['RandomForestClassifier'] = scores.mean()\n",
        "    \n",
        "    scores = cross_val_score(SVC(), X, y, cv=_cv)\n",
        "    classifier_score['SVC'] = scores.mean()\n",
        "    \n",
        "    scores = cross_val_score(GaussianNB(), X, y, cv=_cv)\n",
        "    classifier_score['GaussianNB'] = scores.mean()\n",
        "\n",
        "    return sorted(classifier_score.items(), key=operator.itemgetter(1), reverse=True)"
      ]
    },
    {
      "cell_type": "code",
      "execution_count": null,
      "metadata": {
        "_cell_guid": "70b0243e-2623-08d9-8e54-a7d934117656"
      },
      "outputs": [],
      "source": [
        "def get_confused_mat(X, y):\n",
        "    \"\"\"\n",
        "    Returns a 2X2 matrix listing true negatives, false postives, false negatives and\n",
        "    true positives (a confusion matrix).\n",
        "    \"\"\"\n",
        "    classifier = LogisticRegression()\n",
        "    classifier.fit(X, y)\n",
        "    return confusion_matrix(y, classifier.predict(X))"
      ]
    },
    {
      "cell_type": "code",
      "execution_count": null,
      "metadata": {
        "_cell_guid": "73c6b533-5eeb-ac8c-5050-55706a8ac34a"
      },
      "outputs": [],
      "source": [
        "confusion_scores = []\n",
        "def get_confusion_scores(clf, X, y):\n",
        "    \"\"\"\n",
        "    Returns relevant confusion matrix scores.\n",
        "    \"\"\"\n",
        "    \n",
        "    # accuracy: fraction of the classifier's predictions that are correct.\n",
        "    accuracy = cross_val_score(clf, X, y, cv=5, scoring='accuracy')\n",
        "\n",
        "    # precision: fraction of correct positive predictions.\n",
        "    # A precision score of one indicates the classifier did not make any false positive predictions.\n",
        "    precision = cross_val_score(clf, X, y, cv=5, scoring='precision')\n",
        "\n",
        "    # recall: fraction of truly positive instances the classifier recognizes.\n",
        "    # A recall score of one indicates the classifier did not make any false negative predictions.\n",
        "    recall = cross_val_score(clf, X, y, cv=5, scoring='recall')\n",
        "\n",
        "    # F1: harmonic mean bw precision and recall\n",
        "    f1 = cross_val_score(clf, X, y, cv=5, scoring='f1')\n",
        "    \n",
        "    return {'accuracy': np.mean(accuracy),\n",
        "            'precision': np.mean(precision),\n",
        "            'recall': np.mean(recall),\n",
        "            'f1': np.mean(f1)}"
      ]
    },
    {
      "cell_type": "markdown",
      "metadata": {
        "_cell_guid": "f66085f2-86df-9151-fa1f-bafc50b5bdeb"
      },
      "source": [
        "### Missing data\n",
        "Before we get started, we need to fill missing ages for several passengers. We'll use mean age of all passengers by name prefix as fill values for missing ages."
      ]
    },
    {
      "cell_type": "code",
      "execution_count": null,
      "metadata": {
        "_cell_guid": "0ec9ca95-259b-fcc4-169a-26dde6cadb97"
      },
      "outputs": [],
      "source": [
        "_name = 'Name'\n",
        "_age = 'Age'\n",
        "_master = 'Master.'\n",
        "_miss = 'Miss.'\n",
        "_mrs = 'Mrs.'\n",
        "_mr = 'Mr.'\n",
        "_dr = 'Dr.'\n",
        "\n",
        "mean_ages = {\n",
        "    'Master.': int(X_train[X_train[_name].apply(lambda x: x.find(_master)) != -1][_age].dropna().mean()),\n",
        "    'Miss.': int(X_train[X_train[_name].apply(lambda x: x.find(_miss)) != -1][_age].dropna().mean()),\n",
        "    'Mrs.': int(X_train[X_train[_name].apply(lambda x: x.find(_mrs)) != -1][_age].dropna().mean()),\n",
        "    'Mr.': int(X_train[X_train[_name].apply(lambda x: x.find(_mr)) != -1][_age].dropna().mean()),\n",
        "    'Dr.': int(X_train[X_train[_name].apply(lambda x: x.find(_dr)) != -1][_age].dropna().mean())\n",
        "}\n",
        "\n",
        "def approx_age(nm):\n",
        "    if (nm.find(_master) != -1):\n",
        "        return mean_ages[_master]\n",
        "    elif (nm.find(_miss) != -1):\n",
        "        return mean_ages[_miss]\n",
        "    elif (nm.find(_mrs) != -1):\n",
        "        return mean_ages[_mrs]\n",
        "    elif (nm.find(_mr) != -1):\n",
        "        return mean_ages[_mr]\n",
        "    else:\n",
        "        return mean_ages[_dr]\n",
        "\n",
        "# where Age is nan, get the Name and apply approx_age; return a Series as index: Age\n",
        "updated_ages = X_train[np.isnan(X_train[_age])][_name].apply(approx_age)\n",
        "\n",
        "# where Age is nan, update values\n",
        "X_train[_age].fillna(updated_ages, inplace=True)\n",
        "\n",
        "# do the same for the test set\n",
        "updated_ages = X_test[np.isnan(X_test[_age])][_name].apply(approx_age)\n",
        "X_test[_age].fillna(updated_ages, inplace=True)"
      ]
    },
    {
      "cell_type": "markdown",
      "metadata": {
        "_cell_guid": "920f4f67-74b6-b6ca-0828-b4c0a963eb30"
      },
      "source": [
        "<a id='the_destination'></a>"
      ]
    },
    {
      "cell_type": "markdown",
      "metadata": {
        "_cell_guid": "cb68de09-4c3d-04f1-f4bc-6757641805db"
      },
      "source": [
        "### Start with a null hypothesis\n",
        "As a starting point, let's create the most simple model possible and assert everyone died. From here on out, if updates to our model improve accuracy over the null hypothesis, we know we're doing something right."
      ]
    },
    {
      "cell_type": "code",
      "execution_count": null,
      "metadata": {
        "_cell_guid": "2bc08c40-ce7c-31c7-8295-2f62386c882e"
      },
      "outputs": [],
      "source": [
        "null_hypothesis = 1 - X_train.Survived.mean()\n",
        "null_hypothesis"
      ]
    },
    {
      "cell_type": "markdown",
      "metadata": {
        "_cell_guid": "a2e2903a-7fe1-12ec-86af-dcf24a04002e"
      },
      "source": [
        "Let's think in terms of error. Our current training error is **0.39** (1 - 0.61). That's a lot of error. Fortunately, a good portion is *reducible error*. We will construct generalizations about our data and incrementally transfer error to accuracy. \n",
        "\n",
        "Some of this error is *irreducible error*. Take some time to read first hand accounts of [people who jumped into lifeboats][1] as they were lowered, or [jumped into the water][2] from the deck of the ship, or [exited a lifeboat before it was lowered][3] to look for missing family members. Chance was a large factor determining passengers' survival. If we create an efficient model, our error will largely describe random chance that we'll never be able to generalize.\n",
        "\n",
        "\n",
        "  [1]: https://www.encyclopedia-titanica.org/titanic-survivor/sahid-nakid.html\n",
        "  [2]: https://www.encyclopedia-titanica.org/titanic-survivor/john-borland-thayer-jr.html\n",
        "  [3]: https://www.encyclopedia-titanica.org/titanic-victim/bessie-waldo-allison.html"
      ]
    },
    {
      "cell_type": "code",
      "execution_count": null,
      "metadata": {
        "_cell_guid": "9e97e23b-5f95-4084-28d2-de14c706105e"
      },
      "outputs": [],
      "source": [
        "# run thru our classifiers just for fun\n",
        "X_train['null_hypo'] = 0.0\n",
        "X = DataFrame(X_train['null_hypo'])\n",
        "y = X_train['Survived']\n",
        "scores = check_classifiers(X, y)\n",
        "scores"
      ]
    },
    {
      "cell_type": "code",
      "execution_count": null,
      "metadata": {
        "_cell_guid": "20a209a3-6fc1-210c-da7b-499e8a7381be"
      },
      "outputs": [],
      "source": [
        "# supress warnings about 0.0 scores\n",
        "import warnings\n",
        "warnings.filterwarnings('ignore')\n",
        "confusion_scores.append(get_confusion_scores(LogisticRegression(), X, y))"
      ]
    },
    {
      "cell_type": "code",
      "execution_count": null,
      "metadata": {
        "_cell_guid": "ffce80c8-8191-4cc8-ed35-402e98500ff3"
      },
      "outputs": [],
      "source": [
        "confused_mat = get_confused_mat(X, y)\n",
        "null_mat = confused_mat.copy()\n",
        "plot_confusion_mat(null_mat, confused_mat, legend_loc=1, scores=confusion_scores)"
      ]
    },
    {
      "cell_type": "markdown",
      "metadata": {
        "_cell_guid": "160c1761-ffd5-6579-f5ec-980cd98d5d2f"
      },
      "source": [
        "Using the matrix above, we can see what happens when we label everyone as a victim. The top row represents 549 victims in our training set. The bottom row represents 342 survivors. \n",
        "\n",
        "Since our model labels *everyone* as a victim, we misclassify (orange) all the survivors. Our confusion matrix renders all 342 survivors as false negatives.  \n",
        "\n",
        "Clearly, not everyone died. Let's identify some features to account for survivors and pull some of these false negatives over to true positives."
      ]
    },
    {
      "cell_type": "markdown",
      "metadata": {
        "_cell_guid": "e3a9d544-e74f-981b-104d-786cc55a3e24"
      },
      "source": [
        "### Sex\n",
        "Accounts of the evacuation effort indicate the ship's officers applied the 'Women and children first' doctrine when organizing people in lifeboats. Simply asserting *all women survived and all men died* should improve our model. Of course we know some women died and some men survived. You can get details in this [gender as a feature analysis](https://gist.github.com/vinceallenvince/06c83b0a1c62a10b296cac79f249e394). Meanwhile, we're starting with broad generalizations and will refine our features along the way."
      ]
    },
    {
      "cell_type": "code",
      "execution_count": null,
      "metadata": {
        "_cell_guid": "4f4a762b-93c5-9bad-40d4-e2b6b398ecc8"
      },
      "outputs": [],
      "source": [
        "# create dummy variables\n",
        "_feature = 'Sex'\n",
        "\n",
        "# train\n",
        "dummies = pd.get_dummies(X_train[_feature])\n",
        "X_train = X_train.join(dummies)\n",
        "\n",
        "# test\n",
        "dummies = pd.get_dummies(X_test[_feature])\n",
        "X_test = X_test.join(dummies)"
      ]
    },
    {
      "cell_type": "code",
      "execution_count": null,
      "metadata": {
        "_cell_guid": "d8894080-34b3-29c5-1bd2-bad2f335c707"
      },
      "outputs": [],
      "source": [
        "# drop male bc it has the lower average of survived passengers\n",
        "# https://gist.github.com/vinceallenvince/06c83b0a1c62a10b296cac79f249e394\n",
        "features = ['female']"
      ]
    },
    {
      "cell_type": "code",
      "execution_count": null,
      "metadata": {
        "_cell_guid": "062c78c5-6fe6-a68c-20dc-1fb318cc7b0d"
      },
      "outputs": [],
      "source": [
        "X = DataFrame(X_train[features])\n",
        "y = y_train\n",
        "scores = check_classifiers(X, y)\n",
        "scores"
      ]
    },
    {
      "cell_type": "code",
      "execution_count": null,
      "metadata": {
        "_cell_guid": "8e24236c-7f01-ab57-83e3-6501a8144bf8"
      },
      "outputs": [],
      "source": [
        "confusion_scores.append(get_confusion_scores(LogisticRegression(), X, y))\n",
        "plot_confusion_mat(null_mat, get_confused_mat(X, y), scores=confusion_scores)"
      ]
    },
    {
      "cell_type": "markdown",
      "metadata": {
        "_cell_guid": "4982bac2-b79c-7551-64cd-f882fdd5db73"
      },
      "source": [
        "Our confusion matrix reflects a big change. The light blue square represents the female survivors in 'female' feature (true positives). It's not full because some women died. We can find these women in the orange square at the top right (false positives).\n",
        "\n",
        "We still have some false negatives. The \"Women and children first\" doctrine accounted for male children. When we assert all males died, we misclassify a large group of male children as victims who actually survived.\n",
        "\n",
        "Also, notice we have a non-zero F1 score. An [F1 score](https://en.wikipedia.org/wiki/F1_score) is the harmonic mean between [precision and recall](https://en.wikipedia.org/wiki/Precision_and_recall) and is a measure our model's accuracy.\n",
        "\n",
        "Precision is the fraction of true positive predictions as opposed to false positives. High precision reflects high quality results. Recall is the fraction of true positive predictions as opposed to false negatives. High recall reflects high quantity results.\n",
        "\n",
        "As we improve our F1 score, the sum of the area of the orange boxes in the confusion matrix will get smaller."
      ]
    },
    {
      "cell_type": "markdown",
      "metadata": {
        "_cell_guid": "64932b0b-af70-5b5b-efbc-abd7938532f7"
      },
      "source": [
        "### Person\n",
        "We can account for the misclassified children if we engineer a 'Person' feature with the labels 'male_adult', 'female_adult' and 'child'. As a refinement to our model, we'll assert *all adult females and all children survived while all adult males died*. Please check out a [Person feature EDA](https://gist.github.com/vinceallenvince/9b1cd6bfbf5b8ad49e696715a8c8f0ad) for survival rates of these groups."
      ]
    },
    {
      "cell_type": "code",
      "execution_count": null,
      "metadata": {
        "_cell_guid": "2d1c2775-742a-5c41-6a41-533f16a3535b"
      },
      "outputs": [],
      "source": [
        "feature = 'person'\n",
        "\n",
        "# It's likely the age threshold for adults was younger in the early 1900s.\n",
        "# Account of a 9 year-old boy almost getting refused a lifeboat:\n",
        "# https://www.encyclopedia-titanica.org/titanic-survivor/winnie-coutts.html\n",
        "# May want to try younger ages here.\n",
        "child_age = 14\n",
        "\n",
        "def get_person(passenger):\n",
        "    \"\"\"\n",
        "    Returns a person value of 'female_adult', 'male_adult', 'child'.\n",
        "    \"\"\"\n",
        "    age, sex = passenger\n",
        "    \n",
        "    if (age < child_age):\n",
        "        return 'child'\n",
        "    elif (sex == 'female'):\n",
        "        return 'female_adult'\n",
        "    else:\n",
        "        return 'male_adult'\n",
        "    \n",
        "X_train = X_train.join(DataFrame(X_train[['Age', 'Sex']].apply(get_person, axis=1), columns=['person']))\n",
        "X_test = X_test.join(DataFrame(X_test[['Age', 'Sex']].apply(get_person, axis=1), columns=['person']))\n",
        "\n",
        "X_train['person'].value_counts().sort_index()"
      ]
    },
    {
      "cell_type": "code",
      "execution_count": null,
      "metadata": {
        "_cell_guid": "ffc2c577-5dcd-4c0f-cd53-97cdb9bd8637"
      },
      "outputs": [],
      "source": [
        "_feature = 'person'\n",
        "\n",
        "_columns = ['male_adult', 'female_adult', 'child']\n",
        "\n",
        "# train\n",
        "dummies = pd.get_dummies(X_train[_feature])\n",
        "X_train = X_train.join(dummies)\n",
        "\n",
        "# test\n",
        "dummies = pd.get_dummies(X_test[_feature])\n",
        "X_test = X_test.join(dummies)"
      ]
    },
    {
      "cell_type": "code",
      "execution_count": null,
      "metadata": {
        "_cell_guid": "baa3edf0-a3d8-4f5c-53cf-d8ef44b12874"
      },
      "outputs": [],
      "source": [
        "# drop male_adult as it has the lower average of survived passengers\n",
        "# https://gist.github.com/vinceallenvince/9b1cd6bfbf5b8ad49e696715a8c8f0ad\n",
        "features = ['female_adult', 'child']"
      ]
    },
    {
      "cell_type": "code",
      "execution_count": null,
      "metadata": {
        "_cell_guid": "39ab4ad0-ac49-b4b4-213a-5626239a7843"
      },
      "outputs": [],
      "source": [
        "X = DataFrame(X_train[features])\n",
        "y = y_train\n",
        "scores = check_classifiers(X, y)\n",
        "scores"
      ]
    },
    {
      "cell_type": "code",
      "execution_count": null,
      "metadata": {
        "_cell_guid": "ece602a3-edcd-558b-7468-10be8be01ecc"
      },
      "outputs": [],
      "source": [
        "confusion_scores.append(get_confusion_scores(LogisticRegression(), X, y))\n",
        "plot_confusion_mat(null_mat, get_confused_mat(X, y), scores=confusion_scores)"
      ]
    },
    {
      "cell_type": "markdown",
      "metadata": {
        "_cell_guid": "5cb2b118-fd2b-5737-f467-ea5a539d0af6"
      },
      "source": [
        "Our score slightly improved but not as much as we may have anticipated. By accounting for children, we regained 23 male children misclassified as victims. These passengers were transferred from false negatives to true positives.\n",
        "\n",
        "At the same time, our improvements were offset by an increase in false positives. Not all children survived. To account for this increase, we need to add dimension to our model."
      ]
    },
    {
      "cell_type": "markdown",
      "metadata": {
        "_cell_guid": "6a9e8c05-9af6-455f-9a36-5e2b7dbeac44"
      },
      "source": [
        "### Class\n",
        "Looking at survival rates, first and second class had much higher survival rates for women and children. With a class feature, our model will assert *all female adults and children in classes 1 and 2 survived and everyone else died*. Look for overall survival rates in this [Pclass feature EDA](https://gist.github.com/vinceallenvince/58099082334230e90b3aec1bfd4f3804)."
      ]
    },
    {
      "cell_type": "code",
      "execution_count": null,
      "metadata": {
        "_cell_guid": "15c2cbde-4729-0ea9-fe57-24c184198562"
      },
      "outputs": [],
      "source": [
        "# create dummy variables for person column. \n",
        "_feature = 'Pclass'\n",
        "\n",
        "# train\n",
        "dummies = pd.get_dummies(X_train[_feature], prefix='class')\n",
        "X_train = X_train.join(dummies)\n",
        "\n",
        "# test\n",
        "dummies = pd.get_dummies(X_test[_feature], prefix='class')\n",
        "X_test = X_test.join(dummies)"
      ]
    },
    {
      "cell_type": "code",
      "execution_count": null,
      "metadata": {
        "_cell_guid": "ae4192ae-fcc3-663e-fda6-827ecf396e38"
      },
      "outputs": [],
      "source": [
        "# drop class3 bc it has the lower average of survived passengers across female_adults, male_adults and children\n",
        "# https://gist.github.com/vinceallenvince/58099082334230e90b3aec1bfd4f3804\n",
        "features = ['female_adult', 'child', 'class_1', 'class_2']"
      ]
    },
    {
      "cell_type": "code",
      "execution_count": null,
      "metadata": {
        "_cell_guid": "46f6e833-ba08-eb51-d15b-6b1f3caca60e"
      },
      "outputs": [],
      "source": [
        "X = DataFrame(X_train[features])\n",
        "y = y_train\n",
        "scores = check_classifiers(X, y)\n",
        "scores"
      ]
    },
    {
      "cell_type": "code",
      "execution_count": null,
      "metadata": {
        "_cell_guid": "cfe4d79b-e6d6-e327-8adc-c80079a2e2cb"
      },
      "outputs": [],
      "source": [
        "confusion_scores.append(get_confusion_scores(LogisticRegression(), X, y))\n",
        "plot_confusion_mat(null_mat, get_confused_mat(X, y), scores=confusion_scores)"
      ]
    },
    {
      "cell_type": "markdown",
      "metadata": {
        "_cell_guid": "e8319498-518f-719c-074e-4239b6994499"
      },
      "source": [
        "Our score improved again. Given the low survival rate in class 3, we increased our true negatives and reduced our false positives. We're now accounting for women and children who died in class 3.\n",
        "\n",
        "However, our false negatives are back up again. And our F1 decreased. Contrary to our model's assertion, not all class 3 passengers died.\n",
        "\n",
        "Can we find something in our data to account for surviving class 3 passengers?\n",
        "\n",
        "It's tricky.\n",
        "\n",
        "First, surviving class 3 passengers were very lucky. All other passengers had more time, more access and less people to compete with for a seat in the lifeboats. We can't generalize what's largely attributable to chance.\n",
        "\n",
        "Second, whatever feature we identify to account for surviving class 3 passengers needs to apply to class 1 and 2 passengers as well. If not, we'll trade false negatives between features.\n",
        "\n",
        "We need a featured shared by all passengers to more accurately account for passengers in class 3. Let's start with a correlation matrix and introduce two new features 'SibSp' and 'Parch'. These indicate number of Siblings/Spouses and number of Parents/Children respectively. You can also check out a [Family feature EDA](https://gist.github.com/vinceallenvince/7d5ccc1210b29840dde31d15dd885103)."
      ]
    },
    {
      "cell_type": "code",
      "execution_count": null,
      "metadata": {
        "_cell_guid": "f7ecbd69-fca8-92ec-3316-d9a482417708"
      },
      "outputs": [],
      "source": [
        "corr = X_train[['female_adult', 'male_adult', 'SibSp', 'Parch']].corr()\n",
        "mask = np.zeros_like(corr)\n",
        "mask[np.triu_indices_from(mask)] = True\n",
        "with sns.axes_style(\"white\"):\n",
        "    ax = sns.heatmap(corr, mask=mask, vmax=.3, square=True, annot=True)"
      ]
    },
    {
      "cell_type": "markdown",
      "metadata": {
        "_cell_guid": "40e86ca1-c686-5d87-e12a-32cb06d62f68"
      },
      "source": [
        "We can see female adults were more likely to travel with family. Knowing the \"Women and children first\" doctrine was in place, if a female passenger died, *it's highly likely her spouse or children died as well*. The inverse is also likely true, if a male passenger survived, *it's highly likely his spouse or children survived*.\n",
        "\n",
        "We'll likely find perishing female adults in class 3. If we can create a feature 'perishing_mother_spouse', it's likely we can better account for victims in class 3 and lower our false positives.\n",
        "\n",
        "We can also create a 'surviving_father_husband' feature and account for surviving adult males and their families. Adult males had a very low survival rate, especially in class 3. However, if we can find some with families, it should improve our true positives and lower our false negatives."
      ]
    },
    {
      "cell_type": "markdown",
      "metadata": {
        "_cell_guid": "709a4974-ae98-99aa-1733-4177721be04b"
      },
      "source": [
        "### Surnames\n",
        "To connect males and females with their families, we're going to engineer a feature called **surname** to make it easier to work with passengers' last names."
      ]
    },
    {
      "cell_type": "code",
      "execution_count": null,
      "metadata": {
        "_cell_guid": "52592af9-e353-8665-4cbe-8610738cb08f"
      },
      "outputs": [],
      "source": [
        "def process_surname(nm):\n",
        "    return nm.split(',')[0].lower()\n",
        "\n",
        "X_train['surname'] = X_train['Name'].apply(process_surname)\n",
        "X_test['surname'] = X_test['Name'].apply(process_surname)"
      ]
    },
    {
      "cell_type": "markdown",
      "metadata": {
        "_cell_guid": "09242555-d91b-7a8c-636d-6ceee52384c4"
      },
      "source": [
        "### Surviving fathers and husbands, perishing mothers and wives\n",
        "We'll first create a feature called **perishing_wife_mother** to account for children or husbands of female victims."
      ]
    },
    {
      "cell_type": "code",
      "execution_count": null,
      "metadata": {
        "_cell_guid": "266b7cb3-3f32-aa92-d9c2-5e2ed72fc99f"
      },
      "outputs": [],
      "source": [
        "# find female_adult victims with family\n",
        "perishing_female_surnames = list(set(X_train[(X_train.female_adult == 1.0) &\n",
        "                                     (X_train.Survived == 0.0) &\n",
        "                                     ((X_train.Parch > 0) | (X_train.SibSp > 0))]['surname'].values))\n",
        "\n",
        "print('Total female adult victims with family:', len(perishing_female_surnames))"
      ]
    },
    {
      "cell_type": "code",
      "execution_count": null,
      "metadata": {
        "_cell_guid": "19e3a88c-8f48-f2ac-997d-8658a9abc540"
      },
      "outputs": [],
      "source": [
        "# Return 1 if passenger shares a surname w a perishing female adult.\n",
        "# We're not checking if passengers w matching surname are in the same Pclass. Could introduce error.\n",
        "def perishing_mother_wife(passenger): \n",
        "    surname, Pclass, person = passenger\n",
        "    return 1.0 if (surname in perishing_female_surnames) else 0.0\n",
        "\n",
        "X_train['perishing_mother_wife'] = X_train[['surname', 'Pclass', 'person']].apply(perishing_mother_wife, axis=1)\n",
        "X_test['perishing_mother_wife'] = X_test[['surname', 'Pclass', 'person']].apply(perishing_mother_wife, axis=1)"
      ]
    },
    {
      "cell_type": "code",
      "execution_count": null,
      "metadata": {
        "_cell_guid": "feeea0b9-5005-3845-ce06-f0b2146dfc6e"
      },
      "outputs": [],
      "source": [
        "print('Total passengers traveling with a female adult victim: ', X_train['perishing_mother_wife'].sum())\n",
        "print('Note: includes the female adult victim.')"
      ]
    },
    {
      "cell_type": "markdown",
      "metadata": {
        "_cell_guid": "f3f3fef7-ceab-e395-90bc-41fbd8e51e5c"
      },
      "source": [
        "Next, we'll create a feature called **surviving_father_husband** to account for children or wives of male survivors."
      ]
    },
    {
      "cell_type": "code",
      "execution_count": null,
      "metadata": {
        "_cell_guid": "649c365a-ff95-9c81-3ca7-6036af3e2442"
      },
      "outputs": [],
      "source": [
        "surviving_male_surnames = list(set(X_train[(X_train.male_adult == 1.0) &\n",
        "                                     (X_train.Survived == 1.0) &\n",
        "                                     ((X_train.Parch > 0) | (X_train.SibSp > 0))]['surname'].values))\n",
        "\n",
        "print('Total male adult survivors with family: ', len(surviving_male_surnames))"
      ]
    },
    {
      "cell_type": "code",
      "execution_count": null,
      "metadata": {
        "_cell_guid": "600fe429-9b6d-a6ec-75cf-fc38d1684fb0"
      },
      "outputs": [],
      "source": [
        "# Return 1 if passenger shares a surname w a surviving male adult.\n",
        "# We're not checking if passengers w matching surname are in the same Pclass. Could introduce error.\n",
        "def surviving_father_husband(passenger): \n",
        "    surname, Pclass, person = passenger\n",
        "    return 1.0 if (surname in surviving_male_surnames) else 0.0\n",
        "\n",
        "X_train['surviving_father_husband'] = X_train[['surname', 'Pclass', 'person']].apply(surviving_father_husband, axis=1)\n",
        "X_test['surviving_father_husband'] = X_test[['surname', 'Pclass', 'person']].apply(surviving_father_husband, axis=1)"
      ]
    },
    {
      "cell_type": "code",
      "execution_count": null,
      "metadata": {
        "_cell_guid": "3c2da8da-c807-3943-3b0a-ba4ca107cffa"
      },
      "outputs": [],
      "source": [
        "print('Total passengers traveling with a male adult survivor: ', X_train['surviving_father_husband'].sum())\n",
        "print('Note: includes the male adult survivor.')"
      ]
    },
    {
      "cell_type": "code",
      "execution_count": null,
      "metadata": {
        "_cell_guid": "f76caf18-18e5-c4b4-3945-13c95db93f36"
      },
      "outputs": [],
      "source": [
        "features = ['female_adult', 'child', 'class_1', 'class_2', 'perishing_mother_wife']"
      ]
    },
    {
      "cell_type": "code",
      "execution_count": null,
      "metadata": {
        "_cell_guid": "690f92f6-8950-9af4-0fba-a77d494af4a6"
      },
      "outputs": [],
      "source": [
        "X = DataFrame(X_train[features])\n",
        "y = y_train\n",
        "scores = check_classifiers(X, y)\n",
        "scores"
      ]
    },
    {
      "cell_type": "code",
      "execution_count": null,
      "metadata": {
        "_cell_guid": "4213649b-f51a-2bf4-2e0c-3404b1b1d275"
      },
      "outputs": [],
      "source": [
        "confusion_scores.append(get_confusion_scores(LogisticRegression(), X, y))\n",
        "plot_confusion_mat(null_mat, get_confused_mat(X, y), scores=confusion_scores)"
      ]
    },
    {
      "cell_type": "markdown",
      "metadata": {
        "_cell_guid": "6856760b-189c-d987-95af-4c89abf10212"
      },
      "source": [
        "By accounting for perishing mothers/wives, we greatly improved our accuracy and reduced our false positives. It makes sense our model reduces false positives since we're making connections between people who likely died. The trade off between false positive and true negative is likely male children traveling in class 3 who we misclassified as survivors."
      ]
    },
    {
      "cell_type": "code",
      "execution_count": null,
      "metadata": {
        "_cell_guid": "056b1ca6-a5cc-41e1-c369-f526d625b548"
      },
      "outputs": [],
      "source": [
        "features = ['female_adult', 'child', 'class_1', 'class_2', 'perishing_mother_wife', 'surviving_father_husband']"
      ]
    },
    {
      "cell_type": "code",
      "execution_count": null,
      "metadata": {
        "_cell_guid": "fa722807-61c3-b845-9a9e-ce3ea62e8859"
      },
      "outputs": [],
      "source": [
        "X = DataFrame(X_train[features])\n",
        "y = y_train\n",
        "scores = check_classifiers(X, y)\n",
        "scores"
      ]
    },
    {
      "cell_type": "code",
      "execution_count": null,
      "metadata": {
        "_cell_guid": "e5c6e123-bf9b-5106-a884-12b976500abb"
      },
      "outputs": [],
      "source": [
        "confusion_scores.append(get_confusion_scores(LogisticRegression(), X, y))\n",
        "plot_confusion_mat(null_mat, get_confused_mat(X, y), scores=confusion_scores)"
      ]
    },
    {
      "cell_type": "markdown",
      "metadata": {
        "_cell_guid": "60e83dc5-c8a2-8a96-40b0-2b993256c7f6"
      },
      "source": [
        "By connecting male survivors (surviving_father_husband) with their families, we reduced our false negatives. The trade off between false negative and true positives is likely the male adults and male children in class 3 we misclassified as victims."
      ]
    },
    {
      "cell_type": "markdown",
      "metadata": {
        "_cell_guid": "344c50fa-f0e8-bc9e-389f-1ca455f14f35"
      },
      "source": [
        "### Submit\n",
        "Let's submit and see where we stand."
      ]
    },
    {
      "cell_type": "code",
      "execution_count": null,
      "metadata": {
        "_cell_guid": "8e90f1ec-3bbb-696c-fb8e-6f3c19cb1093"
      },
      "outputs": [],
      "source": [
        "def param_grid_search(X, y, clf, parameter_grid):\n",
        "    skf = StratifiedKFold(n_splits=5)\n",
        "    splits = skf.get_n_splits(X, y)\n",
        "    grid_search = GridSearchCV(clf,\n",
        "                           param_grid=parameter_grid,\n",
        "                           cv=splits)\n",
        "    grid_search.fit(X, y)\n",
        "    return grid_search\n",
        "\n",
        "def print_scores(grid_search):\n",
        "    print('Best score: {}'.format(grid_search.best_score_))\n",
        "    print('Best parameters: {}'.format(grid_search.best_params_))\n",
        "    print('Best estimator: {}'.format(grid_search.best_estimator_))"
      ]
    },
    {
      "cell_type": "code",
      "execution_count": null,
      "metadata": {
        "_cell_guid": "60b0650a-66d6-75f7-9c7c-f8cbca7deffd"
      },
      "outputs": [],
      "source": [
        "parameter_grid = [{\n",
        "        'penalty': ['l1'],\n",
        "        'C':(0.01, 0.1, 1, 10, 100, 1000),\n",
        "        'fit_intercept': [True, False],\n",
        "        'solver': ['liblinear']\n",
        "    },\n",
        "    {\n",
        "        'penalty': ['l2'],\n",
        "        'C':(0.01, 0.1, 1, 10, 100, 1000),\n",
        "        'fit_intercept': [True, False],\n",
        "        'solver': ['newton-cg', 'lbfgs', 'sag']\n",
        "    },\n",
        "    {\n",
        "        'penalty': ['l2'],\n",
        "        'C':(0.01, 0.1, 1, 10, 100, 1000),\n",
        "        'fit_intercept': [True, False],\n",
        "        'solver': ['lbfgs'],\n",
        "        'multi_class': ['ovr', 'multinomial']\n",
        "}]\n",
        "grid_search = param_grid_search(X, y, LogisticRegression(), parameter_grid)\n",
        "print_scores(grid_search)\n",
        "output = grid_search.predict(X_test[features]).astype(int)\n",
        "df_output = pd.DataFrame()\n",
        "df_output['PassengerId'] = X_test['PassengerId']\n",
        "df_output['Survived'] = output\n",
        "df_output[['PassengerId','Survived']].to_csv('titanic_submit.csv',index=False)"
      ]
    },
    {
      "cell_type": "markdown",
      "metadata": {
        "_cell_guid": "8aa69fe9-6bf7-36c8-97aa-00d640d465ef"
      },
      "source": [
        "Our submitted score returned: **0.80861**"
      ]
    },
    {
      "cell_type": "markdown",
      "metadata": {
        "_cell_guid": "3f7a40f2-f4b7-c553-42c2-362ee8aad717"
      },
      "source": [
        "We are definitely overfitting which is no surprise considering our strategy uses surnames from the training set to link family members. But looking at our coefficients, we have a strong model."
      ]
    },
    {
      "cell_type": "code",
      "execution_count": null,
      "metadata": {
        "_cell_guid": "215d3a5c-de10-3ca2-bce1-44e09adb5c7c"
      },
      "outputs": [],
      "source": [
        "# get Correlation Coefficient for each feature using Logistic Regression\n",
        "coeff_df = DataFrame(X.columns)\n",
        "coeff_df.columns = ['Features']\n",
        "classifier = LogisticRegression()\n",
        "coeff_df[\"Coefficient Estimate\"] = pd.Series(classifier.fit(X, y).coef_[0])\n",
        "\n",
        "# preview\n",
        "coeff_df"
      ]
    },
    {
      "cell_type": "markdown",
      "metadata": {
        "_cell_guid": "53d167c9-001d-897b-770e-b2419cfa9866"
      },
      "source": [
        "### Where to go from here\n",
        "Connecting families to females who died or males who survived is a powerful pattern that gave our score a nice boost. Can we increase it further? Since we're using surname to link these passengers, we could look at the test set for more surnames. However, how to go about it deserves discussion beyond this notebook "
      ]
    },
    {
      "cell_type": "markdown",
      "metadata": {
        "_cell_guid": "64d1a8c2-7f08-5e4f-1c63-80506276ee44"
      },
      "source": [
        "### Finally\n",
        "Here's a gif rendering our confusion matrix's progress as we constructed our model.\n",
        "\n",
        "![Titanic confusion matrix][1]\n",
        "\n",
        "Good luck!\n",
        "\n",
        "[1]: http://i.imgur.com/mgxOomU.gif"
      ]
    }
  ],
  "metadata": {
    "_change_revision": 0,
    "_is_fork": false,
    "kernelspec": {
      "display_name": "Python 3",
      "language": "python",
      "name": "python3"
    },
    "language_info": {
      "codemirror_mode": {
        "name": "ipython",
        "version": 3
      },
      "file_extension": ".py",
      "mimetype": "text/x-python",
      "name": "python",
      "nbconvert_exporter": "python",
      "pygments_lexer": "ipython3",
      "version": "3.5.2"
    }
  },
  "nbformat": 4,
  "nbformat_minor": 0
}