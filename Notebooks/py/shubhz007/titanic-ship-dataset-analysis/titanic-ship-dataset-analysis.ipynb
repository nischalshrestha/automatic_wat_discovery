{
  "cells": [
    {
      "cell_type": "markdown",
      "metadata": {
        "_cell_guid": "ecec16f1-84d5-e418-5020-8a7080adde93"
      },
      "source": [
        "# Titanic ship dataset analysis\n",
        "#### Author: Shubham Bhardwaj\n",
        "\n",
        "## Introduction\n",
        "\n",
        "The data set which we are analysing is of Titanic. Titanic was the largest and most luxurious ship of its time, unfortunetly it drowned on its first ride only. We will be analysing the data set of that ship to figure out some of the major questions coined after that incident.\n",
        "\n",
        "Some of the major questions that comes to our mind are given below:\n",
        "- [ ] Total number of passengers travelling ?  \n",
        "- [ ] Total number of people survived, total death \n",
        "- [ ] Number of males and females travelling\n",
        "- [ ] Number of males and females survived and dead \n",
        "- [ ] Number of passengers in 1st class, 2nd class and 3rd class\n",
        "- [ ] Passengers survived in 1st, 2nd and 3rd class respectively\n",
        "- [ ] Passengers on boarded from diff stations with their numbers and how many of them survived\n",
        "- [ ] Number of people survived <10, 10-20, 20-40, 40-60, >60  \n",
        "- [ ] Total fare \n",
        "- [ ] Number of people whose ages are missing\n",
        "- [ ] Mean survivors and death\n",
        "- [ ] Number of people survived from each station"
      ]
    },
    {
      "cell_type": "markdown",
      "metadata": {
        "_cell_guid": "4a20d391-cd19-141f-945f-272c114327c5"
      },
      "source": [
        "## Load and check data"
      ]
    },
    {
      "cell_type": "code",
      "execution_count": null,
      "metadata": {
        "_cell_guid": "1d1d1078-c27c-d207-63f4-ebf68e7c1ff4"
      },
      "outputs": [],
      "source": [
        "#Loading all the necessary libraries\n",
        "import unicodecsv\n",
        "import numpy as np # linear algebra\n",
        "import pandas as pd # data processing, CSV file I/O (e.g. pd.read_csv)\n",
        "import matplotlib.pyplot as plt #for visualisation\n",
        "import seaborn as sns #for visualisation\n",
        "%matplotlib inline"
      ]
    },
    {
      "cell_type": "code",
      "execution_count": null,
      "metadata": {
        "_cell_guid": "88fcbd21-9c8e-92b8-c7e7-fd4685c8ca39"
      },
      "outputs": [],
      "source": [
        "#Reading data from Comma Separated Values files\n",
        "#Creating the dataframe to get the clean structure of the data and its description, pandas will help us save time in this\n",
        "titanic_df = pd.read_csv('../input/train.csv')\n",
        "\n",
        "col_names=titanic_df.columns.tolist()\n",
        "print(\"column names:\")\n",
        "print(col_names)"
      ]
    },
    {
      "cell_type": "code",
      "execution_count": null,
      "metadata": {
        "_cell_guid": "81dd0c85-90e1-bca7-c706-6353ac511f97"
      },
      "outputs": [],
      "source": [
        "print(\"Sample data:\")\n",
        "titanic_df.head(6)"
      ]
    },
    {
      "cell_type": "code",
      "execution_count": null,
      "metadata": {
        "_cell_guid": "71eff0ec-fdf0-8baf-075b-b1445b83e181"
      },
      "outputs": [],
      "source": [
        "#Dataframe Information\n",
        "titanic_df.describe()\n",
        "#From the description we can see that we have mean of all the columns, since we have mean of age also then we can replace the missing values of age with its mean value"
      ]
    },
    {
      "cell_type": "code",
      "execution_count": null,
      "metadata": {
        "_cell_guid": "acb122f3-8a42-6ae0-0f51-d7a76adf3c47"
      },
      "outputs": [],
      "source": [
        "#Dataframe datatype information\n",
        "titanic_df.dtypes"
      ]
    },
    {
      "cell_type": "markdown",
      "metadata": {
        "_cell_guid": "27f5803e-2f3f-4b81-f124-4df28058bdc0"
      },
      "source": [
        "### Uniquness\n",
        "\n",
        "PassengersID seems to be our primary key for this data that can be used to identify any record. Lets make this thought sure. Lets all the unique value in PassengerID and compare it with the unique values in passengerID if it happens so then we can say that all the values in PassengerID column is unique."
      ]
    },
    {
      "cell_type": "code",
      "execution_count": null,
      "metadata": {
        "_cell_guid": "ff2f658d-329c-ead9-a2c3-93ee6c10d160"
      },
      "outputs": [],
      "source": [
        "titanic_df['PassengerId'].count()"
      ]
    },
    {
      "cell_type": "code",
      "execution_count": null,
      "metadata": {
        "_cell_guid": "69221023-a7d1-4066-182f-0a4a63859e88"
      },
      "outputs": [],
      "source": [
        "unique_PassengerId = titanic_df['PassengerId'].unique()\n",
        "len(unique_PassengerId)"
      ]
    },
    {
      "cell_type": "markdown",
      "metadata": {
        "_cell_guid": "0fcd6499-c234-3cba-e75e-f8b337417159"
      },
      "source": [
        "This makes us sure that our approach was right and PassengerID is a unique column with a unique values."
      ]
    },
    {
      "cell_type": "markdown",
      "metadata": {
        "_cell_guid": "31ea399a-f610-5930-2161-b57180f35dfd"
      },
      "source": [
        "### Finding the missing values\n",
        "\n",
        "Before moving further with our analysis we should make sure that there are no missing values in our data set, because taht can completely change the conclusion and prediction from our dataset."
      ]
    },
    {
      "cell_type": "code",
      "execution_count": null,
      "metadata": {
        "_cell_guid": "5d2de8df-4043-d2ba-2351-419cbc3df56a"
      },
      "outputs": [],
      "source": [
        "#Method to find out missing records\n",
        "def missingData(param):\n",
        "    return titanic_df[(titanic_df[param].isnull())]['PassengerId'].count()\n",
        "    \n",
        "    \n",
        "def finding_missing_record():\n",
        "    missingPassengers = missingData('PassengerId') \n",
        "    missingSurvived = missingData('Survived')\n",
        "    missingPclass = missingData('Pclass')\n",
        "    missingName = missingData('Name')\n",
        "    missingSex = missingData('Sex')\n",
        "    missingAge = missingData('Age')\n",
        "    missingSibSp = missingData('SibSp')\n",
        "    missingParch = missingData('Parch')\n",
        "    missingTicket = missingData('Ticket')\n",
        "    missingFare = missingData('Fare')\n",
        "    #missingCabin = missingData('Cabin')\n",
        "    missingEmbarked = missingData('Embarked')\n",
        "    missing_records=pd.Series([missingPassengers,missingSurvived,missingPclass,missingName,missingSex,missingAge,missingSibSp,missingParch,missingTicket,missingFare,missingEmbarked],index=['missingPassengers','missingSurvived','missingPclass','missingName','missingSex','missingAge','missingSibSp','missingParch','missingTicket','missingFare','missingEmbarked'])\n",
        "    missing_records_df=pd.DataFrame(missing_records,columns=['No. of missing records'])\n",
        "    return missing_records_df"
      ]
    },
    {
      "cell_type": "code",
      "execution_count": null,
      "metadata": {
        "_cell_guid": "8ee7d34d-64f9-afb2-5a06-7c1d8653381b"
      },
      "outputs": [],
      "source": [
        "#Finding the missing records\n",
        "\n",
        "finding_missing_record()"
      ]
    },
    {
      "cell_type": "markdown",
      "metadata": {
        "_cell_guid": "8f9c433e-9b20-1623-8489-ed808390dda6"
      },
      "source": [
        "There seems to be a problem with our dataset we can see in the above results that there are many values which are missing in our data for Age, Embarked and Cabin. We will be neglecting cabin from our analysis as it won't be having much impact."
      ]
    },
    {
      "cell_type": "markdown",
      "metadata": {
        "_cell_guid": "c56292ff-747d-02c5-06f4-7aa94ba909bf"
      },
      "source": [
        "### Fixing the missing data\n",
        "\n",
        "Out next challenge is to fix these errors we found out in our dataset. For fixing the data first of all we need to analyze it well. \n",
        "\n",
        "#### Analyzing the Age\n",
        "\n",
        "Our approach will be to find out a suitable value for age that we an put in place of 0 and null, keeping in mind that it should not hamper our dataset.\n",
        "Lets plot Ages on a graph and see if we can figure out something from that."
      ]
    },
    {
      "cell_type": "code",
      "execution_count": null,
      "metadata": {
        "_cell_guid": "d4b5eb33-be41-6dd4-de51-95cbcf45b8b8"
      },
      "outputs": [],
      "source": [
        "#This graph shows ages of passengers on ship\n",
        "titanic_df['Age'].plot(kind=\"hist\",title = \"Ages of all the passengers on ship\",figsize = (10,10)).set_xlabel(\"Agesg in years\")"
      ]
    },
    {
      "cell_type": "code",
      "execution_count": null,
      "metadata": {
        "_cell_guid": "cf025bfa-66a6-6535-8658-827ac073d29d"
      },
      "outputs": [],
      "source": [
        "#This graph shows ages of passengers on ship\n",
        "sns.set_style(\"whitegrid\")\n",
        "sns.violinplot(x=titanic_df[\"Age\"])"
      ]
    },
    {
      "cell_type": "markdown",
      "metadata": {
        "_cell_guid": "4a09a457-2dec-108e-82ef-0ca0f6eda9b0"
      },
      "source": [
        "We can see most of the ages is around 30 years and that is our mean also seen in the description of the data. Lets find out mean value of age in each class"
      ]
    },
    {
      "cell_type": "code",
      "execution_count": null,
      "metadata": {
        "_cell_guid": "54fbd5ca-edd0-155d-cc8a-4d146783cb50"
      },
      "outputs": [],
      "source": [
        "titanic_df.groupby('Pclass')['Age'].mean()"
      ]
    },
    {
      "cell_type": "code",
      "execution_count": null,
      "metadata": {
        "_cell_guid": "4a46b3de-56d5-5551-9ee3-3b8f8060790d"
      },
      "outputs": [],
      "source": [
        "titanic_df.groupby('Pclass')['Age'].mean().plot(kind = 'bar', figsize=(10,10), title=\"Mean age of passengers travelling\").set_ylabel(\"Mean\")"
      ]
    },
    {
      "cell_type": "markdown",
      "metadata": {
        "_cell_guid": "a83944ec-98b1-3f98-448c-5cb420d72a6f"
      },
      "source": [
        "To be more precise lets find out mean value of age of passengers survived and perished from each class "
      ]
    },
    {
      "cell_type": "code",
      "execution_count": null,
      "metadata": {
        "_cell_guid": "0f20d6db-49b8-e3cb-1674-0f4df0e6deff"
      },
      "outputs": [],
      "source": [
        "titanic_df.groupby(['Pclass', 'Survived'])['Age'].mean()"
      ]
    },
    {
      "cell_type": "code",
      "execution_count": null,
      "metadata": {
        "_cell_guid": "747a8dfa-1b33-7c3b-4b39-ad06e4f97a87"
      },
      "outputs": [],
      "source": [
        "titanic_df.groupby(['Pclass', 'Survived'])['Age'].mean().plot(kind = 'bar', figsize=(10,10) , legend=\"True\", title=\"Mean age of passengers survived or perished from each class\").set_ylabel(\"Mean\")"
      ]
    },
    {
      "cell_type": "markdown",
      "metadata": {
        "_cell_guid": "97e921cd-31ed-10a8-0da6-30eed2f4be56"
      },
      "source": [
        "Therefore we will replace the null with mean value of pasenger survived or not and the class in which he/she was travelling."
      ]
    },
    {
      "cell_type": "code",
      "execution_count": null,
      "metadata": {
        "_cell_guid": "1ec68982-207b-3bfd-a07d-99a094c3d585"
      },
      "outputs": [],
      "source": [
        "#Method to replace values\n",
        "def replace_all_null(grp, param):\n",
        "    grp[param] = np.where(((grp[param] ==0) | (grp[param].isnull())), grp[param].mean(),grp[param])\n",
        "    return grp"
      ]
    },
    {
      "cell_type": "code",
      "execution_count": null,
      "metadata": {
        "_cell_guid": "c5dfed26-f3d9-ddfd-ac8d-4fd2481a6989"
      },
      "outputs": [],
      "source": [
        "#This graph shows ages of passengers on ship\n",
        "titanic_df['Age'].plot(kind=\"hist\",title = \"Ages of all the passengers on ship before replacing null \",figsize = (10,10)).set_xlabel(\"Agesg in years\")"
      ]
    },
    {
      "cell_type": "code",
      "execution_count": null,
      "metadata": {
        "_cell_guid": "383187b3-bd73-cc6a-cf74-1bb2318c25a2"
      },
      "outputs": [],
      "source": [
        "titanic_df = titanic_df.groupby(['Pclass','Survived']).apply(replace_all_null, \"Age\")"
      ]
    },
    {
      "cell_type": "code",
      "execution_count": null,
      "metadata": {
        "_cell_guid": "9ec67d69-6ff5-703f-294c-88845515ac2f"
      },
      "outputs": [],
      "source": [
        "#This graph shows ages of passengers on ship after replacing nulls\n",
        "titanic_df['Age'].plot(kind=\"hist\",title = \"Ages of all the passengers on ship after replacing null\",figsize = (10,10)).set_xlabel(\"Agesg in years\")"
      ]
    },
    {
      "cell_type": "markdown",
      "metadata": {
        "_cell_guid": "949b91d3-70e3-19f4-4200-f299da9e19d1"
      },
      "source": [
        "#### Lets do similar analysis for embarked as well\n",
        "\n",
        "We will have a look at the price of their fare and their class and then we will decide from which station they would have boarded the ship.\n",
        "\n",
        "First we should find out mean fare of each class from each station"
      ]
    },
    {
      "cell_type": "code",
      "execution_count": null,
      "metadata": {
        "_cell_guid": "a7505f30-8b37-5375-3836-16ff9894aa34"
      },
      "outputs": [],
      "source": [
        "titanic_df.groupby(['Pclass', 'Embarked'])['Fare'].mean()"
      ]
    },
    {
      "cell_type": "code",
      "execution_count": null,
      "metadata": {
        "_cell_guid": "df525008-2d7d-f9a1-5e32-e711dde8aa7a"
      },
      "outputs": [],
      "source": [
        "titanic_df.groupby(['Pclass', 'Embarked'])['Fare'].mean().plot(kind = 'bar', figsize=(10,10) , title=\"Mean fare of of each class from each station\").set_ylabel(\"Mean Fare\")"
      ]
    },
    {
      "cell_type": "markdown",
      "metadata": {
        "_cell_guid": "6bb854da-782f-5af0-761d-b9b8679e6e1f"
      },
      "source": [
        "Now we will find out class and fare of each embarked missing record"
      ]
    },
    {
      "cell_type": "code",
      "execution_count": null,
      "metadata": {
        "_cell_guid": "d5050abb-f96e-b3e7-e3eb-f24f074ef082"
      },
      "outputs": [],
      "source": [
        "titanic_df[(titanic_df['Embarked'].isnull())]"
      ]
    },
    {
      "cell_type": "markdown",
      "metadata": {
        "_cell_guid": "5f2610bb-cf76-9c18-6378-ab39875d1983"
      },
      "source": [
        "They both are from Pclass 1 and their fare is 80.0 that means they can be from Q and S \n",
        "Pclass  Embarked\n",
        "1       C           104.718529\n",
        "        Q            90.000000\n",
        "        S            70.364862\n",
        "2       C            25.358335\n",
        "        Q            12.350000\n",
        "        S            20.327439\n",
        "3       C            11.214083\n",
        "        Q            11.183393\n",
        "        S            14.644083\n",
        "        \n",
        "Before making our final decision lets find out all the records having Pclass as 1 , cabin is not null and fare is around 80"
      ]
    },
    {
      "cell_type": "code",
      "execution_count": null,
      "metadata": {
        "_cell_guid": "611609e2-ac69-59fc-b3b6-112a5c7f09b1"
      },
      "outputs": [],
      "source": [
        "titanic_df[((titanic_df['Fare'] > 79.50 ) & (titanic_df['Fare'] < 80.50) & (titanic_df['Pclass'] == 1) & (titanic_df['Cabin'].notnull()))]"
      ]
    },
    {
      "cell_type": "markdown",
      "metadata": {
        "_cell_guid": "cbe4ed9f-e9c5-e90a-86d9-34ef97ffe0a5"
      },
      "source": [
        "We can see that our record is similar to these records therefore we can mark the missing station as S"
      ]
    },
    {
      "cell_type": "code",
      "execution_count": null,
      "metadata": {
        "_cell_guid": "5df01dfc-502d-307c-1e99-c8a9ce7944c7"
      },
      "outputs": [],
      "source": [
        "titanic_df[(titanic_df['Embarked'].isnull())].fillna('S')"
      ]
    },
    {
      "cell_type": "code",
      "execution_count": null,
      "metadata": {
        "_cell_guid": "05cd5460-cc4e-f4d1-9fba-78e2dbee40e2"
      },
      "outputs": [],
      "source": [
        "#Finding the missing records\n",
        "\n",
        "finding_missing_record()"
      ]
    },
    {
      "cell_type": "markdown",
      "metadata": {
        "_cell_guid": "bc513538-dcca-d953-3e56-a508d2029d85"
      },
      "source": [
        "### Improving the data types\n",
        "\n",
        "The data types of few variables can be improved for example survived column can be of boolean type, it will be a clean presentation if 0 and 1 in survived column can be replaced with True and False respectively.\n",
        "\n",
        "Similarly the Age, the age pf passengers is given in decimals. However, in real life scenario there is no point of representing age in decimals. So we will make it as integer value"
      ]
    },
    {
      "cell_type": "code",
      "execution_count": null,
      "metadata": {
        "_cell_guid": "0f683522-56aa-8343-f555-08a70d34166e"
      },
      "outputs": [],
      "source": [
        "#Dataframe datatype information\n",
        "print (\"Data types before improvising\")\n",
        "titanic_df.dtypes"
      ]
    },
    {
      "cell_type": "code",
      "execution_count": null,
      "metadata": {
        "_cell_guid": "9fd154e0-d503-9a93-7314-44c3e9571018"
      },
      "outputs": [],
      "source": [
        "#changing the data types of columns Age and Survived\n",
        "titanic_df['Survived'] = titanic_df['Survived'].astype(bool)\n",
        "titanic_df['Age'] = titanic_df[('Age')].astype(int)"
      ]
    },
    {
      "cell_type": "code",
      "execution_count": null,
      "metadata": {
        "_cell_guid": "d31845ee-042f-ec83-74fc-9bd79e141350"
      },
      "outputs": [],
      "source": [
        "#Dataframe datatype information\n",
        "print (\"After improving datatypes\")\n",
        "titanic_df.dtypes"
      ]
    },
    {
      "cell_type": "markdown",
      "metadata": {
        "_cell_guid": "127007db-241c-0039-0629-ad2e7fae4f5a"
      },
      "source": [
        "### Finding the columns having zeros\n",
        "\n",
        "There are few columns in our dataset that can't be zero, like PassengerID, Fare, Age, Ticket, Pclass. Here we are neglecting survived, SibSip, Parch column as they can be 0. Columns such as Name and Embarked has a possibilty of being null but cannot be 0 as they are of string type so we are neglecting them as well"
      ]
    },
    {
      "cell_type": "code",
      "execution_count": null,
      "metadata": {
        "_cell_guid": "486216a4-2b43-b3f9-de32-2fcf9876f560"
      },
      "outputs": [],
      "source": [
        "#Method to find out records with value as 0\n",
        "def zeroValueData(param):\n",
        "    return titanic_df[(titanic_df[param] == 0)]['PassengerId'].count()\n",
        "    \n",
        "    \n",
        "def zeroValueData_record():\n",
        "    zeroValuePassengers = zeroValueData('PassengerId') \n",
        "    zeroValuePclass = zeroValueData('Pclass')\n",
        "    zeroValueAge = zeroValueData('Age')\n",
        "    zeroValueTicket = zeroValueData('Ticket')\n",
        "    zeroValueFare = zeroValueData('Fare')\n",
        "    zeroValue_records=pd.Series([zeroValuePassengers,zeroValuePclass,zeroValueAge,zeroValueTicket,zeroValueFare],index=['zeroValuePassengers','zeroValuePclass','zeroValueAge','zeroValueTicket','zeroValueFare'])\n",
        "    zero_records_df=pd.DataFrame(zeroValue_records,columns=['No. of zero value records'])\n",
        "    return zero_records_df"
      ]
    },
    {
      "cell_type": "code",
      "execution_count": null,
      "metadata": {
        "_cell_guid": "a26d031d-370d-a7f6-5f29-9d821ed56dc3"
      },
      "outputs": [],
      "source": [
        "#Finding the 0 value records\n",
        "zeroValueData_record()"
      ]
    },
    {
      "cell_type": "markdown",
      "metadata": {
        "_cell_guid": "a6c04c3b-2ad6-891b-9b8a-d7d96e50e40e"
      },
      "source": [
        "We can clearly see that there are 15 passengers having fare as 0 and 7 passengers with Age as 0. For age we can replace by the same technique we replaced the null. For fare we can replace the 0 with the mean fare of their Pclass"
      ]
    },
    {
      "cell_type": "code",
      "execution_count": null,
      "metadata": {
        "_cell_guid": "9497ec14-0217-e787-7b27-43645d916bf8"
      },
      "outputs": [],
      "source": [
        "titanic_df.groupby(['Pclass'])['Fare'].mean()"
      ]
    },
    {
      "cell_type": "code",
      "execution_count": null,
      "metadata": {
        "_cell_guid": "52f0660c-4f05-5fc5-4862-0a6346007a0e"
      },
      "outputs": [],
      "source": [
        "titanic_df.groupby(['Pclass'])['Fare'].mean().plot(kind = 'bar', figsize=(10,10) , title=\"Mean fare of of each class\").set_ylabel(\"Mean Fare\")"
      ]
    },
    {
      "cell_type": "code",
      "execution_count": null,
      "metadata": {
        "_cell_guid": "dc726504-a545-8cf4-4013-0030ab6ccb96"
      },
      "outputs": [],
      "source": [
        "titanic_df = titanic_df.groupby(['Pclass']).apply(replace_all_null, \"Fare\")\n",
        "titanic_df = titanic_df.groupby(['Pclass','Survived']).apply(replace_all_null, \"Age\")"
      ]
    },
    {
      "cell_type": "code",
      "execution_count": null,
      "metadata": {
        "_cell_guid": "e43a6f6b-0ad2-bba0-d9b7-b49046757048"
      },
      "outputs": [],
      "source": [
        "#Finding the 0 value records\n",
        "zeroValueData_record()"
      ]
    },
    {
      "cell_type": "markdown",
      "metadata": {
        "_cell_guid": "68ab4981-64ae-1d18-b263-9687d04036b4"
      },
      "source": [
        "Now our dataset is rid of null values and 0 values in its essentials columns. Now we can proceed with our exploration phase"
      ]
    },
    {
      "cell_type": "markdown",
      "metadata": {
        "_cell_guid": "bf73061f-f8db-a808-5c92-b3a54ee6dbba"
      },
      "source": [
        "### Exploration"
      ]
    },
    {
      "cell_type": "code",
      "execution_count": null,
      "metadata": {
        "_cell_guid": "a92571fe-049f-c5d7-2d0b-8e4340ef2173"
      },
      "outputs": [],
      "source": [
        "#Again printing the sample data\n",
        "print(\"Sample data:\")\n",
        "titanic_df.head(50)"
      ]
    },
    {
      "cell_type": "markdown",
      "metadata": {
        "_cell_guid": "4e749123-1ce8-0ea3-29ca-a2a3b4ccd1d7"
      },
      "source": [
        "Given below are some of the quick question which can arise in our mind after having a look at the dataset"
      ]
    },
    {
      "cell_type": "code",
      "execution_count": null,
      "metadata": {
        "_cell_guid": "93ee6ca4-4c5c-542b-dfcf-df25c4103c1a"
      },
      "outputs": [],
      "source": [
        "#Total number of passengers travelling\n",
        "print ('Total number of passengers travelling = ',titanic_df['PassengerId'] .count())\n",
        "\n",
        "#Total number of people srvived\n",
        "print ('Total number of passengers survived = ',(titanic_df['Survived'] == 1).sum())\n",
        "\n",
        "#Total number of casualities\n",
        "print ('Total number of passengers died = ',(titanic_df['Survived'] == 0).sum())\n",
        "\n",
        "#Mean of passengers srvived\n",
        "print ('Mean of passengers srvived = ',(titanic_df['Survived'] == 1).mean())\n",
        "\n",
        "#Mean of casualities\n",
        "print ('Mean of passengers died = ',(titanic_df['Survived'] == 0).mean())\n",
        "\n",
        "#Total number of females travelling\n",
        "print ('Total number of females travelling', (titanic_df['Sex'] == 'female').sum())\n",
        "\n",
        "#Total number of males travelling\n",
        "print('Total number of males travelling', (titanic_df['Sex'] == 'male').sum())\n",
        "\n",
        "#Total number of females survived\n",
        "print ('Total number of females survived', ((titanic_df['Sex'] == 'female') & (titanic_df['Survived'] == 1)).sum())\n",
        "\n",
        "#Total number of females died\n",
        "print ('Total number of females died', ((titanic_df['Sex'] == 'female') & (titanic_df['Survived'] == 0)).sum())\n",
        "\n",
        "#Total number of males survived\n",
        "print ('Total number of males survived', ((titanic_df['Sex'] == 'male') & (titanic_df['Survived'] == 1)).sum())\n",
        "\n",
        "#Total number of males died\n",
        "print ('Total number of males died', ((titanic_df['Sex'] == 'male') & (titanic_df['Survived'] == 0)).sum())"
      ]
    },
    {
      "cell_type": "markdown",
      "metadata": {
        "_cell_guid": "eabd3b3d-9ea1-463c-b548-d0cd6ffbe5c3"
      },
      "source": [
        "Lets see the number of survivors and casualities"
      ]
    },
    {
      "cell_type": "code",
      "execution_count": null,
      "metadata": {
        "_cell_guid": "4a16a6aa-66a1-3b39-884c-5b99e7dfec54"
      },
      "outputs": [],
      "source": [
        "#This graph shows number of people survived and casualities\n",
        "titanic_df.groupby(['Survived'])['PassengerId'].count().plot(kind=\"bar\", figsize = (10,10), grid = 10 ,logy = 0, title = \"No of survivors and casualities \").set_ylabel(\"Frequency\")"
      ]
    },
    {
      "cell_type": "code",
      "execution_count": null,
      "metadata": {
        "_cell_guid": "4825aeec-8ed6-cd9c-e5b7-fc4b019bcc54"
      },
      "outputs": [],
      "source": [
        "sns.set(style=\"ticks\", color_codes=True)\n",
        "sns.pairplot(titanic_df, vars=[\"Age\", \"Survived\",\"Pclass\"] , size =3, diag_kind=\"kde\")"
      ]
    },
    {
      "cell_type": "markdown",
      "metadata": {
        "_cell_guid": "0eda2ace-3192-80e6-ab7f-b229c7ca9f16"
      },
      "source": [
        "The below graph will represent the number of survivors based on sex"
      ]
    },
    {
      "cell_type": "code",
      "execution_count": null,
      "metadata": {
        "_cell_guid": "8677aac7-533e-9d12-718c-248c73bcaa18"
      },
      "outputs": [],
      "source": [
        "titanic_df.groupby('Sex')['Survived'].sum().plot(kind=\"bar\" ,figsize = (10,10), grid = 10 ,logy = 0, title = \"No of survivors and their sex \").set_ylabel(\"Frequency\")"
      ]
    },
    {
      "cell_type": "markdown",
      "metadata": {
        "_cell_guid": "8d0470eb-761d-0437-f9a6-d70b7508e347"
      },
      "source": [
        "#### Lets find out people survived from each station \n",
        "Port of Embarkation\n",
        "                (C = Cherbourg; Q = Queenstown; S = Southampton)"
      ]
    },
    {
      "cell_type": "code",
      "execution_count": null,
      "metadata": {
        "_cell_guid": "f0b38bdb-af5a-f8a7-013c-a03495d1e3bd"
      },
      "outputs": [],
      "source": [
        "titanic_df.groupby('Embarked')['Survived'].sum().plot(kind=\"pie\", autopct='%1.1f%%' , legend=\"True\")"
      ]
    },
    {
      "cell_type": "code",
      "execution_count": null,
      "metadata": {
        "_cell_guid": "b3b14bf4-1c18-de9e-206b-1d661f400954"
      },
      "outputs": [],
      "source": [
        "titanic_df.groupby('Embarked')['Survived'].sum().plot(kind=\"bar\" ,figsize = (10,10), grid = 10 ,logy = 0, title = \"No of survivors from each station \").set_ylabel(\"Frequency\")"
      ]
    },
    {
      "cell_type": "markdown",
      "metadata": {
        "_cell_guid": "03799afc-5a42-ece5-78a4-3d6807dce350"
      },
      "source": [
        "#### Lets find out number people survived from each class"
      ]
    },
    {
      "cell_type": "code",
      "execution_count": null,
      "metadata": {
        "_cell_guid": "343feb66-bb48-5301-1bd0-edb859b7a3af"
      },
      "outputs": [],
      "source": [
        "titanic_df.groupby('Pclass')['Survived'].sum().plot(kind=\"pie\", autopct='%1.1f%%')"
      ]
    },
    {
      "cell_type": "code",
      "execution_count": null,
      "metadata": {
        "_cell_guid": "b27c1481-e6e4-d339-e545-e3c84a780e04"
      },
      "outputs": [],
      "source": [
        "titanic_df.groupby('Pclass')['Survived'].sum().plot(kind=\"bar\" ,figsize = (10,10), grid = 10 ,logy = 0, title = \"No of survivors from each Pclass \").set_ylabel(\"Frequency\")"
      ]
    },
    {
      "cell_type": "markdown",
      "metadata": {
        "_cell_guid": "008c46e0-5259-e2b4-0e4d-40bce3ac801d"
      },
      "source": [
        "#### Comparing the survival rates for different age groups"
      ]
    },
    {
      "cell_type": "code",
      "execution_count": null,
      "metadata": {
        "_cell_guid": "9bd4c9e1-9f34-3672-b80f-751814fea1e4"
      },
      "outputs": [],
      "source": [
        "titanic_df[(titanic_df['Age'] < 10)].groupby('Survived')['Age'].plot(kind=\"hist\", alpha =0.7,legend = \"True\", figsize = (10,10),title = \"No of survivors/casualities under age 10 \")"
      ]
    },
    {
      "cell_type": "code",
      "execution_count": null,
      "metadata": {
        "_cell_guid": "0a84341f-f6e1-4041-cbe2-caa6019610b9"
      },
      "outputs": [],
      "source": [
        "titanic_df[(titanic_df['Age'] > 10) & (titanic_df['Age'] < 20)].groupby('Survived')['Age'].plot(kind=\"hist\",figsize = (10,10), legend=\"True\",alpha=0.7,title = \"No of survivors/casualities between age 10-20 \")"
      ]
    },
    {
      "cell_type": "code",
      "execution_count": null,
      "metadata": {
        "_cell_guid": "7fe85ebe-b52b-8917-5fbf-89ce4cb94c31"
      },
      "outputs": [],
      "source": [
        "titanic_df[(titanic_df['Age'] > 20) & (titanic_df['Age'] < 40)].groupby('Survived')['Age'].plot(kind=\"hist\",figsize = (10,10), legend=\"True\",alpha=0.7,title = \"No of survivors/casualities between age 20-40 \")"
      ]
    },
    {
      "cell_type": "code",
      "execution_count": null,
      "metadata": {
        "_cell_guid": "01e7750b-392d-9221-6a40-ef0e57daa657"
      },
      "outputs": [],
      "source": [
        "titanic_df[(titanic_df['Age'] > 40) & (titanic_df['Age'] < 60)].groupby('Survived')['Age'].plot(kind=\"hist\",alpha=0.7,figsize = (10,10), legend=\"True\",title = \"No of survivors/casualities between age 40-60 \")"
      ]
    },
    {
      "cell_type": "code",
      "execution_count": null,
      "metadata": {
        "_cell_guid": "89188b1d-d957-6af5-b790-b38824f4ff1e"
      },
      "outputs": [],
      "source": [
        "titanic_df[(titanic_df['Age'] > 60) ].groupby('Survived')['Age'].plot(kind=\"hist\", alpha=0.7,legend=\"True\",figsize = (10,10),use_index=\"True\",title = \"No of survivors/casualities above age 60 \")"
      ]
    },
    {
      "cell_type": "markdown",
      "metadata": {
        "_cell_guid": "4b76908d-6fbd-667e-79f6-34f6503773c0"
      },
      "source": [
        "As we are aware that after crash of any ship its mandatory to firt children, women and old people should abandon the ship.\n",
        "We will investigate that was that really happene or priority to the first class passengers were given.\n",
        "From the below we see that there were more of the females who survived"
      ]
    },
    {
      "cell_type": "code",
      "execution_count": null,
      "metadata": {
        "_cell_guid": "8fc85e7d-e80b-29c0-3a11-ebe1c58deabd"
      },
      "outputs": [],
      "source": [
        "#This graph shows that \n",
        "titanic_df.groupby(['Pclass','Sex'])['Survived'].sum().plot(kind=\"bar\", figsize = (10,10), grid = 10 ,logy = 0, title = \"No of people survived along with their Pclass and Sex\").set_ylabel(\"Frequency\")"
      ]
    },
    {
      "cell_type": "markdown",
      "metadata": {
        "_cell_guid": "b0319156-39dc-57cb-7c33-3cc17ef8502a"
      },
      "source": [
        "## Statistical Infrences\n",
        "\n",
        "### Null Hypothesis\n",
        "We will investigate statistically to see if the mean age of the people who survived is different from the mean age of people who were not able to survive.\n",
        "\n",
        "Since we don't have population standard deviation therefore we will proceed with t-test. \n",
        "\n",
        "Our null hypothesis will be -\n",
        "H0 : Mean of Survivor = Mean of not survivors\n",
        "HA : Mean of Survivor <> Mean of not survivors\n",
        "\n",
        "Therefore, this will be a bi-directional test and our confidence interval will be of 95%( alpha = .05)"
      ]
    },
    {
      "cell_type": "code",
      "execution_count": null,
      "metadata": {
        "_cell_guid": "8cbd8b98-0999-abc7-58d7-5539308af372"
      },
      "outputs": [],
      "source": [
        "# Fetching the data for survivors and casualities\n",
        "survivor = titanic_df[(titanic_df['Survived'] == 1)]['Age']\n",
        "\n",
        "casualities = titanic_df[(titanic_df['Survived'] == 0)]['Age']"
      ]
    },
    {
      "cell_type": "code",
      "execution_count": null,
      "metadata": {
        "_cell_guid": "6deb4393-7b7d-15b6-88cb-ce736e9d956f"
      },
      "outputs": [],
      "source": [
        "# Giving the description of surivors\n",
        "survivor.describe()"
      ]
    },
    {
      "cell_type": "code",
      "execution_count": null,
      "metadata": {
        "_cell_guid": "4e25cf7e-6c70-be49-00a7-c9e731a1026a"
      },
      "outputs": [],
      "source": [
        "# Giving the description of casualities\n",
        "casualities.describe()"
      ]
    },
    {
      "cell_type": "code",
      "execution_count": null,
      "metadata": {
        "_cell_guid": "a20cc82e-6f6b-0bf3-29c3-d079d26808bf"
      },
      "outputs": [],
      "source": [
        "survivor.plot(kind=\"hist\" , figsize=(10,10), title = \"Survivors and their age\").set_xlabel(\"Age in years\")"
      ]
    },
    {
      "cell_type": "code",
      "execution_count": null,
      "metadata": {
        "_cell_guid": "86917bad-dc0c-3cf5-9dde-0894b3c0a3aa"
      },
      "outputs": [],
      "source": [
        "casualities.plot(kind=\"hist\" , figsize=(10,10), title = \"Casualities and their age\").set_xlabel(\"Age in years\")"
      ]
    },
    {
      "cell_type": "markdown",
      "metadata": {
        "_cell_guid": "f81d5709-d41f-f006-9438-f9481d71ad95"
      },
      "source": [
        "### Calculating Standard error\n",
        "\n",
        "Below is the code to calculate SE "
      ]
    },
    {
      "cell_type": "code",
      "execution_count": null,
      "metadata": {
        "_cell_guid": "7d23f0c0-6227-caeb-7d54-47bd7cbabb70"
      },
      "outputs": [],
      "source": [
        "SE = np.sqrt((survivor.var()/survivor.count())+(casualities.var()/casualities.count()))\n",
        "SE"
      ]
    },
    {
      "cell_type": "markdown",
      "metadata": {
        "_cell_guid": "717b7722-c4ac-9f6a-1ef4-51b9996b5e72"
      },
      "source": [
        "### T statictic"
      ]
    },
    {
      "cell_type": "code",
      "execution_count": null,
      "metadata": {
        "_cell_guid": "e537542a-1f86-b5d9-e704-79d1aaf8ec2a"
      },
      "outputs": [],
      "source": [
        "T = (survivor.mean() - casualities.mean() )/SE\n",
        "T"
      ]
    },
    {
      "cell_type": "code",
      "execution_count": null,
      "metadata": {
        "_cell_guid": "4b385c5d-d8b0-4968-204c-79f9dee46466"
      },
      "outputs": [],
      "source": [
        "DegreeOfFreedom = survivor.count() + casualities.count() - 2\n",
        "DegreeOfFreedom"
      ]
    },
    {
      "cell_type": "markdown",
      "metadata": {
        "_cell_guid": "de907e3a-9259-81a2-a5d5-3e69b70e33ff"
      },
      "source": [
        "As per t-table we have calculated that our t-critical value is +/- 1.646\n",
        "and our p-value will be 0.1406 \n",
        "\n",
        "#### Since our tstatistic is with the range of t-critical vaules hence we can say that we fail to reject the null"
      ]
    },
    {
      "cell_type": "markdown",
      "metadata": {
        "_cell_guid": "85d86012-6e79-ea8f-3ed9-b8fe58d1a755"
      },
      "source": [
        "**Conclusion**\n",
        "\n",
        "After all the analysis we can say that-\n",
        "Our null hypothesis was accepted that means the mean no. of passengers who survived is equal to the mean number of passengers who perished.\n",
        "\n",
        "From our analysis few more points were cleared like there were most of the people travelling in 1st class, most of the pasengers were from S station and most of them were from age group 20-30.\n",
        "\n",
        "We also found that more females were survived as compared to men. \n",
        "\n",
        "However, while analyzing I found one strange fact the number of people survived from 1st class were more in number than those from other classes.\n",
        "From this we can say that there was a priority given to 1st class people.\n",
        "\n",
        "**Biasness in our data set and limitation**\n",
        "\n",
        "The data set we got was higly incorrect and we can believe that many of the records were wrongly entered. This limits our analysis to some extent."
      ]
    }
  ],
  "metadata": {
    "_change_revision": 0,
    "_is_fork": false,
    "kernelspec": {
      "display_name": "Python 3",
      "language": "python",
      "name": "python3"
    },
    "language_info": {
      "codemirror_mode": {
        "name": "ipython",
        "version": 3
      },
      "file_extension": ".py",
      "mimetype": "text/x-python",
      "name": "python",
      "nbconvert_exporter": "python",
      "pygments_lexer": "ipython3",
      "version": "3.6.0"
    }
  },
  "nbformat": 4,
  "nbformat_minor": 0
}