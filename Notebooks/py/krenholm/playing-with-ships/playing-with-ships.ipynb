{
  "cells": [
    {
      "cell_type": "code",
      "execution_count": null,
      "metadata": {
        "_cell_guid": "019ee32a-96f9-4102-6243-fde7ad9990c1"
      },
      "outputs": [],
      "source": [
        "# This Python 3 environment comes with many helpful analytics libraries installed\n",
        "# It is defined by the kaggle/python docker image: https://github.com/kaggle/docker-python\n",
        "# For example, here's several helpful packages to load in \n",
        "\n",
        "import numpy as np # linear algebra\n",
        "import pandas as pd # data processing, CSV file I/O (e.g. pd.read_csv)\n",
        "\n",
        "# Input data files are available in the \"../input/\" directory.\n",
        "# For example, running this (by clicking run or pressing Shift+Enter) will list the files in the input directory\n",
        "\n",
        "from subprocess import check_output\n",
        "print(check_output([\"ls\", \"../input\"]).decode(\"utf8\"))\n",
        "\n",
        "# Any results you write to the current directory are saved as output."
      ]
    },
    {
      "cell_type": "code",
      "execution_count": null,
      "metadata": {
        "_cell_guid": "b43a3ac0-0d0d-d240-f385-8bf3fad12241"
      },
      "outputs": [],
      "source": [
        "titanic = pd.read_csv('../input/train.csv')"
      ]
    },
    {
      "cell_type": "code",
      "execution_count": null,
      "metadata": {
        "_cell_guid": "5978c01d-52e8-81c7-18ff-f156d7f653a5"
      },
      "outputs": [],
      "source": [
        "titanic.head()"
      ]
    },
    {
      "cell_type": "code",
      "execution_count": null,
      "metadata": {
        "_cell_guid": "2c79869d-58e1-c151-8c40-311423deb61d"
      },
      "outputs": [],
      "source": [
        "from sklearn.preprocessing import LabelEncoder, Imputer, StandardScaler\n",
        "\n",
        "stdScaler = StandardScaler()\n",
        "labelEncoder = LabelEncoder()\n",
        "imputer = Imputer(missing_values='NaN', strategy='mean', axis=0)\n",
        "\n",
        "# Fix age\n",
        "titanic[['Age']] = imputer.fit_transform(titanic[['Age']]) # Make better\n",
        "\n",
        "# Numerical sex\n",
        "titanic['Sex'] = labelEncoder.fit_transform(titanic['Sex'])\n",
        "\n",
        "# Scale numerical values\n",
        "titanic[['Age', 'Fare']] = stdScaler.fit_transform(titanic[['Age', 'Fare']])"
      ]
    },
    {
      "cell_type": "code",
      "execution_count": null,
      "metadata": {
        "_cell_guid": "6e3b787b-4d9f-8c6f-22c1-f6e0f0874633"
      },
      "outputs": [],
      "source": [
        "titanic"
      ]
    },
    {
      "cell_type": "code",
      "execution_count": null,
      "metadata": {
        "_cell_guid": "e214574b-5488-dc0d-3463-5d340b36dd4b"
      },
      "outputs": [],
      "source": [
        "from sklearn.ensemble import RandomForestClassifier\n",
        "from sklearn.model_selection import KFold\n",
        "\n",
        "kf = KFold(n_splits=4, random_state=1)\n",
        "\n",
        "model = RandomForestClassifier()\n",
        "\n",
        "predictors = titanic[[\"Age\", \"Sex\", \"Fare\"]]\n",
        "targets = titanic[\"Survived\"]\n",
        "\n",
        "score = [model.fit(predictors.iloc[train,:], targets.iloc[train]).score(predictors.iloc[test,:], targets.iloc[test]) \n",
        "   for train, test in kf.split(predictors)]\n",
        "score"
      ]
    },
    {
      "cell_type": "code",
      "execution_count": null,
      "metadata": {
        "_cell_guid": "c55cb6d4-b258-0b83-dbde-216f47410008"
      },
      "outputs": [],
      "source": ""
    }
  ],
  "metadata": {
    "_change_revision": 0,
    "_is_fork": false,
    "kernelspec": {
      "display_name": "Python 3",
      "language": "python",
      "name": "python3"
    },
    "language_info": {
      "codemirror_mode": {
        "name": "ipython",
        "version": 3
      },
      "file_extension": ".py",
      "mimetype": "text/x-python",
      "name": "python",
      "nbconvert_exporter": "python",
      "pygments_lexer": "ipython3",
      "version": "3.5.2"
    }
  },
  "nbformat": 4,
  "nbformat_minor": 0
}