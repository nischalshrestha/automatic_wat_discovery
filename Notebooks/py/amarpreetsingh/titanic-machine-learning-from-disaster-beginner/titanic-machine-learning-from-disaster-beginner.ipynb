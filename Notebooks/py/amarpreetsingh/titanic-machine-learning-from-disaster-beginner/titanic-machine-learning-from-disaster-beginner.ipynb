{
 "cells": [
  {
   "cell_type": "code",
   "execution_count": 115,
   "metadata": {
    "_cell_guid": "b9ea45da-4b34-4caa-ab14-cc684cba9d65",
    "_uuid": "34a12e3f23219e85f426befe84c2f30f90617f4e",
    "collapsed": true
   },
   "outputs": [],
   "source": [
    "import numpy as np # linear algebra\n",
    "import pandas as pd # data processing, CSV file I/O (e.g. pd.read_csv)\n",
    "import matplotlib.pyplot as plt\n",
    "import seaborn as sns"
   ]
  },
  {
   "cell_type": "code",
   "execution_count": 116,
   "metadata": {
    "_cell_guid": "a0d08013-4d59-4840-81d0-bb678a4f6b5f",
    "_uuid": "841f9e693c3385040991ba1cd66422dfc4aba5f3",
    "collapsed": true
   },
   "outputs": [],
   "source": [
    "df = pd.read_csv('../input/train.csv',encoding = \"ISO-8859-1\",low_memory=False)"
   ]
  },
  {
   "cell_type": "code",
   "execution_count": 117,
   "metadata": {
    "_cell_guid": "c196a37e-60b5-4f7e-ab49-89f874b4763d",
    "_uuid": "fb224f0a1c29ef628dc4a5985f56fb9b4043c80a"
   },
   "outputs": [],
   "source": [
    "df.describe()"
   ]
  },
  {
   "cell_type": "code",
   "execution_count": 118,
   "metadata": {
    "_cell_guid": "9cc6a09b-87c8-4b27-a95c-c7f7084cec37",
    "_uuid": "201c0df20df7774b02713f53d5a2976362f65dcc"
   },
   "outputs": [],
   "source": [
    "df['Survived'].mean()"
   ]
  },
  {
   "cell_type": "code",
   "execution_count": 119,
   "metadata": {
    "_cell_guid": "7063599a-5ab9-49a4-aac7-6ea0ac508dc7",
    "_uuid": "8e71fe2d373d44d932f492a46548a854dc858c96"
   },
   "outputs": [],
   "source": [
    "df.groupby('Pclass').mean()"
   ]
  },
  {
   "cell_type": "code",
   "execution_count": 120,
   "metadata": {
    "_cell_guid": "c408855b-b92a-49c0-8794-0b6a792d0cb0",
    "_uuid": "9a1ba93ad71aa9f1e709351480d0ed1515bf8df6"
   },
   "outputs": [],
   "source": [
    "class_sex_grouping = df.groupby(['Pclass','Sex']).mean()\n",
    "class_sex_grouping"
   ]
  },
  {
   "cell_type": "code",
   "execution_count": 121,
   "metadata": {
    "_cell_guid": "c6e3cf19-68bd-4804-93f7-d48093383a69",
    "_uuid": "037dd9ce9d31d3dd3e1bbb7c28132c0ae5d89415"
   },
   "outputs": [],
   "source": [
    "class_sex_grouping['Survived'].plot.bar()"
   ]
  },
  {
   "cell_type": "code",
   "execution_count": 122,
   "metadata": {
    "_cell_guid": "36cfd803-0d28-4a8f-a053-620f89fe8316",
    "_uuid": "96660c909b492171faa2076257ff916c471e6a30"
   },
   "outputs": [],
   "source": [
    "group_by_age = pd.cut(df[\"Age\"], np.arange(0, 90, 16))\n",
    "age_grouping = df.groupby(group_by_age).mean()\n",
    "age_grouping['Survived'].plot.bar()"
   ]
  },
  {
   "cell_type": "code",
   "execution_count": 123,
   "metadata": {
    "_cell_guid": "9072104b-4139-47e8-abe8-55fc7a29d6fc",
    "_uuid": "35702e10a871bed431bd4a8a1b67040f19e50de0",
    "collapsed": true
   },
   "outputs": [],
   "source": [
    "df['Sex'].replace(['female','male'],[1,0],inplace=True)"
   ]
  },
  {
   "cell_type": "code",
   "execution_count": 124,
   "metadata": {
    "_cell_guid": "68a5bea9-8e5c-4ded-8c68-0acfba2671af",
    "_uuid": "df300d67de3966b7c59a1e28e2959641f4aba526"
   },
   "outputs": [],
   "source": [
    "avg_age = df[\"Age\"].mean()\n",
    "std_age = df[\"Age\"].std()\n",
    "count_nan_age = df[\"Age\"].isnull().sum()\n",
    "count_nan_age"
   ]
  },
  {
   "cell_type": "code",
   "execution_count": 125,
   "metadata": {
    "_cell_guid": "2662d3ac-d8ab-4247-a2e8-3d7814c787fe",
    "_uuid": "22b70e4c264121ea139d5e44fd7025017c2e6408",
    "collapsed": true
   },
   "outputs": [],
   "source": [
    "df['Title'] = None\n",
    "for index,row in enumerate(df['Name']):\n",
    "    title = row.split(', ')[1].split('. ')[0]\n",
    "    if title in ['Capt', 'Col', 'Don', 'Jonkheer', 'Major', 'Mr','Rev', 'Sir']:\n",
    "        df.loc[index, 'Title'] = 'Mr'\n",
    "    elif title in [ 'Ms', 'Mlle', 'Mme', 'Mrs', 'the Countess','Lady']:\n",
    "        df.loc[index, 'Title'] = 'Mrs'\n",
    "    elif title in ['Master']:\n",
    "        df.loc[index, 'Title'] = 'Master'\n",
    "    elif title in ['Miss']:\n",
    "        df.loc[index, 'Title'] = 'Ms'\n",
    "    else:\n",
    "        df.loc[index, 'Title'] = 'Other'"
   ]
  },
  {
   "cell_type": "code",
   "execution_count": 126,
   "metadata": {
    "_cell_guid": "bbe76d90-3b94-4745-8ea9-027595ec6e70",
    "_uuid": "0778da2a70d02f159b7446283dbb27d74277e8cf"
   },
   "outputs": [],
   "source": [
    "df[['Title','Age']].groupby('Title').mean()"
   ]
  },
  {
   "cell_type": "code",
   "execution_count": 127,
   "metadata": {
    "_cell_guid": "0751441b-7f62-4536-993e-b902fe218f3b",
    "_uuid": "95af3369f9f2908b2a0975fdadbf540e2767e9ba"
   },
   "outputs": [],
   "source": [
    "#mean_age_master = "
   ]
  },
  {
   "cell_type": "code",
   "execution_count": 128,
   "metadata": {
    "_cell_guid": "369d6bb8-48ff-4d10-9432-e853255dc7a9",
    "_uuid": "d0bfe201b4de7f59e8ef6dadb186b9dbc84ad3fb",
    "collapsed": true
   },
   "outputs": [],
   "source": [
    "#random_age = np.random.randint(avg_age - std_age,avg_age + std_age,size=count_nan_age)\n",
    "#random_age"
   ]
  },
  {
   "cell_type": "code",
   "execution_count": 129,
   "metadata": {},
   "outputs": [],
   "source": [
    "df[(df[\"Title\"]=='Mr') & (np.isnan(df[\"Age\"]))].count()"
   ]
  },
  {
   "cell_type": "code",
   "execution_count": 130,
   "metadata": {
    "scrolled": true
   },
   "outputs": [],
   "source": [
    "df.loc[(df[\"Title\"]=='Mr') & (np.isnan(df[\"Age\"])),'Age'] = 32.9"
   ]
  },
  {
   "cell_type": "code",
   "execution_count": 131,
   "metadata": {},
   "outputs": [],
   "source": [
    "df.loc[(df[\"Title\"]=='Master') & (np.isnan(df[\"Age\"])),'Age'] = 4.6\n",
    "df.loc[(df[\"Title\"]=='Mrs') & (np.isnan(df[\"Age\"])),'Age'] = 35.5\n",
    "df.loc[(df[\"Title\"]=='Miss') & (np.isnan(df[\"Age\"])),'Age'] = 31.7\n",
    "df.loc[(df[\"Title\"]=='Other') & (np.isnan(df[\"Age\"])),'Age'] = 42"
   ]
  },
  {
   "cell_type": "code",
   "execution_count": 132,
   "metadata": {
    "_cell_guid": "e583d8bb-9ca3-4583-940f-0769b0258be6",
    "_uuid": "09872cd5ad1ea6b9bab7aef64f3c89ee604d9ea4",
    "collapsed": true
   },
   "outputs": [],
   "source": [
    "#df[\"Age\"][np.isnan(df[\"Age\"])] = random_age"
   ]
  },
  {
   "cell_type": "code",
   "execution_count": 133,
   "metadata": {
    "_cell_guid": "3d5ed31e-48c3-4973-b34d-bdded4b8cda0",
    "_uuid": "5128846c3ebba624dbc60bb7a909777f767d463e"
   },
   "outputs": [],
   "source": [
    "df.head()"
   ]
  },
  {
   "cell_type": "code",
   "execution_count": 134,
   "metadata": {
    "_cell_guid": "6fc4609b-3caf-4bb3-99b9-d5bf6e4c3b3e",
    "_uuid": "55fe8313924e371200691d365c5d25692592c650"
   },
   "outputs": [],
   "source": [
    "df['Fare'].plot()"
   ]
  },
  {
   "cell_type": "code",
   "execution_count": 135,
   "metadata": {
    "_cell_guid": "9a28f7a4-1e55-42eb-95dc-73e77aefb4c7",
    "_uuid": "0dae789fe842be66cedbddd08ce58b0c61c070ae"
   },
   "outputs": [],
   "source": [
    "sns.distplot(df['Fare'])"
   ]
  },
  {
   "cell_type": "code",
   "execution_count": 136,
   "metadata": {},
   "outputs": [],
   "source": [
    "df['Fare_log'] = np.log(df['Fare'] + 1) "
   ]
  },
  {
   "cell_type": "code",
   "execution_count": 138,
   "metadata": {},
   "outputs": [],
   "source": [
    "sns.distplot(df['Fare_log'])"
   ]
  },
  {
   "cell_type": "code",
   "execution_count": 139,
   "metadata": {
    "_cell_guid": "9fd18b1b-6c5a-4a7e-a470-691bc782cbd4",
    "_uuid": "d00da36dcb7acdde3a057aecb6f39ddb6c4f5c7d"
   },
   "outputs": [],
   "source": [
    "df['Fare_log'].skew()"
   ]
  },
  {
   "cell_type": "code",
   "execution_count": 140,
   "metadata": {
    "_cell_guid": "c24a1550-0299-4d22-9f29-6441bec96e1d",
    "_uuid": "67a47f6a22bad1b72e44996fd2f74b02a4d259c4"
   },
   "outputs": [],
   "source": [
    "df['Fare_log'].kurt()"
   ]
  },
  {
   "cell_type": "code",
   "execution_count": 107,
   "metadata": {
    "_cell_guid": "f217cac4-139b-4c6a-a06d-df5a37571e06",
    "_uuid": "330e65fe23240d3ef3c88144245dbc8dbd94eb4a",
    "collapsed": true
   },
   "outputs": [],
   "source": [
    "#df['Fare'].fillna(0, inplace=True)"
   ]
  },
  {
   "cell_type": "code",
   "execution_count": 141,
   "metadata": {
    "_cell_guid": "51fd8a19-ca36-4584-bb2a-92a31196d29d",
    "_uuid": "779c623eb69123bd5dff644b0d3aaf92a97d0924"
   },
   "outputs": [],
   "source": [
    "df['Fare_log'].describe()"
   ]
  },
  {
   "cell_type": "code",
   "execution_count": 147,
   "metadata": {
    "_cell_guid": "0bfcafb2-9137-471b-9579-670e3edadd5b",
    "_uuid": "670ef6c252f32ebd5176d74154a81c482eed09b3"
   },
   "outputs": [],
   "source": [
    "#box plot overallqual/saleprice\n",
    "var = 'Pclass'\n",
    "data = pd.concat([df['Fare_log'], df[var]], axis=1)\n",
    "f, ax = plt.subplots(figsize=(8, 6))\n",
    "fig = sns.boxplot(x=var, y=\"Fare_log\", data=data)\n",
    "fig.axis(ymin=0, ymax=10);"
   ]
  },
  {
   "cell_type": "code",
   "execution_count": 110,
   "metadata": {
    "_cell_guid": "91060611-52f4-4da9-8d6b-884a766addb8",
    "_uuid": "680fb0da30ed873f36a7ebc49396c931f23f10ba"
   },
   "outputs": [],
   "source": [
    "corr = df.corr()\n",
    "corr.sort_values(['Survived'], ascending = False, inplace = True)\n",
    "corr.Survived"
   ]
  },
  {
   "cell_type": "code",
   "execution_count": null,
   "metadata": {
    "_cell_guid": "161171d8-5692-4647-97aa-3f8d85df56ad",
    "_uuid": "f3bf2868c64b15e2866f01ded234cda972ef2d5a",
    "collapsed": true
   },
   "outputs": [],
   "source": [
    "df[(df['Pclass']==3)]['Fare'].describe()"
   ]
  },
  {
   "cell_type": "code",
   "execution_count": null,
   "metadata": {
    "_cell_guid": "a9c38145-0aee-43ea-8d59-5e1e6fa17b3f",
    "_uuid": "759829ce3ebe8338e02b81265fd3b4435b98efcd",
    "collapsed": true
   },
   "outputs": [],
   "source": [
    "df.loc[(df.Pclass == 3) &(df['Fare'] > 30)] "
   ]
  },
  {
   "cell_type": "code",
   "execution_count": null,
   "metadata": {
    "_cell_guid": "c3e16274-9fe1-4819-a16a-217227b9bbc1",
    "_uuid": "8f964085917abeef8d8f6a63297e654894481dfd",
    "collapsed": true
   },
   "outputs": [],
   "source": [
    "df.loc[(df['Pclass']==3) & (df['Fare'] > 20),'Fare'] = df[df['Pclass']==3].mean()"
   ]
  },
  {
   "cell_type": "code",
   "execution_count": null,
   "metadata": {
    "_cell_guid": "8c1c3fcd-9237-4dc3-a6c3-3a1086e0847a",
    "_uuid": "e39466aaa228ffd7262a64f49e7f3072229ddc4c",
    "collapsed": true
   },
   "outputs": [],
   "source": [
    "df.loc[(df['Pclass']==2) & (df['Fare'] > 50),'Fare'] = df[df['Pclass']==2].mean()"
   ]
  },
  {
   "cell_type": "code",
   "execution_count": null,
   "metadata": {
    "_cell_guid": "a8281551-fe19-4e8d-82d8-331278a29d80",
    "_uuid": "3d167ffe4965e8ccb042f346f604e219ea01cc18",
    "collapsed": true
   },
   "outputs": [],
   "source": [
    "df.loc[(df['Pclass']==1) & (df['Fare'] > 100),'Fare'] = df[df['Pclass']==1].mean()"
   ]
  },
  {
   "cell_type": "code",
   "execution_count": null,
   "metadata": {
    "_cell_guid": "3c94a484-e94c-41fb-b0a5-17a93a792a35",
    "_uuid": "d360fc2e57ead1847d5b2f06e68c47503e4cf755",
    "collapsed": true
   },
   "outputs": [],
   "source": [
    "#box plot overallqual/saleprice\n",
    "var = 'Pclass'\n",
    "data = pd.concat([df['Fare'], df[var]], axis=1)\n",
    "f, ax = plt.subplots(figsize=(8, 6))\n",
    "fig = sns.boxplot(x=var, y=\"Fare\", data=data)\n",
    "fig.axis(ymin=0, ymax=150);"
   ]
  },
  {
   "cell_type": "code",
   "execution_count": null,
   "metadata": {
    "_cell_guid": "4decca30-c02a-40cb-aa4f-3bd5b8ac37eb",
    "_uuid": "839956495c3548d9b520941699c3ce4b9b7b47ef",
    "collapsed": true
   },
   "outputs": [],
   "source": [
    "df['Fare'].dropna()"
   ]
  },
  {
   "cell_type": "code",
   "execution_count": null,
   "metadata": {
    "_cell_guid": "12705ff7-6bf4-40e0-acb0-24d32c023e44",
    "_uuid": "47b1432de7e124432d560bd4cd45a89556f4fb48",
    "collapsed": true
   },
   "outputs": [],
   "source": [
    "#df.loc[(df['Pclass']==3) & (df['Fare'].isnull()),'Fare'] = df[df['Pclass']==3].mean()"
   ]
  },
  {
   "cell_type": "code",
   "execution_count": null,
   "metadata": {
    "_cell_guid": "503c2ebc-bcb7-4bbe-9d08-4c5ff2de36af",
    "_uuid": "092aa6191a66763e9dde2f93da874f5e8551d556",
    "collapsed": true
   },
   "outputs": [],
   "source": [
    "#df.loc[(df['Pclass']==2) & (df['Fare'].isnull()),'Fare'] = df[df['Pclass']==2].mean()"
   ]
  },
  {
   "cell_type": "code",
   "execution_count": null,
   "metadata": {
    "_cell_guid": "5b86b00b-994c-4d72-a800-86f71c268b5f",
    "_uuid": "e59e3163fae07f1e70f24965b62e652b82e53d64",
    "collapsed": true
   },
   "outputs": [],
   "source": [
    "df[df['Fare'].isnull()]"
   ]
  },
  {
   "cell_type": "code",
   "execution_count": null,
   "metadata": {
    "_cell_guid": "ad789606-30f1-4dc6-9292-f714f474e070",
    "_uuid": "74926e619ffe43b884b9e854049048b0e761f075",
    "collapsed": true
   },
   "outputs": [],
   "source": [
    "df = df.drop(df.loc[df['Fare'].isnull()].index)"
   ]
  },
  {
   "cell_type": "code",
   "execution_count": null,
   "metadata": {
    "_cell_guid": "6f5a8978-bb33-4957-8882-170e361f0706",
    "_uuid": "37bcfa0d190ee8ac6e96770a2d92f0d8359a545d",
    "collapsed": true
   },
   "outputs": [],
   "source": [
    "df[df['Fare'].isnull()]"
   ]
  },
  {
   "cell_type": "code",
   "execution_count": null,
   "metadata": {
    "_cell_guid": "413783b7-206c-4444-a66d-ae71de94f738",
    "_uuid": "4dc20177ef0ef981c510c556eb1938d18f978ae6",
    "collapsed": true
   },
   "outputs": [],
   "source": [
    "df['Fare'].isnull().sum()"
   ]
  },
  {
   "cell_type": "code",
   "execution_count": null,
   "metadata": {
    "_cell_guid": "76f0c9c7-f640-42a3-b293-686bb54b26cc",
    "_uuid": "15ba1ba7eab822130d41253a5e2a7ad02448538a",
    "collapsed": true
   },
   "outputs": [],
   "source": [
    "sns.distplot(df['Fare'])"
   ]
  },
  {
   "cell_type": "code",
   "execution_count": null,
   "metadata": {
    "_cell_guid": "2b10c23b-44e2-4cb9-be3f-a9335bb04a37",
    "_uuid": "ab3c15c3658afdc5931d7893544ecaf5b3f797eb",
    "collapsed": true
   },
   "outputs": [],
   "source": [
    "#correlation matrix\n",
    "corrmat = df.corr()\n",
    "f, ax = plt.subplots(figsize=(12, 9))\n",
    "sns.heatmap(corrmat, vmax=.8, square=True);"
   ]
  },
  {
   "cell_type": "code",
   "execution_count": null,
   "metadata": {
    "_cell_guid": "f1ef3554-2055-4694-b4bd-5da33ff58064",
    "_uuid": "32ec20a4a6b5d95d555c9d639ab127615c6d9c51",
    "collapsed": true
   },
   "outputs": [],
   "source": [
    "bins = [0, 10, 20, 30, 40, 50, 60, 70, 80, 90]\n",
    "labels=[1,2,3,4,5,6,7,8,9]\n",
    "df['Age_index']=pd.cut(df.Age, bins=bins,labels=labels)"
   ]
  },
  {
   "cell_type": "code",
   "execution_count": null,
   "metadata": {
    "_cell_guid": "9ce60b3d-7b1d-4ea4-adc8-784e569df7d8",
    "_uuid": "8cd04137378ec09744c960220169d2b3d06bd962",
    "collapsed": true
   },
   "outputs": [],
   "source": [
    "df.head()"
   ]
  },
  {
   "cell_type": "code",
   "execution_count": null,
   "metadata": {
    "_cell_guid": "167a034b-afab-49f4-bd8b-5096e72ac43f",
    "_uuid": "097245119c8f5c028d29ea6dcbf530854cd402c7",
    "collapsed": true
   },
   "outputs": [],
   "source": [
    "df[df['Cabin'].notnull()][['Survived','Cabin','Fare']].groupby(['Survived']).agg({'Fare':'mean','Cabin':'count'})"
   ]
  },
  {
   "cell_type": "code",
   "execution_count": null,
   "metadata": {
    "_cell_guid": "da383d5a-8ef5-45d0-bafd-bbb1523db428",
    "_uuid": "0d49f3eead7256b5e9c3475c3fc70c92611d9a6d",
    "collapsed": true
   },
   "outputs": [],
   "source": [
    "df['Cabin_available'] = df['Cabin'].isnull()\n",
    "df['Cabin_available'].replace([True,False],[0,1],inplace=True)"
   ]
  },
  {
   "cell_type": "code",
   "execution_count": null,
   "metadata": {
    "_cell_guid": "27d2bbd4-abe0-4bc1-aac8-8d2391d0398f",
    "_uuid": "e7cbd8d373a02fb5e8e9a9842218fe5445556847",
    "collapsed": true
   },
   "outputs": [],
   "source": [
    "df['Fare']=df['Fare'].round(1)\n"
   ]
  },
  {
   "cell_type": "code",
   "execution_count": null,
   "metadata": {
    "_cell_guid": "0bb5c6d9-6f6c-469e-b280-102fdf110f04",
    "_uuid": "e031e521ca7a06360311cc4fca1281a83b497417",
    "collapsed": true
   },
   "outputs": [],
   "source": [
    "df['Fare']"
   ]
  },
  {
   "cell_type": "code",
   "execution_count": null,
   "metadata": {
    "_cell_guid": "5ae1951d-9842-443d-bc4a-b015aa187497",
    "_uuid": "e281581131c2f26b31163505b6bdd949779ad509",
    "collapsed": true
   },
   "outputs": [],
   "source": []
  },
  {
   "cell_type": "code",
   "execution_count": null,
   "metadata": {
    "_cell_guid": "29e1841e-20e6-4644-9ca0-b6c73fdeb094",
    "_uuid": "b2537af0608a60ec47b4badfde83e114cb6842ca",
    "collapsed": true
   },
   "outputs": [],
   "source": [
    "x_train_all = df.as_matrix(columns=['Pclass','Sex','Fare','Age_index'])\n",
    "y_train_all = df.as_matrix(columns=['Survived'])\n",
    "x_train = x_train_all\n",
    "y_train = y_train_all\n",
    "y_train = y_train.reshape(-1)\n"
   ]
  },
  {
   "cell_type": "code",
   "execution_count": null,
   "metadata": {
    "_cell_guid": "404adb67-3c0c-48a2-8e6b-0a96f80e2005",
    "_uuid": "613433b765434dd6c6db85441811a6f35f92f5af",
    "collapsed": true
   },
   "outputs": [],
   "source": [
    "x_train_lr = df.as_matrix(columns=['Sex','Pclass'])\n",
    "y_train_lr = df.as_matrix(columns=['Survived'])"
   ]
  },
  {
   "cell_type": "code",
   "execution_count": null,
   "metadata": {
    "_cell_guid": "30192279-325c-4238-87a3-bff4a98279bd",
    "_uuid": "6686e81104ed7ac9d2c7690bf88bd3d4fb739ff3",
    "collapsed": true
   },
   "outputs": [],
   "source": [
    "from sklearn.linear_model import LogisticRegression\n",
    "lr = LogisticRegression(random_state=1)\n",
    "lr.fit(x_train_lr,y_train_lr)\n",
    "lr.score(x_train_lr,y_train_lr)\n"
   ]
  },
  {
   "cell_type": "code",
   "execution_count": null,
   "metadata": {
    "_cell_guid": "32eb78de-a4c0-4b72-bdc4-cbcc6b9f7047",
    "_uuid": "8bb6e5d572fe178eeac7f7889c54a8b013608e59",
    "collapsed": true
   },
   "outputs": [],
   "source": [
    "#nn_clf.score(x_train_lr,y_train_lr)"
   ]
  },
  {
   "cell_type": "code",
   "execution_count": null,
   "metadata": {
    "_cell_guid": "69f99d6b-a4a3-4451-944a-6b61c93c397c",
    "_uuid": "0e55aaeb22b16c43c7c8b288303a74a1a3217049",
    "collapsed": true
   },
   "outputs": [],
   "source": [
    "x_train[1]"
   ]
  },
  {
   "cell_type": "code",
   "execution_count": null,
   "metadata": {
    "_cell_guid": "fc61df59-6e1b-493c-993f-e28c935fe2bc",
    "_uuid": "f75e6798942fd8121efcd6a254df06925b7e2798",
    "collapsed": true
   },
   "outputs": [],
   "source": [
    "import xgboost as xgb\n",
    "gbm = xgb.XGBClassifier(max_depth=3, n_estimators=300, learning_rate=0.05).fit(x_train, y_train)\n",
    "gbm.score(x_train,y_train)\n",
    "stacked_models_df= pd.DataFrame()\n",
    "stacked_models_df['gbm'] = gbm.predict(x_train)"
   ]
  },
  {
   "cell_type": "code",
   "execution_count": null,
   "metadata": {
    "_cell_guid": "7c5ed610-36f0-4527-8b77-3ae5e8b16675",
    "_uuid": "dcd0fcfa01a54e67f9ac9e9d20ed49d2760835f7",
    "collapsed": true
   },
   "outputs": [],
   "source": []
  },
  {
   "cell_type": "code",
   "execution_count": null,
   "metadata": {
    "_cell_guid": "f6246163-22c3-404d-b2ba-22f48953d3dd",
    "_uuid": "7c0915d6abead9d1ba52ec8a2420a6dfc7f2779f",
    "collapsed": true
   },
   "outputs": [],
   "source": [
    "from sklearn import svm\n",
    "clf = svm.SVC(gamma=0.001, C=100.)\n",
    "clf.fit(x_train, y_train)\n",
    "stacked_models_df['svm'] = clf.predict(x_train)"
   ]
  },
  {
   "cell_type": "code",
   "execution_count": null,
   "metadata": {
    "_cell_guid": "be6c7294-f9bd-42bb-a6b9-8bef78c6cc3b",
    "_uuid": "dc46cf12285839c0c61982ddbbda2a5503751374",
    "collapsed": true
   },
   "outputs": [],
   "source": [
    "clf.predict([[3.,1.,7.2833,38.]])"
   ]
  },
  {
   "cell_type": "code",
   "execution_count": null,
   "metadata": {
    "_cell_guid": "16d90a5d-5eb5-4d92-ba25-e6e06f385742",
    "_uuid": "e298db238eba650d6149fe008241f6d48739bf40",
    "collapsed": true
   },
   "outputs": [],
   "source": []
  },
  {
   "cell_type": "code",
   "execution_count": null,
   "metadata": {
    "_cell_guid": "e08c883a-06c0-4742-8390-c8cc6f8b2384",
    "_uuid": "c1dd2803690dc8379ba77eecdfa8e36d3f053ce9",
    "collapsed": true
   },
   "outputs": [],
   "source": [
    "from sklearn.ensemble import RandomForestClassifier\n",
    "random_forest = RandomForestClassifier(n_estimators=100)\n",
    "random_forest.fit(x_train, y_train)\n",
    "random_forest.score(x_train, y_train)\n",
    "stacked_models_df['rf'] = clf.predict(x_train)"
   ]
  },
  {
   "cell_type": "code",
   "execution_count": null,
   "metadata": {
    "_cell_guid": "5cb2e944-9b6b-4106-aa71-8e2d2de76b33",
    "_uuid": "d096f54038f97c0d8dd5e6bc37ada3c126801271",
    "collapsed": true
   },
   "outputs": [],
   "source": []
  },
  {
   "cell_type": "code",
   "execution_count": null,
   "metadata": {
    "_cell_guid": "9853b5ef-d96e-4bc4-80eb-74117a1419a4",
    "_uuid": "7523b3a8b9905c3579afa42a55176d54c0491e3d",
    "collapsed": true
   },
   "outputs": [],
   "source": [
    "random_forest.predict([[1.,0.,71.2833,38.]])"
   ]
  },
  {
   "cell_type": "code",
   "execution_count": null,
   "metadata": {
    "_cell_guid": "1bef6e45-dd6e-492b-ac7a-5023adbb0919",
    "_uuid": "19c7387a066dbb3a0a661917d12cd44ef287a20b",
    "collapsed": true
   },
   "outputs": [],
   "source": [
    "#from sklearn.model_selection import cross_val_score\n",
    "#cross_val_score_rf = cross_val_score(random_forest,x_train,y_train,cv=5)\n",
    "#print(cross_val_score_rf.mean())"
   ]
  },
  {
   "cell_type": "code",
   "execution_count": null,
   "metadata": {
    "_cell_guid": "1c0fafab-00aa-48e5-bb64-674e90a6d0b7",
    "_uuid": "2e5e7e31670b831b31e3b3049be9157c33fab458",
    "collapsed": true
   },
   "outputs": [],
   "source": [
    "#cross_val_score_svm = cross_val_score(clf,x_train,y_train,cv=5)\n",
    "#print(cross_val_score_svm.mean())"
   ]
  },
  {
   "cell_type": "code",
   "execution_count": null,
   "metadata": {
    "_cell_guid": "ba484977-6d7e-4632-b59d-fea374f7303d",
    "_uuid": "2237aae0b4f98a499d8971c46d15e15434c7cb90",
    "collapsed": true
   },
   "outputs": [],
   "source": [
    "#from sklearn.linear_model import LogisticRegression\n",
    "#lr = LogisticRegression(random_state=1)\n",
    "#lr.fit(x_train,y_train)\n",
    "#lr.score(x_train,y_train)\n",
    "#stacked_models_df['lr'] = lr.predict(x_train)"
   ]
  },
  {
   "cell_type": "code",
   "execution_count": null,
   "metadata": {
    "_cell_guid": "562b1b97-ff04-40a3-af36-256255005cb7",
    "_uuid": "aed242d19489f1cc38471140dbf2a3fb073ce4c9",
    "collapsed": true
   },
   "outputs": [],
   "source": [
    "stacked_models_df"
   ]
  },
  {
   "cell_type": "code",
   "execution_count": null,
   "metadata": {
    "_cell_guid": "e0874176-f04d-47d8-ad3a-2ec766f87dd9",
    "_uuid": "f7423aef2dc05b061470a9f403e8e6fa214458a4",
    "collapsed": true
   },
   "outputs": [],
   "source": [
    "#from sklearn.neural_network import MLPClassifier\n",
    "#nn_clf = MLPClassifier(solver='lbfgs', alpha=1e-5,\n",
    "#                    hidden_layer_sizes=(12,2),max_iter=500, random_state=1,activation='tanh')\n",
    "#nn_clf.fit(x_train,y_train)"
   ]
  },
  {
   "cell_type": "code",
   "execution_count": null,
   "metadata": {
    "_cell_guid": "b192be88-11aa-4d4c-a553-ad8dc1802ae1",
    "_uuid": "de8dd719ebdd93c0cdc192c57b346ce1e3d7ba11",
    "collapsed": true
   },
   "outputs": [],
   "source": [
    "#nn_clf.score(x_train,y_train)"
   ]
  },
  {
   "cell_type": "code",
   "execution_count": null,
   "metadata": {
    "_cell_guid": "1fb97405-54cf-48f6-b4ae-10816cc05b0b",
    "_kg_hide-input": false,
    "_kg_hide-output": true,
    "_uuid": "6a695665c73bae1ee88cb87ae1752015ba88dc85",
    "collapsed": true
   },
   "outputs": [],
   "source": [
    "#cross_val_score(nn_clf,x_train,y_train,cv=10).mean()"
   ]
  },
  {
   "cell_type": "code",
   "execution_count": null,
   "metadata": {
    "_cell_guid": "1fa32185-cba6-4004-a78d-e66c2880ffb2",
    "_uuid": "bed2feaa2f3cc3bf6a6270559a30d8d7c0d218a2",
    "collapsed": true
   },
   "outputs": [],
   "source": [
    "x_train_stacked=stacked_models_df.values\n",
    "x_train_stacked.shape"
   ]
  },
  {
   "cell_type": "code",
   "execution_count": null,
   "metadata": {
    "_cell_guid": "50027547-97b6-4384-9a4b-50435a69e5d5",
    "_uuid": "05414ca2b61080a1273c968b4f6fdd7c51c98610",
    "collapsed": true
   },
   "outputs": [],
   "source": [
    "y_train.shape"
   ]
  },
  {
   "cell_type": "code",
   "execution_count": null,
   "metadata": {
    "_cell_guid": "459173d3-0a8d-4797-af3e-5963bdbb92aa",
    "_uuid": "266619b3181e3d90d83ae7cbf36b71ee4aa0d620",
    "collapsed": true
   },
   "outputs": [],
   "source": [
    "from sklearn.neural_network import MLPClassifier\n",
    "nn_clf = MLPClassifier(solver='lbfgs', alpha=1e-5,\n",
    "                    hidden_layer_sizes=(12,2),max_iter=500, random_state=1,activation='tanh')\n",
    "nn_clf.fit(x_train_stacked,y_train)"
   ]
  },
  {
   "cell_type": "code",
   "execution_count": null,
   "metadata": {
    "_cell_guid": "3456c0c3-10fe-48f9-95a0-dd2654ffb390",
    "_uuid": "d142753b861cf5c4b5011b60cfc592727ef98319",
    "collapsed": true
   },
   "outputs": [],
   "source": [
    "nn_clf.score(x_train_stacked,y_train)"
   ]
  },
  {
   "cell_type": "code",
   "execution_count": null,
   "metadata": {
    "_cell_guid": "099dfb67-7a6f-4ada-96e5-be72df7cc91a",
    "_uuid": "bcf078067bfd8e887168c8321a49967946b5f1ae",
    "collapsed": true
   },
   "outputs": [],
   "source": [
    "df_test = pd.read_csv('../input/test.csv',encoding = \"ISO-8859-1\",low_memory=False)"
   ]
  },
  {
   "cell_type": "code",
   "execution_count": null,
   "metadata": {
    "_cell_guid": "9d3a8171-5793-4a8b-8780-4f494b4d303f",
    "_uuid": "49e2799acdc528d4be08c7986e1ff3e7320e06f3",
    "collapsed": true
   },
   "outputs": [],
   "source": [
    "df_test.head()"
   ]
  },
  {
   "cell_type": "code",
   "execution_count": null,
   "metadata": {
    "_cell_guid": "9056d413-ec10-4858-9d0f-440e9d1a3f58",
    "_uuid": "d4efe2b2ece18ab60a3ec4f3dbe5d72f0702c061",
    "collapsed": true
   },
   "outputs": [],
   "source": [
    "df_test['Sex'].replace(['female','male'],[0,1],inplace=True)\n",
    "avg_age = df_test[\"Age\"].mean()\n",
    "std_age = df_test[\"Age\"].std()\n",
    "count_nan_age = df_test[\"Age\"].isnull().sum()\n",
    "random_age = np.random.randint(avg_age - std_age,avg_age + std_age,size=count_nan_age)\n",
    "df_test[\"Age\"][np.isnan(df_test[\"Age\"])] = random_age"
   ]
  },
  {
   "cell_type": "code",
   "execution_count": null,
   "metadata": {
    "_cell_guid": "6fb50072-7661-4322-a844-06fe975679d4",
    "_uuid": "16bead6f5a594e638112e5097fd89e60d0f10056",
    "collapsed": true
   },
   "outputs": [],
   "source": [
    "avg_fare = df_test[\"Fare\"].mean()\n",
    "std_fare = df_test[\"Fare\"].std()\n",
    "count_nan_fare = df_test[\"Fare\"].isnull().sum()\n",
    "random_fare = np.random.randint(avg_fare - std_fare,avg_fare + std_fare,size=count_nan_fare)\n",
    "df_test[\"Fare\"][np.isnan(df_test[\"Fare\"])] = random_fare"
   ]
  },
  {
   "cell_type": "code",
   "execution_count": null,
   "metadata": {
    "_cell_guid": "b4689a10-2f47-45b8-9122-34918487371f",
    "_uuid": "ae2c59c5213e7237b55968055a0df1f88ec0dabc",
    "collapsed": true
   },
   "outputs": [],
   "source": [
    "df_test['Cabin_available'] = df_test['Cabin'].isnull()\n"
   ]
  },
  {
   "cell_type": "code",
   "execution_count": null,
   "metadata": {
    "_cell_guid": "861e6d0d-3583-439c-8641-51f9fec71b59",
    "_uuid": "899fed44f69e9db62a3f2e72b512e6fcdfea0069",
    "collapsed": true
   },
   "outputs": [],
   "source": [
    "df_test['Cabin_available'].replace([True,False],[2,3],inplace=True)\n",
    "df_test[['Pclass','Sex','Parch','Fare','SibSp','Age','Cabin_available']].head()"
   ]
  },
  {
   "cell_type": "code",
   "execution_count": null,
   "metadata": {
    "_cell_guid": "80f1e070-d990-4113-aadd-dd36df752d0c",
    "_uuid": "b4ec59c0a87da3121a2e2a8f670c22458b2865e6",
    "collapsed": true
   },
   "outputs": [],
   "source": [
    "nans = lambda df: df[df.isnull().any(axis=1)]\n",
    "nans(df_test[['Pclass','Sex','Parch','Fare','SibSp','Age','Cabin_available']])"
   ]
  },
  {
   "cell_type": "code",
   "execution_count": null,
   "metadata": {
    "_cell_guid": "48f1285b-305a-4194-ba16-e255ecba80c1",
    "_uuid": "bbe40b48c6580c11792d60e72f98d00aafa00e36",
    "collapsed": true
   },
   "outputs": [],
   "source": [
    "bins = [0, 10, 20, 30, 40, 50, 60, 70, 80, 90]\n",
    "labels=[1,2,3,4,5,6,7,8,9]\n",
    "df_test['Age_index']=pd.cut(df_test.Age, bins=bins,labels=labels)"
   ]
  },
  {
   "cell_type": "code",
   "execution_count": null,
   "metadata": {
    "_cell_guid": "e7055b5a-b546-4dff-81fa-960bdb2c61f6",
    "_uuid": "c4e2b5285e9fc0b5ac36e82e75232be0498aa505",
    "collapsed": true
   },
   "outputs": [],
   "source": [
    "#x_test = df_test.as_matrix(columns=['Pclass','Sex','Fare','Age_index'])"
   ]
  },
  {
   "cell_type": "code",
   "execution_count": null,
   "metadata": {
    "_cell_guid": "ab1bb90e-ab46-4e0e-90ec-6f440776671f",
    "_uuid": "4421da7aa8eac30ce5ddada00ddb8d704ce7e1a7",
    "collapsed": true
   },
   "outputs": [],
   "source": [
    "x_test = df_test.as_matrix(columns=['Sex'])"
   ]
  },
  {
   "cell_type": "code",
   "execution_count": null,
   "metadata": {
    "_cell_guid": "26d26932-a49e-466f-9693-8bc75d354962",
    "_uuid": "ea2a499fabd728338c914c343222ea37bfd35b98",
    "collapsed": true
   },
   "outputs": [],
   "source": [
    "x_test.shape"
   ]
  },
  {
   "cell_type": "code",
   "execution_count": null,
   "metadata": {
    "_cell_guid": "89effb48-c306-4e73-83ac-39b5748b91a3",
    "_uuid": "2e22ac913701fd6bc9237baf09b94e3af6e4196e",
    "collapsed": true
   },
   "outputs": [],
   "source": [
    "#box plot overallqual/saleprice\n",
    "var = 'Pclass'\n",
    "data = pd.concat([df_test['Fare'], df_test[var]], axis=1)\n",
    "f, ax = plt.subplots(figsize=(8, 6))\n",
    "fig = sns.boxplot(x=var, y=\"Fare\", data=data)\n",
    "fig.axis(ymin=0, ymax=150);"
   ]
  },
  {
   "cell_type": "code",
   "execution_count": null,
   "metadata": {
    "_cell_guid": "2c87a2a1-5430-4454-b8bb-753c75c2e0c6",
    "_uuid": "23818b15185f78a7eecb53f401038adb09828bbe",
    "collapsed": true
   },
   "outputs": [],
   "source": [
    "stacked_model_pred=pd.DataFrame()"
   ]
  },
  {
   "cell_type": "code",
   "execution_count": null,
   "metadata": {
    "_cell_guid": "2c6df61a-0c39-4e62-a2e8-64416b1a342d",
    "_uuid": "ff4f4fe456ade8290b0402e80840f67852d9dc53",
    "collapsed": true
   },
   "outputs": [],
   "source": [
    "#stacked_model_pred['gbm']=gbm.predict(x_test)"
   ]
  },
  {
   "cell_type": "code",
   "execution_count": null,
   "metadata": {
    "_cell_guid": "187a03b2-8054-4cca-bc2b-c1cc88068991",
    "_uuid": "58468f17221bd45f4040a81d18230c1463e9bd68",
    "collapsed": true
   },
   "outputs": [],
   "source": [
    "#stacked_model_pred['clf']=clf.predict(x_test)"
   ]
  },
  {
   "cell_type": "code",
   "execution_count": null,
   "metadata": {
    "_cell_guid": "dc99a6d4-74a3-4be8-8ea7-40ee8004cf9f",
    "_uuid": "d06763d0da4eca0bde1a557dd8f00d6591e44350",
    "collapsed": true
   },
   "outputs": [],
   "source": [
    "#stacked_model_pred['lr']=lr.predict(x_test)"
   ]
  },
  {
   "cell_type": "code",
   "execution_count": null,
   "metadata": {
    "_cell_guid": "02c381ed-79ae-4df4-8f12-4970447e1510",
    "_uuid": "75d709c4f27e7bfd8ae794f4bda6d30f77637b15",
    "collapsed": true
   },
   "outputs": [],
   "source": [
    "#stacked_model_pred['rf']=random_forest.predict(x_test)"
   ]
  },
  {
   "cell_type": "code",
   "execution_count": null,
   "metadata": {
    "_cell_guid": "b30bed24-82a7-498f-988f-ec0df5940a5a",
    "_uuid": "bfef3ebd53de413749ca67f87f6be9d548912fbc",
    "collapsed": true
   },
   "outputs": [],
   "source": [
    "#stacked_model_pred.head()"
   ]
  },
  {
   "cell_type": "code",
   "execution_count": null,
   "metadata": {
    "_cell_guid": "293d3502-e799-42af-9b85-111058105a02",
    "_uuid": "bbeceb0d80c3c1b0ed1d51265059a6a5c9a57799",
    "collapsed": true
   },
   "outputs": [],
   "source": [
    "#x_test_stacked = stacked_model_pred.values"
   ]
  },
  {
   "cell_type": "code",
   "execution_count": null,
   "metadata": {
    "_cell_guid": "523fc662-9992-4b44-a2a6-cc8c04914139",
    "_uuid": "caae0d9f0cee3437eb4509cf2a19d571d9d5a725",
    "collapsed": true
   },
   "outputs": [],
   "source": [
    "test_predictions = lr.predict(x_test)"
   ]
  },
  {
   "cell_type": "code",
   "execution_count": null,
   "metadata": {
    "_cell_guid": "5d90562a-a3b1-4a0d-8148-2fa291abe131",
    "_uuid": "413d34cd450f6275fd92a51f96b99ce0a93584a1",
    "collapsed": true
   },
   "outputs": [],
   "source": [
    "#test_predictions = gbm.predict(x_test)"
   ]
  },
  {
   "cell_type": "code",
   "execution_count": null,
   "metadata": {
    "_cell_guid": "4df7981d-241c-4c34-b091-b50051ba0695",
    "_uuid": "576777c2cc0f092790c3f4b7882b5aec0a63fbaa",
    "collapsed": true
   },
   "outputs": [],
   "source": [
    "lr.score(x_train_lr,y_train_lr)"
   ]
  },
  {
   "cell_type": "code",
   "execution_count": null,
   "metadata": {
    "_cell_guid": "75d9e21d-11b8-4e91-81d5-6403883b2878",
    "_uuid": "513e630877954bac35082e900a913cc8f6dea22f",
    "collapsed": true
   },
   "outputs": [],
   "source": [
    "test_predictions=test_predictions.astype(int)\n",
    "submission = pd.DataFrame({\n",
    "        \"PassengerId\": df_test[\"PassengerId\"],\n",
    "        \"Survived\": test_predictions\n",
    "    })\n",
    "submission.head()"
   ]
  },
  {
   "cell_type": "code",
   "execution_count": null,
   "metadata": {
    "_cell_guid": "2618323e-342d-4e6f-b197-d150a870bed3",
    "_uuid": "a4dfbfe61cda4718de60829d79568e1c53b554dd",
    "collapsed": true
   },
   "outputs": [],
   "source": [
    "submission.to_csv(\"survival_submission_v9.csv\", index=False)"
   ]
  },
  {
   "cell_type": "code",
   "execution_count": null,
   "metadata": {
    "_cell_guid": "5c4c6da1-8f65-4331-8326-c03b09cd330e",
    "_uuid": "2a658ad6e2d545420f01a96aa2827d253f5e85c5",
    "collapsed": true
   },
   "outputs": [],
   "source": []
  }
 ],
 "metadata": {
  "kernelspec": {
   "display_name": "Python 3",
   "language": "python",
   "name": "python3"
  },
  "language_info": {
   "codemirror_mode": {
    "name": "ipython",
    "version": 3
   },
   "file_extension": ".py",
   "mimetype": "text/x-python",
   "name": "python",
   "nbconvert_exporter": "python",
   "pygments_lexer": "ipython3",
   "version": "3.6.7"
  }
 },
 "nbformat": 4,
 "nbformat_minor": 1
}
