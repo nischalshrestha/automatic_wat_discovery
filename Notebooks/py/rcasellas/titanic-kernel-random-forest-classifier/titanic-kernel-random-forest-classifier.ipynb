{
  "cells": [
    {
      "cell_type": "markdown",
      "metadata": {
        "_cell_guid": "5b7d2b14-658c-810e-335e-69971cc39e90"
      },
      "source": [
        ""
      ]
    },
    {
      "cell_type": "code",
      "execution_count": null,
      "metadata": {
        "_cell_guid": "d1ba6f54-0b96-b44c-a68b-7c8c39dfc080"
      },
      "outputs": [],
      "source": [
        "import numpy as np\n",
        "import pandas as pd\n",
        "import matplotlib.pyplot as plt\n",
        "import seaborn as sns\n",
        "from sklearn import tree\n",
        "from sklearn.linear_model import LogisticRegression\n",
        "from sklearn.ensemble import RandomForestClassifier\n",
        "from sklearn.ensemble import ExtraTreesClassifier"
      ]
    },
    {
      "cell_type": "code",
      "execution_count": null,
      "metadata": {
        "_cell_guid": "9c917c0a-baed-fbc9-be8a-3c54b11cccb6"
      },
      "outputs": [],
      "source": [
        "train = pd.read_csv('../input/train.csv')\n",
        "test = pd.read_csv('../input/test.csv')\n",
        "combine = [train, test]"
      ]
    },
    {
      "cell_type": "code",
      "execution_count": null,
      "metadata": {
        "_cell_guid": "5e36bf2b-834b-34e1-a189-df45f0f4bb13"
      },
      "outputs": [],
      "source": [
        "train.head()"
      ]
    },
    {
      "cell_type": "code",
      "execution_count": null,
      "metadata": {
        "_cell_guid": "a9965787-89fc-5888-8d54-3f23ceae8c89"
      },
      "outputs": [],
      "source": [
        "train.columns"
      ]
    },
    {
      "cell_type": "code",
      "execution_count": null,
      "metadata": {
        "_cell_guid": "37ddb64b-95df-b1b2-ab7e-9aeb9a02e612"
      },
      "outputs": [],
      "source": [
        "excl = ['PassengerId', 'Survived', 'Ticket', 'Cabin', 'Name']\n",
        "cols = [c for c in train.columns if c not in excl]"
      ]
    },
    {
      "cell_type": "code",
      "execution_count": null,
      "metadata": {
        "_cell_guid": "6874da51-5e20-6f81-7602-13fb8ab211e0"
      },
      "outputs": [],
      "source": [
        "train['Name']"
      ]
    },
    {
      "cell_type": "code",
      "execution_count": null,
      "metadata": {
        "_cell_guid": "178bbd70-2562-33b0-8a53-4cfe6e98640a"
      },
      "outputs": [],
      "source": [
        "train[cols].head()"
      ]
    },
    {
      "cell_type": "code",
      "execution_count": null,
      "metadata": {
        "_cell_guid": "84e8b9fc-725a-6f91-f287-b4e5438d147c"
      },
      "outputs": [],
      "source": [
        "train['Pclass'][train['Pclass'] == 3].count()"
      ]
    },
    {
      "cell_type": "code",
      "execution_count": null,
      "metadata": {
        "_cell_guid": "456dfe6a-746b-17d2-ca43-ec442eb748af"
      },
      "outputs": [],
      "source": [
        "sns.countplot(train['Pclass'])"
      ]
    },
    {
      "cell_type": "code",
      "execution_count": null,
      "metadata": {
        "_cell_guid": "e27fb618-d94b-197a-1c55-9c8f53bb98ba"
      },
      "outputs": [],
      "source": [
        "sns.countplot(train['Deck'])"
      ]
    },
    {
      "cell_type": "code",
      "execution_count": null,
      "metadata": {
        "_cell_guid": "e0f1a5da-59e4-6d7d-6489-449bc259599c"
      },
      "outputs": [],
      "source": [
        "train.isnull().sum()"
      ]
    },
    {
      "cell_type": "code",
      "execution_count": null,
      "metadata": {
        "_cell_guid": "2a1066e4-67e0-3e4c-61d7-794210fbb038"
      },
      "outputs": [],
      "source": [
        "sns.countplot(train['Embarked'])"
      ]
    },
    {
      "cell_type": "code",
      "execution_count": null,
      "metadata": {
        "_cell_guid": "28f5e886-cb9f-af1e-1d79-3e07b5f9cadb"
      },
      "outputs": [],
      "source": [
        "sns.distplot(train['Fare'].dropna())"
      ]
    },
    {
      "cell_type": "code",
      "execution_count": null,
      "metadata": {
        "_cell_guid": "1eb1b6a7-b7f4-4a15-d2d2-0f6523bb7b20"
      },
      "outputs": [],
      "source": [
        "sns.countplot(train['Parch'].dropna())"
      ]
    },
    {
      "cell_type": "code",
      "execution_count": null,
      "metadata": {
        "_cell_guid": "17c5fd43-31ee-0d0f-08b2-0bd9c15bef40"
      },
      "outputs": [],
      "source": [
        "sns.countplot(train['SibSp'])"
      ]
    },
    {
      "cell_type": "code",
      "execution_count": null,
      "metadata": {
        "_cell_guid": "18cf7bf6-661b-87c8-746b-85afeb90acc7"
      },
      "outputs": [],
      "source": [
        "sns.distplot(train['Age'].dropna())"
      ]
    },
    {
      "cell_type": "code",
      "execution_count": null,
      "metadata": {
        "_cell_guid": "cf367b86-2d83-57f5-61f5-1dcadc75b106"
      },
      "outputs": [],
      "source": [
        "sns.countplot(train['Sex'])"
      ]
    },
    {
      "cell_type": "code",
      "execution_count": null,
      "metadata": {
        "_cell_guid": "e074c515-08cb-2831-cf0d-24cfdf55cf2d"
      },
      "outputs": [],
      "source": [
        "sns.countplot(train['Survived'])"
      ]
    },
    {
      "cell_type": "code",
      "execution_count": null,
      "metadata": {
        "_cell_guid": "1b4ab4c7-835b-1f16-f7de-dcb8d1ba36e4"
      },
      "outputs": [],
      "source": [
        "for df in combine:\n",
        "    df['child'] = float('NaN')\n",
        "    df[\"child\"][df[\"Age\"] < 18] = 1\n",
        "    df[\"child\"][df[\"Age\"] >=18] = 0"
      ]
    },
    {
      "cell_type": "code",
      "execution_count": null,
      "metadata": {
        "_cell_guid": "f30b720d-6f9a-0e02-e350-6011f4f5968b"
      },
      "outputs": [],
      "source": [
        "train[\"Survived\"][train[\"child\"] == 1].value_counts(normalize = True)"
      ]
    },
    {
      "cell_type": "code",
      "execution_count": null,
      "metadata": {
        "_cell_guid": "104d1786-1593-74fb-26c1-8f333332fd8d"
      },
      "outputs": [],
      "source": [
        "train[\"Survived\"][train[\"child\"] == 0].value_counts(normalize = True)"
      ]
    },
    {
      "cell_type": "code",
      "execution_count": null,
      "metadata": {
        "_cell_guid": "f744bb85-6133-9551-3610-1ac363e7eba3"
      },
      "outputs": [],
      "source": [
        "for df in combine:\n",
        "    # Convert the male and female groups to integer form\n",
        "    df[\"Sex\"][df[\"Sex\"] == \"male\"] = 0\n",
        "    df[\"Sex\"][df[\"Sex\"]== \"female\"] = 1"
      ]
    },
    {
      "cell_type": "code",
      "execution_count": null,
      "metadata": {
        "_cell_guid": "02a843f5-56e7-1261-b67b-8dfe5b31ea4f"
      },
      "outputs": [],
      "source": [
        "grid = sns.FacetGrid(train, row='Pclass', col='Sex', size=2.2, aspect=1.6)\n",
        "grid.map(plt.hist, 'Age', alpha=.5, bins=20)\n",
        "grid.add_legend()"
      ]
    },
    {
      "cell_type": "code",
      "execution_count": null,
      "metadata": {
        "_cell_guid": "76f7bea3-d1c3-21f1-4cfa-6a796c9d7056"
      },
      "outputs": [],
      "source": [
        "guess_ages = np.zeros((2,3))\n",
        "guess_ages"
      ]
    },
    {
      "cell_type": "code",
      "execution_count": null,
      "metadata": {
        "_cell_guid": "907d1db7-abf0-696d-c579-3b01c95a16a8"
      },
      "outputs": [],
      "source": [
        "for df in combine:\n",
        "    for i in range(0, 2):\n",
        "        for j in range(0, 3):\n",
        "            guess_df = df[(df['Sex'] == i) & \\\n",
        "                                  (df['Pclass'] == j+1)]['Age'].dropna()\n",
        "            age_guess = guess_df.median()\n",
        "\n",
        "            # Convert random age float to nearest .5 age\n",
        "            guess_ages[i,j] = int( age_guess/0.5 + 0.5 ) * 0.5\n",
        "            \n",
        "    for i in range(0, 2):\n",
        "        for j in range(0, 3):\n",
        "            df.loc[ (df.Age.isnull()) & (df.Sex == i) & (df.Pclass == j+1),\\\n",
        "                    'Age'] = guess_ages[i,j]\n",
        "\n",
        "    df['Age'] = df['Age'].astype(int)\n"
      ]
    },
    {
      "cell_type": "code",
      "execution_count": null,
      "metadata": {
        "_cell_guid": "ec8c3ffe-44e6-5033-c3fc-9864b121483e"
      },
      "outputs": [],
      "source": [
        "#Method for finding substrings\n",
        "def substrings_in_string(big_string, substrings):\n",
        "    for substring in substrings:\n",
        "        if substring in big_string:\n",
        "            return substring\n",
        "    return np.nan"
      ]
    },
    {
      "cell_type": "code",
      "execution_count": null,
      "metadata": {
        "_cell_guid": "67074d06-02f0-29b1-45df-84bc1a8329af"
      },
      "outputs": [],
      "source": [
        "#Map titles\n",
        "title_list=['Mrs', 'Mr', 'Master', 'Miss', 'Major', 'Rev',\n",
        "                    'Dr', 'Ms', 'Mlle','Col', 'Capt', 'Mme', 'Countess',\n",
        "                    'Don', 'Jonkheer']\n",
        "for df in combine:\n",
        "    df['Title'] = df['Name'].astype(str).map(lambda x: substrings_in_string(x, title_list))"
      ]
    },
    {
      "cell_type": "code",
      "execution_count": null,
      "metadata": {
        "_cell_guid": "9fee5faa-d410-84a4-03a3-9b6d450a1f35"
      },
      "outputs": [],
      "source": [
        "#Replace rare titles\n",
        "for df in combine:\n",
        "    df['Title'] = df['Title'].replace(['Lady', 'Countess','Capt', 'Col',\\\n",
        " \t'Don', 'Dr', 'Major', 'Rev', 'Sir', 'Jonkheer', 'Dona'], 'Rare')\n",
        "\n",
        "    df['Title'] = df['Title'].replace('Mlle', 'Miss')\n",
        "    df['Title'] = df['Title'].replace('Ms', 'Miss')\n",
        "    df['Title'] = df['Title'].replace('Mme', 'Mrs')"
      ]
    },
    {
      "cell_type": "code",
      "execution_count": null,
      "metadata": {
        "_cell_guid": "77584d7b-760d-124f-af5a-7a68a9f4e225"
      },
      "outputs": [],
      "source": [
        "train[['Title', 'Survived']].groupby(['Title'], as_index=False).mean()"
      ]
    },
    {
      "cell_type": "code",
      "execution_count": null,
      "metadata": {
        "_cell_guid": "45ddc96b-bc07-4361-70ba-85f45ef19d8d"
      },
      "outputs": [],
      "source": [
        "#Change title to numnerics\n",
        "title_mapping = {\"Mr\": 1, \"Miss\": 2, \"Mrs\": 3, \"Master\": 4, \"Rare\": 5}\n",
        "for df in combine:\n",
        "    df['Title'] = df['Title'].map(title_mapping)\n",
        "    df['Title'] = df['Title'].fillna(0)\n"
      ]
    },
    {
      "cell_type": "code",
      "execution_count": null,
      "metadata": {
        "_cell_guid": "3ae15f81-8d8b-25ef-866f-02045fa3337c"
      },
      "outputs": [],
      "source": [
        "sns.countplot(train['Title'])"
      ]
    },
    {
      "cell_type": "code",
      "execution_count": null,
      "metadata": {
        "_cell_guid": "62f688c5-63a9-7033-119d-056813e7d940"
      },
      "outputs": [],
      "source": [
        "#Map cabins\n",
        "cabin_list = ['A', 'B', 'C', 'D', 'E', 'F', 'T', 'G', 'Unknown']\n",
        "for df in combine:\n",
        "    df['Deck'] = df['Cabin'].astype(str).map(lambda x: substrings_in_string(x, cabin_list))"
      ]
    },
    {
      "cell_type": "code",
      "execution_count": null,
      "metadata": {
        "_cell_guid": "bf5dec88-75fa-80c5-761f-2052b90cd0d3"
      },
      "outputs": [],
      "source": [
        "# Convert the Deck classes to integer form\n",
        "for df in combine:\n",
        "    df[\"Deck\"][df[\"Deck\"] == \"A\"] = 1\n",
        "    df[\"Deck\"][df[\"Deck\"] == \"B\"] = 2\n",
        "    df[\"Deck\"][df[\"Deck\"] == \"C\"] = 3\n",
        "    df[\"Deck\"][df[\"Deck\"] == \"D\"] = 4\n",
        "    df[\"Deck\"][df[\"Deck\"] == \"E\"] = 5\n",
        "    df[\"Deck\"][df[\"Deck\"] == \"F\"] = 6\n",
        "    df[\"Deck\"][df[\"Deck\"] == \"G\"] = 7\n",
        "    df[\"Deck\"][df[\"Deck\"] == \"T\"] = 8"
      ]
    },
    {
      "cell_type": "code",
      "execution_count": null,
      "metadata": {
        "_cell_guid": "742a1660-3e1b-7330-2d1d-a120b13123e2"
      },
      "outputs": [],
      "source": [
        "# Impute the Embarked variable\n",
        "for df in combine:\n",
        "    df[\"Deck\"] = df[\"Deck\"].fillna(0)"
      ]
    },
    {
      "cell_type": "code",
      "execution_count": null,
      "metadata": {
        "_cell_guid": "927b5eec-7962-4689-5241-de9d715c94a2"
      },
      "outputs": [],
      "source": [
        "#Create family size feature\n",
        "for df in combine:\n",
        "    df['Family_size'] = df['SibSp']+df['Parch']+1"
      ]
    },
    {
      "cell_type": "code",
      "execution_count": null,
      "metadata": {
        "_cell_guid": "8d660608-0af7-cca8-5041-fc6b9320929b"
      },
      "outputs": [],
      "source": [
        "#Create fare per person\n",
        "for df in combine:\n",
        "    df['Fare_Per_Person']=df['Fare']/(df['Family_size']+1)"
      ]
    },
    {
      "cell_type": "code",
      "execution_count": null,
      "metadata": {
        "_cell_guid": "4ea003aa-5a24-eca2-0c6e-913cd51ff7cb"
      },
      "outputs": [],
      "source": [
        "#Create isAlone feature\n",
        "for df in combine:\n",
        "    df['isAlone']=0\n",
        "    df.loc[df['Family_size']==1, 'isAlone'] = 1"
      ]
    },
    {
      "cell_type": "code",
      "execution_count": null,
      "metadata": {
        "_cell_guid": "75ee756a-3174-5bd6-daf9-4ce1019bf28d"
      },
      "outputs": [],
      "source": [
        "train[['isAlone', 'Survived']].groupby(['isAlone'], as_index=False).mean()"
      ]
    },
    {
      "cell_type": "code",
      "execution_count": null,
      "metadata": {
        "_cell_guid": "3acb75d0-85c1-a579-4dbd-7000660ef57b"
      },
      "outputs": [],
      "source": [
        "test[cols].head()"
      ]
    },
    {
      "cell_type": "code",
      "execution_count": null,
      "metadata": {
        "_cell_guid": "5d98d785-57f9-ed78-7f2b-6441c078740f"
      },
      "outputs": [],
      "source": [
        "null_counts = test[cols].isnull().sum()/len(test[cols])"
      ]
    },
    {
      "cell_type": "code",
      "execution_count": null,
      "metadata": {
        "_cell_guid": "9167c824-99e7-79c5-7e01-4b4f1b05a0b7"
      },
      "outputs": [],
      "source": [
        "test[cols] = test[cols].fillna(0)"
      ]
    },
    {
      "cell_type": "code",
      "execution_count": null,
      "metadata": {
        "_cell_guid": "26c7464d-8b93-a74f-0ab8-71c986ccb89d"
      },
      "outputs": [],
      "source": [
        "test[cols].head()"
      ]
    },
    {
      "cell_type": "code",
      "execution_count": null,
      "metadata": {
        "_cell_guid": "cafae6f3-ccaf-61a9-6a07-f6d8c9eb001f"
      },
      "outputs": [],
      "source": [
        "plt.figure(figsize=(16,8))\n",
        "plt.xticks(np.arange(len(null_counts)), null_counts.index, rotation='vertical')\n",
        "plt.ylabel('fraction of rows with missing data')\n",
        "plt.bar(np.arange(len(null_counts)),null_counts)"
      ]
    },
    {
      "cell_type": "code",
      "execution_count": null,
      "metadata": {
        "_cell_guid": "b83cda76-5df5-a45c-3dcd-3df5284919ba"
      },
      "outputs": [],
      "source": [
        "for df in combine:\n",
        "    # Impute the Embarked variable\n",
        "    df[\"Embarked\"] = df[\"Embarked\"].fillna(\"S\")\n",
        "\n",
        "    # Convert the Embarked classes to integer form\n",
        "    df[\"Embarked\"][df[\"Embarked\"] == \"S\"] = 0\n",
        "    df[\"Embarked\"][df[\"Embarked\"] == \"C\"] = 1\n",
        "    df[\"Embarked\"][df[\"Embarked\"] == \"Q\"] = 2"
      ]
    },
    {
      "cell_type": "code",
      "execution_count": null,
      "metadata": {
        "_cell_guid": "ddc6d077-59aa-3c9b-524f-be9e3c744252"
      },
      "outputs": [],
      "source": [
        "target = train[\"Survived\"].values"
      ]
    },
    {
      "cell_type": "code",
      "execution_count": null,
      "metadata": {
        "_cell_guid": "8e263828-e2a1-9f5e-69e5-170a84321531"
      },
      "outputs": [],
      "source": [
        "features = train[cols].values"
      ]
    },
    {
      "cell_type": "code",
      "execution_count": null,
      "metadata": {
        "_cell_guid": "97333d72-8ccf-3007-681a-e30b2fb231fa"
      },
      "outputs": [],
      "source": [
        "train[cols].head()"
      ]
    },
    {
      "cell_type": "code",
      "execution_count": null,
      "metadata": {
        "_cell_guid": "cf9876e4-ccb3-0a08-a767-62b59f389bc0"
      },
      "outputs": [],
      "source": [
        "logr = LogisticRegression()\n",
        "logr.fit(features, target)"
      ]
    },
    {
      "cell_type": "code",
      "execution_count": null,
      "metadata": {
        "_cell_guid": "119c1f42-21b6-b1c2-3cde-69effb6a91ff"
      },
      "outputs": [],
      "source": [
        "logr.score(features, target)"
      ]
    },
    {
      "cell_type": "code",
      "execution_count": null,
      "metadata": {
        "_cell_guid": "6b1caca0-f16f-c8b7-a2d3-fd3b24c20db2"
      },
      "outputs": [],
      "source": [
        "coeff_df = pd.DataFrame(train[cols].columns.delete(0))\n",
        "coeff_df.columns = ['Feature']\n",
        "coeff_df[\"Correlation\"] = pd.Series(logr.coef_[0])\n",
        "\n",
        "coeff_df.sort_values(by='Correlation', ascending=False)"
      ]
    },
    {
      "cell_type": "code",
      "execution_count": null,
      "metadata": {
        "_cell_guid": "b9d0a9cc-30d4-d67d-548c-2fc881160de4"
      },
      "outputs": [],
      "source": [
        "rfr = RandomForestClassifier(n_estimators=100, random_state=10, verbose=0)"
      ]
    },
    {
      "cell_type": "code",
      "execution_count": null,
      "metadata": {
        "_cell_guid": "4cf66ab9-b4cc-4dd4-cb64-b8c35560e342"
      },
      "outputs": [],
      "source": [
        "rfmod = rfr.fit(features, target)"
      ]
    },
    {
      "cell_type": "code",
      "execution_count": null,
      "metadata": {
        "_cell_guid": "4de816db-5454-2eb9-995d-33bb1d8f2699"
      },
      "outputs": [],
      "source": [
        "rfmod.score(features, target)"
      ]
    },
    {
      "cell_type": "code",
      "execution_count": null,
      "metadata": {
        "_cell_guid": "3f0a74aa-e3d6-59a4-3bd7-49e5edf4b50c"
      },
      "outputs": [],
      "source": [
        "etc = ExtraTreesClassifier(n_estimators=100, max_depth=4, n_jobs=-1, random_state=1, verbose=0)\n",
        "etcmod = etc.fit(features, target)"
      ]
    },
    {
      "cell_type": "code",
      "execution_count": null,
      "metadata": {
        "_cell_guid": "2aefb251-9ec4-5230-b39b-591ac926aea6"
      },
      "outputs": [],
      "source": [
        "fi = etcmod.feature_importances_"
      ]
    },
    {
      "cell_type": "code",
      "execution_count": null,
      "metadata": {
        "_cell_guid": "9a8ba7d2-a8d0-2f76-e4be-07381e5ca406"
      },
      "outputs": [],
      "source": [
        "importances = pd.DataFrame(fi, columns = ['importance'])\n",
        "importances['feature'] = cols"
      ]
    },
    {
      "cell_type": "code",
      "execution_count": null,
      "metadata": {
        "_cell_guid": "4054884e-22df-d074-cabd-a0f08145bce9"
      },
      "outputs": [],
      "source": [
        "importances.sort_values(by='importance', ascending=False)"
      ]
    },
    {
      "cell_type": "code",
      "execution_count": null,
      "metadata": {
        "_cell_guid": "d2c46472-2813-8c90-b7e5-3ff35c330d3e"
      },
      "outputs": [],
      "source": [
        "test_features = test[cols].values"
      ]
    },
    {
      "cell_type": "code",
      "execution_count": null,
      "metadata": {
        "_cell_guid": "360f8a11-360c-db46-19d2-489adab33899"
      },
      "outputs": [],
      "source": [
        "pred = etcmod.predict(test_features)"
      ]
    },
    {
      "cell_type": "code",
      "execution_count": null,
      "metadata": {
        "_cell_guid": "f0cf1b32-7a78-b0c5-56fa-426f90d19658"
      },
      "outputs": [],
      "source": [
        "PassengerId = np.array(test[\"PassengerId\"]).astype(int)\n",
        "my_solution = pd.DataFrame(pred, PassengerId, columns = [\"Survived\"])"
      ]
    },
    {
      "cell_type": "code",
      "execution_count": null,
      "metadata": {
        "_cell_guid": "e01a96f7-2cba-3981-8839-4c724c32e07c"
      },
      "outputs": [],
      "source": [
        "my_solution.to_csv(\"extraTrees.csv\", index_label = [\"PassengerId\"])"
      ]
    }
  ],
  "metadata": {
    "_change_revision": 0,
    "_is_fork": false,
    "kernelspec": {
      "display_name": "Python 3",
      "language": "python",
      "name": "python3"
    },
    "language_info": {
      "codemirror_mode": {
        "name": "ipython",
        "version": 3
      },
      "file_extension": ".py",
      "mimetype": "text/x-python",
      "name": "python",
      "nbconvert_exporter": "python",
      "pygments_lexer": "ipython3",
      "version": "3.6.0"
    }
  },
  "nbformat": 4,
  "nbformat_minor": 0
}