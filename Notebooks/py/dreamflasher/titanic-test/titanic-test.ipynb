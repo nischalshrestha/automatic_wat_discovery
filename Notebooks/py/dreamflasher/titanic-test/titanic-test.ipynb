{
  "cells": [
    {
      "cell_type": "code",
      "execution_count": null,
      "metadata": {
        "_cell_guid": "28c8d9ee-7cef-6fa5-d9b4-df80b15706fc"
      },
      "outputs": [],
      "source": [
        "# This Python 3 environment comes with many helpful analytics libraries installed\n",
        "# It is defined by the kaggle/python docker image: https://github.com/kaggle/docker-python\n",
        "# For example, here's several helpful packages to load in \n",
        "\n",
        "import numpy as np # linear algebra\n",
        "import pandas as pd # data processing, CSV file I/O (e.g. pd.read_csv)\n",
        "import sklearn as sk\n",
        "from sklearn.ensemble import GradientBoostingClassifier\n",
        "from sklearn import svm\n",
        "\n",
        "# Input data files are available in the \"../input/\" directory.\n",
        "# For example, running this (by clicking run or pressing Shift+Enter) will list the files in the input directory\n",
        "\n",
        "from subprocess import check_output\n",
        "print(check_output([\"ls\", \".\"]).decode(\"utf8\"))\n",
        "#print(check_output([\"rm\", \"submission_titanic.csv\"]).decode(\"utf8\"))\n",
        "\n",
        "# Any results you write to the current directory are saved as output.\n",
        "#df = pd.read_csv(\"../input/train.csv\")\n",
        "df_train = pd.read_csv(\"../input/train.csv\")\n",
        "print(df_train.shape)\n",
        "df_test = pd.read_csv(\"../input/test.csv\")\n",
        "print(df_test.shape)\n",
        "df = pd.concat([df_train, df_test])\n",
        "df = pd.get_dummies(df)._get_numeric_data()\n",
        "df = df.fillna(0)\n",
        "df_train = df[0:df_train.shape[0]]\n",
        "df_test = df[df_train.shape[0]:]\n",
        "\n",
        "y_train = np.array(df_train.Survived).astype(int)\n",
        "X_train = np.array(df_train.drop('Survived', 1))\n",
        "X_test = np.array(df_test.drop('Survived', 1))\n",
        "clf = GradientBoostingClassifier(n_estimators=100, learning_rate=1.0, max_depth=1, random_state=0).fit(X_train, y_train)\n",
        "#clf = svm.SVC().fit(X_train, y_train)\n",
        "\n",
        "y_pred = clf.predict(X_test)\n",
        "\n",
        "submission = pd.DataFrame({\n",
        "        \"PassengerId\": df_test[\"PassengerId\"],\n",
        "        \"Survived\": y_pred\n",
        "    })\n",
        "submission.to_csv('submission_titanic.csv', index=False)"
      ]
    },
    {
      "cell_type": "code",
      "execution_count": null,
      "metadata": {
        "_cell_guid": "84b1e97f-b673-ee10-3ea3-e94da8828be4"
      },
      "outputs": [],
      "source": [
        ""
      ]
    }
  ],
  "metadata": {
    "_change_revision": 0,
    "_is_fork": false,
    "kernelspec": {
      "display_name": "Python 3",
      "language": "python",
      "name": "python3"
    },
    "language_info": {
      "codemirror_mode": {
        "name": "ipython",
        "version": 3
      },
      "file_extension": ".py",
      "mimetype": "text/x-python",
      "name": "python",
      "nbconvert_exporter": "python",
      "pygments_lexer": "ipython3",
      "version": "3.5.2"
    }
  },
  "nbformat": 4,
  "nbformat_minor": 0
}