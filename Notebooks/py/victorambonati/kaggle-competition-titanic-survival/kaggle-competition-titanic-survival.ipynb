{
  "cells": [
    {
      "cell_type": "markdown",
      "metadata": {
        "_cell_guid": "074b6526-e4ce-db5a-fffa-386fecc9920b"
      },
      "source": [
        "# 1 Introduction\n",
        "Notebook inspired of \"Exploring Survival on Titanic\" by Megan Risdal, a Kernel in R on Kaggle: https://www.kaggle.com/mrisdal/titanic/exploring-survival-on-the-titanic\n",
        "I make my debut on Kaggle and I'm new to Data Science. I'm hoping to learn a lot so your comments and suggestions are welcomed.  \n",
        "## 1.1 Load and check data"
      ]
    },
    {
      "cell_type": "code",
      "execution_count": null,
      "metadata": {
        "_cell_guid": "0e5c1a01-cf71-977d-5a8f-fcf90d5afe99"
      },
      "outputs": [],
      "source": [
        "# Load library\n",
        "%matplotlib inline\n",
        "import pandas as pd\n",
        "import numpy as np\n",
        "import csv as csv \n",
        "import matplotlib.pyplot as plt\n",
        "from sklearn.linear_model import LogisticRegression\n",
        "from sklearn.ensemble import RandomForestClassifier\n",
        "\n",
        "\n",
        "# Get the raw data\n",
        "train_df = pd.read_csv('../input/train.csv', header=0)\n",
        "test_df = pd.read_csv('../input/test.csv', header=0)\n",
        "full_df = pd.concat([train_df, test_df]) #Bind training and test data\n",
        "\n",
        "#check data\n",
        "# print(full_df.head(5))\n",
        "print(full_df.info())"
      ]
    },
    {
      "cell_type": "markdown",
      "metadata": {
        "_cell_guid": "850ee07e-2c3d-d19a-1a43-49bdf63e21b2"
      },
      "source": [
        "We can tell that there is 1309 observations of 12 features. And some data are missing. Here is a better description of the feature:\n",
        "\n",
        "Variable Name | Description\n",
        "--------------|-------------\n",
        "Survived      | Survived (1) or died (0)\n",
        "Pclass        | Passenger's class\n",
        "Name          | Passenger's name\n",
        "Sex           | Passenger's sex\n",
        "Age           | Passenger's age\n",
        "SibSp         | Number of siblings/spouses aboard\n",
        "Parch         | Number of parents/children aboard\n",
        "Ticket        | Ticket number\n",
        "Fare          | Fare\n",
        "Cabin         | Cabin\n",
        "Embarked      | Port of embarkation\n",
        "\n",
        "# 2 Feature Engineering\n",
        "## 2.1 Survived\n",
        "This is the feature we want to predict on our test set. We won't modify it.\n",
        "## 2.2 Pclass\n",
        "No missing value. Already numeric value. Let's see if it seems to have an impact on survival."
      ]
    },
    {
      "cell_type": "code",
      "execution_count": null,
      "metadata": {
        "_cell_guid": "7b8c0b40-1954-77b1-684c-703a4ffb0c6e"
      },
      "outputs": [],
      "source": [
        "# Survival rate depending on passenger's class\n",
        "print( full_df[[\"Pclass\", \"Survived\"]].groupby(['Pclass'],as_index=False).mean() )\n",
        "full_df['Class1'] = (full_df['Pclass'] == 1).astype(int)"
      ]
    },
    {
      "cell_type": "markdown",
      "metadata": {
        "_cell_guid": "9a740462-a6db-3331-52ef-659661a545ea"
      },
      "source": [
        "Great ! We can see a relation here. People with class 1 ticket seem to have a better survival than those with class 3 ticket. I will also create a Class1 variable\n",
        "## 2.3 Name\n",
        "In the name feature, we can find the first name, the last name but also the Title. May be the Title of the person can be helpful."
      ]
    },
    {
      "cell_type": "code",
      "execution_count": null,
      "metadata": {
        "_cell_guid": "5b8d3e40-692b-3660-ae1a-782defdffb02"
      },
      "outputs": [],
      "source": [
        "full_df['Title'] = full_df['Name'].str.replace('(.*, )|(\\\\..*)', '') # creation of a new feature \"Title\" in the dataframe\n",
        "\n",
        "# These line help me to find out a problem, there was Miss with male sex. \n",
        "# I correct the mistake but I let those lines to show how I found.\n",
        "    #print (full_df.groupby(['Title','Sex']).size())\n",
        "    #print(pd.crosstab(full_df['Title'],full_df['Sex']))\n",
        "    #print( full_df[(full_df['Title'] == 'Miss') & (full_df['Sex'] == 'male')].head(3))\n",
        "\n",
        "print(pd.crosstab(full_df['Title'],full_df['Sex']))"
      ]
    },
    {
      "cell_type": "code",
      "execution_count": null,
      "metadata": {
        "_cell_guid": "5f268365-29ea-9848-2922-1206ae0f018c"
      },
      "outputs": [],
      "source": [
        "# We can see there is Title with few counts, we will group them into special title\n",
        "full_df['Title'] = full_df['Title'].replace(['Dona', 'Lady', 'the Countess','Capt', 'Col', 'Don', \n",
        "                'Dr', 'Major', 'Rev', 'Sir', 'Jonkheer'], 'special_title')\n",
        "\n",
        "# Also reassign mlle, ms, and mme accordingly\n",
        "full_df['Title'] = full_df['Title'].replace('Mlle', 'Miss')\n",
        "full_df['Title'] = full_df['Title'].replace('Ms', 'Miss')\n",
        "full_df['Title'] = full_df['Title'].replace('Mme', 'Mrs')\n",
        "\n",
        "# Relation between Title, sex and survival rate.\n",
        "print( full_df[[\"Title\",\"Sex\", \"Survived\"]].groupby(['Title', 'Sex'],as_index=False).mean() )\n",
        "\n",
        "#create a similar feature but a numeric feature for the learning algorihm\n",
        "full_df['Title_Num'] = full_df['Title'].map( {'Mrs': 0, 'Miss': 1, 'special_title':2, 'Master':3, 'Mr':4} ).astype(int) "
      ]
    },
    {
      "cell_type": "markdown",
      "metadata": {
        "_cell_guid": "f05f1286-0170-c4cd-e0d2-69a75b2af457"
      },
      "source": [
        "The Title seem to have a good correlation with the survival. We know from the first exercise that Sex is a good feature. Since Title is link to Sex, we have also good correlation. But the Title still seem to add informations, Master title are male with good Survival rate for example. So let's keep this new feature and search for another new feature.\n",
        "## 2.4 Sex"
      ]
    },
    {
      "cell_type": "code",
      "execution_count": null,
      "metadata": {
        "_cell_guid": "eaee63cd-a838-bc16-306f-2859d22ebeb4"
      },
      "outputs": [],
      "source": [
        "print( full_df[[\"Sex\", \"Survived\"]].groupby(['Sex'],as_index=False).mean() )\n",
        "#transform Sex into numeric feature for the learning algorithm\n",
        "full_df['Gender'] = full_df['Sex'].map( {'female': 0, 'male': 1} ).astype(int) "
      ]
    },
    {
      "cell_type": "markdown",
      "metadata": {
        "_cell_guid": "20f8bd9f-d92b-09f9-76cd-454f611e5923"
      },
      "source": [
        "Sex is indeed a feature with high correlation with Survival. We will may be use it to create new feature after.\n",
        "## 2.5 SibSp and Parch\n",
        "With the number of siblings/spouse and number of children/parents we can create a variable FamilySize. And let's see if the size of the family have an impact on the survival."
      ]
    },
    {
      "cell_type": "code",
      "execution_count": null,
      "metadata": {
        "_cell_guid": "2d5668ca-17d7-379c-05d2-997fed7fa842"
      },
      "outputs": [],
      "source": [
        "# Create a new feature: family size (including the passenger themselves)\n",
        "full_df['FamilySize'] = full_df['SibSp'] + full_df['Parch'] + 1\n",
        "cor_FSize = full_df[[\"FamilySize\", \"Survived\"]].groupby(['FamilySize'],as_index=False).mean()\n",
        "print(cor_FSize)\n",
        "    #plt.bar(cor_FSize['FamilySize'], cor_FSize['Survived'])\n",
        "    #plt.xlabel('Family Size')\n",
        "    #plt.ylabel('Survival Rate')"
      ]
    },
    {
      "cell_type": "markdown",
      "metadata": {
        "_cell_guid": "d91e0449-ba89-a612-25f0-cfdd00fe2ef4"
      },
      "source": [
        "Interesting ! We can see that single person and big family (above 4 members) have survival penalty. Let's create a Family Size Categories variable with singleton, small and large family categories."
      ]
    },
    {
      "cell_type": "code",
      "execution_count": null,
      "metadata": {
        "_cell_guid": "5ed30c18-5a50-75b3-5787-ff9e467a406b"
      },
      "outputs": [],
      "source": [
        "full_df['FamilySizeCategories'] = full_df['FamilySize']\n",
        "full_df.loc[ full_df['FamilySizeCategories'] == 1, 'FamilySizeCategories' ] = 0 #Singleton\n",
        "full_df.loc[ (full_df['FamilySizeCategories'] > 1) & (full_df['FamilySizeCategories'] < 5) , 'FamilySizeCategories' ] = 1 #Small\n",
        "full_df.loc[ full_df['FamilySizeCategories'] > 4, 'FamilySizeCategories' ] = 2 #Large\n",
        "print( full_df[[\"FamilySizeCategories\", \"Survived\"]].groupby(['FamilySizeCategories'],as_index=False).mean() )"
      ]
    },
    {
      "cell_type": "markdown",
      "metadata": {
        "_cell_guid": "4d5dad22-f088-1801-6f22-df30a8830a53"
      },
      "source": [
        "Looks good. Let's see what we can do next.\n",
        "## 2.6 Ticket, Cabin, Fare, Embarked\n",
        "I have no special idea for Ticket feature. I will put it aside for now.\n",
        "Same for Cabin, and there is a lot of missing value for Cabin.\n",
        "There is one missing value for Fare, let's replace it by the median of Ticket feature.\n",
        "And let's complete missing value of Embarked feature too."
      ]
    },
    {
      "cell_type": "code",
      "execution_count": null,
      "metadata": {
        "_cell_guid": "5f3e527f-5955-70d6-1de2-05e20358708d"
      },
      "outputs": [],
      "source": [
        "# replace missing value of Fare\n",
        "full_df.loc[ full_df['Fare'].isnull(), 'Fare' ] = full_df['Fare'].mean()\n",
        "#transform Embarked into numeric value for the learning algorithm\n",
        "full_df['Embarked_Num'] = full_df['Embarked'].map( {'S': 0, 'C': 1, 'Q': 2} )\n",
        "# fill the 3 missing values\n",
        "full_df.loc[ full_df['Embarked'].isnull(), 'Embarked_Num' ] = 1"
      ]
    },
    {
      "cell_type": "markdown",
      "metadata": {
        "_cell_guid": "86223227-d149-c048-f22a-89d4ec02469e"
      },
      "source": [
        "## 2.7 Age\n",
        "We have missing value for this feature (1046/1309). Let's try to fill them correctly."
      ]
    },
    {
      "cell_type": "code",
      "execution_count": null,
      "metadata": {
        "_cell_guid": "ce0916cc-afd6-8f30-0af3-aa180f6280ae"
      },
      "outputs": [],
      "source": [
        "# Keep track of what was he missing value\n",
        "full_df['AgeIsNull'] = pd.isnull(full_df.Age).astype(int)\n",
        "\n",
        "#Fill the missing value with the median value of people having same class and gender.\n",
        "full_df['AgeFill'] = full_df['Age']\n",
        "median_ages = np.zeros((2,3))\n",
        "for i in range(0, 2):\n",
        "    for j in range(0, 3):\n",
        "        median_ages[i,j] = full_df[(full_df['Gender'] == i) & \\\n",
        "                              (full_df['Pclass'] == j+1)]['Age'].dropna().median()\n",
        "        full_df.loc[ (full_df.Age.isnull()) & (full_df.Gender == i) & (full_df.Pclass == j+1),\\\n",
        "         'AgeFill'] = median_ages[i,j]\n",
        "\n",
        "# plot old Age and new Age values\n",
        "fig, axs = plt.subplots(1,2)\n",
        "full_df['Age'][~np.isnan(full_df['Age'])].hist(ax=axs[0], bins=16)\n",
        "full_df['AgeFill'].hist(ax=axs[1], bins=16)"
      ]
    },
    {
      "cell_type": "markdown",
      "metadata": {
        "_cell_guid": "9efd286a-5148-eb1f-5b7f-9aa0bbef8a5f"
      },
      "source": [
        "Hmmmm... It doesn't look the same at all. Our repartition seem too rough. So, we will try with another method."
      ]
    },
    {
      "cell_type": "code",
      "execution_count": null,
      "metadata": {
        "_cell_guid": "f764b45f-024e-ccf3-c4f7-53bca1998dd1"
      },
      "outputs": [],
      "source": [
        "# get average, std, and number of NaN values\n",
        "average_age_titanic   = full_df[\"Age\"].mean()\n",
        "std_age_titanic       = full_df[\"Age\"].std()\n",
        "count_nan_age_titanic = full_df[\"Age\"].isnull().sum()\n",
        "\n",
        "# generate random numbers between (mean - std) & (mean + std)\n",
        "rand_1 = np.random.randint(average_age_titanic - std_age_titanic, average_age_titanic + \n",
        "                           std_age_titanic, size = count_nan_age_titanic)\n",
        "\n",
        "# fill NaN values in Age column with random values generated\n",
        "full_df.loc[np.isnan(full_df[\"Age\"]), \"AgeFill\"] = rand_1\n",
        "\n",
        "# plot old Age and new Age values\n",
        "fig, axs = plt.subplots(1,2)\n",
        "full_df['Age'][~np.isnan(full_df['Age'])].hist(ax=axs[0], bins=16)\n",
        "full_df['AgeFill'].hist(ax=axs[1], bins=16)"
      ]
    },
    {
      "cell_type": "code",
      "execution_count": null,
      "metadata": {
        "_cell_guid": "b9ffab74-e1d4-9755-d913-7b48f17fc068"
      },
      "outputs": [],
      "source": [
        "Ahhh ! This method seems better because the repartition seems similar this time.\n",
        "Let's create new feature with Age: Child."
      ]
    },
    {
      "cell_type": "code",
      "execution_count": null,
      "metadata": {
        "_cell_guid": "07598c90-03d8-2cf7-9e40-e18202250519"
      },
      "outputs": [],
      "source": [
        "full_df['Child'] = (full_df['Age'] < 18).astype(int)\n",
        "print( full_df[[\"Child\", \"Sex\", \"Survived\"]].groupby(['Child', 'Sex'],as_index=False).mean() )"
      ]
    },
    {
      "cell_type": "code",
      "execution_count": null,
      "metadata": {
        "_cell_guid": "3de8e5cf-3253-b505-01a1-ff251e7a8a06"
      },
      "outputs": [],
      "source": [
        "full_df['Mother'] = ((full_df['Gender'] == 0) & (full_df['AgeFill'] > 18) & (full_df['Title'] == \"Miss\")).astype(int)\n",
        "print( full_df[[\"Mother\", \"Survived\"]].groupby(['Mother'],as_index=False).mean() )\n",
        "print( full_df[[\"Sex\", \"Survived\"]].groupby(['Sex'],as_index=False).mean() )"
      ]
    },
    {
      "cell_type": "markdown",
      "metadata": {
        "_cell_guid": "b2aecc39-75f1-2f0d-51a8-a81e77a668bd"
      },
      "source": [
        "It helps to be a Mother, but it doesn't change much compared to other women.\n",
        "\n",
        "# 3 Prediction\n",
        "Now, we have all the features we need, we will clean the non necessary data, choose our model and check the results.\n",
        "## 3.1 Data Cleaning\n",
        "We will remove the non numeric column and not complete column."
      ]
    },
    {
      "cell_type": "code",
      "execution_count": null,
      "metadata": {
        "_cell_guid": "9a7873c2-bdce-2c99-fcd2-57e24571390d"
      },
      "outputs": [],
      "source": [
        "print (full_df.info() )"
      ]
    },
    {
      "cell_type": "code",
      "execution_count": null,
      "metadata": {
        "_cell_guid": "4cd43478-01ad-98f9-57c1-d331fe382f0e"
      },
      "outputs": [],
      "source": [
        "full_df = full_df.drop(['Age', 'Cabin', 'Embarked', 'Name', 'Sex', 'Ticket', 'Title'], axis=1)"
      ]
    },
    {
      "cell_type": "markdown",
      "metadata": {
        "_cell_guid": "928fb1f2-afdb-f671-3246-2f17f4e44e32"
      },
      "source": [
        "## 3.2 Choosing the model\n",
        "We will just try the logistic regression and random forest."
      ]
    },
    {
      "cell_type": "code",
      "execution_count": null,
      "metadata": {
        "_cell_guid": "f0566fec-e331-fb13-64ae-b4365597af7c"
      },
      "outputs": [],
      "source": [
        "# Create the train and test set for our algorithms\n",
        "train_df = full_df[0:890]\n",
        "test_df = full_df[891:1309]\n",
        "X_train = train_df.drop(['Survived', 'PassengerId'],axis=1)\n",
        "Y_train = train_df[\"Survived\"]\n",
        "X_test  = test_df.drop(['Survived', 'PassengerId'],axis=1).copy()"
      ]
    },
    {
      "cell_type": "code",
      "execution_count": null,
      "metadata": {
        "_cell_guid": "92f3ece0-e7bc-ec1c-cc80-c1e6d77fece5"
      },
      "outputs": [],
      "source": [
        "# Random Forest\n",
        "random_forest = RandomForestClassifier(n_estimators=100)\n",
        "forest = random_forest.fit(X_train, Y_train)\n",
        "Y_pred = random_forest.predict(X_test)\n",
        "#random_forest.score(X_train, Y_train)"
      ]
    },
    {
      "cell_type": "code",
      "execution_count": null,
      "metadata": {
        "_cell_guid": "de1e3f2d-1ecd-f73c-962b-9edd0bac7e37"
      },
      "outputs": [],
      "source": [
        "# Logistic regression\n",
        "logreg = LogisticRegression()\n",
        "logreg.fit(X_train, Y_train)\n",
        "Y_pred = logreg.predict(X_test)\n",
        "logreg.score(X_train, Y_train)"
      ]
    },
    {
      "cell_type": "markdown",
      "metadata": {
        "_cell_guid": "38fab12e-6596-dad3-9386-546d87fc1542"
      },
      "source": [
        "I finally keep Logistic regression, it gives me better score for the submission.\n",
        "## 3.3 Variable Importance\n",
        "Let\u2019s look at relative variable importance"
      ]
    },
    {
      "cell_type": "code",
      "execution_count": null,
      "metadata": {
        "_cell_guid": "87d83726-3838-7f7a-e7e2-e5b8c01720a4"
      },
      "outputs": [],
      "source": [
        "coeff_df = pd.DataFrame(X_train.columns)\n",
        "coeff_df.columns = ['Features']\n",
        "coeff_df[\"Coefficient Estimate\"] = pd.Series(forest.feature_importances_)\n",
        "\n",
        "# preview\n",
        "coeff_df.sort_values([\"Coefficient Estimate\"], ascending=False)"
      ]
    },
    {
      "cell_type": "markdown",
      "metadata": {
        "_cell_guid": "9a0d0219-7b4d-2895-b0b1-621b9858cabe"
      },
      "source": [
        "Title was a good idea, it's the best variable we create. Happy to have been cautious with to fill missing value of Age. And it's Fare that have the most relative importance.\n",
        "## 3.4 Submission"
      ]
    },
    {
      "cell_type": "code",
      "execution_count": null,
      "metadata": {
        "_cell_guid": "3dea4fcf-d6de-bcf0-e061-d315938147db"
      },
      "outputs": [],
      "source": [
        "output = Y_pred.astype(int)\n",
        "ids = test_df['PassengerId'].values\n",
        "predictions_file = open(\"titanic_predict.csv\", \"w\") # Python 3\n",
        "open_file_object = csv.writer(predictions_file)\n",
        "open_file_object.writerow([\"PassengerId\",\"Survived\"])\n",
        "open_file_object.writerows(zip(ids, output))\n",
        "predictions_file.close()"
      ]
    },
    {
      "cell_type": "markdown",
      "metadata": {
        "_cell_guid": "c6b29d6a-eea0-aaf7-3aa7-b36276dc5073"
      },
      "source": [
        "# 4 Conclusion\n",
        "Thank you for taking the time to read through my first Kaggle kernel. I look forward to learn more and try more competition. Feedback is welcomed."
      ]
    }
  ],
  "metadata": {
    "_change_revision": 0,
    "_is_fork": false,
    "kernelspec": {
      "display_name": "Python 3",
      "language": "python",
      "name": "python3"
    },
    "language_info": {
      "codemirror_mode": {
        "name": "ipython",
        "version": 3
      },
      "file_extension": ".py",
      "mimetype": "text/x-python",
      "name": "python",
      "nbconvert_exporter": "python",
      "pygments_lexer": "ipython3",
      "version": "3.5.2"
    }
  },
  "nbformat": 4,
  "nbformat_minor": 0
}