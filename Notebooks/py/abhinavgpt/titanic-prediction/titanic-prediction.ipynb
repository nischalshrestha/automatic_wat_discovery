{
  "metadata": {
    "kernelspec": {
      "display_name": "Python 3",
      "language": "python",
      "name": "python3"
    },
    "language_info": {
      "codemirror_mode": {
        "name": "ipython",
        "version": 3
      },
      "file_extension": ".py",
      "mimetype": "text/x-python",
      "name": "python",
      "nbconvert_exporter": "python",
      "pygments_lexer": "ipython3",
      "version": "3.5.2"
    }
  },
  "nbformat": 4,
  "nbformat_minor": 0,
  "cells": [
    {
      "cell_type": "code",
      "execution_count": 1,
      "metadata": {
        "_cell_guid": "87901e1b-7260-fa8b-5331-1e317ae3209a",
        "_active": false
      },
      "outputs": [],
      "source": "# This Python 3 environment comes with many helpful analytics libraries installed\n# It is defined by the kaggle/python docker image: https://github.com/kaggle/docker-python\n# For example, here's several helpful packages to load in \n\nimport numpy as np # linear algebra\nimport pandas as pd # data processing, CSV file I/O (e.g. pd.read_csv)\n\n# Input data files are available in the \"../input/\" directory.\n# For example, running this (by clicking run or pressing Shift+Enter) will list the files in the input directory\n\nfrom subprocess import check_output\nprint(check_output([\"ls\", \"../input\"]).decode(\"utf8\"))\n\n# Any results you write to the current directory are saved as output.",
      "execution_state": "idle"
    },
    {
      "cell_type": "code",
      "execution_count": 2,
      "metadata": {
        "_cell_guid": "13879761-94e4-66fa-176b-c07daacaede1",
        "_active": false
      },
      "outputs": [],
      "source": "train = pd.read_csv(\"../input/train.csv\")",
      "execution_state": "idle"
    },
    {
      "cell_type": "code",
      "execution_count": 3,
      "metadata": {
        "_cell_guid": "6166040f-ddb0-11d9-aa6a-e09193f016d0",
        "_active": false
      },
      "outputs": [],
      "source": "train.head()",
      "execution_state": "idle"
    },
    {
      "cell_type": "code",
      "execution_count": 4,
      "metadata": {
        "_cell_guid": "612df166-4019-7d84-e3e2-c696f6ffc753",
        "_active": false
      },
      "outputs": [],
      "source": "train.describe()",
      "execution_state": "idle"
    },
    {
      "cell_type": "code",
      "execution_count": 5,
      "metadata": {
        "_cell_guid": "b8aa8a95-f79c-b29b-359f-be41281e26e6",
        "_active": false
      },
      "outputs": [],
      "source": "import matplotlib.pyplot as plt\nimport seaborn as sb\n%matplotlib inline",
      "execution_state": "idle"
    },
    {
      "cell_type": "code",
      "execution_count": 6,
      "metadata": {
        "_cell_guid": "62d12936-4ab7-6244-a192-4e1a9686979a",
        "_active": false
      },
      "outputs": [],
      "source": "train.loc[train['Age'].isnull()].head()",
      "execution_state": "idle"
    },
    {
      "cell_type": "code",
      "execution_count": 7,
      "metadata": {
        "_cell_guid": "ed3bce4c-82eb-df96-d19c-5c7013cfe077",
        "_active": false
      },
      "outputs": [],
      "source": "train.dtypes",
      "execution_state": "idle"
    },
    {
      "cell_type": "code",
      "execution_count": 8,
      "metadata": {
        "_cell_guid": "654ebc8b-c8ab-340b-4e89-fbc5ebd5e372",
        "_active": false
      },
      "outputs": [],
      "source": "embarked_categories = [\"C\", \"Q\", \"S\"]\ntrain['Embarked'] = train['Embarked'].astype('category', categories=embarked_categories)\ntrain['Sex'] = train['Sex'].astype('category')",
      "execution_state": "idle"
    },
    {
      "cell_type": "code",
      "execution_count": 9,
      "metadata": {
        "_cell_guid": "94d6b05d-1abd-96ca-db44-ac0cc4579724",
        "_active": false
      },
      "outputs": [],
      "source": "train['Embarked'] = train['Embarked' ].cat.codes\ntrain['Sex'] = train['Sex' ].cat.codes",
      "execution_state": "idle"
    },
    {
      "cell_type": "code",
      "execution_count": 10,
      "metadata": {
        "_cell_guid": "4acb7ec7-d93a-d3ac-0ea2-0b70ea8bf5a5",
        "_active": false
      },
      "outputs": [],
      "source": "train.drop(train.Embarked != -1, inplace = True)",
      "execution_state": "idle"
    },
    {
      "cell_type": "code",
      "execution_count": 11,
      "metadata": {
        "_cell_guid": "eeb329fa-05f8-2221-e619-9bdddfa9108f",
        "_active": false
      },
      "outputs": [],
      "source": "training_data = train[['Survived', 'Pclass', 'Sex', 'SibSp', 'Parch', 'Fare', 'Cabin', 'Embarked']]",
      "execution_state": "idle"
    },
    {
      "cell_type": "code",
      "execution_count": 12,
      "metadata": {
        "_cell_guid": "69a603a9-772e-da9f-e945-130a91cad706",
        "_active": false
      },
      "outputs": [],
      "source": "training_data.shape",
      "execution_state": "idle"
    },
    {
      "cell_type": "code",
      "execution_count": 13,
      "metadata": {
        "_cell_guid": "fd236961-6e3f-317b-abf0-13b204611499",
        "_active": false
      },
      "outputs": [],
      "source": "training_data.describe()",
      "execution_state": "idle"
    },
    {
      "cell_type": "code",
      "execution_count": 14,
      "metadata": {
        "_cell_guid": "20af2929-9f46-fa53-3086-cbf3d58ed1f8",
        "_active": false
      },
      "outputs": [],
      "source": "pd.isnull(training_data).any(axis = 0)",
      "execution_state": "idle"
    },
    {
      "cell_type": "code",
      "execution_count": 15,
      "metadata": {
        "_cell_guid": "1602121e-584e-5c0e-e1a1-f53e9b6583d9",
        "_active": false
      },
      "outputs": [],
      "source": "# Drop cabin as it has most of the nulls\ntraining_data.drop('Cabin', axis=1, inplace=True)",
      "execution_state": "idle"
    },
    {
      "cell_type": "code",
      "execution_count": 16,
      "metadata": {
        "_cell_guid": "49d8f36d-af25-923e-a7db-68c5dd7b5151",
        "_active": false
      },
      "outputs": [],
      "source": "training_data.dtypes",
      "execution_state": "idle"
    },
    {
      "cell_type": "code",
      "execution_count": 17,
      "metadata": {
        "_cell_guid": "f271ca83-988e-db51-7fef-edcc523bdc17",
        "_active": false
      },
      "outputs": [],
      "source": "sb.pairplot(training_data, hue='Survived')",
      "execution_state": "idle"
    },
    {
      "cell_type": "code",
      "execution_count": 18,
      "metadata": {
        "_cell_guid": "81e6d35a-dc1c-5109-6569-88ded35f619a",
        "_active": false
      },
      "outputs": [],
      "source": "from sklearn import linear_model",
      "execution_state": "idle"
    },
    {
      "cell_type": "code",
      "execution_count": 19,
      "metadata": {
        "_cell_guid": "f851d5b1-0bc7-b021-3fe2-d3d778e1458d",
        "_active": false
      },
      "outputs": [],
      "source": "training_data.columns.values",
      "execution_state": "idle"
    },
    {
      "cell_type": "code",
      "execution_count": 20,
      "metadata": {
        "_cell_guid": "9cd5f061-0dde-9ce5-d929-531615a1036b",
        "_active": false
      },
      "outputs": [],
      "source": "test_data = pd.read_csv(\"../input/test.csv\")",
      "execution_state": "idle"
    },
    {
      "cell_type": "code",
      "execution_count": 21,
      "metadata": {
        "_cell_guid": "3901f46e-6fc4-f8b9-e6c1-07c37664f827",
        "_active": false
      },
      "outputs": [],
      "source": "\ntest_data['Embarked'] = test_data['Embarked'].astype('category', categories=embarked_categories)\ntest_data['Embarked'] = test_data['Embarked' ].cat.codes\ntest_data['Sex'] = test_data['Sex'].astype('category')\ntest_data['Sex'] = test_data['Sex' ].cat.codes\ntest_data.isnull().any(axis =0)",
      "execution_state": "idle"
    },
    {
      "cell_type": "code",
      "execution_count": 22,
      "metadata": {
        "_cell_guid": "2ed0d4ac-f9b7-8a4f-66ed-231f72ddcf28",
        "_active": false
      },
      "outputs": [],
      "source": " training_data.shape[1]\nX_train = training_data.ix[:, 1:training_data.shape[1]]",
      "execution_state": "idle"
    },
    {
      "cell_type": "code",
      "execution_count": 23,
      "metadata": {
        "_cell_guid": "329edc43-83c5-7065-f790-86cdc9c2bef1",
        "_active": false
      },
      "outputs": [],
      "source": "print(X_train.shape)\ny_train = training_data['Survived']",
      "execution_state": "idle"
    },
    {
      "cell_type": "code",
      "execution_count": 24,
      "metadata": {
        "_cell_guid": "5c2275ad-4994-d528-2cac-04a5fca7f9f1",
        "_active": false
      },
      "outputs": [],
      "source": "X_test = test_data[X_train.columns.values]\nprint(X_test.shape)\nX_test.isnull().any(axis =0)\nX_test[X_test.Fare.isnull()]",
      "execution_state": "idle"
    },
    {
      "cell_type": "code",
      "execution_count": 25,
      "metadata": {
        "_cell_guid": "e09077a5-736a-6c59-5599-cf296693fa3a",
        "_active": false
      },
      "outputs": [],
      "source": "fare_mean_by_pclass = X_train[['Pclass', 'Fare']].groupby('Pclass').mean()",
      "execution_state": "idle"
    },
    {
      "cell_type": "code",
      "execution_count": 26,
      "metadata": {
        "_cell_guid": "1121d690-c259-9475-8e3a-b2f3606ce9a9",
        "_active": false
      },
      "outputs": [],
      "source": "X_test.loc[X_test.Fare.isnull(), 'Fare'] = fare_mean_by_pclass.loc[3, 'Fare']\nX_test[X_test.Fare.isnull()]",
      "execution_state": "idle"
    },
    {
      "cell_type": "code",
      "execution_count": 27,
      "metadata": {
        "_cell_guid": "e55c51f7-4f71-136b-2925-bd6c2cc9abdd",
        "_active": false
      },
      "outputs": [],
      "source": "lg = linear_model.LogisticRegression()\nlg.fit(X_train, y_train)",
      "execution_state": "idle"
    },
    {
      "cell_type": "code",
      "execution_count": 28,
      "metadata": {
        "_cell_guid": "07bc33e0-bf51-32ae-ee1c-30731e88907d",
        "_active": false
      },
      "outputs": [],
      "source": "y_train_pred = lg.predict(X_train)",
      "execution_state": "idle"
    },
    {
      "cell_type": "code",
      "execution_count": 29,
      "metadata": {
        "_cell_guid": "5c644537-49bd-0915-5dfd-01a0e8241c5b",
        "_active": false
      },
      "outputs": [],
      "source": "from sklearn import metrics",
      "execution_state": "idle"
    },
    {
      "cell_type": "code",
      "execution_count": 30,
      "metadata": {
        "_cell_guid": "9fba3766-4c1a-0ae1-82a2-66cbb2149b04",
        "_active": false
      },
      "outputs": [],
      "source": "metrics.accuracy_score(y_train, y_train_pred)",
      "execution_state": "idle"
    },
    {
      "cell_type": "code",
      "execution_count": 37,
      "metadata": {
        "_cell_guid": "1bba8e7f-8d3d-8a40-94ca-f49e0aa2c4cf",
        "_active": false,
        "collapsed": false
      },
      "outputs": [],
      "source": "from sklearn.naive_bayes import GaussianNB\nfrom sklearn.svm import SVC\nfrom sklearn.tree import DecisionTreeClassifier\nfrom sklearn.ensemble import RandomForestClassifier\nclsList = [GaussianNB(), SVC(), DecisionTreeClassifier(), RandomForestClassifier(n_estimators=100)]",
      "execution_state": "idle"
    },
    {
      "cell_type": "code",
      "execution_count": 32,
      "metadata": {
        "_cell_guid": "11224f5b-052a-3573-9e1d-cd4701180ee1",
        "_active": false
      },
      "outputs": [],
      "source": "from sklearn.model_selection import cross_val_score",
      "execution_state": "idle"
    },
    {
      "cell_type": "code",
      "execution_count": 38,
      "metadata": {
        "_cell_guid": "aa82a2da-9d9b-7023-512a-b9c418e57824",
        "_active": false
      },
      "outputs": [],
      "source": "for clsfr in clsList:\n    scores = cross_val_score(clsfr, X_train, y_train , cv=5, scoring='accuracy')\n    print(type(clsfr), scores.mean())",
      "execution_state": "idle"
    },
    {
      "cell_type": "code",
      "execution_count": 34,
      "metadata": {
        "_cell_guid": "29a256e5-dc30-3938-a66a-4e2babd36ea3",
        "_active": true,
        "collapsed": false
      },
      "outputs": [],
      "source": "tree = RandomForestClassifier()\ntree.fit(X_train, y_train)\n",
      "execution_state": "idle"
    },
    {
      "cell_type": "code",
      "execution_count": 35,
      "metadata": {
        "_cell_guid": "636ae22a-af36-3c9f-3e25-03230d6e027d",
        "_active": false,
        "collapsed": false
      },
      "outputs": [],
      "source": "y_test_pred = tree.predict(X_test)\ntest_data['Survived']= y_test_pred\n#y_test_pred\n#np.savetxt(\"out.csv\", y_test_pred, fmt='%d',header=\"Survived\", comments='')",
      "execution_state": "idle"
    },
    {
      "cell_type": "code",
      "execution_count": 36,
      "metadata": {
        "_cell_guid": "8d2db63e-fd35-1d8e-43b4-dfa2c51dda0e",
        "_active": false
      },
      "outputs": [],
      "source": "pred = test_data[['PassengerId', 'Survived']]\npred.to_csv('titanic_pred.csv', index = False)",
      "execution_state": "idle"
    },
    {
      "cell_type": "code",
      "execution_count": 37,
      "metadata": {
        "_cell_guid": "c53fa0a8-19fb-311a-670f-d8fac4f5ab8d",
        "_active": false
      },
      "outputs": [],
      "source": null,
      "execution_state": "idle"
    }
  ]
}