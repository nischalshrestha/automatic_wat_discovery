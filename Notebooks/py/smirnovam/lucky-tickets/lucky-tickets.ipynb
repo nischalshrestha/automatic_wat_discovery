{"cells":[
 {
  "cell_type": "code",
  "execution_count": null,
  "metadata": {
   "collapsed": false
  },
  "outputs": [],
  "source": "%matplotlib inline"
 },
 {
  "cell_type": "code",
  "execution_count": null,
  "metadata": {
   "collapsed": false
  },
  "outputs": [],
  "source": "import pandas as pd\ndf = pd.read_csv('../input/train.csv')"
 },
 {
  "cell_type": "markdown",
  "metadata": {},
  "source": "Lucky ticket (in Russia) is a ticket with even number of digits, where  summ of the first half of the digits equald to the second part.\nLet's find out whether it helped Titanic passengers.\nHere is a function for checking if the ticket is lucky:"
 },
 {
  "cell_type": "code",
  "execution_count": null,
  "metadata": {
   "collapsed": false
  },
  "outputs": [],
  "source": "import re\n\ndef is_lucky(df):\n    ticket_no_pattern = re.compile(r'\\d\\d+')\n    ticket_no = ticket_no_pattern.findall(str(df))\n    if ticket_no:\n        if len(ticket_no[0]) % 2 == 0:\n            firstpart, secondpart = ticket_no[0][:len(ticket_no[0])//2],\\\n                                    ticket_no[0][len(ticket_no[0])//2:]\n            return int(sum([int(x) for x in firstpart]) == sum([int(x) for x in secondpart]))\n        else:\n            return 0\n    else:\n        return 0"
 },
 {
  "cell_type": "markdown",
  "metadata": {},
  "source": "Now let's add a column to dataframe, with True if this passemger's ticket is lucky or not"
 },
 {
  "cell_type": "code",
  "execution_count": null,
  "metadata": {
   "collapsed": false
  },
  "outputs": [],
  "source": "df['lucky'] = pd.Series(map(is_lucky, df.Ticket.values))"
 },
 {
  "cell_type": "markdown",
  "metadata": {},
  "source": "Now how many survivors had lucky tickets, how nmany survivors are there and how many lucky tickets were sold:"
 },
 {
  "cell_type": "code",
  "execution_count": null,
  "metadata": {
   "collapsed": false
  },
  "outputs": [],
  "source": "surv_lucky = len(df[(df.lucky == 1)&(df.Survived == 1)])\nsurv_all = len(df[(df.Survived == 1)])\nlucky_all = len(df[(df.lucky == 1)])\nprint('Survivors with lucky tickets {}, all suvivors {}, # of lucky tickets {}'.format(surv_lucky, surv_all, lucky_all))"
 },
 {
  "cell_type": "markdown",
  "metadata": {},
  "source": "What is the overall chance of surviving and a chance to survive with lucky ticket:"
 },
 {
  "cell_type": "code",
  "execution_count": null,
  "metadata": {
   "collapsed": false
  },
  "outputs": [],
  "source": "surv_chance = len(df[(df.Survived == 1)])/len(df)\nsurv_chanve_lucky = len(df[(df.Survived == 1)&(df.lucky == 1)])/len(df[(df.lucky == 1)])\nprint('Chance to survive {:.2f}, chance to survive with lucky ticket {:.2f}'.format(surv_chance, surv_chanve_lucky ))"
 },
 {
  "cell_type": "markdown",
  "metadata": {},
  "source": "Let's get rid of some columns and perform one-hot"
 },
 {
  "cell_type": "code",
  "execution_count": null,
  "metadata": {
   "collapsed": false
  },
  "outputs": [],
  "source": "df.drop('Ticket', axis=1, inplace=True)\ndf.drop('PassengerId', axis=1, inplace=True)\ndf.drop('Cabin', axis=1, inplace=True)\ndf['emb_S'] = pd.Series(map(lambda x: 1 if x == 'S' else 0 , df.Embarked.values))\ndf['emb_C'] = pd.Series(map(lambda x: 1 if x == 'C' else 0 , df.Embarked.values))\ndf['emb_Q'] = pd.Series(map(lambda x: 1 if x == 'Q' else 0 , df.Embarked.values))\ndf['sex'] = pd.Series(map(lambda x: 1 if x == 'male' else 0 , df.Sex.values))\ndf.drop('Embarked', axis=1, inplace=True)\ndf.drop('Sex', axis=1, inplace=True)\ndf.drop('Name', axis=1, inplace=True)"
 },
 {
  "cell_type": "markdown",
  "metadata": {},
  "source": "And impute mission age data"
 },
 {
  "cell_type": "code",
  "execution_count": null,
  "metadata": {
   "collapsed": false
  },
  "outputs": [],
  "source": "from sklearn.preprocessing import Imputer\nimr = Imputer(missing_values='NaN', strategy='median', axis=0)\nimr = imr.fit(df.values)\nX = imr.transform(df.values)"
 },
 {
  "cell_type": "markdown",
  "metadata": {},
  "source": "Now let's plot correlation matrix for different features"
 },
 {
  "cell_type": "code",
  "execution_count": null,
  "metadata": {
   "collapsed": false
  },
  "outputs": [],
  "source": "import numpy as np\nimport seaborn as sns\ncm = np.corrcoef(X.T)\nsns.set(font_scale=1.5)\nhm = sns.heatmap(cm, cbar=True, annot=True, square=True, fmt='.2f',annot_kws={'size': 10},yticklabels=df.columns,xticklabels=df.columns)"
 },
 {
  "cell_type": "markdown",
  "metadata": {},
  "source": "Correlation between survival and having a lucky ticket is small - magic doesn't work. \nHowever Pclass and Parch shows some correlation with having a lucky ticket.\nAlse this correlation matrix shows that sex, Pclass, Fare and embarkment in Cherbourg are somehow correlated with \nSurvived feature"
 }
],"metadata":{"kernelspec":{"display_name":"Python 3","language":"python","name":"python3"}}, "nbformat": 4, "nbformat_minor": 0}