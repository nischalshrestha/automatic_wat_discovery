{"cells":[
 {
  "cell_type": "markdown",
  "metadata": {},
  "source": "# Titanic: Machine Learning from Disaster\n\n# Exploratory Data Analysis\n\n## 1 - Setup\n\n### 1.1 - Import Packages"
 },
 {
  "cell_type": "code",
  "execution_count": null,
  "metadata": {
   "collapsed": false
  },
  "outputs": [],
  "source": "import numpy as np\nimport pandas as pd\nfrom sklearn.linear_model import LogisticRegression\nfrom sklearn.model_selection import cross_val_score\nimport matplotlib.pyplot as plt\nimport seaborn as sns\n%pylab inline"
 },
 {
  "cell_type": "markdown",
  "metadata": {},
  "source": "### 1.2 - Load Data\n\n#### VARIABLE DESCRIPTIONS:\n* survival:        Survival(0 = No; 1 = Yes)\n* pclass:          Passenger Class(1 = 1st; 2 = 2nd; 3 = 3rd)\n* name:            Name\n* sex:             Sex\n* age:             Age\n* sibsp:           Number of Siblings/Spouses Aboard\n* parch:           Number of Parents/Children Aboard\n* ticket:          Ticket Number\n* fare:            Passenger Fare\n* cabin:           Cabin\n* embarked:        Port of Embarkation(C = Cherbourg; Q = Queenstown; S = Southampton)"
 },
 {
  "cell_type": "code",
  "execution_count": null,
  "metadata": {
   "collapsed": false
  },
  "outputs": [],
  "source": "train_data = pd.read_csv('../input/train.csv')\ntest_data = pd.read_csv('../input/test.csv')\nfull_data = pd.concat([train_data, test_data]).reset_index(drop=True)\nfull_data['Pclass'] = full_data['Pclass'].astype('category')\nfull_data['Embarked'] = full_data['Embarked'].astype('category')\nfull_data['Sex'] = full_data['Sex'].astype('category')\nfull_data.tail()"
 },
 {
  "cell_type": "markdown",
  "metadata": {},
  "source": "### 1.2 - Variables Statistical Description\n\nGenerate various summary statistics, excluding NaN values. It's possible to notice that there are a lot of missing values for cabin and age and also a few for embarked and fare."
 },
 {
  "cell_type": "code",
  "execution_count": null,
  "metadata": {
   "collapsed": false
  },
  "outputs": [],
  "source": "# Statistical description of the data\nfull_data.describe()"
 },
 {
  "cell_type": "code",
  "execution_count": null,
  "metadata": {
   "collapsed": false
  },
  "outputs": [],
  "source": "# Count how many NaN values there are in each column\nlen(full_data) - full_data.count()"
 },
 {
  "cell_type": "code",
  "execution_count": null,
  "metadata": {
   "collapsed": false
  },
  "outputs": [],
  "source": "# Passengers with missing values for Embarked and Fare.\nfull_data[full_data.drop(['Age','Cabin','Survived'], axis=1).isnull().any(axis=1)]"
 },
 {
  "cell_type": "markdown",
  "metadata": {},
  "source": "## 2 - Exploratory Data Analysis\n\n### 2.1 - Women and Children First\n\nLet's first of all analyse the most obvious relationship, between sex, age and survival rate. The fist graph shows the strong relation between sex and survival rate. The relation is so strong that Kaggle sugest a simple model that returns 1 if the passenger is a female and 0 if it's a male. This model has a 76.6% accuracy."
 },
 {
  "cell_type": "code",
  "execution_count": null,
  "metadata": {
   "collapsed": false
  },
  "outputs": [],
  "source": "sns.barplot(x='Sex', y='Survived', data=full_data)"
 },
 {
  "cell_type": "markdown",
  "metadata": {},
  "source": "When we divide the data by age groups, it's possible to notice, that the discrepancy between the survival rate of males and females almost desapers. The last plot shows the influence of both \"Sex\" and \"Age\" on the survival rate."
 },
 {
  "cell_type": "code",
  "execution_count": null,
  "metadata": {
   "collapsed": false
  },
  "outputs": [],
  "source": "age_df = full_data[['Age','Survived', 'Sex']].copy()\nage_df.loc[age_df.Age<15,'AgeGroup'] = 'Children'\nage_df.loc[age_df.Age>=15,'AgeGroup'] = 'Adult'\nsns.barplot(x='AgeGroup', y='Survived', hue='Sex', data=age_df)"
 },
 {
  "cell_type": "code",
  "execution_count": null,
  "metadata": {
   "collapsed": false
  },
  "outputs": [],
  "source": "sns.swarmplot(x='Age',y='Sex',hue='Survived',data=full_data)"
 },
 {
  "cell_type": "markdown",
  "metadata": {},
  "source": "### 2.2 - Do rich people survive?\n\nAs we could guess, the two histograms below confirm that people that payed more expencive fares, are more likely to survive."
 },
 {
  "cell_type": "code",
  "execution_count": null,
  "metadata": {
   "collapsed": false
  },
  "outputs": [],
  "source": "p = plt.hist([full_data[(full_data.Survived==1)&(full_data.Fare<30)].Fare, \n              full_data[(full_data.Survived==0)&(full_data.Fare<30)].Fare], histtype='bar', stacked=True, bins=10)"
 },
 {
  "cell_type": "code",
  "execution_count": null,
  "metadata": {
   "collapsed": false
  },
  "outputs": [],
  "source": "p = plt.hist([full_data[(full_data.Survived==1)&(full_data.Fare>30)].Fare, \n              full_data[(full_data.Survived==0)&(full_data.Fare>30)].Fare], histtype='bar', stacked=True, bins=10)"
 },
 {
  "cell_type": "markdown",
  "metadata": {},
  "source": "The following plot divides the data into 2 income groups. As we can see the chances of survival for both males and females increase if they had payed an expensive fare."
 },
 {
  "cell_type": "code",
  "execution_count": null,
  "metadata": {
   "collapsed": false
  },
  "outputs": [],
  "source": "money_df = full_data[['Fare','Survived', 'Sex','Pclass']].copy()\nmoney_df.loc[money_df.Fare>30,'FareLabel'] = 'Expensive'\nmoney_df.loc[money_df.Fare<30,'FareLabel'] = 'Cheap'\nsns.barplot(x='FareLabel', y='Survived', hue='Sex', data=money_df)"
 },
 {
  "cell_type": "markdown",
  "metadata": {},
  "source": "But the plot below shows an even stronger relationship between the social class and the survival rate of passengers. It's possible to notice that meles traveling 1st class have a survival rate almost 2x larger them those traveling 2nd and 3rd class. For females traveling both, 1st and 2nd classes, have a survival rate almost 2x larger them those traveling 3rd class."
 },
 {
  "cell_type": "code",
  "execution_count": null,
  "metadata": {
   "collapsed": false
  },
  "outputs": [],
  "source": "sns.barplot(x='Pclass', y='Survived', hue='Sex', data=money_df)"
 },
 {
  "cell_type": "markdown",
  "metadata": {},
  "source": "### 2.3 - Family that travels together sinks together?\n\nThe plots below show that the chances of a female passenger surviving does not change if there are up to 3 relatives on board. For more them 3 relatives the chances drop dramatically. The chances for male passangers, however, increase as the number of relatives on board increses (also up to 3). For more them 3 relatives the chances of survival also drop dramatically."
 },
 {
  "cell_type": "code",
  "execution_count": null,
  "metadata": {
   "collapsed": false
  },
  "outputs": [],
  "source": "family_df = full_data[['SibSp','Parch','Survived', 'Sex']].copy()\nfamily_df.loc[:,'FamilySize'] =  family_df['SibSp'] + family_df['Parch'] +1\nsns.barplot(x='FamilySize', y='Survived', hue='Sex', data=family_df)"
 },
 {
  "cell_type": "code",
  "execution_count": null,
  "metadata": {
   "collapsed": false
  },
  "outputs": [],
  "source": "family_df.loc[family_df.FamilySize==1,'FamilyLabel'] = 'Single'\nfamily_df.loc[family_df.FamilySize==2,'FamilyLabel'] = 'Couple'\nfamily_df.loc[(family_df.FamilySize>2)&(family_df.FamilySize<=4),'FamilyLabel'] = 'Small'\nfamily_df.loc[family_df.FamilySize>4,'FamilyLabel'] = 'Big'\nsns.barplot(x='FamilyLabel', y='Survived', hue='Sex', data=family_df, order=['Single', 'Couple', 'Small', 'Big'])"
 },
 {
  "cell_type": "markdown",
  "metadata": {},
  "source": "The intend of this notebook is only make a superficial analysis of the most relevant features of the dataset. I have created another notebook to dig deeper on feature and model engineering. See you there ;)"
 }
],"metadata":{"kernelspec":{"display_name":"Python 3","language":"python","name":"python3"}}, "nbformat": 4, "nbformat_minor": 0}