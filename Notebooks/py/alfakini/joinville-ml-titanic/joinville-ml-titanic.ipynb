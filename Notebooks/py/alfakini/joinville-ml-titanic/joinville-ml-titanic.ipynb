{
  "cells": [
    {
      "cell_type": "code",
      "execution_count": null,
      "metadata": {
        "_cell_guid": "526e3b0c-884a-91f6-6e0b-71f279ee7a5c"
      },
      "outputs": [],
      "source": [
        "import pandas as pd\n",
        "import numpy as np\n",
        "import matplotlib.pyplot as plt\n",
        "\n",
        "import matplotlib\n",
        "matplotlib.style.use('ggplot')\n",
        "\n",
        "def preprocess_dataset(dataset):\n",
        "    # Remove PassengerId, Name, Ticket and Cabin. \n",
        "    dataset = dataset.drop(['PassengerId', 'Name', 'Ticket', 'Cabin'], axis=1)\n",
        "    # Convert Sex and Embarked to numerical value:\n",
        "    replace = {'Sex': {'male': 0, 'female': 1}, 'Embarked': {'C': 0, 'Q': 1, 'S': 2}}\n",
        "    dataset = dataset.replace(replace)\n",
        "    # Fix Embarked (there are NaN):\n",
        "    dataset.Embarked = dataset.Embarked.fillna(2)\n",
        "    return dataset"
      ]
    },
    {
      "cell_type": "markdown",
      "metadata": {
        "_cell_guid": "efbfe92e-583a-8731-6285-4cf736735680"
      },
      "source": [
        "## Dataset\n",
        "\n",
        "Load the datasets:"
      ]
    },
    {
      "cell_type": "code",
      "execution_count": null,
      "metadata": {
        "_cell_guid": "a017c164-c02a-e9b3-c1ed-79371bcd52a3"
      },
      "outputs": [],
      "source": [
        "train_df = pd.read_csv('../input/train.csv')\n",
        "test_df = pd.read_csv('../input/test.csv')\n",
        "dataset = pd.concat([test_df, train_df])"
      ]
    },
    {
      "cell_type": "markdown",
      "metadata": {
        "_cell_guid": "9c27dd13-2c81-52fa-9810-b42074e7a5db"
      },
      "source": [
        "Take a look in the dataset:"
      ]
    },
    {
      "cell_type": "code",
      "execution_count": null,
      "metadata": {
        "_cell_guid": "0c0a1548-b778-6990-7915-abfb9bf1d8aa"
      },
      "outputs": [],
      "source": [
        "print('COLUMNS', dataset.columns.values)\n",
        "print('')\n",
        "dataset.info()"
      ]
    },
    {
      "cell_type": "code",
      "execution_count": null,
      "metadata": {
        "_cell_guid": "d5c6d5dd-e70a-173c-b200-7edbea406225"
      },
      "outputs": [],
      "source": [
        "dataset.describe()"
      ]
    },
    {
      "cell_type": "code",
      "execution_count": null,
      "metadata": {
        "_cell_guid": "2ca00751-f2d4-767c-f77c-d874b91ff2c5"
      },
      "outputs": [],
      "source": [
        "dataset.describe(include=['O'])"
      ]
    },
    {
      "cell_type": "code",
      "execution_count": null,
      "metadata": {
        "_cell_guid": "456a3002-05bd-36c0-87f8-22b38995bfef"
      },
      "outputs": [],
      "source": [
        "for column in ['Survived', 'Pclass', 'Sex', 'Age', 'SibSp', 'Parch', 'Fare', 'Embarked', 'Cabin', 'Ticket']:\n",
        "    print(column, 'unique values:', dataset[column].unique())"
      ]
    },
    {
      "cell_type": "markdown",
      "metadata": {
        "_cell_guid": "bba0a3bf-31eb-a888-37ed-0f93925806a4"
      },
      "source": [
        " - **passengerid**: integer\n",
        " - **survived**: 0 or 1\n",
        " - **pclass** (ticket class): 1, 2 or 3 1st = Upper 2nd = Middle 3rd = Lower\n",
        " - **name** (passeger name): string\n",
        " - **sex** (passenger sex): 'male' or 'female'\n",
        " - **age** (passenger age): NaN and float\n",
        " - **sibsp** (number of siblings/spouses aboard the titanic): 1 0 3 4 2 5 8\n",
        " - **parch** (number of parents/children aboard the titanic): 0 1 2 5 3 4 6\n",
        " - **ticket**: string, alphanumeric\n",
        " - **fare**: float\n",
        " - **cabin** (cabin number): NaN, string, alphanumeric\n",
        " - **embarked** (port of embarkation): NaN, C = Cherbourg, Q = Queenstown, S = Southampton\n",
        "\n",
        "Types:\n",
        "\n",
        "- **categorical**: survived, pclass, sex, embarked\n",
        "- **continous**: age, fare\n",
        "- **discrete**: sibsp, parch\n",
        "- **alphanumeric**: ticket, cabin, name\n",
        "- **Null, NaN**: cabin, embarked, age"
      ]
    },
    {
      "cell_type": "markdown",
      "metadata": {
        "_cell_guid": "b60f0e98-f61f-29d2-347f-0283a50fb2d1"
      },
      "source": [
        "**PREPROCESSING TODO**\n",
        "\n",
        "- [X] Remove PassangerId as it doesn't mean anything for us\n",
        "- [X] Remove Ticket\n",
        "- [X] Remove Cabin\n",
        "- [X] Remove Name\n",
        "- [X] Convert Sex to numerical value\n",
        "- [X] Convert Embarked to numerical value\n",
        "- [ ] Fix Age (there are NaN)\n",
        "- [X] Fix Embarked (there are NaN)\n",
        "- [ ] Convert Age to some ranges\n",
        "- [ ] Convert Fare to some ranges\n",
        "- [ ] Maybe we can try to use Cabin and Ticket later. I don't know if they mean something."
      ]
    },
    {
      "cell_type": "code",
      "execution_count": null,
      "metadata": {
        "_cell_guid": "159b2800-6570-0a5f-ecdc-30218bdf7fc1"
      },
      "outputs": [],
      "source": [
        "# Remove PassengerId, Name, Ticket and Cabin. \n",
        "dataset = dataset.drop(['PassengerId', 'Name', 'Ticket', 'Cabin'], axis=1)\n",
        "# Convert Sex and Embarked to numerical value:\n",
        "replace = {'Sex': {'male': 0, 'female': 1}, 'Embarked': {'C': 0, 'Q': 1, 'S': 2}}\n",
        "dataset = dataset.replace(replace)"
      ]
    },
    {
      "cell_type": "code",
      "execution_count": null,
      "metadata": {
        "_cell_guid": "d8f5297b-1908-964f-557b-4e49560c5780"
      },
      "outputs": [],
      "source": [
        "print(dataset.Embarked.isnull().sum())\n",
        "dataset.groupby('Embarked').Embarked.count()"
      ]
    },
    {
      "cell_type": "code",
      "execution_count": null,
      "metadata": {
        "_cell_guid": "bc56c6df-6db2-fdae-93be-45a2931d035d"
      },
      "outputs": [],
      "source": [
        "dataset.Embarked = dataset.Embarked.fillna(2)"
      ]
    },
    {
      "cell_type": "code",
      "execution_count": null,
      "metadata": {
        "_cell_guid": "a029fd88-0c2d-561a-42cf-e7d080bbb33a"
      },
      "outputs": [],
      "source": [
        "dataset.Embarked.isnull().sum()"
      ]
    },
    {
      "cell_type": "code",
      "execution_count": null,
      "metadata": {
        "_cell_guid": "206abcbc-f2be-1c09-7786-60d1108c9c14"
      },
      "outputs": [],
      "source": [
        "from pandas.tools.plotting import scatter_matrix\n",
        "scatter_matrix(dataset, alpha=0.2, figsize=(30, 30), diagonal='hist')"
      ]
    },
    {
      "cell_type": "markdown",
      "metadata": {
        "_cell_guid": "94129d3f-f76e-3e82-a82b-cc18919d0cdc"
      },
      "source": [
        "Fix Age (there are NaN). Select some Age ranges:"
      ]
    },
    {
      "cell_type": "code",
      "execution_count": null,
      "metadata": {
        "_cell_guid": "c4674abc-277f-f8bc-5dbf-c58ae9904057"
      },
      "outputs": [],
      "source": [
        "print(dataset.Age.isnull().sum())\n",
        "print(dataset.Age.min(), dataset.Age.max())"
      ]
    },
    {
      "cell_type": "code",
      "execution_count": null,
      "metadata": {
        "_cell_guid": "217d67ab-8cee-d18b-78d8-6cfbd6c86a44"
      },
      "outputs": [],
      "source": [
        "dataset.Age.hist(bins=8)"
      ]
    },
    {
      "cell_type": "code",
      "execution_count": null,
      "metadata": {
        "_cell_guid": "12ccc4ce-dabe-beb7-2f55-da63735f64b4"
      },
      "outputs": [],
      "source": [
        "print('AGE MEAN:', dataset.Age.mean(), 'AGE STD: ', dataset.Age.std())"
      ]
    },
    {
      "cell_type": "code",
      "execution_count": null,
      "metadata": {
        "_cell_guid": "fc18b1eb-3c79-25fc-db06-49eb68b841b6"
      },
      "outputs": [],
      "source": [
        "temp = dataset.copy(deep=True)\n",
        "temp.Age = temp.Age.fillna(-1)\n",
        "temp[temp.Age == -1][['Age', 'Pclass']].groupby('Pclass').count()"
      ]
    },
    {
      "cell_type": "code",
      "execution_count": null,
      "metadata": {
        "_cell_guid": "c90133e2-2192-d327-73f2-a76908a8be0a"
      },
      "outputs": [],
      "source": [
        "dataset[dataset.Pclass == 3].Age.hist(bins=10)"
      ]
    },
    {
      "cell_type": "code",
      "execution_count": null,
      "metadata": {
        "_cell_guid": "ea233bfe-bfe3-36e0-9a57-401ecbf48a88"
      },
      "outputs": [],
      "source": [
        "dataset[dataset.Pclass == 2].Age.hist(bins=10)"
      ]
    },
    {
      "cell_type": "code",
      "execution_count": null,
      "metadata": {
        "_cell_guid": "6a432201-32f3-8e69-94b8-addbe74665ae"
      },
      "outputs": [],
      "source": [
        "dataset[dataset.Pclass == 1].Age.hist(bins=10)"
      ]
    },
    {
      "cell_type": "markdown",
      "metadata": {
        "_cell_guid": "75f98a5e-36ef-6223-7803-0a786c4bd1ae"
      },
      "source": [
        " Ok, so we identified that there are more missing data in the 3 class and identified the distribution in the 3 classes."
      ]
    },
    {
      "cell_type": "code",
      "execution_count": null,
      "metadata": {
        "_cell_guid": "2e176949-4d43-00fb-61fd-96fc3cf2393e"
      },
      "outputs": [],
      "source": ""
    },
    {
      "cell_type": "code",
      "execution_count": null,
      "metadata": {
        "_cell_guid": "a942c6c1-95bf-1f37-3dea-e38734c0e987"
      },
      "outputs": [],
      "source": [
        "train_df = preprocess_dataset(train_df)\n",
        "test_df = preprocess_dataset(test_df)\n",
        "test_df.head()"
      ]
    },
    {
      "cell_type": "markdown",
      "metadata": {
        "_cell_guid": "82386949-dac2-ea4e-f0a5-9aa6ca49670a"
      },
      "source": [
        "Train using:\n",
        "\n",
        "* [ ] Linear Regression\n",
        "* [ ] Logistic Regression\n",
        "* [ ] SVM\n",
        "* [ ] Random Forrest\n",
        "* [ ] Neural Networks"
      ]
    }
  ],
  "metadata": {
    "_change_revision": 0,
    "_is_fork": false,
    "kernelspec": {
      "display_name": "Python 3",
      "language": "python",
      "name": "python3"
    },
    "language_info": {
      "codemirror_mode": {
        "name": "ipython",
        "version": 3
      },
      "file_extension": ".py",
      "mimetype": "text/x-python",
      "name": "python",
      "nbconvert_exporter": "python",
      "pygments_lexer": "ipython3",
      "version": "3.6.0"
    }
  },
  "nbformat": 4,
  "nbformat_minor": 0
}