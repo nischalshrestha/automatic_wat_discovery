{
  "cells": [
    {
      "cell_type": "code",
      "execution_count": null,
      "metadata": {
        "_cell_guid": "b8f0e80e-1338-f1bd-730e-ddd129ec5c2d"
      },
      "outputs": [],
      "source": [
        "import pandas as pd\n",
        "import numpy as np\n",
        "import matplotlib.pyplot as plt\n",
        "import seaborn as sns\n",
        "%matplotlib inline"
      ]
    },
    {
      "cell_type": "code",
      "execution_count": null,
      "metadata": {
        "_cell_guid": "d2df6254-2ac2-d599-badb-d71d0876ea26"
      },
      "outputs": [],
      "source": [
        "train=pd.read_csv('../input/train.csv')"
      ]
    },
    {
      "cell_type": "code",
      "execution_count": null,
      "metadata": {
        "_cell_guid": "0a7230fd-ac68-8075-b046-74b2534020b2"
      },
      "outputs": [],
      "source": [
        "train.head()"
      ]
    },
    {
      "cell_type": "code",
      "execution_count": null,
      "metadata": {
        "_cell_guid": "dbdcef28-d06f-d3c0-45a3-2584972aad27"
      },
      "outputs": [],
      "source": [
        "sns.heatmap(train.isnull(),cbar=False,yticklabels=False)"
      ]
    },
    {
      "cell_type": "code",
      "execution_count": null,
      "metadata": {
        "_cell_guid": "f774bc06-7606-6d67-fdef-d08a92342c31"
      },
      "outputs": [],
      "source": [
        "def impute_age(cols):\n",
        "    Age=cols[0]\n",
        "    Pclass=cols[1]\n",
        "    if pd.isnull(Age):\n",
        "        if Pclass==1:\n",
        "            return 37\n",
        "        elif Pclass==2:\n",
        "            return 29\n",
        "        else:\n",
        "            return 24\n",
        "    else:\n",
        "        return Age"
      ]
    },
    {
      "cell_type": "code",
      "execution_count": null,
      "metadata": {
        "_cell_guid": "5328326e-1544-c506-ca91-c8ce37c2b0fd"
      },
      "outputs": [],
      "source": [
        "train['Age']=train[['Age','Pclass']].apply(impute_age,axis=1)\n"
      ]
    },
    {
      "cell_type": "code",
      "execution_count": null,
      "metadata": {
        "_cell_guid": "5a35822a-1640-4ef1-ba9d-a69c9c6ead82"
      },
      "outputs": [],
      "source": [
        "train.drop('Cabin',axis=1,inplace=True)"
      ]
    },
    {
      "cell_type": "code",
      "execution_count": null,
      "metadata": {
        "_cell_guid": "a4240052-fc87-1386-4a31-e4460fb172e2"
      },
      "outputs": [],
      "source": [
        "train.dropna(inplace=True)"
      ]
    },
    {
      "cell_type": "code",
      "execution_count": null,
      "metadata": {
        "_cell_guid": "77478266-1ca7-c44e-74f2-014342c6b6e7"
      },
      "outputs": [],
      "source": [
        "sns.heatmap(train.isnull(),cbar=False,yticklabels=False)"
      ]
    },
    {
      "cell_type": "code",
      "execution_count": null,
      "metadata": {
        "_cell_guid": "3183fe7a-0980-4296-eb61-12659fc06978"
      },
      "outputs": [],
      "source": [
        "sns.countplot(x='Survived',data=train,hue='Sex')\n"
      ]
    },
    {
      "cell_type": "code",
      "execution_count": null,
      "metadata": {
        "_cell_guid": "1e73d9c6-dfec-1373-0143-63c2e7672caa"
      },
      "outputs": [],
      "source": [
        "sns.countplot(x='Survived',data=train,hue='Pclass')\n"
      ]
    },
    {
      "cell_type": "code",
      "execution_count": null,
      "metadata": {
        "_cell_guid": "ab271ff9-223d-b161-25bc-432ae1661d1a"
      },
      "outputs": [],
      "source": [
        "sns.distplot(train['Age'],kde=False,bins=30)"
      ]
    },
    {
      "cell_type": "code",
      "execution_count": null,
      "metadata": {
        "_cell_guid": "33891e26-6af0-3481-61e5-f4524fbd79ba"
      },
      "outputs": [],
      "source": [
        "sns.countplot(x='SibSp',data=train)"
      ]
    },
    {
      "cell_type": "code",
      "execution_count": null,
      "metadata": {
        "_cell_guid": "4fef53b8-1ab3-0ade-af4e-9038c07ff865"
      },
      "outputs": [],
      "source": [
        "sns.countplot(x='Embarked',data=train)"
      ]
    },
    {
      "cell_type": "code",
      "execution_count": null,
      "metadata": {
        "_cell_guid": "b413cb74-a751-a8b1-1b58-c87092483ccd"
      },
      "outputs": [],
      "source": [
        "sex=pd.get_dummies(train['Sex'],drop_first=True)\n",
        "embark=pd.get_dummies(train['Embarked'],drop_first=True)\n"
      ]
    },
    {
      "cell_type": "code",
      "execution_count": null,
      "metadata": {
        "_cell_guid": "ce419d32-ed72-bc62-08d9-0a69c3b14913"
      },
      "outputs": [],
      "source": [
        "train=pd.concat([train,sex,embark],axis=1)"
      ]
    },
    {
      "cell_type": "code",
      "execution_count": null,
      "metadata": {
        "_cell_guid": "a470de65-1168-4d2e-143c-b5da890526fd"
      },
      "outputs": [],
      "source": [
        "train.drop(['Sex','Embarked','Name','Ticket'],axis=1,inplace=True)"
      ]
    },
    {
      "cell_type": "code",
      "execution_count": null,
      "metadata": {
        "_cell_guid": "b22fb0d5-bc8a-1f78-a863-8f35a2c9ee30"
      },
      "outputs": [],
      "source": [
        "X_train=train.drop('Survived',axis=1)\n",
        "y_train=train['Survived']"
      ]
    },
    {
      "cell_type": "code",
      "execution_count": null,
      "metadata": {
        "_cell_guid": "0e9b2cd1-3562-1a4e-b46e-5bc819c68658"
      },
      "outputs": [],
      "source": [
        "X_train.drop('PassengerId',axis=1,inplace=True)"
      ]
    },
    {
      "cell_type": "code",
      "execution_count": null,
      "metadata": {
        "_cell_guid": "93c7dce2-a47c-fbc0-4805-6149be18cb7d"
      },
      "outputs": [],
      "source": [
        "from sklearn.linear_model import LogisticRegression"
      ]
    },
    {
      "cell_type": "code",
      "execution_count": null,
      "metadata": {
        "_cell_guid": "a90e280d-4587-1075-b663-779b6e9b2236"
      },
      "outputs": [],
      "source": [
        "logmodel=LogisticRegression()"
      ]
    },
    {
      "cell_type": "code",
      "execution_count": null,
      "metadata": {
        "_cell_guid": "8646e50f-0b4f-c519-a3aa-e9959485af33"
      },
      "outputs": [],
      "source": [
        "logmodel.fit(X_train,y_train)"
      ]
    },
    {
      "cell_type": "code",
      "execution_count": null,
      "metadata": {
        "_cell_guid": "42f0e972-8e42-a3d5-53ee-cbd2c3314a88"
      },
      "outputs": [],
      "source": [
        ""
      ]
    },
    {
      "cell_type": "code",
      "execution_count": null,
      "metadata": {
        "_cell_guid": "348cfb6a-c27d-efcc-5af5-86b77166fdb2"
      },
      "outputs": [],
      "source": [
        "test_data=pd.read_csv('../input/test.csv')"
      ]
    },
    {
      "cell_type": "code",
      "execution_count": null,
      "metadata": {
        "_cell_guid": "ce740a7e-8474-5ecf-d093-dfd912d83623"
      },
      "outputs": [],
      "source": [
        "test_data['Age']=test_data[['Age','Pclass']].apply(impute_age,axis=1)"
      ]
    },
    {
      "cell_type": "code",
      "execution_count": null,
      "metadata": {
        "_cell_guid": "7054714a-6c50-572e-821c-d1797eab4612"
      },
      "outputs": [],
      "source": [
        "test_data.drop('Cabin',axis=1,inplace=True)"
      ]
    },
    {
      "cell_type": "code",
      "execution_count": null,
      "metadata": {
        "_cell_guid": "ae04b5b5-15b7-0c6c-369b-ebff077521c8"
      },
      "outputs": [],
      "source": [
        "test_data.dropna(inplace=True)"
      ]
    },
    {
      "cell_type": "code",
      "execution_count": null,
      "metadata": {
        "_cell_guid": "66953c03-d062-3556-3ec3-9eb89c1b360c"
      },
      "outputs": [],
      "source": [
        "sex=pd.get_dummies(test_data['Sex'],drop_first=True)\n",
        "embark=pd.get_dummies(test_data['Embarked'],drop_first=True)\n"
      ]
    },
    {
      "cell_type": "code",
      "execution_count": null,
      "metadata": {
        "_cell_guid": "e657e3c9-2afb-d3eb-613c-79a8bec66e63"
      },
      "outputs": [],
      "source": [
        "test_data=pd.concat([test_data,sex,embark],axis=1)"
      ]
    },
    {
      "cell_type": "code",
      "execution_count": null,
      "metadata": {
        "_cell_guid": "91382e55-b8c2-8a00-f1dc-6149f6be2675"
      },
      "outputs": [],
      "source": [
        "test_data.drop(['Sex','Embarked','Name','Ticket'],axis=1,inplace=True)"
      ]
    },
    {
      "cell_type": "code",
      "execution_count": null,
      "metadata": {
        "_cell_guid": "41a45131-77bf-4059-b163-d685da6b4022"
      },
      "outputs": [],
      "source": [
        "X_test=test_data.drop('PassengerId',axis=1)"
      ]
    },
    {
      "cell_type": "code",
      "execution_count": null,
      "metadata": {
        "_cell_guid": "19a9e038-b66a-65ed-9b92-22bbe5e38b71"
      },
      "outputs": [],
      "source": [
        "predictions=logmodel.predict(X_test)"
      ]
    },
    {
      "cell_type": "code",
      "execution_count": null,
      "metadata": {
        "_cell_guid": "fa80dbc5-75d1-d472-f7d4-8ce76161abdc"
      },
      "outputs": [],
      "source": [
        "test_data['Survived']=predictions"
      ]
    },
    {
      "cell_type": "code",
      "execution_count": null,
      "metadata": {
        "_cell_guid": "201911e1-7b78-aaaf-bb55-66565b3d09c9"
      },
      "outputs": [],
      "source": [
        ""
      ]
    }
  ],
  "metadata": {
    "_change_revision": 0,
    "_is_fork": false,
    "kernelspec": {
      "display_name": "Python 3",
      "language": "python",
      "name": "python3"
    },
    "language_info": {
      "codemirror_mode": {
        "name": "ipython",
        "version": 3
      },
      "file_extension": ".py",
      "mimetype": "text/x-python",
      "name": "python",
      "nbconvert_exporter": "python",
      "pygments_lexer": "ipython3",
      "version": "3.6.0"
    }
  },
  "nbformat": 4,
  "nbformat_minor": 0
}