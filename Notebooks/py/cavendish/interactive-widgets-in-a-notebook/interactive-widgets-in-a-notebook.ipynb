{"cells":[
 {
  "cell_type": "code",
  "execution_count": null,
  "metadata": {
   "collapsed": true
  },
  "outputs": [],
  "source": "%matplotlib inline"
 },
 {
  "cell_type": "code",
  "execution_count": null,
  "metadata": {
   "collapsed": false
  },
  "outputs": [],
  "source": "# This Python 3 environment comes with many helpful analytics libraries installed\n# It is defined by the kaggle/python docker image: https://github.com/kaggle/docker-python\n# For example, here's several helpful packages to load in \n\nimport numpy as np # linear algebra\nimport pandas as pd # data processing, CSV file I/O (e.g. pd.read_csv)\n\n# Input data files are available in the \"../input/\" directory.\n# For example, running this (by clicking run or pressing Shift+Enter) will list the files in the input directory\n\nfrom subprocess import check_output\nprint(check_output([\"ls\", \"../input\"]).decode(\"utf8\"))\n\n# Any results you write to the current directory are saved as output."
 },
 {
  "cell_type": "markdown",
  "metadata": {},
  "source": "I'm curious to see whether I can do interactive visualizations in the kaggle notebook. I can\nadd interactivity to a local jupyter notebook using the `ipywidgets` module. I can store the\nnotebook on github, but the rendering is static and the widgets don't display. If that's not\nthe case here, I could use Kaggle as a platform for hosting one-off interactive notebooks, rather\nthan rolling a `tmpnb` solution."
 },
 {
  "cell_type": "code",
  "execution_count": null,
  "metadata": {
   "collapsed": false
  },
  "outputs": [],
  "source": "import ipywidgets"
 },
 {
  "cell_type": "markdown",
  "metadata": {},
  "source": "Okay, ipywidgets is there. Now, can we use it?"
 },
 {
  "cell_type": "code",
  "execution_count": null,
  "metadata": {
   "collapsed": false
  },
  "outputs": [],
  "source": "from ipywidgets import interactive\nfrom scipy.stats import gamma\nimport numpy as np\nfrom IPython.display import display, clear_output\n\nimport matplotlib.pyplot as plt\n%matplotlib inline"
 },
 {
  "cell_type": "code",
  "execution_count": null,
  "metadata": {
   "collapsed": false
  },
  "outputs": [],
  "source": "%config InlineBackend.close_figures=False\n\nx = np.arange(0, 40, 0.005)\ndef gamma_plot_setup():\n    shape = 5\n    scale = 0.5\n    fig, ax = plt.subplots()\n    y = gamma.pdf(x, shape, scale=scale)\n    line = ax.plot(x, y)\n    ax.set_ylim((0,0.5))\n    return fig, ax, line[0]\n\ndef gamma_update(shape, scale):\n    y = gamma.pdf(x, shape, scale=scale)\n    line.set_ydata(y)\n    fig.canvas.draw()\n    #clear_output(wait=True)\n    display(fig)"
 },
 {
  "cell_type": "code",
  "execution_count": null,
  "metadata": {
   "collapsed": false
  },
  "outputs": [],
  "source": "fig, ax, line = gamma_plot_setup()\n"
 },
 {
  "cell_type": "code",
  "execution_count": null,
  "metadata": {
   "collapsed": false
  },
  "outputs": [],
  "source": "v = interactive(gamma_update, shape=(0.1, 10.0), scale=(0.3, 3.0))\ndisplay(v)\n"
 },
 {
  "cell_type": "markdown",
  "metadata": {},
  "source": "The interactive widget (a pair sliders in this case) doesn't get displayed. So, this won't work the\nway I wanted it to."
 },
 {
  "cell_type": "code",
  "execution_count": null,
  "metadata": {
   "collapsed": false
  },
  "outputs": [],
  "source": ""
 }
],"metadata":{"kernelspec":{"display_name":"Python 3","language":"python","name":"python3"}}, "nbformat": 4, "nbformat_minor": 0}