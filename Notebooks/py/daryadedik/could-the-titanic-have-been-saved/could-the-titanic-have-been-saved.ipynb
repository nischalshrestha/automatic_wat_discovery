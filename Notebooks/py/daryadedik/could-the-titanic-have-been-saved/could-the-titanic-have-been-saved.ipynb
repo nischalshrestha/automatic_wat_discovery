{
  "cells": [
    {
      "cell_type": "code",
      "execution_count": null,
      "metadata": {
        "_cell_guid": "409dd507-3bc0-4ed5-5c32-90d70ddcf8da"
      },
      "outputs": [],
      "source": [
        "# This Python 3 environment comes with many helpful analytics libraries installed\n",
        "# It is defined by the kaggle/python docker image: https://github.com/kaggle/docker-python\n",
        "# For example, here's several helpful packages to load in \n",
        "\n",
        "import numpy as np # linear algebra\n",
        "import matplotlib.pyplot as plt\n",
        "import seaborn as sns\n",
        "sns.set_style('whitegrid')\n",
        "%matplotlib inline\n",
        "\n",
        "import pandas as pd # data processing, CSV file I/O (e.g. pd.read_csv)\n",
        "from pandas import Series,DataFrame\n",
        "import collections as cln\n",
        "\n",
        "# machine learning\n",
        "from sklearn.linear_model import LogisticRegression\n",
        "from sklearn.svm import SVC, LinearSVC\n",
        "from sklearn.ensemble import RandomForestClassifier\n",
        "from sklearn.neighbors import KNeighborsClassifier\n",
        "from sklearn.naive_bayes import GaussianNB\n",
        "# Input data files are available in the \"../input/\" directory.\n",
        "# For example, running this (by clicking run or pressing Shift+Enter) will list the files in the input directory\n",
        "\n",
        "from subprocess import check_output\n",
        "print(check_output([\"ls\", \"../input\"]).decode(\"utf8\"))\n",
        "\n",
        "# Any results you write to the current directory are saved as output."
      ]
    },
    {
      "cell_type": "code",
      "execution_count": null,
      "metadata": {
        "_cell_guid": "7d5f30dc-9d38-dc1c-f942-d05439500513"
      },
      "outputs": [],
      "source": [
        "survived_color = '#6699ff'\n",
        "died_color = '#ff6666'\n",
        "\n",
        "na_string = 'NA'\n",
        "na_number = -1\n",
        "width = 0.35\n",
        "embarked_map = {'S': 'Southampton', 'C': 'Cherbourg', 'Q': 'Queenstown', na_string: 'N/A'}\n",
        "pclass_map = {1: 'First class', 2: 'Second class', 3: 'Third class'}"
      ]
    },
    {
      "cell_type": "code",
      "execution_count": null,
      "metadata": {
        "_cell_guid": "6bd14cf7-2a80-f9a2-fd54-d6cc4be996e9"
      },
      "outputs": [],
      "source": [
        "def ensure_na(d):\n",
        "    if not na_string in d:\n",
        "        d[na_string] = 0\n",
        "    return d"
      ]
    },
    {
      "cell_type": "code",
      "execution_count": null,
      "metadata": {
        "_cell_guid": "e75274e6-5dc8-19df-08fe-1cb477017577"
      },
      "outputs": [],
      "source": [
        "titanic_df = pd.read_csv(\"../input/train.csv\", dtype={\"Age\": np.float64}, )\n",
        "test_df    = pd.read_csv(\"../input/test.csv\", dtype={\"Age\": np.float64}, )\n",
        "idx_survived = titanic_df['Survived'] == 1\n",
        "idx_died = np.logical_not(idx_survived)\n",
        "\n",
        "titanic_df = titanic_df.drop(['PassengerId','Name','Ticket'], axis=1)\n",
        "test_df    = test_df.drop(['Name','Ticket'], axis=1)\n",
        "\n",
        "titanic_df[\"Embarked\"] = titanic_df[\"Embarked\"].fillna(na_string)\n",
        "titanic_df[\"Fare\"] = titanic_df[\"Fare\"].fillna(na_number)\n",
        "titanic_df[\"Age\"] = titanic_df[\"Age\"].fillna(na_number)"
      ]
    },
    {
      "cell_type": "code",
      "execution_count": null,
      "metadata": {
        "_cell_guid": "9779792f-a53d-abdd-dd64-2f472658e277"
      },
      "outputs": [],
      "source": [
        "# Embarked\n",
        "\n",
        "survived_embarked_counts = ensure_na(titanic_df[idx_survived].Embarked.value_counts())\n",
        "died_embarked_counts = ensure_na(titanic_df[idx_died].Embarked.value_counts())\n",
        "print(survived_embarked_counts)\n",
        "print(died_embarked_counts)\n",
        "assert(len(survived_embarked_counts) == len(died_embarked_counts))\n",
        "\n",
        "N = len(survived_embarked_counts)\n",
        "ind = np.arange(N) \n",
        "plot1 = plt.bar(ind, survived_embarked_counts, width, color=survived_color)\n",
        "plot2 = plt.bar(ind + width, died_embarked_counts, width, color=died_color)\n",
        "\n",
        "plt.ylabel('Number of people')\n",
        "plt.xlabel('Port of Embarkation')\n",
        "plt.xticks(ind + width, (embarked_map[k] for k in survived_embarked_counts.keys()))\n",
        "plt.legend((plot1[0], plot2[0]), ('survived', 'died'))\n",
        "plt.show()"
      ]
    },
    {
      "cell_type": "code",
      "execution_count": null,
      "metadata": {
        "_cell_guid": "7ee31e81-3ddd-cd22-0259-b06ae2ab7817"
      },
      "outputs": [],
      "source": [
        "# Embarked train/test get dummies\n",
        "\n",
        "embark_dummies_titanic  = pd.get_dummies(titanic_df['Embarked'])\n",
        "embark_dummies_test  = pd.get_dummies(test_df['Embarked'])\n",
        "\n",
        "titanic_df = titanic_df.join(embark_dummies_titanic)\n",
        "test_df    = test_df.join(embark_dummies_test)\n",
        "\n",
        "titanic_df.drop(['Embarked'], axis=1, inplace=True)\n",
        "test_df.drop(['Embarked'], axis=1, inplace=True)"
      ]
    },
    {
      "cell_type": "code",
      "execution_count": null,
      "metadata": {
        "_cell_guid": "4b5cb2d2-b20c-7621-b87a-fbee816e3f25"
      },
      "outputs": [],
      "source": [
        "# Fare\n",
        "fare_survived = titanic_df[idx_survived].Fare\n",
        "fare_died = titanic_df[idx_died].Fare\n",
        "\n",
        "minFare, maxFare = min(titanic_df.Fare), max(titanic_df.Fare)\n",
        "bins = np.linspace(minFare, maxFare, 25)\n",
        "\n",
        "fare_survived_counts, _ = np.histogram(fare_survived, bins)\n",
        "fare_died_counts, _ = np.histogram(fare_died, bins)\n",
        "\n",
        "plt.figure()\n",
        "plt.bar(bins[:-1], np.log10(fare_survived_counts), width=20, color=survived_color, label='Survived')\n",
        "plt.bar(bins[:-1], -np.log10(fare_died_counts), width=20, color=died_color, label='Died')\n",
        "plt.ylabel('Number of people')\n",
        "plt.xlabel('Ticket fare')\n",
        "plt.yticks(range(-3,4), (10**abs(k) for k in range(-3,4)))\n",
        "plt.legend()\n",
        "plt.show()"
      ]
    },
    {
      "cell_type": "code",
      "execution_count": null,
      "metadata": {
        "_cell_guid": "8f382804-ba94-21d5-2ded-fe49bec987b4"
      },
      "outputs": [],
      "source": [
        "# Pclass: 1 = 1st; 2 = 2nd; 3 = 3rd\n",
        "\n",
        "pclass_survived = titanic_df[idx_survived].Pclass\n",
        "pclass_died = titanic_df[idx_died].Pclass\n",
        "pclass_survived_counts = ensure_na(titanic_df[idx_survived].Pclass.value_counts())\n",
        "pclass_died_counts = ensure_na(titanic_df[idx_died].Pclass.value_counts())\n",
        "\n",
        "# we get no NA values fro Pclass feature\n",
        "# so we remove NA from plots and sort the rest of values by index\n",
        "pclass_survived_sorted = pclass_survived_counts[0:3].sort_index()\n",
        "pclass_died_sorted = pclass_died_counts[0:3].sort_index()\n",
        "\n",
        "N = len(pclass_survived_sorted)\n",
        "ind = np.arange(N)\n",
        "\n",
        "plot1 = plt.bar(ind, pclass_survived_sorted, width, color=survived_color, label='Survived')\n",
        "plot2 = plt.bar(ind + width, pclass_died_sorted, width, color=died_color, label='Died')\n",
        "\n",
        "plt.xlabel('Passenger Classes', fontsize=18)\n",
        "plt.ylabel('Number of people', fontsize=16)\n",
        "plt.legend(loc='upper center')\n",
        "plt.xticks(ind + width, (pclass_map[l] for l in pclass_survived_sorted.keys()))\n",
        "plt.show()"
      ]
    },
    {
      "cell_type": "code",
      "execution_count": null,
      "metadata": {
        "_cell_guid": "25aea4e3-fa35-6108-6ed3-95d3eff16faa"
      },
      "outputs": [],
      "source": [
        "# make dummies from Pclass feature\n",
        "\n",
        "pclass_dummies_titanic  = pd.get_dummies(titanic_df['Pclass'])\n",
        "pclass_dummies_test  = pd.get_dummies(test_df['Pclass'])\n",
        "pclass_dummies_titanic.columns = ['Class_1','Class_2','Class_3']\n",
        "pclass_dummies_test.columns = ['Class_1','Class_2','Class_3']\n",
        "\n",
        "titanic_df = titanic_df.join(pclass_dummies_titanic)\n",
        "test_df    = test_df.join(pclass_dummies_test)\n",
        "\n",
        "titanic_df.drop(['Pclass'], axis=1, inplace=True)\n",
        "test_df.drop(['Pclass'], axis=1, inplace=True)"
      ]
    },
    {
      "cell_type": "code",
      "execution_count": null,
      "metadata": {
        "_cell_guid": "ef8d0c39-56f7-8f67-526c-5ca9859c2c34"
      },
      "outputs": [],
      "source": [
        "# Age\n",
        "age_survived = titanic_df[idx_survived].Age\n",
        "age_died = titanic_df[idx_died].Age\n",
        "\n",
        "minAge, maxAge = min(titanic_df.Age), max(titanic_df.Age)\n",
        "bins = np.linspace(minAge, maxAge, 100)\n",
        "\n",
        "age_survived_counts, _ = np.histogram(age_survived, bins)\n",
        "age_died_counts, _ = np.histogram(age_died, bins)\n",
        "\n",
        "plt.bar(bins[:-1], np.log10(age_survived_counts), color=survived_color, label='Survived')\n",
        "plt.bar(bins[:-1], -np.log10(age_died_counts), color=died_color, label='Died')\n",
        "plt.yticks(range(-3,4), (10**abs(k) for k in range(-3,4)))\n",
        "plt.legend(loc='upper right')\n",
        "plt.xlabel('Age', fontsize=18)\n",
        "plt.ylabel('Number of people', fontsize=16)\n",
        "plt.show()"
      ]
    },
    {
      "cell_type": "code",
      "execution_count": null,
      "metadata": {
        "_cell_guid": "166d5997-14d3-d6dd-592f-c8c02a1c28a2"
      },
      "outputs": [],
      "source": [
        "# New feature for Age\n",
        "# 0/1 - depending on whether Age exists or not\n",
        "\n",
        "titanic_df['AgeExists'] = titanic_df['Age']\n",
        "\n",
        "#titanic_df[titanic_df['Age'] > -1]['AgeExists'] = 1.0\n",
        "#titanic_df[titanic_df['Age'] == -1]['AgeExists'] = 0.0\n",
        "\n",
        "titanic_df.AgeExists.loc[titanic_df['AgeExists'] > -1] = 1.0\n",
        "\n",
        "#titanic_df.AgeExists[titanic_df.AgeExists > -1] = 1.0\n",
        "#titanic_df.AgeExists[titanic_df.AgeExists == -1] = 0.0\n",
        "print(titanic_df)"
      ]
    }
  ],
  "metadata": {
    "_change_revision": 0,
    "_is_fork": false,
    "kernelspec": {
      "display_name": "Python 3",
      "language": "python",
      "name": "python3"
    },
    "language_info": {
      "codemirror_mode": {
        "name": "ipython",
        "version": 3
      },
      "file_extension": ".py",
      "mimetype": "text/x-python",
      "name": "python",
      "nbconvert_exporter": "python",
      "pygments_lexer": "ipython3",
      "version": "3.5.2"
    }
  },
  "nbformat": 4,
  "nbformat_minor": 0
}