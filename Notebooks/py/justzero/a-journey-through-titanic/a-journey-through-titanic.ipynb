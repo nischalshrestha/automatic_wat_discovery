{
  "cells": [
    {
      "cell_type": "markdown",
      "metadata": {
        "_cell_guid": "54a23ee1-4d0d-3f54-02c5-73cecad8544c"
      },
      "source": [
        "## \u4e00\u3001\u5bfc\u5165\u5de5\u5177\u5e93"
      ]
    },
    {
      "cell_type": "code",
      "execution_count": null,
      "metadata": {
        "_cell_guid": "cfdaacbc-23a3-423d-8d4d-120939ac7383"
      },
      "outputs": [],
      "source": [
        "# pandas\n",
        "import pandas as pd\n",
        "from pandas import Series,DataFrame\n",
        "\n",
        "# numpy, matplotlib, seaborn\n",
        "import numpy as np\n",
        "import matplotlib.pyplot as plt\n",
        "import seaborn as sns\n",
        "sns.set_style('whitegrid')\n",
        "%matplotlib inline\n",
        "\n",
        "# machine learning\n",
        "from xgboost import XGBClassifier\n",
        "from sklearn.linear_model import LogisticRegression\n",
        "from sklearn.svm import LinearSVC\n",
        "from sklearn.ensemble import RandomForestClassifier\n",
        "from sklearn.neighbors import KNeighborsClassifier\n",
        "\n",
        "from sklearn.model_selection import train_test_split\n",
        "from sklearn.metrics import classification_report"
      ]
    },
    {
      "cell_type": "markdown",
      "metadata": {
        "_cell_guid": "169154f8-40e1-3401-12bd-54a1edf154ad"
      },
      "source": [
        "## \u4e8c\u3001\u52a0\u8f7d\u6570\u636e"
      ]
    },
    {
      "cell_type": "code",
      "execution_count": null,
      "metadata": {
        "_cell_guid": "3ab4c525-a5cb-4183-9468-c1dd005c4c78"
      },
      "outputs": [],
      "source": [
        "# \u52a0\u8f7d\u8bad\u7ec3 & \u9884\u6d4b\u6570\u636e\u4e3a DataFrame\n",
        "titanic_df = pd.read_csv(\"../input/train.csv\")\n",
        "test_df    = pd.read_csv(\"../input/test.csv\")\n",
        "\n",
        "# \u9884\u89c8\u6570\u636e\n",
        "titanic_df.head()"
      ]
    },
    {
      "cell_type": "code",
      "execution_count": null,
      "metadata": {
        "_cell_guid": "86179af8-3cb4-4661-84ea-addd2c7679d4"
      },
      "outputs": [],
      "source": [
        "titanic_df.info()\n",
        "print(\"-----------------------------------------------\")\n",
        "test_df.info()"
      ]
    },
    {
      "cell_type": "code",
      "execution_count": null,
      "metadata": {
        "_cell_guid": "7faffa7c-9776-43fb-9c01-786630f237ab"
      },
      "outputs": [],
      "source": [
        "# \u5220\u9664\u4e0d\u9700\u8981\u7684\u5217, \u8fd9\u4e9b\u5217\u5bf9\u5206\u6790\u548c\u9884\u6d4b\u8d77\u4e0d\u5230\u4ec0\u4e48\u4f5c\u7528\n",
        "titanic_df = titanic_df.drop(['PassengerId','Name','Ticket'], axis=1)\n",
        "test_df    = test_df.drop(['Name','Ticket'], axis=1)"
      ]
    },
    {
      "cell_type": "markdown",
      "metadata": {
        "_cell_guid": "1f6866b6-67b2-c372-3b0e-2f6870e35f70"
      },
      "source": [
        "## \u4e09\u3001\u63a2\u7d22\u7279\u5f81"
      ]
    },
    {
      "cell_type": "code",
      "execution_count": null,
      "metadata": {
        "_cell_guid": "b1441ec8-7d77-4a69-990b-26e0b1e89b68"
      },
      "outputs": [],
      "source": [
        "# Embarked\uff08\u4e0a\u8239\u7684\u6e2f\u53e3\uff09\n",
        "\n",
        "# \u7528\u6700\u5e38\u51fa\u73b0 \"S\" \u586b\u5145 titanic_df.Embarker \u4e2d\u7684\u7f3a\u5931\u503c\n",
        "titanic_df[\"Embarked\"] = titanic_df[\"Embarked\"].fillna(\"S\")\n",
        "\n",
        "# plot\n",
        "sns.factorplot('Embarked','Survived', data=titanic_df,size=4,aspect=3)\n",
        "\n",
        "fig, (axis1,axis2,axis3) = plt.subplots(1,3,figsize=(15,5))\n",
        "\n",
        "# sns.factorplot('Embarked',data=titanic_df,kind='count',order=['S','C','Q'],ax=axis1)\n",
        "# sns.factorplot('Survived',hue=\"Embarked\",data=titanic_df,kind='count',order=[1,0],ax=axis2)\n",
        "sns.countplot(x='Embarked', data=titanic_df, ax=axis1)\n",
        "sns.countplot(x='Survived', hue=\"Embarked\", data=titanic_df, order=[1,0], ax=axis2)\n",
        "\n",
        "# group by embarked, and get the mean for survived passengers for each value in Embarked\n",
        "embark_perc = titanic_df[[\"Embarked\", \"Survived\"]].groupby(['Embarked'],as_index=False).mean()\n",
        "sns.barplot(x='Embarked', y='Survived', data=embark_perc,order=['S','C','Q'],ax=axis3)\n",
        "\n",
        "# Either to consider Embarked column in predictions,\n",
        "# and remove \"S\" dummy variable, \n",
        "# and leave \"C\" & \"Q\", since they seem to have a good rate for Survival.\n",
        "\n",
        "# OR, don't create dummy variables for Embarked column, just drop it, \n",
        "# because logically, Embarked doesn't seem to be useful in prediction.\n",
        "\n",
        "embark_dummies_titanic  = pd.get_dummies(titanic_df['Embarked'])\n",
        "embark_dummies_titanic.drop(['S'], axis=1, inplace=True)\n",
        "\n",
        "embark_dummies_test  = pd.get_dummies(test_df['Embarked'])\n",
        "embark_dummies_test.drop(['S'], axis=1, inplace=True)\n",
        "\n",
        "titanic_df = titanic_df.join(embark_dummies_titanic)\n",
        "test_df    = test_df.join(embark_dummies_test)\n",
        "\n",
        "titanic_df.drop(['Embarked'], axis=1,inplace=True)\n",
        "test_df.drop(['Embarked'], axis=1,inplace=True)"
      ]
    },
    {
      "cell_type": "code",
      "execution_count": null,
      "metadata": {
        "_cell_guid": "b1a9e2e1-1718-4e6a-b037-a2c1eca1c003"
      },
      "outputs": [],
      "source": [
        "# Fare\uff08\u4e58\u5ba2\u8d39\uff09\n",
        "\n",
        "# \u7528\u4e2d\u4f4d\u6570\u586b\u5145 test_df.Fare \u4e2d\u7684\u7f3a\u5931\u503c\n",
        "test_df[\"Fare\"].fillna(test_df[\"Fare\"].median(), inplace=True)\n",
        "\n",
        "# \u5c06 Fare \u6570\u503c\u7c7b\u578b\u8f6c\u6362\u4e3a int\n",
        "titanic_df['Fare'] = titanic_df['Fare'].astype(int)\n",
        "test_df['Fare']    = test_df['Fare'].astype(int)\n",
        "\n",
        "# \u6839\u636e\u7968\u4ef7\u67e5\u770b\u5b58\u6d3b & \u672a\u5b58\u6d3b\u4e58\u5ba2\n",
        "fare_not_survived = titanic_df[\"Fare\"][titanic_df[\"Survived\"] == 0]\n",
        "fare_survived     = titanic_df[\"Fare\"][titanic_df[\"Survived\"] == 1]\n",
        "\n",
        "# \u8ba1\u7b97\u5b58\u6d3b/\u672a\u5b58\u6d3b\u4e58\u5ba2\u7968\u4ef7\u7684\u5e73\u5747\u503c\u548c\u6807\u51c6\u5dee\n",
        "avgerage_fare = DataFrame([fare_not_survived.mean(), fare_survived.mean()])\n",
        "std_fare      = DataFrame([fare_not_survived.std(), fare_survived.std()])\n",
        "\n",
        "# plot\n",
        "titanic_df['Fare'].plot(kind='hist', figsize=(15,3),bins=100, xlim=(0,50))\n",
        "\n",
        "avgerage_fare.index.names = std_fare.index.names = [\"Survived\"]\n",
        "avgerage_fare.plot(yerr=std_fare,kind='bar',legend=False)"
      ]
    },
    {
      "cell_type": "code",
      "execution_count": null,
      "metadata": {
        "_cell_guid": "22ab0b38-6285-4d65-bb3e-dc923caed94b"
      },
      "outputs": [],
      "source": [
        "# Age\uff08\u5e74\u9f84\uff09\n",
        "\n",
        "fig, (axis1,axis2) = plt.subplots(1,2,figsize=(15,4))\n",
        "axis1.set_title('Original Age values - Titanic') # \u521d\u59cb\u5e74\u9f84\u503c\n",
        "axis2.set_title('New Age values - Titanic')      # \u65b0\u5e74\u9f84\u503c\n",
        "\n",
        "# axis3.set_title('Original Age values - Test')\n",
        "# axis4.set_title('New Age values - Test')\n",
        "\n",
        "# \u8ba1\u7b97 titanic_df.Age \u7684\u5747\u503c\uff0c\u6807\u51c6\u5dee\u548c\u7a7a\u503c\u4e2a\u6570\n",
        "average_age_titanic   = titanic_df[\"Age\"].mean()\n",
        "std_age_titanic       = titanic_df[\"Age\"].std()\n",
        "count_nan_age_titanic = titanic_df[\"Age\"].isnull().sum()\n",
        "\n",
        "# \u8ba1\u7b97 test_df.Age \u7684\u5747\u503c\uff0c\u6807\u51c6\u5dee\u548c\u7a7a\u503c\u4e2a\u6570\n",
        "average_age_test   = test_df[\"Age\"].mean()\n",
        "std_age_test       = test_df[\"Age\"].std()\n",
        "count_nan_age_test = test_df[\"Age\"].isnull().sum()\n",
        "\n",
        "# \u5728 (mean +/- std) \u8303\u56f4\u5185\uff0c\u751f\u6210\u968f\u673a\u6570\n",
        "rand_1 = np.random.randint(average_age_titanic - std_age_titanic, average_age_titanic + std_age_titanic, size = count_nan_age_titanic)\n",
        "rand_2 = np.random.randint(average_age_test - std_age_test, average_age_test + std_age_test, size = count_nan_age_test)\n",
        "\n",
        "# plot \u521d\u59cb\u5e74\u9f84\u503c\n",
        "# NOTE: \u5220\u9664\u6240\u6709\u7a7a\u503c\uff0c\u6570\u503c\u7c7b\u578b\u8f6c\u6362\u4e3a int\n",
        "titanic_df['Age'].dropna().astype(int).hist(bins=70, ax=axis1)\n",
        "# test_df['Age'].dropna().astype(int).hist(bins=70, ax=axis1)\n",
        "\n",
        "# \u7528\u751f\u6210\u7684\u968f\u673a\u6570\u586b\u5145 Age \u5217\u7684\u7f3a\u5931\u503c\n",
        "titanic_df[\"Age\"][np.isnan(titanic_df[\"Age\"])] = rand_1\n",
        "test_df[\"Age\"][np.isnan(test_df[\"Age\"])] = rand_2\n",
        "\n",
        "# \u6570\u503c\u7c7b\u578b\u8f6c\u6362\u4e3a int\n",
        "titanic_df['Age'] = titanic_df['Age'].astype(int)\n",
        "test_df['Age']    = test_df['Age'].astype(int)\n",
        "        \n",
        "# plot \u65b0\u5e74\u9f84\u503c\n",
        "titanic_df['Age'].hist(bins=70, ax=axis2)\n",
        "# test_df['Age'].hist(bins=70, ax=axis4)"
      ]
    },
    {
      "cell_type": "code",
      "execution_count": null,
      "metadata": {
        "_cell_guid": "952009ab-555c-46f8-b419-182f2de39ca0"
      },
      "outputs": [],
      "source": [
        "# .... continue with plot Age column\n",
        "\n",
        "# \u9762\u79ef\u8868\u793a\u5b58\u6d3b/\u672a\u5b58\u6d3b\u4e58\u5ba2\u6570\n",
        "#facet = sns.FacetGrid(titanic_df, hue=\"Survived\",aspect=4)\n",
        "#facet.map(sns.kdeplot,'Age',shade=True)\n",
        "#facet.set(xlim=(0, titanic_df['Age'].max()))\n",
        "#facet.add_legend()\n",
        "\n",
        "# \u6bcf\u4e2a\u5e74\u9f84\u4e58\u5ba2\u7684\u5b58\u6d3b\u6982\u7387\n",
        "fig, axis1 = plt.subplots(1,1,figsize=(18,4))\n",
        "average_age = titanic_df[[\"Age\", \"Survived\"]].groupby(['Age'],as_index=False).mean()\n",
        "sns.barplot(x='Age', y='Survived', data=average_age)"
      ]
    },
    {
      "cell_type": "code",
      "execution_count": null,
      "metadata": {
        "_cell_guid": "ef0f0c9d-6b45-4cb0-9026-86b764084398"
      },
      "outputs": [],
      "source": [
        "# Cabin\uff08\u8239\u8231\u53f7\uff09\n",
        "\n",
        "# \u6b64\u5217\u6709\u5927\u91cf\u7684\u7a7a\u503c\uff0c\u6240\u4ee5\u5b83\u4e0d\u4f1a\u5bf9\u9884\u6d4b\u4ea7\u751f\u660e\u663e\u7684\u5f71\u54cd\n",
        "titanic_df.drop(\"Cabin\", axis=1, inplace=True)\n",
        "test_df.drop(\"Cabin\", axis=1, inplace=True)"
      ]
    },
    {
      "cell_type": "code",
      "execution_count": null,
      "metadata": {
        "_cell_guid": "a89c93bb-e45b-44ce-8dee-430f584f4ed4"
      },
      "outputs": [],
      "source": [
        "# Family\uff08\u5bb6\u5ead\uff09\n",
        "\n",
        "# \u66ff\u6362 Parch & SibSp \u5217\uff08\u662f\u5426\u7236\u6bcd\u5b69\u5b50\u5728\u8239\u4e0a\uff0c\u662f\u5426\u914d\u5076\u5144\u5f1f\u59d0\u59b9\u5728\u8239\u4e0a\uff09, \n",
        "# \u6211\u53ef\u4ee5\u66ff\u6362\u4e3a\u4e00\u5217\u4e3a\u662f\u5426\u6709\u201c\u4eb2\u4eba\u201d\u5728\u8239\u4e0a\n",
        "# \u610f\u5473\u7740\uff1a\u5982\u679c\u6709\u4eb2\u4eba\u5728\u8239\u4e0a\uff0c\u5b58\u6d3b\u7684\u51e0\u7387\u4f1a\u53d7\u5230\u5f71\u54cd\n",
        "titanic_df['Family'] =  titanic_df[\"Parch\"] + titanic_df[\"SibSp\"]\n",
        "titanic_df['Family'].loc[titanic_df['Family'] > 0] = 1\n",
        "titanic_df['Family'].loc[titanic_df['Family'] == 0] = 0\n",
        "\n",
        "test_df['Family'] =  test_df[\"Parch\"] + test_df[\"SibSp\"]\n",
        "test_df['Family'].loc[test_df['Family'] > 0] = 1\n",
        "test_df['Family'].loc[test_df['Family'] == 0] = 0\n",
        "\n",
        "# \u5220\u9664 Parch & SibSp \u5217\n",
        "titanic_df = titanic_df.drop(['SibSp','Parch'], axis=1)\n",
        "test_df    = test_df.drop(['SibSp','Parch'], axis=1)\n",
        "\n",
        "# plot\n",
        "fig, (axis1,axis2) = plt.subplots(1,2,sharex=True,figsize=(10,5))\n",
        "\n",
        "# sns.factorplot('Family',data=titanic_df,kind='count',ax=axis1)\n",
        "sns.countplot(x='Family', data=titanic_df, order=[1,0], ax=axis1)\n",
        "\n",
        "# \u662f\u5426\u6709\u5bb6\u5ead\u6210\u5458\u5728\u8239\u4e0a\uff0c\u4e58\u5ba2\u5b58\u6d3b\u7684\u5e73\u5747\u503c\n",
        "family_perc = titanic_df[[\"Family\", \"Survived\"]].groupby(['Family'],as_index=False).mean()\n",
        "sns.barplot(x='Family', y='Survived', data=family_perc, order=[1,0], ax=axis2)\n",
        "\n",
        "axis1.set_xticklabels([\"With Family\",\"Alone\"], rotation=0)"
      ]
    },
    {
      "cell_type": "code",
      "execution_count": null,
      "metadata": {
        "_cell_guid": "23c2f140-1dc0-48cd-a6e1-9786510b2606"
      },
      "outputs": [],
      "source": [
        "# Sex\uff08\u6027\u522b\uff09\n",
        "\n",
        "\n",
        "# \u6211\u4eec\u53ef\u4ee5\u770b\u51fa\uff0c\u5c0f\u5b69\uff08age < ~16\uff09\u4f3c\u4e4e\u6709\u7740\u5f88\u9ad8\u7684\u751f\u5b58\u673a\u4f1a\u3002\n",
        "# \u6240\u4ee5\u6211\u4eec\u53ef\u4ee5\u628a\u4e58\u5ba2\u5206\u4e3a\u7537\u4eba\u3001\u5973\u4eba\u548c\u5b69\u5b50\n",
        "def get_person(passenger):\n",
        "    age,sex = passenger\n",
        "    return 'child' if age < 16 else sex\n",
        "    \n",
        "titanic_df['Person'] = titanic_df[['Age','Sex']].apply(get_person,axis=1)\n",
        "test_df['Person']    = test_df[['Age','Sex']].apply(get_person,axis=1)\n",
        "\n",
        "# \u5f15\u5165 Person \u5217\u540e\uff0cSex \u5217\u4e0d\u5728\u9700\u8981\n",
        "titanic_df.drop(['Sex'],axis=1,inplace=True)\n",
        "test_df.drop(['Sex'],axis=1,inplace=True)\n",
        "\n",
        "# create dummy variables for Person column, & drop Male as it has the lowest average of survived passengers\n",
        "# \u4e3a Person \u5217\u521b\u5efa\u5047\u8bbe\u53d8\u91cf\uff0c\u5e76\u5220\u9664\u7537\u6027\u884c\uff08\u7537\u6027\u4e3a\u751f\u5b58\u51e0\u7387\u6700\u4f4e\u7684\u4eba\u7fa4\uff09\n",
        "person_dummies_titanic  = pd.get_dummies(titanic_df['Person'])\n",
        "person_dummies_titanic.columns = ['Child','Female','Male']\n",
        "person_dummies_titanic.drop(['Male'], axis=1, inplace=True)\n",
        "\n",
        "person_dummies_test  = pd.get_dummies(test_df['Person'])\n",
        "person_dummies_test.columns = ['Child','Female','Male']\n",
        "person_dummies_test.drop(['Male'], axis=1, inplace=True)\n",
        "\n",
        "titanic_df = titanic_df.join(person_dummies_titanic)\n",
        "test_df    = test_df.join(person_dummies_test)\n",
        "\n",
        "fig, (axis1,axis2) = plt.subplots(1,2,figsize=(10,5))\n",
        "\n",
        "# sns.factorplot('Person',data=titanic_df,kind='count',ax=axis1)\n",
        "sns.countplot(x='Person', data=titanic_df, ax=axis1)\n",
        "\n",
        "# average of survived for each Person(male, female, or child)\n",
        "person_perc = titanic_df[[\"Person\", \"Survived\"]].groupby(['Person'],as_index=False).mean()\n",
        "sns.barplot(x='Person', y='Survived', data=person_perc, ax=axis2, order=['male','female','child'])\n",
        "\n",
        "titanic_df.drop(['Person'],axis=1,inplace=True)\n",
        "test_df.drop(['Person'],axis=1,inplace=True)"
      ]
    },
    {
      "cell_type": "code",
      "execution_count": null,
      "metadata": {
        "_cell_guid": "0f126c1f-74b8-4063-8ac0-f44e6b8fc0bd"
      },
      "outputs": [],
      "source": [
        "# Pclass\uff08\u8239\u7968\u7c7b\u522b\uff09\n",
        "\n",
        "# sns.factorplot('Pclass',data=titanic_df,kind='count',order=[1,2,3])\n",
        "sns.factorplot('Pclass','Survived',order=[1,2,3], data=titanic_df,size=5)\n",
        "\n",
        "# create dummy variables for Pclass column, & drop 3rd class as it has the lowest average of survived passengers\n",
        "pclass_dummies_titanic  = pd.get_dummies(titanic_df['Pclass'])\n",
        "pclass_dummies_titanic.columns = ['Class_1','Class_2','Class_3']\n",
        "pclass_dummies_titanic.drop(['Class_3'], axis=1, inplace=True)\n",
        "\n",
        "pclass_dummies_test  = pd.get_dummies(test_df['Pclass'])\n",
        "pclass_dummies_test.columns = ['Class_1','Class_2','Class_3']\n",
        "pclass_dummies_test.drop(['Class_3'], axis=1, inplace=True)\n",
        "\n",
        "titanic_df.drop(['Pclass'],axis=1,inplace=True)\n",
        "test_df.drop(['Pclass'],axis=1,inplace=True)\n",
        "\n",
        "titanic_df = titanic_df.join(pclass_dummies_titanic)\n",
        "test_df    = test_df.join(pclass_dummies_test)"
      ]
    },
    {
      "cell_type": "markdown",
      "metadata": {
        "_cell_guid": "8c1eb2ac-68dd-71bb-594e-efbafbd07ce2"
      },
      "source": [
        "## \u56db\u3001\u6a21\u578b\u6027\u80fd\u8bc4\u4f30"
      ]
    },
    {
      "cell_type": "code",
      "execution_count": null,
      "metadata": {
        "_cell_guid": "f85a090c-59de-ba41-ff54-c9fd7fa956d4"
      },
      "outputs": [],
      "source": [
        "X_train, X_test, y_train, y_test = train_test_split(\n",
        "    titanic_df.drop(\"Survived\",axis=1), titanic_df[\"Survived\"],\n",
        "    train_size=0.25, random_state=33)\n",
        "\n",
        "#X_train = np.array(X_train, dtype=np.int32).reshape( (len(X_train), 9) )"
      ]
    },
    {
      "cell_type": "code",
      "execution_count": null,
      "metadata": {
        "_cell_guid": "da685aa0-b0cb-b177-4822-b0b69d5f7e24"
      },
      "outputs": [],
      "source": [
        "# Logistic Regression\n",
        "\n",
        "lr = LogisticRegression()\n",
        "lr.fit(X_train, y_train)\n",
        "lr_y_pred = lr.predict(X_test)\n",
        "print(lr.score(X_test, y_test))\n",
        "print(classification_report(lr_y_pred, y_test))"
      ]
    },
    {
      "cell_type": "code",
      "execution_count": null,
      "metadata": {
        "_cell_guid": "aa7031d0-f9d3-46dd-4b7d-04a752262e5c"
      },
      "outputs": [],
      "source": [
        "# Support Vector Machines\n",
        "\n",
        "lsvc = LinearSVC()\n",
        "lsvc.fit(X_train, y_train)\n",
        "lsvc_y_pred = lsvc.predict(X_test)\n",
        "print(lsvc.score(X_test, y_test))\n",
        "print(classification_report(lsvc_y_pred, y_test))"
      ]
    },
    {
      "cell_type": "code",
      "execution_count": null,
      "metadata": {
        "_cell_guid": "6cecff0d-df3c-ce19-2b08-e320b96125d0"
      },
      "outputs": [],
      "source": [
        "# Random Forests\n",
        "\n",
        "rfc = RandomForestClassifier(n_estimators=100)\n",
        "rfc.fit(X_train, y_train)\n",
        "rfc_y_pred = rfc.predict(X_test)\n",
        "print(rfc.score(X_test, y_test))\n",
        "print(classification_report(rfc_y_pred, y_test))"
      ]
    },
    {
      "cell_type": "code",
      "execution_count": null,
      "metadata": {
        "_cell_guid": "1d444e16-408a-3fc6-f52d-ffc5d74f41e8"
      },
      "outputs": [],
      "source": [
        "# # K-nearest-Neighbors\n",
        "\n",
        "# knn = KNeighborsClassifier(n_neighbors = 3)\n",
        "# knn.fit(X_train, y_train)\n",
        "# knn_y_pred = knn.predict(X_test)\n",
        "# print(knn.score(X_test, y_test))\n",
        "# print(classification_report(knn_y_pred, y_test))"
      ]
    },
    {
      "cell_type": "code",
      "execution_count": null,
      "metadata": {
        "_cell_guid": "349866b4-f37e-5852-31b3-b64374ea361d"
      },
      "outputs": [],
      "source": [
        "# XGBoost Classifier\n",
        "\n",
        "xgbc = XGBClassifier()\n",
        "xgbc.fit(X_train, y_train)\n",
        "xgbc_y_pred = xgbc.predict(X_test)\n",
        "print(xgbc.score(X_test, y_test))\n",
        "print(classification_report(xgbc_y_pred, y_test))"
      ]
    },
    {
      "cell_type": "markdown",
      "metadata": {
        "_cell_guid": "30bffa98-d18c-76cb-bcf7-1e85bb8bfab5"
      },
      "source": [
        "## \u4e94\u3001\u5f00\u59cb\u6a21\u578b\u8bad\u7ec3\u53ca\u9884\u6d4b"
      ]
    },
    {
      "cell_type": "code",
      "execution_count": null,
      "metadata": {
        "_cell_guid": "5214295a-19cf-44b5-abe2-8989a0ed9670"
      },
      "outputs": [],
      "source": [
        "# define training and testing sets\n",
        "\n",
        "X_train = titanic_df.drop(\"Survived\",axis=1)\n",
        "Y_train = titanic_df[\"Survived\"]\n",
        "X_test  = test_df.drop(\"PassengerId\",axis=1).copy()"
      ]
    },
    {
      "cell_type": "code",
      "execution_count": null,
      "metadata": {
        "_cell_guid": "2b5424c0-196f-4d23-b1b8-1b10ac27be10"
      },
      "outputs": [],
      "source": [
        "# Logistic Regression\n",
        "\n",
        "lr = LogisticRegression()\n",
        "lr.fit(X_train, Y_train)\n",
        "lr_y_pred = lr.predict(X_test)"
      ]
    },
    {
      "cell_type": "code",
      "execution_count": null,
      "metadata": {
        "_cell_guid": "74988880-7f9e-45f4-b6b7-f7fd43a63f95"
      },
      "outputs": [],
      "source": [
        "# Support Vector Machines\n",
        "\n",
        "lsvc = LinearSVC()\n",
        "lsvc.fit(X_train, Y_train)\n",
        "lsvc_y_pred = lsvc.predict(X_test)"
      ]
    },
    {
      "cell_type": "code",
      "execution_count": null,
      "metadata": {
        "_cell_guid": "0f8b05ff-c21e-4e0e-975d-21af19c6b6b3"
      },
      "outputs": [],
      "source": [
        "# Random Forests\n",
        "\n",
        "rfc = RandomForestClassifier(n_estimators=100)\n",
        "rfc.fit(X_train, Y_train)\n",
        "rfc_y_pred = rfc.predict(X_test)"
      ]
    },
    {
      "cell_type": "code",
      "execution_count": null,
      "metadata": {
        "_cell_guid": "499918bf-8ba4-4a79-b8d8-4c26ece9a3b8"
      },
      "outputs": [],
      "source": [
        "# K-nearest-Neighbors\n",
        "\n",
        "# knn = KNeighborsClassifier(n_neighbors = 3)\n",
        "# knn.fit(X_train, Y_train)\n",
        "# knn_y_pred = knn.predict(X_test)"
      ]
    },
    {
      "cell_type": "code",
      "execution_count": null,
      "metadata": {
        "_cell_guid": "5cd3e64d-0501-9158-78d8-f0c434c88162"
      },
      "outputs": [],
      "source": [
        "# XGBoost Classifier\n",
        "\n",
        "xgbc = XGBClassifier()\n",
        "xgbc.fit(X_train, Y_train)\n",
        "xgbc_y_pred = xgbc.predict(X_test)"
      ]
    },
    {
      "cell_type": "code",
      "execution_count": null,
      "metadata": {
        "_cell_guid": "26dd2732-b34f-4177-8786-8794537494e1"
      },
      "outputs": [],
      "source": [
        "# \u4f7f\u7528\u903b\u8f91\u56de\u5f52\u83b7\u5f97\u6bcf\u4e2a\u7279\u5f81\u7684\u76f8\u5173\u7cfb\u6570\n",
        "coeff_df = DataFrame(titanic_df.columns.delete(0))\n",
        "coeff_df.columns = ['Features']\n",
        "coeff_df[\"Coefficient Estimate\"] = pd.Series(lr.coef_[0])\n",
        "\n",
        "# preview\n",
        "coeff_df"
      ]
    },
    {
      "cell_type": "markdown",
      "metadata": {
        "_cell_guid": "7b7f8b25-5f7c-960a-bb5e-0771dd299116"
      },
      "source": [
        "## \u516d\u3001\u4fdd\u5b58\u9884\u6d4b\u7ed3\u679c"
      ]
    },
    {
      "cell_type": "code",
      "execution_count": null,
      "metadata": {
        "_cell_guid": "bf28672b-9264-4d5a-95f8-47effc0e2e4c"
      },
      "outputs": [],
      "source": [
        "Y_pred = lr_y_pred\n",
        "\n",
        "submission = pd.DataFrame({\n",
        "        \"PassengerId\": test_df[\"PassengerId\"],\n",
        "        \"Survived\": Y_pred\n",
        "    })\n",
        "submission.to_csv('lr_submission_titanic.csv', index=False)"
      ]
    },
    {
      "cell_type": "code",
      "execution_count": null,
      "metadata": {
        "_cell_guid": "b38fed03-07a4-5a73-24ea-5fde4d0e4700"
      },
      "outputs": [],
      "source": [
        "Y_pred = lsvc_y_pred\n",
        "\n",
        "submission = pd.DataFrame({\n",
        "        \"PassengerId\": test_df[\"PassengerId\"],\n",
        "        \"Survived\": Y_pred\n",
        "    })\n",
        "submission.to_csv('lsvc_submission_titanic.csv', index=False)"
      ]
    },
    {
      "cell_type": "code",
      "execution_count": null,
      "metadata": {
        "_cell_guid": "b6bf9be8-2de9-361f-2e2d-a2c5a663cf6e"
      },
      "outputs": [],
      "source": [
        "Y_pred = rfc_y_pred\n",
        "\n",
        "submission = pd.DataFrame({\n",
        "        \"PassengerId\": test_df[\"PassengerId\"],\n",
        "        \"Survived\": Y_pred\n",
        "    })\n",
        "submission.to_csv('rfc_submission_titanic.csv', index=False)"
      ]
    },
    {
      "cell_type": "code",
      "execution_count": null,
      "metadata": {
        "_cell_guid": "e20d4877-e6ca-9684-6f91-f999943c2ee6"
      },
      "outputs": [],
      "source": [
        "Y_pred = xgbc_y_pred\n",
        "\n",
        "submission = pd.DataFrame({\n",
        "        \"PassengerId\": test_df[\"PassengerId\"],\n",
        "        \"Survived\": Y_pred\n",
        "    })\n",
        "submission.to_csv('xgbc_submission_titanic.csv', index=False)"
      ]
    }
  ],
  "metadata": {
    "_change_revision": 0,
    "_is_fork": false,
    "kernelspec": {
      "display_name": "Python 3",
      "language": "python",
      "name": "python3"
    },
    "language_info": {
      "codemirror_mode": {
        "name": "ipython",
        "version": 3
      },
      "file_extension": ".py",
      "mimetype": "text/x-python",
      "name": "python",
      "nbconvert_exporter": "python",
      "pygments_lexer": "ipython3",
      "version": "3.6.0"
    }
  },
  "nbformat": 4,
  "nbformat_minor": 0
}