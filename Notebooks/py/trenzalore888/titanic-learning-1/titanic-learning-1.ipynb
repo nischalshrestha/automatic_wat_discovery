{
  "cells": [
    {
      "cell_type": "markdown",
      "metadata": {
        "_cell_guid": "1e017644-20d1-967f-d324-2b36da41c2b6"
      },
      "source": [
        "\n",
        "this is a combination of my learning from kaggle tutorials by Jeff Delaney,  Omar El Gabry\n",
        "\n",
        "1.\t**Objective:** Predict who survived the sinking of the Titanic\n",
        "2.\t**type of machine learning:** Supervised classification\n",
        "3.\t**Suitable models**: Random Forest, KNN, SVM (see cheat sheet)**\n",
        "4.\t**Do I have the data or is data scraping needed:** Already have data\n",
        "5.\t**Does data need to be split into train and test?:** No, already done.\n",
        "6.\t**Load data into Pandas using pd.read_csv(\"\")**"
      ]
    },
    {
      "cell_type": "code",
      "execution_count": null,
      "metadata": {
        "_cell_guid": "d2824c59-8df7-a6fc-958c-399cd0450104"
      },
      "outputs": [],
      "source": [
        "#6)Answer: Load data into Pandas using pd.read_csv(\"\")\n",
        "import pandas as pd\n",
        "import numpy as np\n",
        "import math\n",
        "import matplotlib.pyplot as plt\n",
        "import seaborn as sns\n",
        "sns.set_style('whitegrid')\n",
        "%matplotlib inline\n",
        "\n",
        "from pandas import Series,DataFrame\n",
        "    \n",
        "train = pd.read_csv(\"../input/train.csv\")\n",
        "test  = pd.read_csv(\"../input/test.csv\")"
      ]
    },
    {
      "cell_type": "markdown",
      "metadata": {
        "_cell_guid": "cdb365b3-d8ab-18f0-b434-cc40515457b4"
      },
      "source": [
        "**7) Determine which column in your data is the target variable using train.head()**"
      ]
    },
    {
      "cell_type": "code",
      "execution_count": null,
      "metadata": {
        "_cell_guid": "bd013bae-6f82-d70c-36c0-d5505aafa034"
      },
      "outputs": [],
      "source": [
        "#7.Answer) Determine which column in your data is the target variable using train.head()\n",
        "train.head()"
      ]
    },
    {
      "cell_type": "markdown",
      "metadata": {
        "_cell_guid": "770676fb-b376-fcc9-86a5-10facb015fcc"
      },
      "source": [
        "**7.answer: target variable: survived**"
      ]
    },
    {
      "cell_type": "markdown",
      "metadata": {
        "_cell_guid": "e242dac0-eaec-76ca-52a3-ee5911efa30a"
      },
      "source": [
        "**8. How many classes are there in the target variable?**"
      ]
    },
    {
      "cell_type": "code",
      "execution_count": null,
      "metadata": {
        "_cell_guid": "37f578c9-4c22-2fd2-fa0b-7c683a34525a"
      },
      "outputs": [],
      "source": [
        "#8)Answer: How many classes are there in the target variable?\n",
        "SurvivedorNot= train['Survived'].value_counts(dropna=False)\n",
        "print(SurvivedorNot)"
      ]
    },
    {
      "cell_type": "markdown",
      "metadata": {
        "_cell_guid": "23ddbd8d-72fc-66de-54cd-1571a13321bb"
      },
      "source": [
        "**9)Is the data imbalanced? (ie, the target variable)**"
      ]
    },
    {
      "cell_type": "code",
      "execution_count": null,
      "metadata": {
        "_cell_guid": "5f6e1389-9a6b-e1e6-df5c-745862a81cb9"
      },
      "outputs": [],
      "source": [
        "testtotal= print (len(train.index)) \n",
        "traintotal=print (len(test.index)) \n"
      ]
    },
    {
      "cell_type": "markdown",
      "metadata": {
        "_cell_guid": "0b06feb7-e5b9-b397-3aeb-cea5b48cc0cf"
      },
      "source": [
        "**Fixing missing data:**  Do .info() on all data frames to find missing values.  You can tell if there are missing/null/NaN values if their entries are lower (ie in this case, not 891 for train and not 418 for test)"
      ]
    },
    {
      "cell_type": "code",
      "execution_count": null,
      "metadata": {
        "_cell_guid": "23452fca-3510-c90e-ae5e-5c6f94a37491"
      },
      "outputs": [],
      "source": [
        "test.info()\n",
        "train.info()"
      ]
    },
    {
      "cell_type": "code",
      "execution_count": null,
      "metadata": {
        "_cell_guid": "44fe97ad-80fd-b45a-342c-15f8e161864a"
      },
      "outputs": [],
      "source": [
        "testtotal= print (len(train.index)) \n",
        "traintotal=print (len(test.index)) "
      ]
    },
    {
      "cell_type": "code",
      "execution_count": null,
      "metadata": {
        "_cell_guid": "2afc5774-a6f5-3e51-3dd5-c6ac51a5ed8e"
      },
      "outputs": [],
      "source": [
        "traintotal=(len(train.index))\n",
        "print(\"there are\", traintotal,\"rows in the train data\")\n",
        "\n",
        "testtotal=(len(test.index))\n",
        "print(\"there are {} rows in the test data\".format(testtotal))"
      ]
    },
    {
      "cell_type": "code",
      "execution_count": null,
      "metadata": {
        "_cell_guid": "a8ca7cc2-3136-1023-6320-efdb128ccbca"
      },
      "outputs": [],
      "source": [
        "Survialcount= train.Survived[train.Survived > 0].sum()\n",
        "Survialcountpercentage=(Survialcount/traintotal)*100\n",
        "print(Survialcountpercentage)"
      ]
    },
    {
      "cell_type": "code",
      "execution_count": null,
      "metadata": {
        "_cell_guid": "3df57634-2e92-8298-4af3-5c24a9dfc103"
      },
      "outputs": [],
      "source": [
        "survivalcountrounded= np.ceil(Survialcountpercentage)"
      ]
    },
    {
      "cell_type": "code",
      "execution_count": null,
      "metadata": {
        "_cell_guid": "a46f26fc-fb20-ad18-f6bd-570cb1549eee"
      },
      "outputs": [],
      "source": [
        "      \n",
        "print(\"{}percent survived\".format(survivalcountrounded))"
      ]
    },
    {
      "cell_type": "code",
      "execution_count": null,
      "metadata": {
        "_cell_guid": "0bb46eba-6a88-e396-e70d-d27de8eb0586"
      },
      "outputs": [],
      "source": [
        "\n",
        "\n",
        "print(\" \",survivalcountrounded,\"survived\")"
      ]
    },
    {
      "cell_type": "code",
      "execution_count": null,
      "metadata": {
        "_cell_guid": "2c46df81-ee37-74f3-29e2-70974ebc83c1"
      },
      "outputs": [],
      "source": [
        ""
      ]
    },
    {
      "cell_type": "code",
      "execution_count": null,
      "metadata": {
        "_cell_guid": "42e2d9a3-798d-37e7-0455-24989c436d12"
      },
      "outputs": [],
      "source": [
        "Embarked_classes_count= train['Embarked'].value_counts(dropna=False)"
      ]
    },
    {
      "cell_type": "code",
      "execution_count": null,
      "metadata": {
        "_cell_guid": "11f7e4a4-744e-d565-f615-27d06f973f89"
      },
      "outputs": [],
      "source": [
        "Count_of_each_cabin_classes = train['Cabin'].value_counts(dropna=False)"
      ]
    },
    {
      "cell_type": "code",
      "execution_count": null,
      "metadata": {
        "_cell_guid": "0c9401ee-8c77-b82b-a051-10292f6283de"
      },
      "outputs": [],
      "source": [
        "print(Embarked_classes_count)"
      ]
    },
    {
      "cell_type": "code",
      "execution_count": null,
      "metadata": {
        "_cell_guid": "06def5ef-0fab-0f56-2eaa-a6166a34ffe2"
      },
      "outputs": [],
      "source": [
        "print (Count_of_each_cabin_classes)"
      ]
    },
    {
      "cell_type": "code",
      "execution_count": null,
      "metadata": {
        "_cell_guid": "34d82a67-ddfc-745e-feae-e3509c030cc8"
      },
      "outputs": [],
      "source": [
        "print(len(train.Cabin))"
      ]
    },
    {
      "cell_type": "code",
      "execution_count": null,
      "metadata": {
        "_cell_guid": "78dfce55-782c-fc41-ad7e-de772726d8f6"
      },
      "outputs": [],
      "source": [
        "print(len(train.Embarked))"
      ]
    },
    {
      "cell_type": "code",
      "execution_count": null,
      "metadata": {
        "_cell_guid": "e9a1ac21-092b-0660-4d8a-67dedbe3d07d"
      },
      "outputs": [],
      "source": [
        "train.count()"
      ]
    },
    {
      "cell_type": "code",
      "execution_count": null,
      "metadata": {
        "_cell_guid": "c785ced0-e1d8-af40-1251-f05f055c5350"
      },
      "outputs": [],
      "source": [
        "train.isnull().sum()"
      ]
    },
    {
      "cell_type": "code",
      "execution_count": null,
      "metadata": {
        "_cell_guid": "abb4b271-584a-fdd5-480e-f1abc1b13efd"
      },
      "outputs": [],
      "source": [
        "test.isnull().sum()"
      ]
    },
    {
      "cell_type": "code",
      "execution_count": null,
      "metadata": {
        "_cell_guid": "fdfcac52-8edf-9979-68de-3c889308d906"
      },
      "outputs": [],
      "source": [
        "embarkedNULL= train[\"Embarked\"].isnull().sum()\n",
        "cabinNULL=train[\"Cabin\"].isnull().sum()\n",
        "AgeNULL=train[\"Age\"].isnull().sum()\n",
        "\n",
        "print(embarkedNULL)\n",
        "print(cabinNULL)\n",
        "print(AgeNULL)"
      ]
    },
    {
      "cell_type": "code",
      "execution_count": null,
      "metadata": {
        "_cell_guid": "24085800-3baa-7018-7103-ffad29ab964b"
      },
      "outputs": [],
      "source": [
        ""
      ]
    },
    {
      "cell_type": "code",
      "execution_count": null,
      "metadata": {
        "_cell_guid": "e7f20f99-8735-329d-bb04-bc05411a098a"
      },
      "outputs": [],
      "source": [
        "#a better version:\n",
        "\n",
        "embarkedNULL= train[\"Embarked\"].isnull().sum()\n",
        "cabinNULL=train[\"Cabin\"].isnull().sum()\n",
        "AgeNULL=train[\"Age\"].isnull().sum()\n",
        "\n",
        "print(\"Embarked has\"{} \"NaN values, which is\" .format(embarkedNULL))\n",
        "print(cabinNULL)\n",
        "print(AgeNULL)"
      ]
    },
    {
      "cell_type": "code",
      "execution_count": null,
      "metadata": {
        "_cell_guid": "dde58972-9013-6a57-bcf5-6ffda6c00173"
      },
      "outputs": [],
      "source": [
        "print (embarkedNULL)/len(train)*100\n",
        "print (cabinNULL)/len(train)*100\n",
        "print (AgeNULL)/len(train)*100"
      ]
    },
    {
      "cell_type": "markdown",
      "metadata": {
        "_cell_guid": "15b17970-5348-3bc3-8a5d-89804873069f"
      },
      "source": [
        "**List of variables missing data from TEST.csv:**\n",
        "1)AGE\n",
        "2)FARE\n",
        "3)CABIN\n",
        "\n",
        "**List of variables missing data from TRAIN.csv:**\n",
        "1)AGE\n",
        "2)CABIN\n",
        "3)EMBARKED"
      ]
    },
    {
      "cell_type": "markdown",
      "metadata": {
        "_cell_guid": "6666a881-c1e9-87e1-0c8f-6cd55c0a9703"
      },
      "source": [
        "FILLING IN MISSING DATA:\n",
        "------------------------"
      ]
    },
    {
      "cell_type": "code",
      "execution_count": null,
      "metadata": {
        "_cell_guid": "63c98f53-494e-196d-4600-bba75bfff347"
      },
      "outputs": [],
      "source": [
        "#how to do a standard bar chart in seaborn\n",
        "#call sns.countplot()\n",
        "#remember to state columnname first, then data=nameofyourpandasdataframe"
      ]
    },
    {
      "cell_type": "code",
      "execution_count": null,
      "metadata": {
        "_cell_guid": "e3a996cd-8b5a-c3fb-ca40-63d4ae60d6ab"
      },
      "outputs": [],
      "source": [
        "#EMBARKED\n",
        "#categorical, so have chosen the most frequent occurance which is s. \n",
        "train[\"Embarked\"] = train[\"Embarked\"].fillna(\"S\")\n"
      ]
    },
    {
      "cell_type": "markdown",
      "metadata": {
        "_cell_guid": "88ca07d4-177d-3b3e-af0f-3855f6cff158"
      },
      "source": [
        "**Bar chart 1: Feature(embarked) by categories**"
      ]
    },
    {
      "cell_type": "code",
      "execution_count": null,
      "metadata": {
        "_cell_guid": "f7050087-bf66-8c2d-b5a1-7598e2cfa52b"
      },
      "outputs": [],
      "source": [
        "#how to do a standard bar chart in seaborn\n",
        "#1)If missing only a few values,(NaN) fillna with the most common(best guess) \n",
        "#2)call sns.countplot()\n",
        "#3)remember to state columnname first, then data=nameofyourpandasdataframe\n",
        "sns.countplot(x='Embarked', data=train)"
      ]
    },
    {
      "cell_type": "markdown",
      "metadata": {
        "_cell_guid": "d8a804ba-905e-1ff7-1c05-c1079ddb1354"
      },
      "source": [
        "**Bar chart2:Feature(embarked) by categories, separated by target variable(survived)**\n",
        "\n",
        "This has two variables, as the target variable (survived) is now introduced."
      ]
    },
    {
      "cell_type": "code",
      "execution_count": null,
      "metadata": {
        "_cell_guid": "0364b614-2815-6502-7f35-c7978be24f9c"
      },
      "outputs": [],
      "source": [
        "sns.countplot(x='Survived', hue=\"Embarked\", data=train, order=[1,0])"
      ]
    },
    {
      "cell_type": "markdown",
      "metadata": {
        "_cell_guid": "3e95ccf0-338b-b560-d517-b573e1aa94f3"
      },
      "source": [
        "**barchart3:** Is based on a newly created column called embark_perc. \n",
        "it is **the mean/average of those who survived, by embarked**. \n",
        "It shows on average how many surived, depending on when the embarked. \n",
        "This way it doesnt matter if more survived from S simply because more from S."
      ]
    },
    {
      "cell_type": "code",
      "execution_count": null,
      "metadata": {
        "_cell_guid": "2af38c70-21a7-e022-9a3b-ffeb6530a110"
      },
      "outputs": [],
      "source": [
        "embark_perc = train[[\"Embarked\", \"Survived\"]].groupby(['Embarked'],as_index=False).mean()\n",
        "sns.barplot(x='Embarked', y='Survived', data=embark_perc,order=['S','C','Q'])"
      ]
    },
    {
      "cell_type": "code",
      "execution_count": null,
      "metadata": {
        "_cell_guid": "7bd0a4c5-c886-d212-478c-058760dbace9"
      },
      "outputs": [],
      "source": [
        " #Can also use fig, (axis1,axis2,axis3) =plt.subplots allows multiple bar charts.\n",
        "\n",
        "\n",
        "\n",
        "\n",
        "\n",
        "fig, (axis1,axis2,axis3) = plt.subplots(1,3,figsize=(15,5))\n",
        "\n",
        "sns.countplot(x='Embarked', data=train, ax=axis1)\n",
        "sns.countplot(x='Survived', hue=\"Embarked\", data=train, order=[1,0], ax=axis2)\n",
        "\n",
        "embark_perc = train[[\"Embarked\", \"Survived\"]].groupby(['Embarked'],as_index=False).mean()\n",
        "sns.barplot(x='Embarked', y='Survived', data=embark_perc,order=['S','C','Q'],ax=axis3)"
      ]
    },
    {
      "cell_type": "markdown",
      "metadata": {
        "_cell_guid": "03885506-7a05-b1f8-2c70-fb8c7ee14b98"
      },
      "source": [
        "**Visualising data to determine which variables need to be grouped** "
      ]
    },
    {
      "cell_type": "code",
      "execution_count": null,
      "metadata": {
        "_cell_guid": "a7801005-6557-29f8-7604-5d04fad04d68"
      },
      "outputs": [],
      "source": [
        "sns.barplot(x=\"Embarked\", y=\"Survived\", hue=\"Sex\", data=train)\n",
        "sns.factorplot('Embarked','Survived', data=train,size=4,aspect=3)"
      ]
    },
    {
      "cell_type": "code",
      "execution_count": null,
      "metadata": {
        "_cell_guid": "55673ab2-c393-c948-ad64-0ac6236233bf"
      },
      "outputs": [],
      "source": [
        "\n",
        "\n",
        "\n",
        "\n",
        "sns.pointplot(x=\"Pclass\", y=\"Survived\", hue=\"Sex\", data=train,\n",
        "              palette={\"male\": \"blue\", \"female\": \"pink\"},\n",
        "              markers=[\"*\", \"o\"], linestyles=[\"-\", \"--\"]);"
      ]
    },
    {
      "cell_type": "markdown",
      "metadata": {
        "_cell_guid": "dbe28d03-4760-3114-0d9a-cf24b2a5dd67"
      },
      "source": [
        "**Perform Pandas.describe to see the quartiles/min/max, to determine how to simplify.**"
      ]
    },
    {
      "cell_type": "markdown",
      "metadata": {
        "_cell_guid": "a783a361-38a6-4e4f-e056-9edb3b4c2aa0"
      },
      "source": [
        "**Create functions to simplify data, fill in blanks, drop unnecessary columns**\n",
        ", "
      ]
    },
    {
      "cell_type": "code",
      "execution_count": null,
      "metadata": {
        "_cell_guid": "8c29bd0c-1475-e227-4a7c-4b1a9bb77106"
      },
      "outputs": [],
      "source": [
        "\n",
        "#these work because df could be anything. could be \"cheese\". \n",
        "#And if more than one arguement, just goes by what order you putin\n",
        "def simplify_ages(df):\n",
        "    df.Age = df.Age.fillna(-0.5)\n",
        "    bins = (-1, 0, 5, 12, 18, 25, 35, 60, 120)\n",
        "    group_names = ['Unknown', 'Baby', 'Child', 'Teenager', 'Student', 'Young Adult', 'Adult', 'Senior']\n",
        "    categories = pd.cut(df.Age, bins, labels=group_names)\n",
        "    df.Age = categories\n",
        "    return df\n",
        "\n",
        "def simplify_cabins(df):\n",
        "    df.Cabin = df.Cabin.fillna('N')\n",
        "    df.Cabin = df.Cabin.apply(lambda x: x[0])\n",
        "    return df\n",
        "\n",
        "def simplify_fares(df):\n",
        "    df.Fare = df.Fare.fillna(-0.5)\n",
        "    bins = (-1, 0, 8, 15, 31, 1000)\n",
        "    group_names = ['Unknown', '1_quartile', '2_quartile', '3_quartile', '4_quartile']\n",
        "    categories = pd.cut(df.Fare, bins, labels=group_names)\n",
        "    df.Fare = categories\n",
        "    return df\n",
        "\n",
        "def format_name(df):\n",
        "    df['Lname'] = df.Name.apply(lambda x: x.split(' ')[0])\n",
        "    df['NamePrefix'] = df.Name.apply(lambda x: x.split(' ')[1])\n",
        "    return df    \n",
        "    \n",
        "def drop_features(df):\n",
        "    return df.drop(['Ticket', 'Name', 'Embarked'], axis=1)\n",
        "\n",
        "def transform_features(df):\n",
        "    df = simplify_ages(df)\n",
        "    df = simplify_cabins(df)\n",
        "    df = simplify_fares(df)\n",
        "    df = format_name(df)\n",
        "    df = drop_features(df)\n",
        "    return df\n",
        "\n",
        "train = transform_features(train)\n",
        "test = transform_features(test)\n",
        "train.head()"
      ]
    },
    {
      "cell_type": "code",
      "execution_count": null,
      "metadata": {
        "_cell_guid": "cac2325a-0454-8aa9-06e5-86cd18c9b4b9"
      },
      "outputs": [],
      "source": [
        ""
      ]
    },
    {
      "cell_type": "code",
      "execution_count": null,
      "metadata": {
        "_cell_guid": "c921c53e-5cfb-ca14-dbbf-ce935058b901"
      },
      "outputs": [],
      "source": [
        ""
      ]
    },
    {
      "cell_type": "code",
      "execution_count": null,
      "metadata": {
        "_cell_guid": "d4f6235c-d980-6022-9939-37a6a227e1ca"
      },
      "outputs": [],
      "source": [
        "len(train)"
      ]
    },
    {
      "cell_type": "code",
      "execution_count": null,
      "metadata": {
        "_cell_guid": "9479815b-ffc6-823c-65e6-60ae6636e248"
      },
      "outputs": [],
      "source": [
        "\n",
        "#note that  df.Age = df.Age.fillna(-0.5) fills the age column with -0.5 where its missing values\n",
        "#important to do this so the rest of the Age simplifying function works. \n",
        "#bins and group name creates a variable list.\n",
        "#pd.cut is used to bin this data. Arguements are the column (in this case df.age)\n",
        "# categories = pd.cut(df.Age, bins, labels=group_names)\n",
        "\n",
        "#)First you get rid of the null/NaN values (.fillna(-0.5))\n",
        "#)Important to get rid of null/NaN so can simplify data and later change from categorical. \n",
        "#)create a variable called bins and create a list based on what you seen from df.describe\n",
        "#and where graphs suggest matter\n",
        "#)create a variable called group names with the same amount.\n",
        "\n",
        "#)create a variable called catergories and call the command (pd.cut) \n",
        "#)then in pd.cut arguements you state a) the column you are simplifying\n",
        "#)b) bins and c) labels=group_names \n",
        "#) then change name of the column to = this new variable, categories.\n",
        "#) return df.  done! "
      ]
    },
    {
      "cell_type": "code",
      "execution_count": null,
      "metadata": {
        "_cell_guid": "d0bab4e7-4e61-c71d-329e-98a716890d26"
      },
      "outputs": [],
      "source": [
        "#test on lamda\n",
        "#note(lambda x:x[0]) returns the first letter only. \n",
        "#note (lambda x:x[1]) returns the second letter only\n",
        "#note (lambda x:x[0:2]) returns the first 3 letters. \n",
        "def simplify_lol(df):\n",
        "    df.Sex = df.Sex.fillna('N')\n",
        "    df.Sex = df.Sex.apply(lambda x: x[0])\n",
        "    return df\n",
        "\n",
        "def transform_featuress(df):\n",
        "    df = simplify_lol(df)\n",
        "    return df\n",
        "\n",
        "\n",
        "train = transform_featuress(train)\n",
        "train.head()"
      ]
    },
    {
      "cell_type": "code",
      "execution_count": null,
      "metadata": {
        "_cell_guid": "54eadb64-ec3e-f7c7-1e30-8b8d8e504702"
      },
      "outputs": [],
      "source": [
        "#def format_name(df):\n",
        "    #df['Lname'] = df.Name.apply(lambda x: x.split(' ')[0])\n",
        "    #df['NamePrefix'] = df.Name.apply(lambda x: x.split(' ')[1])\n",
        "    #return df\n",
        "    \n",
        "    #explaination on how this works. creates a column called lname and delimiter is \" \" (blanks space)\n",
        "    #[0] grabs everything before it. \n",
        "    #then create a column called NamePrefix and using \" \" again, but this time [1] so \n",
        "    #grabs everything in front of it. "
      ]
    },
    {
      "cell_type": "code",
      "execution_count": null,
      "metadata": {
        "_cell_guid": "18030b00-75e9-0d3a-3ccc-03c4b443405c"
      },
      "outputs": [],
      "source": [
        "sns.barplot(x=\"Age\", y=\"Survived\", hue=\"Sex\", data=train);"
      ]
    },
    {
      "cell_type": "code",
      "execution_count": null,
      "metadata": {
        "_cell_guid": "c85af5a9-4133-d0df-87a7-7b4b974de364"
      },
      "outputs": [],
      "source": [
        "sns.barplot(x=\"Cabin\", y=\"Survived\", hue=\"Sex\", data=train);"
      ]
    },
    {
      "cell_type": "code",
      "execution_count": null,
      "metadata": {
        "_cell_guid": "a39e6b18-1365-26d2-e549-f1c437c7a46f"
      },
      "outputs": [],
      "source": [
        "sns.barplot(x=\"Fare\", y=\"Survived\", hue=\"Sex\", data=train);"
      ]
    },
    {
      "cell_type": "code",
      "execution_count": null,
      "metadata": {
        "_cell_guid": "3441f29a-567d-e2e2-3e45-ec2c44077580"
      },
      "outputs": [],
      "source": [
        "from sklearn import preprocessing\n",
        "def encode_features(df_train, df_test):\n",
        "    features = ['Fare', 'Cabin', 'Age', 'Sex', 'Lname', 'NamePrefix']\n",
        "    df_combined = pd.concat([df_train[features], df_test[features]])\n",
        "    \n",
        "    for feature in features:\n",
        "        le = preprocessing.LabelEncoder()\n",
        "        le = le.fit(df_combined[feature])\n",
        "        df_train[feature] = le.transform(df_train[feature])\n",
        "        df_test[feature] = le.transform(df_test[feature])\n",
        "    return df_train, df_test\n",
        "    \n",
        "train, test = encode_features(train,test)\n",
        "train.head()"
      ]
    },
    {
      "cell_type": "code",
      "execution_count": null,
      "metadata": {
        "_cell_guid": "9aa9cec8-9305-8b13-2be4-9c10e4eaa7bd"
      },
      "outputs": [],
      "source": [
        "print (test.info())"
      ]
    },
    {
      "cell_type": "markdown",
      "metadata": {
        "_cell_guid": "b52d5784-e503-6003-4db1-0729a2ecbd0b"
      },
      "source": [
        "**For x_all can chose target variable by stating the dataframe followed by [\"columnname\"] For y_all (features/variables) =dataframe.drop[\"useless column\"]**\n",
        "------------------------------------------------------------------------"
      ]
    },
    {
      "cell_type": "markdown",
      "metadata": {
        "_cell_guid": "454a3717-adfe-12d7-315d-3e6944198f39"
      },
      "source": [
        "**the test_size and train_size parameters to define the amount of data used in the \"train\" split and the amount used in the \"test\" split. If the parameters are floats, they represent the proportion of the dataset in the split; if they are ints, the represent the absolute number of samples in the split.**"
      ]
    },
    {
      "cell_type": "code",
      "execution_count": null,
      "metadata": {
        "_cell_guid": "4a56fd7b-d46c-dbe5-be95-1ce0057e8018"
      },
      "outputs": [],
      "source": [
        "from sklearn.model_selection import train_test_split\n",
        "\n",
        "X_all = train.drop(['Survived', 'PassengerId'], axis=1)\n",
        "y_all = train['Survived']\n",
        "\n",
        "num_test = 0.20\n",
        "X_train, X_test, y_train, y_test = train_test_split(X_all, y_all, test_size=num_test, random_state=23)"
      ]
    },
    {
      "cell_type": "code",
      "execution_count": null,
      "metadata": {
        "_cell_guid": "1929619e-80b3-2331-0345-aa1ea4e6c92b"
      },
      "outputs": [],
      "source": [
        "from sklearn.ensemble import RandomForestClassifier\n",
        "from sklearn.metrics import make_scorer, accuracy_score\n",
        "from sklearn.model_selection import GridSearchCV\n",
        "\n",
        "# Choose the type of classifier. \n",
        "clf = RandomForestClassifier()\n",
        "\n",
        "# Choose some parameter combinations to try\n",
        "parameters = {'n_estimators': [4, 6, 9], \n",
        "              'max_features': ['log2', 'sqrt','auto'], \n",
        "              'criterion': ['entropy', 'gini'],\n",
        "              'max_depth': [2, 3, 5, 10], \n",
        "              'min_samples_split': [2, 3, 5],\n",
        "              'min_samples_leaf': [1,5,8]\n",
        "             }\n",
        "\n",
        "# Type of scoring used to compare parameter combinations\n",
        "acc_scorer = make_scorer(accuracy_score)\n",
        "\n",
        "# Run the grid search\n",
        "grid_obj = GridSearchCV(clf, parameters, scoring=acc_scorer)\n",
        "grid_obj = grid_obj.fit(X_train, y_train)\n",
        "\n",
        "# Set the clf to the best combination of parameters\n",
        "clf = grid_obj.best_estimator_\n",
        "\n",
        "# Fit the best algorithm to the data. \n",
        "clf.fit(X_train, y_train)"
      ]
    },
    {
      "cell_type": "code",
      "execution_count": null,
      "metadata": {
        "_cell_guid": "d30b9dae-ede8-a29f-b913-28180ef04dd0"
      },
      "outputs": [],
      "source": [
        "predictions = clf.predict(X_test)\n",
        "print(accuracy_score(y_test, predictions))"
      ]
    },
    {
      "cell_type": "markdown",
      "metadata": {
        "_cell_guid": "5d4a54e9-85c7-5681-1ef3-0d4a0ff7a4fc"
      },
      "source": [
        "Notes on Random Forests\n",
        "-----------------------\n",
        "\n",
        "Random Forests/Ensemble learning: multiple learning models, combined to increase accuracy (also known as bagging. \n",
        "\n",
        "Bias: imagine a bullseye. All of the darts miss, but they miss the same amount all the time. \n",
        "Variance: All around. Different amounts.  \n",
        "\n",
        "**Traits of Random Forests:**\n",
        "few tuning parameters/easier to use than neural networks \n",
        "No need to standardise data all to the standard deviation of 1 etc. \n",
        "Inbuilt cross validation \n",
        "The more trees, the better\n",
        "More features, the less bias \n",
        "Dept of trees too much can be overfitting, need some generalisation otherwise cant classify/predict.\n",
        "\n",
        "Randomforestclassifer and randomforestregressor. \n",
        "\n",
        "n estimators = NUMBER OF TREES\n",
        "max_features= number of features to consider at each split. auto is all. \n",
        "max_depth= none\n",
        "min samples_split= eg 3, then if only two left, leaves node as leaf. \n",
        "min samples_leaf= any leaf must have this many samples \n",
        "min_weight= 10% (.1) needs to be 100 samples in each leaf. \n",
        "max_leaf_nodes=None\n",
        "n_jobs=1)\n"
      ]
    },
    {
      "cell_type": "code",
      "execution_count": null,
      "metadata": {
        "_cell_guid": "0e80cce4-a19b-30ea-e387-f28ee9835a76"
      },
      "outputs": [],
      "source": [
        "from sklearn.cross_validation import KFold\n",
        "\n",
        "def run_kfold(clf):\n",
        "    kf = KFold(891, n_folds=10)\n",
        "    outcomes = []\n",
        "    fold = 0\n",
        "    for train_index, test_index in kf:\n",
        "        fold += 1\n",
        "        X_train, X_test = X_all.values[train_index], X_all.values[test_index]\n",
        "        y_train, y_test = y_all.values[train_index], y_all.values[test_index]\n",
        "        clf.fit(X_train, y_train)\n",
        "        predictions = clf.predict(X_test)\n",
        "        accuracy = accuracy_score(y_test, predictions)\n",
        "        outcomes.append(accuracy)\n",
        "        print(\"Fold {0} accuracy: {1}\".format(fold, accuracy))     \n",
        "    mean_outcome = np.mean(outcomes)\n",
        "    print(\"Mean Accuracy: {0}\".format(mean_outcome)) \n",
        "\n",
        "run_kfold(clf)"
      ]
    },
    {
      "cell_type": "code",
      "execution_count": null,
      "metadata": {
        "_cell_guid": "c7b41cee-9f30-39c1-9f9f-eadcf1571f05"
      },
      "outputs": [],
      "source": [
        "ids = test['PassengerId']\n",
        "predictions = clf.predict(test.drop('PassengerId', axis=1))\n",
        "\n",
        "\n",
        "output = pd.DataFrame({ 'PassengerId' : ids, 'Survived': predictions })\n",
        "output.to_csv('titanic-predictions2.csv', index = False)\n",
        "output.head()"
      ]
    },
    {
      "cell_type": "code",
      "execution_count": null,
      "metadata": {
        "_cell_guid": "78c15e27-a3ea-537c-0f5b-2749efd8e00f"
      },
      "outputs": [],
      "source": [
        "#the end? "
      ]
    },
    {
      "cell_type": "code",
      "execution_count": null,
      "metadata": {
        "_cell_guid": "81e33468-41f5-75c2-557a-a642e70012a0"
      },
      "outputs": [],
      "source": [
        ""
      ]
    }
  ],
  "metadata": {
    "_change_revision": 0,
    "_is_fork": false,
    "kernelspec": {
      "display_name": "Python 3",
      "language": "python",
      "name": "python3"
    },
    "language_info": {
      "codemirror_mode": {
        "name": "ipython",
        "version": 3
      },
      "file_extension": ".py",
      "mimetype": "text/x-python",
      "name": "python",
      "nbconvert_exporter": "python",
      "pygments_lexer": "ipython3",
      "version": "3.6.0"
    }
  },
  "nbformat": 4,
  "nbformat_minor": 0
}