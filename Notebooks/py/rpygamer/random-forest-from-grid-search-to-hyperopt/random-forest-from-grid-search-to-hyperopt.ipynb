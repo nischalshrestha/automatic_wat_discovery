{
  "cells": [
    {
      "cell_type": "markdown",
      "metadata": {
        "_cell_guid": "f12278d0-0f97-f5a0-b932-bf00f5c90d7b"
      },
      "source": [
        "Don't forget the quieter you become the more you are able to hear(RT) \n"
      ]
    },
    {
      "cell_type": "code",
      "execution_count": null,
      "metadata": {
        "_cell_guid": "57e65c5c-682e-5912-69df-8ede7ffdae32"
      },
      "outputs": [],
      "source": [
        "# This Python 3 environment comes with many helpful analytics libraries installed\n",
        "# It is defined by the kaggle/python docker image: https://github.com/kaggle/docker-python\n",
        "# For example, here's several helpful packages to load in \n",
        "\n",
        "import numpy as np # linear algebra\n",
        "import pandas as pd # data processing, CSV file I/O (e.g. pd.read_csv)\n",
        "\n",
        "# Input data files are available in the \"../input/\" directory.\n",
        "# For example, running this (by clicking run or pressing Shift+Enter) will list the files in the input directory\n",
        "\n",
        "from subprocess import check_output\n",
        "print(check_output([\"ls\", \"../input\"]).decode(\"utf8\"))\n",
        "\n",
        "# Any results you write to the current directory are saved as output."
      ]
    },
    {
      "cell_type": "markdown",
      "metadata": {
        "_cell_guid": "276b0027-6c7b-ca84-bffb-c5e532f2ea2b"
      },
      "source": [
        "In this kernel i will try to compare performance of the random forest model on the Titanic train data set using only hyper parameter optimization.\n",
        "Note that i will not use any complicated feature engineering only label encoder or dummies for categorical feature."
      ]
    },
    {
      "cell_type": "markdown",
      "metadata": {
        "_cell_guid": "15bab02a-1caf-579e-1cff-81c25225a28f"
      },
      "source": [
        "**I. What is Random Forest ?**\n",
        "\n",
        "Random Forest is an ensemble tool which takes a subset of observations and a subset of variables to build a decision trees. It builds multiple such decision tree and amalgamate them together to get a more accurate and stable prediction. This is direct consequence of the fact that by maximum voting from a panel of independent judges, we get the final prediction better than the best judge. See Random Forest (Leo Brieman) https://www.stat.berkeley.edu/~breiman/randomforest2001.pdf"
      ]
    },
    {
      "cell_type": "markdown",
      "metadata": {
        "_cell_guid": "30211882-5fea-cf2f-1fb6-b9572b7eee79"
      },
      "source": [
        " **II. Random Forest Parameters** "
      ]
    },
    {
      "cell_type": "markdown",
      "metadata": {
        "_cell_guid": "6e22dbd9-7d55-227f-d3c0-8eb73c9123c3"
      },
      "source": [
        "**n_estimators**  : integer, optional (default=10) The number of trees in the forest.\n",
        "\n",
        "**criterion** : string, optional (default=\u201dgini\u201d)\n",
        "The function to measure the quality of a split. Supported criteria are \u201cgini\u201d for the Gini impurity and \u201centropy\u201d for the information gain. Note: this parameter is tree-specific.\n",
        "\n",
        "**max_features** : int, float, string or None, optional (default=\u201dauto\u201d)\n",
        "The number of features to consider when looking for the best split:\n",
        "If int, then consider max_features features at each split.\n",
        "If float, then max_features is a percentage and int(max_features * n_features) features are considered at each split.\n",
        "If \u201cauto\u201d, then max_features=sqrt(n_features).\n",
        "If \u201csqrt\u201d, then max_features=sqrt(n_features) (same as \u201cauto\u201d).\n",
        "If \u201clog2\u201d, then max_features=log2(n_features).\n",
        "If None, then max_features=n_features.\n",
        "Note: the search for a split does not stop until at least one valid partition of the node samples is found, even if it requires to effectively inspect more than max_features features.\n",
        "\n",
        "**max_depth** : integer or None, optional (default=None)\n",
        "The maximum depth of the tree. If None, then nodes are expanded until all leaves are pure or until all leaves contain less than min_samples_split samples.\n",
        "\n",
        "**min_samples_split** : int, float, optional (default=2)\n",
        "The minimum number of samples required to split an internal node:\n",
        "If int, then consider min_samples_split as the minimum number.\n",
        "If float, then min_samples_split is a percentage and ceil(min_samples_split * n_samples) are the minimum number of samples for each split.\n",
        "Changed in version 0.18: Added float values for percentages.\n",
        "\n",
        "**min_samples_leaf** : int, float, optional (default=1)\n",
        "The minimum number of samples required to be at a leaf node:\n",
        "If int, then consider min_samples_leaf as the minimum number.\n",
        "If float, then min_samples_leaf is a percentage and ceil(min_samples_leaf * n_samples) are the minimum number of samples for each node.\n",
        "Changed in version 0.18: Added float values for percentages.\n",
        "\n",
        "**min_weight_fraction_leaf** : float, optional (default=0.)\n",
        "The minimum weighted fraction of the sum total of weights (of all the input samples) required to be at a leaf node. Samples have equal weight when sample_weight is not provided.\n",
        "max_leaf_nodes : int or None, optional (default=None)\n",
        "Grow trees with max_leaf_nodes in best-first fashion. Best nodes are defined as relative reduction in impurity. If None then unlimited number of leaf nodes.\n",
        "\n",
        "**min_impurity_split** : float, optional (default=1e-7)\n",
        "Threshold for early stopping in tree growth. A node will split if its impurity is above the threshold, otherwise it is a leaf.\n",
        "New in version 0.18.\n",
        "\n",
        "**bootstrap** : boolean, optional (default=True)\n",
        "Whether bootstrap samples are used when building trees.\n",
        "\n",
        "**oob_score**: bool (default=False)\n",
        "Whether to use out-of-bag samples to estimate the generalization accuracy.\n",
        "\n",
        "**n_jobs** : integer, optional (default=1)\n",
        "The number of jobs to run in parallel for both fit and predict. If -1, then the number of jobs is set to the number of cores.\n",
        "\n",
        "**random_state** : int, RandomState instance or None, optional (default=None)\n",
        "If int, random_state is the seed used by the random number generator; If RandomState instance, random_state is the random number generator; If None, the random number generator is the RandomState instance used by np.random.\n",
        "\n",
        "**verbose** : int, optional (default=0)\n",
        "Controls the verbosity of the tree building process.\n",
        "\n",
        "**warm_start**: bool, optional (default=False)\n",
        "When set to True, reuse the solution of the previous call to fit and add more estimators to the ensemble, otherwise, just fit a whole new forest.\n",
        "\n",
        "**class_weight** : dict, list of dicts, \u201cbalanced\u201d,"
      ]
    },
    {
      "cell_type": "markdown",
      "metadata": {
        "_cell_guid": "facc51f7-9a4a-a54c-9893-05ee47f9505c"
      },
      "source": [
        "**III. Parameters to be tuned :**"
      ]
    },
    {
      "cell_type": "markdown",
      "metadata": {
        "_cell_guid": "f10b0063-49bf-5b7b-6348-7e940fb9945a"
      },
      "source": [
        "In this notebook the parameters that will be tuned are : **max_features**, \n",
        "**n_estimators**, **max_depth**, **min_samples_split** and **criterion** \n"
      ]
    },
    {
      "cell_type": "markdown",
      "metadata": {
        "_cell_guid": "3dcbafbc-a05c-4521-f0a4-2670dca71eb0"
      },
      "source": [
        "**IV. Finally some Code** "
      ]
    },
    {
      "cell_type": "markdown",
      "metadata": {
        "_cell_guid": "5bd15b02-0f61-64c9-945f-056be28781ad"
      },
      "source": [
        "**IV.1. Load modules** "
      ]
    },
    {
      "cell_type": "code",
      "execution_count": null,
      "metadata": {
        "_cell_guid": "7c0d8fa5-b113-39cc-6789-32f6c4146146"
      },
      "outputs": [],
      "source": [
        "#=====================================================================================================================\n",
        "import pandas as pd                                       # data processing and CSV file I/O library\n",
        "import numpy as np                                        # Algebra library\n",
        "#import pandas_profiling as pdp                            # explore data \n",
        "#======================================================================================================================\n",
        "from sklearn.ensemble.forest import RandomForestClassifier# to import the random forest Model \n",
        "from sklearn.metrics import roc_curve, auc                # to import roc curve abd auc metrics for evaluation \n",
        "from sklearn.grid_search import GridSearchCV              # grid search is used for hyperparameters-optimization\n",
        "from sklearn.model_selection import KFold                # cross validation using the kfold algorithm\n",
        "#from hyperopt import fmin, tpe, hp, STATUS_OK, Trials     # library for hyperparameters-optimization\n",
        "#=======================================================================================================================\n",
        "#  Plotting imports\n",
        "import seaborn as sns                                     # Python graphing library\n",
        "import matplotlib.pyplot as plt\n",
        "%matplotlib inline"
      ]
    },
    {
      "cell_type": "markdown",
      "metadata": {
        "_cell_guid": "9870af39-97dc-b0fe-a297-63b72a09a0b5"
      },
      "source": [
        "**IV.2. Function for model performance using AUC**"
      ]
    },
    {
      "cell_type": "code",
      "execution_count": null,
      "metadata": {
        "_cell_guid": "4c97dc8f-7583-7681-6095-8a9ab48dc6bd"
      },
      "outputs": [],
      "source": [
        "def Performance(Model,Y,X):\n",
        "    # Perforamnce of the model\n",
        "    fpr, tpr, _ = roc_curve(Y, Model.predict_proba(X)[:,1])\n",
        "    AUC  = auc(fpr, tpr)\n",
        "    print ('the AUC is : %0.4f' %  AUC)\n",
        "    plt.figure()\n",
        "    plt.plot(fpr, tpr, label='ROC curve (area = %0.4f)' % AUC)\n",
        "    plt.plot([0, 1], [0, 1], 'k--')\n",
        "    plt.xlim([0.0, 1.0])\n",
        "    plt.ylim([0.0, 1.05])\n",
        "    plt.xlabel('False Positive Rate')\n",
        "    plt.ylabel('True Positive Rate')\n",
        "    plt.title('ROC Curve')\n",
        "    plt.legend(loc=\"lower right\")\n",
        "    plt.show()"
      ]
    },
    {
      "cell_type": "markdown",
      "metadata": {
        "_cell_guid": "237902a9-f98d-d3fc-f057-412b653dd48b"
      },
      "source": [
        "**IV.3. Data**"
      ]
    },
    {
      "cell_type": "code",
      "execution_count": null,
      "metadata": {
        "_cell_guid": "4f002033-3ae8-999e-4821-4245dfd95222"
      },
      "outputs": [],
      "source": [
        "frame= pd.read_csv(\"../input/train.csv\")\n",
        "frame.head()"
      ]
    },
    {
      "cell_type": "code",
      "execution_count": null,
      "metadata": {
        "_cell_guid": "47c06e1f-696b-7aa2-f45e-dc112bca7b70"
      },
      "outputs": [],
      "source": [
        "data=frame.drop(['Name','Ticket','PassengerId'],axis=1)\n",
        "data.head()"
      ]
    },
    {
      "cell_type": "code",
      "execution_count": null,
      "metadata": {
        "_cell_guid": "d85dd6b6-1325-1e3b-2681-9d0c7a7db40a"
      },
      "outputs": [],
      "source": [
        "data=data.fillna(-9999,inplace=False)"
      ]
    },
    {
      "cell_type": "code",
      "execution_count": null,
      "metadata": {
        "_cell_guid": "b627a1bd-d6f5-c324-2b52-5ed432d24975"
      },
      "outputs": [],
      "source": [
        "BM=pd.get_dummies(data)"
      ]
    },
    {
      "cell_type": "code",
      "execution_count": null,
      "metadata": {
        "_cell_guid": "f464cec9-0b80-a877-68ea-bad7285e95f4"
      },
      "outputs": [],
      "source": [
        "BM.head()"
      ]
    },
    {
      "cell_type": "code",
      "execution_count": null,
      "metadata": {
        "_cell_guid": "1e85e52d-36d1-9252-f440-bc2dfe4d1760"
      },
      "outputs": [],
      "source": [
        "# split the farme data to train and validation datasets 70/30.\n",
        "from sklearn.model_selection import train_test_split\n",
        "train, valid = train_test_split(BM, test_size = 0.3,random_state=1991)"
      ]
    },
    {
      "cell_type": "code",
      "execution_count": null,
      "metadata": {
        "_cell_guid": "2de2aef1-bcc2-566c-fd71-231344900afc"
      },
      "outputs": [],
      "source": [
        "train.shape"
      ]
    },
    {
      "cell_type": "code",
      "execution_count": null,
      "metadata": {
        "_cell_guid": "1e447ab7-0cb3-9582-9b9b-fffbe8c9b15a"
      },
      "outputs": [],
      "source": [
        "valid.shape"
      ]
    },
    {
      "cell_type": "code",
      "execution_count": null,
      "metadata": {
        "_cell_guid": "e8edb24f-6838-f80f-8b5a-1709550354e7"
      },
      "outputs": [],
      "source": [
        "train=pd.DataFrame(train,columns=BM.columns)\n",
        "valid=pd.DataFrame(valid,columns=BM.columns)\n",
        "X_train=train.drop(['Survived'],axis=1)\n",
        "Y_train=train['Survived']\n",
        "X_valid=valid.drop(['Survived'],axis=1)\n",
        "Y_valid=valid['Survived']"
      ]
    },
    {
      "cell_type": "code",
      "execution_count": null,
      "metadata": {
        "_cell_guid": "a6097c05-bb1e-114a-66da-d106b6d4af51"
      },
      "outputs": [],
      "source": [
        "X_train.head()"
      ]
    },
    {
      "cell_type": "code",
      "execution_count": null,
      "metadata": {
        "_cell_guid": "62a66b5a-e7cd-3679-0af9-71b2c952d126"
      },
      "outputs": [],
      "source": [
        "X_valid.head()"
      ]
    },
    {
      "cell_type": "markdown",
      "metadata": {
        "_cell_guid": "2acfef78-fbd2-55a7-89ae-6d717f2a812c"
      },
      "source": [
        "**IV.4. Random forest without hyper parameter optimisation**"
      ]
    },
    {
      "cell_type": "code",
      "execution_count": null,
      "metadata": {
        "_cell_guid": "53e8f903-a0ad-a381-c63b-385c1f8c849a"
      },
      "outputs": [],
      "source": [
        "RF0=RandomForestClassifier()"
      ]
    },
    {
      "cell_type": "code",
      "execution_count": null,
      "metadata": {
        "_cell_guid": "64bab58a-b54d-b360-7ee8-bc0f7696e4f8"
      },
      "outputs": [],
      "source": [
        "RF0.fit(X=X_train,y=Y_train)"
      ]
    },
    {
      "cell_type": "code",
      "execution_count": null,
      "metadata": {
        "_cell_guid": "b98d7b84-8d86-0b5a-91b8-da7c97905f0e"
      },
      "outputs": [],
      "source": [
        "Performance(Model=RF0,Y=Y_valid,X=X_valid)"
      ]
    },
    {
      "cell_type": "markdown",
      "metadata": {
        "_cell_guid": "afe7cdeb-2067-4c5b-cec5-ccff72978a3c"
      },
      "source": [
        "**IV.5. Random Forest using grid search**"
      ]
    },
    {
      "cell_type": "code",
      "execution_count": null,
      "metadata": {
        "_cell_guid": "8b921602-d191-1d85-3ab4-7e377816e9c6"
      },
      "outputs": [],
      "source": [
        "grid_1 = { \"n_estimators\"      : [100,200,500],\n",
        "               \"criterion\"         : [\"gini\", \"entropy\"],\n",
        "               \"max_features\"      : ['sqrt','log2',0.2,0.5,0.8],\n",
        "               \"max_depth\"         : [3,4,6,10],\n",
        "               \"min_samples_split\" : [2, 5, 20,50] }"
      ]
    },
    {
      "cell_type": "code",
      "execution_count": null,
      "metadata": {
        "_cell_guid": "25ca27c7-738e-1127-891d-f44126aba435"
      },
      "outputs": [],
      "source": [
        "RF=RandomForestClassifier()\n",
        "grid_search = GridSearchCV(RF, grid_1, n_jobs=-1, cv=5)\n",
        "grid_search.fit(X_train, Y_train)"
      ]
    },
    {
      "cell_type": "code",
      "execution_count": null,
      "metadata": {
        "_cell_guid": "4c69f6f4-034c-fc01-4ee4-3f5ba1a10d49"
      },
      "outputs": [],
      "source": [
        "grid_search.grid_scores_"
      ]
    },
    {
      "cell_type": "code",
      "execution_count": null,
      "metadata": {
        "_cell_guid": "8fa5ea7b-a97c-a411-d4be-f37c630b6439"
      },
      "outputs": [],
      "source": [
        "grid_search.best_score_"
      ]
    },
    {
      "cell_type": "code",
      "execution_count": null,
      "metadata": {
        "_cell_guid": "45e01985-7c0a-14c0-1eb2-a1bad32cab21"
      },
      "outputs": [],
      "source": [
        "grid_search.best_params_"
      ]
    },
    {
      "cell_type": "code",
      "execution_count": null,
      "metadata": {
        "_cell_guid": "17ced526-3c28-9b5c-cf63-e6cc6e2f97a0"
      },
      "outputs": [],
      "source": [
        "Performance(Model=grid_search,Y=Y_valid,X=X_valid)"
      ]
    },
    {
      "cell_type": "markdown",
      "metadata": {
        "_cell_guid": "bf64792d-05fa-e82f-f02d-45fdaea9bf5f"
      },
      "source": [
        "**IV.6. Random Forest using hyperopt**"
      ]
    },
    {
      "cell_type": "code",
      "execution_count": null,
      "metadata": {
        "_cell_guid": "86ebc9de-ef6e-dd52-b50a-6fcffe0f29f7"
      },
      "outputs": [],
      "source": [
        "from hyperopt import fmin, tpe, hp, STATUS_OK, Trials"
      ]
    },
    {
      "cell_type": "code",
      "execution_count": null,
      "metadata": {
        "_cell_guid": "b6df4f71-2896-7cf5-2298-3104b692e4aa"
      },
      "outputs": [],
      "source": [
        "from sklearn.model_selection import cross_val_score\n",
        "def acc_model(params):\n",
        "    clf = RandomForestClassifier(**params)\n",
        "    return cross_val_score(clf, X_train, Y_train).mean()\n",
        "\n",
        "param_space = {\n",
        "    'max_depth': hp.choice('max_depth', range(1,20)),\n",
        "    'max_features': hp.choice('max_features', range(1,150)),\n",
        "    'n_estimators': hp.choice('n_estimators', range(100,500)),\n",
        "    'criterion': hp.choice('criterion', [\"gini\", \"entropy\"])}\n",
        "\n",
        "best = 0\n",
        "def f(params):\n",
        "    global best\n",
        "    acc = acc_model(params)\n",
        "    if acc > best:\n",
        "        best = acc\n",
        "    print ('new best:', best, params)\n",
        "    return {'loss': -acc, 'status': STATUS_OK}\n",
        "\n",
        "trials = Trials()\n",
        "best = fmin(f, param_space, algo=tpe.suggest, max_evals=100, trials=trials)\n",
        "print ('best:')\n",
        "print (best)"
      ]
    },
    {
      "cell_type": "code",
      "execution_count": null,
      "metadata": {
        "_cell_guid": "5c04db09-60cf-d4e9-148d-e0cbd211dfb4"
      },
      "outputs": [],
      "source": [
        "RF2=RandomForestClassifier(max_features=113, n_estimators=498, criterion= 'entropy', max_depth=2,random_state=1)"
      ]
    },
    {
      "cell_type": "code",
      "execution_count": null,
      "metadata": {
        "_cell_guid": "49f728c2-8be9-3d1f-ff82-df28078d5668"
      },
      "outputs": [],
      "source": [
        "RF2.fit(X=X_train,y=Y_train)"
      ]
    },
    {
      "cell_type": "code",
      "execution_count": null,
      "metadata": {
        "_cell_guid": "05e053ce-451a-5f3d-527e-64a899bc16e9"
      },
      "outputs": [],
      "source": [
        "Performance(Model=RF2,Y=Y_valid,X=X_valid)"
      ]
    },
    {
      "cell_type": "markdown",
      "metadata": {
        "_cell_guid": "7453e12c-b3f4-1124-ddbc-b1ff637f8abe"
      },
      "source": [
        "**References**"
      ]
    },
    {
      "cell_type": "markdown",
      "metadata": {
        "_cell_guid": "a668c7f7-5360-0570-5b06-4cee2631eb0b"
      },
      "source": [
        "https://districtdatalabs.silvrback.com/parameter-tuning-with-hyperopt"
      ]
    },
    {
      "cell_type": "markdown",
      "metadata": {
        "_cell_guid": "4932be26-8a3c-fc8a-28a0-1eaf1e0bc1cc"
      },
      "source": [
        "https://www.stat.berkeley.edu/~breiman/randomforest2001.pdf"
      ]
    },
    {
      "cell_type": "markdown",
      "metadata": {
        "_cell_guid": "400c3799-0439-c9bd-e137-a66e97c8d0dc"
      },
      "source": [
        "http://scikit-learn.org/stable/modules/grid_search.html"
      ]
    },
    {
      "cell_type": "markdown",
      "metadata": {
        "_cell_guid": "26a704a9-5c27-e6d7-7813-18f2104ba61b"
      },
      "source": [
        "http://stackoverflow.com/questions/19335165/cross-validation-and-grid-search"
      ]
    }
  ],
  "metadata": {
    "_change_revision": 0,
    "_is_fork": false,
    "kernelspec": {
      "display_name": "Python 3",
      "language": "python",
      "name": "python3"
    },
    "language_info": {
      "codemirror_mode": {
        "name": "ipython",
        "version": 3
      },
      "file_extension": ".py",
      "mimetype": "text/x-python",
      "name": "python",
      "nbconvert_exporter": "python",
      "pygments_lexer": "ipython3",
      "version": "3.5.2"
    }
  },
  "nbformat": 4,
  "nbformat_minor": 0
}