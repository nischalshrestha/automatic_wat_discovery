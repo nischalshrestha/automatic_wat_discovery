{
  "cells": [
    {
      "cell_type": "markdown",
      "metadata": {
        "_cell_guid": "99516caf-7244-17d0-2035-25ea99b7d778"
      },
      "source": [
        "# Simple Keras model with grid search"
      ]
    },
    {
      "cell_type": "code",
      "execution_count": null,
      "metadata": {
        "_cell_guid": "ae1c191b-00c2-15b4-4fd2-4624eb62381b"
      },
      "outputs": [],
      "source": [
        "import math\n",
        "import numpy as np\n",
        "import pandas\n",
        "from keras.layers import Dense\n",
        "from keras.layers import Dropout\n",
        "from keras.models import Sequential\n",
        "from keras.wrappers.scikit_learn import KerasClassifier\n",
        "from sklearn.preprocessing import StandardScaler\n",
        "from sklearn.model_selection import GridSearchCV\n",
        "from sklearn.metrics import accuracy_score"
      ]
    },
    {
      "cell_type": "code",
      "execution_count": null,
      "metadata": {
        "_cell_guid": "180c39cb-934e-1aa0-dfd3-26e1154c4888"
      },
      "outputs": [],
      "source": [
        "root_path = '../input'\n",
        "\n",
        "def get_data(filepath):\n",
        "    df = pandas.read_csv(filepath)\n",
        "    return get_data_sets(df)\n",
        "\n",
        "features = ['Pclass', 'Sex', 'Age', 'SibSp', 'Fare', 'Embarked']\n",
        "def get_data_sets(df):\n",
        "    df['Sex'] = df['Sex'].apply(lambda s: 0 if s == 'male' else 1)\n",
        "    df['Age'] = df['Age'].apply(lambda a: df['Age'].median() if math.isnan(a) else a)\n",
        "    df['Fare'] = df['Fare'].fillna(df['Fare'].dropna().median())\n",
        "    df['Embarked'] = df['Embarked'].fillna('S')\n",
        "    df['Embarked'] = df['Embarked'].apply(lambda x: 1 if (x == 'Q') else (2 if (x == 'S') else 3))\n",
        "    x = StandardScaler().fit_transform(df[features].values)\n",
        "    y = [] \n",
        "    if 'Survived' in df:\n",
        "        y = df['Survived']\n",
        "        return x, y\n",
        "    return x"
      ]
    },
    {
      "cell_type": "code",
      "execution_count": null,
      "metadata": {
        "_cell_guid": "7e085697-a88c-0d4e-9c81-619457f167d8"
      },
      "outputs": [],
      "source": [
        "def get_model(dropout=0.0):\n",
        "    m = Sequential()\n",
        "    m.add(Dense(input_dim=len(features), output_dim=50, activation='relu'))\n",
        "    m.add(Dropout(dropout))\n",
        "    m.add(Dense(output_dim=50, activation='relu'))\n",
        "    m.add(Dropout(dropout))\n",
        "    m.add(Dense(output_dim=2, activation='softmax'))\n",
        "    m.compile(loss='binary_crossentropy', optimizer='adam', metrics=['accuracy'])\n",
        "    return m\n",
        "\n",
        "X, y = get_data(root_path + '/train.csv')\n",
        "y_dummy = pandas.get_dummies(y).values\n",
        "\n",
        "# Use grid search to optimise hyperparameters\n",
        "# param_grid= dict(batch_size=[8, 16, 32], nb_epoch=[50, 70, 100], dropout=[0.0, 0.3, 0.5])\n",
        "\n",
        "# model = KerasClassifier(build_fn=get_model, verbose=0)\n",
        "# grid = GridSearchCV(estimator=model, param_grid=param_grid)\n",
        "#grid.fit(X, y_dummy)\n",
        "\n",
        "# print(grid.best_params_)\n",
        "# print(grid.best_score_)\n",
        "\n",
        "# {'dropout': 0.3, 'nb_epoch': 70, 'batch_size': 32}\n",
        "# 0.823793490862"
      ]
    },
    {
      "cell_type": "code",
      "execution_count": null,
      "metadata": {
        "_cell_guid": "71fa374a-5bd0-a98f-a058-9b6f93d22caa"
      },
      "outputs": [],
      "source": [
        "# classifier = grid.best_estimator_\n",
        "# predictions = classifier.predict(X)\n",
        "# survived = [int(round(p)) for p in predictions[:]]\n",
        "# print('Training success: {}'.format(accuracy_score(survived,y)))\n",
        "\n",
        "# train a classifier with the best parameters we got earlier\n",
        "classifier = get_model(0.3)\n",
        "classifier.fit(X, y_dummy, nb_epoch=70, batch_size=32, verbose=0)\n",
        "\n",
        "predictions = classifier.predict(X)\n",
        "survived = [int(round(p)) for p in predictions[:,1]]\n",
        "print('Training set success: {}'.format(accuracy_score(survived,y)))"
      ]
    },
    {
      "cell_type": "code",
      "execution_count": null,
      "metadata": {
        "_cell_guid": "c92eb115-a314-6543-371d-72d4410e7f53"
      },
      "outputs": [],
      "source": [
        "# get the predictions on the test set\n",
        "test_df = pandas.read_csv(root_path + '/test.csv')\n",
        "X_test = get_data_sets(test_df)\n",
        "passenger_ids = test_df['PassengerId']\n",
        "\n",
        "predictions = classifier.predict(X_test)\n",
        "survived = [int(round(p)) for p in predictions[:, 1]]\n",
        "\n",
        "submission = pandas.DataFrame({'PassengerId': passenger_ids, 'Survived': survived})\n",
        "submission.to_csv(\"titanic_keras.csv\", index=False)"
      ]
    }
  ],
  "metadata": {
    "_change_revision": 0,
    "_is_fork": false,
    "kernelspec": {
      "display_name": "Python 3",
      "language": "python",
      "name": "python3"
    },
    "language_info": {
      "codemirror_mode": {
        "name": "ipython",
        "version": 3
      },
      "file_extension": ".py",
      "mimetype": "text/x-python",
      "name": "python",
      "nbconvert_exporter": "python",
      "pygments_lexer": "ipython3",
      "version": "3.6.0"
    }
  },
  "nbformat": 4,
  "nbformat_minor": 0
}