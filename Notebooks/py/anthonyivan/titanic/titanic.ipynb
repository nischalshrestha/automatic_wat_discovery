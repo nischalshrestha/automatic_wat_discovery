{
  "cells": [
    {
      "cell_type": "markdown",
      "metadata": {
        "_cell_guid": "b577fe44-a935-078a-422c-2a2477b497a2"
      },
      "source": [
        "This is my first classifier that I build for this competition"
      ]
    },
    {
      "cell_type": "code",
      "execution_count": null,
      "metadata": {
        "_cell_guid": "6803e4e3-bca8-fb69-4cb0-a65d74b004dc"
      },
      "outputs": [],
      "source": [
        "# This Python 3 environment comes with many helpful analytics libraries installed\n",
        "# It is defined by the kaggle/python docker image: https://github.com/kaggle/docker-python\n",
        "# For example, here's several helpful packages to load in \n",
        "\n",
        "import numpy as np # linear algebra\n",
        "import pandas as pd # data processing, CSV file I/O (e.g. pd.read_csv)\n",
        "from sklearn.neural_network import MLPClassifier\n",
        "from sklearn.preprocessing import StandardScaler\n",
        "\n",
        "# Input data files are available in the \"../input/\" directory.\n",
        "# For example, running this (by clicking run or pressing Shift+Enter) will list the files in the input directory\n",
        "\n",
        "from subprocess import check_output\n",
        "print(check_output([\"ls\", \"../input\"]).decode(\"utf8\"))\n",
        "\n",
        "# Any results you write to the current directory are saved as output."
      ]
    },
    {
      "cell_type": "code",
      "execution_count": null,
      "metadata": {
        "_cell_guid": "940189aa-9aed-dc79-d7ee-c32e63101233"
      },
      "outputs": [],
      "source": [
        "#Inputing the train and test data that will be used\n",
        "titanic_train = pd.read_csv('../input/train.csv')\n",
        "titanic_test = pd.read_csv('../input/test.csv')"
      ]
    },
    {
      "cell_type": "code",
      "execution_count": null,
      "metadata": {
        "_cell_guid": "31b0590e-f8d8-3759-1dcb-d9e76d30b76b"
      },
      "outputs": [],
      "source": [
        "#Data preprocessing before used in a neural network\n",
        "titanic_train['Age'] = titanic_train['Age'].fillna(titanic_train['Age'].median())\n",
        "titanic_test['Age'] = titanic_test['Age'].fillna(titanic_test['Age'].median())\n",
        "titanic_train['Fare'] = titanic_train['Fare'].fillna(titanic_train['Fare'].median())\n",
        "titanic_test['Fare'] = titanic_test['Fare'].fillna(titanic_test['Fare'].median())\n",
        "titanic = titanic_train.append(titanic_test)\n",
        "titanic['Embarked'] = titanic['Embarked'].fillna('S')\n",
        "titanic.loc[titanic['Embarked'] == 'S', 'Embarked'] = 1\n",
        "titanic.loc[titanic['Embarked'] == 'C', 'Embarked'] = 0\n",
        "titanic.loc[titanic['Embarked'] == 'Q', 'Embarked'] = 2\n",
        "titanic.loc[titanic['Sex'] == 'male', 'Sex'] = 0\n",
        "titanic.loc[titanic['Sex'] == 'female', 'Sex'] = 1\n",
        "titanic_train = titanic[:891]\n",
        "titanic_test = titanic[891:]\n",
        "clf_train_output = titanic_train['Survived'].values.tolist()\n",
        "clf_train_input = titanic_train[['Pclass','Sex','Age','SibSp','Parch','Fare','Embarked']]\n",
        "clf_test_input = titanic_test[['Pclass','Sex','Age','SibSp','Parch','Fare','Embarked']]\n",
        "#Feature Scaling\n",
        "scaler = StandardScaler()\n",
        "scaler.fit(clf_train_input)\n",
        "clf_train_input = scaler.transform(clf_train_input)\n",
        "clf_test_input = scaler.transform(clf_test_input)"
      ]
    },
    {
      "cell_type": "code",
      "execution_count": null,
      "metadata": {
        "_cell_guid": "8dceae36-b172-31e1-09ab-e584f4a6427b"
      },
      "outputs": [],
      "source": [
        "#Training Classifier\n",
        "clf = MLPClassifier(solver='lbfgs', alpha = 1e-4, hidden_layer_sizes = (6,3) , random_state = 1, max_iter = 5000)\n",
        "clf.fit(clf_train_input,clf_train_output)"
      ]
    },
    {
      "cell_type": "code",
      "execution_count": null,
      "metadata": {
        "_cell_guid": "89ff7345-92bc-b18a-7034-344108f78d51"
      },
      "outputs": [],
      "source": [
        "#Running Classifier onto the test dataset\n",
        "clf_test_output = clf.predict(clf_test_input)\n",
        "clf_test_output"
      ]
    },
    {
      "cell_type": "code",
      "execution_count": null,
      "metadata": {
        "_cell_guid": "3be9f31d-a4df-d1e7-30a2-1367fce3e684"
      },
      "outputs": [],
      "source": [
        "#Comparing predicted to output to actual prediction\n",
        "clf_accuracy = clf.score(clf_train_input,clf_train_output) * 100\n",
        "clf_accuracy"
      ]
    },
    {
      "cell_type": "code",
      "execution_count": null,
      "metadata": {
        "_cell_guid": "9b210ddb-f066-a274-0cf8-6278fb8d82b5"
      },
      "outputs": [],
      "source": [
        "#Submitting result\n",
        "submission = pd.DataFrame({\n",
        "    \"PassengerId\": titanic_test[\"PassengerId\"],\n",
        "    \"Survived\": clf_test_output\n",
        "})\n",
        "submission.to_csv('submission.csv', index = False)\n",
        "submission"
      ]
    },
    {
      "cell_type": "code",
      "execution_count": null,
      "metadata": {
        "_cell_guid": "417b7db6-becf-a4e8-3f13-bb0b9a106e23"
      },
      "outputs": [],
      "source": [
        ""
      ]
    },
    {
      "cell_type": "code",
      "execution_count": null,
      "metadata": {
        "_cell_guid": "1e170cb5-0ec1-ac59-1457-0427100b77cd"
      },
      "outputs": [],
      "source": [
        ""
      ]
    },
    {
      "cell_type": "code",
      "execution_count": null,
      "metadata": {
        "_cell_guid": "baddf8f7-fc6d-8a83-c28e-9ffed409e6e1"
      },
      "outputs": [],
      "source": [
        ""
      ]
    },
    {
      "cell_type": "code",
      "execution_count": null,
      "metadata": {
        "_cell_guid": "0a427451-41ab-1dff-d984-f88388eaf153"
      },
      "outputs": [],
      "source": [
        ""
      ]
    },
    {
      "cell_type": "code",
      "execution_count": null,
      "metadata": {
        "_cell_guid": "257565d0-ddb8-96a9-565c-73173066be7b"
      },
      "outputs": [],
      "source": [
        ""
      ]
    }
  ],
  "metadata": {
    "_change_revision": 0,
    "_is_fork": false,
    "kernelspec": {
      "display_name": "Python 3",
      "language": "python",
      "name": "python3"
    },
    "language_info": {
      "codemirror_mode": {
        "name": "ipython",
        "version": 3
      },
      "file_extension": ".py",
      "mimetype": "text/x-python",
      "name": "python",
      "nbconvert_exporter": "python",
      "pygments_lexer": "ipython3",
      "version": "3.5.2"
    }
  },
  "nbformat": 4,
  "nbformat_minor": 0
}