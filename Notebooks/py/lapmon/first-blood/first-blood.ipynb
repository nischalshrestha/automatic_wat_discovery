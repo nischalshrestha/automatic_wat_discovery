{"cells":[
 {
  "cell_type": "markdown",
  "metadata": {},
  "source": "> This is the first kaggle made early.Thanks to those kind people who share thoughts on the forum.Help me a lot.\n\n> Welcome any good suggestion both on improving behaviour or coding style \n"
 },
 {
  "cell_type": "code",
  "execution_count": null,
  "metadata": {
   "collapsed": false
  },
  "outputs": [],
  "source": "%matplotlib inline\nimport numpy as np\nimport pandas as pd\nimport seaborn as sns\nimport matplotlib.pyplot as plt\nsns.set(color_codes=True)"
 },
 {
  "cell_type": "markdown",
  "metadata": {},
  "source": "# data process & feature engineering\n\n## check data\n\n'Age' 'Embarked' has nan\n\n- Pclass：几等仓\n- cabin: 客舱\n- SibSp：兄弟姐妹/配偶\n- Parch：Parents/Children\n- Embarked：上船港口"
 },
 {
  "cell_type": "code",
  "execution_count": null,
  "metadata": {
   "collapsed": false
  },
  "outputs": [],
  "source": "df = pd.read_csv('../input/train.csv')\ndf.head(1)"
 },
 {
  "cell_type": "code",
  "execution_count": null,
  "metadata": {
   "collapsed": false
  },
  "outputs": [],
  "source": "df.describe()"
 },
 {
  "cell_type": "code",
  "execution_count": null,
  "metadata": {
   "collapsed": false
  },
  "outputs": [],
  "source": "df.count()"
 },
 {
  "cell_type": "code",
  "execution_count": null,
  "metadata": {
   "collapsed": false
  },
  "outputs": [],
  "source": "df_pred = pd.read_csv('../input/test.csv')\ndf_pred.count()"
 },
 {
  "cell_type": "markdown",
  "metadata": {},
  "source": "### feature engineering\n\n- 'Cabin' as sparse as 20+% ,so drop it;\n- 'Age', 'Fare' need fill_na strategy\n- 'Embarked' has very few nan, so choose easy ways:make a na-feature or just drop"
 },
 {
  "cell_type": "code",
  "execution_count": null,
  "metadata": {
   "collapsed": false
  },
  "outputs": [],
  "source": "df_data = df.copy()\nprint(float(df['Cabin'].count()) / df.shape[0])\nprint((float)(df_pred['Cabin'].count()) / df_pred.shape[0])"
 },
 {
  "cell_type": "markdown",
  "metadata": {},
  "source": "#### pclass sex"
 },
 {
  "cell_type": "code",
  "execution_count": null,
  "metadata": {
   "collapsed": false
  },
  "outputs": [],
  "source": "df_data = pd.concat([df_data, pd.get_dummies(df_data['Pclass'], prefix='Pclass')], axis=1)\n#data = pd.concat([data, pd.get_dummies(data['Sex'], prefix='Sex')], axis=1)\ndf_data['Gender'] = df_data['Sex'].map({'female': 0, 'male': 1}).astype(int)"
 },
 {
  "cell_type": "markdown",
  "metadata": {},
  "source": "### family\n\nsurvived factor : family size\n\nexpired by Megan Risdal's submission.split to three category variables"
 },
 {
  "cell_type": "code",
  "execution_count": null,
  "metadata": {
   "collapsed": false
  },
  "outputs": [],
  "source": "#sns.countplot(x=\"Pclass\", data=train, palette=\"Greens_d\")\ndf_data['Family'] = df_data['SibSp'] + df_data['Parch'] + 1\nsns.countplot(x=\"Family\", data=df_data, hue='Survived')"
 },
 {
  "cell_type": "code",
  "execution_count": null,
  "metadata": {
   "collapsed": false
  },
  "outputs": [],
  "source": "df_data['Singleton'] = (df_data['Family'] == 1).astype(int)\ndf_data['FamilySmall'] = np.logical_and(df_data['Family'] > 1, df_data['Family'] < 5).astype(int)\ndf_data['FamilyLarge'] = (df_data['Family'] >= 5).astype(int)\ndf_data['FamilySize'] = df_data['Singleton'] + df_data['FamilySmall']*2 + df_data['FamilyLarge']*3\nsns.countplot(x=\"FamilySize\", data=df_data, hue='Survived')"
 },
 {
  "cell_type": "markdown",
  "metadata": {},
  "source": "### Age \n\n#### new feature: Child\n\nnotice the inflection point of the curve"
 },
 {
  "cell_type": "code",
  "execution_count": null,
  "metadata": {
   "collapsed": false
  },
  "outputs": [],
  "source": "sns.distplot(df_data[\"Age\"].dropna(), rug=False, kde=True, hist=True)"
 },
 {
  "cell_type": "code",
  "execution_count": null,
  "metadata": {
   "collapsed": false
  },
  "outputs": [],
  "source": "facet = sns.FacetGrid(df_data, hue=\"Survived\",aspect=4)\nfacet.map(sns.kdeplot,'Age',shade= True)\nfacet.set(xlim=(0, df_data['Age'].max()))\nfacet.add_legend()"
 },
 {
  "cell_type": "markdown",
  "metadata": {},
  "source": "child > 10 and < 10 seems distribute differently. Add new category feature 'Child'"
 },
 {
  "cell_type": "code",
  "execution_count": null,
  "metadata": {
   "collapsed": false
  },
  "outputs": [],
  "source": "df_data['Child'] = (df_data['Age'] < 10).astype(int)"
 },
 {
  "cell_type": "markdown",
  "metadata": {},
  "source": "#### fill na\n\nperson with large number of fanily maybe likely to be younger, not so clearly, think about it later"
 },
 {
  "cell_type": "code",
  "execution_count": null,
  "metadata": {
   "collapsed": false
  },
  "outputs": [],
  "source": "sns.boxplot(x=\"Family\", y=\"Age\", data=df_data)"
 },
 {
  "cell_type": "code",
  "execution_count": null,
  "metadata": {
   "collapsed": false
  },
  "outputs": [],
  "source": "#age_mean = df_data['Age'].mean()\n#df_data['Age'] = df_data['Age'].fillna(df_data['Age'].mean())\nprint((float)(df_data['Age'].count()) / df_data.shape[0])"
 },
 {
  "cell_type": "markdown",
  "metadata": {},
  "source": "'Age' missing 20% and due to feature importance(previous experiment result) ,it has an unignore influence on result.So try to process it more precisely: regression.\n\nprocess lit later when other feature dealed"
 },
 {
  "cell_type": "markdown",
  "metadata": {},
  "source": "### fare\n\nsimplely use median or mean maybe not a good idea.\n\n'Pclass' 'Sex' \"Embarked\" related to 'Fare' seems rational "
 },
 {
  "cell_type": "code",
  "execution_count": null,
  "metadata": {
   "collapsed": false
  },
  "outputs": [],
  "source": "sns.distplot(df_data[\"Fare\"].dropna(), rug = False,kde=True,hist=False)"
 },
 {
  "cell_type": "code",
  "execution_count": null,
  "metadata": {
   "collapsed": false
  },
  "outputs": [],
  "source": "sns.pointplot(x=\"Pclass\", y=\"Fare\", hue='Sex', data=df_data)"
 },
 {
  "cell_type": "code",
  "execution_count": null,
  "metadata": {
   "collapsed": false
  },
  "outputs": [],
  "source": "fare_means = df_data.pivot_table(values='Fare', columns=['Pclass','Sex','Embarked'], aggfunc='mean')\nfare_means"
 },
 {
  "cell_type": "markdown",
  "metadata": {},
  "source": "### Embarked\n\nonly two miss sample,drop or use na column"
 },
 {
  "cell_type": "code",
  "execution_count": null,
  "metadata": {
   "collapsed": false
  },
  "outputs": [],
  "source": "df_data[df_data['Embarked'].isnull()]"
 },
 {
  "cell_type": "code",
  "execution_count": null,
  "metadata": {
   "collapsed": false
  },
  "outputs": [],
  "source": "#data.drop(data.index[[61,829]], inplace=True, axis=0)\ndf_data = pd.concat([df_data, pd.get_dummies(df_data['Embarked'], prefix='Embarked', dummy_na=True)], axis=1)"
 },
 {
  "cell_type": "markdown",
  "metadata": {},
  "source": "### regression predict missing age     "
 },
 {
  "cell_type": "code",
  "execution_count": null,
  "metadata": {
   "collapsed": false
  },
  "outputs": [],
  "source": "df_use_reg = df_data[['PassengerId', 'Survived', 'Age', 'SibSp', 'Parch', 'Fare', 'Pclass_1', \\\n                   'Pclass_2', 'Pclass_3', 'Gender', 'Singleton', 'FamilySmall', 'FamilyLarge', 'Child', \\\n                   'Embarked_C', 'Embarked_Q', 'Embarked_S', 'Embarked_nan']]"
 },
 {
  "cell_type": "code",
  "execution_count": null,
  "metadata": {
   "collapsed": false
  },
  "outputs": [],
  "source": "from sklearn.svm import SVR\nfrom sklearn.grid_search import GridSearchCV\n\nX_age=df_use_reg.dropna().as_matrix()[:,3:]\ny_age=df_use_reg.dropna().as_matrix()[:,2].astype(float)\nX_age_pred=df_use_reg[df_use_reg['Age'].isnull()].as_matrix()[:,3:]\nX_age.shape, X_age_pred.shape"
 },
 {
  "cell_type": "code",
  "execution_count": null,
  "metadata": {
   "collapsed": false
  },
  "outputs": [],
  "source": "svr = GridSearchCV(SVR(kernel='rbf', gamma=0.1), cv=5,\n                   param_grid={\"C\": [1e0, 1e1, 1e2, 1e3],\n                               \"gamma\": np.logspace(-2, 2, 5)})\nsvr.fit(X_age, y_age)\ndf_data['Age']=df_use_reg.apply(lambda x: svr.predict(x[3:].reshape(1, -1)) if pd.isnull(x['Age']) else x['Age'], axis=1)"
 },
 {
  "cell_type": "markdown",
  "metadata": {},
  "source": "### scale"
 },
 {
  "cell_type": "code",
  "execution_count": null,
  "metadata": {
   "collapsed": false
  },
  "outputs": [],
  "source": "df_X = df_data[['Age', 'SibSp', 'Parch', 'Fare', 'Pclass_1', \\\n                   'Pclass_2', 'Pclass_3', 'Gender', 'Singleton', 'FamilySmall', 'FamilyLarge', 'Child', \\\n                   'Embarked_C', 'Embarked_Q', 'Embarked_S', 'Embarked_nan']]\n# , 'Age_square', 'Fare_square', \\\n#                   'sex_pclass', 'sex_fare', 'fare_pclass', 'age_pclass', 'fare_age', 'sex_age'\ndf_X_maxes = df_X.max()\ndf_use = df_X.apply(lambda x: x/x.max(), axis=0)\ndf_use = pd.concat([df_data[['PassengerId', 'Survived']], df_use], axis=1)\ndf_use.head(1)"
 },
 {
  "cell_type": "markdown",
  "metadata": {},
  "source": "# predict"
 },
 {
  "cell_type": "code",
  "execution_count": null,
  "metadata": {
   "collapsed": false
  },
  "outputs": [],
  "source": "from sklearn.ensemble import RandomForestClassifier\nfrom sklearn.grid_search import GridSearchCV\n\nX=df_use.as_matrix()[:,2:]\ny=df_use.as_matrix()[:,1].astype(int)\n\nest_range = list(range(10, 30, 2)) + list(range(30, 150, 10))\nfea_range = np.arange(.5,1,.1).tolist()\n\nparameter_grid = {\n    'n_estimators': est_range,\n    'max_features': fea_range,\n    'max_depth': [5., None]\n}\ngrid_search = GridSearchCV(RandomForestClassifier(n_estimators = 10), parameter_grid,\n                            cv=5, verbose=3, scoring='roc_auc')\ngrid_search.fit(X,y)\nmodel = grid_search.best_estimator_"
 },
 {
  "cell_type": "markdown",
  "metadata": {},
  "source": "### feature importance"
 },
 {
  "cell_type": "code",
  "execution_count": null,
  "metadata": {
   "collapsed": false
  },
  "outputs": [],
  "source": "feature_importance = model.feature_importances_\n# make importances relative to max importance\nfeature_importance = 100.0 * (feature_importance / feature_importance.max())\nsorted_idx = np.argsort(feature_importance)\npos = np.arange(sorted_idx.shape[0]) + .5\nplt.subplot(1, 1, 1)\nplt.barh(pos, feature_importance[sorted_idx], align='center')\nfeature_names = df_use.columns[2:]\nplt.yticks(pos, feature_names[sorted_idx])\nplt.xlabel('Relative Importance')\nplt.title('Variable Importance')\nplt.show()"
 },
 {
  "cell_type": "code",
  "execution_count": null,
  "metadata": {
   "collapsed": false
  },
  "outputs": [],
  "source": "df_pred = pd.read_csv('../input/test.csv')\ndf_pred.head(2)"
 },
 {
  "cell_type": "code",
  "execution_count": null,
  "metadata": {
   "collapsed": false
  },
  "outputs": [],
  "source": "# missing age fare\ndf_pred.count()"
 },
 {
  "cell_type": "code",
  "execution_count": null,
  "metadata": {
   "collapsed": false
  },
  "outputs": [],
  "source": "df_pred.info()"
 },
 {
  "cell_type": "code",
  "execution_count": null,
  "metadata": {
   "collapsed": false
  },
  "outputs": [],
  "source": "df_pred = pd.concat([df_pred, pd.get_dummies(df_pred['Pclass'], prefix='Pclass')], axis=1)\ndf_pred['Gender'] = df_pred['Sex'].map({'female': 0, 'male': 1}).astype(int)\ndf_pred['Fare'] = df_pred[['Fare', 'Pclass', 'Sex', 'Embarked']].apply(lambda x:\n                            fare_means[x['Pclass']][x['Sex']][x['Embarked']] if pd.isnull(x['Fare'])\n                            else x['Fare'], axis=1)\ndf_pred['Family'] = df_pred['SibSp'] + df_pred['Parch'] + 1\ndf_pred['Singleton'] = (df_pred['Family'] == 1).astype(int)\ndf_pred['FamilySmall'] = np.logical_and(df_pred['Family'] > 1, df_pred['Family'] < 5).astype(int)\ndf_pred['FamilyLarge'] = (df_pred['Family'] >= 5).astype(int)\ndf_pred['FamilySize'] = df_pred['Singleton'] + df_pred['FamilySmall']*2 + df_pred['FamilyLarge']*3\ndf_pred['Child'] = (df_pred['Age'] < 10).astype(int)\ndf_pred = pd.concat([df_pred, pd.get_dummies(df_pred['Embarked'], prefix='Embarked', dummy_na=True)], axis=1)\n\ndf_pred_use_X = df_pred[df_X.columns]\n\ndf_pred_use_X['Age']=df_pred_use_X.apply(lambda x: svr.predict(x[1:].reshape(1, -1)) if pd.isnull(x['Age']) else x['Age'], axis=1)\n\ndf_pred_use_X = df_pred_use_X / df_X_maxes\ndf_pred_use_X.head(1)"
 },
 {
  "cell_type": "code",
  "execution_count": null,
  "metadata": {
   "collapsed": false
  },
  "outputs": [],
  "source": "test_data = df_pred_use_X.values\noutput = model.predict(test_data[:,:])\nids = df_pred['PassengerId'].astype(int)\n\nresult = np.c_[ids, output.astype(int)]\ndf_result = pd.DataFrame(result[:,0:2], columns=['PassengerId', 'Survived'])\ndf_result.to_csv('03_10.csv', index=False)"
 },
 {
  "cell_type": "code",
  "execution_count": null,
  "metadata": {
   "collapsed": false
  },
  "outputs": [],
  "source": ""
 }
],"metadata":{"kernelspec":{"display_name":"Python 3","language":"python","name":"python3"}}, "nbformat": 4, "nbformat_minor": 0}