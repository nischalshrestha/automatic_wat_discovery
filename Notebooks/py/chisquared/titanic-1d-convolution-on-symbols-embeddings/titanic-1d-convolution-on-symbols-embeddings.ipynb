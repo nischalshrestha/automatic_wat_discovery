{
  "cells": [
    {
      "cell_type": "markdown",
      "metadata": {
        "_cell_guid": "acd3e712-6b7d-72c2-4fa3-e1276ce4eacb"
      },
      "source": [
        "The main idea is to use no hand crafted features at all. Let the model do it itself.\n",
        "\n",
        "We'll be applying 1d convolution on learned character embeddings of raw passenger text data (names, tickets, etc.). \n",
        "\n",
        "This, combined with numeric raw features should probably give around 0.8 accuracy (currently got 0.80861 at the leaderboard but this is subject to some randomness :).\n",
        "\n",
        "Any feedback is welcome."
      ]
    },
    {
      "cell_type": "code",
      "execution_count": null,
      "metadata": {
        "_cell_guid": "7de831aa-b85b-ef11-d0d7-a204d18b2c08"
      },
      "outputs": [],
      "source": [
        "from keras.layers import Input, Dense, Activation, merge, Conv1D, Dropout, Embedding, GlobalMaxPooling1D\n",
        "from keras.models import Model\n",
        "from keras.callbacks import Callback\n",
        "from keras.optimizers import Adam"
      ]
    },
    {
      "cell_type": "code",
      "execution_count": null,
      "metadata": {
        "_cell_guid": "a074da0f-381d-6a33-8233-380d17630975"
      },
      "outputs": [],
      "source": [
        "from sklearn.metrics import accuracy_score, roc_auc_score, log_loss"
      ]
    },
    {
      "cell_type": "code",
      "execution_count": null,
      "metadata": {
        "_cell_guid": "5198899a-b3f1-1a42-1c39-931ea34d5b0e"
      },
      "outputs": [],
      "source": [
        "%matplotlib inline\n",
        "import seaborn as sns\n",
        "import matplotlib.pyplot as plt"
      ]
    },
    {
      "cell_type": "code",
      "execution_count": null,
      "metadata": {
        "_cell_guid": "5eb65489-f533-a254-6780-1ff4ff139116"
      },
      "outputs": [],
      "source": [
        "import pandas as pd\n",
        "import numpy as np"
      ]
    },
    {
      "cell_type": "code",
      "execution_count": null,
      "metadata": {
        "_cell_guid": "7c410aad-e9f0-72ca-59f7-a8e1835540b6"
      },
      "outputs": [],
      "source": [
        "train_df = pd.read_csv(\"../input/train.csv\")\n",
        "test_df = pd.read_csv(\"../input/test.csv\")"
      ]
    },
    {
      "cell_type": "code",
      "execution_count": null,
      "metadata": {
        "_cell_guid": "87f6fb51-0c53-be00-3c97-8e9e307308a4"
      },
      "outputs": [],
      "source": [
        "labels = train_df.Survived.values\n",
        "train_df.drop('Survived', axis=1, inplace=True)"
      ]
    },
    {
      "cell_type": "code",
      "execution_count": null,
      "metadata": {
        "_cell_guid": "801aa466-af4b-437a-6b06-f3284a3de40e"
      },
      "outputs": [],
      "source": [
        "train_df = train_df.fillna(0)\n",
        "test_df = test_df.fillna(0)"
      ]
    },
    {
      "cell_type": "code",
      "execution_count": null,
      "metadata": {
        "_cell_guid": "409b296b-f0f8-b5ce-9c03-cf1f873140f7"
      },
      "outputs": [],
      "source": [
        "train_df[\"Sex\"] = train_df[\"Sex\"].apply(lambda x: 1 if x == \"male\" else 0)\n",
        "test_df[\"Sex\"] = train_df[\"Sex\"].apply(lambda x: 1 if x == \"male\" else 0)\n",
        "train_df[\"Cabin\"] = train_df[\"Cabin\"].apply(lambda x: 1 if x != 0 else 0)\n",
        "test_df[\"Cabin\"] = train_df[\"Cabin\"].apply(lambda x: 1 if x != 0 else 0)"
      ]
    },
    {
      "cell_type": "code",
      "execution_count": null,
      "metadata": {
        "_cell_guid": "c832c9f2-4dcd-2f99-18b7-145745a86864"
      },
      "outputs": [],
      "source": [
        "train_df.head()"
      ]
    },
    {
      "cell_type": "code",
      "execution_count": null,
      "metadata": {
        "_cell_guid": "8949daf8-6f26-993c-950c-9d50d5ff5fc2"
      },
      "outputs": [],
      "source": [
        "numeric_features = [\"Pclass\", \"Sex\", \"Age\", \"SibSp\", \"Parch\", \"Fare\", \"Cabin\"]"
      ]
    },
    {
      "cell_type": "code",
      "execution_count": null,
      "metadata": {
        "_cell_guid": "45831f43-4d75-dfd7-eabf-83ca45c67b84"
      },
      "outputs": [],
      "source": [
        "X_numeric = train_df[numeric_features].values"
      ]
    },
    {
      "cell_type": "code",
      "execution_count": null,
      "metadata": {
        "_cell_guid": "341fe743-4c75-9a2a-0718-48fdba83fb5c"
      },
      "outputs": [],
      "source": [
        "X_numeric.shape"
      ]
    },
    {
      "cell_type": "code",
      "execution_count": null,
      "metadata": {
        "_cell_guid": "cc8eb73b-8b57-5ebb-a88c-9723ecc61d25"
      },
      "outputs": [],
      "source": [
        "text_features = [\"Name\", \"Ticket\", \"Embarked\"]"
      ]
    },
    {
      "cell_type": "code",
      "execution_count": null,
      "metadata": {
        "_cell_guid": "06105031-a157-fd0b-b9b0-a8ddf9ef1d5b"
      },
      "outputs": [],
      "source": [
        "def load_data(symbols):\n",
        "    vocab = {}\n",
        "    words = list(symbols.lower())\n",
        "    for i, word in enumerate(words):\n",
        "        if word not in vocab:\n",
        "            vocab[word] = len(vocab)\n",
        "    print('corpus length:', len(words))\n",
        "    print('vocab size:', len(vocab))\n",
        "    return vocab"
      ]
    },
    {
      "cell_type": "code",
      "execution_count": null,
      "metadata": {
        "_cell_guid": "5e25f2aa-58f5-b872-d97a-658476bb8173"
      },
      "outputs": [],
      "source": [
        "all_symbols = \"\"\n",
        "for x in train_df[text_features].values:\n",
        "    all_symbols += \" \".join(map(str, x)) + \" \""
      ]
    },
    {
      "cell_type": "code",
      "execution_count": null,
      "metadata": {
        "_cell_guid": "6673c3cb-015d-76f8-d6d2-dcc0fa3b1783"
      },
      "outputs": [],
      "source": [
        "vocab = load_data(all_symbols)"
      ]
    },
    {
      "cell_type": "code",
      "execution_count": null,
      "metadata": {
        "_cell_guid": "3ef968a9-3ad1-fe6d-f7b7-de66fb8cad76"
      },
      "outputs": [],
      "source": [
        "max_name_length = train_df.Name.apply(len).max()\n",
        "max_ticket_length = train_df.Ticket.apply(len).max()\n",
        "train_df[\"Embarked\"] = train_df.Embarked.apply(lambda x: \"s\" if x == 0 else x.lower())\n",
        "max_embarked_length = train_df.Embarked.apply(len).max()"
      ]
    },
    {
      "cell_type": "code",
      "execution_count": null,
      "metadata": {
        "_cell_guid": "61bcee3d-c1db-bcc6-3f40-8c843d339510"
      },
      "outputs": [],
      "source": [
        "X_text = np.zeros((891, max_name_length + max_ticket_length + max_embarked_length))"
      ]
    },
    {
      "cell_type": "code",
      "execution_count": null,
      "metadata": {
        "_cell_guid": "15ce1d43-7cda-5984-4351-31cba59e35e5"
      },
      "outputs": [],
      "source": [
        "for e, i in enumerate(train_df[text_features].iterrows()):\n",
        "    name = i[1][\"Name\"].lower()\n",
        "    ticket = i[1][\"Ticket\"].lower()\n",
        "    emb = i[1][\"Embarked\"].lower()\n",
        "    for p, w in enumerate(name):\n",
        "        X_text[e, p] = vocab[w]\n",
        "    for p, w in enumerate(ticket):\n",
        "        X_text[e, p + max_name_length] = vocab[w]\n",
        "    for p, w in enumerate(emb):\n",
        "        X_text[e, p + max_name_length + max_ticket_length] = vocab[w] "
      ]
    },
    {
      "cell_type": "code",
      "execution_count": null,
      "metadata": {
        "_cell_guid": "34213336-97be-88c2-b25f-b1d958fd7e81"
      },
      "outputs": [],
      "source": [
        "X_text.shape"
      ]
    },
    {
      "cell_type": "code",
      "execution_count": null,
      "metadata": {
        "_cell_guid": "2f8c08b6-1cda-1340-6c87-6fd7f4ab148c"
      },
      "outputs": [],
      "source": [
        "split_n = int(0.25 * len(train_df))"
      ]
    },
    {
      "cell_type": "code",
      "execution_count": null,
      "metadata": {
        "_cell_guid": "e41787e7-a3d3-e4d7-9ff1-d5649aeb4b27"
      },
      "outputs": [],
      "source": [
        "X_text_train, X_text_test = X_text[split_n:], X_text[:split_n]\n",
        "X_numeric_train, X_numeric_test = X_numeric[split_n:], X_numeric[:split_n]\n",
        "y_train, y_test = labels[split_n:], labels[:split_n]"
      ]
    },
    {
      "cell_type": "code",
      "execution_count": null,
      "metadata": {
        "_cell_guid": "0a982ce0-c093-3290-1866-538cf2a4da4a"
      },
      "outputs": [],
      "source": [
        "y_train.mean(), y_test.mean()"
      ]
    },
    {
      "cell_type": "code",
      "execution_count": null,
      "metadata": {
        "_cell_guid": "b8bd842e-f393-fd81-e381-fe1178e939f1"
      },
      "outputs": [],
      "source": [
        "numeric_input = Input(shape=(7,), name='numeric_input')\n",
        "y = Dense(3)(numeric_input)\n",
        "\n",
        "text_input = Input(shape=(101,), name='text_input')\n",
        "x = Embedding(len(vocab), 64, input_length=101) (text_input)\n",
        "x = Conv1D(16, 4, activation='relu', subsample_length=1)(x)\n",
        "x = GlobalMaxPooling1D()(x)\n",
        "x = Dense(16)(x)\n",
        "x = Dropout(0.5)(x)\n",
        "\n",
        "conv_output = Dense(1, activation='sigmoid', name='conv_output')(x)\n",
        "\n",
        "x = merge([x, y], mode='concat')\n",
        "\n",
        "preds = Dense(1, activation='sigmoid', name='main_output')(x)"
      ]
    },
    {
      "cell_type": "code",
      "execution_count": null,
      "metadata": {
        "_cell_guid": "e743e620-e3b8-7068-d232-50c2e3202f74"
      },
      "outputs": [],
      "source": [
        "adam = Adam(lr=0.0001)"
      ]
    },
    {
      "cell_type": "code",
      "execution_count": null,
      "metadata": {
        "_cell_guid": "624a2c06-fcd6-c9fe-3d07-566fde9f3be8"
      },
      "outputs": [],
      "source": [
        "model = Model(input=[numeric_input, text_input], output=[preds, conv_output])\n",
        "model.compile(loss='binary_crossentropy', \n",
        "              optimizer=adam,\n",
        "              metrics=[\"accuracy\"],\n",
        "              loss_weights=[1, 0.2])"
      ]
    },
    {
      "cell_type": "code",
      "execution_count": null,
      "metadata": {
        "_cell_guid": "1e98daf5-3e6b-9448-f7a0-4ff967e5614b"
      },
      "outputs": [],
      "source": [
        "model.summary()"
      ]
    },
    {
      "cell_type": "code",
      "execution_count": null,
      "metadata": {
        "_cell_guid": "7a8be2dd-7c07-de91-42af-843a656d4efc"
      },
      "outputs": [],
      "source": [
        "N_EPOCHS = 100"
      ]
    },
    {
      "cell_type": "code",
      "execution_count": null,
      "metadata": {
        "_cell_guid": "db3ffee9-5cb2-5345-9b6f-7296e2e33f93"
      },
      "outputs": [],
      "source": [
        "#The code below runs about 22 sec on my Titan X"
      ]
    },
    {
      "cell_type": "code",
      "execution_count": null,
      "metadata": {
        "_cell_guid": "16ef4245-8583-e790-b8c6-4da3d15594db"
      },
      "outputs": [],
      "source": [
        "%%time\n",
        "train_scores = []\n",
        "test_scores = []\n",
        "for epoch in range(N_EPOCHS):\n",
        "    model.fit([X_numeric_train, X_text_train], [y_train, y_train], nb_epoch=1, batch_size=8, verbose=0)\n",
        "    probas = model.predict([X_numeric_train, X_text_train])[0]\n",
        "    a, r, l = accuracy_score(y_train, probas > 0.5), roc_auc_score(y_train, probas), log_loss(y_train, probas)\n",
        "    train_scores.append((a, r, l))\n",
        "    probas = model.predict([X_numeric_test, X_text_test])[0]\n",
        "    a, r, l = accuracy_score(y_test, probas > 0.5), roc_auc_score(y_test, probas), log_loss(y_test, probas)\n",
        "    test_scores.append((a, r, l))"
      ]
    },
    {
      "cell_type": "code",
      "execution_count": null,
      "metadata": {
        "_cell_guid": "23577211-c350-fb4a-a6f0-1675642c8390"
      },
      "outputs": [],
      "source": [
        "probas = model.predict([X_numeric_test, X_text_test])[0]\n",
        "probas.mean()"
      ]
    },
    {
      "cell_type": "code",
      "execution_count": null,
      "metadata": {
        "_cell_guid": "0f3ac0bd-b5ef-69d6-de72-bbc6d59df1c3"
      },
      "outputs": [],
      "source": [
        "train_scores = pd.DataFrame([x for x in train_scores], columns=[\"accuracy\", \"roc_auc\", \"log_loss\"])\n",
        "test_scores = pd.DataFrame([x for x in test_scores], columns=[\"accuracy\", \"roc_auc\", \"log_loss\"])\n",
        "train_scores[\"phase\"] = \"train\"\n",
        "test_scores[\"phase\"] = \"test\"\n",
        "scores = pd.concat([train_scores, test_scores])\n",
        "scores[\"epoch\"] = scores.index"
      ]
    },
    {
      "cell_type": "code",
      "execution_count": null,
      "metadata": {
        "_cell_guid": "fc2b8b03-4afe-c692-ff92-7a07839e0ff7"
      },
      "outputs": [],
      "source": [
        "plt.plot(scores[scores.phase==\"train\"].epoch, scores[scores.phase==\"train\"].roc_auc)\n",
        "plt.plot(scores[scores.phase==\"test\"].epoch, scores[scores.phase==\"test\"].roc_auc)\n",
        "plt.show()"
      ]
    },
    {
      "cell_type": "code",
      "execution_count": null,
      "metadata": {
        "_cell_guid": "6f295366-c7ea-f83f-e9b5-838a1de7c859"
      },
      "outputs": [],
      "source": [
        "plt.plot(scores[scores.phase==\"train\"].epoch, scores[scores.phase==\"train\"].accuracy)\n",
        "plt.plot(scores[scores.phase==\"test\"].epoch, scores[scores.phase==\"test\"].accuracy)\n",
        "plt.show()"
      ]
    },
    {
      "cell_type": "code",
      "execution_count": null,
      "metadata": {
        "_cell_guid": "3d7fe30d-0bad-15de-cca5-9070e43ecba8"
      },
      "outputs": [],
      "source": [
        "plt.plot(scores[scores.phase==\"train\"].epoch, scores[scores.phase==\"train\"].log_loss)\n",
        "plt.plot(scores[scores.phase==\"test\"].epoch, scores[scores.phase==\"test\"].log_loss)\n",
        "plt.show()"
      ]
    },
    {
      "cell_type": "code",
      "execution_count": null,
      "metadata": {
        "_cell_guid": "b728478b-af28-24b5-e628-0ac9b03bd0f0"
      },
      "outputs": [],
      "source": [
        "X_numeric_submit = test_df[numeric_features].values"
      ]
    },
    {
      "cell_type": "code",
      "execution_count": null,
      "metadata": {
        "_cell_guid": "70ac4df7-aa1f-313b-abec-e7670aee95bd"
      },
      "outputs": [],
      "source": [
        "X_numeric_submit.shape"
      ]
    },
    {
      "cell_type": "code",
      "execution_count": null,
      "metadata": {
        "_cell_guid": "d647ff48-552c-85bc-076c-7bd446975fca"
      },
      "outputs": [],
      "source": [
        "X_text_submit = np.zeros((418, max_name_length + max_ticket_length + max_embarked_length))"
      ]
    },
    {
      "cell_type": "code",
      "execution_count": null,
      "metadata": {
        "_cell_guid": "068fed12-af2c-8fbe-de6f-83607f063a27"
      },
      "outputs": [],
      "source": [
        "for e, i in enumerate(test_df[text_features].iterrows()):\n",
        "    name = i[1][\"Name\"].lower()\n",
        "    ticket = i[1][\"Ticket\"].lower()\n",
        "    emb = i[1][\"Embarked\"].lower()\n",
        "    for p, w in enumerate(name):\n",
        "        X_text_submit[e, p] = vocab[w]\n",
        "    for p, w in enumerate(ticket):\n",
        "        X_text_submit[e, p + max_name_length] = vocab[w]\n",
        "    for p, w in enumerate(emb):\n",
        "        X_text_submit[e, p + max_name_length + max_ticket_length] = vocab[w] "
      ]
    },
    {
      "cell_type": "code",
      "execution_count": null,
      "metadata": {
        "_cell_guid": "df32460a-1cc8-fe20-4c2e-9eee891fd517"
      },
      "outputs": [],
      "source": [
        "X_text_submit.shape"
      ]
    },
    {
      "cell_type": "code",
      "execution_count": null,
      "metadata": {
        "_cell_guid": "92d544d0-8c84-3803-1d5f-1594a4f2cf25"
      },
      "outputs": [],
      "source": [
        "submit_probas = model.predict([X_numeric_submit, X_text_submit])[0]"
      ]
    },
    {
      "cell_type": "code",
      "execution_count": null,
      "metadata": {
        "_cell_guid": "e0097361-582a-e3cd-e713-ec1004d372ba"
      },
      "outputs": [],
      "source": [
        "np.mean(submit_probas > 0.5)"
      ]
    },
    {
      "cell_type": "code",
      "execution_count": null,
      "metadata": {
        "_cell_guid": "35992a95-0484-852f-e6d0-b83289f6fccb"
      },
      "outputs": [],
      "source": [
        "test_df.head()"
      ]
    },
    {
      "cell_type": "code",
      "execution_count": null,
      "metadata": {
        "_cell_guid": "f12d1174-b3c3-7913-992e-c2bd238240cd"
      },
      "outputs": [],
      "source": [
        "#print(\"PassengerId,Survived\")\n",
        "#for i, s in zip(test_df.PassengerId.values, submit_probas):\n",
        "#    print(i, 1 if s > 0.5 else 0, sep=\",\")"
      ]
    }
  ],
  "metadata": {
    "_change_revision": 0,
    "_is_fork": false,
    "kernelspec": {
      "display_name": "Python 3",
      "language": "python",
      "name": "python3"
    },
    "language_info": {
      "codemirror_mode": {
        "name": "ipython",
        "version": 3
      },
      "file_extension": ".py",
      "mimetype": "text/x-python",
      "name": "python",
      "nbconvert_exporter": "python",
      "pygments_lexer": "ipython3",
      "version": "3.5.2"
    }
  },
  "nbformat": 4,
  "nbformat_minor": 0
}