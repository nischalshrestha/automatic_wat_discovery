{
  "cells": [
    {
      "cell_type": "markdown",
      "metadata": {
        "_cell_guid": "86b19b5f-9717-3b0d-2075-f1a1fa357ca6"
      },
      "source": [
        "I will use Scikit-Learn's Random Forest."
      ]
    },
    {
      "cell_type": "code",
      "execution_count": null,
      "metadata": {
        "_cell_guid": "7fcf4e6c-fca6-dae4-e22f-0acb6dfbf89a"
      },
      "outputs": [],
      "source": [
        "import pandas as pd\n",
        "from sklearn.feature_extraction import DictVectorizer\n",
        "from sklearn.ensemble import RandomForestClassifier"
      ]
    },
    {
      "cell_type": "code",
      "execution_count": null,
      "metadata": {
        "_cell_guid": "9a6c5b80-d11f-ef8d-a36f-964f7f0f0832"
      },
      "outputs": [],
      "source": [
        "train = pd.read_csv('../input/train.csv')\n",
        "test = pd.read_csv('../input/test.csv')"
      ]
    },
    {
      "cell_type": "code",
      "execution_count": null,
      "metadata": {
        "_cell_guid": "1940967b-bd00-82ae-a84c-b1fff75a1dfc"
      },
      "outputs": [],
      "source": [
        "features = ['Sex', 'Pclass', 'Fare', 'Age', 'Embarked', 'SibSp', 'Parch']\n",
        "data = train[features]\n",
        "target = train['Survived']\n",
        "X = test[features]"
      ]
    },
    {
      "cell_type": "code",
      "execution_count": null,
      "metadata": {
        "_cell_guid": "a5835145-519a-ad75-466f-6cf53800b41a"
      },
      "outputs": [],
      "source": [
        "data.info()\n",
        "X.info()"
      ]
    },
    {
      "cell_type": "code",
      "execution_count": null,
      "metadata": {
        "_cell_guid": "32a00fad-c63c-1f86-441b-8edd2ad023fa"
      },
      "outputs": [],
      "source": [
        "data['Embarked'].fillna('S', inplace=True)\n",
        "X['Embarked'].fillna('S', inplace=True)"
      ]
    },
    {
      "cell_type": "code",
      "execution_count": null,
      "metadata": {
        "_cell_guid": "e396252a-8049-4944-10d3-e8593d1f9490"
      },
      "outputs": [],
      "source": [
        "data['Age'].fillna(data['Age'].mean(), inplace=True)\n",
        "X['Age'].fillna(X['Age'].mean(), inplace=True)"
      ]
    },
    {
      "cell_type": "code",
      "execution_count": null,
      "metadata": {
        "_cell_guid": "d8137252-ecd2-85cc-08b9-10c546c01a69"
      },
      "outputs": [],
      "source": [
        "data['Fare'].fillna(data['Fare'].mean(), inplace=True)\n",
        "X['Fare'].fillna(X['Fare'].mean(), inplace=True)"
      ]
    },
    {
      "cell_type": "code",
      "execution_count": null,
      "metadata": {
        "_cell_guid": "c9478e55-6f68-19d2-72f7-6556626813e7"
      },
      "outputs": [],
      "source": [
        "data.info()\n",
        "X.info()"
      ]
    },
    {
      "cell_type": "code",
      "execution_count": null,
      "metadata": {
        "_cell_guid": "a06b8b5a-53a4-fbbf-3c5f-d61ba5bc7f99"
      },
      "outputs": [],
      "source": [
        "dict_vec = DictVectorizer(sparse = False)\n",
        "data = dict_vec.fit_transform(data.to_dict(orient = 'record'))\n",
        "dict_vec.feature_names_\n",
        "X = dict_vec.fit_transform(X.to_dict(orient = 'record'))"
      ]
    },
    {
      "cell_type": "code",
      "execution_count": null,
      "metadata": {
        "_cell_guid": "47663597-ad7f-e9ef-5027-5fb38e1e80a3"
      },
      "outputs": [],
      "source": [
        "model = RandomForestClassifier()\n",
        "model.fit(data, target)\n",
        "y = model.predict(X)"
      ]
    },
    {
      "cell_type": "code",
      "execution_count": null,
      "metadata": {
        "_cell_guid": "a32b7ace-0f3a-36ce-3ab9-6dcba3404372"
      },
      "outputs": [],
      "source": [
        "rfc_submission = pd.DataFrame({'PassengerId': test['PassengerId'], 'Survived': y})\n",
        "rfc_submission.to_csv('rfc_submission.csv', index = False)"
      ]
    }
  ],
  "metadata": {
    "_change_revision": 0,
    "_is_fork": false,
    "kernelspec": {
      "display_name": "Python 3",
      "language": "python",
      "name": "python3"
    },
    "language_info": {
      "codemirror_mode": {
        "name": "ipython",
        "version": 3
      },
      "file_extension": ".py",
      "mimetype": "text/x-python",
      "name": "python",
      "nbconvert_exporter": "python",
      "pygments_lexer": "ipython3",
      "version": "3.6.0"
    }
  },
  "nbformat": 4,
  "nbformat_minor": 0
}