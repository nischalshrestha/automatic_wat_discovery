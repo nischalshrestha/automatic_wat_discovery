{
  "cells": [
    {
      "cell_type": "markdown",
      "metadata": {
        "_cell_guid": "f339662d-b9c4-0224-ec9c-a67c2b7e448b"
      },
      "source": [
        "Titanic with TensorFlow\n",
        "======================="
      ]
    },
    {
      "cell_type": "code",
      "execution_count": null,
      "metadata": {
        "_cell_guid": "70be230e-364c-8204-3b42-9afe2c9dbd13"
      },
      "outputs": [],
      "source": [
        "# Imports\n",
        "import numpy as np\n",
        "import pandas as pd\n",
        "import tensorflow as tf\n",
        "from math import isnan\n",
        "from sklearn import preprocessing\n",
        "from IPython.display import display\n",
        "\n",
        "# Datasets\n",
        "train = pd.read_csv(\"../input/train.csv\")\n",
        "train['Sex'] = train['Sex'].map({'male': 1, 'female': 0})\n",
        "test = pd.read_csv(\"../input/test.csv\")\n",
        "test['Sex'] = test['Sex'].map({'male': 1, 'female': 0})"
      ]
    },
    {
      "cell_type": "code",
      "execution_count": null,
      "metadata": {
        "_cell_guid": "d4b2c2c4-affd-42e9-db57-88b4061604c8"
      },
      "outputs": [],
      "source": [
        "display(train.head())\n",
        "display(test.head())"
      ]
    },
    {
      "cell_type": "code",
      "execution_count": null,
      "metadata": {
        "_cell_guid": "6a1a09b3-e542-be36-3c4d-3ec8fa0d5cae"
      },
      "outputs": [],
      "source": [
        "# Create train set\n",
        "train_x = train[['Pclass', 'Sex', 'Age', 'SibSp', 'Parch', 'Fare']].as_matrix()\n",
        "train_y = train[['Survived']].as_matrix()\n",
        "train_mean_age = np.mean([x for x in train_x[:,2] if not isnan(x)])\n",
        "train_x[:,2] = [(train_mean_age if isnan(x) else x) for x in train_x[:,2]]\n",
        "train_y = np.reshape(train_y, [891])\n",
        "train_x = preprocessing.scale(train_x)\n",
        "\n",
        "print('train x: ' + str(train_x.shape))\n",
        "print(train_x[:5])\n",
        "print('\\ntrain y: ' + str(train_y.shape))\n",
        "print(train_y[:5])\n",
        "\n",
        "# Create test set\n",
        "test_x = test[['Pclass', 'Sex', 'Age', 'SibSp', 'Parch', 'Fare']].as_matrix()\n",
        "test_y = test[['PassengerId']].as_matrix()\n",
        "test_mean_age = np.mean([x for x in test_x[:,2] if not isnan(x)])\n",
        "test_x[:,2] = [(test_mean_age if isnan(x) else x) for x in test_x[:,2]]\n",
        "test_x[:,5] = [(0 if isnan(x) else x) for x in test_x[:,2]]\n",
        "test_x = preprocessing.scale(test_x)\n",
        "\n",
        "print('\\ntest x: ' + str(test_x.shape))\n",
        "print(test_x[:5])\n",
        "print('\\ntest y: ' + str(test_y.shape))\n",
        "print(test_y[:5])"
      ]
    },
    {
      "cell_type": "code",
      "execution_count": null,
      "metadata": {
        "_cell_guid": "cb787154-83f7-0adb-2013-bf9c462e932f"
      },
      "outputs": [],
      "source": [
        "from sklearn import svm\n",
        "clf = svm.SVC()\n",
        "clf.fit(train_x, train_y)\n",
        "preds = clf.predict(test_x)\n",
        "print(clf.score(train_x, train_y))"
      ]
    },
    {
      "cell_type": "code",
      "execution_count": null,
      "metadata": {
        "_cell_guid": "c0733826-4c97-a49c-0ee5-b7810e27bc5e"
      },
      "outputs": [],
      "source": [
        "train_y_one_hot = np.ndarray([train_y.shape[0], 2])\n",
        "train_y_one_hot[:,0] = [(1 if x == 0 else 0) for x in train_y]\n",
        "train_y_one_hot[:,1] = [x for x in train_y]"
      ]
    },
    {
      "cell_type": "code",
      "execution_count": null,
      "metadata": {
        "_cell_guid": "efb0632d-2d80-c0f7-4e4d-4e20f70137a3"
      },
      "outputs": [],
      "source": [
        "# Variables\n",
        "hidden_nodes = 4\n",
        "output_nodes = 2\n",
        "reg_constant = 4e-5\n",
        "\n",
        "# Graph\n",
        "graph = tf.Graph()\n",
        "with graph.as_default():\n",
        "    # Data\n",
        "    train_x_tf = tf.constant(train_x, tf.float32)\n",
        "    train_y_tf = tf.constant(train_y_one_hot, tf.float32)\n",
        "    test_x_tf = tf.constant(test_x, tf.float32)\n",
        "\n",
        "    # Weights and biases\n",
        "    hidden_weights = tf.Variable(tf.random_normal([train_x.shape[1], hidden_nodes], stddev=0.1))\n",
        "    hidden_bias = tf.Variable(tf.zeros(hidden_nodes))\n",
        "    output_weights = tf.Variable(tf.random_normal([hidden_nodes, output_nodes], stddev=0.1))\n",
        "    output_bias = tf.Variable(tf.zeros(output_nodes))\n",
        "    \n",
        "    # Output\n",
        "    def model(data, dropout):\n",
        "        hidden = tf.nn.relu(tf.matmul(data, hidden_weights) + hidden_bias)\n",
        "        return tf.matmul(hidden, output_weights) + output_bias\n",
        "                \n",
        "    train_output = model(train_x_tf, True)\n",
        "    test_output = model(test_x_tf, False)\n",
        "    \n",
        "    # Regularization\n",
        "    reg = reg_constant * (tf.nn.l2_loss(hidden_weights) + \n",
        "                          tf.nn.l2_loss(hidden_bias) +\n",
        "                          tf.nn.l2_loss(output_weights) +\n",
        "                          tf.nn.l2_loss(output_bias))\n",
        "    \n",
        "    # Loss\n",
        "    loss = tf.reduce_mean(tf.nn.softmax_cross_entropy_with_logits(\n",
        "        train_output, train_y_tf) + reg)\n",
        "\n",
        "    # Optimizer\n",
        "    optimizer = tf.train.AdamOptimizer().minimize(loss)\n",
        "\n",
        "    # Predictions\n",
        "    train_preds = tf.nn.softmax(train_output)\n",
        "    test_preds = tf.nn.softmax(test_output)\n",
        "\n",
        "# Session\n",
        "with tf.Session(graph=graph) as session:\n",
        "    tf.initialize_all_variables().run()\n",
        "    \n",
        "    for i in range(10000):\n",
        "        _, l, preds = session.run([optimizer, loss, train_preds])\n",
        "             \n",
        "    print(sum(np.argmax(preds, 1) == train_y) / len(preds))\n",
        "    test_preds_eval = test_preds.eval()"
      ]
    },
    {
      "cell_type": "code",
      "execution_count": null,
      "metadata": {
        "_cell_guid": "b828c4ec-4500-5094-c697-d1db13c6fac0"
      },
      "outputs": [],
      "source": [
        "predictions = np.zeros([test_x.shape[0], 2], np.int16)\n",
        "predictions[:,0] = test_y[:,0]\n",
        "#predictions[:,1] = preds\n",
        "predictions[:,1] = np.argmax(test_preds_eval, 1)\n",
        "np.savetxt('preds.csv', \n",
        "           predictions, \n",
        "           fmt='%i', \n",
        "           delimiter=',', \n",
        "           header='PassengerId,Survived', \n",
        "           comments='')"
      ]
    }
  ],
  "metadata": {
    "_change_revision": 0,
    "_is_fork": false,
    "kernelspec": {
      "display_name": "Python 3",
      "language": "python",
      "name": "python3"
    },
    "language_info": {
      "codemirror_mode": {
        "name": "ipython",
        "version": 3
      },
      "file_extension": ".py",
      "mimetype": "text/x-python",
      "name": "python",
      "nbconvert_exporter": "python",
      "pygments_lexer": "ipython3",
      "version": "3.5.2"
    }
  },
  "nbformat": 4,
  "nbformat_minor": 0
}