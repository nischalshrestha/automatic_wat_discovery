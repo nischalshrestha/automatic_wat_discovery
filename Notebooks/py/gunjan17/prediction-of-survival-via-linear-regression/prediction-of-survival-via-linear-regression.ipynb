{
  "cells": [
    {
      "cell_type": "markdown",
      "metadata": {
        "_cell_guid": "fa3c968f-ea8f-3683-6965-aa711b8d87a1"
      },
      "source": [
        ""
      ]
    },
    {
      "cell_type": "markdown",
      "metadata": {
        "_cell_guid": "1d153572-b306-fe2b-a326-4fe824c4bfce"
      },
      "source": [
        "For the prediction doing the following things\n",
        "\n",
        " - Load data\n",
        " - Clean data\n",
        " - select useful data\n",
        " - predict the data\n"
      ]
    },
    {
      "cell_type": "code",
      "execution_count": null,
      "metadata": {
        "_cell_guid": "1c907420-0158-2815-443f-0c7bbbe44b78"
      },
      "outputs": [],
      "source": [
        "#importing the data & liberary\n",
        "import pandas as pd\n",
        "import numpy as np\n",
        "\n",
        "train = pd.read_csv(\"../input/train.csv\")\n",
        "test = pd.read_csv(\"../input/test.csv\")"
      ]
    },
    {
      "cell_type": "code",
      "execution_count": null,
      "metadata": {
        "_cell_guid": "32b45e1f-b7f7-a195-1a91-c6dab0e0c773"
      },
      "outputs": [],
      "source": [
        "#for linear regression\n",
        "from sklearn import linear_model\n",
        "#for plotting the data\n",
        "import seaborn as sns\n",
        "import matplotlib.pyplot as plt"
      ]
    },
    {
      "cell_type": "code",
      "execution_count": null,
      "metadata": {
        "_cell_guid": "fd72dc68-424f-505f-673d-48a7d8bd6cf2"
      },
      "outputs": [],
      "source": [
        "#checking the data\n",
        "train.head()\n",
        "#useful colums are\n",
        "#pclass ,sex,age,fare,embarked"
      ]
    },
    {
      "cell_type": "code",
      "execution_count": null,
      "metadata": {
        "_cell_guid": "2a922d53-10b5-57d7-53cb-f6586c533209"
      },
      "outputs": [],
      "source": [
        "#checking the useful data\n",
        "train.describe()"
      ]
    },
    {
      "cell_type": "code",
      "execution_count": null,
      "metadata": {
        "_cell_guid": "d922c379-cbca-84b1-e628-9e896ecc9dbb"
      },
      "outputs": [],
      "source": [
        "#cleaning the data\n",
        "#pclass ,sex,age,fare,embarked\n",
        "train[\"Age\"].isnull().sum()\n",
        "train[\"Age\"] = train[\"Age\"].fillna(train[\"Age\"].median())\n",
        "train[\"Age\"].isnull().sum()"
      ]
    },
    {
      "cell_type": "code",
      "execution_count": null,
      "metadata": {
        "_cell_guid": "a4e1a5d2-5446-4e56-2451-c21da2f25ddd"
      },
      "outputs": [],
      "source": [
        "train[\"SibSp\"].isnull().sum()\n"
      ]
    },
    {
      "cell_type": "code",
      "execution_count": null,
      "metadata": {
        "_cell_guid": "e0781ecf-a8ef-c6e3-eda1-68937cb55372"
      },
      "outputs": [],
      "source": [
        "train[\"Embarked\"].isnull().sum()\n",
        "train[\"Embarked\"]=train[\"Embarked\"].fillna(\"S\")"
      ]
    },
    {
      "cell_type": "code",
      "execution_count": null,
      "metadata": {
        "_cell_guid": "67a8eb25-edf3-e8bb-dddc-cc5e96068b88"
      },
      "outputs": [],
      "source": [
        "#ploting the data for embarked\n",
        "sns.factorplot('Embarked','Survived', data=train,size=4,aspect=3)\n",
        "fig, (axis1,axis2,axis3) = plt.subplots(1,3,figsize=(15,5))\n",
        "\n",
        "sns.countplot(x='Embarked', data=train, ax=axis1)\n",
        "sns.countplot(x='Survived', hue=\"Embarked\", data=train, order=[1,0], ax=axis2)\n",
        "\n",
        "\n",
        "# group by embarked, and get the mean for survived passengers for each value in Embarked\n",
        "embark_perc = train[[\"Embarked\", \"Survived\"]].groupby(['Embarked'],as_index=False).mean()\n",
        "sns.barplot(x='Embarked', y='Survived', data=embark_perc,order=['S','C','Q'],ax=axis3)\n",
        "\n",
        "plt.show()"
      ]
    },
    {
      "cell_type": "code",
      "execution_count": null,
      "metadata": {
        "_cell_guid": "b241c227-8dd1-566f-fa08-eb1ede3700a3"
      },
      "outputs": [],
      "source": [
        "#checking for the  fare\n",
        "\n",
        "train[\"Fare\"].plot(kind='hist',bins=100)"
      ]
    },
    {
      "cell_type": "code",
      "execution_count": null,
      "metadata": {
        "_cell_guid": "3943dc5c-b78a-daee-3bf9-2b8b48541cdb"
      },
      "outputs": [],
      "source": [
        "#Age\n",
        "\n",
        "train['Age'].plot(kind='hist',bins=70)\n",
        "age_perc = train[[\"Age\", \"Survived\"]].groupby(['Age'],as_index=False).mean()\n",
        "sns.barplot(x='Age', y='Survived', data=age_perc,ax=axis3)"
      ]
    },
    {
      "cell_type": "code",
      "execution_count": null,
      "metadata": {
        "_cell_guid": "28b79200-c4c8-a654-197c-fb90b67b2979"
      },
      "outputs": [],
      "source": [
        "sns.barplot(x='Age', y='Survived', data=age_perc)"
      ]
    },
    {
      "cell_type": "code",
      "execution_count": null,
      "metadata": {
        "_cell_guid": "775eaeaa-954d-baa2-c73c-606dfcd7f718"
      },
      "outputs": [],
      "source": [
        "#Sex\n",
        "sex_perc = train[[\"Sex\", \"Survived\"]].groupby(['Sex'],as_index=False).mean()\n",
        "sns.barplot(x='Sex', y='Survived', data=sex_perc)\n",
        "\n",
        "plt.show()"
      ]
    },
    {
      "cell_type": "code",
      "execution_count": null,
      "metadata": {
        "_cell_guid": "c914d93f-b10b-93e2-46bd-4a2b7a3f8386"
      },
      "outputs": [],
      "source": [
        "#now the sex and embarked change to the numerical values\n",
        "\n",
        "train.loc[train[\"Sex\"] == \"male\", \"Sex\"] = 0\n",
        "train.loc[train[\"Sex\"]==\"female\",\"Sex\"]=1\n",
        "\n",
        "train.loc[train[\"Embarked\"]==\"S\",\"Embarked\"] =0\n",
        "train.loc[train[\"Embarked\"]==\"C\",\"Embarked\"] =1\n",
        "train.loc[train[\"Embarked\"]==\"Q\",\"Embarked\"] =2"
      ]
    },
    {
      "cell_type": "code",
      "execution_count": null,
      "metadata": {
        "_cell_guid": "96a58cfe-b268-507e-ef95-54053f1f56ee"
      },
      "outputs": [],
      "source": [
        "pd.to_numeric(train[\"Sex\"])\n",
        "pd.to_numeric(train[\"Embarked\"])"
      ]
    },
    {
      "cell_type": "code",
      "execution_count": null,
      "metadata": {
        "_cell_guid": "2175184c-8df7-168e-ed8a-f397f04384de"
      },
      "outputs": [],
      "source": [
        "train.describe()"
      ]
    },
    {
      "cell_type": "code",
      "execution_count": null,
      "metadata": {
        "_cell_guid": "607fd6c2-d0b5-1249-157c-c785d5b92d77"
      },
      "outputs": [],
      "source": [
        "#taking the useful data\n",
        "new_col = [\"Age\",\"Sex\",\"Embarked\",\"Pclass\",\"Fare\",\"SibSp\"]\n",
        "x_train = train[new_col]\n",
        "y_train = train[\"Survived\"]"
      ]
    },
    {
      "cell_type": "code",
      "execution_count": null,
      "metadata": {
        "_cell_guid": "c1e6f993-16dd-7f9d-d4a1-fff4290fe1fd"
      },
      "outputs": [],
      "source": [
        "#apply the linear regression\n",
        "reg = linear_model.LinearRegression()\n",
        "reg.fit(x_train,y_train)"
      ]
    },
    {
      "cell_type": "code",
      "execution_count": null,
      "metadata": {
        "_cell_guid": "1a2755d0-1837-9c19-4659-780b78e62b57"
      },
      "outputs": [],
      "source": [
        "#checking the coffiecient\n",
        "reg.coef_\n",
        "reg.score(x_train,y_train)"
      ]
    },
    {
      "cell_type": "code",
      "execution_count": null,
      "metadata": {
        "_cell_guid": "25d3910e-823c-2a3f-5fdd-50d386f5ee84"
      },
      "outputs": [],
      "source": [
        "#cleaning the test data\n",
        "test[\"Age\"].isnull().sum()\n",
        "test[\"Age\"] = test[\"Age\"].fillna(train[\"Age\"].median())\n",
        "test[\"Age\"].isnull().sum()"
      ]
    },
    {
      "cell_type": "code",
      "execution_count": null,
      "metadata": {
        "_cell_guid": "6c18a2f6-dccc-081b-72ce-696045a6cb5b"
      },
      "outputs": [],
      "source": [
        "#cleanig the Embarked\n",
        "test[\"Embarked\"].isnull().sum()\n",
        "test[\"Embarked\"]=test[\"Embarked\"].fillna(\"S\")"
      ]
    },
    {
      "cell_type": "code",
      "execution_count": null,
      "metadata": {
        "_cell_guid": "2cf9ae47-6050-d75a-896d-8d161ef4cffb"
      },
      "outputs": [],
      "source": [
        "\n",
        "test.loc[test[\"Sex\"] == \"male\", \"Sex\"] = 0\n",
        "test.loc[test[\"Sex\"]==\"female\",\"Sex\"]=1\n",
        "\n",
        "test.loc[test[\"Embarked\"]==\"S\",\"Embarked\"] =0\n",
        "test.loc[test[\"Embarked\"]==\"C\",\"Embarked\"] =1\n",
        "test.loc[test[\"Embarked\"]==\"Q\",\"Embarked\"] =2"
      ]
    },
    {
      "cell_type": "code",
      "execution_count": null,
      "metadata": {
        "_cell_guid": "d82ff3c8-0860-59a4-c66a-27a012f11d3b"
      },
      "outputs": [],
      "source": [
        "pd.to_numeric(train[\"Sex\"])\n",
        "pd.to_numeric(train[\"Embarked\"])"
      ]
    },
    {
      "cell_type": "code",
      "execution_count": null,
      "metadata": {
        "_cell_guid": "6477d68b-755e-1173-7d4e-6e242be5ccaa"
      },
      "outputs": [],
      "source": [
        "x_test = test[new_col]\n",
        "#\"Age\",\"Sex\",\"Embarked\",\"Pclass\",\"Fare\"\n",
        "test[\"Fare\"] = test[\"Fare\"].fillna(test[\"Fare\"].median())\n",
        "x_test = test[new_col]"
      ]
    },
    {
      "cell_type": "code",
      "execution_count": null,
      "metadata": {
        "_cell_guid": "e88a2e17-5919-2bb0-a822-440284b09588"
      },
      "outputs": [],
      "source": [
        "test[\"SibSp\"].isnull().sum()"
      ]
    },
    {
      "cell_type": "code",
      "execution_count": null,
      "metadata": {
        "_cell_guid": "bfdd7c89-eb75-b51e-e2a5-a832d387db9e"
      },
      "outputs": [],
      "source": [
        "a=reg.predict(x_test)\n",
        "a = a.round()\n",
        "l=[]\n",
        "for i in a:\n",
        "    i = int(i)\n",
        "    l.append(i)"
      ]
    },
    {
      "cell_type": "code",
      "execution_count": null,
      "metadata": {
        "_cell_guid": "c44b92c4-6798-b464-620c-9658d013a675"
      },
      "outputs": [],
      "source": [
        "reg.intercept_"
      ]
    },
    {
      "cell_type": "code",
      "execution_count": null,
      "metadata": {
        "_cell_guid": "0528b3e8-9465-112a-e022-46aea4d3ecbb"
      },
      "outputs": [],
      "source": [
        "submission = pd.DataFrame({\n",
        "        \"PassengerId\": test[\"PassengerId\"],\n",
        "        \"Survived\": l\n",
        "    })\n",
        "submission.to_csv('titanic.csv', index=False)"
      ]
    }
  ],
  "metadata": {
    "_change_revision": 0,
    "_is_fork": false,
    "kernelspec": {
      "display_name": "Python 3",
      "language": "python",
      "name": "python3"
    },
    "language_info": {
      "codemirror_mode": {
        "name": "ipython",
        "version": 3
      },
      "file_extension": ".py",
      "mimetype": "text/x-python",
      "name": "python",
      "nbconvert_exporter": "python",
      "pygments_lexer": "ipython3",
      "version": "3.6.0"
    }
  },
  "nbformat": 4,
  "nbformat_minor": 0
}