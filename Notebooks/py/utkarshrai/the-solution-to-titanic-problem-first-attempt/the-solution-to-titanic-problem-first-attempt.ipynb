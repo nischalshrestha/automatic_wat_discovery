{
  "cells": [
    {
      "cell_type": "markdown",
      "metadata": {
        "_cell_guid": "5a866479-ebbf-ccff-a956-fb443851b3b0"
      },
      "source": [
        "This was my first solution to the Titanic Problem that scored 0.8 on Kaggle. This is not my final submission; in my final submission I've broken the dataframes by titles and applied random forest to each set independently thereby maintaining the ratio of survived adult males and women that isn't correct in this code. However this gives you a fair idea of who the machine thinks should've been saved on the boat."
      ]
    },
    {
      "cell_type": "code",
      "execution_count": null,
      "metadata": {
        "_cell_guid": "496890ac-1914-9b46-31bb-4c660d0b31bf"
      },
      "outputs": [],
      "source": [
        "import numpy as np\n",
        "import pandas as pd"
      ]
    },
    {
      "cell_type": "code",
      "execution_count": null,
      "metadata": {
        "_cell_guid": "35a36f51-8079-0856-96a0-8143b5a33c32"
      },
      "outputs": [],
      "source": [
        "data = pd.read_csv('../input/train.csv')\n",
        "test = pd.read_csv('../input/test.csv')"
      ]
    },
    {
      "cell_type": "code",
      "execution_count": null,
      "metadata": {
        "_cell_guid": "ea7d00d2-9c91-ea05-c3ad-a32510277000"
      },
      "outputs": [],
      "source": [
        "import matplotlib.pyplot as plt\n",
        "%matplotlib inline\n",
        "import seaborn as sns"
      ]
    },
    {
      "cell_type": "code",
      "execution_count": null,
      "metadata": {
        "_cell_guid": "aef45f28-6432-3514-cdff-edefb547d913"
      },
      "outputs": [],
      "source": [
        "to_test=data.Survived"
      ]
    },
    {
      "cell_type": "code",
      "execution_count": null,
      "metadata": {
        "_cell_guid": "9dedadd2-117d-ca32-38e6-4e3e0a8acc40"
      },
      "outputs": [],
      "source": [
        "data.drop('Survived',1,inplace=True)\n",
        "df=data.append(test)\n",
        "df.reset_index(inplace=True)\n",
        "df.drop('index',inplace=True,axis=1)"
      ]
    },
    {
      "cell_type": "code",
      "execution_count": null,
      "metadata": {
        "_cell_guid": "6b904481-228f-f6cf-8164-db2ef09cd07a"
      },
      "outputs": [],
      "source": [
        "df['Title'] = df['Name'].map(lambda name:name.split(',')[1].split('.')[0].strip())"
      ]
    },
    {
      "cell_type": "code",
      "execution_count": null,
      "metadata": {
        "_cell_guid": "11678c2b-4ea7-9f82-fe96-f34483c16a9e"
      },
      "outputs": [],
      "source": [
        "grouped = df.groupby(['Sex','Pclass','Title'])"
      ]
    },
    {
      "cell_type": "code",
      "execution_count": null,
      "metadata": {
        "_cell_guid": "7747e87b-4ff8-cb16-ab89-3b0e3e3600f4"
      },
      "outputs": [],
      "source": [
        "grouped.median()"
      ]
    },
    {
      "cell_type": "code",
      "execution_count": null,
      "metadata": {
        "_cell_guid": "a02a5e0d-bc01-7047-1ab7-cbfb03ba5b63"
      },
      "outputs": [],
      "source": ""
    },
    {
      "cell_type": "code",
      "execution_count": null,
      "metadata": {
        "_cell_guid": "7ef4bac9-0778-a207-17c7-1c690637474f"
      },
      "outputs": [],
      "source": ""
    },
    {
      "cell_type": "code",
      "execution_count": null,
      "metadata": {
        "_cell_guid": "edc47586-3337-8009-1fb8-0f4446c209c6"
      },
      "outputs": [],
      "source": [
        "df[\"Age\"] = df.groupby(['Sex','Pclass','Title'])['Age'].transform(lambda x: x.fillna(x.median()))"
      ]
    },
    {
      "cell_type": "code",
      "execution_count": null,
      "metadata": {
        "_cell_guid": "99cb783d-3ad8-9d76-2c0f-8b355a44f574"
      },
      "outputs": [],
      "source": [
        "df.head()"
      ]
    },
    {
      "cell_type": "code",
      "execution_count": null,
      "metadata": {
        "_cell_guid": "12041d85-ddfe-65ba-43a7-5260a5367920"
      },
      "outputs": [],
      "source": [
        "df[\"Fare\"] = df.groupby(['Sex','Pclass','Title'])['Fare'].transform(lambda x: x.fillna(x.median()))"
      ]
    },
    {
      "cell_type": "code",
      "execution_count": null,
      "metadata": {
        "_cell_guid": "8af558f5-5e3c-8d5a-3a08-45f3cfed0e69"
      },
      "outputs": [],
      "source": [
        "df.head()"
      ]
    },
    {
      "cell_type": "code",
      "execution_count": null,
      "metadata": {
        "_cell_guid": "106db080-aad7-13d3-adfb-6ee99b043fcd"
      },
      "outputs": [],
      "source": [
        "df['Sex'] = df['Sex'].map({'male':1,'female':0})\n",
        "df['FamilySize'] = df['Parch'] + df['SibSp'] + 1\n",
        "df['Alone'] = df['FamilySize'].map(lambda s : 1 if s == 1 else 0)\n",
        "df['Couple'] = df['FamilySize'].map(lambda s : 1 if s==2 else 0)\n",
        "df['Family'] = df['FamilySize'].map(lambda s : 1 if 3<=s else 0)"
      ]
    },
    {
      "cell_type": "code",
      "execution_count": null,
      "metadata": {
        "_cell_guid": "4af330ae-af48-555d-8cae-ffe8c282b2ed"
      },
      "outputs": [],
      "source": [
        "df.Embarked.fillna('S',inplace=True)\n",
        "df.Cabin.fillna('U',inplace=True)\n",
        "df['Cabin'] = df['Cabin'].map(lambda c : c[0])"
      ]
    },
    {
      "cell_type": "code",
      "execution_count": null,
      "metadata": {
        "_cell_guid": "9d409299-247a-c78c-60b2-1cdb4f985913"
      },
      "outputs": [],
      "source": [
        "df.drop('Name',axis=1,inplace=True)"
      ]
    },
    {
      "cell_type": "code",
      "execution_count": null,
      "metadata": {
        "_cell_guid": "eeee5a0d-69b0-cc9e-1e4d-e304992c5e68"
      },
      "outputs": [],
      "source": [
        "class_feature = pd.get_dummies(df['Pclass'],prefix=\"Pclass\")\n",
        "titles_feature = pd.get_dummies(df['Title'],prefix='Title')\n",
        "embarked_feature = pd.get_dummies(df['Embarked'],prefix='Embarked')\n",
        "cabin_feature = pd.get_dummies(df['Cabin'],prefix='Cabin')\n",
        "df = pd.concat([df,cabin_feature],axis=1)\n",
        "df = pd.concat([df,class_feature],axis=1)\n",
        "df = pd.concat([df,titles_feature],axis=1)\n",
        "df = pd.concat([df,embarked_feature],axis=1)\n",
        "df.drop('Ticket',inplace=True,axis=1)\n",
        "df.drop('Pclass',inplace=True,axis=1)\n",
        "df.drop('Title',inplace=True,axis=1)\n",
        "df.drop('Cabin',inplace=True,axis=1)"
      ]
    },
    {
      "cell_type": "code",
      "execution_count": null,
      "metadata": {
        "_cell_guid": "9dcfa93f-907c-0e25-fbe8-49d686d50ef8"
      },
      "outputs": [],
      "source": [
        "df.drop('Embarked',inplace=True,axis=1)"
      ]
    },
    {
      "cell_type": "code",
      "execution_count": null,
      "metadata": {
        "_cell_guid": "13359ac6-67ec-8e50-09e6-02b4e7dbd199"
      },
      "outputs": [],
      "source": [
        "df.head()"
      ]
    },
    {
      "cell_type": "code",
      "execution_count": null,
      "metadata": {
        "_cell_guid": "ede928a0-ccf1-99f8-7d77-f94b912f0eba"
      },
      "outputs": [],
      "source": ""
    },
    {
      "cell_type": "code",
      "execution_count": null,
      "metadata": {
        "_cell_guid": "28b33f7c-ddd1-3e02-ea3e-d5ce25d0ea13"
      },
      "outputs": [],
      "source": [
        "data = df.ix[0:890]\n",
        "test = df.ix[891:1308]"
      ]
    },
    {
      "cell_type": "code",
      "execution_count": null,
      "metadata": {
        "_cell_guid": "080da4b7-57af-6cf7-c720-20e8827f121d"
      },
      "outputs": [],
      "source": [
        "from sklearn.ensemble import ExtraTreesClassifier\n",
        "from sklearn.feature_selection import SelectFromModel\n",
        "clf = ExtraTreesClassifier(n_estimators=200)\n",
        "clf = clf.fit(data, to_test)"
      ]
    },
    {
      "cell_type": "code",
      "execution_count": null,
      "metadata": {
        "_cell_guid": "5550ec04-f27d-11b6-a3ef-a52e67aafbb2"
      },
      "outputs": [],
      "source": [
        "features = pd.DataFrame()\n",
        "features['feature'] = data.columns\n",
        "features['importance'] = clf.feature_importances_"
      ]
    },
    {
      "cell_type": "code",
      "execution_count": null,
      "metadata": {
        "_cell_guid": "9658322e-b80c-77ee-6e98-3c6817574952"
      },
      "outputs": [],
      "source": [
        "features.sort(['importance'],ascending=False)"
      ]
    },
    {
      "cell_type": "code",
      "execution_count": null,
      "metadata": {
        "_cell_guid": "77b40cf3-1591-d949-f616-6a42352f4b15"
      },
      "outputs": [],
      "source": [
        "model = SelectFromModel(clf, prefit=True)\n",
        "training = model.transform(data)\n",
        "training.shape"
      ]
    },
    {
      "cell_type": "code",
      "execution_count": null,
      "metadata": {
        "_cell_guid": "43dc1221-38fe-f998-b3dd-1ded4f5483ac"
      },
      "outputs": [],
      "source": [
        "test"
      ]
    },
    {
      "cell_type": "code",
      "execution_count": null,
      "metadata": {
        "_cell_guid": "0e9e0428-821a-7e95-5202-37fd65ccc807"
      },
      "outputs": [],
      "source": [
        "test = test.fillna(method='ffill')"
      ]
    },
    {
      "cell_type": "code",
      "execution_count": null,
      "metadata": {
        "_cell_guid": "7dc36cc0-d269-0520-e686-2118d7198bf8"
      },
      "outputs": [],
      "source": [
        "testing = model.transform(test)\n",
        "testing.shape"
      ]
    },
    {
      "cell_type": "code",
      "execution_count": null,
      "metadata": {
        "_cell_guid": "853dc0e1-af1b-78ea-0434-63a6bd3fb2bc"
      },
      "outputs": [],
      "source": [
        "from sklearn.pipeline import make_pipeline\n",
        "from sklearn.ensemble import RandomForestClassifier\n",
        "from sklearn.feature_selection import SelectKBest\n",
        "from sklearn.cross_validation import StratifiedKFold\n",
        "from sklearn.grid_search import GridSearchCV\n",
        "from sklearn.ensemble.gradient_boosting import GradientBoostingClassifier\n",
        "from sklearn.cross_validation import cross_val_score\n",
        "forest = RandomForestClassifier(max_features='sqrt')\n",
        "\n",
        "parameter_grid = {'max_depth':[5],'n_estimators': [220],'criterion': ['gini','entropy']}\n",
        "\n",
        "cross_validation = StratifiedKFold(to_test, n_folds=5)\n",
        "\n",
        "grid_search = GridSearchCV(forest,\n",
        "                           param_grid=parameter_grid,\n",
        "                           cv=cross_validation)\n",
        "\n",
        "grid_search.fit(training, to_test)\n",
        "\n",
        "print('Best score: {}'.format(grid_search.best_score_))\n",
        "print('Best parameters: {}'.format(grid_search.best_params_))"
      ]
    },
    {
      "cell_type": "code",
      "execution_count": null,
      "metadata": {
        "_cell_guid": "e625acb8-ef1b-1d06-6a9c-879fc8f3b1dc"
      },
      "outputs": [],
      "source": [
        "pipeline = grid_search\n",
        "output = pipeline.predict(testing).astype(int)\n",
        "df_output = pd.DataFrame()\n",
        "df_output['PassengerId'] = test['PassengerId']\n",
        "df_output['Survived'] = output\n",
        "df_output[['PassengerId','Survived']].to_csv('output1.csv',index=False)"
      ]
    },
    {
      "cell_type": "code",
      "execution_count": null,
      "metadata": {
        "_cell_guid": "16214873-6a77-1a9b-3d22-985759061b1d"
      },
      "outputs": [],
      "source": ""
    }
  ],
  "metadata": {
    "_change_revision": 0,
    "_is_fork": false,
    "kernelspec": {
      "display_name": "Python 3",
      "language": "python",
      "name": "python3"
    },
    "language_info": {
      "codemirror_mode": {
        "name": "ipython",
        "version": 3
      },
      "file_extension": ".py",
      "mimetype": "text/x-python",
      "name": "python",
      "nbconvert_exporter": "python",
      "pygments_lexer": "ipython3",
      "version": "3.6.0"
    }
  },
  "nbformat": 4,
  "nbformat_minor": 0
}