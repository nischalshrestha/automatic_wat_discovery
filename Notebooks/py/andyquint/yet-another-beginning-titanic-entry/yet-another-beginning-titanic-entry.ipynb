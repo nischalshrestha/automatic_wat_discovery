{
  "cells": [
    {
      "cell_type": "markdown",
      "metadata": {
        "_cell_guid": "07bf07c3-8950-efac-5352-80aa3648413e"
      },
      "source": [
        "# Introduction\n",
        "My goal here is to start out without referencing other kernels or notebooks for this competition. I will then compare my results and ideas with those of more successful approaches, and see how my own can be improved."
      ]
    },
    {
      "cell_type": "code",
      "execution_count": null,
      "metadata": {
        "_cell_guid": "8e317919-9d2f-6273-fd9b-0195c18b7f98"
      },
      "outputs": [],
      "source": [
        "# Load libraries\n",
        "\n",
        "import numpy as np # linear algebra\n",
        "import pandas as pd # data processing, CSV file I/O (e.g. pd.read_csv)\n",
        "import matplotlib.pyplot as plt\n",
        "\n",
        "# Load data\n",
        "\n",
        "train = pd.read_csv('../input/train.csv')\n",
        "test = pd.read_csv('../input/test.csv')\n",
        "\n",
        "both = pd.concat([train, test])"
      ]
    },
    {
      "cell_type": "markdown",
      "metadata": {
        "_cell_guid": "778450e6-9f10-db17-e46a-8b0631a33983"
      },
      "source": [
        "# Data Visualization\n",
        "Let's visualize the features, comparing the distributions of the survivors with those of the victims."
      ]
    },
    {
      "cell_type": "code",
      "execution_count": null,
      "metadata": {
        "_cell_guid": "5850b0e1-139e-a1ef-79f6-5297d2b9e030"
      },
      "outputs": [],
      "source": [
        "# Plot histograms for survivors vs nonsurvivors\n",
        "survivors = train.loc[train['Survived'] == 1]\n",
        "survivor_count = survivors.count()\n",
        "nonsurvivors = train.loc[train['Survived'] == 0]\n",
        "nonsurvivor_count = nonsurvivors.count()\n",
        "\n",
        "fig, ax = plt.subplots(10,2, figsize=(12,20))\n",
        "fig.tight_layout()\n",
        "plt.subplots_adjust(left=0.4)\n",
        "\n",
        "ax[0][0].set_title('Survivors')\n",
        "ax[0][1].set_title('Nonsurvivors')\n",
        "\n",
        "nbins = 20\n",
        "x=(1,2)\n",
        "width=0.4\n",
        "\n",
        "# Male and female numbers\n",
        "survivor_genders = (len(survivors.loc[survivors['Sex'] == 'male']), len(survivors.loc[survivors['Sex'] == 'female']))\n",
        "nonsurvivor_genders = (len(nonsurvivors.loc[nonsurvivors['Sex'] == 'male']), len(nonsurvivors.loc[nonsurvivors['Sex'] == 'female']))\n",
        "\n",
        "ax[0][0].bar(x,survivor_genders)\n",
        "ax[0][1].bar(x,nonsurvivor_genders)\n",
        "ax[0][0].set_xticks([i+width/2 for i in x])\n",
        "ax[0][0].set_xticklabels(['Male','Female'])\n",
        "ax[0][1].set_xticks([i+width/2 for i in x])\n",
        "ax[0][1].set_xticklabels(['Male','Female'])\n",
        "ax[0][0].set_ylabel('Sex', rotation=0, labelpad=80)\n",
        "\n",
        "# Class numbers\n",
        "survivor_class = (len(survivors.loc[survivors['Pclass'] == 1]), len(survivors.loc[survivors['Pclass'] == 2]), len(survivors.loc[survivors['Pclass'] == 3]))\n",
        "nonsurvivor_class = (len(nonsurvivors.loc[nonsurvivors['Pclass'] == 1]), len(nonsurvivors.loc[nonsurvivors['Pclass'] == 2]), len(nonsurvivors.loc[nonsurvivors['Pclass'] == 3]))\n",
        "\n",
        "x=(1,2,3)\n",
        "ax[1][0].bar(x, survivor_class)\n",
        "ax[1][1].bar(x, nonsurvivor_class)\n",
        "ax[1][0].set_xticks([i+width/2 for i in x])\n",
        "ax[1][0].set_xticklabels(['1','2','3'])\n",
        "ax[1][1].set_xticks([i+width/2 for i in x])\n",
        "ax[1][1].set_xticklabels(['1','2','3'])\n",
        "ax[1][0].set_ylabel('Class', rotation=0, labelpad=80)\n",
        "\n",
        "# Age histograms\n",
        "ax[2][0].hist(survivors['Age'].dropna().tolist(), bins=nbins)\n",
        "ax[2][1].hist(nonsurvivors['Age'].dropna().tolist(), bins=nbins)\n",
        "ax[2][0].set_ylabel('Age', rotation=0, labelpad=80)\n",
        "\n",
        "# Siblings/spouses\n",
        "ax[3][0].hist(survivors['SibSp'].dropna().tolist(), bins=nbins)\n",
        "ax[3][1].hist(nonsurvivors['SibSp'].dropna().tolist(), bins=nbins)\n",
        "ax[3][0].set_ylabel('SibSp', rotation=0, labelpad=80)\n",
        "\n",
        "# Parents/children\n",
        "ax[4][0].hist(survivors['Parch'].dropna().tolist(), bins=nbins)\n",
        "ax[4][1].hist(nonsurvivors['Parch'].dropna().tolist(), bins=nbins)\n",
        "ax[4][0].set_ylabel('Parch', rotation=0, labelpad=80)\n",
        "\n",
        "# Fare\n",
        "ax[5][0].hist(survivors['Fare'].dropna().tolist(), bins=nbins)\n",
        "ax[5][1].hist(nonsurvivors['Fare'].dropna().tolist(), bins=nbins)\n",
        "ax[5][0].set_ylabel('Fare', rotation=0, labelpad=80)"
      ]
    }
  ],
  "metadata": {
    "_change_revision": 0,
    "_is_fork": false,
    "kernelspec": {
      "display_name": "Python 3",
      "language": "python",
      "name": "python3"
    },
    "language_info": {
      "codemirror_mode": {
        "name": "ipython",
        "version": 3
      },
      "file_extension": ".py",
      "mimetype": "text/x-python",
      "name": "python",
      "nbconvert_exporter": "python",
      "pygments_lexer": "ipython3",
      "version": "3.5.2"
    }
  },
  "nbformat": 4,
  "nbformat_minor": 0
}