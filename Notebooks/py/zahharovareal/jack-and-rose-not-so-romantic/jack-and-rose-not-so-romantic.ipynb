{
  "cells": [
    {
      "cell_type": "markdown",
      "metadata": {
        "_cell_guid": "0961b04a-7835-5b68-ef0a-afa4dc29ff86"
      },
      "source": [
        "**\u6545\u4e8b\u5f00\u59cb\u4e86**\n",
        "-----\n",
        "\n",
        " 1. \u95ee\u9898\u80cc\u666f\u5b9a\u4e49\n",
        " 2. \u83b7\u53d6\u8bad\u7ec3\u548c\u6d4b\u8bd5\u6570\u636e\n",
        " 3. \u6570\u636e\u6e05\u6d17\n",
        " 4. \u63a2\u7d22\u6027\u5206\u6790\n",
        " 5. \u7279\u5f81\u5de5\u7a0b\n",
        " 6. \u5efa\u7acb\u6a21\u578b\u8fdb\u884c\u9884\u6d4b\n",
        " 7. \u6a21\u578b\u8bc4\u4f30\n",
        "\n",
        "\n"
      ]
    },
    {
      "cell_type": "markdown",
      "metadata": {
        "_cell_guid": "4cf92442-5de1-1da3-216c-ed0aaf4967ca"
      },
      "source": [
        "## \u95ee\u9898\u4ee5\u53ca\u80cc\u666f ##\n",
        "\n",
        " -  On April 15, 1912, during her maiden voyage, the Titanic sank after colliding with an iceberg, killing 1502 out of 2224 passengers and crew. \n",
        " - Although there was some element of luck involved in surviving the sinking, some groups of people were more likely to survive than others, such as women, children, and the upper-class.\uff08\u544a\u8bc9\u6211\u4eec\u83b7\u6551\u4e0e\u5426\u4e0d\u662f\u968f\u673a\u7684\uff0c\u800c\u662f\u6709\u4e00\u4e9b\u6761\u4ef6\u7684\uff09\n",
        "\n",
        " \n",
        "## \u76ee\u6807/\u8861\u91cf\u6307\u6807##\n",
        "\n",
        " - Goal\n",
        " It is your job to predict if a passenger survived the sinking of the Titanic or not. \n",
        "For each PassengerId in the test set, you must predict a 0 or 1 value for the Survived variable.\n",
        " - Metric\n",
        "Your score is the percentage of passengers you correctly predict. This is known simply as \"accuracy\u201d."
      ]
    },
    {
      "cell_type": "code",
      "execution_count": null,
      "metadata": {
        "_cell_guid": "2acb5867-9c7e-3dfc-9d73-df208790592a"
      },
      "outputs": [],
      "source": [
        "#\u6570\u636e\u5206\u6790\u5e93\n",
        "import pandas as pd \n",
        "import numpy as np \n",
        "\n",
        "#\u6570\u636e\u53ef\u89c6\u5316\n",
        "import matplotlib.pyplot as plt\n",
        "import seaborn as sns\n",
        "sns.set_style('whitegrid')\n",
        "%matplotlib inline\n",
        "\n",
        "#\u673a\u5668\u5b66\u4e60\n",
        "from sklearn.linear_model import LogisticRegression\n",
        "from sklearn.svm import SVC,LinearSVC\n",
        "from sklearn.ensemble import RandomForestClassifier\n",
        "from sklearn.neighbors import KNeighborsClassifier\n",
        "from sklearn.naive_bayes import GaussianNB\n",
        "from sklearn.tree import DecisionTreeClassifier"
      ]
    },
    {
      "cell_type": "markdown",
      "metadata": {
        "_cell_guid": "2e52748c-6bb7-b4e7-c9c5-64b1225a2930"
      },
      "source": [
        "## \u83b7\u53d6\u8bad\u7ec3\u4ee5\u53ca\u6d4b\u8bd5\u6570\u636e##"
      ]
    },
    {
      "cell_type": "code",
      "execution_count": null,
      "metadata": {
        "_cell_guid": "0848ad28-f338-82e0-7818-847587f985d8"
      },
      "outputs": [],
      "source": [
        "data_test = pd.read_csv(\"../input/test.csv\")\n",
        "data_train = pd.read_csv(\"../input/train.csv\")\n",
        "data_train.head()"
      ]
    },
    {
      "cell_type": "markdown",
      "metadata": {
        "_cell_guid": "37e33ce6-5468-147b-f88f-32d50c8c7cb9"
      },
      "source": [
        "## \u54ea\u4e9b\u5c5e\u6027\u6709\u7f3a\u5931\u503c\uff1f ##\n",
        " - \u8bad\u7ec3\u6570\u636e\u96c6\u5171\u6709891\u4e2a\u8bb0\u5f55\u3002age\u548ccabin\u5c5e\u6027\u6709\u5f88\u591a\u7f3a\u5931\u503c\uff0cembarked\u5c5e\u6027\u6709\u4e24\u4e2a\u7f3a\u5931\u503c\u3002\n",
        " - \u6d4b\u8bd5\u6570\u636e\u96c6\u5171\u6709418\u4e2a\u8bb0\u5f55\u3002\u540c\u6837\u7684\uff0cage\u548ccabin\u5c5e\u6027\u6709\u5f88\u591a\u7f3a\u5931\u503c\uff0cfare\u5c5e\u6027\u6709\u4e00\u4e2a\u7f3a\u5931\u503c\u3002\n",
        "\n",
        "**\u6709\u54ea\u4e9b\u662f\u7c7b\u522b\u5c5e\u6027\uff1f**\n",
        "-------------\n",
        "\n",
        " - Survived,Sex,and Embarked(non-ordinal \u65e0\u5e8f)\u3002Pclass(ordinal \u6709\u5e8f)\n",
        "\n",
        "**\u6709\u54ea\u4e9b\u662f\u6570\u503c\u5c5e\u6027\uff1f**\n",
        "-------------\n",
        "\n",
        " - Age,Fare(\u8fde\u7eed\u503c)\u3002SibSp,Parch(\u79bb\u6563\u503c)\n",
        "\n"
      ]
    },
    {
      "cell_type": "code",
      "execution_count": null,
      "metadata": {
        "_cell_guid": "2f60d959-747e-a5c0-adaf-8c6d5a58e54a"
      },
      "outputs": [],
      "source": [
        "data_train.info()\n",
        "data_test.info()"
      ]
    },
    {
      "cell_type": "markdown",
      "metadata": {
        "_cell_guid": "bda7e9f1-cc5c-11e9-6565-bbd0918c55bc"
      },
      "source": [
        "## \u8bad\u7ec3\u6837\u672c\u4e2d\u6570\u503c\u5c5e\u6027\u7684\u5206\u5e03\u662f\u600e\u6837\u7684\uff1f ##\n",
        "\n",
        " - \u8bad\u7ec3\u6837\u672c\u6570\u76ee\u662f891\uff0c\u662f\u6cf0\u5766\u5c3c\u514b\u53f7\u771f\u5b9e\u4eba\u6570\uff082224\uff09\u768440%\n",
        " \n",
        " - Suvived\u662f\u7c7b\u522b\u5c5e\u6027\uff081-\u5b58\u6d3b\uff0c0-\u672a\u5b58\u6d3b\uff09\uff0c\u8bad\u7ec3\u6837\u672c\u4e2d\u5927\u7ea6\u670938%\u7684\u4eba\u83b7\u6551\u4e86\u3002\n",
        " - ..."
      ]
    },
    {
      "cell_type": "code",
      "execution_count": null,
      "metadata": {
        "_cell_guid": "49e305da-3ed4-494b-4a01-8da630f8dba6"
      },
      "outputs": [],
      "source": [
        "data_train.describe()"
      ]
    },
    {
      "cell_type": "markdown",
      "metadata": {
        "_cell_guid": "d09c486c-ff20-3289-9efa-c99ff51a8c5b"
      },
      "source": [
        "## \u6570\u636e\u53ef\u89c6\u5316\u5206\u6790 ##\n",
        "\u8868\u683c\u770b\u6655\u4e86\uff0c\u76f4\u63a5\u753b\u51e0\u5f20\u56fe\u770b\u770b\u5427\n",
        "\n",
        " - \u83b7\u6551\u7684\u4eba\u6570300\u591a\u4e00\u70b9\uff0c\u4e09\u7b49\u8231\u4eba\u6570\u6700\u591a\uff0c\u83b7\u6551\u5e74\u9f84\u5206\u5e03\u5f88\u5e7f\uff0c\u5934\u7b49\u8231\u7684\u5e74\u7eaa\u504f\u5927\uff0cS\u767b\u8239\u53e3\u4eba\u6570\u6700\u591a\u3002\n",
        " - \u6211\u4eec\u5927\u6982\u6709\u4e2a\u5047\u8bbe\uff1a\u5e74\u9f84/\u4e58\u5ba2\u7b49\u7ea7\u5bf9\u83b7\u6551\u53ef\u80fd\u6709\u5f71\u54cd\u3002"
      ]
    },
    {
      "cell_type": "code",
      "execution_count": null,
      "metadata": {
        "_cell_guid": "c145c6c7-af1a-86ce-09d9-890831cecff3"
      },
      "outputs": [],
      "source": [
        "fig = plt.figure(figsize=(13,7))\n",
        "fig.set(alpha=0.2)  # \u8bbe\u5b9a\u56fe\u8868\u989c\u8272alpha\u53c2\u6570\n",
        "plt.rcParams['axes.unicode_minus'] = False #\u8bbe\u7f6e\u8d1f\u53f7\u7684\u6b63\u5e38\u663e\u793a\n",
        "\n",
        "\n",
        "plt.subplot2grid((2,3),(0,0))  # \u5728\u4e00\u5f20\u5927\u56fe\u91cc\u5206\u5217\u51e0\u4e2a\u5c0f\u56fe\n",
        "\n",
        "data_train.Survived.value_counts().plot(kind='bar')\n",
        "plt.title(\"Suvived \") \n",
        "plt.ylabel(\"count\")  \n",
        "\n",
        "plt.subplot2grid((2,3),(0,1))\n",
        "data_train.Pclass.value_counts().plot(kind=\"bar\")\n",
        "plt.ylabel(\"count\")\n",
        "plt.title(\"Pclass\")\n",
        "\n",
        "plt.subplot2grid((2,3),(0,2))\n",
        "plt.scatter(data_train.Survived, data_train.Age)\n",
        "plt.ylabel(\"Age\")                         \n",
        "plt.grid(b=True, which='major', axis='y') \n",
        "plt.title(\"survived distribution by age\")\n",
        "\n",
        "\n",
        "plt.subplot2grid((2,3),(1,0), colspan=2)\n",
        "data_train.Age[data_train.Pclass == 1].plot(kind='kde')   \n",
        "data_train.Age[data_train.Pclass == 2].plot(kind='kde')\n",
        "data_train.Age[data_train.Pclass == 3].plot(kind='kde')\n",
        "plt.xlabel(\"age\")\n",
        "plt.ylabel(\"density\") \n",
        "plt.title(\"age distribution by class\")\n",
        "plt.legend(('1', '2','3'),loc='best') # \u8bbe\u7f6e\u56fe\u8868\u7684\u56fe\u4f8b\n",
        "\n",
        "# \u4e0a\u9762\u8bb2\u5230\u5728\u8bad\u7ec3\u96c6\u4e2dembarked\u6709\u4e24\u4e2a\u7f3a\u5931\u503c\uff0c\u6211\u4eec\u8fd9\u91cc\u7528\u51fa\u73b0\u6700\u591a\u6b21\u6570\u7684S\u4ee3\u66ff\n",
        "data_train[\"Embarked\"] = data_train[\"Embarked\"].fillna(\"S\")\n",
        "\n",
        "plt.subplot2grid((2,3),(1,2))\n",
        "data_train.Embarked.value_counts().plot(kind='bar')\n",
        "plt.title(\"count of each embarked\")\n",
        "plt.ylabel(\"count\")  \n",
        "plt.show()"
      ]
    },
    {
      "cell_type": "markdown",
      "metadata": {
        "_cell_guid": "7d6dbdff-ea71-4943-f347-a551082f4cb1"
      },
      "source": [
        "\u6570\u636e\u53ef\u89c6\u5316\u5206\u6790\n",
        "-------\n",
        "\u73b0\u5728\u6211\u4eec\u53ef\u4ee5\u753b\u56fe\u7ee7\u7eed\u9a8c\u8bc1\u6211\u4eec\u7684\u5047\u8bbe\uff0c\u4e0a\u9762\u662f\u7edf\u8ba1\u4e86\u4e00\u4e9b\u57fa\u672c\u60c5\u51b5\u3002\u63a5\u4e0b\u6765\u6211\u4eec\u770b\u770b\u5177\u4f53\u7684\u6bcf\u4e2a\u5c5e\u6027\u4e0e\u83b7\u6551\u4e0e\u5426\u7684\u5173\u7cfb\u3002\n",
        "\n",
        " - \u4e00\u7b49\u8231\u7684\u83b7\u6551\u6bd4\u4f8b\u660e\u663e\u9ad8\u4e8e\u4e09\u7b49\u8231\u3002\u8bf4\u660e\u4e58\u5ba2\u7b49\u7ea7\u80af\u5b9a\u5bf9\u6a21\u578b\u6709\u5f71\u54cd\uff0c\u6240\u4ee5\u5e94\u8be5\u4f5c\u4e3a\u4e00\u4e2a\u7279\u5f81\u3002\n",
        " - \u5973\u6027\u83b7\u6551\u6bd4\u4f8b\u660e\u663e\u9ad8\u4e8e\u7537\u6027\u3002\u8bf4\u660e\u6027\u522b\u80af\u5b9a\u5bf9\u6a21\u578b\u6709\u5f71\u54cd\uff0c\u6240\u4ee5\u5e94\u8be5\u4f5c\u4e3a\u4e00\u4e2a\u7279\u5f81\u3002\n",
        " - \u6211\u4eec\u521b\u5efa\u4e86\u4e00\u4e2a\u65b0\u7684\u7279\u5f81-\u5bb6\u5ead\uff08sibsp+parch\uff09,\u53ef\u4ee5\u770b\u51fa\u6709\u5bb6\u5ead\u7684\u83b7\u6551\u6bd4\u4f8b\u9ad8\u4e00\u4e9b\uff0c\u6240\u4ee5\u4e5f\u53ef\u4ee5\u4f5c\u4e3a\u4e00\u4e2a\u7279\u5f81\u3002\n",
        " - ticket\u662f\u8239\u7968\u7f16\u53f7\uff0c\u5e94\u8be5\u662funique\u7684\uff0c\u548c\u6700\u540e\u7684\u7ed3\u679c\u6ca1\u6709\u592a\u5927\u7684\u5173\u7cfb\uff0c\u4e0d\u7eb3\u5165\u8003\u8651\u7684\u7279\u5f81\u8303\u7574\n",
        " - \u6709cabin\u8bb0\u5f55\u7684\u4e58\u5ba2survival\u6bd4\u4f8b\u7a0d\u9ad8\uff0c\u90a3\u5148\u8bd5\u8bd5\u628a\u8fd9\u4e2a\u503c\u5206\u4e3a\u4e24\u7c7b\uff0c\u6709cabin\u503c/\u65e0cabin\u503c\uff0c\u52a0\u5230\u7c7b\u522b\u5c5e\u6027\n",
        " - \u6211\u4eec\u7528\u968f\u673a\u68ee\u6797\u56de\u5f52\u9884\u6d4b\u5e74\u9f84\u7684\u7a7a\u7f3a\u503c\uff0c\u5e74\u5e7c\u7684\u6709\u66f4\u591a\u7684\u673a\u4f1a\u83b7\u6551\uff0c\u6240\u4ee5\u628a\u5e74\u7eaa\u7eb3\u5165\u4e00\u4e2a\u7279\u5f81\u3002"
      ]
    },
    {
      "cell_type": "code",
      "execution_count": null,
      "metadata": {
        "_cell_guid": "44919f29-e416-0caf-14ff-745c58760288"
      },
      "outputs": [],
      "source": [
        "#\u770b\u770b\u5404\u4e58\u5ba2\u7b49\u7ea7\u7684\u83b7\u6551\u60c5\u51b5\n",
        "fig = plt.figure(figsize=(13,7))\n",
        "fig.set(alpha=0.2)  # \u8bbe\u5b9a\u56fe\u8868\u989c\u8272alpha\u53c2\u6570\n",
        "\n",
        "\n",
        "Survived_0 = data_train.Pclass[data_train.Survived == 0].value_counts()\n",
        "Survived_1 = data_train.Pclass[data_train.Survived == 1].value_counts()\n",
        "df=pd.DataFrame({'survival':Survived_1, 'unsurvival':Survived_0})\n",
        "df.plot(kind='bar', stacked=True)\n",
        "plt.title(\"survived by Pclass\")\n",
        "plt.xlabel(\"Pclass\") \n",
        "plt.ylabel(\"count\") \n",
        "\n",
        "plt.show()"
      ]
    },
    {
      "cell_type": "code",
      "execution_count": null,
      "metadata": {
        "_cell_guid": "5cc8d3cb-b4b6-535b-a9f1-30a6e126d230"
      },
      "outputs": [],
      "source": [
        "#\u770b\u770b\u5404\u767b\u5f55\u6e2f\u53e3\u7684\u83b7\u6551\u60c5\u51b5\n",
        "fig = plt.figure(figsize=(13,7))\n",
        "fig.set(alpha=0.2)  # \u8bbe\u5b9a\u56fe\u8868\u989c\u8272alpha\u53c2\u6570\n",
        "\n",
        "\n",
        "Survived_0 = data_train.Embarked[data_train.Survived == 0].value_counts()\n",
        "Survived_1 = data_train.Embarked[data_train.Survived == 1].value_counts()\n",
        "df=pd.DataFrame({'Survived_1':Survived_1, 'Survived_0':Survived_0})\n",
        "df.plot(kind='bar', stacked=True)#\u5806\u79ef\u6761\u5f62\u56fe\n",
        "plt.title(\"survived by each embarked \")\n",
        "plt.xlabel(\"embarked\") \n",
        "plt.ylabel(\"count\") \n",
        "\n",
        "plt.show()"
      ]
    },
    {
      "cell_type": "code",
      "execution_count": null,
      "metadata": {
        "_cell_guid": "dd27c613-b35f-a8b2-180e-43b923048a4f"
      },
      "outputs": [],
      "source": [
        "#\u770b\u770b\u5404\u6027\u522b\u7684\u83b7\u6551\u60c5\u51b5\n",
        "fig = plt.figure(figsize=(13,7))\n",
        "fig.set(alpha=0.2)  # \u8bbe\u5b9a\u56fe\u8868\u989c\u8272alpha\u53c2\u6570\n",
        "\n",
        "\n",
        "Survived_m = data_train.Survived[data_train.Sex == 'male'].value_counts()\n",
        "Survived_f = data_train.Survived[data_train.Sex == 'female'].value_counts()\n",
        "df=pd.DataFrame({'male':Survived_m, 'female':Survived_f})\n",
        "df.plot(kind='bar', stacked=True)\n",
        "plt.title(\"survived by sex\")\n",
        "plt.xlabel(\"sex\") \n",
        "plt.ylabel(\"count\")\n",
        "plt.show()"
      ]
    },
    {
      "cell_type": "code",
      "execution_count": null,
      "metadata": {
        "_cell_guid": "880445cc-5a98-1744-3dd0-345585dc6650"
      },
      "outputs": [],
      "source": [
        "# \u5bb6\u5ead\n",
        "# \u6211\u4eec\u53ef\u4ee5\u7528\u5bb6\u5ead\u66ff\u4ee3sibsp\uff08\u5144\u5f1f\u59d0\u59b9/\u592b\u5987\uff09\u548cparch\uff08\u7236\u6bcd/\u5b69\u5b50\uff09\u4e24\u5217\n",
        "data_train['Family'] =  data_train[\"Parch\"] + data_train[\"SibSp\"]\n",
        "data_train['Family'].loc[data_train['Family'] > 0] = 1\n",
        "data_train['Family'].loc[data_train['Family'] == 0] = 0\n",
        "data_test['Family'] =  data_test[\"Parch\"] + data_test[\"SibSp\"]\n",
        "data_test['Family'].loc[data_test['Family'] > 0] = 1\n",
        "data_test['Family'].loc[data_test['Family'] == 0] = 0\n",
        "\n",
        "# drop Parch & SibSp\n",
        "data_train = data_train.drop(['SibSp','Parch'], axis=1)\n",
        "data_test= data_test.drop(['SibSp','Parch'], axis=1)\n",
        "\n",
        "import seaborn as sns\n",
        "sns.set_style('whitegrid')\n",
        "%matplotlib inline\n",
        "# plot\n",
        "fig, (axis1,axis2) = plt.subplots(1,2,sharex=True,figsize=(10,5))\n",
        "\n",
        "sns.countplot(x='Family', data=data_train, order=[1,0], ax=axis1)\n",
        "\n",
        "family_perc = data_train[[\"Family\", \"Survived\"]].groupby(['Family'],as_index=False).mean()\n",
        "sns.barplot(x='Family', y='Survived', data=family_perc, order=[1,0], ax=axis2)\n",
        "\n",
        "axis1.set_xticklabels([\"With Family\",\"Alone\"], rotation=0)"
      ]
    },
    {
      "cell_type": "code",
      "execution_count": null,
      "metadata": {
        "_cell_guid": "5875e076-1195-b594-b427-895f221e3263"
      },
      "outputs": [],
      "source": [
        "#cabin\n",
        "#\u770b\u770b\u8fd9\u4e2a\u503c\u7684\u6709\u65e0\uff0c\u5bf9\u4e8esurvival\u7684\u5206\u5e03\u72b6\u51b5\uff0c\u5f71\u54cd\u5982\u4f55\n",
        "fig = plt.figure(figsize=(13,7))\n",
        "fig.set(alpha=0.5)  # \u8bbe\u5b9a\u56fe\u8868\u989c\u8272alpha\u53c2\u6570\n",
        "\n",
        "Survived_cabin = data_train.Survived[pd.notnull(data_train.Cabin)].value_counts()\n",
        "Survived_nocabin = data_train.Survived[pd.isnull(data_train.Cabin)].value_counts()\n",
        "df=pd.DataFrame({'havecabin':Survived_cabin, 'nocabin':Survived_nocabin}).transpose()\n",
        "df.plot(kind='bar', stacked=True)\n",
        "plt.title(\"survived by cabin\")\n",
        "plt.xlabel(\"have cabin record?\") \n",
        "plt.ylabel(\"count\")\n",
        "plt.show()\n",
        "\n",
        "\n",
        "def set_Cabin_type(df):\n",
        "    df.loc[ (df.Cabin.notnull()), 'Cabin' ] = \"Yes\"\n",
        "    df.loc[ (df.Cabin.isnull()), 'Cabin' ] = \"No\"\n",
        "    return df\n",
        "data_train = set_Cabin_type(data_train)\n",
        "\n"
      ]
    },
    {
      "cell_type": "code",
      "execution_count": null,
      "metadata": {
        "_cell_guid": "53e6c43d-3e15-9a6f-6dee-7da20b35a5dc"
      },
      "outputs": [],
      "source": [
        "#\u5e74\u9f84\n",
        "#\u4f7f\u7528 RandomForestClassifier \u586b\u8865\u7f3a\u5931\u7684\u5e74\u9f84\u5c5e\u6027\n",
        "from sklearn.ensemble import RandomForestRegressor\n",
        "def set_missing_ages(df):\n",
        "    \n",
        "    # \u628a\u5df2\u6709\u7684\u6570\u503c\u578b\u7279\u5f81\u53d6\u51fa\u6765\u4e22\u8fdbRandom Forest Regressor\u4e2d\n",
        "    age_df = df[['Age','Fare', 'Family', 'Pclass']]\n",
        "\n",
        "    # \u4e58\u5ba2\u5206\u6210\u5df2\u77e5\u5e74\u9f84\u548c\u672a\u77e5\u5e74\u9f84\u4e24\u90e8\u5206\n",
        "    known_age = age_df[age_df.Age.notnull()].as_matrix()\n",
        "    unknown_age = age_df[age_df.Age.isnull()].as_matrix()\n",
        "\n",
        "    # y\u5373\u76ee\u6807\u5e74\u9f84\n",
        "    y = known_age[:, 0]\n",
        "\n",
        "    # X\u5373\u7279\u5f81\u5c5e\u6027\u503c\n",
        "    X = known_age[:, 1:]\n",
        "\n",
        "    # fit\u5230RandomForestRegressor\u4e4b\u4e2d\n",
        "    rfr = RandomForestRegressor(random_state=0, n_estimators=2000, n_jobs=-1)\n",
        "    rfr.fit(X, y)\n",
        "    \n",
        "    # \u7528\u5f97\u5230\u7684\u6a21\u578b\u8fdb\u884c\u672a\u77e5\u5e74\u9f84\u7ed3\u679c\u9884\u6d4b\n",
        "    predictedAges = rfr.predict(unknown_age[:, 1::])\n",
        "    \n",
        "    # \u7528\u5f97\u5230\u7684\u9884\u6d4b\u7ed3\u679c\u586b\u8865\u539f\u7f3a\u5931\u6570\u636e\n",
        "    df.loc[ (df.Age.isnull()), 'Age' ] = predictedAges \n",
        "    return df, rfr\n",
        "\n",
        "\n",
        "\n",
        "data_train, rfr = set_missing_ages(data_train)\n",
        "\n",
        "data_train.head()\n",
        "\n",
        "#\u7ed8\u5236\u5e74\u9f84\u7684\u6838\u5bc6\u5ea6\u56fe\n",
        "facet = sns.FacetGrid(data_train, hue=\"Survived\",aspect=4)\n",
        "facet.map(sns.kdeplot,'Age',shade= True)\n",
        "facet.set(xlim=(0, data_train['Age'].max()))\n",
        "facet.add_legend()\n",
        "#\u6309\u5e74\u9f84\u770b\u5e73\u5747\u83b7\u6551\u7387\n",
        "fig, axis1 = plt.subplots(1,1,figsize=(14,4))\n",
        "average_age = data_train[[\"Age\", \"Survived\"]].groupby(['Age'],as_index=False).mean()\n",
        "sns.barplot(x='Age', y='Survived', data=average_age)"
      ]
    },
    {
      "cell_type": "markdown",
      "metadata": {
        "_cell_guid": "34f51bf5-d2aa-2cbe-b8ff-a78e58a98e96"
      },
      "source": [
        "## \u7279\u5f81\u79bb\u6563\u5316 ##\n",
        "\n",
        " - \u56e0\u4e3a\u903b\u8f91\u56de\u5f52\u5efa\u6a21\u65f6\uff0c\u9700\u8981\u8f93\u5165\u7684\u7279\u5f81\u90fd\u662f\u6570\u503c\u578b\u7279\u5f81\n",
        " - \u6211\u4eec\u5148\u5bf9\u7c7b\u76ee\u578b\u7684\u7279\u5f81\u79bb\u6563/\u56e0\u5b50\u5316\n",
        " - \u4ee5Cabin\u4e3a\u4f8b\uff0c\u539f\u672c\u4e00\u4e2a\u5c5e\u6027\u7ef4\u5ea6\uff0c\u56e0\u4e3a\u5176\u53d6\u503c\u53ef\u4ee5\u662f['yes','no']\uff0c\u800c\u5c06\u5176\u5e73\u5c55\u5f00\u4e3a'Cabin_yes','Cabin_no'\u4e24\u4e2a\u5c5e\u6027\n",
        " - \u539f\u672cCabin\u53d6\u503c\u4e3ayes\u7684\uff0c\u5728\u6b64\u5904\u7684'Cabin_yes'\u4e0b\u53d6\u503c\u4e3a1\uff0c\u5728'Cabin_no'\u4e0b\u53d6\u503c\u4e3a0\n",
        " - \u539f\u672cCabin\u53d6\u503c\u4e3ano\u7684\uff0c\u5728\u6b64\u5904\u7684'Cabin_yes'\u4e0b\u53d6\u503c\u4e3a0\uff0c\u5728'Cabin_no'\u4e0b\u53d6\u503c\u4e3a1\n",
        " - \u6211\u4eec\u4f7f\u7528pandas\u7684get_dummies\u6765\u5b8c\u6210\u8fd9\u4e2a\u5de5\u4f5c\uff0c\u5e76\u62fc\u63a5\u5728\u539f\u6765\u7684data_train\u4e4b\u4e0a"
      ]
    },
    {
      "cell_type": "code",
      "execution_count": null,
      "metadata": {
        "_cell_guid": "ca4fb27c-a327-1e9b-9cf7-47e4e861c45b"
      },
      "outputs": [],
      "source": [
        "\n",
        "dummies_Cabin = pd.get_dummies(data_train['Cabin'], prefix= 'Cabin')\n",
        "\n",
        "dummies_Embarked = pd.get_dummies(data_train['Embarked'], prefix= 'Embarked')\n",
        "\n",
        "dummies_Sex = pd.get_dummies(data_train['Sex'], prefix= 'Sex')\n",
        "\n",
        "dummies_Pclass = pd.get_dummies(data_train['Pclass'], prefix= 'Pclass')\n",
        "\n",
        "df = pd.concat([data_train, dummies_Cabin, dummies_Embarked, dummies_Sex, dummies_Pclass], axis=1)\n",
        "df.drop(['Pclass', 'Name', 'Sex', 'Ticket', 'Cabin', 'Embarked'], axis=1, inplace=True)\n",
        "df.head()"
      ]
    },
    {
      "cell_type": "markdown",
      "metadata": {
        "_cell_guid": "f40b519e-2120-e332-9875-5e04a8d0a56c"
      },
      "source": [
        "\u6570\u636e\u5f52\u4e00\u5316\n",
        "-----\n",
        "\n",
        " \u63a5\u4e0b\u6765\u6211\u4eec\u8981\u63a5\u7740\u505a\u4e00\u4e9b\u6570\u636e\u9884\u5904\u7406\u7684\u5de5\u4f5c\uff0c\u6bd4\u5982scaling\uff0c\u5c06\u4e00\u4e9b\u53d8\u5316\u5e45\u5ea6\u8f83\u5927\u7684\u7279\u5f81\u5316\u5230[-1,1]\u4e4b\u5185\n",
        "\u8fd9\u6837\u53ef\u4ee5\u52a0\u901flogistic regression\u7684\u6536\u655b\n",
        "\n"
      ]
    },
    {
      "cell_type": "code",
      "execution_count": null,
      "metadata": {
        "_cell_guid": "7b9988c7-53c5-f72a-989c-c5192450d1cf"
      },
      "outputs": [],
      "source": [
        "import sklearn.preprocessing as preprocessing\n",
        "scaler = preprocessing.StandardScaler()\n",
        "age_scale_param = scaler.fit(df['Age'].values.reshape(-1,1))\n",
        "df['Age_scaled'] = scaler.fit_transform(df['Age'].values.reshape(-1,1), age_scale_param)\n",
        "fare_scale_param = scaler.fit(df['Fare'].values.reshape(-1,1))\n",
        "df['Fare_scaled'] = scaler.fit_transform(df['Fare'].values.reshape(-1,1), fare_scale_param)\n"
      ]
    },
    {
      "cell_type": "code",
      "execution_count": null,
      "metadata": {
        "_cell_guid": "f25060a3-d054-d2c1-590b-45632e9254f2"
      },
      "outputs": [],
      "source": [
        "# \u6211\u4eec\u628a\u9700\u8981\u7684feature\u5b57\u6bb5\u53d6\u51fa\u6765\uff0c\u8f6c\u6210numpy\u683c\u5f0f\n",
        "train_df = df.filter(regex='Survived|Age_.*|Family|Fare_.*|Cabin_.*|Embarked_.*|Sex_.*|Pclass_.*')\n",
        "train_np = train_df.as_matrix()\n",
        "\n",
        "# y\u5373Survival\u7ed3\u679c\n",
        "y = train_np[:, 0]\n",
        "\n",
        "# X\u5373\u7279\u5f81\u5c5e\u6027\u503c\n",
        "X = train_np[:, 1:]\n",
        "X.shape"
      ]
    },
    {
      "cell_type": "markdown",
      "metadata": {
        "_cell_guid": "2aa71882-4d0f-5004-23c8-946d9aaf3ec3"
      },
      "source": [
        "## \u6d4b\u8bd5\u96c6\u4e0a\u7684\u6570\u636e\u53d8\u6362 ##"
      ]
    },
    {
      "cell_type": "code",
      "execution_count": null,
      "metadata": {
        "_cell_guid": "0de4e4d7-a860-f26f-bb00-b2190d0e6291"
      },
      "outputs": [],
      "source": [
        "# \u5bf9\u4e8e\u6d4b\u8bd5\u96c6\uff0cfare\u6709\u4e00\u4e2a\u7f3a\u5931\u503c\uff0c\u6211\u4eec\u7528\u4e2d\u4f4d\u6570\u63d2\u503c\n",
        "data_test[\"Fare\"].fillna(data_test[\"Fare\"].median(), inplace=True)\n",
        "\n",
        "# \u63a5\u7740\u6211\u4eec\u5bf9test_data\u505a\u548ctrain_data\u4e2d\u4e00\u81f4\u7684\u7279\u5f81\u53d8\u6362\n",
        "\n",
        "# \u9996\u5148\u7528\u540c\u6837\u7684RandomForestRegressor\u6a21\u578b\u586b\u4e0a\u4e22\u5931\u7684\u5e74\u9f84\n",
        "tmp_df = data_test[['Age','Fare', 'Family', 'Pclass']]\n",
        "null_age = tmp_df[data_test.Age.isnull()].as_matrix()\n",
        "\n",
        "# \u6839\u636e\u7279\u5f81\u5c5e\u6027X\u9884\u6d4b\u5e74\u9f84\u5e76\u8865\u4e0a\n",
        "X = null_age[:, 1:]\n",
        "predictedAges = rfr.predict(X)\n",
        "data_test.loc[ (data_test.Age.isnull()), 'Age' ] = predictedAges\n",
        "\n",
        "#\u5bf9\u6d4b\u8bd5\u96c6\u7684cabin,embarked,sex,pclass\u4f5c\u56e0\u5b50\u5316\n",
        "data_test = set_Cabin_type(data_test)\n",
        "dummies_Cabin = pd.get_dummies(data_test['Cabin'], prefix= 'Cabin')\n",
        "dummies_Embarked = pd.get_dummies(data_test['Embarked'], prefix= 'Embarked')\n",
        "dummies_Sex = pd.get_dummies(data_test['Sex'], prefix= 'Sex')\n",
        "dummies_Pclass = pd.get_dummies(data_test['Pclass'], prefix= 'Pclass')\n",
        "df_test = pd.concat([data_test, dummies_Cabin, dummies_Embarked, dummies_Sex, dummies_Pclass], axis=1)\n",
        "df_test.drop(['Pclass', 'Name', 'Sex', 'Ticket', 'Cabin', 'Embarked'], axis=1, inplace=True)\n",
        "\n",
        "#\u5bf9\u6d4b\u8bd5\u96c6\u4e2d\u7684\u5e74\u9f84\u548c\u7968\u4ef7\u505a\u5f52\u4e00\u5316\n",
        "df_test['Age_scaled'] = scaler.fit_transform(df_test['Age'].values.reshape(-1,1), age_scale_param)\n",
        "df_test['Fare_scaled'] = scaler.fit_transform(df_test['Fare'].values.reshape(-1,1), fare_scale_param)\n",
        "df_test.head()"
      ]
    },
    {
      "cell_type": "markdown",
      "metadata": {
        "_cell_guid": "869637ca-6fd3-f049-8518-1542494cc89d"
      },
      "source": [
        "\n",
        "\u6a21\u578b\uff0c\u9884\u6d4b\n",
        "-----\n",
        "\u8fd9\u662f\u6709\u76d1\u7763\u7684\u5206\u7c7b\u95ee\u9898\uff0c\u6211\u4eec\u53ef\u4ee5\u8003\u8651\u5982\u4e0b\u6a21\u578b\n",
        "\n",
        " - LogisticRegression\n",
        " - Support Vector Machines\n",
        " - Random Forests\n",
        " - Gaussian Naive Bayes\n",
        " - knn\n",
        " - ..."
      ]
    },
    {
      "cell_type": "code",
      "execution_count": null,
      "metadata": {
        "_cell_guid": "5c129e03-2be5-247b-1ce4-08605e80a116"
      },
      "outputs": [],
      "source": [
        "# \u6211\u4eec\u628a\u9700\u8981\u7684feature\u5b57\u6bb5\u53d6\u51fa\u6765\uff0c\u8f6c\u6210numpy\u683c\u5f0f\n",
        "train_df = df.filter(regex='Survived|Age_.*|Family|Fare_.*|Cabin_.*|Embarked_.*|Sex_.*|Pclass_.*')\n",
        "train_np = train_df.as_matrix()\n",
        "\n",
        "# y\u5373Survival\u7ed3\u679c\n",
        "y = train_np[:, 0]\n",
        "\n",
        "# X\u5373\u7279\u5f81\u5c5e\u6027\u503c\n",
        "X = train_np[:, 1:]\n",
        "\n",
        "#\u5bf9\u6d4b\u8bd5\u96c6\u505a\u540c\u6837\u5904\u7406\n",
        "test = df_test.filter(regex='Age_.*|Family|Fare_.*|Cabin_.*|Embarked_.*|Sex_.*|Pclass_.*')\n"
      ]
    },
    {
      "cell_type": "code",
      "execution_count": null,
      "metadata": {
        "_cell_guid": "6da5eb31-9473-a95b-46a2-f7d0d8a96c8b"
      },
      "outputs": [],
      "source": [
        "# LogisticRegression\u5efa\u6a21\n",
        "from sklearn import linear_model\n",
        "clf = linear_model.LogisticRegression(C=1.0, penalty='l1', tol=1e-6)\n",
        "clf.fit(X, y)\n",
        "#\u9884\u6d4b\n",
        "Y_pred= clf.predict(test)\n",
        "result = pd.DataFrame({'PassengerId':data_test['PassengerId'].as_matrix(), 'Survived':Y_pred.astype(np.int32)})\n",
        "result.to_csv(\"clf.csv\", index=False)\n",
        "#\u8bad\u7ec3\u96c6\u4e0a\u7684\u5f97\u5206\n",
        "clf.score(X, y)"
      ]
    },
    {
      "cell_type": "markdown",
      "metadata": {
        "_cell_guid": "ca367bf5-e70f-1b55-2a28-f0b8d5d4157b"
      },
      "source": [
        "\u901a\u8fc7\u903b\u8f91\u56de\u5f52\u6a21\u578b\u7684\u7cfb\u6570\uff0c\u53ef\u4ee5\u9a8c\u8bc1\u6211\u4eec\u7684\u7279\u5f81\u9009\u62e9\u7684\u662f\u5426\u591f\u597d\u3002"
      ]
    },
    {
      "cell_type": "code",
      "execution_count": null,
      "metadata": {
        "_cell_guid": "ac9d272a-3fc9-58ee-9dd3-ef9b1653131c"
      },
      "outputs": [],
      "source": [
        "pd.DataFrame({\"columns\":list(train_df.columns)[1:], \"coef\":list(clf.coef_.T)})"
      ]
    },
    {
      "cell_type": "code",
      "execution_count": null,
      "metadata": {
        "_cell_guid": "759e0740-2bd6-6f65-2444-a470a0b61fdd"
      },
      "outputs": [],
      "source": [
        "\n",
        "# Support Vector Machines\n",
        "\n",
        "svc = SVC()\n",
        "svc.fit(X, y)\n",
        "\n",
        "Y_pred= svc.predict(test)\n",
        "result = pd.DataFrame({'PassengerId':data_test['PassengerId'].as_matrix(), 'Survived':Y_pred.astype(np.int32)})\n",
        "result.to_csv(\"svc.csv\", index=False)\n",
        "\n",
        "svc.score(X, y)\n"
      ]
    },
    {
      "cell_type": "code",
      "execution_count": null,
      "metadata": {
        "_cell_guid": "2667588d-3b84-2462-51cd-ff423749b312"
      },
      "outputs": [],
      "source": [
        "# Random Forests\n",
        "\n",
        "random_forest = RandomForestClassifier(n_estimators=100)\n",
        "random_forest.fit(X, y)\n",
        "\n",
        "Y_pred = random_forest.predict(test)\n",
        "result = pd.DataFrame({'PassengerId':data_test['PassengerId'].as_matrix(), 'Survived':Y_pred.astype(np.int32)})\n",
        "result.to_csv(\"random_forest.csv\", index=False)\n",
        "random_forest.score(X, y)\n"
      ]
    },
    {
      "cell_type": "code",
      "execution_count": null,
      "metadata": {
        "_cell_guid": "5352690b-8729-a186-687c-35533ce7918c"
      },
      "outputs": [],
      "source": [
        "#Gaussian Naive Bayes\n",
        "\n",
        "gaussian = GaussianNB()\n",
        "gaussian.fit(X, y)\n",
        "\n",
        "Y_pred = gaussian.predict(test)\n",
        "result = pd.DataFrame({'PassengerId':data_test['PassengerId'].as_matrix(), 'Survived':Y_pred.astype(np.int32)})\n",
        "result.to_csv(\"gaussian.csv\", index=False)\n",
        "gaussian.score(X, y)"
      ]
    },
    {
      "cell_type": "code",
      "execution_count": null,
      "metadata": {
        "_cell_guid": "b0442a00-b406-d0af-67d3-7488019ec5ab"
      },
      "outputs": [],
      "source": [
        "#knn\n",
        "knn = KNeighborsClassifier(n_neighbors = 3)\n",
        "knn.fit(X, y)\n",
        "\n",
        "Y_pred = knn.predict(test)\n",
        "result = pd.DataFrame({'PassengerId':data_test['PassengerId'].as_matrix(), 'Survived':Y_pred.astype(np.int32)})\n",
        "result.to_csv(\"knn.csv\", index=False)\n",
        "knn.score(X, y)\n"
      ]
    }
  ],
  "metadata": {
    "_change_revision": 0,
    "_is_fork": false,
    "kernelspec": {
      "display_name": "Python 3",
      "language": "python",
      "name": "python3"
    },
    "language_info": {
      "codemirror_mode": {
        "name": "ipython",
        "version": 3
      },
      "file_extension": ".py",
      "mimetype": "text/x-python",
      "name": "python",
      "nbconvert_exporter": "python",
      "pygments_lexer": "ipython3",
      "version": "3.6.0"
    }
  },
  "nbformat": 4,
  "nbformat_minor": 0
}