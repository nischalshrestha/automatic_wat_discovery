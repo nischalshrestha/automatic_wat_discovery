{
  "cells": [
    {
      "cell_type": "markdown",
      "metadata": {
        "_cell_guid": "ff2135e8-5968-9438-5876-fc1347fc3818"
      },
      "source": [
        "This notebook is a slightly modified version of the code published by Jonathan Bechel in \"Mastering the Basics on the RMS Titanic! "
      ]
    },
    {
      "cell_type": "markdown",
      "metadata": {
        "_cell_guid": "55b0212a-d79a-dba6-46f1-c407ae7bd3db"
      },
      "source": [
        "**Step 1:  Load the Data.**\n",
        " \n",
        "Given that later on I concatenate the training and testing data sets, the 'PassengerId' column is used as the index to correctly identify the passengers"
      ]
    },
    {
      "cell_type": "code",
      "execution_count": null,
      "metadata": {
        "_cell_guid": "af9c3b1c-d7f2-9931-e04b-c1333445976b"
      },
      "outputs": [],
      "source": [
        "#Data analysis\n",
        "import pandas as pd\n",
        "from pandas import Series,DataFrame\n",
        "\n",
        "import numpy as np\n",
        "\n",
        "#Graphics\n",
        "import matplotlib.pyplot as plt\n",
        "import seaborn as sns\n",
        "sns.set_style('whitegrid')\n",
        "%matplotlib inline\n",
        "\n",
        "#Machine learning\n",
        "from sklearn.preprocessing import LabelEncoder\n",
        "from sklearn.cross_validation import train_test_split\n",
        "from sklearn.linear_model import LogisticRegression\n",
        "from sklearn.metrics import precision_recall_fscore_support\n",
        "from sklearn import svm"
      ]
    },
    {
      "cell_type": "code",
      "execution_count": null,
      "metadata": {
        "_cell_guid": "3ffdd216-1ea8-3673-0c0f-59c7f995031a"
      },
      "outputs": [],
      "source": [
        "#Read files into the program\n",
        "test = pd.read_csv(\"../input/test.csv\", index_col='PassengerId')\n",
        "train = pd.read_csv(\"../input/train.csv\", index_col='PassengerId')"
      ]
    },
    {
      "cell_type": "code",
      "execution_count": null,
      "metadata": {
        "_cell_guid": "e7a3ee30-3748-dd86-bd74-9fc118bbb4e0"
      },
      "outputs": [],
      "source": [
        "print (\"Basic statistical description:\")\n",
        "train.describe()"
      ]
    },
    {
      "cell_type": "code",
      "execution_count": null,
      "metadata": {
        "_cell_guid": "116c5df1-c102-1e17-dc16-e94d17433d39"
      },
      "outputs": [],
      "source": [
        "train.info()"
      ]
    },
    {
      "cell_type": "markdown",
      "metadata": {
        "_cell_guid": "2d5b2dca-f5a2-91dd-e986-ac54a8ca2089"
      },
      "source": [
        "##Some graphical analysis"
      ]
    },
    {
      "cell_type": "code",
      "execution_count": null,
      "metadata": {
        "_cell_guid": "33bce132-965d-0c14-7a1f-28ea64cee98e"
      },
      "outputs": [],
      "source": [
        "#Age\n",
        "#Survived vs not survived by age\n",
        "Age_graph = sns.FacetGrid(train, hue=\"Survived\",aspect=3)\n",
        "Age_graph.map(sns.kdeplot,'Age',shade= True)\n",
        "Age_graph.set(xlim=(0, train['Age'].max()))\n",
        "Age_graph.add_legend()\n",
        "\n",
        "# average survived passengers by age\n",
        "fig, axis1 = plt.subplots(1,1,figsize=(18,4))\n",
        "average_age = train[[\"Age\", \"Survived\"]].groupby(['Age'],as_index=False).mean()\n",
        "sns.barplot(x='Age', y='Survived', data=average_age)"
      ]
    },
    {
      "cell_type": "markdown",
      "metadata": {
        "_cell_guid": "3905d638-f2e7-f930-0ca3-6511072c0517"
      },
      "source": [
        "##Fare variable\n",
        "Graphical analysis and imputation"
      ]
    },
    {
      "cell_type": "code",
      "execution_count": null,
      "metadata": {
        "_cell_guid": "7b760d9b-93d0-7873-1ff1-1f5965664cca"
      },
      "outputs": [],
      "source": [
        "# Since there is a missing value in the \"Fare\" variable, I imputed using the median\n",
        "test[\"Fare\"].fillna(test[\"Fare\"].median(), inplace=True)\n",
        "\n",
        "# convert from float to int\n",
        "train['Fare'] = train['Fare'].astype(int)\n",
        "test['Fare']  = test['Fare'].astype(int)\n",
        "\n",
        "# Fare for passengers that survived & didn't survive  \n",
        "fare_not_survived = train[\"Fare\"][train[\"Survived\"] == 0]\n",
        "fare_survived     = train[\"Fare\"][train[\"Survived\"] == 1]\n",
        "\n",
        "# Average and std for survived and not survived passengers\n",
        "avgerage_fare = DataFrame([fare_not_survived.mean(), fare_survived.mean()])\n",
        "std_fare      = DataFrame([fare_not_survived.std(), fare_survived.std()])\n",
        "\n",
        "# Histogram 'Fare'\n",
        "train['Fare'].plot(kind='hist', figsize=(8,3),bins=100, xlim=(0,50))"
      ]
    },
    {
      "cell_type": "markdown",
      "metadata": {
        "_cell_guid": "69dd5f1d-b5c5-7999-dba9-02cc8296b420"
      },
      "source": [
        "We're going to do three things to start off:\n",
        "\n",
        " - Store the 'Survived' column as its own separate series and delete it from the 'Train' dataset.\n",
        " - Concatenate the training and testing set to fill in and parse all the\n",
        "   data at once. \n",
        " - Drop two columns: 'Embarked' and 'Ticket.'"
      ]
    },
    {
      "cell_type": "code",
      "execution_count": null,
      "metadata": {
        "_cell_guid": "b8d5ad23-4be7-3778-94c0-aeec8fd5e385"
      },
      "outputs": [],
      "source": [
        "y = train['Survived']\n",
        "del train['Survived']"
      ]
    },
    {
      "cell_type": "markdown",
      "metadata": {
        "_cell_guid": "3259a965-21ba-752d-30b1-d3b40ceecf9b"
      },
      "source": [
        "##Concatenate the training and testing data sets"
      ]
    },
    {
      "cell_type": "code",
      "execution_count": null,
      "metadata": {
        "_cell_guid": "baa6bba3-71fc-e28c-2134-98e263e038df"
      },
      "outputs": [],
      "source": [
        "train = pd.concat([train, test])"
      ]
    },
    {
      "cell_type": "code",
      "execution_count": null,
      "metadata": {
        "_cell_guid": "3e1d32ec-3ee2-bf9b-0628-af5d014a418f"
      },
      "outputs": [],
      "source": [
        "#Drop variables that we will not included in the model: (6)'Embarked' and (9) 'Ticket.'\n",
        "train = train.drop(train.columns[[6,9]], axis=1)"
      ]
    },
    {
      "cell_type": "markdown",
      "metadata": {
        "_cell_guid": "db13c744-a12a-b187-2b44-350e884ebb9b"
      },
      "source": [
        "#Categorical Data: Encoding and Feature Generation"
      ]
    },
    {
      "cell_type": "markdown",
      "metadata": {
        "_cell_guid": "32472fb3-23d9-5c46-307d-b4ce5f2fae1d"
      },
      "source": [
        "##Handling categorical data with sklearn\n",
        "\n",
        "**Using sklearn Lablel Encode** \n",
        "   \n",
        " - It assigns numeric values against each categorical variable in the data and add the column wise in the data frame. \n",
        " - Sklearn label encoder can handle numeric categories, while Pandas can  also handle strings. Pandas get_dummies function\n",
        "\n",
        "Let's do that for PClass and Sex:"
      ]
    },
    {
      "cell_type": "code",
      "execution_count": null,
      "metadata": {
        "_cell_guid": "5be9d76c-8830-8c6a-b00c-1be1f24e4ef7"
      },
      "outputs": [],
      "source": [
        "#fit_transform Encode labels with value between 0 and n_classes-1. \n",
        "train['Sex'] = LabelEncoder().fit_transform(train.Sex)\n",
        "train['Pclass'] = LabelEncoder().fit_transform(train.Pclass)"
      ]
    },
    {
      "cell_type": "markdown",
      "metadata": {
        "_cell_guid": "a5a6a1fc-d85f-c7a5-2fe0-696f0d9a3528"
      },
      "source": [
        "For the 'Cabin' feature we're going to first do a little bit of data transformation.\n",
        "To see we're going to extract the first letter of each passenger's cabin (if it exists) using the 'lambda x' feature in Python, and then encode it.\n",
        "We change the np.nan values to 'X' so all data is the same type, allowing it to be labeled."
      ]
    },
    {
      "cell_type": "code",
      "execution_count": null,
      "metadata": {
        "_cell_guid": "8d714402-6167-a2bc-d0ee-8707214515a6"
      },
      "outputs": [],
      "source": [
        "train['Cabin'] = train.Cabin.apply(lambda x: x[0] if pd.notnull(x) else 'X')\n",
        "train['Cabin'] = LabelEncoder().fit_transform(train.Cabin)"
      ]
    },
    {
      "cell_type": "code",
      "execution_count": null,
      "metadata": {
        "_cell_guid": "d55e6827-87da-db86-ea0e-69c92df88f9e"
      },
      "outputs": [],
      "source": [
        "train[['Sex','Pclass', 'Cabin']][0:3]"
      ]
    },
    {
      "cell_type": "markdown",
      "metadata": {
        "_cell_guid": "b0c39f51-9f24-6d61-4271-f04686244566"
      },
      "source": [
        "**Missing data**"
      ]
    },
    {
      "cell_type": "code",
      "execution_count": null,
      "metadata": {
        "_cell_guid": "cdc722fd-f122-f1c6-1f02-221005b927fe"
      },
      "outputs": [],
      "source": [
        "train.info()"
      ]
    },
    {
      "cell_type": "markdown",
      "metadata": {
        "_cell_guid": "97b5d52b-72cf-5aa9-2b2e-3642a45d7ef0"
      },
      "source": [
        "*****************"
      ]
    },
    {
      "cell_type": "markdown",
      "metadata": {
        "_cell_guid": "c516e316-0b83-d9d5-8f37-2cf0b902fb89"
      },
      "source": [
        "Clearly there's an important amount of missing data in the 'Age' category. To fill it we're going to use the median age of that passengers Class and Sex, which will be accessed via the groupby method in Pandas:"
      ]
    },
    {
      "cell_type": "markdown",
      "metadata": {
        "_cell_guid": "513ffae8-2366-8038-fae1-4e1816360512"
      },
      "source": [
        "**String processing**"
      ]
    },
    {
      "cell_type": "markdown",
      "metadata": {
        "_cell_guid": "f83f8ea8-df30-dcc7-ec92-4b84d1626825"
      },
      "source": [
        "Extract the labels associated with a person's greeting using \"string processing\"  though a for loop by using the Python method split() to break up each greeting"
      ]
    },
    {
      "cell_type": "code",
      "execution_count": null,
      "metadata": {
        "_cell_guid": "ddca4268-c9cc-8939-82c0-1be8c31e0344"
      },
      "outputs": [],
      "source": [
        "#Used to create new pd Series from Name data that extracts the greeting used for their name to be used \n",
        "#as a separate variable\n",
        "def greeting_search(words):\n",
        "    for word in words.split():\n",
        "        if word[0].isupper() and word.endswith('.'): #name into an array of \"words\" \n",
        "                                  #These are evaluate using the isupper() and endswith() methods in a for loop\n",
        "            return word"
      ]
    },
    {
      "cell_type": "code",
      "execution_count": null,
      "metadata": {
        "_cell_guid": "a86782a0-900c-9ced-5d9a-c19b2a15d330"
      },
      "outputs": [],
      "source": [
        "# apply the greeting_search function to the 'Name' column\n",
        "train['Greeting']=train.Name.apply(greeting_search)\n",
        "train['Greeting'].value_counts()"
      ]
    },
    {
      "cell_type": "code",
      "execution_count": null,
      "metadata": {
        "_cell_guid": "41f2ab27-9212-b9ea-c421-e73241bd801e"
      },
      "outputs": [],
      "source": [
        "#greetings that occur 8 or less times and classify them under the moniker 'Rare',\n",
        "train['Greeting'] = train.groupby('Greeting')['Greeting'].transform(lambda x: 'Rare' if x.count() < 9 else x)\n",
        "\n",
        "del train['Name']   \n",
        "\n",
        "#tranform the data and drop the 'Name' series since it's no longer needed.\n",
        "train['Greeting'] = LabelEncoder().fit_transform(train.Greeting)"
      ]
    },
    {
      "cell_type": "code",
      "execution_count": null,
      "metadata": {
        "_cell_guid": "db3d1da6-5085-4b73-59bf-2b57230f4468"
      },
      "outputs": [],
      "source": [
        "train.info()"
      ]
    },
    {
      "cell_type": "markdown",
      "metadata": {
        "_cell_guid": "c56d047f-c301-6e4a-032c-a71b63ac2630"
      },
      "source": [
        "There is missing data for the 'Age' and 'Cabin' variables"
      ]
    },
    {
      "cell_type": "markdown",
      "metadata": {
        "_cell_guid": "6b8107eb-3846-bc95-6b29-14b8fce4372f"
      },
      "source": [
        "##Missing Data\n",
        "Considering that there is a lot of missing information for the 'Age' variable we are going to \n",
        "impute it using the median age of  Greeting and Sex."
      ]
    },
    {
      "cell_type": "code",
      "execution_count": null,
      "metadata": {
        "_cell_guid": "ed94ad35-4e0e-534a-0578-fbce2249c5f5"
      },
      "outputs": [],
      "source": [
        "#This will be accessed via the groupby method in Pandas:\n",
        "train.groupby(['Greeting', 'Sex'])['Age'].median()"
      ]
    },
    {
      "cell_type": "code",
      "execution_count": null,
      "metadata": {
        "_cell_guid": "5562da9b-4ebc-9f00-e2c2-e57d4f760f5c"
      },
      "outputs": [],
      "source": [
        "#set using Lambda x\n",
        "train['Age'] = train.groupby(['Greeting', 'Sex'])['Age'].transform(lambda x: x.replace(np.nan, x.median()))"
      ]
    },
    {
      "cell_type": "markdown",
      "metadata": {
        "_cell_guid": "fef09992-31c4-f2dc-038b-be70aebaa76d"
      },
      "source": [
        "As we wil see next, there is a NaN value for the 'Fare' variable in row 1043 which corresponds to PassengerId '1044'. "
      ]
    },
    {
      "cell_type": "code",
      "execution_count": null,
      "metadata": {
        "_cell_guid": "439f3a5c-dd3d-c266-5076-8464b3b7b965"
      },
      "outputs": [],
      "source": [
        "train[1042:1044]"
      ]
    },
    {
      "cell_type": "code",
      "execution_count": null,
      "metadata": {
        "_cell_guid": "f06a1e0d-ef93-1927-bda6-b433e7a79582"
      },
      "outputs": [],
      "source": [
        "train.iloc[1043, 5] = 7.90 #Imputation of Fare using iloc\n",
        "train[1042:1044]"
      ]
    },
    {
      "cell_type": "markdown",
      "metadata": {
        "_cell_guid": "752df91d-c1fe-fce3-a60d-d216321e83f4"
      },
      "source": [
        "Feature Generation: Family Size and Greeting"
      ]
    },
    {
      "cell_type": "code",
      "execution_count": null,
      "metadata": {
        "_cell_guid": "6a58ba76-46ae-9f4b-dfce-09b23624d840"
      },
      "outputs": [],
      "source": [
        "train['Family_Size'] = train.SibSp + train.Parch"
      ]
    },
    {
      "cell_type": "code",
      "execution_count": null,
      "metadata": {
        "_cell_guid": "13434cb2-421d-f808-88e1-fa76e73da5cc"
      },
      "outputs": [],
      "source": [
        "train['Family_Size'][0:15]"
      ]
    },
    {
      "cell_type": "markdown",
      "metadata": {
        "_cell_guid": "8fd68d62-70b8-1d6f-2f99-e8c54d29684b"
      },
      "source": [
        "**Categorical coding** use Pandas **pd.get_dummies**"
      ]
    },
    {
      "cell_type": "markdown",
      "metadata": {
        "_cell_guid": "caeb1da8-8160-d77f-f606-597b9980b898"
      },
      "source": [
        "CONTINUOUS ORDER has a precise hierarchy to it. Someone who paid  50foraticketdefinitelypaidmorethansomeonewhopaid50foraticketdefinitelypaidmorethansomeonewhopaid 30.\n",
        "So what we want to do is re-code a Series into a package of yes/no decisions demarcated as 0 or 1 depending on which option they were.\n",
        "Ie, Someone's Passenger class should be denoted as [0, 0, 1], [1, 0, 0], or [0, 1, 0] depending on which of the three classes they are.\n",
        "Pandas has a useful tool to do this called pd.get_dummies, which takes a series of encoded and then unpacks it into the appropriate number of yes/no columns.\n",
        "For example, we can take the 'Pclass' series and use pd.get_dummies like this:"
      ]
    },
    {
      "cell_type": "code",
      "execution_count": null,
      "metadata": {
        "_cell_guid": "c4cfb68a-c1e3-cab6-f0e4-7649439813f9"
      },
      "outputs": [],
      "source": [
        "Pclass = pd.get_dummies(train['Pclass'], prefix='Passenger Class', drop_first=True)"
      ]
    },
    {
      "cell_type": "code",
      "execution_count": null,
      "metadata": {
        "_cell_guid": "1af8ae1b-202d-b68b-fb0a-7b7efe94b7c9"
      },
      "outputs": [],
      "source": [
        "Pclass.head(5)"
      ]
    },
    {
      "cell_type": "markdown",
      "metadata": {
        "_cell_guid": "22db9e63-f659-074e-a697-ded284cfec5e"
      },
      "source": [
        "Important: You might notice there's an option called 'drop_first' which is set to 'True.'\n",
        "That means the first variable in the series is excluded, which is important for avoiding something called collinearity, which you can read more about here.\n",
        "To be honest, probably not that important for this dataset, but a useful habit to keep in mind, especially if you work with Time Series data."
      ]
    },
    {
      "cell_type": "code",
      "execution_count": null,
      "metadata": {
        "_cell_guid": "630ce92e-1876-6e3c-f2c0-324f58a6196f"
      },
      "outputs": [],
      "source": [
        "Greetings = pd.get_dummies(train['Greeting'], prefix='Greeting', drop_first=True)\n",
        "Cabins = pd.get_dummies(train['Cabin'], prefix='Cabin', drop_first=True)"
      ]
    },
    {
      "cell_type": "code",
      "execution_count": null,
      "metadata": {
        "_cell_guid": "06b56fb4-ff57-d350-2e03-8af2d850e4f2"
      },
      "outputs": [],
      "source": [
        "train.info()"
      ]
    },
    {
      "cell_type": "markdown",
      "metadata": {
        "_cell_guid": "e0aeed51-4abc-f341-c155-eff1f19c8fa3"
      },
      "source": [
        "**Standardizing your Data**"
      ]
    },
    {
      "cell_type": "markdown",
      "metadata": {
        "_cell_guid": "35cf3660-f2f4-efe9-f9ee-428feeccaf8b"
      },
      "source": [
        "It's good practice to standardize the data in order to allow different data sets to be comparable. When standardizing your data the idea is to compute the mean and subtract it from your data. Then divide the results by the standard deviation. By doing so, we can compare the data distribution with a normal distribution (N(0,1)N(0,1))\n",
        "\n",
        "[What is the purpose of subtracting the mean from data when standardizing?][1]\n",
        "\n",
        "\n",
        "  [1]: https://math.stackexchange.com/questions/317114/what-is-the-purpose-of-subtracting-the-mean-from-data-when-standardizing"
      ]
    },
    {
      "cell_type": "code",
      "execution_count": null,
      "metadata": {
        "_cell_guid": "4239f9ba-e994-9bf5-65da-fe0354af743f"
      },
      "outputs": [],
      "source": [
        "#Scale Continuous Data\n",
        "train['Family_scaled'] = (train.Family_Size - train.Family_Size.mean())/train.Family_Size.std()\n",
        "train['Age_scaled'] = (train.Age - train.Age.mean())/train.Age.std()\n",
        "train['Fare_scaled'] = (train.Fare - train.Fare.mean())/train.Fare.std()"
      ]
    },
    {
      "cell_type": "markdown",
      "metadata": {
        "_cell_guid": "4ae98780-8621-5ec3-22c8-666a0aac03be"
      },
      "source": [
        "**Final steps**\n",
        "\n",
        " 1. Drop the columns that we rae not gonna use in the analysis\n",
        " 2. Concatenate the dataframes that were created with pd.get_dummies()\n",
        " 3. split the data back into its training and test sets "
      ]
    },
    {
      "cell_type": "code",
      "execution_count": null,
      "metadata": {
        "_cell_guid": "2883e713-cd37-c68a-75d3-bdc58d91d35d"
      },
      "outputs": [],
      "source": [
        "train.info()"
      ]
    },
    {
      "cell_type": "code",
      "execution_count": null,
      "metadata": {
        "_cell_guid": "342b5853-b86d-b859-ef7b-d51b75c13591"
      },
      "outputs": [],
      "source": [
        "train = train.drop(train.columns[[0,2,3,4,5,6,7,8]], axis=1)\n",
        "#Varibles that I dropped: Pclass, Age,SisSp, Parch, Fare, Cabin, Greeting,Family Size\n",
        "#Pclass\tSex\tAge\tSibSp\tParch\tFare\tCabin\tGreeting\tFamily_Size\tFamily_scaled\tAge_scaled\tFare_scaled"
      ]
    },
    {
      "cell_type": "code",
      "execution_count": null,
      "metadata": {
        "_cell_guid": "3bd4573e-5e0d-ff23-a4fb-b24d2a01a6c5"
      },
      "outputs": [],
      "source": [
        "train.info()"
      ]
    },
    {
      "cell_type": "code",
      "execution_count": null,
      "metadata": {
        "_cell_guid": "e6eae42c-19e3-da40-2145-0857018731ac"
      },
      "outputs": [],
      "source": [
        "#Concat modified data to be used for analysis, set to X and y values\n",
        "data = pd.concat([train, Greetings, Pclass, Cabins], axis=1)"
      ]
    },
    {
      "cell_type": "code",
      "execution_count": null,
      "metadata": {
        "_cell_guid": "c7e02708-7a20-f5a6-ccf1-8479b1d5ede9"
      },
      "outputs": [],
      "source": [
        "data.info()"
      ]
    },
    {
      "cell_type": "code",
      "execution_count": null,
      "metadata": {
        "_cell_guid": "6d1d3e65-a86e-a02d-76b0-76d2a9c8d434"
      },
      "outputs": [],
      "source": [
        "#Split the data back into its original training and test sets\n",
        "test = data.iloc[891:]\n",
        "X = data[:891]"
      ]
    },
    {
      "cell_type": "markdown",
      "metadata": {
        "_cell_guid": "4807a8cf-3c0b-201f-c468-b05ab56a6f0f"
      },
      "source": [
        "Cross-validation"
      ]
    },
    {
      "cell_type": "code",
      "execution_count": null,
      "metadata": {
        "_cell_guid": "12895027-93bc-68ef-eaac-af62de909c0f"
      },
      "outputs": [],
      "source": [
        "clf = LogisticRegression()"
      ]
    },
    {
      "cell_type": "code",
      "execution_count": null,
      "metadata": {
        "_cell_guid": "b90ed488-b344-2a34-1aee-b697d3d78a81"
      },
      "outputs": [],
      "source": [
        "def find_C(X, y):\n",
        "    Cs = np.logspace(-4, 4, 10)\n",
        "    score = []  \n",
        "    for C in Cs:\n",
        "        clf.C = C\n",
        "        clf.fit(X_train, y_train)\n",
        "        score.append(clf.score(X, y))\n",
        "  \n",
        "    plt.figure()\n",
        "    plt.semilogx(Cs, score, marker='x')\n",
        "    plt.xlabel('Value of C')\n",
        "    plt.ylabel('Accuracy on Cross Validation Set')\n",
        "    plt.title('What\\'s the Best Value of C?')\n",
        "    plt.show()\n",
        "    clf.C = Cs[score.index(max(score))]\n",
        "    print(\"Ideal value of C is %g\" % (Cs[score.index(max(score))]))\n",
        "    print('Accuracy: %g' % (max(score)))"
      ]
    },
    {
      "cell_type": "code",
      "execution_count": null,
      "metadata": {
        "_cell_guid": "284c8ae1-532c-e4fa-a342-9a87bfe6c700"
      },
      "outputs": [],
      "source": [
        "find_C(X_val, y_val)"
      ]
    },
    {
      "cell_type": "code",
      "execution_count": null,
      "metadata": {
        "_cell_guid": "065df8fc-d2fd-cc24-5166-8156701ae02f"
      },
      "outputs": [],
      "source": [
        "#Create cross - validation set \n",
        "X_train, X_val, y_train, y_val = train_test_split(X, y, train_size = 0.6)"
      ]
    },
    {
      "cell_type": "code",
      "execution_count": null,
      "metadata": {
        "_cell_guid": "da309972-b5ec-5049-0b2d-0d03321ca96a"
      },
      "outputs": [],
      "source": [
        "clf = LogisticRegression()"
      ]
    },
    {
      "cell_type": "code",
      "execution_count": null,
      "metadata": {
        "_cell_guid": "ff04f91a-e786-8e65-58a3-39953a79395e"
      },
      "outputs": [],
      "source": [
        "def find_C(X, y):\n",
        "    Cs = np.logspace(-4, 4, 10)\n",
        "    score = []  \n",
        "    for C in Cs:\n",
        "        clf.C = C\n",
        "        clf.fit(X_train, y_train)\n",
        "        score.append(clf.score(X, y))\n",
        "  \n",
        "    plt.figure()\n",
        "    plt.semilogx(Cs, score, marker='x')\n",
        "    plt.xlabel('Value of C')\n",
        "    plt.ylabel('Accuracy on Cross Validation Set')\n",
        "    plt.title('What\\'s the Best Value of C?')\n",
        "    plt.show()\n",
        "    clf.C = Cs[score.index(max(score))]\n",
        "    print(\"Ideal value of C is %g\" % (Cs[score.index(max(score))]))\n",
        "    print('Accuracy: %g' % (max(score)))"
      ]
    },
    {
      "cell_type": "code",
      "execution_count": null,
      "metadata": {
        "_cell_guid": "46373b2b-bb1e-e1bb-4f09-7eef7c2db461"
      },
      "outputs": [],
      "source": [
        "find_C(X_val, y_val)"
      ]
    },
    {
      "cell_type": "code",
      "execution_count": null,
      "metadata": {
        "_cell_guid": "b8ceb591-a32d-4ab4-6f01-239077149c06"
      },
      "outputs": [],
      "source": [
        "answer = pd.DataFrame(clf.predict(test), index=test.index, columns=['Survived'])\n",
        "answer.to_csv('answer.csv')"
      ]
    },
    {
      "cell_type": "code",
      "execution_count": null,
      "metadata": {
        "_cell_guid": "23adc2a5-0664-eb7f-a148-904e09f76cc2"
      },
      "outputs": [],
      "source": [
        "coef = pd.DataFrame({'Variable': data.columns, 'Coefficient': clf.coef_[0]})\n",
        "coef"
      ]
    }
  ],
  "metadata": {
    "_change_revision": 0,
    "_is_fork": false,
    "kernelspec": {
      "display_name": "Python 3",
      "language": "python",
      "name": "python3"
    },
    "language_info": {
      "codemirror_mode": {
        "name": "ipython",
        "version": 3
      },
      "file_extension": ".py",
      "mimetype": "text/x-python",
      "name": "python",
      "nbconvert_exporter": "python",
      "pygments_lexer": "ipython3",
      "version": "3.5.2"
    }
  },
  "nbformat": 4,
  "nbformat_minor": 0
}