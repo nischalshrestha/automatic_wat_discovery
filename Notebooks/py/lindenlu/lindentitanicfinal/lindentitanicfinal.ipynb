{
  "cells": [
    {
      "cell_type": "code",
      "execution_count": null,
      "metadata": {
        "_cell_guid": "f3af9575-0e8a-71b8-7d11-acca470dd20f"
      },
      "outputs": [],
      "source": [
        "# data analysis and wrangling\n",
        "import pandas as pd\n",
        "import numpy as np\n",
        "import random as rnd\n",
        "\n",
        "# visualization\n",
        "import seaborn as sns\n",
        "import matplotlib.pyplot as plt\n",
        "%matplotlib inline\n",
        "\n",
        "# machine learning\n",
        "from sklearn.linear_model import LogisticRegression\n",
        "from sklearn.svm import SVC, LinearSVC\n",
        "from sklearn.ensemble import RandomForestClassifier\n",
        "from sklearn.neighbors import KNeighborsClassifier\n",
        "from sklearn.naive_bayes import GaussianNB\n",
        "from sklearn.linear_model import Perceptron\n",
        "from sklearn.linear_model import SGDClassifier\n",
        "from sklearn.tree import DecisionTreeClassifier"
      ]
    },
    {
      "cell_type": "code",
      "execution_count": null,
      "metadata": {
        "_cell_guid": "26d4ea5d-7c33-859a-76c8-dbac0be1fa8e"
      },
      "outputs": [],
      "source": [
        "train_df = pd.read_csv('../input/train.csv')\n",
        "test_df = pd.read_csv('../input/test.csv')\n",
        "combine = [train_df, test_df]"
      ]
    },
    {
      "cell_type": "code",
      "execution_count": null,
      "metadata": {
        "_cell_guid": "6dcdd2aa-d7c5-5416-044e-3eeca05ba847"
      },
      "outputs": [],
      "source": [
        "print (train_df.columns.values)\n",
        "train_df.head()"
      ]
    },
    {
      "cell_type": "code",
      "execution_count": null,
      "metadata": {
        "_cell_guid": "673d19d4-608b-7c1e-af1d-bce01a7b8816"
      },
      "outputs": [],
      "source": [
        "train_df.info()\n",
        "#train_df[['Name', 'Sex']].info()"
      ]
    },
    {
      "cell_type": "code",
      "execution_count": null,
      "metadata": {
        "_cell_guid": "f3720cd2-d7b0-81bd-b4af-8ba5ec5a83fb"
      },
      "outputs": [],
      "source": [
        "train_df.describe()"
      ]
    },
    {
      "cell_type": "code",
      "execution_count": null,
      "metadata": {
        "_cell_guid": "d2e69b02-30dd-ba32-d77c-66071f7f670b"
      },
      "outputs": [],
      "source": [
        "train_df.describe(include=['O'])"
      ]
    },
    {
      "cell_type": "code",
      "execution_count": null,
      "metadata": {
        "_cell_guid": "b1a4e80d-5a2c-cdea-f55f-32b219f5f2b3"
      },
      "outputs": [],
      "source": [
        "train_df[['Pclass','Survived']].groupby(['Pclass'], as_index=False).mean().sort_values(by='Survived', ascending=False)"
      ]
    },
    {
      "cell_type": "code",
      "execution_count": null,
      "metadata": {
        "_cell_guid": "63ef7248-c93b-f9d1-4f3b-762b204f0614"
      },
      "outputs": [],
      "source": [
        "train_df[[\"Sex\", \"Survived\"]].groupby(['Sex'], as_index=False).mean().sort_values(by='Survived', ascending=False)"
      ]
    },
    {
      "cell_type": "code",
      "execution_count": null,
      "metadata": {
        "_cell_guid": "f62f2981-b56a-5d33-d4c4-05b497f3a272"
      },
      "outputs": [],
      "source": [
        "train_df[[\"SibSp\", \"Survived\"]].groupby(['SibSp'], as_index=False).mean().sort_values(by='Survived', ascending=False)"
      ]
    },
    {
      "cell_type": "code",
      "execution_count": null,
      "metadata": {
        "_cell_guid": "af80430f-807c-d9c2-2fc7-dd355a6c3c1e"
      },
      "outputs": [],
      "source": [
        "train_df[[\"Parch\", \"Survived\"]].groupby(['Parch'], as_index=False).mean().sort_values(by='Survived', ascending=False)"
      ]
    },
    {
      "cell_type": "code",
      "execution_count": null,
      "metadata": {
        "_cell_guid": "99ac061e-9c1d-6d2d-b750-843e9c0c972f"
      },
      "outputs": [],
      "source": [
        "train_df[['Embarked', 'Sex', 'Name']].groupby(['Embarked', 'Sex']).count()"
      ]
    },
    {
      "cell_type": "code",
      "execution_count": null,
      "metadata": {
        "_cell_guid": "4c2f13f8-8db7-a58c-31c1-80c2563ff13c"
      },
      "outputs": [],
      "source": [
        "train_df[['Embarked', 'Pclass', 'Name']].groupby(['Embarked', 'Pclass']).count()"
      ]
    },
    {
      "cell_type": "code",
      "execution_count": null,
      "metadata": {
        "_cell_guid": "f4b56615-5c90-c1ce-dfad-d6d4684cb24b"
      },
      "outputs": [],
      "source": [
        "d=pd.Series('r', index=['a', 'b', 'c', 'd', 'e'])\n",
        "print (d)\n",
        "import math\n",
        "math.isnan((d[:1]+d[-1:])[0])"
      ]
    },
    {
      "cell_type": "code",
      "execution_count": null,
      "metadata": {
        "_cell_guid": "493e9a13-e8db-f6f5-d389-fb90c8da89ce"
      },
      "outputs": [],
      "source": [
        "d=train_df.assign(sibpar=train_df['SibSp']+train_df['Parch'])\n",
        "d.head()"
      ]
    },
    {
      "cell_type": "code",
      "execution_count": null,
      "metadata": {
        "_cell_guid": "1a2ebe45-0565-3d71-59cc-51e12d695177"
      },
      "outputs": [],
      "source": [
        "#first row, returns a pandas.Series\n",
        "train_df.loc[0]\n",
        "train_df.iloc[0]\n",
        "#first row returns a one-row dataframe\n",
        "train_df.loc[[0]]\n",
        "train_df.iloc[[0]]\n",
        "#first 5 rows\n",
        "train_df.iloc[0:5]\n",
        "#train_df.loc[0:5]\n",
        "#Name column\n",
        "train_df.loc[:, 'Name']\n",
        "#First row name\n",
        "train_df.loc[0, 'Name']\n",
        "#Names that don't have Embarked\n",
        "train_df.loc[train_df.Embarked.isnull(), 'Name']"
      ]
    },
    {
      "cell_type": "code",
      "execution_count": null,
      "metadata": {
        "_cell_guid": "61eed185-f403-a972-d889-719953d3e272"
      },
      "outputs": [],
      "source": [
        "train_df.T"
      ]
    },
    {
      "cell_type": "code",
      "execution_count": null,
      "metadata": {
        "_cell_guid": "e332ec47-ec7c-3def-3c56-ae96f05e7c32"
      },
      "outputs": [],
      "source": [
        "print (train_df.index.values)\n",
        "train_df.columns"
      ]
    },
    {
      "cell_type": "code",
      "execution_count": null,
      "metadata": {
        "_cell_guid": "35fd22d8-a705-d45a-7995-9bdfb04ba41c"
      },
      "outputs": [],
      "source": [
        "train_df['Name']\n",
        "train_df.loc[[0, 2]]"
      ]
    },
    {
      "cell_type": "code",
      "execution_count": null,
      "metadata": {
        "_cell_guid": "6d6b8520-a659-3f46-7fa4-9fcf5be8e244"
      },
      "outputs": [],
      "source": [
        "#filter certain rows\n",
        "survived_df = train_df[train_df['Survived']==1]\n",
        "survived_df = train_df.query('Survived==1')\n",
        "survived_df\n",
        "train_df[train_df['Embarked'].isnull()]\n",
        "train_df.loc[train_df['Survived']==1]\n",
        "train_df[train_df.Survived==1]\n",
        "train_df[train_df['Embarked'].isnull()]"
      ]
    },
    {
      "cell_type": "code",
      "execution_count": null,
      "metadata": {
        "_cell_guid": "6e74d1f8-bee7-80a2-0fc0-62176d473ee3"
      },
      "outputs": [],
      "source": [
        "name_sex_df = train_df[['Name', 'Sex']]\n",
        "name_sex_df.head()"
      ]
    },
    {
      "cell_type": "code",
      "execution_count": null,
      "metadata": {
        "_cell_guid": "8febc510-9118-8eb6-432b-59633c9317fd"
      },
      "outputs": [],
      "source": [
        "import pandas as pd\n",
        "\n",
        "train_df = pd.read_csv('../input/train.csv')\n",
        "#information\n",
        "train_df.info()\n",
        "#columns\n",
        "train_df.columns\n",
        "train_df.columns.values\n",
        "#rows\n",
        "train_df.index\n",
        "#preview first 10 rows\n",
        "train_df.head(10)\n",
        "#preview last 10 rows\n",
        "train_df.tail(10)\n",
        "#overview description of dataframe\n",
        "#on a mixed datatype df, default describe will ristrict summary to include only numerical columns\n",
        "#if non are, only category columns\n",
        "#only number fields\n",
        "train_df.describe()\n",
        "train_df.describe(include=['number'])\n",
        "#object fields\n",
        "train_df.describe(include=['object'])\n",
        "train_df.describe(include=['O'])\n",
        "#all fields\n",
        "train_df.describe(include='all')\n",
        "#filter rows\n",
        "#survived rows\n",
        "survived_df = train_df[train_df['Survived'] == 1]\n",
        "survived_df = train_df.query('Survived==1')\n",
        "survived_df.head()\n",
        "#certern rows by index\n",
        "train_df.loc[0]\n",
        "#row 0 and 2\n",
        "train_df.loc[[0, 2]]\n",
        "#selected columns\n",
        "name_sex_df = train_df[['Name', 'Sex']]\n",
        "name_sex_df.describe()"
      ]
    },
    {
      "cell_type": "code",
      "execution_count": null,
      "metadata": {
        "_cell_guid": "28b19188-b008-8035-4613-ec98fc7a00cf"
      },
      "outputs": [],
      "source": [
        "#Analyse by pivoting features\n",
        "#value frequency\n",
        "print (train_df['Pclass'].value_counts())\n",
        "#pclass and survived\n",
        "train_df[['Pclass', 'Survived']].groupby(['Pclass'], as_index=False).mean().sort_values(by='Survived', ascending=False)"
      ]
    },
    {
      "cell_type": "code",
      "execution_count": null,
      "metadata": {
        "_cell_guid": "8a2281b8-9f8e-3e6e-c1c5-18a274814b17"
      },
      "outputs": [],
      "source": [
        "#Sex and Survived\n",
        "print (train_df['Sex'].value_counts())\n",
        "train_df[['Sex', 'Survived']].groupby(['Sex'], as_index=False).mean()"
      ]
    },
    {
      "cell_type": "code",
      "execution_count": null,
      "metadata": {
        "_cell_guid": "dda352d6-473a-b040-800a-b903c09eecbd"
      },
      "outputs": [],
      "source": [
        "#class+sex survival rate, if rich people less gentleman\n",
        "train_df[['Pclass', 'Sex', 'Survived']].groupby(['Pclass', 'Sex']).mean()"
      ]
    },
    {
      "cell_type": "code",
      "execution_count": null,
      "metadata": {
        "_cell_guid": "3f4c3b27-c2a3-890d-8157-baee7fd13c1b"
      },
      "outputs": [],
      "source": [
        "train_df[['Embarked','Pclass', 'Sex', 'Survived']].groupby(['Embarked', 'Pclass','Sex']).count()"
      ]
    },
    {
      "cell_type": "code",
      "execution_count": null,
      "metadata": {
        "_cell_guid": "13f2193e-3abb-29d8-2bab-4a15b5d26dc6"
      },
      "outputs": [],
      "source": [
        "#embarked+sex\n",
        "train_df[['Embarked','Pclass', 'Sex', 'Survived']].groupby(['Embarked', 'Pclass','Sex']).mean()\n",
        "#train_df.info()"
      ]
    },
    {
      "cell_type": "code",
      "execution_count": null,
      "metadata": {
        "_cell_guid": "395f2d24-251c-86e8-0721-e7307b594e56"
      },
      "outputs": [],
      "source": [
        "print (train_df['SibSp'].value_counts())\n",
        "train_df[['SibSp', 'Survived']].groupby(['SibSp']).mean().sort_values(by='Survived', ascending=False)"
      ]
    },
    {
      "cell_type": "code",
      "execution_count": null,
      "metadata": {
        "_cell_guid": "dac81dcd-81ef-7e7c-1f31-fe6b0fc4a2db"
      },
      "outputs": [],
      "source": [
        "print(train_df['Parch'].value_counts())\n",
        "train_df[['Parch', 'Survived']].groupby(['Parch'], as_index=False).mean().sort_values(by='Survived', ascending=False)"
      ]
    },
    {
      "cell_type": "code",
      "execution_count": null,
      "metadata": {
        "_cell_guid": "3a1d4aa3-089e-5d8f-06eb-45cb8b355fe9"
      },
      "outputs": [],
      "source": [
        "#data visualization\n",
        "import seaborn as sns\n",
        "import numpy as np\n",
        "from matplotlib import pyplot as plt\n",
        "#correlating numerical features\n",
        "#A histogram is a graphical representation of the distribution of numerical data.\n",
        "#It is an estimate of the probability distribution of a continuous variable (quantitative variable)\n",
        "#row and col determine the shape of grid\n",
        "#g=sns.FacetGrid(train_df, col='Survived', size=3, aspect=1.5)\n",
        "g=sns.FacetGrid(train_df, row='Sex', col='Survived', size=3, aspect=1.5)\n",
        "sns.set(style=\"ticks\", color_codes=True)\n",
        "#g.map(plt.hist, 'Age', bins=20)\n",
        "bins = np.arange(0,80,10)\n",
        "#g.add_legend()\n",
        "g.map(plt.hist, 'Age', bins=bins, color='g')"
      ]
    },
    {
      "cell_type": "code",
      "execution_count": null,
      "metadata": {
        "_cell_guid": "7a223211-6033-b2da-6bb6-41eb990f0e94"
      },
      "outputs": [],
      "source": [
        "#data visualization, better do it in notebook\n",
        "#correlating numerical features\n",
        "#col='Survived', grid has 1 row and 2 columns, with Survived=0 and 1,\n",
        "#size: height of each facet in inchs, aspect:width ratio\n",
        "g=sns.FacetGrid(train_df, col='Survived', size=3, aspect=1.5)\n",
        "#col='Survived', row='Sex', grid has 2 rows and 2 coumns, row1: male-0, male-1, row2: female-0, female-1\n",
        "#g=sns.FacetGrid(train_df, row='Sex', col='Survived', size=3, aspect=1.5)\n",
        "#3 rows(Embarked), 2 columns(Sex), and different color for Survived=0/1\n",
        "#g=sns.FacetGrid(train_df, row='Embarked', col='Sex', hue='Survived', size=3, aspect=1.5)\n",
        "#Set aesthetic parameters, optional and not necessary here\n",
        "sns.set(style=\"ticks\", color_codes=True)\n",
        "#plot histogram, bins is number of bars across all 'Age'\n",
        "g.map(plt.hist, 'Age', bins=20)\n",
        "#customized bins, for Age 0-80, each bin with width 10, color='b'-Blue, 'r'-Red, 'y'-Yellow, 'g'-Green\n",
        "bins = np.arange(0,80,10)\n",
        "g.map(plt.hist, 'Age', bins=bins, color='b')"
      ]
    },
    {
      "cell_type": "code",
      "execution_count": null,
      "metadata": {
        "_cell_guid": "7ccfc523-5186-0859-f810-62efa98017ec"
      },
      "outputs": [],
      "source": [
        "g=sns.FacetGrid(train_df, row='Embarked', col='Sex', hue='Survived', size=3, aspect=1.5)\n",
        "sns.set(style=\"ticks\", color_codes=True)\n",
        "g.add_legend()\n",
        "g.map(plt.hist, 'Age', bins=20)"
      ]
    },
    {
      "cell_type": "code",
      "execution_count": null,
      "metadata": {
        "_cell_guid": "1731e4c6-26ac-f0b8-dca8-fc5f68862505"
      },
      "outputs": [],
      "source": [
        "#correlating ordinal features\n",
        "grid=sns.FacetGrid(train_df, col='Survived', row='Pclass', size=2.2, aspect=1.7)\n",
        "grid.map(plt.hist, 'Age', alpha=0.9, bins=20)\n",
        "grid.add_legend()"
      ]
    },
    {
      "cell_type": "code",
      "execution_count": null,
      "metadata": {
        "_cell_guid": "4262ece9-313a-c7a3-d1bf-7da0c5cba66d"
      },
      "outputs": [],
      "source": [
        "#pointplot, Show point estimates and confidence intervals using scatter plot glyphs.\n",
        "grid=sns.FacetGrid(train_df, row='Embarked', size=3, aspect=1.6)\n",
        "grid.map(sns.pointplot, 'Pclass', 'Survived', 'Sex', pallete='deep')\n",
        "#add legend, in this case, female/male color\n",
        "grid.add_legend()"
      ]
    },
    {
      "cell_type": "code",
      "execution_count": null,
      "metadata": {
        "_cell_guid": "035404f0-a364-ab06-337e-908d573dd622"
      },
      "outputs": [],
      "source": [
        "#Categorical plot\n",
        "grid=sns.FacetGrid(train_df, row='Embarked', size=2.2, aspect=1.6)\n",
        "grid.map(sns.pointplot, 'Pclass', 'Survived', 'Sex', pallete='deep')\n",
        "grid.add_legend()"
      ]
    },
    {
      "cell_type": "code",
      "execution_count": null,
      "metadata": {
        "_cell_guid": "c738fa3e-1112-aea2-a253-09ea8021b5d2"
      },
      "outputs": [],
      "source": [
        "train_df_C = train_df[train_df['Embarked']=='C']\n",
        "train_df_C.head()\n",
        "grid = sns.FacetGrid(train_df_C, row='Embarked', size=2.2, aspect=1.6)\n",
        "grid.map(sns.pointplot, 'Pclass', 'Survived', 'Sex')\n",
        "grid.add_legend()"
      ]
    },
    {
      "cell_type": "code",
      "execution_count": null,
      "metadata": {
        "_cell_guid": "48fcbb37-9a7f-90be-388f-3dfeb2af79fc"
      },
      "outputs": [],
      "source": [
        "train_df[['Embarked', 'Pclass', 'Survived']].groupby(['Embarked', 'Pclass']).mean()"
      ]
    },
    {
      "cell_type": "code",
      "execution_count": null,
      "metadata": {
        "_cell_guid": "bf6a51d7-9e0d-fa3e-1b77-4e830658a1f0"
      },
      "outputs": [],
      "source": [
        "#Categorical plot\n",
        "#barplot, show point estimates and confidence intervals as rectangular bars.\n",
        "grid = sns.FacetGrid(train_df, row=\"Embarked\", col='Survived')\n",
        "#ci=None, no confidence interval, alpha, darkness of bar\n",
        "#grid.map(sns.barplot, 'Sex', 'Fare', alpha=.5, ci=None)\n",
        "grid.map(sns.barplot, 'Sex', 'Fare', alpha=.5)\n"
      ]
    },
    {
      "cell_type": "code",
      "execution_count": null,
      "metadata": {
        "_cell_guid": "8174c28f-649c-7e9b-43ca-66dc28322499"
      },
      "outputs": [],
      "source": [
        "#Analyse Title\n",
        "train_df['Title'] = train_df.Name.str.extract(' ([A-Za-z]+)\\.', expand=False)\n",
        "test_df['Title'] = test_df.Name.str.extract(' ([A-Za-z]+)\\.', expand=False)\n",
        "#cross tabulation, \n",
        "pd.crosstab(train_df['Title'], train_df['Sex'])\n",
        "#pd.crosstab(train_df['Sex'], train_df['Survived'])"
      ]
    },
    {
      "cell_type": "code",
      "execution_count": null,
      "metadata": {
        "_cell_guid": "78d71fe4-6a97-7083-8f88-470b01999baa"
      },
      "outputs": [],
      "source": [
        "#group titles\n",
        "train_df['Title'] = train_df['Title'].replace(['Lady', 'Countess','Capt', 'Col',\\\n",
        " \t'Don', 'Dr', 'Major', 'Rev', 'Sir', 'Jonkheer', 'Dona'], 'Rare')\n",
        "test_df['Title'] = test_df['Title'].replace(['Lady', 'Countess','Capt', 'Col',\\\n",
        " \t'Don', 'Dr', 'Major', 'Rev', 'Sir', 'Jonkheer', 'Dona'], 'Rare')\n",
        "train_df['Title'] = train_df['Title'].replace('Mlle', 'Miss')\n",
        "train_df['Title'] = train_df['Title'].replace('Ms', 'Miss')\n",
        "train_df['Title'] = train_df['Title'].replace('Mme', 'Mrs')\n",
        "test_df['Title'] = test_df['Title'].replace('Mlle', 'Miss')\n",
        "test_df['Title'] = test_df['Title'].replace('Ms', 'Miss')\n",
        "test_df['Title'] = test_df['Title'].replace('Mme', 'Mrs')\n"
      ]
    },
    {
      "cell_type": "code",
      "execution_count": null,
      "metadata": {
        "_cell_guid": "ffdb72f7-e947-2a85-6a7e-983284fafb41"
      },
      "outputs": [],
      "source": [
        "#print (train_df[['Title', 'Survived']].groupby('Title').mean())\n",
        "#count of each title\n",
        "print (train_df['Title'].value_counts())\n",
        "#survived(0/1) count of each title\n",
        "pd.crosstab(train_df['Title'], train_df['Survived'])"
      ]
    },
    {
      "cell_type": "code",
      "execution_count": null,
      "metadata": {
        "_cell_guid": "49e62deb-8306-abd1-9f08-113f849e928a"
      },
      "outputs": [],
      "source": [
        "test_df.info()"
      ]
    },
    {
      "cell_type": "code",
      "execution_count": null,
      "metadata": {
        "_cell_guid": "e61bb1eb-d4b4-bc48-d6c8-2830862d9ccd"
      },
      "outputs": [],
      "source": [
        "#convert title to ordinal\n",
        "title_mapping = {\"Mr\": 1, \"Miss\": 2, \"Mrs\": 3, \"Master\": 4, \"Rare\": 5}\n",
        "combine = [train_df, test_df]\n",
        "for dataset in combine:\n",
        "    dataset['Title'] = dataset['Title'].map(title_mapping)\n",
        "    dataset['Title'] = dataset['Title'].fillna(0)\n",
        "train_df.head()"
      ]
    },
    {
      "cell_type": "code",
      "execution_count": null,
      "metadata": {
        "_cell_guid": "fcde4b35-7114-9f06-e7d4-b9416e63ddf4"
      },
      "outputs": [],
      "source": [
        "#drop columns, axis=1 denotes column, default axis=0 denotes row\n",
        "train_df = train_df.drop(['Ticket', 'Cabin', 'Name', 'PassengerId'], axis=1)\n",
        "test_df = test_df.drop(['Ticket', 'Cabin', 'Name'], axis=1)\n",
        "train_df.head()\n",
        "combine=[train_df, test_df]\n",
        "print (train_df.shape, test_df.shape, combine[0].shape, combine[1].shape)"
      ]
    },
    {
      "cell_type": "code",
      "execution_count": null,
      "metadata": {
        "_cell_guid": "05e02b26-71eb-b721-f221-2276c82cec53"
      },
      "outputs": [],
      "source": [
        "print (train_df.shape, test_df.shape, combine[0].shape, combine[1].shape)\n",
        "train_df.head(10)"
      ]
    },
    {
      "cell_type": "code",
      "execution_count": null,
      "metadata": {
        "_cell_guid": "b2490370-d1a0-4dcc-2109-a0d6c4ac8e98"
      },
      "outputs": [],
      "source": [
        "combine[0].info()"
      ]
    },
    {
      "cell_type": "code",
      "execution_count": null,
      "metadata": {
        "_cell_guid": "d3885d76-99ad-2b2d-9682-ca7c50ecdcda"
      },
      "outputs": [],
      "source": [
        "train_df.head(10)"
      ]
    },
    {
      "cell_type": "code",
      "execution_count": null,
      "metadata": {
        "_cell_guid": "b760d3c4-1e3b-84f9-1c02-ac2a94ab90b3"
      },
      "outputs": [],
      "source": [
        "#convert categorical features to numerical\n",
        "for dataset in combine:\n",
        "    dataset['Sex'] = dataset['Sex'].map({'male':0,'female':1}).astype(int)\n",
        "train_df.info()\n",
        "train_df.head()"
      ]
    },
    {
      "cell_type": "code",
      "execution_count": null,
      "metadata": {
        "_cell_guid": "bdfbd547-80e7-1ca0-6066-5bca98939d71"
      },
      "outputs": [],
      "source": [
        "#Completing numerical continuous feature, Age\n",
        "guess_age = np.zeros((2,3))\n",
        "guess_age\n",
        "for dataset in combine:\n",
        "    for i in range(0,2):\n",
        "        for j in range(0,3):\n",
        "            guess_df = dataset[(dataset['Sex']==i)&(dataset['Pclass']==j+1)]['Age'].dropna()\n",
        "            guess_age[i,j] = guess_df.median()\n",
        "    for i in range(0,2):\n",
        "        for j in range(0,3):\n",
        "            dataset.loc[(dataset.Age.isnull())&(dataset.Sex==i)&(dataset.Pclass==j+1), 'Age']=guess_age[i,j]\n",
        "train_df.head(10) \n",
        "train_df.info()"
      ]
    },
    {
      "cell_type": "code",
      "execution_count": null,
      "metadata": {
        "_cell_guid": "a05c3459-ecd2-51ce-2512-00e4358baaa0"
      },
      "outputs": [],
      "source": [
        "#Complete missing data, Age\n",
        "guess_ages = np.zeros((2,3))\n",
        "guess_ages\n",
        "for dataset in combine:\n",
        "    for i in range(0,2):\n",
        "        for j in range(0,3):\n",
        "            #use median age of people with same sex and pclass value\n",
        "            guess_df = dataset[(dataset['Sex']==i)&(dataset['Pclass']==j+1)]['Age'].dropna()\n",
        "            guess_ages[i,j] = guess_df.median()       \n",
        "    for i in range(0,2):\n",
        "        for j in range(0,3):\n",
        "            dataset.loc[(dataset.Age.isnull())&(dataset.Sex==i)&(dataset.Pclass==j+1), 'Age'] = guess_ages[i,j]\n",
        "        dataset['Age'] = dataset['Age'].astype(int)\n",
        "print (guess_ages)            \n",
        "train_df.head(10)"
      ]
    },
    {
      "cell_type": "code",
      "execution_count": null,
      "metadata": {
        "_cell_guid": "5b482219-8005-3926-3e62-8be474d306f5"
      },
      "outputs": [],
      "source": [
        "#train_df[['AgeBand', 'Survived']].groupby(['AgeBand']).mean().sort_values(by='AgeBand', ascending=True)\n",
        "#band Age and determine correlation with Survived\n",
        "for dataset in combine:\n",
        "    dataset['AgeBand'] = pd.cut(dataset['Age'], 5)"
      ]
    },
    {
      "cell_type": "code",
      "execution_count": null,
      "metadata": {
        "_cell_guid": "55803dc1-e2ed-036d-084f-ada7bae4b081"
      },
      "outputs": [],
      "source": [
        "#as_index=False makes AgeBand a column so that sort_values(by='AgeBand') works\n",
        "train_df[['AgeBand', 'Survived']].groupby(['AgeBand'], as_index=False).mean().sort_values(by='AgeBand', ascending=True)"
      ]
    },
    {
      "cell_type": "code",
      "execution_count": null,
      "metadata": {
        "_cell_guid": "280b01d3-93e7-e502-040d-3bd8579fe788"
      },
      "outputs": [],
      "source": [
        "#replace Age with ordinals\n",
        "for dataset in combine:\n",
        "    dataset.loc[(dataset['Age']<=16), 'Age'] = 0\n",
        "    dataset.loc[(dataset['Age']>16)&(dataset['Age']<=32), 'Age'] = 1\n",
        "    dataset.loc[(dataset['Age']>32)&(dataset['Age']<=48), 'Age'] = 2\n",
        "    dataset.loc[(dataset['Age']>48)&(dataset['Age']<=64), 'Age'] = 3\n",
        "    dataset.loc[(dataset['Age']>64), 'Age'] = 4\n",
        "train_df.head(10)"
      ]
    },
    {
      "cell_type": "code",
      "execution_count": null,
      "metadata": {
        "_cell_guid": "5a341134-6ebc-4134-bb84-f7fd815f31ad"
      },
      "outputs": [],
      "source": [
        "#drop AgeBand\n",
        "train_df = train_df.drop(['AgeBand'], axis=1)\n",
        "test_df = test_df.drop(['AgeBand'], axis=1)\n",
        "combine = [train_df, test_df]\n",
        "train_df.head()\n",
        "test_df.head()"
      ]
    },
    {
      "cell_type": "code",
      "execution_count": null,
      "metadata": {
        "_cell_guid": "f11b1f0c-87b3-df3a-2f81-196aca9dae43"
      },
      "outputs": [],
      "source": [
        "train_df.head(20)"
      ]
    },
    {
      "cell_type": "code",
      "execution_count": null,
      "metadata": {
        "_cell_guid": "bda84b95-2f0f-e9bc-b53e-dd693baa017b"
      },
      "outputs": [],
      "source": [
        "train_df[['Embarked', 'Survived']].groupby(['Embarked']).count()\n",
        "freq_port = train_df.Embarked.dropna().mode()\n",
        "freq_port"
      ]
    },
    {
      "cell_type": "code",
      "execution_count": null,
      "metadata": {
        "_cell_guid": "c99541c4-6bb2-ff00-47d2-d028baa69368"
      },
      "outputs": [],
      "source": [
        "train_df.info()\n",
        "train_df[['Embarked', 'Survived']].groupby(['Embarked']).count()\n",
        "#complete Embarked\n",
        "train_df.loc[train_df['Embarked'].isnull(), 'Embarked']=train_df.Embarked.dropna().mode()[0]"
      ]
    },
    {
      "cell_type": "code",
      "execution_count": null,
      "metadata": {
        "_cell_guid": "94fc9d66-2203-9671-d8a9-abca24d95239"
      },
      "outputs": [],
      "source": [
        "#convert Embarked to ordinals\n",
        "for dataset in combine:\n",
        "    dataset['Embarked'] = dataset['Embarked'].map({'S':0, 'Q':1, 'C':2}).astype(int)\n",
        "train_df.head()"
      ]
    },
    {
      "cell_type": "code",
      "execution_count": null,
      "metadata": {
        "_cell_guid": "e59c02f7-a18d-c8c8-3add-eea231cc09df"
      },
      "outputs": [],
      "source": [
        "#create FamilySize based on SibSp and Parch\n",
        "for dataset in combine:\n",
        "    dataset['FamilySize'] = dataset['SibSp'] + dataset['Parch'] + 1\n",
        "train_df.head(10)"
      ]
    },
    {
      "cell_type": "code",
      "execution_count": null,
      "metadata": {
        "_cell_guid": "b3db6290-d3da-92ec-270c-6c581ffb1bf8"
      },
      "outputs": [],
      "source": [
        "train_df[['FamilySize', 'Survived']].groupby('FamilySize', as_index=False).mean().sort_values(by='Survived', ascending=False)"
      ]
    },
    {
      "cell_type": "code",
      "execution_count": null,
      "metadata": {
        "_cell_guid": "5a265d8e-b4db-9e61-0284-640592364b05"
      },
      "outputs": [],
      "source": [
        "train_df[['FamilySize', 'Survived']].groupby('FamilySize').count()"
      ]
    },
    {
      "cell_type": "code",
      "execution_count": null,
      "metadata": {
        "_cell_guid": "989f611e-21e9-5aff-5a3c-17c4e02ce3f3"
      },
      "outputs": [],
      "source": [
        "#create isAlone based on FamilySize\n",
        "for dataset in combine:\n",
        "    dataset['isAlone'] = 0\n",
        "    dataset.loc[dataset['FamilySize']==1, 'isAlone'] = 1\n",
        "train_df[['isAlone', 'Survived']].groupby('isAlone', as_index=False).mean()"
      ]
    },
    {
      "cell_type": "code",
      "execution_count": null,
      "metadata": {
        "_cell_guid": "c093a506-93c5-38d6-f5ce-9fdce5e0bccb"
      },
      "outputs": [],
      "source": [
        "#drop SibSp, Parch\n",
        "train_df = train_df.drop(['SibSp', 'Parch'], axis=1)\n",
        "test_df = test_df.drop(['SibSp', 'Parch'], axis=1)\n",
        "combine = [train_df, test_df]\n",
        "train_df.head()"
      ]
    },
    {
      "cell_type": "code",
      "execution_count": null,
      "metadata": {
        "_cell_guid": "a6e4429a-f2df-6a1b-2583-97316f6d3799"
      },
      "outputs": [],
      "source": [
        "#adjust Fare based on FamilySize\n",
        "train_df['Fare'] = train_df['Fare']/train_df['FamilySize']\n",
        "train_df.head(10)"
      ]
    },
    {
      "cell_type": "code",
      "execution_count": null,
      "metadata": {
        "_cell_guid": "1a98d460-8ec3-e725-8700-943fd7365dd8"
      },
      "outputs": [],
      "source": [
        "test_df['Fare'] = test_df['Fare']/test_df['FamilySize']\n",
        "test_df.head()\n",
        "test_df.loc[test_df.Fare.isnull()]"
      ]
    },
    {
      "cell_type": "code",
      "execution_count": null,
      "metadata": {
        "_cell_guid": "95d348b9-6178-df45-bf72-b68800ff9977"
      },
      "outputs": [],
      "source": [
        "test_df.loc[[152]]"
      ]
    },
    {
      "cell_type": "code",
      "execution_count": null,
      "metadata": {
        "_cell_guid": "f4224190-08c6-dc98-3c04-62d8b59ce864"
      },
      "outputs": [],
      "source": [
        "test_df.loc[(test_df.Fare.isnull())&(test_df.Pclass==3), 'Fare']\n",
        "pf=test_df[['Pclass', 'Fare']].groupby('Pclass', as_index=False).median()\n",
        "pf"
      ]
    },
    {
      "cell_type": "code",
      "execution_count": null,
      "metadata": {
        "_cell_guid": "0fc207a9-f93f-f657-5625-f396840c7c36"
      },
      "outputs": [],
      "source": [
        "pf.loc[pf.Pclass==3, 'Fare']"
      ]
    },
    {
      "cell_type": "code",
      "execution_count": null,
      "metadata": {
        "_cell_guid": "32bfec1d-8788-a223-e3f4-1cde48247b9a"
      },
      "outputs": [],
      "source": [
        "test_df.loc[(test_df.Fare.isnull())&(test_df.Pclass==3), 'Fare'] = 7.75\n",
        "test_df.loc[[152]]"
      ]
    },
    {
      "cell_type": "code",
      "execution_count": null,
      "metadata": {
        "_cell_guid": "73ffe1b9-db27-6864-c811-7d65a14c7c6b"
      },
      "outputs": [],
      "source": [
        "#convert Fare to FareBand\n",
        "train_df['FareBand'] = pd.qcut(train_df['Fare'], 6)\n",
        "train_df[['FareBand', 'Survived']].groupby('FareBand').mean()"
      ]
    },
    {
      "cell_type": "code",
      "execution_count": null,
      "metadata": {
        "_cell_guid": "972c1657-98b8-919f-79d4-c4b9f17944fb"
      },
      "outputs": [],
      "source": [
        "combine[1].info()"
      ]
    },
    {
      "cell_type": "code",
      "execution_count": null,
      "metadata": {
        "_cell_guid": "cd22767a-fad3-2a19-8f4f-9235fb5b8da5"
      },
      "outputs": [],
      "source": [
        "for dataset in combine:\n",
        "    dataset.loc[ dataset['Fare'] <= 7.91, 'Fare'] = 0\n",
        "    dataset.loc[(dataset['Fare'] > 7.91) & (dataset['Fare'] <= 14.454), 'Fare'] = 1\n",
        "    dataset.loc[(dataset['Fare'] > 14.454) & (dataset['Fare'] <= 31), 'Fare']   = 2\n",
        "    dataset.loc[ dataset['Fare'] > 31, 'Fare'] = 3\n",
        "    dataset['Fare'] = dataset['Fare'].astype(int)\n",
        "\n",
        "train_df = train_df.drop(['FareBand'], axis=1)\n",
        "combine = [train_df, test_df]"
      ]
    },
    {
      "cell_type": "code",
      "execution_count": null,
      "metadata": {
        "_cell_guid": "efa763b8-1f36-b4d8-dff5-961c97e2088d"
      },
      "outputs": [],
      "source": [
        "#drop FamilySize\n",
        "train_df = train_df.drop(['FamilySize'], axis=1)\n",
        "test_df = test_df.drop(['FamilySize'], axis=1)\n",
        "combine = [train_df, test_df]"
      ]
    },
    {
      "cell_type": "code",
      "execution_count": null,
      "metadata": {
        "_cell_guid": "26217643-39c7-821d-e8ff-abff3784fa7a"
      },
      "outputs": [],
      "source": [
        "print (train_df.head())\n",
        "print (test_df.head())"
      ]
    },
    {
      "cell_type": "code",
      "execution_count": null,
      "metadata": {
        "_cell_guid": "66e3c415-15e6-79d4-1c3e-e73a3a2b858a"
      },
      "outputs": [],
      "source": [
        "# Model, Predict and Solve\n",
        "x_train = train_df.drop('Survived', axis=1)\n",
        "y_train = train_df['Survived']\n",
        "x_test = test_df.drop('PassengerId', axis=1).copy()\n",
        "x_train.shape, y_train.shape, x_test.shape"
      ]
    },
    {
      "cell_type": "code",
      "execution_count": null,
      "metadata": {
        "_cell_guid": "017ebf5d-a4fb-c4c1-fc62-01b321ebb2bd"
      },
      "outputs": [],
      "source": [
        "from sklearn.ensemble import RandomForestClassifier\n",
        "random_forest = RandomForestClassifier(n_estimators=100)\n",
        "random_forest.fit(x_train, y_train)\n",
        "y_pred = random_forest.predict(x_test)\n",
        "random_forest.score(x_train, y_train)\n",
        "acc_random_forest = round(random_forest.score(x_train, y_train)*100, 2)\n",
        "acc_random_forest"
      ]
    },
    {
      "cell_type": "code",
      "execution_count": null,
      "metadata": {
        "_cell_guid": "b698537c-957b-9fa5-f1e4-04d900dcc5eb"
      },
      "outputs": [],
      "source": [
        "#submission\n",
        "submission = pd.DataFrame({\n",
        "        \"PassengerId\": test_df[\"PassengerId\"],\n",
        "        \"Survived\": y_pred\n",
        "    })\n",
        "submission.head(20)\n",
        "submission.to_csv('linden_Titanic_submission.csv', index=False)"
      ]
    },
    {
      "cell_type": "code",
      "execution_count": null,
      "metadata": {
        "_cell_guid": "ced77d4a-0560-7a30-15f2-9867d02e3a48"
      },
      "outputs": [],
      "source": [
        "result_df = pd.read_csv('linden_Titanic_submission.csv')\n",
        "result_df.head()"
      ]
    }
  ],
  "metadata": {
    "_change_revision": 0,
    "_is_fork": false,
    "kernelspec": {
      "display_name": "Python 3",
      "language": "python",
      "name": "python3"
    },
    "language_info": {
      "codemirror_mode": {
        "name": "ipython",
        "version": 3
      },
      "file_extension": ".py",
      "mimetype": "text/x-python",
      "name": "python",
      "nbconvert_exporter": "python",
      "pygments_lexer": "ipython3",
      "version": "3.6.0"
    }
  },
  "nbformat": 4,
  "nbformat_minor": 0
}