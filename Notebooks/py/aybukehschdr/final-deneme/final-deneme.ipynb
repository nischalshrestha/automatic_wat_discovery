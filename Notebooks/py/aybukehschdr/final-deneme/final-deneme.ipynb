{
  "cells": [
    {
      "cell_type": "code",
      "execution_count": null,
      "metadata": {
        "_cell_guid": "35a85d32-e546-15e8-e824-2024b7272058"
      },
      "outputs": [],
      "source": [
        "# This Python 3 environment comes with many helpful analytics libraries installed\n",
        "# It is defined by the kaggle/python docker image: https://github.com/kaggle/docker-python\n",
        "# For example, here's several helpful packages to load in \n",
        "\n",
        "import numpy as np # linear algebra\n",
        "import pandas as pd # data processing, CSV file I/O (e.g. pd.read_csv)\n",
        "\n",
        "# Input data files are available in the \"../input/\" directory.\n",
        "# For example, running this (by clicking run or pressing Shift+Enter) will list the files in the input directory\n",
        "\n",
        "from subprocess import check_output\n",
        "print(check_output([\"ls\", \"../input\"]).decode(\"utf8\"))\n",
        "\n",
        "# Any results you write to the current directory are saved as output."
      ]
    },
    {
      "cell_type": "code",
      "execution_count": null,
      "metadata": {
        "_cell_guid": "a4f5bfbd-7644-200f-b2de-a6f05e1716d1"
      },
      "outputs": [],
      "source": [
        "import warnings\n",
        "warnings.filterwarnings('ignore')\n",
        "# ---\n",
        "\n",
        "%matplotlib inline\n",
        "import pandas as pd\n",
        "pd.options.display.max_columns = 100\n",
        "from matplotlib import pyplot as plt\n",
        "import matplotlib\n",
        "matplotlib.style.use('ggplot')\n",
        "import numpy as np\n",
        "pd.options.display.max_rows = 100\n",
        "\n",
        "import csv\n",
        "#from sklearn import cross_validation\n",
        "traindf = pd.read_csv('../input/train.csv' ,header=0)\n",
        "test_df    = pd.read_csv('../input/test.csv' ,header=0)\n",
        "train_df = pd.read_csv('../input/train.csv' ,header=0)\n"
      ]
    },
    {
      "cell_type": "code",
      "execution_count": null,
      "metadata": {
        "_cell_guid": "cfff00df-13bd-d513-7710-ee5ce5b797b0"
      },
      "outputs": [],
      "source": [
        "def tum_verileri_birlestir():\n",
        "  \n",
        "   \n",
        "    targets = traindf.Survived\n",
        "    traindf.drop('Survived',1,inplace=True)\n",
        "    \n",
        "\n",
        "    tumveri = traindf.append(test_df)\n",
        "    tumveri.reset_index(inplace=True)\n",
        "    tumveri.drop('index',inplace=True,axis=1)\n",
        "    \n",
        "    return tumveri"
      ]
    },
    {
      "cell_type": "code",
      "execution_count": null,
      "metadata": {
        "_cell_guid": "cf74613b-7f30-b4b8-48dc-47bd72a9c1ba"
      },
      "outputs": [],
      "source": [
        "train_df = pd.read_csv('../input/train.csv' ,header=0)"
      ]
    },
    {
      "cell_type": "code",
      "execution_count": null,
      "metadata": {
        "_cell_guid": "03ef6e2b-58bf-85a5-e9a4-97d525c9c320"
      },
      "outputs": [],
      "source": [
        "tumveri = tum_verileri_birlestir()\n",
        "tumveri.head()"
      ]
    },
    {
      "cell_type": "code",
      "execution_count": null,
      "metadata": {
        "_cell_guid": "872a08fb-8cd9-727c-cc6c-f3f0c526d3fb"
      },
      "outputs": [],
      "source": [
        "train_df['aile']=train_df['Parch']+train_df['SibSp']\n",
        "train_df['aile'].loc[train_df['aile']>0]=1\n",
        "train_df['aile'].loc[train_df['aile']==0]=0"
      ]
    },
    {
      "cell_type": "code",
      "execution_count": null,
      "metadata": {
        "_cell_guid": "b7ebad8b-bd86-e3aa-857c-d0a3eb3a9b86"
      },
      "outputs": [],
      "source": [
        "train_df['aile_boyut']=train_df['SibSp']+train_df['Parch']\n",
        "train_df['kisibasiucret']=train_df['Fare']/(train_df['aile_boyut']+1)"
      ]
    },
    {
      "cell_type": "code",
      "execution_count": null,
      "metadata": {
        "_cell_guid": "b8742a53-821d-ee18-8e96-c39f7a83c4a8"
      },
      "outputs": [],
      "source": [
        " train_df['Unvan'] = train_df['Name'].map(lambda name:name.split(',')[1].split('.')[0].strip())"
      ]
    },
    {
      "cell_type": "code",
      "execution_count": null,
      "metadata": {
        "_cell_guid": "277117df-5d20-2e04-5186-4d6f39128cf2"
      },
      "outputs": [],
      "source": [
        "unvans = list(enumerate(np.unique(train_df['Unvan'])))\n",
        "unvan_dict = {unvan : i for i, unvan in unvans } \n",
        "#Burada dataframemiz i\u00e7indeji gelen her elemean s\u0131ras\u0131 ile unique say\u0131sal de\u011ferler ile de\u011fi\u015ftirilmi\u015f dizi elemanlar\u0131 ile yer de\u011fi\u015ftirir\n",
        "train_df.Unvan = train_df.Unvan.map( lambda x: unvan_dict[x]).astype(int)"
      ]
    },
    {
      "cell_type": "code",
      "execution_count": null,
      "metadata": {
        "_cell_guid": "ce2cd17e-e7c6-b20d-9d6a-ca9ef7f86c81"
      },
      "outputs": [],
      "source": [
        "train_df['Gender'] = train_df['Sex'].map( {'female': 0, 'male': 1} ).astype(int)"
      ]
    },
    {
      "cell_type": "code",
      "execution_count": null,
      "metadata": {
        "_cell_guid": "d3c88317-ef1a-b956-2404-eed6d0c9d527"
      },
      "outputs": [],
      "source": [
        "if len(train_df.Embarked[train_df.Embarked.isnull()]) > 0:\n",
        "     train_df.Embarked[train_df.Embarked.isnull()]=tumveri.Embarked.dropna().mode().values"
      ]
    },
    {
      "cell_type": "code",
      "execution_count": null,
      "metadata": {
        "_cell_guid": "63ba6b3a-6880-b8e8-c1a1-ef746818a1e7"
      },
      "outputs": [],
      "source": [
        "#enumerate i\u00e7erden d\u00f6nen de\u011ferleri yazar.\n",
        "#np.unique ise arraydeki elemanlar i\u00e7in unique bir de\u011fer d\u00f6nd\u00fcr\u00fcr. astype(int) ile de bu de\u011ferler say\u0131salla\u015ft\u0131r\u0131l\u0131r\n",
        "Ports = list(enumerate(np.unique(train_df['Embarked'])))\n",
        "Ports_dict = { name : i for i, name in Ports } \n",
        "#Burada dataframemiz i\u00e7indeji gelen her elemean s\u0131ras\u0131 ile unique say\u0131sal de\u011ferler ile de\u011fi\u015ftirilmi\u015f dizi elemanlar\u0131 ile yer de\u011fi\u015ftirir\n",
        "train_df.Embarked = train_df.Embarked.map( lambda x: Ports_dict[x]).astype(int)"
      ]
    },
    {
      "cell_type": "code",
      "execution_count": null,
      "metadata": {
        "_cell_guid": "bc0ae370-78bf-8e05-9264-73ee6defa2fa"
      },
      "outputs": [],
      "source": [
        "\n",
        "median_age = tumveri['Age'].dropna().median()\n",
        "if len(train_df.Age[ train_df.Age.isnull() ]) > 0:\n",
        "    train_df.loc[ (train_df.Age.isnull()), 'Age'] = median_age"
      ]
    },
    {
      "cell_type": "code",
      "execution_count": null,
      "metadata": {
        "_cell_guid": "79a9782f-ffac-2d55-407b-0b55ded49d6b"
      },
      "outputs": [],
      "source": [
        "train_df = train_df.drop(['Name', 'Sex', 'Ticket', 'Cabin', 'PassengerId','SibSp','Parch'], axis=1) "
      ]
    },
    {
      "cell_type": "code",
      "execution_count": null,
      "metadata": {
        "_cell_guid": "9be861be-dc0b-a822-2cd2-6ac16948a395"
      },
      "outputs": [],
      "source": [
        "test_df['Gender'] = test_df['Sex'].map( {'female': 0, 'male': 1} ).astype(int)"
      ]
    },
    {
      "cell_type": "code",
      "execution_count": null,
      "metadata": {
        "_cell_guid": "8533f979-5c7a-97a5-ee09-a43983e8499c"
      },
      "outputs": [],
      "source": [
        "if len(test_df.Embarked[ test_df.Embarked.isnull() ]) > 0:\n",
        "     test_df.Embarked[ test_df.Embarked.isnull() ] = tumveri.Embarked.dropna().mode().values\n",
        "test_df.Embarked = test_df.Embarked.map( lambda x: Ports_dict[x]).astype(int)"
      ]
    },
    {
      "cell_type": "code",
      "execution_count": null,
      "metadata": {
        "_cell_guid": "7936e14a-032a-ca9b-d22b-9c14d94e5fe8"
      },
      "outputs": [],
      "source": [
        "median_age = tumveri['Age'].dropna().median()\n",
        "if len(test_df.Age[ test_df.Age.isnull() ]) > 0:\n",
        "    test_df.loc[ (test_df.Age.isnull()), 'Age'] = median_age\n",
        "    "
      ]
    },
    {
      "cell_type": "code",
      "execution_count": null,
      "metadata": {
        "_cell_guid": "a3bf7dc7-49ef-1775-4ff3-bf582a9ed07b"
      },
      "outputs": [],
      "source": [
        "if len(test_df.Fare[ test_df.Fare.isnull() ]) > 0:\n",
        "    median_fare = np.zeros(3)\n",
        "    for f in range(0,3):\n",
        "          median_fare[f] = tumveri[ tumveri.Pclass == f+1 ]['Fare'].dropna().median()\n",
        "                                              \n",
        "      \n",
        "    for f in range(0,3):                                              \n",
        "        test_df.loc[ (test_df.Fare.isnull()) & (test_df.Pclass == f+1 ), 'Fare'] = median_fare[f]"
      ]
    },
    {
      "cell_type": "code",
      "execution_count": null,
      "metadata": {
        "_cell_guid": "bc17d788-5c75-56ce-afc6-cf8e9a568e1e"
      },
      "outputs": [],
      "source": [
        "test_df['Unvan'] = test_df['Name'].map(lambda name:name.split(',')[1].split('.')[0].strip())\n",
        "\n",
        "unvans = list(enumerate(np.unique(test_df['Unvan'])))\n",
        "unvan_dict = {unvan : i for i, unvan in unvans } \n",
        "#Burada dataframemiz i\u00e7indeji gelen her elemean s\u0131ras\u0131 ile unique say\u0131sal de\u011ferler ile de\u011fi\u015ftirilmi\u015f dizi elemanlar\u0131 ile yer de\u011fi\u015ftirir\n",
        "test_df.Unvan = test_df.Unvan.map( lambda x: unvan_dict[x]).astype(int)"
      ]
    },
    {
      "cell_type": "code",
      "execution_count": null,
      "metadata": {
        "_cell_guid": "05a65736-68ce-41cd-ade2-62efaff573a2"
      },
      "outputs": [],
      "source": [
        "test_df['aile']=test_df['Parch']+test_df['SibSp']\n",
        "test_df['aile'].loc[test_df['aile']>0]=1\n",
        "test_df['aile'].loc[test_df['aile']==0]=0\n",
        "\n",
        "test_df['aile_boyut']=test_df['SibSp']+test_df['Parch']\n",
        "test_df['kisibasiucret']=test_df['Fare']/(test_df['aile_boyut']+1)"
      ]
    },
    {
      "cell_type": "code",
      "execution_count": null,
      "metadata": {
        "_cell_guid": "2d9169ef-cab1-6422-13d7-f53302868cbb"
      },
      "outputs": [],
      "source": [
        "ids = test_df['PassengerId'].values\n",
        "\n",
        "test_df = test_df.drop(['Name', 'Sex', 'Ticket', 'Cabin', 'PassengerId','SibSp','Parch'], axis=1) "
      ]
    },
    {
      "cell_type": "code",
      "execution_count": null,
      "metadata": {
        "_cell_guid": "37bb9f56-8655-1b70-73c5-e8aa7102c351"
      },
      "outputs": [],
      "source": [
        "print (\"train dataset.keys(): {}\".format(train_df.keys()))\n",
        "print (\"test dataset.keys(): {}\".format(test_df.keys()))"
      ]
    },
    {
      "cell_type": "code",
      "execution_count": null,
      "metadata": {
        "_cell_guid": "99f1f71e-3abb-0dc0-1373-519fd4e1af0f"
      },
      "outputs": [],
      "source": [
        "X=train_df.ix[:,1:9]\n",
        "y=train_df.Survived\n",
        "print(\"my_train shape:{}\".format(train_df.shape))\n",
        "print(\"X_train shape: {}\".format(X.shape))\n",
        "print(\"y_train shape: {}\".format(y.shape))\n"
      ]
    },
    {
      "cell_type": "code",
      "execution_count": null,
      "metadata": {
        "_cell_guid": "e3e70ef5-128d-6d3a-a9e1-2271f9415b92"
      },
      "outputs": [],
      "source": [
        "X_test=test_df.ix[:,0:8]\n",
        "\n",
        "print(\"test_df shape:{}\".format(test_df.shape))\n",
        "print(\"Xrest shape: {}\".format(X_test.shape))\n",
        "print (\"train dataset.keys(): {}\".format(X_test.keys()))"
      ]
    },
    {
      "cell_type": "code",
      "execution_count": null,
      "metadata": {
        "_cell_guid": "8a6ac10b-e436-5af9-3f95-e761efadb1d5"
      },
      "outputs": [],
      "source": [
        "from sklearn.ensemble import GradientBoostingClassifier\n",
        "gbrt = GradientBoostingClassifier(random_state=0, max_depth=40,learning_rate=0.1)\n",
        "gbrt.fit(X,y)\n",
        "print(\"Accuracy on training set: {:.3f}\".format(gbrt.score(X, y)))"
      ]
    },
    {
      "cell_type": "code",
      "execution_count": null,
      "metadata": {
        "_cell_guid": "490260dd-146b-1c73-3b11-9785af6129bc"
      },
      "outputs": [],
      "source": [
        "from sklearn.ensemble import RandomForestClassifier\n",
        "forest = RandomForestClassifier(n_estimators=40,random_state=0)\n",
        "forest.fit(X,y)\n",
        "print(\"Accuracy on training set: {:.3f}\".format(forest.score(X, y)))"
      ]
    },
    {
      "cell_type": "code",
      "execution_count": null,
      "metadata": {
        "_cell_guid": "78a378bf-1e1e-273f-0180-c216fe307613"
      },
      "outputs": [],
      "source": [
        "prediction_y=forest.predict(X_test)"
      ]
    },
    {
      "cell_type": "code",
      "execution_count": null,
      "metadata": {
        "_cell_guid": "1a63f4e9-5b92-b264-ac4f-68b5df700aef"
      },
      "outputs": [],
      "source": [
        " test_df[\"PassengerId\"]=ids"
      ]
    },
    {
      "cell_type": "code",
      "execution_count": null,
      "metadata": {
        "_cell_guid": "7178b154-c9d1-5988-10ad-01dc19365412"
      },
      "outputs": [],
      "source": [
        "submission = pd.DataFrame({\n",
        "        \"PassengerId\": test_df[\"PassengerId\"],\n",
        "        \"Survived\": prediction_y\n",
        "    })\n",
        "submission.to_csv('titanic.csv', index=False)"
      ]
    },
    {
      "cell_type": "code",
      "execution_count": null,
      "metadata": {
        "_cell_guid": "5168c675-e518-e8fb-489c-ba1b954545a6"
      },
      "outputs": [],
      "source": [
        ""
      ]
    }
  ],
  "metadata": {
    "_change_revision": 0,
    "_is_fork": false,
    "kernelspec": {
      "display_name": "Python 3",
      "language": "python",
      "name": "python3"
    },
    "language_info": {
      "codemirror_mode": {
        "name": "ipython",
        "version": 3
      },
      "file_extension": ".py",
      "mimetype": "text/x-python",
      "name": "python",
      "nbconvert_exporter": "python",
      "pygments_lexer": "ipython3",
      "version": "3.5.2"
    }
  },
  "nbformat": 4,
  "nbformat_minor": 0
}