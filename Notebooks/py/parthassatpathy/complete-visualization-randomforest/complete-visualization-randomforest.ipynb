{
  "cells": [
    {
      "cell_type": "markdown",
      "metadata": {
        "_cell_guid": "b1f851fc-8d55-7166-8a7e-a967d1abde20"
      },
      "source": [
        "1. Detailed Visualization of Data\n",
        "2. Imputing Null values\n",
        "3. Random Forest\n",
        "\n",
        "A detailed guide to analyze and visualize Titanic Data Set."
      ]
    },
    {
      "cell_type": "code",
      "execution_count": null,
      "metadata": {
        "_cell_guid": "461fb695-1032-263c-c50d-de4a36cd32d8"
      },
      "outputs": [],
      "source": [
        "#Import the Python Packages\n",
        "import pandas as pd\n",
        "import numpy as np\n",
        "import matplotlib.pyplot as plt\n",
        "import seaborn as sns\n",
        "%matplotlib inline"
      ]
    },
    {
      "cell_type": "markdown",
      "metadata": {
        "_cell_guid": "75552e69-ce70-dbed-898a-a27dd54555cc"
      },
      "source": [
        "\n",
        "We will start with reading the Train and Test files. We will then check their different columns and data.\n"
      ]
    },
    {
      "cell_type": "code",
      "execution_count": null,
      "metadata": {
        "_cell_guid": "952092cb-a80c-2609-a1c3-6b784aab6903"
      },
      "outputs": [],
      "source": [
        "#Read the Train file and save it as Pandas DataFrame\n",
        "train_df = pd.read_csv(\"../input/train.csv\")\n",
        "\n",
        "#This will show the initial rows of Train Data\n",
        "train_df.head()"
      ]
    },
    {
      "cell_type": "code",
      "execution_count": null,
      "metadata": {
        "_cell_guid": "089820c7-73ad-b4b2-041f-ab0b263bf078"
      },
      "outputs": [],
      "source": [
        "#Let's see the Train Data Details\n",
        "train_df.info()"
      ]
    },
    {
      "cell_type": "markdown",
      "metadata": {
        "_cell_guid": "ce148530-190a-6696-d5ee-c1abc84a0892"
      },
      "source": [
        " \n",
        "Train has total 891 rows, 12 columns. \"Survived\" is the Label Data.\n",
        "Age has 714 rows, Cabin has 204 rows and Embarked has 889 rows, thus missing 177, 687 and 2 rows respectively.\n"
      ]
    },
    {
      "cell_type": "markdown",
      "metadata": {
        "_cell_guid": "bcff7d17-222c-b647-99d4-b791940649a9"
      },
      "source": [
        "\n",
        "Let's check the details of Test Data.\n"
      ]
    },
    {
      "cell_type": "code",
      "execution_count": null,
      "metadata": {
        "_cell_guid": "fbc7615c-6a68-2542-bc67-b152374316b7"
      },
      "outputs": [],
      "source": [
        "#Read the Test file and save it as Pandas DataFrame\n",
        "test_df = pd.read_csv(\"../input/test.csv\")\n",
        "\n",
        "#This will show the initial rows of Train Data\n",
        "test_df.head()"
      ]
    },
    {
      "cell_type": "code",
      "execution_count": null,
      "metadata": {
        "_cell_guid": "1c2db0e0-d92f-d229-e600-022000256a41"
      },
      "outputs": [],
      "source": [
        "test_df.info()"
      ]
    },
    {
      "cell_type": "markdown",
      "metadata": {
        "_cell_guid": "54355efb-9490-a7a1-6277-bc9498d2f03d"
      },
      "source": [
        "\n",
        "Test has total 418 rows, 11 columns. \"Survived\" is the Column we need to predict. \n",
        "Age has 332 rows, Cabin has 91 rows and Fare has 417 rows, thus missing 86, 327 and 1 rows respectively.\n"
      ]
    },
    {
      "cell_type": "markdown",
      "metadata": {
        "_cell_guid": "1100fac0-c5db-1dab-4458-7eac0ebe4ed1"
      },
      "source": [
        "Now that we checked the Train and Test Data, we need to do the following tasks:\n",
        "1. Impute the missing Values\n",
        "2. Visualize Every Feature of the Data\n",
        "\n",
        "Whatever changes we will make to the Features, we need do it in both Train and Test Data. So, we will combine the Train and Test Data to make it easier."
      ]
    },
    {
      "cell_type": "code",
      "execution_count": null,
      "metadata": {
        "_cell_guid": "ae4b5e04-e596-c833-0bc0-27cec9211e30"
      },
      "outputs": [],
      "source": [
        "#Add None Data to a new Survived column in Test Data\n",
        "test_df['Survived'] = [None]*418\n",
        "\n",
        "##Join Train and Test Data to form Combine Data Frame\n",
        "combine_df = pd.concat([train_df,test_df], axis = 0)\n",
        "\n",
        "print(combine_df.info())\n",
        "combine_df.head()"
      ]
    },
    {
      "cell_type": "markdown",
      "metadata": {
        "_cell_guid": "f9365c68-1827-486d-bb97-bb8bbd3b4778"
      },
      "source": [
        "**Visualization**"
      ]
    },
    {
      "cell_type": "markdown",
      "metadata": {
        "_cell_guid": "3ce243eb-d04f-5cb6-d3e7-0163b3a82217"
      },
      "source": [
        "\n",
        "Let's visualize all the columns one by one. We will impute missing values on the way.\n",
        "We will start with the test label data.\n"
      ]
    },
    {
      "cell_type": "code",
      "execution_count": null,
      "metadata": {
        "_cell_guid": "2c93d7be-4e9e-3b76-ef7d-0f8e3f3082b9"
      },
      "outputs": [],
      "source": [
        "Survived_count = train_df['Survived'].value_counts()\n",
        "#print(Survived_count)\n",
        "\n",
        "plt.figure(figsize=(8,6))\n",
        "sns.barplot(Survived_count.index,Survived_count.values)\n",
        "plt.xlabel(\"Survival 0- Dead 1-Survived\")\n",
        "plt.ylabel(\"No of Passangers\")\n",
        "plt.title(\"Analysis of Survival\")\n",
        "plt.show()"
      ]
    },
    {
      "cell_type": "markdown",
      "metadata": {
        "_cell_guid": "161ef1c7-320f-5587-9f00-1334e697704e"
      },
      "source": [
        "From the Graph :- There is a very high probability of death(Tragic). "
      ]
    },
    {
      "cell_type": "markdown",
      "metadata": {
        "_cell_guid": "2baaa881-f5c0-21a2-1ea7-e9af725aa471"
      },
      "source": [
        "We will keep a list of columns we will choose for our model. At first, we will select all the columns and then remove the ones we do not need."
      ]
    },
    {
      "cell_type": "code",
      "execution_count": null,
      "metadata": {
        "_cell_guid": "efdb3b36-542b-ad00-2144-076083980f54"
      },
      "outputs": [],
      "source": [
        "selected_Columns = combine_df.columns.values.tolist()\n",
        "\n",
        "## Survived is the column we will predict and Passanger Id is not of much significance. So, we will remove these two.\n",
        "selected_Columns.remove('Survived')\n",
        "selected_Columns.remove('PassengerId')\n",
        "print(selected_Columns)"
      ]
    },
    {
      "cell_type": "markdown",
      "metadata": {
        "_cell_guid": "655199c9-6857-7dcc-3aa5-a9cd9df1610a"
      },
      "source": [
        "**Gender**"
      ]
    },
    {
      "cell_type": "code",
      "execution_count": null,
      "metadata": {
        "_cell_guid": "d11ace53-093f-6826-6a70-5d50db76d0c2"
      },
      "outputs": [],
      "source": [
        "Gender_count = train_df['Sex'].value_counts()\n",
        "#print(Gender_count)\n",
        "\n",
        "plt.figure(figsize=(8,6))\n",
        "sns.barplot(Gender_count.index,Gender_count.values)\n",
        "plt.xlabel(\"Gender\")\n",
        "plt.ylabel(\"No of Passangers\")\n",
        "plt.title(\"Analysis of Gender\")\n",
        "plt.show()"
      ]
    },
    {
      "cell_type": "code",
      "execution_count": null,
      "metadata": {
        "_cell_guid": "8d45c515-df83-d1f6-4e69-5b761f276ec4"
      },
      "outputs": [],
      "source": [
        "plt.figure(figsize=(8,6))\n",
        "sns.countplot(x='Sex', hue='Survived', data=train_df)\n",
        "plt.ylabel('Number of Passengers')\n",
        "plt.xlabel('Gender')\n",
        "plt.show()"
      ]
    },
    {
      "cell_type": "markdown",
      "metadata": {
        "_cell_guid": "d38b83b2-cfd1-2006-2250-a79cc77e1aab"
      },
      "source": [
        "\n",
        "As seen from the above graph, 'Sex' is a very important factor. Very few Male have survived(Approx 5/6th died). There is a very good rate of Survival among Female."
      ]
    },
    {
      "cell_type": "markdown",
      "metadata": {
        "_cell_guid": "5d15f7fd-6e33-7d9b-5937-88d40b8d6cf0"
      },
      "source": [
        "**Pclass**"
      ]
    },
    {
      "cell_type": "code",
      "execution_count": null,
      "metadata": {
        "_cell_guid": "121e6fe5-3025-82a9-0e19-cb51b2bebddd"
      },
      "outputs": [],
      "source": [
        "Pclass_count = train_df['Pclass'].value_counts()\n",
        "plt.figure(figsize=(8,6))\n",
        "sns.barplot(Pclass_count.index,Pclass_count.values)\n",
        "plt.xlabel(\"Pclass\")\n",
        "plt.ylabel(\"No of Passangers\")\n",
        "plt.title(\"Analysis of Pclass_count\")\n",
        "plt.show()"
      ]
    },
    {
      "cell_type": "markdown",
      "metadata": {
        "_cell_guid": "add5d89b-2612-49af-42bf-af6a18f4df15"
      },
      "source": [
        "Most of the passengers were of class 3, followed by 1 and 2."
      ]
    },
    {
      "cell_type": "code",
      "execution_count": null,
      "metadata": {
        "_cell_guid": "6f450441-57b0-6dfc-7346-34e07dbd9e1d"
      },
      "outputs": [],
      "source": [
        "plt.figure(figsize=(8,6))\n",
        "sns.countplot(x='Pclass', hue='Survived', data=train_df)\n",
        "plt.ylabel('Number of Passengers')\n",
        "plt.xlabel('Pclass')\n",
        "plt.show()"
      ]
    },
    {
      "cell_type": "markdown",
      "metadata": {
        "_cell_guid": "e9307fec-cc1f-562d-fb3f-0f965b8255ad"
      },
      "source": [
        "There is a high degree of fatality in the case of class 3 passengers. However, a good survival ratio among class 1. Class 2- Almost equal probability."
      ]
    },
    {
      "cell_type": "markdown",
      "metadata": {
        "_cell_guid": "6edde794-a43f-d6e8-817b-616f8e162031"
      },
      "source": [
        "**Parch**"
      ]
    },
    {
      "cell_type": "code",
      "execution_count": null,
      "metadata": {
        "_cell_guid": "5d0b11f7-431d-691b-de91-82b870a4e059"
      },
      "outputs": [],
      "source": [
        "Parch_count = train_df['Parch'].value_counts()\n",
        "print(Parch_count)\n",
        "\n",
        "plt.figure(figsize=(8,6))\n",
        "sns.barplot(Parch_count.index,Parch_count.values)\n",
        "plt.xlabel(\"Parch\")\n",
        "plt.ylabel(\"No of Passangers\")\n",
        "plt.title(\"Analysis of Parch\")\n",
        "plt.show()"
      ]
    },
    {
      "cell_type": "markdown",
      "metadata": {
        "_cell_guid": "53de27e0-2d00-02ad-84b3-137de4cb6a0c"
      },
      "source": [
        "Most of the values reside in 0,1,2. Most values 0 shows most of the people came alone."
      ]
    },
    {
      "cell_type": "markdown",
      "metadata": {
        "_cell_guid": "4bb14e54-b5b4-b788-ba18-2a796e26b537"
      },
      "source": [
        "We can make the values greater than 2 as 3."
      ]
    },
    {
      "cell_type": "code",
      "execution_count": null,
      "metadata": {
        "_cell_guid": "3b52b9d4-38af-42c9-01d5-a3c394f4d63c"
      },
      "outputs": [],
      "source": [
        "train_df['Parch'].ix[train_df['Parch']>2] = 3\n",
        "combine_df['Parch'].ix[combine_df['Parch']>2] = 3\n",
        "\n",
        "plt.figure(figsize=(8,6))\n",
        "sns.countplot(x='Parch', hue='Survived', data=train_df)\n",
        "plt.ylabel('Number of Passengers')\n",
        "plt.xlabel('Parch')\n",
        "plt.show()"
      ]
    },
    {
      "cell_type": "markdown",
      "metadata": {
        "_cell_guid": "b60f858c-ab90-c144-e781-793b81c8e31a"
      },
      "source": [
        "Person who has 1 or 2 have higher survival ratio than the person who is not a parent nor has a child."
      ]
    },
    {
      "cell_type": "code",
      "execution_count": null,
      "metadata": {
        "_cell_guid": "a61a559f-a5e7-53a0-3b29-634693c6430a"
      },
      "outputs": [],
      "source": [
        "SibSp_count = train_df['SibSp'].value_counts()\n",
        "print(SibSp_count)\n",
        "\n",
        "plt.figure(figsize=(8,6))\n",
        "sns.barplot(SibSp_count.index,SibSp_count.values)\n",
        "plt.xlabel(\"SibSp\")\n",
        "plt.ylabel(\"No of Passangers\")\n",
        "plt.title(\"Analysis of SibSp\")\n",
        "plt.show()"
      ]
    },
    {
      "cell_type": "code",
      "execution_count": null,
      "metadata": {
        "_cell_guid": "047d0bec-5b82-d6c0-69cc-fdcc7b0d38f8"
      },
      "outputs": [],
      "source": [
        "plt.figure(figsize=(8,6))\n",
        "sns.countplot(x='SibSp', hue='Survived', data=train_df)\n",
        "plt.ylabel('Number of Passengers')\n",
        "plt.xlabel('SibSp')\n",
        "plt.show()"
      ]
    },
    {
      "cell_type": "markdown",
      "metadata": {
        "_cell_guid": "78020915-8ac1-ef4f-c752-0421cc70517d"
      },
      "source": [
        "We can assume that person having Siblings greater than 4 have very less chance of Survival rate. We can make all values greater than 3 as 4. Person with only 1 sibling survived most."
      ]
    },
    {
      "cell_type": "code",
      "execution_count": null,
      "metadata": {
        "_cell_guid": "a05e7069-0388-501a-d1f7-9709c6e673b1"
      },
      "outputs": [],
      "source": [
        "train_df['SibSp'].ix[train_df['SibSp']>3] = 4\n",
        "combine_df['SibSp'].ix[combine_df['SibSp']>3] = 4\n",
        "\n",
        "plt.figure(figsize=(8,6))\n",
        "sns.countplot(x='SibSp', hue='Survived', data=train_df)\n",
        "plt.ylabel('Number of Passengers')\n",
        "plt.xlabel('SibSp')\n",
        "plt.show()"
      ]
    },
    {
      "cell_type": "markdown",
      "metadata": {
        "_cell_guid": "1fa89340-1ba9-2a84-92ed-14b68661d2d6"
      },
      "source": [
        "**Fare**"
      ]
    },
    {
      "cell_type": "markdown",
      "metadata": {
        "_cell_guid": "77e25ab8-78bc-4c58-8516-f654cf1f878c"
      },
      "source": [
        "Fare has one row missing. We need to impute that. But, luckily Train Data has all the data. So, let's analyze the column and then impute it."
      ]
    },
    {
      "cell_type": "code",
      "execution_count": null,
      "metadata": {
        "_cell_guid": "a74af9e5-bf6c-f4c4-1b7e-99d939bb0aad"
      },
      "outputs": [],
      "source": [
        "plt.figure(figsize=(8,6))\n",
        "print(train_df['Fare'].describe())\n",
        "#plt.subplot(121)\n",
        "plt.hist(train_df['Fare'],bins=40,range=(0,train_df['Fare'].describe()[-1]),normed=True,color='blue',alpha=0.8)\n",
        "plt.show()"
      ]
    },
    {
      "cell_type": "markdown",
      "metadata": {
        "_cell_guid": "4347617c-9451-53b5-fc58-d1eaf92dd01a"
      },
      "source": [
        "There seems to be some outliers where ticket prices are very high. Let's check the rows where Fare is higher than 200."
      ]
    },
    {
      "cell_type": "code",
      "execution_count": null,
      "metadata": {
        "_cell_guid": "86ae8a67-d7c7-210f-39ad-f341d9dacd53"
      },
      "outputs": [],
      "source": [
        "plt.subplot(1,3,1)\n",
        "temp_df = train_df.ix[train_df['Fare']>100]\n",
        "sns.countplot(x='Sex', hue='Survived', data=temp_df)\n",
        "plt.ylabel('Number of Passengers')\n",
        "plt.xlabel('Gender')\n",
        "\n",
        "plt.subplot(1,3,2)\n",
        "temp_df = train_df.ix[train_df['Fare']>152]\n",
        "sns.countplot(x='Sex', hue='Survived', data=temp_df)\n",
        "plt.ylabel('Number of Passengers')\n",
        "plt.xlabel('Gender')\n",
        "\n",
        "plt.subplot(1,3,3)\n",
        "temp_df = train_df.ix[train_df['Fare']>200]\n",
        "sns.countplot(x='Sex', hue='Survived', data=temp_df)\n",
        "plt.ylabel('Number of Passengers')\n",
        "plt.xlabel('Gender')\n",
        "plt.tight_layout()\n",
        "plt.show()"
      ]
    },
    {
      "cell_type": "markdown",
      "metadata": {
        "_cell_guid": "adaf7595-c3ad-8bdb-89a7-4576477cb098"
      },
      "source": [
        "We can see that above Fare price 152, the pattern of the male and Female Survival rate is almost same. So, we can make the values as 152."
      ]
    },
    {
      "cell_type": "code",
      "execution_count": null,
      "metadata": {
        "_cell_guid": "0a94e614-d06b-1513-05bf-4c3e81abbc4c"
      },
      "outputs": [],
      "source": [
        "train_df['Fare'].ix[train_df['Fare']>151] = 152\n",
        "combine_df['Fare'].ix[combine_df['Fare']>151] = 152\n",
        "\n",
        "plt.figure(figsize=(8,6))\n",
        "plt.hist(train_df['Fare'],bins=40,range=(0,train_df['Fare'].describe()[-1]),normed=True,color='blue',alpha=0.8)\n",
        "plt.show()"
      ]
    },
    {
      "cell_type": "code",
      "execution_count": null,
      "metadata": {
        "_cell_guid": "9b3498a3-d4a4-6398-553f-ee40df4f573c"
      },
      "outputs": [],
      "source": [
        "sns.boxplot(x=\"Survived\",y=\"Fare\",data=train_df)\n",
        "plt.show()"
      ]
    },
    {
      "cell_type": "markdown",
      "metadata": {
        "_cell_guid": "0aa9c89e-58a8-e744-450e-fb15b8f44900"
      },
      "source": [
        "Most of the people who died have tickets with less Fair. But, people with high fare ticket have more survival rate."
      ]
    },
    {
      "cell_type": "markdown",
      "metadata": {
        "_cell_guid": "c20d78c6-a98c-fedd-a63b-226490341e6c"
      },
      "source": [
        "Let's check the detail of the person whose Fare is not available."
      ]
    },
    {
      "cell_type": "code",
      "execution_count": null,
      "metadata": {
        "_cell_guid": "ce9b0364-a61f-3588-b941-864548773438"
      },
      "outputs": [],
      "source": [
        "combine_df[combine_df['Fare'].isnull()]"
      ]
    },
    {
      "cell_type": "markdown",
      "metadata": {
        "_cell_guid": "556af458-17e7-1495-c023-be9740551e16"
      },
      "source": [
        "We can find the Fares for passengers who are aged and are of class 3, male and have Embarked at S.\n",
        "We can update the Fare value as the average of the these values."
      ]
    },
    {
      "cell_type": "code",
      "execution_count": null,
      "metadata": {
        "_cell_guid": "600bd07a-e44b-ec28-c7dc-b2a1220a69fe"
      },
      "outputs": [],
      "source": [
        "temp_df = combine_df[(combine_df['Pclass']==3) & (combine_df['Sex']=='male') & \n",
        "                     (combine_df['Embarked']=='S') & (combine_df['Age'] > 50)]\n",
        "combine_df['Fare'][combine_df['Fare'].isnull()] = temp_df['Fare'].mean()"
      ]
    },
    {
      "cell_type": "markdown",
      "metadata": {
        "_cell_guid": "fcddc99b-b72b-3508-2bc8-91300258ffec"
      },
      "source": [
        "**Embarked**"
      ]
    },
    {
      "cell_type": "markdown",
      "metadata": {
        "_cell_guid": "790ef649-a934-d83b-d65f-e026933dc1bd"
      },
      "source": [
        "Next let's analyze Embarked Features. We will analyze the part where Embarked is not null. Then we will impute the 2 missing values based on Analyzed Data."
      ]
    },
    {
      "cell_type": "code",
      "execution_count": null,
      "metadata": {
        "_cell_guid": "26249572-0716-48b4-3480-56154c453dcb"
      },
      "outputs": [],
      "source": [
        "temp_df = train_df[train_df['Embarked'].notnull()]\n",
        "\n",
        "Embarked_count = train_df['Embarked'].value_counts()\n",
        "print(Embarked_count)\n",
        "\n",
        "plt.figure(figsize=(8,6))\n",
        "sns.barplot(Embarked_count.index,Embarked_count.values)\n",
        "plt.xlabel(\"Embarked\")\n",
        "plt.ylabel(\"No of Passangers\")\n",
        "plt.title(\"Analysis of Embarked\")\n",
        "plt.show()"
      ]
    },
    {
      "cell_type": "code",
      "execution_count": null,
      "metadata": {
        "_cell_guid": "808c1f0c-a4b2-7b94-5e07-a070552a41b3"
      },
      "outputs": [],
      "source": [
        "plt.figure(figsize=(8,6))\n",
        "sns.countplot(x='Embarked', hue='Survived', data=temp_df)\n",
        "plt.ylabel('Number of Passengers')\n",
        "plt.xlabel('Gender')\n",
        "plt.show()"
      ]
    },
    {
      "cell_type": "markdown",
      "metadata": {
        "_cell_guid": "5711055e-5e47-2425-5d5a-670c3a7893c7"
      },
      "source": [
        "Let's try to impute the two missing rows."
      ]
    },
    {
      "cell_type": "code",
      "execution_count": null,
      "metadata": {
        "_cell_guid": "48d7d44d-6fec-ebcf-2166-c62a73ebe317"
      },
      "outputs": [],
      "source": [
        "combine_df[combine_df['Embarked'].isnull()]"
      ]
    },
    {
      "cell_type": "markdown",
      "metadata": {
        "_cell_guid": "e6f42cb2-84c5-cb87-3b97-bac8e1a94e89"
      },
      "source": [
        "Both these ladies have paid high ticket price and Survived. They are both of Pclass 1. We have such people at all the three cities. So, we will impute their value as city 'S' which is most occuring."
      ]
    },
    {
      "cell_type": "code",
      "execution_count": null,
      "metadata": {
        "_cell_guid": "e17fa69f-f8e1-40e1-9048-a902ccf9a5e9"
      },
      "outputs": [],
      "source": [
        "combine_df['Embarked'][(combine_df['Cabin']=='B28')] = 'S'"
      ]
    },
    {
      "cell_type": "markdown",
      "metadata": {
        "_cell_guid": "f285f124-ceca-8c03-fd74-234c77633449"
      },
      "source": [
        "**Name**"
      ]
    },
    {
      "cell_type": "markdown",
      "metadata": {
        "_cell_guid": "f32d1864-6072-08d1-ea59-32fb8d3104bc"
      },
      "source": [
        "Let's check what are the common words in Name. "
      ]
    },
    {
      "cell_type": "code",
      "execution_count": null,
      "metadata": {
        "_cell_guid": "8b7936a8-91ab-4df8-0632-780a3f29f48a"
      },
      "outputs": [],
      "source": [
        "from wordcloud import WordCloud\n",
        "\n",
        "text_Name = ''\n",
        "\n",
        "for ind, row in train_df.iterrows():\n",
        "    text_Name = \" \".join([text_Name,\"_\".join(row['Name'].strip().split(\" \"))])\n",
        "\n",
        "text_Name = text_Name.strip()\n",
        "\n",
        "plt.figure(figsize=(12,6))\n",
        "wordcloud = WordCloud(background_color='white', width=600, height=300, max_font_size=50, max_words=40).generate(text_Name)\n",
        "wordcloud.recolor(random_state=0)\n",
        "plt.imshow(wordcloud)\n",
        "plt.title(\"Wordcloud for Name\", fontsize=30)\n",
        "plt.axis(\"off\")\n",
        "plt.show()"
      ]
    },
    {
      "cell_type": "code",
      "execution_count": null,
      "metadata": {
        "_cell_guid": "7c229110-e5a0-2da0-5c50-51adee5119c5"
      },
      "outputs": [],
      "source": [
        "Name does no seem to bring new features, but it will be very useful in predicting the Age which has lots of empty rows.\n",
        "We will try to fetch Title from the Name which will be useful."
      ]
    },
    {
      "cell_type": "code",
      "execution_count": null,
      "metadata": {
        "_cell_guid": "61fd1185-aa5a-0ec3-6f60-8e0145c8dd0e"
      },
      "outputs": [],
      "source": [
        "import re\n",
        "\n",
        "#A function to get the title from a name.\n",
        "def get_title(name):\n",
        "    title_search = re.search(' ([A-Za-z]+)\\.', name)\n",
        "    if title_search:\n",
        "        return title_search.group(1)\n",
        "    return \"\"\n",
        "\n",
        "#Get all the titles and print how often each one occurs.\n",
        "titles = combine_df[\"Name\"].apply(get_title)\n",
        "print(pd.value_counts(titles))"
      ]
    },
    {
      "cell_type": "markdown",
      "metadata": {
        "_cell_guid": "156cf6c0-3a94-1f16-6bbc-754efddfb110"
      },
      "source": [
        "There are lots of Titles here. Let's try to create 4 main titles- Mr, Miss, Mrs and Master. We will make some assumption here to add the small number of Titles to the main categories. Some consider to make a new category called rare too."
      ]
    },
    {
      "cell_type": "code",
      "execution_count": null,
      "metadata": {
        "_cell_guid": "18e8f2c2-3e49-432e-139e-75e6df483e2c"
      },
      "outputs": [],
      "source": [
        "combine_df['titles'] = titles\n",
        "print(combine_df.titles.unique())\n",
        "\n",
        "MrList = ['Rev','Dr','Col','Major','Sir','Jonkheer','Don','Capt']\n",
        "MsList = ['Ms','Mlle']\n",
        "MrsList = ['Lady','Mme','Dona','Countess']\n",
        "\n",
        "for ind, row in combine_df.iterrows():\n",
        "    if row['titles'] in MrList:\n",
        "        #row['titles'] = 'Mr'\n",
        "        #print(combine_df.at[ind,'titles'])\n",
        "        combine_df.at[ind,'titles'] = 'Mr'\n",
        "    if row['titles'] in MsList:\n",
        "        combine_df.at[ind,'titles'] = 'Miss'\n",
        "    if row['titles'] in MrsList:\n",
        "        combine_df.at[ind,'titles'] = 'Mrs'\n",
        "\n",
        "print(combine_df.titles.unique())\n",
        "print(pd.value_counts(combine_df[\"titles\"]))"
      ]
    },
    {
      "cell_type": "markdown",
      "metadata": {
        "_cell_guid": "106d1a24-ee16-8dba-4c3b-9e8d8f07b51c"
      },
      "source": [
        "**Age**"
      ]
    },
    {
      "cell_type": "markdown",
      "metadata": {
        "_cell_guid": "0629512d-ec6d-c0de-ca7c-d73ef284e840"
      },
      "source": [
        "The last and most important feature is Age. But,we have around 263 rows where Age is missing.\n",
        "\n",
        "Let's Analyze the missing rows first."
      ]
    },
    {
      "cell_type": "code",
      "execution_count": null,
      "metadata": {
        "_cell_guid": "f48534d2-a565-fa8a-01f3-621fbb3bd80b"
      },
      "outputs": [],
      "source": [
        "temp_df = combine_df[combine_df['Age'].isnull()]\n",
        "Titles_count = temp_df['titles'].value_counts()\n",
        "print(Titles_count)\n",
        "\n",
        "plt.figure(figsize=(8,6))\n",
        "sns.barplot(Titles_count.index,Titles_count.values)\n",
        "plt.xlabel(\"Titles\")\n",
        "plt.ylabel(\"No of Passangers\")\n",
        "plt.title(\"Analysis of Titles for Missing Age\")\n",
        "plt.show()"
      ]
    },
    {
      "cell_type": "markdown",
      "metadata": {
        "_cell_guid": "6fa0aaf0-0b9e-1108-adc1-7030d8a7a81d"
      },
      "source": [
        "There are very few rows missing for passengers with Title 'Master' and 'Mrs'. So, for them we can impute the Age as the mean or median of other Master and Mrs passengers ages respectively."
      ]
    },
    {
      "cell_type": "code",
      "execution_count": null,
      "metadata": {
        "_cell_guid": "625a6e86-a547-614b-3aa5-4b7ff8ce4c94"
      },
      "outputs": [],
      "source": [
        "##Missing master Data\n",
        "temp_dfMaster = temp_df[temp_df['titles'] == 'Master']\n",
        "temp_dfMaster"
      ]
    },
    {
      "cell_type": "markdown",
      "metadata": {
        "_cell_guid": "c308dc9b-17f5-d1cd-d022-00c42871e5d7"
      },
      "source": [
        "All the empty rows are for Pclass- 3. Let's find the mean and median ages of all Passengers with Pclass 3 and Title Master."
      ]
    },
    {
      "cell_type": "code",
      "execution_count": null,
      "metadata": {
        "_cell_guid": "d60aac5c-9614-aa61-1cdb-aebb85e3797d"
      },
      "outputs": [],
      "source": [
        "print(combine_df['Age'][(combine_df['Pclass'] == 3) & (combine_df['titles'] == 'Master')\n",
        "                       & (combine_df['Age'].notnull())].mean())\n",
        "print(combine_df['Age'][(combine_df['Pclass'] == 3) & (combine_df['titles'] == 'Master')\n",
        "                & (combine_df['Age'].notnull()) ].median())"
      ]
    },
    {
      "cell_type": "code",
      "execution_count": null,
      "metadata": {
        "_cell_guid": "a3305c61-ec55-0c39-e24f-2d307aada0c9"
      },
      "outputs": [],
      "source": [
        "##Replace with the Mean Value\n",
        "combine_df['Age'][(combine_df['Pclass'] == 3) & (combine_df['titles'] == 'Master')\n",
        "                & (combine_df['Age'].isnull())] = combine_df['Age'][(combine_df['Pclass'] == 3) & (combine_df['titles'] == 'Master')\n",
        "                       & (combine_df['Age'].notnull())].mean()"
      ]
    },
    {
      "cell_type": "code",
      "execution_count": null,
      "metadata": {
        "_cell_guid": "2bf40c59-a69a-cee6-d1b6-3e45f87de9e9"
      },
      "outputs": [],
      "source": [
        "##Passenger with Mrs Title\n",
        "temp_dfMrs = combine_df[(combine_df['titles'] == 'Mrs') & (combine_df['Age'].isnull())]\n",
        "temp_dfMrs"
      ]
    },
    {
      "cell_type": "markdown",
      "metadata": {
        "_cell_guid": "9e1a51e3-1e40-c606-6b58-0dbacdcdadf0"
      },
      "source": [
        "We will replace the Age value as per Pclass of Title Mrs."
      ]
    },
    {
      "cell_type": "code",
      "execution_count": null,
      "metadata": {
        "_cell_guid": "a29d5a79-88bd-36a3-7b35-117881e3ec61"
      },
      "outputs": [],
      "source": [
        "def imputeMrsAge(cls):\n",
        "    ##Replace with the Mean Value\n",
        "    combine_df['Age'][(combine_df['Pclass'] == cls) & (combine_df['titles'] == 'Mrs')\n",
        "                & (combine_df['Age'].isnull())] = combine_df['Age'][(combine_df['Pclass'] == cls)&(combine_df['titles'] == 'Mrs')\n",
        "                       & (combine_df['Age'].notnull())].mean()\n",
        "\n",
        "imputeMrsAge(1)\n",
        "imputeMrsAge(2)\n",
        "imputeMrsAge(3)"
      ]
    },
    {
      "cell_type": "markdown",
      "metadata": {
        "_cell_guid": "83ba562f-cbfc-ff50-0a71-86fcb1cb1c27"
      },
      "source": [
        "For these two titles- Mr and Miss- We will use a model to predict the values. But before that we will create another column called Family Size which will be 1+Parch+Sibsp.\n",
        "We also need to labelencode the categorical variables so that they can be used in the models."
      ]
    },
    {
      "cell_type": "code",
      "execution_count": null,
      "metadata": {
        "_cell_guid": "6fbbfc73-30a7-f746-d4a6-88226f1784fa"
      },
      "outputs": [],
      "source": [
        "combine_df['FamilySize'] = 1+ combine_df['Parch'] + combine_df['SibSp']"
      ]
    },
    {
      "cell_type": "code",
      "execution_count": null,
      "metadata": {
        "_cell_guid": "417a28e4-2594-bbbd-9508-e19d7c309ea7"
      },
      "outputs": [],
      "source": [
        "from sklearn.preprocessing import LabelEncoder,OneHotEncoder\n",
        "\n",
        "labelEnc=LabelEncoder()\n",
        "\n",
        "cat_vars=['Embarked','Parch','Pclass','Sex','SibSp',\"titles\",\"FamilySize\"]\n",
        "\n",
        "for col in cat_vars:\n",
        "    combine_df[col]=labelEnc.fit_transform(combine_df[col])\n",
        "    \n",
        "combine_df.head()"
      ]
    },
    {
      "cell_type": "code",
      "execution_count": null,
      "metadata": {
        "_cell_guid": "4a421961-1344-d4f1-af50-fe24856c718d"
      },
      "outputs": [],
      "source": [
        "##Random Forest model to predict the missing Age values.\n",
        "\n",
        "##Features we will use to predict the Age\n",
        "ageFeatures = ['Embarked','Pclass','Sex',\"titles\",\"FamilySize\",'Fare']\n",
        "\n",
        "##Train Data will be rows where Age values are present\n",
        "trainAgeF = (combine_df[combine_df['Age'].notnull()])[ageFeatures]\n",
        "trainAgeL = (combine_df[combine_df['Age'].notnull()])['Age']\n",
        "##Train Data will be rows where Age values are null\n",
        "testAgeF = (combine_df[combine_df['Age'].isnull()])[ageFeatures]\n",
        "\n",
        "#RandomForest Model\n",
        "from sklearn.ensemble import RandomForestRegressor\n",
        "rtr = RandomForestRegressor(n_estimators=2000, n_jobs=-1)\n",
        "rtr.fit(trainAgeF, trainAgeL)\n",
        "\n",
        "# Use the fitted model to predict the missing values\n",
        "predictedAges = rtr.predict(testAgeF)\n",
        "\n",
        "##Replace the NA values with the predicted values\n",
        "combine_df['Age'][combine_df['Age'].isnull()] = predictedAges"
      ]
    },
    {
      "cell_type": "markdown",
      "metadata": {
        "_cell_guid": "f25b7161-f59c-9498-83ad-5e2707a03b38"
      },
      "source": [
        "Instead of using Age and Fare as numerical values we can create groups in them and make them categorical."
      ]
    },
    {
      "cell_type": "code",
      "execution_count": null,
      "metadata": {
        "_cell_guid": "5b969008-8810-acbe-fcdc-16a9c1661a5c"
      },
      "outputs": [],
      "source": [
        "combine_df.loc[ combine_df['Fare'] <= 7.91, 'Fare'] = 0\n",
        "combine_df.loc[(combine_df['Fare'] > 7.91) & (combine_df['Fare'] <= 14.454), 'Fare'] = 1\n",
        "combine_df.loc[(combine_df['Fare'] > 14.454) & (combine_df['Fare'] <= 31), 'Fare']   = 2\n",
        "combine_df.loc[ combine_df['Fare'] > 31, 'Fare']   = 3\n",
        "combine_df['Fare'] = combine_df['Fare'].astype(int)\n",
        "\n",
        "combine_df.loc[ combine_df['Age'] <= 16, 'Age']= 0\n",
        "combine_df.loc[(combine_df['Age'] > 16) & (combine_df['Age'] <= 32), 'Age'] = 1\n",
        "combine_df.loc[(combine_df['Age'] > 32) & (combine_df['Age'] <= 48), 'Age'] = 2\n",
        "combine_df.loc[(combine_df['Age'] > 48) & (combine_df['Age'] <= 64), 'Age'] = 3\n",
        "combine_df.loc[ combine_df['Age'] > 64, 'Age'] = 4    "
      ]
    },
    {
      "cell_type": "code",
      "execution_count": null,
      "metadata": {
        "_cell_guid": "2cf23a2a-4603-c0d9-d6df-d7c50556f781"
      },
      "outputs": [],
      "source": [
        "combine_df.head(2)"
      ]
    },
    {
      "cell_type": "markdown",
      "metadata": {
        "_cell_guid": "0ec9ac83-fab8-9687-a9ad-1d81da868309"
      },
      "source": [
        "Let's check the Correlation among the features if any"
      ]
    },
    {
      "cell_type": "code",
      "execution_count": null,
      "metadata": {
        "_cell_guid": "9a1a49d7-9f89-3158-8ba6-6d11a9904d65"
      },
      "outputs": [],
      "source": [
        "Features = ['Embarked','Pclass','Sex',\"titles\",'Age','Fare','Parch','SibSp','FamilySize']\n",
        "cor_matrix = combine_df[Features].corr()\n",
        "sns.heatmap(cor_matrix)\n",
        "plt.show()"
      ]
    },
    {
      "cell_type": "markdown",
      "metadata": {
        "_cell_guid": "a5d7bea9-8ec1-54c4-97c6-e5303e423294"
      },
      "source": [
        "There are correlation among Fare,Parch, SibSp and FamilySize."
      ]
    },
    {
      "cell_type": "markdown",
      "metadata": {
        "_cell_guid": "a8f97ede-c6d6-c54f-e34a-5b899f61097d"
      },
      "source": [
        "We have many features available now to consider. Which ones should we use?\n",
        "\n",
        "1. PassengerId, Ticket and Name do not have much significance. They can be removed.\n",
        "\n",
        "2. Cabin has lots of Null values and imputing and using them may cause error. So, removed.\n",
        "\n",
        "3. There are correlation among Fare, Parch, SibSp and FamilySize. So, we will keep only Fare."
      ]
    },
    {
      "cell_type": "code",
      "execution_count": null,
      "metadata": {
        "_cell_guid": "d13877bf-c443-3449-4a83-1389b10b53ab"
      },
      "outputs": [],
      "source": [
        "Features = ['Embarked','Pclass','Sex',\"titles\",'Age','Fare']"
      ]
    },
    {
      "cell_type": "code",
      "execution_count": null,
      "metadata": {
        "_cell_guid": "322b63d1-bf61-1495-50d6-a643f2ff531f"
      },
      "outputs": [],
      "source": [
        "Train = combine_df[combine_df['Survived'].notnull()]\n",
        "Test = combine_df[combine_df['Survived'].isnull()]\n",
        "\n",
        "train_x = Train[Features]\n",
        "train_y = pd.DataFrame(Train['Survived'])\n",
        "test_x = Test[Features]\n",
        "\n",
        "train_x_arr = np.array(train_x.values) #Use as Features to fit a Regression Model\n",
        "train_y_arr = np.array(train_y.Survived.values.tolist()) #Use as labels to fit a Regression Model\n",
        "\n",
        "test_x_arr = np.array(test_x.values) ##Use as Features to predict a Regression Model"
      ]
    },
    {
      "cell_type": "markdown",
      "metadata": {
        "_cell_guid": "5604ccfb-4fde-63eb-4adc-5455bc8cc0d2"
      },
      "source": [
        "You can use the Train and test data in any model of your choice. Random Forest seems to be the favorite of many. You can also use XGBoost and SVM too. I am giving example of RandomForest Here. "
      ]
    },
    {
      "cell_type": "code",
      "execution_count": null,
      "metadata": {
        "_cell_guid": "02bde5be-9a20-1d60-612a-337b65e60b63"
      },
      "outputs": [],
      "source": [
        "##We wil use GridSearchCV to first find the best parameters for our model \n",
        "#and then  we will use the parameters in our model\n",
        "\n",
        "#Import the packages\n",
        "from sklearn.ensemble import RandomForestClassifier\n",
        "from sklearn.model_selection import GridSearchCV\n",
        "from sklearn.datasets import make_classification\n",
        "\n",
        "rfc = RandomForestClassifier(n_jobs=-1,max_features= 'sqrt' ,n_estimators=50, oob_score = True) \n",
        "\n",
        "param_grid = { \n",
        "    'n_estimators': [700,1000,1500,2000],\n",
        "    'max_features': ['auto', 'sqrt', 'log2']\n",
        "}\n",
        "\n",
        "CV_rfc = GridSearchCV(estimator=rfc, param_grid=param_grid, cv= 5)\n",
        "CV_rfc.fit(train_x_arr, train_y_arr)\n",
        "print (CV_rfc.best_params_)\n",
        "print(CV_rfc.best_estimator_)"
      ]
    },
    {
      "cell_type": "code",
      "execution_count": null,
      "metadata": {
        "_cell_guid": "616a9719-9113-33be-5b84-9c936cba29d8"
      },
      "outputs": [],
      "source": [
        "clf = RandomForestClassifier(bootstrap=True, class_weight=None, criterion='gini',\n",
        "            max_depth=None, max_features='auto', max_leaf_nodes=None,\n",
        "            min_impurity_decrease=0.0, min_impurity_split=None,\n",
        "            min_samples_leaf=1, min_samples_split=2,\n",
        "            min_weight_fraction_leaf=0.0, n_estimators=1500, n_jobs=-1,\n",
        "            oob_score=True, random_state=None, verbose=0, warm_start=False)\n",
        "clf.fit(train_x_arr, train_y_arr)\n",
        "predictedVal = clf.predict(test_x_arr)\n",
        "print(\"%.4f\" % clf.oob_score_)"
      ]
    },
    {
      "cell_type": "code",
      "execution_count": null,
      "metadata": {
        "_cell_guid": "ef09fe2b-2c1d-de80-9121-6e384a9ec54b"
      },
      "outputs": [],
      "source": [
        "submission = pd.DataFrame({\n",
        "        \"PassengerId\": Test[\"PassengerId\"],\n",
        "        \"Survived\": predictedVal\n",
        "    })\n",
        "\n",
        "submission.to_csv(\"rf_submission_1.csv\", index=False)"
      ]
    },
    {
      "cell_type": "markdown",
      "metadata": {
        "_cell_guid": "8cd4b9d5-2309-0c75-f09e-6e98e2e099ab"
      },
      "source": [
        "This kernel might not be the best kernel you see here, but it will definitely give you a detailed view of how to analyze and visualize data.\n",
        "\n",
        "If you find it useful, please upvote. \n",
        "\n",
        "Thanks."
      ]
    },
    {
      "cell_type": "code",
      "execution_count": null,
      "metadata": {
        "_cell_guid": "8562a28d-3350-32a5-a093-55d01c0a65f2"
      },
      "outputs": [],
      "source": ""
    }
  ],
  "metadata": {
    "_change_revision": 0,
    "_is_fork": false,
    "kernelspec": {
      "display_name": "Python 3",
      "language": "python",
      "name": "python3"
    },
    "language_info": {
      "codemirror_mode": {
        "name": "ipython",
        "version": 3
      },
      "file_extension": ".py",
      "mimetype": "text/x-python",
      "name": "python",
      "nbconvert_exporter": "python",
      "pygments_lexer": "ipython3",
      "version": "3.6.0"
    }
  },
  "nbformat": 4,
  "nbformat_minor": 0
}