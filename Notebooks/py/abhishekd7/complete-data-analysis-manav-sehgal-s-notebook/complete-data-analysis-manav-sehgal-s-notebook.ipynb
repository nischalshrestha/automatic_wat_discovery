{
  "cells": [
    {
      "cell_type": "markdown",
      "metadata": {
        "_cell_guid": "4a4f4da9-c3a5-5cf7-354c-fa52fd1386c1"
      },
      "source": [
        "*Steps involved in the prediction(binary Classification) Process:-*\n",
        "===================================================================\n",
        "\n",
        "1. Importing the Dataset (Training and Testing) into Dataframe.\n",
        "2. Visualise the Dataframe"
      ]
    },
    {
      "cell_type": "code",
      "execution_count": null,
      "metadata": {
        "_cell_guid": "ff2802f4-a389-2d22-0478-15547402fff7"
      },
      "outputs": [],
      "source": [
        "# This Python 3 environment comes with many helpful analytics libraries installed\n",
        "# It is defined by the kaggle/python docker image: https://github.com/kaggle/docker-python\n",
        "# For example, here's several helpful packages to load in \n",
        "\n",
        "import numpy as np # linear algebra\n",
        "import pandas as pd # data processing, CSV file I/O (e.g. pd.read_csv)\n",
        "\n",
        "# Input data files are available in the \"../input/\" directory.\n",
        "# For example, running this (by clicking run or pressing Shift+Enter) will list the files in the input directory\n",
        "\n",
        "from subprocess import check_output\n",
        "print(check_output([\"ls\", \"../input\"]).decode(\"utf8\"))\n",
        "\n",
        "# Any results you write to the current directory are saved as output."
      ]
    },
    {
      "cell_type": "markdown",
      "metadata": {
        "_cell_guid": "b46a72dc-3666-71bf-8892-20674fcb421d"
      },
      "source": [
        "**Step-1 Import Dataset into Dataframes and Visualizing the Dataset**\n",
        "---------------------------------------------------------------------"
      ]
    },
    {
      "cell_type": "code",
      "execution_count": null,
      "metadata": {
        "_cell_guid": "c52657e8-74fa-46dc-bc8e-a40787ff81e6"
      },
      "outputs": [],
      "source": [
        "#Visualization\n",
        "import matplotlib.pyplot as plt\n",
        "import seaborn as sns\n",
        "\n",
        "#Load Data into Dataframes\n",
        "Data_train = pd.read_csv(\"../input/train.csv\")\n",
        "Data_test = pd.read_csv(\"../input/test.csv\")\n",
        "\n",
        "Data_full = [Data_train,Data_test]\n",
        "\n",
        "Data_train.shape"
      ]
    },
    {
      "cell_type": "code",
      "execution_count": null,
      "metadata": {
        "_cell_guid": "46630d53-f789-df89-ef7a-79a0d4e1d1ab"
      },
      "outputs": [],
      "source": [
        "#Preview the Data\n",
        "Data_train.head()"
      ]
    },
    {
      "cell_type": "code",
      "execution_count": null,
      "metadata": {
        "_cell_guid": "6e4a73b1-8c7f-f860-3ede-efacaf58d7c2"
      },
      "outputs": [],
      "source": [
        "Data_train.describe()"
      ]
    },
    {
      "cell_type": "code",
      "execution_count": null,
      "metadata": {
        "_cell_guid": "03dff093-a0cd-ebbb-d7ec-f8444640a079"
      },
      "outputs": [],
      "source": [
        "#Understanding the Data\n",
        "\n",
        "Data_train.info()\n",
        "print(\"************\")\n",
        "print(\"************\")\n",
        "Data_test.info()"
      ]
    },
    {
      "cell_type": "markdown",
      "metadata": {
        "_cell_guid": "46eb804d-fdf1-767c-18ad-4a6d0979911d"
      },
      "source": [
        "From the above Information we can understand that:-\n",
        "\n",
        "*Training Data* -\n",
        "\n",
        " 1.  Features \"age\" and \"cabin\" & \"Embarked\" have missing values (Total =891)[Age = 714 , Cabin = 204 , Embarked = 889] \n",
        "\n",
        "*Testing Data* -\n",
        "\n",
        " 1.  Features \"age\" and \"cabin\" have missing values (Total =418)[Age = 332 , Cabin = 91] \n",
        "\n",
        "Therefore, we need to take care of the missing values before proceeding for further analysis."
      ]
    },
    {
      "cell_type": "code",
      "execution_count": null,
      "metadata": {
        "_cell_guid": "ab3e4b57-700d-52a9-c644-6667cd912d7c"
      },
      "outputs": [],
      "source": [
        "\n",
        "#For \"Embarked\" feature only 2 missing values so we will fill it with the value occuring thr most which is S\n",
        "Data_full[\"Embarked\"] = Data_full[\"Embarked\"].fillna(\"S\")\n",
        "\n",
        "print (Data_train[['Embarked', 'Survived']].groupby(['Embarked'], as_index=False).mean())\n"
      ]
    },
    {
      "cell_type": "code",
      "execution_count": null,
      "metadata": {
        "_cell_guid": "9c8e70f4-3d2b-5e79-dd2f-87d5b3b24cab"
      },
      "outputs": [],
      "source": [
        "#Fare also has some missing value in Test Data and we will replace it with the median. then we categorize it into 4 ranges.\n",
        "Data_test['Fare'] = Data_test['Fare'].fillna(Data_test['Fare'].median())\n",
        "\n",
        "Data_train['CategoricalFare'] = pd.qcut(Data_test['Fare'], 4)\n",
        "print (Data_train[['CategoricalFare', 'Survived']].groupby(['CategoricalFare'], as_index=False).mean())\n"
      ]
    },
    {
      "cell_type": "markdown",
      "metadata": {
        "_cell_guid": "07213f0b-a1eb-a03c-e803-241d39596f2a"
      },
      "source": [
        "\n",
        " Age\n",
        "------------\n",
        "\n",
        "We have plenty of missing values in this feature. # generate random numbers between (mean - std) and (mean + std). then we categorize age into 5 range."
      ]
    },
    {
      "cell_type": "code",
      "execution_count": null,
      "metadata": {
        "_cell_guid": "8ac2c778-262b-122a-2998-65b9763bf1ee"
      },
      "outputs": [],
      "source": [
        "for dataset in Data_full:\n",
        "    age_avg \t   = dataset['Age'].mean()\n",
        "    age_std \t   = dataset['Age'].std()\n",
        "    age_null_count = dataset['Age'].isnull().sum()\n",
        "    \n",
        "    age_null_random_list = np.random.randint(age_avg - age_std, age_avg + age_std, size=age_null_count)\n",
        "    dataset['Age'][np.isnan(dataset['Age'])] = age_null_random_list\n",
        "    dataset['Age'] = dataset['Age'].astype(int)\n",
        "    \n",
        "Data_train['CategoricalAge'] = pd.cut(Data_train['Age'], 5)\n",
        "\n",
        "print (Data_train[['CategoricalAge', 'Survived']].groupby(['CategoricalAge'], as_index=False).mean())"
      ]
    },
    {
      "cell_type": "code",
      "execution_count": null,
      "metadata": {
        "_cell_guid": "6e002008-f043-3aed-46e6-33b05532e0a9"
      },
      "outputs": [],
      "source": [
        "#Pearson Correlation Heatmap\n",
        "#let us generate some correlation plots of the features to see how related one feature is to the next. To do so, we will utilise the Seaborn plotting package which allows us to plot heatmaps very conveniently as follows\n",
        "\n",
        "colormap = plt.cm.viridis\n",
        "plt.figure(figsize=(12,12))\n",
        "plt.title('Pearson Correlation of Features', y=1.05, size=15)\n",
        "sns.heatmap(Data_train.astype(float).corr(),linewidths=0.1,vmax=1.0, square=True, cmap=colormap, linecolor='white', annot=True)"
      ]
    },
    {
      "cell_type": "markdown",
      "metadata": {
        "_cell_guid": "e63253ac-b61f-812d-c6ff-54d5d49d2878"
      },
      "source": [
        "*Machine Learning*\n",
        "================"
      ]
    },
    {
      "cell_type": "code",
      "execution_count": null,
      "metadata": {
        "_cell_guid": "73b30282-ce91-54a4-3cdc-7f22f354ec49"
      },
      "outputs": [],
      "source": [
        "# Machine learning\n",
        "from sklearn.linear_model import LogisticRegression\n",
        "from sklearn.svm import SVC, LinearSVC\n",
        "from sklearn.ensemble import RandomForestClassifier\n",
        "from sklearn.neighbors import KNeighborsClassifier\n",
        "from sklearn.naive_bayes import GaussianNB\n",
        "from sklearn.linear_model import Perceptron\n",
        "from sklearn.linear_model import SGDClassifier\n",
        "from sklearn.tree import DecisionTreeClassifier\n"
      ]
    },
    {
      "cell_type": "code",
      "execution_count": null,
      "metadata": {
        "_cell_guid": "1d5515b5-1ef3-1a79-0e52-6d4e0757ab57"
      },
      "outputs": [],
      "source": [
        ""
      ]
    }
  ],
  "metadata": {
    "_change_revision": 0,
    "_is_fork": false,
    "kernelspec": {
      "display_name": "Python 3",
      "language": "python",
      "name": "python3"
    },
    "language_info": {
      "codemirror_mode": {
        "name": "ipython",
        "version": 3
      },
      "file_extension": ".py",
      "mimetype": "text/x-python",
      "name": "python",
      "nbconvert_exporter": "python",
      "pygments_lexer": "ipython3",
      "version": "3.6.0"
    }
  },
  "nbformat": 4,
  "nbformat_minor": 0
}