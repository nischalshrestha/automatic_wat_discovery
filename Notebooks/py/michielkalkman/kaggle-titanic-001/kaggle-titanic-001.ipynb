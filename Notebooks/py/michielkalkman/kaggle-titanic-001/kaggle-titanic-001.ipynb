{"cells":[
 {
  "cell_type": "code",
  "execution_count": null,
  "metadata": {
   "collapsed": false
  },
  "outputs": [],
  "source": "import numpy as np\nimport pandas as pd\n\ntrain = pd.read_csv(\"../input/train.csv\", dtype={\"Age\": np.float64}, )\ntest  = pd.read_csv(\"../input/test.csv\", dtype={\"Age\": np.float64}, )\n"
 },
 {
  "cell_type": "code",
  "execution_count": null,
  "metadata": {
   "collapsed": false
  },
  "outputs": [],
  "source": "def harmonize_data(titanic):\n    \n    titanic[\"Age\"] = titanic[\"Age\"].fillna(titanic[\"Age\"].median())\n    titanic[\"Age\"].median()\n    \n    titanic.loc[titanic[\"Sex\"] == \"male\", \"Sex\"] = 0\n    titanic.loc[titanic[\"Sex\"] == \"female\", \"Sex\"] = 1\n    \n    titanic[\"Embarked\"] = titanic[\"Embarked\"].fillna(\"S\")\n\n    titanic.loc[titanic[\"Embarked\"] == \"S\", \"Embarked\"] = 0\n    titanic.loc[titanic[\"Embarked\"] == \"C\", \"Embarked\"] = 1\n    titanic.loc[titanic[\"Embarked\"] == \"Q\", \"Embarked\"] = 2\n\n    titanic[\"Fare\"] = titanic[\"Fare\"].fillna(titanic[\"Fare\"].median())\n\n    return titanic"
 },
 {
  "cell_type": "code",
  "execution_count": null,
  "metadata": {
   "collapsed": false
  },
  "outputs": [],
  "source": "def create_submission(alg, train, test, predictors, filename):\n\n    alg.fit(train[predictors], train[\"Survived\"])\n    predictions = alg.predict(test[predictors])\n\n    submission = pd.DataFrame({\n        \"PassengerId\": test[\"PassengerId\"],\n        \"Survived\": predictions\n    })\n    \n    submission.to_csv(filename, index=False)"
 },
 {
  "cell_type": "code",
  "execution_count": null,
  "metadata": {
   "collapsed": false
  },
  "outputs": [],
  "source": "train_data = harmonize_data(train)\ntest_data  = harmonize_data(test)"
 },
 {
  "cell_type": "code",
  "execution_count": null,
  "metadata": {
   "collapsed": false
  },
  "outputs": [],
  "source": "from sklearn.linear_model import LogisticRegression\nfrom sklearn import cross_validation\n\npredictors = [\"Pclass\", \"Sex\", \"Age\", \"SibSp\", \"Parch\", \"Fare\", \"Embarked\"]\n\nalg    = LogisticRegression(random_state=1)\nscores = cross_validation.cross_val_score(\n    alg,\n    train_data[predictors],\n    train_data[\"Survived\"],\n    cv=3\n)\n\nprint(scores.mean())"
 },
 {
  "cell_type": "code",
  "execution_count": null,
  "metadata": {
   "collapsed": false
  },
  "outputs": [],
  "source": "from sklearn.ensemble import RandomForestClassifier\nfrom sklearn import cross_validation\n\npredictors = [\"Pclass\", \"Sex\", \"Age\", \"SibSp\", \"Parch\", \"Fare\", \"Embarked\"]\n\nalg = RandomForestClassifier(\n    random_state=1,\n    n_estimators=150,\n    min_samples_split=4,\n    min_samples_leaf=2\n)\n\nscores = cross_validation.cross_val_score(\n    alg,\n    train_data[predictors],\n    train_data[\"Survived\"],\n    cv=3\n)\n\nprint(scores.mean())"
 },
 {
  "cell_type": "code",
  "execution_count": null,
  "metadata": {
   "collapsed": false
  },
  "outputs": [],
  "source": "create_submission(alg, train_data, test_data, predictors, \"run-01.csv\")"
 }
],"metadata":{"kernelspec":{"display_name":"Python 3","language":"python","name":"python3"}}, "nbformat": 4, "nbformat_minor": 0}