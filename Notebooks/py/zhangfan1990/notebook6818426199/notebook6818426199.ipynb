{
  "cells": [
    {
      "cell_type": "code",
      "execution_count": null,
      "metadata": {
        "_cell_guid": "1f652b0c-2e6d-3fb9-18f7-4327688de305"
      },
      "outputs": [],
      "source": [
        "# This Python 3 environment comes with many helpful analytics libraries installed\n",
        "# It is defined by the kaggle/python docker image: https://github.com/kaggle/docker-python\n",
        "# For example, here's several helpful packages to load in \n",
        "\n",
        "import numpy as np # linear algebra\n",
        "import pandas as pd # data processing, CSV file I/O (e.g. pd.read_csv)\n",
        "\n",
        "# Input data files are available in the \"../input/\" directory.\n",
        "# For example, running this (by clicking run or pressing Shift+Enter) will list the files in the input directory\n",
        "\n",
        "from subprocess import check_output\n",
        "print(check_output([\"ls\", \"../input\"]).decode(\"utf8\"))\n",
        "\n",
        "# Any results you write to the current directory are saved as output."
      ]
    },
    {
      "cell_type": "code",
      "execution_count": null,
      "metadata": {
        "_cell_guid": "62529777-6fd0-499b-d03d-355f47ce5ba0"
      },
      "outputs": [],
      "source": [
        "train = pd.read_csv(\"../input/train.csv\")\n",
        "train.info()"
      ]
    },
    {
      "cell_type": "code",
      "execution_count": null,
      "metadata": {
        "_cell_guid": "d7e91f96-eb78-3d5a-6d7d-ab674763fdce"
      },
      "outputs": [],
      "source": [
        "train.Survived.value_counts()"
      ]
    },
    {
      "cell_type": "code",
      "execution_count": null,
      "metadata": {
        "_cell_guid": "9d3d55d3-e6c1-4033-29dc-e5a0118c6256"
      },
      "outputs": [],
      "source": [
        "float(train.Survived.value_counts()[1]) / train.Survived.value_counts()[0]"
      ]
    },
    {
      "cell_type": "code",
      "execution_count": null,
      "metadata": {
        "_cell_guid": "83806da3-623e-9676-e0a7-21912d5b6d2b"
      },
      "outputs": [],
      "source": [
        "train.head()"
      ]
    },
    {
      "cell_type": "code",
      "execution_count": null,
      "metadata": {
        "_cell_guid": "7128bc1d-121c-982e-c445-ee8469e23c8c"
      },
      "outputs": [],
      "source": [
        "# directly fed into sklearn cross validation.\n",
        "\n",
        "data = pd.get_dummies(train.drop(['PassengerId', 'Name', 'Ticket', 'Cabin'], axis = 1))\n",
        "\n",
        "X = data.drop('Survived',axis = 1)\n",
        "y = data['Survived']"
      ]
    },
    {
      "cell_type": "code",
      "execution_count": null,
      "metadata": {
        "_cell_guid": "8aba9ef7-53ba-4ad3-bb17-26eac9228ea0"
      },
      "outputs": [],
      "source": [
        "from sklearn.preprocessing import Imputer\n",
        "\n",
        "X_i = Imputer(strategy = 'median').fit_transform(X)"
      ]
    },
    {
      "cell_type": "code",
      "execution_count": null,
      "metadata": {
        "_cell_guid": "ee1e1f77-2504-d948-1d3b-f66e978c4596"
      },
      "outputs": [],
      "source": [
        "from sklearn.model_selection import train_test_split\n",
        "\n",
        "X_train, X_test, y_train, y_test = train_test_split(\n",
        "    X_i, y, test_size = .3, random_state = 233\n",
        ")"
      ]
    },
    {
      "cell_type": "code",
      "execution_count": null,
      "metadata": {
        "_cell_guid": "964f46d0-370c-1565-ffb9-3d4884caaa69"
      },
      "outputs": [],
      "source": [
        "from xgboost import XGBClassifier\n",
        "\n",
        "xlf = XGBClassifier(\n",
        " scale_pos_weight = .62,\n",
        " objective= 'binary:logistic',\n",
        " seed=27)"
      ]
    },
    {
      "cell_type": "code",
      "execution_count": null,
      "metadata": {
        "_cell_guid": "05188995-ba86-cf95-fcb1-fee4f69cd1ac"
      },
      "outputs": [],
      "source": [
        "xlf.fit(X_train, y_train)"
      ]
    },
    {
      "cell_type": "code",
      "execution_count": null,
      "metadata": {
        "_cell_guid": "61363b60-09ce-693c-2c65-8636f48bdf3c"
      },
      "outputs": [],
      "source": [
        "xlf_prob = xlf.predict_proba(X_test)[:,1]\n",
        "xlf_pred = xlf.predict(X_test)"
      ]
    },
    {
      "cell_type": "code",
      "execution_count": null,
      "metadata": {
        "_cell_guid": "4b623a59-3863-da39-876c-d770f5a7694d"
      },
      "outputs": [],
      "source": [
        "from sklearn.metrics import accuracy_score, confusion_matrix, auc\n",
        "\n",
        "print(confusion_matrix(xlf_pred, y_test))\n",
        "print(accuracy_score(xlf_pred, y_test))"
      ]
    },
    {
      "cell_type": "code",
      "execution_count": null,
      "metadata": {
        "_cell_guid": "5e5f05df-4067-ed15-5e9b-9c649bd30c34"
      },
      "outputs": [],
      "source": [
        "importance = pd.DataFrame()\n",
        "importance['Feature'] = X.columns\n",
        "importance['importance'] = xlf.feature_importances_"
      ]
    },
    {
      "cell_type": "code",
      "execution_count": null,
      "metadata": {
        "_cell_guid": "79912529-38b5-a449-52cf-13f30d3b5c43"
      },
      "outputs": [],
      "source": [
        "importance.sort_values(ascending = False, by = 'importance')"
      ]
    },
    {
      "cell_type": "code",
      "execution_count": null,
      "metadata": {
        "_cell_guid": "743fef63-f36f-8c3c-2211-03fd55aefbd4"
      },
      "outputs": [],
      "source": [
        "X_2 = pd.get_dummies(pd.read_csv('../input/test.csv').drop(['PassengerId',\n",
        "                                                            'Name', 'Ticket', 'Cabin'], axis = 1))\n",
        "id_2 = pd.read_csv('../input/test.csv')['PassengerId']"
      ]
    },
    {
      "cell_type": "code",
      "execution_count": null,
      "metadata": {
        "_cell_guid": "ea095a4f-228e-0c35-9466-9c5b912ce1d6"
      },
      "outputs": [],
      "source": [
        "submit = pd.DataFrame()\n",
        "\n",
        "submit['PassengerId'] = id_2\n",
        "submit['Survived'] = xlf.predict(np.array(X_2))\n",
        "\n",
        "submit.to_csv('plain_xgb_2.csv', index = False)"
      ]
    }
  ],
  "metadata": {
    "_change_revision": 0,
    "_is_fork": false,
    "kernelspec": {
      "display_name": "Python 3",
      "language": "python",
      "name": "python3"
    },
    "language_info": {
      "codemirror_mode": {
        "name": "ipython",
        "version": 3
      },
      "file_extension": ".py",
      "mimetype": "text/x-python",
      "name": "python",
      "nbconvert_exporter": "python",
      "pygments_lexer": "ipython3",
      "version": "3.6.0"
    }
  },
  "nbformat": 4,
  "nbformat_minor": 0
}