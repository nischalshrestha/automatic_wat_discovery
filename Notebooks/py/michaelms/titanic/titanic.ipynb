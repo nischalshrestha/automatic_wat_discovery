{"cells":[
 {
  "cell_type": "code",
  "execution_count": null,
  "metadata": {
   "collapsed": true
  },
  "outputs": [],
  "source": "%matplotlib inline"
 },
 {
  "cell_type": "code",
  "execution_count": null,
  "metadata": {
   "collapsed": false
  },
  "outputs": [],
  "source": "import seaborn as sns\nsns.set()\nimport numpy as np\nimport pandas as pd\n\n#Print you can execute arbitrary python code\ntrain = pd.read_csv(\"../input/train.csv\", dtype={\"Age\": np.float64}, )\ntest = pd.read_csv(\"../input/test.csv\", dtype={\"Age\": np.float64}, )\n\ntrain.columns"
 },
 {
  "cell_type": "markdown",
  "metadata": {},
  "source": "# Exploratory analysis\n\nFirst a look at a age distributions for survival chance, split between male and female passengers"
 },
 {
  "cell_type": "code",
  "execution_count": null,
  "metadata": {
   "collapsed": false
  },
  "outputs": [],
  "source": "g = sns.FacetGrid(train, col='Survived', hue='Sex', hue_order=['male', 'female'])\ng.map(sns.plt.hist, 'Age').add_legend();"
 },
 {
  "cell_type": "markdown",
  "metadata": {},
  "source": "This becomes even more interesting, when we differentiate between passenger classes"
 },
 {
  "cell_type": "code",
  "execution_count": null,
  "metadata": {
   "collapsed": false
  },
  "outputs": [],
  "source": "g = sns.FacetGrid(train, col='Pclass', row='Survived', hue='Sex', hue_order=['male', 'female'])\ng.map(sns.plt.hist, 'Age').add_legend();"
 },
 {
  "cell_type": "markdown",
  "metadata": {},
  "source": "## Machine learning"
 },
 {
  "cell_type": "code",
  "execution_count": null,
  "metadata": {
   "collapsed": false
  },
  "outputs": [],
  "source": "train.columns"
 },
 {
  "cell_type": "code",
  "execution_count": null,
  "metadata": {
   "collapsed": false
  },
  "outputs": [],
  "source": "from sklearn.ensemble import RandomForestClassifier\nfrom sklearn.feature_extraction import DictVectorizer\n\n#feature_names = train.columns.drop(['Name', 'PassengerId', 'Survived', 'Age'])\nfeature_names = ['Pclass', 'Sex']\ntrain_vectorizer = DictVectorizer(sparse=False)\nX_train = train_vectorizer.fit_transform(train[feature_names].T.to_dict().values())"
 },
 {
  "cell_type": "code",
  "execution_count": null,
  "metadata": {
   "collapsed": false
  },
  "outputs": [],
  "source": "clf = RandomForestClassifier()\nclf.fit(X_train,\n        train['Survived'])"
 },
 {
  "cell_type": "code",
  "execution_count": null,
  "metadata": {
   "collapsed": false
  },
  "outputs": [],
  "source": "X_test = train_vectorizer.fit_transform(test[feature_names].T.to_dict().values())\ntest['Survived'] = clf.predict(X_test)"
 },
 {
  "cell_type": "code",
  "execution_count": null,
  "metadata": {
   "collapsed": false
  },
  "outputs": [],
  "source": "test[['PassengerId', 'Survived']].to_csv('my_solution.csv', index=False)\ntest.head()"
 },
 {
  "cell_type": "code",
  "execution_count": null,
  "metadata": {
   "collapsed": false
  },
  "outputs": [],
  "source": ""
 }
],"metadata":{"kernelspec":{"display_name":"Python 3","language":"python","name":"python3"}}, "nbformat": 4, "nbformat_minor": 0}