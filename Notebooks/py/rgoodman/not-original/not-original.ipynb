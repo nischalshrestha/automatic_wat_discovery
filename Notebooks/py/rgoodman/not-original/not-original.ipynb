{
  "cells": [
    {
      "cell_type": "code",
      "execution_count": null,
      "metadata": {
        "_cell_guid": "fea35dfa-2c62-1690-4dc7-be459c9fd946"
      },
      "outputs": [],
      "source": [
        "# This Python 3 environment comes with many helpful analytics libraries installed\n",
        "# It is defined by the kaggle/python docker image: https://github.com/kaggle/docker-python\n",
        "# For example, here's several helpful packages to load in \n",
        "\n",
        "import numpy as np # linear algebra\n",
        "import pandas as pd # data processing, CSV file I/O (e.g. pd.read_csv)\n",
        "\n",
        "# Input data files are available in the \"../input/\" directory.\n",
        "# For example, running this (by clicking run or pressing Shift+Enter) will list the files in the input directory\n",
        "\n",
        "from subprocess import check_output\n",
        "print(check_output([\"ls\", \"../input\"]).decode(\"utf8\"))\n",
        "\n",
        "# Any results you write to the current directory are saved as output.\n",
        "\n",
        "\n",
        "# data analysis and wrangling\n",
        "import pandas as pd\n",
        "import numpy as np\n",
        "import random as rnd\n",
        "\n",
        "# visualization\n",
        "import seaborn as sns\n",
        "import matplotlib.pyplot as plt\n",
        "%matplotlib inline\n",
        "\n",
        "# machine learning\n",
        "from sklearn.linear_model import LogisticRegression\n",
        "from sklearn.svm import SVC, LinearSVC\n",
        "from sklearn.ensemble import RandomForestClassifier\n",
        "from sklearn.neighbors import KNeighborsClassifier\n",
        "from sklearn.naive_bayes import GaussianNB\n",
        "\n",
        "\n",
        "\n",
        "\n",
        "train_df = pd.read_csv('../input/train.csv')\n",
        "test_df = pd.read_csv('../input/test.csv')\n",
        "print(train_df.columns.values)"
      ]
    },
    {
      "cell_type": "code",
      "execution_count": null,
      "metadata": {
        "_cell_guid": "b9d43723-6e70-65ed-d832-f2e8835e5f4f"
      },
      "outputs": [],
      "source": ""
    },
    {
      "cell_type": "code",
      "execution_count": null,
      "metadata": {
        "_cell_guid": "58792333-9f22-e253-dce9-6e709bfa693c"
      },
      "outputs": [],
      "source": [
        "# preview the data\n",
        "train_df.head()\n"
      ]
    },
    {
      "cell_type": "markdown",
      "metadata": {
        "_cell_guid": "d0eb9f8e-1526-5166-2c53-8c758c98a3c1"
      },
      "source": [
        "Which features are mixed data types?\n",
        "Numerical, alphanumeric data within same feature. These are candidates for correcting goal.\n",
        "Ticket is a mix of numeric and alphanumeric data types. Cabin is alphanumeric.\n",
        "Which features may contain errors or typos?\n",
        "This is harder to review for a large dataset, however reviewing a few samples from a smaller dataset may just tell us outright, which features may require correcting.\n",
        "Name feature may contain errors or typos as there are several ways used to describe a name including titles, round brackets, and quotes used for alternative or short names.\n",
        "Which features contain blank, null or empty values?\n",
        "These will require correcting.\n",
        "Cabin > Age > Embarked features contain a number of null values in that order for the training dataset.\n",
        "Cabin > Age are incomplete in case of test dataset.\n",
        "What are the data types for various features?\n",
        "Helping us during converting goal.\n",
        "Seven features are integer or floats. Six in case of test dataset.\n",
        "Five features are strings (object)."
      ]
    },
    {
      "cell_type": "code",
      "execution_count": null,
      "metadata": {
        "_cell_guid": "6f498711-c329-67a2-7019-7c473491699c"
      },
      "outputs": [],
      "source": [
        "train_df.describe()"
      ]
    },
    {
      "cell_type": "code",
      "execution_count": null,
      "metadata": {
        "_cell_guid": "d5a9cc71-e7e3-0305-ccc3-a9333b1188bb"
      },
      "outputs": [],
      "source": [
        "train_df.describe(include=['O'])"
      ]
    },
    {
      "cell_type": "markdown",
      "metadata": {
        "_cell_guid": "9a26d08b-3f70-8374-ce79-aeddbfe9b453"
      },
      "source": [
        "**Seaborn FacetGrid               \n",
        "FacetGrid.map(plt.hist,...**"
      ]
    },
    {
      "cell_type": "code",
      "execution_count": null,
      "metadata": {
        "_cell_guid": "16cfe06d-4b1d-a828-fc88-f714db1d9e99"
      },
      "outputs": [],
      "source": [
        "g = sns.FacetGrid(train_df, col='Survived')\n",
        "g.map(plt.hist, 'Age', bins=20)"
      ]
    },
    {
      "cell_type": "markdown",
      "metadata": {
        "_cell_guid": "2de2fd28-9f7e-f75b-3119-bd1f02e94978"
      },
      "source": [
        "Lots of people in 3rd class didn't make it :("
      ]
    },
    {
      "cell_type": "code",
      "execution_count": null,
      "metadata": {
        "_cell_guid": "1d75c0cb-b1a6-91e3-f61d-cef5828aaef2"
      },
      "outputs": [],
      "source": [
        "grid = sns.FacetGrid(train_df, col='Pclass', hue='Survived', size=2.2, aspect=1.2, legend_out=False)\n",
        "grid.map(plt.hist, 'Age', alpha=.5, bins=20)\n",
        "grid.add_legend();"
      ]
    },
    {
      "cell_type": "code",
      "execution_count": null,
      "metadata": {
        "_cell_guid": "c2ea17b6-b868-90dd-db61-af0b3a324b71"
      },
      "outputs": [],
      "source": [
        "grid = sns.FacetGrid(train_df, col='Embarked', size=2.2, aspect=1.2, legend_out=False)\n",
        "grid.map(sns.pointplot, 'Pclass', 'Survived', 'Sex', palette='deep')\n",
        "grid.add_legend()"
      ]
    },
    {
      "cell_type": "code",
      "execution_count": null,
      "metadata": {
        "_cell_guid": "43d6f383-85ad-7e7f-1763-54a834162d24"
      },
      "outputs": [],
      "source": [
        "grid = sns.FacetGrid(train_df, col='Embarked', hue='Survived', palette={0: 'k', 1: 'w'}, size=2.2, aspect=1.2, legend_out=False)\n",
        "grid.map(sns.barplot, 'Sex', 'Fare', alpha=.5, ci=None)\n",
        "grid.add_legend()"
      ]
    },
    {
      "cell_type": "code",
      "execution_count": null,
      "metadata": {
        "_cell_guid": "5a88c707-5fdf-d7bb-698e-a28131fcf288"
      },
      "outputs": [],
      "source": [
        "train_df = train_df.drop(['Ticket', 'Cabin'], axis=1)\n",
        "test_df = test_df.drop(['Ticket', 'Cabin'], axis=1)"
      ]
    },
    {
      "cell_type": "markdown",
      "metadata": {
        "_cell_guid": "f440babf-9c54-b716-798b-170a06bfb623"
      },
      "source": [
        "In the following code we extract Title feature using regular expressions. The RegEx pattern (\\w+\\.) matches the first word which ends with a dot character within Name feature. The expand=False flag returns a DataFrame."
      ]
    },
    {
      "cell_type": "code",
      "execution_count": null,
      "metadata": {
        "_cell_guid": "cbf9e96c-e5f2-d61b-59b8-03d56a3c460e"
      },
      "outputs": [],
      "source": [
        "train_df['Title'] = train_df.Name.str.extract('(\\w+\\.)', expand=False)\n",
        "sns.barplot(hue=\"Survived\", x=\"Age\", y=\"Title\", data=train_df, ci=False)"
      ]
    },
    {
      "cell_type": "code",
      "execution_count": null,
      "metadata": {
        "_cell_guid": "3a498e08-af4e-bc77-34d5-8480843e9202"
      },
      "outputs": [],
      "source": [
        "test_df['Title'] = test_df.Name.str.extract('(\\w+\\.)', expand=False)\n",
        "\n",
        "train_df = train_df.drop(['Name', 'PassengerId'], axis=1)\n",
        "test_df = test_df.drop(['Name'], axis=1)\n",
        "test_df.describe(include=['O'])"
      ]
    },
    {
      "cell_type": "markdown",
      "metadata": {
        "_cell_guid": "c66baaf1-7d5f-915e-5c9c-76bb5879f44a"
      },
      "source": [
        "Converting a categorical feature\n",
        "Now we can convert features which contain strings to numerical values. This is required by most model algorithms. Doing so will also help us in achieving the feature completing goal.\n",
        "Let us start by converting Sex feature to a new feature called Gender where female=1 and male=0."
      ]
    },
    {
      "cell_type": "code",
      "execution_count": null,
      "metadata": {
        "_cell_guid": "c10dab7a-b91c-df24-a04b-80a687bf15c9"
      },
      "outputs": [],
      "source": [
        "train_df['Gender'] = train_df['Sex'].map( {'female': 1, 'male': 0} ).astype(int)\n",
        "train_df.loc[:, ['Gender', 'Sex']].head()"
      ]
    },
    {
      "cell_type": "code",
      "execution_count": null,
      "metadata": {
        "_cell_guid": "98f2575c-d24d-a595-07f0-61c090453c97"
      },
      "outputs": [],
      "source": [
        "test_df['Gender'] = test_df['Sex'].map( {'female': 1, 'male': 0} ).astype(int)\n",
        "test_df.loc[:, ['Gender', 'Sex']].head()"
      ]
    },
    {
      "cell_type": "code",
      "execution_count": null,
      "metadata": {
        "_cell_guid": "d108bf04-14cb-9691-23c0-52c856ef42e4"
      },
      "outputs": [],
      "source": [
        "train_df = train_df.drop(['Sex'], axis=1)\n",
        "test_df = test_df.drop(['Sex'], axis=1)\n",
        "train_df.head()"
      ]
    },
    {
      "cell_type": "code",
      "execution_count": null,
      "metadata": {
        "_cell_guid": "4bcf2893-ec35-c975-9859-5250f54a6697"
      },
      "outputs": [],
      "source": [
        "grid = sns.FacetGrid(train_df, col='Pclass', hue='Gender', size=2.2, aspect=1.2, legend_out=False)\n",
        "grid.map(plt.hist, 'Age', alpha=.5, bins=20)\n",
        "grid.add_legend();"
      ]
    },
    {
      "cell_type": "code",
      "execution_count": null,
      "metadata": {
        "_cell_guid": "278814af-1112-213a-bb2a-bb63222d4bc6"
      },
      "outputs": [],
      "source": [
        "guess_ages = np.zeros((2,3))\n",
        "guess_ages"
      ]
    },
    {
      "cell_type": "code",
      "execution_count": null,
      "metadata": {
        "_cell_guid": "fdb1a90a-02d7-efc8-ad13-90526b3481af"
      },
      "outputs": [],
      "source": [
        "for i in range(0, 2):\n",
        "    for j in range(0, 3):\n",
        "        guess_df = train_df[(train_df['Gender'] == i) & \\\n",
        "                              (train_df['Pclass'] == j+1)]['Age'].dropna()\n",
        "        \n",
        "        # Correlation of AgeFill is -0.014850\n",
        "        # age_mean = guess_df.mean()\n",
        "        # age_std = guess_df.std()\n",
        "        # age_guess = rnd.uniform(age_mean - age_std, age_mean + age_std)\n",
        "        \n",
        "        # Correlation of AgeFill is -0.011304\n",
        "        age_guess = guess_df.median()\n",
        "\n",
        "        # Convert random age float to nearest .5 age\n",
        "        guess_ages[i,j] = int( age_guess/0.5 + 0.5 ) * 0.5\n",
        "        \n",
        "guess_ages"
      ]
    },
    {
      "cell_type": "code",
      "execution_count": null,
      "metadata": {
        "_cell_guid": "49b5d0b9-d86a-6fa1-8e55-318d0e2570e1"
      },
      "outputs": [],
      "source": [
        "train_df['AgeFill'] = train_df['Age']\n",
        "\n",
        "for i in range(0, 2):\n",
        "    for j in range(0, 3):\n",
        "        train_df.loc[ (train_df.Age.isnull()) & (train_df.Gender == i) & (train_df.Pclass == j+1),\\\n",
        "                'AgeFill'] = guess_ages[i,j]\n",
        "\n",
        "train_df[train_df['Age'].isnull()][['Gender','Pclass','Age','AgeFill']].head(10)"
      ]
    },
    {
      "cell_type": "code",
      "execution_count": null,
      "metadata": {
        "_cell_guid": "bbb46d3d-efab-847b-49b2-43338c70e985"
      },
      "outputs": [],
      "source": [
        "guess_ages = np.zeros((2,3))\n",
        "\n",
        "for i in range(0, 2):\n",
        "    for j in range(0, 3):\n",
        "        guess_df = test_df[(test_df['Gender'] == i) & \\\n",
        "                              (test_df['Pclass'] == j+1)]['Age'].dropna()\n",
        "\n",
        "        # Correlation of AgeFill is -0.014850\n",
        "        # age_mean = guess_df.mean()\n",
        "        # age_std = guess_df.std()\n",
        "        # age_guess = rnd.uniform(age_mean - age_std, age_mean + age_std)\n",
        "\n",
        "        # Correlation of AgeFill is -0.011304\n",
        "        age_guess = guess_df.median()\n",
        "\n",
        "        guess_ages[i,j] = int( age_guess/0.5 + 0.5 ) * 0.5\n",
        "\n",
        "test_df['AgeFill'] = test_df['Age']\n",
        "\n",
        "for i in range(0, 2):\n",
        "    for j in range(0, 3):\n",
        "        test_df.loc[ (test_df.Age.isnull()) & (test_df.Gender == i) & (test_df.Pclass == j+1),\\\n",
        "                'AgeFill'] = guess_ages[i,j]\n",
        "\n",
        "test_df[test_df['Age'].isnull()][['Gender','Pclass','Age','AgeFill']].head(10)"
      ]
    },
    {
      "cell_type": "code",
      "execution_count": null,
      "metadata": {
        "_cell_guid": "c9a70501-b63b-f1cd-5f24-281fa9835270"
      },
      "outputs": [],
      "source": [
        "train_df = train_df.drop(['Age'], axis=1)\n",
        "test_df = test_df.drop(['Age'], axis=1)\n",
        "train_df.head()"
      ]
    },
    {
      "cell_type": "code",
      "execution_count": null,
      "metadata": {
        "_cell_guid": "5d86df09-6921-ab9b-ad78-6df624badf9a"
      },
      "outputs": [],
      "source": [
        "test_df['Age*Class'] = test_df.AgeFill * test_df.Pclass\n",
        "train_df['Age*Class'] = train_df.AgeFill * train_df.Pclass\n",
        "train_df.loc[:, ['Age*Class', 'AgeFill', 'Pclass']].head(10)"
      ]
    },
    {
      "cell_type": "code",
      "execution_count": null,
      "metadata": {
        "_cell_guid": "6babc480-8329-169e-6fa4-35be312b0b3c"
      },
      "outputs": [],
      "source": [
        "freq_port = train_df.Embarked.dropna().mode()[0]\n",
        "freq_port"
      ]
    },
    {
      "cell_type": "code",
      "execution_count": null,
      "metadata": {
        "_cell_guid": "8cd1b29e-474d-8bcd-1377-706f72617a1a"
      },
      "outputs": [],
      "source": [
        "train_df['EmbarkedFill'] = train_df['Embarked']\n",
        "train_df.loc[train_df['Embarked'].isnull(), 'EmbarkedFill'] = freq_port\n",
        "train_df[train_df['Embarked'].isnull()][['Embarked','EmbarkedFill']].head(10)"
      ]
    },
    {
      "cell_type": "code",
      "execution_count": null,
      "metadata": {
        "_cell_guid": "798b32c9-9eb0-5f7f-060b-6db1ed5aec2f"
      },
      "outputs": [],
      "source": [
        "test_df['EmbarkedFill'] = test_df['Embarked']\n",
        "train_df = train_df.drop(['Embarked'], axis=1)\n",
        "test_df = test_df.drop(['Embarked'], axis=1)\n",
        "train_df.head()"
      ]
    },
    {
      "cell_type": "code",
      "execution_count": null,
      "metadata": {
        "_cell_guid": "10047655-ed59-b1e6-685a-1cd247e4cef1"
      },
      "outputs": [],
      "source": [
        "Ports = list(enumerate(np.unique(train_df['EmbarkedFill'])))\n",
        "Ports_dict = { name : i for i, name in Ports }              \n",
        "train_df['Port'] = train_df.EmbarkedFill.map( lambda x: Ports_dict[x]).astype(int)\n",
        "\n",
        "Ports = list(enumerate(np.unique(test_df['EmbarkedFill'])))\n",
        "Ports_dict = { name : i for i, name in Ports }\n",
        "test_df['Port'] = test_df.EmbarkedFill.map( lambda x: Ports_dict[x]).astype(int)\n",
        "\n",
        "train_df[['EmbarkedFill', 'Port']].head(10)"
      ]
    },
    {
      "cell_type": "code",
      "execution_count": null,
      "metadata": {
        "_cell_guid": "d2793cbb-831c-225b-50ff-9fa68975573d"
      },
      "outputs": [],
      "source": [
        "Titles = list(enumerate(np.unique(train_df['Title'])))\n",
        "Titles_dict = { name : i for i, name in Titles }           \n",
        "train_df['TitleBand'] = train_df.Title.map( lambda x: Titles_dict[x]).astype(int)\n",
        "\n",
        "Titles = list(enumerate(np.unique(test_df['Title'])))\n",
        "Titles_dict = { name : i for i, name in Titles }           \n",
        "test_df['TitleBand'] = test_df.Title.map( lambda x: Titles_dict[x]).astype(int)\n",
        "\n",
        "train_df[['Title', 'TitleBand']].head(10)"
      ]
    },
    {
      "cell_type": "code",
      "execution_count": null,
      "metadata": {
        "_cell_guid": "b5687614-678a-10be-f26a-f0d8668cd334"
      },
      "outputs": [],
      "source": [
        "train_df = train_df.drop(['EmbarkedFill', 'Title'], axis=1)\n",
        "test_df = test_df.drop(['EmbarkedFill', 'Title'], axis=1)\n",
        "train_df.head()"
      ]
    },
    {
      "cell_type": "code",
      "execution_count": null,
      "metadata": {
        "_cell_guid": "160c8ede-d1ac-33a2-c5d3-3efb3e0c1196"
      },
      "outputs": [],
      "source": [
        "test_df['Fare'].fillna(test_df['Fare'].dropna().median(), inplace=True)\n",
        "\n",
        "train_df['Fare'] = train_df['Fare'].round(2)\n",
        "test_df['Fare'] = test_df['Fare'].round(2)\n",
        "\n",
        "test_df.head(10)"
      ]
    },
    {
      "cell_type": "code",
      "execution_count": null,
      "metadata": {
        "_cell_guid": "1d2e69c4-c150-88ce-c5fd-b9dfc02a4e4c"
      },
      "outputs": [],
      "source": [
        "X_train = train_df.drop(\"Survived\", axis=1)\n",
        "Y_train = train_df[\"Survived\"]\n",
        "X_test  = test_df.drop(\"PassengerId\", axis=1).copy()\n",
        "X_train.shape, Y_train.shape, X_test.shape"
      ]
    },
    {
      "cell_type": "code",
      "execution_count": null,
      "metadata": {
        "_cell_guid": "e1c44631-a8ac-f903-1ec6-419c66c9c229"
      },
      "outputs": [],
      "source": [
        "# Logistic Regression\n",
        "\n",
        "logreg = LogisticRegression()\n",
        "logreg.fit(X_train, Y_train)\n",
        "Y_pred = logreg.predict(X_test)\n",
        "logreg.score(X_train, Y_train)"
      ]
    },
    {
      "cell_type": "code",
      "execution_count": null,
      "metadata": {
        "_cell_guid": "cac8168c-7ac8-47dd-1ada-fa7780805bd3"
      },
      "outputs": [],
      "source": [
        "# get Correlation Coefficient for each feature using Logistic Regression\n",
        "coeff_df = pd.DataFrame(train_df.columns.delete(0))\n",
        "coeff_df.columns = ['Features']\n",
        "coeff_df[\"Correlation\"] = pd.Series(logreg.coef_[0])\n",
        "\n",
        "# preview\n",
        "coeff_df.sort_values(by='Correlation', ascending=False)"
      ]
    },
    {
      "cell_type": "code",
      "execution_count": null,
      "metadata": {
        "_cell_guid": "2740c458-59ef-3df1-6066-baa6ca5caa14"
      },
      "outputs": [],
      "source": [
        "# Support Vector Machines\n",
        "\n",
        "svc = SVC()\n",
        "svc.fit(X_train, Y_train)\n",
        "Y_pred = svc.predict(X_test)\n",
        "svc.score(X_train, Y_train)"
      ]
    },
    {
      "cell_type": "code",
      "execution_count": null,
      "metadata": {
        "_cell_guid": "2465a24e-ab01-f01a-6131-a8d430054718"
      },
      "outputs": [],
      "source": [
        "knn = KNeighborsClassifier(n_neighbors = 3)\n",
        "knn.fit(X_train, Y_train)\n",
        "Y_pred = knn.predict(X_test)\n",
        "knn.score(X_train, Y_train)"
      ]
    },
    {
      "cell_type": "code",
      "execution_count": null,
      "metadata": {
        "_cell_guid": "c0c4321e-ccef-8666-fbb6-76247340973e"
      },
      "outputs": [],
      "source": [
        "# Gaussian Naive Bayes\n",
        "\n",
        "gaussian = GaussianNB()\n",
        "gaussian.fit(X_train, Y_train)\n",
        "Y_pred = gaussian.predict(X_test)\n",
        "gaussian.score(X_train, Y_train)"
      ]
    },
    {
      "cell_type": "code",
      "execution_count": null,
      "metadata": {
        "_cell_guid": "18cde164-2a3a-4383-8e02-936da11a06cb"
      },
      "outputs": [],
      "source": [
        "# Random Forests\n",
        "\n",
        "random_forest = RandomForestClassifier(n_estimators=100)\n",
        "random_forest.fit(X_train, Y_train)\n",
        "Y_pred = random_forest.predict(X_test)\n",
        "random_forest.score(X_train, Y_train)"
      ]
    },
    {
      "cell_type": "code",
      "execution_count": null,
      "metadata": {
        "_cell_guid": "99773464-ca5e-5000-b2df-eb3ecee8670f"
      },
      "outputs": [],
      "source": [
        "submission = pd.DataFrame({\n",
        "        \"PassengerId\": test_df[\"PassengerId\"],\n",
        "        \"Survived\": Y_pred\n",
        "    })\n",
        "\n",
        "# submission.to_csv('submission.csv', index=False)"
      ]
    }
  ],
  "metadata": {
    "_change_revision": 0,
    "_is_fork": false,
    "kernelspec": {
      "display_name": "Python 3",
      "language": "python",
      "name": "python3"
    },
    "language_info": {
      "codemirror_mode": {
        "name": "ipython",
        "version": 3
      },
      "file_extension": ".py",
      "mimetype": "text/x-python",
      "name": "python",
      "nbconvert_exporter": "python",
      "pygments_lexer": "ipython3",
      "version": "3.5.2"
    }
  },
  "nbformat": 4,
  "nbformat_minor": 0
}