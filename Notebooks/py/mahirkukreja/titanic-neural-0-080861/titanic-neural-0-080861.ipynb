{
  "cells": [
    {
      "cell_type": "markdown",
      "metadata": {
        "_cell_guid": "12434a87-7dbf-d938-ae55-bc19c965f6af"
      },
      "source": [
        "This kernel gives a score of 0.80861 if run on python 2.7\n",
        "if run on kaggle, it gives a score of 0.79904"
      ]
    },
    {
      "cell_type": "code",
      "execution_count": null,
      "metadata": {
        "_cell_guid": "b0df54d9-c6a5-d9cc-6c3a-6ab6f80b3284"
      },
      "outputs": [],
      "source": [
        "# importing libraries\n",
        "import numpy as np\n",
        "import pandas as pd\n",
        "import matplotlib.pyplot as plt\n",
        "%matplotlib inline\n",
        "import seaborn as sns\n",
        "import re\n",
        "fig=plt.figure()\n",
        "import string\n",
        "import random"
      ]
    },
    {
      "cell_type": "code",
      "execution_count": null,
      "metadata": {
        "_cell_guid": "fd910fd1-5a2c-8a53-aa8f-73fa835ce025"
      },
      "outputs": [],
      "source": [
        "# reading in data\n",
        "train=pd.read_csv('../input/train.csv')\n",
        "test=pd.read_csv('../input/test.csv')"
      ]
    },
    {
      "cell_type": "code",
      "execution_count": null,
      "metadata": {
        "_cell_guid": "37db0ee4-a9e3-261d-d2c3-a92814b3762b"
      },
      "outputs": [],
      "source": [
        "# checking missing values\n",
        "train.apply(lambda x: sum(x.isnull()),axis=0)"
      ]
    },
    {
      "cell_type": "code",
      "execution_count": null,
      "metadata": {
        "_cell_guid": "27118e38-bcdf-63f4-f81d-8637af82c2bb"
      },
      "outputs": [],
      "source": [
        "# cabin can be important but has too many missing values so we make a new class nan and chop off the first letter of each cabin.\n",
        "train.Cabin = train.Cabin.fillna('N')\n",
        "train.Cabin = train.Cabin.apply(lambda x: x[0])\n",
        "test.Cabin = test.Cabin.fillna('N')\n",
        "test.Cabin = test.Cabin.apply(lambda x: x[0])\n",
        "train"
      ]
    },
    {
      "cell_type": "code",
      "execution_count": null,
      "metadata": {
        "_cell_guid": "4341da12-0ec5-4c69-dd63-b69e4034af31"
      },
      "outputs": [],
      "source": [
        "train['Cabin'].value_counts()"
      ]
    },
    {
      "cell_type": "code",
      "execution_count": null,
      "metadata": {
        "_cell_guid": "a88c959b-cc2f-cdec-b1be-8d83982fb02c"
      },
      "outputs": [],
      "source": [
        "# majority embarked = Southampton\n",
        "train.Embarked.fillna(value='S', inplace=True)"
      ]
    },
    {
      "cell_type": "code",
      "execution_count": null,
      "metadata": {
        "_cell_guid": "16a133db-5835-2f88-7dce-fb5a0b84e0af"
      },
      "outputs": [],
      "source": [
        "# create new column title containing title of every passenger\n",
        "frames = [train,test]\n",
        "for df in frames:\n",
        "    df[\"Title\"] = df.Name.str.replace('(.*, )|(\\\\..*)', '')"
      ]
    },
    {
      "cell_type": "code",
      "execution_count": null,
      "metadata": {
        "_cell_guid": "536b1178-ea0b-53f4-8880-8285820c57af"
      },
      "outputs": [],
      "source": [
        "# Let's define another feature. FamilySize = Parch + SibSp + 1\n",
        "for df in frames:\n",
        "    df[\"FamilySize\"] = df.Parch + df.SibSp + 1"
      ]
    },
    {
      "cell_type": "code",
      "execution_count": null,
      "metadata": {
        "_cell_guid": "aae6d08f-6352-2759-e8cf-fa251cc7b6f0"
      },
      "outputs": [],
      "source": [
        "train[\"Title\"].value_counts()"
      ]
    },
    {
      "cell_type": "code",
      "execution_count": null,
      "metadata": {
        "_cell_guid": "49153967-58d2-1229-8953-0530b80571d8"
      },
      "outputs": [],
      "source": [
        "train[np.isnan(train[\"Age\"])].Title.unique()"
      ]
    },
    {
      "cell_type": "code",
      "execution_count": null,
      "metadata": {
        "_cell_guid": "82a8761c-c8e6-c457-39bd-4212685ddce6"
      },
      "outputs": [],
      "source": [
        "# These can be discussed, of course.\n",
        "titledict = {\"Dr\"   : \"Mr\",\n",
        "             \"Col\"  : \"Officer\",\n",
        "             \"Mlle\" : \"Miss\",\n",
        "             \"Major\": \"Officer\",\n",
        "             \"Lady\" : \"Royal\",\n",
        "             \"Dona\" : \"Royal\",\n",
        "             \"Don\"  : \"Royal\",\n",
        "             \"Mme\"  : \"Mrs\",\n",
        "             \"the Countess\": \"Royal\",\n",
        "             \"Jonkheer\": \"Royal\",\n",
        "             \"Capt\" : \"Officer\",\n",
        "             \"Sir\"  : \"Mr\"\n",
        "             }\n",
        "#There is probably a pandas way to do this but i'll do this the python way\n",
        "for df in frames:\n",
        "    for key,val in titledict.items():\n",
        "        train.loc[train[\"Title\"]==key, \"Title\"] = val"
      ]
    },
    {
      "cell_type": "code",
      "execution_count": null,
      "metadata": {
        "_cell_guid": "a0cd8b2b-f89e-b870-b4ca-370ef31c2376"
      },
      "outputs": [],
      "source": [
        "train[\"Title\"].value_counts()"
      ]
    },
    {
      "cell_type": "code",
      "execution_count": null,
      "metadata": {
        "_cell_guid": "afd068ba-8a55-031d-47ee-1c72bdff86b1"
      },
      "outputs": [],
      "source": [
        "#sns.barplot(x=\"Title\", y=\"Survived\", data=train);"
      ]
    },
    {
      "cell_type": "code",
      "execution_count": null,
      "metadata": {
        "_cell_guid": "e29714a2-e4b1-1e11-4b96-34fe280c4e6d"
      },
      "outputs": [],
      "source": [
        "#sns.barplot(x=\"FamilySize\", y=\"Survived\", hue=\"Sex\", data=train);"
      ]
    },
    {
      "cell_type": "code",
      "execution_count": null,
      "metadata": {
        "_cell_guid": "6765b52d-e785-1e4b-ec0e-409b362d07de"
      },
      "outputs": [],
      "source": [
        " train.apply(lambda x: sum(x.isnull()),axis=0)"
      ]
    },
    {
      "cell_type": "code",
      "execution_count": null,
      "metadata": {
        "_cell_guid": "341b0597-85aa-4653-577c-3d3b0ee0ac0e"
      },
      "outputs": [],
      "source": [
        "# capture digits and ignore the 1st digit part of text\n",
        "train['tkno'] = train['Ticket'].str.extract('(\\d\\d+)', expand=True)\n",
        "test['tkno'] = test['Ticket'].str.extract('(\\d\\d+)', expand=True)\n",
        "\n"
      ]
    },
    {
      "cell_type": "code",
      "execution_count": null,
      "metadata": {
        "_cell_guid": "377460b7-4860-1f94-a521-2a17763c1c70"
      },
      "outputs": [],
      "source": [
        "# replacing missing age values by title median\n",
        "for t in train[np.isnan(train[\"Age\"])].Title.unique():\n",
        "    for df in frames:\n",
        "        df.loc[(df[\"Title\"]==t) & np.isnan(df[\"Age\"]), \"Age\" ] = train[train[\"Title\"]==t].Age.median()"
      ]
    },
    {
      "cell_type": "code",
      "execution_count": null,
      "metadata": {
        "_cell_guid": "b0380623-01a9-6afc-e321-c972bdda5dd2"
      },
      "outputs": [],
      "source": [
        "# no more missing values\n",
        "train=train.dropna()\n",
        "train.apply(lambda x: sum(x.isnull()),axis=0)"
      ]
    },
    {
      "cell_type": "code",
      "execution_count": null,
      "metadata": {
        "_cell_guid": "d376a3c0-3885-baa2-5c50-b66f4f4b97a0"
      },
      "outputs": [],
      "source": [
        "#sns.barplot(x=\"Cabin\", y=\"Age\", data=train);"
      ]
    },
    {
      "cell_type": "code",
      "execution_count": null,
      "metadata": {
        "_cell_guid": "1fc18b1d-9424-0685-008b-faf2656eccf4"
      },
      "outputs": [],
      "source": [
        "del train['Name']"
      ]
    },
    {
      "cell_type": "code",
      "execution_count": null,
      "metadata": {
        "_cell_guid": "238ad13a-9485-96b2-71e7-b1eec7825c5f",
        "collapsed": true
      },
      "outputs": [],
      "source": [
        "del test['Name']"
      ]
    },
    {
      "cell_type": "code",
      "execution_count": null,
      "metadata": {
        "_cell_guid": "7458b4df-ecdc-3dca-9ee3-09f0a58466d2"
      },
      "outputs": [],
      "source": [
        "del train['Parch']"
      ]
    },
    {
      "cell_type": "code",
      "execution_count": null,
      "metadata": {
        "_cell_guid": "3bccf5af-ccfb-ca48-df55-4fc57b0518ea"
      },
      "outputs": [],
      "source": [
        "del test['Parch']"
      ]
    },
    {
      "cell_type": "code",
      "execution_count": null,
      "metadata": {
        "_cell_guid": "dc096fe2-70aa-14cf-8c18-04092803a3cf"
      },
      "outputs": [],
      "source": [
        "del train['SibSp']"
      ]
    },
    {
      "cell_type": "code",
      "execution_count": null,
      "metadata": {
        "_cell_guid": "1a7e40f8-6410-ea37-4813-849b5e4c9531"
      },
      "outputs": [],
      "source": [
        "del test['SibSp']"
      ]
    },
    {
      "cell_type": "code",
      "execution_count": null,
      "metadata": {
        "_cell_guid": "84b068e5-674d-6a5d-4924-117a12cafd1e"
      },
      "outputs": [],
      "source": [
        "del train['Ticket']"
      ]
    },
    {
      "cell_type": "code",
      "execution_count": null,
      "metadata": {
        "_cell_guid": "05bd7c87-1a09-34e8-4499-78f71cf4ce2b"
      },
      "outputs": [],
      "source": [
        "del test['Ticket']"
      ]
    },
    {
      "cell_type": "code",
      "execution_count": null,
      "metadata": {
        "_cell_guid": "f0331dee-8900-1a0a-8674-01fa759a0034"
      },
      "outputs": [],
      "source": [
        " test.apply(lambda x: sum(x.isnull()),axis=0)"
      ]
    },
    {
      "cell_type": "code",
      "execution_count": null,
      "metadata": {
        "_cell_guid": "6dd8f337-2693-91a3-6fa6-ad0d7e81e20f"
      },
      "outputs": [],
      "source": [
        "test['Age'].fillna(test['Age'].mean(), inplace=True)"
      ]
    },
    {
      "cell_type": "code",
      "execution_count": null,
      "metadata": {
        "_cell_guid": "c18d36d4-750c-fc02-f995-54fe37218ba4"
      },
      "outputs": [],
      "source": [
        " test['Fare'].fillna(test['Fare'].mean(), inplace=True)"
      ]
    },
    {
      "cell_type": "code",
      "execution_count": null,
      "metadata": {
        "_cell_guid": "b9ec46e7-5e7b-d6b1-c263-164e078b1a14"
      },
      "outputs": [],
      "source": [
        "test=test.fillna('0')"
      ]
    },
    {
      "cell_type": "code",
      "execution_count": null,
      "metadata": {
        "_cell_guid": "e20dc457-0822-2317-05ed-188d09f026f0"
      },
      "outputs": [],
      "source": [
        " test.apply(lambda x: sum(x.isnull()),axis=0)"
      ]
    },
    {
      "cell_type": "code",
      "execution_count": null,
      "metadata": {
        "_cell_guid": "2bc73302-6f2e-252a-6752-326c8dbb07fd"
      },
      "outputs": [],
      "source": [
        "train['Age*Class']=train['Age']*train['Pclass']\n",
        "test['Age*Class']=test['Age']*test['Pclass']"
      ]
    },
    {
      "cell_type": "code",
      "execution_count": null,
      "metadata": {
        "_cell_guid": "490a02eb-993b-d7b3-ff43-6ba7e37cc5da"
      },
      "outputs": [],
      "source": [
        "Ticket_count = dict(train['tkno'].value_counts())"
      ]
    },
    {
      "cell_type": "code",
      "execution_count": null,
      "metadata": {
        "_cell_guid": "2b711713-eb5a-b97f-0cf1-0bc55e9e67d9"
      },
      "outputs": [],
      "source": [
        "# new feature\n",
        "def Tix_ct(y):\n",
        "    return Ticket_count[y]\n",
        "train[\"TicketGrp\"] = train.tkno.apply(Tix_ct)\n",
        "def Tix_label(s):\n",
        "    if (s >= 2) & (s <= 4):\n",
        "        return 2\n",
        "    elif ((s > 4) & (s <= 8)) | (s == 1):\n",
        "        return 1\n",
        "    elif (s > 8):\n",
        "        return 0\n",
        "\n",
        "train[\"TicketGrp\"] = train.loc[:,\"TicketGrp\"].apply(Tix_label)  "
      ]
    },
    {
      "cell_type": "code",
      "execution_count": null,
      "metadata": {
        "_cell_guid": "ef7c10f3-6b87-ff76-1cd8-201020509cda",
        "collapsed": true
      },
      "outputs": [],
      "source": [
        "Ticket_count = dict(test['tkno'].value_counts())"
      ]
    },
    {
      "cell_type": "code",
      "execution_count": null,
      "metadata": {
        "_cell_guid": "2377b633-ab8c-fbef-a479-b3513c4e4d8c"
      },
      "outputs": [],
      "source": [
        "# another new feature\n",
        "def Tix_ct(y):\n",
        "    return Ticket_count[y]\n",
        "test[\"TicketGrp\"] = test.tkno.apply(Tix_ct)\n",
        "def Tix_label(s):\n",
        "    if (s >= 2) & (s <= 4):\n",
        "        return 2\n",
        "    elif ((s > 4) & (s <= 8)) | (s == 1):\n",
        "        return 1\n",
        "    elif (s > 8):\n",
        "        return 0\n",
        "\n",
        "test[\"TicketGrp\"] = test.loc[:,\"TicketGrp\"].apply(Tix_label)  "
      ]
    },
    {
      "cell_type": "code",
      "execution_count": null,
      "metadata": {
        "_cell_guid": "1e299e60-f409-be36-d247-464f086dbde2"
      },
      "outputs": [],
      "source": [
        "sns.barplot(x=\"Embarked\", y=\"Survived\",hue='Sex', data=train);"
      ]
    },
    {
      "cell_type": "code",
      "execution_count": null,
      "metadata": {
        "_cell_guid": "98a60e87-fe49-ca2c-37f4-4b7527f71ccb"
      },
      "outputs": [],
      "source": [
        "# encoding categorical to numeric\n",
        "from sklearn import preprocessing\n",
        "def encode_features(train, test):\n",
        "    features = [ 'Sex','Cabin','Embarked','Title']\n",
        "    df_combined = pd.concat([train[features], test[features]])\n",
        "    \n",
        "    for feature in features:\n",
        "        le = preprocessing.LabelEncoder()\n",
        "        le = le.fit(df_combined[feature])\n",
        "        train[feature] = le.transform(train[feature])\n",
        "        test[feature] = le.transform(test[feature])\n",
        "    return train, test\n",
        "    \n",
        "data_train, data_test = encode_features(train, test)\n",
        "data_train.head()"
      ]
    },
    {
      "cell_type": "code",
      "execution_count": null,
      "metadata": {
        "_cell_guid": "f05b8a32-6f75-ec15-4ce8-5801a641f946"
      },
      "outputs": [],
      "source": [
        "# another new feature\n",
        "def Fam_label(s):\n",
        "    if (s >= 2) & (s <= 4):\n",
        "        return 2\n",
        "    elif ((s > 4) & (s <= 7)) | (s == 1):\n",
        "        return 1\n",
        "    elif (s > 7):\n",
        "        return 0\n",
        "\n",
        "train[\"Fam\"] = train.loc[:,\"FamilySize\"].apply(Fam_label)\n",
        "test[\"Fam\"] = test.loc[:,\"FamilySize\"].apply(Fam_label)"
      ]
    },
    {
      "cell_type": "code",
      "execution_count": null,
      "metadata": {
        "_cell_guid": "f9ac765f-d5b5-8cae-2988-c595be4e705d"
      },
      "outputs": [],
      "source": [
        "del train['tkno']\n",
        "del test['tkno']\n",
        "#del train['Embarked']\n",
        "#del test['Embarked']\n",
        "#del train['TicketGrp']\n",
        "#del test['TicketGrp']\n",
        "#del train['Fam']\n",
        "#del test['Fam']\n",
        "del train['Age*Class']\n",
        "del test['Age*Class']\n",
        "#del train['Cabin']\n",
        "#del test['Cabin']\n",
        "#del train['Title']\n",
        "#del test['Title']\n",
        "#del train['Pclass']\n",
        "#del test['Pclass']\n",
        "del train['FamilySize']\n",
        "del test['FamilySize']\n",
        "#del train['Fare']\n",
        "#del test['Fare']"
      ]
    },
    {
      "cell_type": "code",
      "execution_count": null,
      "metadata": {
        "_cell_guid": "d1148944-849f-1d4c-8473-b988df25fa45"
      },
      "outputs": [],
      "source": [
        "#train['fam'].value_counts()"
      ]
    },
    {
      "cell_type": "code",
      "execution_count": null,
      "metadata": {
        "_cell_guid": "53dae3b8-3eb9-c909-3b31-7eba9be18ad2"
      },
      "outputs": [],
      "source": [
        "test.apply(lambda x: sum(x.isnull()),axis=0)"
      ]
    },
    {
      "cell_type": "code",
      "execution_count": null,
      "metadata": {
        "_cell_guid": "fbb795e5-17a2-2ba3-f312-40ec40ac48b6"
      },
      "outputs": [],
      "source": [
        "from sklearn.cross_validation import train_test_split\n",
        "\n",
        "X_all = train.drop(['Survived', 'PassengerId'], axis=1)\n",
        "y_all = train['Survived']\n",
        "\n",
        "num_test = 0.0\n",
        "X_train, X_test, y_train, y_test = train_test_split(X_all, y_all, test_size=num_test, random_state=23)"
      ]
    },
    {
      "cell_type": "code",
      "execution_count": null,
      "metadata": {
        "_cell_guid": "858e0b60-68da-eb4c-1968-1cfc6ac27389"
      },
      "outputs": [],
      "source": [
        "# neural net\n",
        "from sklearn.neural_network import MLPClassifier\n",
        "c = MLPClassifier(solver='lbfgs', alpha=1e-5,hidden_layer_sizes=(15), random_state=1,activation='logistic',max_iter=3000)\n",
        "c.fit(X_train, y_train)"
      ]
    },
    {
      "cell_type": "code",
      "execution_count": null,
      "metadata": {
        "_cell_guid": "1283ec48-c919-cf5d-189c-faa46b02d35f"
      },
      "outputs": [],
      "source": [
        "c.score(X_train,y_train)"
      ]
    },
    {
      "cell_type": "code",
      "execution_count": null,
      "metadata": {
        "_cell_guid": "7607abe0-3528-1a37-147d-602b2c829404"
      },
      "outputs": [],
      "source": [
        "X_train.axes"
      ]
    },
    {
      "cell_type": "code",
      "execution_count": null,
      "metadata": {
        "_cell_guid": "0de5ac14-9ce2-4ea6-5de7-b913b2615731"
      },
      "outputs": [],
      "source": [
        "ids = test['PassengerId']\n",
        "predictions = c.predict(test.drop('PassengerId', axis=1))\n",
        "\n",
        "\n",
        "output = pd.DataFrame({ 'PassengerId' : ids, 'Survived': predictions })\n",
        "output.to_csv('titanic-predictions13.csv', index = False)"
      ]
    }
  ],
  "metadata": {
    "_change_revision": 0,
    "_is_fork": false,
    "kernelspec": {
      "display_name": "Python 3",
      "language": "python",
      "name": "python3"
    },
    "language_info": {
      "codemirror_mode": {
        "name": "ipython",
        "version": 3
      },
      "file_extension": ".py",
      "mimetype": "text/x-python",
      "name": "python",
      "nbconvert_exporter": "python",
      "pygments_lexer": "ipython3",
      "version": "3.5.2"
    }
  },
  "nbformat": 4,
  "nbformat_minor": 0
}