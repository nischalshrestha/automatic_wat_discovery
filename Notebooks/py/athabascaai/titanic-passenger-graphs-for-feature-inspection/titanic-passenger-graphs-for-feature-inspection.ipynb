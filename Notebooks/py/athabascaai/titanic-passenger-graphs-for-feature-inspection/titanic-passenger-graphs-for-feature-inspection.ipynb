{
  "cells": [
    {
      "cell_type": "markdown",
      "metadata": {
        "_cell_guid": "1425f688-fb37-64ba-ce03-2933639f9a9a"
      },
      "source": [
        "Looking into the data from the Titanic Disaster data set.\n",
        "---------------------------------------------------------"
      ]
    },
    {
      "cell_type": "code",
      "execution_count": null,
      "metadata": {
        "_cell_guid": "8ac274cf-80da-114b-ee3f-6addb5b56e0b"
      },
      "outputs": [],
      "source": [
        "# Author: Jamie de Domenico, March 22, 2017\n",
        "# Graphing of the Titanic Data\n",
        "# This is a exploritory look into the data provided from the \n",
        "# test data of the Titanic training data\n",
        "\n",
        "%matplotlib inline\n",
        "import pandas as pd\n",
        "pd.options.display.max_columns = 100\n",
        "from matplotlib import pyplot as plt\n",
        "import matplotlib\n",
        "matplotlib.style.use('ggplot')\n",
        "import numpy as np\n",
        "from subprocess import check_output\n",
        "\n",
        "pd.options.display.max_rows = 100"
      ]
    },
    {
      "cell_type": "markdown",
      "metadata": {
        "_cell_guid": "3f2fc4cc-b695-9db7-d13d-7c2645f86338"
      },
      "source": [
        "**Read in the training data file**  \n",
        "Simply read in the data files for the training.\n",
        "The training file is a known entity with most of the fields filled in.\n",
        "I say this with trepidation "
      ]
    },
    {
      "cell_type": "code",
      "execution_count": null,
      "metadata": {
        "_cell_guid": "e54d8de8-3c88-20a7-62f5-445421ea6b15"
      },
      "outputs": [],
      "source": [
        "data = pd.read_csv('../input/train.csv')"
      ]
    },
    {
      "cell_type": "markdown",
      "metadata": {
        "_cell_guid": "6ea7a9f6-501e-20d4-3c8b-5cdf51ef1326"
      },
      "source": [
        "**Display the head of the train.csv file, default is 5 rows.**   \n",
        "This will provide us with a look at the column headings and possible features of the data set so that we can predict with a level of confidence if a passenger survived or not.  The first 5 rows also provides us with a glimpse of the data type(s) and this allows us to figure out how to convert this into a use-able type for a machine learning algorithm to use."
      ]
    },
    {
      "cell_type": "code",
      "execution_count": null,
      "metadata": {
        "_cell_guid": "338b4034-d4e2-b538-32f2-733e4c83d265"
      },
      "outputs": [],
      "source": [
        "data.head()"
      ]
    },
    {
      "cell_type": "markdown",
      "metadata": {
        "_cell_guid": "2fb2aea0-3027-956d-8d98-8a8d6c3b4575"
      },
      "source": [
        "**This will provide a description of the data.**   \n",
        "This provides a description of the integer based data so that we can see the \n",
        "distribution from a statistical point of view.  This leaves out the missing values so the description may be skewed.  This is the reason we need to fill the missing data in since we have a picture of the scenario just not a complete picture.  "
      ]
    },
    {
      "cell_type": "code",
      "execution_count": null,
      "metadata": {
        "_cell_guid": "ee818a04-e993-4dac-3eed-2c29c6ce2603"
      },
      "outputs": [],
      "source": [
        "data.describe()"
      ]
    },
    {
      "cell_type": "markdown",
      "metadata": {
        "_cell_guid": "be0b6656-7475-ce8c-a26b-d8a1f5108f86"
      },
      "source": [
        "\n",
        "**Fill in the missing age values with the a median age value.**   \n",
        "Here we are going to fill in the missing ages with a median value.\n",
        "There are many ways to do this, this is just one of the most common methods.\n",
        "If we find that age along with any other features has a high relevancy for predicting the data then we will need to find a better way to fill in the missing values so that they is a better approximation to what a real value would be in the case of the missing data."
      ]
    },
    {
      "cell_type": "code",
      "execution_count": null,
      "metadata": {
        "_cell_guid": "ffa6d7e2-e48f-8640-7df9-61011e048da8"
      },
      "outputs": [],
      "source": [
        "data['Age'].fillna(data['Age'].median(), inplace=True)\n",
        "\n",
        "data.describe()"
      ]
    },
    {
      "cell_type": "markdown",
      "metadata": {
        "_cell_guid": "a281218c-0851-9614-2e9a-a5a18c1c79d5"
      },
      "source": [
        "**Survival by Sex.**  \n",
        "It is easy to see that the men had the highest mortality rate.\n",
        "It is interesting to see that none of the training data had a missing value for sex.\n",
        "If there was a missing value for this we could easily fill in a correct value from a combination of the title and perhaps the first name along with some other attributes.\n",
        "It is interesting to note that the survival by sex indicates that **Males**  Had the highest mortality rate from the training data.  On the same note looking at the survived bar it looks like the dead bar but upside down, where Females had a much higher survival rate.\n",
        "So what does this tell us?\n",
        "Well first and for most is that **Males** had a low chance of survival. This is our first indication of data importance."
      ]
    },
    {
      "cell_type": "code",
      "execution_count": null,
      "metadata": {
        "_cell_guid": "3eaeaad7-2d4c-5dd3-6214-68793fd4a5b6"
      },
      "outputs": [],
      "source": [
        "survived_sex = data[data['Survived']==1]['Sex'].value_counts()\n",
        "dead_sex = data[data['Survived']==0]['Sex'].value_counts()\n",
        "df = pd.DataFrame([survived_sex,dead_sex])\n",
        "df.index = ['Survived','Dead']\n",
        "df.plot(kind='bar',stacked=True, figsize=(10,5), color=['pink','blue'], title='Survival by the Sex')"
      ]
    },
    {
      "cell_type": "markdown",
      "metadata": {
        "_cell_guid": "7ac64362-91aa-205b-9d2d-795fa8609405"
      },
      "source": [
        "**Survival by Age.**  \n",
        "Earlier we filled in the missing data for age with a mean value so that we could provide a first time graph of survival by age.  Seems that anyone between the age of 25 to 35 had the highest mortality.\n",
        "This tells use that age is another important feature that we need to use when predicting the survival rate of a passenger on the Titanic."
      ]
    },
    {
      "cell_type": "code",
      "execution_count": null,
      "metadata": {
        "_cell_guid": "56331fcc-ae37-6ee6-6457-6080626897bf"
      },
      "outputs": [],
      "source": [
        "figure = plt.figure(figsize=(10,5))\n",
        "plt.hist([data[data['Survived']==1]['Age'],data[data['Survived']==0]['Age']], \n",
        "         stacked=True, color = ['g','r'], \n",
        "         bins = 30, label = ['Survived','Dead'])\n",
        "plt.xlabel('Age')\n",
        "plt.ylabel('Number of passengers')\n",
        "plt.legend()\n",
        "plt.title('Survival by Age')"
      ]
    },
    {
      "cell_type": "markdown",
      "metadata": {
        "_cell_guid": "a6aafffc-7c2c-d734-d60c-01d4f2d1bc1c"
      },
      "source": [
        "**Ticket Price:**  \n",
        "Ticket price really relates into class, someone who bought a low priced ticket probably had a cabin in the lower part of the boat and was considered part of the working class. Looking at the graph you can see that the lower the ticket price the higher the mortality or lower the survival."
      ]
    },
    {
      "cell_type": "code",
      "execution_count": null,
      "metadata": {
        "_cell_guid": "abe014ae-d888-7810-0076-bd31ab16f240"
      },
      "outputs": [],
      "source": [
        "\n",
        "data['Fare'].fillna(data['Fare'].median(), inplace=True)\n",
        "figure = plt.figure(figsize=(10,5))\n",
        "plt.hist(\n",
        "            [data[data['Survived']==1]['Fare'],\n",
        "            data[data['Survived']==0]['Fare']], \n",
        "            stacked=True, color = ['g','r'],\n",
        "            bins = 30,\n",
        "            label = ['Survived','Dead']\n",
        "        )\n",
        "plt.xlabel('Fare')\n",
        "plt.ylabel('Number of passengers')\n",
        "plt.legend()\n",
        "plt.title('Survival by Ticket Price')"
      ]
    },
    {
      "cell_type": "markdown",
      "metadata": {
        "_cell_guid": "6fbf5b54-0af2-b4c1-47a6-b8613992cb61"
      },
      "source": [
        "**Scatter diagram with age and as the characteristics for survival**\n",
        "There is some relevance here where we can observe that higher fares tend to have higher survival along with an age that is not between 25 and 30.  see the peak around the 27 year old age with fares coming close to 100.00.  So there is some relationship between age and fare price."
      ]
    },
    {
      "cell_type": "code",
      "execution_count": null,
      "metadata": {
        "_cell_guid": "c5b802d6-f972-a830-f216-196871aac45d"
      },
      "outputs": [],
      "source": [
        "plt.figure(figsize=(10,5))\n",
        "plt.title('Scatter Diagram of Survival By Age & Fare')\n",
        "ax = plt.subplot()\n",
        "ax.scatter(data[data['Survived']==1]['Age'],data[data['Survived']==1]['Fare'],c='green',s=40)\n",
        "ax.scatter(data[data['Survived']==0]['Age'],data[data['Survived']==0]['Fare'],c='red',s=40)\n",
        "ax.set_xlabel('Age')\n",
        "ax.set_ylabel('Fare')\n",
        "ax.legend(('survived','dead'),scatterpoints=1,loc='upper right',fontsize=15,)"
      ]
    },
    {
      "cell_type": "markdown",
      "metadata": {
        "_cell_guid": "64cf448f-9c64-4904-6274-5db9a55c2bfe"
      },
      "source": [
        "**Fare by Class**\n",
        "This bar chart gives us a view of the average cost of each of the 3 class .\n",
        "Pclass 1 is 80.00 plus\n",
        "Pclass 2 is 20.00\n",
        "Pclass 3 is approximately 12.00\n",
        "\n",
        "This tells us that if we have the cost of a ticket per passenger then we can predict with a high level of confidence the class Pclass they are in or the level the cabin is on.  "
      ]
    },
    {
      "cell_type": "code",
      "execution_count": null,
      "metadata": {
        "_cell_guid": "9bb97674-f22c-b9e5-1a66-5f7fe9abfe7c"
      },
      "outputs": [],
      "source": [
        "ax = plt.subplot()\n",
        "ax.set_ylabel('Average fare')\n",
        "data.groupby('Pclass').mean()['Fare'].plot(\n",
        "                                           title = 'Average Fare by Class',\n",
        "                                           kind='bar',\n",
        "                                           figsize=(10,5), \n",
        "                                           ax = ax,\n",
        "                                           x = 'Passanger Class',\n",
        "                                           color=['green', 'yellow', 'blue']\n",
        "                                           )"
      ]
    },
    {
      "cell_type": "markdown",
      "metadata": {
        "_cell_guid": "6aa9c338-76e3-8741-a4ab-ff405208b47b"
      },
      "source": [
        "**Survival by the Class** \n",
        "\n",
        " 1.    **Q** - *First Class is Green*   \n",
        " 2.   **C** - *Second Class is Red*\n",
        " 3.   **S** - *Third Class is Black*\n"
      ]
    },
    {
      "cell_type": "code",
      "execution_count": null,
      "metadata": {
        "_cell_guid": "f559d823-617d-9419-e36e-ff2c7f5fda25"
      },
      "outputs": [],
      "source": [
        "survived_embark = data[data['Survived']==1]['Embarked'].value_counts()\n",
        "dead_embark = data[data['Survived']==0]['Embarked'].value_counts()\n",
        "df = pd.DataFrame([survived_embark,dead_embark])\n",
        "df.index = ['Survived','Dead']\n",
        "df.plot(\n",
        "        kind='bar',stacked=True, \n",
        "        figsize=(10,5), \n",
        "        title = 'Survival By Class',\n",
        "        color=['blue', 'yellow', 'green']\n",
        "       )"
      ]
    },
    {
      "cell_type": "markdown",
      "metadata": {
        "_cell_guid": "2f4f4cc2-38f1-4f2b-8d49-d935e5cf8fa8"
      },
      "source": [
        "**Conclusion**  \n",
        "So we have the data graphed and we can see that there are a number of strong indicators for survival.\n",
        "\n",
        " 1. Sex\n",
        " 2. Pclass\n",
        " 3. Age\n",
        " 4. Ticket price ( but this relates directly to the Pclass)"
      ]
    }
  ],
  "metadata": {
    "_change_revision": 0,
    "_is_fork": false,
    "kernelspec": {
      "display_name": "Python 3",
      "language": "python",
      "name": "python3"
    },
    "language_info": {
      "codemirror_mode": {
        "name": "ipython",
        "version": 3
      },
      "file_extension": ".py",
      "mimetype": "text/x-python",
      "name": "python",
      "nbconvert_exporter": "python",
      "pygments_lexer": "ipython3",
      "version": "3.6.0"
    }
  },
  "nbformat": 4,
  "nbformat_minor": 0
}