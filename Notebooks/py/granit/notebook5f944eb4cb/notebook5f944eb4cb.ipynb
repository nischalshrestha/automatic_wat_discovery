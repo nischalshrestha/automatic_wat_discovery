{
  "cells": [
    {
      "cell_type": "code",
      "execution_count": null,
      "metadata": {
        "_cell_guid": "8a98447c-fcff-2df6-6b61-e120ba685160"
      },
      "outputs": [],
      "source": [
        "# This Python 3 environment comes with many helpful analytics libraries installed\n",
        "# It is defined by the kaggle/python docker image: https://github.com/kaggle/docker-python\n",
        "# For example, here's several helpful packages to load in \n",
        "\n",
        "import numpy as np # linear algebra\n",
        "import pandas as pd # data processing, CSV file I/O (e.g. pd.read_csv)\n",
        "from sklearn import preprocessing\n",
        "import seaborn as sns\n",
        "import matplotlib.pyplot as plt\n",
        "# Input data files are available in the \"../input/\" directory.\n",
        "# For example, running this (by clicking run or pressing Shift+Enter) will list the files in the input directory\n",
        "\n",
        "from subprocess import check_output\n",
        "print(check_output([\"ls\", \"../input\"]).decode(\"utf8\"))\n",
        "\n",
        "\n",
        "# Any results you write to the current directory are saved as output."
      ]
    },
    {
      "cell_type": "code",
      "execution_count": null,
      "metadata": {
        "_cell_guid": "95e4171b-b31a-e6a5-6271-d255b7670ffe"
      },
      "outputs": [],
      "source": [
        "train = pd.read_csv('../input/train.csv')"
      ]
    },
    {
      "cell_type": "code",
      "execution_count": null,
      "metadata": {
        "_cell_guid": "b4f8bfd0-14a5-3fff-f87e-0dd4d44a83a5"
      },
      "outputs": [],
      "source": [
        "train.head()"
      ]
    },
    {
      "cell_type": "code",
      "execution_count": null,
      "metadata": {
        "_cell_guid": "3408ab7f-3b3c-cca8-1989-1666712325b2"
      },
      "outputs": [],
      "source": [
        "test = pd.read_csv('../input/test.csv')"
      ]
    },
    {
      "cell_type": "code",
      "execution_count": null,
      "metadata": {
        "_cell_guid": "0f9fe1d4-8b2d-bec3-2f8a-9381c1b171a4"
      },
      "outputs": [],
      "source": ""
    },
    {
      "cell_type": "code",
      "execution_count": null,
      "metadata": {
        "_cell_guid": "5778685b-79a5-d708-6cd2-f9bcc82dca85"
      },
      "outputs": [],
      "source": [
        "sns.heatmap(train.isnull())"
      ]
    },
    {
      "cell_type": "code",
      "execution_count": null,
      "metadata": {
        "_cell_guid": "cfacf543-7af1-2da3-e4b9-f916715fcf07"
      },
      "outputs": [],
      "source": [
        "sns.countplot(x=\"Survived\", data=train)"
      ]
    },
    {
      "cell_type": "code",
      "execution_count": null,
      "metadata": {
        "_cell_guid": "31b31cb1-101f-9815-f2b7-3cfbef7ea2a9"
      },
      "outputs": [],
      "source": [
        "sns.countplot(x=\"Survived\", data=train, hue=\"Sex\")"
      ]
    },
    {
      "cell_type": "code",
      "execution_count": null,
      "metadata": {
        "_cell_guid": "25cb50c8-aac2-5472-f92a-1c2d34d9f102"
      },
      "outputs": [],
      "source": [
        "sns.countplot(x=\"Survived\", data=train[train.Age < 16], hue=\"Sex\")"
      ]
    },
    {
      "cell_type": "code",
      "execution_count": null,
      "metadata": {
        "_cell_guid": "57f40e70-67f4-ff30-4399-bc08f81c1977"
      },
      "outputs": [],
      "source": [
        "#sns.distplot(train[\"Fare\"], hue=\"Survived\")"
      ]
    },
    {
      "cell_type": "code",
      "execution_count": null,
      "metadata": {
        "_cell_guid": "041124e3-1d39-b463-4b74-880bb3bf4765"
      },
      "outputs": [],
      "source": [
        "sns.distplot(train[\"Age\"].dropna(), bins=40)"
      ]
    },
    {
      "cell_type": "code",
      "execution_count": null,
      "metadata": {
        "_cell_guid": "85441e3d-c777-27b9-556b-c4d211f237be"
      },
      "outputs": [],
      "source": [
        "sns.boxplot(x=\"Pclass\", y = \"Age\", data = train)"
      ]
    },
    {
      "cell_type": "code",
      "execution_count": null,
      "metadata": {
        "_cell_guid": "7c6aaf79-c1a6-c609-5cf4-32a5cbaffc8f"
      },
      "outputs": [],
      "source": [
        "ages = {x:int(train[train.Pclass == x].Age.median()) for x in range(1,4)}"
      ]
    },
    {
      "cell_type": "code",
      "execution_count": null,
      "metadata": {
        "_cell_guid": "db143d90-2e0c-c747-3523-30a352e5729f"
      },
      "outputs": [],
      "source": [
        "train[\"Age\"] = [ages[x] for x in train.Pclass] "
      ]
    },
    {
      "cell_type": "code",
      "execution_count": null,
      "metadata": {
        "_cell_guid": "10900490-6b58-f8e1-24dd-abf330f814fd"
      },
      "outputs": [],
      "source": [
        "test[\"Age\"] = [ages[x] for x in test.Pclass] "
      ]
    },
    {
      "cell_type": "code",
      "execution_count": null,
      "metadata": {
        "_cell_guid": "fb3ebc66-d368-ce1d-652a-6787d688312a"
      },
      "outputs": [],
      "source": [
        "train.drop([\"Cabin\", \"Name\", \"Ticket\"], axis=1, inplace=True)\n",
        "test.drop([\"Cabin\", \"Name\", \"Ticket\"], axis=1, inplace=True)"
      ]
    },
    {
      "cell_type": "code",
      "execution_count": null,
      "metadata": {
        "_cell_guid": "161a0ca3-3fdf-a9de-25b4-388b9a28f187"
      },
      "outputs": [],
      "source": [
        "train = train.dropna()"
      ]
    },
    {
      "cell_type": "code",
      "execution_count": null,
      "metadata": {
        "_cell_guid": "7585ac59-7085-d9fa-7d90-5a46e82ebe17"
      },
      "outputs": [],
      "source": [
        "from sklearn.linear_model import LogisticRegression\n",
        "from sklearn.ensemble import RandomForestClassifier\n",
        "from sklearn.neighbors import KNeighborsClassifier\n",
        "from sklearn.pipeline import Pipeline\n",
        "from sklearn.preprocessing import StandardScaler\n",
        "from sklearn.lda import LDA\n",
        "from xgboost import XGBClassifier\n",
        "from sklearn.decomposition import PCA\n",
        "from sklearn.discriminant_analysis import QuadraticDiscriminantAnalysis\n",
        "from sklearn.naive_bayes import GaussianNB\n",
        "from sklearn import svm\n",
        "from sklearn.neural_network import MLPClassifier"
      ]
    },
    {
      "cell_type": "code",
      "execution_count": null,
      "metadata": {
        "_cell_guid": "7538998f-a7ec-52e4-3b5a-99aaf92bbb54"
      },
      "outputs": [],
      "source": [
        "label_cols = [\"Sex\", \"Embarked\"]"
      ]
    },
    {
      "cell_type": "code",
      "execution_count": null,
      "metadata": {
        "_cell_guid": "adc19f34-35d0-b61c-da30-24a24497d1b3"
      },
      "outputs": [],
      "source": [
        "le = {x: preprocessing.LabelEncoder() for x in label_cols}"
      ]
    },
    {
      "cell_type": "code",
      "execution_count": null,
      "metadata": {
        "_cell_guid": "5e53c758-e6cd-7bdc-72bb-7991e68a1aff"
      },
      "outputs": [],
      "source": [
        "for x in le:\n",
        "    train[x] = le[x].fit_transform(train[x])\n",
        "    test[x] = le[x].transform(test[x])"
      ]
    },
    {
      "cell_type": "code",
      "execution_count": null,
      "metadata": {
        "_cell_guid": "9133eb83-0303-ff85-fc8a-975014bb980b"
      },
      "outputs": [],
      "source": [
        "labels = train.Survived\n",
        "train.drop(\"Survived\", axis = 1, inplace=True)"
      ]
    },
    {
      "cell_type": "code",
      "execution_count": null,
      "metadata": {
        "_cell_guid": "806363c7-a7d7-60a3-8126-444140ab486c"
      },
      "outputs": [],
      "source": [
        "test[\"Fare\"] = test[\"Fare\"].fillna(test[\"Fare\"].median())"
      ]
    },
    {
      "cell_type": "code",
      "execution_count": null,
      "metadata": {
        "_cell_guid": "b11f38eb-cc12-a3b6-3d3b-4d0f8f293d7f"
      },
      "outputs": [],
      "source": ""
    },
    {
      "cell_type": "code",
      "execution_count": null,
      "metadata": {
        "_cell_guid": "184ed7f5-77b9-b7ca-36c8-f7d4beb4ad37"
      },
      "outputs": [],
      "source": [
        "pl = Pipeline([('scale', StandardScaler()), ('lda', LDA()), ('clf', LogisticRegression())])\n",
        "pl = Pipeline([('scale', StandardScaler()), ('lda', PCA(n_components=4)), ('clf', svm.SVC())])\n",
        "#pl = RandomForestClassifier()\n",
        "#pl = XGBClassifier(silent=False)\n",
        "#pl = GaussianNB()\n",
        "#pl = QuadraticDiscriminantAnalysis()ponents\n",
        "\n",
        "pl = svm.SVC()\n",
        "\n",
        "pl = MLPClassifier(hidden_layer_sizes=(30, ), verbose = True, activation= 'tanh', max_iter=100)"
      ]
    },
    {
      "cell_type": "code",
      "execution_count": null,
      "metadata": {
        "_cell_guid": "f7fd6e3e-7e83-05ad-564a-caa9d029a4c7"
      },
      "outputs": [],
      "source": [
        "pl.fit(train, labels)"
      ]
    },
    {
      "cell_type": "code",
      "execution_count": null,
      "metadata": {
        "_cell_guid": "781aecf9-f1e0-ff5a-b726-35c334552bb1"
      },
      "outputs": [],
      "source": [
        "preds = pl.predict(test)"
      ]
    },
    {
      "cell_type": "code",
      "execution_count": null,
      "metadata": {
        "_cell_guid": "05837638-79e6-9b0a-90bd-14b28c7297b2"
      },
      "outputs": [],
      "source": [
        "len(test)"
      ]
    },
    {
      "cell_type": "code",
      "execution_count": null,
      "metadata": {
        "_cell_guid": "1116e77d-2bcd-44e8-ff86-472acf9b949b"
      },
      "outputs": [],
      "source": [
        "len(preds)"
      ]
    },
    {
      "cell_type": "code",
      "execution_count": null,
      "metadata": {
        "_cell_guid": "40336d30-c30c-48a6-d693-9557655edfa2"
      },
      "outputs": [],
      "source": [
        "res = pd.DataFrame(preds, columns = [\"Survived\"], index = test.PassengerId)"
      ]
    },
    {
      "cell_type": "code",
      "execution_count": null,
      "metadata": {
        "_cell_guid": "feb0ab49-ed8e-3d4a-7a18-f0136fccb938"
      },
      "outputs": [],
      "source": [
        "res.to_csv(\"submit.csv\")"
      ]
    },
    {
      "cell_type": "code",
      "execution_count": null,
      "metadata": {
        "_cell_guid": "67f91aa2-7d60-72d9-aae1-80951c4e4a37"
      },
      "outputs": [],
      "source": [
        "train.head()"
      ]
    },
    {
      "cell_type": "code",
      "execution_count": null,
      "metadata": {
        "_cell_guid": "70c38420-3f98-8502-655f-6f94537d3136"
      },
      "outputs": [],
      "source": [
        "lda = LDA(n_components=2)\n",
        "pca = PCA(n_components=2)"
      ]
    },
    {
      "cell_type": "code",
      "execution_count": null,
      "metadata": {
        "_cell_guid": "1fa802ea-173d-d2eb-3dcb-ff39b6f93af8"
      },
      "outputs": [],
      "source": [
        "scaler = StandardScaler()\n",
        "trains = scaler.fit_transform(train)\n",
        "\n",
        "trans = pca.fit_transform(trains, labels)\n",
        "dfp = pd.DataFrame(trans, index = train.index)\n",
        "\n",
        "trans = lda.fit_transform(trains, labels)\n",
        "df = pd.DataFrame(trans, columns = [\"lda\"], index = train.index)"
      ]
    },
    {
      "cell_type": "code",
      "execution_count": null,
      "metadata": {
        "_cell_guid": "f852320c-ff90-fb6b-01a3-0469a08f331c"
      },
      "outputs": [],
      "source": [
        "df[\"labels\"] = labels\n",
        "dfp[\"labels\"] = labels"
      ]
    },
    {
      "cell_type": "code",
      "execution_count": null,
      "metadata": {
        "_cell_guid": "c6384b1d-0b8b-e719-538f-96e6fe1c2f2f"
      },
      "outputs": [],
      "source": [
        "df.plot(kind='scatter', x='lda', y='labels')"
      ]
    },
    {
      "cell_type": "code",
      "execution_count": null,
      "metadata": {
        "_cell_guid": "447d147d-1afa-9be8-7e5a-d81987f4ff9e"
      },
      "outputs": [],
      "source": [
        "dfp.plot(kind='scatter', x='pca1', y='pca2',  c=\"labels\")"
      ]
    },
    {
      "cell_type": "code",
      "execution_count": null,
      "metadata": {
        "_cell_guid": "a2c97a7a-808a-6304-095b-a1ffd25401b8"
      },
      "outputs": [],
      "source": [
        "%matplotlib inline"
      ]
    }
  ],
  "metadata": {
    "_change_revision": 0,
    "_is_fork": false,
    "kernelspec": {
      "display_name": "Python 3",
      "language": "python",
      "name": "python3"
    },
    "language_info": {
      "codemirror_mode": {
        "name": "ipython",
        "version": 3
      },
      "file_extension": ".py",
      "mimetype": "text/x-python",
      "name": "python",
      "nbconvert_exporter": "python",
      "pygments_lexer": "ipython3",
      "version": "3.5.2"
    }
  },
  "nbformat": 4,
  "nbformat_minor": 0
}