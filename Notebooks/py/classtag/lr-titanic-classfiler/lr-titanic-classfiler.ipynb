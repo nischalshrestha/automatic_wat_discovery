{
  "metadata": {
    "kernelspec": {
      "name": "python"
    },
    "language_info": {
      "name": "python",
      "version": "3.5.1"
    }
  },
  "nbformat": 4,
  "nbformat_minor": 0,
  "cells": [
    {
      "cell_type": "markdown",
      "metadata": {
        "_cell_guid": "c822c982-4571-628a-f05a-98d41e83b96f",
        "_active": false
      },
      "source": "# titanic classfiler",
      "execution_count": null,
      "outputs": [],
      "execution_state": "idle"
    },
    {
      "cell_type": "code",
      "execution_count": null,
      "metadata": {
        "_cell_guid": "7cd364b4-8126-3fa3-201d-957320e631c1",
        "_active": false
      },
      "outputs": [],
      "source": "# This Python 3 environment comes with many helpful analytics libraries installed\n# It is defined by the kaggle/python docker image: https://github.com/kaggle/docker-python\n# For example, here's several helpful packages to load in \n\nimport numpy as np # linear algebra\nimport pandas as pd # data processing, CSV file I/O (e.g. pd.read_csv)\n\n# Input data files are available in the \"../input/\" directory.\n# For example, running this (by clicking run or pressing Shift+Enter) will list the files in the input directory\n\nfrom subprocess import check_output\nprint(check_output([\"ls\", \"../input\"]).decode(\"utf8\"))\n\n# Any results you write to the current directory are saved as output.",
      "execution_state": "idle"
    },
    {
      "cell_type": "code",
      "execution_count": null,
      "metadata": {
        "_cell_guid": "3e5daa1e-dcdf-00a3-367c-23e426831a19",
        "_active": false
      },
      "outputs": [],
      "source": "# load data\ntrain_df = pd.read_csv(\"../input/train.csv\",header=0)\ntest_df = pd.read_csv(\"../input/test.csv\",header=0)\ntrain_df.shape,test_df.shape",
      "execution_state": "idle"
    },
    {
      "cell_type": "code",
      "execution_count": null,
      "metadata": {
        "_cell_guid": "20d5dbef-fd47-d3e8-d4c5-df8b84b94650",
        "_active": false
      },
      "outputs": [],
      "source": "# merge train and test\n#合成一个总的data\ntrain_df['source']= 'train'\ntest_df['source'] = 'test'\nraw_data = pd.concat([train_df, test_df],ignore_index=True)\nraw_data.shape",
      "execution_state": "idle"
    },
    {
      "cell_type": "code",
      "execution_count": null,
      "metadata": {
        "_cell_guid": "c882fa17-8cf0-f4e0-c95f-7bda2f19c2f8",
        "_active": false
      },
      "outputs": [],
      "source": "raw_data.head()",
      "execution_state": "idle"
    },
    {
      "cell_type": "code",
      "execution_count": null,
      "metadata": {
        "_cell_guid": "4dcd6b94-d297-c44c-3cdd-461440f3708e",
        "_active": false
      },
      "outputs": [],
      "source": "raw_data.dtypes",
      "execution_state": "idle"
    },
    {
      "cell_type": "code",
      "execution_count": null,
      "metadata": {
        "_cell_guid": "31fa4756-f917-322d-08bc-c0f104c5476c",
        "_active": false
      },
      "outputs": [],
      "source": "# 看看缺失情况\nraw_data.apply(lambda x: sum(x.isnull()))",
      "execution_state": "idle"
    },
    {
      "cell_type": "code",
      "execution_count": null,
      "metadata": {
        "_cell_guid": "392886a8-b2cc-d891-53b3-e985c5d4a08d",
        "_active": false
      },
      "outputs": [],
      "source": "raw_data.info()",
      "execution_state": "idle"
    },
    {
      "cell_type": "markdown",
      "metadata": {
        "_cell_guid": "0c56fbe7-7e76-5f4b-b444-4755c8210961",
        "_active": false
      },
      "source": "- 从上面的分析看出来，年龄字段缺失一小部分，这个等会咱们可以考虑用均值来填充\n*emphasized text*\n- 然后是cabin 船舱字段缺失了非常多。比例可以75%缺失",
      "execution_count": null,
      "outputs": [],
      "execution_state": "idle"
    },
    {
      "cell_type": "code",
      "execution_count": null,
      "metadata": {
        "_cell_guid": "438bedc0-87ad-c0b2-4d80-60c94031f447",
        "_active": false
      },
      "outputs": [],
      "source": "# 接下来我们就逐个feature开始分析\n# 先简单做个交叉分析吧\nraw_data.columns",
      "execution_state": "idle"
    },
    {
      "cell_type": "markdown",
      "metadata": {
        "_cell_guid": "f09dbfae-3bce-00d8-0ebc-07c8c2474358",
        "_active": false
      },
      "source": "**<font color=red>我们看大概有以下这些字段</font>**<br>\nPassengerId => 乘客ID<br>\nPclass => 乘客等级(1/2/3等舱位)<br>\nName => 乘客姓名<br>\nSex => 性别<br>\nAge => 年龄<br>\nSibSp => 堂兄弟/妹个数<br>\nParch => 父母与小孩个数<br>\nTicket => 船票信息<br>\nFare => 票价<br>\nCabin => 客舱<br>\nEmbarked => 登船港口",
      "execution_count": null,
      "outputs": [],
      "execution_state": "idle"
    },
    {
      "cell_type": "code",
      "execution_count": null,
      "metadata": {
        "_cell_guid": "ef1b9f05-5788-c2c8-da05-ff9ae1143bc8",
        "_active": false
      },
      "outputs": [],
      "source": "# 看下整体分布\nraw_data.describe()",
      "execution_state": "idle"
    },
    {
      "cell_type": "markdown",
      "metadata": {
        "_cell_guid": "8417ea04-29ba-ef36-33de-6c79c9312c32",
        "_active": false
      },
      "source": "- 后验的概率是 mean （survived） = 0.383838，也就是说平均有 38%的人是获救的\n- 另外年龄平均29~30岁；\n- 明显发现做2等船的人多啊；\n- 基本上两个人中就有0.5的概率是亲人关系\n- 平均每个人有0.3个小孩老人\n- 票价集中在31.但是最高票价是512 所以有钱真就是有钱，贫富差距还是挺大的\n",
      "execution_count": null,
      "outputs": [],
      "execution_state": "idle"
    },
    {
      "cell_type": "code",
      "execution_count": null,
      "metadata": {
        "_cell_guid": "dc4ef97f-d84a-2d55-2cfb-492005e26c6a",
        "_active": false
      },
      "outputs": [],
      "source": "# 看看每个/多个 属性和最后的Survived之间有着什么样的关系\nimport matplotlib.pyplot as plt\n\nfig = plt.figure(num=None, figsize=(9, 9), dpi=70, facecolor='w', edgecolor='k')\nfig.set(alpha=0.3)  # 设定图表颜色alpha参数\n\nplt.subplot2grid((2,3),(0,0))             # 在一张大图里分列几个小图\nraw_data.Survived.value_counts().plot(kind='bar')# plots a bar graph of those who surived vs those who did not. \nplt.title(u\"survived\") # puts a title on our graph\nplt.ylabel(u\"num.\")  \n\nplt.subplot2grid((2,3),(0,1))\nraw_data.Pclass.value_counts().plot(kind=\"bar\")\nplt.ylabel(u\"num.\")\nplt.title(u\"Pclass\")\n\nplt.subplot2grid((2,3),(0,2))\nplt.scatter(raw_data.Survived, raw_data.Age)\nplt.ylabel(u\"Age\")                         # sets the y axis lable\nplt.grid(b=True, which='major', axis='y') # formats the grid line style of our graphs\nplt.title(u\"age and suvived\")\n\n\nplt.subplot2grid((2,3),(1,0), colspan=2)\nraw_data.Age[raw_data.Pclass == 1].plot(kind='kde')   # plots a kernel desnsity estimate of the subset of the 1st class passanges's age\nraw_data.Age[raw_data.Pclass == 2].plot(kind='kde')\nraw_data.Age[raw_data.Pclass == 3].plot(kind='kde')\nplt.xlabel(u\"Age\")# plots an axis lable\nplt.ylabel(u\"\") \nplt.title(u\"Pclass & Age\")\nplt.legend((u'1P', u'2P',u'3P'),loc='best') # sets our legend for our graph.\n\n\nplt.subplot2grid((2,3),(1,2))\nraw_data.Embarked.value_counts().plot(kind='bar')\nplt.title(u\"Embarked\")\nplt.ylabel(u\"num.\")\nplt.show()",
      "execution_state": "idle"
    },
    {
      "cell_type": "code",
      "execution_count": null,
      "metadata": {
        "_cell_guid": "a1aa276e-3fa0-b01b-f68c-45c798a84782",
        "_active": false
      },
      "outputs": [],
      "source": "#看看各乘客等级的获救情况\nfig = plt.figure()\nfig.set(alpha=0.2)  # 设定图表颜色alpha参数\n\nSurvived_0 = raw_data.Pclass[raw_data.Survived == 0].value_counts()\nSurvived_1 = raw_data.Pclass[raw_data.Survived == 1].value_counts()\ndf=pd.DataFrame({u'Survived':Survived_1, u'Not Survived':Survived_0})\ndf.plot(kind='bar', stacked=True)\nplt.title(u\"Pclass-Survived\")\nplt.xlabel(u\"Pclass\") \nplt.ylabel(u\"num.\") \n\nplt.show()",
      "execution_state": "idle"
    },
    {
      "cell_type": "markdown",
      "metadata": {
        "_cell_guid": "4269f661-e995-07b2-ba34-e370db6a5204",
        "_active": false
      },
      "source": "级别越高越容易获救啊。看来金钱还是可以觉得命运的",
      "execution_count": null,
      "outputs": [],
      "execution_state": "idle"
    },
    {
      "cell_type": "code",
      "execution_count": null,
      "metadata": {
        "_cell_guid": "18b0163f-996d-c0d2-da63-b51645fb29aa",
        "_active": false
      },
      "outputs": [],
      "source": "#看看各登录港口的获救情况\nfig = plt.figure()\nfig.set(alpha=0.2)  # 设定图表颜色alpha参数\n\nSurvived_0 = raw_data.Embarked[raw_data.Survived == 0].value_counts()\nSurvived_1 = raw_data.Embarked[raw_data.Survived == 1].value_counts()\ndf=pd.DataFrame({u'Survived_1':Survived_1, u'Survived_0':Survived_0})\ndf.plot(kind='bar', stacked=True)\nplt.title(u\"Embarked-Survived\")\nplt.xlabel(u\"Embarked\") \nplt.ylabel(u\"Num.\") \n\nplt.show()",
      "execution_state": "idle"
    },
    {
      "cell_type": "markdown",
      "metadata": {
        "_cell_guid": "184e8f4e-35dd-3858-7683-4c9145b44e7b",
        "_active": false
      },
      "source": "C港口登录的人获救几率这么大。奖金55%了",
      "execution_count": null,
      "outputs": [],
      "execution_state": "idle"
    },
    {
      "cell_type": "code",
      "execution_count": null,
      "metadata": {
        "_cell_guid": "817db7eb-5227-c87e-779e-9bbb485a412f",
        "_active": false
      },
      "outputs": [],
      "source": "#看看各性别的获救情况\nfig = plt.figure()\nfig.set(alpha=0.2)  # 设定图表颜色alpha参数\n\nSurvived_m = raw_data.Survived[raw_data.Sex == 'male'].value_counts()\nSurvived_f = raw_data.Survived[raw_data.Sex == 'female'].value_counts()\ndf=pd.DataFrame({u'male':Survived_m, u'female':Survived_f})\ndf.plot(kind='bar', stacked=True)\nplt.title(u\"Sex-Survived\")\nplt.xlabel(u\"Sex\") \nplt.ylabel(u\"Num.\")\nplt.show()",
      "execution_state": "idle"
    },
    {
      "cell_type": "markdown",
      "metadata": {
        "_cell_guid": "bb108767-b153-66a5-ed82-a3533d08a86f",
        "_active": false
      },
      "source": "女性获救的几率很大。看来男人保护女人在生命的最后关头同样如此",
      "execution_count": null,
      "outputs": [],
      "execution_state": "idle"
    },
    {
      "cell_type": "code",
      "execution_count": null,
      "metadata": {
        "_cell_guid": "99fbc6f5-6af9-f1ee-8312-4713016ce3c9",
        "_active": false
      },
      "outputs": [],
      "source": "#然后我们再来看看各种舱级别情况下各性别的获救情况\nfig = plt.figure(num=None, figsize=(9, 9), dpi=70, facecolor='w', edgecolor='k')\nfig.set(alpha=0.65) # 设置图像透明度，无所谓\nplt.title(u\"Pclass-Sex-Survived\")\n\nax1=fig.add_subplot(141)\nraw_data.Survived[raw_data.Sex == 'female'][raw_data.Pclass != 3].value_counts().plot(kind='bar', label=\"female highclass\", color='#FA2479')\nax1.set_xticklabels([u\"YES\", u\"NO\"], rotation=0)\nax1.legend([u\"female/Pclass1-2\"], loc='best')\n\nax2=fig.add_subplot(142, sharey=ax1)\nraw_data.Survived[raw_data.Sex == 'female'][raw_data.Pclass == 3].value_counts().plot(kind='bar', label='female, low class', color='pink')\nax2.set_xticklabels([u\"Yes\", u\"No\"], rotation=0)\nplt.legend([u\"female/Pclass3\"], loc='best')\n\nax3=fig.add_subplot(143, sharey=ax1)\nraw_data.Survived[raw_data.Sex == 'male'][raw_data.Pclass != 3].value_counts().plot(kind='bar', label='male, high class',color='lightblue')\nax3.set_xticklabels([u\"YES\", u\"NO\"], rotation=0)\nplt.legend([u\"male/Pclass1-2\"], loc='best')\n\nax4=fig.add_subplot(144, sharey=ax1)\nraw_data.Survived[raw_data.Sex == 'male'][raw_data.Pclass == 3].value_counts().plot(kind='bar', label='male low class', color='steelblue')\nax4.set_xticklabels([u\"Yes\", u\"No\"], rotation=0)\nplt.legend([u\"male/Pclass3\"], loc='best')\n\nplt.show()",
      "execution_state": "idle"
    },
    {
      "cell_type": "code",
      "execution_count": null,
      "metadata": {
        "_cell_guid": "53fb29be-888c-cf2f-734e-6b0ddebab947",
        "_active": false
      },
      "outputs": [],
      "source": "g = raw_data.groupby(['SibSp','Survived'])\ndf = pd.DataFrame(g.count()['PassengerId'])\ndf",
      "execution_state": "idle"
    },
    {
      "cell_type": "code",
      "execution_count": null,
      "metadata": {
        "_cell_guid": "e763c814-c649-8400-93bd-9347d0690fdd",
        "_active": false
      },
      "outputs": [],
      "source": "g = raw_data.groupby(['Parch','Survived'])\ndf = pd.DataFrame(g.count()['PassengerId'])\ndf",
      "execution_state": "idle"
    },
    {
      "cell_type": "code",
      "execution_count": null,
      "metadata": {
        "_cell_guid": "658b525e-acfb-cde6-daea-64e76ce12547",
        "_active": false
      },
      "outputs": [],
      "source": "#ticket是船票编号，应该是unique的，和最后的结果没有太大的关系，不纳入考虑的特征范畴\n#cabin只有204个乘客有值，我们先看看它的一个分布\nraw_data.Cabin.value_counts()",
      "execution_state": "idle"
    },
    {
      "cell_type": "code",
      "execution_count": null,
      "metadata": {
        "_cell_guid": "492ea41f-b937-800d-ffac-3efb298f27e3",
        "_active": false
      },
      "outputs": [],
      "source": "#cabin的值计数太分散了，绝大多数Cabin值只出现一次。感觉上作为类目，加入特征未必会有效\n#那我们一起看看这个值的有无，对于survival的分布状况，影响如何吧\nfig = plt.figure()\nfig.set(alpha=0.2)  # 设定图表颜色alpha参数\n\nSurvived_cabin = raw_data.Survived[pd.notnull(raw_data.Cabin)].value_counts()\nSurvived_nocabin = raw_data.Survived[pd.isnull(raw_data.Cabin)].value_counts()\ndf=pd.DataFrame({u'YES':Survived_cabin, u'NO':Survived_nocabin}).transpose()\ndf.plot(kind='bar', stacked=True)\nplt.title(u\"Has_Cabin-Survived\")\nplt.xlabel(u\"Has_Cabin\") \nplt.ylabel(u\"Num.\")\nplt.show()\n\n#似乎有cabin记录的乘客survival比例稍高，那先试试把这个值分为两类，有cabin值/无cabin值，一会儿加到类别特征好了",
      "execution_state": "idle"
    },
    {
      "cell_type": "code",
      "execution_count": null,
      "metadata": {
        "_cell_guid": "4600b637-5e45-93d1-8366-0729b08e3453",
        "_active": false
      },
      "outputs": [],
      "source": "# 补充一个票价的缺失值\nraw_data.Fare = raw_data.Fare.fillna(raw_data['Fare'].mean())",
      "execution_state": "idle"
    },
    {
      "cell_type": "code",
      "execution_count": null,
      "metadata": {
        "_cell_guid": "85a14279-575c-a0ef-5566-a6884a5fd0bb",
        "_active": false
      },
      "outputs": [],
      "source": "age_df = raw_data[['Age','Fare', 'Parch', 'SibSp', 'Pclass']]\n# age_df.Fare = age_df.Fare.fillna(age_df['Fare'].mean())\n# 乘客分成已知年龄和未知年龄两部分\nknown_age = age_df[age_df.Age.notnull()]\nunknown_age = age_df[age_df.Age.isnull()]\n\n# y即目标年龄\ny = known_age['Age']\n# X即特征属性值\nX = known_age[['Fare', 'Parch', 'SibSp', 'Pclass']]\n\nfrom sklearn.ensemble import RandomForestRegressor\nrfr = RandomForestRegressor(random_state=0, n_estimators=2000, n_jobs=-1)\nrfr.fit(X, y)\n\n# 用得到的模型进行未知年龄结果预测\npredictedAges = rfr.predict(unknown_age[['Fare', 'Parch', 'SibSp', 'Pclass']])",
      "execution_state": "idle"
    },
    {
      "cell_type": "code",
      "execution_count": null,
      "metadata": {
        "_cell_guid": "4c3cd33c-d573-017d-768f-5c1e7e7f88bf",
        "_active": false
      },
      "outputs": [],
      "source": "from sklearn.ensemble import RandomForestRegressor\n### 使用 RandomForestClassifier 填补缺失的年龄属性\ndef set_missing_ages(df):\n    \n    # 把已有的数值型特征取出来丢进Random Forest Regressor中\n    age_df = df[['Age','Fare', 'Parch', 'SibSp', 'Pclass']]\n    \n    # 乘客分成已知年龄和未知年龄两部分\n    known_age = age_df[age_df.Age.notnull()]\n    unknown_age = age_df[age_df.Age.isnull()]\n    \n    # y即目标年龄\n    y = known_age['Age']\n    # X即特征属性值\n    X = known_age[['Fare', 'Parch', 'SibSp', 'Pclass']]\n    \n    # fit到RandomForestRegressor之中\n    rfr = RandomForestRegressor(random_state=0, n_estimators=2000, n_jobs=-1)\n    rfr.fit(X, y)\n    \n    # 用得到的模型进行未知年龄结果预测\n    predictedAges = rfr.predict(unknown_age[['Fare', 'Parch', 'SibSp', 'Pclass']])\n    \n    # 用得到的预测结果填补原缺失数据\n    df.loc[ (df.Age.isnull()), 'Age' ] = predictedAges\n    \n    return df, rfr\n\ndef set_Cabin_type(df):\n    df.loc[ (df.Cabin.notnull()), 'Cabin' ] = \"Yes\"\n    df.loc[ (df.Cabin.isnull()), 'Cabin' ] = \"No\"\n    return df\n\n\nraw_data, rfr = set_missing_ages(raw_data)\nraw_data = set_Cabin_type(raw_data)\nraw_data.head()",
      "execution_state": "idle"
    },
    {
      "cell_type": "code",
      "execution_count": null,
      "metadata": {
        "_cell_guid": "f31491e9-70ad-26d4-ac86-6230f294a27a",
        "_active": false
      },
      "outputs": [],
      "source": "raw_data.info()",
      "execution_state": "idle"
    },
    {
      "cell_type": "markdown",
      "metadata": {
        "_cell_guid": "fc3e79c3-d961-7b19-8c99-02e21b84fc8a",
        "_active": false
      },
      "source": "<font color=red>因为逻辑回归建模时，需要输入的特征都是数值型特征，我们通常会先对类目型的特征因子化/one-hot编码。 <font><br>\n<font color=red>什么叫做因子化/one-hot编码？举个例子：<font><br>\n\n<font color=red>以Embarked为例，原本一个属性维度，因为其取值可以是[‘S’,’C’,’Q‘]，而将其平展开为’Embarked_C’,’Embarked_S’, ‘Embarked_Q’三个属性<font><br>\n\n* <font color=red>原本Embarked取值为S的，在此处的”Embarked_S”下取值为1，在’Embarked_C’, ‘Embarked_Q’下取值为0<font><br>\n* <font color=red>原本Embarked取值为C的，在此处的”Embarked_C”下取值为1，在’Embarked_S’, ‘Embarked_Q’下取值为0<font><br>\n* <font color=red>原本Embarked取值为Q的，在此处的”Embarked_Q”下取值为1，在’Embarked_C’, ‘Embarked_S’下取值为0<font><br>\n\n<font color=red>我们使用pandas的”get_dummies”来完成这个工作，并拼接在原来的”data_train”之上，如下所示。<font><br>",
      "execution_count": null,
      "outputs": [],
      "execution_state": "idle"
    },
    {
      "cell_type": "code",
      "execution_count": null,
      "metadata": {
        "_cell_guid": "23121893-5adc-4c84-d931-a6d8a82696d9",
        "_active": false
      },
      "outputs": [],
      "source": "# 因为逻辑回归建模时，需要输入的特征都是数值型特征\n# 我们先对类目型的特征离散/因子化\n# 以Cabin为例，原本一个属性维度，因为其取值可以是['yes','no']，而将其平展开为'Cabin_yes','Cabin_no'两个属性\n# 原本Cabin取值为yes的，在此处的'Cabin_yes'下取值为1，在'Cabin_no'下取值为0\n# 原本Cabin取值为no的，在此处的'Cabin_yes'下取值为0，在'Cabin_no'下取值为1\n# 我们使用pandas的get_dummies来完成这个工作，并拼接在原来的data_train之上，如下所示\ndummies_Cabin = pd.get_dummies(raw_data['Cabin'], prefix= 'Cabin')\ndummies_Embarked = pd.get_dummies(raw_data['Embarked'], prefix= 'Embarked')\ndummies_Sex = pd.get_dummies(raw_data['Sex'], prefix= 'Sex')\ndummies_Pclass = pd.get_dummies(raw_data['Pclass'], prefix= 'Pclass')\ndf = pd.concat([raw_data, dummies_Cabin, dummies_Embarked, dummies_Sex, dummies_Pclass], axis=1)\ndf.drop(['Pclass', 'Name', 'Sex', 'Ticket', 'Cabin', 'Embarked'], axis=1, inplace=True)\ndf.head()",
      "execution_state": "idle"
    },
    {
      "cell_type": "code",
      "execution_count": null,
      "metadata": {
        "_cell_guid": "816b6b72-390b-936d-b2e9-a465c3cb35c2",
        "_active": false
      },
      "outputs": [],
      "source": "# 接下来我们要接着做一些数据预处理的工作，比如scaling，将一些变化幅度较大的特征化到[-1,1]之内\n# 这样可以加速logistic regression的收敛\n\ndf.Age.reshape(-1,1)\ndf.Fare.reshape(-1,1)\n#age_scale_param = scaler.fit(df['Age'])\n#df['Age_scaled'] = scaler.fit_transform(df['Age'], age_scale_param)\n#fare_scale_param = scaler.fit(df['Fare'])\n#df['Fare_scaled'] = scaler.fit_transform(df['Fare'], fare_scale_param)\ndf.head()",
      "execution_state": "idle"
    },
    {
      "cell_type": "code",
      "execution_count": null,
      "metadata": {
        "_cell_guid": "204d717a-079a-7437-8f00-1be5ec84db53",
        "_active": false
      },
      "outputs": [],
      "source": "df.describe()",
      "execution_state": "idle"
    },
    {
      "cell_type": "code",
      "execution_count": null,
      "metadata": {
        "_cell_guid": "a6ec452e-b0e3-0c76-9de0-c4dd0bce2ba5",
        "_active": false
      },
      "outputs": [],
      "source": "#df.loc[ (df.source == 1), 'source' ] = \"train\"\n#df.loc[ (df.source == 0), 'source' ] = \"test\"\ntrain_df = df[df.source == 'train']\ntest_df = df[df.source == 'test']\ntrain_df.drop([\"source\"],axis=1,inplace=True)\ntest_df.drop([\"source\"],axis=1,inplace=True)\ntrain_df.head()",
      "execution_state": "idle"
    },
    {
      "cell_type": "code",
      "execution_count": null,
      "metadata": {
        "_cell_guid": "8a5d540d-f556-7cfa-054f-ef2d8fc1b8ce",
        "_active": false
      },
      "outputs": [],
      "source": "# 我们把需要的feature字段取出来，转成numpy格式，使用scikit-learn中的LogisticRegression建模\nfrom sklearn import linear_model\n\ntrain_data = train_df.filter(regex='Survived|Age|SibSp|Parch|Fare_.*|Cabin_.*|Embarked_.*|Sex_.*|Pclass_.*')\n\n# y即Survival结果\ntrain_y = train_df.filter(regex='Survived')\n\n# X即特征属性值\ntrain_X = train_df.filter(regex='Age|SibSp|Parch|Fare_.*|Cabin_.*|Embarked_.*|Sex_.*|Pclass_.*')\n\n#train_X.head(10)\n# fit到RandomForestRegressor之中\nclf = linear_model.LogisticRegression(C=1.0, penalty='l1', tol=1e-6)\nclf.fit(train_X, train_y)\n\nclf",
      "execution_state": "idle"
    },
    {
      "cell_type": "code",
      "execution_count": null,
      "metadata": {
        "_cell_guid": "255dcc76-e30d-6fc6-c440-00aef3791984",
        "_active": false
      },
      "outputs": [],
      "source": "test_X = test_df.filter(regex='Age|SibSp|Parch|Fare_.*|Cabin_.*|Embarked_.*|Sex_.*|Pclass_.*').as_matrix()\ntest_df.head()\npredictions = clf.predict(test_X)\n\nresult = pd.DataFrame({'PassengerId':test_df['PassengerId'].as_matrix(), 'Survived':predictions.astype(np.int32)})\nresult.to_csv(\"logistic_regression_predictions.csv\", index=False)",
      "execution_state": "idle"
    },
    {
      "cell_type": "code",
      "execution_count": null,
      "metadata": {
        "_cell_guid": "bc9cb8cf-f5b2-cb41-0f4d-e953120358c0",
        "_active": false
      },
      "outputs": [],
      "source": "pd.read_csv(\"logistic_regression_predictions.csv\").head()",
      "execution_state": "idle"
    },
    {
      "cell_type": "markdown",
      "execution_count": null,
      "metadata": {
        "_cell_guid": "65b8f9d9-e725-4da6-336e-643b99dc2f7c",
        "_active": false,
        "collapsed": false
      },
      "outputs": [],
      "source": "\n\n# 要判定一下当前模型所处状态(欠拟合or过拟合)\nimport numpy as np\nimport matplotlib.pyplot as plt\nfrom sklearn.learning_curve import learning_curve\n\n# 用sklearn的learning_curve得到training_score和cv_score，使用matplotlib画出learning curve\ndef plot_learning_curve(estimator, title, X, y, ylim=None, cv=None, n_jobs=1, \n                        train_sizes=np.linspace(.05, 1., 20), verbose=0, plot=True):\n    \"\"\"\n    画出data在某模型上的learning curve.\n    参数解释\n    ----------\n    estimator : 你用的分类器。\n    title : 表格的标题。\n    X : 输入的feature，numpy类型\n    y : 输入的target vector\n    ylim : tuple格式的(ymin, ymax), 设定图像中纵坐标的最低点和最高点\n    cv : 做cross-validation的时候，数据分成的份数，其中一份作为cv集，其余n-1份作为training(默认为3份)\n    n_jobs : 并行的的任务数(默认1)\n    \"\"\"\n    train_sizes, train_scores, test_scores = learning_curve(estimator, \n                                                            X, \n                                                            y, \n                                                            cv=cv, \n                                                            n_jobs=n_jobs, \n                                                            train_sizes=train_sizes, \n                                                            verbose=verbose)\n    \n    train_scores_mean = np.mean(train_scores, axis=1)\n    train_scores_std = np.std(train_scores, axis=1)\n    test_scores_mean = np.mean(test_scores, axis=1)\n    test_scores_std = np.std(test_scores, axis=1)\n    \n    if plot:\n        plt.figure()\n        plt.title(title)\n        if ylim is not None:\n            plt.ylim(*ylim)\n        plt.xlabel(u\"train_sample_nums\")\n        plt.ylabel(u\"score\")\n        plt.gca().invert_yaxis()\n        plt.grid()\n    \n        plt.fill_between(train_sizes, \n                         train_scores_mean - train_scores_std, \n                         train_scores_mean + train_scores_std,\n                         alpha=0.1, \n                         color=\"b\")\n        plt.fill_between(train_sizes, \n                         test_scores_mean - test_scores_std, \n                         test_scores_mean + test_scores_std,\n                         alpha=0.1, \n                         color=\"r\")\n        plt.plot(train_sizes, train_scores_mean, 'o-', color=\"b\", label=u\"train_score\")\n        plt.plot(train_sizes, test_scores_mean, 'o-', color=\"r\", label=u\"kfold_score\")\n    \n        plt.legend(loc=\"best\")\n        \n        plt.draw()\n        plt.gca().invert_yaxis()\n        plt.show()\n    \n    midpoint = ((train_scores_mean[-1] + train_scores_std[-1]) + (test_scores_mean[-1] - test_scores_std[-1])) / 2\n    diff = (train_scores_mean[-1] + train_scores_std[-1]) - (test_scores_mean[-1] - test_scores_std[-1])\n    return midpoint, diff\n\nplot_learning_curve(clf, u\"learning curve\", train_X.as_matrix, train_y)\n",
      "execution_state": "idle"
    },
    {
      "cell_type": "code",
      "execution_count": null,
      "metadata": {
        "_cell_guid": "8dbec80c-8028-d4a4-6c44-a5e6ffe0411e",
        "_active": true
      },
      "outputs": [],
      "source": null,
      "execution_state": "idle"
    }
  ]
}