{
  "cells": [
    {
      "cell_type": "markdown",
      "metadata": {
        "_cell_guid": "282a08da-838a-f847-6d20-5d345dbbc9b7"
      },
      "source": [
        "Prelude , A Datasaster for Newbie\n",
        "\n",
        "The sinking of the RMS Titanic is one of the most infamous shipwrecks in history.  On April 15, 1912, during her maiden voyage, the Titanic sank after colliding with an iceberg, killing 1502 out of 2224 passengers and crew. This sensational tragedy shocked the international community and led to better safety regulations for ships.\n",
        "\n",
        "One of the reasons that the shipwreck led to such loss of life was that there were not enough lifeboats for the passengers and crew. Although there was some element of luck involved in surviving the sinking, some groups of people were more likely to survive than others, such as women, children, and the upper-class.\n",
        "\n",
        "In this case, I try to generate the analysis of what sorts of people were likely to survive. In particular, to apply the tools of machine learning to predict which passengers survived the tragedy."
      ]
    },
    {
      "cell_type": "code",
      "execution_count": null,
      "metadata": {
        "_cell_guid": "24ffe4b0-f76c-9691-db2a-e6d223cf265b"
      },
      "outputs": [],
      "source": [
        "import numpy as np # linear algebra\n",
        "import pandas as pd # data processing, CSV file I/O (e.g. pd.read_csv)\n",
        "import random as rd\n",
        "import datetime, pytz\n",
        "import io\n",
        "import requests\n",
        "\n",
        "import seaborn as sb\n",
        "import matplotlib as mpl\n",
        "\n",
        "import sklearn"
      ]
    },
    {
      "cell_type": "markdown",
      "metadata": {
        "_cell_guid": "fd9fd73c-a452-ec6b-79de-ba3d7792d9d5"
      },
      "source": [
        "Data Collection"
      ]
    },
    {
      "cell_type": "code",
      "execution_count": null,
      "metadata": {
        "_cell_guid": "de797b95-2e72-19b0-dc5a-86535856b923"
      },
      "outputs": [],
      "source": [
        "train = pd.read_csv('../input/train.csv')\n",
        "test = pd.read_csv('../input/test.csv')"
      ]
    },
    {
      "cell_type": "code",
      "execution_count": null,
      "metadata": {
        "_cell_guid": "bb6a31ec-82b1-affc-e625-823d46027660"
      },
      "outputs": [],
      "source": [
        "print(train.columns.values)"
      ]
    },
    {
      "cell_type": "code",
      "execution_count": null,
      "metadata": {
        "_cell_guid": "e3028f25-2cc7-54d2-548b-b20d2c2c0f0b"
      },
      "outputs": [],
      "source": [
        "print(test.columns.values)"
      ]
    },
    {
      "cell_type": "code",
      "execution_count": null,
      "metadata": {
        "_cell_guid": "d5dd489f-a31a-af81-d32a-57ca51f2b1e9"
      },
      "outputs": [],
      "source": [
        "# preview training data\n",
        "train.head()"
      ]
    },
    {
      "cell_type": "code",
      "execution_count": null,
      "metadata": {
        "_cell_guid": "8f9e1591-4852-ac4a-24cc-1312f5061b0f"
      },
      "outputs": [],
      "source": [
        "# preview test data\n",
        "test.head()"
      ]
    },
    {
      "cell_type": "markdown",
      "metadata": {
        "_cell_guid": "41515a0e-519d-b498-25d1-cc85efea2f2c"
      },
      "source": [
        "Survived passengers (%) by gender"
      ]
    },
    {
      "cell_type": "code",
      "execution_count": null,
      "metadata": {
        "_cell_guid": "17e34487-f36e-af0c-5025-3b6648f72685"
      },
      "outputs": [],
      "source": [
        "train[[\"Sex\", \"Survived\"]].groupby(['Sex'], as_index=False).mean().sort_values(by='Survived', ascending=False)"
      ]
    },
    {
      "cell_type": "markdown",
      "metadata": {
        "_cell_guid": "6fc0d289-e2db-cbd1-bf22-7dd0cf1f16cc"
      },
      "source": [
        "Survived passengers (%) by ticket class"
      ]
    },
    {
      "cell_type": "code",
      "execution_count": null,
      "metadata": {
        "_cell_guid": "8a4355fc-bf3e-3a46-a19e-cae29f197515"
      },
      "outputs": [],
      "source": [
        "train[['Pclass', 'Survived']].groupby(['Pclass'], as_index=False).mean().sort_values(by='Survived', ascending=False)"
      ]
    },
    {
      "cell_type": "markdown",
      "metadata": {
        "_cell_guid": "8c7938d5-65ce-5ca2-60e8-ef0e48ddd634"
      },
      "source": [
        "Survived passengers (%) by number of siblings/spouses"
      ]
    },
    {
      "cell_type": "code",
      "execution_count": null,
      "metadata": {
        "_cell_guid": "52a66b72-705f-f48e-c269-c8a30e9c3ebc"
      },
      "outputs": [],
      "source": [
        "train[['SibSp', 'Survived']].groupby(['SibSp'], as_index=False).mean().sort_values(by='Survived', ascending=False)"
      ]
    },
    {
      "cell_type": "markdown",
      "metadata": {
        "_cell_guid": "c914719f-1ae7-8ed8-9431-d762f3f2931d"
      },
      "source": [
        "Survived passengers (%) by number of parents/children"
      ]
    },
    {
      "cell_type": "code",
      "execution_count": null,
      "metadata": {
        "_cell_guid": "2627cef9-4d54-ede7-7b73-2be8a39b5731"
      },
      "outputs": [],
      "source": [
        "train[['Parch', 'Survived']].groupby(['Parch'], as_index=False).mean().sort_values(by='Survived', ascending=False)"
      ]
    },
    {
      "cell_type": "markdown",
      "metadata": {
        "_cell_guid": "621a2669-5e31-f7cb-3fd7-c4365c40be21"
      },
      "source": [
        "Survived passengers (%) by combination of parents/children and siblings/spouses"
      ]
    },
    {
      "cell_type": "code",
      "execution_count": null,
      "metadata": {
        "_cell_guid": "fe22479c-7812-6e34-2e3f-646c71151649"
      },
      "outputs": [],
      "source": [
        "train[['SibSp','Parch', 'Survived']].groupby(['Parch','SibSp'], as_index=False).mean().sort_values(by='Survived', ascending=False)"
      ]
    },
    {
      "cell_type": "markdown",
      "metadata": {
        "_cell_guid": "d436caca-d229-c5e4-66e8-6b3e6bc48f4f"
      },
      "source": [
        "Survived passengers (%) by port of embarkation\n",
        "\n",
        "(C = Cherbourg, Q = Queenstown, S = Southampton)"
      ]
    },
    {
      "cell_type": "code",
      "execution_count": null,
      "metadata": {
        "_cell_guid": "163096b1-0315-2dc4-9e39-4c2f3f04ba30"
      },
      "outputs": [],
      "source": [
        "train[['Embarked', 'Survived']].groupby(['Embarked'], as_index=False).mean().sort_values(by='Survived', ascending=False)"
      ]
    },
    {
      "cell_type": "markdown",
      "metadata": {
        "_cell_guid": "3c835bfc-ecea-aa46-e9eb-7d49104f597a"
      },
      "source": [
        "Survived passengers (%) by age"
      ]
    },
    {
      "cell_type": "code",
      "execution_count": null,
      "metadata": {
        "_cell_guid": "78827bd9-af0d-ab95-7343-7d4b43fd0355"
      },
      "outputs": [],
      "source": [
        "train['Age'].describe()"
      ]
    },
    {
      "cell_type": "code",
      "execution_count": null,
      "metadata": {
        "_cell_guid": "c50a9e00-9598-9574-4b48-4d0513d200b2"
      },
      "outputs": [],
      "source": [
        "agecount = train[['Age', 'Survived']].groupby(['Age'],as_index=False).count()\n",
        "sb.barplot(x='Age', y='Survived', data=agecount)"
      ]
    },
    {
      "cell_type": "code",
      "execution_count": null,
      "metadata": {
        "_cell_guid": "2e96e0f1-dde0-6e2d-02cd-7852d310089c"
      },
      "outputs": [],
      "source": [
        ""
      ]
    }
  ],
  "metadata": {
    "_change_revision": 0,
    "_is_fork": false,
    "kernelspec": {
      "display_name": "Python 3",
      "language": "python",
      "name": "python3"
    },
    "language_info": {
      "codemirror_mode": {
        "name": "ipython",
        "version": 3
      },
      "file_extension": ".py",
      "mimetype": "text/x-python",
      "name": "python",
      "nbconvert_exporter": "python",
      "pygments_lexer": "ipython3",
      "version": "3.6.0"
    }
  },
  "nbformat": 4,
  "nbformat_minor": 0
}