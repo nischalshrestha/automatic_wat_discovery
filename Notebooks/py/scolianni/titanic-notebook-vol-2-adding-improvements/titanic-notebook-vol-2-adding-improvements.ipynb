{
  "cells": [
    {
      "cell_type": "markdown",
      "metadata": {
        "_cell_guid": "040aa878-3ade-e76c-0bda-13fe3503f8db"
      },
      "source": [
        "## This is an improvement on my first Kaggle notebook\n",
        "My goal here is to do some simple improvements on my previous notebook.  \n",
        "\n",
        "### Possible Improvements\n",
        "\n",
        "1.  Instead of default values for NaN's, clean missing values with column averages.\n",
        "    - Done\n",
        "2.  Remove columns that offer little or no information.  Eg. PassengerId.\n",
        "    - Done\n",
        "3.  Add additional features (eg. related to family size, etc.).\n",
        "    - Done\n",
        "4.  Assess the accuracy by implementing k-fold cross validation.\n",
        "    - Done\n",
        "5.  Implement Gird Search to tune hyper parameters\n",
        "    - Done\n",
        "6.  Learn how to make an evaluation for how valuable each feature is.  Remove unimportant features.\n",
        "    - Done\n",
        "7.  Add in other common classifiers to test\n",
        "8.  Add in some boosting method."
      ]
    },
    {
      "cell_type": "markdown",
      "metadata": {
        "_cell_guid": "6752497d-bc46-3d65-27bc-1fe8a12e837b"
      },
      "source": [
        "## Read in the data"
      ]
    },
    {
      "cell_type": "code",
      "execution_count": null,
      "metadata": {
        "_cell_guid": "bdf5031b-01bd-34bf-fa3c-5d590b082b30"
      },
      "outputs": [],
      "source": [
        "# The first order of business, as always, is to read in the mother fucking data\n",
        "\n",
        "import pandas as pd\n",
        "dfTrain = pd.read_csv('../input/train.csv')\n",
        "dfTest = pd.read_csv('../input/test.csv')\n",
        "\n",
        "dfTrain.head()"
      ]
    },
    {
      "cell_type": "markdown",
      "metadata": {
        "_cell_guid": "1f1de9bb-2429-68eb-1780-6fdf2d0da590"
      },
      "source": [
        "## Look at the format of the data\n",
        "\n",
        "We need to know which columns contain NaN's."
      ]
    },
    {
      "cell_type": "code",
      "execution_count": null,
      "metadata": {
        "_cell_guid": "aea59afe-96d8-f46c-b896-95491deee998"
      },
      "outputs": [],
      "source": [
        "dfTrain.info()"
      ]
    },
    {
      "cell_type": "markdown",
      "metadata": {
        "_cell_guid": "84ee0432-230f-fffe-b319-7e9f0203673d"
      },
      "source": [
        "We can see that there are 891 rows, but the Age, Cabin, and Embarked columns have fewer.  This means that these columns have NaN's."
      ]
    },
    {
      "cell_type": "markdown",
      "metadata": {
        "_cell_guid": "c4683143-818d-0cd9-2a0b-9fa9d0c4d31e"
      },
      "source": [
        "## Analyze features\n",
        "\n",
        "We now need to do two things:\n",
        "\n",
        "1.  Calculate the average probability of death and survival.\n",
        "2.  Calculate the conditional probability of death and survival given each feature.\n",
        "\n",
        "This will allow us to tell which features contain useful information."
      ]
    },
    {
      "cell_type": "markdown",
      "metadata": {
        "_cell_guid": "834b3e60-cb67-1256-457b-799c5588ebb1"
      },
      "source": [
        "### Average chance of death and survival"
      ]
    },
    {
      "cell_type": "code",
      "execution_count": null,
      "metadata": {
        "_cell_guid": "e6d1f356-41e7-5db2-2f25-299f92cedddc"
      },
      "outputs": [],
      "source": [
        "dfTrain['Survived'].value_counts(normalize=True)"
      ]
    },
    {
      "cell_type": "code",
      "execution_count": null,
      "metadata": {
        "_cell_guid": "817f5db6-0146-645c-4671-81d2517327c3"
      },
      "outputs": [],
      "source": [
        "import seaborn as sns\n",
        "sns.countplot(dfTrain['Survived'])"
      ]
    },
    {
      "cell_type": "markdown",
      "metadata": {
        "_cell_guid": "8e904c51-ea61-d186-779b-225ecc278345"
      },
      "source": [
        "We can see that the average probability of death is ~62%, and the average probability of survival is ~38%."
      ]
    },
    {
      "cell_type": "markdown",
      "metadata": {
        "_cell_guid": "ec57bcfc-f8c9-b2d9-74d6-061dee207b3e"
      },
      "source": [
        "### PassengerId\n",
        "\n",
        "The PassengerId feature is unique to each passenger.  As such, it logically should have no predictive power.  therefore, this attribute will be removed from the dataframes before testing."
      ]
    },
    {
      "cell_type": "markdown",
      "metadata": {
        "_cell_guid": "7cae573f-e78e-0c80-42cf-e9a3254e5805"
      },
      "source": [
        "### Pclass\n",
        "\n",
        "Pclass refers to the class of the ticket.  For some reason, I am suspecting that the attribute of having money is going to make one statistically better at coping with icebergs.  Why could this be?"
      ]
    },
    {
      "cell_type": "code",
      "execution_count": null,
      "metadata": {
        "_cell_guid": "05c6950f-ee45-7f03-31d7-5d091a29435f"
      },
      "outputs": [],
      "source": [
        "dfTrain['Survived'].groupby(dfTrain['Pclass']).mean()"
      ]
    },
    {
      "cell_type": "code",
      "execution_count": null,
      "metadata": {
        "_cell_guid": "2c18fe8a-fd30-ced4-fe14-9a695903738e"
      },
      "outputs": [],
      "source": [
        "sns.countplot(dfTrain['Pclass'])"
      ]
    },
    {
      "cell_type": "code",
      "execution_count": null,
      "metadata": {
        "_cell_guid": "9cd75133-a372-17c6-3b10-057cc902665c"
      },
      "outputs": [],
      "source": [
        "sns.countplot(dfTrain['Pclass'], hue=dfTrain['Survived'])"
      ]
    },
    {
      "cell_type": "markdown",
      "metadata": {
        "_cell_guid": "e6237765-ad07-708e-70cb-92a110df41ab"
      },
      "source": [
        "We can see that class is an important indicator for survival.  The average person has a 38% chance or survival, but if you're in first or second class, your chances are significantly higher.  If you are in third class, your chances are significantly lower.\n",
        "\n",
        "This could be due to bias when filling the life boats.  It could also be that the lower class passengers were in the lower decks, and thus were the last to get to the life boats / were the worst and first affected by the disaster."
      ]
    },
    {
      "cell_type": "markdown",
      "metadata": {
        "_cell_guid": "721daf08-8b8e-40a5-ba25-79c13162cbb4"
      },
      "source": [
        "### What's in a Name?\n",
        "\n",
        "The Name feature, in theory, would be unique like PassengerId.  There is some interesting information that could be unpacked here, however.  A person's title (Mr., Mrs., Fr., etc.) might contain information about the probability of survival.  Additionally, the length of a person's name might similarly contain information about survival, as snooty important people are likely to have longer names.  In a similar light, I define a new attribute called \"Name_Complexity\" which equals the number of distinct names in the original Name.  This also is based on the theory that snooty people usually have more names."
      ]
    },
    {
      "cell_type": "code",
      "execution_count": null,
      "metadata": {
        "_cell_guid": "1b3da66a-7755-76d2-d2d6-09b063d9b363"
      },
      "outputs": [],
      "source": [
        "dfTrain['Name_Len'] = dfTrain['Name'].apply(lambda x: len(x))\n",
        "pd.qcut(dfTrain['Name_Len'], 5).value_counts()"
      ]
    },
    {
      "cell_type": "code",
      "execution_count": null,
      "metadata": {
        "_cell_guid": "53cf3aa6-62d7-3047-a422-81f5bb5c6174"
      },
      "outputs": [],
      "source": [
        "dfTrain['Survived'].groupby(pd.qcut(dfTrain['Name_Len'], 5)).mean()"
      ]
    },
    {
      "cell_type": "code",
      "execution_count": null,
      "metadata": {
        "_cell_guid": "2247c49c-3260-267b-b4e7-85b75ca3d35f"
      },
      "outputs": [],
      "source": [
        "dfTrain['Name_Title'] = dfTrain['Name'].apply(lambda x: x.split(',')[1]).apply(lambda x: x.split()[0])\n",
        "dfTrain['Name_Title'].value_counts()"
      ]
    },
    {
      "cell_type": "code",
      "execution_count": null,
      "metadata": {
        "_cell_guid": "9ab231c9-2399-3d21-339f-20a6ad980b76"
      },
      "outputs": [],
      "source": [
        "dfTrain['Survived'].groupby(dfTrain['Name_Title']).mean()"
      ]
    },
    {
      "cell_type": "code",
      "execution_count": null,
      "metadata": {
        "_cell_guid": "86a6165d-856d-69e2-96e3-258998c00933"
      },
      "outputs": [],
      "source": [
        "dfTrain['Name_Complexity'] = dfTrain['Name'].apply(lambda x: len(x.split()))\n",
        "dfTrain['Name_Complexity'].value_counts()"
      ]
    },
    {
      "cell_type": "code",
      "execution_count": null,
      "metadata": {
        "_cell_guid": "3bdab2cd-505f-fedf-48a8-2870c503b728"
      },
      "outputs": [],
      "source": [
        "dfTrain['Survived'].groupby(dfTrain['Name_Complexity']).mean()"
      ]
    },
    {
      "cell_type": "markdown",
      "metadata": {
        "_cell_guid": "f2ee1199-f5ee-d4a3-afa1-8a8b09bd79ee"
      },
      "source": [
        "### Sex\n",
        "\n",
        "Women will likely have a higher survival rate due to chivalry."
      ]
    },
    {
      "cell_type": "code",
      "execution_count": null,
      "metadata": {
        "_cell_guid": "adf25f01-6ceb-cd91-c438-a4e469dd566a"
      },
      "outputs": [],
      "source": [
        "dfTrain['Sex'].value_counts(normalize=True)"
      ]
    },
    {
      "cell_type": "code",
      "execution_count": null,
      "metadata": {
        "_cell_guid": "70e947f1-633e-00d5-66f4-f3a1a3a83b28"
      },
      "outputs": [],
      "source": [
        "dfTrain['Survived'].groupby(dfTrain['Sex']).mean()"
      ]
    },
    {
      "cell_type": "markdown",
      "metadata": {
        "_cell_guid": "56866545-947c-dd3d-81ae-e802498513b3"
      },
      "source": [
        "### Age\n",
        "\n",
        "I'm guessing the young will survive better.  Or maybe not, as survival is biased towards the upper class, and young people probably couldn't afford a first class ticket."
      ]
    },
    {
      "cell_type": "code",
      "execution_count": null,
      "metadata": {
        "_cell_guid": "5f6447ff-8f2a-5c05-51d3-8f7dc7ae1cc6"
      },
      "outputs": [],
      "source": [
        "pd.qcut(dfTrain['Age'], 5).value_counts()"
      ]
    },
    {
      "cell_type": "code",
      "execution_count": null,
      "metadata": {
        "_cell_guid": "7c23d535-c961-cbed-79c9-fd63d91cb4d3"
      },
      "outputs": [],
      "source": [
        "dfTrain['Survived'].groupby(pd.qcut(dfTrain['Age'], 5)).mean()"
      ]
    },
    {
      "cell_type": "markdown",
      "metadata": {
        "_cell_guid": "7675b7c4-e535-0ce4-0bfe-0ebf9fbebd61"
      },
      "source": [
        "### SibSp & Parch\n",
        "\n",
        "SibSp and Parch will be added together to form a new feature called \"Family_Size\"."
      ]
    },
    {
      "cell_type": "code",
      "execution_count": null,
      "metadata": {
        "_cell_guid": "1e3ca031-79e1-e321-3075-27c43dcbc182"
      },
      "outputs": [],
      "source": [
        "dfTrain['FamilySize'] = dfTrain['SibSp'] + dfTrain['Parch']\n",
        "dfTrain['FamilySize'].value_counts()"
      ]
    },
    {
      "cell_type": "code",
      "execution_count": null,
      "metadata": {
        "_cell_guid": "97c9c636-43c0-c638-4499-8959fdd11f84"
      },
      "outputs": [],
      "source": [
        "dfTrain['Survived'].groupby(dfTrain['FamilySize']).mean()"
      ]
    },
    {
      "cell_type": "markdown",
      "metadata": {
        "_cell_guid": "0dbd6107-1730-a338-ad6b-acbde0b17563"
      },
      "source": [
        "### Ticket\n",
        "\n",
        "The Ticket code is hard to understand, so we will have to make some guesses.  \n",
        "\n",
        "1.  The first hypothesis we'll check is to see if ticket name length is a good predictor.\n",
        "2.  The second hypothesis we'll check is to see if tickets with all numbers vs. tickets with numbers and other characters is a good predictor.\n",
        "3.  The third hypothesis we'll check is to see if tickets with spaces vs. not is a good predictor. "
      ]
    },
    {
      "cell_type": "code",
      "execution_count": null,
      "metadata": {
        "_cell_guid": "d342ef6f-d76f-f46e-d8fb-1954529d6c3c"
      },
      "outputs": [],
      "source": [
        "dfTrain['Ticket_Len'] = dfTrain['Ticket'].apply(lambda x: len(x))\n",
        "dfTrain['Ticket_Len'].value_counts()"
      ]
    },
    {
      "cell_type": "code",
      "execution_count": null,
      "metadata": {
        "_cell_guid": "f0ef8ab3-cf75-059e-cadc-bedab493a1f0"
      },
      "outputs": [],
      "source": [
        "dfTrain['Survived'].groupby(dfTrain['Ticket_Len']).mean()"
      ]
    },
    {
      "cell_type": "markdown",
      "metadata": {
        "_cell_guid": "1d1cd5c7-a11c-202a-fe70-e70f3be07932"
      },
      "source": [
        "We can see that ticket length is indeed a good predictor."
      ]
    },
    {
      "cell_type": "code",
      "execution_count": null,
      "metadata": {
        "_cell_guid": "eb5de8e1-c7fa-d245-933d-85e9b1e03d5a"
      },
      "outputs": [],
      "source": [
        "dfTrain['Ticket_Characters'] = dfTrain['Ticket'].apply(lambda x: x.isdigit())\n",
        "dfTrain['Ticket_Characters'].value_counts()"
      ]
    },
    {
      "cell_type": "code",
      "execution_count": null,
      "metadata": {
        "_cell_guid": "25d39da2-69f0-139a-46ac-87f7ab3ceef0"
      },
      "outputs": [],
      "source": [
        "dfTrain['Survived'].groupby(dfTrain['Ticket_Characters']).mean()"
      ]
    },
    {
      "cell_type": "code",
      "execution_count": null,
      "metadata": {
        "_cell_guid": "e6a0873a-8283-8f11-aa01-8a2861afa01e"
      },
      "outputs": [],
      "source": [
        "del dfTrain['Ticket_Characters']"
      ]
    },
    {
      "cell_type": "markdown",
      "metadata": {
        "_cell_guid": "3e88282c-c8ab-2b0a-016e-a9cd910ba33c"
      },
      "source": [
        "We can see that the numerical only vs. numerical and other character tickets is not a good feature to divide on."
      ]
    },
    {
      "cell_type": "code",
      "execution_count": null,
      "metadata": {
        "_cell_guid": "a7cc40bb-9c94-5b8b-b153-4b658ab56464"
      },
      "outputs": [],
      "source": [
        "dfTrain['Ticket_Spaces'] = dfTrain['Ticket'].apply(lambda x: len(x.split()))\n",
        "dfTrain['Ticket_Spaces'].value_counts()"
      ]
    },
    {
      "cell_type": "code",
      "execution_count": null,
      "metadata": {
        "_cell_guid": "fd95cbba-357b-7489-29d0-4554b5aab2d3"
      },
      "outputs": [],
      "source": [
        "dfTrain['Survived'].groupby(dfTrain['Ticket_Spaces']).mean()"
      ]
    },
    {
      "cell_type": "markdown",
      "metadata": {
        "_cell_guid": "106f106c-c08e-8f26-a81c-7e0b70a25827"
      },
      "source": [
        "We see that tickets with three spaces have slight predictive power."
      ]
    },
    {
      "cell_type": "markdown",
      "metadata": {
        "_cell_guid": "5e5a598f-7dde-7aba-6460-38d063d4bf9b"
      },
      "source": [
        "### Fare\n",
        "\n",
        "Lets sort the fare into five bins."
      ]
    },
    {
      "cell_type": "code",
      "execution_count": null,
      "metadata": {
        "_cell_guid": "f2b900f4-34d3-bede-619e-71741b6b96af"
      },
      "outputs": [],
      "source": [
        "pd.qcut(dfTrain['Fare'], 3).value_counts()"
      ]
    },
    {
      "cell_type": "code",
      "execution_count": null,
      "metadata": {
        "_cell_guid": "2a48685b-a8d5-05ad-bd73-318e0b8762ee"
      },
      "outputs": [],
      "source": [
        "dfTrain['Survived'].groupby(pd.qcut(dfTrain['Fare'], 5)).mean()"
      ]
    },
    {
      "cell_type": "code",
      "execution_count": null,
      "metadata": {
        "_cell_guid": "e68802d4-16b6-b154-d6c1-9e1f93b93362"
      },
      "outputs": [],
      "source": [
        "dfTrain['Survived'].groupby(pd.qcut(dfTrain['Fare'], 3)).mean()"
      ]
    },
    {
      "cell_type": "markdown",
      "metadata": {
        "_cell_guid": "1e8c5b9e-1649-9338-13bc-ab4327b893fb"
      },
      "source": [
        "### Cabin\n",
        "\n",
        "We will see if the cabin letter makes for a good feature."
      ]
    },
    {
      "cell_type": "code",
      "execution_count": null,
      "metadata": {
        "_cell_guid": "1993cf20-3b9e-4bd2-b1aa-0d2b1dd3922c"
      },
      "outputs": [],
      "source": [
        "dfTrain['Cabin_Letter'] = dfTrain['Cabin'].apply(lambda x: str(x)[0])\n",
        "dfTrain['Cabin_Letter'].value_counts()"
      ]
    },
    {
      "cell_type": "code",
      "execution_count": null,
      "metadata": {
        "_cell_guid": "b58e4ab1-2cc1-e30f-f66b-dd22ebaaa917"
      },
      "outputs": [],
      "source": [
        "dfTrain['Survived'].groupby(dfTrain['Cabin_Letter']).mean()"
      ]
    },
    {
      "cell_type": "code",
      "execution_count": null,
      "metadata": {
        "_cell_guid": "be206814-f4c7-5774-3f4f-b1349f8bca8e"
      },
      "outputs": [],
      "source": [
        "dfTrain.head()"
      ]
    },
    {
      "cell_type": "markdown",
      "metadata": {
        "_cell_guid": "ba9917dc-d57c-b21a-31c8-282aa23ea823"
      },
      "source": [
        "### Which new features have been added?\n",
        "\n",
        "1.  Name_Len\n",
        "2.  Name_Title\n",
        "3.  Name_Complexity\n",
        "4.  FamilySize\n",
        "5.  Ticket_Len\n",
        "6.  Ticket_Spaces\n",
        "7.  Cabin_Letter"
      ]
    },
    {
      "cell_type": "markdown",
      "metadata": {
        "_cell_guid": "bcd08594-fb63-e958-648d-1f73f2fb1f59"
      },
      "source": [
        "## Replace NaN's\n",
        "\n",
        "Recall that in the training set, the Age, Fare, Cabin, and Embarked columns have NaN's.\n",
        "\n",
        "1.  Check the test set to see which columns have NaN's.\n",
        "2.  Clean the NaN's."
      ]
    },
    {
      "cell_type": "code",
      "execution_count": null,
      "metadata": {
        "_cell_guid": "a07fa371-ca98-84a5-438b-281941ce8341"
      },
      "outputs": [],
      "source": [
        "dfTest.info()"
      ]
    },
    {
      "cell_type": "markdown",
      "metadata": {
        "_cell_guid": "d70073f0-ea9a-24b5-fd55-5c51c6c0db2f"
      },
      "source": [
        "We can see that dfTest has 418 rows, and that the following columns have NaN's:  Age, Fare, Cabin, and Embarked."
      ]
    },
    {
      "cell_type": "markdown",
      "metadata": {
        "_cell_guid": "c2ff37c9-533a-f376-da5f-1761d32ccb24"
      },
      "source": [
        "### Cleaning process\n",
        "\n",
        "For Age, we will replace NaN's with the avg passenger age.\n",
        "\n",
        "For fare, we will replace the NaN's with the avg passenger faire.\n",
        "\n",
        "For Cabin, we will replace the NaN's with 'znan'.\n",
        "\n",
        "For Embarked, we will replace the NaN's with 'znan'."
      ]
    },
    {
      "cell_type": "code",
      "execution_count": null,
      "metadata": {
        "_cell_guid": "9caacfdf-24a1-be76-9a9d-a5bece898798"
      },
      "outputs": [],
      "source": [
        "dfCombined = pd.concat([dfTrain, dfTest])\n",
        "dfTrain['Age'] = dfTrain['Age'].fillna(dfCombined['Age'].mean())\n",
        "dfTrain['Fare'] = dfTrain['Fare'].fillna(dfCombined['Fare'].mean())\n",
        "dfTrain['Cabin'] = dfTrain['Cabin'].fillna('znan')\n",
        "dfTrain['Embarked'] = dfTrain['Embarked'].fillna('znan')\n",
        "\n",
        "dfTest['Age'] = dfTest['Age'].fillna(dfCombined['Age'].mean())\n",
        "dfTest['Fare'] = dfTest['Fare'].fillna(dfCombined['Fare'].mean())\n",
        "dfTest['Cabin'] = dfTest['Cabin'].fillna('znan')\n",
        "dfTest['Embarked'] = dfTest['Embarked'].fillna('znan')\n",
        "\n",
        "print('done')"
      ]
    },
    {
      "cell_type": "markdown",
      "metadata": {
        "_cell_guid": "d4e666fd-5141-e5e9-66f9-832985dfec46"
      },
      "source": [
        "## Functions (add new new features)\n",
        "\n",
        "We will now create a series of functions toadd the aforementioned new features."
      ]
    },
    {
      "cell_type": "code",
      "execution_count": null,
      "metadata": {
        "_cell_guid": "568ec920-2d5e-c10d-37f8-7fb1089d4b04"
      },
      "outputs": [],
      "source": [
        "def manipulateNames(iset):\n",
        "    iset['Name_Len'] = iset['Name'].apply(lambda x: len(x))\n",
        "    iset['Name_Title'] = iset['Name'].apply(lambda x: x.split(',')[1]).apply(lambda x: x.split()[0])\n",
        "    iset['Name_Complexity'] = iset['Name'].apply(lambda x: len(x.split()))\n",
        "    del iset['Name']\n",
        "    return iset   "
      ]
    },
    {
      "cell_type": "code",
      "execution_count": null,
      "metadata": {
        "_cell_guid": "45f6c7f8-8ba6-74cc-d3d4-c29a79e62c4d"
      },
      "outputs": [],
      "source": [
        "def manipulateFamily(iset):\n",
        "    iset['FamilySize'] = iset['SibSp'] + iset['Parch']\n",
        "    return iset"
      ]
    },
    {
      "cell_type": "code",
      "execution_count": null,
      "metadata": {
        "_cell_guid": "153e93e6-d007-961c-cff5-7cfe61cf1727"
      },
      "outputs": [],
      "source": [
        "def manipulateTicket(iset):\n",
        "    iset['Ticket_Len'] = iset['Ticket'].apply(lambda x: len(x))\n",
        "    iset['Ticket_Spaces'] = iset['Ticket'].apply(lambda x: len(x.split()))\n",
        "    return iset"
      ]
    },
    {
      "cell_type": "code",
      "execution_count": null,
      "metadata": {
        "_cell_guid": "3cb53794-0f29-a1e9-42ea-0384b8b2fd3a"
      },
      "outputs": [],
      "source": [
        "def manipulateCabin(iset):\n",
        "    iset['Cabin_Letter'] = iset['Cabin'].apply(lambda x: str(x)[0])\n",
        "    return iset"
      ]
    },
    {
      "cell_type": "markdown",
      "metadata": {
        "_cell_guid": "8db8b61d-29e1-df4d-db4d-64a07aab1663"
      },
      "source": [
        "### Apply functions\n",
        "\n",
        "We will now apply these functions to the dfTest data frame."
      ]
    },
    {
      "cell_type": "code",
      "execution_count": null,
      "metadata": {
        "_cell_guid": "6178e735-03b4-d1c4-c5d6-ccbfce8ab9e9"
      },
      "outputs": [],
      "source": [
        "dfTrain = manipulateNames(dfTrain)\n",
        "dfTrain = manipulateFamily(dfTrain)\n",
        "dfTrain = manipulateTicket(dfTrain)\n",
        "dfTrain = manipulateCabin(dfTrain)\n",
        "\n",
        "dfTest = manipulateNames(dfTest)\n",
        "dfTest = manipulateFamily(dfTest)\n",
        "dfTest = manipulateTicket(dfTest)\n",
        "dfTest = manipulateCabin(dfTest)\n",
        "\n",
        "dfTrain.head()"
      ]
    },
    {
      "cell_type": "code",
      "execution_count": null,
      "metadata": {
        "_cell_guid": "572d6c79-a780-0dcf-831c-af43949ebac5"
      },
      "outputs": [],
      "source": [
        "dfTest.head()"
      ]
    },
    {
      "cell_type": "code",
      "execution_count": null,
      "metadata": {
        "_cell_guid": "489e1ba9-a38a-1cd5-9504-af8fc2a4ccc1"
      },
      "outputs": [],
      "source": [
        "dfTrain.info()"
      ]
    },
    {
      "cell_type": "markdown",
      "metadata": {
        "_cell_guid": "b1643e36-8a8c-06db-f0ba-16c610af9818"
      },
      "source": [
        "## Encode data\n",
        "\n",
        "Encode all features except PassengerId, as this needs to be untouched for the Kaggle grading script to run properly."
      ]
    },
    {
      "cell_type": "code",
      "execution_count": null,
      "metadata": {
        "_cell_guid": "8e5eae6e-6ee5-df0f-ad40-c500e248c776"
      },
      "outputs": [],
      "source": [
        "from sklearn.preprocessing import LabelEncoder\n",
        "dfCombined = pd.concat([dfTrain, dfTest])\n",
        "for feature in list(dfCombined):\n",
        "    \n",
        "    le = LabelEncoder()\n",
        "    le.fit(dfCombined[feature])\n",
        "    \n",
        "    if feature in dfTrain:\n",
        "        if feature != 'PassengerId':\n",
        "            dfTrain[feature] = le.transform(dfTrain[feature])\n",
        "    if feature in dfTest:\n",
        "        if feature != 'PassengerId':\n",
        "            dfTest[feature] = le.transform(dfTest[feature])"
      ]
    },
    {
      "cell_type": "markdown",
      "metadata": {
        "_cell_guid": "fedbd16e-1c78-bbfd-8511-eba83431a061"
      },
      "source": [
        "## Perform K-Fold Cross Validation\n",
        "\n",
        "We are using Stratified K-Fold to keep folds balanced.\n",
        "\n",
        "Sklearn can take a dataframe as input to its functions??  Cool!\n",
        "\n",
        "We use the Random Forest classifier as it is probably a good choice."
      ]
    },
    {
      "cell_type": "code",
      "execution_count": null,
      "metadata": {
        "_cell_guid": "979f5050-c04b-7d96-4a4e-bfaf3694b955"
      },
      "outputs": [],
      "source": [
        "from sklearn.model_selection import StratifiedKFold\n",
        "from sklearn.ensemble import RandomForestClassifier\n",
        "from sklearn.model_selection import RandomizedSearchCV\n",
        "from sklearn.metrics import accuracy_score\n",
        "import numpy as np\n",
        "\n",
        "X = dfTrain.drop(['Survived', 'PassengerId'], axis=1)\n",
        "y = dfTrain['Survived']\n",
        "accuracyList = []\n",
        "\n",
        "classifierParams = {'n_estimators':[10, 20, 40, 80, 200], 'criterion':['gini', 'entropy'], 'max_features':[.10, .20, .40, .80]}\n",
        "skf = StratifiedKFold(n_splits=10, shuffle=True)\n",
        "for train_index, test_index in skf.split(X, y):\n",
        "    X_train, X_test = X.values[train_index], X.values[test_index]\n",
        "    y_train, y_test = y.values[train_index], y.values[test_index]\n",
        "\n",
        "    clf = RandomForestClassifier()\n",
        "    clf = RandomizedSearchCV(clf, classifierParams[classifierName])\n",
        "\n",
        "    clf.fit(X_train, y_train)\n",
        "    predictions = clf.predict(X_test)\n",
        "\n",
        "    accuracy = accuracy_score(y_test, predictions)\n",
        "    accuracyList.append(accuracy)\n",
        "        \n",
        "print(np.mean(accuracyList[classifierName]))"
      ]
    },
    {
      "cell_type": "markdown",
      "metadata": {
        "_cell_guid": "83fe4f78-f806-f6c5-2225-84ff312f4ba9"
      },
      "source": [
        "## Form predictions on test set"
      ]
    },
    {
      "cell_type": "code",
      "execution_count": null,
      "metadata": {
        "_cell_guid": "3fe1dda7-6db3-2081-4816-35a44d5b92ed"
      },
      "outputs": [],
      "source": [
        "# Generate predictions\n",
        "parameters = {'n_estimators':[10, 20, 40, 80], 'criterion':['gini', 'entropy'], 'max_features':[.10, .20, .40, .80]}\n",
        "clf = RandomForestClassifier()\n",
        "clf = RandomizedSearchCV(clf, parameters)\n",
        "clf = AdaBoostClassifier(clf, n_estimators=200)\n",
        "clf.fit(X, y)\n",
        "dfTestPredictions = clf.predict(dfTest.drop(['PassengerId'], axis=1))\n",
        "\n",
        "# Write predictions to csv file\n",
        "results = pd.DataFrame({'PassengerId': dfTest['PassengerId'], 'Survived': dfTestPredictions})\n",
        "results.to_csv('results.csv', index=False)\n",
        "results.head()"
      ]
    },
    {
      "cell_type": "code",
      "execution_count": null,
      "metadata": {
        "_cell_guid": "037d9ee6-bca9-49f4-b348-92cd406fbe63"
      },
      "outputs": [],
      "source": [
        "dfTrain['Survived'].groupby(dfTrain['Ticket_FirstLetter']).mean()"
      ]
    },
    {
      "cell_type": "markdown",
      "metadata": {
        "_cell_guid": "4668d646-aafa-92f8-ed34-23b1a9ab0f57"
      },
      "source": [
        "We can see that the first letter in the ticket is a useful attribute to consider."
      ]
    },
    {
      "cell_type": "markdown",
      "metadata": {
        "_cell_guid": "53afbd24-a6a1-76d3-4661-4032b970fa0a"
      },
      "source": [
        "### Fare\n",
        "\n",
        "In considering fare, we will brake the prices into five bins and see if bin number is a significant indicator."
      ]
    },
    {
      "cell_type": "code",
      "execution_count": null,
      "metadata": {
        "_cell_guid": "d0fda30f-3130-6a3f-bc8c-0d9d56c0a693"
      },
      "outputs": [],
      "source": [
        "pd.qcut(dfTrain['Fare'], 5).value_counts()"
      ]
    },
    {
      "cell_type": "code",
      "execution_count": null,
      "metadata": {
        "_cell_guid": "9a3a4289-73ef-2411-78cb-87210f846b12"
      },
      "outputs": [],
      "source": [
        "dfTrain['Survived'].groupby(pd.qcut(dfTrain['Fare'], 5)).mean()"
      ]
    },
    {
      "cell_type": "markdown",
      "metadata": {
        "_cell_guid": "5d7f2eee-b780-9b95-60b3-139fc4ae7749"
      },
      "source": [
        "### Cabin\n",
        "\n",
        "First, we will check if the initial cabin letter is a good feature.  Then we will check if the cabin number that comes afterward is a good feature."
      ]
    },
    {
      "cell_type": "code",
      "execution_count": null,
      "metadata": {
        "_cell_guid": "fe3ca499-d2cb-afb5-5693-a181c1b3b333"
      },
      "outputs": [],
      "source": [
        "dfTrain['Cabin_Letter'] = dfTrain['Cabin'].apply(lambda x: str(x)[0])\n",
        "dfTrain['Cabin_Letter'].value_counts()"
      ]
    },
    {
      "cell_type": "code",
      "execution_count": null,
      "metadata": {
        "_cell_guid": "9751fda5-0375-b0a8-0636-4681022b76c2"
      },
      "outputs": [],
      "source": [
        "dfTrain['Survived'].groupby(dfTrain['Cabin_Letter']).mean()"
      ]
    },
    {
      "cell_type": "markdown",
      "metadata": {
        "_cell_guid": "f1ba3454-4ea6-ae1d-af65-a5149880287c"
      },
      "source": [
        "### Embarked\n",
        "\n",
        "Lets look at the data related to embarking."
      ]
    },
    {
      "cell_type": "code",
      "execution_count": null,
      "metadata": {
        "_cell_guid": "2169a4f2-8a40-061a-fefa-ba995740333a"
      },
      "outputs": [],
      "source": [
        "dfTrain['Embarked'].value_counts()"
      ]
    },
    {
      "cell_type": "code",
      "execution_count": null,
      "metadata": {
        "_cell_guid": "f84544fc-f892-d6ef-8259-fb0769d7f52b"
      },
      "outputs": [],
      "source": [
        "dfTrain['Embarked'].value_counts(normalize=True)"
      ]
    },
    {
      "cell_type": "code",
      "execution_count": null,
      "metadata": {
        "_cell_guid": "035990a1-5dcf-51a6-75ec-d7343691fcbb"
      },
      "outputs": [],
      "source": [
        "dfTrain['Survived'].groupby(dfTrain['Embarked']).mean()"
      ]
    },
    {
      "cell_type": "code",
      "execution_count": null,
      "metadata": {
        "_cell_guid": "bf0b751a-91ca-44f7-4073-91af8cc56f2f"
      },
      "outputs": [],
      "source": [
        "dfTrain['Ticket_FirstLetter'] = dfTrain['Ticket'].apply(lambda x: x[0])\n",
        "dfTrain['Ticket_FirstLetter'].value_counts()"
      ]
    }
  ],
  "metadata": {
    "_change_revision": 0,
    "_is_fork": false,
    "kernelspec": {
      "display_name": "Python 3",
      "language": "python",
      "name": "python3"
    },
    "language_info": {
      "codemirror_mode": {
        "name": "ipython",
        "version": 3
      },
      "file_extension": ".py",
      "mimetype": "text/x-python",
      "name": "python",
      "nbconvert_exporter": "python",
      "pygments_lexer": "ipython3",
      "version": "3.6.0"
    }
  },
  "nbformat": 4,
  "nbformat_minor": 0
}