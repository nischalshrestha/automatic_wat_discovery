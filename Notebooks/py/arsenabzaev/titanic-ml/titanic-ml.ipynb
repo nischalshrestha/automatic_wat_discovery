{
  "cells": [
    {
      "cell_type": "code",
      "execution_count": null,
      "metadata": {
        "_cell_guid": "87edfe1e-a747-99fd-33a7-356ed2ff38c4"
      },
      "outputs": [],
      "source": [
        "from pandas import read_csv, DataFrame, Series\n",
        "data = read_csv('../input/train.csv')\n",
        "import matplotlib.pyplot as plt\n",
        "from sklearn.preprocessing import LabelEncoder\n",
        "\n",
        "from sklearn import cross_validation, svm\n",
        "from sklearn.neighbors import KNeighborsClassifier\n",
        "from sklearn.ensemble import RandomForestClassifier\n",
        "from sklearn.linear_model import LogisticRegression\n",
        "from sklearn.metrics import roc_curve, auc\n",
        "import pylab as pl\n",
        "from sklearn import tree\n",
        "\n",
        "data.Age[data.Age.isnull()] = data.Age.mean()\n",
        "MaxPassEmbarked = data.groupby('Embarked').count()['PassengerId'] # \u0447\u0438\u0441\u043b\u043e \u043f\u0430\u0441\u0441\u0430\u0436\u0438\u0440\u043e\u0432 \u0441 \u043e\u043f\u0440\u0435\u0434\u0435\u043b\u0435\u043d\u043d\u043e\u0433\u043e \u043f\u043e\u0440\u0442\u0430\n",
        "data.Embarked[data.Embarked.isnull()] = MaxPassEmbarked[MaxPassEmbarked == MaxPassEmbarked.max()].index[0] # \u043f\u0440\u0438\u0441\u0432\u0430\u0438\u0432\u0430\u0435\u043c \u0431\u0443\u043a\u0432\u0443 \u0441\u0430\u043c\u043e\u0433\u043e \u043f\u043e\u043f\u0443\u043b\u044f\u0440\u043d\u043e\u0433\u043e \u043f\u043e\u0440\u0442\u0430 (index[0] - \u0431\u0443\u043a\u0432\u0430)\n",
        "\n",
        "data = data.drop(['PassengerId','Name','Ticket','Cabin', 'Embarked', 'Parch', 'SibSp'],axis=1)\n",
        "\n",
        "label = LabelEncoder()\n",
        "dicts = {}\n",
        "\n",
        "label.fit(data.Sex.drop_duplicates())\n",
        "dicts['Sex'] = list(label.classes_)\n",
        "data.Sex = label.transform(data.Sex)\n",
        "\n",
        "\n",
        "test = read_csv('../input/test.csv')\n",
        "test.Age[test.Age.isnull()] = test.Age.mean()\n",
        "test.Fare[test.Fare.isnull()] = test.Fare.median()\n",
        "MaxPassEmbarked = test.groupby('Embarked').count()['PassengerId']\n",
        "test.Embarked[test.Embarked.isnull()] = MaxPassEmbarked[MaxPassEmbarked == MaxPassEmbarked.max()].index[0]\n",
        "result = DataFrame(test.PassengerId)\n",
        "result1 = DataFrame(test.PassengerId)\n",
        "test = test.drop(['PassengerId','Name','Ticket','Cabin', 'Embarked', 'Parch', 'SibSp'],axis=1)\n",
        "\n",
        "label.fit(dicts['Sex'])\n",
        "test.Sex = label.transform(test.Sex)\n",
        "\n",
        "\n",
        "target = data.Survived\n",
        "train = data.drop(['Survived'], axis=1)\n",
        "\n",
        "ROCtrainTRN, ROCtestTRN, ROCtrainTRG, ROCtestTRG = cross_validation.train_test_split(train, target, test_size=0.25)\n",
        "\n",
        "model_rfc = RandomForestClassifier(n_estimators = 80, max_features = 'auto', criterion = 'entropy', max_depth = 4) #\u0432 \u043f\u0430\u0440\u0430\u043c\u0435\u0442\u0440\u0435 \u043f\u0435\u0440\u0435\u0434\u0430\u0435\u043c \u043a\u043e\u043b-\u0432\u043e \u0434\u0435\u0440\u0435\u0432\u044c\u0435\u0432\n",
        "\n",
        "model_rfc.fit(train, target)\n",
        "result.insert(1,'Survived', model_rfc.predict(test))\n",
        "result.to_csv('RandomFor2.csv', index=False)"
      ]
    },
    {
      "cell_type": "code",
      "execution_count": null,
      "metadata": {
        "_cell_guid": "fba605b1-1423-9c15-363a-12bf14c0c2a5"
      },
      "outputs": [],
      "source": [
        "# This Python 3 environment comes with many helpful analytics libraries installed\n",
        "# It is defined by the kaggle/python docker image: https://github.com/kaggle/docker-python\n",
        "# For example, here's several helpful packages to load in \n",
        "\n",
        "import numpy as np # linear algebra\n",
        "import pandas as pd # data processing, CSV file I/O (e.g. pd.read_csv)\n",
        "\n",
        "# Input data files are available in the \"../input/\" directory.\n",
        "# For example, running this (by clicking run or pressing Shift+Enter) will list the files in the input directory\n",
        "\n",
        "from subprocess import check_output\n",
        "print(check_output([\"ls\", \"../input\"]).decode(\"utf8\"))\n",
        "\n",
        "# Any results you write to the current directory are saved as output."
      ]
    }
  ],
  "metadata": {
    "_change_revision": 0,
    "_is_fork": false,
    "kernelspec": {
      "display_name": "Python 3",
      "language": "python",
      "name": "python3"
    },
    "language_info": {
      "codemirror_mode": {
        "name": "ipython",
        "version": 3
      },
      "file_extension": ".py",
      "mimetype": "text/x-python",
      "name": "python",
      "nbconvert_exporter": "python",
      "pygments_lexer": "ipython3",
      "version": "3.5.2"
    }
  },
  "nbformat": 4,
  "nbformat_minor": 0
}