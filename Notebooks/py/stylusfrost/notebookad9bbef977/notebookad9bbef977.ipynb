{
  "cells": [
    {
      "cell_type": "markdown",
      "metadata": {
        "_cell_guid": "eecd6602-84ac-004a-6112-b3b739ce4bb6"
      },
      "source": [
        "The <a href=\"https://www.kaggle.com/c/titanic/\"> Titanic challenge</a>  on Kaggle is a competition in which the goal is to predict the survival or the death of a given passenger based on a set of variables describing him such as his age, his sex, or his passenger class on the boat.\n",
        "\n",
        "I have been playing with the Titanic dataset for a while, and I have recently achieved an accuracy score of 0.8134 on the public leaderboard. As I'm writing this post, I am ranked among the top 9% of all Kagglers. (More than 4540 teams are currently competing)\n",
        "\n",
        "This post is the opportunity to share my solution with you.\n",
        "\n",
        "To make this tutorial more \"academic\" so that everyone could benefit, I will first start with an exploratory data analysis (EDA) then I'll follow with feature engineering and finally present the predictive model I set up.\n",
        "\n",
        "Throughout this jupyter notebook, I will be using Python at each level of the pipeline.\n",
        "\n",
        "The main libraries involved in this tutorial are: \n",
        "\n",
        "* <b>Pandas</b> for data manipulation\n",
        "* <b>Matplotlib</b> and <b> seaborn</b> for data visualization\n",
        "* <b>Numpy</b> for multidimensional array computing\n",
        "* <b>sklearn</b> for machine learning and predictive modeling\n",
        "\n",
        "### Installation procedure \n",
        "\n",
        "A very easy way to install these packages is to download and install the <a href =\"http://conda.pydata.org/docs/install/quick.html#os-x-miniconda-install\">Conda</a> distribution that encapsulates them all. This distribution is available on all platforms (Windows, Linux and Mac OSX).\n",
        "\n",
        "### Nota Bene\n",
        "\n",
        "This is my first attempt as a blogger and as a machine learning practitioner as well. So if you have any advice or suggestion shoot me an email at ahmed.besbes@hotmail.com.\n",
        "If you also have a question about the code or the hypotheses I made, do not hesitate to post a comment in the comment section below.\n",
        "\n",
        "Hope you've got everything set on your computer. Let's get started."
      ]
    },
    {
      "cell_type": "markdown",
      "metadata": {
        "_cell_guid": "388c9176-73fa-49ab-f230-4894a7b88889"
      },
      "source": [
        "# I -  Exploratory data analysis\n",
        "\n",
        "In this section, we'll be doing four things. \n",
        "\n",
        "- Data extraction : we'll load the dataset and have a first look at it. \n",
        "- Cleaning : we'll fill in missing values.\n",
        "- Plotting : we'll create some interesting charts that'll (hopefully) spot correlations and hidden insights out of the data.\n",
        "- Assumptions : we'll formulate hypotheses from the charts."
      ]
    },
    {
      "cell_type": "markdown",
      "metadata": {
        "_cell_guid": "674762e7-e9fc-2637-b721-0d52b363beb1"
      },
      "source": [
        "We import the useful libraries."
      ]
    },
    {
      "cell_type": "code",
      "execution_count": null,
      "metadata": {
        "_cell_guid": "751673fb-7a44-bb2d-3627-60420aecd3a1"
      },
      "outputs": [],
      "source": [
        "# remove warnings\n",
        "import warnings\n",
        "warnings.filterwarnings('ignore')\n",
        "# ---\n",
        "\n",
        "%matplotlib inline\n",
        "import pandas as pd\n",
        "pd.options.display.max_columns = 100\n",
        "from matplotlib import pyplot as plt\n",
        "import matplotlib\n",
        "matplotlib.style.use('ggplot')\n",
        "import numpy as np\n",
        "\n",
        "pd.options.display.max_rows = 100"
      ]
    },
    {
      "cell_type": "markdown",
      "metadata": {
        "_cell_guid": "57d2fe1e-a560-2383-26cf-ab59d0fa7c77"
      },
      "source": [
        "Two datasets are available: a training set and a test set.\n",
        "We'll be using the training set to build our predictive model and the testing set to score it and generate an output file to submit on the Kaggle evaluation system.\n",
        "\n",
        "We'll see how this procedure is done at the end of this post.\n",
        "\n",
        "Now let's start by loading the training set."
      ]
    },
    {
      "cell_type": "code",
      "execution_count": null,
      "metadata": {
        "_cell_guid": "c578435a-3d91-8e70-3bda-45b93457827e",
        "collapsed": true
      },
      "outputs": [],
      "source": [
        "data = pd.read_csv('../input/train.csv')"
      ]
    },
    {
      "cell_type": "markdown",
      "metadata": {
        "_cell_guid": "b9176c21-9d26-66f5-49c4-5d35a3da6aac"
      },
      "source": [
        "Pandas allow you to have a sneak peak at your data."
      ]
    },
    {
      "cell_type": "code",
      "execution_count": null,
      "metadata": {
        "_cell_guid": "1e5e4a87-7e8c-e091-eed0-be3aeec3dbc9"
      },
      "outputs": [],
      "source": [
        "data.head()"
      ]
    },
    {
      "cell_type": "markdown",
      "metadata": {
        "_cell_guid": "21581b49-84ee-8b6e-ab00-89ad7aeaec54"
      },
      "source": [
        "The Survived column is the target variable. If Suvival = 1 the passenger survived, otherwise he's dead.\n",
        "\n",
        "The other variables that describe the passengers are:\n",
        "\n",
        "- PassengerId: and id given to each traveler on the boat.\n",
        "- Pclass: the passenger class. It has three possible values: 1,2,3.\n",
        "- The Name\n",
        "- The Sex\n",
        "- The Age\n",
        "- SibSp: number of siblings and spouses traveling with the passenger \n",
        "- Parch: number of parents and children traveling with the passenger\n",
        "- The ticket number\n",
        "- The ticket Fare\n",
        "- The cabin number \n",
        "- The embarkation. It has three possible values S,C,Q"
      ]
    },
    {
      "cell_type": "markdown",
      "metadata": {
        "_cell_guid": "3784e4db-10e2-5769-16ec-ccb8e607017e"
      },
      "source": [
        "Pandas allows you to statistically describe numerical features using the describe method."
      ]
    },
    {
      "cell_type": "code",
      "execution_count": null,
      "metadata": {
        "_cell_guid": "38288ae4-d0dd-763b-4580-eae1c886e328"
      },
      "outputs": [],
      "source": [
        "data.describe()"
      ]
    },
    {
      "cell_type": "markdown",
      "metadata": {
        "_cell_guid": "b075cc38-3602-2d98-b201-396421dd8f85"
      },
      "source": [
        "The count variable shows that 177 values are missing in the Age column.\n",
        "\n",
        "On solution is to replace the null values with the median age which is more robust to outliers than the mean."
      ]
    },
    {
      "cell_type": "code",
      "execution_count": null,
      "metadata": {
        "_cell_guid": "49f85ccf-1bcc-f9f2-b3d7-b3fe0f138d19"
      },
      "outputs": [],
      "source": [
        "data['Age'].fillna(data['Age'].median(), inplace=True)"
      ]
    },
    {
      "cell_type": "markdown",
      "metadata": {
        "_cell_guid": "902e3bef-8798-e2d5-39af-c56668086f46"
      },
      "source": [
        "Let's check that again."
      ]
    },
    {
      "cell_type": "code",
      "execution_count": null,
      "metadata": {
        "_cell_guid": "85ac81fd-0116-507c-dfdb-1130ddd95fb3"
      },
      "outputs": [],
      "source": [
        "data.describe()"
      ]
    },
    {
      "cell_type": "markdown",
      "metadata": {
        "_cell_guid": "c6b20aa0-8755-6fb7-35c0-0ef770638a57"
      },
      "source": [
        "Perfect.\n",
        "\n",
        "Let's now make some charts.\n",
        "\n",
        "Let's visualize survival based on the gender."
      ]
    },
    {
      "cell_type": "code",
      "execution_count": null,
      "metadata": {
        "_cell_guid": "017d9ce6-91d1-be87-911a-d0eae3c5c4d4"
      },
      "outputs": [],
      "source": [
        "survived_sex = data[data['Survived']==1]['Sex'].value_counts()\n",
        "dead_sex = data[data['Survived']==0]['Sex'].value_counts()\n",
        "df = pd.DataFrame([survived_sex,dead_sex])\n",
        "df.index = ['Survived','Dead']\n",
        "df.plot(kind='bar',stacked=True, figsize=(13,8))"
      ]
    },
    {
      "cell_type": "markdown",
      "metadata": {
        "_cell_guid": "ef215ccb-5f1e-2b8d-4a89-ae68cfdd6b6c"
      },
      "source": [
        "The Sex variable seems to be a decisive feature. Women are more likely to survivre."
      ]
    },
    {
      "cell_type": "markdown",
      "metadata": {
        "_cell_guid": "e9f7005a-f701-34fc-83bf-48a0656a8687"
      },
      "source": [
        "Let's now correlate the survival with the age variable."
      ]
    },
    {
      "cell_type": "code",
      "execution_count": null,
      "metadata": {
        "_cell_guid": "bbd80837-7bef-5003-4c67-f1e8dc53e8b2"
      },
      "outputs": [],
      "source": [
        "figure = plt.figure(figsize=(13,8))\n",
        "plt.hist([data[data['Survived']==1]['Age'],data[data['Survived']==0]['Age']], stacked=True, color = ['g','r'],\n",
        "         bins = 30,label = ['Survived','Dead'])\n",
        "plt.xlabel('Age')\n",
        "plt.ylabel('Number of passengers')\n",
        "plt.legend()"
      ]
    },
    {
      "cell_type": "markdown",
      "metadata": {
        "_cell_guid": "0256499b-1775-74c0-140c-bc96e30668ee"
      },
      "source": [
        "If you follow the chart bin by bin, you will notice that passengers who are less than 10 are more likely to survive than older ones who are more than 12 and less than 50. Older passengers seem to be rescued too.\n",
        "\n",
        "These two first charts confirm that one old code of conduct that sailors and captains follow in case of threatening situations: <b>\"Women and children first !\"</b>."
      ]
    },
    {
      "cell_type": "markdown",
      "metadata": {
        "_cell_guid": "df008c1e-acf5-2656-6489-596f40dee5a7"
      },
      "source": [
        "from IPython.display import Image\n",
        "Image(\"../data/women-children.jpg\",height=1000,width=1000)"
      ]
    },
    {
      "cell_type": "markdown",
      "metadata": {
        "_cell_guid": "26bae632-657b-21f9-32c7-3bf69c1c0de6"
      },
      "source": [
        "Right?"
      ]
    },
    {
      "cell_type": "markdown",
      "metadata": {
        "_cell_guid": "1bd67879-8aae-3597-c99d-e9f205099bfd"
      },
      "source": [
        "Let's now focus on the Fare ticket of each passenger and correlate it with the survival. "
      ]
    },
    {
      "cell_type": "code",
      "execution_count": null,
      "metadata": {
        "_cell_guid": "1aa510f5-0d0d-5c68-0ed5-bd1926f6596f"
      },
      "outputs": [],
      "source": [
        "figure = plt.figure(figsize=(13,8))\n",
        "plt.hist([data[data['Survived']==1]['Fare'],data[data['Survived']==0]['Fare']], stacked=True, color = ['g','r'],\n",
        "         bins = 30,label = ['Survived','Dead'])\n",
        "plt.xlabel('Fare')\n",
        "plt.ylabel('Number of passengers')\n",
        "plt.legend()"
      ]
    },
    {
      "cell_type": "markdown",
      "metadata": {
        "_cell_guid": "7137eb5d-00db-5ca2-0a9d-baf5f6ec8bda"
      },
      "source": [
        "Passengers with cheaper ticket fares are more likely to die. \n",
        "Put differently, passengers with more expensive tickets, and therefore a more important social status, seem to be rescued first."
      ]
    },
    {
      "cell_type": "markdown",
      "metadata": {
        "_cell_guid": "1734a930-4204-faaf-6e5b-e794a6facf96"
      },
      "source": [
        "Ok this is nice. Let's now combine the age, the fare and the survival on a single chart."
      ]
    },
    {
      "cell_type": "code",
      "execution_count": null,
      "metadata": {
        "_cell_guid": "3f31cd19-927f-2fca-a15d-d307046043f7"
      },
      "outputs": [],
      "source": [
        "plt.figure(figsize=(13,8))\n",
        "ax = plt.subplot()\n",
        "ax.scatter(data[data['Survived']==1]['Age'],data[data['Survived']==1]['Fare'],c='green',s=40)\n",
        "ax.scatter(data[data['Survived']==0]['Age'],data[data['Survived']==0]['Fare'],c='red',s=40)\n",
        "ax.set_xlabel('Age')\n",
        "ax.set_ylabel('Fare')\n",
        "ax.legend(('survived','dead'),scatterpoints=1,loc='upper right',fontsize=15,)"
      ]
    },
    {
      "cell_type": "markdown",
      "metadata": {
        "_cell_guid": "a5c0ad3b-fbfc-ee89-b56c-04b9694eecf6"
      },
      "source": [
        "A distinct cluster of dead passengers appears on the chart. Those people are adults (age between 15 and 50) of lower class (lowest ticket fares)."
      ]
    },
    {
      "cell_type": "markdown",
      "metadata": {
        "_cell_guid": "e1e4fd56-6ce5-260f-1fd2-7bdaab9b9948"
      },
      "source": [
        "In fact, the ticket fare correlates with the class as we see it in the chart below. "
      ]
    },
    {
      "cell_type": "code",
      "execution_count": null,
      "metadata": {
        "_cell_guid": "a3435c39-26dd-7a58-ded1-ec28137f9a41"
      },
      "outputs": [],
      "source": [
        "ax = plt.subplot()\n",
        "ax.set_ylabel('Average fare')\n",
        "data.groupby('Pclass').mean()['Fare'].plot(kind='bar',figsize=(13,8), ax = ax)"
      ]
    },
    {
      "cell_type": "markdown",
      "metadata": {
        "_cell_guid": "7bfe0aa6-5732-730a-704f-4e045c5e3794"
      },
      "source": [
        "Let's now see how the embarkation site affects the survival."
      ]
    },
    {
      "cell_type": "code",
      "execution_count": null,
      "metadata": {
        "_cell_guid": "bba270b9-fb1d-e2da-20f5-12cb576c1473"
      },
      "outputs": [],
      "source": [
        "survived_embark = data[data['Survived']==1]['Embarked'].value_counts()\n",
        "dead_embark = data[data['Survived']==0]['Embarked'].value_counts()\n",
        "df = pd.DataFrame([survived_embark,dead_embark])\n",
        "df.index = ['Survived','Dead']\n",
        "df.plot(kind='bar',stacked=True, figsize=(13,8))"
      ]
    },
    {
      "cell_type": "markdown",
      "metadata": {
        "_cell_guid": "a24ea07e-2c69-0d08-9916-fdcb9408fd99"
      },
      "source": [
        "The seams to be no distinct correlation here."
      ]
    },
    {
      "cell_type": "markdown",
      "metadata": {
        "_cell_guid": "ef8967d2-7794-e461-135c-991be19331d9"
      },
      "source": [
        "# II - Feature engineering"
      ]
    },
    {
      "cell_type": "markdown",
      "metadata": {
        "_cell_guid": "4f8e011e-687d-2042-4b3b-f32089778e21"
      },
      "source": [
        "In the previous part, we flirted with the data and spotted some interesting correlations. However, we couldn't manage to analyze more complicated features like the names or the tickets because these required further processing.  \n",
        "\n",
        "In this part, we'll focus on the ways to transform these specific features in such a way they become easily fed to machine learning algorithms.\n",
        "\n",
        "We'll also create, or \"engineer\" some other features that'll be useful in building the model.\n",
        "\n",
        "We will break our code in separate functions for more clarity."
      ]
    },
    {
      "cell_type": "markdown",
      "metadata": {
        "_cell_guid": "36f6b1fb-f09a-ee5d-dab9-5a7e328916be"
      },
      "source": [
        "But first let's define a print function that asserts whether or not a feature has been processed. "
      ]
    },
    {
      "cell_type": "code",
      "execution_count": null,
      "metadata": {
        "_cell_guid": "20e48c35-adab-75cf-dbc3-f5cc39839509"
      },
      "outputs": [],
      "source": [
        "def status(feature):\n",
        "\n",
        "    print ('Processing',feature,': ok')"
      ]
    },
    {
      "cell_type": "markdown",
      "metadata": {
        "_cell_guid": "e154c18c-1c38-39c5-0167-5749ccdac8d6"
      },
      "source": [
        "###  Loading the data\n",
        "\n",
        "One trick when starting a machine learning problem is to combine the training set and the test set together. \n",
        "This is useful especially when your test set appears to have a feature that doesn't exist in the training set. Therefore, if we don't combine the two sets, testing our model on the test set will fail.\n",
        "\n",
        "Besides, combining the two sets will save the same work to do later on when testing.\n",
        "\n",
        "The procedure is quite simple. \n",
        "\n",
        "We start by loading the train set and the test set.\n",
        "We create an empty dataframe called <b>combined</b>. \n",
        "Then we append test to train and affect the result to <b>combined</b>."
      ]
    },
    {
      "cell_type": "code",
      "execution_count": null,
      "metadata": {
        "_cell_guid": "6e1ff4aa-1cb3-e31e-e698-d2a1a25ce2de",
        "collapsed": true
      },
      "outputs": [],
      "source": [
        "def get_combined_data():\n",
        "    # reading train data\n",
        "    train = pd.read_csv('../input/train.csv')\n",
        "    \n",
        "    # reading test data\n",
        "    test = pd.read_csv('../input/test.csv')\n",
        "\n",
        "    # extracting and then removing the targets from the training data \n",
        "    targets = train.Survived\n",
        "    train.drop('Survived',1,inplace=True)\n",
        "    \n",
        "\n",
        "    # merging train data and test data for future feature engineering\n",
        "    combined = train.append(test)\n",
        "    combined.reset_index(inplace=True)\n",
        "    combined.drop('index',inplace=True,axis=1)\n",
        "    \n",
        "    return combined"
      ]
    },
    {
      "cell_type": "code",
      "execution_count": null,
      "metadata": {
        "_cell_guid": "0ee28833-0622-f6db-bcd0-5dad1ff46a19",
        "collapsed": true
      },
      "outputs": [],
      "source": [
        "combined = get_combined_data()"
      ]
    },
    {
      "cell_type": "markdown",
      "metadata": {
        "_cell_guid": "c48f9fe8-299b-7f28-552d-64ebc89fc940"
      },
      "source": [
        "Let's have a look at the shape :"
      ]
    },
    {
      "cell_type": "code",
      "execution_count": null,
      "metadata": {
        "_cell_guid": "27dfdf4a-3171-333c-af0f-88efc1553bcc"
      },
      "outputs": [],
      "source": [
        "combined.shape"
      ]
    },
    {
      "cell_type": "markdown",
      "metadata": {
        "_cell_guid": "f3fc963f-b0aa-e8de-8f84-a760fc8bc6a2"
      },
      "source": [
        "train and test sets are combined.\n",
        "\n",
        "You may notice that the total number of rows (1309) is the exact summation of the number of rows in the train set and the test set."
      ]
    },
    {
      "cell_type": "code",
      "execution_count": null,
      "metadata": {
        "_cell_guid": "012d6cf6-62c5-d214-4d57-b45c80aa795e"
      },
      "outputs": [],
      "source": [
        "combined.head()"
      ]
    },
    {
      "cell_type": "markdown",
      "metadata": {
        "_cell_guid": "41bea06f-0c09-8000-8fe2-551a61586c90"
      },
      "source": [
        "### Extracting the passenger titles\n",
        "\n",
        "When looking at the passenger names one could wonder how to process them to extract an easily interpretable information.\n",
        "\n",
        "If you look closely at these first examples: \n",
        "\n",
        "- Braund, <b> Mr.</b> Owen Harris\t\n",
        "- Heikkinen, <b>Miss.</b> Laina\n",
        "- Oliva y Ocana, <b>Dona.</b> Fermina\n",
        "- Peter, <b>Master.</b> Michael J\n",
        "\n",
        "You will notice that each name has a title in it ! This can be a simple Miss. or Mrs. but it can be sometimes something more sophisticated like Master, Sir or Dona. In that case, we might introduce additional information about the social status by simply parsing the name and extracting the title.\n",
        "\n",
        "Let's see how we'll do that in the function below."
      ]
    },
    {
      "cell_type": "code",
      "execution_count": null,
      "metadata": {
        "_cell_guid": "d2b57b3c-2299-88d7-5cb7-32f4108e3e56",
        "collapsed": true
      },
      "outputs": [],
      "source": [
        "def get_titles():\n",
        "\n",
        "    global combined\n",
        "    \n",
        "    # we extract the title from each name\n",
        "    combined['Title'] = combined['Name'].map(lambda name:name.split(',')[1].split('.')[0].strip())\n",
        "    \n",
        "    # a map of more aggregated titles\n",
        "    Title_Dictionary = {\n",
        "                        \"Capt\":       \"Officer\",\n",
        "                        \"Col\":        \"Officer\",\n",
        "                        \"Major\":      \"Officer\",\n",
        "                        \"Jonkheer\":   \"Royalty\",\n",
        "                        \"Don\":        \"Royalty\",\n",
        "                        \"Sir\" :       \"Royalty\",\n",
        "                        \"Dr\":         \"Officer\",\n",
        "                        \"Rev\":        \"Officer\",\n",
        "                        \"the Countess\":\"Royalty\",\n",
        "                        \"Dona\":       \"Royalty\",\n",
        "                        \"Mme\":        \"Mrs\",\n",
        "                        \"Mlle\":       \"Miss\",\n",
        "                        \"Ms\":         \"Mrs\",\n",
        "                        \"Mr\" :        \"Mr\",\n",
        "                        \"Mrs\" :       \"Mrs\",\n",
        "                        \"Miss\" :      \"Miss\",\n",
        "                        \"Master\" :    \"Master\",\n",
        "                        \"Lady\" :      \"Royalty\"\n",
        "\n",
        "                        }\n",
        "    \n",
        "    # we map each title\n",
        "    combined['Title'] = combined.Title.map(Title_Dictionary)"
      ]
    },
    {
      "cell_type": "markdown",
      "metadata": {
        "_cell_guid": "e8e532e4-7050-175d-2fd1-08c3ab10785b"
      },
      "source": [
        "This function parses the names and extract the titles. Then, it maps the titles to categories of titles. \n",
        "We selected : \n",
        "\n",
        "- Officer\n",
        "- Royalty \n",
        "- Mr\n",
        "- Mrs\n",
        "- Miss\n",
        "- Master\n",
        "\n",
        "Let's run it !"
      ]
    },
    {
      "cell_type": "code",
      "execution_count": null,
      "metadata": {
        "_cell_guid": "cd77623a-dfda-cc23-3e4a-4c43dd62eb15"
      },
      "outputs": [],
      "source": [
        "get_titles()"
      ]
    },
    {
      "cell_type": "code",
      "execution_count": null,
      "metadata": {
        "_cell_guid": "36998c63-e4d2-3735-1e2c-5d9e2d63ef61"
      },
      "outputs": [],
      "source": [
        "combined.head()"
      ]
    },
    {
      "cell_type": "markdown",
      "metadata": {
        "_cell_guid": "db6b4f80-9b07-cd85-f663-5845da6c9e55"
      },
      "source": [
        "Perfect. Now we have an additional column called <b>Title</b> that contains the information."
      ]
    },
    {
      "cell_type": "markdown",
      "metadata": {
        "_cell_guid": "62f82d9a-8bce-f9d8-9d1f-c92ec8a926c5",
        "collapsed": true
      },
      "source": [
        "### Processing the ages\n",
        "\n",
        "We have seen in the first part that the Age variable was missing 177 values. This is a large number ( ~\u00a013% of the dataset). Simply replacing them with the mean or the median age might not be the best solution since the age may differ by groups and categories of passengers. \n",
        "\n",
        "To understand why, let's group our dataset by sex, Title and passenger class."
      ]
    },
    {
      "cell_type": "code",
      "execution_count": null,
      "metadata": {
        "_cell_guid": "1d52732e-3d6c-9991-4921-7091e49bf36a"
      },
      "outputs": [],
      "source": [
        "grouped = combined.groupby(['Sex','Pclass','Title'])\n",
        "grouped.median()"
      ]
    },
    {
      "cell_type": "markdown",
      "metadata": {
        "_cell_guid": "3807ecba-a368-b160-6680-f0b47b055583"
      },
      "source": [
        "Look at the median age column and see how this value can be different based on the Sex, Pclass and Title put together.\n",
        "\n",
        "For example: \n",
        "\n",
        "- If the passenger is female, from Pclass 1, and from royalty the median age is 39.\n",
        "- If the passenger is male, from Pclass 3, with a Mr title, the median age is 26.\n",
        "\n",
        "Let's create a function that fills in the missing age in <b>combined</b> based on these different attributes."
      ]
    },
    {
      "cell_type": "code",
      "execution_count": null,
      "metadata": {
        "_cell_guid": "c630fcb6-f044-2bbc-0d4a-5b0ba52ecafe",
        "collapsed": true
      },
      "outputs": [],
      "source": [
        "def process_age():\n",
        "    \n",
        "    global combined\n",
        "    \n",
        "    # a function that fills the missing values of the Age variable\n",
        "    \n",
        "    def fillAges(row):\n",
        "        if row['Sex']=='female' and row['Pclass'] == 1:\n",
        "            if row['Title'] == 'Miss':\n",
        "                return 30\n",
        "            elif row['Title'] == 'Mrs':\n",
        "                return 45\n",
        "            elif row['Title'] == 'Officer':\n",
        "                return 49\n",
        "            elif row['Title'] == 'Royalty':\n",
        "                return 39\n",
        "\n",
        "        elif row['Sex']=='female' and row['Pclass'] == 2:\n",
        "            if row['Title'] == 'Miss':\n",
        "                return 20\n",
        "            elif row['Title'] == 'Mrs':\n",
        "                return 30\n",
        "\n",
        "        elif row['Sex']=='female' and row['Pclass'] == 3:\n",
        "            if row['Title'] == 'Miss':\n",
        "                return 18\n",
        "            elif row['Title'] == 'Mrs':\n",
        "                return 31\n",
        "\n",
        "        elif row['Sex']=='male' and row['Pclass'] == 1:\n",
        "            if row['Title'] == 'Master':\n",
        "                return 6\n",
        "            elif row['Title'] == 'Mr':\n",
        "                return 41.5\n",
        "            elif row['Title'] == 'Officer':\n",
        "                return 52\n",
        "            elif row['Title'] == 'Royalty':\n",
        "                return 40\n",
        "\n",
        "        elif row['Sex']=='male' and row['Pclass'] == 2:\n",
        "            if row['Title'] == 'Master':\n",
        "                return 2\n",
        "            elif row['Title'] == 'Mr':\n",
        "                return 30\n",
        "            elif row['Title'] == 'Officer':\n",
        "                return 41.5\n",
        "\n",
        "        elif row['Sex']=='male' and row['Pclass'] == 3:\n",
        "            if row['Title'] == 'Master':\n",
        "                return 6\n",
        "            elif row['Title'] == 'Mr':\n",
        "                return 26\n",
        "    \n",
        "    combined.Age = combined.apply(lambda r : fillAges(r) if np.isnan(r['Age']) else r['Age'], axis=1)\n",
        "    \n",
        "    status('age')"
      ]
    },
    {
      "cell_type": "code",
      "execution_count": null,
      "metadata": {
        "_cell_guid": "e0c680e3-8b1b-3426-4e3d-1cc0c50fd895"
      },
      "outputs": [],
      "source": [
        "process_age()"
      ]
    },
    {
      "cell_type": "code",
      "execution_count": null,
      "metadata": {
        "_cell_guid": "b3c87be6-42d2-d15a-8502-612f358c517c"
      },
      "outputs": [],
      "source": [
        "combined.info()"
      ]
    },
    {
      "cell_type": "markdown",
      "metadata": {
        "_cell_guid": "95926857-81c6-f786-87c2-5d8db910ffb1"
      },
      "source": [
        "Perfect. The missing ages have been replaced. \n",
        "\n",
        "However, we notice a missing value in Fare, two missing values in Embarked and a lot of missing values in Cabin. We'll come back to these variables later.\n",
        "\n",
        "Let's now process the names."
      ]
    },
    {
      "cell_type": "code",
      "execution_count": null,
      "metadata": {
        "_cell_guid": "d21e8f2b-45f6-5b59-7e1d-233c7ecd1995",
        "collapsed": true
      },
      "outputs": [],
      "source": [
        "def process_names():\n",
        "    \n",
        "    global combined\n",
        "    # we clean the Name variable\n",
        "    combined.drop('Name',axis=1,inplace=True)\n",
        "    \n",
        "    # encoding in dummy variable\n",
        "    titles_dummies = pd.get_dummies(combined['Title'],prefix='Title')\n",
        "    combined = pd.concat([combined,titles_dummies],axis=1)\n",
        "    \n",
        "    # removing the title variable\n",
        "    combined.drop('Title',axis=1,inplace=True)\n",
        "    \n",
        "    status('names')"
      ]
    },
    {
      "cell_type": "markdown",
      "metadata": {
        "_cell_guid": "b400acf6-ae61-b452-36c0-afeba7e29925"
      },
      "source": [
        "This function drops the Name column since we won't be using it anymore because we created a Title column.\n",
        "\n",
        "Then we encode the title values using a dummy encoding."
      ]
    },
    {
      "cell_type": "code",
      "execution_count": null,
      "metadata": {
        "_cell_guid": "26106a5c-fac8-e8ae-3efd-b99ab9c06f79"
      },
      "outputs": [],
      "source": [
        "process_names()"
      ]
    },
    {
      "cell_type": "code",
      "execution_count": null,
      "metadata": {
        "_cell_guid": "485eb19a-0fd6-6ea0-6620-0c52f6a32b49"
      },
      "outputs": [],
      "source": [
        "combined.head()"
      ]
    },
    {
      "cell_type": "markdown",
      "metadata": {
        "_cell_guid": "2b4bc2fc-b9f6-f31b-c565-a8ae5ad2985c"
      },
      "source": [
        "As you can see : \n",
        "- there is no longer a name feature. \n",
        "- new variables (Title_X) appeared. These features are binary. \n",
        "    - For example, If Title_Mr = 1, the corresponding Title is Mr."
      ]
    },
    {
      "cell_type": "markdown",
      "metadata": {
        "_cell_guid": "a077adb5-4765-153d-f4b5-02f79b4c6e32"
      },
      "source": [
        "### Processing Fare"
      ]
    },
    {
      "cell_type": "code",
      "execution_count": null,
      "metadata": {
        "_cell_guid": "c60e4c57-2534-b944-25b6-6e8edefe1bf1",
        "collapsed": true
      },
      "outputs": [],
      "source": [
        "def process_fares():\n",
        "    \n",
        "    global combined\n",
        "    # there's one missing fare value - replacing it with the mean.\n",
        "    combined.Fare.fillna(combined.Fare.mean(),inplace=True)\n",
        "    \n",
        "    status('fare')"
      ]
    },
    {
      "cell_type": "markdown",
      "metadata": {
        "_cell_guid": "30ba0ef5-f3f4-7be2-1b6b-c84338784bfc"
      },
      "source": [
        "This function simply replaces one missing Fare value by the mean."
      ]
    },
    {
      "cell_type": "code",
      "execution_count": null,
      "metadata": {
        "_cell_guid": "f44228e8-d649-14bb-2cc3-7b4489f16313"
      },
      "outputs": [],
      "source": [
        "process_fares()"
      ]
    },
    {
      "cell_type": "markdown",
      "metadata": {
        "_cell_guid": "985e2577-236c-ff2c-c9d1-3a1c1baa96e6"
      },
      "source": [
        "### Processing Embarked"
      ]
    },
    {
      "cell_type": "code",
      "execution_count": null,
      "metadata": {
        "_cell_guid": "a83a2bc7-4ee0-babd-8b61-404e3cd7458c",
        "collapsed": true
      },
      "outputs": [],
      "source": [
        "def process_embarked():\n",
        "    \n",
        "    global combined\n",
        "    # two missing embarked values - filling them with the most frequent one (S)\n",
        "    combined.Embarked.fillna('S',inplace=True)\n",
        "    \n",
        "    # dummy encoding \n",
        "    embarked_dummies = pd.get_dummies(combined['Embarked'],prefix='Embarked')\n",
        "    combined = pd.concat([combined,embarked_dummies],axis=1)\n",
        "    combined.drop('Embarked',axis=1,inplace=True)\n",
        "    \n",
        "    status('embarked')"
      ]
    },
    {
      "cell_type": "markdown",
      "metadata": {
        "_cell_guid": "840251a0-dfa0-2912-474a-90fc48ac0406"
      },
      "source": [
        "This functions replaces the two missing values of Embarked with the most frequent Embarked value."
      ]
    },
    {
      "cell_type": "code",
      "execution_count": null,
      "metadata": {
        "_cell_guid": "aa1c0be1-7c99-b75c-41a5-117497666b5a"
      },
      "outputs": [],
      "source": [
        "process_embarked()"
      ]
    },
    {
      "cell_type": "markdown",
      "metadata": {
        "_cell_guid": "ed516451-1694-3ead-d682-78523e44ead3"
      },
      "source": [
        "### Processing Cabin"
      ]
    },
    {
      "cell_type": "code",
      "execution_count": null,
      "metadata": {
        "_cell_guid": "fd20012c-d8f0-baee-d408-11f74f33a9fb",
        "collapsed": true
      },
      "outputs": [],
      "source": [
        "def process_cabin():\n",
        "    \n",
        "    global combined\n",
        "    \n",
        "    # replacing missing cabins with U (for Uknown)\n",
        "    combined.Cabin.fillna('U',inplace=True)\n",
        "    \n",
        "    # mapping each Cabin value with the cabin letter\n",
        "    combined['Cabin'] = combined['Cabin'].map(lambda c : c[0])\n",
        "    \n",
        "    # dummy encoding ...\n",
        "    cabin_dummies = pd.get_dummies(combined['Cabin'],prefix='Cabin')\n",
        "    \n",
        "    combined = pd.concat([combined,cabin_dummies],axis=1)\n",
        "    \n",
        "    combined.drop('Cabin',axis=1,inplace=True)\n",
        "    \n",
        "    status('cabin')"
      ]
    },
    {
      "cell_type": "markdown",
      "metadata": {
        "_cell_guid": "0aa9c80b-ad69-fbd9-53ad-f917fb15e116"
      },
      "source": [
        "This function replaces NaN values with U (for <i>Unknow</i>). It then maps each Cabin value to the first letter.\n",
        "Then it encodes the cabin values using dummy encoding."
      ]
    },
    {
      "cell_type": "code",
      "execution_count": null,
      "metadata": {
        "_cell_guid": "07a0acdf-13f1-df51-1ff3-595e25462c4a"
      },
      "outputs": [],
      "source": [
        "process_cabin()"
      ]
    },
    {
      "cell_type": "code",
      "execution_count": null,
      "metadata": {
        "_cell_guid": "62987d9b-0b14-c41d-300c-5c2ecf08dfe5"
      },
      "outputs": [],
      "source": [
        "combined.info()"
      ]
    },
    {
      "cell_type": "markdown",
      "metadata": {
        "_cell_guid": "192cf4ad-783f-f418-221e-ce839f5b8eb2"
      },
      "source": [
        "Ok no missing values."
      ]
    },
    {
      "cell_type": "code",
      "execution_count": null,
      "metadata": {
        "_cell_guid": "c87e4c93-a4c2-20ea-8b3a-bf27f133106f"
      },
      "outputs": [],
      "source": [
        "combined.head()"
      ]
    },
    {
      "cell_type": "markdown",
      "metadata": {
        "_cell_guid": "4caaa1e8-08cc-086e-9e67-903c954ec0c3"
      },
      "source": [
        "### Processing Sex"
      ]
    },
    {
      "cell_type": "code",
      "execution_count": null,
      "metadata": {
        "_cell_guid": "6d09efb6-a38e-2fe2-3f02-83198b114460",
        "collapsed": true
      },
      "outputs": [],
      "source": [
        "def process_sex():\n",
        "    \n",
        "    global combined\n",
        "    # mapping string values to numerical one \n",
        "    combined['Sex'] = combined['Sex'].map({'male':1,'female':0})\n",
        "    \n",
        "    status('sex')"
      ]
    },
    {
      "cell_type": "markdown",
      "metadata": {
        "_cell_guid": "ca7bc983-d826-83a0-c87b-2403682d77e2"
      },
      "source": [
        "This function maps the string values male and female to 1 and 0 respectively. "
      ]
    },
    {
      "cell_type": "code",
      "execution_count": null,
      "metadata": {
        "_cell_guid": "8ce51483-bb32-63de-342c-12076fd8af44"
      },
      "outputs": [],
      "source": [
        "process_sex()"
      ]
    },
    {
      "cell_type": "markdown",
      "metadata": {
        "_cell_guid": "4da78de3-dadd-3378-0ccc-8de555ccf240"
      },
      "source": [
        "### Processing Pclass"
      ]
    },
    {
      "cell_type": "code",
      "execution_count": null,
      "metadata": {
        "_cell_guid": "9d8d63b8-69fb-e8d0-620a-f4ef109291c8",
        "collapsed": true
      },
      "outputs": [],
      "source": [
        "def process_pclass():\n",
        "    \n",
        "    global combined\n",
        "    # encoding into 3 categories:\n",
        "    pclass_dummies = pd.get_dummies(combined['Pclass'],prefix=\"Pclass\")\n",
        "    \n",
        "    # adding dummy variables\n",
        "    combined = pd.concat([combined,pclass_dummies],axis=1)\n",
        "    \n",
        "    # removing \"Pclass\"\n",
        "    \n",
        "    combined.drop('Pclass',axis=1,inplace=True)\n",
        "    \n",
        "    status('pclass')"
      ]
    },
    {
      "cell_type": "markdown",
      "metadata": {
        "_cell_guid": "63a2536c-e69d-ea16-3ee2-9c74fcaab254"
      },
      "source": [
        "This function encode the values of Pclass (1,2,3) using a dummy encoding."
      ]
    },
    {
      "cell_type": "code",
      "execution_count": null,
      "metadata": {
        "_cell_guid": "bee937e2-dc41-7e21-4b43-9d305a199be1"
      },
      "outputs": [],
      "source": [
        "process_pclass()"
      ]
    },
    {
      "cell_type": "markdown",
      "metadata": {
        "_cell_guid": "6eb9bb20-64f1-a55c-1749-205d47987963"
      },
      "source": [
        "### Processing Ticket"
      ]
    },
    {
      "cell_type": "code",
      "execution_count": null,
      "metadata": {
        "_cell_guid": "aa28bf6d-16d2-62ea-e977-e82bb87f3f17"
      },
      "outputs": [],
      "source": [
        "def process_ticket():\n",
        "    \n",
        "    global combined\n",
        "    \n",
        "    # a function that extracts each prefix of the ticket, returns 'XXX' if no prefix (i.e the ticket is a digit)\n",
        "    def cleanTicket(ticket):\n",
        "        ticket = ticket.replace('.','')\n",
        "        ticket = ticket.replace('/','')\n",
        "        ticket = ticket.split()\n",
        "        ticket = map(lambda t : t.strip() , ticket)\n",
        "        ticket = filter(lambda t : not t.isdigit(), ticket)\n",
        "        \n",
        "        listTicket_=list(ticket)\n",
        "        if len(listTicket_) > 0:\n",
        "            return listTicket_[0]\n",
        "        else: \n",
        "            return 'XXX'\n",
        "    \n",
        "\n",
        "    # Extracting dummy variables from tickets:\n",
        "\n",
        "    combined['Ticket'] = combined['Ticket'].map(cleanTicket)\n",
        "    tickets_dummies = pd.get_dummies(combined['Ticket'],prefix='Ticket')\n",
        "    combined = pd.concat([combined, tickets_dummies],axis=1)\n",
        "    combined.drop('Ticket',inplace=True,axis=1)\n",
        "\n",
        "    status('ticket')"
      ]
    },
    {
      "cell_type": "markdown",
      "metadata": {
        "_cell_guid": "758ab24d-c8d7-a405-4665-ab6f08a35fc4",
        "collapsed": true
      },
      "source": [
        "* This functions preprocess the tikets first by extracting the ticket prefix. When it fails in extracting a prefix it returns XXX. \n",
        "* Then it encodes prefixes using dummy encoding."
      ]
    },
    {
      "cell_type": "code",
      "execution_count": null,
      "metadata": {
        "_cell_guid": "9509493c-a805-58c7-fcb0-78e10988ba3a"
      },
      "outputs": [],
      "source": [
        "process_ticket()"
      ]
    },
    {
      "cell_type": "markdown",
      "metadata": {
        "_cell_guid": "3a435a30-8959-4c5b-e793-12e078a8cd99"
      },
      "source": [
        "### Processing Family"
      ]
    },
    {
      "cell_type": "markdown",
      "metadata": {
        "_cell_guid": "1793aa7a-d189-f79d-9a63-9ae225752447"
      },
      "source": [
        "This part includes creating new variables based on the size of the family (the size is by the way, another variable we create)."
      ]
    },
    {
      "cell_type": "code",
      "execution_count": null,
      "metadata": {
        "_cell_guid": "ed9b1b62-1bab-b572-7b6f-9d67190f0781",
        "collapsed": true
      },
      "outputs": [],
      "source": [
        "def process_family():\n",
        "    \n",
        "    global combined\n",
        "    # introducing a new feature : the size of families (including the passenger)\n",
        "    combined['FamilySize'] = combined['Parch'] + combined['SibSp'] + 1\n",
        "    \n",
        "    # introducing other features based on the family size\n",
        "    combined['Singleton'] = combined['FamilySize'].map(lambda s : 1 if s == 1 else 0)\n",
        "    combined['SmallFamily'] = combined['FamilySize'].map(lambda s : 1 if 2<=s<=4 else 0)\n",
        "    combined['LargeFamily'] = combined['FamilySize'].map(lambda s : 1 if 5<=s else 0)\n",
        "    \n",
        "    status('family')"
      ]
    },
    {
      "cell_type": "markdown",
      "metadata": {
        "_cell_guid": "1729895d-410d-f13f-e05d-7bc644ad0268"
      },
      "source": [
        "This function introduces 4 new features: \n",
        "\n",
        "- FamilySize : the total number of relatives including the passenger (him/her)self.\n",
        "- Sigleton : a boolean variable that describes families of size = 1\n",
        "- SmallFamily : a boolean variable that describes families of 2 <= size <= 4\n",
        "- LargeFamily : a boolean variable that describes families of 5 < size"
      ]
    },
    {
      "cell_type": "code",
      "execution_count": null,
      "metadata": {
        "_cell_guid": "c74e7769-9c24-0707-0e1c-1956a38a514f"
      },
      "outputs": [],
      "source": [
        "process_family()"
      ]
    },
    {
      "cell_type": "code",
      "execution_count": null,
      "metadata": {
        "_cell_guid": "834c23aa-004c-c88a-1316-2225b1c429b6"
      },
      "outputs": [],
      "source": [
        "combined.shape"
      ]
    },
    {
      "cell_type": "markdown",
      "metadata": {
        "_cell_guid": "224767c5-4bca-2ba6-27ac-70cc1e169a44"
      },
      "source": [
        "We end up with a total of 68 features. "
      ]
    },
    {
      "cell_type": "code",
      "execution_count": null,
      "metadata": {
        "_cell_guid": "e0ac3bcf-dde0-314f-6e08-b30cdbcc071f"
      },
      "outputs": [],
      "source": [
        "combined.head()"
      ]
    },
    {
      "cell_type": "markdown",
      "metadata": {
        "_cell_guid": "19273ebd-1a9c-2b7c-ff97-9157f67de8e5"
      },
      "source": [
        "As you can see, the features range in different intervals. Let's normalize all of them in the unit interval. All of them except the PassengerId."
      ]
    },
    {
      "cell_type": "code",
      "execution_count": null,
      "metadata": {
        "_cell_guid": "32f3ca04-a674-d9bb-f683-2bf55e3783b7"
      },
      "outputs": [],
      "source": [
        "def scale_all_features():\n",
        "    \n",
        "    global combined\n",
        "    \n",
        "    features = list(combined.columns)\n",
        "    features.remove('PassengerId')\n",
        "    combined[features] = combined[features].apply(lambda x: x/x.max(), axis=0)\n",
        "    \n",
        "    print ('Features scaled successfully !')"
      ]
    },
    {
      "cell_type": "code",
      "execution_count": null,
      "metadata": {
        "_cell_guid": "8d9ef479-7003-c36e-2c6e-213301246bec"
      },
      "outputs": [],
      "source": [
        "scale_all_features()"
      ]
    },
    {
      "cell_type": "markdown",
      "metadata": {
        "_cell_guid": "e18e7bf5-977d-a1e2-4219-0d0419412c79",
        "collapsed": true
      },
      "source": [
        "# III - Modeling"
      ]
    },
    {
      "cell_type": "markdown",
      "metadata": {
        "_cell_guid": "61f36e29-8f47-1755-f8dc-42b1bddd38ff"
      },
      "source": [
        "In this part, we use our knowledge of the passengers based on the features we created and then build a statistical model. You can think of this model as a black box that crunches the information of any new passenger and decides whether or not he survives.\n",
        "\n",
        "There is a wide variety of models to use, from logistic regression to decision trees and more sophisticated ones such as random forests and gradient boosted trees.\n",
        "\n",
        "We'll be using Random Forests. Random Froests has proven a great efficiency in Kaggle competitions.\n",
        "\n",
        "For more details about why ensemble methods perform well, you can refer to these posts:\n",
        "\n",
        "- http://mlwave.com/kaggle-ensembling-guide/\n",
        "- http://www.overkillanalytics.net/more-is-always-better-the-power-of-simple-ensembles/\n",
        "\n",
        "Back to our problem, we now have to:\n",
        "\n",
        "1. Break the combined dataset in train set and test set.\n",
        "2. Use the train set to build a predictive model.\n",
        "3. Evaluate the model using the train set.\n",
        "4. Test the model using the test set and generate and output file for the submission.\n",
        "\n",
        "Keep in mind that we'll have to reiterate on 2. and 3. until a acceptable evaluation score is achieved."
      ]
    },
    {
      "cell_type": "markdown",
      "metadata": {
        "_cell_guid": "8668ff92-5a92-4b59-ece1-9f055da8abb6"
      },
      "source": [
        "Let's start by importing the useful libraries."
      ]
    },
    {
      "cell_type": "code",
      "execution_count": null,
      "metadata": {
        "_cell_guid": "4884b0c8-bcc9-713a-2819-9a5b102f7b49"
      },
      "outputs": [],
      "source": [
        "from sklearn.pipeline import make_pipeline\n",
        "from sklearn.ensemble import RandomForestClassifier\n",
        "from sklearn.feature_selection import SelectKBest\n",
        "from sklearn.cross_validation import StratifiedKFold\n",
        "from sklearn.grid_search import GridSearchCV\n",
        "from sklearn.ensemble.gradient_boosting import GradientBoostingClassifier\n",
        "from sklearn.cross_validation import cross_val_score"
      ]
    },
    {
      "cell_type": "markdown",
      "metadata": {
        "_cell_guid": "afb79468-1b04-bea8-fdf0-25e70b667f2d"
      },
      "source": [
        "To evaluate our model we'll be using 5-fold cross validation with the Accuracy metric.\n",
        "\n",
        "To do that, we'll define a small scoring function. "
      ]
    },
    {
      "cell_type": "code",
      "execution_count": null,
      "metadata": {
        "_cell_guid": "cf3c08b7-3dcd-8627-d7fd-1ed2d826aae6",
        "collapsed": true
      },
      "outputs": [],
      "source": [
        "def compute_score(clf, X, y,scoring='accuracy'):\n",
        "    xval = cross_val_score(clf, X, y, cv = 5,scoring=scoring)\n",
        "    return np.mean(xval)"
      ]
    },
    {
      "cell_type": "markdown",
      "metadata": {
        "_cell_guid": "2ccab998-a2dd-85b5-1274-7f2cd23474bb"
      },
      "source": [
        "Recovering the train set and the test set from the combined dataset is an easy task."
      ]
    },
    {
      "cell_type": "code",
      "execution_count": null,
      "metadata": {
        "_cell_guid": "fc8c97fe-5397-5828-8d4f-07a4a6e0f885",
        "collapsed": true
      },
      "outputs": [],
      "source": [
        "def recover_train_test_target():\n",
        "    global combined\n",
        "    \n",
        "    train0 = pd.read_csv('../input/train.csv')\n",
        "    \n",
        "    targets = train0.Survived\n",
        "    train = combined.ix[0:890]\n",
        "    test = combined.ix[891:]\n",
        "    \n",
        "    return train,test,targets"
      ]
    },
    {
      "cell_type": "code",
      "execution_count": null,
      "metadata": {
        "_cell_guid": "77c25c55-d196-6d14-75d4-3b3e7d9eb4b1",
        "collapsed": true
      },
      "outputs": [],
      "source": [
        "train,test,targets = recover_train_test_target()"
      ]
    },
    {
      "cell_type": "markdown",
      "metadata": {
        "_cell_guid": "43abfd58-2f10-0d16-6b14-1b99dafc936d"
      },
      "source": [
        "## Feature selection\n",
        "\n",
        "We've come up with 68 features so far. This number is quite large. \n",
        "\n",
        "When feature engineering is done, we usually tend to decrease the dimensionality by selecting the \"right\" number of features that capture the essential.\n",
        "\n",
        "In fact, feature selection comes with many benefits:\n",
        "\n",
        "- It decreases redundancy among the data\n",
        "- It speeds up the training process\n",
        "- It reduces overfitting"
      ]
    },
    {
      "cell_type": "markdown",
      "metadata": {
        "_cell_guid": "9f337df8-45d7-ea1d-f5f0-704f95da79b2"
      },
      "source": [
        "Tree-based estimators can be used to compute feature importances, which in turn can be used to discard irrelevant features."
      ]
    },
    {
      "cell_type": "code",
      "execution_count": null,
      "metadata": {
        "_cell_guid": "638ce0b7-8b60-65a5-dcef-b4675a40066f"
      },
      "outputs": [],
      "source": [
        "from sklearn.ensemble import ExtraTreesClassifier\n",
        "from sklearn.feature_selection import SelectFromModel\n",
        "clf = ExtraTreesClassifier(n_estimators=200)\n",
        "clf = clf.fit(train, targets)"
      ]
    },
    {
      "cell_type": "markdown",
      "metadata": {
        "_cell_guid": "e7b270e6-ff6a-9c5e-3aba-180d9606586f"
      },
      "source": [
        "Let's have a look at the importance of each feature."
      ]
    },
    {
      "cell_type": "code",
      "execution_count": null,
      "metadata": {
        "_cell_guid": "ea5f6e4f-ed5f-454a-afed-7e4a544daf1a"
      },
      "outputs": [],
      "source": [
        "features = pd.DataFrame()\n",
        "features['feature'] = train.columns\n",
        "features['importance'] = clf.feature_importances_"
      ]
    },
    {
      "cell_type": "code",
      "execution_count": null,
      "metadata": {
        "_cell_guid": "33d33052-1e5b-3738-0a2e-bf84c0441eee"
      },
      "outputs": [],
      "source": [
        "features.sort(['importance'],ascending=False)"
      ]
    },
    {
      "cell_type": "markdown",
      "metadata": {
        "_cell_guid": "730650e8-508d-be3d-7d06-dd948bdd9019"
      },
      "source": [
        "As you may notice, there is a great importance linked to Title_Mr, Age, Fare, and Sex. \n",
        "\n",
        "There is also an important correlation with the Passenger_Id.\n",
        "\n",
        "Let's now transform our train set and test set in a more compact datasets. "
      ]
    },
    {
      "cell_type": "code",
      "execution_count": null,
      "metadata": {
        "_cell_guid": "c3912d5a-f439-6be5-f877-5f5b65309c86"
      },
      "outputs": [],
      "source": [
        "model = SelectFromModel(clf, prefit=True)\n",
        "train_new = model.transform(train)\n",
        "train_new.shape"
      ]
    },
    {
      "cell_type": "code",
      "execution_count": null,
      "metadata": {
        "_cell_guid": "eb7e4243-bcd6-3831-7d3d-960f5ff99bd0"
      },
      "outputs": [],
      "source": [
        "test_new = model.transform(test)\n",
        "test_new.shape"
      ]
    },
    {
      "cell_type": "markdown",
      "metadata": {
        "_cell_guid": "eadf2541-406d-1747-9ab8-b664aa4949d5"
      },
      "source": [
        "Yay! Now we're down to 15 features."
      ]
    },
    {
      "cell_type": "markdown",
      "metadata": {
        "_cell_guid": "91f2f9e4-5ed4-b2c0-0d49-8ba5d4bfa539"
      },
      "source": [
        "### Hyperparameters tuning"
      ]
    },
    {
      "cell_type": "markdown",
      "metadata": {
        "_cell_guid": "3fea0c94-84b0-f5c1-2eb6-ea835c5e8d0e"
      },
      "source": [
        "As mentioned in the beginning of the Modeling part, we will be using a Random Forest model.\n",
        "\n",
        "Random Forest are quite handy. They do however come with some parameters to tweak in order to get an optimal model for the prediction task.\n",
        "\n",
        "To learn more about Random Forests, you can refer to this link: \n",
        "https://www.analyticsvidhya.com/blog/2015/06/tuning-random-forest-model/"
      ]
    },
    {
      "cell_type": "code",
      "execution_count": null,
      "metadata": {
        "_cell_guid": "3c6e266a-47a5-45c7-c8dd-46860b2f720c"
      },
      "outputs": [],
      "source": [
        "forest = RandomForestClassifier(max_features='sqrt')\n",
        "\n",
        "parameter_grid = {\n",
        "                 'max_depth' : [4,5,6,7,8],\n",
        "                 'n_estimators': [200,210,240,250],\n",
        "                 'criterion': ['gini','entropy']\n",
        "                 }\n",
        "\n",
        "cross_validation = StratifiedKFold(targets, n_folds=5)\n",
        "\n",
        "grid_search = GridSearchCV(forest,\n",
        "                           param_grid=parameter_grid,\n",
        "                           cv=cross_validation)\n",
        "\n",
        "grid_search.fit(train_new, targets)\n",
        "\n",
        "print('Best score: {}'.format(grid_search.best_score_))\n",
        "print('Best parameters: {}'.format(grid_search.best_params_))"
      ]
    },
    {
      "cell_type": "markdown",
      "metadata": {
        "_cell_guid": "09ab4d8e-1c91-09ce-32b8-ab66df5127ac"
      },
      "source": [
        "Now that the model is built by scanning all several combinations of hyperparameters, we can generate an output file to submit on Kaggle.\n",
        "\n",
        "This solution allowed me to get an accuracy score of 0.8134 on the public leaderboard."
      ]
    },
    {
      "cell_type": "code",
      "execution_count": null,
      "metadata": {
        "_cell_guid": "71f10a0b-ab78-df01-b9fb-30369e101ae3"
      },
      "outputs": [],
      "source": [
        "output = grid_search.predict(test_new).astype(int)\n",
        "df_output = pd.DataFrame()\n",
        "df_output['PassengerId'] = test['PassengerId']\n",
        "df_output['Survived'] = output\n",
        "df_output[['PassengerId','Survived']].to_csv('titanic.csv',index=False)"
      ]
    },
    {
      "cell_type": "markdown",
      "metadata": {
        "_cell_guid": "d02995eb-c0eb-9555-a213-66ed19c5b54e"
      },
      "source": [
        "# IV - Conclusion"
      ]
    },
    {
      "cell_type": "markdown",
      "metadata": {
        "_cell_guid": "08bbac57-0780-24fa-86ce-1752852142d7"
      },
      "source": [
        "In this article, we explored an interesting dataset brought to us by <a href=\"http://kaggle.com\">Kaggle</a>.\n",
        "\n",
        "We went through the basic bricks of the pipeline:\n",
        "\n",
        "- Data exploration and visualization: an initial step to formulate hypotheses\n",
        "- Data cleaning \n",
        "- Feature engineering \n",
        "- Feature selection\n",
        "- Hyperparameters tuning\n",
        "- Submission\n",
        "\n",
        "Lots of articles have been written about this challenge, so obviously there is a room for improvement.\n",
        "\n",
        "Here is what I suggest for next steps:\n",
        "\n",
        "- Dig more in the data and eventually build new features.\n",
        "- Try different models : logistic regressions, Gradient Boosted trees, XGboost, ...\n",
        "- Try ensemble learning techniques (stacking, blending)\n",
        "- Maybe try other families of ML models (neural networks?)\n",
        "\n",
        "I would be more than happy if you could find out a way to improve my solution. This could make me update the article and definitely give you credit for that. So feel free to post a comment or shoot me an email at ahmed.besbes@hotmail.com"
      ]
    }
  ],
  "metadata": {
    "_change_revision": 0,
    "_is_fork": false,
    "kernelspec": {
      "display_name": "Python 3",
      "language": "python",
      "name": "python3"
    },
    "language_info": {
      "codemirror_mode": {
        "name": "ipython",
        "version": 3
      },
      "file_extension": ".py",
      "mimetype": "text/x-python",
      "name": "python",
      "nbconvert_exporter": "python",
      "pygments_lexer": "ipython3",
      "version": "3.5.2"
    }
  },
  "nbformat": 4,
  "nbformat_minor": 0
}