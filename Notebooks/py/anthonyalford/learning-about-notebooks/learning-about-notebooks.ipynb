{
  "cells": [
    {
      "cell_type": "code",
      "execution_count": null,
      "metadata": {
        "_cell_guid": "5b797107-ce8b-cc34-0d88-87e72071a907"
      },
      "outputs": [],
      "source": [
        "# This Python 3 environment comes with many helpful analytics libraries installed\n",
        "# It is defined by the kaggle/python docker image: https://github.com/kaggle/docker-python\n",
        "# For example, here's several helpful packages to load in \n",
        "\n",
        "import numpy as np # linear algebra\n",
        "import pandas as pd # data processing, CSV file I/O (e.g. pd.read_csv)\n",
        "import matplotlib.pyplot as plt # plotting\n",
        "\n",
        "# Input data files are available in the \"../input/\" directory.\n",
        "# Any results you write to the current directory are saved as output."
      ]
    },
    {
      "cell_type": "code",
      "execution_count": null,
      "metadata": {
        "_cell_guid": "3402238c-0f6f-bef1-b2fe-0d84275e9fae"
      },
      "outputs": [],
      "source": [
        "data = pd.read_csv(\"../input/train.csv\")\n",
        "data.head()"
      ]
    },
    {
      "cell_type": "code",
      "execution_count": null,
      "metadata": {
        "_cell_guid": "df2df997-6762-a0dd-2df9-59e3111015d7"
      },
      "outputs": [],
      "source": [
        "data.shape"
      ]
    },
    {
      "cell_type": "code",
      "execution_count": null,
      "metadata": {
        "_cell_guid": "6eb82e22-9a1f-53c8-0272-b5e0d6fd3c53"
      },
      "outputs": [],
      "source": [
        "X=data.loc[:,\"Pclass\":]\n",
        "X.shape\n",
        "y=data[\"Survived\"]\n",
        "y.shape"
      ]
    },
    {
      "cell_type": "code",
      "execution_count": null,
      "metadata": {
        "_cell_guid": "1b84c017-1079-cb85-8a3d-ad085b25afdf"
      },
      "outputs": [],
      "source": [
        "# Select only the numeric and categorical columns\n",
        "X=data.loc[:,[\"Pclass\",\"Sex\",\"Age\",\"SibSp\",\"Parch\",\"Fare\",\"Embarked\"]]\n",
        "X.shape"
      ]
    },
    {
      "cell_type": "code",
      "execution_count": null,
      "metadata": {
        "_cell_guid": "944ca792-58cc-82d6-9285-d41c5368678b"
      },
      "outputs": [],
      "source": [
        "# convert categorical to \"dummy\" and then fill NaN\n",
        "X=pd.get_dummies(X)\n",
        "X = X.fillna(X.mean())\n",
        "X.head()"
      ]
    },
    {
      "cell_type": "code",
      "execution_count": null,
      "metadata": {
        "_cell_guid": "560cec6e-9517-5f48-97b4-d80fd69f7fbb"
      },
      "outputs": [],
      "source": [
        "y=data[\"Survived\"]\n",
        "y.shape"
      ]
    },
    {
      "cell_type": "code",
      "execution_count": null,
      "metadata": {
        "_cell_guid": "e053a9d5-cda5-3cc4-e9a8-dd99f0ab06c0"
      },
      "outputs": [],
      "source": [
        "from sklearn.model_selection import train_test_split\n",
        "X_train, X_test, y_train, y_test = train_test_split(X, y, test_size=0.33, random_state=42)"
      ]
    },
    {
      "cell_type": "code",
      "execution_count": null,
      "metadata": {
        "_cell_guid": "a0379816-739d-ca57-e026-cd8bf9c2301e"
      },
      "outputs": [],
      "source": [
        "# Let's try a  decision tree\n",
        "from sklearn.tree import DecisionTreeClassifier\n",
        "\n",
        "DTClf = DecisionTreeClassifier()\n",
        "DTClf = DTClf.fit(X_train,y_train)\n",
        "DTClf.score(X_test,y_test)"
      ]
    },
    {
      "cell_type": "code",
      "execution_count": null,
      "metadata": {
        "_cell_guid": "c10466bb-c7ba-eb11-1aef-6cf94407e1f4"
      },
      "outputs": [],
      "source": [
        "from sklearn import metrics\n",
        "fpr, tpr, thresholds = metrics.roc_curve(y_test,DTClf.predict(X_test))\n",
        "metrics.auc(fpr, tpr)"
      ]
    },
    {
      "cell_type": "code",
      "execution_count": null,
      "metadata": {
        "_cell_guid": "c46b0516-1bcf-41d4-2d11-c8104156f37d"
      },
      "outputs": [],
      "source": [
        "plt.figure()\n",
        "plt.plot(fpr, tpr, color='darkorange')\n",
        "plt.plot([0, 1], [0, 1], color='navy', lw=lw, linestyle='--')\n",
        "plt.xlim([0.0, 1.0])\n",
        "plt.ylim([0.0, 1.05])\n",
        "plt.xlabel('False Positive Rate')\n",
        "plt.ylabel('True Positive Rate')\n",
        "plt.title('Receiver operating characteristic example')\n",
        "plt.legend(loc=\"lower right\")\n"
      ]
    }
  ],
  "metadata": {
    "_change_revision": 0,
    "_is_fork": false,
    "kernelspec": {
      "display_name": "Python 3",
      "language": "python",
      "name": "python3"
    },
    "language_info": {
      "codemirror_mode": {
        "name": "ipython",
        "version": 3
      },
      "file_extension": ".py",
      "mimetype": "text/x-python",
      "name": "python",
      "nbconvert_exporter": "python",
      "pygments_lexer": "ipython3",
      "version": "3.6.0"
    }
  },
  "nbformat": 4,
  "nbformat_minor": 0
}