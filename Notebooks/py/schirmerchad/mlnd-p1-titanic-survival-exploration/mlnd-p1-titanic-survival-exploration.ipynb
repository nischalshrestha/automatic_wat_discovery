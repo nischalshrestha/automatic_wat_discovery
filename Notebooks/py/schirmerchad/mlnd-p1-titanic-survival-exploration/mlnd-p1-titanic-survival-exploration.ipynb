{
  "cells": [
    {
      "cell_type": "markdown",
      "metadata": {
        "_cell_guid": "2936a531-3779-44f8-e478-5c7165e8525e"
      },
      "source": [
        "**Project: Titanic Survival Exploration**\n",
        "-----------------------------------------\n",
        "\n",
        "In 1912, the ship RMS Titanic struck an iceberg on its maiden voyage and sank, resulting in the deaths of most of its passengers and crew. In this introductory project, we will explore a subset of the RMS Titanic passenger manifest to determine which features best predict whether someone survived or did not survive. To complete this project, you will need to implement several conditional predictions and answer the questions below. Your project submission will be evaluated based on the completion of the code and your responses to the questions."
      ]
    },
    {
      "cell_type": "code",
      "execution_count": null,
      "metadata": {
        "_cell_guid": "650a1e97-ed30-5273-76b7-455341484ff8"
      },
      "outputs": [],
      "source": [
        "import numpy as np\n",
        "import pandas as pd\n",
        "from IPython.display import display\n",
        "import matplotlib.pyplot as plt\n",
        "%matplotlib inline\n",
        "\n",
        "test_data = pd.read_csv('../input/test.csv')\n",
        "train_data = pd.read_csv('../input/train.csv')\n",
        "combined_data = pd.concat([train_data.drop('Survived', axis=1), test_data])"
      ]
    },
    {
      "cell_type": "code",
      "execution_count": null,
      "metadata": {
        "_cell_guid": "bae870ed-0ccf-4513-beeb-cee2e12ffb41"
      },
      "outputs": [],
      "source": [
        "outcomes = train_data['Survived']\n",
        "train = train_data.drop('Survived', axis=1)\n",
        "train.head()"
      ]
    },
    {
      "cell_type": "code",
      "execution_count": null,
      "metadata": {
        "_cell_guid": "2b8e2c91-cf97-b5f4-0846-86b2326184e5"
      },
      "outputs": [],
      "source": [
        "def accuracy_score(truth, pred):\n",
        "    if len(truth) == len(pred):\n",
        "        return 'Predictions have an accuracy of {:.2f}%'.format((truth == pred).mean()*100)\n",
        "    else:\n",
        "        return 'Number of predictions does not match the number of outcomes'"
      ]
    },
    {
      "cell_type": "code",
      "execution_count": null,
      "metadata": {
        "_cell_guid": "9b4d32f1-b59b-df4c-1a71-e96473f6b799"
      },
      "outputs": [],
      "source": [
        "def predictions_0(data):\n",
        "    \n",
        "    predictions = []\n",
        "    \n",
        "    for _, passenger in data.iterrows():\n",
        "        predictions.append(0)\n",
        "    return pd.Series(predictions)\n",
        "\n",
        "predictions = predictions_0(train)\n",
        "accuracy_score(outcomes, predictions)"
      ]
    },
    {
      "cell_type": "code",
      "execution_count": null,
      "metadata": {
        "_cell_guid": "6a434bd1-2e45-2bb5-ba39-1bfe2c866d5f"
      },
      "outputs": [],
      "source": [
        "def predictions_1(data):\n",
        "    \n",
        "    predictions = []\n",
        "    \n",
        "    for _, passenger in data.iterrows():\n",
        "        \n",
        "        predictions.append( 0 if passenger['Sex'] == 'male' else 1)\n",
        "        \n",
        "    return pd.Series(predictions)\n",
        "\n",
        "predictions = predictions_1(train)\n",
        "accuracy_score(outcomes, predictions)"
      ]
    },
    {
      "cell_type": "code",
      "execution_count": null,
      "metadata": {
        "_cell_guid": "dab11b76-f777-d6d1-3fcc-e9f0b1550467"
      },
      "outputs": [],
      "source": [
        "def accuracy_score(truth, pred):\n",
        "    if len(truth) == len(pred):\n",
        "        return 'Predictions have an accuracy of {:.2f}%'.format((truth == pred).mean()*100)\n",
        "    else:\n",
        "        return 'Number of predictions does not match the number of outcomes'"
      ]
    },
    {
      "cell_type": "code",
      "execution_count": null,
      "metadata": {
        "_cell_guid": "73822164-48cd-6989-531b-933f85e8d39c"
      },
      "outputs": [],
      "source": [
        "def predictions_0(data):\n",
        "    \n",
        "    predictions = []\n",
        "    \n",
        "    for _, passenger in data.iterrows():\n",
        "        predictions.append(0)\n",
        "    return pd.Series(predictions)\n",
        "\n",
        "predictions = predictions_0(train)\n",
        "accuracy_score(outcomes, predictions)"
      ]
    },
    {
      "cell_type": "code",
      "execution_count": null,
      "metadata": {
        "_cell_guid": "ad4cd414-ca98-591b-ea95-846287b982e0"
      },
      "outputs": [],
      "source": [
        "def predictions_1(data):\n",
        "    \n",
        "    predictions = []\n",
        "    \n",
        "    for _, passenger in data.iterrows():\n",
        "        \n",
        "        predictions.append(0 if passenger['Sex'] == 'male' else 1)\n",
        "        \n",
        "    return pd.Series(predictions)\n",
        "\n",
        "predictions = predictions_1(train)\n",
        "accuracy_score(outcomes, predictions)"
      ]
    },
    {
      "cell_type": "code",
      "execution_count": null,
      "metadata": {
        "_cell_guid": "86c0eeeb-fe5b-cf06-6c13-597abe5d09de"
      },
      "outputs": [],
      "source": [
        "def predictions_2(data):\n",
        "    \n",
        "    predictions = []\n",
        "    \n",
        "    for _, passenger in data.iterrows():\n",
        "        \n",
        "        predictions.append(1 if passenger['Age'] < 10 or passenger['Sex'] == 'female' else 0)\n",
        "        \n",
        "    return pd.Series(predictions)\n",
        "\n",
        "predictions = predictions_2(train)\n",
        "accuracy_score(outcomes, predictions)"
      ]
    },
    {
      "cell_type": "code",
      "execution_count": null,
      "metadata": {
        "_cell_guid": "da7b918c-73c0-4231-1f1a-b7fae86505b2"
      },
      "outputs": [],
      "source": [
        "def predictions_3(data):\n",
        "    \n",
        "    predictions = []\n",
        "    \n",
        "    for _, passenger in data.iterrows():\n",
        "        \n",
        "        if (passenger['Sex'] == 'male'):\n",
        "            if (passenger['Pclass'] == 2):\n",
        "                if (passenger['Age'] > 15):\n",
        "                    predictions.append(0)\n",
        "                else:\n",
        "                    predictions.append(1)\n",
        "            else:\n",
        "                predictions.append(0)\n",
        "        else:\n",
        "            if passenger['SibSp'] > 2:\n",
        "                predictions.append(0)\n",
        "            else:\n",
        "                predictions.append(1)\n",
        "        \n",
        "    return pd.Series(predictions)\n",
        "\n",
        "predictions = predictions_3(train)\n",
        "accuracy_score(outcomes, predictions)"
      ]
    },
    {
      "cell_type": "code",
      "execution_count": null,
      "metadata": {
        "_cell_guid": "ca22308e-0d84-9315-7657-0ba524ef7afd"
      },
      "outputs": [],
      "source": [
        "predictions = predictions_3(test_data)\n",
        "predictions.head()"
      ]
    },
    {
      "cell_type": "code",
      "execution_count": null,
      "metadata": {
        "_cell_guid": "667708c3-bdd0-24b9-0011-a55e84c7619d"
      },
      "outputs": [],
      "source": [
        "submission = pd.DataFrame({'PassengerId': test_data['PassengerId'], 'Survived': predictions})\n",
        "submission.to_csv('submission.csv', index=False)"
      ]
    }
  ],
  "metadata": {
    "_change_revision": 0,
    "_is_fork": false,
    "kernelspec": {
      "display_name": "Python 3",
      "language": "python",
      "name": "python3"
    },
    "language_info": {
      "codemirror_mode": {
        "name": "ipython",
        "version": 3
      },
      "file_extension": ".py",
      "mimetype": "text/x-python",
      "name": "python",
      "nbconvert_exporter": "python",
      "pygments_lexer": "ipython3",
      "version": "3.6.0"
    }
  },
  "nbformat": 4,
  "nbformat_minor": 0
}