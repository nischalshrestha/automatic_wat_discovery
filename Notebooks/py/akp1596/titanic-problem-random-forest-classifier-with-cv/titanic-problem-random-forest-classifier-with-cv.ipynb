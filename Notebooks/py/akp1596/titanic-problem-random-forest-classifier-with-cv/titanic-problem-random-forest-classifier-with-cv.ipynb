{
  "cells": [
    {
      "cell_type": "markdown",
      "metadata": {
        "_cell_guid": "219fd9d8-93c4-3cf2-b922-9d77fd6a1bfe"
      },
      "source": [
        "## Part 1: Loading the Dataset ##"
      ]
    },
    {
      "cell_type": "code",
      "execution_count": null,
      "metadata": {
        "_cell_guid": "4ee25f5f-e226-6dee-91c6-71874c554508"
      },
      "outputs": [],
      "source": [
        "#import library to read and plot the data\n",
        "\n",
        "import matplotlib.pyplot as plt\n",
        "%matplotlib inline\n",
        "import numpy as np\n",
        "import pandas as pd\n",
        "from pandas import Series, DataFrame\n",
        "from patsy import dmatrices,dmatrix "
      ]
    },
    {
      "cell_type": "code",
      "execution_count": null,
      "metadata": {
        "_cell_guid": "4056a281-4740-1625-9277-ea042f11e51f"
      },
      "outputs": [],
      "source": [
        "#Titatic competitor usign pandas and scikit library\n",
        "import string\n",
        "from operator import itemgetter\n",
        "#json library for settings file\n",
        "import json\n",
        "# import the machine learning library that holds the randomforest\n",
        "from sklearn.ensemble import RandomForestClassifier\n",
        "from sklearn.model_selection import cross_val_score\n",
        "from sklearn.pipeline import Pipeline\n",
        "from sklearn.model_selection import GridSearchCV\n",
        "from sklearn.model_selection import train_test_split,StratifiedShuffleSplit,StratifiedKFold\n",
        "from sklearn import preprocessing\n",
        "\n",
        "#joblib library for serialization\n",
        "from sklearn.externals import joblib\n",
        "\n",
        "from operator import itemgetter"
      ]
    },
    {
      "cell_type": "code",
      "execution_count": null,
      "metadata": {
        "_cell_guid": "7dbf60e1-8824-820a-c511-0530e6bf47fe"
      },
      "outputs": [],
      "source": [
        "#read data using pandas library\n",
        "df= pd.read_csv('../input/train.csv') \n",
        "\n",
        "train_file='../input/train.csv'\n",
        "test_file='../input/test.csv'\n",
        "seed= 0\n",
        "\n",
        "print(train_file,seed)"
      ]
    },
    {
      "cell_type": "markdown",
      "metadata": {
        "_cell_guid": "5ef7e134-0c66-b1ef-faa5-54f6aaff44d9"
      },
      "source": [
        "## Part 2: Creating Functions to Clean the Test and Train Data ##"
      ]
    },
    {
      "cell_type": "code",
      "execution_count": null,
      "metadata": {
        "_cell_guid": "135f2ab2-8395-285f-efdb-5da8dc215e86"
      },
      "outputs": [],
      "source": [
        "# Utility function to report best scores\n",
        "def report(grid_scores, n_top=3):\n",
        "    top_scores = sorted(grid_scores, key=itemgetter(1), reverse=True)[:n_top]\n",
        "    for i, score in enumerate(top_scores):\n",
        "        print(\"Model with rank: {0}\".format(i + 1))\n",
        "        print(\"Mean validation score: {0:.3f} (std: {1:.3f})\".format(\n",
        "              score.mean_validation_score,\n",
        "              np.std(score.cv_validation_scores)))\n",
        "        print(\"Parameters: {0}\".format(score.parameters))\n",
        "        print(\"\")\n",
        "\n",
        "###utility to clean and munge data\n",
        "def substrings_in_string(big_string, substrings):\n",
        "    for substring in substrings:\n",
        "        if str.find(big_string, substring) != -1:\n",
        "            return substring\n",
        "    print(big_string)\n",
        "    return np.nan\n",
        "\n",
        "le = preprocessing.LabelEncoder()\n",
        "enc= preprocessing.OneHotEncoder()\n",
        "\n",
        "def clean_and_munge_data(df):\n",
        "    #setting silly values to nan\n",
        "    df.Fare = df.Fare.map(lambda x: np.nan if x==0 else x)\n",
        "    #creating a title column from name\n",
        "    title_list=['Mrs', 'Mr', 'Master', 'Miss', 'Major', 'Rev',\n",
        "                'Dr', 'Ms', 'Mlle','Col', 'Capt', 'Mme', 'Countess',\n",
        "                'Don', 'Jonkheer']\n",
        "    df['Title']=df['Name'].map(lambda x: substrings_in_string(x, title_list))\n",
        "\n",
        "    #replacing all titles with mr, mrs, miss, master\n",
        "    def replace_titles(x):\n",
        "        title=x['Title']\n",
        "        if title in ['Mr','Don', 'Major', 'Capt', 'Jonkheer', 'Rev', 'Col']:\n",
        "            return 'Mr'\n",
        "        elif title in ['Master']:\n",
        "            return 'Master'\n",
        "        elif title in ['Countess', 'Mme','Mrs']:\n",
        "            return 'Mrs'\n",
        "        elif title in ['Mlle', 'Ms','Miss']:\n",
        "            return 'Miss'\n",
        "        elif title =='Dr':\n",
        "            if x['Sex']=='Male':\n",
        "                return 'Mr'\n",
        "            else:\n",
        "                return 'Mrs'\n",
        "        elif title =='':\n",
        "            if x['Sex']=='Male':\n",
        "                return 'Master'\n",
        "            else:\n",
        "                return 'Miss'\n",
        "        else:\n",
        "            return title\n",
        "\n",
        "    df['Title']=df.apply(replace_titles, axis=1)\n",
        "\n",
        "    #Creating new family_size column\n",
        "    df['Family_Size']=df['SibSp']+df['Parch']\n",
        "    df['Family']=df['SibSp']*df['Parch']\n",
        "\n",
        "\n",
        "    #imputing nan values\n",
        "    df.loc[ (df.Fare.isnull())&(df.Pclass==1),'Fare'] =np.median(df[df['Pclass'] == 1]['Fare'].dropna())\n",
        "    df.loc[ (df.Fare.isnull())&(df.Pclass==2),'Fare'] =np.median( df[df['Pclass'] == 2]['Fare'].dropna())\n",
        "    df.loc[ (df.Fare.isnull())&(df.Pclass==3),'Fare'] = np.median(df[df['Pclass'] == 3]['Fare'].dropna())\n",
        "\n",
        "    df['Gender'] = df['Sex'].map( {'female': 0, 'male': 1} ).astype(int)\n",
        "\n",
        "    df['AgeFill']=df['Age']\n",
        "    mean_ages = np.zeros(4)\n",
        "    mean_ages[0]=np.average(df[df['Title'] == 'Miss']['Age'].dropna())\n",
        "    mean_ages[1]=np.average(df[df['Title'] == 'Mrs']['Age'].dropna())\n",
        "    mean_ages[2]=np.average(df[df['Title'] == 'Mr']['Age'].dropna())\n",
        "    mean_ages[3]=np.average(df[df['Title'] == 'Master']['Age'].dropna())\n",
        "    df.loc[ (df.Age.isnull()) & (df.Title == 'Miss') ,'AgeFill'] = mean_ages[0]\n",
        "    df.loc[ (df.Age.isnull()) & (df.Title == 'Mrs') ,'AgeFill'] = mean_ages[1]\n",
        "    df.loc[ (df.Age.isnull()) & (df.Title == 'Mr') ,'AgeFill'] = mean_ages[2]\n",
        "    df.loc[ (df.Age.isnull()) & (df.Title == 'Master') ,'AgeFill'] = mean_ages[3]\n",
        "\n",
        "    df['AgeCat']=df['AgeFill']\n",
        "    df.loc[ (df.AgeFill<=10) ,'AgeCat'] = 'child'\n",
        "    df.loc[ (df.AgeFill>60),'AgeCat'] = 'aged'\n",
        "    df.loc[ (df.AgeFill>10) & (df.AgeFill <=30) ,'AgeCat'] = 'adult'\n",
        "    df.loc[ (df.AgeFill>30) & (df.AgeFill <=60) ,'AgeCat'] = 'senior'\n",
        "\n",
        "    df.Embarked = df.Embarked.fillna('S')\n",
        "\n",
        "\n",
        "    #Special case for cabins as nan may be signal\n",
        "    df.loc[ df.Cabin.isnull()==True,'Cabin'] = 0.5\n",
        "    df.loc[ df.Cabin.isnull()==False,'Cabin'] = 1.5\n",
        "   \n",
        "    #Fare per person\n",
        "    df['Fare_Per_Person']=df['Fare']/(df['Family_Size']+1)\n",
        "\n",
        "    #Age times class\n",
        "    df['AgeClass']=df['AgeFill']*df['Pclass']\n",
        "    df['ClassFare']=df['Pclass']*df['Fare_Per_Person']\n",
        "\n",
        "\n",
        "    df['HighLow']=df['Pclass']\n",
        "    df.loc[ (df.Fare_Per_Person<8) ,'HighLow'] = 'Low'\n",
        "    df.loc[ (df.Fare_Per_Person>=8) ,'HighLow'] = 'High'\n",
        "\n",
        "    le.fit(df['Sex'] )\n",
        "    x_sex=le.transform(df['Sex'])\n",
        "    df['Sex']=x_sex.astype(np.float)\n",
        "\n",
        "    le.fit( df['Ticket'])\n",
        "    x_Ticket=le.transform( df['Ticket'])\n",
        "    df['Ticket']=x_Ticket.astype(np.float)\n",
        "\n",
        "    le.fit(df['Title'])\n",
        "    x_title=le.transform(df['Title'])\n",
        "    df['Title'] =x_title.astype(np.float)\n",
        "\n",
        "    le.fit(df['HighLow'])\n",
        "    x_hl=le.transform(df['HighLow'])\n",
        "    df['HighLow']=x_hl.astype(np.float)\n",
        "\n",
        "\n",
        "    le.fit(df['AgeCat'])\n",
        "    x_age=le.transform(df['AgeCat'])\n",
        "    df['AgeCat'] =x_age.astype(np.float)\n",
        "\n",
        "    le.fit(df['Embarked'])\n",
        "    x_emb=le.transform(df['Embarked'])\n",
        "    df['Embarked']=x_emb.astype(np.float)\n",
        "\n",
        "    df = df.drop(['PassengerId','Name','Age','Cabin'], axis=1) #remove Name,Age and PassengerId\n",
        "\n",
        "    return df\n",
        "\n",
        "\n",
        "\n",
        "########################################loading################################\n",
        "#read data\n",
        "traindf=pd.read_csv(train_file)\n",
        "##clean data\n",
        "df=clean_and_munge_data(traindf)"
      ]
    },
    {
      "cell_type": "markdown",
      "metadata": {
        "_cell_guid": "b5a66190-17cf-abb4-a04a-2789de215004"
      },
      "source": [
        "## Part 3: Creating a Random Forest Classifier with Cross Validation  ##"
      ]
    },
    {
      "cell_type": "code",
      "execution_count": null,
      "metadata": {
        "_cell_guid": "d4eff90b-2d41-47f8-e437-153155b576b5"
      },
      "outputs": [],
      "source": [
        "########################################formula################################\n",
        " \n",
        "formula_ml= 'Survived~Pclass+C(Title)+Sex+C(AgeCat)+Fare_Per_Person+Fare+Family_Size' \n",
        "\n",
        "y_train, x_train = dmatrices(formula_ml, data=df, return_type='dataframe')\n",
        "y_train = np.asarray(y_train).ravel()\n",
        "\n",
        "print(y_train.shape,x_train.shape)\n",
        "\n",
        "##select a train and test set\n",
        "X_train, X_test, Y_train, Y_test = train_test_split(x_train, y_train, test_size=0.2,random_state=seed)\n",
        "\n",
        "#instantiate and fit our model\n",
        "clf= RandomForestClassifier(n_estimators=500, criterion='entropy', max_depth=5, min_samples_split=2,\n",
        "  min_samples_leaf=1, max_features='auto', bootstrap=False, oob_score=False, n_jobs=1, random_state=seed,\n",
        "  verbose=0)\n",
        "\n",
        "np.shape(X_train)\n",
        "np.shape(y_train)\n",
        "\n",
        "###Compute grid search to find best paramters for pipeline\n",
        "param_grid = dict()\n",
        "\n",
        "##classify pipeline\n",
        "grid_search = GridSearchCV(clf, param_grid=param_grid, verbose=3,scoring='accuracy',\\\n",
        "cv=StratifiedShuffleSplit(test_size=0.2,random_state=seed).get_n_splits(Y_train)).fit(X_train, Y_train)"
      ]
    },
    {
      "cell_type": "markdown",
      "metadata": {
        "_cell_guid": "b44dff98-3bc4-3530-05d9-9d259fdfe4f5"
      },
      "source": [
        "## Part 4: Analysing the Performance of our Model ##"
      ]
    },
    {
      "cell_type": "code",
      "execution_count": null,
      "metadata": {
        "_cell_guid": "a9b939bc-5a20-f3df-92a6-3bbf490c7b5a"
      },
      "outputs": [],
      "source": [
        "from sklearn.metrics import classification_report\n",
        "\n",
        "# Score the results\n",
        "###print result\n",
        "print(\"Best score: %0.3f\" % grid_search.best_score_)\n",
        "print(grid_search.best_estimator_)\n",
        "\n",
        "report(grid_search.grid_scores_)\n",
        " \n",
        "print('-----grid search end------------')\n",
        "\n",
        "print ('on all train set')\n",
        "scores = cross_val_score(grid_search.best_estimator_, x_train, y_train,cv=3,scoring='accuracy')\n",
        "print (scores.mean(),scores)\n",
        "\n",
        "print ('on test set')\n",
        "scores = cross_val_score(grid_search.best_estimator_, X_test, Y_test,cv=3,scoring='accuracy')\n",
        "print (scores.mean(),scores)\n",
        "\n",
        "# Score the results\n",
        "\n",
        "print(classification_report(Y_train, grid_search.best_estimator_.predict(X_train) ))\n",
        "print('test data')\n",
        "print(classification_report(Y_test, grid_search.best_estimator_.predict(X_test) ))"
      ]
    },
    {
      "cell_type": "markdown",
      "metadata": {
        "_cell_guid": "3bc1f2e6-46dd-d377-3cd2-075bf9e0210f"
      },
      "source": [
        "## Part 5: Making the Prediction ##"
      ]
    },
    {
      "cell_type": "code",
      "execution_count": null,
      "metadata": {
        "_cell_guid": "78f6fc38-1329-de8b-5202-0fffb3aabd91"
      },
      "outputs": [],
      "source": [
        "print (test_file, seed)"
      ]
    },
    {
      "cell_type": "code",
      "execution_count": null,
      "metadata": {
        "_cell_guid": "649b062b-b261-0e97-4b4c-7df3a0c53a87"
      },
      "outputs": [],
      "source": [
        "#read data\n",
        "\n",
        "testdf=pd.read_csv(test_file)\n",
        "\n",
        "ID=testdf['PassengerId']\n",
        "##clean data\n",
        "df_test=clean_and_munge_data(testdf)\n",
        "df_test['Survived'] =  [0 for x in range(len(df_test))]\n",
        "\n",
        "print (df_test.shape)"
      ]
    },
    {
      "cell_type": "code",
      "execution_count": null,
      "metadata": {
        "_cell_guid": "9a157c9c-4207-b4d7-4431-9847fab27c54"
      },
      "outputs": [],
      "source": [
        "formula_ml='Survived~Pclass+C(Title)+Sex+C(AgeCat)+Fare_Per_Person+Fare+Family_Size' \n",
        "\n",
        "y_p,x_test = dmatrices(formula_ml, data=df_test, return_type='dataframe')\n",
        "y_p = np.asarray(y_p).ravel()\n",
        "print (y_p.shape,x_test.shape)\n",
        "\n",
        "####estimate prediction on test data set\n",
        "y_p=grid_search.best_estimator_.predict(x_test).astype(int)\n",
        "print ('Result:\\n')\n",
        "y_p"
      ]
    },
    {
      "cell_type": "code",
      "execution_count": null,
      "metadata": {
        "_cell_guid": "553e20ef-02c2-0c34-ccde-4feb9c25291c"
      },
      "outputs": [],
      "source": [
        ""
      ]
    }
  ],
  "metadata": {
    "_change_revision": 0,
    "_is_fork": false,
    "kernelspec": {
      "display_name": "Python 3",
      "language": "python",
      "name": "python3"
    },
    "language_info": {
      "codemirror_mode": {
        "name": "ipython",
        "version": 3
      },
      "file_extension": ".py",
      "mimetype": "text/x-python",
      "name": "python",
      "nbconvert_exporter": "python",
      "pygments_lexer": "ipython3",
      "version": "3.6.0"
    }
  },
  "nbformat": 4,
  "nbformat_minor": 0
}