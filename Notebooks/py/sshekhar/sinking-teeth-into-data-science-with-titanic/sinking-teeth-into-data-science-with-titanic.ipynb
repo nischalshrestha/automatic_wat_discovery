{
  "cells": [
    {
      "cell_type": "markdown",
      "metadata": {
        "_cell_guid": "9a2cf7f1-a2c5-b26a-1582-981cefd43f1c"
      },
      "source": ""
    },
    {
      "cell_type": "markdown",
      "metadata": {
        "_cell_guid": "1004cd4e-43bc-b53d-4ebe-885fdd1fea03"
      },
      "source": ""
    },
    {
      "cell_type": "code",
      "execution_count": null,
      "metadata": {
        "_cell_guid": "72a2a3a2-6a93-c50c-ba11-a3d9b09c83f0"
      },
      "outputs": [],
      "source": [
        "%matplotlib inline \n",
        "\n",
        "import numpy as np \n",
        "import pandas as pd \n",
        "import matplotlib\n",
        "import matplotlib.pyplot as plt"
      ]
    },
    {
      "cell_type": "markdown",
      "metadata": {
        "_cell_guid": "6f017982-d944-9e11-4390-eaa9cb6c815c"
      },
      "source": ""
    },
    {
      "cell_type": "code",
      "execution_count": null,
      "metadata": {
        "_cell_guid": "93ade966-5c3d-8adf-5e97-32cd36d1b0d9"
      },
      "outputs": [],
      "source": [
        "train = pd.read_csv('../input/train.csv')\n",
        "test = pd.read_csv('../input/test.csv')"
      ]
    },
    {
      "cell_type": "markdown",
      "metadata": {
        "_cell_guid": "192e38f6-1e68-fdeb-6e58-18e7fa29351a"
      },
      "source": ""
    },
    {
      "cell_type": "code",
      "execution_count": null,
      "metadata": {
        "_cell_guid": "9eb55e20-0555-1dd4-ead3-2272f4c1025b"
      },
      "outputs": [],
      "source": [
        "# Get an overview of the data\n",
        "\n",
        "print(train.info())\n",
        "print(test.info())"
      ]
    },
    {
      "cell_type": "markdown",
      "metadata": {
        "_cell_guid": "9982c97a-46c6-3daf-2981-2b6979d43678"
      },
      "source": ""
    },
    {
      "cell_type": "code",
      "execution_count": null,
      "metadata": {
        "_cell_guid": "207699c1-6ec9-8c08-b059-d33d91841d10"
      },
      "outputs": [],
      "source": [
        "# Now we will have a look at individual features to see if everything's fine\n",
        "\n",
        "print(train.PassengerId.describe())\n",
        "print(train.Name.head(20))"
      ]
    },
    {
      "cell_type": "markdown",
      "metadata": {
        "_cell_guid": "69aeacfb-6113-47f3-9b70-4da06d7c29b0"
      },
      "source": ""
    },
    {
      "cell_type": "code",
      "execution_count": null,
      "metadata": {
        "_cell_guid": "e7f723f8-f3a0-4cd9-b5b0-1e685dd7073c"
      },
      "outputs": [],
      "source": [
        "# View the Passenger class\n",
        "print(train.Pclass.value_counts())\n",
        "plt.hist(train.Pclass,bins=3)\n",
        "plt.show()"
      ]
    },
    {
      "cell_type": "markdown",
      "metadata": {
        "_cell_guid": "56d64c36-6294-858d-5ba7-2be3615623f7"
      },
      "source": ""
    },
    {
      "cell_type": "code",
      "execution_count": null,
      "metadata": {
        "_cell_guid": "1b459dc0-51a3-81c8-f2fa-351a78a25b8a"
      },
      "outputs": [],
      "source": [
        "# Check the Sex column\n",
        "print(train.Sex.value_counts())"
      ]
    },
    {
      "cell_type": "markdown",
      "metadata": {
        "_cell_guid": "093741f0-0d21-0009-67bf-350ab10ce1b8"
      },
      "source": ""
    },
    {
      "cell_type": "code",
      "execution_count": null,
      "metadata": {
        "_cell_guid": "e8a68328-fae8-2e0d-7092-eca81aad8f0e"
      },
      "outputs": [],
      "source": [
        "# Next check the Age column\n",
        "print(train.Age.dropna().describe())\n",
        "plt.hist(train.Age.dropna(),bins=50,histtype='bar')\n",
        "plt.show()"
      ]
    },
    {
      "cell_type": "markdown",
      "metadata": {
        "_cell_guid": "34bebec0-8362-56c8-c25a-687ece7192a1"
      },
      "source": ""
    },
    {
      "cell_type": "code",
      "execution_count": null,
      "metadata": {
        "_cell_guid": "ba74883f-142b-f82c-d539-940904201150"
      },
      "outputs": [],
      "source": [
        "# Next see the number of siblings/spouse on-board\n",
        "print(train.SibSp.describe())\n",
        "plt.hist(train.SibSp,bins=8)\n",
        "plt.show()"
      ]
    },
    {
      "cell_type": "markdown",
      "metadata": {
        "_cell_guid": "5897fec8-ee64-8fe4-ea18-37bf6e56b4c1"
      },
      "source": ""
    },
    {
      "cell_type": "code",
      "execution_count": null,
      "metadata": {
        "_cell_guid": "e35f2814-5d41-341e-765c-61cfcec75f53"
      },
      "outputs": [],
      "source": [
        "# Have a look at number of parent/children on-board\n",
        "print(train.Parch.describe())\n",
        "plt.hist(train.Parch,bins=6)\n",
        "plt.show()"
      ]
    },
    {
      "cell_type": "markdown",
      "metadata": {
        "_cell_guid": "1b8ee1ed-9d85-66ea-6109-00d5432ff17d"
      },
      "source": ""
    },
    {
      "cell_type": "code",
      "execution_count": null,
      "metadata": {
        "_cell_guid": "575fa746-6f3b-6076-83b5-f6a8a918c39a"
      },
      "outputs": [],
      "source": [
        "# Have a look at the ticket number and Cabin\n",
        "\n",
        "print(train.Ticket.head())\n",
        "print(train.Cabin.head())\n",
        "\n",
        "print(train.Ticket.describe())\n",
        "print(train.Cabin.describe())"
      ]
    },
    {
      "cell_type": "markdown",
      "metadata": {
        "_cell_guid": "a04d46e5-8f82-acc0-9013-c83376c02884"
      },
      "source": ""
    },
    {
      "cell_type": "code",
      "execution_count": null,
      "metadata": {
        "_cell_guid": "6ef882ff-1d11-f744-4401-27b7808d9f91"
      },
      "outputs": [],
      "source": [
        "print(train.Fare.describe())\n",
        "\n",
        "fig = plt.figure()\n",
        "\n",
        "ax1 = fig.add_subplot(131)\n",
        "ax1.boxplot(train.Fare[train.Fare<100])\n",
        "\n",
        "ax2 = fig.add_subplot(132)\n",
        "ax2.boxplot(train.Fare[train.Fare<300])\n",
        "\n",
        "ax3 = fig.add_subplot(133)\n",
        "ax3.boxplot(train.Fare)\n",
        "\n",
        "plt.show()"
      ]
    },
    {
      "cell_type": "markdown",
      "metadata": {
        "_cell_guid": "5b0545a8-d57a-5cc3-8247-82150aaa0685"
      },
      "source": ""
    },
    {
      "cell_type": "code",
      "execution_count": null,
      "metadata": {
        "_cell_guid": "76300ea6-1dde-2741-a175-3c2a27244900"
      },
      "outputs": [],
      "source": [
        "print(train.Embarked.value_counts())"
      ]
    },
    {
      "cell_type": "markdown",
      "metadata": {
        "_cell_guid": "0e0298ec-85d4-affb-9d99-04e62c706c77"
      },
      "source": ""
    }
  ],
  "metadata": {
    "_change_revision": 0,
    "_is_fork": false,
    "kernelspec": {
      "display_name": "Python 3",
      "language": "python",
      "name": "python3"
    },
    "language_info": {
      "codemirror_mode": {
        "name": "ipython",
        "version": 3
      },
      "file_extension": ".py",
      "mimetype": "text/x-python",
      "name": "python",
      "nbconvert_exporter": "python",
      "pygments_lexer": "ipython3",
      "version": "3.5.2"
    }
  },
  "nbformat": 4,
  "nbformat_minor": 0
}