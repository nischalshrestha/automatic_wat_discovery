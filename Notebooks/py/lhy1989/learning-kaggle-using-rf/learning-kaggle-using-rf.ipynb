{
  "cells": [
    {
      "cell_type": "markdown",
      "metadata": {
        "_cell_guid": "1d041194-5277-3562-27b2-5d2d53ca6c38"
      },
      "source": [
        "# \u5b66\u4e60\u7528\u9014"
      ]
    },
    {
      "cell_type": "code",
      "execution_count": null,
      "metadata": {
        "_cell_guid": "dc7460a3-a0b6-8ef1-d604-055d541b6e30"
      },
      "outputs": [],
      "source": [
        "# This Python 3 environment comes with many helpful analytics libraries installed\n",
        "# It is defined by the kaggle/python docker image: https://github.com/kaggle/docker-python\n",
        "# For example, here's several helpful packages to load in \n",
        "\n",
        "import numpy as np # linear algebra\n",
        "import pandas as pd # data processing, CSV file I/O (e.g. pd.read_csv)\n",
        "\n",
        "# Input data files are available in the \"../input/\" directory.\n",
        "# For example, running this (by clicking run or pressing Shift+Enter) will list the files in the input directory\n",
        "\n",
        "from subprocess import check_output\n",
        "print(check_output([\"ls\", \"../input\"]).decode(\"utf8\"))\n",
        "\n",
        "# Any results you write to the current directory are saved as output."
      ]
    },
    {
      "cell_type": "code",
      "execution_count": null,
      "metadata": {
        "_cell_guid": "41178444-3c1f-b163-af2d-f5d7f0d226b1"
      },
      "outputs": [],
      "source": [
        "titanic = pd.read_csv(\"../input/train.csv\")\n",
        "#titanic.head()\n",
        "print (titanic.describe())"
      ]
    },
    {
      "cell_type": "code",
      "execution_count": null,
      "metadata": {
        "_cell_guid": "c7ebb561-bee3-1598-c929-4f7f9ebca20c"
      },
      "outputs": [],
      "source": [
        "# \u53d1\u73b0age\u6709\u7f3a\u5931\n",
        "titanic[\"Age\"] = titanic[\"Age\"].fillna(titanic[\"Age\"].median())\n",
        "print(titanic.describe())"
      ]
    },
    {
      "cell_type": "code",
      "execution_count": null,
      "metadata": {
        "_cell_guid": "adc08f46-7520-fe48-3160-851cde50ec09"
      },
      "outputs": [],
      "source": [
        "# \u5bf9\u6570\u503c\u79bb\u6563\u5316\n",
        "# TODO:\u5f52\u4e00\u5316\n",
        "\n",
        "print(titanic[\"Sex\"].unique())\n",
        "\n",
        "titanic.loc[titanic[\"Sex\"] == \"male\", \"Sex\"] = 0\n",
        "titanic.loc[titanic[\"Sex\"] == \"female\", \"Sex\"] = 1\n",
        "\n",
        "titanic.head()"
      ]
    },
    {
      "cell_type": "code",
      "execution_count": null,
      "metadata": {
        "_cell_guid": "ec2f0a42-cd23-e1b1-81a8-203a6efca64d"
      },
      "outputs": [],
      "source": [
        "print(titanic[\"Embarked\"].unique())\n",
        "\n",
        "titanic.loc[titanic[\"Embarked\"] == \"S\", \"Embarked\"] = 0\n",
        "titanic.loc[titanic[\"Embarked\"] == \"C\", \"Embarked\"] = 1\n",
        "titanic.loc[titanic[\"Embarked\"] == \"Q\", \"Embarked\"] = 2\n",
        "\n",
        "titanic[\"Embarked\"] = titanic[\"Embarked\"].fillna(0)\n",
        "\n",
        "titanic.head()"
      ]
    },
    {
      "cell_type": "code",
      "execution_count": null,
      "metadata": {
        "_cell_guid": "a7ca96d6-d8d2-bf66-e20e-6fe97e5a9ce8"
      },
      "outputs": [],
      "source": [
        "# \u4ea4\u53c9\u9a8c\u8bc1\uff0c\u907f\u514d\u8fc7\u62df\u5408\n",
        "\n",
        "from sklearn.linear_model import LinearRegression\n",
        "from sklearn.cross_validation import KFold\n",
        "\n",
        "predictors = [\"Pclass\", \"Sex\", \"Age\", \"SibSp\", \"Parch\", \"Fare\", \"Embarked\"]\n",
        "\n",
        "alg = LinearRegression()\n",
        "kf = KFold(titanic.shape[0], n_folds=3, random_state=1)\n",
        "\n",
        "predictions = []\n",
        "for train, test in kf:\n",
        "#    print(train)\n",
        "#    print(test)\n",
        "    # \u628atrain\u4e2dpredictors\u7279\u5f81\u62ff\u51fa\u6765\n",
        "    train_predictors = (titanic[predictors].iloc[train, :])\n",
        "    # \u628atrain y\u62ff\u51fa\u6765\n",
        "    train_target = titanic[\"Survived\"].iloc[train]\n",
        "#    print(train_predictors.describe())\n",
        "#    print(train_target.describe())\n",
        "    # \u67e5\u627e\u7a7a\u503c\uff0c\u975e\u5e38\u597d\u7528\n",
        "    print(train_predictors.isnull().any())\n",
        "    print(train_target.isnull().any())    \n",
        "    # \u8ba1\u7b97\u62df\u5408\n",
        "    alg.fit(train_predictors, train_target)\n",
        "    # \u4e0etest\u8fdb\u884c\u5bf9\u6bd4\n",
        "    test_predictions = alg.predict(titanic[predictors].iloc[test,:])\n",
        "    # \u5b58\u50a8\u8f93\u51fa\u503c\n",
        "    predictions.append(test_predictions)"
      ]
    },
    {
      "cell_type": "code",
      "execution_count": null,
      "metadata": {
        "_cell_guid": "3c7ca07d-a823-9f45-afe8-c336f932cf51"
      },
      "outputs": [],
      "source": [
        "import numpy as np\n",
        "\n",
        "predictions = np.concatenate(predictions, axis=0)\n",
        "\n",
        "predictions[predictions > .5] = 1\n",
        "predictions[predictions <= .5] = 0\n",
        "accuracy = sum(predictions[predictions == titanic[\"Survived\"]]) / len(predictions)\n",
        "print(accuracy)"
      ]
    },
    {
      "cell_type": "code",
      "execution_count": null,
      "metadata": {
        "_cell_guid": "d72d345d-7f55-1eeb-a745-955362cc3143"
      },
      "outputs": [],
      "source": [
        "# \u6539\u7528logic\n",
        "from sklearn import cross_validation\n",
        "from sklearn.linear_model import LogisticRegression\n",
        "\n",
        "alg = LogisticRegression(random_state=1)\n",
        "scores = cross_validation.cross_val_score(alg, titanic[predictors], titanic[\"Survived\"], cv=3)\n",
        "print(scores.mean())"
      ]
    },
    {
      "cell_type": "code",
      "execution_count": null,
      "metadata": {
        "_cell_guid": "b65deee3-c180-c283-4994-5be3794d1ebe"
      },
      "outputs": [],
      "source": [
        "# \u6539\u7528\u968f\u673a\u68ee\u6797\n",
        "from sklearn import cross_validation\n",
        "from sklearn.ensemble import RandomForestClassifier\n",
        "\n",
        "predictors = [\"Pclass\", \"Sex\", \"Age\", \"SibSp\", \"Parch\", \"Fare\", \"Embarked\"]\n",
        "\n",
        "alg = RandomForestClassifier(random_state=1, n_estimators=10, min_samples_split=2, min_samples_leaf=1)\n",
        "\n",
        "kf = cross_validation.KFold(titanic.shape[0], n_folds=3, random_state=1)\n",
        "scores = cross_validation.cross_val_score(alg, titanic[predictors], titanic[\"Survived\"], cv=kf)\n",
        "\n",
        "print(scores.mean())"
      ]
    },
    {
      "cell_type": "code",
      "execution_count": null,
      "metadata": {
        "_cell_guid": "cbb0f928-9bf5-4557-5a51-3229e60d056b"
      },
      "outputs": [],
      "source": [
        "alg = RandomForestClassifier(random_state=1, n_estimators=50, min_samples_split=4, min_samples_leaf=2)\n",
        "\n",
        "kf = cross_validation.KFold(titanic.shape[0], n_folds=3, random_state=1)\n",
        "scores = cross_validation.cross_val_score(alg, titanic[predictors], titanic[\"Survived\"], cv=kf)\n",
        "\n",
        "print(scores.mean())"
      ]
    },
    {
      "cell_type": "code",
      "execution_count": null,
      "metadata": {
        "_cell_guid": "907b1ea9-c4e3-dedf-924f-7f2587aa5747"
      },
      "outputs": [],
      "source": [
        "# \u589e\u52a0\u7279\u5f81\n",
        "titanic[\"FamilySize\"] = titanic[\"SibSp\"] + titanic[\"Parch\"]\n",
        "\n",
        "titanic[\"NameLength\"] = titanic[\"Name\"].apply(lambda x: len(x))"
      ]
    },
    {
      "cell_type": "code",
      "execution_count": null,
      "metadata": {
        "_cell_guid": "d2231f35-9f48-e37a-0c45-0457dd9e5851"
      },
      "outputs": [],
      "source": [
        "import re\n",
        "\n",
        "def get_title(name):\n",
        "    title_search = re.search(' ([A-Za-z]+)\\.',name)\n",
        "    \n",
        "    if title_search:\n",
        "        return title_search.group(1)\n",
        "    return \"\"\n",
        "\n",
        "titles = titanic[\"Name\"].apply(get_title)\n",
        "print(pd.value_counts(titles))\n",
        "\n",
        "title_mapping = {\n",
        "    \"Mr\":          1,\n",
        "    \"Miss\":        2,\n",
        "    \"Mrs\":         3,\n",
        "    \"Master\":      4,\n",
        "    \"Dr\":          5,\n",
        "    \"Rev\":         6,\n",
        "    \"Mlle\":        7,\n",
        "    \"Major\":       8,\n",
        "    \"Col\":         9,\n",
        "    \"Mme\":         10,\n",
        "    \"Ms\":          11,\n",
        "    \"Capt\":        12,\n",
        "    \"Lady\":        13,\n",
        "    \"Jonkheer\":    14,\n",
        "    \"Countess\":    15,\n",
        "    \"Sir\":         16,\n",
        "    \"Don\":         17\n",
        "}\n",
        "for k,v in title_mapping.items():\n",
        "    titles[titles == k] = v\n",
        "\n",
        "titanic[\"Title\"] = titles"
      ]
    },
    {
      "cell_type": "code",
      "execution_count": null,
      "metadata": {
        "_cell_guid": "cf178f96-8a99-55e1-6f4c-a4c2b7ce73c8"
      },
      "outputs": [],
      "source": [
        "# \u68c0\u67e5\u7279\u5f81\u7684\u4f5c\u7528\uff0c\u7ed9\u6d4b\u8bd5\u7279\u5f81\u4e0a\u566a\u97f3\n",
        "\n",
        "import numpy as np\n",
        "from sklearn.feature_selection import SelectKBest, f_classif\n",
        "import matplotlib.pyplot as plt\n",
        "\n",
        "predictors = [\"Pclass\", \"Sex\", \"Age\", \"SibSp\", \"Parch\", \"Fare\", \"Embarked\", \"FamilySize\", \"NameLength\", \"Title\"]\n",
        "\n",
        "selector = SelectKBest(f_classif, k=5)\n",
        "selector.fit(titanic[predictors], titanic[\"Survived\"])\n",
        "\n",
        "scores = -np.log10(selector.pvalues_)\n",
        "\n",
        "plt.bar(range(len(predictors)), scores)\n",
        "plt.xticks(range(len(predictors)), predictors, rotation='vertical')\n",
        "plt.show()\n",
        "\n",
        "predictors = [\"Pclass\", \"Sex\", \"Fare\", \"Title\"]\n",
        "alg = RandomForestClassifier(random_state=1, n_estimators=50, min_samples_split=4, min_samples_leaf=2)"
      ]
    },
    {
      "cell_type": "code",
      "execution_count": null,
      "metadata": {
        "_cell_guid": "450c6ce4-47d2-38d8-cf63-7cc7dd65a0e7"
      },
      "outputs": [],
      "source": [
        "# \u96c6\u6210\u5b66\u4e60\uff0c\u5e76\u4e14\u53bb\u6389\u610f\u4e49\u4e0d\u5927\u7684\u7279\u5f81\n",
        "\n",
        "from sklearn.ensemble import GradientBoostingClassifier\n",
        "import numpy as np\n",
        "\n",
        "algorithms = [\n",
        "    [GradientBoostingClassifier(random_state=1, n_estimators=25, max_depth=3),\n",
        "    [\"Pclass\", \"Sex\", \"Age\", \"Fare\", \"Embarked\", \"FamilySize\", \"NameLength\", \"Title\"]],    \n",
        "    [LogisticRegression(random_state=1),\n",
        "    [\"Pclass\", \"Sex\", \"Age\", \"Fare\", \"Embarked\", \"FamilySize\", \"NameLength\", \"Title\"]]\n",
        "]\n",
        "\n",
        "predictions = []\n",
        "kf = KFold(titanic.shape[0], n_folds=3, random_state=1)\n",
        "for train, test in kf:\n",
        "    train_target = titanic[\"Survived\"].iloc[train]\n",
        "    full_test_predictions = []\n",
        "    \n",
        "    for alg, predictors in algorithms:\n",
        "        alg.fit(titanic[predictors].iloc[train,:], train_target)\n",
        "        test_predictions = alg.predict_proba(titanic[predictors].iloc[test,:].astype(float))[:,1]\n",
        "        full_test_predictions.append(test_predictions)\n",
        "        \n",
        "    test_predictions = (full_test_predictions[0] + full_test_predictions[1]) / 2\n",
        "    test_predictions[test_predictions <= .5] = 0\n",
        "    test_predictions[test_predictions > .5] = 1    \n",
        "    predictions.append(test_predictions)\n",
        "\n",
        "# \u6539\u53d8\u7ef4\u5ea6    \n",
        "predictions = np.concatenate(predictions, axis=0)    \n",
        "\n",
        "accuracy = sum(predictions[predictions == titanic[\"Survived\"]]) / len(predictions)\n",
        "print(accuracy)"
      ]
    },
    {
      "cell_type": "code",
      "execution_count": null,
      "metadata": {
        "_cell_guid": "ca3135fa-c75c-1925-864d-3723548ab95e"
      },
      "outputs": [],
      "source": [
        "# \u96c6\u6210\u5b66\u4e60\u52a0\u5165\u6743\u91cd\u9879\n",
        "predictors = [\"Pclass\", \"Sex\", \"Age\", \"Fare\", \"Embarked\", \"FamilySize\", \"Title\"]\n",
        "\n",
        "algorithms = [\n",
        "    [GradientBoostingClassifier(random_state=1, n_estimators=25, max_depth=3),\n",
        "    predictors],    \n",
        "    [LogisticRegression(random_state=1),\n",
        "    [\"Pclass\", \"Sex\", \"Age\", \"Fare\", \"Embarked\", \"FamilySize\", \"NameLength\", \"Title\"]]\n",
        "]\n",
        "\n",
        "full_test_predictions = []\n",
        "for alg, predictors in algorithms:\n",
        "    alg.fit(titanic[predictors].iloc[train,:], train_target)\n",
        "    test_predictions = alg.predict_proba(titanic[predictors].iloc[train,:].astype(float))[:,1]\n",
        "    full_test_predictions.append(test_predictions)\n",
        "    \n",
        "predictions = full_test_predictions[0] * .7 + full_test_predictions[1] * .3\n",
        "predictions[predictions <= .5] = 0\n",
        "predictions[predictions > .5] = 1 \n",
        "accuracy = sum(predictions[predictions == titanic.iloc[train][\"Survived\"]]) / len(predictions)\n",
        "print(accuracy)\n",
        "print(predictions.shape)\n",
        "print(titanic[\"Survived\"].shape)"
      ]
    },
    {
      "cell_type": "code",
      "execution_count": null,
      "metadata": {
        "_cell_guid": "37727b11-4346-c796-7cdb-fbea07fcf74c"
      },
      "outputs": [],
      "source": ""
    }
  ],
  "metadata": {
    "_change_revision": 0,
    "_is_fork": false,
    "kernelspec": {
      "display_name": "Python 3",
      "language": "python",
      "name": "python3"
    },
    "language_info": {
      "codemirror_mode": {
        "name": "ipython",
        "version": 3
      },
      "file_extension": ".py",
      "mimetype": "text/x-python",
      "name": "python",
      "nbconvert_exporter": "python",
      "pygments_lexer": "ipython3",
      "version": "3.5.2"
    }
  },
  "nbformat": 4,
  "nbformat_minor": 0
}