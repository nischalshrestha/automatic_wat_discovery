{
  "cells": [
    {
      "cell_type": "markdown",
      "metadata": {
        "_cell_guid": "42a99eed-79e1-bd78-eb1e-6d3955307fa2"
      },
      "source": [
        "Initial EDA for the Titanic dataset"
      ]
    },
    {
      "cell_type": "code",
      "execution_count": null,
      "metadata": {
        "_cell_guid": "88e4c006-5c96-da4c-d065-1f5a1a991468"
      },
      "outputs": [],
      "source": [
        "# This Python 3 environment comes with many helpful analytics libraries installed\n",
        "# It is defined by the kaggle/python docker image: https://github.com/kaggle/docker-python\n",
        "# For example, here's several helpful packages to load in \n",
        "\n",
        "import numpy as np # linear algebra\n",
        "import pandas as pd # data processing, CSV file I/O (e.g. pd.read_csv)\n",
        "import seaborn as sns\n",
        "import matplotlib.pyplot as plt\n",
        "\n",
        "# Input data files are available in the \"../input/\" directory.\n",
        "train = pd.read_csv('../input/train.csv')\n",
        "test = pd.read_csv('../input/test.csv')\n",
        "#Count of values in the dataset\n",
        "print ('The training dataset row count is', len(train))\n",
        "print ('The Test dataset row count is', len(test))"
      ]
    },
    {
      "cell_type": "code",
      "execution_count": null,
      "metadata": {
        "_cell_guid": "4aa4d1d7-7815-6570-a80f-d539420143f9"
      },
      "outputs": [],
      "source": [
        "# identifying the Number of \n",
        "print ('This gives the number of missing values in training dataset', train.count())\n",
        "print ('This gives the number of missing values in test dataset', test.count())"
      ]
    },
    {
      "cell_type": "code",
      "execution_count": null,
      "metadata": {
        "_cell_guid": "414ebfbd-317f-a729-adce-08720d0ebde9"
      },
      "outputs": [],
      "source": [
        "# Replacing the missing values\n",
        "# train - Age, Cabin, Embarked\n",
        "# test - Age, Fare, Cabin\n",
        "\n",
        "# 1. Replace the Age in Train\n",
        "tr_avage = train.Age.mean()\n",
        "tr_sdage = train.Age.std()\n",
        "tr_misage = train.Age.isnull().sum()\n",
        "rand_age = np.random.randint(tr_avage - tr_sdage, tr_avage + tr_sdage, size=tr_misage)\n",
        "train['Age'][np.isnan(train['Age'])] = rand_age\n",
        "train['Age'] = train['Age'].astype(int)\n",
        "\n",
        "# 2. Replace the Age in Test\n",
        "te_avage = test.Age.mean()\n",
        "te_sdage = test.Age.std()\n",
        "te_misage = test.Age.isnull().sum()\n",
        "rand_age = np.random.randint(te_avage - te_sdage, te_avage + te_sdage, size=te_misage)\n",
        "test['Age'][np.isnan(test['Age'])] = rand_age\n",
        "test['Age'] = test['Age'].astype(int)\n",
        "\n",
        "# 3. Replace the Embarked in Train\n",
        "# Distribution of Embarked in train S-644, C-168, Q-77\n",
        "train['Embarked'] = train['Embarked'].fillna('S')\n",
        "\n",
        "# 4. Treat the cabin for both test and train as a new varibale \"Is_Cabin\"\n",
        "train['Has_Cabin'] = train[\"Cabin\"].apply(lambda x: 0 if type(x) == float else 1)\n",
        "test['Has_Cabin'] = test[\"Cabin\"].apply(lambda x: 0 if type(x) == float else 1)\n",
        "\n",
        "# 5. Reaplce the Fare in test with a median value\n",
        "med =  test.Fare.median()\n",
        "test['Fare'] =  test['Fare'].fillna(med)"
      ]
    },
    {
      "cell_type": "code",
      "execution_count": null,
      "metadata": {
        "_cell_guid": "8905c152-cc02-a710-57ca-87ac57a93071"
      },
      "outputs": [],
      "source": [
        "# Create new Features - 1. FamilySize 2. Solo traveller 3. Age bucket\n",
        "\n",
        "# 1. FamilySize\n",
        "train['FamilySize'] = train['SibSp'] + train['Parch']\n",
        "test['FamilySize'] = test['SibSp'] + test['Parch']"
      ]
    },
    {
      "cell_type": "code",
      "execution_count": null,
      "metadata": {
        "_cell_guid": "c8d1afb9-7ae8-a80f-6a15-0bbdaa69f563"
      },
      "outputs": [],
      "source": [
        "# 2. Create New Feature Solo Traveller\n",
        "train['Solo'] = train['FamilySize'].apply(lambda x: 0 if x>0 else 1)\n",
        "test['Solo'] = test['FamilySize'].apply(lambda x: 0 if x>0 else 1)"
      ]
    },
    {
      "cell_type": "code",
      "execution_count": null,
      "metadata": {
        "_cell_guid": "290e11a0-d1ad-b052-5db1-44741c747593"
      },
      "outputs": [],
      "source": [
        "# 3. Create the Age Bucket\n",
        "\n",
        "# For Train\n",
        "train['Age'] = train['Age'].astype(int)\n",
        "\n",
        "\n",
        "def Age(row):\n",
        "    if row['Age'] < 16:\n",
        "        return 'VY'\n",
        "    elif row['Age'] < 32:\n",
        "        return 'Y'\n",
        "    elif row['Age'] < 48:\n",
        "        return 'M'\n",
        "    elif row['Age'] < 64:\n",
        "        return 'O'\n",
        "    else:\n",
        "        return 'VO'\n",
        "    \n",
        "train['CategoricalAge'] = train.apply(lambda row: Age(row), axis=1)\n",
        "test['CategoricalAge'] = test.apply(lambda row: Age(row), axis=1)"
      ]
    },
    {
      "cell_type": "code",
      "execution_count": null,
      "metadata": {
        "_cell_guid": "ea5b3c5b-a0e0-1dde-3051-36810e5a233e"
      },
      "outputs": [],
      "source": [
        "print (train.head())"
      ]
    },
    {
      "cell_type": "code",
      "execution_count": null,
      "metadata": {
        "_cell_guid": "4c2af7bc-7e41-6408-3de8-61b1135d9fa2"
      },
      "outputs": [],
      "source": [
        "# Final Feature Selection Droping the ones which may look not necessary\n",
        "drop_list = ['PassengerId', 'Name', 'Ticket', 'Cabin', 'SibSp', 'Parch', 'Age']\n",
        "ftrain = train.drop(drop_list, axis = 1)\n",
        "ftest = test.drop(drop_list, axis = 1)"
      ]
    },
    {
      "cell_type": "markdown",
      "metadata": {
        "_cell_guid": "1a550b95-25c6-152d-793c-0f82d132149d"
      },
      "source": [
        "Steps below are for Feature Engineering:\n",
        "1. Identify and treat the missing values\n",
        "2. Identify the relationship between each variable against the survival\n",
        "3. Final set of features to be considered for running machine learning\n",
        "My credit goes to Sina's very comprehensive guide for feature engineering ideas. Please go through his work to see too : [Titanic Best Working][1] Classfier & [Classifier by barryhunt][2] \n",
        "\n",
        "\n",
        "  [1]: https://www.kaggle.com/sinakhorami/titanic/titanic-best-working-classifier\n",
        "  [2]: https://www.kaggle.com/barryhunt/titanic/introduction-to-ensembling-stacking-in-pyth-ace527"
      ]
    },
    {
      "cell_type": "markdown",
      "metadata": {
        "_cell_guid": "8242b8f6-d5ef-b3d6-489c-9faca524bb9d"
      },
      "source": [
        "For us to proceed further Identify the set of hypothesis on the data  that you would want to test, Some of mine were:\n",
        "\n",
        " 1. Passenger with a higher Pclass(1-Upper,2-Middle&3-Lower) should have paid a higher fare and would have higher survival rate.\n",
        " 2. While the variable denotes embankment location (C= Cherbourg, Q= Queenstown, S=\n",
        "    Southampton). Has the boarding location for passengers given a better chance of survival. The boarding order was Southampton -> Cherbourg -> Queenstown. \n",
        " 3. Is there a case where younger members are able to somehow find a way to survive better, regardless of the Gender"
      ]
    },
    {
      "cell_type": "code",
      "execution_count": null,
      "metadata": {
        "_cell_guid": "94eb9bfc-53b2-8366-d98b-69f6148a2a41"
      },
      "outputs": [],
      "source": [
        "# looking up PClass, Fare with Survival\n",
        "# the result of the Hypothesis reads as Passengers with better Pclass survived better and strangely the corelation \n",
        "# does extend to the Fareclass\n",
        "print (ftrain[['Pclass', 'Survived']].groupby(['Pclass'], as_index=False).mean())\n",
        "print (ftrain[['Embarked', 'Survived']].groupby(['Embarked'], as_index=False).mean())\n",
        "print (ftrain[['CategoricalAge', 'Survived']].groupby(['CategoricalAge'], as_index=False).mean())"
      ]
    },
    {
      "cell_type": "code",
      "execution_count": null,
      "metadata": {
        "_cell_guid": "c905ed66-207f-8964-ae3f-e5fbf23e0cad"
      },
      "outputs": [],
      "source": [
        "# Before Visualization we will have to convert the Categorical Variables into clasess\n",
        "# 1. Map the variable Sex\n",
        "ftrain['Sex'] = ftrain['Sex'].map( {'female': 0, 'male': 1} ).astype(int)\n",
        "ftest['Sex'] = ftest['Sex'].map( {'female': 0, 'male': 1} ).astype(int)\n",
        "# 2. Map the variable Embarked\n",
        "ftrain['Embarked'] = ftrain['Embarked'].map( {'S': 0, 'C': 1, 'Q': 2} ).astype(int)\n",
        "ftest['Embarked'] = ftest['Embarked'].map( {'S': 0, 'C': 1, 'Q': 2} ).astype(int)\n",
        "# 3. Map the Categorical Age\n",
        "ftrain['CategoricalAge'] = ftrain['CategoricalAge'].map( {'VY': 0, 'Y': 1, 'M': 2, 'O': 3, 'VO': 4} ).astype(int)\n",
        "ftest['CategoricalAge'] = ftest['CategoricalAge'].map( {'VY': 0, 'Y': 1, 'M': 2, 'O': 3, 'VO': 4} ).astype(int)"
      ]
    },
    {
      "cell_type": "code",
      "execution_count": null,
      "metadata": {
        "_cell_guid": "9a13de34-bbd4-7c84-6105-a9bb788dc99f"
      },
      "outputs": [],
      "source": [
        "print (ftrain.head())\n",
        "print (ftest.head())"
      ]
    },
    {
      "cell_type": "code",
      "execution_count": null,
      "metadata": {
        "_cell_guid": "399aec42-623c-4e76-65aa-8a3e923eb266"
      },
      "outputs": [],
      "source": [
        "# Creating the X and Y for both Train and Test\n",
        "y_train = ftrain['Survived'].ravel()\n",
        "ftrain = ftrain.drop(['Survived'], axis=1)\n",
        "x_train = ftrain.values # Creates an array of the train data\n",
        "x_test = ftest.values # Creats an array of the test data\n",
        "#Xtrain = ftrain['Pclass','Sex', 'Fare', 'Embarked', 'Has_cabin', 'FamilySize', 'Solo', 'CategoricalAge']\n",
        "#Ytrain = ftrain['Survived']"
      ]
    },
    {
      "cell_type": "code",
      "execution_count": null,
      "metadata": {
        "_cell_guid": "649f87fb-93b1-05ff-731f-d9b53602e5e5"
      },
      "outputs": [],
      "source": [
        "# Visualization for the Data in Train\n",
        "pd.tools.plotting.scatter_matrix(ftrain.loc[:, [\"Pclass\", \"Sex\", \"Embarked\", \"Has_Cabin\", \"FamilySize\"]], diagonal=\"kde\")\n",
        "plt.show()"
      ]
    },
    {
      "cell_type": "code",
      "execution_count": null,
      "metadata": {
        "_cell_guid": "dd0e99b3-da4d-77d9-32a9-44ea0cbf68c8"
      },
      "outputs": [],
      "source": [
        "colormap = plt.cm.viridis\n",
        "plt.figure(figsize=(12,12))\n",
        "plt.title('Pearson Correlation of Features', y=1.05, size=15)\n",
        "sns.heatmap(ftrain.astype(float).corr(),linewidths=0.1,vmax=1.0, square=True, cmap=colormap, linecolor='white', annot=True)"
      ]
    },
    {
      "cell_type": "code",
      "execution_count": null,
      "metadata": {
        "_cell_guid": "11cd5e23-a0fd-d371-c987-9a0f58a4258a"
      },
      "outputs": [],
      "source": [
        "# Using the Classifiers\n",
        "from sklearn.metrics import accuracy_score, log_loss\n",
        "#from sklearn.svm import SVC\n",
        "from sklearn.tree import DecisionTreeClassifier\n",
        "from sklearn.ensemble import RandomForestClassifier, AdaBoostClassifier, GradientBoostingClassifier\n",
        "from sklearn.naive_bayes import GaussianNB\n",
        "\n",
        "clf1= RandomForestClassifier()\n",
        "clf1.fit(x_train, y_train)\n",
        "pred1 = clf1.predict(x_test)"
      ]
    },
    {
      "cell_type": "code",
      "execution_count": null,
      "metadata": {
        "_cell_guid": "1e0f12f0-f4da-e0da-0e7f-6e472e5e752f"
      },
      "outputs": [],
      "source": [
        "final_sub1 = pd.DataFrame({ 'PassengerId': test.PassengerId,\n",
        "                            'Survived': pred1 })\n",
        "final_sub1.to_csv(\"Sub2.csv\", index=False)"
      ]
    },
    {
      "cell_type": "code",
      "execution_count": null,
      "metadata": {
        "_cell_guid": "38b9a192-244f-df72-9b9f-85caa072d12e"
      },
      "outputs": [],
      "source": [
        ""
      ]
    }
  ],
  "metadata": {
    "_change_revision": 0,
    "_is_fork": false,
    "kernelspec": {
      "display_name": "Python 3",
      "language": "python",
      "name": "python3"
    },
    "language_info": {
      "codemirror_mode": {
        "name": "ipython",
        "version": 3
      },
      "file_extension": ".py",
      "mimetype": "text/x-python",
      "name": "python",
      "nbconvert_exporter": "python",
      "pygments_lexer": "ipython3",
      "version": "3.6.0"
    }
  },
  "nbformat": 4,
  "nbformat_minor": 0
}