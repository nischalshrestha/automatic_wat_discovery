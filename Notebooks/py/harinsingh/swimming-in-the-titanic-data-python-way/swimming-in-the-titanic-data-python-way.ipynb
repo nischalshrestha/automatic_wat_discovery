{
  "cells": [
    {
      "cell_type": "markdown",
      "metadata": {
        "_cell_guid": "69ac99f4-a833-7b79-2918-3ee85a74c221"
      },
      "source": [
        "----------\n",
        "\n",
        "\n",
        "#Please note that this isn't a solution. \n",
        "The following notebook might be helpful to **beginners**, such as myself.\n",
        "It provides a **general work flow** you might follow to solve Machine learning problems such as the  **Titanic challenge** and many more.\n"
      ]
    },
    {
      "cell_type": "markdown",
      "metadata": {
        "_cell_guid": "6a95cee7-ded9-91f4-424e-b72d5954ece8"
      },
      "source": [
        "----------\n",
        "\n",
        "\n"
      ]
    },
    {
      "cell_type": "markdown",
      "metadata": {
        "_cell_guid": "31997955-eba9-7974-19e3-b1630151c0bd"
      },
      "source": [
        "**General work flow:**\n",
        "\n",
        " - Get the csv data\n",
        " - Structure the data such that it could be passed to the Machine learning model\n",
        " - Do machine learning\n",
        " - Validate your model\n",
        " - Go have a pizza\n"
      ]
    },
    {
      "cell_type": "markdown",
      "metadata": {
        "_cell_guid": "d34c1245-f06d-ad67-484d-c796ec7d0495"
      },
      "source": [
        "----------\n",
        "\n",
        "\n",
        "----------\n",
        "\n",
        "\n",
        "#First things first: Import"
      ]
    },
    {
      "cell_type": "code",
      "execution_count": null,
      "metadata": {
        "_cell_guid": "6878217c-f473-273b-71d0-ec14ccec6254"
      },
      "outputs": [],
      "source": [
        "import numpy as np\n",
        "import pandas as pd\n",
        "import matplotlib.pyplot as plt\n"
      ]
    },
    {
      "cell_type": "code",
      "execution_count": null,
      "metadata": {
        "_cell_guid": "5fc57e4b-685c-3356-5857-34cc280e545f"
      },
      "outputs": [],
      "source": [
        "train = pd.read_csv(\"../input/train.csv\",index_col = 'PassengerId') #I'll only use Training data for demonstration\n",
        "train.describe()"
      ]
    },
    {
      "cell_type": "markdown",
      "metadata": {
        "_cell_guid": "63d1465a-c030-bba0-188c-cee40832374a"
      },
      "source": [
        "----------\n",
        "\n",
        "\n",
        "----------\n",
        "\n",
        "\n",
        "#Structuring the Data first"
      ]
    },
    {
      "cell_type": "code",
      "execution_count": null,
      "metadata": {
        "_cell_guid": "1670d724-39ba-cf17-6145-5e0257af954f"
      },
      "outputs": [],
      "source": [
        "train['Age'].fillna(train['Age'].median(), inplace=True)"
      ]
    },
    {
      "cell_type": "markdown",
      "metadata": {
        "_cell_guid": "6b7de0ad-9a30-7731-dd40-52c2dccf68b0"
      },
      "source": [
        "Above, i've filled the missing values in **Age** column with the median age."
      ]
    },
    {
      "cell_type": "markdown",
      "metadata": {
        "_cell_guid": "36e7dd4e-8da0-04ca-690d-12b4f25354b5"
      },
      "source": [
        "**What is in the name?** Nothing and everything.\n"
      ]
    },
    {
      "cell_type": "code",
      "execution_count": null,
      "metadata": {
        "_cell_guid": "46efe7d7-fcfa-dfb1-1290-891e3f4ff2ae"
      },
      "outputs": [],
      "source": [
        "train['Mr'] = 0\n",
        "train['Mrs'] = 0\n",
        "train['Miss'] = 0\n",
        "train['royalty'] = 0\n",
        "train['officer'] = 0"
      ]
    },
    {
      "cell_type": "code",
      "execution_count": null,
      "metadata": {
        "_cell_guid": "c492f017-ba4e-58dc-fe3d-b4eee23ded8a"
      },
      "outputs": [],
      "source": [
        "#depending on the name, categorizing individuals\n",
        "for index,row in train.iterrows():\n",
        "    name = row['Name']\n",
        "    if 'Mr.' in name:\n",
        "        train.set_value(index,'Mr',1)\n",
        "    elif 'Mrs.' in name:\n",
        "        train.set_value(index,'Mrs',1)\n",
        "    elif 'Miss.' in name:\n",
        "        train.set_value(index,'Miss',1)\n",
        "    elif 'Lady' or 'Don' or 'Dona' or 'sir' or 'master' in name:\n",
        "        train.set_value(index,'royalty',1)\n",
        "    elif 'rev' in name:\n",
        "        train.set_value(index,'officer',1)\n",
        "        \n",
        "train.head()"
      ]
    },
    {
      "cell_type": "code",
      "execution_count": null,
      "metadata": {
        "_cell_guid": "98e91f9c-5bab-df5b-2881-0e88accb4a12"
      },
      "outputs": [],
      "source": [
        "train.drop('Name',inplace=True, axis=1)\n",
        "train.head() #Dropped the names column"
      ]
    },
    {
      "cell_type": "markdown",
      "metadata": {
        "_cell_guid": "dcd19656-2060-2a6a-c0b3-25ec4782590c"
      },
      "source": [
        "Port of Embarkation:\n",
        "                   (**C** = Cherbourg; **Q** = Queenstown; **S** = Southampton)\n"
      ]
    },
    {
      "cell_type": "code",
      "execution_count": null,
      "metadata": {
        "_cell_guid": "9c8d30cb-0259-bf93-82df-c61a1cac896c"
      },
      "outputs": [],
      "source": [
        "\n",
        "train['Embarked_S'] = 0\n",
        "train['Embarked_C'] = 0\n",
        "train['Embarked_Q'] = 0\n",
        "train['Embarked_unknown'] = 0\n",
        "\n",
        "for index,row in train.iterrows():\n",
        "    embarkment = row['Embarked']\n",
        "    if embarkment == 'S':\n",
        "        train.set_value(index,'Embarked_S',1)\n",
        "    elif embarkment == 'C':\n",
        "        train.set_value(index,'Embarked_C',1)\n",
        "    elif embarkment == 'Q':\n",
        "        train.set_value(index,'Embarked_Q',1)\n",
        "    else:\n",
        "        train.set_value(index,'Embarked_unknown',1)\n",
        "   \n",
        "\n",
        "train.head()\n"
      ]
    },
    {
      "cell_type": "code",
      "execution_count": null,
      "metadata": {
        "_cell_guid": "6116c612-3741-96ef-d6fa-38f01509559a"
      },
      "outputs": [],
      "source": [
        "train.drop('Embarked', inplace = True, axis = 1) #Dropped column 'Embarked'"
      ]
    },
    {
      "cell_type": "markdown",
      "metadata": {
        "_cell_guid": "eaee4c50-77e4-54b0-0ed8-8bd6002d90f3"
      },
      "source": [
        "Sex:\n",
        "\n",
        " - 1 = Male\n",
        " - 0 = Female"
      ]
    },
    {
      "cell_type": "code",
      "execution_count": null,
      "metadata": {
        "_cell_guid": "fa9a330e-d950-1d1d-7a02-b09a2a44a05b"
      },
      "outputs": [],
      "source": [
        "\n",
        "for index,row in train.iterrows():\n",
        "    if row['Sex'] == 'male':\n",
        "        train.set_value(index, 'Sex', 1)\n",
        "    else:\n",
        "        train.set_value(index,'Sex',0)\n",
        "train.head()"
      ]
    },
    {
      "cell_type": "code",
      "execution_count": null,
      "metadata": {
        "_cell_guid": "84854fbb-20e4-7a61-76b0-1896bc5b5e76"
      },
      "outputs": [],
      "source": [
        "#wont be using the feature \"Ticket\", so drop it\n",
        "\n",
        "train.drop('Ticket', inplace= True, axis = 1)\n",
        "train.head()"
      ]
    },
    {
      "cell_type": "code",
      "execution_count": null,
      "metadata": {
        "_cell_guid": "bcf1eab3-45e7-1594-0555-5833e62b2409"
      },
      "outputs": [],
      "source": [
        "#lets categorize the fares as: cheap, average, and costly\n",
        "\n",
        "train['Fare_cheap']=0\n",
        "train['Fare_average']=0\n",
        "train['Fare_costly']=0\n",
        "\n",
        "for index,row in train.iterrows():\n",
        "    if row['Fare'] <= 30.0 :\n",
        "        train.set_value(index, 'Fare_cheap', 1)\n",
        "    elif row['Fare'] >30 and  row['Fare'] <= 70.0:\n",
        "        train.set_value(index,'Fare_average',1)\n",
        "    else:\n",
        "        train.set_value(index, 'Fare_costly',1)\n",
        "        \n",
        "train.head()\n"
      ]
    },
    {
      "cell_type": "code",
      "execution_count": null,
      "metadata": {
        "_cell_guid": "b9a18738-47ab-5275-ddd1-c6218d49debc"
      },
      "outputs": [],
      "source": [
        "train.drop('Fare',inplace = True, axis =1) #now we don't need the fare column\n",
        "train.head()"
      ]
    },
    {
      "cell_type": "code",
      "execution_count": null,
      "metadata": {
        "_cell_guid": "f3f62a96-7115-10ed-b0eb-910824011e21"
      },
      "outputs": [],
      "source": [
        "#we wont be considering the feature 'Cabin' \n",
        "#So,dropping that column as well\n",
        "train.drop('Cabin',inplace = True, axis = 1)\n",
        "train.head()"
      ]
    },
    {
      "cell_type": "code",
      "execution_count": null,
      "metadata": {
        "_cell_guid": "4b5fbe88-997f-9433-198f-7725e28832e5"
      },
      "outputs": [],
      "source": [
        "train.describe() #Checking for any missing values due to manipulation"
      ]
    },
    {
      "cell_type": "code",
      "execution_count": null,
      "metadata": {
        "_cell_guid": "940935ce-da3c-ab99-bdb6-30e08643f0bc"
      },
      "outputs": [],
      "source": [
        "X = train[['Pclass','Sex','Age','SibSp','Parch','Mr','Mrs','Miss','royalty','officer','Embarked_S','Embarked_C','Embarked_Q','Embarked_unknown','Fare_cheap','Fare_average','Fare_costly']]\n",
        "y = train.Survived #Works if there aren't any spaces in the column name\n",
        "\n",
        "#17 features\n",
        "X.shape"
      ]
    },
    {
      "cell_type": "code",
      "execution_count": null,
      "metadata": {
        "_cell_guid": "d17a387c-cef6-e3c1-e7b7-3bdb4d857d80"
      },
      "outputs": [],
      "source": [
        "y.shape"
      ]
    },
    {
      "cell_type": "markdown",
      "metadata": {
        "_cell_guid": "ebebae45-c8c0-0103-ea74-73c43432b060"
      },
      "source": [
        "**Till now, we were just trying to make the dataset *suitable so that we can pass it to a machine learning model*** \n",
        "\n",
        "**So finally, we have our feature matrix and a response matrix, X,y (which we will use for the machine learning models)**\n",
        "\n",
        "\n",
        "----------\n",
        "\n",
        "\n",
        "----------\n",
        "\n",
        "\n",
        "#Machine Learning"
      ]
    },
    {
      "cell_type": "markdown",
      "metadata": {
        "_cell_guid": "bcf147df-37c7-f940-eefc-7a264387155e"
      },
      "source": [
        "**Models we will use : Support Vector Machine & Knn**\n",
        "\n"
      ]
    },
    {
      "cell_type": "markdown",
      "metadata": {
        "_cell_guid": "a79f7c5d-caaa-58a5-7553-e43965a41dce"
      },
      "source": [
        "**SVM :**"
      ]
    },
    {
      "cell_type": "code",
      "execution_count": null,
      "metadata": {
        "_cell_guid": "792cae7c-47a9-5a30-a0e5-0b59a199b503"
      },
      "outputs": [],
      "source": [
        "from sklearn.svm import SVC\n",
        "from sklearn.cross_validation import cross_val_score #k fold cross validation\n",
        "\n",
        "svm_model = SVC() \n",
        "svm_model.kernel= 'linear'\n",
        "score_svm = cross_val_score(svm_model,X,y,cv=10, scoring= 'accuracy')\n",
        "print(score_svm.mean())"
      ]
    },
    {
      "cell_type": "markdown",
      "metadata": {
        "_cell_guid": "3619e6a1-ab55-1bc0-231b-cd7ee28d8fc0"
      },
      "source": [
        "Thus, our (linear) SVM model produces an average accuracy of about **81.25%**\n",
        "#Trying this on the second model i.e, Knn\n",
        "\n",
        "**KNN :**"
      ]
    },
    {
      "cell_type": "code",
      "execution_count": null,
      "metadata": {
        "_cell_guid": "57e981ce-0e22-4337-880f-a94f67dd3bbc"
      },
      "outputs": [],
      "source": [
        "%matplotlib inline\n",
        "from sklearn.neighbors import KNeighborsClassifier\n",
        "k_range= range(1,31)\n",
        "score_knn_list=[]\n",
        "#how many neighbours should we consider?\n",
        "for n in k_range:\n",
        "    knn_model = KNeighborsClassifier(n_neighbors = n)\n",
        "    score_knn = cross_val_score(knn_model,X,y,cv=10,scoring ='accuracy')\n",
        "    score_knn_list.append(score_knn.mean())\n",
        "\n",
        "plt.plot(k_range,score_knn_list)\n",
        "plt.xlabel('Value of K for KNN')\n",
        "plt.ylabel('Cross Validated Accuracy')\n"
      ]
    },
    {
      "cell_type": "markdown",
      "metadata": {
        "_cell_guid": "47841113-f5e5-59d3-4e92-29eac0cdd0bc"
      },
      "source": [
        "As we can see, for (k_neighbors) **k= 5 - 10**, we will get better accuracy( So we choose k=5)\n"
      ]
    },
    {
      "cell_type": "code",
      "execution_count": null,
      "metadata": {
        "_cell_guid": "1a4c9fb6-9f57-083e-ad38-691c0f57a4a6"
      },
      "outputs": [],
      "source": [
        "knn_model_2 = KNeighborsClassifier(n_neighbors = 5)\n",
        "score_knn = cross_val_score(knn_model_2,X,y,cv=10,scoring ='accuracy')\n",
        "print(score_knn.mean())"
      ]
    },
    {
      "cell_type": "markdown",
      "metadata": {
        "_cell_guid": "abe68cb5-6e0c-a17e-be4e-a325c8c74b2a"
      },
      "source": [
        "Thus, our KNN model produces an average accuracy of about **79.8%**\n",
        "\n",
        "\n",
        "#Conclusion: \n",
        "#SVM model gave us a better accuracy than the KNN model, which is about **81.25%** !\n",
        ":)\n",
        "\n",
        "\n",
        "(**Please note that this isn't a solution and is only aimed at providing some help to the beginners**)\n",
        "\n",
        "**Let me know if it helped!**\n",
        "#Thank You."
      ]
    }
  ],
  "metadata": {
    "_change_revision": 0,
    "_is_fork": false,
    "kernelspec": {
      "display_name": "Python 3",
      "language": "python",
      "name": "python3"
    },
    "language_info": {
      "codemirror_mode": {
        "name": "ipython",
        "version": 3
      },
      "file_extension": ".py",
      "mimetype": "text/x-python",
      "name": "python",
      "nbconvert_exporter": "python",
      "pygments_lexer": "ipython3",
      "version": "3.6.0"
    }
  },
  "nbformat": 4,
  "nbformat_minor": 0
}