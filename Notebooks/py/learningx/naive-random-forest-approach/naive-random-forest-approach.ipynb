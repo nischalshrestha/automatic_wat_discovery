{
  "cells": [
    {
      "cell_type": "markdown",
      "metadata": {
        "_cell_guid": "504263ee-7362-251a-db3a-d73b2abd5e4a"
      },
      "source": [
        "\n",
        "\n",
        "A run-through of Mike's channel: https://www.youtube.com/watch?v=0GrciaGYzV0&t=766s\n",
        "------------------------------------"
      ]
    },
    {
      "cell_type": "code",
      "execution_count": null,
      "metadata": {
        "_cell_guid": "d755d765-a83c-dda8-f83c-5ea6f4ba958a"
      },
      "outputs": [],
      "source": [
        "# This Python 3 environment comes with many helpful analytics libraries installed\n",
        "# It is defined by the kaggle/python docker image: https://github.com/kaggle/docker-python\n",
        "# For example, here's several helpful packages to load in \n",
        "\n",
        "import numpy as np # linear algebra\n",
        "import pandas as pd # data processing, CSV file I/O (e.g. pd.read_csv)\n",
        "from sklearn.ensemble import RandomForestRegressor\n",
        "from sklearn.metrics import roc_auc_score\n",
        "\n",
        "# Input data files are available in the \"../input/\" directory.\n",
        "# For example, running this (by clicking run or pressing Shift+Enter) will list the files in the input directory\n",
        "x = pd.read_csv('../input/train.csv')\n",
        "y = x.pop(\"Survived\")\n",
        "\n",
        "\n",
        "from subprocess import check_output\n",
        "print(check_output([\"ls\", \"../input\"]).decode(\"utf8\"))\n",
        "\n",
        "# Any results you write to the current directory are saved as output."
      ]
    },
    {
      "cell_type": "markdown",
      "metadata": {
        "_cell_guid": "b0d7ddeb-a4b1-afd8-fb54-cac7a1991e0d"
      },
      "source": [
        "**1. Input Examination**"
      ]
    },
    {
      "cell_type": "code",
      "execution_count": null,
      "metadata": {
        "_cell_guid": "2c97ecb3-be96-c699-6e72-d2db3ac98eb6"
      },
      "outputs": [],
      "source": [
        "x.describe()"
      ]
    },
    {
      "cell_type": "markdown",
      "metadata": {
        "_cell_guid": "bddcde8c-a3d9-ce4c-a9a2-4e5a6b0cdf6e"
      },
      "source": [
        "**All the above is only for the numerical input, however, there are still categorical columns have not shown up, such as Embarked, Cabin... My confusion is why they did not show up in describe. Should describe function give all summary of columns regardless their data type?** "
      ]
    },
    {
      "cell_type": "markdown",
      "metadata": {
        "_cell_guid": "f49907cd-8656-615b-980d-289e006820e0"
      },
      "source": [
        "**2. Remove NAs  \n",
        "From output[4], we found out there are some NAs in Age group. In this case, I choose to use the mean age to replace them.**"
      ]
    },
    {
      "cell_type": "code",
      "execution_count": null,
      "metadata": {
        "_cell_guid": "60c545e8-e89f-5bd5-8633-93df410ed4b1"
      },
      "outputs": [],
      "source": [
        "x[\"Age\"].fillna(x.Age.mean(), inplace = True)\n",
        "x.describe()"
      ]
    },
    {
      "cell_type": "markdown",
      "metadata": {
        "_cell_guid": "2cfb57ce-c2b9-ff30-54ca-86d40cd5c222"
      },
      "source": [
        "**3.Model Prediction**"
      ]
    },
    {
      "cell_type": "markdown",
      "metadata": {
        "_cell_guid": "4bb4c13f-1925-7e42-cf58-6dc5831acedd"
      },
      "source": [
        "**We cannot regress the whole data set due to data type error I guess thus we may try numerical data first**"
      ]
    },
    {
      "cell_type": "code",
      "execution_count": null,
      "metadata": {
        "_cell_guid": "f6f99478-3bfa-2376-5716-320190fb2fe2"
      },
      "outputs": [],
      "source": [
        "numerical_variables = list(x.dtypes[x.dtypes != object].index)\n",
        "x[numerical_variables].head()"
      ]
    },
    {
      "cell_type": "code",
      "execution_count": null,
      "metadata": {
        "_cell_guid": "fd771bdd-4297-ece0-0c4c-d09d23858407"
      },
      "outputs": [],
      "source": [
        "model = RandomForestRegressor(n_estimators = 100, oob_score = True, random_state = 42 )\n",
        "model.fit(x[numerical_variables],y)"
      ]
    },
    {
      "cell_type": "markdown",
      "metadata": {
        "_cell_guid": "5ea3502f-0663-d356-85e0-e46a42da80a4"
      },
      "source": [
        "**Let's take a look at this model. \n",
        "Out-of-bag(OOB) description :http://scikitlearn.org/stable/auto_examples/ensemble/plot_ensemble_oob.html**"
      ]
    },
    {
      "cell_type": "code",
      "execution_count": null,
      "metadata": {
        "_cell_guid": "ec38cd08-3a32-8830-99a7-fc8521536346"
      },
      "outputs": [],
      "source": [
        "model.oob_score_"
      ]
    },
    {
      "cell_type": "code",
      "execution_count": null,
      "metadata": {
        "_cell_guid": "f284eba6-fded-0c21-102e-83b37c4e745a"
      },
      "outputs": [],
      "source": [
        "y_oob = model.oob_prediction_\n",
        "print( \"c-stat:\",roc_auc_score(y,y_oob))"
      ]
    },
    {
      "cell_type": "markdown",
      "metadata": {
        "_cell_guid": "d539d2d5-921e-290c-5f65-69401b22687a"
      },
      "source": [
        "**roc_auc_score is approximately 74%, which sets up a basic benchmark. In order to enhance the model,  we need to consider about categorical variables.**"
      ]
    },
    {
      "cell_type": "code",
      "execution_count": null,
      "metadata": {
        "_cell_guid": "359905e9-7ac6-6a2c-8541-1702cfa2039f"
      },
      "outputs": [],
      "source": [
        "def describe_categorical(x):   \n",
        "    from IPython.display import display, HTML\n",
        "    display(HTML(x[x.columns[x.dtypes==\"object\"]].describe().to_html()))"
      ]
    },
    {
      "cell_type": "code",
      "execution_count": null,
      "metadata": {
        "_cell_guid": "acf775e0-35c0-9977-353b-d58d11b557ad"
      },
      "outputs": [],
      "source": [
        "describe_categorical(x)"
      ]
    },
    {
      "cell_type": "markdown",
      "metadata": {
        "_cell_guid": "b453d71d-7ee8-4dcb-44f4-83f1050c16eb"
      },
      "source": [
        "**There are missing values in Cabin and Embarked\n",
        "Name is irrelevant so we can ignore it\n",
        "Cabin we only keep the first letter which indicates the class of ticket**"
      ]
    },
    {
      "cell_type": "code",
      "execution_count": null,
      "metadata": {
        "_cell_guid": "7812bcbf-3454-738f-b2a3-3c549b6f29a8"
      },
      "outputs": [],
      "source": [
        "x.drop([\"Name\",\"Ticket\",\"PassengerId\"], axis = 1, inplace = True)"
      ]
    },
    {
      "cell_type": "code",
      "execution_count": null,
      "metadata": {
        "_cell_guid": "22bb61a2-297c-5741-7443-8c720d74d103"
      },
      "outputs": [],
      "source": [
        "\n",
        "def clean_cabin(x):\n",
        "    try:\n",
        "        return x[0]\n",
        "    except TypeError:\n",
        "        return \"None\"\n",
        "    \n",
        "x[\"Cabin\"] = x.Cabin.apply(clean_cabin)"
      ]
    },
    {
      "cell_type": "code",
      "execution_count": null,
      "metadata": {
        "_cell_guid": "98970aa4-d6e2-715c-aa28-4da2ab259dd6"
      },
      "outputs": [],
      "source": [
        "describe_categorical(x)"
      ]
    },
    {
      "cell_type": "code",
      "execution_count": null,
      "metadata": {
        "_cell_guid": "8a5bf641-9b73-fd97-1967-1b41dca867a4"
      },
      "outputs": [],
      "source": [
        "categorical_variables = [\"Sex\",\"Cabin\",\"Embarked\"]\n",
        "for variable in categorical_variables:\n",
        "    x[variable].fillna(\"Missing\", inplace = True)\n",
        "    dummies = pd.get_dummies(x[variable], prefix = variable)\n",
        "    x = pd.concat([x,dummies],axis=1)\n",
        "    x.drop([variable],axis = 1, inplace = True)"
      ]
    },
    {
      "cell_type": "code",
      "execution_count": null,
      "metadata": {
        "_cell_guid": "c15dd249-7d96-1204-035a-0c5c2828606c"
      },
      "outputs": [],
      "source": [
        "model = RandomForestRegressor(100,oob_score = True,n_jobs = -1,random_state = 42)\n",
        "model.fit(x,y)\n",
        "print (\"c-stat\",roc_auc_score(y,model.oob_prediction_))"
      ]
    },
    {
      "cell_type": "markdown",
      "metadata": {
        "_cell_guid": "c3ce4efe-db23-403e-fda3-36ce872cc21b"
      },
      "source": [
        "**Optimize Parameters**\n"
      ]
    },
    {
      "cell_type": "code",
      "execution_count": null,
      "metadata": {
        "_cell_guid": "01ea7121-60be-4c28-c3d0-9bc8e6e62e93"
      },
      "outputs": [],
      "source": [
        "#To find which parameters are important\n",
        "feature_importance = pd.Series(model.feature_importances_, index = x.columns )\n",
        "feature_importance.sort()\n",
        "feature_importance.plot(kind = \"barh\",figsize =(7,6) )"
      ]
    },
    {
      "cell_type": "code",
      "execution_count": null,
      "metadata": {
        "_cell_guid": "54185461-f2ce-d71b-dc9f-0c39dd83c4a0"
      },
      "outputs": [],
      "source": [
        "#To find n_estimators\n",
        "n_estimators_options = [30, 50 ,100 ,200 ,1000, 2000 ]\n",
        "results = []\n",
        "for tree in n_estimators_options:\n",
        "    model = RandomForestRegressor(tree,oob_score = True,n_jobs = -1,random_state = 42)\n",
        "    model.fit(x,y)\n",
        "    print(tree, \"trees\")\n",
        "    roc = roc_auc_score(y, model.oob_prediction_)\n",
        "    print(\"C-stat\",  roc)\n",
        "    results.append(roc)\n",
        "    print (\"\")\n",
        "    \n",
        "pd.Series(results, n_estimators_options).plot()\n",
        "    \n",
        "    "
      ]
    },
    {
      "cell_type": "markdown",
      "metadata": {
        "_cell_guid": "76fd09d7-1496-bb6f-4571-4649763bb2fb"
      },
      "source": [
        "**From above we know we will choose  n_estimator = 1000**"
      ]
    },
    {
      "cell_type": "code",
      "execution_count": null,
      "metadata": {
        "_cell_guid": "59e59d4f-5a1f-5307-cc54-97064bd8f5bc"
      },
      "outputs": [],
      "source": [
        "#To find max_features\n",
        "max_features_options = [\"auto\", None , \"sqrt\",\"log2\" ,0.9, 0.2 ]\n",
        "results = []\n",
        "for max_features in max_features_options:\n",
        "    model = RandomForestRegressor(1000,oob_score = True,n_jobs = -1,max_features = max_features,random_state = 42)\n",
        "    model.fit(x,y)\n",
        "    print(max_features, \"max_features\")\n",
        "    roc = roc_auc_score(y, model.oob_prediction_)\n",
        "    print(\"C-stat\",  roc)\n",
        "    results.append(roc)\n",
        "    print (\"\")\n",
        "    \n",
        "pd.Series(results, max_features_options).plot()"
      ]
    },
    {
      "cell_type": "code",
      "execution_count": null,
      "metadata": {
        "_cell_guid": "ef64eb57-8bc4-b038-fd77-23d1fd917eea"
      },
      "outputs": [],
      "source": [
        "#To find min_samples_leaf\n",
        "min_sample_leaf_options = np.asarray(range(1,10))\n",
        "results = []\n",
        "for min_sample_leaf in min_sample_leaf_options:\n",
        "    model = RandomForestRegressor(1000,oob_score = True,\n",
        "                                  n_jobs = -1,max_features = \"auto\",\n",
        "                                  random_state = 42, \n",
        "                                  min_samples_leaf =min_sample_leaf )\n",
        "    model.fit(x,y)\n",
        "    print(min_sample_leaf, \"min_sample_leaf\")\n",
        "    roc = roc_auc_score(y, model.oob_prediction_)\n",
        "    print(\"C-stat\",  roc)\n",
        "    results.append(roc)\n",
        "    print (\"\")\n",
        "    \n",
        "pd.Series(results, min_sample_leaf_options).plot()"
      ]
    },
    {
      "cell_type": "code",
      "execution_count": null,
      "metadata": {
        "_cell_guid": "ea66a853-0290-59b3-f039-a119b9bd1b65"
      },
      "outputs": [],
      "source": [
        "x.describe()"
      ]
    },
    {
      "cell_type": "code",
      "execution_count": null,
      "metadata": {
        "_cell_guid": "1ac8be2c-cab3-7737-5dbe-d3c80b778e3e"
      },
      "outputs": [],
      "source": [
        "#Thus the final model will be\n",
        "final_model = RandomForestRegressor(1000,oob_score = True,\n",
        "                                  n_jobs = -1,max_features = \"auto\",\n",
        "                                  random_state = 42, \n",
        "                                  min_samples_leaf =5)\n",
        "final_model.fit(x,y)\n",
        "roc = roc_auc_score(y, final_model.oob_prediction_)\n",
        "print(\"C-stat\", roc)"
      ]
    },
    {
      "cell_type": "code",
      "execution_count": null,
      "metadata": {
        "_cell_guid": "a17d2d90-131e-d5aa-bf3c-059b4637c8ae"
      },
      "outputs": [],
      "source": [
        "#Use the final model to predict survivals \n",
        "test_data = pd.read_csv(\"../input/test.csv\")\n",
        "passengerId = test_data[\"PassengerId\"]\n",
        "test_data.drop([\"Name\",\"Ticket\",\"PassengerId\"], axis = 1, inplace = True)\n",
        "test_data[\"Cabin\"] = test_data.Cabin.apply(clean_cabin)\n",
        "test_data[\"Age\"].fillna(test_data.Age.mean(), inplace = True)\n",
        "test_data[\"Fare\"].fillna(test_data.Fare.mean(),inplace = True)\n",
        "for variable in categorical_variables:\n",
        "    test_data[variable].fillna(\"Missing\", inplace = True)\n",
        "    dummies = pd.get_dummies(test_data[variable], prefix = variable)\n",
        "    test_data = pd.concat([test_data,dummies],axis=1)\n",
        "    test_data.drop([variable],axis = 1, inplace = True)\n",
        "\n",
        "length = len(test_data[\"Cabin_G\"])\n",
        "test_data[\"Cabin_T\"] = pd.Series(np.zeros(length), index = test_data.index)\n",
        "test_data[\"Embarked_Missing\"] = pd.Series(np.zeros(length), index = test_data.index)\n",
        "test_data.describe()"
      ]
    },
    {
      "cell_type": "code",
      "execution_count": null,
      "metadata": {
        "_cell_guid": "2ef4cf63-b0cf-8ee5-23ad-1c2acf2a9827"
      },
      "outputs": [],
      "source": [
        "results= final_model.predict(test_data)\n",
        "for i in range(0,len(results)):\n",
        "    if results[i] > 0.4:\n",
        "        results[i] = 1\n",
        "    else: \n",
        "        results[i] = 0\n",
        "results= results.astype(int)\n",
        "submission = pd.DataFrame({\n",
        "        \"PassengerId\": passengerId,\n",
        "        \"Survived\": results\n",
        "    })\n",
        "submission.head()\n",
        "submission.to_csv('submission.csv', index=False)"
      ]
    }
  ],
  "metadata": {
    "_change_revision": 0,
    "_is_fork": false,
    "kernelspec": {
      "display_name": "Python 3",
      "language": "python",
      "name": "python3"
    },
    "language_info": {
      "codemirror_mode": {
        "name": "ipython",
        "version": 3
      },
      "file_extension": ".py",
      "mimetype": "text/x-python",
      "name": "python",
      "nbconvert_exporter": "python",
      "pygments_lexer": "ipython3",
      "version": "3.6.0"
    }
  },
  "nbformat": 4,
  "nbformat_minor": 0
}