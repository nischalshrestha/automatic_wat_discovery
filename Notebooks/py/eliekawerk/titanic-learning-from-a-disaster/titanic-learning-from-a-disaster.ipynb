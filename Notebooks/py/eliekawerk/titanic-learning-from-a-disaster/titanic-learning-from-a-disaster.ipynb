{
  "cells": [
    {
      "cell_type": "markdown",
      "metadata": {
        "_cell_guid": "353eca29-8ded-ad24-6dd9-1b33915613e8"
      },
      "source": [
        "# Titanic: Learning from a disaster \n",
        "<br />\n",
        "**Elie Kawerk**\n",
        "\n",
        "<br />\n",
        "I'm a data science and machine learning newbie. Here's a brief overview of my plan to approach for the problem:\n",
        "\n",
        "1. Load the datasets and take a peek at the data\n",
        "2. Exploratory Data Analysis (EDA)\n",
        "3. Data cleaning and feature engineering through EDA\n",
        "4. Preparing the data to feed it into the machine learning models\n",
        "5. Training a set of machine learning models\n",
        "6. Fine tuning the best models\n",
        "7. Diagnosing the fine-tuned models\n",
        "8. Submission\n",
        "\n",
        "If you like this notebook, kindly consider voting for it.\n",
        "\n",
        "Let's get started!"
      ]
    },
    {
      "cell_type": "markdown",
      "metadata": {
        "_cell_guid": "419e57e8-d7a4-bf72-481e-ee0e77209010"
      },
      "source": [
        "# 1. Load the datasets and take a peek at the data"
      ]
    },
    {
      "cell_type": "code",
      "execution_count": null,
      "metadata": {
        "_cell_guid": "fad40f27-690a-6c4c-d5d9-3ce36edb08a0"
      },
      "outputs": [],
      "source": [
        "import numpy as np  # linear algebra\n",
        "import pandas as pd # data wrangling\n",
        "import matplotlib.pyplot as plt # plotting\n",
        "import seaborn as sns # statistical plots and aesethics\n",
        "import re # regular expression\n",
        "\n",
        "######### Preprocessing #######\n",
        "from sklearn.preprocessing import (LabelEncoder, Imputer, StandardScaler) # data preparation\n",
        "\n",
        "##### Machine learning models ##############\n",
        "from sklearn.linear_model import LogisticRegression\n",
        "from sklearn.tree import DecisionTreeClassifier\n",
        "from sklearn.svm import SVC\n",
        "from sklearn.neighbors import KNeighborsClassifier\n",
        "from sklearn.ensemble import  (RandomForestClassifier, AdaBoostClassifier, ExtraTreesClassifier)\n",
        "from xgboost import XGBClassifier\n",
        "\n",
        "##### Model evaluation and hyperparameter tuning ##############\n",
        "from sklearn.model_selection import (cross_val_score, GridSearchCV, StratifiedKFold,\\\n",
        "                                   RandomizedSearchCV, train_test_split,\\\n",
        "                                   learning_curve, validation_curve)\n",
        "from sklearn.pipeline import Pipeline\n",
        "from sklearn.metrics import (f1_score, classification_report, roc_auc_score, roc_curve)"
      ]
    },
    {
      "cell_type": "code",
      "execution_count": null,
      "metadata": {
        "_cell_guid": "99def435-deba-93a6-d310-52b885230939"
      },
      "outputs": [],
      "source": [
        "df_train = pd.read_csv('../input/train.csv')\n",
        "df_test = pd.read_csv('../input/test.csv')\n",
        "\n",
        "df_train.head(3)"
      ]
    },
    {
      "cell_type": "code",
      "execution_count": null,
      "metadata": {
        "_cell_guid": "c241d781-5bdf-ccd6-c420-853be6a19799"
      },
      "outputs": [],
      "source": [
        "df_test.head()"
      ]
    },
    {
      "cell_type": "markdown",
      "metadata": {
        "_cell_guid": "13ce49c2-348d-d0f0-ab89-cf46e29a6a32"
      },
      "source": [
        "Let's examine the structure of the two datasets."
      ]
    },
    {
      "cell_type": "code",
      "execution_count": null,
      "metadata": {
        "_cell_guid": "78f102be-53b7-28a2-439f-85ec924f15ef"
      },
      "outputs": [],
      "source": [
        "df_train.info()"
      ]
    },
    {
      "cell_type": "markdown",
      "metadata": {
        "_cell_guid": "14c366f0-56e2-9dd8-eb1b-4e41d92b28bb"
      },
      "source": [
        "The columns Age, Cabin and Embarked present missing values. "
      ]
    },
    {
      "cell_type": "code",
      "execution_count": null,
      "metadata": {
        "_cell_guid": "70ad89df-0b7c-1010-0802-ad7eb309e261"
      },
      "outputs": [],
      "source": [
        "df_test.info()"
      ]
    },
    {
      "cell_type": "markdown",
      "metadata": {
        "_cell_guid": "a96948de-555d-9dea-df28-5897583b9b8f"
      },
      "source": [
        "For the test set, the columns presenting missing values are: Cabin, Fare and Age."
      ]
    },
    {
      "cell_type": "markdown",
      "metadata": {
        "_cell_guid": "ee074830-29ec-43f2-b6cf-ea64c0607486"
      },
      "source": [
        "# 2. Exploratory Data Analysis (EDA)\n",
        "\n",
        "\n",
        "* **Shape of the datasets**"
      ]
    },
    {
      "cell_type": "code",
      "execution_count": null,
      "metadata": {
        "_cell_guid": "59b3dbbe-7f0b-55e1-d60e-032152a83d62"
      },
      "outputs": [],
      "source": [
        "df_train.shape"
      ]
    },
    {
      "cell_type": "code",
      "execution_count": null,
      "metadata": {
        "_cell_guid": "a1f37492-daf0-5374-f524-75cac83d99ad"
      },
      "outputs": [],
      "source": [
        "df_test.shape"
      ]
    },
    {
      "cell_type": "markdown",
      "metadata": {
        "_cell_guid": "e5346704-9216-41ef-4f63-cead88829851"
      },
      "source": [
        "The training set consists of 891 observation and the test set consists of 418 observations. "
      ]
    },
    {
      "cell_type": "code",
      "execution_count": null,
      "metadata": {
        "_cell_guid": "9b3b14d8-a9de-d43a-9e3a-3b20b663150e"
      },
      "outputs": [],
      "source": [
        "pd.set_option('display.max_rows', 500)\n",
        "print(df_train.dtypes)"
      ]
    },
    {
      "cell_type": "markdown",
      "metadata": {
        "_cell_guid": "ca13cfc4-33d1-457f-b291-f6c8838940b6"
      },
      "source": [
        "* **Summary Statistics**\n",
        "\n",
        "First, let's examine the distribution of the numerical features."
      ]
    },
    {
      "cell_type": "code",
      "execution_count": null,
      "metadata": {
        "_cell_guid": "6248a6e5-15f2-580a-5709-68f986e26324"
      },
      "outputs": [],
      "source": [
        "df_train.drop(['PassengerId', 'Survived','Pclass'], axis=1).describe()"
      ]
    },
    {
      "cell_type": "markdown",
      "metadata": {
        "_cell_guid": "6abc944a-3778-51d9-98e7-31dbf9d594a3"
      },
      "source": [
        "The features are not on the same scale. Later, if these same features are fed into a machine learning algorithm we should keep in mind standarizing them for optimal performance. Let's examine the distribution of the categorical features."
      ]
    },
    {
      "cell_type": "code",
      "execution_count": null,
      "metadata": {
        "_cell_guid": "ee4e6653-de58-c10f-a868-c95122fbbfc4"
      },
      "outputs": [],
      "source": [
        "categorical_variables = ['Survived', 'Pclass', 'Sex','Embarked']\n",
        "for cat_var in categorical_variables:\n",
        "    print(\"----------------------------\")\n",
        "    print(\"Distribiton of %s\" %(cat_var))\n",
        "    print(df_train[cat_var].value_counts())\n",
        "    print(\"----------------------------\")"
      ]
    },
    {
      "cell_type": "markdown",
      "metadata": {
        "_cell_guid": "51ea3481-ceb4-80f5-1c50-3db242a20e50"
      },
      "source": [
        "About 62 % of the passengers from the training set passed away in the accident.  This is a hint that the target is unbalanced. This should be kept in mind for diagnosing out machine learning algorithms.\n",
        "\n",
        "Surprisingly, for the training set, there were more people in the 1st class than the 2nd class. Also, there were more males on the ship than females. \n",
        "\n",
        "Finally, it appears that far more people embarked from Southampton than the other ports of embarkation. Cherbourg is the least common port for passengers of the Titanic."
      ]
    },
    {
      "cell_type": "markdown",
      "metadata": {
        "_cell_guid": "0c2ac592-70ae-4f88-aed4-68c625d8d633"
      },
      "source": [
        "* **Data Visualization**\n",
        "\n",
        "Let's begin by visualizing the distribution of the Survived target variable by Class."
      ]
    },
    {
      "cell_type": "code",
      "execution_count": null,
      "metadata": {
        "_cell_guid": "d4535fe8-972f-291b-ac75-9ea7f8f4d4fb"
      },
      "outputs": [],
      "source": [
        "sns.set_style('whitegrid')\n",
        "sns.countplot('Pclass', data=df_train, hue=\"Survived\")"
      ]
    },
    {
      "cell_type": "markdown",
      "metadata": {
        "_cell_guid": "9abda4e4-ce70-ec3d-ce05-8e32fc8577d7"
      },
      "source": [
        "Obviously, 3rd class passengers were most likely to pass away in the accident while 1st class passengers were most likely to survive. Let's examine the survival by the Sex feature."
      ]
    },
    {
      "cell_type": "code",
      "execution_count": null,
      "metadata": {
        "_cell_guid": "78fb19ab-0035-ce1a-5801-ed4a7c06bc90"
      },
      "outputs": [],
      "source": [
        "sns.countplot('Sex', data=df_train, hue=\"Survived\")"
      ]
    },
    {
      "cell_type": "markdown",
      "metadata": {
        "_cell_guid": "c64d7c91-509e-9909-1656-3e55fce0670e"
      },
      "source": [
        "Females were most likely to survive while males were most likely to pass away in the incident. it would be interesting to examine the age distribution of the several categories."
      ]
    },
    {
      "cell_type": "code",
      "execution_count": null,
      "metadata": {
        "_cell_guid": "61284d76-2ed1-3e20-342e-c10db2f48440"
      },
      "outputs": [],
      "source": [
        "g = sns.FacetGrid(df_train, row = 'Survived', hue='Sex', size=4, aspect=2)\n",
        "g = (g.map(sns.kdeplot,'Age', shade='True')).add_legend()"
      ]
    },
    {
      "cell_type": "markdown",
      "metadata": {
        "_cell_guid": "de7db32e-5666-ceab-7f73-4d914d991325"
      },
      "source": [
        "There isn't any discriminatory information here. Let's now plot the same distributions by Class."
      ]
    },
    {
      "cell_type": "code",
      "execution_count": null,
      "metadata": {
        "_cell_guid": "fe0c5ab1-53a2-4298-d6cd-0d425ae66277"
      },
      "outputs": [],
      "source": [
        "g = sns.FacetGrid(df_train, row= \"Pclass\" , col = 'Survived', hue='Sex', size=4, aspect=1)\n",
        "g = (g.map(sns.kdeplot,'Age', shade='True')).add_legend()"
      ]
    },
    {
      "cell_type": "markdown",
      "metadata": {
        "_cell_guid": "b8cd1214-b90a-4a81-e2d2-89284901b528"
      },
      "source": [
        "It appears that from the people who passed away in the first class, females tended to have a lower age than males. In contrast, among the survivors from the 2nd class, females were most likely to be older than males. Let's now examine the distribution of the survivors by port of embarkation."
      ]
    },
    {
      "cell_type": "code",
      "execution_count": null,
      "metadata": {
        "_cell_guid": "5afafdde-ea7b-ee4c-9425-274185333d2c"
      },
      "outputs": [],
      "source": [
        "sns.countplot('Embarked', data=df_train, hue='Survived')"
      ]
    },
    {
      "cell_type": "markdown",
      "metadata": {
        "_cell_guid": "59267493-9259-d9b3-fc38-12d3dd6485de"
      },
      "source": [
        " Passengers who embarked form Cherbourg were most likely to survive the incident while passengers who embarked from Southampton were most likely to pass away. The  port of embarkation could be related to the economic status of the passengers. Let's go ahead and plot the same distributions by Class."
      ]
    },
    {
      "cell_type": "code",
      "execution_count": null,
      "metadata": {
        "_cell_guid": "d10951ad-9063-cea3-7dfb-abfa11d58e96"
      },
      "outputs": [],
      "source": [
        "g = sns.FacetGrid(df_train, col= \"Pclass\", hue ='Survived' , size=4, aspect=1)\n",
        "g = (g.map(sns.countplot,'Embarked')).add_legend()"
      ]
    },
    {
      "cell_type": "markdown",
      "metadata": {
        "_cell_guid": "c99432ec-8272-9227-4226-5f3beb1ff503"
      },
      "source": [
        "Interestingly, while the port of embarkation does not give any discriminatory information about survival of  first class passengers, it appears that 2nd and 3rd class passengers embarking from Southampton were most likely to pass away in Titanic's sinking.  Let's continue by plotting the fare distribution by survival."
      ]
    },
    {
      "cell_type": "code",
      "execution_count": null,
      "metadata": {
        "_cell_guid": "898b0929-925f-de23-5f55-f9cbe8bdc988"
      },
      "outputs": [],
      "source": [
        "g = sns.FacetGrid(df_train, hue='Survived', size=4, aspect=2)\n",
        "g = (g.map(sns.kdeplot, 'Fare', shade=True)).add_legend()\n",
        "plt.xlim(-10, 125)\n",
        "plt.show()"
      ]
    },
    {
      "cell_type": "markdown",
      "metadata": {
        "_cell_guid": "d3bb4019-3453-ee8c-fceb-15b464607825"
      },
      "source": [
        "Apparently, we are corroborating our previous observations. Passengers of  lower economic status were most likely to pass away in the disaster. Let's examine the survival distribution by the number of siblings (SibSp) and the number of Parents/Children (Parch)."
      ]
    },
    {
      "cell_type": "code",
      "execution_count": null,
      "metadata": {
        "_cell_guid": "19496dec-6382-b954-3a6c-73881ce698ca"
      },
      "outputs": [],
      "source": [
        "sns.countplot('SibSp', data=df_train, hue='Survived')\n",
        "plt.show()"
      ]
    },
    {
      "cell_type": "code",
      "execution_count": null,
      "metadata": {
        "_cell_guid": "26578b9b-34ff-bac9-b328-d84c86704e3c"
      },
      "outputs": [],
      "source": [
        "sns.countplot('Parch', data=df_train, hue='Survived')\n",
        "plt.legend(loc='center')\n",
        "plt.show()"
      ]
    },
    {
      "cell_type": "markdown",
      "metadata": {
        "_cell_guid": "16f2884f-2fd4-9234-2cf8-622cefc666bc"
      },
      "source": [
        "It appears that passengers who had 1 sibling on-board were most likely to survive. The same holds for passengers who had 1 parent/child on-board. Let's now examine the Parch distribution for each survival category by Sex."
      ]
    },
    {
      "cell_type": "code",
      "execution_count": null,
      "metadata": {
        "_cell_guid": "09f87668-a08b-8da3-542a-3e8eb78a7687"
      },
      "outputs": [],
      "source": [
        "g = sns.FacetGrid(data=df_train, col='Survived', hue='Sex', size=4, aspect=1)\n",
        "g = (g.map(sns.countplot, 'Parch')).add_legend()\n",
        "plt.show()"
      ]
    },
    {
      "cell_type": "markdown",
      "metadata": {
        "_cell_guid": "04ef6e55-f350-9cff-473f-dfb3d9ccca6b"
      },
      "source": [
        "# 3. Data cleaning, feature engineering and more EDA\n",
        "\n",
        "<br /> \n",
        "\n",
        "* **Heatmap of missing values**\n",
        "\n",
        "First, let's plot a heatmap of the missing values by feature for the training and test sets."
      ]
    },
    {
      "cell_type": "code",
      "execution_count": null,
      "metadata": {
        "_cell_guid": "f2ac7eeb-ef0e-7e96-8bcf-bc5ee8bed8e6"
      },
      "outputs": [],
      "source": [
        "sns.heatmap(df_train.isnull(),  yticklabels=False, cbar=False, cmap='viridis')\n",
        "plt.suptitle('Missing values in the training set')\n",
        "plt.show()"
      ]
    },
    {
      "cell_type": "code",
      "execution_count": null,
      "metadata": {
        "_cell_guid": "2d0a543c-8c10-b2d5-ca3d-55e343c7a134"
      },
      "outputs": [],
      "source": [
        "sns.heatmap(df_test.isnull(),  yticklabels=False, cbar=False, cmap='viridis')\n",
        "plt.suptitle('Missing values in the test set')\n",
        "plt.show()"
      ]
    },
    {
      "cell_type": "markdown",
      "metadata": {
        "_cell_guid": "f09f95df-597d-21ad-9189-140b30017365"
      },
      "source": [
        "As mentioned in the first section, the training set presents missing values in the columns: Age, Cabin and Embarked. The test set presents missing values in the columns:Age, Fare and Cabin.\n",
        "The missing data for Age and Embarked should be handled cleverly by imputation since there are less missing values that filled values. For the Cabin feature, we have to decide whether to drop this feature entirely or to perform a clever imputation because the column corresponding to this feature is mostly populated by missing values. \n",
        "\n",
        "We should keep in mind that such imputations should be done based on the features/targets in the training dataset. Information from the test set should not be revealed because this may lead to data snooping.\n",
        "\n",
        "<br />\n",
        "\n",
        "* **Data cleaning through EDA**\n",
        "\n",
        "\n",
        "Let us think of a way to impute the missing values in the Age column by examining the boxplots of distributions corresponding to different categories/numbers in some categorical/numerical features."
      ]
    },
    {
      "cell_type": "code",
      "execution_count": null,
      "metadata": {
        "_cell_guid": "f5f4dd7b-a475-6c4e-3f2f-9801bdba7e6e"
      },
      "outputs": [],
      "source": [
        "for feature in ['Pclass', 'Embarked','Sex', 'Survived', 'SibSp', 'Parch']:\n",
        "    plt.suptitle('Age distribution by %s' %(feature))\n",
        "    sns.boxplot(x=feature, y='Age', data=df_train)\n",
        "    plt.show()"
      ]
    },
    {
      "cell_type": "markdown",
      "metadata": {
        "_cell_guid": "36e276f4-f8c1-40e6-3855-3aa08c437531"
      },
      "source": [
        "The distributions of the class feature (Pclass), the number of Parents/Children (Parch) and the number of siblings (SibSp) seem to discriminate a passenger's age the most conveniently.  \n",
        "\n",
        "For example, for Parch = 2 (most likely a minor passenger with both of his parents), the median age is 16.5 years which is pretty reasonable. To impute a missing value in the Age column, we will examine the Parch class of the observation and fill the value with the median age of the corresponding Parch category.\n",
        "\n",
        " Let's print the median age by Parch and then we can write a function that does the imputation we as described here-above."
      ]
    },
    {
      "cell_type": "code",
      "execution_count": null,
      "metadata": {
        "_cell_guid": "902c3e26-c06d-fe8d-1224-a6ab0fdc1bc4"
      },
      "outputs": [],
      "source": [
        "medians_by_parch = []\n",
        "\n",
        "for i in df_train['Parch'].unique().tolist():\n",
        "    medians_by_parch.append(df_train[df_train['Parch'] == i]['Age'].median())\n",
        "\n",
        "for i, median_age in enumerate(medians_by_parch):\n",
        "    print('For a number of Parents/Children of %d, the median age is %f' %(i,median_age))"
      ]
    },
    {
      "cell_type": "code",
      "execution_count": null,
      "metadata": {
        "_cell_guid": "28f4ddc2-7ea3-1d09-1fb9-3a4a15986af7"
      },
      "outputs": [],
      "source": [
        "def impute_age(cols, medians_by_parch):\n",
        "    Parch = cols['Parch']\n",
        "    Age = cols['Age']\n",
        "    \n",
        "    if pd.isnull(Age):\n",
        "        return medians_by_parch[Parch]\n",
        "    else:\n",
        "        return Age\n",
        "    \n",
        "df_train['Age'] =  df_train.apply(impute_age, args =(medians_by_parch,) , axis=1)\n",
        "df_test['Age']  =  df_train.apply(impute_age, args =(medians_by_parch,) , axis=1)"
      ]
    },
    {
      "cell_type": "markdown",
      "metadata": {
        "_cell_guid": "45fc6253-9641-5f67-436d-185b1d33f2e8"
      },
      "source": [
        "Now that we're done with the Age column, let's proceed with the Embarked column. "
      ]
    },
    {
      "cell_type": "code",
      "execution_count": null,
      "metadata": {
        "_cell_guid": "b02ef062-8964-f885-384d-ff3be863cfe5"
      },
      "outputs": [],
      "source": [
        "df_train[pd.isnull(df_train['Embarked'])]"
      ]
    },
    {
      "cell_type": "markdown",
      "metadata": {
        "_cell_guid": "842ef421-82b7-47b6-e19a-39e178b5246a"
      },
      "source": [
        "The missing values in the Embarked column correspond to female passengers who were in the first class and who survived the incident."
      ]
    },
    {
      "cell_type": "code",
      "execution_count": null,
      "metadata": {
        "_cell_guid": "8c31a424-2210-77bf-bda5-686ead297b0f"
      },
      "outputs": [],
      "source": [
        "cond = (df_train['Sex']=='female') & (df_train['Survived']==1) & (df_train['Pclass']== 1)\n",
        "sns.countplot(df_train[cond]['Embarked'])"
      ]
    },
    {
      "cell_type": "markdown",
      "metadata": {
        "_cell_guid": "2102410c-8666-1b35-9641-31696a44bbad"
      },
      "source": [
        "The most reasonable choice would be to fill the missing value in Embarked by S."
      ]
    },
    {
      "cell_type": "code",
      "execution_count": null,
      "metadata": {
        "_cell_guid": "2147fd13-6c0e-4356-83fc-da4998a21b9a"
      },
      "outputs": [],
      "source": [
        "cond = pd.isnull(df_train[\"Embarked\"])\n",
        "df_train.loc[cond,'Embarked'] = 'S'"
      ]
    },
    {
      "cell_type": "markdown",
      "metadata": {
        "_cell_guid": "e83efb61-12dc-3224-eb12-c56ad2d532ad"
      },
      "source": [
        "Let's now examine the number of missing values in the Fare column of the test set."
      ]
    },
    {
      "cell_type": "code",
      "execution_count": null,
      "metadata": {
        "_cell_guid": "4c7fa079-da12-35ce-a926-539ae03c55b1"
      },
      "outputs": [],
      "source": [
        "sum(pd.isnull(df_test['Fare']))"
      ]
    },
    {
      "cell_type": "markdown",
      "metadata": {
        "_cell_guid": "a7187cca-7589-05a0-5e62-a177aa0bc5df"
      },
      "source": [
        "There is only one missing value."
      ]
    },
    {
      "cell_type": "code",
      "execution_count": null,
      "metadata": {
        "_cell_guid": "60af4cfc-d7b0-542c-aa72-050b2ed3fc82"
      },
      "outputs": [],
      "source": [
        "df_test[pd.isnull(df_test['Fare'])]"
      ]
    },
    {
      "cell_type": "markdown",
      "metadata": {
        "_cell_guid": "6cbdecaf-824b-2741-af27-4523eb476afa"
      },
      "source": [
        "Let's fill this missing value by the median of the Fare value of the 3rd class tickets from the training set."
      ]
    },
    {
      "cell_type": "code",
      "execution_count": null,
      "metadata": {
        "_cell_guid": "f5fb82d6-5221-4559-1e69-ab44d2fd7a03"
      },
      "outputs": [],
      "source": [
        "df_test[pd.isnull(df_test['Fare'])] = df_train[df_train['Pclass'] == 3]['Fare'].median()"
      ]
    },
    {
      "cell_type": "markdown",
      "metadata": {
        "_cell_guid": "0ded412e-acc3-ae70-db62-5b4de7d85be3"
      },
      "source": [
        "The majority of the cells in the cabin column have missing values. Let's check the distribution of this column by dropping the NaNs."
      ]
    },
    {
      "cell_type": "code",
      "execution_count": null,
      "metadata": {
        "_cell_guid": "48dfa7b9-b1bb-9719-336d-21276fb0c97c"
      },
      "outputs": [],
      "source": [
        "Cabin_dist = df_train[\"Cabin\"].dropna().apply(lambda x: x[0])\n",
        "\n",
        "sns.countplot(Cabin_dist, palette='coolwarm')\n",
        "plt.show()"
      ]
    },
    {
      "cell_type": "markdown",
      "metadata": {
        "_cell_guid": "747ad35e-5e63-2731-f57d-9307b6f4737b"
      },
      "source": [
        "Of the available values, cabins C, E, D and B had the most passengers. However, the cabin feature has a lot of missing values which doesn't make it useful. We will proceed by dropping it from both dataframes."
      ]
    },
    {
      "cell_type": "code",
      "execution_count": null,
      "metadata": {
        "_cell_guid": "a304d13f-d1c2-35e6-ca2d-868404bf967e"
      },
      "outputs": [],
      "source": [
        "del Cabin_dist \n",
        "\n",
        "df_train.drop('Cabin', axis=1, inplace=True)\n",
        "df_test.drop('Cabin', axis=1, inplace=True)"
      ]
    },
    {
      "cell_type": "markdown",
      "metadata": {
        "_cell_guid": "4b18a464-df90-b882-47b0-3f005b81f4ea"
      },
      "source": [
        "Let's now plot a heatmap of the correlation between the different numerical variables."
      ]
    },
    {
      "cell_type": "code",
      "execution_count": null,
      "metadata": {
        "_cell_guid": "3e54b869-cdd0-ed77-4ed5-1374c335809e"
      },
      "outputs": [],
      "source": [
        "corr = df_train.drop(\"PassengerId\",axis=1).corr()\n",
        "print(corr)\n",
        "\n",
        "plt.figure(figsize=(12,12))\n",
        "sns.heatmap(corr, annot=True, cbar=True, square=True, fmt='.2f', cmap='coolwarm')\n",
        "plt.show()"
      ]
    },
    {
      "cell_type": "markdown",
      "metadata": {
        "_cell_guid": "e9d149e9-0f02-8166-b149-2e7e21506dae"
      },
      "source": [
        "Pclass correlates negatively with Fare. This is expected since a lower class number corresponds to a higher class and a more expensive fare. The number of siblings and the number of parents children correlates positively. Let's do a pairplot to visualize the different scatter plots."
      ]
    },
    {
      "cell_type": "code",
      "execution_count": null,
      "metadata": {
        "_cell_guid": "13d4f616-4416-0bed-7364-9593ac20200c"
      },
      "outputs": [],
      "source": [
        "plt.figure(figsize=(12,12))\n",
        "sns.pairplot(df_train[['Age','SibSp','Parch','Fare']])\n",
        "plt.show()"
      ]
    },
    {
      "cell_type": "markdown",
      "metadata": {
        "_cell_guid": "71cf2dc8-deda-a25a-602c-6d311ac384d8"
      },
      "source": [
        "*  **Feature engineering**"
      ]
    },
    {
      "cell_type": "markdown",
      "metadata": {
        "_cell_guid": "12554162-ee04-5866-440f-f79a49af9266"
      },
      "source": [
        "Let us begin by creating a new binary feature indicating if a passenger was alone on the ship."
      ]
    },
    {
      "cell_type": "code",
      "execution_count": null,
      "metadata": {
        "_cell_guid": "165425ca-df35-8d07-fbcf-4e714146a0d0"
      },
      "outputs": [],
      "source": [
        "def is_alone(passenger):\n",
        "    var = passenger['SibSp'] + passenger['Parch']\n",
        "    # if var = 0 then passenger was alone \n",
        "    # Otherwise passenger was with siblings or family or both\n",
        "    if var == 0:\n",
        "        return 1\n",
        "    else:\n",
        "        return 0\n",
        "    \n",
        "df_train['Alone'] = df_train.apply(is_alone, axis=1)\n",
        "df_test[\"Alone\"] = df_test.apply(is_alone, axis=1)"
      ]
    },
    {
      "cell_type": "code",
      "execution_count": null,
      "metadata": {
        "_cell_guid": "7424f756-6e04-46d4-4f59-372ee37efd25"
      },
      "outputs": [],
      "source": [
        "sns.countplot('Alone', data=df_train, hue='Survived' )"
      ]
    },
    {
      "cell_type": "markdown",
      "metadata": {
        "_cell_guid": "62880115-7cd8-dbc0-a5a6-054e85a30f78"
      },
      "source": [
        "Interestingly, most of the people who were alone passed away after the ship's sinking. This indicates that this variable is most likely to be meaningful.  "
      ]
    },
    {
      "cell_type": "markdown",
      "metadata": {
        "_cell_guid": "1ec58267-4d21-e425-c45f-4ce9bf0e1ad5"
      },
      "source": [
        "We can also create a new binary feature to see if the passenger is a minor. "
      ]
    },
    {
      "cell_type": "code",
      "execution_count": null,
      "metadata": {
        "_cell_guid": "dc331e47-8d57-f096-b8ee-03eb867f28c7"
      },
      "outputs": [],
      "source": [
        "def is_minor(age):\n",
        "    if age < 18.0:\n",
        "        return 1\n",
        "    else:\n",
        "        return 0 \n",
        "\n",
        "df_train['Minor'] = df_train[\"Age\"].apply(is_minor)\n",
        "df_test['Minor'] = df_test[\"Age\"].apply(is_minor)"
      ]
    },
    {
      "cell_type": "code",
      "execution_count": null,
      "metadata": {
        "_cell_guid": "88d0e0b2-0579-721a-266c-0b8a71fa274b"
      },
      "outputs": [],
      "source": [
        "sns.countplot('Minor', data=df_train, hue='Survived')"
      ]
    },
    {
      "cell_type": "markdown",
      "metadata": {
        "_cell_guid": "a4ea5ab7-5c63-b103-138e-9179e08dd900"
      },
      "source": [
        "It appears that minors had an equal chance of dying or surviving the ship's sinking. On the other hand adults were most likely to pass away. We can proceed by checking the titles of the passengers. This can be extracted from the Name column with a regular expression."
      ]
    },
    {
      "cell_type": "code",
      "execution_count": null,
      "metadata": {
        "_cell_guid": "5c3afa32-1565-84ae-bc1b-3f880099a7ea"
      },
      "outputs": [],
      "source": [
        "def get_title(name, title_Regex):\n",
        "    if type(name) == str:\n",
        "        return title_Regex.search(name).groups()[0]\n",
        "    else:\n",
        "        return 'Mr'\n",
        "\n",
        "title_Regex = re.compile(r',\\s(\\w+\\s?\\w*)\\.\\s', re.I)\n",
        "    \n",
        "df_train[\"Title\"] =  df_train[\"Name\"].apply(get_title, args=(title_Regex,))\n",
        "# There s a floating number in the test set at index 152, I created a function  (get_title) to surpass this\n",
        "# and replace it with 'Mr'\n",
        "df_test[\"Title\"] =  df_test[\"Name\"].apply(get_title, args = (title_Regex,))\n",
        "\n",
        "plt.figure(figsize=(14,7))\n",
        "g = sns.countplot('Title', data=df_train)\n",
        "plt.xticks(rotation=50)"
      ]
    },
    {
      "cell_type": "code",
      "execution_count": null,
      "metadata": {
        "_cell_guid": "d871bbd9-3b94-9c99-044f-4f79ab615376"
      },
      "outputs": [],
      "source": [
        "print(df_train[\"Title\"].unique())"
      ]
    },
    {
      "cell_type": "markdown",
      "metadata": {
        "_cell_guid": "4140959b-7e8c-f6fb-8c72-aa8485fbba44"
      },
      "source": [
        "It appears that there was a nobility class and high socio-economic classes on the ship. These correspond to the titles: 'Dona', 'Lady', 'the Countess', 'Capt', 'Col', 'Don',  'Dr', 'Major', 'Rev', 'Sir', 'Jonkheer'. Let's map these with a dictionary."
      ]
    },
    {
      "cell_type": "code",
      "execution_count": null,
      "metadata": {
        "_cell_guid": "809f1e68-3cd6-74ad-d9f3-6e3bd9fde669"
      },
      "outputs": [],
      "source": [
        "dict_title = {\n",
        "    'Mr': 'Mr',\n",
        "    'Miss': 'Miss',\n",
        "    'Mlle': 'Miss',\n",
        "    'Mrs': 'Mrs',\n",
        "    'Mme': 'Mrs',\n",
        "    'Dona': 'Nobility',\n",
        "    'Lady': 'Nobility', \n",
        "    'the Countess': 'Nobility',\n",
        "    'Capt': 'Nobility',\n",
        "    'Col': 'Nobility',\n",
        "    'Don': 'Nobility',\n",
        "    'Dr': 'Nobility',\n",
        "    'Major': 'Nobility',\n",
        "    'Rev': 'Nobility', \n",
        "    'Sir': 'Nobility',\n",
        "    'Jonkheer': 'Nobility',    \n",
        "  }\n",
        "\n",
        "df_train[\"Title\"] =  df_train[\"Title\"].map(dict_title)\n",
        "\n",
        "plt.figure(figsize=(14,7))\n",
        "sns.countplot('Title', data=df_train)\n",
        "plt.show()"
      ]
    },
    {
      "cell_type": "code",
      "execution_count": null,
      "metadata": {
        "_cell_guid": "393f5d81-466d-5dbc-fea8-4ecb5197fde6"
      },
      "outputs": [],
      "source": [
        "\n"
      ]
    },
    {
      "cell_type": "code",
      "execution_count": null,
      "metadata": {
        "_cell_guid": "ac3f3c6a-ad5d-e7b3-5fe8-ad6ff10ce528"
      },
      "outputs": [],
      "source": [
        ""
      ]
    },
    {
      "cell_type": "markdown",
      "metadata": {
        "_cell_guid": "bb6ae87b-2c1d-1357-54c0-610f07de2d21"
      },
      "source": [
        "To be continued ...."
      ]
    }
  ],
  "metadata": {
    "_change_revision": 0,
    "_is_fork": false,
    "kernelspec": {
      "display_name": "Python 3",
      "language": "python",
      "name": "python3"
    },
    "language_info": {
      "codemirror_mode": {
        "name": "ipython",
        "version": 3
      },
      "file_extension": ".py",
      "mimetype": "text/x-python",
      "name": "python",
      "nbconvert_exporter": "python",
      "pygments_lexer": "ipython3",
      "version": "3.6.0"
    }
  },
  "nbformat": 4,
  "nbformat_minor": 0
}