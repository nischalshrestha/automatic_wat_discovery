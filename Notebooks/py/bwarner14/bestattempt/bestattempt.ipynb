{
  "cells": [
    {
      "cell_type": "markdown",
      "metadata": {
        "_cell_guid": "0f1ab4b2-525f-e85d-3c7c-d2c2e3f70b1a"
      },
      "source": [
        "# My best attempt at this titanic problem. I will attempt to fit a random forest classifier to determine who survived and who didnt"
      ]
    },
    {
      "cell_type": "code",
      "execution_count": null,
      "metadata": {
        "_cell_guid": "77749efe-cc1d-11f1-6b51-f2da2a96f7fa"
      },
      "outputs": [],
      "source": [
        "import pandas as pd\n",
        "import numpy as np"
      ]
    },
    {
      "cell_type": "code",
      "execution_count": null,
      "metadata": {
        "_cell_guid": "596c0bf9-7222-082a-0bb8-84c97ed1f3b4"
      },
      "outputs": [],
      "source": [
        "train = pd.read_csv(\"../input/train.csv\")\n",
        "test = pd.read_csv(\"../input/test.csv\")"
      ]
    },
    {
      "cell_type": "code",
      "execution_count": null,
      "metadata": {
        "_cell_guid": "a8a11949-2db8-614f-9884-d3dcb3af76fa"
      },
      "outputs": [],
      "source": [
        "trainNoLbl = train.drop(\"Survived\",axis = 1)\n",
        "df = pd.concat([trainNoLbl,test])"
      ]
    },
    {
      "cell_type": "code",
      "execution_count": null,
      "metadata": {
        "_cell_guid": "1c17e3cf-2065-af1a-5f8e-a9f26ddf54b1"
      },
      "outputs": [],
      "source": [
        "df.shape\n",
        "df.describe()\n"
      ]
    },
    {
      "cell_type": "code",
      "execution_count": null,
      "metadata": {
        "_cell_guid": "fa9826f0-9e55-d645-b61a-a4c5b71491af"
      },
      "outputs": [],
      "source": [
        "ttem"
      ]
    }
  ],
  "metadata": {
    "_change_revision": 0,
    "_is_fork": false,
    "kernelspec": {
      "display_name": "Python 3",
      "language": "python",
      "name": "python3"
    },
    "language_info": {
      "codemirror_mode": {
        "name": "ipython",
        "version": 3
      },
      "file_extension": ".py",
      "mimetype": "text/x-python",
      "name": "python",
      "nbconvert_exporter": "python",
      "pygments_lexer": "ipython3",
      "version": "3.6.0"
    }
  },
  "nbformat": 4,
  "nbformat_minor": 0
}