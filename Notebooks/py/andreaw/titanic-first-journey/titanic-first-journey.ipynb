{"cells":[
 {
  "cell_type": "code",
  "execution_count": null,
  "metadata": {
   "collapsed": false
  },
  "outputs": [],
  "source": "### Changelog:\n# 27/04/2016 - forked kaggle-titanic-001 notebook from Michiel Kalkman + added some exploratory plots + feature importance (see IV)\n\n\n### RESOURCES:\n# (I) - https://www.kaggle.com/omarelgabry/titanic/a-journey-through-titanic/\n# (II) - https://gist.github.com/mwaskom/8224591\n# (II) - https://stanford.edu/~mwaskom/software/seaborn/tutorial/categorical.html\n# (IV) - http://scikit-learn.org/stable/auto_examples/ensemble/plot_forest_importances.html\n\n\n\n#0.a - IMPORT libraries and read train and test set:\nimport numpy as np\nimport pandas as pd\n\n\ntrain = pd.read_csv(\"../input/train.csv\", dtype={\"Age\": np.float64}, ) #is a panda df\ntest  = pd.read_csv(\"../input/test.csv\", dtype={\"Age\": np.float64}, )  #is a panda df\n#0.b - HELPER FUNCTION TO HANDLE MISSING DATA \ndef harmonize_data(titanic):\n\n    \n    titanic[\"Age\"] = titanic[\"Age\"].fillna(titanic[\"Age\"].median())\n    titanic[\"Age\"].median()\n    \n    titanic.loc[titanic[\"Sex\"] == \"male\", \"Sex\"] = 0\n    titanic.loc[titanic[\"Sex\"] == \"female\", \"Sex\"] = 1\n    \n    titanic[\"Embarked\"] = titanic[\"Embarked\"].fillna(\"S\")#fill the two missing values with the most occurred value, which is \"S\".\n\n    titanic.loc[titanic[\"Embarked\"] == \"S\", \"Embarked\"] = 0\n    titanic.loc[titanic[\"Embarked\"] == \"C\", \"Embarked\"] = 1\n    titanic.loc[titanic[\"Embarked\"] == \"Q\", \"Embarked\"] = 2\n\n    titanic[\"Fare\"] = titanic[\"Fare\"].fillna(titanic[\"Fare\"].median())\n    \n    titanic.drop(\"Cabin\",axis=1,inplace=True)\n\n    return titanic\n#1.a - CLEANING DATA:\nprint(\"------------ ORIGINAL TRAIN DF\")\nprint(train.head(3)) #display some of the DF\ntrain_data = harmonize_data(train) \ntest_data  = harmonize_data(test)\nprint(\"------------ HARMONIZED DF\")\nprint(train_data.head(3)) #Notice that \"Cabin\" has been removed\nprint(\"------------ ORIGINAL TEST DF\")\nprint(test.head(3)) #display some of the DF\n"
 },
 {
  "cell_type": "code",
  "execution_count": null,
  "metadata": {
   "collapsed": false
  },
  "outputs": [],
  "source": "\n#1.b - GETTING FAMILIAR WITH THE DATA:\nall_data = pd.concat([test_data,train_data])#see http://pandas.pydata.org/pandas-docs/stable/merging.html \nprint('Size of the complete datase: ', all_data.shape)\n\n\nimport matplotlib.pyplot as plt\nimport seaborn as sns\nsns.set_style('whitegrid')\n%matplotlib inline\n\n# Survival Rate as function of embark port\nd1 = sns.factorplot('Embarked','Survived', data=all_data,size=4,aspect=3)\n(d1.set_axis_labels(\"\", \"Survival Rate\")\n   .set_xticklabels([\"S\", \"C\", \"Q\"]))  \n\n"
 },
 {
  "cell_type": "code",
  "execution_count": null,
  "metadata": {
   "collapsed": false
  },
  "outputs": [],
  "source": "#Survival rate for men, women as function of class\n#hints: http://stanford.edu/~mwaskom/software/seaborn-dev/generated/seaborn.factorplot.html\nd2 = sns.factorplot(\"Sex\", \"Survived\", col=\"Pclass\",data=all_data, saturation=.5,kind=\"bar\", ci=None, aspect=.6)\n(d2.set_axis_labels(\"\", \"Survival Rate\")\n    .set_xticklabels([\"Men\", \"Women\"])\n    .set_titles(\"{col_var} {col_name}\")\n    .set(ylim=(0, 1))\n    .despine(left=True))  "
 },
 {
  "cell_type": "code",
  "execution_count": null,
  "metadata": {
   "collapsed": false
  },
  "outputs": [],
  "source": "fig, (axis1,axis2) = plt.subplots(1,2,figsize=(15,4))\naxis1.set_title('Age distribution of Survived Passengers')\naxis2.set_title('Age distribution of Non-Survived Passengers')\n\n#Age histogram \nplotValues = all_data['Age'].astype(int)\nweights = np.ones_like(plotValues)/len(plotValues) #see: http://stackoverflow.com/questions/3866520/plotting-histograms-whose-bar-heights-sum-to-1-in-matplotlib?lq=1\nplotValues.hist(bins=10, weights=weights,ax = axis1)\n\nplotValues_notSurvived = all_data[all_data['Survived']==0]['Age']\nweights = np.ones_like(plotValues_notSurvived)/len(plotValues_notSurvived)\n#2nd Plot - overlay - \"bottom\" series\nplotValues_notSurvived.hist(bins=10,weights=weights, ax = axis2, color='red')\n\n#A first visualization by age\n#d3 = sns.violinplot(x=\"Sex\",y=\"Age\", hue=\"Survived\", data=all_data, inner='points',ax=axis2)\n#d3.set_xticklabels([\"Men\", \"Women\"])\n\n\n\n"
 },
 {
  "cell_type": "code",
  "execution_count": null,
  "metadata": {
   "collapsed": false
  },
  "outputs": [],
  "source": "#A better visualization by age\nd4 = sns.FacetGrid(all_data, hue=\"Survived\",aspect=4)\nd4.map(sns.kdeplot,'Age',shade= True) #kernel density estimation\nd4.set(xlim=(0, all_data['Age'].max()))\nd4.add_legend()"
 },
 {
  "cell_type": "code",
  "execution_count": null,
  "metadata": {
   "collapsed": false
  },
  "outputs": [],
  "source": "# average survived passengers by age\nfig, axis1 = plt.subplots(1,1,figsize=(18,4))\n\nall_data[\"Age\"] = all_data[\"Age\"].astype(int)\naverage_age = all_data[[\"Age\", \"Survived\"]].groupby(['Age'],as_index=False).mean()\nd5 = sns.barplot(x='Age', y='Survived', data=average_age)\n"
 },
 {
  "cell_type": "code",
  "execution_count": null,
  "metadata": {
   "collapsed": false
  },
  "outputs": [],
  "source": ""
 },
 {
  "cell_type": "code",
  "execution_count": null,
  "metadata": {
   "collapsed": false
  },
  "outputs": [],
  "source": "from sklearn.ensemble import RandomForestClassifier\nfrom sklearn import cross_validation\n\npredictors = [\"Pclass\", \"Sex\", \"Age\", \"SibSp\", \"Parch\", \"Fare\", \"Embarked\"]\n\nalgForest = RandomForestClassifier( #http://scikit-learn.org/stable/modules/generated/sklearn.ensemble.RandomForestClassifier.html#sklearn.ensemble.RandomForestClassifier\n    random_state=1,\n    n_estimators=160,\n    min_samples_split=6,\n    min_samples_leaf=2\n)\nalgForest.fit(train_data[predictors],train_data[\"Survived\"])\n#assessing feature importance\nimportances = algForest.feature_importances_\nstd = np.std([importances for algForest in algForest.estimators_],\n             axis=0)\nindices = np.argsort(importances)[::-1]\n\n# Print the feature ranking\nprint(\"Feature ranking:\")\n\nfor f in range(len(predictors)):\n    print(\"%d. feature %d (%f)\" % (f + 1, indices[f], importances[indices[f]]))\n\n# Plot the feature importances of the forest\nplt.figure()\nplt.title(\"Feature importances\")\nplt.bar(range(len(predictors)), importances[indices],\n       color=\"r\", yerr=std[indices], align=\"center\")\nplt.xticks(range(len(predictors)), predictors)\nplt.xlim([-1, len(predictors)])\nplt.show()\n#Feature importance from: http://scikit-learn.org/stable/auto_examples/ensemble/plot_forest_importances.html\n\n"
 },
 {
  "cell_type": "code",
  "execution_count": null,
  "metadata": {
   "collapsed": false
  },
  "outputs": [],
  "source": "\ndef create_submission(alg, train, test, predictors, filename):\n\n    alg.fit(train[predictors], train[\"Survived\"])\n    predictions = alg.predict(test[predictors])\n\n    submission = pd.DataFrame({\n        \"PassengerId\": test[\"PassengerId\"],\n        \"Survived\": predictions\n    })\n    \n    submission.to_csv(filename, index=False)\ncreate_submission(alg, train_data, test_data, predictors, \"run-01.csv\")"
 },
 {
  "cell_type": "code",
  "execution_count": null,
  "metadata": {
   "collapsed": false
  },
  "outputs": [],
  "source": "\ndef create_submission(alg, train, test, predictors, filename):\n    alg.fit(train[predictors], train[\"Survived\"])\n    predictions = alg.predict(test[predictors])\n\n    submission = pd.DataFrame({\n        \"PassengerId\": test[\"PassengerId\"],\n        \"Survived\": predictions\n    })\n    \n    submission.to_csv(filename, index=False)\ncreate_submission(alg, train_data, test_data, predictors, \"run-01.csv\")"
 },
 {
  "cell_type": "code",
  "execution_count": null,
  "metadata": {
   "collapsed": false
  },
  "outputs": [],
  "source": ""
 }
],"metadata":{"kernelspec":{"display_name":"Python 3","language":"python","name":"python3"}}, "nbformat": 4, "nbformat_minor": 0}