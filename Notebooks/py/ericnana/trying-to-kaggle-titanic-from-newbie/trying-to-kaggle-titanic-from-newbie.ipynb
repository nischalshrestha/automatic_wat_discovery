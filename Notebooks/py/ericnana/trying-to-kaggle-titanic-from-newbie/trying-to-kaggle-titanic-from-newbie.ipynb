{
  "cells": [
    {
      "cell_type": "code",
      "execution_count": null,
      "metadata": {
        "_cell_guid": "288d0f47-616d-8d1e-4c84-e77af78e56fe"
      },
      "outputs": [],
      "source": [
        "# This Python 3 environment comes with many helpful analytics libraries installed\n",
        "# It is defined by the kaggle/python docker image: https://github.com/kaggle/docker-python\n",
        "# For example, here's several helpful packages to load in \n",
        "\n",
        "import numpy as np # linear algebra\n",
        "import pandas as pd # data processing, CSV file I/O (e.g. pd.read_csv)\n",
        "from pandas import Series,DataFrame\n",
        "\n",
        "import seaborn as sb\n",
        "import matplotlib.pyplot as plt\n",
        "import xgboost as xgb\n",
        "\n",
        "\n",
        "#Machine Learning\n",
        "from sklearn.linear_model import LogisticRegression\n",
        "from sklearn.ensemble import RandomForestClassifier\n",
        "\n",
        "\n",
        "\n",
        "# Input data files are available in the \"../input/\" directory.\n",
        "# For example, running this (by clicking run or pressing Shift+Enter) will list the files in the input directory\n",
        "\n",
        "from subprocess import check_output\n",
        "print(check_output([\"ls\", \"../input\"]).decode(\"utf8\"))\n",
        "\n",
        "# Any results you write to the current directory are saved as output."
      ]
    },
    {
      "cell_type": "code",
      "execution_count": null,
      "metadata": {
        "_cell_guid": "306d82f4-c009-1944-ec60-9b462ad27811"
      },
      "outputs": [],
      "source": [
        "#Working with Train Datas\n",
        "#Reading files\n",
        "train_data = pd.read_csv(\"../input/train.csv\",)\n",
        "test_data = pd.read_csv(\"../input/test.csv\",)\n",
        "train_data_only_first_class = train_data.ix[~(train_data['Pclass'] != 1)]\n",
        "train_data_only_first_class_female = train_data_only_first_class.ix[~(train_data_only_first_class['Sex'] != 'female')]\n",
        "train_data_only_first_class_female_Cherbourg = train_data_only_first_class_female.ix[~(train_data_only_first_class_female['Embarked'] != 'C')]\n",
        "\n",
        "for age in train_data_only_first_class_female_Cherbourg['Age']:\n",
        "    if age > 51:\n",
        "        train_data_only_first_class_female_Cherbourg_age = train_data_only_first_class_female_Cherbourg.ix[~(train_data_only_first_class_female_Cherbourg['Age'] > age)]\n",
        "\n",
        "for age in train_data_only_first_class_female_Cherbourg_age['Age']:\n",
        "    for age in range(14,30):\n",
        "        train_data_only_first_class_female_Cherbourg_age_under_fourteen_not_over_fiftyone = train_data_only_first_class_female_Cherbourg_age.ix[~(train_data_only_first_class_female_Cherbourg_age['Age'] == age)]\n",
        "        \n",
        "train_data = train_data_only_first_class_female_Cherbourg_age_under_fourteen_not_over_fiftyone\n",
        "y_train = train_data.pop(\"Survived\")\n",
        "\n",
        "\n",
        "        "
      ]
    },
    {
      "cell_type": "code",
      "execution_count": null,
      "metadata": {
        "_cell_guid": "38415b90-928a-5788-c2af-d9de3db2ea5b"
      },
      "outputs": [],
      "source": [
        "#Working with Test data\n",
        "#Reading files\n",
        "train_data = pd.read_csv(\"../input/train.csv\",)\n",
        "test_data = pd.read_csv(\"../input/test.csv\",)\n",
        "test_data_only_first_class = test_data.ix[~(test_data['Pclass'] != 1)]\n",
        "test_data_only_first_class_female = test_data_only_first_class.ix[~(test_data_only_first_class['Sex'] != 'female')]\n",
        "test_data_only_first_class_female_Cherbourg = test_data_only_first_class_female.ix[~(test_data_only_first_class_female['Embarked'] != 'C')]\n",
        "\n",
        "for age in test_data_only_first_class_female_Cherbourg['Age']:\n",
        "    if age > 51:\n",
        "        test_data_only_first_class_female_Cherbourg_age = test_data_only_first_class_female_Cherbourg.ix[~(test_data_only_first_class_female_Cherbourg['Age'] > age)]       \n",
        "        \n",
        "for age in test_data_only_first_class_female_Cherbourg_age['Age']:\n",
        "    for age in range(14,30):\n",
        "        test_data_only_first_class_female_Cherbourg_age_under_fourteen_not_over_fiftyone = test_data_only_first_class_female_Cherbourg_age.ix[~(test_data_only_first_class_female_Cherbourg_age['Age'] == age)]\n",
        "        \n",
        "test_data = test_data_only_first_class_female_Cherbourg_age_under_fourteen_not_over_fiftyone"
      ]
    },
    {
      "cell_type": "code",
      "execution_count": null,
      "metadata": {
        "_cell_guid": "4d70bf83-9716-3f46-b120-46432ec9e2f2"
      },
      "outputs": [],
      "source": [
        "#Plotting Age vs PassengerId\n",
        "graph = sb.lmplot(x=\"Age\", y=\"PassengerId\",ci=None,data=train_data, col=\"Survived\",\n",
        "    palette=\"muted\",col_wrap=2,scatter_kws={\"s\": 100,\"alpha\":.5},\n",
        "    line_kws={\"lw\":4,\"alpha\":0.5},hue=\"Survived\",x_jitter=1.0,y_jitter=1.0,size=6)\n",
        "\n",
        "# remove the top and right line in graph\n",
        "sb.despine()\n",
        "# Additional line to adjust some appearance issue\n",
        "plt.subplots_adjust(top=0.9)\n",
        "\n",
        "# Set the Title of the graph from here\n",
        "graph.fig.suptitle('Age vs. PassengerId', fontsize=10,color=\"b\",alpha=0.5)\n",
        "\n",
        "# Set the xlabel of the graph from here\n",
        "graph.set_xlabels(\"Age\",size = 10,color=\"b\",alpha=0.5)\n",
        "\n",
        "# Set the ylabel of the graph from here\n",
        "graph.set_ylabels(\"PassengerId\",size = 10,color=\"b\",alpha=0.5)"
      ]
    },
    {
      "cell_type": "code",
      "execution_count": null,
      "metadata": {
        "_cell_guid": "ca1df647-2e10-276f-c57c-fac64a4d1448"
      },
      "outputs": [],
      "source": [
        "# Plotting of Embarkment at different points and Survival\n",
        "sb.factorplot(x=\"Embarked\", data=train_data, kind=\"count\",\n",
        "                   palette=\"BuPu\", hue='Survived', size=6, aspect=1.5)"
      ]
    },
    {
      "cell_type": "code",
      "execution_count": null,
      "metadata": {
        "_cell_guid": "9e3b2a15-7720-b95d-befd-2a9874ca5503"
      },
      "outputs": [],
      "source": [
        "# Plotting of Class at different points and Survival\n",
        "sb.factorplot(x=\"Pclass\", data=train_data, kind=\"count\",\n",
        "                   palette=\"BuPu\", hue='Survived', size=6, aspect=1.5)"
      ]
    },
    {
      "cell_type": "code",
      "execution_count": null,
      "metadata": {
        "_cell_guid": "8a217928-426e-ee46-f166-45bd68350ed6"
      },
      "outputs": [],
      "source": [
        "# Plotting Sex vs Survival\n",
        "sb.factorplot(x=\"Sex\", data=train_data, kind=\"count\",\n",
        "                   palette=\"BuPu\", hue='Survived',size=6, aspect=1.5)"
      ]
    },
    {
      "cell_type": "code",
      "execution_count": null,
      "metadata": {
        "_cell_guid": "e5b5f644-d75a-9b04-7108-fd989c7aa9a3"
      },
      "outputs": [],
      "source": [
        "# Plotting Age vs Survival\n",
        "sb.factorplot(x=\"Age\", data=train_data, kind=\"count\",\n",
        "                   palette=\"BuPu\", hue='Survived',size=15, aspect=5)"
      ]
    },
    {
      "cell_type": "code",
      "execution_count": null,
      "metadata": {
        "_cell_guid": "74b2d014-ce9f-afb4-394f-705995883594"
      },
      "outputs": [],
      "source": [
        "#Defining random values for age, fare in train_data and test_data\n",
        "\n",
        "train_data = train_data_only_first_class_female_Cherbourg_age_under_fourteen_not_over_fiftyone.fillna(0)\n",
        "\n",
        "def random_age():\n",
        "    for age in train_data[\"Age\"]:\n",
        "            sum_age = train_data.Age.sum(axis=0)/train_data.index.size\n",
        "            age = np.random.randint((sum_age)//1)\n",
        "    return age\n",
        "train_data[\"Age\"].fillna(random_age, inplace=True)\n",
        "test_data.describe()\n",
        "test_data = test_data.fillna(0)\n",
        "\n",
        "def random_age_test():\n",
        "    for age in test_data[\"Age\"]:\n",
        "            sum_age = test_data.Age.sum(axis=0)/test_data.index.size\n",
        "            age = np.random.randint((sum_age)//1)\n",
        "    return age\n",
        "test_data[\"Age\"].fillna(random_age_test, inplace=True)\n",
        "\n",
        "\n",
        "def random_fare_test():\n",
        "    for age in test_data[\"Fare\"]:\n",
        "            sum_fare = test_data.Fare.sum(axis=0)/test_data.index.size\n",
        "            fare = np.random.randint((sum_fare)//1)\n",
        "    return age\n",
        "test_data[\"Fare\"].fillna(random_fare_test, inplace=True)"
      ]
    },
    {
      "cell_type": "code",
      "execution_count": null,
      "metadata": {
        "_cell_guid": "ee2f7092-2c11-de32-84f0-8144e5cbf328"
      },
      "outputs": [],
      "source": [
        "#Describe train_data\n",
        "train_data.describe()"
      ]
    },
    {
      "cell_type": "code",
      "execution_count": null,
      "metadata": {
        "_cell_guid": "1f05ccf8-ddf1-d239-7296-c4e5f9bfa348"
      },
      "outputs": [],
      "source": [
        "#Describe test_data\n",
        "test_data.describe()"
      ]
    },
    {
      "cell_type": "code",
      "execution_count": null,
      "metadata": {
        "_cell_guid": "ba290ba3-1d55-2ac9-c5e9-cd3afc495f0c"
      },
      "outputs": [],
      "source": [
        "#Numerical values in train_data\n",
        "numeric_variables = list(train_data.dtypes[train_data.dtypes != \"object\"].index)\n",
        "train_data[numeric_variables].head()"
      ]
    },
    {
      "cell_type": "code",
      "execution_count": null,
      "metadata": {
        "_cell_guid": "cccd7056-f0e6-5b99-98b6-733ebd66bdff"
      },
      "outputs": [],
      "source": [
        "#Numerical values in test_data\n",
        "numeric_variables_test = list(test_data.dtypes[test_data.dtypes != \"object\"].index)\n",
        "test_data[numeric_variables_test].head()"
      ]
    },
    {
      "cell_type": "code",
      "execution_count": null,
      "metadata": {
        "_cell_guid": "f62d13a4-b263-8da3-03bb-665915133b59"
      },
      "outputs": [],
      "source": [
        "#XgBoost for numerical variables\n",
        "X_train = train_data[numeric_variables]\n",
        "#test_data.drop([\"PassengerId\"],axis=1)\n",
        "X_test = test_data[numeric_variables]\n",
        "print(X_test)\n",
        "y_test = y_train\n",
        "#Fit the model with X_train and y_train\n",
        "xgbm = xgb.XGBClassifier(max_depth=5, n_estimators=100, learning_rate=1).fit(X_train,y_train)\n",
        "\n",
        "#Predict the response values for the observations in X_train\n",
        "prediction = xgbm.predict(X_test)\n",
        "#Compute the scoxgbmre for the random forest model\n",
        "xgbm.score(X_train,y_train)"
      ]
    },
    {
      "cell_type": "code",
      "execution_count": null,
      "metadata": {
        "_cell_guid": "d413b882-7948-b710-447b-524149935c3b"
      },
      "outputs": [],
      "source": [
        "#Logistic Regression for numerical variables\n",
        "\n",
        "logreg = LogisticRegression()\n",
        "\n",
        "#Fit the model with X_train and y_train\n",
        "logreg.fit(X_train,y_train)\n",
        "\n",
        "#Predict the response values for the observations in X_train\n",
        "prediction = logreg.predict(X_test)\n",
        "\n",
        "\n",
        "#Check how many predictions were generated\n",
        "len(prediction)\n",
        "print(len(prediction))\n",
        "print(prediction)\n",
        "\n",
        "\n",
        "#Compute the score for the logistic regression model\n",
        "logreg.score(X_train,y_train)"
      ]
    },
    {
      "cell_type": "code",
      "execution_count": null,
      "metadata": {
        "_cell_guid": "1c5ed6ec-3630-afe8-d980-1a401a059685"
      },
      "outputs": [],
      "source": [
        "#Random Forest for numerical variables\n",
        "random_forest = RandomForestClassifier(n_estimators=100)\n",
        "\n",
        "#Fit the model with X_train and y_train\n",
        "random_forest.fit(X_train,y_train)\n",
        "\n",
        "#Predict the response values for the observations in X_train\n",
        "prediction = random_forest.predict(X_test)\n",
        "#Compute the score for the random forest model\n",
        "random_forest.score(X_train,y_train)"
      ]
    },
    {
      "cell_type": "code",
      "execution_count": null,
      "metadata": {
        "_cell_guid": "0ca4f60b-ffbb-771a-8e69-ddde62746024"
      },
      "outputs": [],
      "source": [
        "test_data = test_data_only_first_class_female_Cherbourg_age_under_fourteen_not_over_fiftyone\n",
        "submission = pd.DataFrame({\n",
        "        \"PassengerId\": test_data[\"PassengerId\"],\n",
        "        \"Survived\": prediction\n",
        "    })\n",
        "submission.to_csv('titanic.csv', index=False)"
      ]
    }
  ],
  "metadata": {
    "_change_revision": 0,
    "_is_fork": false,
    "kernelspec": {
      "display_name": "Python 3",
      "language": "python",
      "name": "python3"
    },
    "language_info": {
      "codemirror_mode": {
        "name": "ipython",
        "version": 3
      },
      "file_extension": ".py",
      "mimetype": "text/x-python",
      "name": "python",
      "nbconvert_exporter": "python",
      "pygments_lexer": "ipython3",
      "version": "3.5.2"
    }
  },
  "nbformat": 4,
  "nbformat_minor": 0
}