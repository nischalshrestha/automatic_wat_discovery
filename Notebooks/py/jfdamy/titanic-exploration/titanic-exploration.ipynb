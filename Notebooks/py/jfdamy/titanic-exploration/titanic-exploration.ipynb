{
  "cells": [
    {
      "cell_type": "code",
      "execution_count": null,
      "metadata": {
        "_cell_guid": "e6860da7-ac4a-ddce-2e07-9167abed3143"
      },
      "outputs": [],
      "source": [
        "import pandas as pd\n",
        "df = pd.read_csv('../input/train.csv')"
      ]
    },
    {
      "cell_type": "code",
      "execution_count": null,
      "metadata": {
        "_cell_guid": "48d3defa-8145-8a45-3966-0ac96771ac44"
      },
      "outputs": [],
      "source": [
        "dfTestTemp = pd.read_csv('../input/test.csv')"
      ]
    },
    {
      "cell_type": "code",
      "execution_count": null,
      "metadata": {
        "_cell_guid": "a59d02b6-2d8e-b180-0714-4bd54454d7c2"
      },
      "outputs": [],
      "source": [
        "del df['PassengerId']\n",
        "del df['Name']\n",
        "del df['Ticket']\n",
        "del df['Cabin']\n",
        "df['Family'] =  df[\"Parch\"] + df[\"SibSp\"]\n",
        "del df[\"Parch\"]\n",
        "del df[\"SibSp\"]\n",
        "\n",
        "dfTest = dfTestTemp.drop(\"PassengerId\",axis=1).copy()\n",
        "del dfTest['Name']\n",
        "del dfTest['Ticket']\n",
        "del dfTest['Cabin']\n",
        "dfTest['Family'] =  dfTest[\"Parch\"] + dfTest[\"SibSp\"]\n",
        "del dfTest[\"Parch\"]\n",
        "del dfTest[\"SibSp\"]"
      ]
    },
    {
      "cell_type": "code",
      "execution_count": null,
      "metadata": {
        "_cell_guid": "6ef9f5f2-1ff5-74b0-a66a-52cdf9a4e4d3"
      },
      "outputs": [],
      "source": [
        "df = pd.get_dummies(df)\n",
        "dfTest = pd.get_dummies(dfTest)\n",
        "df.tail()"
      ]
    },
    {
      "cell_type": "code",
      "execution_count": null,
      "metadata": {
        "_cell_guid": "b66c3d21-507a-cee7-ab7f-b1579f046759"
      },
      "outputs": [],
      "source": [
        "from sklearn.preprocessing import Imputer\n",
        "imr = Imputer(missing_values='NaN', strategy='mean', axis=0)\n",
        "imr = imr.fit(df.values[:, 1:])\n",
        "imputed_data = imr.transform(df.values[:, 1:])\n",
        "predic_data = imr.transform(dfTest.values)"
      ]
    },
    {
      "cell_type": "code",
      "execution_count": null,
      "metadata": {
        "_cell_guid": "cf4ce974-8866-e04a-6485-cad7aa057729"
      },
      "outputs": [],
      "source": [
        "from sklearn.cross_validation import train_test_split\n",
        "X, y = imputed_data, df['Survived']\n",
        "X_train, X_test, y_train, y_test = train_test_split(X, y, test_size=0.3, random_state=0)"
      ]
    },
    {
      "cell_type": "code",
      "execution_count": null,
      "metadata": {
        "_cell_guid": "d8c7a8d1-04b9-591b-2f8e-a644b5933066"
      },
      "outputs": [],
      "source": [
        "def precision(X_test_std, classifier):\n",
        "    y_pred = classifier.predict(X_test_std)\n",
        "    print('Misclassified samples: %d' % (y_test != y_pred).sum())\n",
        "    from sklearn.metrics import accuracy_score\n",
        "    print('Accuracy: %.2f' % accuracy_score(y_test, y_pred))"
      ]
    },
    {
      "cell_type": "code",
      "execution_count": null,
      "metadata": {
        "_cell_guid": "b0940783-4813-d8ee-ce70-bf0f4fa00fdc"
      },
      "outputs": [],
      "source": [
        "import numpy as np\n",
        "from sklearn.ensemble import RandomForestClassifier\n",
        "import matplotlib.pyplot as plt\n",
        "\n",
        "feat_labels = df.columns[1:]\n",
        "\n",
        "forest = RandomForestClassifier(n_estimators=10,\n",
        "                                random_state=0,\n",
        "                                n_jobs=-1)\n",
        "\n",
        "forest.fit(X_train, y_train)\n",
        "importances = forest.feature_importances_\n",
        "\n",
        "indices = np.argsort(importances)[::-1]\n",
        "\n",
        "for f in range(X_train.shape[1]):\n",
        "    print(\"%2d) %-*s %f\" % (f + 1, 30, \n",
        "                            feat_labels[indices[f]], \n",
        "                            importances[indices[f]]))\n",
        "\n",
        "plt.title('Feature Importances')\n",
        "plt.bar(range(X_train.shape[1]), \n",
        "        importances[indices],\n",
        "        color='lightblue', \n",
        "        align='center')\n",
        "\n",
        "plt.xticks(range(X_train.shape[1]), \n",
        "           feat_labels[indices], rotation=90)\n",
        "plt.xlim([-1, X_train.shape[1]])\n",
        "plt.tight_layout()\n",
        "plt.show()"
      ]
    },
    {
      "cell_type": "code",
      "execution_count": null,
      "metadata": {
        "_cell_guid": "1a659173-ea29-0e37-2e8d-a036c90e1a9c"
      },
      "outputs": [],
      "source": [
        "precision(X_test, forest)"
      ]
    },
    {
      "cell_type": "code",
      "execution_count": null,
      "metadata": {
        "_cell_guid": "a0d9e360-ccb3-569a-8fbb-be013fb78cca"
      },
      "outputs": [],
      "source": [
        "forest.score(X_train, y_train)"
      ]
    },
    {
      "cell_type": "code",
      "execution_count": null,
      "metadata": {
        "_cell_guid": "17600b94-51f1-c32e-fe88-a569b55e0d48"
      },
      "outputs": [],
      "source": [
        "from sklearn.preprocessing import StandardScaler\n",
        "sc = StandardScaler()\n",
        "sc.fit(X_train)\n",
        "X_train_std = sc.transform(X_train)\n",
        "X_test_std = sc.transform(X_test)"
      ]
    },
    {
      "cell_type": "code",
      "execution_count": null,
      "metadata": {
        "_cell_guid": "e74cef01-967a-141c-7550-2d9001635464"
      },
      "outputs": [],
      "source": [
        "from sklearn.linear_model import LogisticRegression\n",
        "logreg = LogisticRegression()\n",
        "\n",
        "logreg.fit(X_train_std, y_train)\n",
        "\n",
        "precision(X_test_std, logreg)"
      ]
    },
    {
      "cell_type": "code",
      "execution_count": null,
      "metadata": {
        "_cell_guid": "a290b201-2001-af92-b9fd-cf9f798e3cdd"
      },
      "outputs": [],
      "source": [
        "logreg.score(X_train_std, y_train)"
      ]
    },
    {
      "cell_type": "code",
      "execution_count": null,
      "metadata": {
        "_cell_guid": "9bb9f1bc-4eda-e8c7-7d0b-d0fd81b62859"
      },
      "outputs": [],
      "source": [
        "precision(X_test, logreg)"
      ]
    },
    {
      "cell_type": "code",
      "execution_count": null,
      "metadata": {
        "_cell_guid": "209d0a3f-2af7-e52b-6808-80ec57172919"
      },
      "outputs": [],
      "source": [
        "logreg.predict([[3, 30, 263, 0, 0, 1, 0, 0, 1]]) #man 30 years old => die"
      ]
    },
    {
      "cell_type": "code",
      "execution_count": null,
      "metadata": {
        "_cell_guid": "ed6b748a-5f88-3ea2-725b-f8eb1411422b"
      },
      "outputs": [],
      "source": [
        "logreg.predict([[3, 30, 263, 0, 1, 0, 0, 0, 1]]) #woman 30 years old => surviv"
      ]
    },
    {
      "cell_type": "code",
      "execution_count": null,
      "metadata": {
        "_cell_guid": "21c25738-9366-e2db-3931-4fc36594924f"
      },
      "outputs": [],
      "source": [
        "from pandas import DataFrame\n",
        "\n",
        "# get Correlation Coefficient for each feature using Logistic Regression\n",
        "coeff_df = DataFrame(df.columns.delete(0))\n",
        "coeff_df.columns = ['Features']\n",
        "coeff_df[\"Coefficient Estimate\"] = pd.Series(logreg.coef_[0])\n",
        "\n",
        "# preview\n",
        "coeff_df"
      ]
    },
    {
      "cell_type": "markdown",
      "metadata": {
        "_cell_guid": "41f31419-286d-fdb9-279b-218ec18737a9"
      },
      "source": [
        "As you can see, if you are a male you are likely to die (weight: -0.443488)"
      ]
    },
    {
      "cell_type": "code",
      "execution_count": null,
      "metadata": {
        "_cell_guid": "14f970bf-51c8-f6d0-73ac-0da49ab0754b"
      },
      "outputs": [],
      "source": [
        "Y_predic = forest.predict(predic_data)\n",
        "submission = pd.DataFrame({\n",
        "        \"PassengerId\": dfTestTemp[\"PassengerId\"],\n",
        "        \"Survived\": Y_predic\n",
        "    })\n",
        "submission.to_csv('titanic_predic.csv', index=False)"
      ]
    }
  ],
  "metadata": {
    "_change_revision": 0,
    "_is_fork": false,
    "kernelspec": {
      "display_name": "Python 3",
      "language": "python",
      "name": "python3"
    },
    "language_info": {
      "codemirror_mode": {
        "name": "ipython",
        "version": 3
      },
      "file_extension": ".py",
      "mimetype": "text/x-python",
      "name": "python",
      "nbconvert_exporter": "python",
      "pygments_lexer": "ipython3",
      "version": "3.5.2"
    }
  },
  "nbformat": 4,
  "nbformat_minor": 0
}