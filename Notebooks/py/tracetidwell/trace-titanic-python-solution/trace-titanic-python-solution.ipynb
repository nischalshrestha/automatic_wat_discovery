{
  "cells": [
    {
      "cell_type": "code",
      "execution_count": null,
      "metadata": {
        "_cell_guid": "1fab96bf-9f9d-33b0-db72-c35e15a74ca6"
      },
      "outputs": [],
      "source": [
        "import matplotlib.pyplot as plt\n",
        "%matplotlib inline\n",
        "import random\n",
        "import numpy as np\n",
        "import pandas as pd\n",
        "from sklearn import datasets, svm, cross_validation, tree, preprocessing, metrics\n",
        "import sklearn.ensemble as ske\n",
        "import tensorflow as tf\n",
        "from tensorflow.contrib import skflow"
      ]
    },
    {
      "cell_type": "code",
      "execution_count": null,
      "metadata": {
        "_cell_guid": "94fa40b0-4ee3-5b3c-739e-4b0d7d82752a"
      },
      "outputs": [],
      "source": [
        "titanic_df = pd.read_csv(\"../input/train.csv\", dtype={\"Age\": np.float64}, )\n",
        "test_df = pd.read_csv(\"../input/test.csv\", dtype={\"Age\": np.float64}, )"
      ]
    },
    {
      "cell_type": "code",
      "execution_count": null,
      "metadata": {
        "_cell_guid": "0f34dbb1-e027-0669-04b5-4078fd040de2"
      },
      "outputs": [],
      "source": [
        "titanic_df.head()"
      ]
    },
    {
      "cell_type": "code",
      "execution_count": null,
      "metadata": {
        "_cell_guid": "20b3bc68-1f67-bfd7-f6bf-152563c47cc1"
      },
      "outputs": [],
      "source": [
        "test_df.head()"
      ]
    },
    {
      "cell_type": "code",
      "execution_count": null,
      "metadata": {
        "_cell_guid": "2f3a7bb2-6c96-f69d-f97e-cae568194b51"
      },
      "outputs": [],
      "source": [
        "titanic_df['Survived'].mean()"
      ]
    },
    {
      "cell_type": "code",
      "execution_count": null,
      "metadata": {
        "_cell_guid": "27068383-665e-6df2-68a3-89c367aeb661"
      },
      "outputs": [],
      "source": [
        "titanic_df.groupby('Pclass').mean()"
      ]
    },
    {
      "cell_type": "code",
      "execution_count": null,
      "metadata": {
        "_cell_guid": "0d961ec7-12d0-9a42-9170-c5e777185a6a"
      },
      "outputs": [],
      "source": [
        "class_sex_grouping = titanic_df.groupby(['Pclass', 'Sex']).mean()\n",
        "print(class_sex_grouping['Survived'])"
      ]
    },
    {
      "cell_type": "code",
      "execution_count": null,
      "metadata": {
        "_cell_guid": "20b23df4-c25a-d6a7-a969-57e99e913f66"
      },
      "outputs": [],
      "source": [
        "class_sex_grouping['Survived'].plot.bar()"
      ]
    },
    {
      "cell_type": "code",
      "execution_count": null,
      "metadata": {
        "_cell_guid": "c438c83b-464e-9934-ebba-8677446d8ee0"
      },
      "outputs": [],
      "source": [
        "group_by_age = pd.cut(titanic_df['Age'], np.arange(0, 90, 10))\n",
        "age_grouping = titanic_df.groupby(group_by_age).mean()\n",
        "age_grouping['Survived'].plot.bar()"
      ]
    },
    {
      "cell_type": "code",
      "execution_count": null,
      "metadata": {
        "_cell_guid": "2ae759f6-9453-143a-c49d-ad7ec3b9ca3e"
      },
      "outputs": [],
      "source": [
        "titanic_df.count()"
      ]
    },
    {
      "cell_type": "code",
      "execution_count": null,
      "metadata": {
        "_cell_guid": "882ef892-eafd-7af1-c57a-80dd54ff9414"
      },
      "outputs": [],
      "source": [
        "test_df.count()"
      ]
    },
    {
      "cell_type": "code",
      "execution_count": null,
      "metadata": {
        "_cell_guid": "2823623c-a76d-11b1-1f6c-8e7a49eb8d54"
      },
      "outputs": [],
      "source": [
        "titanic_df = titanic_df.drop(['Cabin'], axis = 1)"
      ]
    },
    {
      "cell_type": "code",
      "execution_count": null,
      "metadata": {
        "_cell_guid": "6e0f2996-a48f-ae65-1ccc-ee47de8aa84b"
      },
      "outputs": [],
      "source": [
        "test_df = test_df.drop(['Cabin'], axis=1)"
      ]
    },
    {
      "cell_type": "code",
      "execution_count": null,
      "metadata": {
        "_cell_guid": "dcfabd25-4a70-4077-2617-9ae21a2a7f3b"
      },
      "outputs": [],
      "source": [
        "titanic_df = titanic_df.dropna()"
      ]
    },
    {
      "cell_type": "code",
      "execution_count": null,
      "metadata": {
        "_cell_guid": "fdf65fb5-9112-bc07-d7b3-10c9e6026eaa"
      },
      "outputs": [],
      "source": [
        "#test_df = test_df.dropna()"
      ]
    },
    {
      "cell_type": "code",
      "execution_count": null,
      "metadata": {
        "_cell_guid": "4c658342-67af-24a2-8405-89cc1ed6e123"
      },
      "outputs": [],
      "source": [
        "titanic_df.count()"
      ]
    },
    {
      "cell_type": "code",
      "execution_count": null,
      "metadata": {
        "_cell_guid": "f969483c-b6c3-d903-09a8-d7eeb0643cef"
      },
      "outputs": [],
      "source": [
        "test_df.count()"
      ]
    },
    {
      "cell_type": "code",
      "execution_count": null,
      "metadata": {
        "_cell_guid": "823aa7c4-714a-09df-b65b-18e10e46c109"
      },
      "outputs": [],
      "source": [
        "def preprocess_titanic_df(df) :\n",
        "    processed_df = df.copy()\n",
        "    le = preprocessing.LabelEncoder()\n",
        "    processed_df.Sex = le.fit_transform(processed_df.Sex)\n",
        "    processed_df.Embarked = le.fit_transform(processed_df.Embarked)\n",
        "    processed_df = processed_df.drop(['Name', 'Ticket'], axis = 1)\n",
        "    return processed_df"
      ]
    },
    {
      "cell_type": "code",
      "execution_count": null,
      "metadata": {
        "_cell_guid": "5ae788d1-8c25-d977-c8b4-4ea5c8f90ad0"
      },
      "outputs": [],
      "source": [
        "processed_df = preprocess_titanic_df(titanic_df)\n",
        "processed_df.count()\n",
        "processed_df"
      ]
    },
    {
      "cell_type": "code",
      "execution_count": null,
      "metadata": {
        "_cell_guid": "88ff81db-32ed-c705-6d7b-dc8134dc7e79"
      },
      "outputs": [],
      "source": [
        "processed_test_df = preprocess_titanic_df(test_df)\n",
        "processed_test_df.count()\n",
        "processed_test_df"
      ]
    },
    {
      "cell_type": "code",
      "execution_count": null,
      "metadata": {
        "_cell_guid": "01a5e9a6-96ae-151b-baf7-03d96b8949e2"
      },
      "outputs": [],
      "source": [
        "median_ages = np.zeros((2,3))\n",
        "median_ages"
      ]
    },
    {
      "cell_type": "code",
      "execution_count": null,
      "metadata": {
        "_cell_guid": "7a9184d3-92f7-c92c-678b-81cd53951616"
      },
      "outputs": [],
      "source": [
        "for i in range(0, 2):\n",
        "    for j in range(0, 3):\n",
        "        median_ages[i,j] = processed_test_df[(processed_test_df['Sex'] == i) & (processed_test_df['Pclass'] == j+1)]['Age'].dropna().median()\n",
        "        \n",
        "median_ages"
      ]
    },
    {
      "cell_type": "code",
      "execution_count": null,
      "metadata": {
        "_cell_guid": "d802bad1-ec08-f511-e399-455da8245c2d"
      },
      "outputs": [],
      "source": [
        "for i in range(0, 2):\n",
        "    for j in range(0, 3):\n",
        "        processed_test_df.loc[ (processed_test_df.Age.isnull()) & (processed_test_df.Sex == i) & (processed_test_df.Pclass == j+1),'Age'] = median_ages[i,j]\n",
        "        \n",
        "processed_test_df.loc[processed_test_df.Fare.isnull(), 'Fare'] = processed_test_df['Fare'].median()\n",
        "processed_test_df.count()"
      ]
    },
    {
      "cell_type": "code",
      "execution_count": null,
      "metadata": {
        "_cell_guid": "9c4809cf-95d6-4fe2-f240-f3c4a0e38811"
      },
      "outputs": [],
      "source": [
        "X = processed_df.drop(['Survived'], axis = 1).values\n",
        "Y = processed_df['Survived'].values\n",
        "print(X)"
      ]
    },
    {
      "cell_type": "code",
      "execution_count": null,
      "metadata": {
        "_cell_guid": "e55440fd-a8d3-3e95-4797-f34dcabca083"
      },
      "outputs": [],
      "source": [
        "X_test = processed_test_df.values"
      ]
    },
    {
      "cell_type": "code",
      "execution_count": null,
      "metadata": {
        "_cell_guid": "1a2593b7-4958-393e-dce6-fb3279d4f9b8"
      },
      "outputs": [],
      "source": [
        "#x_train, x_test, y_train, y_test = cross_validation.train_test_split(X, Y, test_size=0.2)"
      ]
    },
    {
      "cell_type": "code",
      "execution_count": null,
      "metadata": {
        "_cell_guid": "09c22e25-4bdf-fb6e-ef6c-48de0a7f9318"
      },
      "outputs": [],
      "source": [
        "clf_dt = tree.DecisionTreeClassifier(max_depth=10)"
      ]
    },
    {
      "cell_type": "code",
      "execution_count": null,
      "metadata": {
        "_cell_guid": "db85787e-3711-6842-8bc0-58d0ca9ea4d3"
      },
      "outputs": [],
      "source": [
        "clf_dt.fit(X, Y)\n",
        "Y_test = clf_dt.predict(X_test)\n",
        "clf_dt.score(X_test, Y_test)"
      ]
    },
    {
      "cell_type": "code",
      "execution_count": null,
      "metadata": {
        "_cell_guid": "b6a2cc69-969b-a15f-0fbd-2b9d11703454"
      },
      "outputs": [],
      "source": [
        "submission = pd.DataFrame({'PassengerId': processed_test_df['PassengerId'], 'Survived': Y_test})\n",
        "submission.to_csv('clf_titanic.csv', index=False)"
      ]
    },
    {
      "cell_type": "code",
      "execution_count": null,
      "metadata": {
        "_cell_guid": "6ee4e41f-119d-0eb9-69f6-efa4fb03ebca"
      },
      "outputs": [],
      "source": [
        "#clf_rf = ske.RandomForestClassifier(n_estimators=50)\n",
        "#test_classifier(clf_rf)"
      ]
    },
    {
      "cell_type": "code",
      "execution_count": null,
      "metadata": {
        "_cell_guid": "13d4e15e-75d3-1e5d-2fd6-5a77ba2d19b8"
      },
      "outputs": [],
      "source": [
        "#clf_gb = ske.GradientBoostingClassifier(n_estimators=50)\n",
        "#test_classifier(clf_gb)"
      ]
    },
    {
      "cell_type": "code",
      "execution_count": null,
      "metadata": {
        "_cell_guid": "726946b5-5322-1048-db9e-c191c5a78e59"
      },
      "outputs": [],
      "source": [
        "#eclf = ske.VotingClassifier([('dt', clf_dt), ('rf', clf_rf), ('gb', clf_gb)])\n",
        "#test_classifier(eclf)"
      ]
    },
    {
      "cell_type": "code",
      "execution_count": null,
      "metadata": {
        "_cell_guid": "993a00ea-772c-c385-0c71-6d5fde6c80a7"
      },
      "outputs": [],
      "source": [
        "#def custom_model(X, Y) :\n",
        "#    layers = skflow.ops.dnn(X, [20, 40, 20], tf.tanh)\n",
        "#    return skflow.models.logistic_regression(layers, Y)"
      ]
    },
    {
      "cell_type": "code",
      "execution_count": null,
      "metadata": {
        "_cell_guid": "aa825497-d404-f267-ef7e-b7bae9a01432"
      },
      "outputs": [],
      "source": [
        "#tf_clf_c = skflow.TensorFlowEstimator(model_fn=custom_model, n_classes=2, batch_size=256, steps=1000, learning_rate=0.05)\n",
        "#tf_clf_c.fit(x_train, y_train)\n",
        "#metrics.accuracy_score(y_test, tf_clf_c.predict(x_test))"
      ]
    }
  ],
  "metadata": {
    "_change_revision": 0,
    "_is_fork": false,
    "kernelspec": {
      "display_name": "Python 3",
      "language": "python",
      "name": "python3"
    },
    "language_info": {
      "codemirror_mode": {
        "name": "ipython",
        "version": 3
      },
      "file_extension": ".py",
      "mimetype": "text/x-python",
      "name": "python",
      "nbconvert_exporter": "python",
      "pygments_lexer": "ipython3",
      "version": "3.5.2"
    }
  },
  "nbformat": 4,
  "nbformat_minor": 0
}