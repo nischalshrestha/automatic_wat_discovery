{
  "cells": [
    {
      "cell_type": "markdown",
      "metadata": {
        "_cell_guid": "5682902c-21a8-b3d3-0b57-694b9506e89e"
      },
      "source": [
        "# Titanic kaggle dataset"
      ]
    },
    {
      "cell_type": "markdown",
      "metadata": {
        "_cell_guid": "51f7750b-3ce3-55ae-b3a6-dc6daeb09c6d"
      },
      "source": [
        "### Import libs"
      ]
    },
    {
      "cell_type": "code",
      "execution_count": null,
      "metadata": {
        "_cell_guid": "4fff8c9c-a0bf-68c3-f364-1916bbdced6a"
      },
      "outputs": [],
      "source": [
        "from sklearn import metrics, cross_validation, grid_search, linear_model\n",
        "\n",
        "import warnings\n",
        "\n",
        "import numpy as np\n",
        "import pandas as pd\n",
        "import seaborn as sns\n",
        "from matplotlib import pyplot as plt\n",
        "\n",
        "warnings.filterwarnings('ignore')"
      ]
    },
    {
      "cell_type": "code",
      "execution_count": null,
      "metadata": {
        "_cell_guid": "7942a8d6-4560-dd0e-8a90-52baa17efc0d"
      },
      "outputs": [],
      "source": [
        "%pylab inline"
      ]
    },
    {
      "cell_type": "markdown",
      "metadata": {
        "_cell_guid": "da4d65eb-ff8f-ddae-4af2-b028dffcb869"
      },
      "source": [
        "## Import data"
      ]
    },
    {
      "cell_type": "code",
      "execution_count": null,
      "metadata": {
        "_cell_guid": "a7e5d08e-461d-3535-52d8-2943a46aa288"
      },
      "outputs": [],
      "source": [
        "data = pd.read_csv(\"../input/train.csv\", header = 0, sep = ',')"
      ]
    },
    {
      "cell_type": "markdown",
      "metadata": {
        "_cell_guid": "e6aae6b0-369e-c1c9-8e9a-a24914bbd3b0"
      },
      "source": [
        "## Inspect data"
      ]
    },
    {
      "cell_type": "code",
      "execution_count": null,
      "metadata": {
        "_cell_guid": "fc61fc5a-d67f-ac6b-112f-d0f87074a2fe"
      },
      "outputs": [],
      "source": [
        "data.info()"
      ]
    },
    {
      "cell_type": "code",
      "execution_count": null,
      "metadata": {
        "_cell_guid": "0964d1e4-05dd-e6d6-d8f9-dfc0ed59d3d8"
      },
      "outputs": [],
      "source": [
        "data.head()"
      ]
    },
    {
      "cell_type": "code",
      "execution_count": null,
      "metadata": {
        "_cell_guid": "60113359-5510-0430-fa61-ad54e73473f5"
      },
      "outputs": [],
      "source": [
        "data.isnull().sum()"
      ]
    },
    {
      "cell_type": "code",
      "execution_count": null,
      "metadata": {
        "_cell_guid": "ad9046a4-44e7-75bb-95b5-7c9b912c3d1a"
      },
      "outputs": [],
      "source": [
        "data.shape"
      ]
    },
    {
      "cell_type": "code",
      "execution_count": null,
      "metadata": {
        "_cell_guid": "8585bb74-ad73-585b-273f-172374d50437"
      },
      "outputs": [],
      "source": [
        "data.describe()"
      ]
    },
    {
      "cell_type": "markdown",
      "metadata": {
        "_cell_guid": "a33558da-a741-cacf-6138-2dfaf079ca87"
      },
      "source": [
        "## Visualization"
      ]
    },
    {
      "cell_type": "code",
      "execution_count": null,
      "metadata": {
        "_cell_guid": "8faa78e8-9d4c-4750-a684-ed8c250b63ad"
      },
      "outputs": [],
      "source": [
        "sns.set(font_scale=1)\n",
        "pd.options.display.mpl_style = 'default'\n",
        "data.drop(['PassengerId', 'Survived', 'Pclass'], axis=1).hist(figsize=(10, 7), grid=False)\n",
        "plt.show()"
      ]
    },
    {
      "cell_type": "code",
      "execution_count": null,
      "metadata": {
        "_cell_guid": "b23ca60b-654e-2673-f918-070cc2828caf"
      },
      "outputs": [],
      "source": [
        "plt.figure()\n",
        "\n",
        "plt.subplot(221)\n",
        "data.Pclass.value_counts().plot(kind='bar', figsize=(10, 10))\n",
        "plt.xlabel(\"Passenger class\")\n",
        "plt.ylabel(\"Count\")\n",
        "plt.title(\"Passenger class distribution\")\n",
        "\n",
        "plt.subplot(222)\n",
        "data.Embarked.value_counts().plot(kind='bar', figsize=(10, 10))\n",
        "plt.xlabel(\"Emabarked\")\n",
        "plt.ylabel(\"Count\")\n",
        "plt.title(\"Embarked distribution\")\n",
        "plt.show()"
      ]
    },
    {
      "cell_type": "code",
      "execution_count": null,
      "metadata": {
        "_cell_guid": "d47f37e6-17b4-3e5b-1851-727779d8a4f7"
      },
      "outputs": [],
      "source": [
        "plt.figure(1)\n",
        "\n",
        "plt.subplots(1, 1, figsize=(10, 10))\n",
        "plt.subplot(221)\n",
        "sns.barplot(y='Survived', x='Pclass', data=data)\n",
        "plt.title(\"Survived by passenger class\")\n",
        "\n",
        "plt.subplot(222)\n",
        "sns.barplot(y='Survived', x='Embarked', data=data)\n",
        "plt.title(\"Survived by Embarked\")\n",
        "plt.show()"
      ]
    },
    {
      "cell_type": "code",
      "execution_count": null,
      "metadata": {
        "_cell_guid": "82ccba8a-a034-0848-5491-f26006737a63"
      },
      "outputs": [],
      "source": [
        "sns.barplot(y='Survived', x=\"Sex\", data=data)\n",
        "plt.title(\"Male/female survived distribution\")\n",
        "plt.ylabel(\"Survived\")\n",
        "plt.show()"
      ]
    },
    {
      "cell_type": "code",
      "execution_count": null,
      "metadata": {
        "_cell_guid": "9cbc9168-9ecc-6b0c-a304-d1bc458e88e9"
      },
      "outputs": [],
      "source": [
        "plt.figure(1)\n",
        "\n",
        "plt.subplots(1, 1, figsize=(10, 10))\n",
        "\n",
        "plt.subplot(221)\n",
        "ax = data[data.Survived == 1].Age.plot(kind='hist', alpha=0.5)\n",
        "ax = data[data.Survived == 0].Age.plot(kind='hist', alpha=0.5)\n",
        "plt.title(\"Age distribution\")\n",
        "plt.xlabel(\"Age\")\n",
        "plt.legend((\"survived\", \"not survived\"), loc='best')\n",
        "\n",
        "plt.subplot(222)\n",
        "data.Age.plot(kind='kde', grid=False)\n",
        "plt.title(\"Age distribution\")\n",
        "plt.xlabel(\"Age\")\n",
        "plt.xlim((0,80))\n",
        "plt.show()"
      ]
    },
    {
      "cell_type": "code",
      "execution_count": null,
      "metadata": {
        "_cell_guid": "48bc38bd-0aec-a35c-c89a-ebfde1d20a17"
      },
      "outputs": [],
      "source": [
        "corr = data.corr()\n",
        "\n",
        "plt.figure(figsize=(10, 8))\n",
        "\n",
        "sns.heatmap(corr, square=True)\n",
        "plt.title(\"Feature correlations\")"
      ]
    },
    {
      "cell_type": "markdown",
      "metadata": {
        "_cell_guid": "5c902edb-d191-944c-3a51-948cc6471d8e"
      },
      "source": [
        "# Preprocessing"
      ]
    },
    {
      "cell_type": "code",
      "execution_count": null,
      "metadata": {
        "_cell_guid": "9ee6b469-c1a8-cc71-5c3b-c7d5f993a98c"
      },
      "outputs": [],
      "source": [
        "t_data = data.drop(['Cabin', 'Ticket', 'PassengerId', 'Survived'], axis=1)\n",
        "t_labels = data['Survived']"
      ]
    },
    {
      "cell_type": "code",
      "execution_count": null,
      "metadata": {
        "_cell_guid": "a86d97be-08f2-a948-7f1a-5f3b4b56ee55"
      },
      "outputs": [],
      "source": [
        "t_data.head()"
      ]
    },
    {
      "cell_type": "markdown",
      "metadata": {
        "_cell_guid": "cb7ead56-f592-91c4-951d-3e9eca1bca4e"
      },
      "source": [
        "## Name inspecting/processing"
      ]
    },
    {
      "cell_type": "code",
      "execution_count": null,
      "metadata": {
        "_cell_guid": "49009d4b-00d7-5753-d6f2-688ec724ad1d"
      },
      "outputs": [],
      "source": [
        "t_data['Name_pred'] = data.Name.str.extract(' ([A-Za-z]+)\\.', expand=False)"
      ]
    },
    {
      "cell_type": "code",
      "execution_count": null,
      "metadata": {
        "_cell_guid": "cf291118-7dab-561a-a3a9-89af78a9654d"
      },
      "outputs": [],
      "source": [
        "pd.crosstab(t_data['Name_pred'], t_data['Sex'])"
      ]
    },
    {
      "cell_type": "code",
      "execution_count": null,
      "metadata": {
        "_cell_guid": "7933a2a1-3849-14fb-d09d-9daa76887a3c"
      },
      "outputs": [],
      "source": [
        "t_data['Name_pred'] = t_data['Name_pred'].replace(\"Mlle\", \"Miss\")\n",
        "t_data['Name_pred'] = t_data['Name_pred'].replace(\"Ms\", \"Miss\")\n",
        "t_data['Name_pred'] = t_data['Name_pred'].replace(\"Mme\", \"Mrs\")"
      ]
    },
    {
      "cell_type": "code",
      "execution_count": null,
      "metadata": {
        "_cell_guid": "511e2be4-312d-c029-4dea-9420f38b3e97"
      },
      "outputs": [],
      "source": [
        "t_data['Name_pred'] = t_data['Name_pred'].replace(['Capt', 'Col', 'Countess', 'Don', 'Dr', 'Jonkheer',\\\n",
        "                                                  'Lady', 'Major', 'Rev', 'Sir'], 'Other')"
      ]
    },
    {
      "cell_type": "code",
      "execution_count": null,
      "metadata": {
        "_cell_guid": "be1a703d-7ed7-597d-795f-a41c6c836b64"
      },
      "outputs": [],
      "source": [
        "preds = {'Mr': 1, 'Miss': 2, 'Mrs': 3, 'Master': 4, 'Other': 5}\n",
        "\n",
        "t_data['Name_pred'] = t_data['Name_pred'].map(preds)"
      ]
    },
    {
      "cell_type": "code",
      "execution_count": null,
      "metadata": {
        "_cell_guid": "e519d13d-880f-8ae6-2e70-0496cccca0ef"
      },
      "outputs": [],
      "source": [
        "t_data = t_data.drop('Name', axis=1)"
      ]
    },
    {
      "cell_type": "code",
      "execution_count": null,
      "metadata": {
        "_cell_guid": "988d5b61-d7c6-615d-7212-c4616ff10c22"
      },
      "outputs": [],
      "source": [
        "t_data.head()"
      ]
    },
    {
      "cell_type": "markdown",
      "metadata": {
        "_cell_guid": "89d4ca6d-8b4c-a1f7-fcf0-a573ca69350b"
      },
      "source": [
        "## Some categorical transformations\n",
        "(Not really necessary)"
      ]
    },
    {
      "cell_type": "code",
      "execution_count": null,
      "metadata": {
        "_cell_guid": "2cffda55-31cd-fa11-08f8-99b513baea7a"
      },
      "outputs": [],
      "source": [
        "t_data['Sex'] = t_data['Sex'].apply(lambda x: int(x == 'male'))"
      ]
    },
    {
      "cell_type": "code",
      "execution_count": null,
      "metadata": {
        "_cell_guid": "302452c7-52da-a481-da23-9f8509164f4e"
      },
      "outputs": [],
      "source": [
        "t_data.Embarked = t_data.Embarked.fillna(value='S')"
      ]
    },
    {
      "cell_type": "code",
      "execution_count": null,
      "metadata": {
        "_cell_guid": "c03be241-c8e1-6637-ee3f-ccc882f814a8"
      },
      "outputs": [],
      "source": [
        "emb = { 'S': 1, 'C': 2, 'Q': 3}"
      ]
    },
    {
      "cell_type": "code",
      "execution_count": null,
      "metadata": {
        "_cell_guid": "9132a4a3-de62-27a0-ef86-1927e96c28df"
      },
      "outputs": [],
      "source": [
        "t_data.Embarked = t_data.Embarked.map(emb)"
      ]
    },
    {
      "cell_type": "code",
      "execution_count": null,
      "metadata": {
        "_cell_guid": "c81c673f-87fb-17eb-b8db-7a796385e751"
      },
      "outputs": [],
      "source": [
        "# zeros as first try\n",
        "t_data.Age = t_data.Age.fillna(value=0)"
      ]
    },
    {
      "cell_type": "code",
      "execution_count": null,
      "metadata": {
        "_cell_guid": "d7174ea8-65e9-b95c-b2ae-01d30fe83834"
      },
      "outputs": [],
      "source": [
        "t_data.head()"
      ]
    },
    {
      "cell_type": "markdown",
      "metadata": {
        "_cell_guid": "ec4b2e23-9698-081c-68dd-2d31ca3aac82"
      },
      "source": [
        "## Dividing by feature type"
      ]
    },
    {
      "cell_type": "code",
      "execution_count": null,
      "metadata": {
        "_cell_guid": "417b672f-80d1-24b5-6a35-e0faab6a01cf"
      },
      "outputs": [],
      "source": [
        "real_cols = ['Age', 'SibSp', 'Parch', 'Fare']\n",
        "cat_cols = list(set(t_data.columns.values.tolist()) - set(real_cols))"
      ]
    },
    {
      "cell_type": "code",
      "execution_count": null,
      "metadata": {
        "_cell_guid": "55333c1c-3f9c-de91-8d5a-bce2b5a96496"
      },
      "outputs": [],
      "source": [
        "X_real = t_data[real_cols]\n",
        "X_cat = t_data[cat_cols]"
      ]
    },
    {
      "cell_type": "markdown",
      "metadata": {
        "_cell_guid": "5ce37897-c78f-c7f0-55ea-07934d8ce059"
      },
      "source": [
        "## Categorical features encoding"
      ]
    },
    {
      "cell_type": "code",
      "execution_count": null,
      "metadata": {
        "_cell_guid": "0185b2a4-5949-474e-3466-830bd39511d0"
      },
      "outputs": [],
      "source": [
        "from sklearn.preprocessing import OneHotEncoder\n",
        "from sklearn.feature_extraction import DictVectorizer"
      ]
    },
    {
      "cell_type": "code",
      "execution_count": null,
      "metadata": {
        "_cell_guid": "8c4ee54a-10f3-c26f-a620-3c7a9071936a"
      },
      "outputs": [],
      "source": [
        "encoder = OneHotEncoder(categorical_features='all', sparse=True, n_values='auto')"
      ]
    },
    {
      "cell_type": "code",
      "execution_count": null,
      "metadata": {
        "_cell_guid": "259f77fb-41d0-582c-2fe0-f7e7219054be"
      },
      "outputs": [],
      "source": [
        "X_cat.head()"
      ]
    },
    {
      "cell_type": "code",
      "execution_count": null,
      "metadata": {
        "_cell_guid": "a13c7bfb-2bad-e252-d7b2-092bea999bc8"
      },
      "outputs": [],
      "source": [
        "X_cat_oh = encoder.fit_transform(X_cat).toarray()"
      ]
    },
    {
      "cell_type": "markdown",
      "metadata": {
        "_cell_guid": "8f5bb96e-c0fe-914c-1c59-53fd381047af"
      },
      "source": [
        "## Scaling"
      ]
    },
    {
      "cell_type": "code",
      "execution_count": null,
      "metadata": {
        "_cell_guid": "196cd3ba-9472-81ac-a136-6b5fe0dc3bc3"
      },
      "outputs": [],
      "source": [
        "from sklearn.preprocessing import StandardScaler"
      ]
    },
    {
      "cell_type": "code",
      "execution_count": null,
      "metadata": {
        "_cell_guid": "ecefdb68-e25e-c074-8f2f-097d6143a9db"
      },
      "outputs": [],
      "source": [
        "scaler = StandardScaler()\n",
        "\n",
        "X_real_scaled = scaler.fit_transform(X_real)"
      ]
    },
    {
      "cell_type": "markdown",
      "metadata": {
        "_cell_guid": "92ff9112-dec5-04cf-cf13-2208cd667049"
      },
      "source": [
        "## Stacking"
      ]
    },
    {
      "cell_type": "code",
      "execution_count": null,
      "metadata": {
        "_cell_guid": "97483196-7faa-7047-9821-b8b77147b7b6"
      },
      "outputs": [],
      "source": [
        "X = np.hstack((X_real_scaled, X_cat_oh))"
      ]
    },
    {
      "cell_type": "code",
      "execution_count": null,
      "metadata": {
        "_cell_guid": "f33e87bf-448d-5509-5493-b3e89fd1b4d0"
      },
      "outputs": [],
      "source": [
        "(X_train, X_test, y_train, y_test) = cross_validation.train_test_split(X, t_labels,\n",
        "                                                                      test_size=0.3,\n",
        "                                                                      stratify=t_labels)"
      ]
    },
    {
      "cell_type": "markdown",
      "metadata": {
        "_cell_guid": "d425bbb8-549d-bb30-dd85-22689fbc06de"
      },
      "source": [
        "## First fitting SGDClassifier"
      ]
    },
    {
      "cell_type": "code",
      "execution_count": null,
      "metadata": {
        "_cell_guid": "6704eb5b-32a5-e358-8f24-81534abe030a"
      },
      "outputs": [],
      "source": [
        "clf = linear_model.SGDClassifier(class_weight='balanced')"
      ]
    },
    {
      "cell_type": "code",
      "execution_count": null,
      "metadata": {
        "_cell_guid": "d51a5439-9b09-e91b-cfdc-3a7473001f34"
      },
      "outputs": [],
      "source": [
        "clf.fit(X_train, y_train)"
      ]
    },
    {
      "cell_type": "code",
      "execution_count": null,
      "metadata": {
        "_cell_guid": "a36a6663-1610-118a-739a-0c7770c13988"
      },
      "outputs": [],
      "source": [
        "print(metrics.roc_auc_score(y_test, clf.predict(X_test)))"
      ]
    },
    {
      "cell_type": "code",
      "execution_count": null,
      "metadata": {
        "_cell_guid": "98930312-05a9-d586-d023-0b40849c2ffc"
      },
      "outputs": [],
      "source": [
        "param_grid = {\n",
        "    'loss': ['hinge', 'log', 'squared_hinge', 'squared_loss'],\n",
        "    'penalty': ['l1', 'l2'],\n",
        "    'n_iter': list(range(3, 10)),\n",
        "    'alpha': np.linspace(0.0001, 0.01, num=10)\n",
        "}"
      ]
    },
    {
      "cell_type": "code",
      "execution_count": null,
      "metadata": {
        "_cell_guid": "546268bb-531a-3cb3-8aa2-77576d036fae"
      },
      "outputs": [],
      "source": [
        "grid_cv = grid_search.GridSearchCV(clf, param_grid, scoring='accuracy', cv=3)"
      ]
    },
    {
      "cell_type": "code",
      "execution_count": null,
      "metadata": {
        "_cell_guid": "52dbf652-2df1-78dd-aa43-39f91fc4f0d9"
      },
      "outputs": [],
      "source": [
        "grid_cv.fit(X_train, y_train)"
      ]
    },
    {
      "cell_type": "code",
      "execution_count": null,
      "metadata": {
        "_cell_guid": "96417291-d784-a118-c8e1-07bdc2597d56"
      },
      "outputs": [],
      "source": [
        "print(grid_cv.best_params_)"
      ]
    },
    {
      "cell_type": "code",
      "execution_count": null,
      "metadata": {
        "_cell_guid": "cb986956-da71-4523-add0-bec1e84dd764"
      },
      "outputs": [],
      "source": [
        "print(metrics.roc_auc_score(y_test, grid_cv.best_estimator_.predict(X_test)))"
      ]
    },
    {
      "cell_type": "markdown",
      "metadata": {
        "_cell_guid": "2d2c2e36-246b-acfa-35b4-d0756ac83319"
      },
      "source": [
        "## Decision tree"
      ]
    },
    {
      "cell_type": "code",
      "execution_count": null,
      "metadata": {
        "_cell_guid": "21ba82cb-6c6b-5016-cdae-e809c99f9b19"
      },
      "outputs": [],
      "source": [
        "from sklearn import tree"
      ]
    },
    {
      "cell_type": "code",
      "execution_count": null,
      "metadata": {
        "_cell_guid": "dd576807-1129-d175-1dea-16e50faec483"
      },
      "outputs": [],
      "source": [
        "clf = tree.DecisionTreeClassifier(max_depth=3, class_weight='balanced')"
      ]
    },
    {
      "cell_type": "code",
      "execution_count": null,
      "metadata": {
        "_cell_guid": "94f41d0f-0def-248c-2121-d01998640fa9"
      },
      "outputs": [],
      "source": [
        "clf.get_params().keys()"
      ]
    },
    {
      "cell_type": "code",
      "execution_count": null,
      "metadata": {
        "_cell_guid": "026c7ed2-925e-0845-a51f-a9e3ae1faf25"
      },
      "outputs": [],
      "source": [
        "params_grid = {\n",
        "    'max_depth': list(range(1, 10)),\n",
        "    'min_samples_leaf': list(range(2, 10))\n",
        "}\n",
        "grid_cv = grid_search.GridSearchCV(clf, params_grid, scoring='accuracy', cv=4)"
      ]
    },
    {
      "cell_type": "code",
      "execution_count": null,
      "metadata": {
        "_cell_guid": "d2e0d16f-9aea-c477-f01f-1fbbfb5ce4fa"
      },
      "outputs": [],
      "source": [
        "grid_cv.fit(X_train, y_train)"
      ]
    },
    {
      "cell_type": "code",
      "execution_count": null,
      "metadata": {
        "_cell_guid": "a4173df1-ae02-efbb-854a-eb8049c83a7f"
      },
      "outputs": [],
      "source": [
        "print(grid_cv.best_params_)"
      ]
    },
    {
      "cell_type": "code",
      "execution_count": null,
      "metadata": {
        "_cell_guid": "619f925d-9f36-29a6-a734-b62d936d172f"
      },
      "outputs": [],
      "source": [
        "print(metrics.roc_auc_score(y_test, grid_cv.best_estimator_.predict_proba(X_test)[:,1]))"
      ]
    },
    {
      "cell_type": "markdown",
      "metadata": {
        "_cell_guid": "57300124-29f5-6d20-a42e-09c974c9b0c6"
      },
      "source": [
        "## RandomForest"
      ]
    },
    {
      "cell_type": "code",
      "execution_count": null,
      "metadata": {
        "_cell_guid": "fd73d9f5-8750-fdc8-1b59-708721e50a1d"
      },
      "outputs": [],
      "source": [
        "from sklearn import ensemble"
      ]
    },
    {
      "cell_type": "code",
      "execution_count": null,
      "metadata": {
        "_cell_guid": "dd5cde3f-b4b8-05fc-b4dc-752431001373"
      },
      "outputs": [],
      "source": [
        "rf_clf = ensemble.RandomForestClassifier()"
      ]
    },
    {
      "cell_type": "code",
      "execution_count": null,
      "metadata": {
        "_cell_guid": "6660b5b9-bcee-9361-947e-7d85314674e2"
      },
      "outputs": [],
      "source": [
        "rf_clf.get_params().keys()"
      ]
    },
    {
      "cell_type": "code",
      "execution_count": null,
      "metadata": {
        "_cell_guid": "4e9c931c-462d-8ea0-577d-66c3bf4e88aa"
      },
      "outputs": [],
      "source": [
        "rf_clf.fit(X_train, y_train)"
      ]
    },
    {
      "cell_type": "code",
      "execution_count": null,
      "metadata": {
        "_cell_guid": "cad3802d-858a-8384-aefd-a13a884ec57e"
      },
      "outputs": [],
      "source": [
        "print(metrics.roc_auc_score(y_test, rf_clf.predict_proba(X_test)[:,1]))"
      ]
    },
    {
      "cell_type": "code",
      "execution_count": null,
      "metadata": {
        "_cell_guid": "f0916aa7-c22b-99eb-3253-29f89cd07ac2"
      },
      "outputs": [],
      "source": [
        "params_grid = {\n",
        "    'min_samples_leaf': list(range(1, 10)),\n",
        "    'n_estimators': [10, 50, 100, 250, 500, 1000],\n",
        "    'max_depth': list(range(1, 10))\n",
        "}\n",
        "\n",
        "rand_cv = grid_search.RandomizedSearchCV(rf_clf, params_grid, scoring='accuracy', cv=4, n_iter=40)\n",
        "\n",
        "rand_cv.fit(X_train, y_train)"
      ]
    },
    {
      "cell_type": "code",
      "execution_count": null,
      "metadata": {
        "_cell_guid": "4140eaba-7004-0e04-e779-0135af4ce0be"
      },
      "outputs": [],
      "source": [
        "print(metrics.roc_auc_score(y_test, rand_cv.predict_proba(X_test)[:,1]))"
      ]
    },
    {
      "cell_type": "markdown",
      "metadata": {
        "_cell_guid": "56694f3e-a515-482e-c5a3-b7985c082c1b"
      },
      "source": [
        "## First test"
      ]
    },
    {
      "cell_type": "code",
      "execution_count": null,
      "metadata": {
        "_cell_guid": "3089789a-f293-3907-9a96-cd6fe4f75135"
      },
      "outputs": [],
      "source": [
        "test = pd.read_csv(\"../input/test.csv\", header=0, sep=',')"
      ]
    },
    {
      "cell_type": "code",
      "execution_count": null,
      "metadata": {
        "_cell_guid": "f8fda226-a8e9-f543-721f-8e113c71f180"
      },
      "outputs": [],
      "source": [
        "test.head()"
      ]
    },
    {
      "cell_type": "code",
      "execution_count": null,
      "metadata": {
        "_cell_guid": "0134e09d-f9d4-35c2-26e4-1c073297c8ca"
      },
      "outputs": [],
      "source": [
        "test.isnull().sum()"
      ]
    },
    {
      "cell_type": "code",
      "execution_count": null,
      "metadata": {
        "_cell_guid": "2e6dc586-5798-86f9-7ad4-f35029ff909a"
      },
      "outputs": [],
      "source": [
        "test_data = test.drop(['Cabin', 'Ticket', 'PassengerId'], axis=1)"
      ]
    },
    {
      "cell_type": "code",
      "execution_count": null,
      "metadata": {
        "_cell_guid": "9c9861ad-d2bc-87ce-106c-0db446dfe295"
      },
      "outputs": [],
      "source": [
        "test_data['Name_pred'] = test.Name.str.extract(' ([A-Za-z]+)\\.', expand=False)"
      ]
    },
    {
      "cell_type": "code",
      "execution_count": null,
      "metadata": {
        "_cell_guid": "4c69e0dd-7efe-4edc-064d-a4554e8ad3af"
      },
      "outputs": [],
      "source": [
        "test_data['Name_pred'] = test_data['Name_pred'].replace(\"Mlle\", \"Miss\")\n",
        "test_data['Name_pred'] = test_data['Name_pred'].replace(\"Ms\", \"Miss\")\n",
        "test_data['Name_pred'] = test_data['Name_pred'].replace(\"Mme\", \"Mrs\")"
      ]
    },
    {
      "cell_type": "code",
      "execution_count": null,
      "metadata": {
        "_cell_guid": "ff05a765-96d9-c64e-c423-40fa95eeff9d"
      },
      "outputs": [],
      "source": [
        "test_data['Name_pred'] = test_data['Name_pred'].replace(['Capt', 'Col', 'Countess', 'Don', 'Dr', 'Jonkheer',\\\n",
        "                                              'Lady', 'Major', 'Rev', 'Sir'], 'Other')"
      ]
    },
    {
      "cell_type": "code",
      "execution_count": null,
      "metadata": {
        "_cell_guid": "76ae8f41-1316-c301-f197-4fa2e3bc2d43"
      },
      "outputs": [],
      "source": [
        "preds = {'Mr': 1, 'Miss': 2, 'Mrs': 3, 'Master': 4, 'Other': 5}\n",
        "test_data['Name_pred'] = test_data['Name_pred'].map(preds)\n",
        "test_data = test_data.drop('Name', axis=1)"
      ]
    },
    {
      "cell_type": "code",
      "execution_count": null,
      "metadata": {
        "_cell_guid": "83e91155-802c-af82-8566-55ea9eb7df85"
      },
      "outputs": [],
      "source": [
        "test_data.Name_pred = test_data.Name_pred.fillna(value=5)"
      ]
    },
    {
      "cell_type": "code",
      "execution_count": null,
      "metadata": {
        "_cell_guid": "de15ae00-cbc3-8103-e5af-856689f78bdb"
      },
      "outputs": [],
      "source": [
        "test_data.Name_pred = test_data.Name_pred.apply(int)"
      ]
    },
    {
      "cell_type": "code",
      "execution_count": null,
      "metadata": {
        "_cell_guid": "f10cda2f-8987-b685-6b21-d8be2a2a9520"
      },
      "outputs": [],
      "source": [
        "test_data['Sex'] = test_data['Sex'].apply(lambda x: int(x == 'male'))"
      ]
    },
    {
      "cell_type": "code",
      "execution_count": null,
      "metadata": {
        "_cell_guid": "283abdb8-b404-1b1f-61ff-4db3c46d749d"
      },
      "outputs": [],
      "source": [
        "test_data.Embarked = test_data.Embarked.fillna(value='S')\n",
        "emb = { 'S': 1, 'C': 2, 'Q': 3}\n",
        "test_data.Embarked = test_data.Embarked.map(emb)"
      ]
    },
    {
      "cell_type": "code",
      "execution_count": null,
      "metadata": {
        "_cell_guid": "12f284e9-0d92-f4c4-de7a-434cd51552ad"
      },
      "outputs": [],
      "source": [
        "test_data.Age = test_data.Age.fillna(value=0)"
      ]
    },
    {
      "cell_type": "code",
      "execution_count": null,
      "metadata": {
        "_cell_guid": "640b19b2-2a77-babc-2a34-17429ca6253a"
      },
      "outputs": [],
      "source": [
        "real_cols = ['Age', 'SibSp', 'Parch', 'Fare']\n",
        "cat_cols = list(set(test_data.columns.values.tolist()) - set(real_cols))"
      ]
    },
    {
      "cell_type": "code",
      "execution_count": null,
      "metadata": {
        "_cell_guid": "3e322efd-9e1e-dc1f-6003-56f5bab782f4"
      },
      "outputs": [],
      "source": [
        "Test_real = test_data[real_cols]\n",
        "Test_cat = test_data[cat_cols]"
      ]
    },
    {
      "cell_type": "code",
      "execution_count": null,
      "metadata": {
        "_cell_guid": "69357673-0506-0a87-05d9-87a0630f8b1d"
      },
      "outputs": [],
      "source": [
        "encoder = OneHotEncoder(categorical_features='all', sparse=True, n_values='auto')\n",
        "Test_cat_oh = encoder.fit_transform(Test_cat).toarray()"
      ]
    },
    {
      "cell_type": "code",
      "execution_count": null,
      "metadata": {
        "_cell_guid": "4870ee60-2a1d-c543-e0a8-dcd07ea81941"
      },
      "outputs": [],
      "source": [
        "Test_real.Fare = Test_real.Fare.fillna(value=0)"
      ]
    },
    {
      "cell_type": "code",
      "execution_count": null,
      "metadata": {
        "_cell_guid": "17ba8f78-e933-5945-331e-a8cb6efa5213"
      },
      "outputs": [],
      "source": [
        "scaler = StandardScaler()\n",
        "X_real_scaled = scaler.fit_transform(Test_real)"
      ]
    },
    {
      "cell_type": "code",
      "execution_count": null,
      "metadata": {
        "_cell_guid": "cbdf31d7-f526-e15a-7dab-a95b02c53a6a"
      },
      "outputs": [],
      "source": [
        "X = np.hstack((Test_real, Test_cat_oh))"
      ]
    },
    {
      "cell_type": "code",
      "execution_count": null,
      "metadata": {
        "_cell_guid": "56d3c9ea-2b6a-d840-64e4-0243b4ca1ac0"
      },
      "outputs": [],
      "source": [
        "predict = rand_cv.predict(X)"
      ]
    },
    {
      "cell_type": "code",
      "execution_count": null,
      "metadata": {
        "_cell_guid": "af1c138f-eb3f-37fd-8bed-9b1ec07315be"
      },
      "outputs": [],
      "source": [
        "submission = pd.DataFrame({\n",
        "        \"PassengerId\": test.PassengerId,\n",
        "        \"Survived\": predict\n",
        "    })\n",
        "submission.to_csv(\"predict.csv\", index=False)"
      ]
    },
    {
      "cell_type": "code",
      "execution_count": null,
      "metadata": {
        "_cell_guid": "5f998359-74ea-d95c-d348-b1c7ccf34544"
      },
      "outputs": [],
      "source": [
        "rand_cv.score(X_train, y_train)"
      ]
    },
    {
      "cell_type": "code",
      "execution_count": null,
      "metadata": {
        "_cell_guid": "4858ba7d-c8ba-27ac-186e-370f6783c753"
      },
      "outputs": [],
      "source": [
        "print(rand_cv.best_estimator_)"
      ]
    },
    {
      "cell_type": "code",
      "execution_count": null,
      "metadata": {
        "_cell_guid": "c2d56104-81d4-f963-6049-7381ff40b1da"
      },
      "outputs": [],
      "source": ""
    }
  ],
  "metadata": {
    "_change_revision": 0,
    "_is_fork": false,
    "kernelspec": {
      "display_name": "Python 3",
      "language": "python",
      "name": "python3"
    },
    "language_info": {
      "codemirror_mode": {
        "name": "ipython",
        "version": 3
      },
      "file_extension": ".py",
      "mimetype": "text/x-python",
      "name": "python",
      "nbconvert_exporter": "python",
      "pygments_lexer": "ipython3",
      "version": "3.5.2"
    }
  },
  "nbformat": 4,
  "nbformat_minor": 0
}