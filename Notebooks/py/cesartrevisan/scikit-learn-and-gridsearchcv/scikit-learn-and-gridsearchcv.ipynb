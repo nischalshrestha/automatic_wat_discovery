{
  "cells": [
    {
      "cell_type": "markdown",
      "metadata": {
        "_cell_guid": "f7bfae30-151c-4744-a448-a036c355a780"
      },
      "source": [
        "# Machine Learning from Start to Finish with Scikit-Learn\n",
        "\n",
        "This notebook covers the basic Machine Learning process in Python step-by-step. Go from raw data to at least 78% accuracy on the Titanic Survivors dataset. \n",
        "\n",
        "### Steps Covered\n",
        "\n",
        "\n",
        "1. Importing  a DataFrame\n",
        "2. Visualize the Data\n",
        "3. Cleanup and Transform the Data\n",
        "4. Encode the Data\n",
        "5. Split Training and Test Sets\n",
        "6. Fine Tune Algorithms\n",
        "7. Cross Validate with KFold\n",
        "8. Upload to Kaggle"
      ]
    },
    {
      "cell_type": "markdown",
      "metadata": {
        "_cell_guid": "b59096ef-f551-4e86-a3f9-4cc0a745cc87"
      },
      "source": [
        "## CSV to DataFrame\n",
        "\n",
        "CSV files can be loaded into a dataframe by calling `pd.read_csv` . After loading the training and test files, print a `sample` to see what you're working with."
      ]
    },
    {
      "cell_type": "code",
      "execution_count": null,
      "metadata": {
        "_cell_guid": "9d2bb8b5-79e2-4f56-9a83-2e3cfa094b90"
      },
      "outputs": [],
      "source": [
        "import numpy as np\n",
        "import pandas as pd\n",
        "import matplotlib.pyplot as plt\n",
        "import seaborn as sns\n",
        "%matplotlib inline\n",
        "\n",
        "data_train = pd.read_csv('../input/train.csv')\n",
        "data_test = pd.read_csv('../input/test.csv')\n",
        "\n",
        "data_train.sample(3)"
      ]
    },
    {
      "cell_type": "markdown",
      "metadata": {
        "_cell_guid": "aae7f619-954d-421f-a711-439ed93e1fb2"
      },
      "source": [
        "## Visualizing Data\n",
        "\n",
        "Visualizing data is crucial for recognizing underlying patterns to exploit in the model. "
      ]
    },
    {
      "cell_type": "code",
      "execution_count": null,
      "metadata": {
        "_cell_guid": "cac12239-5630-4e25-ad62-5f9442c772b2"
      },
      "outputs": [],
      "source": [
        "sns.barplot(x=\"Embarked\", y=\"Survived\", hue=\"Sex\", data=data_train);"
      ]
    },
    {
      "cell_type": "code",
      "execution_count": null,
      "metadata": {
        "_cell_guid": "cb65c565-24d0-4432-b312-00cd157fdfcf"
      },
      "outputs": [],
      "source": [
        "sns.pointplot(x=\"Pclass\", y=\"Survived\", hue=\"Sex\", data=data_train,\n",
        "              palette={\"male\": \"blue\", \"female\": \"pink\"},\n",
        "              markers=[\"*\", \"o\"], linestyles=[\"-\", \"--\"]);"
      ]
    },
    {
      "cell_type": "markdown",
      "metadata": {
        "_cell_guid": "0bbfb04a-e14f-4847-a8e6-28b80cf0dc3e"
      },
      "source": [
        "## Transforming Features\n",
        "\n",
        "1. Aside from 'Sex', the 'Age' feature is second in importance. To avoid overfitting, I'm grouping people into logical human age groups. \n",
        "2. Each Cabin starts with a letter. I bet this letter is much more important than the number that follows, let's slice it off. \n",
        "3. Fare is another continuous value that should be simplified. I ran `data_train.Fare.describe()` to get the distribution of the feature, then placed them into quartile bins accordingly. \n",
        "4. Extract information from the 'Name' feature. Rather than use the full name, I extracted the last name and name prefix (Mr. Mrs. Etc.), then appended them as their own features. \n",
        "5. Lastly, drop useless features. (Ticket and Name)"
      ]
    },
    {
      "cell_type": "code",
      "execution_count": null,
      "metadata": {
        "_cell_guid": "12b953e6-382b-420c-8995-9e224f820de9"
      },
      "outputs": [],
      "source": [
        "def simplify_ages(df):\n",
        "    df.Age = df.Age.fillna(-0.5)\n",
        "    bins = (-1, 0, 5, 12, 18, 25, 35, 60, 120)\n",
        "    group_names = ['Unknown', 'Baby', 'Child', 'Teenager', 'Student', 'Young Adult', 'Adult', 'Senior']\n",
        "    categories = pd.cut(df.Age, bins, labels=group_names)\n",
        "    df.Age = categories\n",
        "    return df\n",
        "\n",
        "def simplify_cabins(df):\n",
        "    df.Cabin = df.Cabin.fillna('N')\n",
        "    df.Cabin = df.Cabin.apply(lambda x: x[0])\n",
        "    return df\n",
        "\n",
        "def simplify_fares(df):\n",
        "    df.Fare = df.Fare.fillna(-0.5)\n",
        "    bins = (-1, 0, 8, 15, 31, 1000)\n",
        "    group_names = ['Unknown', '1_quartile', '2_quartile', '3_quartile', '4_quartile']\n",
        "    categories = pd.cut(df.Fare, bins, labels=group_names)\n",
        "    df.Fare = categories\n",
        "    return df\n",
        "\n",
        "def format_name(df):\n",
        "    df['Lname'] = df.Name.apply(lambda x: x.split(' ')[0])\n",
        "    df['NamePrefix'] = df.Name.apply(lambda x: x.split(' ')[1])\n",
        "    return df    \n",
        "    \n",
        "def drop_features(df):\n",
        "    return df.drop(['Ticket', 'Name', 'Embarked'], axis=1)\n",
        "\n",
        "def transform_features(df):\n",
        "    df = simplify_ages(df)\n",
        "    df = simplify_cabins(df)\n",
        "    df = simplify_fares(df)\n",
        "    df = format_name(df)\n",
        "    df = drop_features(df)\n",
        "    return df\n",
        "\n",
        "data_train = transform_features(data_train)\n",
        "data_test = transform_features(data_test)\n",
        "data_train.head()"
      ]
    },
    {
      "cell_type": "code",
      "execution_count": null,
      "metadata": {
        "_cell_guid": "63078b78-9056-4d90-b888-79dd9cfceb54"
      },
      "outputs": [],
      "source": [
        ""
      ]
    },
    {
      "cell_type": "code",
      "execution_count": null,
      "metadata": {
        "_cell_guid": "66e9c2ca-8b52-4b1a-8016-d2b92df5f278"
      },
      "outputs": [],
      "source": [
        "sns.barplot(x=\"Age\", y=\"Survived\", hue=\"Sex\", data=data_train);"
      ]
    },
    {
      "cell_type": "code",
      "execution_count": null,
      "metadata": {
        "_cell_guid": "eea3bb0d-dbef-433e-ba3e-8355b389415e"
      },
      "outputs": [],
      "source": [
        "sns.barplot(x=\"Cabin\", y=\"Survived\", hue=\"Sex\", data=data_train);"
      ]
    },
    {
      "cell_type": "code",
      "execution_count": null,
      "metadata": {
        "_cell_guid": "359418d9-4cfa-457e-a819-15fdecdb367a"
      },
      "outputs": [],
      "source": [
        "sns.barplot(x=\"Fare\", y=\"Survived\", hue=\"Sex\", data=data_train);"
      ]
    },
    {
      "cell_type": "markdown",
      "metadata": {
        "_cell_guid": "b409a406-c6d1-4c19-aacf-d87ab3d0a58f"
      },
      "source": [
        "## Some Final Encoding\n",
        "\n",
        "The last part of the preprocessing phase is to normalize labels. The LabelEncoder in Scikit-learn will convert each unique string value into a number, making out data more flexible for various algorithms. \n",
        "\n",
        "The result is a table of numbers that looks scary to humans, but beautiful to machines. "
      ]
    },
    {
      "cell_type": "code",
      "execution_count": null,
      "metadata": {
        "_cell_guid": "a45e7368-cea1-4fb9-bbe1-c51d07baa690"
      },
      "outputs": [],
      "source": [
        "from sklearn import preprocessing\n",
        "def encode_features(df_train, df_test):\n",
        "    features = ['Fare', 'Cabin', 'Age', 'Sex', 'Lname', 'NamePrefix']\n",
        "    df_combined = pd.concat([df_train[features], df_test[features]])\n",
        "    \n",
        "    for feature in features:\n",
        "        le = preprocessing.LabelEncoder()\n",
        "        le = le.fit(df_combined[feature])\n",
        "        df_train[feature] = le.transform(df_train[feature])\n",
        "        df_test[feature] = le.transform(df_test[feature])\n",
        "    return df_train, df_test\n",
        "    \n",
        "data_train, data_test = encode_features(data_train, data_test)\n",
        "data_train.head()"
      ]
    },
    {
      "cell_type": "markdown",
      "metadata": {
        "_cell_guid": "91d8c949-202a-4038-ab18-5e79e15d46e7"
      },
      "source": [
        "## Splitting up the Training Data\n",
        "\n",
        "Now its time for some Machine Learning. \n",
        "\n",
        "First, separate the features(X) from the labels(y). \n",
        "\n",
        "**X_all:** All features minus the value we want to predict (Survived).\n",
        "\n",
        "**y_all:** Only the value we want to predict. \n",
        "\n",
        "Second, use Scikit-learn to randomly shuffle this data into four variables. In this case, I'm training 80% of the data, then testing against the other 20%.  \n",
        "\n",
        "Later, this data will be reorganized into a KFold pattern to validate the effectiveness of a trained algorithm. "
      ]
    },
    {
      "cell_type": "code",
      "execution_count": null,
      "metadata": {
        "_cell_guid": "88e36b16-0dd5-459d-a8cf-02397bd71e40"
      },
      "outputs": [],
      "source": [
        "from sklearn.model_selection import train_test_split\n",
        "\n",
        "X_all = data_train.drop(['Survived', 'PassengerId'], axis=1)\n",
        "y_all = data_train['Survived']\n",
        "\n",
        "num_test = 0.20\n",
        "X_train, X_test, y_train, y_test = train_test_split(X_all, y_all, test_size=num_test, random_state=23)"
      ]
    },
    {
      "cell_type": "markdown",
      "metadata": {
        "_cell_guid": "97aa37e7-a46f-45b0-a2ce-e63dc82880bf"
      },
      "source": [
        "## Fitting and Tuning an Algorithm\n",
        "\n",
        "Now it's time to figure out which algorithm is going to deliver the best model. I'm going with the RandomForestClassifier, but you can drop any other classifier here, such as Support Vector Machines or Naive Bayes. "
      ]
    },
    {
      "cell_type": "code",
      "execution_count": null,
      "metadata": {
        "_cell_guid": "03da3053-cfa0-4cf6-ad46-c22637fca8ba"
      },
      "outputs": [],
      "source": [
        "from sklearn.ensemble import RandomForestClassifier\n",
        "from sklearn.metrics import make_scorer, accuracy_score\n",
        "from sklearn.model_selection import GridSearchCV\n",
        "\n",
        "# Choose the type of classifier. \n",
        "clf = RandomForestClassifier()\n",
        "\n",
        "# Choose some parameter combinations to try\n",
        "parameters = {'n_estimators': [4, 6, 9], \n",
        "              'max_features': ['log2', 'sqrt','auto'], \n",
        "              'criterion': ['entropy', 'gini'],\n",
        "              'max_depth': [2, 3, 5, 10], \n",
        "              'min_samples_split': [2, 3, 5],\n",
        "              'min_samples_leaf': [1,5,8]\n",
        "             }\n",
        "\n",
        "# Type of scoring used to compare parameter combinations\n",
        "acc_scorer = make_scorer(accuracy_score)\n",
        "\n",
        "# Run the grid search\n",
        "grid_obj = GridSearchCV(clf, parameters, scoring=acc_scorer)\n",
        "grid_obj = grid_obj.fit(X_train, y_train)\n",
        "\n",
        "# Set the clf to the best combination of parameters\n",
        "clf = grid_obj.best_estimator_\n",
        "\n",
        "# Fit the best algorithm to the data. \n",
        "clf.fit(X_train, y_train)\n",
        "\n"
      ]
    },
    {
      "cell_type": "code",
      "execution_count": null,
      "metadata": {
        "_cell_guid": "ccf266dc-985e-4199-8031-bcadc94482ee"
      },
      "outputs": [],
      "source": [
        "predictions = clf.predict(X_test)\n",
        "print(accuracy_score(y_test, predictions))"
      ]
    },
    {
      "cell_type": "markdown",
      "metadata": {
        "_cell_guid": "baa24c45-7180-4806-ba4f-dcaa5bbe4316"
      },
      "source": [
        "## Validate with KFold\n",
        "\n",
        "Is this model actually any good? It helps to verify the effectiveness of the algorithm using KFold. This will split our data into 10 buckets, then run the algorithm using a different bucket as the test set for each iteration. "
      ]
    },
    {
      "cell_type": "code",
      "execution_count": null,
      "metadata": {
        "_cell_guid": "b70618a6-b500-45c3-9b8b-83e184d6dab4"
      },
      "outputs": [],
      "source": [
        "from sklearn.cross_validation import KFold\n",
        "\n",
        "def run_kfold(clf):\n",
        "    kf = KFold(891, n_folds=10)\n",
        "    outcomes = []\n",
        "    fold = 0\n",
        "    for train_index, test_index in kf:\n",
        "        fold += 1\n",
        "        X_train, X_test = X_all.values[train_index], X_all.values[test_index]\n",
        "        y_train, y_test = y_all.values[train_index], y_all.values[test_index]\n",
        "        clf.fit(X_train, y_train)\n",
        "        predictions = clf.predict(X_test)\n",
        "        accuracy = accuracy_score(y_test, predictions)\n",
        "        outcomes.append(accuracy)\n",
        "        print(\"Fold {0} accuracy: {1}\".format(fold, accuracy))     \n",
        "    mean_outcome = np.mean(outcomes)\n",
        "    print(\"Mean Accuracy: {0}\".format(mean_outcome)) \n",
        "\n",
        "run_kfold(clf)\n"
      ]
    },
    {
      "cell_type": "markdown",
      "metadata": {
        "_cell_guid": "ae7f7b7a-c9db-44d9-be7c-d499521c5d11"
      },
      "source": [
        "## Predict the Actual Test Data\n",
        "\n",
        "And now for the moment of truth. Make the predictions, export the CSV file, and upload them to Kaggle."
      ]
    },
    {
      "cell_type": "code",
      "execution_count": null,
      "metadata": {
        "_cell_guid": "605b01bc-5aec-4c15-a63e-6bdf3fbd4855"
      },
      "outputs": [],
      "source": [
        "ids = data_test['PassengerId']\n",
        "predictions = clf.predict(data_test.drop('PassengerId', axis=1))\n",
        "\n",
        "\n",
        "output = pd.DataFrame({ 'PassengerId' : ids, 'Survived': predictions })\n",
        "# output.to_csv('titanic-predictions.csv', index = False)\n",
        "output.head()"
      ]
    }
  ],
  "metadata": {
    "_change_revision": 0,
    "_is_fork": false,
    "kernelspec": {
      "display_name": "Python 3",
      "language": "python",
      "name": "python3"
    },
    "language_info": {
      "codemirror_mode": {
        "name": "ipython",
        "version": 3
      },
      "file_extension": ".py",
      "mimetype": "text/x-python",
      "name": "python",
      "nbconvert_exporter": "python",
      "pygments_lexer": "ipython3",
      "version": "3.6.0"
    }
  },
  "nbformat": 4,
  "nbformat_minor": 0
}