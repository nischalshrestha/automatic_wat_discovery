{
  "cells": [
    {
      "cell_type": "markdown",
      "metadata": {
        "_cell_guid": "be511c08-b43d-7734-45d6-59a13f1465ae"
      },
      "source": [
        "\u200b"
      ]
    },
    {
      "cell_type": "code",
      "execution_count": null,
      "metadata": {
        "_cell_guid": "7bb88ae3-4aa9-0133-488b-9018dddec114"
      },
      "outputs": [],
      "source": [
        "\n",
        "import numpy as np # linear algebra\n",
        "import pandas as pd # data processing, CSV file I/O (e.g. pd.read_csv)\n",
        "import seaborn as sns\n",
        "import scipy\n",
        "from scipy import stats\n",
        "\n",
        "# Input data files are available in the \"../input/\" directory.\n",
        "# For example, running this (by clicking run or pressing Shift+Enter) will list the files in the input directory\n",
        "\n",
        "from subprocess import check_output\n",
        "print(check_output([\"ls\", \"../input\"]).decode(\"utf8\"))\n",
        "filename = \"../input/train.csv\"\n",
        "data = pd.read_csv(filename)\n",
        "data = data.drop(['PassengerId','Name','Ticket'], axis=1)\n",
        "\n",
        "# Any results you write to the current directory are saved as output.\n",
        "sns.barplot(x='Sex', y='Survived', data=data)"
      ]
    },
    {
      "cell_type": "code",
      "execution_count": null,
      "metadata": {
        "_cell_guid": "adc412be-6cae-1556-4b66-aed07acb5355"
      },
      "outputs": [],
      "source": [
        "sns.distplot(data['Age'].dropna().astype(int), bins = 20, norm_hist = False, kde = False)\n",
        "survival = data[(data['Survived'] > 0)]"
      ]
    },
    {
      "cell_type": "code",
      "execution_count": null,
      "metadata": {
        "_cell_guid": "302186c6-9739-76f9-d664-ec08ee07626b"
      },
      "outputs": [],
      "source": [
        "sns.distplot(data['Age'].dropna().astype(int), bins = 20, norm_hist = False, hist = False)\n",
        "sns.distplot(survival['Age'].dropna().astype(int), bins = 20, norm_hist = False, color = 'g', hist = False)\n",
        "scipy.stats.ks_2samp(data['Age'].dropna().astype(int), survival['Age'].dropna().astype(int))"
      ]
    },
    {
      "cell_type": "code",
      "execution_count": null,
      "metadata": {
        "_cell_guid": "2e605aac-268a-9d94-836c-c93ec832b9bb"
      },
      "outputs": [],
      "source": [
        "#sns.countplot(x = 'SibSp', hue = 'Survived', data = data)\n",
        "#sns.distplot(data['SibSp'].dropna(), kde = False)\n",
        "#sns.distplot(survival['SibSp'].dropna(), bins = 20, kde = False, color = 'g')\n",
        "SibSp = []\n",
        "Survived = []\n",
        "for sib in range(0, data[\"SibSp\"].max(skipna = True)):\n",
        "    cnt = 0 \n",
        "    for i in range(0, data['SibSp'].size):\n",
        "            if (data.at[i, 'SibSp'] == sib and data.at[i, 'Survived'] == 1 ):\n",
        "                cnt = cnt + 1\n",
        "    rate = cnt / data['SibSp'].size\n",
        "    SibSp.append(sib)\n",
        "    Survived.append(rate)\n",
        "sns.jointplot(SibSp, Survived)\n",
        "\n",
        "    \n",
        "\n"
      ]
    },
    {
      "cell_type": "code",
      "execution_count": null,
      "metadata": {
        "_cell_guid": "f3524e67-584b-c1e5-1349-fc39f7099ce5"
      },
      "outputs": [],
      "source": [
        "\n"
      ]
    },
    {
      "cell_type": "code",
      "execution_count": null,
      "metadata": {
        "_cell_guid": "81e5b9cf-d490-2910-870f-f372b60894cc"
      },
      "outputs": [],
      "source": ""
    },
    {
      "cell_type": "code",
      "execution_count": null,
      "metadata": {
        "_cell_guid": "4553e4c5-422a-9569-9d2b-b7c599740c3c"
      },
      "outputs": [],
      "source": ""
    }
  ],
  "metadata": {
    "_change_revision": 0,
    "_is_fork": false,
    "kernelspec": {
      "display_name": "Python 3",
      "language": "python",
      "name": "python3"
    },
    "language_info": {
      "codemirror_mode": {
        "name": "ipython",
        "version": 3
      },
      "file_extension": ".py",
      "mimetype": "text/x-python",
      "name": "python",
      "nbconvert_exporter": "python",
      "pygments_lexer": "ipython3",
      "version": "3.5.2"
    }
  },
  "nbformat": 4,
  "nbformat_minor": 0
}