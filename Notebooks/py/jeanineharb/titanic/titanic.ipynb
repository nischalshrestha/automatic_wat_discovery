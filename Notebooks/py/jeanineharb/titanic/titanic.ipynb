{
  "cells": [
    {
      "cell_type": "code",
      "execution_count": null,
      "metadata": {
        "_cell_guid": "73201d89-8715-de6f-d138-e59c7e950033"
      },
      "outputs": [],
      "source": [
        "# This Python 3 environment comes with many helpful analytics libraries installed\n",
        "# It is defined by the kaggle/python docker image: https://github.com/kaggle/docker-python\n",
        "# For example, here's several helpful packages to load in \n",
        "\n",
        "import numpy as np # linear algebra\n",
        "import pandas as pd # data processing, CSV file I/O (e.g. pd.read_csv)\n",
        "\n",
        "# Input data files are available in the \"../input/\" directory.\n",
        "# For example, running this (by clicking run or pressing Shift+Enter) will list the files in the input directory\n",
        "\n",
        "# from subprocess import check_output\n",
        "# print(check_output([\"ls\", \"../input\"]).decode(\"utf8\"))\n",
        "\n",
        "df = pd.read_csv('../input/train.csv')"
      ]
    },
    {
      "cell_type": "code",
      "execution_count": null,
      "metadata": {
        "_cell_guid": "11fb6822-ce2d-d409-3a9e-b1e4dee6e5f9"
      },
      "outputs": [],
      "source": [
        "df = df.drop(['Name', 'Ticket', 'Cabin'], axis=1)\n",
        "df.info()"
      ]
    },
    {
      "cell_type": "code",
      "execution_count": null,
      "metadata": {
        "_cell_guid": "76b4270c-0a78-734c-1263-3b87ba0bc8dd"
      },
      "outputs": [],
      "source": [
        "age_mean = df['Age'].mean()\n",
        "df['Age'] = df['Age'].fillna(age_mean)"
      ]
    },
    {
      "cell_type": "code",
      "execution_count": null,
      "metadata": {
        "_cell_guid": "b74963f5-48ff-fb9e-ccd2-b96ae719310c"
      },
      "outputs": [],
      "source": [
        "from scipy.stats import mode\n",
        "\n",
        "mode_embarked = df.Embarked.dropna().mode()[0]\n",
        "print(mode_embarked)\n",
        "df.Embarked = df.Embarked.fillna(mode_embarked)"
      ]
    },
    {
      "cell_type": "code",
      "execution_count": null,
      "metadata": {
        "_cell_guid": "991a73eb-b03a-baea-0d9e-417530f3e656"
      },
      "outputs": [],
      "source": [
        "df['Gender'] = df['Sex'].map({'female': 0, 'male':1}).astype(int)\n",
        "df['Port'] = df.Embarked.map({'C':1, 'S':2, 'Q':3}).astype(int)\n",
        "\n",
        "df = df.drop(['Sex', 'Embarked'], axis=1)\n",
        "\n",
        "cols = df.columns.tolist()\n",
        "cols = [cols[1]] + cols[0:1] + cols[2:]\n",
        "df = df[cols]"
      ]
    },
    {
      "cell_type": "code",
      "execution_count": null,
      "metadata": {
        "_cell_guid": "c4adf38e-69da-efda-e414-8c8177add28f"
      },
      "outputs": [],
      "source": [
        "df.info()\n",
        "df.head(10)"
      ]
    },
    {
      "cell_type": "code",
      "execution_count": null,
      "metadata": {
        "_cell_guid": "f01ed833-1cc3-1149-de58-dfeac6543f89"
      },
      "outputs": [],
      "source": [
        "train_data = df.values"
      ]
    },
    {
      "cell_type": "code",
      "execution_count": null,
      "metadata": {
        "_cell_guid": "3f0dbf47-45f0-a515-bb90-6b59fbddd9fa"
      },
      "outputs": [],
      "source": [
        "from sklearn.ensemble import RandomForestClassifier\n",
        "\n",
        "model = RandomForestClassifier(n_estimators = 100, max_features=0.5, max_depth=5.0, \n",
        "                               random_state=0, criterion='entropy')\n",
        "model = model.fit(train_data[0:,2:], train_data[0:,0])"
      ]
    },
    {
      "cell_type": "code",
      "execution_count": null,
      "metadata": {
        "_cell_guid": "c31c86dd-2465-beee-06b5-e35ff9982b64"
      },
      "outputs": [],
      "source": [
        "df_test = pd.read_csv('../input/test.csv')\n",
        "\n",
        "df_test = df_test.drop(['Name', 'Ticket', 'Cabin'], axis=1)\n",
        "\n",
        "df_test['Age'] = df_test['Age'].fillna(age_mean)\n",
        "\n",
        "fare_means = df.pivot_table('Fare', index='Pclass', aggfunc='mean')\n",
        "df_test['Fare'] = df_test[['Fare', 'Pclass']].apply(lambda x:\n",
        "                            fare_means[x['Pclass']] if pd.isnull(x['Fare'])\n",
        "                            else x['Fare'], axis=1)\n",
        "\n",
        "df_test['Gender'] = df_test['Sex'].map({'female': 0, 'male': 1}).astype(int)\n",
        "df_test['Port'] = df_test['Embarked'].map({'C':1, 'S':2, 'Q':3})\n",
        "\n",
        "df_test = df_test.drop(['Sex', 'Embarked'], axis=1)\n",
        "\n",
        "test_data = df_test.values\n",
        "\n",
        "output = model.predict(test_data[:,1:])"
      ]
    },
    {
      "cell_type": "code",
      "execution_count": null,
      "metadata": {
        "_cell_guid": "beb9602b-fc97-e5be-d660-7d00703f2b35"
      },
      "outputs": [],
      "source": [
        "result = np.c_[test_data[:,0].astype(int), output.astype(int)]\n",
        "df_result = pd.DataFrame(result[:,0:2], columns=['PassengerId', 'Survived'])\n",
        "\n",
        "df_result.to_csv('../working/titanic_1-2.csv', index=False)"
      ]
    },
    {
      "cell_type": "code",
      "execution_count": null,
      "metadata": {
        "_cell_guid": "00e1cf20-67f3-ca6d-d5a8-f6c1f49f437e"
      },
      "outputs": [],
      "source": [
        "df_result.shape"
      ]
    },
    {
      "cell_type": "code",
      "execution_count": null,
      "metadata": {
        "_cell_guid": "1cbd4e80-740a-d9d5-1d81-63fbffcb7f0c"
      },
      "outputs": [],
      "source": [
        ""
      ]
    }
  ],
  "metadata": {
    "_change_revision": 0,
    "_is_fork": false,
    "kernelspec": {
      "display_name": "Python 3",
      "language": "python",
      "name": "python3"
    },
    "language_info": {
      "codemirror_mode": {
        "name": "ipython",
        "version": 3
      },
      "file_extension": ".py",
      "mimetype": "text/x-python",
      "name": "python",
      "nbconvert_exporter": "python",
      "pygments_lexer": "ipython3",
      "version": "3.5.2"
    }
  },
  "nbformat": 4,
  "nbformat_minor": 0
}