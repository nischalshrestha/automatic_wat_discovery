{
  "cells": [
    {
      "cell_type": "markdown",
      "metadata": {
        "_cell_guid": "55767280-d0fa-441f-d869-c904e89bd350"
      },
      "source": [
        "Following Tutorial"
      ]
    },
    {
      "cell_type": "code",
      "execution_count": null,
      "metadata": {
        "_cell_guid": "a092d068-513e-2211-6c9c-927f5e344e05"
      },
      "outputs": [],
      "source": [
        "# This Python 3 environment comes with many helpful analytics libraries installed\n",
        "# It is defined by the kaggle/python docker image: https://github.com/kaggle/docker-python\n",
        "# For example, here's several helpful packages to load in \n",
        "\n",
        "import numpy as np # linear algebra\n",
        "import pandas as pd # data processing, CSV file I/O (e.g. pd.read_csv)\n",
        "import matplotlib.pyplot as plt\n",
        "import seaborn as sns\n",
        "\n",
        "sns.set_style('whitegrid')\n",
        "%matplotlib inline\n",
        "# Input data files are available in the \"../input/\" directory.\n",
        "# For example, running this (by clicking run or pressing Shift+Enter) will list the files in the input directory\n",
        "\n",
        "from subprocess import check_output\n",
        "print(check_output([\"ls\", \"../input\"]).decode(\"utf8\"))\n",
        "\n",
        "train = pd.read_csv(\"../input/train.csv\", dtype={\"Age\": np.float64}, )\n",
        "test = pd.read_csv(\"../input/test.csv\", dtype = {\"Age\": np.float64}, )\n",
        "\n",
        "train.head()\n",
        "\n",
        "#print(\"\\n\\nSummary statistics of training data\")\n",
        "#print(train.describe())\n",
        "\n",
        "# Any results you write to the current directory are saved as output."
      ]
    },
    {
      "cell_type": "code",
      "execution_count": null,
      "metadata": {
        "_cell_guid": "07aebd94-a1f0-eb1e-1008-58531169ea0e"
      },
      "outputs": [],
      "source": [
        "train.info()\n",
        "print(\"-------------------------------\")\n",
        "test.info()"
      ]
    },
    {
      "cell_type": "code",
      "execution_count": null,
      "metadata": {
        "_cell_guid": "c725ee3d-4cb5-80b3-d3c5-1beac95f9b07"
      },
      "outputs": [],
      "source": [
        "#Drop Unnecessary columns\n",
        "train = train.drop([\"PassengerId\", \"Name\", \"Ticket\"], axis=1)\n",
        "test = test.drop([\"Name\", \"Ticket\"], axis=1)\n",
        "\n",
        "train.Embarked = train.Embarked.fillna(train.Embarked.mode()[0])\n",
        "train.Embarked.describe()\n",
        "train.Embarked.isnull().sum()"
      ]
    },
    {
      "cell_type": "code",
      "execution_count": null,
      "metadata": {
        "_cell_guid": "5e10228d-f60e-8a36-8315-8fae84bec738"
      },
      "outputs": [],
      "source": [
        "#Plotting Survival rate based on Embarked status\n",
        "sns.factorplot('Embarked', 'Survived', data = train, size = 4, aspect = 1, kind=\"point\") "
      ]
    },
    {
      "cell_type": "code",
      "execution_count": null,
      "metadata": {
        "_cell_guid": "0e5aee34-fa5c-3aac-4233-8b58635eeeb6"
      },
      "outputs": [],
      "source": [
        "fig, (axis1, axis2, axis3) = plt.subplots(1,3, figsize=(10,5))\n",
        "sns.countplot(x=\"Embarked\", data=train, ax=axis1)\n",
        "sns.countplot(x=\"Survived\", hue=\"Embarked\", data=train, order=[1,0],ax=axis2)\n",
        "embarked_avg = train[[\"Embarked\", \"Survived\"]].groupby(\"Embarked\", as_index=False).mean()\n",
        "sns.barplot(x=\"Embarked\", y=\"Survived\", data=embarked_avg, ax=axis3)"
      ]
    },
    {
      "cell_type": "code",
      "execution_count": null,
      "metadata": {
        "_cell_guid": "adc0cc29-64da-40e9-0b63-3ffc2b399c76"
      },
      "outputs": [],
      "source": [
        "#Create dummy variables from Embarked\n",
        "\n",
        "train_embarked_dummies = pd.get_dummies(train.Embarked)\n",
        "test_embarked_dummies = pd.get_dummies(test.Embarked)\n",
        "\n",
        "#Join dummy variables to test set and remove Embarked\n",
        "train = train.join(train_embarked_dummies)\n",
        "test = test.join(test_embarked_dummies)\n",
        "\n",
        "train = train.drop(\"Embarked\", axis=1)\n",
        "test = test.drop(\"Embarked\", axis=1)"
      ]
    },
    {
      "cell_type": "code",
      "execution_count": null,
      "metadata": {
        "_cell_guid": "971734c3-da55-cfe5-9b93-265772e41dc0"
      },
      "outputs": [],
      "source": [
        "#Fare value missing in test set\n",
        "test[\"Fare\"] = test.Fare.fillna(test.Fare.median())\n",
        "\n",
        "survived_fare = train[\"Fare\"][train.Survived == 1]\n",
        "not_survived_fare = train[\"Fare\"][train.Survived == 0]\n",
        "\n",
        "fare_mean = pd.DataFrame([not_survived_fare.mean(), survived_fare.mean()])\n",
        "fare_std = pd.DataFrame([not_survived_fare.std(), survived_fare.std()])\n",
        "\n",
        "fare_mean.index.name = \"Survived\"\n",
        "fare_mean.plot(yerr = fare_std, kind=\"bar\", legend=False)\n",
        "\n",
        "plt.figure()\n",
        "train.Fare.plot(kind=\"hist\",bins=100,xlim=(0,50))"
      ]
    },
    {
      "cell_type": "code",
      "execution_count": null,
      "metadata": {
        "_cell_guid": "d88d2618-cc54-0056-edd8-3761dcf36d4d"
      },
      "outputs": [],
      "source": [
        "#Age\n",
        "age_mean_train = train.Age.mean()\n",
        "age_std_train = train.Age.std()\n",
        "age_na_train = train.Age.isnull().sum()\n",
        "print([age_mean_train, age_std_train, age_na_train])\n",
        "\n",
        "age_mean_test = test.Age.mean()\n",
        "age_std_test = test.Age.std()\n",
        "age_na_test = test.Age.isnull().sum()\n",
        "print([age_mean_test, age_std_test, age_na_test])\n",
        "\n",
        "rand_age_train = np.random.randint(age_mean_train - age_std_train, age_mean_train + age_std_train, size = age_na_train)\n",
        "rand_age_test = np.random.randint(age_mean_test - age_std_test, age_mean_test + age_std_test, size = age_na_test)\n",
        "\n",
        "fig, (axis1, axis2) = plt.subplots(1, 2, figsize=(10,5) ) \n",
        "#Plot old age values\n",
        "train.Age.dropna().astype(int).hist(bins=70,ax=axis1)\n",
        "\n",
        "#Replace NaN values with RNG values\n",
        "train[\"Age\"][np.isnan(train[\"Age\"])] = rand_age_train\n",
        "test[\"Age\"][np.isnan(test[\"Age\"])] = rand_age_test\n",
        "\n",
        "#Convert\n",
        "train.Age = train.Age.astype(int)\n",
        "test.Age = test.Age.astype(int)\n",
        "\n",
        "train.Age.hist(bins=70,ax=axis2)"
      ]
    },
    {
      "cell_type": "code",
      "execution_count": null,
      "metadata": {
        "_cell_guid": "41f7fcc9-587b-dcc6-923c-67a508a4f8fa"
      },
      "outputs": [],
      "source": [
        "# peaks for survived/not survived passengers by their age\n",
        "facet = sns.FacetGrid(train, hue=\"Survived\",aspect=4)\n",
        "facet.map(sns.kdeplot,'Age',shade= True)\n",
        "facet.set(xlim=(0, train['Age'].max()))\n",
        "facet.add_legend()\n",
        "\n",
        "plt.figure(figsize=(15,4))\n",
        "survival_age = train[[\"Age\", \"Survived\"]].groupby(\"Age\",as_index=False).mean()\n",
        "sns.pointplot(x=\"Age\", y=\"Survived\", data=survival_age)"
      ]
    },
    {
      "cell_type": "code",
      "execution_count": null,
      "metadata": {
        "_cell_guid": "0762fb89-f4ac-4e9e-9a12-7e8783da13ab"
      },
      "outputs": [],
      "source": [
        "#Drop Cabin because there are too many NaN values to define a proper impact\n",
        "train = train.drop(\"Cabin\", axis=1)\n",
        "test = test.drop(\"Cabin\", axis=1)"
      ]
    },
    {
      "cell_type": "code",
      "execution_count": null,
      "metadata": {
        "_cell_guid": "ddb254b2-e115-c1e0-37a2-9c9272e8c03c"
      },
      "outputs": [],
      "source": [
        "#Family\n",
        "\n",
        "# Instead of having separate variables indicating Parch and SibSp,\n",
        "# we can combine the two to see the total family members onboard\n",
        "\n",
        "train[\"Family\"] = train.Parch + train.SibSp\n",
        "test[\"Family\"] = test.Parch + test.SibSp\n",
        "train.info()\n",
        "\n",
        "train[\"Family_flag\"] =0\n",
        "train[\"Family_flag\"].loc[train[\"Family\"] > 0] = 1\n",
        "train[\"Family_flag\"].loc[train[\"Family\"] == 0] = 0\n",
        "\n",
        "test[\"Family_flag\"] = 0\n",
        "test[\"Family_flag\"].loc[test[\"Family\"] > 0] = 1\n",
        "test[\"Family_flag\"].loc[test[\"Family\"] == 0] = 0\n",
        "\n",
        "family_survival = train[[\"Family_flag\", \"Survived\"]].groupby(\"Family_flag\",as_index=False).mean()\n",
        "\n",
        "fig, (axis1, axis2) = plt.subplots(1,2, figsize=(10,5))\n",
        "sns.barplot(x=\"Family_flag\", y = \"Survived\", order=[1,0],data=family_survival,ax=axis1)\n",
        "axis1.set_xticklabels([\"With Family\", \"Alone\"])\n",
        "\n",
        "sns.countplot(x=\"Family_flag\", order=[1,0], data=train, ax=axis2)\n",
        "\n",
        "train = train.drop([\"Parch\", \"SibSp\"], axis=1)\n",
        "test = test.drop([\"Parch\", \"SibSp\"], axis=1)"
      ]
    },
    {
      "cell_type": "code",
      "execution_count": null,
      "metadata": {
        "_cell_guid": "9799cc21-7bab-358f-07cf-2de71a890806"
      },
      "outputs": [],
      "source": [
        "train[\"Sex\"].unique()\n",
        "sex_flag = {\"male\" : 0, \"female\" : 1}\n",
        "train[\"Sex\"] = train[\"Sex\"].map(sex_flag)\n",
        "test[\"Sex\"] = test[\"Sex\"].map(sex_flag)"
      ]
    },
    {
      "cell_type": "code",
      "execution_count": null,
      "metadata": {
        "_cell_guid": "4e83e2ab-abec-ab2b-4a84-0be3a5869713"
      },
      "outputs": [],
      "source": [
        "sex_survival = train[[\"Sex\",\"Survived\"]].groupby(\"Sex\",as_index=False).mean()\n",
        "ax = sns.barplot(x=\"Sex\", y=\"Survived\",data=sex_survival,order=[0,1])\n",
        "ax.set(xticklabels=[\"Male\",\"Female\"])"
      ]
    },
    {
      "cell_type": "code",
      "execution_count": null,
      "metadata": {
        "_cell_guid": "6cb15be7-4957-6629-ea3b-5507ab25a559"
      },
      "outputs": [],
      "source": [
        "class_survival = train[[\"Pclass\", \"Survived\"]].groupby(\"Pclass\", as_index=False).mean()\n",
        "\n",
        "sns.barplot(x=\"Pclass\", y=\"Survived\", data=class_survival, order=[1,2,3])"
      ]
    },
    {
      "cell_type": "code",
      "execution_count": null,
      "metadata": {
        "_cell_guid": "20dfc473-c0a4-db17-8818-59f47eccd7e4"
      },
      "outputs": [],
      "source": [
        "train.info()\n",
        "test.info()"
      ]
    },
    {
      "cell_type": "code",
      "execution_count": null,
      "metadata": {
        "_cell_guid": "4a05cf55-9045-e680-9c8a-e51a25759fdc"
      },
      "outputs": [],
      "source": [
        "from sklearn import model_selection as ms\n",
        "\n",
        "X = train.drop([\"Survived\", \"Family_flag\"], axis=1)\n",
        "Y = train.Survived\n",
        "X_test = test.drop([\"PassengerId\",\"Family_flag\"],axis=1)\n",
        "X_train, X_cv, Y_train, Y_cv = ms.train_test_split(X, Y, test_size=0.25)\n",
        "                                                \n",
        "#print(X_train); print(Y_train.shape)"
      ]
    },
    {
      "cell_type": "code",
      "execution_count": null,
      "metadata": {
        "_cell_guid": "8366bd79-6480-371a-aff3-72a7622f6021"
      },
      "outputs": [],
      "source": [
        "from sklearn import linear_model as lm\n",
        "\n",
        "X_train, X_cv, Y_train, Y_cv = ms.train_test_split(X, Y, test_size=0.25)\n",
        "\n",
        "logreg = lm.LogisticRegression(C=1,penalty='l1')\n",
        "logreg = logreg.fit(X_train, Y_train)\n",
        "\n",
        "Y_pred = logreg.predict(X_test)\n",
        "\n",
        "print(\"Log Reg\")\n",
        "print(logreg.score(X_train,Y_train))\n",
        "print(logreg.score(X_cv,Y_cv))\n",
        "\n",
        "from sklearn.ensemble import RandomForestClassifier\n",
        "\n",
        "rf = RandomForestClassifier (min_samples_split=30, n_estimators=100)\n",
        "rf = rf.fit(X_train,Y_train)\n",
        "\n",
        "print(\"Random Forest\")\n",
        "print(rf.score(X_train,Y_train))\n",
        "print(rf.score(X_cv,Y_cv))\n",
        "\n",
        "coeff_df = pd.DataFrame(X_train.columns)\n",
        "coeff_df.columns = [\"Features\"]\n",
        "coeff_df[\"Logistic\"] = logreg.coef_[0]\n",
        "coeff_df[\"Forest\"] = rf.feature_importances_\n",
        "\n",
        "print(coeff_df)"
      ]
    },
    {
      "cell_type": "code",
      "execution_count": null,
      "metadata": {
        "_cell_guid": "1686e4b9-89ae-6396-fd55-9a2bf0f7386f"
      },
      "outputs": [],
      "source": [
        "Y_pred = rf.predict(X_test)\n",
        "submission = pd.DataFrame({\"PassengerId\" : test.PassengerId, \"Survived\" : Y_pred })\n",
        "submission.to_csv(\"titanic_predictions.csv\", index=False)"
      ]
    }
  ],
  "metadata": {
    "_change_revision": 0,
    "_is_fork": false,
    "kernelspec": {
      "display_name": "Python 3",
      "language": "python",
      "name": "python3"
    },
    "language_info": {
      "codemirror_mode": {
        "name": "ipython",
        "version": 3
      },
      "file_extension": ".py",
      "mimetype": "text/x-python",
      "name": "python",
      "nbconvert_exporter": "python",
      "pygments_lexer": "ipython3",
      "version": "3.5.2"
    }
  },
  "nbformat": 4,
  "nbformat_minor": 0
}