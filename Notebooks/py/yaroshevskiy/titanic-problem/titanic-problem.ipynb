{
  "cells": [
    {
      "cell_type": "code",
      "execution_count": null,
      "metadata": {
        "_cell_guid": "bfa0f7b5-b4cb-c076-3e77-3a5eaa4321a3"
      },
      "outputs": [],
      "source": [
        "import numpy as np\n",
        "import pandas as pd\n",
        "import matplotlib.pyplot as plt\n",
        "import seaborn as sns"
      ]
    },
    {
      "cell_type": "code",
      "execution_count": null,
      "metadata": {
        "_cell_guid": "b8a5c538-5f33-b50f-9fc0-87812bc55d10"
      },
      "outputs": [],
      "source": [
        "train_data = pd.read_csv(\"../input/train.csv\")\n",
        "test_data = pd.read_csv(\"../input/test.csv\")"
      ]
    },
    {
      "cell_type": "code",
      "execution_count": null,
      "metadata": {
        "_cell_guid": "61346f2e-a0fd-3c53-1d5e-ba5e6e0fa70c"
      },
      "outputs": [],
      "source": [
        "train_data.head()"
      ]
    },
    {
      "cell_type": "code",
      "execution_count": null,
      "metadata": {
        "_cell_guid": "a30edd89-eaf6-a2aa-c42a-e5695aaca7a0"
      },
      "outputs": [],
      "source": [
        "train_data[\"Cabin\"] = train_data[\"Cabin\"].map(lambda x: 0 if (pd.isnull(x)) else 1)\n",
        "test_data[\"Cabin\"] = test_data[\"Cabin\"].map(lambda x: 0 if (pd.isnull(x)) else 1)"
      ]
    },
    {
      "cell_type": "code",
      "execution_count": null,
      "metadata": {
        "_cell_guid": "123b2b8e-3851-db73-3eb7-ff083c319075"
      },
      "outputs": [],
      "source": [
        "#cabin_dummies_titanic  = pd.get_dummies(train_data['Cabin'], prefix=\"Cab_\")\n",
        "#cabin_dummies_test  = pd.get_dummies(test_data['Cabin'], prefix=\"Cab_\")\n",
        "#train_data = train_data.join(cabin_dummies_titanic)\n",
        "#test_data = test_data.join(cabin_dummies_test)"
      ]
    },
    {
      "cell_type": "code",
      "execution_count": null,
      "metadata": {
        "_cell_guid": "174dd325-3175-1011-752e-77f6dd56fd84"
      },
      "outputs": [],
      "source": [
        "#TITLE\n",
        "\n",
        "train_data[\"Title\"] = train_data[\"Name\"].map(lambda x: x.split()[1].strip('.').strip(','))\n",
        "test_data[\"Title\"] = test_data[\"Name\"].map(lambda x: x.split()[1].strip('.').strip(','))\n",
        "sns.countplot(y='Title', data=train_data, orient=\"v\")"
      ]
    },
    {
      "cell_type": "code",
      "execution_count": null,
      "metadata": {
        "_cell_guid": "b3e81c57-e123-bd54-08f9-be627664efea"
      },
      "outputs": [],
      "source": [
        "def rare_title(x):\n",
        "    if x not in [\"Mr\", \"Mrs\", \"Miss\", \"Master\"]: return \"Rare\"\n",
        "    else: return x\n",
        "        \n",
        "train_data[\"Title\"] = train_data[\"Title\"].apply(rare_title)\n",
        "test_data[\"Title\"] = test_data[\"Title\"].apply(rare_title)"
      ]
    },
    {
      "cell_type": "code",
      "execution_count": null,
      "metadata": {
        "_cell_guid": "85ca1f88-f972-8c8c-522a-76299904d4b6"
      },
      "outputs": [],
      "source": [
        "title_dummies_titanic  = pd.get_dummies(train_data['Title'])\n",
        "title_dummies_test  = pd.get_dummies(test_data['Title'])\n",
        "\n",
        "train_data.drop(\"Title\", axis=1, inplace=True)\n",
        "train_data = train_data.join(title_dummies_titanic)\n",
        "\n",
        "test_data.drop(\"Title\", axis=1, inplace=True)\n",
        "test_data = test_data.join(title_dummies_test)"
      ]
    },
    {
      "cell_type": "code",
      "execution_count": null,
      "metadata": {
        "_cell_guid": "779421c9-8160-c58c-48de-c925f3fb289f"
      },
      "outputs": [],
      "source": [
        "train_data['Age'] = train_data.groupby(['Pclass', 'Sex'])['Age'].transform(lambda x: x.replace(np.nan, x.median()))\n",
        "\n",
        "test_data['Age'] = test_data.groupby(['Pclass', 'Sex'])['Age'].transform(lambda x: x.replace(np.nan, x.median()))"
      ]
    },
    {
      "cell_type": "code",
      "execution_count": null,
      "metadata": {
        "_cell_guid": "1a46a46c-c893-564c-d735-262bd4310e18"
      },
      "outputs": [],
      "source": [
        "#CLASS\n",
        "\n",
        "fig, (axis1,axis2,axis3) = plt.subplots(1,3,figsize=(9,3))\n",
        "sns.countplot(x='Pclass', data=train_data, ax=axis1)\n",
        "sns.countplot(x='Survived', hue=\"Pclass\", data=train_data, order=[1,0], ax=axis2)\n",
        "\n",
        "pclass_perc = train_data[[\"Pclass\", \"Survived\"]].groupby(['Pclass'],as_index=False).mean()\n",
        "sns.barplot(x='Pclass', y='Survived', data=pclass_perc, order=[1,2,3],ax=axis3)"
      ]
    },
    {
      "cell_type": "code",
      "execution_count": null,
      "metadata": {
        "_cell_guid": "3760a6cf-54d5-42da-040e-b8cebadd8ad7"
      },
      "outputs": [],
      "source": [
        "survived_dummies_titanic  = pd.get_dummies(train_data['Pclass'])\n",
        "survived_dummies_titanic.columns = ['Class_1','Class_2','Class_3']\n",
        "\n",
        "survived_dummies_test  = pd.get_dummies(test_data['Pclass'])\n",
        "survived_dummies_test.columns = ['Class_1','Class_2','Class_3']\n",
        "\n",
        "train_data.drop(\"Pclass\", axis=1, inplace=True)\n",
        "train_data = train_data.join(survived_dummies_titanic)\n",
        "\n",
        "test_data.drop(\"Pclass\", axis=1, inplace=True)\n",
        "test_data = test_data.join(survived_dummies_test)"
      ]
    },
    {
      "cell_type": "code",
      "execution_count": null,
      "metadata": {
        "_cell_guid": "f71aed0a-78f2-71fb-4d4d-6706456da793"
      },
      "outputs": [],
      "source": [
        "#SEX\n",
        "\n",
        "sex_dummies_titanic  = pd.get_dummies(train_data['Sex'])\n",
        "sex_dummies_titanic.columns = ['Male','Female']\n",
        "\n",
        "sex_dummies_test  = pd.get_dummies(test_data['Sex'])\n",
        "sex_dummies_test.columns = ['Male','Female']\n",
        "\n",
        "train_data.drop(\"Sex\", axis=1, inplace=True)\n",
        "train_data = train_data.join(sex_dummies_titanic)\n",
        "\n",
        "test_data.drop(\"Sex\", axis=1, inplace=True)\n",
        "test_data = test_data.join(sex_dummies_test)"
      ]
    },
    {
      "cell_type": "code",
      "execution_count": null,
      "metadata": {
        "_cell_guid": "941561b3-4dda-5632-5c30-1bc98024c6cf"
      },
      "outputs": [],
      "source": [
        "#EMBARKED\n",
        "\n",
        "fig, (axis1,axis2,axis3) = plt.subplots(1,3,figsize=(9,3))\n",
        "sns.countplot(x='Embarked', data=train_data, ax=axis1)\n",
        "sns.countplot(x='Survived', hue=\"Embarked\", data=train_data, order=[1,0], ax=axis2)\n",
        "\n",
        "pclass_perc = train_data[[\"Embarked\", \"Survived\"]].groupby(['Embarked'],as_index=False).mean()\n",
        "sns.barplot(x='Embarked', y='Survived', data=pclass_perc, order=['S', 'C', 'Q'],ax=axis3)"
      ]
    },
    {
      "cell_type": "code",
      "execution_count": null,
      "metadata": {
        "_cell_guid": "c44db283-1a0e-d486-1be1-ef147dfa3ac9"
      },
      "outputs": [],
      "source": [
        "#train_data[\"Embarked\"] = train_data[\"Embarked\"].fillna(\"S\")\n",
        "#\n",
        "#embarked_dummies_titanic  = pd.get_dummies(train_data['Embarked'])\n",
        "#embarked_dummies_titanic.columns = ['S','C','Q']\n",
        "#\n",
        "#embarked_dummies_test  = pd.get_dummies(test_data['Embarked'])\n",
        "#embarked_dummies_test.columns = ['S','C','Q']\n",
        "#\n",
        "train_data.drop(\"Embarked\", axis=1, inplace=True)\n",
        "#train_data = train_data.join(embarked_dummies_titanic)\n",
        "#\n",
        "test_data.drop(\"Embarked\", axis=1, inplace=True)\n",
        "#test_data = test_data.join(embarked_dummies_test)"
      ]
    },
    {
      "cell_type": "code",
      "execution_count": null,
      "metadata": {
        "_cell_guid": "8ebec847-a205-4bea-faef-fb3dd07149c5"
      },
      "outputs": [],
      "source": [
        "#plt.scatter(train_data['Survived'], train_data['Fare'])\n",
        "sns.boxplot(x=\"Fare\", y=\"Survived\", data=train_data, orient=\"h\");\n",
        "\n",
        "test_data[\"Fare\"].fillna(test_data[\"Fare\"].median(), inplace=True)"
      ]
    },
    {
      "cell_type": "code",
      "execution_count": null,
      "metadata": {
        "_cell_guid": "3ef5a68e-2140-03df-cbc6-c98a30353f3b"
      },
      "outputs": [],
      "source": [
        "#FAMILY\n",
        "train_data[\"Family\"] = train_data[\"SibSp\"] + train_data[\"Parch\"]\n",
        "train_data[\"Family\"]\n",
        "sns.countplot(x='Family', hue=\"Survived\", data=train_data)\n",
        "\n",
        "train_data[\"Single\"] = (train_data[\"Family\"] == 0).astype(int)\n",
        "train_data[\"SmallFamily\"] = ((train_data[\"Family\"] > 0) & (train_data[\"Family\"] < 4)).astype(int)\n",
        "train_data[\"BigFamily\"] = (train_data[\"Family\"] > 3).astype(int)"
      ]
    },
    {
      "cell_type": "code",
      "execution_count": null,
      "metadata": {
        "_cell_guid": "8366c57d-5dec-5fcb-88fd-6edf038f0c01"
      },
      "outputs": [],
      "source": [
        "test_data[\"Family\"] = test_data[\"SibSp\"] + test_data[\"Parch\"]\n",
        "test_data[\"Family\"]\n",
        "\n",
        "test_data[\"Single\"] = (test_data[\"Family\"] == 0).astype(int)\n",
        "test_data[\"SmallFamily\"] = ((test_data[\"Family\"] > 0) & (test_data[\"Family\"] < 4)).astype(int)\n",
        "test_data[\"BigFamily\"] = (test_data[\"Family\"] > 3).astype(int)"
      ]
    },
    {
      "cell_type": "code",
      "execution_count": null,
      "metadata": {
        "_cell_guid": "0e8fc321-84af-a1d3-a428-4c3f2f140087"
      },
      "outputs": [],
      "source": [
        "train_data = train_data.drop([\"PassengerId\", \"Name\", \"Ticket\", \"Family\", \"Parch\", \"SibSp\"], axis=1)\n",
        "test_data = test_data.drop([\"Name\", \"Ticket\", \"Family\", \"Parch\", \"SibSp\"], axis=1)"
      ]
    },
    {
      "cell_type": "code",
      "execution_count": null,
      "metadata": {
        "_cell_guid": "0fb81ebe-8dfe-ae2e-b43d-e4cd1a16e229"
      },
      "outputs": [],
      "source": [
        "X_train = train_data.drop(\"Survived\", axis=1)\n",
        "Y_train = train_data[\"Survived\"]\n",
        "X_test  = test_data.drop(\"PassengerId\", axis=1)"
      ]
    },
    {
      "cell_type": "code",
      "execution_count": null,
      "metadata": {
        "_cell_guid": "1dee2961-e9ba-f46e-1492-ae47bb0bfb55"
      },
      "outputs": [],
      "source": [
        "X_train[\"Age\"] = (X_train[\"Age\"] - X_train[\"Age\"].mean())/X_train[\"Age\"].std()\n",
        "X_train[\"Fare\"] = (X_train[\"Fare\"] - X_train[\"Fare\"].mean())/X_train[\"Fare\"].std()\n",
        "\n",
        "X_test[\"Age\"] = (X_test[\"Age\"] - X_test[\"Age\"].mean())/X_test[\"Age\"].std()\n",
        "X_test[\"Fare\"] = (X_test[\"Fare\"] - X_test[\"Fare\"].mean())/X_test[\"Fare\"].std()"
      ]
    },
    {
      "cell_type": "code",
      "execution_count": null,
      "metadata": {
        "_cell_guid": "0e337e51-fe86-a856-ed26-944dfa4e272d"
      },
      "outputs": [],
      "source": [
        "X_train.head()"
      ]
    },
    {
      "cell_type": "code",
      "execution_count": null,
      "metadata": {
        "_cell_guid": "5caa5900-4f87-4ead-c413-eedfa1211a32"
      },
      "outputs": [],
      "source": [
        "from sklearn.feature_selection import SelectKBest, f_classif\n",
        "selector = SelectKBest(f_classif, k=5)\n",
        "selector.fit(X_train, Y_train)\n",
        "\n",
        "scores = -np.log10(selector.pvalues_)\n",
        "\n",
        "plt.bar(range(len(X_train.columns)), scores)\n",
        "plt.xticks(range(len(X_train.columns)), X_train.columns, rotation='vertical')\n",
        "plt.show()"
      ]
    },
    {
      "cell_type": "code",
      "execution_count": null,
      "metadata": {
        "_cell_guid": "4a05c21d-a321-a65b-a825-3d1a6ac474c8"
      },
      "outputs": [],
      "source": [
        "X_train"
      ]
    },
    {
      "cell_type": "code",
      "execution_count": null,
      "metadata": {
        "_cell_guid": "25ab81a2-b3e7-d35b-c599-c5c7388e058c"
      },
      "outputs": [],
      "source": [
        "import math\n",
        "from sklearn.ensemble import RandomForestClassifier, GradientBoostingClassifier\n",
        "from sklearn.svm import SVC\n",
        "from sklearn.linear_model import Lasso, Ridge\n",
        "from sklearn.linear_model import LogisticRegression\n",
        "from sklearn.grid_search import GridSearchCV\n",
        "from sklearn.metrics import roc_auc_score\n",
        "\n",
        "#cls = GradientBoostingClassifier(n_estimators=450, min_samples_split=8, min_samples_leaf=4, max_features=4)\n",
        "cls = GradientBoostingClassifier()\n",
        "#params = [{\n",
        "#    \"C\": [0.1, 0.3, 1.0, 3.0, 9.0, 27.0, 81.0],\n",
        "#    \"degree\": [1, 2, 3, 4],\n",
        "#    \"kernel\": [\"rbf\", \"linear\",\"poly\", \"sigmoid\"]\n",
        "#}]\n",
        "#gscv = GridSearchCV(cls, params, cv=3)\n",
        "\n",
        "cls.fit(X_train, Y_train)\n",
        "\n",
        "Y_pred = cls.predict(X_test)\n",
        "\n",
        "cls.score(X_train, Y_train)\n",
        "\n",
        "#estimator = LogisticRegression(C=1.0)\n",
        "#optimizer = GridSearchCV(estimator, param_grid = {'C': [0.01, 0.05, 0.1, 0.5, 1, 5, 10, 20, 30]}, cv = 3)\n",
        "#estimator.fit(X_train, Y_train)\n",
        "\n",
        "#Y_pred = estimator.predict(X_test)\n",
        "#estimator.score(X_train, Y_train)"
      ]
    },
    {
      "cell_type": "code",
      "execution_count": null,
      "metadata": {
        "_cell_guid": "33748de8-5e34-eb33-7514-32705ab601e3"
      },
      "outputs": [],
      "source": [
        "submission = pd.DataFrame({\n",
        "        \"PassengerId\": test_data[\"PassengerId\"],\n",
        "        \"Survived\": Y_pred\n",
        "    })\n",
        "submission.to_csv('titanic.csv', index=False)"
      ]
    },
    {
      "cell_type": "code",
      "execution_count": null,
      "metadata": {
        "_cell_guid": "cc228bfe-0cbd-33a8-2503-b2d5d93a999e"
      },
      "outputs": [],
      "source": [
        ""
      ]
    }
  ],
  "metadata": {
    "_change_revision": 0,
    "_is_fork": false,
    "kernelspec": {
      "display_name": "Python 3",
      "language": "python",
      "name": "python3"
    },
    "language_info": {
      "codemirror_mode": {
        "name": "ipython",
        "version": 3
      },
      "file_extension": ".py",
      "mimetype": "text/x-python",
      "name": "python",
      "nbconvert_exporter": "python",
      "pygments_lexer": "ipython3",
      "version": "3.5.2"
    }
  },
  "nbformat": 4,
  "nbformat_minor": 0
}