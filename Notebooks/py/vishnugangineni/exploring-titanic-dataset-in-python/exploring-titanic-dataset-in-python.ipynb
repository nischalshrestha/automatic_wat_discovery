{
  "cells": [
    {
      "cell_type": "markdown",
      "metadata": {
        "_cell_guid": "e499a5af-b624-a111-4a37-917d19929090"
      },
      "source": [
        "#Exploring Titanic dataset in Python"
      ]
    },
    {
      "cell_type": "markdown",
      "metadata": {
        "_cell_guid": "e74bc3b4-aa67-a565-cc72-c9b74fd747a0"
      },
      "source": [
        "In this notebook, I will be exploring the Titanic dataset using pandas(for data ingestion and cleaning), matplotlib(for visualizations) and scikit-learn(for machine learning). "
      ]
    },
    {
      "cell_type": "markdown",
      "metadata": {
        "_cell_guid": "7d4ff730-098a-de97-cb1b-181ba4a25730"
      },
      "source": [
        "### Importing data and creating dataframes"
      ]
    },
    {
      "cell_type": "code",
      "execution_count": null,
      "metadata": {
        "_cell_guid": "0237704c-c05d-9319-ad17-563633f23d5a"
      },
      "outputs": [],
      "source": [
        "#Importing pandas and matplotlib\n",
        "import pandas as pd\n",
        "import matplotlib.pyplot as plt\n",
        "%matplotlib inline"
      ]
    },
    {
      "cell_type": "code",
      "execution_count": null,
      "metadata": {
        "_cell_guid": "2eba8860-fc63-098e-a704-c75ec644f4bd"
      },
      "outputs": [],
      "source": [
        "#Creating train and test dataframes \n",
        "train=pd.read_csv('../input/train.csv')\n",
        "test=pd.read_csv('../input/test.csv')\n"
      ]
    },
    {
      "cell_type": "code",
      "execution_count": null,
      "metadata": {
        "_cell_guid": "81e3aefc-e96f-1640-5672-b41cd99dfe2d"
      },
      "outputs": [],
      "source": [
        "#First 5 rows of the training data\n",
        "train.head()"
      ]
    },
    {
      "cell_type": "code",
      "execution_count": null,
      "metadata": {
        "_cell_guid": "11ccf3eb-f8bc-8a5b-2ff5-f7c7f87e4513"
      },
      "outputs": [],
      "source": [
        "#First 5 rows of the test data\n",
        "test.head()"
      ]
    },
    {
      "cell_type": "code",
      "execution_count": null,
      "metadata": {
        "_cell_guid": "b4fb3c9a-3acf-f265-e65e-444a481f18d4"
      },
      "outputs": [],
      "source": [
        "#Merging train and test dataframes into a single dataframe\n",
        "titanic=pd.concat([train,test],axis=0,ignore_index=True)"
      ]
    },
    {
      "cell_type": "code",
      "execution_count": null,
      "metadata": {
        "_cell_guid": "e31f8598-8c76-97e6-46d7-5f4149a15a6c"
      },
      "outputs": [],
      "source": [
        "#Total number of values in each column\n",
        "titanic.count()"
      ]
    },
    {
      "cell_type": "markdown",
      "metadata": {
        "_cell_guid": "f5a8106f-e586-193f-0fb3-a6d0358c4cfe"
      },
      "source": [
        "### Exploratory Data Analysis"
      ]
    },
    {
      "cell_type": "markdown",
      "metadata": {
        "_cell_guid": "0fae6678-869d-5772-7667-30453a79dc7a"
      },
      "source": [
        "This part would help us in identifying patterns within the data and thus in extracting, creating the most relevant features."
      ]
    },
    {
      "cell_type": "code",
      "execution_count": null,
      "metadata": {
        "_cell_guid": "7d03fd56-0434-08ac-5beb-b1ae697592a5"
      },
      "outputs": [],
      "source": [
        "#Converting the unordered categorical 'Sex'\n",
        "titanic.Sex=titanic.Sex.map({'male':1,'female':0})"
      ]
    },
    {
      "cell_type": "code",
      "execution_count": null,
      "metadata": {
        "_cell_guid": "4325f4ad-b746-11f7-f6c4-0bbb29c4584c"
      },
      "outputs": [],
      "source": [
        "#Total number of passengers and survivors by gender\n",
        "train.groupby('Sex')['Survived'].agg({'Sex':['count'],'Survived':['sum']})"
      ]
    },
    {
      "cell_type": "markdown",
      "metadata": {
        "_cell_guid": "e1f15b6e-d9cc-1d89-d6cb-c3c6029a6392"
      },
      "source": [
        "233 survivors out of 314 female passengers and\n",
        "109 survivors out of 577 male passengers."
      ]
    },
    {
      "cell_type": "code",
      "execution_count": null,
      "metadata": {
        "_cell_guid": "28d90dbc-5868-7f0b-efad-352efcf041d5"
      },
      "outputs": [],
      "source": [
        "titanic.loc[train.index].info() #Training set Info"
      ]
    },
    {
      "cell_type": "code",
      "execution_count": null,
      "metadata": {
        "_cell_guid": "8d39ae52-e27c-8d48-e15d-4eb45dab1724"
      },
      "outputs": [],
      "source": [
        "titanic.loc[train.index].describe() #Properties of the training set"
      ]
    },
    {
      "cell_type": "code",
      "execution_count": null,
      "metadata": {
        "_cell_guid": "1442fee4-4eaa-8ab5-1b7d-35c5e9408274"
      },
      "outputs": [],
      "source": [
        "#Creating a new feature 'has_Family'\n",
        "#'has_Family' tells if a passenger is part of a family or not\n",
        "titanic['has_Family']=((titanic.Parch!=0) | (titanic.SibSp!=0)).map({True:1,False:0})"
      ]
    },
    {
      "cell_type": "code",
      "execution_count": null,
      "metadata": {
        "_cell_guid": "ffc786b4-a922-050e-836d-f2ca6ebd5bb9"
      },
      "outputs": [],
      "source": [
        "titanic.has_Family.value_counts()"
      ]
    },
    {
      "cell_type": "markdown",
      "metadata": {
        "_cell_guid": "0343c07a-5f7b-7830-8662-7254f967a74e"
      },
      "source": [
        "519 Passengers(from the entire dataset) are travelling with their families."
      ]
    },
    {
      "cell_type": "code",
      "execution_count": null,
      "metadata": {
        "_cell_guid": "bbe191cf-9cdd-82cb-5f8e-c246bc216aa7"
      },
      "outputs": [],
      "source": [
        "#Does travelling with family increase the survival chances?\n",
        "titanic.loc[train.index].groupby('has_Family')['has_Family','Survived'].agg({'has_Family':['count'],'Survived':['sum']})"
      ]
    },
    {
      "cell_type": "markdown",
      "metadata": {
        "_cell_guid": "0efecba4-fac9-b250-29ef-dba187b4bd08"
      },
      "source": [
        "From the training set,\n",
        "out of 354 people travelling with their families 179 survived. Out of 537 people travelling without families, 163 survived."
      ]
    },
    {
      "cell_type": "code",
      "execution_count": null,
      "metadata": {
        "_cell_guid": "e5bd8697-c5d1-9c3b-590f-2423dc838162"
      },
      "outputs": [],
      "source": [
        "#Visualizing survival by has_Family\n",
        "titanic.loc[train.index].Survived.hist(by=titanic.has_Family.map({0:'Without Family',1:'With Family'}),layout=(2,1),sharex=True)\n",
        "plt.xticks([0,1],['Did not survive','Survived'])"
      ]
    },
    {
      "cell_type": "code",
      "execution_count": null,
      "metadata": {
        "_cell_guid": "230d8eee-b6fb-96a2-ce10-232715129347"
      },
      "outputs": [],
      "source": [
        "#Visualizing survival by Pclass\n",
        "train.Survived.hist(by=train.Pclass,layout=(3,1),sharex=True)\n",
        "plt.xticks([0,1],['Did not survive','Survived'])"
      ]
    },
    {
      "cell_type": "code",
      "execution_count": null,
      "metadata": {
        "_cell_guid": "e952df2c-0f3e-afdb-3eac-92222bfe919f"
      },
      "outputs": [],
      "source": [
        "titanic.loc[train.index].Survived.hist(by=titanic.Embarked,layout=(3,1),sharex=True)\n",
        "plt.xticks([0,1],['Did not survive','Survived'])"
      ]
    },
    {
      "cell_type": "code",
      "execution_count": null,
      "metadata": {
        "_cell_guid": "e821ea30-61ae-91d9-b885-4a20ac8e6b49"
      },
      "outputs": [],
      "source": [
        "#Importing colormap\n",
        "import matplotlib.cm as cm"
      ]
    },
    {
      "cell_type": "code",
      "execution_count": null,
      "metadata": {
        "_cell_guid": "e427b923-f210-7492-b0a3-65ad6a54f86e"
      },
      "outputs": [],
      "source": [
        "#Scatterplot to visualize relationship between Age,Pclass and Survival\n",
        "titanic.loc[train.index].plot(x='Age',y='Survived',c='Pclass',cmap=cm.hot,kind='scatter',figsize=(10,5))\n",
        "plt.yticks([0,1])\n",
        "plt.xticks(range(10,101,10))"
      ]
    },
    {
      "cell_type": "code",
      "execution_count": null,
      "metadata": {
        "_cell_guid": "96f68752-7985-f760-2ebc-2b2b27bee672"
      },
      "outputs": [],
      "source": [
        "#Visualizing age distribution\n",
        "train[train.Survived==1].Age.hist(bins=10,normed=True)"
      ]
    },
    {
      "cell_type": "code",
      "execution_count": null,
      "metadata": {
        "_cell_guid": "73401b31-cc4f-ff42-e818-197b7fd6c2e2"
      },
      "outputs": [],
      "source": [
        "#Embarked has two missing values -> Deleting those two rows\n",
        "titanic.dropna(subset=['Embarked'],inplace=True)"
      ]
    },
    {
      "cell_type": "code",
      "execution_count": null,
      "metadata": {
        "_cell_guid": "56032bb7-ea75-d934-5334-d1f7a13842ad"
      },
      "outputs": [],
      "source": [
        "#Imputing missing Age values with the mean Age\n",
        "titanic.Age=titanic.Age.fillna(value=train.Age.mean())"
      ]
    },
    {
      "cell_type": "code",
      "execution_count": null,
      "metadata": {
        "_cell_guid": "4977a7ca-f5eb-4f12-ef0c-b34be5dc10ba"
      },
      "outputs": [],
      "source": [
        "#Since Cabin doesn't seem like an important feature, we're dropping it\n",
        "titanic.drop('Cabin',axis=1)"
      ]
    },
    {
      "cell_type": "code",
      "execution_count": null,
      "metadata": {
        "_cell_guid": "01b34241-b0a0-834b-8d33-3b7fd969e7ef"
      },
      "outputs": [],
      "source": [
        "#Using get_dummmies() method to convert Embarked into variables that can be used as features \n",
        "embarked_dummies=pd.get_dummies(titanic.Embarked,prefix='Embarked')"
      ]
    },
    {
      "cell_type": "markdown",
      "metadata": {
        "_cell_guid": "87ce0842-840d-1be2-2096-1801a58ea016"
      },
      "source": [
        "Embarked is a non-binary unordered categorical."
      ]
    },
    {
      "cell_type": "code",
      "execution_count": null,
      "metadata": {
        "_cell_guid": "91a2c4f7-9d8b-201e-3837-321613114669"
      },
      "outputs": [],
      "source": [
        "#Adding embarked_dummies to the titanic dataframe\n",
        "titanic=pd.concat([titanic,embarked_dummies],axis=1)"
      ]
    },
    {
      "cell_type": "code",
      "execution_count": null,
      "metadata": {
        "_cell_guid": "b7186298-820b-558a-3f71-2b5be814895d"
      },
      "outputs": [],
      "source": [
        "#Data with the new columns\n",
        "titanic.head()"
      ]
    },
    {
      "cell_type": "markdown",
      "metadata": {
        "_cell_guid": "34d75619-ea1e-1ac3-e97e-d4e59565c137"
      },
      "source": [
        "### Predicting Survivors using Logistic Regression"
      ]
    },
    {
      "cell_type": "code",
      "execution_count": null,
      "metadata": {
        "_cell_guid": "84830d5c-1be7-fb33-b6a0-fd77420c5d5d"
      },
      "outputs": [],
      "source": [
        "#Selecting our features\n",
        "features=['Pclass','Sex','Age','has_Family','Embarked_C','Embarked_Q','Embarked_S']"
      ]
    },
    {
      "cell_type": "code",
      "execution_count": null,
      "metadata": {
        "_cell_guid": "2d1865ca-9ff5-ceb7-9498-6aaac73af55f"
      },
      "outputs": [],
      "source": [
        "#Training set\n",
        "X_train=titanic[titanic.Survived.notnull()][features]  #Features\n",
        "y_train=titanic[titanic.Survived.notnull()].Survived  #Response"
      ]
    },
    {
      "cell_type": "code",
      "execution_count": null,
      "metadata": {
        "_cell_guid": "ee5a2d09-d87c-12ca-4937-cb7788358e2c"
      },
      "outputs": [],
      "source": [
        "#Test set\n",
        "X_test=titanic[titanic.Survived.isnull()][features]"
      ]
    },
    {
      "cell_type": "code",
      "execution_count": null,
      "metadata": {
        "_cell_guid": "1fba8808-45f9-dbd9-e8ad-8300d281a688"
      },
      "outputs": [],
      "source": [
        "#Using Logistic Regression for classification\n",
        "from sklearn.linear_model import LogisticRegression\n",
        "logreg=LogisticRegression()\n",
        "logreg.fit(X_train,y_train)"
      ]
    },
    {
      "cell_type": "code",
      "execution_count": null,
      "metadata": {
        "_cell_guid": "16ac41a2-f29b-e658-b0c9-2be3da4d3961"
      },
      "outputs": [],
      "source": [
        "#Prediction\n",
        "y_pred_class=logreg.predict(X_test)"
      ]
    },
    {
      "cell_type": "markdown",
      "metadata": {
        "_cell_guid": "1ed6d2c6-311d-20d7-abf3-416852ccd9e2"
      },
      "source": [
        "Thank you for going through the notebook. Comments and suggestions are welcome :)"
      ]
    }
  ],
  "metadata": {
    "_change_revision": 0,
    "_is_fork": false,
    "kernelspec": {
      "display_name": "Python 3",
      "language": "python",
      "name": "python3"
    },
    "language_info": {
      "codemirror_mode": {
        "name": "ipython",
        "version": 3
      },
      "file_extension": ".py",
      "mimetype": "text/x-python",
      "name": "python",
      "nbconvert_exporter": "python",
      "pygments_lexer": "ipython3",
      "version": "3.6.0"
    }
  },
  "nbformat": 4,
  "nbformat_minor": 0
}