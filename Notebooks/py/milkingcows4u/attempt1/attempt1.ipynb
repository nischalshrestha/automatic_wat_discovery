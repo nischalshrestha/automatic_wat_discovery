{"cells":[
 {
  "cell_type": "code",
  "execution_count": null,
  "metadata": {
   "collapsed": false
  },
  "outputs": [],
  "source": "# Load packages\nimport numpy as np # linear algebra\nimport pandas as pd # data processing, CSV file I/O (e.g. pd.read_csv)\n%matplotlib inline\nimport matplotlib.pyplot as plt\nimport re"
 },
 {
  "cell_type": "code",
  "execution_count": null,
  "metadata": {
   "collapsed": false
  },
  "outputs": [],
  "source": "# Load training data\ntitanic = pd.read_csv(\"../input/train.csv\")"
 },
 {
  "cell_type": "code",
  "execution_count": null,
  "metadata": {
   "collapsed": false
  },
  "outputs": [],
  "source": "# Review input features\nprint(\"Shape of dataframe:\", titanic.shape, \"\\n\")\nprint(\"Column Headers:\", list(titanic.columns.values), \"\\n\")\nprint(titanic.describe())"
 },
 {
  "cell_type": "code",
  "execution_count": null,
  "metadata": {
   "collapsed": false
  },
  "outputs": [],
  "source": "# Find all the unique feature values\nmissing_values = []\nnonumeric_values = []\n\nfor column in titanic:\n    print (\"*****************************************\\n\")\n    print (column)\n    uniq = titanic[column].unique()\n    print (uniq)\n    \n    if (True in pd.isnull(uniq)):\n        missing_values.append(column)\n           \n    for i in range (1, np.prod(uniq.shape)):\n        if (re.match('nan', str(uniq[i]))):\n            next\n        if (re.search('[\\D]', str(uniq[i]))):\n            if not (re.search('(^\\d+\\.?\\d*$)|(^\\d*\\.?\\d+$)'\n, str(uniq[i]))):\n                nonumeric_values.append(column)\n                break\n  \nprint (\"Features with missing values: {}\" .format(missing_values))\nprint (\"Features with non-numeric values: {}\" .format(nonumeric_values))"
 },
 {
  "cell_type": "markdown",
  "metadata": {},
  "source": "# Notes about input features\n\n## Features with missing values:\n\n## Features with non-numeric values:\n"
 },
 {
  "cell_type": "code",
  "execution_count": null,
  "metadata": {
   "collapsed": false
  },
  "outputs": [],
  "source": "# Visualize the features\nplt.style.use('ggplot')\n\nselected_columns = [\"Pclass\", \"Age\", \"SibSp\", \"Parch\", \"Fare\"]\ntitanic[selected_columns].hist()"
 },
 {
  "cell_type": "code",
  "execution_count": null,
  "metadata": {
   "collapsed": false
  },
  "outputs": [],
  "source": "# Handle Missing Data "
 },
 {
  "cell_type": "code",
  "execution_count": null,
  "metadata": {
   "collapsed": false
  },
  "outputs": [],
  "source": "# Convert Non-Numeric Columns"
 },
 {
  "cell_type": "code",
  "execution_count": null,
  "metadata": {
   "collapsed": false
  },
  "outputs": [],
  "source": "# Use a simple model"
 },
 {
  "cell_type": "code",
  "execution_count": null,
  "metadata": {
   "collapsed": false
  },
  "outputs": [],
  "source": "# Use Cross Validation"
 },
 {
  "cell_type": "code",
  "execution_count": null,
  "metadata": {
   "collapsed": false
  },
  "outputs": [],
  "source": "# Run Diagnostics"
 },
 {
  "cell_type": "code",
  "execution_count": null,
  "metadata": {
   "collapsed": false
  },
  "outputs": [],
  "source": "# Make Predictions"
 },
 {
  "cell_type": "code",
  "execution_count": null,
  "metadata": {
   "collapsed": false
  },
  "outputs": [],
  "source": ""
 }
],"metadata":{"kernelspec":{"display_name":"Python 3","language":"python","name":"python3"}}, "nbformat": 4, "nbformat_minor": 0}