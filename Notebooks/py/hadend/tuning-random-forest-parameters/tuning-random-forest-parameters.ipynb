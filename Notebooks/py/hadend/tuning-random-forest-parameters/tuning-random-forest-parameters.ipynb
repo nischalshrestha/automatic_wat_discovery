{
  "cells": [
    {
      "cell_type": "markdown",
      "metadata": {
        "_cell_guid": "f2a16792-03ad-f2c1-4f0a-9426aab9f2b4"
      },
      "source": [
        "# First Kaggle Script: Tuning Random Forest Parameters\n",
        "### *Daniel Haden*\n",
        "*August 7th, 2016*"
      ]
    },
    {
      "cell_type": "markdown",
      "metadata": {
        "_cell_guid": "5d84a87b-3ce5-34f7-b6b9-13f3044bdf6a"
      },
      "source": [
        "[1 Introduction](#Introduction)\n",
        "* [1.1 Loading and Checking Data](#Loading)\n",
        "* [1.2 Looking for NaNs](#Looking)\n",
        "\n",
        "[2 Handling Missing Values](#Handling)\n",
        "* [2.1 Removing variables with too little coverage](#Removing)\n",
        "* [2.2 Filling in NaN's for variables with high coverage](#Filling)\n",
        "* [2.3 Imputing Missing Age Values](#Imputing)\n",
        "\n",
        "[3 Formatting Data for Sklearn and Examining RF Algorithm Parameters](#Formatting)\n",
        "* [3.1 Converting categorical variable labels](#Converting)\n",
        "* [3.2 Tuning RF parameters (somewhat methodically)](#Tuning)\n",
        "\n",
        "[4 Training Final Classifier](#Training)\n",
        "\n",
        "[5 Conclusion](#Conclusion)\n",
        "\n",
        "<a name=\"Introduction\"></a>\n",
        "## 1 Introduction\n",
        "\n",
        "This is my first attempt at a Kaggle dataset - I was inspired by some very good notebooks by [Megan Risdal](https://www.kaggle.com/mrisdal/titanic/exploring-survival-on-the-titanic/notebook) and [Sadat Nazrul](https://www.kaggle.com/creepykoala/titanic/study-of-tree-and-forest-algorithms/comments) and thought I'd give it a try myself.  The data exploration portion is pretty standard - I tried to focus on how to tune parameters for the RF classifier.  My goal was  to find a semi-automated way of tuning algorithm parameters. "
      ]
    },
    {
      "cell_type": "code",
      "execution_count": null,
      "metadata": {
        "_cell_guid": "37f37543-653b-917d-f13d-06b28ea1214a"
      },
      "outputs": [],
      "source": [
        "# Import libraries\n",
        "import pandas as pd\n",
        "import numpy as np\n",
        "from sklearn.ensemble import RandomForestClassifier\n",
        "from sklearn.preprocessing import LabelEncoder\n",
        "from sklearn import cross_validation\n",
        "from sklearn.grid_search import GridSearchCV\n",
        "from time import time\n",
        "import matplotlib.pyplot as plt\n",
        "from operator import itemgetter\n",
        "\n",
        "# Stop deprecation warnings from being printed\n",
        "import warnings\n",
        "warnings.filterwarnings(\"ignore\", category=DeprecationWarning)"
      ]
    },
    {
      "cell_type": "markdown",
      "metadata": {
        "_cell_guid": "091ded7f-2821-9f19-803c-7e1b63d93e27"
      },
      "source": [
        "<a name=\"Loading\"></a>\n",
        "### 1.1 Loading and Checking Data"
      ]
    },
    {
      "cell_type": "code",
      "execution_count": null,
      "metadata": {
        "_cell_guid": "7da1684a-70ab-343a-ca4d-443fc4137fad"
      },
      "outputs": [],
      "source": [
        "# Load training and test data into pandas dataframes\n",
        "train = pd.read_csv(\"../input/train.csv\")\n",
        "test = pd.read_csv(\"../input/test.csv\")\n",
        "\n",
        "# merge training and test sets into one dataframe\n",
        "full = pd.concat([train, test])"
      ]
    },
    {
      "cell_type": "code",
      "execution_count": null,
      "metadata": {
        "_cell_guid": "aa904baa-3075-b688-7ef8-cc4f0896aa2a"
      },
      "outputs": [],
      "source": [
        "# Get size of dataframes\n",
        "for dataframe in [train, test, full]:\n",
        "    print(dataframe.shape)"
      ]
    },
    {
      "cell_type": "code",
      "execution_count": null,
      "metadata": {
        "_cell_guid": "b0fcf67f-caf6-ba0e-16e6-081fad9997f7"
      },
      "outputs": [],
      "source": [
        "full.head(2)"
      ]
    },
    {
      "cell_type": "markdown",
      "metadata": {
        "_cell_guid": "d0c99aee-bb85-14c6-c71c-aed7ec95b2f3"
      },
      "source": [
        "So the dataset has been split approximately 70/30% for training/testing.  Here's a description of some of the more cryptic variable names:\n",
        "\n",
        " **Variable** | **Description** \n",
        "-------- | -----------\n",
        " Embarked | Port of embarkation (S = Southhampton, C = Chersbourg, Q = Queenstown) \n",
        " Parch | Number of parents/children of passenger on board \n",
        " Pclass | Passenger's class (1st, 2nd, or 3rd) \n",
        " SibSp | Number of siblings or spouses on board "
      ]
    },
    {
      "cell_type": "markdown",
      "metadata": {
        "_cell_guid": "4634286d-ab2d-ab5e-de29-cb5d088a8412"
      },
      "source": [
        "<a name=\"Looking\"></a>\n",
        "### 1.2 Looking for NaN's\n",
        "\n",
        "Next, let's look at how complete the dataset is."
      ]
    },
    {
      "cell_type": "code",
      "execution_count": null,
      "metadata": {
        "_cell_guid": "38a79254-ed43-227e-aa5e-4452db72c64f"
      },
      "outputs": [],
      "source": [
        "#return a formatted percentage from a fraction\n",
        "def percentage(numerator, denomenator):\n",
        "    \n",
        "    if type(numerator) == pd.core.series.Series:\n",
        "        return (numerator/denomenator*100).map('{:.1f}%'.format)\n",
        "    \n",
        "    elif type(numerator) == int or type(numerator) == float:\n",
        "        return '{:.1f}%'.format(float(numerator)/float(denomenator)*100) \n",
        "    \n",
        "    else:\n",
        "        print(\"check type\")"
      ]
    },
    {
      "cell_type": "code",
      "execution_count": null,
      "metadata": {
        "_cell_guid": "0a15b43e-55c1-80fa-ddf2-1af54acc0205"
      },
      "outputs": [],
      "source": [
        "#Get percentage by variable of values which are not NaN\n",
        "percentage(full.count()-1, full.shape[0]-1)"
      ]
    },
    {
      "cell_type": "markdown",
      "metadata": {
        "_cell_guid": "25005553-89a0-b72b-786a-feb1a14286c1"
      },
      "source": [
        "So there are four variables with NaN values: *age, cabin, embarked*, and *fare*."
      ]
    },
    {
      "cell_type": "markdown",
      "metadata": {
        "_cell_guid": "e60be3da-a849-c446-7167-2de4299f1dad"
      },
      "source": [
        "<a name=\"Handling\"></a>\n",
        "## 2 Handling Missing Values \n",
        "When using a random forest classifier(RCF), missing values [are usually handled](http://nerds.airbnb.com/overcoming-missing-values-in-a-rfc/) by either dropping a row or column or by filling in missing values using the average.  There are more sophisticated imputation techniques like k-nearest neighbors but I'm only going to use simple techniques here."
      ]
    },
    {
      "cell_type": "markdown",
      "metadata": {
        "_cell_guid": "6f844d2b-7d2b-916d-386d-be2f793392cb"
      },
      "source": [
        "<a name=\"Removing\"></a>\n",
        "### 2.1 Removing variables with too little coverage\n",
        "Cabin number has by far the least coverage (less than 1/4 of passengers have a recorded cabin number), so I'll look at the data in this column first."
      ]
    },
    {
      "cell_type": "code",
      "execution_count": null,
      "metadata": {
        "_cell_guid": "1c2a19f7-48ee-e87c-9677-1e054a51682a"
      },
      "outputs": [],
      "source": [
        "# Get cabin #'s in list\n",
        "cabin_numbers = full[full.Cabin.notnull()]['Cabin'].tolist()\n",
        "cabin_numbers[:10]"
      ]
    },
    {
      "cell_type": "markdown",
      "metadata": {
        "_cell_guid": "0c244bbd-8f89-abb5-6cf5-0c4183faaba4"
      },
      "source": [
        "The letter in each cabin number refers to the deck the cabin was on.  From [Encyclopedia Titanica](https://www.encyclopedia-titanica.org/titanic-deckplans/), *Titanic's* decks were labeled A to F from top to bottom."
      ]
    },
    {
      "cell_type": "code",
      "execution_count": null,
      "metadata": {
        "_cell_guid": "1a36940d-1087-f736-1b8a-d6849892a3a6"
      },
      "outputs": [],
      "source": [
        "# Number of passengers w/ cabin numbers by class\n",
        "full[full.Cabin.notnull()].groupby('Pclass')['Pclass'].count()"
      ]
    },
    {
      "cell_type": "markdown",
      "metadata": {
        "_cell_guid": "64b25cfe-fde5-0e7c-c74a-6453d4508129"
      },
      "source": [
        "The vast majority of recorded cabin numbers came from first class passengers.  And by percentage,"
      ]
    },
    {
      "cell_type": "code",
      "execution_count": null,
      "metadata": {
        "_cell_guid": "06f9658d-74cd-866e-9ec8-841ec4c5c411"
      },
      "outputs": [],
      "source": [
        "# Percentage of passengers w/ cabin numbers by class\n",
        "percentage(full[full.Cabin.notnull()].groupby('Pclass')['Pclass'].count(),\n",
        "           full.groupby('Pclass')['Pclass'].count()\n",
        "          )"
      ]
    },
    {
      "cell_type": "markdown",
      "metadata": {
        "_cell_guid": "20bf3941-5a9f-548c-8bfd-d0fc1e3a70c8"
      },
      "source": [
        "So most first class passengers had their cabin numbers recorded in the dataset, yet only a small fraction of 2nd and 3rd class passengers had theirs recorded.  If we consider survival also,"
      ]
    },
    {
      "cell_type": "code",
      "execution_count": null,
      "metadata": {
        "_cell_guid": "5a9767eb-42f3-b050-e888-11f7f37a7a91"
      },
      "outputs": [],
      "source": [
        "# Number of passengers w/ cabin numbers by class AND survival\n",
        "train[train.Cabin.notnull()].groupby(['Pclass', 'Survived'])['Cabin'].count()"
      ]
    },
    {
      "cell_type": "markdown",
      "metadata": {
        "_cell_guid": "e3831c1a-2069-4192-cf8b-bf45e7caa3b3"
      },
      "source": [
        "So simply having a cabin number recorded gives you a survival advantage.  There are obviously non-random reasons for the distribution of cabin numbers, like [survivorship bias](https://en.wikipedia.org/wiki/Survivorship_bias).  We could fill in NaN cabin values with an arbitrary value, say '0', and predict that anyone with a cabin number `!= 0` would survive.  The problem with this is that missingness of this variable is non-random, and this prediction would be based on a peculariaty of the dataset and not on an underlying relationship between survival and cabin number."
      ]
    },
    {
      "cell_type": "code",
      "execution_count": null,
      "metadata": {
        "_cell_guid": "f8a4c497-c66c-fe21-f55b-d2f94d54552c"
      },
      "outputs": [],
      "source": [
        "# How classes were distributed by deck (decks were labeled A-G from top to bottom of ship)\n",
        "full['Deck'] = full.Cabin.str.extract(\"([a-zA-Z])\", expand=False)\n",
        "full[full.Cabin.notnull()].groupby(['Deck', 'Pclass'])['Deck'].count()"
      ]
    },
    {
      "cell_type": "markdown",
      "metadata": {
        "_cell_guid": "53e8ccb2-2447-c973-90fa-2d0dfb4473e6"
      },
      "source": [
        "As a side note, it's interesting that deck E contained 1st, 2nd, and 3rd class cabins.  There's definitely more that can be gleaned from these data, but that's as far as I want to go into it here.  I'll remove this column from the set,"
      ]
    },
    {
      "cell_type": "code",
      "execution_count": null,
      "metadata": {
        "_cell_guid": "0079a2f6-1929-d87d-fe98-366252d2d04b"
      },
      "outputs": [],
      "source": [
        "# Remove 'Cabin' column from dataset\n",
        "full = full.drop(['Cabin', 'Deck'], 1);"
      ]
    },
    {
      "cell_type": "markdown",
      "metadata": {
        "_cell_guid": "4f1f3adb-8c33-0e64-496c-c52f2831385b"
      },
      "source": [
        "<a name=\"Filling\"></a>\n",
        "### 2.2 Filling in NaN's for variables with high coverage\n",
        "Both embarked and fare variables have >99% coverage.  This is such a low number of NaN's that we can look at each entry individually.  I'll look at embarked first."
      ]
    },
    {
      "cell_type": "code",
      "execution_count": null,
      "metadata": {
        "_cell_guid": "377be7dc-8c09-3526-f0e6-c11f44788823"
      },
      "outputs": [],
      "source": [
        "# find entries where port of embarkation is null\n",
        "full[full.Embarked.isnull()]"
      ]
    },
    {
      "cell_type": "markdown",
      "metadata": {
        "_cell_guid": "b0420063-31cd-5f3b-5990-502b09d0466e"
      },
      "source": [
        "I wonder if the ticket number corresponds to port of embarkation.  Since the ticket number is a 6 digit number, perhaps the tickets were issued sequentially by port. (i.e. lower ticket numbers correspond to passengers who embarked at Southhampton (first port) while higher ticket numbers correspond to Queenstown passengers)."
      ]
    },
    {
      "cell_type": "code",
      "execution_count": null,
      "metadata": {
        "_cell_guid": "bb38915c-2b11-646d-4f46-c576d0b20c0e"
      },
      "outputs": [],
      "source": [
        "# Extract first three characters from ticket number and look for partterns from port of embarkation\n",
        "full['ticket_header'] = full.Ticket.str.extract(\"([a-zA-Z0-9]{3})\", expand=False)\n",
        "full.groupby(['ticket_header', 'Embarked'])['Ticket'].count().head(12)"
      ]
    },
    {
      "cell_type": "markdown",
      "metadata": {
        "_cell_guid": "bf7ba22c-3ee2-ee8c-e51d-91ee0d8f7978"
      },
      "source": [
        "Unfortunately, it does not look like tickets were issued in this manner.  The ticket header `113` that we are interested in was assigned to Southampton *and* Chersbourg passengers, though there are large majority of Southhampton passengers for this ticket header.  While I was working on the problem, I stumbled on [this](https://www.encyclopedia-titanica.org/titanic-survivor/amelia-icard.html), which gives the port of embarkation(PoE) as Southhampton for both these passengers.\n",
        "\n",
        "How could this value be imputed if there weren't this additional source?  I think using the mode to impute this categorical variable would be the best option.  In this example, using the mode for ticket_prefix would land us the right value of 'S'.  Of course, other subgroup averages are possible.  For example, we could use the mode for first class female passengers,"
      ]
    },
    {
      "cell_type": "code",
      "execution_count": null,
      "metadata": {
        "_cell_guid": "58a85002-287f-d805-8278-7090ff727186"
      },
      "outputs": [],
      "source": [
        "full.groupby(['Sex', 'Pclass', 'Embarked'])['Embarked'].count().head(3)"
      ]
    },
    {
      "cell_type": "markdown",
      "metadata": {
        "_cell_guid": "d944019a-2d07-8a8b-d722-adfc1f9ac734"
      },
      "source": [
        "However, this mode would assign the NaN values the wrong value of 'C'.  It's not clear which subgroup mode to use but I would say that groups like ticket number and fare are better, in this case, for imputing PoE since these variables are related directly, whereas *passenger characteristics* like class and gender are only circumstantially related."
      ]
    },
    {
      "cell_type": "code",
      "execution_count": null,
      "metadata": {
        "_cell_guid": "61160796-fd4a-e2db-8b9d-e0f203f9fa3f"
      },
      "outputs": [],
      "source": [
        "full.set_value(61, 'Embarked', 'S');\n",
        "full.set_value(829, 'Embarked', 'S');"
      ]
    },
    {
      "cell_type": "markdown",
      "metadata": {
        "_cell_guid": "d8e76b5d-57a2-d259-676a-a654fcd34d97"
      },
      "source": [
        "Let's examine fare NaN's now,"
      ]
    },
    {
      "cell_type": "code",
      "execution_count": null,
      "metadata": {
        "_cell_guid": "921ba222-f262-92ae-dd58-8dedd622bf69"
      },
      "outputs": [],
      "source": [
        "full[full.Fare.isnull()]"
      ]
    },
    {
      "cell_type": "code",
      "execution_count": null,
      "metadata": {
        "_cell_guid": "9738e056-f63a-644b-e638-fbe84d56208e"
      },
      "outputs": [],
      "source": [
        "# look at fare statistics for passengers traveling alone or with 1 spouse/sibling \n",
        "# and with ticket  beginning with '370'\n",
        "full[full.ticket_header == '370'].groupby(['Parch', 'SibSp'])['Fare'].describe().head(8)"
      ]
    },
    {
      "cell_type": "markdown",
      "metadata": {
        "_cell_guid": "1f817568-9424-d153-ed7b-bacd155701f9"
      },
      "source": [
        "So all tickets starting with '370' were priced at 7.75 for passenger's traveling alone.  I will set the passengers fare as 7.75,"
      ]
    },
    {
      "cell_type": "code",
      "execution_count": null,
      "metadata": {
        "_cell_guid": "6aadcb60-9ffe-2a2a-dd04-c3e6a3dae383"
      },
      "outputs": [],
      "source": [
        "full.set_value(152, 'Fare', 7.75);"
      ]
    },
    {
      "cell_type": "code",
      "execution_count": null,
      "metadata": {
        "_cell_guid": "d1d22237-c8b6-016a-048e-8097521081d5"
      },
      "outputs": [],
      "source": [
        "# remove 'ticket_header' and 'ticket' columns from data frame\n",
        "full = full.drop(['ticket_header', 'Ticket'], 1);"
      ]
    },
    {
      "cell_type": "markdown",
      "metadata": {
        "_cell_guid": "06114a3d-2c22-85a4-3cfd-9dc328b2841c"
      },
      "source": [
        "<a name=\"Imputing\"></a>\n",
        "### 2.3 Imputing Missing Age Values\n",
        "Before we impute age values, I want to see if any information about a passenger's age can be gleaned from their title."
      ]
    },
    {
      "cell_type": "code",
      "execution_count": null,
      "metadata": {
        "_cell_guid": "8228f68c-e697-346a-4b07-3137718eff0a"
      },
      "outputs": [],
      "source": [
        "# Extract title from name column using RE and put in new column labeled 'Title'\n",
        "full['Title']= full.Name.str.extract(\"(.*, )([^\\.]+)\", expand=False)[1]\n",
        "full.groupby('Title')['Name'].count()"
      ]
    },
    {
      "cell_type": "code",
      "execution_count": null,
      "metadata": {
        "_cell_guid": "851e2453-c4b6-e1ac-8ee5-5abf2edfc77f"
      },
      "outputs": [],
      "source": [
        "# Convert French titles like Mlle and Mme to English equivalent and convert all other titles to 'Rare'\n",
        "full.loc[full.Title == 'Mlle', 'Title'] = 'Miss'\n",
        "full.loc[full.Title == 'Mme', 'Title'] = 'Mrs'\n",
        "full.loc[~full.Title.isin(['Master', 'Mr', 'Mrs', 'Miss']), 'Title'] = 'Rare'"
      ]
    },
    {
      "cell_type": "code",
      "execution_count": null,
      "metadata": {
        "_cell_guid": "dcae8253-3388-89ce-c76b-6dea8f78722b"
      },
      "outputs": [],
      "source": [
        "full.groupby('Title')['Name'].count()"
      ]
    },
    {
      "cell_type": "code",
      "execution_count": null,
      "metadata": {
        "_cell_guid": "0ffbf884-9e7f-f697-6c77-1e5360fdbacb"
      },
      "outputs": [],
      "source": [
        "# Look at survivorship numbers by title\n",
        "full[full.Survived.notnull()].groupby(['Title', 'Survived'])['Name'].count()"
      ]
    },
    {
      "cell_type": "code",
      "execution_count": null,
      "metadata": {
        "_cell_guid": "9bcbad8b-36d0-7ff4-07ce-a111c0cf22fe"
      },
      "outputs": [],
      "source": [
        "# Look at median age by title\n",
        "full.groupby(['Title'])['Age'].median()"
      ]
    },
    {
      "cell_type": "code",
      "execution_count": null,
      "metadata": {
        "_cell_guid": "7af67813-a72d-c06c-d557-4a3db1e9bd23"
      },
      "outputs": [],
      "source": [
        "# Look at standard deviation of age by title\n",
        "full.groupby(['Title'])['Age'].std()"
      ]
    },
    {
      "cell_type": "markdown",
      "metadata": {
        "_cell_guid": "6271db71-2a27-df0f-cd43-f10afdcd2e24"
      },
      "source": [
        "Clearly titles like 'Master' applied to small children but all titles, have a distinct and quite different median.  We can divide these subgroups further,"
      ]
    },
    {
      "cell_type": "code",
      "execution_count": null,
      "metadata": {
        "_cell_guid": "836c5a04-e4e6-822e-2815-8ab928ea7432"
      },
      "outputs": [],
      "source": [
        "# Look at median age by title and class\n",
        "full.groupby(['Title', 'Pclass'])['Age'].median()"
      ]
    },
    {
      "cell_type": "markdown",
      "metadata": {
        "_cell_guid": "b2101b3f-c8e0-6799-1197-1f6dc30d5a81"
      },
      "source": [
        "So 3rd class passengers skewed younger than 2nd class passengers, who skewed younger than 1st class passengers.  This pattern repeats for each title (except 'Master').\n",
        "\n",
        "Missing age values will be filled in with the mode of the passengers title and class subgroup."
      ]
    },
    {
      "cell_type": "code",
      "execution_count": null,
      "metadata": {
        "_cell_guid": "2d6e9909-7082-e00d-a49d-e6c49a9cb546"
      },
      "outputs": [],
      "source": [
        "full_ver2 = full.copy()"
      ]
    },
    {
      "cell_type": "code",
      "execution_count": null,
      "metadata": {
        "_cell_guid": "330b1b34-623c-1987-371b-57c1a928d095"
      },
      "outputs": [],
      "source": [
        "# create dataframe with median ages by class and title\n",
        "age_summary = full.groupby(['Title', 'Pclass'])['Age'].median().to_frame()\n",
        "age_summary = age_summary.reset_index()\n",
        "\n",
        "for index in full_ver2[full_ver2.Age.isnull()].index:\n",
        "    median = age_summary[(age_summary.Title == full_ver2.iloc[index]['Title'])& \\\n",
        "                         (age_summary.Pclass == full_ver2.iloc[index]['Pclass'])]['Age'].values[0]\n",
        "    full_ver2.set_value(index, 'Age', median)"
      ]
    },
    {
      "cell_type": "markdown",
      "metadata": {
        "_cell_guid": "1b702622-6bc1-0efd-344d-b970d9d7bd49"
      },
      "source": [
        "<a name=\"Formatting\"></a>\n",
        "## Formatting Data for Sklearn and Examining RF Algorithm Parameters"
      ]
    },
    {
      "cell_type": "markdown",
      "metadata": {
        "_cell_guid": "01f4b4dc-6303-d36f-bcdf-ce496947fee5"
      },
      "source": [
        "<a name=\"Converting\"></a>\n",
        "### 3.1 Converting categorical variable labels\n",
        "The `RandomForestClassifier` in `sklearn` does not accept string labels for categorical variables.  The `LabelEncoder` module can be used to convert categorical names into numerical names.  Below, I use `LabelEncoder` and also split the training set further into a 70/30% training/test for assessing algorithm parameters using `GridSearchCV`."
      ]
    },
    {
      "cell_type": "code",
      "execution_count": null,
      "metadata": {
        "_cell_guid": "883250ed-0b78-ec6d-ac70-95141506c41b"
      },
      "outputs": [],
      "source": [
        "# format and split dataset for RF fitting.\n",
        "def train_test_split(dataframe):\n",
        "    try:\n",
        "        # change gender labels to '0' or '1'\n",
        "        dataframe[\"Sex\"] = dataframe[\"Sex\"].apply(lambda sex: 0 if sex == \"male\" else 1)\n",
        "        \n",
        "        convert = LabelEncoder()\n",
        "        \n",
        "        # change embarkation to numerical labels\n",
        "        embarked = convert.fit_transform(dataframe.Embarked.tolist())\n",
        "        dataframe['Embarked'] = embarked\n",
        "        \n",
        "        # change title to numerical labels\n",
        "        title = convert.fit_transform(dataframe.Title.tolist())\n",
        "        dataframe['Title'] = title    \n",
        "        \n",
        "    except:\n",
        "        \"dataframe is not correctly formatted\"\n",
        "    \n",
        "    # split into training and test sets and move survival labels to list\n",
        "    return dataframe[0:891].drop('Survived', 1), \\\n",
        "           dataframe[891:].drop('Survived', 1), \\\n",
        "           dataframe[0:891]['Survived'].tolist()"
      ]
    },
    {
      "cell_type": "code",
      "execution_count": null,
      "metadata": {
        "_cell_guid": "984f4c40-19ce-39ce-006c-734c3788dc6f"
      },
      "outputs": [],
      "source": [
        "train_ver2, test_ver2, labels = train_test_split(full_ver2)"
      ]
    },
    {
      "cell_type": "markdown",
      "metadata": {
        "_cell_guid": "6c0488bd-d0b3-0d30-b4c0-1ae9a9c09065"
      },
      "source": [
        "I'm setting the random state variable to prevent random fluctuations appearing significant.  I won't use it in the final classifier."
      ]
    },
    {
      "cell_type": "code",
      "execution_count": null,
      "metadata": {
        "_cell_guid": "758359c7-6016-270f-f82d-7906b2998d53"
      },
      "outputs": [],
      "source": [
        "X_train, X_test, y_train, y_test = cross_validation.train_test_split(train_ver2, labels, test_size=0.3, random_state=42);"
      ]
    },
    {
      "cell_type": "markdown",
      "metadata": {
        "_cell_guid": "2bace568-8ec0-925d-6842-f0a520f13be1"
      },
      "source": [
        "<a name=\"Tuning\"></a>\n",
        "### 3.2 Tuning RF parameters (somewhat methodically)\n",
        "There are many more RF parameter configurations than can be practically be computed.  The plot below illustrates this,"
      ]
    },
    {
      "cell_type": "code",
      "execution_count": null,
      "metadata": {
        "_cell_guid": "27aa6f6a-fbac-50b0-30ac-1d1c45c28dbe"
      },
      "outputs": [],
      "source": [
        "# calculate the time to run a GridSearchCV for multiple numbers of parameter permutations.  \n",
        "grid_times = {}\n",
        "clf = RandomForestClassifier(random_state = 84)\n",
        "\n",
        "features = X_train.columns.drop(['Name', 'PassengerId'], 1)\n",
        "\n",
        "# I commented this out after running once locally since this block of code takes a long time to run\n",
        "'''\n",
        "for number in np.arange(2, 600, 50):\n",
        "    \n",
        "    param = np.arange(1,number,10)\n",
        "    param_grid = {\"n_estimators\": param,\n",
        "                  \"criterion\": [\"gini\", \"entropy\"]}\n",
        "    \n",
        "    grid_search = GridSearchCV(clf, param_grid = param_grid)\n",
        "    \n",
        "    t0 = time()\n",
        "    grid_search.fit(X_train[features], y_train)\n",
        "    compute_time = time() - t0\n",
        "    grid_times[len(grid_search.grid_scores_)] = time() - t0\n",
        "    \n",
        "grid_times = pd.DataFrame.from_dict(grid_times, orient = 'index')\n",
        "'''\n",
        "\n",
        "# hard-coded values were found by running code above\n",
        "grid_times = {0: { 2: 0.034411907196044922,\n",
        "                  12: 1.5366179943084717,\n",
        "                  22: 5.0431020259857178,\n",
        "                  32: 11.378448963165283,\n",
        "                  42: 20.211128950119019,\n",
        "                  52: 30.040457010269165,\n",
        "                  62: 39.442277908325195,\n",
        "                  72: 56.834053993225098,\n",
        "                  82: 67.847633838653564,\n",
        "                  92: 91.005517959594727,\n",
        "                  102: 111.2420859336853,\n",
        "                  112: 135.75759792327881}}"
      ]
    },
    {
      "cell_type": "code",
      "execution_count": null,
      "metadata": {
        "_cell_guid": "ba7da5f2-0835-d7e9-660f-5d4251b6f58c"
      },
      "outputs": [],
      "source": [
        "final = pd.DataFrame.from_dict(grid_times)\n",
        "final = final.sort_index()\n",
        "plt.plot(final.index.values, final[0])\n",
        "plt.xlabel('Number of Parameter Permutations')\n",
        "plt.ylabel('Time (sec)')\n",
        "plt.title('Time vs. Number of Parameter Permutations of GridSearchCV')"
      ]
    },
    {
      "cell_type": "markdown",
      "metadata": {
        "_cell_guid": "30a9ebdc-023f-be4b-ee61-51caaf5149fa"
      },
      "source": [
        "For roughly 100 parameter configurations, it takes about a minute to compute the optimum configuration.  Given that this rate appears to increase at a superlinear rate, the 1000's of configurations we may want to consider cannot be practically computed.  Below I plot the score vs. parameter value graphs for six variables.  From this plot, I can estimate a reasonable range for each parameter to try in `GridSearchCV`.  This method will cut down on the time calculating optimum parameters.  Of course, the downside is that the optimum parameters may still very well fall outside of these ranges."
      ]
    },
    {
      "cell_type": "code",
      "execution_count": null,
      "metadata": {
        "_cell_guid": "eae77a8b-a799-ec25-c0c4-6e8b9f05d9d1"
      },
      "outputs": [],
      "source": [
        "# function takes a RF parameter and a ranger and produces a plot and dataframe of CV scores for parameter values\n",
        "def evaluate_param(parameter, num_range, index):\n",
        "    grid_search = GridSearchCV(clf, param_grid = {parameter: num_range})\n",
        "    grid_search.fit(X_train[features], y_train)\n",
        "    \n",
        "    df = {}\n",
        "    for i, score in enumerate(grid_search.grid_scores_):\n",
        "        df[score[0][parameter]] = score[1]\n",
        "       \n",
        "    \n",
        "    df = pd.DataFrame.from_dict(df, orient='index')\n",
        "    df.reset_index(level=0, inplace=True)\n",
        "    df = df.sort_values(by='index')\n",
        " \n",
        "    plt.subplot(3,2,index)\n",
        "    plot = plt.plot(df['index'], df[0])\n",
        "    plt.title(parameter)\n",
        "    return plot, df"
      ]
    },
    {
      "cell_type": "code",
      "execution_count": null,
      "metadata": {
        "_cell_guid": "793c210e-4a5c-e54a-c6f7-1dea8a805950"
      },
      "outputs": [],
      "source": [
        "# parameters and ranges to plot\n",
        "param_grid = {\"n_estimators\": np.arange(2, 300, 2),\n",
        "              \"max_depth\": np.arange(1, 28, 1),\n",
        "              \"min_samples_split\": np.arange(1,150,1),\n",
        "              \"min_samples_leaf\": np.arange(1,60,1),\n",
        "              \"max_leaf_nodes\": np.arange(2,60,1),\n",
        "              \"min_weight_fraction_leaf\": np.arange(0.1,0.4, 0.1)}"
      ]
    },
    {
      "cell_type": "code",
      "execution_count": null,
      "metadata": {
        "_cell_guid": "b644a49b-be4a-e5b5-1cf1-1ec8976071fc"
      },
      "outputs": [],
      "source": [
        "index = 1\n",
        "plt.figure(figsize=(16,12))\n",
        "for parameter, param_range in dict.items(param_grid):   \n",
        "    evaluate_param(parameter, param_range, index)\n",
        "    index += 1"
      ]
    },
    {
      "cell_type": "markdown",
      "metadata": {
        "_cell_guid": "80740d14-8084-6fd3-1cfc-38865f96a1e7"
      },
      "source": [
        "I can narrow the parameters for `GridSearchCV` using the plots above.  For example, max_leaf_nodes has steadily increasing from 1 to 20 and then it plateaus.  Therefore I will restrict my `GridSearchCV` to the range [18, 22].  Similarly, min_weight_fraction_leaf decreases monotonically, so I won't even look at other values besides the lowest value of 0.1.  This helps restrict the number of permutations I need to run."
      ]
    },
    {
      "cell_type": "code",
      "execution_count": null,
      "metadata": {
        "_cell_guid": "149a5314-0072-f7dc-19f7-3860775a4801"
      },
      "outputs": [],
      "source": [
        "from operator import itemgetter\n",
        "\n",
        "# Utility function to report best scores\n",
        "def report(grid_scores, n_top):\n",
        "    top_scores = sorted(grid_scores, key=itemgetter(1), reverse=True)[:n_top]\n",
        "    for i, score in enumerate(top_scores):\n",
        "        print(\"Model with rank: {0}\".format(i + 1))\n",
        "        print(\"Mean validation score: {0:.4f})\".format(\n",
        "              score.mean_validation_score,\n",
        "              np.std(score.cv_validation_scores)))\n",
        "        print(\"Parameters: {0}\".format(score.parameters))\n",
        "        print(\"\")"
      ]
    },
    {
      "cell_type": "code",
      "execution_count": null,
      "metadata": {
        "_cell_guid": "f221e097-cde7-bfdb-1d98-179a27b52c9d"
      },
      "outputs": [],
      "source": [
        "# parameters for GridSearchCV\n",
        "param_grid2 = {\"n_estimators\": [10, 18, 22],\n",
        "              \"max_depth\": [3, 5],\n",
        "              \"min_samples_split\": [15, 20],\n",
        "              \"min_samples_leaf\": [5, 10, 20],\n",
        "              \"max_leaf_nodes\": [20, 40],\n",
        "              \"min_weight_fraction_leaf\": [0.1]}"
      ]
    },
    {
      "cell_type": "code",
      "execution_count": null,
      "metadata": {
        "_cell_guid": "32cef227-7dc0-fe1c-8adf-3a9a72e0af68"
      },
      "outputs": [],
      "source": [
        "grid_search = GridSearchCV(clf, param_grid=param_grid2)\n",
        "grid_search.fit(X_train[features], y_train)\n",
        "\n",
        "report(grid_search.grid_scores_, 4)"
      ]
    },
    {
      "cell_type": "markdown",
      "metadata": {
        "_cell_guid": "6baedbf8-60f9-7e98-80d0-4714c63cd975"
      },
      "source": [
        "I'll tweak certain parameters one-by-one and repeat this process, looking for an increase in mean validation score.  Setting the random_state is useful here to prevent random fluctuations in mean validation score when comparing different parameter combinations."
      ]
    },
    {
      "cell_type": "code",
      "execution_count": null,
      "metadata": {
        "_cell_guid": "7fef8537-78f7-fe80-77ca-edded4873235"
      },
      "outputs": [],
      "source": [
        "param_grid3 = {\"n_estimators\": [5, 40, 42],\n",
        "              \"max_depth\": [5, 6],\n",
        "              \"min_samples_split\": [5, 10],\n",
        "              \"min_samples_leaf\": [3, 5],\n",
        "              \"max_leaf_nodes\": [14, 15]}"
      ]
    },
    {
      "cell_type": "code",
      "execution_count": null,
      "metadata": {
        "_cell_guid": "64d7f3df-d813-6871-b109-f18aa270e2a7"
      },
      "outputs": [],
      "source": [
        "grid_search = GridSearchCV(clf, param_grid=param_grid3)\n",
        "grid_search.fit(X_train[features], y_train)\n",
        "\n",
        "report(grid_search.grid_scores_, 4)"
      ]
    },
    {
      "cell_type": "markdown",
      "metadata": {
        "_cell_guid": "1c57e310-485a-0443-1077-89fbc0d4113f"
      },
      "source": [
        "<a name=\"Training\"></a>\n",
        "## Training Final Classifier"
      ]
    },
    {
      "cell_type": "code",
      "execution_count": null,
      "metadata": {
        "_cell_guid": "f65ebdf8-2d03-661e-f00c-23749eb3ad63"
      },
      "outputs": [],
      "source": [
        "clf = RandomForestClassifier(min_samples_split = 40, \n",
        "                             max_leaf_nodes = 15, \n",
        "                             n_estimators = 40, \n",
        "                             max_depth = 5,\n",
        "                             min_samples_leaf = 3)"
      ]
    },
    {
      "cell_type": "code",
      "execution_count": null,
      "metadata": {
        "_cell_guid": "54306521-ba0e-f96a-0d49-a376ab193c8f"
      },
      "outputs": [],
      "source": [
        "clf.fit(train_ver2[features], labels);"
      ]
    },
    {
      "cell_type": "code",
      "execution_count": null,
      "metadata": {
        "_cell_guid": "fa0d81d7-2d08-3983-d59c-f824b4d20060"
      },
      "outputs": [],
      "source": [
        "prediction = clf.predict(test_ver2[features])\n",
        "\n",
        "output = pd.DataFrame(test_ver2['PassengerId'])\n",
        "output['Survived'] = prediction\n",
        "output.to_csv('prediction.csv')"
      ]
    },
    {
      "cell_type": "markdown",
      "metadata": {
        "_cell_guid": "85439412-047e-e773-3779-16efa01d3d77"
      },
      "source": [
        "<a name=\"Conclusion\"></a>\n",
        "## Conclusion\n",
        "My prediction gave a `0.799` precision rate, which is okay, though I was hoping for a little higher.  I think the parameter tuning method I used above could be tweaked to work better than it did in this case."
      ]
    }
  ],
  "metadata": {
    "_change_revision": 0,
    "_is_fork": false,
    "kernelspec": {
      "display_name": "Python 3",
      "language": "python",
      "name": "python3"
    },
    "language_info": {
      "codemirror_mode": {
        "name": "ipython",
        "version": 3
      },
      "file_extension": ".py",
      "mimetype": "text/x-python",
      "name": "python",
      "nbconvert_exporter": "python",
      "pygments_lexer": "ipython3",
      "version": "3.5.2"
    }
  },
  "nbformat": 4,
  "nbformat_minor": 0
}