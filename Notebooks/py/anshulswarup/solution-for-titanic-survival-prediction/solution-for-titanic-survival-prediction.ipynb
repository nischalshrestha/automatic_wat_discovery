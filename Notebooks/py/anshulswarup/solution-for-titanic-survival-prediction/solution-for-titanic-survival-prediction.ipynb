{
  "cells": [
    {
      "cell_type": "markdown",
      "metadata": {
        "_cell_guid": "8bd08d88-1ff0-468f-1952-8ef2d872571f"
      },
      "source": [
        "Hi All, \n",
        "\n",
        "This is my solution of Titanic Survival prediction problem "
      ]
    },
    {
      "cell_type": "code",
      "execution_count": null,
      "metadata": {
        "_cell_guid": "80bc06f6-7a67-4287-9c3c-b9a338288e9e"
      },
      "outputs": [],
      "source": [
        "#Importing Libraries\n",
        "\n",
        "import numpy as np # linear algebra\n",
        "import pandas as pd # data processing, CSV file I/O (e.g. pd.read_csv)\n",
        "import matplotlib.pyplot as plt # Visualization \n",
        "import seaborn as sns # Awesome Visualization library \n",
        "% matplotlib inline\n",
        "\n",
        "# Input data files are available in the \"../input/\" directory.\n",
        "# For example, running this (by clicking run or pressing Shift+Enter) will list the files in the input directory\n",
        "\n",
        "#from subprocess import check_output\n",
        "#print(check_output([\"ls\", \"../input\"]).decode(\"utf8\"))\n",
        "\n",
        "# Any results you write to the current directory are saved as output."
      ]
    },
    {
      "cell_type": "code",
      "execution_count": null,
      "metadata": {
        "_cell_guid": "6a782806-30af-de02-d81f-3b64fa8a5901"
      },
      "outputs": [],
      "source": [
        "# Checking Training Dataset\n",
        "train = pd.read_csv('../input/train.csv')\n",
        "train.head()\n"
      ]
    },
    {
      "cell_type": "code",
      "execution_count": null,
      "metadata": {
        "_cell_guid": "e6e8ec00-15e2-fe16-94c3-e9f3d06e2757"
      },
      "outputs": [],
      "source": [
        "# Checking Test Dataset\n",
        "test = pd.read_csv('../input/test.csv')\n",
        "test.head()\n"
      ]
    },
    {
      "cell_type": "code",
      "execution_count": null,
      "metadata": {
        "_cell_guid": "4c119ae5-718b-7c19-d9a6-3f7d1f35d382"
      },
      "outputs": [],
      "source": [
        "# Some Data Visulalization for finding null values in Training Dataset. We see null vaules in Age & Cabin\n",
        "sns.heatmap(train.isnull())"
      ]
    },
    {
      "cell_type": "code",
      "execution_count": null,
      "metadata": {
        "_cell_guid": "d24c90c3-92a3-d9ba-3900-8fe08fe42ad8"
      },
      "outputs": [],
      "source": [
        "# Looking for null values in Test Dataset as well \n",
        "sns.heatmap(test.isnull())\n",
        "# Null values found in Age & Cabin Column"
      ]
    },
    {
      "cell_type": "code",
      "execution_count": null,
      "metadata": {
        "_cell_guid": "f3d11a2d-e1af-84ea-e867-0a36cc9bcfd8"
      },
      "outputs": [],
      "source": [
        "# Continuing with explorartory data analysis \n",
        "sns.countplot(x='Survived',data=train, hue='Sex')"
      ]
    },
    {
      "cell_type": "markdown",
      "metadata": {
        "_cell_guid": "22f5e4c8-a0ba-3ed1-f19e-53a2de67df4b"
      },
      "source": [
        "Above graph indicates that women have high chances of survival from the disaster"
      ]
    },
    {
      "cell_type": "code",
      "execution_count": null,
      "metadata": {
        "_cell_guid": "9b6ec2ea-dbde-3afa-fb9c-29b9f3ca2489"
      },
      "outputs": [],
      "source": [
        "# Survival chances with PClass\n",
        "sns.countplot(x='Pclass',data=train, hue='Sex')\n"
      ]
    },
    {
      "cell_type": "code",
      "execution_count": null,
      "metadata": {
        "_cell_guid": "c3ebb7a0-01da-27d1-d5af-6bef22dac714"
      },
      "outputs": [],
      "source": [
        "# Above figure indicates maximum casualties occur in the 3rd Passenger class "
      ]
    },
    {
      "cell_type": "code",
      "execution_count": null,
      "metadata": {
        "_cell_guid": "24c3db38-abe6-8a44-f82b-a0f80e09a8f2"
      },
      "outputs": [],
      "source": [
        "sns.countplot(x='Age',data=train, hue='Sex')"
      ]
    },
    {
      "cell_type": "code",
      "execution_count": null,
      "metadata": {
        "_cell_guid": "9e0e2997-ef53-dd07-af7a-470b4e610f35"
      },
      "outputs": [],
      "source": [
        "sum(train['Age'].isnull()) # For 177 ppl age data is missing \n",
        "sum(train['Cabin'].isnull())#687 cabin data is missing \n",
        "sum(train['Embarked'].isnull()) # 2 passenger data is missing"
      ]
    },
    {
      "cell_type": "code",
      "execution_count": null,
      "metadata": {
        "_cell_guid": "a074dc0b-5795-5e26-a41c-13d4950b093f"
      },
      "outputs": [],
      "source": [
        "# Cleaing up the data before running prediction algorithms"
      ]
    },
    {
      "cell_type": "markdown",
      "metadata": {
        "_cell_guid": "cc5da64a-ca89-9acf-9e60-aa0759f83ab8"
      },
      "source": [
        "Average age class wise"
      ]
    },
    {
      "cell_type": "code",
      "execution_count": null,
      "metadata": {
        "_cell_guid": "1677c915-3ce8-3f0b-f2af-9abf12eb5467"
      },
      "outputs": [],
      "source": [
        "# Average age of 1st Class passengers -38 years\n",
        "#train[train['Pclass']==1]['Age'].mean()\n",
        "\n",
        "# Average age of 1st Class passengers -29 years\n",
        "#train[train['Pclass']==2]['Age'].mean()\n",
        "\n",
        "# Average age of 1st Class passengers -25 years\n",
        "#train[train['Pclass']==3]['Age'].mean()"
      ]
    },
    {
      "cell_type": "code",
      "execution_count": null,
      "metadata": {
        "_cell_guid": "79d23804-6c63-cc8d-fbe3-ce9ee864c266"
      },
      "outputs": [],
      "source": [
        "# Function for filling missing age data \n",
        "def fill_age(cols):\n",
        "    age = cols[0]\n",
        "    pc = cols[1]\n",
        "    if pd.isnull(age):\n",
        "        if pc==1:\n",
        "            return 38\n",
        "        elif pc==2:\n",
        "            return 29\n",
        "        else:\n",
        "            return 25\n",
        "    else:\n",
        "        return age\n",
        "    "
      ]
    },
    {
      "cell_type": "code",
      "execution_count": null,
      "metadata": {
        "_cell_guid": "47d3e818-d87a-abae-8953-cf200b61caa3"
      },
      "outputs": [],
      "source": [
        "# Filling up missing age data \n",
        "train['Age'] = train[['Age','Pclass']].apply(fill_age,axis=1)"
      ]
    },
    {
      "cell_type": "code",
      "execution_count": null,
      "metadata": {
        "_cell_guid": "a28ac951-2436-3743-20a4-b3bf67b6bb16"
      },
      "outputs": [],
      "source": [
        "sns.heatmap(train.isnull())"
      ]
    },
    {
      "cell_type": "code",
      "execution_count": null,
      "metadata": {
        "_cell_guid": "04accce5-b8fd-9a97-49e2-204062fa14d5"
      },
      "outputs": [],
      "source": [
        "# drop Cabin column as there are lot of missing values\n",
        "train.drop('Cabin',axis=1,inplace=True)"
      ]
    },
    {
      "cell_type": "code",
      "execution_count": null,
      "metadata": {
        "_cell_guid": "5b88558b-880e-45f0-aa92-8304e8c4c63a"
      },
      "outputs": [],
      "source": [
        "train.head()"
      ]
    },
    {
      "cell_type": "code",
      "execution_count": null,
      "metadata": {
        "_cell_guid": "7bf8e84c-64e9-97b5-fefa-2c45235e5ce1"
      },
      "outputs": [],
      "source": [
        "train.dropna(inplace=True)\n",
        "#Now drop all missing values - 2 Embarked Values "
      ]
    },
    {
      "cell_type": "code",
      "execution_count": null,
      "metadata": {
        "_cell_guid": "81007e62-7922-ffcf-b899-816ba14640a5"
      },
      "outputs": [],
      "source": [
        "sns.heatmap(train.isnull())"
      ]
    },
    {
      "cell_type": "code",
      "execution_count": null,
      "metadata": {
        "_cell_guid": "82f99704-1073-11da-372f-db19c134727b"
      },
      "outputs": [],
      "source": [
        "#Create dummy variables for Pclass , Sex & Embarked columns\n",
        "sex =pd.get_dummies(train['Sex'],drop_first=True)\n",
        "embarked = pd.get_dummies(train['Embarked'],drop_first=True)\n",
        "pclass = pd.get_dummies(train['Pclass'],drop_first=True)\n",
        "\n"
      ]
    },
    {
      "cell_type": "code",
      "execution_count": null,
      "metadata": {
        "_cell_guid": "fbcfb328-c64e-d476-4bca-1e4ff1d4cf99"
      },
      "outputs": [],
      "source": [
        "sex.head()"
      ]
    },
    {
      "cell_type": "code",
      "execution_count": null,
      "metadata": {
        "_cell_guid": "7137090d-958b-6ba5-7f73-411d6a9b387d"
      },
      "outputs": [],
      "source": [
        "embarked.head()"
      ]
    },
    {
      "cell_type": "code",
      "execution_count": null,
      "metadata": {
        "_cell_guid": "a91de3a3-bca4-e2af-5f24-aff24fe2effd"
      },
      "outputs": [],
      "source": [
        "pclass.head()"
      ]
    },
    {
      "cell_type": "code",
      "execution_count": null,
      "metadata": {
        "_cell_guid": "3f35f470-358a-03c3-96c1-ff9f240e999f"
      },
      "outputs": [],
      "source": [
        "train = pd.concat([train,sex,embarked,pclass],axis=1)"
      ]
    },
    {
      "cell_type": "code",
      "execution_count": null,
      "metadata": {
        "_cell_guid": "ad29a938-402e-3630-130f-8eb40a92905e"
      },
      "outputs": [],
      "source": [
        "train.head()"
      ]
    },
    {
      "cell_type": "code",
      "execution_count": null,
      "metadata": {
        "_cell_guid": "61f9fc88-5ae3-41cf-177b-9900bb69e6b8"
      },
      "outputs": [],
      "source": [
        "# Defining the Trainging Set for Algorithm testing "
      ]
    },
    {
      "cell_type": "code",
      "execution_count": null,
      "metadata": {
        "_cell_guid": "036f4a83-eb1c-25d6-3b7e-9c972da6d434"
      },
      "outputs": [],
      "source": [
        "X_train=train.drop(['Name','Sex','Ticket','Embarked','PassengerId','Pclass','Survived'],axis=1)"
      ]
    },
    {
      "cell_type": "code",
      "execution_count": null,
      "metadata": {
        "_cell_guid": "3bf0ab60-631f-85ff-7ce2-cf184c32aca1"
      },
      "outputs": [],
      "source": [
        "X_train.head()"
      ]
    },
    {
      "cell_type": "code",
      "execution_count": null,
      "metadata": {
        "_cell_guid": "d894d08e-ee7b-6893-8498-88c451851e55"
      },
      "outputs": [],
      "source": [
        "# Defining the y_train\n",
        "y_train=train['Survived']"
      ]
    },
    {
      "cell_type": "code",
      "execution_count": null,
      "metadata": {
        "_cell_guid": "0ff558fe-da46-375e-7601-25f9c81fee4a"
      },
      "outputs": [],
      "source": [
        "y_train.head()"
      ]
    },
    {
      "cell_type": "code",
      "execution_count": null,
      "metadata": {
        "_cell_guid": "dce5187e-8349-069d-af25-19ff9e9ef457"
      },
      "outputs": [],
      "source": [
        "# Using Logistic Regression Approach on our Dataset\n",
        "#from sklearn.linear_model import LogisticRegression"
      ]
    },
    {
      "cell_type": "code",
      "execution_count": null,
      "metadata": {
        "_cell_guid": "104230cb-2b4e-e77f-84ea-04d7d0a50543"
      },
      "outputs": [],
      "source": [
        "#logmodel = LogisticRegression()\n",
        "#logmodel.fit(X_train,y_train)"
      ]
    },
    {
      "cell_type": "code",
      "execution_count": null,
      "metadata": {
        "_cell_guid": "ca0e20ac-8a7b-5895-8e9f-398122619812"
      },
      "outputs": [],
      "source": [
        "#Defining & Cleaining X_test Data\n"
      ]
    },
    {
      "cell_type": "code",
      "execution_count": null,
      "metadata": {
        "_cell_guid": "f1cac93a-2084-ae97-e4c7-dfb2eecb880d"
      },
      "outputs": [],
      "source": [
        "sns.heatmap(test.isnull())"
      ]
    },
    {
      "cell_type": "code",
      "execution_count": null,
      "metadata": {
        "_cell_guid": "e65a2824-2b80-eca1-5584-0ee313a50af0"
      },
      "outputs": [],
      "source": [
        "# Filling up missing age data \n",
        "test['Age'] = test[['Age','Pclass']].apply(fill_age,axis=1)"
      ]
    },
    {
      "cell_type": "code",
      "execution_count": null,
      "metadata": {
        "_cell_guid": "918400d5-d276-16d1-5745-c7d1bf866b00"
      },
      "outputs": [],
      "source": [
        "# drop Cabin column as there are lot of missing values\n",
        "test.drop('Cabin',axis=1,inplace=True)"
      ]
    },
    {
      "cell_type": "code",
      "execution_count": null,
      "metadata": {
        "_cell_guid": "c85d9550-26d4-e1a7-9e42-5484358eb264"
      },
      "outputs": [],
      "source": [
        "sns.heatmap(test.isnull())"
      ]
    },
    {
      "cell_type": "code",
      "execution_count": null,
      "metadata": {
        "_cell_guid": "8f3d6008-af2c-719e-39d9-63687e773e5c"
      },
      "outputs": [],
      "source": [
        "#Create dummy variables for Pclass , Sex & Embarked columns\n",
        "sex =pd.get_dummies(test['Sex'],drop_first=True)\n",
        "embarked = pd.get_dummies(test['Embarked'],drop_first=True)\n",
        "pclass = pd.get_dummies(test['Pclass'],drop_first=True)"
      ]
    },
    {
      "cell_type": "code",
      "execution_count": null,
      "metadata": {
        "_cell_guid": "ca28900b-5a2f-a714-d204-3f88ab5fc5b2"
      },
      "outputs": [],
      "source": [
        "test = pd.concat([test,sex,embarked,pclass],axis=1)"
      ]
    },
    {
      "cell_type": "code",
      "execution_count": null,
      "metadata": {
        "_cell_guid": "70e5da66-36a4-898f-8031-93f59358a455"
      },
      "outputs": [],
      "source": [
        "test.head()"
      ]
    },
    {
      "cell_type": "code",
      "execution_count": null,
      "metadata": {
        "_cell_guid": "89e9b6e9-9524-c0c5-2961-8c53bcd071d3"
      },
      "outputs": [],
      "source": [
        "X_test=test.drop(['Name','Sex','Ticket','Embarked','PassengerId','Pclass'],axis=1)"
      ]
    },
    {
      "cell_type": "code",
      "execution_count": null,
      "metadata": {
        "_cell_guid": "dcc7d240-0e26-faad-bffa-55940cbb7776"
      },
      "outputs": [],
      "source": [
        "X_test.head() "
      ]
    },
    {
      "cell_type": "code",
      "execution_count": null,
      "metadata": {
        "_cell_guid": "b9e931a6-c365-8134-21f7-dafbfcfadb7b"
      },
      "outputs": [],
      "source": [
        "# Predicting Survival from our X_test Dataset"
      ]
    },
    {
      "cell_type": "code",
      "execution_count": null,
      "metadata": {
        "_cell_guid": "21b1e8ec-b0db-6a32-b021-39e87f0149c1"
      },
      "outputs": [],
      "source": [
        "X_test.isnull().any()"
      ]
    },
    {
      "cell_type": "code",
      "execution_count": null,
      "metadata": {
        "_cell_guid": "ce790fec-2d77-b0ac-19e4-c4bc47533553"
      },
      "outputs": [],
      "source": [
        "X_test['Fare'].fillna(value=35,inplace=True)"
      ]
    },
    {
      "cell_type": "code",
      "execution_count": null,
      "metadata": {
        "_cell_guid": "16ef1847-f762-d9cf-b151-090d039927b9"
      },
      "outputs": [],
      "source": [
        "X_test.isnull().any()"
      ]
    },
    {
      "cell_type": "code",
      "execution_count": null,
      "metadata": {
        "_cell_guid": "51f7f8f3-af03-83f6-73c7-821860f73f1e"
      },
      "outputs": [],
      "source": [
        "# Predicting Survival from our X_test Dataset using Logistic Regression"
      ]
    },
    {
      "cell_type": "code",
      "execution_count": null,
      "metadata": {
        "_cell_guid": "52d673d3-078e-cf04-fe02-79f4ef22ce47"
      },
      "outputs": [],
      "source": [
        "#y_predict = logmodel.predict(X_test)"
      ]
    },
    {
      "cell_type": "code",
      "execution_count": null,
      "metadata": {
        "_cell_guid": "1fe7c1c3-1ea6-1995-1eaa-7dbd7c665ac1"
      },
      "outputs": [],
      "source": [
        "# Using Random Forest Approach to predict results \n",
        "from sklearn.ensemble import RandomForestClassifier\n",
        "rfc = RandomForestClassifier(n_estimators=600)\n",
        "rfc.fit(X_train,y_train)\n",
        "y_predict = rfc.predict(X_test)\n",
        "\n"
      ]
    },
    {
      "cell_type": "code",
      "execution_count": null,
      "metadata": {
        "_cell_guid": "496c8051-222d-e325-4cf8-f90681b23528"
      },
      "outputs": [],
      "source": [
        "submission = pd.DataFrame({\n",
        "        \"PassengerId\": test[\"PassengerId\"],\n",
        "        \"Survived\": y_predict\n",
        "    })\n",
        "submission.to_csv('randonforest_titanic.csv', index=False)"
      ]
    }
  ],
  "metadata": {
    "_change_revision": 0,
    "_is_fork": false,
    "kernelspec": {
      "display_name": "Python 3",
      "language": "python",
      "name": "python3"
    },
    "language_info": {
      "codemirror_mode": {
        "name": "ipython",
        "version": 3
      },
      "file_extension": ".py",
      "mimetype": "text/x-python",
      "name": "python",
      "nbconvert_exporter": "python",
      "pygments_lexer": "ipython3",
      "version": "3.6.0"
    }
  },
  "nbformat": 4,
  "nbformat_minor": 0
}