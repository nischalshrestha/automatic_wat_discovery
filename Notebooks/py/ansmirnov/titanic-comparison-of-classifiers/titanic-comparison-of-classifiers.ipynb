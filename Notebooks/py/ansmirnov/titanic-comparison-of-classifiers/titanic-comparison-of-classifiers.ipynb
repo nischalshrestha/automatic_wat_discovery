{
  "cells": [
    {
      "cell_type": "code",
      "execution_count": null,
      "metadata": {
        "_cell_guid": "bd2270f2-87a8-42cc-bee3-68f208fcc2d2"
      },
      "outputs": [],
      "source": [
        "import numpy as np\n",
        "import pandas as pd\n",
        "\n",
        "train = pd.read_csv(\"../input/train.csv\", dtype={\"Age\": np.float64}, )\n",
        "test  = pd.read_csv(\"../input/test.csv\", dtype={\"Age\": np.float64}, )\n",
        "\n",
        "predictors = [\"Pclass\", \"Sex\", \"Age\", \"SibSp\", \"Parch\", \"Fare\", \"Embarked\"]\n",
        "mark=\"Survived\""
      ]
    },
    {
      "cell_type": "code",
      "execution_count": null,
      "metadata": {
        "_cell_guid": "36a00ee7-8228-4c2b-9d3d-77e73686b84f"
      },
      "outputs": [],
      "source": [
        "def harmonize_data(titanic):\n",
        "    \n",
        "    titanic[\"Age\"] = titanic[\"Age\"].fillna(titanic[\"Age\"].median())\n",
        "    titanic[\"Age\"].median()\n",
        "    \n",
        "    \n",
        "    \n",
        "    titanic.loc[titanic[\"Sex\"] == \"male\", \"Sex\"] = 0\n",
        "    titanic.loc[titanic[\"Sex\"] == \"female\", \"Sex\"] = 1\n",
        "    \n",
        "    titanic[\"Embarked\"] = titanic[\"Embarked\"].fillna(\"S\")\n",
        "\n",
        "    titanic.loc[titanic[\"Embarked\"] == \"S\", \"Embarked\"] = 0\n",
        "    titanic.loc[titanic[\"Embarked\"] == \"C\", \"Embarked\"] = 1\n",
        "    titanic.loc[titanic[\"Embarked\"] == \"Q\", \"Embarked\"] = 2\n",
        "\n",
        "    titanic[\"Fare\"] = titanic[\"Fare\"].fillna(titanic[\"Fare\"].median())\n",
        "\n",
        "    return titanic"
      ]
    },
    {
      "cell_type": "code",
      "execution_count": null,
      "metadata": {
        "_cell_guid": "8463baaa-fc88-4fbc-bdd1-b8efbd72bf3c"
      },
      "outputs": [],
      "source": [
        "def create_submission(clf, train, test, predictors, filename):\n",
        "\n",
        "    clf.fit(train[predictors], train[\"Survived\"])\n",
        "    predictions = clf.predict(test[predictors])\n",
        "\n",
        "    submission = pd.DataFrame({\n",
        "        \"PassengerId\": test[\"PassengerId\"],\n",
        "        \"Survived\": predictions\n",
        "    })\n",
        "    \n",
        "    submission.to_csv(filename, index=False)"
      ]
    },
    {
      "cell_type": "code",
      "execution_count": null,
      "metadata": {
        "_cell_guid": "d00cbac2-b75c-1eca-16c2-2b44a833a6d5"
      },
      "outputs": [],
      "source": [
        "from sklearn.model_selection import cross_val_score\n",
        "\n",
        "def validation_scores(clf, train_data):\n",
        "    scores = cross_val_score(\n",
        "        clf,\n",
        "        train_data[predictors],\n",
        "        train_data[mark],\n",
        "        cv=3\n",
        "    )\n",
        "    return scores.mean()"
      ]
    },
    {
      "cell_type": "code",
      "execution_count": null,
      "metadata": {
        "_cell_guid": "0f52674d-8dc6-4783-933b-c8d84f4e5fc2"
      },
      "outputs": [],
      "source": [
        "train_data = harmonize_data(train)\n",
        "test_data  = harmonize_data(test)"
      ]
    },
    {
      "cell_type": "code",
      "execution_count": null,
      "metadata": {
        "_cell_guid": "4e1901e4-559b-335b-c7f5-69802189ab50"
      },
      "outputs": [],
      "source": [
        "def compare_metods(classifiers, train_data):\n",
        "    names, scores = [], []\n",
        "    for name, clf in classifiers:\n",
        "        #names.append(str(alg))\n",
        "        names.append(name)\n",
        "        scores.append(validation_scores(clf, train_data))\n",
        "    return pd.DataFrame(scores, index=names, columns=['Scores'])"
      ]
    },
    {
      "cell_type": "code",
      "execution_count": null,
      "metadata": {
        "_cell_guid": "b45fcbc9-91a8-2e49-2cc1-ff850829b228"
      },
      "outputs": [],
      "source": [
        "# http://scikit-learn.org/stable/auto_examples/classification/plot_classifier_comparison.html\n",
        "\n",
        "from sklearn.neighbors import KNeighborsClassifier\n",
        "from sklearn.svm import SVC\n",
        "from sklearn.gaussian_process import GaussianProcessClassifier\n",
        "from sklearn.gaussian_process.kernels import RBF\n",
        "from sklearn.tree import DecisionTreeClassifier\n",
        "from sklearn.ensemble import RandomForestClassifier, AdaBoostClassifier\n",
        "from sklearn.neural_network import MLPClassifier\n",
        "from sklearn.naive_bayes import GaussianNB\n",
        "from sklearn.discriminant_analysis import QuadraticDiscriminantAnalysis\n",
        "    \n",
        "classifiers = [\n",
        "    (\"Nearest Neighbors\", KNeighborsClassifier(3)),\n",
        "    (\"Linear SVM\", SVC(kernel=\"linear\", C=0.025)),\n",
        "    (\"RBF SVM\", SVC(gamma=2, C=1)),\n",
        "    (\"Gaussian Process\",GaussianProcessClassifier(1.0 * RBF(1.0), warm_start=True)),\n",
        "    (\"Decision Tree\", DecisionTreeClassifier(max_depth=5)),\n",
        "    (\"Random Forest\", RandomForestClassifier(max_depth=5, n_estimators=10, max_features=1)),\n",
        "    (\"Neural Net\", MLPClassifier(alpha=1)),\n",
        "    (\"AdaBoost\",AdaBoostClassifier()),\n",
        "    (\"Naive Bayes\", GaussianNB()),\n",
        "    (\"QDA\", QuadraticDiscriminantAnalysis())\n",
        "]\n",
        "\n",
        "res = compare_metods(classifiers, train_data)\n",
        "res"
      ]
    },
    {
      "cell_type": "code",
      "execution_count": null,
      "metadata": {
        "_cell_guid": "99e9a64b-6bef-8818-634d-ab1509d809dc"
      },
      "outputs": [],
      "source": [
        "%matplotlib inline\n",
        "\n",
        "#import matplotlib.pyplot as plt\n",
        "\n",
        "res.plot(kind='bar', rot=90)"
      ]
    },
    {
      "cell_type": "code",
      "execution_count": null,
      "metadata": {
        "_cell_guid": "4f3473f9-8ee2-4854-bad5-e1f16d7076e1"
      },
      "outputs": [],
      "source": [
        "best_alg = classifiers[sorted(list(zip(list(res.Scores), range(len(res)))))[-1][1]]\n",
        "create_submission(best_alg[1], train_data, test_data, predictors, \"titanic.csv\")"
      ]
    }
  ],
  "metadata": {
    "_change_revision": 0,
    "_is_fork": false,
    "kernelspec": {
      "display_name": "Python 3",
      "language": "python",
      "name": "python3"
    },
    "language_info": {
      "codemirror_mode": {
        "name": "ipython",
        "version": 3
      },
      "file_extension": ".py",
      "mimetype": "text/x-python",
      "name": "python",
      "nbconvert_exporter": "python",
      "pygments_lexer": "ipython3",
      "version": "3.5.2"
    }
  },
  "nbformat": 4,
  "nbformat_minor": 0
}