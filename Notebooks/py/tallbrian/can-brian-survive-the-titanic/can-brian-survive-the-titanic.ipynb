{
  "cells": [
    {
      "cell_type": "markdown",
      "metadata": {
        "_cell_guid": "aea06928-576b-ead1-1d22-4843f993b9a6"
      },
      "source": [
        "Hello World\n",
        "==========\n",
        "This is my first attempt at Titanic...  I am new to data science and pandas but I am excited to learn.\n",
        "--------------------------------------------------------------------------------------------------------------------"
      ]
    },
    {
      "cell_type": "markdown",
      "metadata": {
        "_cell_guid": "cdefbb6e-d24e-975f-243d-7eef1f4e54e7"
      },
      "source": [
        "In the first cell I am __importing several libraries__\n",
        "---------------------------\n",
        "\n",
        " - numpy to take means\n",
        " - csv to pull in comma separated value file\n",
        " - matplotlib to do some visualizations\n",
        "\n",
        "then reading in the training data file\n",
        "--------------------"
      ]
    },
    {
      "cell_type": "code",
      "execution_count": null,
      "metadata": {
        "_cell_guid": "86179af8-3cb4-4661-84ea-addd2c7679d4"
      },
      "outputs": [],
      "source": [
        "import numpy as np\n",
        "import csv\n",
        "\n",
        "with open('../input/train.csv') as csvfile:\n",
        "    reader = csv.reader(csvfile)\n",
        "    h = reader.__next__()\n",
        "    data = [r for r in reader]\n",
        "    \n",
        "print(h)\n",
        "print(data[0])"
      ]
    },
    {
      "cell_type": "code",
      "execution_count": null,
      "metadata": {
        "_cell_guid": "263f5761-4a6a-f575-46b2-35faa1fbb8d9"
      },
      "outputs": [],
      "source": [
        "p_class = lambda x: x[-10]\n",
        "p_namelen = lambda x: len(x[-9])\n",
        "p_title = lambda x: [w for w in x[-9].split() if w.find('.') != -1][0]\n",
        "p_gender = lambda x: x[-8]\n",
        "p_age = lambda x: x[-7]\n",
        "p_numsibs = lambda x: x[-6]\n",
        "p_parch = lambda x: x[-5]\n",
        "p_ticket = lambda x: x[-4]\n",
        "p_fare = lambda x: x[-3]\n",
        "p_cabin_let = lambda x: [y[0] for y in x[-2].split()] if len(x[-2])>0 else 'Z'\n",
        "p_cabin_num = lambda x: [y[1:] for y in x[-2].split()] if len(x[-2])>0 else 0\n",
        "p_embark = lambda x: x[-1]\n",
        "\n",
        "print([[p_cabin_let(x), p_cabin_num(x)] for x in data])\n",
        "\n",
        "metric_attribute = lambda x: [p_class(x), p_title(x), p_gender(x), p_parch(x)]\n",
        "metric_continuous = lambda x: [p_namelen(x), p_age(x), p_numsibs(x), p_fare(x)]"
      ]
    },
    {
      "cell_type": "markdown",
      "metadata": {
        "_cell_guid": "b98b6222-2864-c029-b08e-f008d1d3d31d"
      },
      "source": [
        "First just get an boolean array of who survived.  This will be used to compare against all feature sets..."
      ]
    },
    {
      "cell_type": "code",
      "execution_count": null,
      "metadata": {
        "_cell_guid": "778218a1-0ca8-22d1-3b2f-bb91fa80d4b2"
      },
      "outputs": [],
      "source": [
        "Survived = [True if r[1] == '1' else False for r in data]\n",
        "import matplotlib.pyplot as plt\n",
        " \n",
        "# Setup Plot Data\n",
        "labels = 'Survived', 'Perished'\n",
        "sizes = [sum(person == True for person in Survived), sum(person != True for person in Survived)]\n",
        "colors = ['green', 'red']\n",
        "explode = (0.1, 0)  # explode 1st slice\n",
        " \n",
        "# Plot\n",
        "plt.pie(sizes, explode=explode, labels=labels, colors=colors,\n",
        "        autopct='%1.1f%%', shadow=True, startangle=-20)\n",
        " \n",
        "plt.axis('equal')\n",
        "plt.show()"
      ]
    },
    {
      "cell_type": "markdown",
      "metadata": {
        "_cell_guid": "f995a1c3-4751-ba1d-ad35-6d2031533f30"
      },
      "source": [
        "Next, see how survivors can be predicted based on class"
      ]
    },
    {
      "cell_type": "code",
      "execution_count": null,
      "metadata": {
        "_cell_guid": "66fb4035-8681-224a-a444-e0bb145fc86b"
      },
      "outputs": [],
      "source": [
        "Class = [r[2] for r in data]\n",
        "ClassList = list(set(Class))\n",
        "Survivor_by_class =\\\n",
        "    [np.mean([1 if Survived[i] else 0 for i in range(len(Survived)) if Class[i] == c]) for c in ClassList]\n",
        "print('Survivors by Class', [c for c in ClassList], Survivor_by_class)\n",
        "\n",
        "ind = np.arange(len(ClassList))    # the x locations for the groups\n",
        "width = 0.5       # the width of the bars: can also be len(x) sequence\n",
        "p1 = plt.bar(ind, Survivor_by_class, width, color='r')\n",
        "plt.ylabel('% Surviving')\n",
        "plt.title('Survivors by Class')\n",
        "plt.xticks(ind + width/2., ClassList)\n",
        "plt.yticks(np.arange(0, 1.01, .1))\n",
        "plt.show()"
      ]
    },
    {
      "cell_type": "markdown",
      "metadata": {
        "_cell_guid": "041b5f52-681e-490f-27b6-fef2dba76bdd"
      },
      "source": [
        "Next, see how survivors can be predicted based on length of name.  A little silly but maybe rich people had longer names and more rich people survived?"
      ]
    },
    {
      "cell_type": "code",
      "execution_count": null,
      "metadata": {
        "_cell_guid": "d09414c6-5bd2-7ef0-7973-7b088e189ff2"
      },
      "outputs": [],
      "source": [
        "NameLen = [len(r[3]) for r in data]\n",
        "NameLenList = list(set(NameLen))\n",
        "Survivor_by_namelen =\\\n",
        "    [np.mean([1 if Survived[i] else 0 for i in range(len(Survived)) if NameLen[i] == n]) for n in NameLenList]\n",
        "print('Survivors by NameLength', [n for n in NameLenList], Survivor_by_namelen)\n",
        "\n",
        "ind = np.arange(len(NameLenList))    # the x locations for the groups\n",
        "width = 1      # the width of the bars: can also be len(x) sequence\n",
        "p1 = plt.bar(ind, Survivor_by_namelen, width, color='r')\n",
        "plt.ylabel('% Surviving')\n",
        "plt.title('Survivors by NameLength')\n",
        "plt.xticks(ind + width/2., NameLenList, rotation='vertical', fontsize=6)\n",
        "plt.yticks(np.arange(0, 1.01, .1))\n",
        "plt.show()"
      ]
    },
    {
      "cell_type": "code",
      "execution_count": null,
      "metadata": {
        "_cell_guid": "45707024-7728-72cc-26b9-7e82ef5e47e9"
      },
      "outputs": [],
      "source": [
        "TitleString = [[w for w in r[3].split() if w.find('.') != -1][0] for r in data]\n",
        "TitleList = list(set(TitleString))\n",
        "TitlesEnum = [TitleList.index(t) for t in TitleString]\n",
        "Survivor_by_title =\\\n",
        "    [np.mean([1 if Survived[i] else 0 for i in range(len(Survived)) if TitleString[i] == t]) for t in TitleList]\n",
        "print('Survivors by Title', [t for t in TitleList], Survivor_by_title)\n",
        "\n",
        "ind = np.arange(len(TitleList))    # the x locations for the groups\n",
        "width = 1      # the width of the bars: can also be len(x) sequence\n",
        "p1 = plt.bar(ind, Survivor_by_title, width, color='r')\n",
        "plt.ylabel('% Surviving')\n",
        "plt.title('Survivors by Title')\n",
        "plt.xticks(ind + width/2., TitleList, rotation='vertical')\n",
        "plt.yticks(np.arange(0, 1.01, .1))\n",
        "plt.show()"
      ]
    },
    {
      "cell_type": "code",
      "execution_count": null,
      "metadata": {
        "_cell_guid": "75748bb7-ef68-634e-f18a-a64a1b27ea1e"
      },
      "outputs": [],
      "source": [
        "Gender = [r[4] for r in data]\n",
        "GenderList = list(set(Gender))\n",
        "GenderEnum = [GenderList.index(g) for g in Gender]\n",
        "Age = [r[5] for r in data]\n",
        "\n",
        "Survivor_by_gender =\\\n",
        "    [np.mean([1 if Survived[i] else 0 for i in range(len(Survived)) if Gender[i] == g]) for g in GenderList]\n",
        "print('Survivors by Gender', [g for g in GenderList], Survivor_by_gender)\n",
        "\n",
        "ind = np.arange(len(GenderList))    # the x locations for the groups\n",
        "width = 1      # the width of the bars: can also be len(x) sequence\n",
        "p1 = plt.bar(ind, Survivor_by_gender, width, color='r')\n",
        "plt.ylabel('% Surviving')\n",
        "plt.title('Survivors by Title')\n",
        "plt.xticks(ind + width/2., GenderList, rotation='vertical')\n",
        "plt.yticks(np.arange(0, 1.01, .1))\n",
        "plt.show()"
      ]
    },
    {
      "cell_type": "markdown",
      "metadata": {
        "_cell_guid": "4863f005-ff18-8157-c295-485d68f97d02"
      },
      "source": [
        "Roll all the estimators into a complete predictor\n",
        "==================================="
      ]
    },
    {
      "cell_type": "code",
      "execution_count": null,
      "metadata": {
        "_cell_guid": "7f234466-e327-b34e-a39f-c00021edecd9"
      },
      "outputs": [],
      "source": [
        "with open('../input/test.csv') as csvfile:\n",
        "    reader = csv.reader(csvfile)\n",
        "    h = reader.__next__()\n",
        "    test_data = [r for r in reader]\n",
        "\n",
        "for p in test_data:\n",
        "    prob_by_class = Survivor_by_class[ClassList.index(p[1])] if p[1] in ClassList else 0.5\n",
        "    prob_by_namelength = Survivor_by_namelen[NameLenList.index(len(p[2]))] if len(p[2]) in NameLenList else 0.5\n",
        "    prob_by_title = Survivor_by_title[TitleList.index([w for w in p[2].split() if w.find('.') != -1][0])] if [w for w in p[2].split() if w.find('.') != -1][0] in TitleList else 0.5\n",
        "    prob_by_gender = Survivor_by_gender[GenderList.index(p[3])] if p[3] in GenderList else 0.5\n",
        "\n",
        "weights = [[sum(p[1]==d[2] for d in data),\n",
        "            sum(len(p[2])==len(d[3]) for d in data),\n",
        "            sum([w for w in p[2].split() if w.find('.') != -1][0]  == [x for x in d[3].split() if x.find('.')!= -1][0] for d in data),\n",
        "            sum(p[3]==d[4] for d in data)] for p in test_data]\n",
        "\n",
        "norm_weights = [[ww / sum(w) for ww in w] for w in weights]\n",
        "    \n",
        "survival_vec = [[Survivor_by_class[ClassList.index(p[1])] if p[1] in ClassList else 0.5, \n",
        "                 Survivor_by_namelen[NameLenList.index(len(p[2]))] if len(p[2]) in NameLenList else 0.5,\n",
        "                 Survivor_by_title[TitleList.index([w for w in p[2].split() if w.find('.') != -1][0])] if [w for w in p[2].split() if w.find('.') != -1][0] in TitleList else 0.5,\n",
        "                 Survivor_by_gender[GenderList.index(p[3])] if p[3] in GenderList else 0.5]\n",
        "                for p in test_data]\n",
        "\n",
        "\n",
        "survival_probability = [np.dot(x[0], x[1]) for x in zip(survival_vec, norm_weights)]\n",
        "\n",
        "projected_survivors = [1 if p >= .50 else 0 for p in survival_probability]\n",
        "plt.plot(survival_probability)\n",
        "plt.show()\n",
        "print(\"Projected survivors:\", sum(projected_survivors))\n",
        "print(\"Projected survival rate:\", sum(projected_survivors)/len(projected_survivors))"
      ]
    },
    {
      "cell_type": "code",
      "execution_count": null,
      "metadata": {
        "_cell_guid": "6f802f10-ad58-bc44-c5f4-8320185420d9"
      },
      "outputs": [],
      "source": [
        "import pandas as pd\n",
        "\n",
        "submission = pd.DataFrame({\n",
        "        \"PassengerId\": [p[0] for p in test_data],\n",
        "        \"Survived\": projected_survivors\n",
        "    })\n",
        "submission.to_csv('titanic.csv', index=False)\n",
        "print('Complete!')"
      ]
    }
  ],
  "metadata": {
    "_change_revision": 0,
    "_is_fork": false,
    "kernelspec": {
      "display_name": "Python 3",
      "language": "python",
      "name": "python3"
    },
    "language_info": {
      "codemirror_mode": {
        "name": "ipython",
        "version": 3
      },
      "file_extension": ".py",
      "mimetype": "text/x-python",
      "name": "python",
      "nbconvert_exporter": "python",
      "pygments_lexer": "ipython3",
      "version": "3.6.0"
    }
  },
  "nbformat": 4,
  "nbformat_minor": 0
}