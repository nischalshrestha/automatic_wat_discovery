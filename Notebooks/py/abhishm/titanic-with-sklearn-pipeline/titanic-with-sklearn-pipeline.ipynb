{
  "cells": [
    {
      "cell_type": "markdown",
      "metadata": {
        "_cell_guid": "439c3918-a997-257b-9218-152b7505e041"
      },
      "source": [
        "Titanic with Pipelines\n",
        "\n",
        "I am learning about Pipeline in Scikit learn. I found that they are very useful for implementing and testing new ideas quickly. This ipython notebook is written in this spirit. "
      ]
    },
    {
      "cell_type": "code",
      "execution_count": null,
      "metadata": {
        "_cell_guid": "a023fe10-4ea4-a055-1e31-722a771ea81a"
      },
      "outputs": [],
      "source": [
        "import pandas as pd\n",
        "from sklearn.pipeline import Pipeline\n",
        "from sklearn.base import BaseEstimator, TransformerMixin\n",
        "from sklearn.preprocessing import MinMaxScaler\n",
        "from sklearn.linear_model import LogisticRegression\n",
        "from sklearn.ensemble import RandomForestClassifier\n",
        "from sklearn.cross_validation import cross_val_score, train_test_split\n",
        "from sklearn.grid_search import RandomizedSearchCV, GridSearchCV\n",
        "from sklearn.svm import SVC, LinearSVC"
      ]
    },
    {
      "cell_type": "code",
      "execution_count": null,
      "metadata": {
        "_cell_guid": "07257c2a-3a22-f3f2-ccc5-bafc1351626d"
      },
      "outputs": [],
      "source": [
        "class OneHotEncoding(BaseEstimator, TransformerMixin):\n",
        "    \"\"\"Takes in dataframe and give one hot encoding for categorical features \"\"\"\n",
        "\n",
        "    def __init__(self, column_names=[]):\n",
        "        self.column_names = column_names\n",
        "\n",
        "    def transform(self, df, y=None):\n",
        "        \"\"\"transform a categorical feature into one-hot-encoding\"\"\"\n",
        "        return pd.get_dummies(df, columns=self.column_names)\n",
        "\n",
        "    def fit(self, df, y=None):\n",
        "        \"\"\"Pass\"\"\"\n",
        "        return self"
      ]
    },
    {
      "cell_type": "code",
      "execution_count": null,
      "metadata": {
        "_cell_guid": "e19af0a5-96d2-413e-5af7-8d7fe7549b42"
      },
      "outputs": [],
      "source": [
        "class DropColumns(BaseEstimator, TransformerMixin):\n",
        "    \"\"\"Drop the columns in a dataframe \"\"\"\n",
        "\n",
        "    def __init__(self, column_names=[]):\n",
        "        self.column_names = column_names\n",
        "\n",
        "    def transform(self, df, y=None):\n",
        "        \"\"\"drop the columns present in self.columns\"\"\"\n",
        "        return df.drop(self.column_names, axis=1)\n",
        "\n",
        "    def fit(self, df, y=None):\n",
        "        \"\"\"Pass\"\"\"\n",
        "        return self"
      ]
    },
    {
      "cell_type": "code",
      "execution_count": null,
      "metadata": {
        "_cell_guid": "dd2595b4-9ef1-8798-380a-28606270309a"
      },
      "outputs": [],
      "source": [
        "class ColumnExtractor(BaseEstimator, TransformerMixin):\n",
        "    \"\"\"Takes in dataframe, extracts a columns as feture \"\"\"\n",
        "\n",
        "    def __init__(self, column_names=[]):\n",
        "        self.column_names = column_names\n",
        "\n",
        "    def transform(self, df, y=None):\n",
        "        \"\"\"Return the columns\"\"\"\n",
        "        return df.loc[:, self.column_names]\n",
        "\n",
        "    def fit(self, df, y=None):\n",
        "        \"\"\"Pass\"\"\"\n",
        "        return self"
      ]
    },
    {
      "cell_type": "code",
      "execution_count": null,
      "metadata": {
        "_cell_guid": "6b98d467-b91e-0fde-e6ed-1624556fed9f"
      },
      "outputs": [],
      "source": [
        "class SexBinarizer(BaseEstimator, TransformerMixin):\n",
        "    \"\"\"Takes in dataframe, extracts a columns as feture \"\"\"\n",
        "\n",
        "    def __init__(self, column_names=[]):\n",
        "        pass\n",
        "\n",
        "    def transform(self, df, y=None):\n",
        "        \"\"\"female maps to 0 and male maps to 1\"\"\"\n",
        "        df.loc[:, \"Sex\"] = df.loc[:, \"Sex\"].map({\"male\": 0, \"female\": 1})\n",
        "        return df\n",
        "\n",
        "    def fit(self, df, y=None):\n",
        "        \"\"\"pass\"\"\"\n",
        "        return self"
      ]
    },
    {
      "cell_type": "code",
      "execution_count": null,
      "metadata": {
        "_cell_guid": "95e0713f-2948-a6c9-41a3-1e8c8d7b0fa4"
      },
      "outputs": [],
      "source": [
        "class FeatureNormalizer(BaseEstimator, TransformerMixin):\n",
        "    \"\"\"Takes in dataframe, extracts a columns as feture \"\"\"\n",
        "\n",
        "    def __init__(self, column_names=[]):\n",
        "        self.column_names = column_names\n",
        "        self.min_max_scalar = MinMaxScaler()\n",
        "\n",
        "    def transform(self, df, y=None):\n",
        "        \"\"\"Min Max Scalar\"\"\"\n",
        "        df.loc[:, self.column_names] = self.min_max_scalar.transform(df[self.column_names].as_matrix())\n",
        "        return df\n",
        "\n",
        "    def fit(self, df, y=None):\n",
        "        \"\"\"FItting Min Max Scalar\"\"\"\n",
        "        self.min_max_scalar.fit(df[self.column_names].as_matrix())\n",
        "        return self"
      ]
    },
    {
      "cell_type": "code",
      "execution_count": null,
      "metadata": {
        "_cell_guid": "c0ef145a-0191-9491-a4c2-1b59defb2433"
      },
      "outputs": [],
      "source": [
        "class FillNa(BaseEstimator, TransformerMixin):\n",
        "    \"\"\"Takes in dataframe, fill NaN values in a given columns \"\"\"\n",
        "\n",
        "    def __init__(self, method=\"mean\"):\n",
        "        self.method = method\n",
        "\n",
        "    def transform(self, df, y=None):\n",
        "        \"\"\"The workhorse of this feature extractor\"\"\"\n",
        "        if self.method == \"zeros\":\n",
        "            df.fillna(0)\n",
        "        elif self.method == \"mean\":\n",
        "            df.fillna(df.mean(), inplace=True)\n",
        "        else:\n",
        "            raise ValueError(\"Method should be 'mean' or 'zeros'\")\n",
        "        return df\n",
        "\n",
        "    def fit(self, df, y=None):\n",
        "        \"\"\"Returns `self` unless something different happens in train and test\"\"\"\n",
        "        return self"
      ]
    },
    {
      "cell_type": "code",
      "execution_count": null,
      "metadata": {
        "_cell_guid": "c3c70f24-0874-7957-d79a-932b510aaf8f"
      },
      "outputs": [],
      "source": [
        "class AddTwoCategoricalVariables(BaseEstimator, TransformerMixin):\n",
        "    def __init__(self, column_1, column_2):\n",
        "        self.column_1 = column_1\n",
        "        self.column_2 = column_2\n",
        "    \n",
        "    def transform(self, df):\n",
        "        df[self.column_1 + \"_\" + self.column_2] = (df[self.column_1].astype(float) + \n",
        "                                                (len(df[self.column_1].unique()) * \n",
        "                                                (df[self.column_2].astype(float)))).astype(\"category\")\n",
        "        return df\n",
        "    \n",
        "    def fit(self, df, y=None):\n",
        "        return self"
      ]
    },
    {
      "cell_type": "code",
      "execution_count": null,
      "metadata": {
        "_cell_guid": "c2532ac9-87fd-7882-81fd-a2d8e95793f6"
      },
      "outputs": [],
      "source": [
        "class Numerical2Categorical(BaseEstimator, TransformerMixin):\n",
        "    def __init__(self, column, ranges, labels):\n",
        "        self.column = column\n",
        "        self.ranges = ranges\n",
        "        self.labels = labels\n",
        "        \n",
        "    def transform(self, df):\n",
        "        df.loc[:, self.column + \"_\" + \"cat\"] = (pd\n",
        "                                                .cut(df.loc[:, self.column], \n",
        "                                                     self.ranges, labels=self.labels))\n",
        "        return df\n",
        "    \n",
        "    def fit(self, df, y=None):\n",
        "        return self"
      ]
    },
    {
      "cell_type": "code",
      "execution_count": null,
      "metadata": {
        "_cell_guid": "ad40e074-5492-0bcd-d7f7-4fadc9a346b7"
      },
      "outputs": [],
      "source": [
        "def submission(pred):\n",
        "    submission = pd.DataFrame({\n",
        "        \"PassengerId\": df_test[\"PassengerId\"],\n",
        "        \"Survived\": pred\n",
        "    })\n",
        "    submission.to_csv('titanic.csv', index=False)"
      ]
    },
    {
      "cell_type": "code",
      "execution_count": null,
      "metadata": {
        "_cell_guid": "243db776-8d02-da65-3766-5cc3c1458433"
      },
      "outputs": [],
      "source": [
        "df_train = pd.read_csv(\"../input/train.csv\")\n",
        "df_test = pd.read_csv(\"../input/test.csv\")\n",
        "\n",
        "y_train = df_train.Survived"
      ]
    },
    {
      "cell_type": "code",
      "execution_count": null,
      "metadata": {
        "_cell_guid": "f16e2a60-faec-8f77-e2e6-cf19b2bae88c"
      },
      "outputs": [],
      "source": [
        "#Null Accuracy\n",
        "print(\"Null Accuracy: {0:0.4f}\".format((y_train.value_counts() / len(y_train)).head(1)[0]))"
      ]
    },
    {
      "cell_type": "code",
      "execution_count": null,
      "metadata": {
        "_cell_guid": "39e66270-3541-3cfd-24c0-7fb63bec4723"
      },
      "outputs": [],
      "source": [
        "dropped_row_subset = [\"Embarked\"]\n",
        "df_train_copy = df_train.dropna(subset=dropped_row_subset)\n",
        "y_train = df_train_copy.Survived"
      ]
    },
    {
      "cell_type": "code",
      "execution_count": null,
      "metadata": {
        "_cell_guid": "158253c4-49fb-c061-2a38-07b7778803ca"
      },
      "outputs": [],
      "source": [
        "feature_columns = [\"Fare\", \"Pclass\", \"Sex\", \"Age\", \"SibSp\", \"Parch\"]\n",
        "normalize_features = [\"Fare\", \"SibSp\", \"Parch\"]"
      ]
    },
    {
      "cell_type": "code",
      "execution_count": null,
      "metadata": {
        "_cell_guid": "f1aba2b8-3ead-4100-87bf-d8f1137f63f9"
      },
      "outputs": [],
      "source": [
        "age_range = [0, 15, 35, 50, 80]\n",
        "age_label = [0, 1, 2, 3]"
      ]
    },
    {
      "cell_type": "code",
      "execution_count": null,
      "metadata": {
        "_cell_guid": "78450ead-2a85-32b7-cbab-90827453a95f"
      },
      "outputs": [],
      "source": [
        "def cross_val_accuracy():\n",
        "    pipeline = Pipeline([\n",
        "            (\"column_extractor\", ColumnExtractor(feature_columns)),\n",
        "            (\"fill_na\", FillNa(\"mean\")),\n",
        "            (\"sex_binarizer\", SexBinarizer()),\n",
        "            (\"num2cat\", Numerical2Categorical(\"Age\", age_range, age_label)),\n",
        "            (\"add_age_sex\", AddTwoCategoricalVariables(\"Age_cat\", \"Sex\")),\n",
        "            (\"add_sex_class\", AddTwoCategoricalVariables(\"Sex\", \"Pclass\")),\n",
        "            (\"add_age_sex_class\", AddTwoCategoricalVariables(\"Age_cat_Sex\", \"Pclass\")),\n",
        "            (\"one_hot_encoding\", OneHotEncoding([\"Age_cat_Sex\", \"Sex_Pclass\"])),\n",
        "            (\"drop_columns\", DropColumns([\"Age_cat\"])),\n",
        "            (\"feature_normalizer\", FeatureNormalizer(normalize_features)),\n",
        "            (\"clf\", LogisticRegression())])\n",
        "    scores = cross_val_score(pipeline, df_train_copy, y_train, cv=5, scoring=\"accuracy\")\n",
        "    print(\"cross-validation score: {0:0.4f}\".format(scores.mean()))\n",
        "    return scores.mean(), pipeline"
      ]
    },
    {
      "cell_type": "code",
      "execution_count": null,
      "metadata": {
        "_cell_guid": "164f6d07-4086-6a56-67e5-51fc6dbc0b30"
      },
      "outputs": [],
      "source": [
        "score, clf = cross_val_accuracy()"
      ]
    },
    {
      "cell_type": "code",
      "execution_count": null,
      "metadata": {
        "_cell_guid": "818d9644-2bb2-24b2-1382-026851261d4c"
      },
      "outputs": [],
      "source": ""
    },
    {
      "cell_type": "code",
      "execution_count": null,
      "metadata": {
        "_cell_guid": "f28ab7d6-9857-08ad-f655-80256bd7b2b6"
      },
      "outputs": [],
      "source": [
        "clf.fit(df_train_copy, y_train)\n",
        "submission(clf.predict(df_test))"
      ]
    },
    {
      "cell_type": "markdown",
      "metadata": {
        "_cell_guid": "6812b3d3-2294-d40f-55b5-1b806d35dd92"
      },
      "source": ""
    },
    {
      "cell_type": "markdown",
      "metadata": {
        "_cell_guid": "f8ce28a3-6391-3abf-b2e0-bc40d79ce405"
      },
      "source": ""
    },
    {
      "cell_type": "code",
      "execution_count": null,
      "metadata": {
        "_cell_guid": "1d604153-e1d3-1181-7997-4c217f9e46da"
      },
      "outputs": [],
      "source": ""
    }
  ],
  "metadata": {
    "_change_revision": 0,
    "_is_fork": false,
    "kernelspec": {
      "display_name": "Python 3",
      "language": "python",
      "name": "python3"
    },
    "language_info": {
      "codemirror_mode": {
        "name": "ipython",
        "version": 3
      },
      "file_extension": ".py",
      "mimetype": "text/x-python",
      "name": "python",
      "nbconvert_exporter": "python",
      "pygments_lexer": "ipython3",
      "version": "3.6.0"
    }
  },
  "nbformat": 4,
  "nbformat_minor": 0
}