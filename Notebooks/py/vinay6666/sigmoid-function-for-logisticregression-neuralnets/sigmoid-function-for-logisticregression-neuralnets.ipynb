{
  "cells": [
    {
      "cell_type": "markdown",
      "metadata": {
        "_cell_guid": "80fd9209-bd82-1438-79f9-363ddafba8ad"
      },
      "source": [
        "# ***Sigmoid Function / Logistic Function***"
      ]
    },
    {
      "cell_type": "markdown",
      "metadata": {
        "_cell_guid": "94897617-25f2-5f77-0386-51ad65873d28"
      },
      "source": [
        "### Most often , we would want to predict our outcomes as YES/NO (1/0) . \n",
        "### For example:\n",
        "* Is your favourite football team going to win the match today ? -> yes/no (1/0)\n",
        "* Did a particular passenger on titanic survive ? -> yes/no (1/0)"
      ]
    },
    {
      "cell_type": "markdown",
      "metadata": {
        "_cell_guid": "c267a180-ebab-2f82-9228-271d680ef452"
      },
      "source": [
        "## The Sigmoid Function / Logistic Function:"
      ]
    },
    {
      "cell_type": "markdown",
      "metadata": {
        "_cell_guid": "9f82bac5-d91e-292a-b0a5-2b9f95aebddc"
      },
      "source": [
        "![Sigmoid function](https://qph.ec.quoracdn.net/main-qimg-05edc1873d0103e36064862a45566dba?convert_to_webp=true)"
      ]
    },
    {
      "cell_type": "markdown",
      "metadata": {
        "_cell_guid": "ed6715e3-df67-b07c-dfd5-51fd29a01d70"
      },
      "source": [
        "# S(x)=1/(1+e^-x)"
      ]
    },
    {
      "cell_type": "markdown",
      "metadata": {
        "_cell_guid": "48c18945-83eb-6215-573b-19308da9c4b2"
      },
      "source": [
        "* The sigmoid function gives an 'S' shaped curve. "
      ]
    },
    {
      "cell_type": "markdown",
      "metadata": {
        "_cell_guid": "53e9b055-1ba9-1cd8-9eb6-8e6b4214cff5"
      },
      "source": [
        "* This curve has a finite limit of :\n",
        "* '0' as x approaches -infinity  \n",
        "* '1' as x approaches +infinity"
      ]
    },
    {
      "cell_type": "markdown",
      "metadata": {
        "_cell_guid": "56fa8f27-61ec-4b5a-3a04-531e628e0b34"
      },
      "source": [
        "## The output of sigmoid function when x=0 is 0.5 . Thus , if the output is more than 0.5 , we can classify the outcome as 1 (or Yes) and if it is less than 0.5 , we can classify it as 0 (or No)"
      ]
    },
    {
      "cell_type": "markdown",
      "metadata": {
        "_cell_guid": "a82165f1-83c5-0689-4e85-677df24b9db8"
      },
      "source": [
        "## For example:\n",
        "* If the output is 0.65 , we can say in terms of probability as : \"There is a 65 percent chance that your favourite foot ball team is going to win today\". "
      ]
    },
    {
      "cell_type": "markdown",
      "metadata": {
        "_cell_guid": "a5e8ac98-40a3-372b-19a0-c8f33b448d14"
      },
      "source": [
        "## Thus the output of the sigmoid can not just be used to classify as Yes/No . The output value can also be used to determine the probability of Yes/No. "
      ]
    },
    {
      "cell_type": "markdown",
      "metadata": {
        "_cell_guid": "40639f43-98be-bf6d-0167-e26157cf2da0"
      },
      "source": [
        "# ***Now we shall realise it Python***"
      ]
    },
    {
      "cell_type": "markdown",
      "metadata": {
        "_cell_guid": "c65821d2-c02a-9b10-0af4-71b5ec725816"
      },
      "source": [
        "## Imports:\n",
        "* We need math for writing the sigmoid function\n",
        "* numpy to define the values for X-axis\n",
        "* matplotlib to plot the output"
      ]
    },
    {
      "cell_type": "code",
      "execution_count": null,
      "metadata": {
        "_cell_guid": "beb34bd7-b402-57ee-348c-7f84ac813c45"
      },
      "outputs": [],
      "source": [
        "import math\n",
        "import matplotlib.pyplot as plt\n",
        "import numpy as np"
      ]
    },
    {
      "cell_type": "markdown",
      "metadata": {
        "_cell_guid": "d626540c-799e-0172-0b59-68545f24b7ab"
      },
      "source": [
        "## Next we shall define the sigmoid function as described in the above equation."
      ]
    },
    {
      "cell_type": "code",
      "execution_count": null,
      "metadata": {
        "_cell_guid": "fa209123-77c7-fe0b-7340-b497b663b98f"
      },
      "outputs": [],
      "source": [
        "def sigmoid(x):\n",
        "    a = []\n",
        "    for item in x:\n",
        "               #(the sigmoid function)\n",
        "        a.append(1/(1+math.exp(-item)))\n",
        "    return a"
      ]
    },
    {
      "cell_type": "markdown",
      "metadata": {
        "_cell_guid": "dfb59b2b-f141-6a4e-e301-4382df3a3520"
      },
      "source": [
        "## Now , we shall generate some values for x :\n",
        "* This will have values from -10 to +10 with increment as 0.2  ->(-10.0 , -9.8 ,...0,0.2,0.4,...9.8)"
      ]
    },
    {
      "cell_type": "code",
      "execution_count": null,
      "metadata": {
        "_cell_guid": "d125ccab-fd63-2cab-1b33-8b9913aacd9f"
      },
      "outputs": [],
      "source": [
        "x = np.arange(-10., 10., 0.2)"
      ]
    },
    {
      "cell_type": "markdown",
      "metadata": {
        "_cell_guid": "3d7eeef9-0a97-0dfe-f2e3-fd56eb11f860"
      },
      "source": [
        "## We shall pass the values of 'x' to our sigmoid function and store it's output in variable 'y'"
      ]
    },
    {
      "cell_type": "code",
      "execution_count": null,
      "metadata": {
        "_cell_guid": "b853bc30-10ca-5bd3-7a37-1f59505b6fec"
      },
      "outputs": [],
      "source": [
        "y = sigmoid(x)"
      ]
    },
    {
      "cell_type": "markdown",
      "metadata": {
        "_cell_guid": "f9b14802-a180-eabb-7cd5-c354d6b2f0bb"
      },
      "source": [
        "## We will plot the 'x' values in X-axis and 'y'  Values in Y-axis to realise our sigmoid curve."
      ]
    },
    {
      "cell_type": "code",
      "execution_count": null,
      "metadata": {
        "_cell_guid": "2e8bd013-a85c-c8c6-2242-ddaa3b2de281"
      },
      "outputs": [],
      "source": [
        "plt.plot(x,y)\n",
        "plt.show()"
      ]
    },
    {
      "cell_type": "markdown",
      "metadata": {
        "_cell_guid": "d1f23d01-b974-3c37-5080-cd4c5086f675"
      },
      "source": [
        "## We can observer that , if 'x' is very negative output is almost zero and if 'x'  is very positive its almost one. But when 'x' is 0 , y is 0.5."
      ]
    },
    {
      "cell_type": "code",
      "execution_count": null,
      "metadata": {
        "_cell_guid": "e9d37bdd-6138-dda8-b764-81661ab60da4"
      },
      "outputs": [],
      "source": ""
    }
  ],
  "metadata": {
    "_change_revision": 0,
    "_is_fork": false,
    "kernelspec": {
      "display_name": "Python 3",
      "language": "python",
      "name": "python3"
    },
    "language_info": {
      "codemirror_mode": {
        "name": "ipython",
        "version": 3
      },
      "file_extension": ".py",
      "mimetype": "text/x-python",
      "name": "python",
      "nbconvert_exporter": "python",
      "pygments_lexer": "ipython3",
      "version": "3.5.2"
    }
  },
  "nbformat": 4,
  "nbformat_minor": 0
}