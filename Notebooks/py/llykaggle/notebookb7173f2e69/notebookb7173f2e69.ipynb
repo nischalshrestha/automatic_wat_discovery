{
  "cells": [
    {
      "cell_type": "markdown",
      "metadata": {
        "_cell_guid": "12194d66-db58-bbbd-a7a4-b968e3313eaa"
      },
      "source": [
        "titanic data analysis"
      ]
    },
    {
      "cell_type": "code",
      "execution_count": null,
      "metadata": {
        "_cell_guid": "5121118c-6ef1-88d4-4e61-5ca08929e9fd"
      },
      "outputs": [],
      "source": [
        "# This Python 3 environment comes with many helpful analytics libraries installed\n",
        "# It is defined by the kaggle/python docker image: https://github.com/kaggle/docker-python\n",
        "# For example, here's several helpful packages to load in \n",
        "\n",
        "import numpy as np # linear algebra\n",
        "import pandas as pd # data processing, CSV file I/O (e.g. pd.read_csv)\n",
        "import seaborn as sns\n",
        "import matplotlib.pyplot as plt\n",
        "import matplotlib.gridspec as gridspec\n",
        "import itertools\n",
        "import numpy as np\n",
        "import sklearn as  sk\n",
        "from scipy import stats\n",
        "from statsmodels.graphics.mosaicplot import mosaic\n",
        "from sklearn.linear_model import LogisticRegression\n",
        "from sklearn.linear_model import Perceptron\n",
        "from sklearn import tree\n",
        "from sklearn.neighbors import KNeighborsClassifier\n",
        "from sklearn.ensemble import RandomForestClassifier,ExtraTreesClassifier,BaggingClassifier,AdaBoostClassifier,GradientBoostingClassifier,VotingClassifier\n",
        "from sklearn import svm\n",
        "import xgboost as xgb\n",
        "from mlxtend.classifier import StackingClassifier\n",
        "\n",
        "from sklearn.model_selection import cross_val_score,KFold,train_test_split,GridSearchCV\n",
        "from sklearn.metrics import confusion_matrix\n",
        "\n",
        "\n",
        "# Input data files are available in the \"../input/\" directory.\n",
        "# For example, running this (by clicking run or pressing Shift+Enter) will list the files in the input directory\n",
        "\n",
        "from subprocess import check_output\n",
        "print(check_output([\"ls\", \"../input\"]).decode(\"utf8\"))\n",
        "\n",
        "# Any results you write to the current directory are saved as output."
      ]
    },
    {
      "cell_type": "code",
      "execution_count": null,
      "metadata": {
        "_cell_guid": "23a6d5a6-be61-6caa-7b47-7863c9ddd4f1"
      },
      "outputs": [],
      "source": [
        "train_df = pd.read_csv(\"../input/train.csv\")\n",
        "test_df = pd.read_csv(\"../input/test.csv\")"
      ]
    },
    {
      "cell_type": "code",
      "execution_count": null,
      "metadata": {
        "_cell_guid": "79df3109-6897-2c17-bec1-9560fed4ccaa"
      },
      "outputs": [],
      "source": [
        "\n",
        "train_df.dtypes"
      ]
    },
    {
      "cell_type": "code",
      "execution_count": null,
      "metadata": {
        "_cell_guid": "44b13021-d84d-4200-6f5c-a3cae4d38802"
      },
      "outputs": [],
      "source": [
        "train_df.head()"
      ]
    },
    {
      "cell_type": "code",
      "execution_count": null,
      "metadata": {
        "_cell_guid": "dd541f2f-7932-8094-d58c-816d04bfcc3d"
      },
      "outputs": [],
      "source": [
        "combin = pd.concat([train_df.drop(\"Survived\",1),test_df])"
      ]
    },
    {
      "cell_type": "code",
      "execution_count": null,
      "metadata": {
        "_cell_guid": "3f5bfebb-1945-35ee-f8df-fef778769cb8"
      },
      "outputs": [],
      "source": [
        "combin.head(10)"
      ]
    },
    {
      "cell_type": "code",
      "execution_count": null,
      "metadata": {
        "_cell_guid": "91ce07e9-01b1-dbaa-2821-03f06780c6b8"
      },
      "outputs": [],
      "source": [
        "train_df.describe()"
      ]
    },
    {
      "cell_type": "code",
      "execution_count": null,
      "metadata": {
        "_cell_guid": "47c5f84a-0b9f-36be-8561-de3737bed76c"
      },
      "outputs": [],
      "source": [
        "#missing value\n",
        "train_df.isnull().sum()"
      ]
    },
    {
      "cell_type": "code",
      "execution_count": null,
      "metadata": {
        "_cell_guid": "9cf356c8-4d95-3ed6-b2ad-b4dcb026f030"
      },
      "outputs": [],
      "source": [
        "#check the test data missing value\n",
        "test_df.info()"
      ]
    },
    {
      "cell_type": "code",
      "execution_count": null,
      "metadata": {
        "_cell_guid": "27db3fa4-9b0b-7ff8-71a9-e29090edf252"
      },
      "outputs": [],
      "source": [
        "test_df.isnull().sum()"
      ]
    },
    {
      "cell_type": "code",
      "execution_count": null,
      "metadata": {
        "_cell_guid": "667fe3f4-40c7-f8d8-9040-751e49479b64"
      },
      "outputs": [],
      "source": [
        "surv = train_df[train_df[\"Survived\"]==1]\n",
        "nosurv = train_df[train_df[\"Survived\"]==0]\n",
        "print(len(surv)/train_df.shape[0],len(nosurv)/train_df.shape[0])"
      ]
    },
    {
      "cell_type": "code",
      "execution_count": null,
      "metadata": {
        "_cell_guid": "94f6634a-04ee-fd8c-6012-d59da2fa7b06"
      },
      "outputs": [],
      "source": [
        "#plot dist about Age,\u76f4\u65b9\u56fe\n",
        "sns.set(font_scale=3)\n",
        "surv_col = \"blue\"\n",
        "nosurv_col = \"red\"\n",
        "plt.figure(figsize=(30,28))\n",
        "plt.subplot(331)\n",
        "dist_min  = int(train_df[\"Age\"].min())\n",
        "dist_max = int(train_df['Age'].max())\n",
        "surv_axe = sns.distplot(surv['Age'].dropna(),bins=range(dist_min,dist_max+1,1),kde=False,color=surv_col)\n",
        "#surv_axe.set_axis_label(\"survived Age\")\n",
        "surv_axe.set(xlabel=\"survived Age\")\n",
        "plt.subplot(332)\n",
        "nosurv_axe = sns.distplot(nosurv[\"Age\"].dropna(),bins=range(dist_min,dist_max+1,1),kde=False,color=nosurv_col)\n",
        "#nosurv_axe.set_axis_label(\"no survived Age\")\n",
        "nosurv_axe.set(xlabel=\"no survived Age\")\n",
        "plt.subplot(333)\n",
        "surv_axe = sns.distplot(surv['Age'].dropna(),bins=range(dist_min,dist_max+1,1),kde=False,color=surv_col)\n",
        "nosurv_axe = sns.distplot(nosurv[\"Age\"].dropna(),bins=range(dist_min,dist_max+1,1),kde=False,color=nosurv_col)\n",
        "\n",
        "\n",
        "#\u6bcf\u4e2a\u7c7b\u522b\u5b58\u6d3b\u4eba\u6570\u7684\u6bd4\u7387\n",
        "oridinal_plot = {334:\"Sex\",335:\"Pclass\",336:\"SibSp\",337:\"Parch\",338:\"Embarked\"}\n",
        "for splot,colum in oridinal_plot.items():\n",
        "    plt.subplot(splot)\n",
        "    sns.barplot(colum,\"Survived\",data=train_df)\n",
        "\n",
        "    \n",
        "plt.subplot(339)\n",
        "#\u6570\u503c\u7c7b\u578b\uff0c\u53d6\u5bf9\u6570\uff0c\u8d77\u5230\u5f52\u4e00\u5316\u7684\u4f5c\u7528\n",
        "sns.distplot(np.log10(surv['Fare'].dropna().values+1), kde=False, color=surv_col)\n",
        "sns.distplot(np.log10(nosurv['Fare'].dropna().values+1), kde=False, color=nosurv_col,axlabel='Fare')"
      ]
    },
    {
      "cell_type": "code",
      "execution_count": null,
      "metadata": {
        "_cell_guid": "0ad2bd01-b0ca-a800-8718-c3617c9604c0"
      },
      "outputs": [],
      "source": ""
    }
  ],
  "metadata": {
    "_change_revision": 0,
    "_is_fork": false,
    "kernelspec": {
      "display_name": "Python 3",
      "language": "python",
      "name": "python3"
    },
    "language_info": {
      "codemirror_mode": {
        "name": "ipython",
        "version": 3
      },
      "file_extension": ".py",
      "mimetype": "text/x-python",
      "name": "python",
      "nbconvert_exporter": "python",
      "pygments_lexer": "ipython3",
      "version": "3.6.0"
    }
  },
  "nbformat": 4,
  "nbformat_minor": 0
}