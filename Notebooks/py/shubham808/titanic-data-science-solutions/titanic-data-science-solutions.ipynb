{
  "cells": [
    {
      "cell_type": "markdown",
      "metadata": {
        "_cell_guid": "ea25cdf7-bdbc-3cf1-0737-bc51675e3374"
      },
      "source": [
        "# Titanic Data Science \n",
        "\n",
        "Objective of this Notebook is to Simplify the Titanic Survival Prediction Problem by using a Multiple Layer Perceptron\n",
        "\n",
        "The Various Steps are:\n",
        "1. Question or problem definition.\n",
        "2. Acquire training and testing data.\n",
        "3. Wrangle, prepare, cleanse the data.\n",
        "4. Analyze, identify patterns, and explore the data.\n",
        "5. Model, predict and solve the problem.\n",
        "6. Visualize, report, and present the problem solving steps and final solution.\n",
        "7. Supply or submit the results.\n",
        "\n",
        "## Question and problem definition\n",
        "\n",
        "> Knowing from a training set of samples listing passengers who survived or did not survive the Titanic disaster, can our model determine based on a given test dataset not containing the survival information, if these passengers in the test dataset survived or not.\n",
        "\n",
        " Here are the highlights to note:\n",
        "- On April 15, 1912, during her maiden voyage, the Titanic sank after colliding with an iceberg, killing 1502 out of 2224 passengers and crew. Translated 32% survival rate.\n",
        "- One of the reasons that the shipwreck led to such loss of life was that there were not enough lifeboats for the passengers and crew.\n",
        "- Although there was some element of luck involved in surviving the sinking, some groups of people were more likely to survive than others, such as women, children, and the upper-class.\n",
        "\n",
        "Below is all you need to import for this to work so make sure you can import everything."
      ]
    },
    {
      "cell_type": "code",
      "execution_count": null,
      "metadata": {
        "_cell_guid": "5767a33c-8f18-4034-e52d-bf7a8f7d8ab8"
      },
      "outputs": [],
      "source": [
        "\n",
        "import pandas as pd\n",
        "import numpy as np\n",
        "import random as rnd\n",
        "import matplotlib.pyplot as plt\n",
        "\n",
        "#sklearn\n",
        "from sklearn.ensemble import RandomForestClassifier\n",
        "from sklearn.linear_model import LogisticRegression\n",
        "from sklearn.tree import DecisionTreeClassifier\n",
        "from sklearn.svm import SVC\n",
        "from sklearn.neighbors import KNeighborsClassifier\n",
        "#Deep Learning\n",
        "\n",
        "from keras.models import Sequential\n",
        "from keras.utils import np_utils\n",
        "from keras.layers.core import Dense, Activation, Dropout\n",
        "from keras.metrics import categorical_accuracy as accuracy\n",
        "from keras import regularizers\n",
        "from sklearn import linear_model\n",
        "from sklearn.metrics import accuracy_score\n",
        "from sklearn import svm\n",
        "from sklearn.ensemble import RandomForestClassifier"
      ]
    },
    {
      "cell_type": "markdown",
      "metadata": {
        "_cell_guid": "6b5dc743-15b1-aac6-405e-081def6ecca1"
      },
      "source": [
        "## Acquire data\n",
        "\n",
        "The Python Pandas packages helps us work with our datasets. We start by acquiring the training and testing datasets into Pandas DataFrames. We also combine these datasets to run certain operations on both datasets together.\n",
        "We will seperate the labels from the train features"
      ]
    },
    {
      "cell_type": "code",
      "execution_count": null,
      "metadata": {
        "_cell_guid": "e7319668-86fe-8adc-438d-0eef3fd0a982"
      },
      "outputs": [],
      "source": [
        "features_train = pd.read_csv('../input/train.csv')\n",
        "features_test = pd.read_csv('../input/test.csv')\n",
        "\n",
        "labels_train = features_train['Survived']\n",
        "features_train.drop('Survived', axis=1, inplace=True)"
      ]
    },
    {
      "cell_type": "markdown",
      "metadata": {
        "_cell_guid": "3d6188f3-dc82-8ae6-dabd-83e28fcbf10d"
      },
      "source": [
        "## Analyze by describing data\n",
        "\n",
        "Pandas also helps describe the datasets answering following questions early in our project.\n",
        "\n",
        "**Which features are available in the dataset?**\n",
        "\n",
        "Noting the feature names for directly manipulating or analyzing these. These feature names are described on the [Kaggle data page here](https://www.kaggle.com/c/titanic/data)."
      ]
    },
    {
      "cell_type": "code",
      "execution_count": null,
      "metadata": {
        "_cell_guid": "ce473d29-8d19-76b8-24a4-48c217286e42"
      },
      "outputs": [],
      "source": [
        "print(features_train.columns.values)"
      ]
    },
    {
      "cell_type": "markdown",
      "metadata": {
        "_cell_guid": "cd19a6f6-347f-be19-607b-dca950590b37"
      },
      "source": [
        "**Which features are categorical?**\n",
        "\n",
        "These values classify the samples into sets of similar samples. Within categorical features are the values nominal, ordinal, ratio, or interval based? Among other things this helps us select the appropriate plots for visualization.\n",
        "\n",
        "- Categorical: Survived, Sex, and Embarked. Ordinal: Pclass.\n",
        "\n",
        "**Which features are numerical?**\n",
        "\n",
        "Which features are numerical? These values change from sample to sample. Within numerical features are the values discrete, continuous, or timeseries based? Among other things this helps us select the appropriate plots for visualization.\n",
        "\n",
        "- Continous: Age, Fare. Discrete: SibSp, Parch."
      ]
    },
    {
      "cell_type": "code",
      "execution_count": null,
      "metadata": {
        "_cell_guid": "8d7ac195-ac1a-30a4-3f3f-80b8cf2c1c0f"
      },
      "outputs": [],
      "source": [
        "\n",
        "features_train.head()"
      ]
    },
    {
      "cell_type": "markdown",
      "metadata": {
        "_cell_guid": "97f4e6f8-2fea-46c4-e4e8-b69062ee3d46"
      },
      "source": [
        "**Which features are mixed data types?**\n",
        "\n",
        "Numerical, alphanumeric data within same feature. These are candidates for correcting goal.\n",
        "\n",
        "- Ticket is a mix of numeric and alphanumeric data types. Cabin is alphanumeric.\n",
        "\n",
        "**Which features may contain errors or typos?**\n",
        "\n",
        "This is harder to review for a large dataset, however reviewing a few samples from a smaller dataset may just tell us outright, which features may require correcting.\n",
        "\n",
        "- Name feature may contain errors or typos as there are several ways used to describe a name including titles, round brackets, and quotes used for alternative or short names."
      ]
    },
    {
      "cell_type": "code",
      "execution_count": null,
      "metadata": {
        "_cell_guid": "f6e761c2-e2ff-d300-164c-af257083bb46"
      },
      "outputs": [],
      "source": [
        "features_train.tail()"
      ]
    },
    {
      "cell_type": "markdown",
      "metadata": {
        "_cell_guid": "8bfe9610-689a-29b2-26ee-f67cd4719079"
      },
      "source": [
        "**Which features contain blank, null or empty values?**\n",
        "\n",
        "These will require correcting.\n",
        "\n",
        "- Cabin > Age > Embarked features contain a number of null values in that order for the training dataset.\n",
        "- Cabin > Age are incomplete in case of test dataset.\n",
        "\n",
        "**What are the data types for various features?**\n",
        "\n",
        "Helping us during converting goal.\n",
        "\n",
        "- Seven features are integer or floats. Six in case of test dataset.\n",
        "- Five features are strings (object)."
      ]
    },
    {
      "cell_type": "markdown",
      "metadata": {
        "_cell_guid": "2cb22b88-937d-6f14-8b06-ea3361357889"
      },
      "source": [
        "### Assumtions based on data analysis\n",
        "\n",
        "We arrive at following assumptions based on data analysis done so far. We may validate these assumptions further before taking appropriate actions.\n",
        "\n",
        "1. We may want to complete Age feature as it is definitely correlated to survival.\n",
        "2. We may want to complete the Embarked feature as it may also correlate with survival or another important feature.\n",
        "\n",
        "Dropping Features\n",
        "\n",
        "3. Ticket feature may be dropped from our analysis as it contains high ratio of duplicates.\n",
        "4. Cabin feature may be dropped as it is highly incomplete or contains many null values both in training and test dataset.\n",
        "5. PassengerId may be dropped from training dataset as it does not contribute to survival.\n",
        "6. Name feature may not contribute directly to survival, so it maybe dropped.\n",
        "7. Pclass may also be dropped.\n",
        "\n",
        "\n",
        "Creating New Features\n",
        "\n",
        "1. We may want to create a new feature called Family based on Parch and SibSp to get total count of family members on board.\n",
        "2. We may want to engineer the Name feature to extract Title as a new feature."
      ]
    },
    {
      "cell_type": "markdown",
      "metadata": {
        "_cell_guid": "6db63a30-1d86-266e-2799-dded03c45816"
      },
      "source": [
        "###Scaling Features\n",
        "\n",
        "As few of our most informative features are numerical in nature.\n",
        "Therefore, the range of all features should be normalized so that each feature contributes approximately proportionately to the output and not generate distortions.\n",
        "We will focus on the features Age and Fare while Scaling them.\n",
        "We calculate the max value then subtract the mean from each.\n",
        "This will be done after we pre-process the features for now we just look at the logic."
      ]
    },
    {
      "cell_type": "code",
      "execution_count": null,
      "metadata": {
        "_cell_guid": "e686f98b-a8c9-68f8-36a4-d4598638bbd5"
      },
      "outputs": [],
      "source": [
        "\n",
        "\n",
        "#Combining Features for uniformity in test and train\n",
        "combined_features = features_train.append(features_test)\n",
        "combined_features.reset_index(inplace=True)\n",
        "combined_features.drop('index', axis=1, inplace=True)"
      ]
    },
    {
      "cell_type": "markdown",
      "metadata": {
        "_cell_guid": "cfac6291-33cc-506e-e548-6cad9408623d"
      },
      "source": [
        "###Dropping Features\n",
        "\n",
        "This is a good starting goal to execute. By dropping features we are dealing with fewer data points. Speeds up our notebook and eases the analysis.\n",
        "Based on our assumptions and decisions we want to drop the Cabin, Pclass and Ticket features.\n",
        "\n",
        "Note that where applicable we perform operations on both training and testing datasets together to stay consistent.\n",
        "To do this we will first combine them both."
      ]
    },
    {
      "cell_type": "code",
      "execution_count": null,
      "metadata": {
        "_cell_guid": "da057efe-88f0-bf49-917b-bb2fec418ed9"
      },
      "outputs": [],
      "source": [
        "combined_features = features_train.append(features_test)\n",
        "combined_features.reset_index(inplace=True)\n",
        "combined_features.drop('index', axis=1, inplace=True)"
      ]
    },
    {
      "cell_type": "markdown",
      "metadata": {
        "_cell_guid": "6b3a1216-64b6-7fe2-50bc-e89cc964a41c"
      },
      "source": [
        "### Creating new feature extracting from existing\n",
        "\n",
        "We want to analyze if Name feature can be engineered to extract titles and test correlation between titles and survival, before dropping Name and PassengerId features.\n",
        "\n",
        "In the following code we extract Title feature using regular expressions. The RegEx pattern `(\\w+\\.)` matches the first word which ends with a dot character within Name feature. The `expand=False` flag returns a DataFrame.\n",
        "\n",
        "When we plot Title, Age, and Survived, we note the following observations.\n",
        "\n",
        "- Most titles band Age groups accurately. For example: Master title has Age mean of 5 years.\n",
        "- Survival among Title Age bands varies slightly.\n",
        "- Certain titles mostly survived (Mme, Lady, Sir) or did not (Don, Rev, Jonkheer).\n",
        "\n",
        "- We decide to retain the new Title feature for model training."
      ]
    },
    {
      "cell_type": "code",
      "execution_count": null,
      "metadata": {
        "_cell_guid": "908c08a6-3395-19a5-0cd7-13341054012a"
      },
      "outputs": [],
      "source": [
        "#processing the importance- titles\n",
        "combined_features['Title']= combined_features['Name'].map(\n",
        "    lambda name: name.split(',')[1].split('.')[0].strip())\n",
        "Title_Dictionary = {\n",
        "                        \"Capt\":       \"Officer\",\n",
        "                        \"Col\":        \"Officer\",\n",
        "                        \"Major\":      \"Officer\",\n",
        "                        \"Jonkheer\":   \"Royalty\",\n",
        "                        \"Don\":        \"Royalty\",\n",
        "                        \"Sir\" :       \"Royalty\",\n",
        "                        \"Dr\":         \"Officer\",\n",
        "                        \"Rev\":        \"Officer\",\n",
        "                        \"the Countess\":\"Royalty\",\n",
        "                        \"Dona\":       \"Royalty\",\n",
        "                        \"Mme\":        \"Mrs\",\n",
        "                        \"Mlle\":       \"Miss\",\n",
        "                        \"Ms\":         \"Mrs\",\n",
        "                        \"Mr\" :        \"Mr\",\n",
        "                        \"Mrs\" :       \"Mrs\",\n",
        "                        \"Miss\" :      \"Miss\",\n",
        "                        \"Master\" :    \"Master\",\n",
        "                        \"Lady\" :      \"Royalty\"\n",
        "\n",
        "                        }\n",
        "combined_features['Title']=combined_features.Title.map(Title_Dictionary)"
      ]
    },
    {
      "cell_type": "markdown",
      "metadata": {
        "_cell_guid": "6d46be9a-812a-f334-73b9-56ed912c9eca"
      },
      "source": [
        "We can convert the categorical titles to ordinal."
      ]
    },
    {
      "cell_type": "markdown",
      "metadata": {
        "_cell_guid": "f27bb974-a3d7-07a1-f7e4-876f6da87e62"
      },
      "source": [
        "Now we can safely drop the Name feature from training and testing datasets. We also do not need the PassengerId feature in the training dataset."
      ]
    },
    {
      "cell_type": "markdown",
      "metadata": {
        "_cell_guid": "2c8e84bb-196d-bd4a-4df9-f5213561b5d3"
      },
      "source": [
        "### Converting a categorical feature\n",
        "\n",
        "Now we can convert features which contain strings to numerical values. This is required by most model algorithms. Doing so will also help us in achieving the feature completing goal.\n",
        "\n",
        "Let us start by converting Sex feature to a new feature called Gender where female=1 and male=0."
      ]
    },
    {
      "cell_type": "code",
      "execution_count": null,
      "metadata": {
        "_cell_guid": "c20c1df2-157c-e5a0-3e24-15a828095c96"
      },
      "outputs": [],
      "source": [
        "\n",
        "# Processing sex\n",
        "combined_features['Sex'] = combined_features['Sex'].map({'male':1,'female':0})"
      ]
    },
    {
      "cell_type": "markdown",
      "metadata": {
        "_cell_guid": "d72cb29e-5034-1597-b459-83a9640d3d3a"
      },
      "source": [
        "### Completing a numerical continuous feature\n",
        "\n",
        "Now we should start estimating and completing features with missing or null values. We will first do this for the Age feature.\n",
        "\n",
        "We can consider three methods to complete a numerical continuous feature.\n",
        "\n",
        "1. A simple way is to generate random numbers between mean and [standard deviation](https://en.wikipedia.org/wiki/Standard_deviation).\n",
        "\n",
        "2. More accurate way of guessing missing values is to use other correlated features. In our case we note correlation among Age, Gender, and Pclass. Guess Age values using [median](https://en.wikipedia.org/wiki/Median) values for Age across sets of Pclass and Gender feature combinations. So, median Age for Pclass=1 and Gender=0, Pclass=1 and Gender=1, and so on...\n",
        "\n",
        "3. Another meathod would be to use the Title feature we created above and use the average value of the age for each title to fill the gap. This provides a more realistic assumption. "
      ]
    },
    {
      "cell_type": "code",
      "execution_count": null,
      "metadata": {
        "_cell_guid": "c311c43d-6554-3b52-8ef8-533ca08b2f68"
      },
      "outputs": [],
      "source": [
        "# Processing the ages\n",
        "grouped_train = combined_features.head(891).groupby(['Sex','Pclass','Title'])\n",
        "grouped_median_train = grouped_train.median()\n",
        "\n",
        "grouped_test = combined_features.iloc[891:].groupby(['Sex','Pclass','Title'])\n",
        "grouped_median_test = grouped_test.median()\n",
        "def fillAges(row, grouped_median):\n",
        "    if row['Sex'] == 'female' and row['Pclass'] == 1:\n",
        "        if row['Title'] == 'Miss':\n",
        "            return grouped_median.loc['female', 1, 'Miss']['Age']\n",
        "        elif row['Title'] == 'Mrs':\n",
        "            return grouped_median.loc['female', 1, 'Mrs']['Age']\n",
        "        elif row['Title'] == 'Officer':\n",
        "            return grouped_median.loc['female', 1, 'Officer']['Age']\n",
        "        elif row['Title'] == 'Royalty':\n",
        "            return grouped_median.loc['female', 1, 'Royalty']['Age']\n",
        "\n",
        "    elif row['Sex'] == 'female' and row['Pclass'] == 2:\n",
        "        if row['Title'] == 'Miss':\n",
        "            return grouped_median.loc['female', 2, 'Miss']['Age']\n",
        "        elif row['Title'] == 'Mrs':\n",
        "            return grouped_median.loc['female', 2, 'Mrs']['Age']\n",
        "\n",
        "    elif row['Sex'] == 'female' and row['Pclass'] == 3:\n",
        "        if row['Title'] == 'Miss':\n",
        "            return grouped_median.loc['female', 3, 'Miss']['Age']\n",
        "        elif row['Title'] == 'Mrs':\n",
        "            return grouped_median.loc['female', 3, 'Mrs']['Age']\n",
        "\n",
        "    elif row['Sex'] == 'male' and row['Pclass'] == 1:\n",
        "        if row['Title'] == 'Master':\n",
        "            return grouped_median.loc['male', 1, 'Master']['Age']\n",
        "        elif row['Title'] == 'Mr':\n",
        "            return grouped_median.loc['male', 1, 'Mr']['Age']\n",
        "        elif row['Title'] == 'Officer':\n",
        "            return grouped_median.loc['male', 1, 'Officer']['Age']\n",
        "        elif row['Title'] == 'Royalty':\n",
        "            return grouped_median.loc['male', 1, 'Royalty']['Age']\n",
        "\n",
        "    elif row['Sex'] == 'male' and row['Pclass'] == 2:\n",
        "        if row['Title'] == 'Master':\n",
        "            return grouped_median.loc['male', 2, 'Master']['Age']\n",
        "        elif row['Title'] == 'Mr':\n",
        "            return grouped_median.loc['male', 2, 'Mr']['Age']\n",
        "        elif row['Title'] == 'Officer':\n",
        "            return grouped_median.loc['male', 2, 'Officer']['Age']\n",
        "\n",
        "    elif row['Sex'] == 'male' and row['Pclass'] == 3:\n",
        "        if row['Title'] == 'Master':\n",
        "            return grouped_median.loc['male', 3, 'Master']['Age']\n",
        "        elif row['Title'] == 'Mr':\n",
        "            return grouped_median.loc['male', 3, 'Mr']['Age']\n",
        "\n",
        "combined_features.head(891).Age = combined_features.head(891).apply(lambda r: fillAges(r, grouped_median_train) if np.isnan(r['Age'])\n",
        "    else r['Age'], axis=1)\n",
        "\n",
        "combined_features.iloc[891:].Age = combined_features.iloc[891:].apply(lambda r: fillAges(r, grouped_median_test) if np.isnan(r['Age'])\n",
        "    else r['Age'], axis=1)"
      ]
    },
    {
      "cell_type": "markdown",
      "metadata": {
        "_cell_guid": "1c237b76-d7ac-098f-0156-480a838a64a9"
      },
      "source": [
        "### Create new feature combining existing features\n",
        "\n",
        "We can create a new feature for FamilySize which combines Parch and SibSp. This will enable us to drop Parch and SibSp from our datasets."
      ]
    },
    {
      "cell_type": "code",
      "execution_count": null,
      "metadata": {
        "_cell_guid": "74ee56a6-7357-f3bc-b605-6c41f8aa6566"
      },
      "outputs": [],
      "source": [
        "# Processing family\n",
        "combined_features['FamilySize'] = combined_features['Parch'] + combined_features['SibSp'] + 1\n",
        "combined_features['Singleton'] = combined_features['FamilySize'].map(lambda s: 1 if s == 1 else 0)\n",
        "combined_features['SmallFamily'] = combined_features['FamilySize'].map(lambda s: 1 if 2 <= s <= 4 else 0)\n",
        "combined_features['LargeFamily'] = combined_features['FamilySize'].map(lambda s: 1 if 5 <= s else 0)"
      ]
    },
    {
      "cell_type": "markdown",
      "metadata": {
        "_cell_guid": "13292c1b-020d-d9aa-525c-941331bb996a"
      },
      "source": [
        "### Completing a categorical feature\n",
        "\n",
        "Embarked feature takes S, Q, C values based on port of embarkation. Our training dataset has two missing values. We simply fill these with the most common occurance."
      ]
    },
    {
      "cell_type": "code",
      "execution_count": null,
      "metadata": {
        "_cell_guid": "51c21fcc-f066-cd80-18c8-3d140be6cbae"
      },
      "outputs": [],
      "source": [
        "\n",
        "#Processing Cabin:\n",
        "combined_features.Cabin.fillna('U', inplace=True)"
      ]
    },
    {
      "cell_type": "markdown",
      "metadata": {
        "_cell_guid": "e3dfc817-e1c1-a274-a111-62c1c814cecf"
      },
      "source": [
        "### Quick completing and converting a numeric feature\n",
        "\n",
        "We can now complete the Fare feature for single missing value in test dataset using mode to get the value that occurs most frequently for this feature. We do this in a single line of code.\n",
        "\n",
        "Note that we are not creating an intermediate new feature or doing any further analysis for correlation to guess missing feature as we are replacing only a single value. The completion goal achieves desired requirement for model algorithm to operate on non-null values.\n",
        "\n",
        "We may also want round off the fare to two decimals as it represents currency."
      ]
    },
    {
      "cell_type": "code",
      "execution_count": null,
      "metadata": {
        "_cell_guid": "3600cb86-cf5f-d87b-1b33-638dc8db1564"
      },
      "outputs": [],
      "source": [
        "\n",
        "# Processing Fares: fill empty spaces with mean\n",
        "combined_features.head(891).Fare.fillna(combined_features.head(891).Fare.mean(), inplace=True)\n",
        "combined_features.iloc[891:].Fare.fillna(combined_features.iloc[891:].Fare.mean(), inplace=True)"
      ]
    },
    {
      "cell_type": "markdown",
      "metadata": {
        "_cell_guid": "d2334d33-4fe5-964d-beac-6aa620066e15"
      },
      "source": [
        "###Dropping Features that are not informative\n",
        "We find that \n",
        "\n",
        "\n",
        "1.  Name can be Dropped\n",
        "2. Also PassengerId does not contribute to survival\n",
        "3. Embarked feature can be dropped\n",
        "4. Cabin Feature can be dropped\n",
        "5. As information from SibSp and Parch was extracted into Family Size they will be dropped\n",
        "6. Pclass will be dropped\n",
        "7. Ticket will be dropped"
      ]
    },
    {
      "cell_type": "code",
      "execution_count": null,
      "metadata": {
        "_cell_guid": "81c40574-3e59-eb50-cc62-8184520be365"
      },
      "outputs": [],
      "source": [
        "# Processing names: drop names and encode the titles using dummy encoding from pandas\n",
        "combined_features.drop('Name', axis=1, inplace=True)\n",
        "dummy_titles = pd.get_dummies(combined_features['Title'], prefix='Title')\n",
        "combined_features = pd.concat([combined_features, dummy_titles], axis=1)\n",
        "combined_features.drop('Title', axis=1, inplace=True)\n",
        "\n",
        "# Processing Fares: fill empty spaces with mean\n",
        "combined_features.head(891).Fare.fillna(combined_features.head(891).Fare.mean(), inplace=True)\n",
        "combined_features.iloc[891:].Fare.fillna(combined_features.iloc[891:].Fare.mean(), inplace=True)\n",
        "\n",
        "\n",
        "#Processing Embarked: drop it\n",
        "combined_features.drop('Embarked', axis=1, inplace=True)\n",
        "\n",
        "#Processing Ticket: drop it\n",
        "combined_features.drop('Ticket', axis=1, inplace=True)\n",
        "\n",
        "#Processing Cabin:\n",
        "combined_features.Cabin.fillna('U', inplace=True)\n",
        "\n",
        "# mapping each Cabin value with the cabin letter\n",
        "combined_features['Cabin'] = combined_features['Cabin'].map(lambda c: c[0])\n",
        "\n",
        "cabin_dummies = pd.get_dummies(combined_features['Cabin'], prefix='Cabin')\n",
        "combined_features = pd.concat([combined_features, cabin_dummies], axis=1)\n",
        "combined_features.drop('Cabin', axis=1, inplace=True)\n",
        "\n",
        "\n",
        "# Processing sex\n",
        "combined_features['Sex'] = combined_features['Sex'].map({'male':1,'female':0})\n",
        "\n",
        "\n",
        "# Processing pclass\n",
        "pclass_dummies = pd.get_dummies(combined_features['Pclass'], prefix=\"Pclass\")\n",
        "combined_features = pd.concat([combined_features, pclass_dummies], axis=1)\n",
        "combined_features.drop('Pclass', axis=1, inplace=True)\n",
        "\n",
        "# Processing PassengerId\n",
        "combined_features.drop('PassengerId', axis=1, inplace=True)\n",
        "# Processing family\n",
        "combined_features['FamilySize'] = combined_features['Parch'] + combined_features['SibSp'] + 1\n",
        "combined_features['Singleton'] = combined_features['FamilySize'].map(lambda s: 1 if s == 1 else 0)\n",
        "combined_features['SmallFamily'] = combined_features['FamilySize'].map(lambda s: 1 if 2 <= s <= 4 else 0)\n",
        "combined_features['LargeFamily'] = combined_features['FamilySize'].map(lambda s: 1 if 5 <= s else 0)\n",
        "combined_features.drop('Parch', axis=1, inplace=True)\n",
        "combined_features.drop('SibSp', axis=1, inplace=True)\n",
        "\n",
        "#Scaling\n",
        "scale=max(combined_features['Age'])\n",
        "combined_features['Age']/=scale\n",
        "mean=np.mean(combined_features['Age'])\n",
        "combined_features['Age']-=mean\n",
        "\n",
        "scale=max(combined_features['Fare'])\n",
        "combined_features['Fare']/=scale\n",
        "mean=np.mean(combined_features['Fare'])\n",
        "combined_features['Fare']-=mean\n",
        "\n",
        "\n",
        "features_train=combined_features[:891]\n",
        "features_test=combined_features[891:]"
      ]
    },
    {
      "cell_type": "markdown",
      "metadata": {
        "_cell_guid": "69783c08-c8cc-a6ca-2a9a-5e75581c6d31"
      },
      "source": [
        "## Model, predict and solve\n",
        "\n",
        "Now we are ready to train a model and predict the required solution.  We must understand the type of problem and solution requirement to narrow down to a select few models which we can evaluate. Our problem is a classification and regression problem. We want to identify relationship between output (Survived or not) with other variables or features (Gender, Age, Port...).  With these two criteria - Supervised Learning plus Classification and Regression, we can narrow down our choice of models to a few. These include:\n",
        "\n",
        "- Logistic Regression\n",
        "- Support Vector Machines\n",
        "- Decision Tree\n",
        "- Random Forrest\n",
        "- Artificial neural network"
      ]
    },
    {
      "cell_type": "markdown",
      "metadata": {
        "_cell_guid": "579bc004-926a-bcfe-e9bb-c8df83356876"
      },
      "source": [
        "Logistic Regression is a useful model to run early in the workflow. Logistic regression measures the relationship between the categorical dependent variable (feature) and one or more independent variables (features) by estimating probabilities using a logistic function, which is the cumulative logistic distribution. Reference [Wikipedia](https://en.wikipedia.org/wiki/Logistic_regression).\n",
        "\n",
        "Note the confidence score generated by the model based on our training dataset."
      ]
    },
    {
      "cell_type": "code",
      "execution_count": null,
      "metadata": {
        "_cell_guid": "0edd9322-db0b-9c37-172d-a3a4f8dec229"
      },
      "outputs": [],
      "source": [
        "# Logistic Regression\n",
        "#"
      ]
    },
    {
      "cell_type": "markdown",
      "metadata": {
        "_cell_guid": "3af439ae-1f04-9236-cdc2-ec8170a0d4ee"
      },
      "source": [
        "We can use Logistic Regression to validate our assumptions and decisions for feature creating and completing goals. This can be done by calculating the coefficient of the features in the decision function.\n",
        "\n",
        "Positive coefficients increase the log-odds of the response (and thus increase the probability), and negative coefficients decrease the log-odds of the response (and thus decrease the probability).\n",
        "\n",
        "- Sex is highest positivie coefficient, implying as the Sex value increases (male: 0 to female: 1), the probability of Survived=1 increases the most.\n",
        "- This way Age*Class is a good artificial feature to model as it has second highest negative correlation with Survived.\n",
        "- So is Title as second highest positive correlation."
      ]
    },
    {
      "cell_type": "markdown",
      "metadata": {
        "_cell_guid": "ac041064-1693-8584-156b-66674117e4d0"
      },
      "source": [
        "Next we model using Support Vector Machines which are supervised learning models with associated learning algorithms that analyze data used for classification and regression analysis. Given a set of training samples, each marked as belonging to one or the other of **two categories**, an SVM training algorithm builds a model that assigns new test samples to one category or the other, making it a non-probabilistic binary linear classifier. Reference [Wikipedia](https://en.wikipedia.org/wiki/Support_vector_machine).\n",
        "\n",
        "Note that the model generates a confidence score which is higher than Logistics Regression model."
      ]
    },
    {
      "cell_type": "code",
      "execution_count": null,
      "metadata": {
        "_cell_guid": "7a63bf04-a410-9c81-5310-bdef7963298f"
      },
      "outputs": [],
      "source": [
        "# Support Vector Machines\n",
        "\n",
        "svc = SVC()\n",
        "svc.fit(features_train, labels_train)\n",
        "pred = svc.predict(features_test)\n",
        "acc_svc = round(svc.score(features_train, labels_train) * 100, 2)\n",
        "acc_svc"
      ]
    },
    {
      "cell_type": "markdown",
      "metadata": {
        "_cell_guid": "172a6286-d495-5ac4-1a9c-5b77b74ca6d2"
      },
      "source": [
        "In pattern recognition, the k-Nearest Neighbors algorithm (or k-NN for short) is a non-parametric method used for classification and regression. A sample is classified by a majority vote of its neighbors, with the sample being assigned to the class most common among its k nearest neighbors (k is a positive integer, typically small). If k = 1, then the object is simply assigned to the class of that single nearest neighbor. Reference [Wikipedia](https://en.wikipedia.org/wiki/K-nearest_neighbors_algorithm).\n",
        "\n",
        "KNN confidence score is better than Logistics Regression but worse than SVM."
      ]
    },
    {
      "cell_type": "code",
      "execution_count": null,
      "metadata": {
        "_cell_guid": "ca14ae53-f05e-eb73-201c-064d7c3ed610"
      },
      "outputs": [],
      "source": [
        "knn = KNeighborsClassifier(n_neighbors = 3)\n",
        "knn.fit(X_train, Y_train)\n",
        "Y_pred = knn.predict(X_test)\n",
        "acc_knn = round(knn.score(X_train, Y_train) * 100, 2)\n",
        "acc_knn"
      ]
    },
    {
      "cell_type": "markdown",
      "metadata": {
        "_cell_guid": "bae7f8d7-9da0-f4fd-bdb1-d97e719a18d7"
      },
      "source": [
        "This model uses a decision tree as a predictive model which maps features (tree branches) to conclusions about the target value (tree leaves). Tree models where the target variable can take a finite set of values are called classification trees; in these tree structures, leaves represent class labels and branches represent conjunctions of features that lead to those class labels. Decision trees where the target variable can take continuous values (typically real numbers) are called regression trees. Reference [Wikipedia](https://en.wikipedia.org/wiki/Decision_tree_learning).\n",
        "\n",
        "The model confidence score is the highest among models evaluated so far."
      ]
    },
    {
      "cell_type": "code",
      "execution_count": null,
      "metadata": {
        "_cell_guid": "dd85f2b7-ace2-0306-b4ec-79c68cd3fea0"
      },
      "outputs": [],
      "source": [
        "# Decision Tree\n",
        "\n",
        "decision_tree = DecisionTreeClassifier()\n",
        "decision_tree.fit(features_train, labels_train)\n",
        "Y_pred = decision_tree.predict(features_test)\n",
        "acc_decision_tree = round(decision_tree.score(features_train, labels_train) * 100, 2)\n",
        "acc_decision_tree"
      ]
    },
    {
      "cell_type": "markdown",
      "metadata": {
        "_cell_guid": "85693668-0cd5-4319-7768-eddb62d2b7d0"
      },
      "source": [
        "The next model Random Forests is one of the most popular. Random forests or random decision forests are an ensemble learning method for classification, regression and other tasks, that operate by constructing a multitude of decision trees (n_estimators=100) at training time and outputting the class that is the mode of the classes (classification) or mean prediction (regression) of the individual trees. Reference [Wikipedia](https://en.wikipedia.org/wiki/Random_forest).\n",
        "\n",
        "The model confidence score is the highest among models evaluated so far. We decide to use this model's output (Y_pred) for creating our competition submission of results."
      ]
    },
    {
      "cell_type": "code",
      "execution_count": null,
      "metadata": {
        "_cell_guid": "f0694a8e-b618-8ed9-6f0d-8c6fba2c4567"
      },
      "outputs": [],
      "source": [
        "# Random Forest\n",
        "\n",
        "random_forest = RandomForestClassifier(n_estimators=100)\n",
        "random_forest.fit(features_train, labels_train)\n",
        "Y_pred = random_forest.predict(features_test)\n",
        "random_forest.score(features_train, labels_train)\n",
        "acc_random_forest = round(random_forest.score(features_train, labels_train) * 100, 2)\n",
        "acc_random_forest"
      ]
    },
    {
      "cell_type": "markdown",
      "metadata": {
        "_cell_guid": "c2a0e4ab-209a-fb57-859a-55f18c983b18"
      },
      "source": [
        "###Multiple Layer Perceptron\n",
        "\n",
        "Now we will try to use an arificial Neural Network to this problem.\n",
        "We see that the number of input features is 25 we will make a sequential  model containing 3 Dense Layers with input dimensions as 25.\n",
        "Also we will add regularization. This is necessary due to deficiency of training data which could and in this case does lead to Overfitting.\n",
        "Regularization is added in the form of Dropout Layers mingled between the Dense Layers\n",
        "You may try to experiment with the ordering and number of layers to get the best output\n",
        "So, Try playing Lego a bit with them and try to find something interesting.\n",
        "Let me know if you do ;) "
      ]
    },
    {
      "cell_type": "code",
      "execution_count": null,
      "metadata": {
        "_cell_guid": "7c5cb8b2-e8d0-5c55-4025-4a6bc21ceba0"
      },
      "outputs": [],
      "source": [
        "model = Sequential()\n",
        "model.add(Dense(512, input_dim=25))\n",
        "model.add(Activation('relu'))\n",
        "model.add(Dropout(0.25))\n",
        "model.add(Dense(128))\n",
        "model.add(Activation('relu'))\n",
        "model.add(Dense(128))\n",
        "model.add(Activation('relu'))\n",
        "model.add(Dropout(0.5))\n",
        "model.add(Dense(2))\n",
        "model.add(Activation('softmax'))"
      ]
    },
    {
      "cell_type": "markdown",
      "metadata": {
        "_cell_guid": "e3719236-1b23-27eb-b926-dc139bc1b5fb"
      },
      "source": [
        "Before Fitting the Model we convert the labels to catagorical features using np_utils so that we may get the softmax probability output which we can later use to predict survival based on probability being greater than 0.5"
      ]
    },
    {
      "cell_type": "code",
      "execution_count": null,
      "metadata": {
        "_cell_guid": "8624c396-9f4a-6be6-575d-bf1a34823bd6"
      },
      "outputs": [],
      "source": [
        "labels_train = np_utils.to_categorical(labels_train)"
      ]
    },
    {
      "cell_type": "markdown",
      "metadata": {
        "_cell_guid": "fb9f54e4-0453-41a9-b8b1-635096ac33b6"
      },
      "source": [
        "we'll use categorical cross entropy for the loss, and adam as the optimizer\n",
        "You may want to play around with these too\n",
        "its always good to experiment"
      ]
    },
    {
      "cell_type": "code",
      "execution_count": null,
      "metadata": {
        "_cell_guid": "b48d3b49-e8a2-d5e7-340a-92c55a524e47"
      },
      "outputs": [],
      "source": [
        "\n",
        "model.compile(loss='categorical_crossentropy', optimizer='adam', metrics=['accuracy'])\n",
        "clf=model"
      ]
    },
    {
      "cell_type": "markdown",
      "metadata": {
        "_cell_guid": "9827db3c-2596-30d8-7980-cc3812fed49b"
      },
      "source": [
        "Next we fit the model and split the validation at 0.1 or 10 percent this allows us to keep track of overfitting."
      ]
    },
    {
      "cell_type": "code",
      "execution_count": null,
      "metadata": {
        "_cell_guid": "b83c655b-bd4f-7cfb-06be-aeaee210af13"
      },
      "outputs": [],
      "source": [
        "clf.fit(np.array(features_train),labels_train,validation_split=0.1,epochs=88)\n",
        "out = clf.predict(np.array(features_test))"
      ]
    },
    {
      "cell_type": "markdown",
      "metadata": {
        "_cell_guid": "485234aa-fb03-ee41-e98e-d4e49f1bec20"
      },
      "source": ""
    },
    {
      "cell_type": "code",
      "execution_count": null,
      "metadata": {
        "_cell_guid": "0d30f8c7-5450-023a-a9e8-8242eee9f1cd"
      },
      "outputs": [],
      "source": [
        "pred=[]\n",
        "for x in out:\n",
        "    if(x[1]>0.5):\n",
        "        pred.append(1)\n",
        "    else:\n",
        "        pred.append(0)\n",
        "\n",
        "out1=pred\n",
        "idk = open('test_titanic.csv','r')\n",
        "idk = csv.DictReader(idk)\n",
        "pred = []\n",
        "for row in idk:\n",
        "    pred.append(row[\"PassengerId\"])\n",
        "est = csv.writer(open('result.csv', 'w'), delimiter=',', quotechar='|', quoting=csv.QUOTE_MINIMAL)\n",
        "est.writerows([[\"PassengerID\",\"Survived\"]])\n",
        "k=0\n",
        "for x in pred:\n",
        "    est.writerows([[str(x), str(out1[k])]])\n",
        "    k+=1"
      ]
    },
    {
      "cell_type": "markdown",
      "metadata": {
        "_cell_guid": "9e5b5ced-c4cf-bde0-7a7d-197f446bc430"
      },
      "source": [
        "Our submission to the competition site Kaggle results in scoring 2211 of 6953 competition entries. This result is indicative while the competition is running. This result only accounts for part of the submission dataset. Not bad for our first attempt. Any suggestions to improve our score are most welcome."
      ]
    }
  ],
  "metadata": {
    "_change_revision": 0,
    "_is_fork": false,
    "kernelspec": {
      "display_name": "Python 3",
      "language": "python",
      "name": "python3"
    },
    "language_info": {
      "codemirror_mode": {
        "name": "ipython",
        "version": 3
      },
      "file_extension": ".py",
      "mimetype": "text/x-python",
      "name": "python",
      "nbconvert_exporter": "python",
      "pygments_lexer": "ipython3",
      "version": "3.6.0"
    }
  },
  "nbformat": 4,
  "nbformat_minor": 0
}