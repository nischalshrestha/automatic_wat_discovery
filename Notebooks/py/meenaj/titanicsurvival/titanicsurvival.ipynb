{
  "cells": [
    {
      "cell_type": "code",
      "execution_count": null,
      "metadata": {
        "_cell_guid": "68f20b09-f882-48eb-889b-84aef75d9873"
      },
      "outputs": [],
      "source": [
        "# This Python 3 environment comes with many helpful analytics libraries installed\n",
        "# It is defined by the kaggle/python docker image: https://github.com/kaggle/docker-python\n",
        "# For example, here's several helpful packages to load in \n",
        "\n",
        "import numpy as np # linear algebra\n",
        "import pandas as pd # data processing, CSV file I/O (e.g. pd.read_csv)\n",
        "\n",
        "# Input data files are available in the \"../input/\" directory.\n",
        "# For example, running this (by clicking run or pressing Shift+Enter) will list the files in the input directory\n",
        "\n",
        "from subprocess import check_output\n",
        "print(check_output([\"ls\", \"../input\"]).decode(\"utf8\"))\n",
        "\n",
        "# Any results you write to the current directory are saved as output."
      ]
    },
    {
      "cell_type": "code",
      "execution_count": null,
      "metadata": {
        "_cell_guid": "31a1e2ff-5dbd-e031-1224-b04eb81439d3"
      },
      "outputs": [],
      "source": [
        "import numpy as np\n",
        "import pandas as pd\n",
        "import matplotlib.pyplot as plt\n",
        "% matplotlib inline\n",
        "import seaborn as sns\n",
        "from sklearn import metrics"
      ]
    },
    {
      "cell_type": "code",
      "execution_count": null,
      "metadata": {
        "_cell_guid": "d6a832a9-a944-4cf4-ab90-d72f4994084a"
      },
      "outputs": [],
      "source": [
        "train= pd.read_csv('../input/train.csv')\n",
        "test = pd.read_csv('../input/test.csv')"
      ]
    },
    {
      "cell_type": "code",
      "execution_count": null,
      "metadata": {
        "_cell_guid": "8749d739-b4ee-977f-f92d-43998cfe3623"
      },
      "outputs": [],
      "source": [
        "train.head()"
      ]
    },
    {
      "cell_type": "code",
      "execution_count": null,
      "metadata": {
        "_cell_guid": "dd91834d-650e-194c-ab14-5d1f9ab0a16d"
      },
      "outputs": [],
      "source": [
        "train.info()"
      ]
    },
    {
      "cell_type": "code",
      "execution_count": null,
      "metadata": {
        "_cell_guid": "acb2ca10-7a1f-4456-3111-1d6dae227dce"
      },
      "outputs": [],
      "source": [
        "sns.countplot('Embarked', hue='Survived', data= train)"
      ]
    },
    {
      "cell_type": "code",
      "execution_count": null,
      "metadata": {
        "_cell_guid": "135c50fd-97f6-c7b7-d4d9-e1a25e0a3afe"
      },
      "outputs": [],
      "source": [
        "train['Age'].hist(bins=50)"
      ]
    },
    {
      "cell_type": "code",
      "execution_count": null,
      "metadata": {
        "_cell_guid": "ef2668c5-d2d8-2dbe-5a6e-5b36d34f7290"
      },
      "outputs": [],
      "source": [
        "sns.boxplot(train['Survived'],train['Fare'], hue= train['Embarked'])"
      ]
    },
    {
      "cell_type": "code",
      "execution_count": null,
      "metadata": {
        "_cell_guid": "0b5d4400-66e0-ce6c-5400-21b90fd5e4c5"
      },
      "outputs": [],
      "source": [
        "train['Embarked'] = train['Embarked'].fillna('C')"
      ]
    },
    {
      "cell_type": "code",
      "execution_count": null,
      "metadata": {
        "_cell_guid": "8c27dc9f-5454-d4dd-f902-40d2273023c1"
      },
      "outputs": [],
      "source": [
        "test[test['Fare'].isnull()]"
      ]
    },
    {
      "cell_type": "code",
      "execution_count": null,
      "metadata": {
        "_cell_guid": "1962c6b9-478a-4966-a034-90e64c2a7c7e"
      },
      "outputs": [],
      "source": [
        "Fare_med= test[(test['Pclass']==3) & (test['Embarked'] == 'S')]['Fare'].median()"
      ]
    },
    {
      "cell_type": "code",
      "execution_count": null,
      "metadata": {
        "_cell_guid": "9ffb208b-8d47-680c-7d7d-df998bc4eddd"
      },
      "outputs": [],
      "source": [
        "test['Fare']=test['Fare'].fillna(Fare_med)"
      ]
    },
    {
      "cell_type": "code",
      "execution_count": null,
      "metadata": {
        "_cell_guid": "8923398b-813d-88eb-1347-7596459b45fd"
      },
      "outputs": [],
      "source": [
        "train['cabin']=train.Cabin.str[0]\n",
        "test['cabin']=test.Cabin.str[0]"
      ]
    },
    {
      "cell_type": "code",
      "execution_count": null,
      "metadata": {
        "_cell_guid": "20918ff0-4511-f0d2-6456-b4998e5257e3"
      },
      "outputs": [],
      "source": [
        "train['cabin'].fillna('U', inplace=True)\n",
        "test['cabin'].fillna('U', inplace=True)"
      ]
    },
    {
      "cell_type": "code",
      "execution_count": null,
      "metadata": {
        "_cell_guid": "7a7b9e21-39b3-68e4-59c9-11e6e41af170"
      },
      "outputs": [],
      "source": [
        "sns.countplot(train['cabin'], hue=train['Survived'])"
      ]
    },
    {
      "cell_type": "code",
      "execution_count": null,
      "metadata": {
        "_cell_guid": "2edbd774-0d97-28d1-51f1-bdb6a38208d1"
      },
      "outputs": [],
      "source": [
        "train['Family']= train['Parch']+ train['SibSp']+1\n",
        "test['Family']= test['Parch']+ test['SibSp']+1"
      ]
    },
    {
      "cell_type": "code",
      "execution_count": null,
      "metadata": {
        "_cell_guid": "8d6edf3b-8869-b829-8d40-fff634f27132"
      },
      "outputs": [],
      "source": [
        "train.loc[train[\"Family\"] == 1, \"FamilySize\"] = 'singleton'\n",
        "train.loc[(train[\"Family\"] > 1)  &  (train[\"Family\"] < 5) , \"FamilySize\"] = 'small'\n",
        "train.loc[train[\"Family\"] >4, \"FamilySize\"] = 'large'\n",
        "test.loc[test[\"Family\"] == 1, \"FamilySize\"] = 'singleton'\n",
        "test.loc[(test[\"Family\"] > 1)  &  (test[\"Family\"] < 5) , \"FamilySize\"] = 'small'\n",
        "test.loc[test[\"Family\"] >4, \"FamilySize\"] = 'large'"
      ]
    },
    {
      "cell_type": "code",
      "execution_count": null,
      "metadata": {
        "_cell_guid": "6b75f546-905f-d238-5158-ea33d9ae9719"
      },
      "outputs": [],
      "source": [
        "sns.countplot(train['FamilySize'],hue=train['Survived'])"
      ]
    },
    {
      "cell_type": "code",
      "execution_count": null,
      "metadata": {
        "_cell_guid": "7098847a-a40a-b26f-ca00-56e512e0047c"
      },
      "outputs": [],
      "source": [
        "test.info()"
      ]
    },
    {
      "cell_type": "code",
      "execution_count": null,
      "metadata": {
        "_cell_guid": "9421b5f9-ec51-a525-fc3c-1ddbaf7b23b5"
      },
      "outputs": [],
      "source": [
        "sns.countplot(test['FamilySize'],hue=test['cabin'])"
      ]
    },
    {
      "cell_type": "code",
      "execution_count": null,
      "metadata": {
        "_cell_guid": "359c7ebd-f906-2736-3f4c-19c29b0f35f1"
      },
      "outputs": [],
      "source": [
        "sns.countplot(train['FamilySize'], hue=train['cabin'])"
      ]
    },
    {
      "cell_type": "code",
      "execution_count": null,
      "metadata": {
        "_cell_guid": "b2a628bb-4314-cfd3-dbaa-15b90fa91cc3"
      },
      "outputs": [],
      "source": [
        "train['Name_Title'] = train['Name'].apply(lambda x: x.split(',')[1]).apply(lambda x: x.split()[0])\n",
        "train['Name_Title'].value_counts()"
      ]
    },
    {
      "cell_type": "code",
      "execution_count": null,
      "metadata": {
        "_cell_guid": "f954e240-4ab3-c871-39e1-68d5c1c7e12b"
      },
      "outputs": [],
      "source": [
        "test['Name_Title'] = test['Name'].apply(lambda x: x.split(',')[1]).apply(lambda x: x.split()[0])\n",
        "test['Name_Title'].value_counts()"
      ]
    },
    {
      "cell_type": "code",
      "execution_count": null,
      "metadata": {
        "_cell_guid": "9fb890ee-b393-4477-ba74-247e0587738a"
      },
      "outputs": [],
      "source": [
        "train.head()"
      ]
    },
    {
      "cell_type": "code",
      "execution_count": null,
      "metadata": {
        "_cell_guid": "cac9ef9c-e051-63d9-9410-21b821ef130f"
      },
      "outputs": [],
      "source": [
        "sns.countplot(train['Name_Title'], hue=train['Survived'])"
      ]
    },
    {
      "cell_type": "code",
      "execution_count": null,
      "metadata": {
        "_cell_guid": "c6ea0353-31bf-b57a-feaf-3f6733e6ea22"
      },
      "outputs": [],
      "source": [
        "train['ticketlength'] = train['Ticket'].apply(lambda x: len(x))\n",
        "test['ticketlength'] = test['Ticket'].apply(lambda x: len(x))"
      ]
    },
    {
      "cell_type": "code",
      "execution_count": null,
      "metadata": {
        "_cell_guid": "28e408eb-91e9-9cc2-17f1-61cd28f9edb2"
      },
      "outputs": [],
      "source": [
        "sns.countplot(train['ticketlength'], hue=train['Survived'])"
      ]
    },
    {
      "cell_type": "code",
      "execution_count": null,
      "metadata": {
        "_cell_guid": "f36c9b23-90fd-6793-b2c8-d686c2be0e15"
      },
      "outputs": [],
      "source": [
        "train['ticketlength'].value_counts()"
      ]
    },
    {
      "cell_type": "code",
      "execution_count": null,
      "metadata": {
        "_cell_guid": "d3574212-a5c5-e0a2-2dd8-61eeec3b04dc"
      },
      "outputs": [],
      "source": [
        "test['ticketlength'].value_counts()"
      ]
    },
    {
      "cell_type": "code",
      "execution_count": null,
      "metadata": {
        "_cell_guid": "7c028753-f1dc-bd0c-d279-e175cd488cf4"
      },
      "outputs": [],
      "source": [
        "train['TicketfirstL'] = train['Ticket'].apply(lambda x: str(x)[0])\n",
        "test['TicketfirstL'] = test['Ticket'].apply(lambda x: str(x)[0])"
      ]
    },
    {
      "cell_type": "code",
      "execution_count": null,
      "metadata": {
        "_cell_guid": "5fbf413a-7c60-04a4-e281-9f8b9b5b0551"
      },
      "outputs": [],
      "source": [
        "sns.countplot(train['TicketfirstL'], hue=train['Survived'])"
      ]
    },
    {
      "cell_type": "code",
      "execution_count": null,
      "metadata": {
        "_cell_guid": "6023a5d2-9c03-6f76-f517-846a8bd23a78"
      },
      "outputs": [],
      "source": [
        "train= train.drop(['Name','Ticket','Cabin'],axis=1)\n",
        "test= test.drop(['Name','Ticket','Cabin'],axis=1)"
      ]
    },
    {
      "cell_type": "code",
      "execution_count": null,
      "metadata": {
        "_cell_guid": "e8f1f4da-e053-d1ac-b8b2-016d84d02966"
      },
      "outputs": [],
      "source": [
        "test.info()"
      ]
    },
    {
      "cell_type": "code",
      "execution_count": null,
      "metadata": {
        "_cell_guid": "409d186c-5602-f827-b5c9-6842f9e0e832"
      },
      "outputs": [],
      "source": [
        "from sklearn.preprocessing import LabelEncoder\n",
        "le=LabelEncoder()\n",
        "cat=['Sex','Embarked','cabin','FamilySize','Name_Title','TicketfirstL']\n",
        "for col in cat:\n",
        "    train[col]=le.fit_transform(train[col])\n",
        "    test[col]=le.fit_transform(test[col])"
      ]
    },
    {
      "cell_type": "code",
      "execution_count": null,
      "metadata": {
        "_cell_guid": "2a68cc38-e264-882c-4ba5-fd5f10ca8468"
      },
      "outputs": [],
      "source": [
        "test.head()"
      ]
    },
    {
      "cell_type": "code",
      "execution_count": null,
      "metadata": {
        "_cell_guid": "ba967226-1562-a0d1-bd95-cb264f65a6ca"
      },
      "outputs": [],
      "source": [
        "X=train.drop(['Survived'],axis=1)\n",
        "A_train= train.loc[train.Age.notnull()]      \n",
        "A_test= train.loc[train.Age.isnull()]       #Age = Nan( to be predicted)\n",
        "X_Age=A_train.drop(['Age'], axis=1)\n",
        "y_Age=A_train['Age']\n",
        "y_test_Age= A_test['Age']\n",
        "X_test_Age= A_test.drop(['Age'],axis=1)"
      ]
    },
    {
      "cell_type": "code",
      "execution_count": null,
      "metadata": {
        "_cell_guid": "776dbb8b-e58c-7ec5-e1ef-039c7c82670d"
      },
      "outputs": [],
      "source": [
        "from sklearn.ensemble import RandomForestRegressor\n",
        "rf= RandomForestRegressor()\n",
        "rf.fit(X_Age,y_Age)\n",
        "y_pred_Age=rf.predict(X_test_Age)"
      ]
    },
    {
      "cell_type": "code",
      "execution_count": null,
      "metadata": {
        "_cell_guid": "eac99e26-c0ca-1e3d-3e43-8456cf5ff8c4"
      },
      "outputs": [],
      "source": [
        "train.loc[(train.Age.isnull()), 'Age' ] = y_pred_Age"
      ]
    },
    {
      "cell_type": "code",
      "execution_count": null,
      "metadata": {
        "_cell_guid": "e1777996-2a97-7512-73d4-cb7d660405e5"
      },
      "outputs": [],
      "source": [
        "plt.hist(train['Age'], bins=50)"
      ]
    },
    {
      "cell_type": "code",
      "execution_count": null,
      "metadata": {
        "_cell_guid": "0a579623-6960-9131-d1f5-7168385b5bf8"
      },
      "outputs": [],
      "source": [
        "AA_train= test.loc[test.Age.notnull()]      \n",
        "AA_test= test.loc[test.Age.isnull()]       #Age = Nan( to be predicted)\n",
        "X1=AA_train.drop(['Age'], axis=1)\n",
        "y1=AA_train['Age']\n",
        "y2= AA_test['Age']\n",
        "X2= AA_test.drop(['Age'],axis=1)"
      ]
    },
    {
      "cell_type": "code",
      "execution_count": null,
      "metadata": {
        "_cell_guid": "46e646a5-37ff-06a2-9f80-93e5ded31b40"
      },
      "outputs": [],
      "source": [
        "rf.fit(X1,y1)\n",
        "y2_pred=rf.predict(X2)"
      ]
    },
    {
      "cell_type": "code",
      "execution_count": null,
      "metadata": {
        "_cell_guid": "52f7d910-57a6-c412-4316-81cd792bea7d"
      },
      "outputs": [],
      "source": [
        "test.loc[(test.Age.isnull()), 'Age' ] = y2_pred"
      ]
    },
    {
      "cell_type": "code",
      "execution_count": null,
      "metadata": {
        "_cell_guid": "2109591a-10e5-5b60-7074-0a24a9c9b22d"
      },
      "outputs": [],
      "source": [
        "test.info()"
      ]
    },
    {
      "cell_type": "code",
      "execution_count": null,
      "metadata": {
        "_cell_guid": "f46b56bb-26de-558e-89c2-1acbfd12c59f"
      },
      "outputs": [],
      "source": [
        "train.corr()['Survived']"
      ]
    },
    {
      "cell_type": "code",
      "execution_count": null,
      "metadata": {
        "_cell_guid": "bbca9f3d-4024-1069-4fd5-35f77e1535dd"
      },
      "outputs": [],
      "source": [
        "plt.figure(figsize=(12,12))\n",
        "sns.heatmap(train.corr(), annot=True)"
      ]
    },
    {
      "cell_type": "code",
      "execution_count": null,
      "metadata": {
        "_cell_guid": "b97f4f6a-4214-39e7-7d6c-eef2fb81bb12"
      },
      "outputs": [],
      "source": [
        "U=train.drop(['PassengerId','Survived','Family','SibSp','Parch'],axis=1)\n",
        "V=train['Survived']"
      ]
    },
    {
      "cell_type": "code",
      "execution_count": null,
      "metadata": {
        "_cell_guid": "5c800860-c958-e98f-ed79-ab80ded3560d"
      },
      "outputs": [],
      "source": [
        "from sklearn.model_selection import train_test_split\n",
        "U_tr, U_ts,V_tr,V_ts = train_test_split(U, V, test_size=0.20, random_state=0)\n",
        "print(U_tr.shape, V_tr.shape, U_ts.shape, V_ts.shape)"
      ]
    },
    {
      "cell_type": "code",
      "execution_count": null,
      "metadata": {
        "_cell_guid": "5cda40c4-27f5-79c1-637f-c3d80ff6d6df"
      },
      "outputs": [],
      "source": [
        "from sklearn.ensemble import RandomForestClassifier\n",
        "from sklearn.model_selection import GridSearchCV"
      ]
    },
    {
      "cell_type": "code",
      "execution_count": null,
      "metadata": {
        "_cell_guid": "1ade1265-5b32-0871-4ebb-ace28d229679"
      },
      "outputs": [],
      "source": [
        "clf = RandomForestClassifier(random_state=0, n_jobs=-1)\n",
        "param_grid = { \"criterion\" : [\"gini\", \"entropy\"]\n",
        "             , \"min_samples_leaf\" : [1, 5, 10]\n",
        "             , \"min_samples_split\" : [2, 6, 10, 12, 16]\n",
        "             , \"n_estimators\": [10, 50, 100, 400, 600]}\n",
        "gs = GridSearchCV(clf, param_grid=param_grid, scoring='accuracy', cv=3, n_jobs=-1)\n",
        "gs = gs.fit(U_tr, V_tr)"
      ]
    },
    {
      "cell_type": "code",
      "execution_count": null,
      "metadata": {
        "_cell_guid": "e6b6c95f-f633-ebfb-fc6d-3850f084255c"
      },
      "outputs": [],
      "source": [
        "print(gs.best_score_)\n",
        "print(gs.best_params_)"
      ]
    },
    {
      "cell_type": "code",
      "execution_count": null,
      "metadata": {
        "_cell_guid": "bee0e3a7-e787-c35d-278c-81b03cdd9cbb"
      },
      "outputs": [],
      "source": [
        "model=RandomForestClassifier(criterion='entropy',min_samples_leaf=1,min_samples_split=12,n_estimators=50,random_state=0,n_jobs=-1)\n",
        "model.fit(U_tr,V_tr)\n",
        "pred= model.predict(U_ts)\n",
        "model.score(U_ts,V_ts)"
      ]
    },
    {
      "cell_type": "code",
      "execution_count": null,
      "metadata": {
        "_cell_guid": "cb58ed67-a4de-46fd-0d42-23ac1b935384"
      },
      "outputs": [],
      "source": [
        "ID=test['PassengerId']\n",
        "test=test.drop(['PassengerId','SibSp','Parch','Family'], axis=1)"
      ]
    },
    {
      "cell_type": "code",
      "execution_count": null,
      "metadata": {
        "_cell_guid": "c1551b4f-acd7-7710-da31-e46f9bdb3066"
      },
      "outputs": [],
      "source": [
        "model.fit(U,V)\n",
        "titanic_s=model.predict(test)"
      ]
    },
    {
      "cell_type": "code",
      "execution_count": null,
      "metadata": {
        "_cell_guid": "7dc27e27-f6e0-c0cd-620a-c671be796c1c"
      },
      "outputs": [],
      "source": [
        "titanic=pd.DataFrame({'PassengerId': ID, 'Survived':titanic_s})\n",
        "titanic.head()"
      ]
    },
    {
      "cell_type": "code",
      "execution_count": null,
      "metadata": {
        "_cell_guid": "3d5b797e-1582-1879-8c88-35ea1a6cac6c"
      },
      "outputs": [],
      "source": [
        "titanic.to_csv('titanic.csv',index=False)"
      ]
    },
    {
      "cell_type": "code",
      "execution_count": null,
      "metadata": {
        "_cell_guid": "48007892-42f6-bb4c-40ec-e29ed50d0451"
      },
      "outputs": [],
      "source": [
        ""
      ]
    }
  ],
  "metadata": {
    "_change_revision": 0,
    "_is_fork": false,
    "kernelspec": {
      "display_name": "Python 3",
      "language": "python",
      "name": "python3"
    },
    "language_info": {
      "codemirror_mode": {
        "name": "ipython",
        "version": 3
      },
      "file_extension": ".py",
      "mimetype": "text/x-python",
      "name": "python",
      "nbconvert_exporter": "python",
      "pygments_lexer": "ipython3",
      "version": "3.6.0"
    }
  },
  "nbformat": 4,
  "nbformat_minor": 0
}