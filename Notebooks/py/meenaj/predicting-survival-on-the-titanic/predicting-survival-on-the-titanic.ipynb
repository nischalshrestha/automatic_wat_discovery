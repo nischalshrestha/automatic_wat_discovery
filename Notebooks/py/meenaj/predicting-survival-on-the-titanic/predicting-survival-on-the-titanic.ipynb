{
  "cells": [
    {
      "cell_type": "code",
      "execution_count": null,
      "metadata": {
        "_cell_guid": "68f20b09-f882-48eb-889b-84aef75d9873"
      },
      "outputs": [],
      "source": [
        "# This Python 3 environment comes with many helpful analytics libraries installed\n",
        "# It is defined by the kaggle/python docker image: https://github.com/kaggle/docker-python\n",
        "# For example, here's several helpful packages to load in \n",
        "\n",
        "import numpy as np # linear algebra\n",
        "import pandas as pd # data processing, CSV file I/O (e.g. pd.read_csv)\n",
        "\n",
        "# Input data files are available in the \"../input/\" directory.\n",
        "# For example, running this (by clicking run or pressing Shift+Enter) will list the files in the input directory\n",
        "\n",
        "from subprocess import check_output\n",
        "print(check_output([\"ls\", \"../input\"]).decode(\"utf8\"))\n",
        "\n",
        "# Any results you write to the current directory are saved as output."
      ]
    },
    {
      "cell_type": "code",
      "execution_count": null,
      "metadata": {
        "_cell_guid": "31a1e2ff-5dbd-e031-1224-b04eb81439d3"
      },
      "outputs": [],
      "source": [
        "import numpy as np\n",
        "import pandas as pd\n",
        "import matplotlib.pyplot as plt\n",
        "% matplotlib inline\n",
        "import seaborn as sns\n",
        "from sklearn import metrics"
      ]
    },
    {
      "cell_type": "code",
      "execution_count": null,
      "metadata": {
        "_cell_guid": "d6a832a9-a944-4cf4-ab90-d72f4994084a"
      },
      "outputs": [],
      "source": [
        "train= pd.read_csv('../input/train.csv')\n",
        "test = pd.read_csv('../input/test.csv')"
      ]
    },
    {
      "cell_type": "code",
      "execution_count": null,
      "metadata": {
        "_cell_guid": "8749d739-b4ee-977f-f92d-43998cfe3623"
      },
      "outputs": [],
      "source": [
        "train.head()"
      ]
    },
    {
      "cell_type": "code",
      "execution_count": null,
      "metadata": {
        "_cell_guid": "dd91834d-650e-194c-ab14-5d1f9ab0a16d"
      },
      "outputs": [],
      "source": [
        "train.info()"
      ]
    },
    {
      "cell_type": "code",
      "execution_count": null,
      "metadata": {
        "_cell_guid": "31d62edc-127c-5e25-fd52-9cf4d8664e93"
      },
      "outputs": [],
      "source": [
        "sns.countplot(train['Survived'])"
      ]
    },
    {
      "cell_type": "code",
      "execution_count": null,
      "metadata": {
        "_cell_guid": "d2e6da14-967e-ee71-f585-cf3bf644b8b5"
      },
      "outputs": [],
      "source": [
        "sns.factorplot('Pclass', 'Survived', data=train, hue='Sex')"
      ]
    },
    {
      "cell_type": "code",
      "execution_count": null,
      "metadata": {
        "_cell_guid": "58512ee0-2563-869d-696c-785129f288a2"
      },
      "outputs": [],
      "source": [
        "train['Age'].fillna(train['Age'].median(), inplace=True)"
      ]
    },
    {
      "cell_type": "code",
      "execution_count": null,
      "metadata": {
        "_cell_guid": "04ac4e3e-78fc-97d4-5ce2-66361dd7abf2"
      },
      "outputs": [],
      "source": [
        "sns.countplot(train['Survived'], hue=train['Sex'])"
      ]
    },
    {
      "cell_type": "code",
      "execution_count": null,
      "metadata": {
        "_cell_guid": "8586ae7d-b5ca-c9a4-c307-6c0daed616ba"
      },
      "outputs": [],
      "source": [
        "sns.countplot(train['Embarked'])"
      ]
    },
    {
      "cell_type": "code",
      "execution_count": null,
      "metadata": {
        "_cell_guid": "5843ed45-1ea2-b8b4-79c5-c7b48d135ac4"
      },
      "outputs": [],
      "source": [
        "sns.boxplot(train['Survived'],train['Fare'], hue= train['Embarked'])"
      ]
    },
    {
      "cell_type": "code",
      "execution_count": null,
      "metadata": {
        "_cell_guid": "3db3aaa6-2276-78a1-11b0-87cd2214042d"
      },
      "outputs": [],
      "source": [
        "train[train['Embarked'].isnull()]"
      ]
    },
    {
      "cell_type": "code",
      "execution_count": null,
      "metadata": {
        "_cell_guid": "a60dd1f4-7163-f65c-a25a-340cd5a97ab9"
      },
      "outputs": [],
      "source": [
        "sns.boxplot(train['Embarked'],train['Fare'], hue= train['Pclass'])"
      ]
    },
    {
      "cell_type": "code",
      "execution_count": null,
      "metadata": {
        "_cell_guid": "ce392848-84ef-5042-0a58-fae6f755c3c6"
      },
      "outputs": [],
      "source": [
        "train['Embarked'] = train['Embarked'].fillna('C')"
      ]
    },
    {
      "cell_type": "code",
      "execution_count": null,
      "metadata": {
        "_cell_guid": "72430c52-0f69-8384-dce3-34c55cdac635"
      },
      "outputs": [],
      "source": [
        "sns.boxplot(train['Survived'],train['Fare'], hue= train['Embarked'])"
      ]
    },
    {
      "cell_type": "code",
      "execution_count": null,
      "metadata": {
        "_cell_guid": "7a831acf-6729-2f2b-5ced-a1c476a9c6a5"
      },
      "outputs": [],
      "source": [
        "train.info()"
      ]
    },
    {
      "cell_type": "code",
      "execution_count": null,
      "metadata": {
        "_cell_guid": "1582a294-0a62-2513-a141-9ed74e61b0d1"
      },
      "outputs": [],
      "source": [
        "test.info()"
      ]
    },
    {
      "cell_type": "code",
      "execution_count": null,
      "metadata": {
        "_cell_guid": "093c7d44-4d77-e429-f04b-47c5f6c2b597"
      },
      "outputs": [],
      "source": [
        "test[test['Fare'].isnull()]"
      ]
    },
    {
      "cell_type": "code",
      "execution_count": null,
      "metadata": {
        "_cell_guid": "1dfda7cc-a8e0-0fdb-76a3-4f27ed41169f"
      },
      "outputs": [],
      "source": [
        "median_fare=df[(df['Pclass'] == 3) & (df['Embarked'] == 'S')]['Fare'].median()\n",
        "#'S'\n",
        "       #print(median_fare)\n",
        "    df[\"Fare\"] = df[\"Fare\"].fillna(median_fare)\n",
        "    return df"
      ]
    },
    {
      "cell_type": "code",
      "execution_count": null,
      "metadata": {
        "_cell_guid": "a0999f7a-e752-451e-5172-ddc291eb11bb"
      },
      "outputs": [],
      "source": [
        " test[(test['Pclass']==3) & (test['Embarked'] == 'S')]['Fare'].unique()"
      ]
    },
    {
      "cell_type": "code",
      "execution_count": null,
      "metadata": {
        "_cell_guid": "49617198-4eb0-9667-4dee-ad586a0b3e46"
      },
      "outputs": [],
      "source": [
        "Fare_med= test[(test['Pclass']==3) & (test['Embarked'] == 'S')]['Fare'].median()"
      ]
    },
    {
      "cell_type": "code",
      "execution_count": null,
      "metadata": {
        "_cell_guid": "4a9e413b-3996-eff2-30f6-161d6f1bca2a"
      },
      "outputs": [],
      "source": [
        "test['Fare']=test['Fare'].fillna('Fare_med')"
      ]
    },
    {
      "cell_type": "code",
      "execution_count": null,
      "metadata": {
        "_cell_guid": "9cf0aa9d-c8d1-6f31-f944-6851a6c6975c"
      },
      "outputs": [],
      "source": [
        "train['cabin']= train.Cabin.str[0]\n",
        "test['cabin']= test.Cabin.str[0]"
      ]
    },
    {
      "cell_type": "code",
      "execution_count": null,
      "metadata": {
        "_cell_guid": "b317aa06-356a-9c61-dee6-96ed6873c959"
      },
      "outputs": [],
      "source": [
        "train.head()"
      ]
    },
    {
      "cell_type": "code",
      "execution_count": null,
      "metadata": {
        "_cell_guid": "7cb6bff4-24f0-0563-78c9-1aa4c56059be"
      },
      "outputs": [],
      "source": [
        "train.cabin=train.cabin.fillna('U')\n",
        "test.cabin=test.cabin.fillna('U')"
      ]
    },
    {
      "cell_type": "code",
      "execution_count": null,
      "metadata": {
        "_cell_guid": "b77dc0aa-72d2-00a6-7a9a-373f45164e87"
      },
      "outputs": [],
      "source": [
        "train.head(50)"
      ]
    },
    {
      "cell_type": "code",
      "execution_count": null,
      "metadata": {
        "_cell_guid": "e63f46f0-6451-607b-4678-46a91da661b2"
      },
      "outputs": [],
      "source": [
        "train['Family']= train['Parch']+ train['SibSp']+1\n",
        "test['Family']= test['Parch']+ test['SibSp']+1"
      ]
    },
    {
      "cell_type": "code",
      "execution_count": null,
      "metadata": {
        "_cell_guid": "5b78b10e-073f-7b83-8a19-0ac234a412c6"
      },
      "outputs": [],
      "source": [
        "train.loc[train[\"Family\"] == 1, \"FamilySize\"] = 'singleton'\n",
        "train.loc[(train[\"Family\"] > 1)  &  (train[\"Family\"] < 5) , \"FamilySize\"] = 'small'\n",
        "train.loc[train[\"Family\"] >4, \"FamilySize\"] = 'large'\n",
        "test.loc[test[\"Family\"] == 1, \"FamilySize\"] = 'singleton'\n",
        "test.loc[(test[\"Family\"] > 1)  &  (test[\"Family\"] < 5) , \"FamilySize\"] = 'small'\n",
        "test.loc[test[\"Family\"] >4, \"FamilySize\"] = 'large'"
      ]
    },
    {
      "cell_type": "code",
      "execution_count": null,
      "metadata": {
        "_cell_guid": "8ec5668d-8af9-23ba-9120-b83f00dc849f"
      },
      "outputs": [],
      "source": [
        "sns.countplot(train['FamilySize'],hue=train['Survived'])"
      ]
    },
    {
      "cell_type": "code",
      "execution_count": null,
      "metadata": {
        "_cell_guid": "c70e561a-9cfd-5ebd-2fdf-4af582a9819a"
      },
      "outputs": [],
      "source": ""
    },
    {
      "cell_type": "code",
      "execution_count": null,
      "metadata": {
        "_cell_guid": "9421b5f9-ec51-a525-fc3c-1ddbaf7b23b5"
      },
      "outputs": [],
      "source": ""
    },
    {
      "cell_type": "code",
      "execution_count": null,
      "metadata": {
        "_cell_guid": "359c7ebd-f906-2736-3f4c-19c29b0f35f1"
      },
      "outputs": [],
      "source": ""
    },
    {
      "cell_type": "code",
      "execution_count": null,
      "metadata": {
        "_cell_guid": "cdff3077-ceb4-3952-dd71-9ec6d9c4d3ce"
      },
      "outputs": [],
      "source": [
        "sns.heatmap(train.corr(), annot=True)"
      ]
    },
    {
      "cell_type": "code",
      "execution_count": null,
      "metadata": {
        "_cell_guid": "aeb8c05f-1201-c0e2-71d8-0a696fda40b4"
      },
      "outputs": [],
      "source": [
        "sns.countplot(train['Embarked'])"
      ]
    },
    {
      "cell_type": "code",
      "execution_count": null,
      "metadata": {
        "_cell_guid": "877fa6ca-bc47-915a-8a61-cd70de99400f"
      },
      "outputs": [],
      "source": [
        "sns.factorplot('Pclass', 'Survived', data=train, hue='Sex')"
      ]
    }
  ],
  "metadata": {
    "_change_revision": 0,
    "_is_fork": false,
    "kernelspec": {
      "display_name": "Python 3",
      "language": "python",
      "name": "python3"
    },
    "language_info": {
      "codemirror_mode": {
        "name": "ipython",
        "version": 3
      },
      "file_extension": ".py",
      "mimetype": "text/x-python",
      "name": "python",
      "nbconvert_exporter": "python",
      "pygments_lexer": "ipython3",
      "version": "3.6.0"
    }
  },
  "nbformat": 4,
  "nbformat_minor": 0
}