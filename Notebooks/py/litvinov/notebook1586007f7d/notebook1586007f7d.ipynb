{
  "cells": [
    {
      "cell_type": "markdown",
      "metadata": {
        "_cell_guid": "0f25b195-43df-3b7a-bab0-2a5a1181909d"
      },
      "source": ""
    },
    {
      "cell_type": "code",
      "execution_count": null,
      "metadata": {
        "_cell_guid": "beab1e94-b14b-9fe3-26ae-a3c0077a7b13"
      },
      "outputs": [],
      "source": [
        "# data analysis and wrangling\n",
        "import pandas as pd\n",
        "import numpy as np\n",
        "import random as rnd"
      ]
    },
    {
      "cell_type": "code",
      "execution_count": null,
      "metadata": {
        "_cell_guid": "1633fcf9-9684-66a4-a83f-dbce3ae79639"
      },
      "outputs": [],
      "source": [
        "test_df = pd.read_csv('../input/test.csv')"
      ]
    },
    {
      "cell_type": "code",
      "execution_count": null,
      "metadata": {
        "_cell_guid": "c9bc749e-4458-6cde-4a0d-6ad20cde9a82"
      },
      "outputs": [],
      "source": [
        "train_df = pd.read_csv('../input/train.csv')"
      ]
    },
    {
      "cell_type": "code",
      "execution_count": null,
      "metadata": {
        "_cell_guid": "f1a1a413-17aa-7a01-4651-066bad81ce54"
      },
      "outputs": [],
      "source": [
        "combine = [train_df, test_df]"
      ]
    },
    {
      "cell_type": "code",
      "execution_count": null,
      "metadata": {
        "_cell_guid": "b386d7d2-6f69-fffe-73ac-a9967e2a5e1e"
      },
      "outputs": [],
      "source": [
        "train_df[['Pclass', 'Survived']].groupby(['Pclass'], as_index=False).mean().sort_values(by='Survived', ascending=False)"
      ]
    },
    {
      "cell_type": "code",
      "execution_count": null,
      "metadata": {
        "_cell_guid": "99fd9051-c1d9-1da7-3ca8-d3a2fafda64d"
      },
      "outputs": [],
      "source": [
        "train_df[[\"Sex\", \"Survived\"]].groupby(['Sex'], as_index=False).mean().sort_values(by='Survived', ascending=False)"
      ]
    },
    {
      "cell_type": "code",
      "execution_count": null,
      "metadata": {
        "_cell_guid": "f013487f-9a5b-4f9f-88b7-8634f9a7008f"
      },
      "outputs": [],
      "source": [
        "# visualization\n",
        "import seaborn as sns\n",
        "import matplotlib.pyplot as plt\n",
        "%matplotlib inline"
      ]
    },
    {
      "cell_type": "code",
      "execution_count": null,
      "metadata": {
        "_cell_guid": "2ea20f93-8ada-3f46-2678-2e86191df882"
      },
      "outputs": [],
      "source": [
        "g = sns.FacetGrid(train_df, col='Survived')\n",
        "g.map(plt.hist, 'Age', bins=20)"
      ]
    },
    {
      "cell_type": "code",
      "execution_count": null,
      "metadata": {
        "_cell_guid": "effe7fe2-da8c-98af-082b-0a8ebf5aae43"
      },
      "outputs": [],
      "source": [
        "grid = sns.FacetGrid(train_df, col='Survived', row='Pclass', size=2.2, aspect=1.6)\n",
        "grid.map(plt.hist, 'Age', alpha=.5, bins=20)\n",
        "grid.add_legend();"
      ]
    },
    {
      "cell_type": "code",
      "execution_count": null,
      "metadata": {
        "_cell_guid": "35301bb0-9762-c33e-b04a-f167c4b23d24"
      },
      "outputs": [],
      "source": [
        "train_df[[\"Fare\", \"Survived\"]].groupby(pd.cut(train_df['Fare'], bins=15, labels=False)).mean().sort_values(by='Fare', ascending=False)"
      ]
    },
    {
      "cell_type": "code",
      "execution_count": null,
      "metadata": {
        "_cell_guid": "160e9aa7-352f-e93b-852b-da7336e3d6a2"
      },
      "outputs": [],
      "source": [
        "# grid = sns.FacetGrid(train_df, col='Embarked')\n",
        "grid = sns.FacetGrid(train_df, row='Embarked', size=2.2, aspect=1.6)\n",
        "grid.map(sns.pointplot, 'Pclass', 'Survived', 'Sex', palette='deep')\n",
        "grid.add_legend()"
      ]
    },
    {
      "cell_type": "code",
      "execution_count": null,
      "metadata": {
        "_cell_guid": "e1d19ff3-382b-6820-a78f-d1fa85861bde"
      },
      "outputs": [],
      "source": [
        "train_df[[\"Survived\"]].groupby(lambda ind: 'NaN' if (pd.isnull (train_df['Cabin'].loc[ind])) else train_df['Cabin'].loc[ind][0], as_index=True, sort=False, group_keys=True).mean()"
      ]
    },
    {
      "cell_type": "code",
      "execution_count": null,
      "metadata": {
        "_cell_guid": "90989f1c-813b-8fc4-36df-f45d91b18511"
      },
      "outputs": [],
      "source": [
        "train_df[[\"PassengerId\"]].groupby(lambda ind: 'NaN' \n",
        "                                     if (pd.isnull (train_df['Cabin'].loc[ind])) \n",
        "                                     else train_df['Cabin'].loc[ind][0]).count()"
      ]
    },
    {
      "cell_type": "code",
      "execution_count": null,
      "metadata": {
        "_cell_guid": "e340b51d-f4bd-eb66-6510-31a833736af4"
      },
      "outputs": [],
      "source": [
        "train_df[[\"Fare\"]].groupby(lambda ind: 'NaN' if (pd.isnull (train_df['Cabin'].loc[ind])) else train_df['Cabin'].loc[ind][0]).mean()"
      ]
    },
    {
      "cell_type": "code",
      "execution_count": null,
      "metadata": {
        "_cell_guid": "d4fa3bb6-f10c-ae61-e9a9-7cab6b4f6d77"
      },
      "outputs": [],
      "source": [
        "train_df.loc[train_df['Fare'] > 500]"
      ]
    },
    {
      "cell_type": "code",
      "execution_count": null,
      "metadata": {
        "_cell_guid": "a228c3e4-8df2-c6af-ec83-28b6cc33d180"
      },
      "outputs": [],
      "source": [
        "import re\n",
        "\n",
        "train_df[[\"Survived\"]].groupby(lambda ind: 'STON' \n",
        "                               if re.search('STON', train_df['Ticket'].loc[ind]) \n",
        "                               else 'PC' if re.search('P.?C', train_df['Ticket'].loc[ind])\n",
        "                               else 'SC' if re.search('S.?C?', train_df['Ticket'].loc[ind])\n",
        "                               else 'PP' if re.search('P.?P', train_df['Ticket'].loc[ind]) \n",
        "                               else 'CA' if re.search('C.?A?', train_df['Ticket'].loc[ind]) \n",
        "                               else 'A/' if re.search('A.?/', train_df['Ticket'].loc[ind]) \n",
        "                               else 'letter' if re.search('[a-zA-Z]+', train_df['Ticket'].loc[ind]) \n",
        "                               else 'number').mean()"
      ]
    },
    {
      "cell_type": "code",
      "execution_count": null,
      "metadata": {
        "_cell_guid": "da838ce9-4c3d-4179-b721-0ae0b34cf7fc"
      },
      "outputs": [],
      "source": [
        "train_df[[\"Fare\"]].groupby(lambda ind: 'STON' \n",
        "                               if re.search('STON', train_df['Ticket'].loc[ind]) \n",
        "                               else 'PC' if re.search('P.?C', train_df['Ticket'].loc[ind])\n",
        "                               else 'SC' if re.search('S.?C?', train_df['Ticket'].loc[ind])\n",
        "                               else 'PP' if re.search('P.?P', train_df['Ticket'].loc[ind]) \n",
        "                               else 'CA' if re.search('C.?A?', train_df['Ticket'].loc[ind]) \n",
        "                               else 'A/' if re.search('A.?/', train_df['Ticket'].loc[ind]) \n",
        "                               else 'letter' if re.search('[a-zA-Z]+', train_df['Ticket'].loc[ind]) \n",
        "                               else 'number').mean ()"
      ]
    },
    {
      "cell_type": "code",
      "execution_count": null,
      "metadata": {
        "_cell_guid": "f6e83a1f-5089-186b-4a1d-9e0353385553"
      },
      "outputs": [],
      "source": [
        "train_df[[\"Fare\"]].groupby(lambda ind: 'STON' \n",
        "                               if re.search('STON', train_df['Ticket'].loc[ind]) \n",
        "                               else 'PC' if re.search('P.?C', train_df['Ticket'].loc[ind])\n",
        "                               else 'SC' if re.search('S.?C?', train_df['Ticket'].loc[ind])\n",
        "                               else 'PP' if re.search('P.?P', train_df['Ticket'].loc[ind]) \n",
        "                               else 'CA' if re.search('C.?A?', train_df['Ticket'].loc[ind]) \n",
        "                               else 'A/' if re.search('A.?/', train_df['Ticket'].loc[ind]) \n",
        "                               else 'letter' if re.search('[a-zA-Z]+', train_df['Ticket'].loc[ind]) \n",
        "                               else 'number').count ()"
      ]
    },
    {
      "cell_type": "markdown",
      "metadata": {
        "_cell_guid": "79335306-d71d-a862-80fd-8f313cd74aa8"
      },
      "source": [
        "dropping features"
      ]
    },
    {
      "cell_type": "code",
      "execution_count": null,
      "metadata": {
        "_cell_guid": "9f87b5d1-bfcf-6259-5170-beaff3882534"
      },
      "outputs": [],
      "source": [
        "train_df = train_df.drop(['Name'], axis=1)\n",
        "test_df = test_df.drop(['Name'], axis=1)\n",
        "combine = [train_df, test_df]\n",
        "\n",
        "\"After\", train_df.shape, test_df.shape, combine[0].shape, combine[1].shape"
      ]
    },
    {
      "cell_type": "code",
      "execution_count": null,
      "metadata": {
        "_cell_guid": "b4b35d1a-94ed-b423-55f3-3fd134299c35"
      },
      "outputs": [],
      "source": [
        "for dataset in combine:\n",
        "    dataset['Sex'] = dataset['Sex'].map( {'female': 1, 'male': 0} ).astype(int)\n",
        "\n",
        "train_df.head()"
      ]
    },
    {
      "cell_type": "code",
      "execution_count": null,
      "metadata": {
        "_cell_guid": "4b3ad4da-6fc1-84cf-2051-35a060a2f5f9"
      },
      "outputs": [],
      "source": [
        "for dataset in combine:\n",
        "    dataset['Ticket'] = dataset['Ticket'].map(lambda x: 'STON' if re.search('STON', x) \n",
        "                               else 'PC' if re.search('P.?C', x)\n",
        "                               else 'SC' if re.search('S.?C?', x)\n",
        "                               else 'PP' if re.search('P.?P', x) \n",
        "                               else 'CA' if re.search('C.?A?', x) \n",
        "                               else 'A/' if re.search('A.?/', x) \n",
        "                               else 'letter' if re.search('[a-zA-Z]+', x) \n",
        "                               else 'number',\n",
        "               na_action=None)\n",
        "train_df.head()"
      ]
    },
    {
      "cell_type": "code",
      "execution_count": null,
      "metadata": {
        "_cell_guid": "f1e9172a-6513-7515-9147-3658135fd849"
      },
      "outputs": [],
      "source": [
        "for dataset in combine:\n",
        "    dataset['Cabin'] = dataset['Cabin'].map(lambda x: 'NaN' if (pd.isnull(x)) else x[0],\n",
        "               na_action=None)\n",
        "train_df.head()"
      ]
    },
    {
      "cell_type": "code",
      "execution_count": null,
      "metadata": {
        "_cell_guid": "3c9333d7-f7d2-df02-b5d5-280776c07022"
      },
      "outputs": [],
      "source": [
        "from scipy.stats.stats import spearmanr, kendalltau, pearsonr\n",
        "s = train_df['Age'].values\n",
        "p = train_df['Survived'].values\n",
        "spearmanr(s, p)"
      ]
    },
    {
      "cell_type": "code",
      "execution_count": null,
      "metadata": {
        "_cell_guid": "d679a0dd-67c8-6db1-9a49-86d6ea32cf28"
      },
      "outputs": [],
      "source": [
        "for dataset in combine:\n",
        "    dataset['Age'] = dataset['Age'].map(lambda x: 30 if (pd.isnull(x)) else x,\n",
        "               na_action=None)\n",
        "train_df.head()"
      ]
    },
    {
      "cell_type": "code",
      "execution_count": null,
      "metadata": {
        "_cell_guid": "b0b55b98-6bc9-d214-2472-3f5cdf8d5e0a"
      },
      "outputs": [],
      "source": [
        "cols_to_transform = [ 'Ticket', 'Cabin', 'Embarked' ]\n",
        "\n",
        "encoded = pd.get_dummies(pd.concat([train_df,test_df], axis=0), columns = cols_to_transform)\n",
        "train_rows = train_df.shape[0]\n",
        "train_encoded = encoded.iloc[:train_rows, :]\n",
        "test_encoded = encoded.iloc[train_rows:, :] "
      ]
    },
    {
      "cell_type": "code",
      "execution_count": null,
      "metadata": {
        "_cell_guid": "035ef98b-3f08-ee5a-5324-f09eb5dc8205"
      },
      "outputs": [],
      "source": [
        "from sklearn.feature_selection  import SelectKBest\n",
        "selector = SelectKBest(k=20)\n",
        "\n",
        "features = list(test_encoded)\n",
        "selector.fit(train_encoded[features], train_encoded[\"Survived\"])\n",
        "\n",
        "scores = -np.log10(selector.pvalues_)\n",
        "\n",
        "plt.bar(range(len(features)), scores)\n",
        "plt.xticks(range(len(features)), features, rotation='vertical')\n",
        "plt.show()"
      ]
    },
    {
      "cell_type": "code",
      "execution_count": null,
      "metadata": {
        "_cell_guid": "f0b515b1-9dbb-93d0-8370-17560004d2cd"
      },
      "outputs": [],
      "source": [
        "test_encoded = test_encoded.drop('Survived', 1)"
      ]
    },
    {
      "cell_type": "code",
      "execution_count": null,
      "metadata": {
        "_cell_guid": "618ef1da-8399-7692-692e-d4b4ae51e606"
      },
      "outputs": [],
      "source": [
        "print(\"After\", train_encoded.shape, test_encoded.shape)"
      ]
    },
    {
      "cell_type": "code",
      "execution_count": null,
      "metadata": {
        "_cell_guid": "c70075d7-307f-a2d5-a131-3129200d72b2"
      },
      "outputs": [],
      "source": [
        "from sklearn.ensemble import RandomForestClassifier\n",
        "\n",
        "import numpy as np\n",
        "#from sklearn.model_selection import train_test_split\n",
        "\n",
        "#x_train, x_test = train_test_split(train_encoded, test_size = 0.09)\n",
        "#y_train = x_train.pop(\"Survived\")\n",
        "#y_test = x_test.pop(\"Survived\")\n",
        "\n",
        "#x = train_encoded\n",
        "#y = x.pop(\"Survived\")\n"
      ]
    },
    {
      "cell_type": "code",
      "execution_count": null,
      "metadata": {
        "_cell_guid": "65b1f379-7d38-104c-7f90-90e97464d099"
      },
      "outputs": [],
      "source": [
        "train_encoded.isnull().sum()"
      ]
    },
    {
      "cell_type": "code",
      "execution_count": null,
      "metadata": {
        "_cell_guid": "f40b19c2-eb62-435d-b69d-fadd33238129"
      },
      "outputs": [],
      "source": [
        "list(train_encoded)"
      ]
    },
    {
      "cell_type": "code",
      "execution_count": null,
      "metadata": {
        "_cell_guid": "4b96f055-0ca3-6fa6-6762-d227bccc8933"
      },
      "outputs": [],
      "source": [
        "from sklearn.feature_selection  import SelectKBest\n",
        "selector = SelectKBest(k=20)\n",
        "\n",
        "features = list(test_encoded)\n",
        "selector.fit(train_encoded[features], train_encoded[\"Survived\"])\n",
        "\n",
        "scores = -np.log10(selector.pvalues_)\n",
        "\n",
        "plt.bar(range(len(features)), scores)\n",
        "plt.xticks(range(len(features)), features, rotation='vertical')\n",
        "plt.show()"
      ]
    },
    {
      "cell_type": "code",
      "execution_count": null,
      "metadata": {
        "_cell_guid": "3a81ed9a-43ed-5331-dcac-58683eeafe2e"
      },
      "outputs": [],
      "source": [
        "features1 = ['Age',\n",
        " 'Fare',\n",
        " 'Parch',\n",
        " 'PassengerId',\n",
        " 'Pclass',\n",
        " 'Sex',\n",
        " 'SibSp',\n",
        " 'Ticket_A/',\n",
        " 'Ticket_CA',\n",
        " 'Ticket_PC',\n",
        " 'Ticket_PP',\n",
        " 'Ticket_SC',\n",
        " 'Ticket_STON',\n",
        " 'Ticket_letter',\n",
        " 'Ticket_number',\n",
        " 'Cabin_A',\n",
        " 'Cabin_B',\n",
        " 'Cabin_C',\n",
        " 'Cabin_D',\n",
        " 'Cabin_E',\n",
        " 'Cabin_F',\n",
        " 'Cabin_G',\n",
        " 'Cabin_NaN',\n",
        " 'Cabin_T',\n",
        " 'Embarked_C',\n",
        " 'Embarked_Q',\n",
        " 'Embarked_S']"
      ]
    },
    {
      "cell_type": "code",
      "execution_count": null,
      "metadata": {
        "_cell_guid": "5c86c085-7a93-08e8-7929-219f1f2bc659"
      },
      "outputs": [],
      "source": [
        "from sklearn.model_selection import GridSearchCV\n",
        "\n",
        "alg_frst_model = RandomForestClassifier(oob_score = True ,n_jobs = -1,random_state =1)\n",
        "alg_frst_params = [{\n",
        "    \"n_estimators\": [80,90, 100],\n",
        "    \"min_samples_split\": [4,6, 7],\n",
        "    \"min_samples_leaf\": [2, 3,4]\n",
        "}]\n",
        "alg_frst_grid = GridSearchCV(alg_frst_model, alg_frst_params, refit=True, verbose=1, n_jobs=-1)\n",
        "alg_frst_grid.fit(train_encoded[features1], train_encoded['Survived'])\n",
        "alg_frst_best = alg_frst_grid.best_estimator_\n",
        "print(\"Accuracy (random forest auto): {} with params {}\"\n",
        "      .format(alg_frst_grid.best_score_, alg_frst_grid.best_params_))"
      ]
    },
    {
      "cell_type": "code",
      "execution_count": null,
      "metadata": {
        "_cell_guid": "997ed83a-4f15-f759-5af9-2ba590e1d8fc"
      },
      "outputs": [],
      "source": [
        "model = RandomForestClassifier(n_estimators = 100, min_samples_leaf=3, min_samples_split=8, oob_score = True ,n_jobs = -1,random_state =1)\n",
        "model.fit(train_encoded[features1], train_encoded['Survived'])"
      ]
    },
    {
      "cell_type": "code",
      "execution_count": null,
      "metadata": {
        "_cell_guid": "1edbc41d-9bc5-e0a0-43d3-dc9b46f5864e"
      },
      "outputs": [],
      "source": [
        "\n",
        "test_encoded[features1].isnull().sum()"
      ]
    },
    {
      "cell_type": "code",
      "execution_count": null,
      "metadata": {
        "_cell_guid": "f4c8f715-8797-5116-654c-8609800638b8"
      },
      "outputs": [],
      "source": [
        "test_encoded['Fare'] = dataset['Fare'].map(lambda x: 50 if (pd.isnull(x)) else x)"
      ]
    },
    {
      "cell_type": "code",
      "execution_count": null,
      "metadata": {
        "_cell_guid": "ea0436f5-2a4c-76ea-faa0-e51042baee34"
      },
      "outputs": [],
      "source": [
        "prediction = model.predict (test_encoded[features1])"
      ]
    },
    {
      "cell_type": "code",
      "execution_count": null,
      "metadata": {
        "_cell_guid": "354fd27b-6509-aaee-b70f-79e5299518b6"
      },
      "outputs": [],
      "source": [
        "submission = pd.DataFrame({\n",
        "    \"PassengerId\": test_encoded[\"PassengerId\"],\n",
        "    \"Survived\": prediction\n",
        "})\n",
        "submission['Survived'] = submission['Survived'].astype(int)\n",
        "submission.to_csv(\"titanic-submission.csv\", index=False)"
      ]
    },
    {
      "cell_type": "code",
      "execution_count": null,
      "metadata": {
        "_cell_guid": "304e6908-8070-6192-d0f5-b321e48c0d49",
        "collapsed": true
      },
      "outputs": [],
      "source": ""
    }
  ],
  "metadata": {
    "_change_revision": 0,
    "_is_fork": false,
    "kernelspec": {
      "display_name": "Python 3",
      "language": "python",
      "name": "python3"
    },
    "language_info": {
      "codemirror_mode": {
        "name": "ipython",
        "version": 3
      },
      "file_extension": ".py",
      "mimetype": "text/x-python",
      "name": "python",
      "nbconvert_exporter": "python",
      "pygments_lexer": "ipython3",
      "version": "3.6.0"
    }
  },
  "nbformat": 4,
  "nbformat_minor": 0
}