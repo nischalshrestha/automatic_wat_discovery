{
  "cells": [
    {
      "cell_type": "markdown",
      "metadata": {
        "_cell_guid": "eec17cda-65b2-15b4-44ee-27513bcae189"
      },
      "source": [
        "TP4 : decision trees and random forest"
      ]
    },
    {
      "cell_type": "code",
      "execution_count": null,
      "metadata": {
        "_cell_guid": "43378d7e-8ade-a999-f01d-d54f082fb1bf"
      },
      "outputs": [],
      "source": [
        "# This Python 3 environment comes with many helpful analytics libraries installed\n",
        "# It is defined by the kaggle/python docker image: https://github.com/kaggle/docker-python\n",
        "# For example, here's several helpful packages to load in \n",
        "\n",
        "import numpy as np # linear algebra\n",
        "import pandas as pd # data processing, CSV file I/O (e.g. pd.read_csv)\n",
        "from sklearn.tree import DecisionTreeClassifier\n",
        "from sklearn.ensemble import RandomForestClassifier , GradientBoostingClassifier\n",
        "from sklearn import tree\n",
        "\n",
        "# Visualisation\n",
        "import matplotlib as mpl\n",
        "import matplotlib.pyplot as plt\n",
        "import matplotlib.pylab as pylab\n",
        "import seaborn as sns\n",
        "\n",
        "# Input data files are available in the \"../input/\" directory.\n",
        "# For example, running this (by clicking run or pressing Shift+Enter) will list the files in the input directory\n",
        "\n",
        "from subprocess import check_output\n",
        "print(check_output([\"ls\", \"../input\"]).decode(\"utf8\"))\n",
        "\n",
        "# Any results you write to the current directory are saved as output."
      ]
    },
    {
      "cell_type": "code",
      "execution_count": null,
      "metadata": {
        "_cell_guid": "1f0efd2c-0d06-8723-1193-7facc70969b3"
      },
      "outputs": [],
      "source": [
        "train = pd.read_csv(\"../input/train.csv\")\n",
        "test    = pd.read_csv(\"../input/test.csv\")"
      ]
    },
    {
      "cell_type": "code",
      "execution_count": null,
      "metadata": {
        "_cell_guid": "5f43f156-d1f1-3213-e41a-5a232ae9a974"
      },
      "outputs": [],
      "source": [
        "train.head()"
      ]
    },
    {
      "cell_type": "code",
      "execution_count": null,
      "metadata": {
        "_cell_guid": "8de87b10-affd-b0c2-24d0-d6d98b5b2a5a"
      },
      "outputs": [],
      "source": [
        "train.describe()"
      ]
    },
    {
      "cell_type": "code",
      "execution_count": null,
      "metadata": {
        "_cell_guid": "76c85464-cd64-cf3a-0325-c51363914189"
      },
      "outputs": [],
      "source": [
        "corr = train.corr()\n",
        "_ , ax = plt.subplots( figsize =( 12 , 10 ) )\n",
        "cmap = sns.diverging_palette( 220 , 10 , as_cmap = True )\n",
        "_ = sns.heatmap(corr, cmap = cmap, square=True, cbar_kws={ 'shrink' : .9 }, ax=ax, annot = True, annot_kws = {'fontsize' : 12 })"
      ]
    },
    {
      "cell_type": "code",
      "execution_count": null,
      "metadata": {
        "_cell_guid": "d8e6b761-1a60-7b27-1e24-20e3066f5456"
      },
      "outputs": [],
      "source": [
        "#type(train['Survived'][0])\n",
        "train['Name']"
      ]
    },
    {
      "cell_type": "code",
      "execution_count": null,
      "metadata": {
        "_cell_guid": "f026fbb0-e454-6c9a-f18d-078f943c91cd"
      },
      "outputs": [],
      "source": [
        "type(train)"
      ]
    },
    {
      "cell_type": "markdown",
      "metadata": {
        "_cell_guid": "56828db2-a5ec-f26b-9897-5fa6d44dd028"
      },
      "source": [
        "**Data Preparation**\n"
      ]
    },
    {
      "cell_type": "code",
      "execution_count": null,
      "metadata": {
        "_cell_guid": "d8d54902-8b0a-d9ed-2e9e-2e0d1758ac47"
      },
      "outputs": [],
      "source": [
        "target = train['Survived'].values\n",
        "train = train.drop(['Survived'], axis=1)\n",
        "id_test = test['PassengerId']\n",
        "train_size = train.shape[0]"
      ]
    },
    {
      "cell_type": "code",
      "execution_count": null,
      "metadata": {
        "_cell_guid": "3640ac7f-f64f-fae3-0fa0-4147829cbbb8"
      },
      "outputs": [],
      "source": [
        "titanic = pd.concat((train,test), axis=0, ignore_index=True)"
      ]
    },
    {
      "cell_type": "code",
      "execution_count": null,
      "metadata": {
        "_cell_guid": "723dd2db-e6e0-3ded-41af-1d760eb4038a"
      },
      "outputs": [],
      "source": [
        "titanic = titanic.drop(['Name','PassengerId','Ticket'], axis=1)"
      ]
    },
    {
      "cell_type": "markdown",
      "metadata": {
        "_cell_guid": "907c8d34-4680-2ac1-1ce4-7b005112d90e"
      },
      "source": [
        "raplacing the Na variables "
      ]
    },
    {
      "cell_type": "code",
      "execution_count": null,
      "metadata": {
        "_cell_guid": "f61f8f8a-7b86-d460-aae4-fce2fff39a68"
      },
      "outputs": [],
      "source": [
        "titanic.Age = titanic.Age.fillna(titanic.Age.mean())\n",
        "titanic.Fare = titanic.Age.fillna(titanic.Fare.mean())\n",
        "titanic.Cabin = titanic.Cabin.fillna( 'U' )"
      ]
    },
    {
      "cell_type": "code",
      "execution_count": null,
      "metadata": {
        "_cell_guid": "8f5960de-d0c1-2597-b041-2148d9f6bbb4"
      },
      "outputs": [],
      "source": [
        "titanic.Cabin = titanic.Cabin.map( lambda c : c[0] )"
      ]
    },
    {
      "cell_type": "code",
      "execution_count": null,
      "metadata": {
        "_cell_guid": "d3692306-bcd3-2103-e72b-5f47128b8bf6"
      },
      "outputs": [],
      "source": [
        "print (\"Nb null dans Age : \"+str(titanic.Age.isnull().sum()))\n",
        "print (\"Nb null dans Parch : \"+str(titanic.Parch.isnull().sum()))\n",
        "print (\"Nb null dans Pclass : \"+str(titanic.Pclass.isnull().sum()))\n",
        "print (\"Nb null dans Fare : \"+str(titanic.Fare.isnull().sum()))\n",
        "print (\"Nb null dans Sex : \"+str(titanic.Sex.isnull().sum()))\n",
        "print (\"Nb null dans Cabin : \"+str(titanic.Cabin.isnull().sum()))"
      ]
    },
    {
      "cell_type": "code",
      "execution_count": null,
      "metadata": {
        "_cell_guid": "3a3304d7-c29c-9ef9-dd03-539ab9a29e4d"
      },
      "outputs": [],
      "source": [
        "features = ['Pclass','Sex','SibSp','Parch','Cabin', 'Embarked']"
      ]
    },
    {
      "cell_type": "markdown",
      "metadata": {
        "_cell_guid": "9b29b948-5ee2-6d60-1632-146d053ec906"
      },
      "source": [
        "One Hot encoding"
      ]
    },
    {
      "cell_type": "code",
      "execution_count": null,
      "metadata": {
        "_cell_guid": "6f534b6c-3d2a-abc5-ff49-50f2ce6f1044"
      },
      "outputs": [],
      "source": [
        "for f in features:\n",
        "    titanic_dummy = pd.get_dummies(titanic[f], prefix = f)\n",
        "    titanic = titanic.drop([f], axis = 1)\n",
        "    titanic = pd.concat((titanic, titanic_dummy), axis = 1)"
      ]
    },
    {
      "cell_type": "code",
      "execution_count": null,
      "metadata": {
        "_cell_guid": "64fe90fa-b322-3cc8-d519-06988572b702"
      },
      "outputs": [],
      "source": [
        "titanic"
      ]
    },
    {
      "cell_type": "markdown",
      "metadata": {
        "_cell_guid": "38eeab4a-4015-a7e9-b02d-1fa76e79ecce"
      },
      "source": [
        "**Data Modeling**"
      ]
    },
    {
      "cell_type": "code",
      "execution_count": null,
      "metadata": {
        "_cell_guid": "5309d435-ddd6-6876-8460-b33a038eac3b"
      },
      "outputs": [],
      "source": [
        "vals = titanic.values\n",
        "X = vals[:train_size]\n",
        "y = target\n",
        "X_test = vals[train_size:]"
      ]
    },
    {
      "cell_type": "code",
      "execution_count": null,
      "metadata": {
        "_cell_guid": "5708ce00-bcbf-b4b0-2798-483b89649a19"
      },
      "outputs": [],
      "source": [
        "X"
      ]
    },
    {
      "cell_type": "code",
      "execution_count": null,
      "metadata": {
        "_cell_guid": "4aae884f-7cdc-91fd-b85d-f8811433c700"
      },
      "outputs": [],
      "source": [
        "model = GradientBoostingClassifier()\n",
        "model.fit(X,y)\n",
        "y_pred = model.predict(X_test)"
      ]
    },
    {
      "cell_type": "code",
      "execution_count": null,
      "metadata": {
        "_cell_guid": "23352019-a44e-aa47-f5ff-2b40fa7a8e97"
      },
      "outputs": [],
      "source": [
        "from IPython.display import Image\n",
        "\n",
        "dot_data = tree.export_graphviz(model, out_file='tree.dot', \n",
        "                         filled=True, rounded=True,  \n",
        "                         special_characters=True)  \n"
      ]
    },
    {
      "cell_type": "code",
      "execution_count": null,
      "metadata": {
        "_cell_guid": "cdfe65e9-50c5-26b6-5721-5ac13e458dbc"
      },
      "outputs": [],
      "source": [
        "test = pd.DataFrame( { 'PassengerId': id_test , 'Survived': y_pred } )"
      ]
    },
    {
      "cell_type": "code",
      "execution_count": null,
      "metadata": {
        "_cell_guid": "d22949dc-900d-1019-c5bc-b9c68be889db"
      },
      "outputs": [],
      "source": [
        "test.to_csv( 'titanic_pred.csv' , index = False )"
      ]
    }
  ],
  "metadata": {
    "_change_revision": 0,
    "_is_fork": false,
    "kernelspec": {
      "display_name": "Python 3",
      "language": "python",
      "name": "python3"
    },
    "language_info": {
      "codemirror_mode": {
        "name": "ipython",
        "version": 3
      },
      "file_extension": ".py",
      "mimetype": "text/x-python",
      "name": "python",
      "nbconvert_exporter": "python",
      "pygments_lexer": "ipython3",
      "version": "3.5.2"
    }
  },
  "nbformat": 4,
  "nbformat_minor": 0
}