{
  "cells": [
    {
      "cell_type": "markdown",
      "metadata": {
        "_cell_guid": "19d0bf65-539d-85df-e882-b637c8ee8ef7"
      },
      "source": [
        "Simple exploratory analysis.\n",
        "Dropping cabin information and removing individuals with no age.\n",
        "\n",
        "**Dimension reduction is vaguely interesting**\n",
        "\n",
        "**I have issues with plotting graphviz files**"
      ]
    },
    {
      "cell_type": "code",
      "execution_count": null,
      "metadata": {
        "_cell_guid": "ce1db74a-f2b6-2d95-936b-bde476572c03"
      },
      "outputs": [],
      "source": [
        "import warnings\n",
        "warnings.simplefilter('ignore')"
      ]
    },
    {
      "cell_type": "code",
      "execution_count": null,
      "metadata": {
        "_cell_guid": "a9418993-abf7-90f7-2e2e-a97f31d235fb"
      },
      "outputs": [],
      "source": [
        "import numpy as np\n",
        "import pandas as pd\n",
        "import seaborn as sns\n",
        "import matplotlib.pyplot as plt\n",
        "\n",
        "from sklearn import tree\n",
        "from sklearn.decomposition import PCA\n",
        "from sklearn import preprocessing\n",
        "import tensorflow as tf"
      ]
    },
    {
      "cell_type": "code",
      "execution_count": null,
      "metadata": {
        "_cell_guid": "2f825d46-c5db-6ac4-fd33-c787a2096e97"
      },
      "outputs": [],
      "source": [
        "from subprocess import check_output\n",
        "print(check_output([\"ls\", \"../input\"]).decode(\"utf8\"))"
      ]
    },
    {
      "cell_type": "markdown",
      "metadata": {
        "_cell_guid": "f0c35f89-ace4-56d9-eb87-2c8848f22eba"
      },
      "source": [
        "## Basic exploratory analysis ##"
      ]
    },
    {
      "cell_type": "code",
      "execution_count": null,
      "metadata": {
        "_cell_guid": "2922d8a9-7597-1e0e-01d1-2192688ba08e"
      },
      "outputs": [],
      "source": [
        "train_data = pd.read_csv('../input/train.csv', dtype={'Age': np.float16})\n",
        "test_data = pd.read_csv('../input/test.csv')\n",
        "\n",
        "train_data.head()"
      ]
    },
    {
      "cell_type": "code",
      "execution_count": null,
      "metadata": {
        "_cell_guid": "3498b615-bb1c-2cd4-6aff-8f3030711398"
      },
      "outputs": [],
      "source": [
        "print('train size: %d, test size: %d' % (train_data.size, test_data.size))"
      ]
    },
    {
      "cell_type": "code",
      "execution_count": null,
      "metadata": {
        "_cell_guid": "6aece57a-7299-aed8-16fb-df9076cfbc27"
      },
      "outputs": [],
      "source": [
        "**Check incomplete information**"
      ]
    },
    {
      "cell_type": "code",
      "execution_count": null,
      "metadata": {
        "_cell_guid": "d0498858-602d-6a3e-6ec3-113eac9bd0c7"
      },
      "outputs": [],
      "source": [
        "nans = {}\n",
        "for colname in train_data.columns:\n",
        "    nans[colname] = train_data[train_data[colname].isnull()].size\n",
        "nans"
      ]
    },
    {
      "cell_type": "markdown",
      "metadata": {
        "_cell_guid": "08bdddae-1e81-36ba-fc2c-fabc0d0bc198"
      },
      "source": [
        "See if passengers with not Age and Cabin info had some common feature (betting class=3  for most)"
      ]
    },
    {
      "cell_type": "markdown",
      "metadata": {
        "_cell_guid": "afb2cc4d-474d-75c3-7330-65fbadae455d"
      },
      "source": [
        "**Drop cabin and lack of age segregation**"
      ]
    },
    {
      "cell_type": "code",
      "execution_count": null,
      "metadata": {
        "_cell_guid": "cabcfd6b-7348-54b5-5be8-217fd649ceb6"
      },
      "outputs": [],
      "source": [
        "old_train_data = train_data.copy()\n",
        "try:\n",
        "    train_data.drop('Cabin', 1, inplace=True)\n",
        "except ValueError:\n",
        "    pass  # Probably repeating cell execution\n",
        "train_data = train_data[train_data['Age'].notnull()]\n",
        "train_data.size"
      ]
    },
    {
      "cell_type": "markdown",
      "metadata": {
        "_cell_guid": "a9c6bdd0-d1e8-f889-10d5-c3c1cac4fc79"
      },
      "source": [
        "**Helicopter view**\n",
        "Pie charts are evil... well, maybe sometimes not"
      ]
    },
    {
      "cell_type": "code",
      "execution_count": null,
      "metadata": {
        "_cell_guid": "e036b997-187e-8ec6-5070-5bcd03638afa"
      },
      "outputs": [],
      "source": [
        "fig, axs = plt.subplots(3, 2, squeeze=False, figsize=(12, 14))\n",
        "train_data.Age.plot.hist(bins=50, title='Age', ax=axs[0, 0])\n",
        "train_data.groupby('Survived').agg('count')['Age'].plot.pie(title='Survived', ax=axs[0, 1])\n",
        "axs[0, 1].set_ylabel('')\n",
        "train_data.groupby('Sex').agg('count')['Age'].plot.pie(title='Gender', ax=axs[1, 0])\n",
        "axs[1, 0].set_ylabel('')\n",
        "train_data.groupby('Pclass').agg('count')['Age'].plot.pie(title='Class', ax=axs[1, 1])\n",
        "axs[1, 1].set_ylabel('')\n",
        "fare = train_data.Fare\n",
        "fare.plot.hist(bins=50, title='Fare', ax=axs[2, 0])\n",
        "fare[fare < 100].plot.hist(bins=50, title='Fare (< 100)', ax=axs[2, 1])"
      ]
    },
    {
      "cell_type": "markdown",
      "metadata": {
        "_cell_guid": "838f4407-9c71-e0de-d465-941f1a308d03"
      },
      "source": [
        "**Survivalship by feature** Helicopter view (using KDE)"
      ]
    },
    {
      "cell_type": "code",
      "execution_count": null,
      "metadata": {
        "_cell_guid": "04115767-1a8f-4bfd-3d83-53d82bb73aaa"
      },
      "outputs": [],
      "source": [
        "train_survive = train_data[train_data.Survived == 1]\n",
        "train_dead = train_data[train_data.Survived == 0]"
      ]
    },
    {
      "cell_type": "code",
      "execution_count": null,
      "metadata": {
        "_cell_guid": "ce08c7ab-3561-86c0-e04e-20e63f78013c"
      },
      "outputs": [],
      "source": [
        "def plot_kde(fig, ncols, nrows, mypos, title, feature, xmin=0, xmax=None):\n",
        "    ax = fig.add_subplot(ncols, nrows, mypos)\n",
        "    train_survive[feature].plot.kde(ax=ax, color='g')\n",
        "    train_dead[feature].plot.kde(ax=ax, color='r')\n",
        "    ax.set_title(title)\n",
        "    ax.set_xlim(xmin, xmax)"
      ]
    },
    {
      "cell_type": "code",
      "execution_count": null,
      "metadata": {
        "_cell_guid": "fc813718-888a-c156-f259-8672878c209a"
      },
      "outputs": [],
      "source": [
        "fig = plt.figure(figsize=(12, 10))\n",
        "\n",
        "plot_kde(fig, 2, 1, 1, 'Age', 'Age', xmax=train_data.Age.max())\n",
        "plot_kde(fig, 2, 2, 3, 'Fare', 'Fare', xmax=train_data.Fare.max())\n",
        "plot_kde(fig, 2, 2, 4, 'Fare (<100)', 'Fare', xmax=99)\n",
        "\n",
        "#We will define from plot 1, child as < 15."
      ]
    },
    {
      "cell_type": "markdown",
      "metadata": {
        "_cell_guid": "0305156c-79f3-4db9-6c55-1808547d772c"
      },
      "source": [
        "New feature definition: **child**"
      ]
    },
    {
      "cell_type": "code",
      "execution_count": null,
      "metadata": {
        "_cell_guid": "1c41d762-d35a-0206-921b-dbe2ad8b1e8e"
      },
      "outputs": [],
      "source": [
        "train_data['Child'] = train_data.apply(lambda row: 1 if row['Age'] < 15 else 0, axis=1)\n",
        "test_data['Child'] = test_data.apply(lambda row: 1 if row['Age'] < 15 else 0, axis=1)"
      ]
    },
    {
      "cell_type": "markdown",
      "metadata": {
        "_cell_guid": "7a4e95fe-3d19-e7dd-f462-6b11f4fd44db"
      },
      "source": [
        "**Survaivalship by feature**"
      ]
    },
    {
      "cell_type": "code",
      "execution_count": null,
      "metadata": {
        "_cell_guid": "32aed2ec-baf1-1eef-1fee-305d26636d8d"
      },
      "outputs": [],
      "source": [
        "sex_group = train_data[['Sex', 'Survived']].groupby('Sex')"
      ]
    },
    {
      "cell_type": "code",
      "execution_count": null,
      "metadata": {
        "_cell_guid": "c733626d-538e-9d15-6941-2e1f7fe3983e"
      },
      "outputs": [],
      "source": [
        "sex_agg = sex_group.agg(['sum', 'count'])['Survived']\n",
        "sex_agg['rate'] = sex_agg.apply(lambda row: row['sum'] / row['count'], axis=1)\n",
        "sex_agg"
      ]
    },
    {
      "cell_type": "code",
      "execution_count": null,
      "metadata": {
        "_cell_guid": "50bd70eb-12e5-6248-6101-093cf4dc60c2"
      },
      "outputs": [],
      "source": [
        "class_group = train_data[['Pclass', 'Survived']].groupby('Pclass')"
      ]
    },
    {
      "cell_type": "code",
      "execution_count": null,
      "metadata": {
        "_cell_guid": "b13be3ab-2b9b-4696-6ada-8d87b5e370d2"
      },
      "outputs": [],
      "source": [
        "class_agg = class_group.agg(['sum', 'count'])['Survived']\n",
        "class_agg['rate'] = class_agg.apply(lambda row: row['sum'] / row['count'], axis=1)\n",
        "class_agg"
      ]
    },
    {
      "cell_type": "code",
      "execution_count": null,
      "metadata": {
        "_cell_guid": "679d785b-80bb-465e-0ec9-894393bfa6f7"
      },
      "outputs": [],
      "source": [
        "train_data.groupby(['Child', 'Survived']).size()"
      ]
    },
    {
      "cell_type": "code",
      "execution_count": null,
      "metadata": {
        "_cell_guid": "a2c2b042-064b-6ec9-ddbc-a4739766e319"
      },
      "outputs": [],
      "source": [
        "train_data[train_data['Child'] == 1].groupby(['Pclass', 'Sex', 'Survived']).size()"
      ]
    },
    {
      "cell_type": "code",
      "execution_count": null,
      "metadata": {
        "_cell_guid": "00ce065f-a0b3-e321-6628-381a6437ca27"
      },
      "outputs": [],
      "source": [
        "train_data.groupby(['Pclass', 'Sex', 'Survived']).size()"
      ]
    },
    {
      "cell_type": "code",
      "execution_count": null,
      "metadata": {
        "_cell_guid": "e8811615-872a-2134-77d0-6e4fcef8635a"
      },
      "outputs": [],
      "source": [
        "#Fare price by gender\n",
        "#Fare price for children\n",
        "#survivalship with adults"
      ]
    },
    {
      "cell_type": "markdown",
      "metadata": {
        "_cell_guid": "e2866e9c-ce24-7060-87ad-4f81a83a45b8"
      },
      "source": [
        "# ML Methods as exploratory analysis"
      ]
    },
    {
      "cell_type": "markdown",
      "metadata": {
        "_cell_guid": "84a1bd02-282d-729e-5a39-491305740fc6"
      },
      "source": [
        "We will be using a few features, including the child one"
      ]
    },
    {
      "cell_type": "code",
      "execution_count": null,
      "metadata": {
        "_cell_guid": "cf14b8f5-716f-7b1e-271c-7e82131f75f2"
      },
      "outputs": [],
      "source": [
        "train_features = ['Age', 'Fare', 'Sex_number', 'Pclass', 'Child']\n",
        "train_data['Sex_number'] = train_data.apply(lambda row: 0 if row['Sex'] == 'male' else 1, axis=1)\n",
        "train_X = train_data[train_features].as_matrix()\n",
        "train_Y = train_data.Survived.as_matrix()\n",
        "train_data[train_features].head()"
      ]
    },
    {
      "cell_type": "code",
      "execution_count": null,
      "metadata": {
        "_cell_guid": "91abe0ee-f5db-f1d4-f03e-4dada599e5ef"
      },
      "outputs": [],
      "source": [
        "tree_clf = tree.DecisionTreeClassifier()\n",
        "my_tree = tree_clf.fit(train_X, train_Y)\n",
        "with open('tree.dot', 'w') as w:\n",
        "    tree.export_graphviz(my_tree, out_file=w, max_depth=4,\n",
        "                         feature_names=train_features, filled=True)\n",
        "\n",
        "#with open('tree.dot') as f:\n",
        "#    print(''.join(f.readlines()))"
      ]
    },
    {
      "cell_type": "markdown",
      "metadata": {
        "_cell_guid": "97a2c8d5-02e6-6d3a-2282-b610028aec2b"
      },
      "source": [
        "**No way to print a dot file?**"
      ]
    },
    {
      "cell_type": "markdown",
      "metadata": {
        "_cell_guid": "01554ce6-ae2f-cfe1-1e0b-25619c5b2166"
      },
      "source": [
        "## Principal Components Analysis"
      ]
    },
    {
      "cell_type": "code",
      "execution_count": null,
      "metadata": {
        "_cell_guid": "8338d22d-dbba-98f1-ee74-fdb21e0c9849"
      },
      "outputs": [],
      "source": [
        "my_pca = PCA(n_components=2)\n",
        "preprocessed_train = preprocessing.normalize(preprocessing.scale(train_X))\n",
        "print(preprocessed_train.shape)\n",
        "#missing feature scaling and normalization\n",
        "my_pca.fit(preprocessed_train)\n",
        "trans = my_pca.transform(preprocessed_train)"
      ]
    },
    {
      "cell_type": "code",
      "execution_count": null,
      "metadata": {
        "_cell_guid": "e942c2a8-494f-2141-cb42-63a59bf16bf9"
      },
      "outputs": [],
      "source": [
        "**Results below**: The coloring is given from existing features"
      ]
    },
    {
      "cell_type": "code",
      "execution_count": null,
      "metadata": {
        "_cell_guid": "51611548-55b2-44fa-b334-d69f3d9f7d39"
      },
      "outputs": [],
      "source": [
        "fig, axs = plt.subplots(3, 2, squeeze=False, sharex=True, sharey=True, figsize=(12, 18))\n",
        "axs[0, 0].plot(trans[:,0], trans[:,1], '.')\n",
        "axs[0, 0].set_title('PCA: Basic')\n",
        "\n",
        "female_trans = np.array([tran for is_female, tran in zip(train_data['Sex_number'], trans) if is_female==1])\n",
        "axs[0, 1].plot(trans[:,0], trans[:,1], '.', label='Male')\n",
        "axs[0, 1].plot(female_trans[:,0], female_trans[:,1], 'r.', label='Female')\n",
        "axs[0, 1].set_title('Sex')\n",
        "axs[0, 1].legend()\n",
        "\n",
        "child_trans = np.array([tran for is_child, tran in zip(train_data['Child'], trans) if is_child==1])\n",
        "axs[1, 0].plot(trans[:,0], trans[:,1], '.', label='Adult')\n",
        "axs[1, 0].plot(child_trans[:,0], child_trans[:,1], 'r.', label='Child')\n",
        "axs[1, 0].set_title('Child/Adult')\n",
        "axs[1, 0].legend()\n",
        "\n",
        "third_trans = np.array([tran for my_class, tran in zip(train_data['Pclass'], trans) if my_class==3])\n",
        "second_trans = np.array([tran for my_class, tran in zip(train_data['Pclass'], trans) if my_class==2])\n",
        "axs[1, 1].plot(trans[:,0], trans[:,1], '.', label='First')\n",
        "axs[1, 1].plot(third_trans[:,0], third_trans[:,1], '.r', label='Second')\n",
        "axs[1, 1].plot(second_trans[:,0], second_trans[:,1], '.g', label='Third')\n",
        "axs[1, 1].set_title('Class')\n",
        "axs[1, 1].legend()\n",
        "\n",
        "axs[2, 0].scatter(trans[:,0], trans[:,1], edgecolors='face', c=train_data['Age'].as_matrix())\n",
        "axs[2, 0].set_title('Age')\n",
        "\n",
        "axs[2, 1].scatter(trans[:,0], trans[:,1], edgecolors='face', c=train_data['Fare'].as_matrix())\n",
        "axs[2, 1].set_title('Fare')"
      ]
    },
    {
      "cell_type": "code",
      "execution_count": null,
      "metadata": {
        "_cell_guid": "1c569c68-3f51-6084-1f63-1c2405763c8c"
      },
      "outputs": [],
      "source": [
        "fig, ax = plt.subplots()\n",
        "ax.set_axis_bgcolor('red')\n",
        "ax.scatter(trans[:,0], trans[:,1], edgecolors='face', s=10, c=train_data['Survived'].as_matrix())\n",
        "ax.set_title('Survival')"
      ]
    },
    {
      "cell_type": "code",
      "execution_count": null,
      "metadata": {
        "_cell_guid": "a1768570-09ed-69be-8dc7-84be40abeecb"
      },
      "outputs": [],
      "source": [
        "**Ad-hoc conclusion** Dimensionality reduction actually segregates survivability quite a lot"
      ]
    },
    {
      "cell_type": "markdown",
      "metadata": {
        "_cell_guid": "d1cc1e57-9cd0-7fd7-1705-185183c66efa"
      },
      "source": [
        "# Appendix: No age\n",
        "\n",
        "Caveat: obviously rows with no age cannot be excluded as they have different properties. But for a start we will have it out."
      ]
    },
    {
      "cell_type": "code",
      "execution_count": null,
      "metadata": {
        "_cell_guid": "37c08512-52c4-7732-5008-63c6dfcf995f"
      },
      "outputs": [],
      "source": [
        "\n",
        "no_age = old_train_data[old_train_data['Age'].isnull()]"
      ]
    },
    {
      "cell_type": "code",
      "execution_count": null,
      "metadata": {
        "_cell_guid": "a1ee09ca-b39a-472c-5c1f-25d989e9c771"
      },
      "outputs": [],
      "source": [
        "print(no_age.groupby(['Survived']).size())\n",
        "print(train_data.groupby(['Survived']).size())"
      ]
    },
    {
      "cell_type": "code",
      "execution_count": null,
      "metadata": {
        "_cell_guid": "f7e1bbe9-cc0a-dbcb-7a56-d62cd26cd711"
      },
      "outputs": [],
      "source": [
        "print(no_age.groupby(['Pclass']).size())\n",
        "print(train_data.groupby(['Pclass']).size())"
      ]
    },
    {
      "cell_type": "code",
      "execution_count": null,
      "metadata": {
        "_cell_guid": "12ddf91f-99ce-f979-f8b9-6500a187a20b"
      },
      "outputs": [],
      "source": [
        "print(no_age.groupby(['Sex']).size())\n",
        "print(train_data.groupby(['Sex']).size())"
      ]
    }
  ],
  "metadata": {
    "_change_revision": 0,
    "_is_fork": false,
    "kernelspec": {
      "display_name": "Python 3",
      "language": "python",
      "name": "python3"
    },
    "language_info": {
      "codemirror_mode": {
        "name": "ipython",
        "version": 3
      },
      "file_extension": ".py",
      "mimetype": "text/x-python",
      "name": "python",
      "nbconvert_exporter": "python",
      "pygments_lexer": "ipython3",
      "version": "3.5.2"
    }
  },
  "nbformat": 4,
  "nbformat_minor": 0
}