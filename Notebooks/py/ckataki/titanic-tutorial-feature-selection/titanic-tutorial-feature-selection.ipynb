{
  "cells": [
    {
      "cell_type": "markdown",
      "metadata": {
        "_cell_guid": "cd8e2a9f-cd17-088e-d44c-d33b539e647b"
      },
      "source": [
        ""
      ]
    },
    {
      "cell_type": "code",
      "execution_count": null,
      "metadata": {
        "_cell_guid": "5bba1bae-5ee5-970f-c264-f3514b239708"
      },
      "outputs": [],
      "source": [
        "# This Python 3 environment comes with many helpful analytics libraries installed\n",
        "# It is defined by the kaggle/python docker image: https://github.com/kaggle/docker-python\n",
        "# For example, here's several helpful packages to load in \n",
        "\n",
        "import numpy as np # linear algebra\n",
        "import pandas as pd # data processing, CSV file I/O (e.g. pd.read_csv)\n",
        "%matplotlib inline\n",
        "import matplotlib.pyplot as plt\n",
        "import seaborn as sns # data visualization\n",
        "\n",
        "# Input data files are available in the \"../input/\" directory.\n",
        "# For example, running this (by clicking run or pressing Shift+Enter) will list the files in the input directory\n",
        "\n",
        "# Any results you write to the current directory are saved as output.\n",
        "\n",
        "test_data = pd.read_csv(\"../input/test.csv\")\n",
        "train_data = pd.read_csv(\"../input/train.csv\")\n",
        "train_data.rename(columns={'SibSp':'SiblingsSpouses', 'Parch':'ParentsChildren'}, inplace = True)\n",
        "test_data.rename(columns={'SibSp':'SiblingsSpouses', 'Parch':'ParentsChildren'}, inplace = True)\n",
        "test_columns = test_data.columns\n",
        "train_columns = train_data.columns"
      ]
    },
    {
      "cell_type": "markdown",
      "metadata": {
        "_cell_guid": "495c8536-f94b-d2bc-2341-74d644b85ab2"
      },
      "source": [
        ""
      ]
    },
    {
      "cell_type": "code",
      "execution_count": null,
      "metadata": {
        "_cell_guid": "5d96f1e4-126d-1c98-3755-787f6d2121ce"
      },
      "outputs": [],
      "source": [
        "print (\"\\nNaN rows per column in training data\\n\")\n",
        "for col in train_columns:\n",
        "    print (col, \": \", train_data[train_data[col].isnull()].shape[0])\n",
        "    \n",
        "print (\"\\nNaN rows per column in test data\\n\")\n",
        "for col in test_columns:\n",
        "    print (col, \": \", test_data[test_data[col].isnull()].shape[0])"
      ]
    },
    {
      "cell_type": "markdown",
      "metadata": {
        "_cell_guid": "73204a72-caf5-20b0-178a-2f5df8031cd5"
      },
      "source": [
        ""
      ]
    },
    {
      "cell_type": "markdown",
      "metadata": {
        "_cell_guid": "70dadb78-4cd7-31bb-950b-0d86fdc7322d"
      },
      "source": [
        ""
      ]
    },
    {
      "cell_type": "code",
      "execution_count": null,
      "metadata": {
        "_cell_guid": "50986fa9-3af5-6de8-cb9c-a219f8cf221e"
      },
      "outputs": [],
      "source": [
        "temp = train_data[pd.notnull(train_data['Age'])]\n",
        "maletemp = temp[temp['Sex'] == 'male']\n",
        "femaletemp = temp[temp['Sex'] == 'female']\n",
        "youngmisstemp = femaletemp[femaletemp['Name'].str.contains('Miss')]\n",
        "youngmisstemp = youngmisstemp[youngmisstemp['ParentsChildren'] > 0]\n",
        "oldmisstemp = femaletemp[femaletemp['Name'].str.contains('Miss')]\n",
        "oldmisstemp = oldmisstemp[oldmisstemp['ParentsChildren'] == 0]\n",
        "\n",
        "mastermedian = maletemp[maletemp['Name'].str.contains('Master')]['Age'].median()\n",
        "mistermedian = maletemp[maletemp['Name'].str.contains('Mr.')]['Age'].median()\n",
        "mrsmedian = femaletemp[femaletemp['Name'].str.contains('Mrs.')]['Age'].median()\n",
        "youngmissmedian = youngmisstemp['Age'].median()\n",
        "oldmissmedian = oldmisstemp['Age'].median()"
      ]
    },
    {
      "cell_type": "code",
      "execution_count": null,
      "metadata": {
        "_cell_guid": "773ae505-eca3-59da-3b38-23ad20e05552"
      },
      "outputs": [],
      "source": [
        "print(\"MasterMedian\", mastermedian)\n",
        "print(\"MisterMedian\", mistermedian)\n",
        "print(\"MrsMedian\", mrsmedian)\n",
        "print(\"OldMissMedian\", oldmissmedian)\n",
        "print(\"YoungMissMedian\", youngmissmedian)"
      ]
    },
    {
      "cell_type": "markdown",
      "metadata": {
        "_cell_guid": "4964de37-73b1-715c-182e-e0aa7fcbd4a1"
      },
      "source": [
        ""
      ]
    },
    {
      "cell_type": "code",
      "execution_count": null,
      "metadata": {
        "_cell_guid": "ce7f1b32-18a6-82d0-d497-c48e8aec01de"
      },
      "outputs": [],
      "source": [
        "mastermask = (train_data['Name'].str.contains('Master')) & (train_data['Sex'] == 'male') & (np.isnan(train_data['Age']))\n",
        "mrmask = (train_data['Name'].str.contains('Mr.')) & (train_data['Sex'] == 'male') & (np.isnan(train_data['Age']))\n",
        "mrsmask = (train_data['Name'].str.contains('Mrs.')) & (train_data['Sex'] == 'female') & (np.isnan(train_data['Age']))\n",
        "youngmissmask = (train_data['Name'].str.contains('Miss')) & (train_data['Sex'] == 'female') & (train_data['ParentsChildren']>0) & (np.isnan(train_data['Age']))\n",
        "oldmissmask = (train_data['Name'].str.contains('Miss')) & (train_data['Sex'] == 'female') & (train_data['ParentsChildren']==0) & (np.isnan(train_data['Age']))"
      ]
    },
    {
      "cell_type": "code",
      "execution_count": null,
      "metadata": {
        "_cell_guid": "cc42866a-d771-51d4-e348-1ca9179516a3"
      },
      "outputs": [],
      "source": [
        "train_data.loc[mastermask, 'Age'] = 3.5\n",
        "train_data.loc[mrmask, 'Age'] = 30\n",
        "train_data.loc[mrsmask, 'Age'] = 35\n",
        "train_data.loc[youngmissmask, 'Age'] = 9\n",
        "train_data.loc[oldmissmask, 'Age'] = 26"
      ]
    },
    {
      "cell_type": "markdown",
      "metadata": {
        "_cell_guid": "be309ed6-a2dc-f3df-4456-ad07bc13f56e"
      },
      "source": [
        ""
      ]
    },
    {
      "cell_type": "code",
      "execution_count": null,
      "metadata": {
        "_cell_guid": "dbc4acfc-2652-67eb-7998-f297d4a60510"
      },
      "outputs": [],
      "source": [
        "print (train_data[pd.isnull(train_data['Age'])])"
      ]
    },
    {
      "cell_type": "markdown",
      "metadata": {
        "_cell_guid": "473b6d1c-ae10-845b-1f7c-cd48c840c981"
      },
      "source": [
        ""
      ]
    },
    {
      "cell_type": "code",
      "execution_count": null,
      "metadata": {
        "_cell_guid": "9557b510-a1e5-121a-d81a-24d534a2f6ad"
      },
      "outputs": [],
      "source": [
        "train_data.loc[train_data['PassengerId'] == 767, 'Age'] = 30\n",
        "print (train_data[pd.isnull(train_data['Age'])])"
      ]
    },
    {
      "cell_type": "markdown",
      "metadata": {
        "_cell_guid": "6cbb127c-e22c-021c-32b2-2d6414284f05"
      },
      "source": [
        ""
      ]
    },
    {
      "cell_type": "code",
      "execution_count": null,
      "metadata": {
        "_cell_guid": "45ad9691-ffc0-715c-db64-83ac05b84e26"
      },
      "outputs": [],
      "source": [
        "temp = test_data\n",
        "\n",
        "mastermask = (temp['Name'].str.contains('Master')) & (temp['Sex'] == 'male') & (np.isnan(temp['Age']))\n",
        "mrmask = (temp['Name'].str.contains('Mr.')) & (temp['Sex'] == 'male') & (np.isnan(temp['Age']))\n",
        "mrsmask = (temp['Name'].str.contains('Mrs.')) & (temp['Sex'] == 'female') & (np.isnan(temp['Age']))\n",
        "youngmissmask = (temp['Name'].str.contains('Miss')) & (temp['Sex'] == 'female') & (temp['ParentsChildren']>0) & (np.isnan(temp['Age']))\n",
        "oldmissmask = (temp['Name'].str.contains('Miss')) & (temp['Sex'] == 'female') & (temp['ParentsChildren']==0) & (np.isnan(temp['Age']))\n",
        "oldmissmask2 = (temp['Name'].str.contains('Ms.')) & (temp['Sex'] == 'female') & (temp['ParentsChildren']==0) & (np.isnan(temp['Age']))\n",
        "\n",
        "temp.loc[mastermask, 'Age'] = 3.5\n",
        "temp.loc[mrmask, 'Age'] = 30\n",
        "temp.loc[mrsmask, 'Age'] = 35\n",
        "temp.loc[youngmissmask, 'Age'] = 9\n",
        "temp.loc[oldmissmask, 'Age'] = 26\n",
        "temp.loc[oldmissmask2, 'Age'] = 26"
      ]
    },
    {
      "cell_type": "code",
      "execution_count": null,
      "metadata": {
        "_cell_guid": "aca06fef-762f-0f18-a240-29a28ee092d0"
      },
      "outputs": [],
      "source": [
        "print (temp[pd.isnull(temp['Age'])])"
      ]
    },
    {
      "cell_type": "markdown",
      "metadata": {
        "_cell_guid": "049b0062-f1a5-f73e-e268-f5c5315b9256"
      },
      "source": [
        ""
      ]
    },
    {
      "cell_type": "code",
      "execution_count": null,
      "metadata": {
        "_cell_guid": "d53cd065-f911-d198-ef9e-ea72f7ff9fc1"
      },
      "outputs": [],
      "source": [
        "test_data_clean = temp"
      ]
    },
    {
      "cell_type": "markdown",
      "metadata": {
        "_cell_guid": "c4167081-f5a2-1864-bfca-3fb3e983364c"
      },
      "source": [
        ""
      ]
    },
    {
      "cell_type": "code",
      "execution_count": null,
      "metadata": {
        "_cell_guid": "45d33004-d99d-514e-5af8-daebf2c2fede"
      },
      "outputs": [],
      "source": [
        "print (\"Pclass v Survived\")"
      ]
    },
    {
      "cell_type": "code",
      "execution_count": null,
      "metadata": {
        "_cell_guid": "198b11b6-52a6-ea37-dc1a-99bb8955957a"
      },
      "outputs": [],
      "source": [
        "temp = train_data[['Survived','Pclass']]\n",
        "plt.figure()\n",
        "sns.countplot(x='Pclass', hue='Survived', data=temp)\n",
        "plt.figure()\n",
        "sns.barplot(x='Pclass', y='Survived', data=temp)"
      ]
    },
    {
      "cell_type": "code",
      "execution_count": null,
      "metadata": {
        "_cell_guid": "8f6aa523-9879-53ea-098d-2bc15647dfd8"
      },
      "outputs": [],
      "source": [
        "print (\"Sex v Survived\")"
      ]
    },
    {
      "cell_type": "code",
      "execution_count": null,
      "metadata": {
        "_cell_guid": "8bebb9e4-2971-654a-0b92-66c5d3b81284"
      },
      "outputs": [],
      "source": [
        "temp = train_data[['Survived','Sex']]\n",
        "plt.figure()\n",
        "sns.countplot(x='Sex', hue='Survived', data=temp)\n",
        "plt.figure()\n",
        "sns.barplot(x='Sex', y='Survived', data=temp)"
      ]
    },
    {
      "cell_type": "code",
      "execution_count": null,
      "metadata": {
        "_cell_guid": "402634c9-d162-6dbf-1e13-612a2116d26f"
      },
      "outputs": [],
      "source": [
        "print (\"Age v Survived\")"
      ]
    },
    {
      "cell_type": "code",
      "execution_count": null,
      "metadata": {
        "_cell_guid": "48ab1710-1102-47eb-9615-411e72a15e9b"
      },
      "outputs": [],
      "source": [
        "temp = train_data[['Survived','Age']]\n",
        "\n",
        "plt.figure()\n",
        "plt.title('Non survivors')\n",
        "sns.distplot(temp['Age'][(temp['Survived'] == 0)])\n",
        "plt.figure()\n",
        "plt.title('Survivors')\n",
        "sns.distplot(temp['Age'][(temp['Survived'] == 1)])"
      ]
    },
    {
      "cell_type": "markdown",
      "metadata": {
        "_cell_guid": "565b0f70-33dc-18a2-d64f-c32166e73f69"
      },
      "source": [
        ""
      ]
    },
    {
      "cell_type": "code",
      "execution_count": null,
      "metadata": {
        "_cell_guid": "a6834234-0f14-535a-bfd8-f596af579a50"
      },
      "outputs": [],
      "source": [
        "temp = train_data[['Age', 'Survived', 'Sex']]\n",
        "female_temp = temp[temp['Sex'] == 'female']\n",
        "male_temp = temp[temp['Sex'] == 'male']\n",
        "\n",
        "female_temp['AgeBucket'] = female_temp['Age'].apply(lambda x: x//10)\n",
        "plt.figure()\n",
        "plt.title('Females')\n",
        "sns.countplot(x='AgeBucket', hue='Survived', data = female_temp)\n",
        "plt.figure()\n",
        "plt.title('Females')\n",
        "sns.barplot(x='AgeBucket', y='Survived', data = female_temp)\n",
        "\n",
        "male_temp['AgeBucket'] = male_temp['Age'].apply(lambda x: x//10)\n",
        "plt.figure()\n",
        "plt.title('Males')\n",
        "sns.countplot(x='AgeBucket', hue='Survived', data = male_temp)\n",
        "plt.figure()\n",
        "plt.title('Males')\n",
        "sns.barplot(x='AgeBucket', y='Survived', data = male_temp)"
      ]
    },
    {
      "cell_type": "code",
      "execution_count": null,
      "metadata": {
        "_cell_guid": "0366c542-f174-179b-1206-740b7dc66927"
      },
      "outputs": [],
      "source": [
        "print (\"SiblingsSpouses v Survived\")"
      ]
    },
    {
      "cell_type": "markdown",
      "metadata": {
        "_cell_guid": "87066111-a488-9ebd-7507-22497d29f981"
      },
      "source": [
        ""
      ]
    },
    {
      "cell_type": "code",
      "execution_count": null,
      "metadata": {
        "_cell_guid": "f3f3bdea-df23-9f36-1ce7-e22b0336a8e7"
      },
      "outputs": [],
      "source": [
        "temp = train_data[['Survived','SiblingsSpouses']]\n",
        "temp['SiblingsSpouses'] = temp['SiblingsSpouses'].apply(lambda x: 1 if x > 0 else 0)\n",
        "\n",
        "plt.figure()\n",
        "sns.countplot(x='SiblingsSpouses', hue='Survived', data=temp)\n",
        "plt.figure()\n",
        "sns.barplot(x='SiblingsSpouses', y='Survived', data=temp)"
      ]
    },
    {
      "cell_type": "code",
      "execution_count": null,
      "metadata": {
        "_cell_guid": "ae12b9ee-349f-1cf9-9198-65f64d93f73c"
      },
      "outputs": [],
      "source": [
        "print (\"ParentsChildren v Survived\")"
      ]
    },
    {
      "cell_type": "markdown",
      "metadata": {
        "_cell_guid": "b1e324c3-da23-9bcc-701b-735b744cf832"
      },
      "source": [
        ""
      ]
    },
    {
      "cell_type": "code",
      "execution_count": null,
      "metadata": {
        "_cell_guid": "7d010fb2-210c-bf35-1970-55f34dbfc47f"
      },
      "outputs": [],
      "source": [
        "temp = train_data[['Survived','ParentsChildren']]\n",
        "temp['ParentsChildren'] = temp['ParentsChildren'].apply(lambda x: 1 if x > 0 else 0)\n",
        "\n",
        "plt.figure()\n",
        "sns.countplot(x='ParentsChildren', hue='Survived', data=temp)\n",
        "plt.figure()\n",
        "sns.barplot(x='ParentsChildren', y='Survived', data=temp)"
      ]
    },
    {
      "cell_type": "code",
      "execution_count": null,
      "metadata": {
        "_cell_guid": "b8c5eec1-8550-b86e-c336-c429917c8271"
      },
      "outputs": [],
      "source": [
        "print (\"Embarked v Survived\")"
      ]
    },
    {
      "cell_type": "code",
      "execution_count": null,
      "metadata": {
        "_cell_guid": "a46a44da-a194-0713-3987-8d1357cbe4dc"
      },
      "outputs": [],
      "source": [
        "temp = train_data[['Survived','Embarked']]\n",
        "\n",
        "plt.figure()\n",
        "sns.countplot(x='Embarked', hue='Survived', data=temp)\n",
        "plt.figure()\n",
        "sns.barplot(x='Embarked', y='Survived', data=temp)"
      ]
    },
    {
      "cell_type": "markdown",
      "metadata": {
        "_cell_guid": "b64c0765-09ee-5a82-03e8-21a8bf42bce1"
      },
      "source": [
        ""
      ]
    },
    {
      "cell_type": "code",
      "execution_count": null,
      "metadata": {
        "_cell_guid": "ae42240b-a196-edf8-7ecd-2a052783f1a6"
      },
      "outputs": [],
      "source": [
        "temp = train_data[['Embarked', 'Sex', 'Survived']]\n",
        "plt.figure()\n",
        "sns.countplot(x='Embarked', hue = 'Sex', data=temp)"
      ]
    },
    {
      "cell_type": "markdown",
      "metadata": {
        "_cell_guid": "9eab0797-d4ed-5c12-3c44-36a15c8d4bf7"
      },
      "source": [
        ""
      ]
    },
    {
      "cell_type": "markdown",
      "metadata": {
        "_cell_guid": "0cd7bcdd-33c3-52f6-43df-487fb1c6aefc"
      },
      "source": [
        ""
      ]
    },
    {
      "cell_type": "code",
      "execution_count": null,
      "metadata": {
        "_cell_guid": "0a2a5bc9-2b2a-b268-357e-452dd0e3f75e"
      },
      "outputs": [],
      "source": [
        "temp = train_data[~(train_data['Name'].str.contains('Mr.') | train_data['Name'].str.contains('Master') | \\\n",
        "                  train_data['Name'].str.contains('Mrs.') | train_data['Name'].str.contains('Miss') | \\\n",
        "                  train_data['Name'].str.contains('Ms.'))]\n",
        "print (temp['Name'])"
      ]
    },
    {
      "cell_type": "markdown",
      "metadata": {
        "_cell_guid": "7e937e2c-1aac-35f2-df9e-d587bbdc72c8"
      },
      "source": [
        ""
      ]
    },
    {
      "cell_type": "code",
      "execution_count": null,
      "metadata": {
        "_cell_guid": "b5fb9063-3548-465c-6159-64e790c7f75f"
      },
      "outputs": [],
      "source": [
        "print (temp[temp['Survived'] == 1])"
      ]
    },
    {
      "cell_type": "markdown",
      "metadata": {
        "_cell_guid": "c9967d08-4fc8-fdba-a4c5-c290bea3efc9"
      },
      "source": [
        ""
      ]
    },
    {
      "cell_type": "markdown",
      "metadata": {
        "_cell_guid": "7c787aa5-825a-d917-aba0-a1d607536fa5"
      },
      "source": [
        ""
      ]
    },
    {
      "cell_type": "code",
      "execution_count": null,
      "metadata": {
        "_cell_guid": "732addbe-8f2d-7611-334a-9238ad4b0815"
      },
      "outputs": [],
      "source": [
        "train_data_features = pd.concat([train_data['Age'], train_data['Sex'], train_data['Pclass'], \\\n",
        "                                 train_data['SiblingsSpouses'], train_data['ParentsChildren'], \\\n",
        "                                train_data['Name']], axis=1)\n",
        "     \n",
        "train_data_features['SiblingsSpouses'] = train_data_features['SiblingsSpouses'].apply(lambda x: 1 if x > 0 else 0)\n",
        "train_data_features['ParentsChildren'] = train_data_features['ParentsChildren'].apply(lambda x: 1 if x > 0 else 0)\n",
        "train_data_features['Sex'] = train_data_features['Sex'].apply(lambda x: 1 if x =='female' else 0)\n",
        "\n",
        "train_data_features['Name'] = train_data_features['Name'].apply(lambda x: 0 if ('Mr.' in x or 'Master' in x or 'Mrs.' in x \\\n",
        "                                                                               or 'Miss' in x or 'Ms.' in x) else 1)"
      ]
    },
    {
      "cell_type": "markdown",
      "metadata": {
        "_cell_guid": "fa1349f1-0d76-7835-334a-3c82607705c9"
      },
      "source": [
        ""
      ]
    },
    {
      "cell_type": "code",
      "execution_count": null,
      "metadata": {
        "_cell_guid": "e677c3d2-bbef-bd4c-3fa5-0ac4421cd362"
      },
      "outputs": [],
      "source": [
        "from sklearn import tree\n",
        "basic_model = tree.DecisionTreeClassifier()"
      ]
    },
    {
      "cell_type": "markdown",
      "metadata": {
        "_cell_guid": "18937e83-3743-37b1-6456-1b19a5ef5d1a"
      },
      "source": [
        ""
      ]
    },
    {
      "cell_type": "code",
      "execution_count": null,
      "metadata": {
        "_cell_guid": "ada67195-217d-3666-c069-003e68869ac7"
      },
      "outputs": [],
      "source": [
        "y_true = train_data['Survived']\n",
        "from sklearn.model_selection import KFold\n",
        "splits = 10\n",
        "kf = KFold(n_splits = splits, shuffle = True)\n",
        "accuracy = 0\n",
        "for train_fold, cv_fold in kf.split(train_data_features):\n",
        "    basic_model.fit(train_data_features.loc[train_fold], train_data.loc[train_fold,'Survived'])\n",
        "    y_true = train_data.loc[cv_fold, 'Survived']\n",
        "    accuracy = accuracy + basic_model.score(train_data_features.loc[cv_fold], y_true)\n",
        "\n",
        "accuracy = accuracy/splits\n",
        "\n",
        "print (\"Basic Decision Tree accuracy: \", accuracy)"
      ]
    },
    {
      "cell_type": "markdown",
      "metadata": {
        "_cell_guid": "01013ee0-afdb-1c6a-7f49-b8d41019542f"
      },
      "source": [
        "Accuracy is around 80%; not bad. Now let's try a more complex model"
      ]
    },
    {
      "cell_type": "code",
      "execution_count": null,
      "metadata": {
        "_cell_guid": "e33481f4-aae0-9ab3-ca37-7bc700bb44ad"
      },
      "outputs": [],
      "source": [
        "from sklearn import ensemble\n",
        "adaboostclassifier = ensemble.AdaBoostClassifier()"
      ]
    },
    {
      "cell_type": "code",
      "execution_count": null,
      "metadata": {
        "_cell_guid": "fec36097-9976-4ac8-1812-7eff93d06c30"
      },
      "outputs": [],
      "source": [
        "splits = 10\n",
        "kf = KFold(n_splits = splits, shuffle = True)\n",
        "accuracy = 0\n",
        "for train_fold, cv_fold in kf.split(train_data_features):    \n",
        "    adaboostclassifier.fit(train_data_features.loc[train_fold], train_data.loc[train_fold,'Survived'])\n",
        "    y_true = train_data.loc[cv_fold, 'Survived']\n",
        "    accuracy = accuracy + adaboostclassifier.score(train_data_features.loc[cv_fold], y_true)\n",
        "    \n",
        "accuracy = accuracy/10\n",
        "print (\"Adaboost Decision tree accuracy: \", accuracy)"
      ]
    },
    {
      "cell_type": "markdown",
      "metadata": {
        "_cell_guid": "873d1e72-533e-eded-9241-ffa74d647ac8"
      },
      "source": [
        "Accuracy is around 80.5%; marginally better. Let's try another model."
      ]
    },
    {
      "cell_type": "code",
      "execution_count": null,
      "metadata": {
        "_cell_guid": "a73ae00d-0b19-e51c-8994-ed6340d0f949"
      },
      "outputs": [],
      "source": [
        "splits = 10\n",
        "kf = KFold(n_splits = splits, shuffle = True)\n",
        "randomforestclassifier = ensemble.RandomForestClassifier()\n",
        "accuracy = 0\n",
        "for train_fold, cv_fold in kf.split(train_data_features): \n",
        "    randomforestclassifier.fit(train_data_features.loc[train_fold], train_data.loc[train_fold,'Survived'])\n",
        "    y_true = train_data.loc[cv_fold, 'Survived']\n",
        "    accuracy = accuracy + randomforestclassifier.score(train_data_features.loc[cv_fold], y_true)\n",
        "    \n",
        "accuracy = accuracy/10\n",
        "print (\"Random Forests accuracy: \", accuracy)"
      ]
    },
    {
      "cell_type": "markdown",
      "metadata": {
        "_cell_guid": "040ac3a8-a3d2-ffc6-ff29-3917981fa9e5"
      },
      "source": [
        "Accuracy is again around 80%. At this point, we can probably pick either of the three. Let's try to now work with Adaboost and vary it's parameters."
      ]
    },
    {
      "cell_type": "code",
      "execution_count": null,
      "metadata": {
        "_cell_guid": "6e9648eb-2850-30f0-861b-e10f884ef200"
      },
      "outputs": [],
      "source": [
        "splits = 10\n",
        "kf = KFold(n_splits = 10, shuffle = True)\n",
        "accuracy = 0\n",
        "max_accuracy = 0\n",
        "best_estimators = 0\n",
        "total_estimators = [10,20,30,40,50,60,70,80,90,100]\n",
        "for estimators in total_estimators:\n",
        "    adaboostclassifier = ensemble.AdaBoostClassifier(n_estimators=estimators)\n",
        "    for train_fold, cv_fold in kf.split(train_data_features):    \n",
        "        adaboostclassifier.fit(train_data_features.loc[train_fold], train_data.loc[train_fold,'Survived'])\n",
        "        y_true = train_data.loc[cv_fold, 'Survived']\n",
        "        accuracy = accuracy + adaboostclassifier.score(train_data_features.loc[cv_fold], y_true)    \n",
        "    accuracy = accuracy/10\n",
        "    if (accuracy > max_accuracy):\n",
        "        max_accuracy = accuracy\n",
        "        best_estimators = estimators"
      ]
    },
    {
      "cell_type": "code",
      "execution_count": null,
      "metadata": {
        "_cell_guid": "fff2f2f4-a764-563b-c1e0-13dc582e057c"
      },
      "outputs": [],
      "source": [
        "print (\"Adaboost Decision tree max accuracy: \", max_accuracy, \"at\", best_estimators, \"estimators.\")"
      ]
    },
    {
      "cell_type": "markdown",
      "metadata": {
        "_cell_guid": "144ff04a-72c9-cbb9-9a03-75602a3b9c26"
      },
      "source": [
        "This is good; around 90% accuracy. For multiple runs, I got around 90% accuracy, for anywhere between 60 to 100 estimators."
      ]
    },
    {
      "cell_type": "markdown",
      "metadata": {
        "_cell_guid": "218bc751-cf3a-7b25-77ad-2dd3f4812ff8"
      },
      "source": [
        "Let's try something similar with our simpler model"
      ]
    },
    {
      "cell_type": "code",
      "execution_count": null,
      "metadata": {
        "_cell_guid": "45585934-2d7c-6647-38c5-346a7e6e6d2e"
      },
      "outputs": [],
      "source": [
        "splits = 10\n",
        "kf = KFold(n_splits = 10, shuffle = True)\n",
        "accuracy = 0\n",
        "max_accuracy = 0\n",
        "best_depth = 0\n",
        "depthrange = range(1, train_data_features.shape[1])\n",
        "for depth in depthrange:\n",
        "    basic_model = tree.DecisionTreeClassifier(max_depth = depth)\n",
        "    for train_fold, cv_fold in kf.split(train_data_features):    \n",
        "        basic_model.fit(train_data_features.loc[train_fold], train_data.loc[train_fold,'Survived'])\n",
        "        y_true = train_data.loc[cv_fold, 'Survived']\n",
        "        accuracy = accuracy + basic_model.score(train_data_features.loc[cv_fold], y_true)    \n",
        "    accuracy = accuracy/10\n",
        "    if (accuracy > max_accuracy):\n",
        "        max_accuracy = accuracy\n",
        "        best_depth = depth\n",
        "    \n",
        "print (\"Basic Decision tree accuracy: \", max_accuracy, \"at\", best_depth, \"depth.\")"
      ]
    },
    {
      "cell_type": "markdown",
      "metadata": {
        "_cell_guid": "493cbc84-ae16-f4f5-a5bb-b2f3d250325a"
      },
      "source": [
        "Seeing as both models give the same accuracy, we will go with the simpler model, with depth 5."
      ]
    },
    {
      "cell_type": "code",
      "execution_count": null,
      "metadata": {
        "_cell_guid": "5933dfbe-36d0-5b56-fc98-4eff48999051"
      },
      "outputs": [],
      "source": [
        "test_data_clean_features = pd.concat([test_data_clean['Age'], test_data_clean['Sex'], test_data_clean['Pclass'], \\\n",
        "                                 test_data_clean['SiblingsSpouses'], test_data_clean['ParentsChildren'], \\\n",
        "                                test_data_clean['Name']], axis=1)\n",
        "PID = test_data_clean['PassengerId']\n",
        "\n",
        "test_data_clean_features['SiblingsSpouses'] = test_data_clean_features['SiblingsSpouses'].apply(lambda x: 1 if x > 0 else 0)\n",
        "test_data_clean_features['ParentsChildren'] = test_data_clean_features['ParentsChildren'].apply(lambda x: 1 if x > 0 else 0)\n",
        "test_data_clean_features['Sex'] = test_data_clean_features['Sex'].apply(lambda x: 1 if x =='female' else 0)\n",
        "\n",
        "test_data_clean_features['Name'] = test_data_clean_features['Name'].apply(lambda x: 0 if ('Mr.' in x or 'Master' in x \\\n",
        "                                                                                          or 'Mrs.' in x or 'Miss' in x \\\n",
        "                                                                                          or 'Ms.' in x) else 1)"
      ]
    },
    {
      "cell_type": "code",
      "execution_count": null,
      "metadata": {
        "_cell_guid": "0c980d02-a7af-49d7-5936-eba2d9e16c43"
      },
      "outputs": [],
      "source": [
        "basic_model = tree.DecisionTreeClassifier(max_depth = 5)\n",
        "basic_model.fit(train_data_features, train_data['Survived'])\n",
        "test_predictions = basic_model.predict(test_data_clean_features)\n",
        "submission = pd.DataFrame({\"PassengerId\" : PID, \"Survived\" : test_predictions})"
      ]
    },
    {
      "cell_type": "code",
      "execution_count": null,
      "metadata": {
        "_cell_guid": "78aedfcd-2d5a-bd18-fd5e-89186b0e0eff"
      },
      "outputs": [],
      "source": [
        "submission.to_csv(\"submission.csv\", index=False)"
      ]
    }
  ],
  "metadata": {
    "_change_revision": 0,
    "_is_fork": false,
    "kernelspec": {
      "display_name": "Python 3",
      "language": "python",
      "name": "python3"
    },
    "language_info": {
      "codemirror_mode": {
        "name": "ipython",
        "version": 3
      },
      "file_extension": ".py",
      "mimetype": "text/x-python",
      "name": "python",
      "nbconvert_exporter": "python",
      "pygments_lexer": "ipython3",
      "version": "3.6.0"
    }
  },
  "nbformat": 4,
  "nbformat_minor": 0
}