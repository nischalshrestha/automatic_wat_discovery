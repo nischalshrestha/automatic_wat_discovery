{
  "cells": [
    {
      "cell_type": "code",
      "execution_count": null,
      "metadata": {
        "_cell_guid": "a073dd79-5197-b50a-a0a1-41f352fd4bef"
      },
      "outputs": [],
      "source": [
        ""
      ]
    },
    {
      "cell_type": "code",
      "execution_count": null,
      "metadata": {
        "_cell_guid": "60a9f86c-3966-b593-db50-3117a967407a"
      },
      "outputs": [],
      "source": [
        "# This Python 3 environment comes with many helpful analytics libraries installed\n",
        "# It is defined by the kaggle/python docker image: https://github.com/kaggle/docker-python\n",
        "# For example, here's several helpful packages to load in \n",
        "\n",
        "import numpy as np # linear algebra\n",
        "import pandas as pd # data processing, CSV file I/O (e.g. pd.read_csv)\n",
        "\n",
        "# Input data files are available in the \"../input/\" directory.\n",
        "# For example, running this (by clicking run or pressing Shift+Enter) will list the files in the input directory\n",
        "\n",
        "from subprocess import check_output\n",
        "print(check_output([\"ls\", \"../input\"]).decode(\"utf8\"))\n",
        "\n",
        "# Any results you write to the current directory are saved as output."
      ]
    },
    {
      "cell_type": "code",
      "execution_count": null,
      "metadata": {
        "_cell_guid": "6a8f6ab7-616e-cd98-7078-728d76927f61"
      },
      "outputs": [],
      "source": [
        "dataset=pd.read_csv('../input/train.csv')\n",
        "testset=pd.read_csv('../input/test.csv')\n",
        "label=dataset.iloc[0:890,1]\n",
        "data=dataset.iloc[0:890,[2,4,5]]\n",
        "testdat=testset.iloc[0:418,[1,3,4]]\n",
        "x=[data,testdat]\n",
        "\n",
        "for change in x:\n",
        "    change['Sex']=change['Sex'].map({'female':0,'male':1}).astype(int)\n",
        "    \n",
        "\n",
        "data=(data.fillna(0)) #filling NA values\n",
        "testdat=testdat.fillna(0)\n",
        "print(testdat)\n"
      ]
    },
    {
      "cell_type": "code",
      "execution_count": null,
      "metadata": {
        "_cell_guid": "735702af-c353-40b4-b86d-c208082208cb"
      },
      "outputs": [],
      "source": [
        ""
      ]
    },
    {
      "cell_type": "code",
      "execution_count": null,
      "metadata": {
        "_cell_guid": "ca512835-f047-0dcf-3e77-ae039d50d118"
      },
      "outputs": [],
      "source": [
        "from sklearn.model_selection import train_test_split\n",
        "\n",
        "train_data,test_data,train_labels,test_labels=train_test_split(data,label,random_state=7,train_size=0.7)\n"
      ]
    },
    {
      "cell_type": "code",
      "execution_count": null,
      "metadata": {
        "_cell_guid": "4b06c6e4-bfd0-416e-b74a-c58e54e54928"
      },
      "outputs": [],
      "source": [
        ""
      ]
    },
    {
      "cell_type": "code",
      "execution_count": null,
      "metadata": {
        "_cell_guid": "e5896690-efca-352d-fab5-50e6e41849fb"
      },
      "outputs": [],
      "source": [
        "from sklearn.neighbors import KNeighborsClassifier\n",
        "clf=KNeighborsClassifier()\n",
        "clf.fit(data,label)"
      ]
    },
    {
      "cell_type": "code",
      "execution_count": null,
      "metadata": {
        "_cell_guid": "d9c70c58-d409-372b-afb2-6f9bc486c06d"
      },
      "outputs": [],
      "source": [
        "predictions=clf.predict(test_data)"
      ]
    },
    {
      "cell_type": "code",
      "execution_count": null,
      "metadata": {
        "_cell_guid": "fdf3c472-5207-32cc-1e50-3681056aa3a5"
      },
      "outputs": [],
      "source": [
        "from sklearn.metrics import accuracy_score\n",
        "print(accuracy_score(test_labels,predictions))"
      ]
    },
    {
      "cell_type": "code",
      "execution_count": null,
      "metadata": {
        "_cell_guid": "58afa24c-c277-9764-f235-b110b512ea0d"
      },
      "outputs": [],
      "source": [
        "result=clf.predict(testdat)"
      ]
    },
    {
      "cell_type": "code",
      "execution_count": null,
      "metadata": {
        "_cell_guid": "5cd9c1a3-f817-bbde-96c4-350cf77b0206"
      },
      "outputs": [],
      "source": [
        "print(result)"
      ]
    },
    {
      "cell_type": "code",
      "execution_count": null,
      "metadata": {
        "_cell_guid": "6ecacbd2-b4ad-0b4a-b744-5f415047509a"
      },
      "outputs": [],
      "source": [
        "index=[testset['PassengerId']]\n",
        "df=pd.DataFrame(data=result,index=testset['PassengerId'],columns=['Survived'])\n",
        "df.to_csv('gender_submission.csv',header=True)\n",
        "print('gender_submission.csv')"
      ]
    }
  ],
  "metadata": {
    "_change_revision": 0,
    "_is_fork": false,
    "kernelspec": {
      "display_name": "Python 3",
      "language": "python",
      "name": "python3"
    },
    "language_info": {
      "codemirror_mode": {
        "name": "ipython",
        "version": 3
      },
      "file_extension": ".py",
      "mimetype": "text/x-python",
      "name": "python",
      "nbconvert_exporter": "python",
      "pygments_lexer": "ipython3",
      "version": "3.6.0"
    }
  },
  "nbformat": 4,
  "nbformat_minor": 0
}