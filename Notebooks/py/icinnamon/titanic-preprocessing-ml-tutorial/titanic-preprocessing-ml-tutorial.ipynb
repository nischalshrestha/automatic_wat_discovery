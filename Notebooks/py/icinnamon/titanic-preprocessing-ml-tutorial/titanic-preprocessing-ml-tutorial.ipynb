{
  "cells": [
    {
      "cell_type": "markdown",
      "metadata": {
        "_cell_guid": "22713d03-27dd-8c27-543c-c3434d900417"
      },
      "source": [
        "Introduction\n",
        "------------\n",
        "\n",
        "This Kaggle Notebook is meant to serve as an introduction to those on Kaggle for the first time. We walk through reading in data, manipulating the data, running multiple ML algorithms, and writing to a file.\n",
        "We look at a combination of different methods of analyzing the Titanic Survivor data using Machine Learning.\n",
        "\n",
        "Data Cleaning techniques:\n",
        "\n",
        " - Simple (eliminate inconvenient features)\n",
        "\n",
        " - Complex (create new features)\n",
        "\n",
        "Machine Learning algorithms:\n",
        "\n",
        " - Random Forest Classifier\n",
        "\n",
        " - Gradient Boosting Classifier\n",
        "\n",
        "We apply our algorithms to both data cleaning techniques, leading to four different possible outputs."
      ]
    },
    {
      "cell_type": "markdown",
      "metadata": {
        "_cell_guid": "df3afca0-6683-39aa-38db-eb128574ca6b"
      },
      "source": [
        "##Imports##\n",
        "\n",
        "\n",
        "First, we import the tools we will need:\n",
        "\n",
        " - CSV: writing comma separated value files at the end (output)\n",
        " - Numpy: data manipulation\n",
        " - Pandas: data storage & manipulation\n",
        " - SKLearn: Machine Learning framework\n",
        " - Subprocess: see what files we will be working with"
      ]
    },
    {
      "cell_type": "code",
      "execution_count": null,
      "metadata": {
        "_cell_guid": "6858eae4-965a-ee52-a93b-9e28e9c16aae"
      },
      "outputs": [],
      "source": [
        "import csv as csv\n",
        "import numpy as np\n",
        "import pandas as pd\n",
        "from sklearn.ensemble import RandomForestClassifier\n",
        "from sklearn.ensemble import GradientBoostingClassifier\n",
        "from sklearn.metrics import accuracy_score\n",
        "\n",
        "from subprocess import check_output\n",
        "print(check_output([\"ls\", \"../input\"]).decode(\"utf8\"))"
      ]
    },
    {
      "cell_type": "markdown",
      "metadata": {
        "_cell_guid": "4b007d6b-aad6-4f99-4657-cd0e2aee4068"
      },
      "source": [
        "##Simple Data Cleaning##\n",
        "Our goal with this function is to turn gender into numeric variables and eliminate all other features that aren't already simple.\n",
        "\n",
        "First, we use Pandas to read in the CSV file. The data turns into a DataFrame.\n",
        "\n",
        "Next, we create a new feature called 'Gender'. We assign 'Gender' to always be 3 as a placeholder. Now, we go ahead and correctly fill in Gender. We use Panda's built-in mapping function to turn \"male\" or \"female\" into 1 or 0, respectively.\n",
        "\n",
        "Finally, we drop everything that isn't simple, remove anything that's null, and return our DataFrame."
      ]
    },
    {
      "cell_type": "code",
      "execution_count": null,
      "metadata": {
        "_cell_guid": "66a0bc4a-7cd2-9db0-c587-b391715c536e"
      },
      "outputs": [],
      "source": [
        "def clean_data_simple(file_url):\n",
        "    df = pd.read_csv(file_url,header=0)\n",
        "    \n",
        "    df['Gender'] = 3\n",
        "    df['Gender'] = df['Sex'].map({'female':0,'male':1}).astype(int)\n",
        "    \n",
        "    df.loc[(df.Age.isnull()),'Age'] = 0\n",
        "    \n",
        "    df = df.drop(['Name','Sex','Ticket','Fare','Cabin','Embarked'],axis=1)\n",
        "    \n",
        "    return df"
      ]
    },
    {
      "cell_type": "markdown",
      "metadata": {
        "_cell_guid": "21c71068-fea9-9d88-3367-9e1274abe6ff"
      },
      "source": [
        "##Complex Data Cleaning##\n",
        "\n",
        "Our goal with this function is to create a more robust set of features. We still turn gender into numeric variables but also create new features, such as the total party size, the place of embarkment, and the adjusted fare.\n",
        "\n",
        "First, we use Pandas to read in the CSV file. The data turns into a DataFrame.\n",
        "\n",
        "Next, we create a new feature called 'Gender'. We assign 'Gender' to always be 3 as a placeholder. Now, we go ahead and correctly fill in Gender. We use Panda's built-in mapping function to turn \"male\" or \"female\" into 1 or 0, respectively.\n",
        "\n",
        "We follow the same procedure as 'Gender' to create 'EmbarkCode'. Remember, with the frameworks we are using, all features should be a numeric digit. We convert the location of embarkment to either 0, 1, or 2.\n",
        "\n",
        "Instead of using separate features ('SibSp': Siblings+Spouses & 'Parch': Parents+Children), we combine these two features into 'TotalParty' to find the size of the total group.\n",
        "\n",
        "Fare is currently a large number that tends to range between 0 and 40. To not give this feature too much weight, we divide all fares by 10 (FareAdjusted). This idea may or may not work... tuning is the core of Machine Learning, so give it (and other ideas!) a try.\n",
        "\n",
        "Finally, we drop everything that isn't simple, remove anything that's null, and return our DataFrame."
      ]
    },
    {
      "cell_type": "code",
      "execution_count": null,
      "metadata": {
        "_cell_guid": "f6ac2d12-7328-e38f-721a-f333ddb03d7e"
      },
      "outputs": [],
      "source": [
        " def clean_data_complex(file_url):\n",
        "    df = pd.read_csv(file_url,header=0)\n",
        "\n",
        "    df = df.drop(['Name','Ticket','Cabin'],axis=1)\n",
        "    \n",
        "    df['Gender'] = 3\n",
        "    df['Gender'] = df['Sex'].map({'female':0,'male':1}).astype(int)\n",
        "    df = df.drop(['Sex'],axis=1)\n",
        "    \n",
        "    df['EmbarkCode'] = 3\n",
        "    df['EmbarkCode'] = df['Embarked'].map({'S':0,'C':1,'Q':2})\n",
        "    df = df.drop(['Embarked'],axis=1)\n",
        "    \n",
        "    df['TotalParty'] = df['SibSp'] + df['Parch']\n",
        "    df = df.drop(['SibSp','Parch'],axis=1)\n",
        "    \n",
        "    df['FareAdjusted'] = df['Fare'] / 10.0\n",
        "    df = df.drop(['Fare'],axis=1)\n",
        "    \n",
        "    df.loc[(df.Age.isnull()),'Age'] = 0\n",
        "    df.loc[(df.EmbarkCode.isnull()),'EmbarkCode'] = 3\n",
        "    df.loc[(df.FareAdjusted.isnull()),'FareAdjusted'] = 1\n",
        "    \n",
        "    return df"
      ]
    },
    {
      "cell_type": "markdown",
      "metadata": {
        "_cell_guid": "193920a9-73c7-af28-44cf-a203eb02d772"
      },
      "source": [
        "##Clean Training Data##\n",
        "\n",
        "Now let's run our cleaning functions on out training input data. We will receive two DataFrames, one for the simple cleaning and one for the complex algorithm.\n",
        "\n",
        "To verify everything is working, we'll print the head of the DataFrames."
      ]
    },
    {
      "cell_type": "code",
      "execution_count": null,
      "metadata": {
        "_cell_guid": "f98d73f5-8879-f439-fdd8-540198ffa962"
      },
      "outputs": [],
      "source": [
        "train_dataframe = clean_data_simple('../input/train.csv')\n",
        "print(train_dataframe.head())\n",
        "\n",
        "train_dataframe_complex = clean_data_complex('../input/train.csv')\n",
        "print(train_dataframe_complex.head())"
      ]
    },
    {
      "cell_type": "markdown",
      "metadata": {
        "_cell_guid": "915c69d3-39c3-faa2-661c-2bd3bfb6f5b4"
      },
      "source": [
        "##Clean Test Data##\n",
        "\n",
        "Now let's run our cleaning functions on out test input data. We will receive two DataFrames, one for the simple cleaning and one for the complex algorithm.\n",
        "\n",
        "To verify everything is working, we'll print the head of the DataFrames.\n",
        "Keep in mind, this data does not have the `Survived` feature, as it is test data."
      ]
    },
    {
      "cell_type": "code",
      "execution_count": null,
      "metadata": {
        "_cell_guid": "44f3f757-e8cc-36fa-61f1-454450f6f128"
      },
      "outputs": [],
      "source": [
        "test_dataframe = clean_data_simple('../input/test.csv')\n",
        "print(test_dataframe.head())\n",
        "\n",
        "test_dataframe_complex = clean_data_complex('../input/test.csv')\n",
        "print(test_dataframe_complex.head())"
      ]
    },
    {
      "cell_type": "markdown",
      "metadata": {
        "_cell_guid": "ab93b061-7a75-7211-e09e-b88b96c135de"
      },
      "source": [
        "##DataFrame -> Numpy##\n",
        "\n",
        "Unfortunately, SciKit Learn doesn't play nice with DataFrames. We need to convert our DataFrames to Numpy arrays. Luckily, it's a quick one-liner."
      ]
    },
    {
      "cell_type": "code",
      "execution_count": null,
      "metadata": {
        "_cell_guid": "0a96caac-c20c-c124-5f88-822e0b7ce530"
      },
      "outputs": [],
      "source": [
        "train_data = train_dataframe.values\n",
        "test_data = test_dataframe.values\n",
        "\n",
        "train_data_complex = train_dataframe_complex.values\n",
        "test_data_complex = test_dataframe_complex.values"
      ]
    },
    {
      "cell_type": "markdown",
      "metadata": {
        "_cell_guid": "4772fe89-d7d5-3ad2-ffaa-142a85036f2b"
      },
      "source": [
        "##Random Forest Classifier##\n",
        "\n",
        "Time to get (machine) learning! We repeat these steps twice... once with the simple data cleaning, once with the complex. We save our outputs as separate variables.\n",
        "\n",
        "When we fit our data, we need to be careful what data we are selecting.\n",
        "\n",
        "    train_data[0::,2::]\n",
        "\n",
        "This code takes all rows and columns starting at column 3 onward (remember, 0 is the first row/column). We capture all the data we need but avoid PassengerId and Survived-status.\n",
        "\n",
        "\n",
        "    train_data[0::,1]\n",
        "\n",
        "This code takes all rows and only the Survived column."
      ]
    },
    {
      "cell_type": "code",
      "execution_count": null,
      "metadata": {
        "_cell_guid": "990ccaef-2298-4dd2-5912-053f35f7f0e8"
      },
      "outputs": [],
      "source": [
        "forest = RandomForestClassifier(n_estimators = 100)\n",
        "forest = forest.fit(train_data[0::,2::],train_data[0::,1])\n",
        "forest_output = forest.predict(test_data[0::,1::])\n",
        "\n",
        "forest_complex = RandomForestClassifier(n_estimators = 100)\n",
        "forest_complex = forest_complex.fit(train_data_complex[0::,2::],train_data_complex[0::,1])\n",
        "forest_complex_output = forest_complex.predict(test_data_complex[0::,1::])"
      ]
    },
    {
      "cell_type": "markdown",
      "metadata": {
        "_cell_guid": "1749be83-abcf-3077-fae7-408dae2b3642"
      },
      "source": [
        "##Gradient Boosting Classifier##\n",
        "\n",
        "Time to get (machine) learning! We repeat these steps twice... once with the simple data cleaning, once with the complex. We save our outputs as separate variables.\n",
        "When we fit our data, we need to be careful what data we are selecting.\n",
        "\n",
        "    train_data[0::,2::]\n",
        "\n",
        "This code takes all rows and columns starting at column 3 onward (remember, 0 is the first row/column). We capture all the data we need but avoid PassengerId and Survived-status.\n",
        "\n",
        "    train_data[0::,1]\n",
        "\n",
        "This code takes all rows and only the Survived column.\n",
        "\n",
        "*We have commented out the code below because it takes too long to learn. We'll discuss alternatives in future updates.*"
      ]
    },
    {
      "cell_type": "code",
      "execution_count": null,
      "metadata": {
        "_cell_guid": "d5bd60dd-e722-a1f3-dd87-d3f1397c6191"
      },
      "outputs": [],
      "source": [
        "#clf = GradientBoostingClassifier(n_estimators=100, learning_rate=1.0, max_depth=1, random_state=0).fit(train_data[0::,2::], train_data[0::,1])\n",
        "#gradient_output = clf.predict(test_data[0::,1::])  \n",
        "\n",
        "#clf_complex = GradientBoostingClassifier(n_estimators=100, learning_rate=1.0, max_depth=1, random_state=0).fit(train_data_complex[0::,2::], train_data_complex[0::,1])\n",
        "#gradient_complex_output = clf.predict(test_data_complex[0::,1::])"
      ]
    },
    {
      "cell_type": "markdown",
      "metadata": {
        "_cell_guid": "4568daea-b8b6-0f31-eed4-5bd4978b9214"
      },
      "source": [
        "##Data Output##\n",
        "\n",
        "Here, we save our outputs to separate files. Later, we may update this notebook to discuss comparing data outputs and seeing if our intuition can help point out which algorithm combination worked best."
      ]
    },
    {
      "cell_type": "code",
      "execution_count": null,
      "metadata": {
        "_cell_guid": "23dad9fa-561d-5c5c-af90-143075daf25b"
      },
      "outputs": [],
      "source": [
        "output = forest_output\n",
        "predictions_file = open(\"forest_output.csv\", \"w\")\n",
        "open_file_object = csv.writer(predictions_file)\n",
        "ids = test_dataframe['PassengerId'].values\n",
        "open_file_object.writerow([\"PassengerId\", \"Survived\"])\n",
        "open_file_object.writerows(zip(ids, output))\n",
        "predictions_file.close()\n",
        "print('Saved \"forest_output\" to file.')\n",
        "\n",
        "output = forest_complex_output\n",
        "predictions_file = open(\"forest_complex_output.csv\", \"w\")\n",
        "open_file_object = csv.writer(predictions_file)\n",
        "ids = test_dataframe['PassengerId'].values\n",
        "open_file_object.writerow([\"PassengerId\", \"Survived\"])\n",
        "open_file_object.writerows(zip(ids, output))\n",
        "predictions_file.close()\n",
        "print('Saved \"forest_complex_output\" to file.')"
      ]
    }
  ],
  "metadata": {
    "_change_revision": 0,
    "_is_fork": false,
    "kernelspec": {
      "display_name": "Python 3",
      "language": "python",
      "name": "python3"
    },
    "language_info": {
      "codemirror_mode": {
        "name": "ipython",
        "version": 3
      },
      "file_extension": ".py",
      "mimetype": "text/x-python",
      "name": "python",
      "nbconvert_exporter": "python",
      "pygments_lexer": "ipython3",
      "version": "3.5.2"
    }
  },
  "nbformat": 4,
  "nbformat_minor": 0
}