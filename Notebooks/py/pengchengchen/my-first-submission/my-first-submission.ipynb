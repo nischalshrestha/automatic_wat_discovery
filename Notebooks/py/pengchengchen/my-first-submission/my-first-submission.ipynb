{
  "cells": [
    {
      "cell_type": "markdown",
      "metadata": {
        "_cell_guid": "ff40f29a-9437-6f14-018f-99599d696be7"
      },
      "source": [
        "# Titanic"
      ]
    },
    {
      "cell_type": "code",
      "execution_count": null,
      "metadata": {
        "_cell_guid": "4bebdfca-221e-b614-4c3b-16ddb2507b3f"
      },
      "outputs": [],
      "source": [
        "# This Python 3 environment comes with many helpful analytics libraries installed\n",
        "# It is defined by the kaggle/python docker image: https://github.com/kaggle/docker-python\n",
        "# For example, here's several helpful packages to load in \n",
        "\n",
        "import numpy as np # linear algebra\n",
        "import pandas as pd # data processing, CSV file I/O (e.g. pd.read_csv)\n",
        "from sklearn import preprocessing as pre\n",
        "from sklearn.ensemble import RandomForestClassifier\n",
        "from sklearn.model_selection import RandomizedSearchCV\n",
        "\n",
        "# Input data files are available in the \"../input/\" directory.\n",
        "# For example, running this (by clicking run or pressing Shift+Enter) will list the files in the input directory\n",
        "\n",
        "from subprocess import check_output\n",
        "print(check_output([\"ls\", \"../input\"]).decode(\"utf8\"))\n",
        "\n",
        "# Any results you write to the current directory are saved as output."
      ]
    },
    {
      "cell_type": "code",
      "execution_count": null,
      "metadata": {
        "_cell_guid": "d0bb279b-d86b-7275-dedc-53d985a0fecb"
      },
      "outputs": [],
      "source": [
        "# load the csv data\n",
        "df = pd.read_csv('../input/train.csv')\n",
        "df_test = pd.read_csv('../input/test.csv')\n",
        "print(df.head())\n",
        "print('=======================')\n",
        "print(df_test.head())"
      ]
    },
    {
      "cell_type": "code",
      "execution_count": null,
      "metadata": {
        "_cell_guid": "fc34590f-1448-0b00-8d40-7158f43e219a"
      },
      "outputs": [],
      "source": [
        "# explore the dataset\n",
        "print(df.info())\n",
        "print('=========================================')\n",
        "print(df_test.info())"
      ]
    },
    {
      "cell_type": "code",
      "execution_count": null,
      "metadata": {
        "_cell_guid": "c8aa2903-ee41-da06-93bb-6128bd20d6b2"
      },
      "outputs": [],
      "source": [
        "# clean the data\n",
        "# fill the missing value in training set\n",
        "ageImp = pre.Imputer(strategy='median')\n",
        "df.Age = ageImp.fit_transform(df.Age.reshape(-1, 1))\n",
        "\n",
        "df.Embarked = df.Embarked.fillna('S')\n",
        "\n",
        "print(df.info())"
      ]
    },
    {
      "cell_type": "code",
      "execution_count": null,
      "metadata": {
        "_cell_guid": "208b1498-16b6-8b44-c65f-bcb70f490ced"
      },
      "outputs": [],
      "source": [
        "# encode the categorial value\n",
        "sexLe = pre.LabelEncoder()\n",
        "df.Sex = sexLe.fit_transform(df.Sex)\n",
        "\n",
        "embarkedLe = pre.LabelEncoder()\n",
        "df.Embarked = embarkedLe.fit_transform(df.Embarked)\n",
        "\n",
        "print(df.Sex.head())\n",
        "print('=================================')\n",
        "print(df.Embarked.head())"
      ]
    },
    {
      "cell_type": "code",
      "execution_count": null,
      "metadata": {
        "_cell_guid": "461b4451-d1a6-da30-2d17-ed9a233f90fc"
      },
      "outputs": [],
      "source": [
        "# train machine-learning model\n",
        "features = ['Pclass', 'Sex', 'Age', 'SibSp', 'Parch', 'Fare', 'Embarked']\n",
        "labels  = ['Survived']\n",
        "sqrtfeat = np.sqrt(df.shape[1])\n",
        "random_test = { \"n_estimators\"      : np.rint(np.linspace(df.shape[0]*2, df.shape[0]*4, 5)).astype(int),\n",
        "                 \"criterion\"         : [\"gini\", \"entropy\"],\n",
        "                 \"max_features\"      : np.rint(np.linspace(sqrtfeat/2, sqrtfeat*2, 5)).astype(int),\n",
        "                 \"min_samples_split\" : np.rint(np.linspace(2, df.shape[0]/50, 10)).astype(int),\n",
        "                 \"min_samples_leaf\"  : np.rint(np.linspace(1, df.shape[0]/200, 10)).astype(int), \n",
        "                 \"max_leaf_nodes\"    : np.rint(np.linspace(10, df.shape[0]/50, 10)).astype(int) }\n",
        "clf = RandomForestClassifier()\n",
        "clf = RandomizedSearchCV(clf, random_test, n_iter=50)\n",
        "# print(df[labels].values.ravel())\n",
        "clf = clf.fit(df[features], df[labels].values.ravel())"
      ]
    },
    {
      "cell_type": "code",
      "execution_count": null,
      "metadata": {
        "_cell_guid": "17d907f9-16f7-6e73-cc79-037b3fc3fe17"
      },
      "outputs": [],
      "source": [
        "# predict using the trained model\n",
        "\n",
        "# clean the test set\n",
        "df_test.Age = ageImp.transform(df_test.Age.reshape(-1, 1))\n",
        "df_test.Fare = df_test.Fare.fillna(df_test.Fare.median())\n",
        "# print(df_test.info())\n",
        "\n",
        "# encode the features\n",
        "df_test.Sex = sexLe.transform(df_test.Sex)\n",
        "df_test.Embarked = embarkedLe.transform(df_test.Embarked)\n",
        "# print(df_test.Sex.head())\n",
        "# print(df_test.Embarked.head())\n",
        "\n",
        "# predict based on the test set\n",
        "isSurvived = clf.predict(df_test[features])\n",
        "# print(isSurvived)\n",
        "\n",
        "# submission\n",
        "submission = pd.DataFrame({'PassengerId': df_test.PassengerId, \n",
        "                          'Survived': isSurvived})\n",
        "submission.to_csv('submission.csv', index=False)"
      ]
    }
  ],
  "metadata": {
    "_change_revision": 0,
    "_is_fork": false,
    "kernelspec": {
      "display_name": "Python 3",
      "language": "python",
      "name": "python3"
    },
    "language_info": {
      "codemirror_mode": {
        "name": "ipython",
        "version": 3
      },
      "file_extension": ".py",
      "mimetype": "text/x-python",
      "name": "python",
      "nbconvert_exporter": "python",
      "pygments_lexer": "ipython3",
      "version": "3.5.2"
    }
  },
  "nbformat": 4,
  "nbformat_minor": 0
}