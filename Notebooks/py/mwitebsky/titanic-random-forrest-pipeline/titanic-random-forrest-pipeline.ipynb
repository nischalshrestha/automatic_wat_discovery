{
  "cells": [
    {
      "cell_type": "markdown",
      "metadata": {
        "_cell_guid": "c91c5b4c-9d37-952a-2a6d-6406b4933267"
      },
      "source": [
        "# Random Forrest Pipeline"
      ]
    },
    {
      "cell_type": "code",
      "execution_count": null,
      "metadata": {
        "_cell_guid": "db831726-42dd-dafe-37c1-768e82002d28"
      },
      "outputs": [],
      "source": [
        "import numpy as np \n",
        "import pandas as pd \n",
        "import matplotlib.pyplot as plt\n",
        "import seaborn as sns\n",
        "% matplotlib inline\n",
        "\n",
        "# Input data files are available in the \"../input/\" directory.\n",
        "# For example, running this (by clicking run or pressing Shift+Enter) will list the files in the input directory\n",
        "\n",
        "from subprocess import check_output\n",
        "print(check_output([\"ls\", \"../input\"]).decode(\"utf8\"))\n",
        "\n",
        "# Any results you write to the current directory are saved as output."
      ]
    },
    {
      "cell_type": "markdown",
      "metadata": {
        "_cell_guid": "26ec2d64-58a2-7780-3f6b-ea5f41216d99"
      },
      "source": [
        "\n",
        "## Import Data and Overview"
      ]
    },
    {
      "cell_type": "code",
      "execution_count": null,
      "metadata": {
        "_cell_guid": "365fca4f-6f37-bf1c-a5a6-047ca9f5f83a"
      },
      "outputs": [],
      "source": [
        "df = pd.read_csv('../input/train.csv')"
      ]
    },
    {
      "cell_type": "code",
      "execution_count": null,
      "metadata": {
        "_cell_guid": "fec79bdc-c829-f346-3ea4-71ae119090ed"
      },
      "outputs": [],
      "source": [
        "df.describe()"
      ]
    },
    {
      "cell_type": "code",
      "execution_count": null,
      "metadata": {
        "_cell_guid": "a3756a4b-250f-90a9-b3cd-7045a913f4f7"
      },
      "outputs": [],
      "source": [
        "df.isnull().sum()"
      ]
    },
    {
      "cell_type": "markdown",
      "metadata": {
        "_cell_guid": "90201e14-5d3f-acf2-0a6b-5c05666e144b"
      },
      "source": [
        "## EDA and Cleaning"
      ]
    },
    {
      "cell_type": "code",
      "execution_count": null,
      "metadata": {
        "_cell_guid": "6fd8872a-e962-4c9e-3aff-c2e82159adef"
      },
      "outputs": [],
      "source": [
        "# Replace null values with placeholders\n",
        "df = df.fillna(value = {'Age' : 150,       # Unknown age may be relevant\n",
        "                        'Cabin' : 'U',     # Unknown cabin may be relevant\n",
        "                        'Embarked' : 'S'}, # Most common embark is 'S'\n",
        "               inplace=True)"
      ]
    },
    {
      "cell_type": "code",
      "execution_count": null,
      "metadata": {
        "_cell_guid": "a0056e3c-0ff2-042f-9587-2d378b9bc8ed"
      },
      "outputs": [],
      "source": [
        "# Get Cabin Letter\n",
        "\n",
        "df['Cabin_Letter'] = df['Cabin'].apply(lambda x: x[0])"
      ]
    },
    {
      "cell_type": "code",
      "execution_count": null,
      "metadata": {
        "_cell_guid": "99a65c1a-e52f-ae33-edff-215893a169d3"
      },
      "outputs": [],
      "source": [
        "# Change ages < 1 to 0\n",
        "df['Age'] = np.where(df['Age'] < 1, 0, df['Age'])\n",
        "\n",
        "# Estimated ages are XX.5\n",
        "df['Age_Known'] = df['Age'].apply(lambda x: 1 if x % 1.0 == 0 else 0)"
      ]
    },
    {
      "cell_type": "code",
      "execution_count": null,
      "metadata": {
        "_cell_guid": "396f44b9-ad19-7204-0117-685efcfeb3c1"
      },
      "outputs": [],
      "source": [
        "# View % survived by feature subclasses\n",
        "def pct_survived(feature): \n",
        "    survived = df.groupby(feature).agg({'Survived' : \n",
        "                                   {'Passengers' : 'count',\n",
        "                                   'Survived' : 'sum'}}).reset_index()\n",
        "    survived['Pct_Survived'] = survived['Survived', 'Survived'] / \\\n",
        "                               survived['Survived', 'Passengers']\n",
        "    sns.barplot(x=feature, y='Pct_Survived', data=survived)\n",
        "    plt.plot"
      ]
    },
    {
      "cell_type": "code",
      "execution_count": null,
      "metadata": {
        "_cell_guid": "51239747-8581-aa1f-361a-680868345316"
      },
      "outputs": [],
      "source": [
        "pct_survived('Pclass')"
      ]
    },
    {
      "cell_type": "code",
      "execution_count": null,
      "metadata": {
        "_cell_guid": "0f399008-b242-7396-58db-095e87cd9639"
      },
      "outputs": [],
      "source": [
        "pct_survived('Sex')"
      ]
    },
    {
      "cell_type": "code",
      "execution_count": null,
      "metadata": {
        "_cell_guid": "1e626929-1e52-ca22-827f-b8bd18869607"
      },
      "outputs": [],
      "source": [
        "pct_survived('SibSp')"
      ]
    },
    {
      "cell_type": "code",
      "execution_count": null,
      "metadata": {
        "_cell_guid": "f36ae61a-ef70-8212-a942-0ff29f68042e"
      },
      "outputs": [],
      "source": [
        "pct_survived('Parch')"
      ]
    },
    {
      "cell_type": "code",
      "execution_count": null,
      "metadata": {
        "_cell_guid": "1013d302-9310-3dd2-41c6-dff72f985f4d"
      },
      "outputs": [],
      "source": [
        "pct_survived('Age')"
      ]
    },
    {
      "cell_type": "code",
      "execution_count": null,
      "metadata": {
        "_cell_guid": "0a555832-ea81-c00b-de32-75ec8320f59a"
      },
      "outputs": [],
      "source": [
        "pct_survived('Cabin_Letter')"
      ]
    },
    {
      "cell_type": "code",
      "execution_count": null,
      "metadata": {
        "_cell_guid": "10911b53-8a3d-8567-bc7f-97fcd9791f30"
      },
      "outputs": [],
      "source": [
        "pct_survived('Embarked')"
      ]
    },
    {
      "cell_type": "code",
      "execution_count": null,
      "metadata": {
        "_cell_guid": "a4986975-cbc0-8e35-8350-56f5807d9231"
      },
      "outputs": [],
      "source": [
        "pct_survived('Fare')"
      ]
    },
    {
      "cell_type": "code",
      "execution_count": null,
      "metadata": {
        "_cell_guid": "f8ee9ea2-027f-ec3b-8432-fdd4605b471e"
      },
      "outputs": [],
      "source": [
        "pct_survived('Age_Known')"
      ]
    },
    {
      "cell_type": "code",
      "execution_count": null,
      "metadata": {
        "_cell_guid": "60c334a4-9ba6-63ec-7433-634c7972d60e"
      },
      "outputs": [],
      "source": [
        "# Create dummy columns and remove unnecessary features\n",
        "data = pd.get_dummies(df, columns=['Sex', 'Cabin_Letter', 'Embarked'], \n",
        "                      drop_first=True)\n",
        "data.drop(['PassengerId', 'Name', 'Ticket', 'Fare',\n",
        "           'Cabin', 'Parch', 'SibSp'], axis=1, inplace=True)"
      ]
    },
    {
      "cell_type": "code",
      "execution_count": null,
      "metadata": {
        "_cell_guid": "83c69c32-bb0d-f42d-fb6c-6b56cb8facf7"
      },
      "outputs": [],
      "source": [
        "# Investigate Correlations between features and target\n",
        "data.corr()['Survived'].sort_values()"
      ]
    },
    {
      "cell_type": "markdown",
      "metadata": {
        "_cell_guid": "50352804-1c0a-d05d-4a0d-a37cd345aab6"
      },
      "source": [
        "## Modeling Pipeline"
      ]
    },
    {
      "cell_type": "code",
      "execution_count": null,
      "metadata": {
        "_cell_guid": "608fce8e-2826-0f87-f60d-296cf332d947"
      },
      "outputs": [],
      "source": [
        "from sklearn.pipeline import Pipeline\n",
        "from sklearn.cross_validation import train_test_split\n",
        "from sklearn.ensemble import RandomForestClassifier, AdaBoostClassifier\n",
        "from sklearn.grid_search import GridSearchCV\n",
        "from sklearn.metrics import classification_report, confusion_matrix"
      ]
    },
    {
      "cell_type": "code",
      "execution_count": null,
      "metadata": {
        "_cell_guid": "f02570b9-ad45-3745-ade0-bed2e83abbb6"
      },
      "outputs": [],
      "source": [
        "# Create train and test features and targets\n",
        "X = data.drop(['Survived'], axis=1)\n",
        "y = data['Survived']\n",
        "\n",
        "X_train, X_test, y_train, y_test = train_test_split(X, y, test_size=0.33, random_state=42)"
      ]
    },
    {
      "cell_type": "code",
      "execution_count": null,
      "metadata": {
        "_cell_guid": "733cdd46-f33f-6483-8d10-d83ad58f2fa4"
      },
      "outputs": [],
      "source": [
        "# Create Pipeline\n",
        "clf = RandomForestClassifier()\n",
        "\n",
        "steps = [('random_forest', clf)] \n",
        "\n",
        "pipeline = Pipeline(steps)\n",
        "\n",
        "parameters = dict(random_forest__n_estimators = [50, 100, 250],\n",
        "                  random_forest__min_samples_leaf = [2, 5, 10])\n",
        "\n",
        "cv = GridSearchCV(pipeline, param_grid=parameters)\n",
        "\n",
        "cv.fit(X_train, y_train)\n",
        "\n",
        "y_predictions = cv.predict(X_test)\n",
        "\n",
        "cr = classification_report(y_test, y_predictions)\n",
        "                  \n",
        "cm = pd.DataFrame(confusion_matrix(y_test, y_predictions),\n",
        "                  columns = ['Pred_Died', 'Pred_Surv'],\n",
        "                  index = ['Died', 'Survived'])\n",
        "\n",
        "best_params = cv.best_params_"
      ]
    },
    {
      "cell_type": "markdown",
      "metadata": {
        "_cell_guid": "dd041b37-400a-f693-fa22-776f4e28c50e"
      },
      "source": [
        "## Results"
      ]
    },
    {
      "cell_type": "code",
      "execution_count": null,
      "metadata": {
        "_cell_guid": "93313ab2-5fc8-4f84-31e8-dc9c689d84ff"
      },
      "outputs": [],
      "source": [
        "print (cm)\n",
        "print ()\n",
        "print (cr)"
      ]
    },
    {
      "cell_type": "code",
      "execution_count": null,
      "metadata": {
        "_cell_guid": "3d6b158a-0438-7bdb-1a5a-131c07b2f3d5"
      },
      "outputs": [],
      "source": [
        "best_params"
      ]
    },
    {
      "cell_type": "markdown",
      "metadata": {
        "_cell_guid": "c1e73b1d-964d-d2ff-7dff-2ace73b407a3"
      },
      "source": [
        "## Create Output"
      ]
    },
    {
      "cell_type": "code",
      "execution_count": null,
      "metadata": {
        "_cell_guid": "59117839-ddff-cb46-d2aa-9f6cbe5dabc7"
      },
      "outputs": [],
      "source": [
        "df = pd.read_csv('../input/test.csv')\n",
        "\n",
        "# Replace null values with placeholders\n",
        "df_test = df.fillna(value = {'Age' : 150,       # Unknown age may be relevant\n",
        "                        'Cabin' : 'U',     # Unknown cabin may be relevant\n",
        "                        'Embarked' : 'S'}, # Most common embark is 'S'\n",
        "               inplace=True)\n",
        "\n",
        "# Get Cabin Letter\n",
        "\n",
        "df['Cabin_Letter'] = df['Cabin'].apply(lambda x: x[0])\n",
        "\n",
        "# Change ages < 1 to 0\n",
        "df['Age'] = np.where(df['Age'] < 1, 0, df['Age'])\n",
        "\n",
        "# Estimated ages are XX.5\n",
        "df['Age_Known'] = df['Age'].apply(lambda x: 1 if x % 1.0 == 0 else 0)\n",
        "\n",
        "# Create dummy columns and remove unnecessary features\n",
        "data = pd.get_dummies(df, columns=['Sex', 'Cabin_Letter', 'Embarked'], \n",
        "                      drop_first=True)\n",
        "\n",
        "data.drop(['PassengerId', 'Name', 'Ticket', 'Fare',\n",
        "           'Cabin', 'Parch', 'SibSp'], axis=1, inplace=True)\n",
        "\n",
        "# test data didn't have Cabin_Letter_T columns\n",
        "data['Cabin_Letter_T'] = 0\n",
        "\n",
        "# Output predictions\n",
        "df['Survived'] = cv.predict(data)\n",
        "output = df[['PassengerId', 'Survived']]\n",
        "output.to_csv('../working/kernel_1_output.csv', index=False)\n"
      ]
    },
    {
      "cell_type": "code",
      "execution_count": null,
      "metadata": {
        "_cell_guid": "1ea6592f-a195-c68c-6cd0-15540ec4a627"
      },
      "outputs": [],
      "source": ""
    }
  ],
  "metadata": {
    "_change_revision": 0,
    "_is_fork": false,
    "kernelspec": {
      "display_name": "Python 3",
      "language": "python",
      "name": "python3"
    },
    "language_info": {
      "codemirror_mode": {
        "name": "ipython",
        "version": 3
      },
      "file_extension": ".py",
      "mimetype": "text/x-python",
      "name": "python",
      "nbconvert_exporter": "python",
      "pygments_lexer": "ipython3",
      "version": "3.5.2"
    }
  },
  "nbformat": 4,
  "nbformat_minor": 0
}