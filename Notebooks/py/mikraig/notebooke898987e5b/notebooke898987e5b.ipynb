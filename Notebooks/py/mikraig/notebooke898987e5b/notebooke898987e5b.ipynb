{
  "cells": [
    {
      "cell_type": "markdown",
      "metadata": {
        "_cell_guid": "77d16303-3652-59a8-c074-890541ae3815"
      },
      "source": [
        ""
      ]
    },
    {
      "cell_type": "code",
      "execution_count": null,
      "metadata": {
        "_cell_guid": "e7772949-b8b3-e4b5-5da7-240a34e10fad"
      },
      "outputs": [],
      "source": [
        "from patsy import dmatrices, build_design_matrices\n",
        "import numpy as np\n",
        "import pandas as pd\n",
        "import sklearn.pipeline as skpipe\n",
        "import sklearn.preprocessing as skpreprocess\n",
        "import sklearn.linear_model as linmod\n",
        "import sklearn.svm as svm\n",
        "import sklearn.model_selection as crossval\n",
        "\n",
        "def read_data():\n",
        "    return pd.read_csv('../input/train.csv', index_col=0), \\\n",
        "           pd.read_csv('../input/test.csv', index_col=0)\n",
        "    \n",
        "    \n",
        "def preprocess_data(train, test):\n",
        "    # Pull out the numeric cols from the test set (to avoid selecting the target variable)\n",
        "    ncol = test.select_dtypes(include=[np.number]).columns\n",
        "    # Impute\n",
        "    imputer = skpreprocess.Imputer(strategy='median')\n",
        "    train.ix[:, ncol] = imputer.fit_transform(train.ix[:, ncol])\n",
        "    test.ix[:, ncol] = imputer.transform(test.ix[:, ncol])\n",
        "    return make_design_matrix(train, test)\n",
        "    \n",
        "    \n",
        "def make_design_matrix(train, test):\n",
        "    formula = \"\"\"Survived ~ C(Pclass, Treatment) +\n",
        "                            C(Sex, Treatment) +\n",
        "                            is_child(Age) +\n",
        "                            Age +\n",
        "                            np.log1p(Fare) +\n",
        "                            (SibSp + Parch) +\n",
        "                            num_tickets(Cabin) +\n",
        "                            Parch\n",
        "              \"\"\"\n",
        "    \n",
        "    # Make sure we run the stateful transformation on the test set\n",
        "    y, X = dmatrices(formula, train, return_type='dataframe', NA_action='raise')\n",
        "    X_test = build_design_matrices([X.design_info], test, return_type='dataframe', NA_action='raise')[0]\n",
        "    return X, y.Survived, X_test\n",
        "\n",
        "\n",
        "def is_child(ages):\n",
        "    return ages.map(lambda x: 1 if x < 18 else 0)\n",
        "\n",
        "def num_tickets(cabin):\n",
        "    return cabin.map(lambda x: len(x.split(' ')) if isinstance(x, str) else 0)"
      ]
    },
    {
      "cell_type": "code",
      "execution_count": null,
      "metadata": {
        "_cell_guid": "67dbf675-6246-4e6d-8c8b-e1f38ae69470"
      },
      "outputs": [],
      "source": [
        "train, test = read_data()\n",
        "X, y, X_test = preprocess_data(train, test)"
      ]
    },
    {
      "cell_type": "code",
      "execution_count": null,
      "metadata": {
        "_cell_guid": "d31ba5f9-b766-6fdc-a6a4-cbbd3b5f6010"
      },
      "outputs": [],
      "source": [
        "model = skpipe.Pipeline([('scaler', skpreprocess.StandardScaler()),\n",
        "                         ('svm', svm.SVC())])"
      ]
    },
    {
      "cell_type": "code",
      "execution_count": null,
      "metadata": {
        "_cell_guid": "acfc14f1-28ab-bf05-167d-b125dc031cda"
      },
      "outputs": [],
      "source": [
        "import scipy.stats as stats\n",
        "import statsmodels.api as sm\n",
        "import matplotlib.pyplot as plt\n",
        "%matplotlib inline\n",
        "\n",
        "def run_model_diagnostics(X, y, X_test, model):\n",
        "    # Cross validation score\n",
        "    cv_scores = crossval.cross_val_score(model, X, y, cv=5, scoring='accuracy')\n",
        "    print('CV Score: {:.5f} (+/- {:.5f})'.format(cv_scores.mean(), cv_scores.std()))\n",
        "    \n",
        "    \n",
        "# Run model diagnostics\n",
        "run_model_diagnostics(X, y, X_test, model)"
      ]
    },
    {
      "cell_type": "code",
      "execution_count": null,
      "metadata": {
        "_cell_guid": "6d958eb2-e6cc-0d37-e4e6-d252075b20d5"
      },
      "outputs": [],
      "source": [
        "# Output!\n",
        "model.fit(X, y)\n",
        "preds = pd.DataFrame({'PassengerId': test.index,\n",
        "                      'Survived': model.predict(X_test)})\n",
        "preds.Survived = preds.Survived.astype(int)\n",
        "preds.to_csv('output.csv', index=False)"
      ]
    },
    {
      "cell_type": "code",
      "execution_count": null,
      "metadata": {
        "_cell_guid": "94e5fb16-af8f-7b98-5ad9-007bb5e9757b"
      },
      "outputs": [],
      "source": [
        ""
      ]
    }
  ],
  "metadata": {
    "_change_revision": 0,
    "_is_fork": false,
    "kernelspec": {
      "display_name": "Python 3",
      "language": "python",
      "name": "python3"
    },
    "language_info": {
      "codemirror_mode": {
        "name": "ipython",
        "version": 3
      },
      "file_extension": ".py",
      "mimetype": "text/x-python",
      "name": "python",
      "nbconvert_exporter": "python",
      "pygments_lexer": "ipython3",
      "version": "3.5.2"
    }
  },
  "nbformat": 4,
  "nbformat_minor": 0
}