{
  "cells": [
    {
      "cell_type": "markdown",
      "metadata": {
        "_cell_guid": "b343d7ee-fff2-2a74-8145-8c5f527919c6"
      },
      "source": [
        "I'm new and I'd like to try a neural network approach. Suggestions appreciated.\n",
        "\n",
        "This script need reworking with function, I'm trying several seeds for a short time then select what seems the most promising to me and finally average predictions.\n",
        "\n",
        "This Kernel is based on:\n",
        "\n",
        " - [An Interactive Data Science Tutorial by Helge Bjorland][1]\n",
        " - [Mystery Planet (99.8% CNN) by Peter Grenholm][2]\n",
        "\n",
        "\n",
        "  [1]: https://www.kaggle.com/helgejo/an-interactive-data-science-tutorial\n",
        "  [2]: https://www.kaggle.com/keplersmachines/kepler-labelled-time-series-data"
      ]
    },
    {
      "cell_type": "markdown",
      "metadata": {
        "_cell_guid": "db00e93a-f3c6-7949-145c-73ae11c5f5cd"
      },
      "source": [
        "## Import and def ##"
      ]
    },
    {
      "cell_type": "code",
      "execution_count": null,
      "metadata": {
        "_cell_guid": "fead2563-4f14-267d-ce35-fe6ccabfdb59"
      },
      "outputs": [],
      "source": [
        "import numpy as np # linear algebra\n",
        "import pandas as pd\n",
        "import matplotlib.pyplot as plt\n",
        "%matplotlib inline\n",
        "from sklearn.model_selection import train_test_split\n",
        "from keras.models import Sequential, Model\n",
        "from keras.layers import Dense, Dropout\n",
        "from keras.optimizers import Adam\n",
        "\n",
        "from subprocess import check_output\n",
        "print(check_output([\"ls\", \"../input\"]).decode(\"utf8\"))"
      ]
    },
    {
      "cell_type": "code",
      "execution_count": null,
      "metadata": {
        "_cell_guid": "0d2caf98-04f7-20d8-de75-84a51c68eefa"
      },
      "outputs": [],
      "source": [
        "# batch for NN\n",
        "def batch_generator(x_train, y_train, batch_size=256):\n",
        "    \"\"\"\n",
        "    Gives equal number of positive and negative samples, and rotates them randomly in time\n",
        "    \"\"\"\n",
        "    half_batch = batch_size // 2\n",
        "    x_batch = np.empty((batch_size, x_train.shape[1]), dtype='float32')\n",
        "    y_batch = np.empty((batch_size), dtype='float32')\n",
        "    \n",
        "    yes_idx = np.where(y_train == 1.)[0]\n",
        "    non_idx = np.where(y_train == 0.)[0]\n",
        "    while True:\n",
        "        np.random.shuffle(yes_idx)\n",
        "        np.random.shuffle(non_idx)\n",
        "        \n",
        "        x_batch[:half_batch] = x_train[yes_idx[:half_batch]]\n",
        "        x_batch[half_batch:] = x_train[non_idx[half_batch:batch_size]]\n",
        "        y_batch[:half_batch] = y_train[yes_idx[:half_batch]]\n",
        "        y_batch[half_batch:] = y_train[non_idx[half_batch:batch_size]]\n",
        "    \n",
        "        for i in range(batch_size):\n",
        "            sz = np.random.randint(x_batch.shape[1])\n",
        "            x_batch[i] = np.roll(x_batch[i], sz, axis = 0)\n",
        "     \n",
        "        yield x_batch, y_batch\n",
        "        \n",
        "def train_model(model, lr, nb_epochs):\n",
        "    model.compile(optimizer=Adam(lr), loss = 'binary_crossentropy', metrics=['accuracy'])\n",
        "    hist = model.fit_generator(batch_generator(train_X, train_y, batch_size), \n",
        "                           validation_data=(valid_X, valid_y), \n",
        "                           verbose=0, epochs=nb_epochs,\n",
        "                           steps_per_epoch=train_X.shape[0]//batch_size)\n",
        "    return model, hist"
      ]
    },
    {
      "cell_type": "code",
      "execution_count": null,
      "metadata": {
        "_cell_guid": "22bbb5bb-2fd3-4e64-a03c-04d3083866b3"
      },
      "outputs": [],
      "source": [
        "def plot_hist(hist, N):\n",
        "    train_loss ,= plt.plot(np.convolve(hist.history['loss'], np.ones((N,))/N, mode='valid'), color='b', label='training loss')\n",
        "    val_loss ,= plt.plot(hist.history['val_loss'], color='r', label='validation loss')\n",
        "    plt.ylabel('Loss')\n",
        "    plt.legend(handles=[train_loss, val_loss])\n",
        "    plt.show()\n",
        "    train_acc ,= plt.plot(np.convolve(hist.history['acc'], np.ones((N,))/N, mode='valid'), color='b', label='training accuracy')\n",
        "    val_acc ,= plt.plot(np.convolve(hist.history['val_acc'], np.ones((N,))/N, mode='valid'), color='r', label='validation accuracy')\n",
        "    plt.ylabel('Accuracy')\n",
        "    plt.legend(handles=[train_acc, val_acc])\n",
        "    plt.show()"
      ]
    },
    {
      "cell_type": "markdown",
      "metadata": {
        "_cell_guid": "0805bf1f-9ce5-b9a5-cc35-5ed2457bb743"
      },
      "source": [
        "## Import Data and get features ##"
      ]
    },
    {
      "cell_type": "code",
      "execution_count": null,
      "metadata": {
        "_cell_guid": "86c51a3b-8b2c-ad63-279a-6c4f72b7d910"
      },
      "outputs": [],
      "source": [
        "# try n first seeds\n",
        "seeds = np.arange(3)\n",
        "\n",
        "# get titanic & test csv files as a DataFrame\n",
        "train = pd.read_csv(\"../input/train.csv\")\n",
        "test = pd.read_csv(\"../input/test.csv\")\n",
        "\n",
        "full = train.append( test , ignore_index = True )\n",
        "titanic = full[ :891 ]\n",
        "\n",
        "del train , test"
      ]
    },
    {
      "cell_type": "code",
      "execution_count": null,
      "metadata": {
        "_cell_guid": "a3219886-ab92-c04f-932c-7187ab073e92"
      },
      "outputs": [],
      "source": [
        "# Transform Sex into binary values 0 and 1\n",
        "sex = pd.Series( np.where( full.Sex == 'male' , 1 , 0 ) , name = 'Sex' )\n",
        "# Create a new variable for every unique value of Embarked\n",
        "embarked = pd.get_dummies( full.Embarked , prefix='Embarked' )\n",
        "# Create a new variable for every unique value of Embarked\n",
        "pclass = pd.get_dummies( full.Pclass , prefix='Pclass' )\n",
        "# Create dataset\n",
        "imputed = pd.DataFrame()\n",
        "# Fill missing values of Age with the average of Age (mean)\n",
        "imputed[ 'Has_Age' ] = full.Age.notnull()\n",
        "imputed[ 'Age' ] = full.Age.fillna( full.Age.mean() )\n",
        "# Fill missing values of Fare with the average of Fare (mean)\n",
        "imputed[ 'Has_Fare' ] = full.Fare.notnull()\n",
        "imputed[ 'Fare' ] = full.Fare.fillna( full.Fare.mean() )"
      ]
    },
    {
      "cell_type": "code",
      "execution_count": null,
      "metadata": {
        "_cell_guid": "d263554a-12ea-a0a8-1fef-4b28a32e7305"
      },
      "outputs": [],
      "source": [
        "\n",
        "title = pd.DataFrame()\n",
        "# we extract the title from each name\n",
        "title[ 'Title' ] = full[ 'Name' ].map( lambda name: name.split( ',' )[1].split( '.' )[0].strip() )\n",
        "\n",
        "# a map of more aggregated titles\n",
        "Title_Dictionary = {\n",
        "                    \"Capt\":       \"Officer\",\n",
        "                    \"Col\":        \"Officer\",\n",
        "                    \"Major\":      \"Officer\",\n",
        "                    \"Jonkheer\":   \"Royalty\",\n",
        "                    \"Don\":        \"Royalty\",\n",
        "                    \"Sir\" :       \"Royalty\",\n",
        "                    \"Dr\":         \"Officer\",\n",
        "                    \"Rev\":        \"Officer\",\n",
        "                    \"the Countess\":\"Royalty\",\n",
        "                    \"Dona\":       \"Royalty\",\n",
        "                    \"Mme\":        \"Mrs\",\n",
        "                    \"Mlle\":       \"Miss\",\n",
        "                    \"Ms\":         \"Mrs\",\n",
        "                    \"Mr\" :        \"Mr\",\n",
        "                    \"Mrs\" :       \"Mrs\",\n",
        "                    \"Miss\" :      \"Miss\",\n",
        "                    \"Master\" :    \"Master\",\n",
        "                    \"Lady\" :      \"Royalty\"\n",
        "\n",
        "                    }\n",
        "# Get names\n",
        "name = pd.DataFrame()\n",
        "name['Name'] = full[ 'Name' ].map( lambda name: name.split( ',' )[0].strip() )\n",
        "\n",
        "# we map each title\n",
        "title[ 'Title' ] = title.Title.map( Title_Dictionary )\n",
        "title = pd.get_dummies( title.Title )\n",
        "\n",
        "cabin = pd.DataFrame()\n",
        "\n",
        "# replacing missing cabins with U (for Uknown)\n",
        "cabin[ 'Cabin' ] = full.Cabin.fillna( 'U' )\n",
        "\n",
        "# mapping each Cabin value with the cabin letter\n",
        "cabin[ 'Cabin' ] = cabin[ 'Cabin' ].map( lambda c : c[0] )\n",
        "\n",
        "# dummy encoding ...\n",
        "cabin = pd.get_dummies( cabin['Cabin'] , prefix = 'Cabin' )\n",
        "\n",
        "\n",
        "\n",
        "# a function that extracts each prefix of the ticket, returns 'XXX' if no prefix (i.e the ticket is a digit)\n",
        "def cleanTicket( ticket ):\n",
        "    ticket = ticket.replace( '.' , '' )\n",
        "    ticket = ticket.replace( '/' , '' )\n",
        "    ticket = ticket.split()\n",
        "    ticket = map( lambda t : t.strip() , ticket )\n",
        "    ticket = list(filter( lambda t : not t.isdigit() , ticket ))\n",
        "    if len( ticket ) > 0:\n",
        "        return ticket[0]\n",
        "    else: \n",
        "        return 'XXX'\n",
        "\n",
        "ticket = pd.DataFrame()\n",
        "\n",
        "# Extracting dummy variables from tickets:\n",
        "ticket[ 'Ticket' ] = full[ 'Ticket' ].map( cleanTicket )\n",
        "ticket = pd.get_dummies( ticket[ 'Ticket' ] , prefix = 'Ticket' )\n",
        "\n",
        "\n",
        "\n",
        "family = pd.DataFrame()\n",
        "\n",
        "# introducing a new feature : the size of families (including the passenger)\n",
        "family[ 'FamilySize' ] = full[ 'Parch' ] + full[ 'SibSp' ] + 1\n",
        "\n",
        "# Select which features/variables to include in the dataset from the list below:\n",
        "# imputed , embarked , pclass , sex , family , cabin , ticket\n",
        "\n",
        "full_X = pd.concat( [ imputed.drop('Fare', axis=1) , pclass , sex , family, title, ticket ] , axis=1 )\n",
        "full_X.head()"
      ]
    },
    {
      "cell_type": "markdown",
      "metadata": {
        "_cell_guid": "16902f46-ae33-11bc-3e43-5d556f1946d4"
      },
      "source": [
        "## Training ##"
      ]
    },
    {
      "cell_type": "code",
      "execution_count": null,
      "metadata": {
        "_cell_guid": "829a61ba-4347-b544-985b-a003120968a7"
      },
      "outputs": [],
      "source": [
        "# Create all datasets that are necessary to train, validate and test models\n",
        "train_valid_X = full_X[ 0:891 ]\n",
        "train_valid_y = titanic.Survived\n",
        "test_X = full_X[ 891: ].as_matrix()\n",
        "train_X , valid_X , train_y , valid_y = train_test_split( train_valid_X , train_valid_y , train_size = .7 )\n",
        "\n",
        "train_X = train_X.as_matrix()\n",
        "valid_X = valid_X.as_matrix()\n",
        "train_y = train_y.as_matrix()\n",
        "valid_y = valid_y.as_matrix()\n",
        "\n",
        "print (full_X.shape , train_X.shape , valid_X.shape , train_y.shape , valid_y.shape , test_X.shape)"
      ]
    },
    {
      "cell_type": "code",
      "execution_count": null,
      "metadata": {
        "_cell_guid": "03631fc8-6671-3eda-b711-8830a52b82d1"
      },
      "outputs": [],
      "source": [
        "hists = []\n",
        "models = []\n",
        "promising_seeds = []\n",
        "\n",
        "# rapidly test seeds and keep promising ones\n",
        "for a_seed in seeds:\n",
        "    # create model\n",
        "    model = Sequential()\n",
        "    model.add(Dense(train_X.shape[1]+10, activation='relu',input_shape=train_X.shape[1:]))\n",
        "    #model.add(Dropout(0.1))\n",
        "    model.add(Dense(30, activation='relu'))\n",
        "    #model.add(Dropout(0.1))\n",
        "    model.add(Dense(13, activation='relu'))\n",
        "    model.add(Dense(1, activation='sigmoid'))\n",
        "    batch_size = 256\n",
        "    # random seed\n",
        "    np.random.seed(a_seed)\n",
        "    #Start with a slightly lower learning rate, to ensure convergence\n",
        "    model, hist = train_model(model, 6e-4, 200)\n",
        "    # faster convergence\n",
        "    model, hist = train_model(model, 9e-4, 300)\n",
        "    hists.append(hist)\n",
        "    models.append(model)\n",
        "    plot_hist(hist, 100)\n",
        "    print(\"seed\", a_seed, \"crossval accuracy\", np.mean(hist.history['val_acc'][-100:-1]))\n",
        "    # if the model has reach at least 55% cross validation accuracy\n",
        "    if np.mean(hist.history['val_acc'][-100:-1]) > 0.55:\n",
        "        promising_seeds.append(a_seed)"
      ]
    },
    {
      "cell_type": "code",
      "execution_count": null,
      "metadata": {
        "_cell_guid": "b1eb327d-749c-e342-5510-6724cd9b611a"
      },
      "outputs": [],
      "source": [
        "# train promising models\n",
        "best_seed = 0\n",
        "best_acc = 0.0\n",
        "# not using good seeds at the moment\n",
        "good_seeds = []\n",
        "for a_seed in promising_seeds:\n",
        "    # add some convergence time\n",
        "    models[a_seed], hists[a_seed] = train_model(models[a_seed], 9e-4, 200)\n",
        "    acc = np.mean(hists[a_seed].history['val_acc'][-100:-1])\n",
        "    print(\"seed\", a_seed, \"crossval accuracy\", acc)\n",
        "    if acc >0.6:\n",
        "        good_seeds.append(a_seed)\n",
        "    if acc > best_acc:\n",
        "        best_seed = a_seed\n",
        "        best_acc = acc"
      ]
    },
    {
      "cell_type": "code",
      "execution_count": null,
      "metadata": {
        "_cell_guid": "7cee25e6-c64e-f239-7f9a-fb458bcc46f3"
      },
      "outputs": [],
      "source": [
        "# draw all models to check if we kept the best  \n",
        "for a_seed in seeds:\n",
        "    hist = hists[a_seed]\n",
        "    plot_hist(hist, 100)\n",
        "    if a_seed == best_seed:\n",
        "        print(\"best seed\")\n",
        "    print(np.mean(hist.history['val_acc'][-100:-1]))"
      ]
    },
    {
      "cell_type": "markdown",
      "metadata": {
        "_cell_guid": "423d81ee-a336-e189-0d7b-d47d6ae1a26d"
      },
      "source": [
        "## Prediction and submission ##"
      ]
    },
    {
      "cell_type": "code",
      "execution_count": null,
      "metadata": {
        "_cell_guid": "dd1f7bda-3767-36e2-3fd6-987ab19b8892"
      },
      "outputs": [],
      "source": [
        "prediction = models[best_seed].predict(test_X)[:,0]\n",
        "test_y = (prediction + 0.5).astype(\"int\")\n",
        "ids = full[891:]['PassengerId']\n",
        "output = pd.DataFrame({ 'PassengerId' : ids, 'Survived': test_y })\n",
        "output.to_csv('submission.csv', index = False)\n",
        "output.head()"
      ]
    }
  ],
  "metadata": {
    "_change_revision": 0,
    "_is_fork": false,
    "kernelspec": {
      "display_name": "Python 3",
      "language": "python",
      "name": "python3"
    },
    "language_info": {
      "codemirror_mode": {
        "name": "ipython",
        "version": 3
      },
      "file_extension": ".py",
      "mimetype": "text/x-python",
      "name": "python",
      "nbconvert_exporter": "python",
      "pygments_lexer": "ipython3",
      "version": "3.6.0"
    }
  },
  "nbformat": 4,
  "nbformat_minor": 0
}