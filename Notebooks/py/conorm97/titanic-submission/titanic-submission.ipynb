{
  "cells": [
    {
      "cell_type": "code",
      "execution_count": null,
      "metadata": {
        "_cell_guid": "4a3a1c79-f783-dc1d-0775-cabd8dbb2569"
      },
      "outputs": [],
      "source": [
        "#import libraries\n",
        "import numpy as np \n",
        "import pandas as pd \n",
        "import warnings\n",
        "warnings.filterwarnings('ignore')\n",
        "import matplotlib.pyplot as plt \n",
        "%matplotlib inline\n",
        "from sklearn.ensemble import RandomForestClassifier, GradientBoostingClassifier\n",
        "from sklearn.neighbors import KNeighborsClassifier\n",
        "from sklearn.linear_model import LogisticRegression\n",
        "\n",
        "#import project files\n",
        "train = pd.read_csv(\"../input/train.csv\", dtype={\"Age\": np.float64}, )\n",
        "test = pd.read_csv(\"../input/test.csv\", dtype={\"Age\": np.float64}, )\n",
        "\n",
        "from subprocess import check_output\n",
        "print(check_output([\"ls\", \"../input\"]).decode(\"utf8\"))\n",
        "#Any results you write to the current directory are saved as output."
      ]
    },
    {
      "cell_type": "code",
      "execution_count": null,
      "metadata": {
        "_cell_guid": "1f96dad6-e4fa-e7d2-48dd-f339850e2832"
      },
      "outputs": [],
      "source": [
        "#Use head of data as preview, get info of training and test data\n",
        "print(\"\\n\\nTop of the training data:\")\n",
        "print(train.head())\n",
        "\n",
        "print(\"\\n\\nInfo summary of training data\")\n",
        "print(train.info())\n",
        "\n",
        "print(\"\\n\\nInfo summary of test data\")\n",
        "print(test.info())"
      ]
    },
    {
      "cell_type": "markdown",
      "metadata": {
        "_cell_guid": "90e407b5-6c7a-616d-4baf-9801e137193b"
      },
      "source": [
        "Data Simplification and Dealing with Missing Values"
      ]
    },
    {
      "cell_type": "code",
      "execution_count": null,
      "metadata": {
        "_cell_guid": "4ba4f378-e64a-6a08-3600-5aad7d8be1c2"
      },
      "outputs": [],
      "source": [
        "#fill fare value that is missing from test data with median \n",
        "test[\"Fare\"].fillna(test[\"Fare\"].median(), inplace=True) ;\n",
        "\n",
        "#visualise distribution of fares\n",
        "plt.hist(train['Fare'], bins=30, range=[0,300]) #number of bins chosen using the square root rule\n",
        "plt.title('Distribution of Fares')\n",
        "plt.xlabel('Fare')\n",
        "plt.ylabel('Quantity')\n",
        "plt.show()\n",
        "plt.clf()\n",
        "\n",
        "#split fares into 3 classes and assign integer values: high(2), medium(1), low(0)\n",
        "groups = [0, 1, 2]\n",
        "bins = [-1, np.percentile(train['Fare'], 33), np.percentile(train['Fare'], 67), max(train['Fare'])+1]\n",
        "train['Fare'] = pd.cut(train['Fare'], bins, labels=groups)\n",
        "\n",
        "#same for test data\n",
        "bins = [-1, np.percentile(test['Fare'], 33), np.percentile(test['Fare'], 67), max(test['Fare'])+1]\n",
        "test['Fare'] = pd.cut(test['Fare'], bins, labels=groups)#Passengers' names, tickets, IDs not relevant to survival; due to sparsity I will also drop the cabin variable.\n",
        "passIdstacking = train['PassengerId']\n",
        "train = train.drop(['Name', 'Ticket', 'PassengerId', 'Cabin'], axis=1) #cabin may be worth revisiting later\n",
        "test = test.drop(['Name', 'Ticket', 'Cabin'], axis=1) #Keep PassengerId here for prediction purposes\n",
        ";"
      ]
    },
    {
      "cell_type": "code",
      "execution_count": null,
      "metadata": {
        "_cell_guid": "6eeec6d6-028e-bc9b-f454-23030c4d76f9"
      },
      "outputs": [],
      "source": [
        "#find most common Embarked value to use to fill the 2 NA values:\n",
        "print(train['Embarked'].value_counts())\n",
        "\n",
        "#since the majority of passengers boarded at Southampton, we fill missing data with this value.\n",
        "train['Embarked'].fillna('S', inplace=True)\n",
        "\n",
        "#convert emmarked values to integers; S = 0, C = 1, Q = 2 \n",
        "train['Embarked'][train['Embarked'] == 'S'] = 0\n",
        "train['Embarked'][train['Embarked'] == 'C'] = 1\n",
        "train['Embarked'][train['Embarked'] == 'Q'] = 2\n",
        "\n",
        "test['Embarked'][test['Embarked'] == 'S'] = 0\n",
        "test['Embarked'][test['Embarked'] == 'C'] = 1\n",
        "test['Embarked'][test['Embarked'] == 'Q'] = 2"
      ]
    },
    {
      "cell_type": "code",
      "execution_count": null,
      "metadata": {
        "_cell_guid": "840ed9da-1586-ed7c-653d-2c34518ab957"
      },
      "outputs": [],
      "source": [
        "#replace missing age values with median corresponding to the sex and far category of the passenger\n",
        "\n",
        "for i in range(3):\n",
        "    train['Age'].loc[(train['Sex'] == 'male') & (train['Fare'] == i) & pd.isnull(train['Age'])] = train['Age'].loc[(train['Sex'] == 'male') & (train['Fare'] == i)].median()\n",
        "    train['Age'].loc[(train['Sex'] == 'female') & (train['Fare'] == i) & pd.isnull(train['Age'])] = train['Age'].loc[(train['Sex'] == 'female') & (train['Fare'] == i)].median()\n",
        "    test['Age'].loc[(test['Sex'] == 'male') & (test['Fare'] == i) & pd.isnull(test['Age'])] = test['Age'].loc[(test['Sex'] == 'male') & (test['Fare'] == i)].median()\n",
        "    test['Age'].loc[(test['Sex'] == 'female') & (test['Fare'] == i) & pd.isnull(test['Age'])] = test['Age'].loc[(test['Sex'] == 'female') & (test['Fare'] == i)].median()\n",
        "    \n",
        "print(train.info())\n",
        "print(test.info())"
      ]
    },
    {
      "cell_type": "code",
      "execution_count": null,
      "metadata": {
        "_cell_guid": "ca5cc9b8-bc95-6fed-0f69-182435df2244"
      },
      "outputs": [],
      "source": [
        "#put ages into categories by decade\n",
        "\n",
        "train['AgeStat'] = float('NaN')\n",
        "test['AgeStat'] = float('NaN')\n",
        "\n",
        "for i in range(10):\n",
        "    train['AgeStat'].loc[(train['Age'] <= ((10*i) + 10)) & (train['Age'] > (10*i))] = i+1\n",
        "    test['AgeStat'].loc[(test['Age'] <= ((10*i) + 10)) & (test['Age'] > (10*i))] = i+1\n",
        "\n",
        "print(train['AgeStat'].value_counts())\n",
        "print(test['AgeStat'].value_counts())\n",
        "\n",
        "\n",
        "#can now drop Age column and feed age classes into prediction algorithms\n",
        "train = train.drop('Age', axis=1)\n",
        "test = test.drop('Age', axis=1)"
      ]
    },
    {
      "cell_type": "code",
      "execution_count": null,
      "metadata": {
        "_cell_guid": "60bdd104-9cd0-6548-11da-7ca5f0e2654c"
      },
      "outputs": [],
      "source": [
        "#create new column specifying if passenger has family on board the Titanic \n",
        "# this allows us to drop the Parch and SibSp columns \n",
        "train['Family'] = train['Parch'] + train['SibSp']\n",
        "train['Family'].loc[train['Family'] > 0] = 1\n",
        "train['Family'].loc[train['Family'] == 0] = 0\n",
        "\n",
        "test['Family'] = test['Parch'] + test['SibSp']\n",
        "test['Family'].loc[test['Family'] > 0] = 1\n",
        "test['Family'].loc[test['Family'] == 0] = 0\n",
        "\n",
        "train = train.drop(['Parch', 'SibSp'], axis=1)\n",
        "test = test.drop(['Parch', 'SibSp'], axis=1)\n",
        "\n",
        "print(train.info())\n",
        "print(test.info())"
      ]
    },
    {
      "cell_type": "code",
      "execution_count": null,
      "metadata": {
        "_cell_guid": "daa2bc62-6a17-9a84-e774-ea9f88145c08"
      },
      "outputs": [],
      "source": [
        "#convert non-integer data to integers as required by sk learn functions\n",
        "train['Sex'][train['Sex'] == 'male'] = 0\n",
        "train['Sex'][train['Sex'] == 'female'] = 1\n",
        "test['Sex'][test['Sex'] == 'male'] = 0\n",
        "test['Sex'][test['Sex'] == 'female'] = 1\n",
        "\n",
        "#train['AgeStat'] = train['AgeStat'].astype(int)\n",
        "#test['AgeStat'] = test['AgeStat'].astype(int)\n",
        "\n",
        "train['Sex'] = train['Sex'].astype(int)\n",
        "test['Sex'] = test['Sex'].astype(int)\n",
        "\n",
        "train['Embarked'] = train['Embarked'].astype(int)\n",
        "test['Embarked'] = test['Embarked'].astype(int)\n",
        "\n",
        "train['Fare'] = train['Fare'].astype(int)\n",
        "test['Fare'] = test['Fare'].astype(int)\n",
        "\n",
        "print(train.info())\n",
        "print(test.info())"
      ]
    },
    {
      "cell_type": "markdown",
      "metadata": {
        "_cell_guid": "a29a8d60-3b46-e0dd-09c2-b70a028b5147"
      },
      "source": [
        "Exploration (Survival Rates):"
      ]
    },
    {
      "cell_type": "code",
      "execution_count": null,
      "metadata": {
        "_cell_guid": "623ac545-9cef-11d9-3d4c-331a7ab8c33c"
      },
      "outputs": [],
      "source": [
        "#calculate survival rates for all passengers \n",
        "print(\"Survival rate across all passengers (1 => Survived, 0 => not survived): \")\n",
        "print(train['Survived'].value_counts(normalize=True))\n",
        "\n",
        "print(\"\\n\\nProportion of Passengers on board by gender\")\n",
        "print(train['Sex'].value_counts(normalize=True))"
      ]
    },
    {
      "cell_type": "code",
      "execution_count": null,
      "metadata": {
        "_cell_guid": "ea56f136-a8a8-4165-c8dc-97f2a899a06f"
      },
      "outputs": [],
      "source": [
        "#Survival Rates by Age\n",
        "\n",
        "for i in range(10):\n",
        "     print(\"\\n\\nSurvival rates for age category: \", i)\n",
        "     print(train['Survived'][train['AgeStat'] == i].value_counts(normalize=True))\n"
      ]
    },
    {
      "cell_type": "code",
      "execution_count": null,
      "metadata": {
        "_cell_guid": "364ba409-039f-e630-e85c-5fa3f91c1af4"
      },
      "outputs": [],
      "source": [
        "#Survival Rates by Gender\n",
        "\n",
        "print(\"\\n\\nSurvival rates for males: \")\n",
        "print(train['Survived'][train['Sex'] == 0].value_counts(normalize=True))\n",
        "\n",
        "print(\"\\n\\nSurvival rates for females: \")\n",
        "print(train['Survived'][train['Sex'] == 1].value_counts(normalize=True))\n",
        "\n",
        "#it seems that females are more likely to survive than males "
      ]
    },
    {
      "cell_type": "code",
      "execution_count": null,
      "metadata": {
        "_cell_guid": "8e8e9e97-f3fd-560c-59c9-5123e7144619"
      },
      "outputs": [],
      "source": [
        "#Survival Rates due to family on board\n",
        "\n",
        "print(\"\\n\\nSurvival rates among those who have family on board: \")\n",
        "print(train['Survived'][train['Family'] == 1].value_counts(normalize=True))\n",
        "\n",
        "print(\"\\n\\nSurvival rates among those with no family on board\")\n",
        "print(train['Survived'][train['Family'] == 0].value_counts(normalize=True))\n",
        "\n",
        "#those with family on board are more likely to survive"
      ]
    },
    {
      "cell_type": "code",
      "execution_count": null,
      "metadata": {
        "_cell_guid": "259a5bcd-a20d-8380-54c0-1920148b365e"
      },
      "outputs": [],
      "source": [
        "#survival rates due to passenger class; First(1), Second(2), Third(3)\n",
        "\n",
        "print('Survival rate of those in First Class: ')\n",
        "print(train['Survived'][train['Pclass'] == 1].value_counts(normalize=True))\n",
        "\n",
        "print('\\n\\nSurvival rate of those in Second Class: ')\n",
        "print(train['Survived'][train['Pclass'] == 2].value_counts(normalize=True))\n",
        "\n",
        "print('\\n\\nSurvival rate of those in Third Class: ')\n",
        "print(train['Survived'][train['Pclass'] == 3].value_counts(normalize=True))\n"
      ]
    },
    {
      "cell_type": "code",
      "execution_count": null,
      "metadata": {
        "_cell_guid": "92d57e7f-6072-5a3c-8419-9a9872a2a369"
      },
      "outputs": [],
      "source": [
        "#Survival rates due to fare class\n",
        "\n",
        "print(\"Survival rate of those who paid low fares: \")\n",
        "print(train['Survived'][train['Fare'] == 0].value_counts(normalize=True))\n",
        "\n",
        "print(\"\\n\\nSurvival rate of those who paid medium fares: \")\n",
        "print(train['Survived'][train['Fare'] == 1].value_counts(normalize=True))\n",
        "\n",
        "print(\"\\n\\nSurvival rate of those who paid high fares: \")\n",
        "print(train['Survived'][train['Fare'] == 2].value_counts(normalize=True))\n",
        "\n",
        "#those who had paid more to board the ship were more likely to survive"
      ]
    },
    {
      "cell_type": "markdown",
      "metadata": {
        "_cell_guid": "f97b878d-975a-a11e-66ae-f9310716dd72"
      },
      "source": [
        "Analysis and Prediction:"
      ]
    },
    {
      "cell_type": "code",
      "execution_count": null,
      "metadata": {
        "_cell_guid": "05345705-e200-5e07-8a85-afff4217b054"
      },
      "outputs": [],
      "source": [
        "#Adjust data to form required by sk-learn algorithms \n",
        "trainingX = train.drop('Survived', axis=1)\n",
        "trainingY = train['Survived']\n",
        "testX = test.drop('PassengerId', axis=1).copy()"
      ]
    },
    {
      "cell_type": "code",
      "execution_count": null,
      "metadata": {
        "_cell_guid": "79e983d3-aa46-584f-9862-7a93471770cd"
      },
      "outputs": [],
      "source": [
        "#prediction using random forests\n",
        "rf = RandomForestClassifier(n_estimators=100)\n",
        "rf.fit(trainingX, trainingY)\n",
        "rfprediction = rf.predict(testX)\n",
        "print(rf.feature_importances_)\n",
        "print(rf.score(trainingX, trainingY))"
      ]
    },
    {
      "cell_type": "code",
      "execution_count": null,
      "metadata": {
        "_cell_guid": "dab11938-94d2-d6d5-958a-0a1e522b8060"
      },
      "outputs": [],
      "source": [
        "# prediction using logistic regression\n",
        "#lr = LogisticRegression()\n",
        "#lr.fit(trainingX, trainingY)\n",
        "#lrprediction = lr.predict(testX)\n",
        "#print(lr.score(trainingX, trainingY))"
      ]
    },
    {
      "cell_type": "code",
      "execution_count": null,
      "metadata": {
        "_cell_guid": "2e6ec641-22e6-8559-43ea-42d1b95662fb"
      },
      "outputs": [],
      "source": [
        "#prediction using KNN\n",
        "\n",
        "knn = KNeighborsClassifier(n_neighbors = 3)\n",
        "knn.fit(trainingX, trainingY)\n",
        "knnprediction = knn.predict(testX)\n",
        "print(knn.score(trainingX, trainingY))"
      ]
    },
    {
      "cell_type": "code",
      "execution_count": null,
      "metadata": {
        "_cell_guid": "2a644307-2aaf-3b72-9512-41f013bd3001"
      },
      "outputs": [],
      "source": [
        "#prediction using gradient boosting\n",
        "\n",
        "gb = GradientBoostingClassifier(n_estimators = 200)\n",
        "gb.fit(trainingX, trainingY)\n",
        "gbprediction = gb.predict(testX)\n",
        "print(gb.score(trainingX, trainingY))\n"
      ]
    },
    {
      "cell_type": "code",
      "execution_count": null,
      "metadata": {
        "_cell_guid": "59f35b46-3cd3-9466-3804-9934d49d83b0"
      },
      "outputs": [],
      "source": [
        "#ensemble: bagging\n",
        "#voting system\n",
        "prediction = rfprediction + gbprediction + knnprediction\n",
        "prediction[prediction == 1] = 0\n",
        "prediction[prediction == 2] = 1\n",
        "prediction[prediction == 3] = 1"
      ]
    },
    {
      "cell_type": "code",
      "execution_count": null,
      "metadata": {
        "_cell_guid": "2b69e6eb-65f8-6cd3-c7e1-39cafd4a5fe2"
      },
      "outputs": [],
      "source": [
        "#create solution csv for submission\n",
        "PassengerId = np.array(test['PassengerId']).astype(int)\n",
        "solution = pd.DataFrame(prediction, PassengerId, columns=['Survived'])\n",
        "solution = solution.to_csv('newsolution', index_label = ['PassengerId'])"
      ]
    },
    {
      "cell_type": "markdown",
      "metadata": {
        "_cell_guid": "a42b5348-95b0-8927-1f01-4f0507af75d1"
      },
      "source": [
        "next steps: 1) Use XGBoost instead of GB \n",
        "                    2) apply stacking on initial predictions \n",
        "                    3)cross-validation to improve choosing of parameters"
      ]
    }
  ],
  "metadata": {
    "_change_revision": 0,
    "_is_fork": false,
    "kernelspec": {
      "display_name": "Python 3",
      "language": "python",
      "name": "python3"
    },
    "language_info": {
      "codemirror_mode": {
        "name": "ipython",
        "version": 3
      },
      "file_extension": ".py",
      "mimetype": "text/x-python",
      "name": "python",
      "nbconvert_exporter": "python",
      "pygments_lexer": "ipython3",
      "version": "3.6.0"
    }
  },
  "nbformat": 4,
  "nbformat_minor": 0
}