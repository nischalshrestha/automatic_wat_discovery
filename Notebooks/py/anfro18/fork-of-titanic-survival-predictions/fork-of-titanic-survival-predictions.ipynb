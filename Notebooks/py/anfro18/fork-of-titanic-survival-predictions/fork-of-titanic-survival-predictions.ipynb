{
  "cells": [
    {
      "cell_type": "markdown",
      "metadata": {
        "_cell_guid": "0f839242-f4eb-bf70-3f23-6b431d7c6113"
      },
      "source": [
        "<h3><strong>Objective</strong></h3>\n",
        "<p>Predict which passengers survived on the Titanic and which didn't </p>"
      ]
    },
    {
      "cell_type": "code",
      "execution_count": null,
      "metadata": {
        "_cell_guid": "a671de6f-1b62-0ab4-7afc-5fb2debb3169"
      },
      "outputs": [],
      "source": [
        "import pandas as pd\n",
        "import numpy as np\n",
        "import seaborn as sns\n",
        "import matplotlib.pyplot as plt\n",
        "%matplotlib inline"
      ]
    },
    {
      "cell_type": "code",
      "execution_count": null,
      "metadata": {
        "_cell_guid": "8705e83d-1e31-8562-479a-14689cd3a15c"
      },
      "outputs": [],
      "source": [
        "# First and foremost, our data! Let's import it now\n",
        "trainingData = pd.read_csv(\"../input/train.csv\")\n",
        "# We will, for the most part, be ignoring the 'testData' until later in the script.\n",
        "testData = pd.read_csv(\"../input/test.csv\")"
      ]
    },
    {
      "cell_type": "code",
      "execution_count": null,
      "metadata": {
        "_cell_guid": "21cc5bbc-43f4-2c30-4b6c-124a607031d2"
      },
      "outputs": [],
      "source": [
        "# I'm interested in the shape and description of the data. \n",
        "# What types of data, are they clean, column names, NaN's? These are but few of the \n",
        "# many initial questions you should typically ask yourself when first looking at a dataset. \n",
        "trainingData.shape"
      ]
    },
    {
      "cell_type": "code",
      "execution_count": null,
      "metadata": {
        "_cell_guid": "f7f40c5f-8daa-8afe-42c4-d57fd89835c6"
      },
      "outputs": [],
      "source": [
        "trainingData.head()"
      ]
    },
    {
      "cell_type": "code",
      "execution_count": null,
      "metadata": {
        "_cell_guid": "f3b1dfd0-750f-b65c-c81a-2b663bf620a8"
      },
      "outputs": [],
      "source": [
        "# a quick method to visualize two variables\n",
        "sns.barplot(x=\"Embarked\", y=\"Survived\",hue=\"Sex\",data=trainingData)"
      ]
    },
    {
      "cell_type": "code",
      "execution_count": null,
      "metadata": {
        "_cell_guid": "f0f273c9-12c8-decd-e448-d05a71a77356"
      },
      "outputs": [],
      "source": [
        "sns.pointplot(x=\"Pclass\", y=\"Survived\", hue=\"Sex\", data=trainingData,\n",
        "             palette={\"male\":\"blue\", \"female\":\"pink\"},\n",
        "             markers=[\"*\",\"o\"],linestyles=[\"-\",\"--\"])"
      ]
    },
    {
      "cell_type": "code",
      "execution_count": null,
      "metadata": {
        "_cell_guid": "57a74b54-ed4f-a447-0273-2a5ccaf89b49"
      },
      "outputs": [],
      "source": [
        "def simplify_ages(df):\n",
        "    df.Age = df.Age.fillna(-0.5)\n",
        "    bins=(-1,0,5,12,18,25,35,60,120)\n",
        "    group_names=[\"Unknown\",'Baby','Child',\"Teenager\",\"Student\",\"Young Adult\",\"Adult\",\"Senior\"]\n",
        "    categories = pd.cut(df.Age,bins,labels=group_names)\n",
        "    df.Age = categories\n",
        "    return df\n",
        "\n",
        "def simplify_cabins(df):\n",
        "    df.Cabin = df.Cabin.fillna('N')\n",
        "    df.Cabin = df.Cabin.apply(lambda x: x[0])\n",
        "    return df\n",
        "\n",
        "def simplify_fares(df):\n",
        "    df.Fare = df.Fare.fillna(-0.5)\n",
        "    bins = (-1,0,8,15,31,1000)\n",
        "    group_names = ['Unknown','1_quartile','2_quartile','3_quartile','4_quartile']\n",
        "    categories = pd.cut(df.Fare, bins, labels=group_names)\n",
        "    df.Fare = categories\n",
        "    return df\n",
        "\n",
        "def format_name(df):\n",
        "    df['Lname'] = df.Name.apply(lambda x: x.split(' ')[0])\n",
        "    df['NamePrefix'] = df.Name.apply(lambda x:x.split(' ')[1])\n",
        "    return df\n",
        "\n",
        "def drop_features(df):\n",
        "    return df.drop(['Ticket', 'Name', 'Embarked'], axis=1)\n",
        "\n",
        "def transform_features(df):\n",
        "    df = simplify_ages(df)\n",
        "    df = simplify_cabins(df)\n",
        "    df = simplify_fares(df)\n",
        "    df = format_name(df)\n",
        "    df = drop_features(df)\n",
        "    return df\n",
        "\n",
        "trainingData = transform_features(trainingData)\n",
        "testData = transform_features(testData)"
      ]
    },
    {
      "cell_type": "code",
      "execution_count": null,
      "metadata": {
        "_cell_guid": "22df48e6-ec7f-e313-bc8a-89bf4e91b668"
      },
      "outputs": [],
      "source": [
        "sns.barplot(x=\"Age\",y=\"Survived\",hue='Sex',data=trainingData)"
      ]
    },
    {
      "cell_type": "code",
      "execution_count": null,
      "metadata": {
        "_cell_guid": "31ffd839-0ec7-b757-1683-528829e46fe9"
      },
      "outputs": [],
      "source": [
        "sns.barplot(x=\"Cabin\",y=\"Survived\",hue='Sex',data=trainingData)"
      ]
    },
    {
      "cell_type": "code",
      "execution_count": null,
      "metadata": {
        "_cell_guid": "c8e61bed-2180-ceee-9832-a9140b44103a"
      },
      "outputs": [],
      "source": [
        "sns.barplot(x=\"Fare\",y=\"Survived\",hue='Sex',data=trainingData)"
      ]
    },
    {
      "cell_type": "code",
      "execution_count": null,
      "metadata": {
        "_cell_guid": "ffd84599-106d-9a32-fb2d-63743015a478"
      },
      "outputs": [],
      "source": [
        "from sklearn import preprocessing\n",
        "\n",
        "def encode_features(df_train, df_test):\n",
        "    features = ['Fare','Cabin','Age','Sex','Lname','NamePrefix']\n",
        "    df_combined = pd.concat([df_train[features], df_test[features]])\n",
        "    \n",
        "    for feature in features:\n",
        "        le = preprocessing.LabelEncoder()\n",
        "        le = le.fit(df_combined[feature])\n",
        "        df_train[feature] = le.transform(df_train[feature])\n",
        "        df_test[feature] = le.transform(df_test[feature])\n",
        "    return df_train, df_test\n",
        "\n",
        "trainingData, testData = encode_features(trainingData, testData)"
      ]
    },
    {
      "cell_type": "code",
      "execution_count": null,
      "metadata": {
        "_cell_guid": "56ba1e14-7fbe-cc04-12cf-b9e6a80f954d"
      },
      "outputs": [],
      "source": [
        "from sklearn.model_selection import train_test_split\n",
        "\n",
        "trainingClean = trainingData.drop(['Survived','PassengerId'], axis = 1)\n",
        "yClean = trainingData['Survived']\n",
        "\n",
        "num_test = 0.2\n",
        "trainingClean, X_test, yClean, Y_test = train_test_split(trainingClean,yClean, test_size = num_test, random_state=23)"
      ]
    },
    {
      "cell_type": "code",
      "execution_count": null,
      "metadata": {
        "_cell_guid": "0756c448-e9c1-0866-eeb0-6837d9789c1d"
      },
      "outputs": [],
      "source": [
        "from sklearn.ensemble import RandomForestClassifier\n",
        "from sklearn.metrics import make_scorer, accuracy_score\n",
        "from sklearn.model_selection import GridSearchCV\n",
        "\n",
        "# Choose the type of classifier\n",
        "\n",
        "clf = RandomForestClassifier()\n",
        "\n",
        "# Choose some combination of parameters to try\n",
        "parameters = {'n_estimators': [4, 6, 9],\n",
        "              'max_features':['log2','sqrt','auto'],\n",
        "              'criterion':['entropy','gini'],\n",
        "              'max_depth':[2,3,5,10],\n",
        "              'min_samples_split':[2,3,5],\n",
        "              'min_samples_leaf':[1,5,8]\n",
        "              }\n",
        "\n",
        "# Type of scoring used to compare parameter combinations\n",
        "\n",
        "acc_scorer = make_scorer(accuracy_score)\n",
        "\n",
        "# Run the Grid Search\n",
        "grid_obj = GridSearchCV(clf,parameters,scoring=acc_scorer)\n",
        "grid_obj = grid_obj.fit(trainingClean,yClean)\n",
        "\n",
        "# Set the clf to the best combination of parameters\n",
        "clf = grid_obj.best_estimator_\n",
        "\n",
        "# Fit the best alorithm to the data\n",
        "clf.fit(trainingClean,yClean)"
      ]
    },
    {
      "cell_type": "code",
      "execution_count": null,
      "metadata": {
        "_cell_guid": "95f9e5f0-1c80-b0a9-dae4-8329196fd9b3"
      },
      "outputs": [],
      "source": [
        "prediction = clf.predict(X_test)\n",
        "deciacc = accuracy_score(prediction,Y_test)\n",
        "print(str(deciacc * 100) + \"% accuracy\")"
      ]
    },
    {
      "cell_type": "code",
      "execution_count": null,
      "metadata": {
        "_cell_guid": "6d6b0281-2876-18c9-770e-87c517cf9411"
      },
      "outputs": [],
      "source": [
        "from sklearn.cross_validation import KFold\n",
        "\n",
        "def run_kfold(clf):\n",
        "    kf = KFold(891, n_folds=10)\n",
        "    outcomes = []\n",
        "    fold = 0\n",
        "    for train_index, test_index in kf:\n",
        "        fold +=1\n",
        "        trainingData, X_test = trainingClean.values[train_index], trainingClean.values[test_index]\n",
        "        yClean, Y_test = y_all.values[train_index], y_all.values[test_index]\n",
        "        clf.fit(X_train, Y_train)\n",
        "        predictions = clf.predict(X_test)\n",
        "        accuracy = accuracy_score(Y_test,predictions)\n",
        "        outcomes.append(accuracy)\n",
        "        print(\"Fold {0} accuracY: {1}\".format(fold,accuracy))\n",
        "    mean_outcome = np.mean(outcomes)\n",
        "    print(\"Mean Accuracy: {0}\".format(mean_outcome))\n",
        "\n",
        "    \n",
        "run_kfold(clf)"
      ]
    },
    {
      "cell_type": "code",
      "execution_count": null,
      "metadata": {
        "_cell_guid": "c83d89e4-079e-5d81-7890-5dbb42b4733b"
      },
      "outputs": [],
      "source": [
        "ids = testData['PassengerId']\n",
        "predictions = clf.predict(data_test.drop('PassengerId', axis=1))\n",
        "\n",
        "output = pd.DataFrame({'PassengerId':ids, 'Survived':predictions })\n",
        "\n",
        "output.to_csv('Titanic-predictions.csv', index = False)"
      ]
    },
    {
      "cell_type": "code",
      "execution_count": null,
      "metadata": {
        "_cell_guid": "842fcd4e-fb05-8175-070a-38c17f70c654"
      },
      "outputs": [],
      "source": [
        ""
      ]
    },
    {
      "cell_type": "code",
      "execution_count": null,
      "metadata": {
        "_cell_guid": "4b1624c9-5402-780e-2c23-8a7c7e584820"
      },
      "outputs": [],
      "source": [
        ""
      ]
    }
  ],
  "metadata": {
    "_change_revision": 0,
    "_is_fork": false,
    "kernelspec": {
      "display_name": "Python 3",
      "language": "python",
      "name": "python3"
    },
    "language_info": {
      "codemirror_mode": {
        "name": "ipython",
        "version": 3
      },
      "file_extension": ".py",
      "mimetype": "text/x-python",
      "name": "python",
      "nbconvert_exporter": "python",
      "pygments_lexer": "ipython3",
      "version": "3.6.0"
    }
  },
  "nbformat": 4,
  "nbformat_minor": 0
}