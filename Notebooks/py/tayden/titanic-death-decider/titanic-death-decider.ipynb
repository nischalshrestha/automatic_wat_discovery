{
  "cells": [
    {
      "cell_type": "markdown",
      "metadata": {
        "_cell_guid": "a52f11e2-b49a-bc82-fe03-765b797e63b7"
      },
      "source": [
        "First the data is loaded into Pandas data frames"
      ]
    },
    {
      "cell_type": "code",
      "execution_count": null,
      "metadata": {
        "_cell_guid": "2f80e0fa-2b27-3d9c-49ab-c4130000d8d8"
      },
      "outputs": [],
      "source": [
        "import numpy as np\n",
        "import pandas as pd # data processing, CSV file I/O (e.g. pd.read_csv)\n",
        "\n",
        "# Read the input datasets\n",
        "train_data = pd.read_csv('../input/train.csv')\n",
        "test_data = pd.read_csv('../input/test.csv')\n",
        "\n",
        "# Fill missing numeric values with median for that column\n",
        "train_data['Age'].fillna(train_data['Age'].mean(), inplace=True)\n",
        "test_data['Age'].fillna(test_data['Age'].mean(), inplace=True)\n",
        "test_data['Fare'].fillna(test_data['Fare'].mean(), inplace=True)\n",
        "\n",
        "print(train_data.info())\n",
        "print(test_data.info())"
      ]
    },
    {
      "cell_type": "markdown",
      "metadata": {
        "_cell_guid": "37944f51-e2d4-2075-8a66-99312528bc3e"
      },
      "source": [
        "Next select a subset of our train_data to use for training the model"
      ]
    },
    {
      "cell_type": "code",
      "execution_count": null,
      "metadata": {
        "_cell_guid": "9906ca9e-d181-30b3-a90a-0bc6d87771fe"
      },
      "outputs": [],
      "source": [
        "# Encode sex as int 0=female, 1=male\n",
        "train_data['Sex'] = train_data['Sex'].apply(lambda x: int(x == 'male'))\n",
        "\n",
        "# Extract the features we want to use\n",
        "X = train_data[['Pclass', 'Sex', 'Age', 'Fare', 'SibSp', 'Parch']].as_matrix()\n",
        "print(np.shape(X))\n",
        "\n",
        "# Extract survival target\n",
        "y = train_data[['Survived']].values.ravel()\n",
        "print(np.shape(y))"
      ]
    },
    {
      "cell_type": "markdown",
      "metadata": {
        "_cell_guid": "b972cddf-01a5-e59e-a958-1aad99652ba6"
      },
      "source": [
        "Now train the SVM classifier and get validation accuracy using K-Folds cross validation"
      ]
    },
    {
      "cell_type": "code",
      "execution_count": null,
      "metadata": {
        "_cell_guid": "9cc858d1-dbd9-fb62-a4bb-de6760ec0688"
      },
      "outputs": [],
      "source": [
        "from sklearn.svm import SVC\n",
        "from sklearn.model_selection import KFold, cross_val_score\n",
        "from sklearn.preprocessing import MinMaxScaler\n",
        "\n",
        "# Build the classifier\n",
        "kf = KFold(n_splits=3)\n",
        "model = SVC(kernel='rbf', C=300)\n",
        "\n",
        "scores = []\n",
        "for train, test in kf.split(X):\n",
        "    # Normalize training and test data using train data norm parameters\n",
        "    normalizer = MinMaxScaler().fit(X[train])\n",
        "    X_train = normalizer.transform(X[train])\n",
        "    X_test = normalizer.transform(X[test])\n",
        "    \n",
        "    scores.append(model.fit(X_train, y[train]).score(X_test, y[test]))\n",
        "    \n",
        "print(\"Mean 3-fold cross validation accuracy: %s\" % np.mean(scores))"
      ]
    },
    {
      "cell_type": "markdown",
      "metadata": {
        "_cell_guid": "ea285d26-6b55-dc59-4fe2-199171b94887"
      },
      "source": [
        "Make predictions on the test data and output the results"
      ]
    },
    {
      "cell_type": "code",
      "execution_count": null,
      "metadata": {
        "_cell_guid": "2320e2c6-43cd-12f8-f162-8bebcc121497"
      },
      "outputs": [],
      "source": [
        "# Create model with all training data\n",
        "normalizer = MinMaxScaler().fit(X)\n",
        "X = normalizer.transform(X)\n",
        "classifier = model.fit(X, y)\n",
        "\n",
        "# Encode sex as int 0=female, 1=male\n",
        "test_data['Sex'] = test_data['Sex'].apply(lambda x: int(x == 'male'))\n",
        "\n",
        "# Extract desired features\n",
        "X_ = test_data[['Pclass', 'Sex', 'Age', 'Fare', 'SibSp', 'Parch']].as_matrix()\n",
        "X_ = normalizer.transform(X_)\n",
        "\n",
        "# Predict if passengers survived using model\n",
        "y_ = classifier.predict(X_)\n",
        "\n",
        "# Append the survived attribute to the test data\n",
        "test_data['Survived'] = y_\n",
        "predictions = test_data[['PassengerId', 'Survived']]\n",
        "print(predictions)\n",
        "\n",
        "# Save the output for submission\n",
        "predictions.to_csv('submission.csv', index=False)"
      ]
    }
  ],
  "metadata": {
    "_change_revision": 0,
    "_is_fork": false,
    "kernelspec": {
      "display_name": "Python 3",
      "language": "python",
      "name": "python3"
    },
    "language_info": {
      "codemirror_mode": {
        "name": "ipython",
        "version": 3
      },
      "file_extension": ".py",
      "mimetype": "text/x-python",
      "name": "python",
      "nbconvert_exporter": "python",
      "pygments_lexer": "ipython3",
      "version": "3.5.2"
    }
  },
  "nbformat": 4,
  "nbformat_minor": 0
}