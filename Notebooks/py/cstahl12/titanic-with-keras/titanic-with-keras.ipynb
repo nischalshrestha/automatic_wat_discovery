{
  "cells": [
    {
      "cell_type": "markdown",
      "metadata": {
        "_cell_guid": "f7a31ceb-83b3-cabd-129a-6ebd25397d59"
      },
      "source": [
        "## Background\n",
        "This kernel is intended to use Keras on the classic Titanic survivors dataset.  It is assuming that you are familiar with the titanic survivors data and skips most of the very necessary EDA. <br />\n",
        "Specifically I want to see if some of the SibSp and Parch feature engineering can be avoided by using a deep learning architecture and still get a decent enough score."
      ]
    },
    {
      "cell_type": "markdown",
      "metadata": {
        "_cell_guid": "4b0883e8-5faf-ee0d-21ec-017aaaa37995"
      },
      "source": [
        "## Load environment"
      ]
    },
    {
      "cell_type": "code",
      "execution_count": null,
      "metadata": {
        "_cell_guid": "3c9f4cd5-e26b-76ee-e9c4-500d9a02fb4a"
      },
      "outputs": [],
      "source": [
        "from __future__ import print_function\n",
        "import numpy as np\n",
        "import pandas as pd\n",
        "from keras.models import Sequential\n",
        "from keras.optimizers import SGD, RMSprop, Adam\n",
        "from keras.layers import Dense, Activation, Dropout"
      ]
    },
    {
      "cell_type": "code",
      "execution_count": null,
      "metadata": {
        "_cell_guid": "672c9f76-99c3-c7b5-2f37-15b1d6ea874a"
      },
      "outputs": [],
      "source": [
        "raw_train = pd.read_csv('../input/train.csv', index_col=0)\n",
        "raw_train['is_test'] = 0\n",
        "raw_test = pd.read_csv('../input/test.csv', index_col=0)\n",
        "raw_test['is_test'] = 1"
      ]
    },
    {
      "cell_type": "code",
      "execution_count": null,
      "metadata": {
        "_cell_guid": "29892057-8c8a-2f7f-4d81-cca5fc4c2cc3"
      },
      "outputs": [],
      "source": [
        "all_data = pd.concat((raw_train, raw_test), axis=0)"
      ]
    },
    {
      "cell_type": "markdown",
      "metadata": {
        "_cell_guid": "c18f9750-9d6e-7594-8c52-ea61547c5ccd"
      },
      "source": [
        "## Functions to preprocess the data"
      ]
    },
    {
      "cell_type": "code",
      "execution_count": null,
      "metadata": {
        "_cell_guid": "86457f98-c736-91ad-3add-079a6a61ccae"
      },
      "outputs": [],
      "source": [
        "def get_title_last_name(name):\n",
        "    full_name = name.str.split(', ', n=0, expand=True)\n",
        "    last_name = full_name[0]\n",
        "    titles = full_name[1].str.split('.', n=0, expand=True)\n",
        "    titles = titles[0]\n",
        "    return(titles)\n",
        "\n",
        "def get_titles_from_names(df):\n",
        "    df['Title'] = get_title_last_name(df['Name'])\n",
        "    df = df.drop(['Name'], axis=1)\n",
        "    return(df)\n",
        "\n",
        "def get_dummy_cats(df):\n",
        "    return(pd.get_dummies(df, columns=['Title', 'Pclass', 'Sex', 'Embarked',\n",
        "                                       'Cabin', 'Cabin_letter']))\n",
        "\n",
        "def get_cabin_letter(df):    \n",
        "    df['Cabin'].fillna('Z', inplace=True)\n",
        "    df['Cabin_letter'] = df['Cabin'].str[0]    \n",
        "    return(df)\n",
        "\n",
        "def process_data(df):\n",
        "    # preprocess titles, cabin, embarked\n",
        "    df = get_titles_from_names(df)    \n",
        "    df['Embarked'].fillna('S', inplace=True)\n",
        "    df = get_cabin_letter(df)\n",
        "    \n",
        "    # drop remaining features\n",
        "    df = df.drop(['Ticket', 'Fare'], axis=1)\n",
        "    \n",
        "    # create dummies for categorial features\n",
        "    df = get_dummy_cats(df)\n",
        "    \n",
        "    return(df)\n",
        "\n",
        "proc_data = process_data(all_data)\n",
        "proc_train = proc_data[proc_data['is_test'] == 0]\n",
        "proc_test = proc_data[proc_data['is_test'] == 1]"
      ]
    },
    {
      "cell_type": "code",
      "execution_count": null,
      "metadata": {
        "_cell_guid": "4aa439d3-32d6-5288-d1ef-96f644fe38e5"
      },
      "outputs": [],
      "source": [
        "proc_data.head()"
      ]
    },
    {
      "cell_type": "markdown",
      "metadata": {
        "_cell_guid": "d786ec5b-d97a-01fe-f3ff-61f3a606bb2f"
      },
      "source": [
        "## Build Network to predict missing ages"
      ]
    },
    {
      "cell_type": "code",
      "execution_count": null,
      "metadata": {
        "_cell_guid": "0eb190e1-9ec8-5645-04e7-b65f94b7c6ff"
      },
      "outputs": [],
      "source": [
        "for_age_train = proc_data.drop(['Survived', 'is_test'], axis=1).dropna(axis=0)\n",
        "X_train_age = for_age_train.drop('Age', axis=1)\n",
        "y_train_age = for_age_train['Age']"
      ]
    },
    {
      "cell_type": "code",
      "execution_count": null,
      "metadata": {
        "_cell_guid": "14fd61c4-0947-4912-5c57-0cb3bbaf9c39"
      },
      "outputs": [],
      "source": [
        "# create model\n",
        "tmodel = Sequential()\n",
        "tmodel.add(Dense(input_dim=X_train_age.shape[1], units=128,\n",
        "                 kernel_initializer='normal', bias_initializer='zeros'))\n",
        "tmodel.add(Activation('relu'))\n",
        "\n",
        "for i in range(0, 8):\n",
        "    tmodel.add(Dense(units=64, kernel_initializer='normal',\n",
        "                     bias_initializer='zeros'))\n",
        "    tmodel.add(Activation('relu'))\n",
        "    tmodel.add(Dropout(.25))\n",
        "\n",
        "tmodel.add(Dense(units=1))\n",
        "tmodel.add(Activation('linear'))\n",
        "\n",
        "tmodel.compile(loss='mean_squared_error', optimizer='rmsprop')"
      ]
    },
    {
      "cell_type": "code",
      "execution_count": null,
      "metadata": {
        "_cell_guid": "51ce31d7-d73c-8858-0f9c-5d128e8dfd91"
      },
      "outputs": [],
      "source": [
        "tmodel.fit(X_train_age.values, y_train_age.values, epochs=600, verbose=2)"
      ]
    },
    {
      "cell_type": "code",
      "execution_count": null,
      "metadata": {
        "_cell_guid": "74cba856-7b7e-b984-5c08-cc57519dc733"
      },
      "outputs": [],
      "source": [
        "train_data = proc_train\n",
        "train_data.loc[train_data['Age'].isnull()]"
      ]
    },
    {
      "cell_type": "code",
      "execution_count": null,
      "metadata": {
        "_cell_guid": "901b429c-fb1b-3815-c966-c7c871b93767"
      },
      "outputs": [],
      "source": [
        "to_pred = train_data.loc[train_data['Age'].isnull()].drop(\n",
        "          ['Age', 'Survived', 'is_test'], axis=1)\n",
        "p = tmodel.predict(to_pred.values)\n",
        "train_data['Age'].loc[train_data['Age'].isnull()] = p"
      ]
    },
    {
      "cell_type": "code",
      "execution_count": null,
      "metadata": {
        "_cell_guid": "e3061f40-6fbd-72b0-7dc2-637f4a16b95c"
      },
      "outputs": [],
      "source": [
        "test_data = proc_test\n",
        "to_pred = test_data.loc[test_data['Age'].isnull()].drop(\n",
        "          ['Age', 'Survived', 'is_test'], axis=1)\n",
        "p = tmodel.predict(to_pred.values)\n",
        "test_data['Age'].loc[test_data['Age'].isnull()] = p"
      ]
    },
    {
      "cell_type": "code",
      "execution_count": null,
      "metadata": {
        "_cell_guid": "1dc61b8b-741f-88c2-44d6-a0f92ad00b10"
      },
      "outputs": [],
      "source": [
        "train_data.loc[train_data['Age'].isnull()]"
      ]
    },
    {
      "cell_type": "code",
      "execution_count": null,
      "metadata": {
        "_cell_guid": "7897904a-743d-eff5-0e41-d2f2dd882e44"
      },
      "outputs": [],
      "source": [
        "y = pd.get_dummies(train_data['Survived'])\n",
        "y.head()"
      ]
    },
    {
      "cell_type": "code",
      "execution_count": null,
      "metadata": {
        "_cell_guid": "b6011b47-1a3b-2c48-22a1-9d8d6f4c8ce4"
      },
      "outputs": [],
      "source": [
        "X = train_data.drop(['Survived', 'is_test'], axis=1)"
      ]
    },
    {
      "cell_type": "code",
      "execution_count": null,
      "metadata": {
        "_cell_guid": "c96d4f12-e49f-2bea-259b-6cdf3f60c972"
      },
      "outputs": [],
      "source": [
        "# create model\n",
        "model = Sequential()\n",
        "model.add(Dense(input_dim=X.shape[1], units=128,\n",
        "                 kernel_initializer='normal', bias_initializer='zeros'))\n",
        "model.add(Activation('relu'))\n",
        "\n",
        "for i in range(0, 15):\n",
        "    model.add(Dense(units=128, kernel_initializer='normal',\n",
        "                     bias_initializer='zeros'))\n",
        "    model.add(Activation('relu'))\n",
        "    model.add(Dropout(.40))\n",
        "\n",
        "model.add(Dense(units=2))\n",
        "model.add(Activation('softmax'))\n",
        "\n",
        "model.compile(loss='categorical_crossentropy', optimizer='adam', metrics=['accuracy'])"
      ]
    },
    {
      "cell_type": "code",
      "execution_count": null,
      "metadata": {
        "_cell_guid": "0b15d718-1c58-1df1-58b1-c89b808a8a0f"
      },
      "outputs": [],
      "source": [
        "model.fit(X.values, y.values, epochs=500, verbose=2)"
      ]
    },
    {
      "cell_type": "code",
      "execution_count": null,
      "metadata": {
        "_cell_guid": "2ba83ed4-995d-f8de-e1d4-ff97c590944e"
      },
      "outputs": [],
      "source": [
        "test_data.columns"
      ]
    },
    {
      "cell_type": "code",
      "execution_count": null,
      "metadata": {
        "_cell_guid": "fa895029-3378-093c-4c90-cde4946377aa"
      },
      "outputs": [],
      "source": [
        "p_survived = model.predict_classes(test_data.drop(['Survived', 'is_test'], axis=1).values)"
      ]
    },
    {
      "cell_type": "code",
      "execution_count": null,
      "metadata": {
        "_cell_guid": "6f31c131-e052-530e-937a-ccc512b2101f"
      },
      "outputs": [],
      "source": [
        "submission = pd.DataFrame()\n",
        "submission['PassengerId'] = test_data.index\n",
        "submission['Survived'] = p_survived"
      ]
    },
    {
      "cell_type": "code",
      "execution_count": null,
      "metadata": {
        "_cell_guid": "ee29b156-f274-bbdf-0666-fa01682a02dd"
      },
      "outputs": [],
      "source": [
        "submission.shape"
      ]
    },
    {
      "cell_type": "code",
      "execution_count": null,
      "metadata": {
        "_cell_guid": "a7eb3225-0c37-d9f9-dcff-59598ec5b611"
      },
      "outputs": [],
      "source": [
        "submission.to_csv('titanic_keras_cs.csv', index=False)"
      ]
    }
  ],
  "metadata": {
    "_change_revision": 0,
    "_is_fork": false,
    "kernelspec": {
      "display_name": "Python 3",
      "language": "python",
      "name": "python3"
    },
    "language_info": {
      "codemirror_mode": {
        "name": "ipython",
        "version": 3
      },
      "file_extension": ".py",
      "mimetype": "text/x-python",
      "name": "python",
      "nbconvert_exporter": "python",
      "pygments_lexer": "ipython3",
      "version": "3.6.0"
    }
  },
  "nbformat": 4,
  "nbformat_minor": 0
}