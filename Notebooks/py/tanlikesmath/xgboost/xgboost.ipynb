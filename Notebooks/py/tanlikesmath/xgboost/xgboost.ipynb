{
  "cells": [
    {
      "cell_type": "markdown",
      "metadata": {
        "_cell_guid": "2b93c35e-bb23-9925-9239-7ffbc9898d62"
      },
      "source": [
        "Import\n",
        "======="
      ]
    },
    {
      "cell_type": "code",
      "execution_count": null,
      "metadata": {
        "_cell_guid": "6442a6d9-b313-bd54-9ce8-ed9ea26c62f4"
      },
      "outputs": [],
      "source": [
        "import xgboost as xgb\n",
        "import pandas as pd\n",
        "from sklearn.preprocessing import LabelEncoder\n",
        "import numpy as np"
      ]
    },
    {
      "cell_type": "markdown",
      "metadata": {
        "_cell_guid": "5cc91e2a-1e00-789d-9026-78f68f76b690"
      },
      "source": [
        "Load the data\n",
        "======="
      ]
    },
    {
      "cell_type": "code",
      "execution_count": null,
      "metadata": {
        "_cell_guid": "cbdd07db-d3c5-8440-08b2-8ed53116309a"
      },
      "outputs": [],
      "source": [
        "titanic = pd.read_csv('../input/train.csv', header=0)\n",
        "titanic_test = pd.read_csv('../input/test.csv', header=0)\n",
        "predictors = [\"Pclass\", \"Sex\", \"Age\", \"SibSp\", \"Parch\", \"Fare\", \"Embarked\"]"
      ]
    },
    {
      "cell_type": "markdown",
      "metadata": {
        "_cell_guid": "926f6fa6-2de9-adff-977b-3e6d53683164"
      },
      "source": [
        "Imputing\n",
        "======="
      ]
    },
    {
      "cell_type": "code",
      "execution_count": null,
      "metadata": {
        "_cell_guid": "23124368-089b-b2e2-e598-0f2ff3f1d56a"
      },
      "outputs": [],
      "source": [
        "titanic[\"Age\"] = titanic[\"Age\"].fillna(titanic[\"Age\"].median())\n",
        "# Replace all the occurences of male with the number 0.\n",
        "titanic.loc[titanic[\"Sex\"] == \"male\", \"Sex\"] = 0\n",
        "# Replace all the occurences of female with the number 1.\n",
        "titanic.loc[titanic[\"Sex\"] == \"female\", \"Sex\"] = 1\n",
        "\n",
        "titanic[\"Embarked\"] = titanic[\"Embarked\"].fillna(\"S\")\n",
        "titanic.loc[titanic[\"Embarked\"] == \"S\", \"Embarked\"] = 0\n",
        "titanic.loc[titanic[\"Embarked\"] == \"C\", \"Embarked\"] = 1\n",
        "titanic.loc[titanic[\"Embarked\"] == \"Q\", \"Embarked\"] = 2\n",
        "\n",
        "# Repeat with test dataset\n",
        "titanic_test[\"Age\"] = titanic_test[\"Age\"].fillna(titanic[\"Age\"].median())\n",
        "titanic_test[\"Fare\"] = titanic_test[\"Fare\"].fillna(titanic_test[\"Fare\"].median())\n",
        "titanic_test.loc[titanic_test[\"Sex\"] == \"male\", \"Sex\"] = 0 \n",
        "titanic_test.loc[titanic_test[\"Sex\"] == \"female\", \"Sex\"] = 1\n",
        "titanic_test[\"Embarked\"] = titanic_test[\"Embarked\"].fillna(\"S\")\n",
        "\n",
        "titanic_test.loc[titanic_test[\"Embarked\"] == \"S\", \"Embarked\"] = 0\n",
        "titanic_test.loc[titanic_test[\"Embarked\"] == \"C\", \"Embarked\"] = 1\n",
        "titanic_test.loc[titanic_test[\"Embarked\"] == \"Q\", \"Embarked\"] = 2"
      ]
    },
    {
      "cell_type": "markdown",
      "metadata": {
        "_cell_guid": "0aec6e75-ecab-7236-506f-aeb9344b5e88"
      },
      "source": [
        "XGBoost\n",
        "======="
      ]
    },
    {
      "cell_type": "code",
      "execution_count": null,
      "metadata": {
        "_cell_guid": "5e8deb5c-48d1-b7ff-c221-d1832e5cbf3e"
      },
      "outputs": [],
      "source": [
        "train_X = titanic[predictors].as_matrix()\n",
        "test_X = titanic_test[predictors].as_matrix()\n",
        "train_y = titanic[\"Survived\"]\n",
        "gbm = xgb.XGBClassifier(max_depth=3, n_estimators=300, learning_rate=0.05).fit(train_X, train_y)\n",
        "gbm = xgb.XGBClassifier(max_depth=3, n_estimators=300, learning_rate=0.05).fit(train_X, train_y)\n",
        "predictions = gbm.predict(train_X)\n",
        "accuracy = sum(predictions[predictions == titanic[\"Survived\"]]) / len(predictions)\n",
        "print(accuracy)\n",
        "\n",
        "#\n",
        "predictions = gbm.predict(test_X)\n",
        "submission = pd.DataFrame({ 'PassengerId': titanic_test['PassengerId'],\n",
        "                            'Survived': predictions })\n",
        "submission.to_csv(\"submission.csv\", index=False)"
      ]
    }
  ],
  "metadata": {
    "_change_revision": 0,
    "_is_fork": false,
    "kernelspec": {
      "display_name": "Python 3",
      "language": "python",
      "name": "python3"
    },
    "language_info": {
      "codemirror_mode": {
        "name": "ipython",
        "version": 3
      },
      "file_extension": ".py",
      "mimetype": "text/x-python",
      "name": "python",
      "nbconvert_exporter": "python",
      "pygments_lexer": "ipython3",
      "version": "3.5.2"
    }
  },
  "nbformat": 4,
  "nbformat_minor": 0
}