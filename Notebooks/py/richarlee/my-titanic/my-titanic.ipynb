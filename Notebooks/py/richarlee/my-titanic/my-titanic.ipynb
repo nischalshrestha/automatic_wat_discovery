{
  "cells": [
    {
      "cell_type": "markdown",
      "metadata": {
        "_cell_guid": "9177aa34-b356-2905-8155-9473ac669f01"
      },
      "source": ""
    },
    {
      "cell_type": "code",
      "execution_count": null,
      "metadata": {
        "_cell_guid": "2556f77c-f246-20c6-27eb-42771d1c48c6"
      },
      "outputs": [],
      "source": [
        "#-*- coding: utf-8 -*-\n",
        "%matplotlib inline\n",
        "import csv as csv\n",
        "from scipy import stats, integrate\n",
        "import numpy as np\n",
        "import pandas as pd\n",
        "from sklearn.ensemble import RandomForestClassifier as RF\n",
        "from sklearn.ensemble import RandomForestRegressor as RFR\n",
        "from sklearn import linear_model\n",
        "from sklearn import cross_validation\n",
        "from sklearn.ensemble import BaggingRegressor\n",
        "import sklearn.preprocessing as pp\n",
        "from sklearn.grid_search import GridSearchCV\n",
        "\n",
        "import matplotlib.pyplot as plt\n",
        "import seaborn as sns\n",
        "import time\n",
        "\n",
        "import warnings\n",
        "warnings.filterwarnings('ignore')"
      ]
    },
    {
      "cell_type": "markdown",
      "metadata": {
        "_cell_guid": "0070206d-1e64-5fac-f5ab-f32edaad812c"
      },
      "source": ""
    },
    {
      "cell_type": "code",
      "execution_count": null,
      "metadata": {
        "_cell_guid": "8b173acb-61ca-c5e0-d42e-b5a6e07e9783"
      },
      "outputs": [],
      "source": [
        "data_train = pd.read_csv('../input/train.csv')#dataframe\n",
        "data_train.isnull().any()\n",
        "data_train.Embarked.value_counts()"
      ]
    },
    {
      "cell_type": "code",
      "execution_count": null,
      "metadata": {
        "_cell_guid": "4587b1fa-4409-b21f-f247-035ac5e9c70c"
      },
      "outputs": [],
      "source": [
        "fig, axes = plt.subplots(1,3,figsize=(20,5))\n",
        "\n",
        "sns.countplot(x='Survived',data=data_train,ax=axes[0])\n",
        "sns.countplot(x='Embarked',hue='Survived',data=data_train,ax=axes[1])\n",
        "sns.countplot(x='Pclass',hue='Survived',data=data_train,ax=axes[2])\n",
        "\n",
        "facet = sns.FacetGrid(data_train,col=\"Survived\",hue='Pclass',aspect=2)\n",
        "facet.map(sns.distplot,'Age',hist=False)\n",
        "facet.set(xlim=(0, data_train['Age'].max()))\n"
      ]
    },
    {
      "cell_type": "code",
      "execution_count": null,
      "metadata": {
        "_cell_guid": "46765ef4-73c1-31ac-7fcb-f69235c3e2c4"
      },
      "outputs": [],
      "source": [
        "data_train.isnull().any()"
      ]
    },
    {
      "cell_type": "code",
      "execution_count": null,
      "metadata": {
        "_cell_guid": "fe2cc706-4fec-bd96-8748-1e0447f544de"
      },
      "outputs": [],
      "source": [
        "def dummy_data(data):\n",
        "#     dummies_Embarked = pd.get_dummies(data['Embarked'],prefix='Embarked')\n",
        "    dummies_Sex = pd.get_dummies(data['Sex'],prefix='Sex')\n",
        "    dummies_Pclass = pd.get_dummies(data['Pclass'],prefix='Pclass')\n",
        "\n",
        "    df = pd.concat([data,dummies_Sex,dummies_Pclass],axis=1)\n",
        "    df.drop(['Embarked','Pclass','Sex'], axis=1, inplace=True)\n",
        "    return df\n",
        "\n",
        "df = data_train.drop(['Ticket','Cabin','Name'],axis=1)\n",
        "df = dummy_data(df)\n",
        "df"
      ]
    },
    {
      "cell_type": "code",
      "execution_count": null,
      "metadata": {
        "_cell_guid": "c1a259e4-ea35-ee72-5aad-53c51faf027f"
      },
      "outputs": [],
      "source": [
        "\n",
        "#\u9884\u6d4b\u4e22\u5931\u5e74\u9f84\n",
        "def set_missing_ages(df):\n",
        "    \n",
        "    age_df = df[['Age','Pclass_1','Pclass_2','Pclass_3','SibSp','Parch','Fare','Sex_female','Sex_male']]\n",
        "    \n",
        "    known_age = age_df[age_df.Age.notnull()].as_matrix()\n",
        "    unknown_age = age_df[age_df.Age.isnull()].as_matrix()\n",
        "    \n",
        "    y = known_age[:,0]\n",
        "    \n",
        "    X = known_age[:,1:]\n",
        "    \n",
        "    rfr = RFR(random_state=0, n_estimators=2000, n_jobs=-1)\n",
        "    rfr.fit(X, y)\n",
        "    if len(unknown_age) > 0:\n",
        "        predictedAges = rfr.predict(unknown_age[:,1:])\n",
        "        df.loc[(df.Age.isnull()),'Age'] = predictedAges\n",
        "    \n",
        "    return df, rfr\n",
        "\n",
        "df, rfr = set_missing_ages(df)\n",
        "\n",
        "df"
      ]
    },
    {
      "cell_type": "code",
      "execution_count": null,
      "metadata": {
        "_cell_guid": "e4bbda22-7e1c-69cb-57f2-39eeb6ffebcd"
      },
      "outputs": [],
      "source": [
        "#\u6784\u5efa\u7968\u4ef7\u9884\u6d4b\u6a21\u578b\n",
        "\n",
        "fare_df = df.filter(regex='Fare|SibSp|Parch|Sex_.*|Pclass_.*')\n",
        "fare_data = fare_df.Fare\n",
        "fare_df.drop(['Fare'],axis=1,inplace=True)\n",
        "fare_df.insert(0,'Fare',fare_data)\n",
        "fare_df = fare_df.dropna().as_matrix()\n",
        "\n",
        "y = fare_df[:,0]\n",
        "\n",
        "X = fare_df[:,1:]\n",
        "\n",
        "fare_rfr = RFR(random_state=0, n_estimators=2000, n_jobs=-1)\n",
        "fare_rfr.fit(X, y)"
      ]
    },
    {
      "cell_type": "code",
      "execution_count": null,
      "metadata": {
        "_cell_guid": "a61f2c64-1830-e22d-15e8-fc22c25ae8f5"
      },
      "outputs": [],
      "source": [
        "scaler = pp.StandardScaler()\n",
        "age_scale_param = scaler.fit(df.Age.reshape(-1,1))\n",
        "df['Age_Scaled'] = scaler.fit_transform(df.Age.reshape(-1,1), age_scale_param)\n",
        "\n",
        "fare_scale_param = scaler.fit(df.Fare.reshape(-1,1))\n",
        "df['Fare_Scaled'] = scaler.fit_transform(df.Fare.reshape(-1,1), fare_scale_param)\n",
        "df.drop(['Age', 'Fare'], axis=1, inplace=True)\n",
        "df.isnull().any()"
      ]
    },
    {
      "cell_type": "code",
      "execution_count": null,
      "metadata": {
        "_cell_guid": "75278ce9-60a9-9310-8ed6-138d0a53ed9b"
      },
      "outputs": [],
      "source": [
        "train_np = df.as_matrix()\n",
        "df.isnull().any()\n",
        "\n",
        "y = train_np[:,1]\n",
        "\n",
        "X = train_np[:,2:]\n",
        "\n",
        "lr_clf = linear_model.LogisticRegression(C=1.0, penalty='l1', tol=1e-6)\n",
        "# clf.fit(X,y)\n",
        "# clf\n",
        "\n",
        "def pretty_print_linear(coefs, names = None, sort = False):\n",
        "    if names == None:\n",
        "        names = [\"X%s\" % x for x in range(len(coefs))]\n",
        "        print(names)\n",
        "    lst = zip(coefs, names)\n",
        "    if sort:\n",
        "        lst = sorted(lst,  key = lambda x:-np.abs(x[0]))\n",
        "    return \" + \".join(\"%s * %s\" % (np.round(coef, 3), name) for coef, name in lst)\n",
        "\n",
        "# pretty_print_linear(clf.coef_[0],names=df.columns[2:].values)\n",
        "# clf.coef_\n",
        "\n",
        "df.corrwith(df.Survived)"
      ]
    },
    {
      "cell_type": "code",
      "execution_count": null,
      "metadata": {
        "_cell_guid": "48be8215-4a78-4ca2-b0bd-66827152803e"
      },
      "outputs": [],
      "source": [
        "# pd.DataFrame({'columns':list(df.columns)[2:],'coef':list(clf.coef_.T)})\n",
        "# df.value_counts()"
      ]
    },
    {
      "cell_type": "code",
      "execution_count": null,
      "metadata": {
        "_cell_guid": "af0f6e27-d4e8-1079-60b7-5ac80c030432"
      },
      "outputs": [],
      "source": [
        "#\u4ea4\u53c9\u9a8c\u8bc1\u7279\u6027\u76f8\u5173\u6027\n",
        "cross_validation.cross_val_score(lr_clf,X,y,cv=5)\n",
        "# split_train, split_cv = cross_validation.train_test_split(df, test_size=0.3, random_state=0)\n",
        "# clf.fit(split_train.as_matrix()[:,2:],split_train.as_matrix()[:,1])\n",
        "\n",
        "# #\u9884\u6d4bcv\u6570\u636e\n",
        "# predict_cv = clf.predict(split_cv.as_matrix()[:,2:])\n",
        "# bad_cases = data_train.loc[data_train.PassengerId.isin(split_cv[split_cv.as_matrix()[:,1] != predict_cv]['PassengerId'].values)]\n",
        "# bad_cases\n",
        "# len(bad_cases)"
      ]
    },
    {
      "cell_type": "code",
      "execution_count": null,
      "metadata": {
        "_cell_guid": "aa2bf84e-c012-4659-0a55-da5b9a18311c"
      },
      "outputs": [],
      "source": [
        "start_time = time.time()\n",
        "params = {'penalty':['l2'],'C':[1.0,10.0,100.0],'solver':['liblinear','sag'],'tol':[1e-4,1e-3,1e-6]}\n",
        "grid_clf = GridSearchCV(lr_clf,params,n_jobs=-1)\n",
        "grid_clf.fit(X,y)\n",
        "print(time.time()-start_time)\n",
        "grid_clf.best_params_"
      ]
    },
    {
      "cell_type": "code",
      "execution_count": null,
      "metadata": {
        "_cell_guid": "3ddbc2f0-4c6a-fc43-130b-a33c46cdc645"
      },
      "outputs": [],
      "source": [
        "rf = RF(n_estimators=100)\n",
        "# rf.fit(X,y)\n",
        "# cross_validation.cross_val_score(rf,X,y,cv=5)\n",
        "# rf.fit(X,y)\n",
        "\n",
        "#bagging\n",
        "# bagging_rf = BaggingRegressor(rf,n_estimators=20,max_samples=0.8,max_features=1.0,bootstrap=True,bootstrap_features=False,n_jobs=-1)\n",
        "# bagging_rf.fit(X,y)\n",
        "bagging_clf = BaggingRegressor(grid_clf,n_estimators=20,max_samples=0.8,max_features=1.0,bootstrap=True,bootstrap_features=False,n_jobs=-1)\n",
        "bagging_clf.fit(X,y)"
      ]
    },
    {
      "cell_type": "code",
      "execution_count": null,
      "metadata": {
        "_cell_guid": "b4cd7b24-32bb-ac31-5ed8-71f124688d42"
      },
      "outputs": [],
      "source": [
        "clf = bagging_clf"
      ]
    },
    {
      "cell_type": "markdown",
      "metadata": {
        "_cell_guid": "832ffd1e-e125-d49d-6125-a74bb5cbe7e6"
      },
      "source": ""
    },
    {
      "cell_type": "code",
      "execution_count": null,
      "metadata": {
        "_cell_guid": "03068355-dc40-e390-80d0-93f4ac61fcaa"
      },
      "outputs": [],
      "source": [
        "data_test = pd.read_csv('../input/test.csv')\n",
        "data_test.isnull().any()"
      ]
    },
    {
      "cell_type": "code",
      "execution_count": null,
      "metadata": {
        "_cell_guid": "7c635cce-2148-8b2c-6a7f-2dd8a6ae140d"
      },
      "outputs": [],
      "source": [
        "test_df = data_test.drop(['Name','Cabin','Ticket'], axis=1)\n",
        "test_df = dummy_data(test_df)\n",
        "test_df"
      ]
    },
    {
      "cell_type": "code",
      "execution_count": null,
      "metadata": {
        "_cell_guid": "efd694ea-216e-b8b7-1f6a-43e5a8fd0451"
      },
      "outputs": [],
      "source": [
        "fare_test = test_df.filter(regex='Fare|SibSp|Parch|Sex_.*|Pclass_.*')\n",
        "fare_temp = fare_test.Fare\n",
        "fare_test.drop(['Fare'],axis=1,inplace=True)\n",
        "fare_test.insert(0,'Fare',fare_temp)\n",
        "\n",
        "predict_fare = fare_rfr.predict(fare_test[(fare_test.Fare.isnull())].as_matrix()[:,1:])\n",
        "test_df.loc[test_df.Fare.isnull(),'Fare'] = predict_fare\n",
        "test_df.isnull().any()"
      ]
    },
    {
      "cell_type": "code",
      "execution_count": null,
      "metadata": {
        "_cell_guid": "60fc3cda-294f-3cc0-12f2-73200e983b1d"
      },
      "outputs": [],
      "source": [
        "age_df = test_df.filter(regex='Age|Fare|SibSp|Parch|Sex_.*|Pclass_.*')\n",
        "age_df.insert(0,'Age',age_df.pop('Age'))\n",
        "predict_ages = rfr.predict(age_df[(age_df.Age.isnull())].as_matrix()[:,1:])\n",
        "test_df.loc[test_df.Age.isnull(),'Age'] = predict_ages\n",
        "test_df.isnull().any()"
      ]
    },
    {
      "cell_type": "code",
      "execution_count": null,
      "metadata": {
        "_cell_guid": "40f89876-ce0e-8f7b-a326-50bb3d31fde0"
      },
      "outputs": [],
      "source": [
        "scaler = pp.StandardScaler()\n",
        "age_scale_param = scaler.fit(test_df.Age.reshape(-1,1))\n",
        "test_df['Age_Scaled'] = scaler.fit_transform(test_df.Age.reshape(-1,1), age_scale_param)\n",
        "\n",
        "fare_scale_param = scaler.fit(test_df.Fare.reshape(-1,1))\n",
        "test_df['Fare_Scaled'] = scaler.fit_transform(test_df.Fare.reshape(-1,1), fare_scale_param)"
      ]
    },
    {
      "cell_type": "code",
      "execution_count": null,
      "metadata": {
        "_cell_guid": "929d15b4-32dd-5607-2b90-fef7b0ff38fe"
      },
      "outputs": [],
      "source": [
        "test_df.drop(['Age', 'Fare'], axis=1, inplace=True)\n",
        "test_df"
      ]
    },
    {
      "cell_type": "code",
      "execution_count": null,
      "metadata": {
        "_cell_guid": "903da907-aed0-3f0d-b313-d3ed54bebe80"
      },
      "outputs": [],
      "source": [
        "test_np = test_df.as_matrix()\n",
        "X = test_np[:,1:]\n",
        "# Y_pred = clf.predict(X)\n",
        "# Y_pred = rf.predict(X)\n",
        "# Y_pred = bagging_rf.predict(X)\n",
        "Y_pred = clf.predict(X)"
      ]
    },
    {
      "cell_type": "code",
      "execution_count": null,
      "metadata": {
        "_cell_guid": "74aa399b-6fe1-a261-fa40-96d8f8e4770b"
      },
      "outputs": [],
      "source": [
        "submission = pd.DataFrame({\n",
        "        \"PassengerId\": data_test[\"PassengerId\"],\n",
        "        \"Survived\": Y_pred.astype(int)\n",
        "    })\n",
        "submission.to_csv('result.csv', index=False)"
      ]
    },
    {
      "cell_type": "code",
      "execution_count": null,
      "metadata": {
        "_cell_guid": "6242631c-09a4-860f-5ec4-8eb7698753b1"
      },
      "outputs": [],
      "source": ""
    }
  ],
  "metadata": {
    "_change_revision": 0,
    "_is_fork": false,
    "kernelspec": {
      "display_name": "Python 3",
      "language": "python",
      "name": "python3"
    },
    "language_info": {
      "codemirror_mode": {
        "name": "ipython",
        "version": 3
      },
      "file_extension": ".py",
      "mimetype": "text/x-python",
      "name": "python",
      "nbconvert_exporter": "python",
      "pygments_lexer": "ipython3",
      "version": "3.5.2"
    }
  },
  "nbformat": 4,
  "nbformat_minor": 0
}