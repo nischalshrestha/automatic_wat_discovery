{
  "cells": [
    {
      "cell_type": "code",
      "execution_count": null,
      "metadata": {
        "_cell_guid": "20b190d3-e064-b14e-27dc-c9b44ead93a8"
      },
      "outputs": [],
      "source": [
        "import numpy as np # linear algebra\n",
        "import pandas as pd # data processing, CSV file I/O (e.g. pd.read_csv)\n",
        "\n",
        "# Visualisation\n",
        "import matplotlib.pyplot as plt\n",
        "%matplotlib inline\n",
        "import seaborn as sns\n",
        "\n",
        "# Machine Learning\n",
        "from sklearn.preprocessing import StandardScaler\n",
        "from sklearn.linear_model import LogisticRegression\n",
        "from sklearn.model_selection import train_test_split"
      ]
    },
    {
      "cell_type": "markdown",
      "metadata": {
        "_cell_guid": "63378f1b-8450-034f-c05d-22004cbabf42"
      },
      "source": [
        "# Data exploration"
      ]
    },
    {
      "cell_type": "code",
      "execution_count": null,
      "metadata": {
        "_cell_guid": "50d80625-b249-e6e1-8722-677db1c8c692"
      },
      "outputs": [],
      "source": [
        "train_df = pd.read_csv(\"../input/train.csv\")\n",
        "test_df = pd.read_csv(\"../input/test.csv\")\n",
        "\n",
        "train_df.head()"
      ]
    },
    {
      "cell_type": "code",
      "execution_count": null,
      "metadata": {
        "_cell_guid": "832631d5-744d-7fee-dfbc-31bab609b1f4"
      },
      "outputs": [],
      "source": [
        "train_df.count()"
      ]
    },
    {
      "cell_type": "code",
      "execution_count": null,
      "metadata": {
        "_cell_guid": "b0828214-c91b-6220-1918-3479ad6f8fad"
      },
      "outputs": [],
      "source": [
        "train_df[\"Ticket\"].nunique()"
      ]
    },
    {
      "cell_type": "code",
      "execution_count": null,
      "metadata": {
        "_cell_guid": "52a31306-c402-451e-31d9-8167e0fd10fa"
      },
      "outputs": [],
      "source": [
        "train_df.drop(\"Ticket\", axis=1, inplace=True)\n",
        "test_df.drop(\"Ticket\", axis=1, inplace=True)\n",
        "train_df.head(1)"
      ]
    },
    {
      "cell_type": "code",
      "execution_count": null,
      "metadata": {
        "_cell_guid": "cddecd76-d102-f453-50ae-690f9963b2b1"
      },
      "outputs": [],
      "source": [
        "age_dist = train_df[\"Age\"].dropna()\n",
        "ax = sns.distplot(age_dist, kde=False, color='k')\n",
        "plt.title(\"Overal age distribution\")"
      ]
    },
    {
      "cell_type": "code",
      "execution_count": null,
      "metadata": {
        "_cell_guid": "5f86e36b-74a6-b715-b59a-2138ba565644"
      },
      "outputs": [],
      "source": [
        "age_dist_survivors = train_df[train_df[\"Survived\"] == 1][\"Age\"].dropna()\n",
        "age_dist_deads = train_df[train_df[\"Survived\"] == 0][\"Age\"].dropna()\n",
        "\n",
        "ax = sns.distplot(age_dist_deads, kde=False, color='k', label=\"Deads\")\n",
        "ax = sns.distplot(age_dist_survivors, kde=False, color='g', label=\"Survivors\")\n",
        "ax.legend()\n",
        "plt.title(\"Age distribution\")"
      ]
    },
    {
      "cell_type": "markdown",
      "metadata": {
        "_cell_guid": "952a6882-b00a-8ec8-c89f-9c1554e48188"
      },
      "source": [
        "So it seems being a new born increases your chances to survive whereas being between 25 and 30 years old is a deadly omen."
      ]
    },
    {
      "cell_type": "code",
      "execution_count": null,
      "metadata": {
        "_cell_guid": "6f955b0f-a290-def2-daf8-c2630407e745"
      },
      "outputs": [],
      "source": [
        "number_female = train_df[train_df[\"Sex\"] == \"female\"].size\n",
        "female_survivors_cnt = train_df[(train_df[\"Sex\"] == \"female\") & (train_df[\"Survived\"] == 1)].size\n",
        "\n",
        "number_male = train_df[train_df[\"Sex\"] == \"male\"].size\n",
        "male_survivors_cnt = train_df[(train_df[\"Sex\"] == \"male\") & (train_df[\"Survived\"] == 1)].size\n",
        "\n",
        "print(\"There was {} females on board, of which {} survived ({:.2f}%)\".format(number_female, female_survivors_cnt, female_survivors_cnt/number_female*100))\n",
        "print(\"There was {} males on board, of which {} survived ({:.2f}%)\".format(number_male, male_survivors_cnt, male_survivors_cnt/number_male*100))"
      ]
    },
    {
      "cell_type": "code",
      "execution_count": null,
      "metadata": {
        "_cell_guid": "7ad0df3c-2d82-6ca6-6b2c-3dbd7f718731"
      },
      "outputs": [],
      "source": [
        "ax = sns.countplot(data=train_df, x=\"Survived\", hue=\"Sex\")\n",
        "plt.title(\"Guess who is screwed again?\")"
      ]
    },
    {
      "cell_type": "markdown",
      "metadata": {
        "_cell_guid": "4624fa06-32e7-ae07-32de-4278aabfa439"
      },
      "source": [
        "----------"
      ]
    },
    {
      "cell_type": "markdown",
      "metadata": {
        "_cell_guid": "832be76b-4788-1765-b313-e4b439873c30"
      },
      "source": [
        "# Preprocessing"
      ]
    },
    {
      "cell_type": "code",
      "execution_count": null,
      "metadata": {
        "_cell_guid": "a7d7fb43-fc96-805e-5df3-f1196cfa6479"
      },
      "outputs": [],
      "source": [
        "# Fill missing values\n",
        "train_df[\"Age\"].fillna(train_df[\"Age\"].mean(), inplace=True)\n",
        "test_df[\"Age\"].fillna(test_df[\"Age\"].mean(), inplace=True)"
      ]
    },
    {
      "cell_type": "code",
      "execution_count": null,
      "metadata": {
        "_cell_guid": "68cc6eb9-82c6-b70d-7789-c7f53c7e2168"
      },
      "outputs": [],
      "source": [
        "def preprocess_logistic(df, test=False, nonlinear=False):\n",
        "    X_logistic = df.copy()\n",
        "    \n",
        "    # Remove useless features\n",
        "    X_logistic.drop(\"PassengerId\", axis=1, inplace=True)\n",
        "    X_logistic.drop(\"Name\", axis=1, inplace=True)\n",
        "\n",
        "    # Map categorical values to number values (Logistic Regression can only deal with numbers)\n",
        "    X_logistic[\"Sex\"] = X_logistic[\"Sex\"].map({\n",
        "        \"female\": 0,\n",
        "        \"male\": 1\n",
        "    })\n",
        "\n",
        "    X_logistic[\"Embarked\"] = X_logistic[\"Embarked\"].map({\n",
        "        \"S\": 0,\n",
        "        \"C\": 1,\n",
        "        \"Q\": 2\n",
        "    })\n",
        "\n",
        "    cabin_map = {}\n",
        "    i = 0\n",
        "    for cabin_value in X_logistic[\"Cabin\"].unique():\n",
        "        cabin_map[cabin_value] = i\n",
        "        i += 1\n",
        "    X_logistic[\"Cabin\"] = X_logistic[\"Cabin\"].map(cabin_map)\n",
        "    \n",
        "    # Handle the last NaN values\n",
        "    if not test:\n",
        "        X_logistic.dropna(inplace=True)\n",
        "    else:\n",
        "        X_logistic.fillna(0, inplace=True)\n",
        "    \n",
        "    try:\n",
        "        y = X_logistic[\"Survived\"]\n",
        "        X_logistic.drop(\"Survived\", axis=1, inplace=True)\n",
        "    except (KeyError, ValueError):\n",
        "        # Probably a test dataset\n",
        "        y = None\n",
        "    \n",
        "    if nonlinear:\n",
        "        # Inject some non-linearity by adding some polynomial terms\n",
        "        X_logistic[\"SexAndAge\"] = X_logistic[\"Age\"] * X_logistic[\"Sex\"]\n",
        "        X_logistic[\"SexAndPclass\"] = X_logistic[\"Pclass\"] * X_logistic[\"Sex\"]\n",
        "        \n",
        "    scaler = StandardScaler()\n",
        "    X = pd.DataFrame(scaler.fit_transform(X_logistic), columns=X_logistic.axes[1])\n",
        "    \n",
        "    return (X, y)"
      ]
    },
    {
      "cell_type": "markdown",
      "metadata": {
        "_cell_guid": "67d07a3e-2822-aa35-e263-638ad5e2e6f7"
      },
      "source": [
        "# Cross-validation sets"
      ]
    },
    {
      "cell_type": "code",
      "execution_count": null,
      "metadata": {
        "_cell_guid": "2294066a-95ed-9674-ff1b-42106f69e6f5"
      },
      "outputs": [],
      "source": [
        "#X_train, X_test, y_train, y_test = train_test_split()"
      ]
    },
    {
      "cell_type": "code",
      "execution_count": null,
      "metadata": {
        "_cell_guid": "03993e28-3b1b-6514-5f4e-bbaca6fbf1f4"
      },
      "outputs": [],
      "source": [
        "X_train, y_train = preprocess_logistic(train_df, nonlinear=True)\n",
        "\n",
        "X_train, X_test, y_train, y_test = train_test_split(X_train, y_train, test_size=0.05)\n",
        "\n",
        "X_subm, y_subm = preprocess_logistic(test_df, test=True)"
      ]
    },
    {
      "cell_type": "markdown",
      "metadata": {
        "_cell_guid": "4c68763d-d962-9d80-50cb-46ede69d6e7a"
      },
      "source": [
        "# Logistic regression"
      ]
    },
    {
      "cell_type": "code",
      "execution_count": null,
      "metadata": {
        "_cell_guid": "32049b6d-d2db-5c41-de6a-e4bdaefaa497"
      },
      "outputs": [],
      "source": [
        "nostradamus = LogisticRegression()\n",
        "nostradamus.fit(X_train, y_train)"
      ]
    },
    {
      "cell_type": "code",
      "execution_count": null,
      "metadata": {
        "_cell_guid": "298ac363-825a-e12b-a0ab-887f690394a2"
      },
      "outputs": [],
      "source": [
        "prophecy = nostradamus.predict(X_test)\n",
        "print(\"Training score: {}\".format(nostradamus.score(X_train, y_train)))\n",
        "print(\"Validation score: {} (testing on {} samples)\".format(nostradamus.score(X_test, y_test), len(X_test)))"
      ]
    },
    {
      "cell_type": "code",
      "execution_count": null,
      "metadata": {
        "_cell_guid": "479e9cc9-67f9-9102-c0b8-e2cb9d692d79"
      },
      "outputs": [],
      "source": [
        "prophecy"
      ]
    },
    {
      "cell_type": "code",
      "execution_count": null,
      "metadata": {
        "_cell_guid": "be5effdd-abfb-d730-a4f4-2af9bcc415c5"
      },
      "outputs": [],
      "source": [
        "nostra_coefs = pd.DataFrame(nostradamus.coef_, columns=X_train.columns)\n",
        "nostra_coefs.ix[0].plot(kind='bar')"
      ]
    },
    {
      "cell_type": "markdown",
      "metadata": {
        "_cell_guid": "fb40c19a-5f52-ecbf-0e12-555b14c9c88b"
      },
      "source": ""
    }
  ],
  "metadata": {
    "_change_revision": 0,
    "_is_fork": false,
    "kernelspec": {
      "display_name": "Python 3",
      "language": "python",
      "name": "python3"
    },
    "language_info": {
      "codemirror_mode": {
        "name": "ipython",
        "version": 3
      },
      "file_extension": ".py",
      "mimetype": "text/x-python",
      "name": "python",
      "nbconvert_exporter": "python",
      "pygments_lexer": "ipython3",
      "version": "3.5.2"
    }
  },
  "nbformat": 4,
  "nbformat_minor": 0
}