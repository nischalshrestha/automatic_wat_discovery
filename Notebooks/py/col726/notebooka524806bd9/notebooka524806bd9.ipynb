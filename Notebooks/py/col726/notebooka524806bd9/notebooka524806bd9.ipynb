{
  "cells": [
    {
      "cell_type": "markdown",
      "metadata": {
        "_cell_guid": "23dfc371-4ce9-c3f8-6ba1-be1b1e43582c"
      },
      "source": [
        "Attempting to get to the .77990 fit from the leaderboards"
      ]
    },
    {
      "cell_type": "code",
      "execution_count": null,
      "metadata": {
        "_cell_guid": "89165a14-8f78-fec2-2240-4ad188049447"
      },
      "outputs": [],
      "source": [
        "import numpy as np # linear algebra\n",
        "import pandas as pd # data processing, CSV file I/O (e.g. pd.read_csv)\n",
        "from sklearn import tree"
      ]
    },
    {
      "cell_type": "code",
      "execution_count": null,
      "metadata": {
        "_cell_guid": "8f5aa607-a3aa-079a-ff25-74154bed76ad"
      },
      "outputs": [],
      "source": [
        "train = pd.read_csv(\"../input/train.csv\")\n",
        "test = pd.read_csv(\"../input/test.csv\")"
      ]
    },
    {
      "cell_type": "code",
      "execution_count": null,
      "metadata": {
        "_cell_guid": "29a69872-9d89-520f-06d8-0f7243509670"
      },
      "outputs": [],
      "source": [
        "train[\"Sex\"][train[\"Sex\"] == \"male\"] = 0\n",
        "train[\"Sex\"][train[\"Sex\"] == \"female\"] = 1"
      ]
    },
    {
      "cell_type": "code",
      "execution_count": null,
      "metadata": {
        "_cell_guid": "5a2d2d74-b4d0-1f3e-5719-a8f3ea2e6df5"
      },
      "outputs": [],
      "source": [
        "cabin_level_test = train[\"Cabin\"].dropna()\n",
        "\n",
        "first_letter = lambda x: x[0]\n",
        "\n",
        "cabin_level_test = cabin_level_test.apply(first_letter)\n",
        "\n",
        "print(cabin_level_test.value_counts())\n",
        "\n",
        "\n",
        "train[\"Cabin\"] = train[\"Cabin\"].fillna(\"C\").apply(first_letter)\n",
        "\n",
        "\n",
        "\n",
        "print(train[\"Cabin\"])"
      ]
    },
    {
      "cell_type": "code",
      "execution_count": null,
      "metadata": {
        "_cell_guid": "47606db1-76f1-2ca6-ec1c-3cecc467482c"
      },
      "outputs": [],
      "source": [
        "train[\"Cabin\"][train[\"Cabin\"] == \"A\"] = 0\n",
        "train[\"Cabin\"][train[\"Cabin\"] == \"B\"] = 1\n",
        "train[\"Cabin\"][train[\"Cabin\"] == \"C\"] = 2\n",
        "train[\"Cabin\"][train[\"Cabin\"] == \"D\"] = 3\n",
        "train[\"Cabin\"][train[\"Cabin\"] == \"E\"] = 4\n",
        "train[\"Cabin\"][train[\"Cabin\"] == \"F\"] = 5\n",
        "train[\"Cabin\"][train[\"Cabin\"] == \"G\"] = 6\n",
        "train[\"Cabin\"][train[\"Cabin\"] == \"T\"] = 7\n",
        "\n",
        "print(train[\"Cabin\"].head())"
      ]
    },
    {
      "cell_type": "code",
      "execution_count": null,
      "metadata": {
        "_cell_guid": "36814e77-f1db-0ad3-aa2a-0b25c58b2aa3"
      },
      "outputs": [],
      "source": [
        "target = train[\"Survived\"].values\n",
        "features_one = train[[\"Sex\", \"Fare\", \"Cabin\"]].values\n",
        "\n",
        "# Fit your first decision tree: my_tree_one\n",
        "my_tree_one = tree.DecisionTreeClassifier()\n",
        "my_tree_one = my_tree_one.fit(features_one, target)\n",
        "\n",
        "# Look at the importance and score of the included features\n",
        "print(my_tree_one.feature_importances_)\n",
        "print(my_tree_one.score(features_one, target))"
      ]
    },
    {
      "cell_type": "code",
      "execution_count": null,
      "metadata": {
        "_cell_guid": "df0154d1-a9f2-81cb-390b-b8a163e287c0"
      },
      "outputs": [],
      "source": [
        "test[\"Sex\"][test[\"Sex\"] == \"male\"] = 0\n",
        "test[\"Sex\"][test[\"Sex\"] == \"female\"] = 1\n",
        "\n",
        "test[\"Cabin\"] = test[\"Cabin\"].fillna(\"C\").apply(first_letter)\n",
        "\n",
        "test[\"Cabin\"][test[\"Cabin\"] == \"A\"] = 0\n",
        "test[\"Cabin\"][test[\"Cabin\"] == \"B\"] = 1\n",
        "test[\"Cabin\"][test[\"Cabin\"] == \"C\"] = 2\n",
        "test[\"Cabin\"][test[\"Cabin\"] == \"D\"] = 3\n",
        "test[\"Cabin\"][test[\"Cabin\"] == \"E\"] = 4\n",
        "test[\"Cabin\"][test[\"Cabin\"] == \"F\"] = 5\n",
        "test[\"Cabin\"][test[\"Cabin\"] == \"G\"] = 6\n",
        "test[\"Cabin\"][test[\"Cabin\"] == \"T\"] = 7\n",
        "\n",
        "test.Fare[152] = test[\"Fare\"].median()"
      ]
    },
    {
      "cell_type": "code",
      "execution_count": null,
      "metadata": {
        "_cell_guid": "e4cf2892-bd47-d7c6-6a61-eae5334d8122"
      },
      "outputs": [],
      "source": [
        "test_features = test[[\"Sex\", \"Fare\", \"Cabin\"]].values\n",
        "my_prediction = my_tree_one.predict(test_features)\n",
        "\n",
        "# Create a data frame with two columns: PassengerId & Survived. Survived contains your predictions\n",
        "PassengerId =np.array(test[\"PassengerId\"]).astype(int)\n",
        "my_solution = pd.DataFrame(my_prediction, PassengerId, columns = [\"Survived\"])\n",
        "print(my_solution)\n",
        "\n",
        "# Check that your data frame has 418 entries\n",
        "print(my_solution.shape)"
      ]
    },
    {
      "cell_type": "code",
      "execution_count": null,
      "metadata": {
        "_cell_guid": "c198214b-cc02-59b0-d758-e4c668c7b1e6"
      },
      "outputs": [],
      "source": [
        "my_solution.to_csv(\"my_solution.csv\", index_label = [\"PassengerId\"])"
      ]
    }
  ],
  "metadata": {
    "_change_revision": 0,
    "_is_fork": false,
    "kernelspec": {
      "display_name": "Python 3",
      "language": "python",
      "name": "python3"
    },
    "language_info": {
      "codemirror_mode": {
        "name": "ipython",
        "version": 3
      },
      "file_extension": ".py",
      "mimetype": "text/x-python",
      "name": "python",
      "nbconvert_exporter": "python",
      "pygments_lexer": "ipython3",
      "version": "3.5.2"
    }
  },
  "nbformat": 4,
  "nbformat_minor": 0
}