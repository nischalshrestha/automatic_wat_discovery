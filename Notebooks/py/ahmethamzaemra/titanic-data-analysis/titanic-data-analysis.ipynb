{
  "cells": [
    {
      "cell_type": "markdown",
      "metadata": {
        "_cell_guid": "077e8970-cee2-b845-264d-7b1c80999cdd"
      },
      "source": [
        "# Titanic Data Analysis\n",
        "in this project i work on Titanic data and try to figure out questions like what factor made people more likely to survive and others "
      ]
    },
    {
      "cell_type": "code",
      "execution_count": null,
      "metadata": {
        "_cell_guid": "dd3a5f0e-48d2-1b8a-4e20-d77dce017bad"
      },
      "outputs": [],
      "source": [
        "# This Python 3 environment comes with many helpful analytics libraries installed\n",
        "# It is defined by the kaggle/python docker image: https://github.com/kaggle/docker-python\n",
        "# For example, here's several helpful packages to load in \n",
        "\n",
        "import numpy as np # linear algebra\n",
        "import pandas as pd # data processing, CSV file I/O (e.g. pd.read_csv)\n",
        "import unicodecsv\n",
        "import seaborn as sns\n",
        "import matplotlib.pyplot as plt\n",
        "import os\n",
        "path=\"../input\"\n",
        "os.chdir(path)\n",
        "# Input data files are available in the \"../input/\" directory.\n",
        "# For example, running this (by clicking run or pressing Shift+Enter) will list the files in the input directory\n",
        "\n",
        "from subprocess import check_output\n",
        "print(check_output([\"ls\", \"../input\"]).decode(\"utf8\"))\n",
        "\n",
        "# Any results you write to the current directory are saved as output."
      ]
    },
    {
      "cell_type": "code",
      "execution_count": null,
      "metadata": {
        "_cell_guid": "f1a733b4-db65-23fa-bd2a-b9563ee5eb2e"
      },
      "outputs": [],
      "source": [
        "titanic_df=pd.read_csv('train.csv')\n",
        "titanic_df.head()"
      ]
    },
    {
      "cell_type": "code",
      "execution_count": null,
      "metadata": {
        "_cell_guid": "c8a18c8a-9ba2-07ab-b7d6-58effe5b67eb"
      },
      "outputs": [],
      "source": [
        "titanic_df.describe()"
      ]
    },
    {
      "cell_type": "markdown",
      "metadata": {
        "_cell_guid": "f737d26d-60ac-f006-9562-ac6911f47b5b"
      },
      "source": [
        "***\n",
        "some datas from age column are missing.\n",
        "\n",
        "we will work on them later.\n",
        "***"
      ]
    },
    {
      "cell_type": "code",
      "execution_count": null,
      "metadata": {
        "_cell_guid": "6da5eda3-be17-6377-349b-d8d787634a9c"
      },
      "outputs": [],
      "source": [
        "numeric_variables=list(titanic_df.dtypes[titanic_df.dtypes!='object'].index)\n",
        "titanic_df[numeric_variables].head()"
      ]
    },
    {
      "cell_type": "markdown",
      "metadata": {
        "_cell_guid": "5b88bf46-e8e0-b0c6-d4e6-b654d41e5125"
      },
      "source": [
        "## What factor made people more likely to survive?\n",
        "\n",
        "this is very general question, but we will work on the questions that will also answer this question but more spesific questions. Such as:\n",
        "\n",
        "    * is gender a factor that effects geting the lifeboat?\n",
        "    * is there any relationship between fare and age?\n",
        "    * is there any relationship between age, sex and surviving?"
      ]
    },
    {
      "cell_type": "code",
      "execution_count": null,
      "metadata": {
        "_cell_guid": "5e5666e8-0bfd-06b1-1faa-e5dc5bc20517"
      },
      "outputs": [],
      "source": [
        "#Standarilizng the data Fare\n",
        "def standardize_colum(column):\n",
        "    return (column-column.mean())/column.std()"
      ]
    },
    {
      "cell_type": "code",
      "execution_count": null,
      "metadata": {
        "_cell_guid": "13fd9072-c324-e7c1-5914-c0e65b00ceb4"
      },
      "outputs": [],
      "source": [
        "standardize_colum(titanic_df['Fare']).plot()\n",
        "plt.title(\"Standardized Fare Chart\")\n",
        "plt.xlabel(\"Passenger Id\")\n",
        "plt.ylabel(\"standardized fare value\")\n",
        "plt.show()"
      ]
    },
    {
      "cell_type": "markdown",
      "metadata": {
        "_cell_guid": "96b880ea-3011-0a0b-316c-d43c37164f8d"
      },
      "source": [
        "\n",
        "### is Age and Gender effect on Survive?"
      ]
    },
    {
      "cell_type": "code",
      "execution_count": null,
      "metadata": {
        "_cell_guid": "7ed7f486-5c95-a2f2-e9a9-7c05bdf05721"
      },
      "outputs": [],
      "source": [
        "average_age_titanic    =titanic_df['Age'].mean()\n",
        "std_age_titanic        =titanic_df['Age'].std()\n",
        "count_nan_age_titanic  =titanic_df['Age'].isnull().sum()\n",
        "\n",
        "rand_1=np.random.randint(average_age_titanic-std_age_titanic,average_age_titanic+std_age_titanic, size=count_nan_age_titanic)\n",
        "# plot original Age values\n",
        "# fill NaN values in Age column with random values generated\n",
        "titanic_df[\"Age\"][np.isnan(titanic_df[\"Age\"])] = rand_1\n",
        "#convert them to int\n",
        "titanic_df['Age']=titanic_df['Age'].astype(int)\n",
        "\n",
        "titanic_df['Age'].hist(bins=70)\n",
        "plt.title('Ages of peoples in Titanic')\n",
        "plt.xlabel('Ages')\n",
        "plt.ylabel('Number of people')\n",
        "plt.show()"
      ]
    },
    {
      "cell_type": "markdown",
      "metadata": {
        "_cell_guid": "7c8b568d-db91-fee8-da02-3dfe7d4acb87"
      },
      "source": [
        "***\n",
        "In this step:\n",
        "there are 177 data on Age column missing. So that this missing values are narrowing our reduces statistical power. So that we fill the missing values with the random values that one std above and belowe the mean of age column. \n",
        "***"
      ]
    },
    {
      "cell_type": "code",
      "execution_count": null,
      "metadata": {
        "_cell_guid": "892b09f4-0032-900f-98c5-bd8947b71fe4"
      },
      "outputs": [],
      "source": [
        "facet = sns.FacetGrid(titanic_df, hue=\"Survived\",aspect=4)\n",
        "facet.map(sns.kdeplot,'Age',shade= True)\n",
        "facet.set(xlim=(0, titanic_df['Age'].max()))\n",
        "facet.add_legend()\n",
        "fig, axis1 = plt.subplots(1,1,figsize=(18,6))\n",
        "average_age = titanic_df[[\"Age\", \"Survived\"]].groupby(['Age'],as_index=False).mean()\n",
        "sns.barplot(x='Age', y='Survived', data=average_age)\n",
        "plt.show()"
      ]
    },
    {
      "cell_type": "markdown",
      "metadata": {
        "_cell_guid": "cb114c50-c8a6-aeb8-86d9-f5c1229176c9"
      },
      "source": [
        "***\n",
        "we make this chars to see if the childs resqued first. First chart show is standarilized age and survived chart. according to this we can say that there are more people who survive that ones who died under 15 years olds. also on chart 2 mean of people per age is closer than one on under 15 years olds than ones age more than 15.\n",
        "***"
      ]
    },
    {
      "cell_type": "markdown",
      "metadata": {
        "_cell_guid": "1d8ed6d0-4d5b-4191-c8b1-e41bbcad9e5c"
      },
      "source": [
        "## Sex and Survive realation"
      ]
    },
    {
      "cell_type": "code",
      "execution_count": null,
      "metadata": {
        "_cell_guid": "898eb108-2e63-50b2-4986-0778eda16744"
      },
      "outputs": [],
      "source": [
        "df1=(titanic_df.groupby(['Survived', 'Sex'])).count().unstack('Sex')['PassengerId']\n",
        "df1[['male', 'female']].plot(kind='bar', stacked=True)\n",
        "labels=['Died', 'Survived']\n",
        "\n",
        "plt.title(\"Survived and Gender Relation\")\n",
        "plt.ylabel(\"number of people\")\n",
        "plt.show()"
      ]
    },
    {
      "cell_type": "markdown",
      "metadata": {
        "_cell_guid": "29d51b26-ed60-a069-d155-b8b9b850ebbf"
      },
      "source": [
        "***\n",
        "\n",
        "as we can see most of the people who survive is females but this is not enough to make comment on this part of data\n",
        "\n",
        "***\n",
        "\n"
      ]
    },
    {
      "cell_type": "code",
      "execution_count": null,
      "metadata": {
        "_cell_guid": "0f7f6c21-fc1d-6501-b91d-64ce05df5a48"
      },
      "outputs": [],
      "source": [
        "total_gender=titanic_df.groupby('Sex').size()\n",
        "port_class_groups=titanic_df.groupby(['Sex'], as_index=False).get_group('female')\n",
        "famele_survive=port_class_groups.groupby('Survived').count()*100/port_class_groups.count()"
      ]
    },
    {
      "cell_type": "code",
      "execution_count": null,
      "metadata": {
        "_cell_guid": "9eb01d64-5df2-8c91-4be2-242ea667b177"
      },
      "outputs": [],
      "source": [
        "labels='famele died','famele survived'\n",
        "values=famele_survive[\"Age\"]\n",
        "plt.pie(values, labels=labels,autopct='%1.1f%%', shadow=True)\n",
        "plt.show()"
      ]
    },
    {
      "cell_type": "markdown",
      "metadata": {
        "_cell_guid": "20bf5b2a-dfbc-bcba-218e-36c86d4c6f2f"
      },
      "source": [
        "***\n",
        "I calculate the persentage of surviving of olverall fameles. 74.2% of famele survived from the titanic disester. this chart support the point that \"women more likely to survive\" \n",
        "***"
      ]
    },
    {
      "cell_type": "code",
      "execution_count": null,
      "metadata": {
        "_cell_guid": "375028a8-1917-3a95-06f8-b6302a773d8b"
      },
      "outputs": [],
      "source": [
        "total_gender=titanic_df.groupby('Sex').size()\n",
        "port_class_groups=titanic_df.groupby(['Sex'], as_index=False).get_group('male')\n",
        "famele_survive=port_class_groups.groupby('Survived').count()*100/port_class_groups.count()\n",
        "labels='male died','male survived'\n",
        "values=famele_survive[\"Age\"]\n",
        "plt.pie(values, labels=labels,autopct='%1.1f%%', shadow=True)\n",
        "plt.show()"
      ]
    },
    {
      "cell_type": "markdown",
      "metadata": {
        "_cell_guid": "8c3f0e7a-f1b5-6149-2595-74fb3423ea85"
      },
      "source": [
        "***\n",
        "form this data we can say that more than %75 of the female population has survived but %79.5 of males are died so;\n",
        "usualy womans and childs are being resqued first in this kind a stuation.\n",
        "***"
      ]
    },
    {
      "cell_type": "markdown",
      "metadata": {
        "_cell_guid": "c5f9b5a6-9b65-adb0-3555-0b18ed0688ee"
      },
      "source": [
        "###     \n",
        "### Was Class differences another factor to Survived?"
      ]
    },
    {
      "cell_type": "code",
      "execution_count": null,
      "metadata": {
        "_cell_guid": "e23424af-af15-68fb-9496-b694cef377e3"
      },
      "outputs": [],
      "source": [
        "df2 =titanic_df.groupby(['Survived', 'Pclass'])['PassengerId'].count().unstack('Survived').fillna(0)\n",
        "df2"
      ]
    },
    {
      "cell_type": "code",
      "execution_count": null,
      "metadata": {
        "_cell_guid": "ea87b80b-a583-c0d4-d770-a2ee1c7c252d"
      },
      "outputs": [],
      "source": [
        "df2[[0, 1]].plot(kind='bar', stacked=False)\n",
        "plt.title('Embarked and Classes effect on surviving')\n",
        "plt.ylabel('Number of People')\n",
        "plt.xlabel(\"Passenger classes\")\n",
        "plt.legend(['Survived', 'Died'])\n",
        "plt.show()"
      ]
    },
    {
      "cell_type": "markdown",
      "metadata": {
        "_cell_guid": "d7ab187d-67f5-6f30-478f-932fd774b4f9"
      },
      "source": [
        "***\n",
        "this chart show us in first class people more likely to be alive.\n",
        "***"
      ]
    },
    {
      "cell_type": "markdown",
      "metadata": {
        "_cell_guid": "00861c29-26c5-e2b3-b90d-649a027c224b"
      },
      "source": [
        "### I also want to check fare and age"
      ]
    },
    {
      "cell_type": "code",
      "execution_count": null,
      "metadata": {
        "_cell_guid": "d56f8cf6-7a98-46fd-595e-5c2a1482c53e"
      },
      "outputs": [],
      "source": [
        "def correlation(x,y):\n",
        "    std_x=(x-x.mean())/x.std(ddof=0)\n",
        "    std_y=(y-y.mean())/y.std(ddof=0)\n",
        "    return (std_x*std_y).mean()"
      ]
    },
    {
      "cell_type": "code",
      "execution_count": null,
      "metadata": {
        "_cell_guid": "58c8a951-de18-9172-411b-4fae2bc6c5bf"
      },
      "outputs": [],
      "source": [
        "tdf=titanic_df.dropna(subset=['Age'])"
      ]
    },
    {
      "cell_type": "code",
      "execution_count": null,
      "metadata": {
        "_cell_guid": "300d3135-ce08-81e7-e885-c09ee88c22c1"
      },
      "outputs": [],
      "source": [
        "correlation(tdf['Age'],tdf['Fare'])"
      ]
    },
    {
      "cell_type": "markdown",
      "metadata": {
        "_cell_guid": "376dc06e-2097-e3f8-f71b-99b8de79ba35"
      },
      "source": [
        "# Summary\n",
        "\n"
      ]
    },
    {
      "cell_type": "markdown",
      "metadata": {
        "_cell_guid": "ffdc61d7-7938-d0a1-b416-ce2f6c9586fb"
      },
      "source": [
        "as a sumary we have been working on a titanic disaster. for this data set i prepere some questions. Such as :\n",
        "    * is gender a factor that effects geting the lifeboat?\n",
        "    * is there any relationship between fare and age?\n",
        "    * is there any relationship between age, sex and surviving?\n",
        "\n",
        "we can come up with many other question. Because our dataset is capabile of. but we have some mising values on our data. for example there is a lot of data is mising in that column. it reduces statistical power. but there is always way, we cannot find the exect values but we can simly fill them with random values. I basicaly fill them random values that 1 std above and 1 std belove the mean. so they will be in %65 of data area. \n",
        "In kagels web page, it says 'some groups of people were more likely to survive than others, such as women, children, and the upper-class.' so I check if this is true. if ones looks at in a gender aproch they one can say women more likely to survive. So next steps should be age effects on surviving, according to our diagram, people who are under 15, there are more alive people that dead. on the other hand, upper classes again according to diagrams, more likely to survive. I also chekc the correlation of fare and age. but correlation doesn't imply causation. so there might not be a relationship. "
      ]
    }
  ],
  "metadata": {
    "_change_revision": 0,
    "_is_fork": false,
    "kernelspec": {
      "display_name": "Python 3",
      "language": "python",
      "name": "python3"
    },
    "language_info": {
      "codemirror_mode": {
        "name": "ipython",
        "version": 3
      },
      "file_extension": ".py",
      "mimetype": "text/x-python",
      "name": "python",
      "nbconvert_exporter": "python",
      "pygments_lexer": "ipython3",
      "version": "3.5.2"
    }
  },
  "nbformat": 4,
  "nbformat_minor": 0
}