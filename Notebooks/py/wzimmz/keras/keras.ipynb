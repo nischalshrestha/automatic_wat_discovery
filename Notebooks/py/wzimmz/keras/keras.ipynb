{
  "cells": [
    {
      "cell_type": "code",
      "execution_count": null,
      "metadata": {
        "_cell_guid": "13a2c77a-45ff-c3b5-25a3-9c18d2210b47"
      },
      "outputs": [],
      "source": [
        "# This Python 3 environment comes with many helpful analytics libraries installed\n",
        "# It is defined by the kaggle/python docker image: https://github.com/kaggle/docker-python\n",
        "# For example, here's several helpful packages to load in \n",
        "\n",
        "import numpy as np # linear algebra\n",
        "import pandas as pd # data processing, CSV file I/O (e.g. pd.read_csv)\n",
        "\n",
        "# Input data files are available in the \"../input/\" directory.\n",
        "# For example, running this (by clicking run or pressing Shift+Enter) will list the files in the input directory\n",
        "\n",
        "from subprocess import check_output\n",
        "print(check_output([\"ls\", \"../input\"]).decode(\"utf8\"))\n",
        "\n",
        "# Any results you write to the current directory are saved as output."
      ]
    },
    {
      "cell_type": "code",
      "execution_count": null,
      "metadata": {
        "_cell_guid": "40412926-4d94-471e-df31-1c9dce7f5eef"
      },
      "outputs": [],
      "source": [
        "import tensorflow as  tf\n",
        "import keras"
      ]
    },
    {
      "cell_type": "code",
      "execution_count": null,
      "metadata": {
        "_cell_guid": "d656a548-c29e-2240-a4e6-80656d310787"
      },
      "outputs": [],
      "source": [
        "df_train = pd.read_csv(\"../input/train.csv\")\n",
        "df_test = pd.read_csv(\"../input/test.csv\")"
      ]
    },
    {
      "cell_type": "code",
      "execution_count": null,
      "metadata": {
        "_cell_guid": "8479b6dd-41b5-bdc8-174a-1ce13a474ee9"
      },
      "outputs": [],
      "source": [
        "features = list(df_train.columns.values)\n",
        "# Remove unwanted features\n",
        "features.remove('Name')\n",
        "features.remove('PassengerId')\n",
        "features.remove('Survived')\n",
        "features.remove('Ticket')\n",
        "features.remove('SibSp')\n",
        "features.remove('Parch')\n",
        "features.remove('Fare')\n",
        "features.remove('Cabin')\n",
        "features.remove('Embarked')\n",
        "print(features)"
      ]
    },
    {
      "cell_type": "code",
      "execution_count": null,
      "metadata": {
        "_cell_guid": "c15b5c53-4349-9d7d-475a-6cc52781f999"
      },
      "outputs": [],
      "source": [
        "from sklearn.model_selection import train_test_split\n",
        "from sklearn.preprocessing import LabelEncoder\n",
        "from sklearn import metrics"
      ]
    },
    {
      "cell_type": "code",
      "execution_count": null,
      "metadata": {
        "_cell_guid": "e214bfc0-3bb4-ed6f-b381-d5fafbb327fe"
      },
      "outputs": [],
      "source": [
        "# encode sex into ints\n",
        "le = LabelEncoder()\n",
        "df_train['Sex'] = le.fit_transform(df_train['Sex'])\n",
        "df_test['Sex'] = le.fit_transform(df_test['Sex'])\n",
        "\n",
        "df_train['Fare'] = df_train['Fare'].fillna(df_train['Fare'].mean())\n",
        "df_test['Fare'] = df_train['Fare'].fillna(df_train['Fare'].mean())\n",
        "\n",
        "df_train['Age'] = df_train['Age'].fillna(df_train['Age'].mean())\n",
        "df_test['Age'] = df_train['Age'].fillna(df_train['Age'].mean())\n",
        "\n",
        "df_train['Embarked'] = df_train['Embarked'].fillna(\"S\")\n",
        "df_test['Embarked'] = df_test['Embarked'].fillna(\"S\")\n",
        "df_train['Embarked'] = le.fit_transform(df_train['Embarked'])\n",
        "df_test['Embarked'] = le.fit_transform(df_test['Embarked'])\n",
        "\n",
        "df_train['Cabin'] = df_train['Cabin'].fillna(\"None\")\n",
        "df_test['Cabin'] = df_test['Cabin'].fillna(\"None\")\n",
        "df_train['Cabin'] = le.fit_transform(df_train['Cabin'])\n",
        "df_test['Cabin'] = le.fit_transform(df_test['Cabin'])\n",
        "\n",
        "df_train['Ticket'] = le.fit_transform(df_train['Ticket'])\n",
        "df_test['Ticket'] = le.fit_transform(df_test['Ticket'])\n",
        "\n",
        "\n",
        "\n",
        "y = df_train['Survived']\n",
        "x = df_train[features]\n",
        "x_t = df_test[features]"
      ]
    },
    {
      "cell_type": "code",
      "execution_count": null,
      "metadata": {
        "_cell_guid": "252e94cb-f624-c7d2-66fc-eadfc28e0605"
      },
      "outputs": [],
      "source": [
        "X_train, X_test, y_train, y_test = train_test_split(x, y, test_size=0.25,random_state=32)"
      ]
    },
    {
      "cell_type": "code",
      "execution_count": null,
      "metadata": {
        "_cell_guid": "17a38c4a-1d7f-f6ef-1a13-28f9ba3b4891"
      },
      "outputs": [],
      "source": [
        "from keras.models import Sequential\n",
        "from keras.layers import Dense, Activation\n",
        "from keras.utils import np_utils"
      ]
    },
    {
      "cell_type": "code",
      "execution_count": null,
      "metadata": {
        "_cell_guid": "ff073b35-0237-c930-4e75-10ea740c4d00"
      },
      "outputs": [],
      "source": [
        "model = Sequential()\n",
        "model.add(Dense(output_dim=64, input_dim=3))\n",
        "model.add(Activation(\"relu\"))\n",
        "model.add(keras.layers.core.Dropout(0.2))\n",
        "model.add(Dense(output_dim=64))\n",
        "model.add(Activation(\"relu\"))\n",
        "model.add(Dense(output_dim=2))\n",
        "model.add(Activation(\"softmax\"))"
      ]
    },
    {
      "cell_type": "code",
      "execution_count": null,
      "metadata": {
        "_cell_guid": "88091aef-fc6b-993b-74ba-5e86a6c2f0fa"
      },
      "outputs": [],
      "source": [
        "model.compile(loss='categorical_crossentropy', optimizer='adam', metrics=['accuracy'])"
      ]
    },
    {
      "cell_type": "code",
      "execution_count": null,
      "metadata": {
        "_cell_guid": "3f79128b-8f23-183a-a38a-e8a0950abaa7"
      },
      "outputs": [],
      "source": [
        "y_train = np_utils.to_categorical(y_train)\n",
        "a = model.fit(X_train.values, y_train, nb_epoch=500)"
      ]
    },
    {
      "cell_type": "code",
      "execution_count": null,
      "metadata": {
        "_cell_guid": "738066f2-edea-c8ba-2e3c-35fe8a223c6b"
      },
      "outputs": [],
      "source": [
        "y_test = np_utils.to_categorical(y_test)\n",
        "loss_and_metrics = model.evaluate(X_test.values, y_test)\n",
        "print(loss_and_metrics)"
      ]
    },
    {
      "cell_type": "code",
      "execution_count": null,
      "metadata": {
        "_cell_guid": "9787ff37-28a0-5be4-da4f-4e07e558ce07"
      },
      "outputs": [],
      "source": [
        "classes = model.predict_classes(x_t.values, batch_size=32)"
      ]
    },
    {
      "cell_type": "code",
      "execution_count": null,
      "metadata": {
        "_cell_guid": "aa5a65f5-1dd9-9859-708a-9d7927854cc0"
      },
      "outputs": [],
      "source": [
        "print(classes)"
      ]
    },
    {
      "cell_type": "code",
      "execution_count": null,
      "metadata": {
        "_cell_guid": "c20b2689-ab03-5eb9-c802-e58152aee18e"
      },
      "outputs": [],
      "source": [
        "submission = pd.DataFrame({\n",
        "    \"PassengerId\": df_test[\"PassengerId\"],\n",
        "    \"Survived\": classes})\n",
        "print(submission)\n",
        "\n",
        "submission.to_csv('titanic_lin.csv', index=False)"
      ]
    }
  ],
  "metadata": {
    "_change_revision": 0,
    "_is_fork": false,
    "kernelspec": {
      "display_name": "Python 3",
      "language": "python",
      "name": "python3"
    },
    "language_info": {
      "codemirror_mode": {
        "name": "ipython",
        "version": 3
      },
      "file_extension": ".py",
      "mimetype": "text/x-python",
      "name": "python",
      "nbconvert_exporter": "python",
      "pygments_lexer": "ipython3",
      "version": "3.5.2"
    }
  },
  "nbformat": 4,
  "nbformat_minor": 0
}