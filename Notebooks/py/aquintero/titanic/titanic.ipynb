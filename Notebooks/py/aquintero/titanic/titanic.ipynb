{
  "cells": [
    {
      "cell_type": "code",
      "execution_count": null,
      "metadata": {
        "_cell_guid": "4b54e38a-9254-6031-732f-27d76c2cf61c"
      },
      "outputs": [],
      "source": [
        "import numpy as np\n",
        "from sklearn.preprocessing import StandardScaler\n",
        "from sklearn import svm\n",
        "from sklearn.pipeline import Pipeline\n",
        "from sklearn.grid_search import GridSearchCV\n",
        "\n",
        "def predict(trainX, trainY, testX):\n",
        "    scaler = StandardScaler().fit(trainX)\n",
        "    trainX = scaler.transform(trainX)\n",
        "    \n",
        "    model = svm.SVC(random_state = 1)\n",
        "    if(trainY.dtype != np.int64):\n",
        "        print('svr')\n",
        "        model = svm.SVR()\n",
        "    else:\n",
        "        print('svc')\n",
        "    searchParams = dict(\n",
        "        C = np.logspace(-3, 2, 10),\n",
        "        gamma = np.logspace(-3, 2, 10)\n",
        "    )\n",
        "    \n",
        "    search = GridSearchCV(model, param_grid = searchParams, cv = 5)\n",
        "    search.fit(trainX, trainY)\n",
        "    \n",
        "    testX = scaler.transform(testX)\n",
        "    prediction = search.best_estimator_.predict(testX)\n",
        "    \n",
        "    return prediction\n",
        "    "
      ]
    },
    {
      "cell_type": "code",
      "execution_count": null,
      "metadata": {
        "_cell_guid": "03e2328c-6e1e-70ca-b659-b3010d2510b7"
      },
      "outputs": [],
      "source": [
        "import numpy as np\n",
        "import pandas as pd\n",
        "\n",
        "def convertCategorical(df, column):\n",
        "    valid = df.ix[df[column].notnull()]\n",
        "    factor = pd.factorize(valid[column])\n",
        "    \n",
        "    for idx, category in enumerate(factor[1]):\n",
        "        name = column + '_' + category\n",
        "        df[name] = pd.Series(np.zeros(len(df[column]), dtype = int), index = df.index)\n",
        "        df.ix[df[column] == category, name] = 1\n",
        "    df.drop(column, axis = 1, inplace = True)\n",
        "    \n",
        "def formatModel(df):\n",
        "    df.drop(['PassengerId', 'Name', 'Ticket', 'Cabin'], axis = 1, inplace = True)\n",
        "    df['Sex'] = pd.factorize(df['Sex'])[0]\n",
        "    df['Embarked'] = pd.factorize(df['Embarked'])[0]\n",
        "    \n",
        "    nullColumns = df.ix[:,df.isnull().any()]\n",
        "    for column in nullColumns:\n",
        "        #add dummy value for NaN in column\n",
        "        df.ix[df[column].isnull(), column] = 1e9\n",
        "        \n",
        "        #filter columns with null\n",
        "        train = df.ix[df[column] != 1e9, df.notnull().all()]\n",
        "        test = df.ix[df[column] == 1e9, df.notnull().all()]\n",
        "        \n",
        "        trainX = train.ix[:, train.columns != column].values\n",
        "        trainY = train.ix[:, column].values\n",
        "        \n",
        "        testX = test.ix[:, test.columns != column].values\n",
        "        \n",
        "        prediction = predict(trainX, trainY, testX)\n",
        "        \n",
        "        df.ix[df[column] == 1e9, column] = prediction\n",
        "def formatModel2(df):\n",
        "    df.drop(['PassengerId', 'Name', 'Ticket', 'Cabin'], axis = 1, inplace = True)\n",
        "    convertCategorical(df, 'Sex')\n",
        "    convertCategorical(df, 'Embarked')\n",
        "    df.ix[df['Fare'].isnull(), 'Fare'] = df['Fare'].mean(skipna = True)\n",
        "    df.ix[df['Age'].isnull(), 'Age'] = df['Age'].mean(skipna = True)\n",
        "    "
      ]
    },
    {
      "cell_type": "code",
      "execution_count": null,
      "metadata": {
        "_cell_guid": "2cc253c6-8a29-6637-ef93-76e7d3bc8879"
      },
      "outputs": [],
      "source": [
        "import numpy as np\n",
        "import pandas as pd\n",
        "\n",
        "train = pd.read_csv(\"../input/train.csv\")\n",
        "formatModel2(train)\n",
        "\n",
        "trainData = train.values\n",
        "trainX = trainData[:,1:]\n",
        "trainY = trainData[:,0].astype(int)\n",
        "\n",
        "test = pd.read_csv('../input/test.csv')\n",
        "formatModel2(test)\n",
        "print(test)\n",
        "testX = test.values\n",
        "prediction = predict(trainX, trainY, testX)\n",
        "\n",
        "print(prediction)"
      ]
    },
    {
      "cell_type": "code",
      "execution_count": null,
      "metadata": {
        "_cell_guid": "289c255b-d13d-31d1-cbe6-48b4ef865c4d"
      },
      "outputs": [],
      "source": [
        "test = pd.read_csv('../input/test.csv')\n",
        "ids = test['PassengerId']\n",
        "prediction = prediction.astype(int)\n",
        "\n",
        "result = pd.DataFrame({\n",
        "    'PassengerId': ids,\n",
        "    'Survived': prediction\n",
        "})\n",
        "\n",
        "result.to_csv('survival.csv', index = False)"
      ]
    }
  ],
  "metadata": {
    "_change_revision": 0,
    "_is_fork": false,
    "kernelspec": {
      "display_name": "Python 3",
      "language": "python",
      "name": "python3"
    },
    "language_info": {
      "codemirror_mode": {
        "name": "ipython",
        "version": 3
      },
      "file_extension": ".py",
      "mimetype": "text/x-python",
      "name": "python",
      "nbconvert_exporter": "python",
      "pygments_lexer": "ipython3",
      "version": "3.5.2"
    }
  },
  "nbformat": 4,
  "nbformat_minor": 0
}