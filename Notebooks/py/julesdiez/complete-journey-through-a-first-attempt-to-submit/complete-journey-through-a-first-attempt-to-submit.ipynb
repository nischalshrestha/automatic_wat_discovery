{
  "cells": [
    {
      "cell_type": "markdown",
      "metadata": {
        "_cell_guid": "1c909588-b746-f5f0-ed33-6582ef2878cb"
      },
      "source": [
        "# Titanic: A journey through the first attempt to submit"
      ]
    },
    {
      "cell_type": "markdown",
      "metadata": {
        "_cell_guid": "ce499c96-0034-d1a9-db20-bc7aea52158e"
      },
      "source": [
        "Last update: 29 March 2017"
      ]
    },
    {
      "cell_type": "markdown",
      "metadata": {
        "_cell_guid": "7b00ce1c-92f2-c333-aa54-c624acb562c9"
      },
      "source": [
        "Link to github : https://github.com/Jules-Diez/Personal-notebook"
      ]
    },
    {
      "cell_type": "markdown",
      "metadata": {
        "_cell_guid": "6946c1a2-f4ee-c6b8-2ea7-b9d4b389401f"
      },
      "source": [
        "## Description of the Kaggle challenge"
      ]
    },
    {
      "cell_type": "markdown",
      "metadata": {
        "_cell_guid": "0601f6cf-b4d2-1ac9-f25b-408792eb9bc5"
      },
      "source": [
        "The sinking of the RMS Titanic is one of the most infamous shipwrecks in history.  On April 15, 1912, during her maiden voyage, the Titanic sank after colliding with an iceberg, killing 1502 out of 2224 passengers and crew. This sensational tragedy shocked the international community and led to better safety regulations for ships."
      ]
    },
    {
      "cell_type": "markdown",
      "metadata": {
        "_cell_guid": "46d74918-4480-69c4-bccc-402712675de9"
      },
      "source": [
        "## Objective"
      ]
    },
    {
      "cell_type": "markdown",
      "metadata": {
        "_cell_guid": "adec7c5b-59e1-3250-ae81-f4c9289f12a7"
      },
      "source": [
        "Predict survival of the passengers"
      ]
    },
    {
      "cell_type": "markdown",
      "metadata": {
        "_cell_guid": "6ee2b06a-bebd-0436-18b0-feb799ea79b3"
      },
      "source": [
        "## Kaggle specification"
      ]
    },
    {
      "cell_type": "markdown",
      "metadata": {
        "_cell_guid": "27e88b55-cd06-8aaf-43b7-b17591661f61"
      },
      "source": [
        "There is 2 datasets, Train and Test. \n",
        "The Test dataset is used for the prediction and therefore do not have Survived feature. "
      ]
    },
    {
      "cell_type": "markdown",
      "metadata": {
        "_cell_guid": "5ffd5a36-51c0-15c6-552f-34e494d50858"
      },
      "source": [
        "## Note about this notebook"
      ]
    },
    {
      "cell_type": "markdown",
      "metadata": {
        "_cell_guid": "321c0333-4102-f994-5538-f9c1c32678ae"
      },
      "source": [
        "The feature selection part is a demonstration of how one may do feature selection with filter, wrapper and embedded methods using mostly sk-learn. It shows the first attempt to do feature selection and not the final choice that requires trials of subsets of features and the tuning of models for each selected subset.\n",
        "\n",
        "The model selection part shows the first attempt to run a GridSearch and the visualization of the results with learning and validation curves, you may start from that to tune the models. \n",
        "\n",
        "To help fellow kagglers that are starting with machine learning and statistic, I tried to incorporate some quick notes about some useful subjects like Missing Values, Feature Encoding and Dimensionality  Reduction. Here are some blogs and sites that may enable you to read about specific subjects:\n",
        "\n",
        " - https://sebastianraschka.com/\n",
        " - http://machinelearningmastery.com/start-here/\n",
        " - https://www.analyticsvidhya.com/\n",
        " - http://ufldl.stanford.edu/tutorial/\n",
        " - http://wikistat.fr/ (french)\n",
        "\n",
        "If you see any mistakes or imprecisions feel free to write it down in the comment section.  "
      ]
    },
    {
      "cell_type": "markdown",
      "metadata": {
        "_cell_guid": "594a665d-b36d-1452-630c-107527cc4f20"
      },
      "source": [
        "## Table of contents"
      ]
    },
    {
      "cell_type": "markdown",
      "metadata": {
        "_cell_guid": "02b39cfd-a3e6-f2ef-7fa5-1affb4a7e51a"
      },
      "source": [
        "\n",
        "- [Description of the data set](#Description-of-the-data-set)\n",
        "- [First look at the data](#1---First-look-at-the-data)\n",
        "    - [Import Libraries](#1-A-Import-Libraries)\n",
        "    - [Load Data](#1-B-Load-Data)\n",
        "    - [Brief summaries](#1-C-Brief-summaries)\n",
        "- [Visualization Part 1](#2---Visualization-Part-1)\n",
        "    - [Basic insight of the training set](#2-A-Basic-insight-of-the-training-set)\n",
        "    - [Focus on the mean of survival](#2-B-Focus-on-the-mean-of-survival)\n",
        "- [Feature engineering](#3---Feature-engineering)\n",
        "    - [Name](#3-A-Name)\n",
        "    - [Family](#3-B-Family)\n",
        "    - [Cabin](#3-C-Cabin)\n",
        "- [Missing Values](#4---Missing-Values)\n",
        "    - [Embarked](#4-A-Embarked)\n",
        "    - [Fare](#4-B-Fare)\n",
        "    - [Age and creation of child feature](#4-C-Age-and-creation-of-child-feature)\n",
        "- [Visualization Part 2](#5---Visualization-Part-2)\n",
        "    - [Name](#5-A-Name)\n",
        "    - [Family](#5-B-Family)\n",
        "    - [Deck](#5-C-Deck)\n",
        "    - [Child](#5-D-Child)     \n",
        "    - [All features between Training and Testing set](#5-E-All-features-between-Training-and-Testing-set)\n",
        "- [Features Encoding](#6---Features-Encoding)\n",
        "    - [Binary encoding](#6-A-Binary-encoding)\n",
        "    - [Categorical feature encoding](#6-B-Categorical-feature-encoding)\n",
        "        - [Label Encoding](#Label-Encoding)\n",
        "        - [One Hot Encoding](#One-Hot-Encoding)   \n",
        "    - [Feature Scaling](#6-C-Feature-Scaling)\n",
        "    - [Data Preparation](#6-D-Data-Preparation)\n",
        "- [Features Selection](#7---Features-Selection)\n",
        "    - [Filter Methods](#7-A-Filter-Methods)\n",
        "        - [Quantitative Features](#Quantitative-Features)\n",
        "        - [Qualitative Features](#Qualitative-Features)\n",
        "        - [Correlation matrix](#Correlation-matrix)    \n",
        "    - [Feature importance with embedded methods](#7-B-Feature-importance-with-embedded-methods)   \n",
        "        - [Feature importance using Logistic Regression](#Feature-importance-using-Logistic-Regression) \n",
        "        - [Feature importance using Random Forest](#Feature-importance-using-Random-Forest) \n",
        "    - [First Drop](#7-C-First-Drop)\n",
        "    - [Recursive feature elimination](#7-D-Recursive-feature-elimination) \n",
        "    - [Second Drop](#7-E-Second-Drop) \n",
        "- [Model Selection](#8---Models-Selection)\n",
        "    - [Helper functions](#8-A-Helper-functions)\n",
        "    - [Multipe Estimators](#8-B-Multipe-Estimators)\n",
        "    - [SVC](#8-C-SVC)\n",
        "    - [Logistic Regression](#8-D-Logistic-Regression)\n",
        "    - [Random Forest Classifier](#8-E-Random-Forest-Classifier)\n",
        "- [Submission](#9---Submission)"
      ]
    },
    {
      "cell_type": "markdown",
      "metadata": {
        "_cell_guid": "7568fd93-c712-a313-eed8-49fdf717dd1c"
      },
      "source": [
        "## Description of the data set"
      ]
    },
    {
      "cell_type": "markdown",
      "metadata": {
        "_cell_guid": "4d2f6dc5-393f-5c7d-f607-30d96450e756"
      },
      "source": [
        "VARIABLE DESCRIPTIONS:\n",
        "survival        Survival\n",
        "                (0 = No; 1 = Yes)\n",
        "pclass          Passenger Class\n",
        "                (1 = 1st; 2 = 2nd; 3 = 3rd)\n",
        "name            Name\n",
        "sex             Sex\n",
        "age             Age\n",
        "sibsp           Number of Siblings/Spouses Aboard\n",
        "parch           Number of Parents/Children Aboard\n",
        "ticket          Ticket Number\n",
        "fare            Passenger Fare\n",
        "cabin           Cabin\n",
        "embarked        Port of Embarkation\n",
        "                (C = Cherbourg; Q = Queenstown; S = Southampton)\n",
        "\n",
        "SPECIAL NOTES:\n",
        "Pclass is a proxy for socio-economic status (SES)\n",
        " 1st ~ Upper; 2nd ~ Middle; 3rd ~ Lower\n",
        "\n",
        "Age is in Years; Fractional if Age less than One (1)\n",
        " If the Age is Estimated, it is in the form xx.5\n",
        "\n",
        "With respect to the family relation variables (i.e. sibsp and parch)\n",
        "some relations were ignored.  The following are the definitions used\n",
        "for sibsp and parch.\n",
        "\n",
        "Sibling:  Brother, Sister, Stepbrother, or Stepsister of Passenger Aboard Titanic\n",
        "Spouse:   Husband or Wife of Passenger Aboard Titanic (Mistresses and Fiances Ignored)\n",
        "Parent:   Mother or Father of Passenger Aboard Titanic\n",
        "Child:    Son, Daughter, Stepson, or Stepdaughter of Passenger Aboard Titanic\n",
        "\n",
        "Other family relatives excluded from this study include cousins,\n",
        "nephews/nieces, aunts/uncles, and in-laws.  Some children travelled\n",
        "only with a nanny, therefore parch=0 for them.  As well, some\n",
        "travelled with very close friends or neighbors in a village, however,\n",
        "the definitions do not support such relations."
      ]
    },
    {
      "cell_type": "markdown",
      "metadata": {
        "_cell_guid": "befe7387-4c57-a84e-4246-18ba4f6a79c7"
      },
      "source": [
        "## 1 - First look at the data"
      ]
    },
    {
      "cell_type": "markdown",
      "metadata": {
        "_cell_guid": "3b438acf-2529-5af2-b57f-83a9a208dfde"
      },
      "source": [
        "[[back to top](#Table-of-contents)]"
      ]
    },
    {
      "cell_type": "markdown",
      "metadata": {
        "_cell_guid": "9a7ca678-b4ab-59c3-91e9-5818cce740c3"
      },
      "source": [
        "### 1-A Import Libraries"
      ]
    },
    {
      "cell_type": "code",
      "execution_count": null,
      "metadata": {
        "_cell_guid": "d9a1f3a9-38cb-b6c1-27cd-6b6cb7607d38"
      },
      "outputs": [],
      "source": [
        "# Pandas\n",
        "import pandas as pd\n",
        "\n",
        "# Visualization\n",
        "from IPython.display import display, HTML\n",
        "import numpy as np\n",
        "import matplotlib.pyplot as plt\n",
        "import seaborn as sns\n",
        "from pprint import pprint\n",
        "\n",
        "%matplotlib inline\n",
        "sns.set_style('whitegrid')\n",
        "pd.set_option('display.max_colwidth', -1)  # Can create some problems but enable to read a dataframe with lots of columns\n",
        "pd.set_option('display.max_rows', 100)\n",
        "\n",
        "# Scipy\n",
        "from scipy import stats\n",
        "\n",
        "# Sklearn\n",
        "\n",
        "    # General\n",
        "from sklearn.preprocessing import LabelEncoder,StandardScaler\n",
        "from sklearn.pipeline import Pipeline\n",
        "from sklearn.model_selection import train_test_split,GridSearchCV\n",
        "from sklearn.feature_selection import SelectKBest, f_classif\n",
        "from sklearn.metrics import (accuracy_score, classification_report, confusion_matrix, f1_score,\n",
        "                            precision_score, recall_score) \n",
        "    # Classifier\n",
        "from sklearn.linear_model import LogisticRegression\n",
        "from sklearn.discriminant_analysis import LinearDiscriminantAnalysis\n",
        "from sklearn.svm import SVC\n",
        "from sklearn.neighbors import KNeighborsClassifier\n",
        "from sklearn.naive_bayes import GaussianNB\n",
        "from sklearn.ensemble import (RandomForestClassifier, GradientBoostingClassifier, VotingClassifier)\n",
        "\n",
        "# Warning\n",
        "import warnings\n",
        "warnings.filterwarnings(\"ignore\", category=DeprecationWarning) \n",
        "warnings.filterwarnings(\"ignore\", category=RuntimeWarning)"
      ]
    },
    {
      "cell_type": "markdown",
      "metadata": {
        "_cell_guid": "3dc1b025-22f3-0c51-734b-0c44c197c326"
      },
      "source": [
        "### 1-B Load Data"
      ]
    },
    {
      "cell_type": "code",
      "execution_count": null,
      "metadata": {
        "_cell_guid": "2fcfc6a2-b45f-e88c-4c46-fc8aeecce9c8"
      },
      "outputs": [],
      "source": [
        "# Load data\n",
        "df_train=pd.read_csv(\"../input/train.csv\")\n",
        "df_test=pd.read_csv(\"../input/test.csv\")\n",
        "\n",
        "# Get a combined Dataframe \n",
        "combined = df_train.append(df_test)\n",
        "combined.reset_index(inplace=True)\n",
        "\n",
        "# For visualization\n",
        "combined.loc[0:890,'Data_set'] = 'Train'\n",
        "combined.loc[891:,'Data_set'] = 'Test'\n",
        "#combined.loc[0:890,'Train'] = 1Train\n",
        "#combined.loc[891:,'Train'] = 0\n",
        "#combined.drop('index',axis=1,inplace=True)\n",
        "\n",
        "# Get PassengerId for test and targets for training set\n",
        "targets = df_train.Survived\n",
        "PassengerId = df_test['PassengerId']\n",
        "\n",
        "# Helpler function to split combined quickly\n",
        "def split_train_test(combined):\n",
        "    \n",
        "    train = pd.DataFrame()\n",
        "    test = pd.DataFrame()\n",
        "    \n",
        "    train = combined.ix[0:890]\n",
        "    test = combined.ix[891:]\n",
        "    \n",
        "    return train,test\n",
        "\n",
        "# Take a look at the first rows\n",
        "print(\"Training set\")\n",
        "display(df_train.head())\n",
        "print(\"Testing set\")\n",
        "display(df_test.head())"
      ]
    },
    {
      "cell_type": "markdown",
      "metadata": {
        "_cell_guid": "9bb222b7-5e42-ce35-2946-e1ac8f3c2474"
      },
      "source": [
        "### 1-C Brief summaries"
      ]
    },
    {
      "cell_type": "code",
      "execution_count": null,
      "metadata": {
        "_cell_guid": "84384070-6285-2b1e-dd48-7da1875f5044"
      },
      "outputs": [],
      "source": [
        "print(\"----------------------------------Informations for the training set----------------------------------\\n\")\n",
        "df_train.info()\n",
        "print('\\nList of Null values \\n\\n',df_train.isnull().sum())\n",
        "print(\"\\n----------------------------------Informations for the testing set ----------------------------------\\n\")\n",
        "df_test.info()\n",
        "print('\\nList of Null values \\n\\n',df_test.isnull().sum())"
      ]
    },
    {
      "cell_type": "markdown",
      "metadata": {
        "_cell_guid": "92ec64f2-5826-aeff-9f10-6b04d296a087"
      },
      "source": [
        "Observations:\n",
        "\n",
        " - No Survived feature on the testing set\n",
        " - Lot of Ages values are missing \n",
        " - Cabin feature is mostly null \n",
        " - Embarked feature has a few missing values\n",
        " - Survived and Pclass should be treated as object for the next steps\n",
        " - The training set is approximately twice the size of the testing set "
      ]
    },
    {
      "cell_type": "code",
      "execution_count": null,
      "metadata": {
        "_cell_guid": "ce7059ab-f741-63ef-62a7-86f1896ac7ab"
      },
      "outputs": [],
      "source": [
        "# Basic statistical information about quantitative and qualitative features\n",
        "\n",
        "# Changing the type of Pclass and Survived \n",
        "df_train['Pclass']=df_train['Pclass'].astype(object)\n",
        "df_train['Survived']=df_train['Survived'].astype(object)\n",
        "df_test['Pclass']=df_test['Pclass'].astype(object)\n",
        "\n",
        "print(\"----------------------------------Informations for the training set----------------------------------\\n\")\n",
        "\n",
        "# Quantitative\n",
        "display(df_train.describe())\n",
        "\n",
        "# Qualitative\n",
        "display(df_train.describe(include=['object']))\n",
        "\n",
        "print(\"----------------------------------Informations for the testing set----------------------------------\\n\")\n",
        "\n",
        "# Quantitative\n",
        "display(df_test.describe())\n",
        "\n",
        "# Qualitative\n",
        "display(df_test.describe(include=['object']))"
      ]
    },
    {
      "cell_type": "markdown",
      "metadata": {
        "_cell_guid": "600784b2-9727-18df-7686-dea6f6b7c7fa"
      },
      "source": [
        "Observations:\n",
        "\n",
        "* From the description of the data we know that 1502 out of 2224 people died. The global survival rate being around 32.5 %. However, in the training set, the survival rate is around 38.3 %\n",
        "* For the others quantitative and qualitative features for a quick look the training and testing set seem well stratified \n",
        "\n",
        "\n",
        "Quantitative:\n",
        "\n",
        " * Age:  Most people (68%) were between 16 and 44 years old\n",
        " * Sibsp and Parch: Most people were traveling without parents, children, sibling or spouse.\n",
        " * Fare: The fare has a really high std compare to its mean.\n",
        "\n",
        "Qualitative:\n",
        "\n",
        " * Name: is unique for every passenger\n",
        " * Sex: Around 64 % were male in both datasets\n",
        " * Pclass: Little bit more than half passengers were from the 3rd class\n",
        " * Embarked: Most came from Southampton (64.5% for testing and 72.2% for training)\n",
        " * Ticket and Cabin: are not unique for every passenger "
      ]
    },
    {
      "cell_type": "markdown",
      "metadata": {
        "_cell_guid": "74276b0d-f71e-bc2f-44dd-39b3821b26a5"
      },
      "source": [
        "##  2 - Visualization Part 1"
      ]
    },
    {
      "cell_type": "markdown",
      "metadata": {
        "_cell_guid": "a4f6b59d-7869-1875-6c41-488a785128b3"
      },
      "source": [
        "[[back to top](#Table-of-contents)]"
      ]
    },
    {
      "cell_type": "markdown",
      "metadata": {
        "_cell_guid": "9dc77970-7645-922a-edaf-881a8fd6b401"
      },
      "source": [
        "### 2-A Basic insight of the training set"
      ]
    },
    {
      "cell_type": "code",
      "execution_count": null,
      "metadata": {
        "_cell_guid": "1ef5c0e3-27f3-8071-f44b-a16ff083e913"
      },
      "outputs": [],
      "source": [
        "# Qualitative Data : [Survived, Sex, Embarked, Pclass] \n",
        "fig, (axis1,axis2,axis3,axis4) = plt.subplots(1,4,figsize=(13,5))\n",
        "sns.countplot(x='Survived', data=df_train, ax=axis1)\n",
        "sns.countplot(x='Sex', data=df_train, ax=axis2)\n",
        "sns.countplot(x='Embarked', data=df_train, ax=axis3)\n",
        "sns.countplot(x='Pclass', data=df_train, ax=axis4)\n",
        "fig.suptitle(\"Representation of qualitative features with count\")"
      ]
    },
    {
      "cell_type": "markdown",
      "metadata": {
        "_cell_guid": "8201cc59-c5dd-7d7a-a6a4-5f265856868d"
      },
      "source": [
        "Observations:\n",
        "\n",
        " * High imbalance between the values of the Survived, Sex, Plass and Embarked\n",
        " * Survived and Sex count look like the same, with female being the ones that survived.\n",
        " * Pclass: Pclass 1 and 2 are balanced but Pclass3 is more than half passenger\n",
        " * Embarked: Most people come from Southampton and Cherbourg is twice big as Queenstown "
      ]
    },
    {
      "cell_type": "code",
      "execution_count": null,
      "metadata": {
        "_cell_guid": "83d00337-4a7e-2366-7901-a0349bf827f9"
      },
      "outputs": [],
      "source": [
        "# Discrete Quantitative Data : [SibSp, Parch] \n",
        "fig2, (axis1,axis2) = plt.subplots(1,2,figsize=(13,5))\n",
        "sns.countplot(df_train['SibSp'],ax=axis1)\n",
        "sns.countplot(df_train['Parch'],ax=axis2)\n",
        "fig2.suptitle(\"Representation of discrete quantitative features with count\")"
      ]
    },
    {
      "cell_type": "markdown",
      "metadata": {
        "_cell_guid": "b625f036-af4b-5b69-89e7-fbc57861f0fc"
      },
      "source": [
        "Observations:\n",
        "\n",
        " * Passenger were mostly alone or with 1 or 2 people."
      ]
    },
    {
      "cell_type": "code",
      "execution_count": null,
      "metadata": {
        "_cell_guid": "fc1f8a0e-152c-2de3-2e1b-613204bfe0e6"
      },
      "outputs": [],
      "source": [
        "# Continuous Quantitative Data : [Age, Fare]\n",
        "fig3, (axis1,axis2) = plt.subplots(2,1,figsize=(13,10))\n",
        "sns.distplot(df_train['Age'].dropna(), bins=80, ax=axis1)\n",
        "sns.distplot(df_train['Fare'], ax=axis2)\n",
        "fig3.suptitle(\"Histogram and kernel density estimate of continuous quantitative features\")"
      ]
    },
    {
      "cell_type": "markdown",
      "metadata": {
        "_cell_guid": "9e5cc8d0-370e-a6f0-fccf-28e6e7363576"
      },
      "source": [
        "Observations:\n",
        "\n",
        " * There is a bump representing children in the Age distribution\n",
        " * A few peoples paid way more than the others "
      ]
    },
    {
      "cell_type": "code",
      "execution_count": null,
      "metadata": {
        "_cell_guid": "2dc97319-d8f3-da23-2934-2c4219b8cb07"
      },
      "outputs": [],
      "source": [
        "# Age distribution within Sex and Pclass\n",
        "fig3, ((axis1),(axis2),(axis3)) = plt.subplots(3,1,figsize=(13,15))\n",
        "\n",
        "# Age distribution\n",
        "df_train.Age.plot(kind='kde',ax=axis1)\n",
        "axis1.set_xlabel(\"Age\")    \n",
        "axis1.set_title(\"Age distribution\")\n",
        "\n",
        "# Age distribution within Sex\n",
        "df_train.Age[df_train.Sex == 'male'].plot(kind='kde',ax=axis2,)    \n",
        "df_train.Age[df_train.Sex == 'female'].plot(kind='kde',ax=axis2)\n",
        "axis2.set_xlabel(\"Age\")    \n",
        "axis2.set_title(\"Age distribution within Sex\")\n",
        "axis2.legend(('Male', 'Female'))\n",
        "\n",
        "# Age distribution within Pclass\n",
        "df_train.Age[df_train.Pclass == 1].plot(kind='kde',ax=axis3)    \n",
        "df_train.Age[df_train.Pclass == 2].plot(kind='kde',ax=axis3)\n",
        "df_train.Age[df_train.Pclass == 3].plot(kind='kde',ax=axis3)\n",
        "axis3.set_xlabel(\"Age\")    \n",
        "axis3.set_title(\"Age distribution within PClass\")\n",
        "axis3.legend(('1st Class', '2nd Class','3rd Class'))"
      ]
    },
    {
      "cell_type": "markdown",
      "metadata": {
        "_cell_guid": "ac88e78e-0ce9-d413-f055-9e4f9e40c578"
      },
      "source": [
        "Observations:\n",
        "\n",
        " * Small differences of distribution of Age between Male and Female. Female having a higher density for children and lower for elderly.\n",
        " * Significant differences of distribution of Age between Pclass 1, 2 and 3. Pclass 3 being the younger then come Pclass 2 and then Pclass 1."
      ]
    },
    {
      "cell_type": "markdown",
      "metadata": {
        "_cell_guid": "2b307244-279c-22e1-1ef2-d9e7ca0c2b5b"
      },
      "source": [
        "### 2-B Focus on the mean of survival"
      ]
    },
    {
      "cell_type": "code",
      "execution_count": null,
      "metadata": {
        "_cell_guid": "c6fc262f-1abe-0a03-a534-676aa2a96f9f"
      },
      "outputs": [],
      "source": [
        "# (Sex, Pclass, Embarked) by mean of survival\n",
        "fig4, (axis1,axis2,axis3) = plt.subplots(1,3,figsize=(13,5))\n",
        "sns.barplot(x='Sex',y='Survived', data=df_train, ax=axis1)\n",
        "sns.barplot(x='Embarked',y='Survived', data=df_train, ax=axis3)\n",
        "sns.barplot(x='Pclass',y='Survived', data=df_train, ax=axis2)\n",
        "fig4.suptitle(\"Representation of qualitative features linked to the target: Survived \")"
      ]
    },
    {
      "cell_type": "markdown",
      "metadata": {
        "_cell_guid": "ff8cdba2-7d7b-154d-7bd4-9200e09b7530"
      },
      "source": [
        "Observations:\n",
        "\n",
        " * Sex:\n",
        "     * Male: low rate of survival ~0.2\n",
        "     * Female: high rate of survival ~0.75\n",
        " * Pclass by mean of survival 1 > 2 > 3\n",
        " * Embarked: Differences of survival C > Q > S . Most people came from S so it's normal that their rates of survival are close to the global rate.  "
      ]
    },
    {
      "cell_type": "code",
      "execution_count": null,
      "metadata": {
        "_cell_guid": "f34516f3-0175-88dd-09cb-dab5e1977b13"
      },
      "outputs": [],
      "source": [
        "# (SibSp, Parch) by mean of survival\n",
        "fig6, (axis1,axis2) = plt.subplots(1,2,figsize=(15,5))\n",
        "sns.barplot(x='SibSp',y='Survived', data=df_train, ax=axis1)\n",
        "sns.barplot(x='Parch',y='Survived', data=df_train, ax=axis2)\n",
        "fig6.suptitle(\"Representation of discrete quantitative features linked to the target: Survived \")"
      ]
    },
    {
      "cell_type": "markdown",
      "metadata": {
        "_cell_guid": "8f872500-eba4-524a-c5a2-8327c6fdfbf2"
      },
      "source": [
        "Observations :\n",
        "\n",
        " * Parch seems to have small differences of rate for the most encountered values. But 0 still get a lower rate. \n",
        " * Sibsp seems better and we can group them together to create a new feature showing the number of relatives (even if a lot of them are not counted in this both features, for more information you can go to the data description at the beginning of the notebook. "
      ]
    },
    {
      "cell_type": "code",
      "execution_count": null,
      "metadata": {
        "_cell_guid": "f23af4e1-12a4-aa1d-039e-6d7dd8b657dd"
      },
      "outputs": [],
      "source": [
        "# Cross relation betwen (Sex, Pclass, Embarked) by mean of survival\n",
        "fig5, ((axis1,axis2),(axis3,axis4),(axis5,axis6)) = plt.subplots(3,2,figsize=(13,15))\n",
        "sns.barplot(x='Sex',y='Survived',hue='Pclass', data=df_train, ax=axis1)\n",
        "sns.barplot(x='Sex',y='Survived',hue='Embarked', data=df_train, ax=axis2)\n",
        "\n",
        "sns.barplot(x='Pclass',y='Survived',hue='Sex', data=df_train, ax=axis3)\n",
        "sns.barplot(x='Pclass',y='Survived',hue='Embarked', data=df_train, ax=axis4)\n",
        "\n",
        "sns.barplot(x='Embarked',y='Survived',hue='Sex', data=df_train, ax=axis5)\n",
        "sns.barplot(x='Embarked',y='Survived',hue='Pclass', data=df_train, ax=axis6)\n",
        "\n",
        "fig5.suptitle(\"Cross Representation of qualitative features linked to the target: Survived\")"
      ]
    },
    {
      "cell_type": "markdown",
      "metadata": {
        "_cell_guid": "a6755d99-d7b0-a640-8f22-b2510751fb0b"
      },
      "source": [
        "Observations:\n",
        "\n",
        " * Male Pclass 1 has around twice the rate of Male from Pclass 2 and 3.\n",
        " * Female class 3 has a rate around twice lower than Female from Pclass 1 and 2.\n",
        " * Embarked do not seems very meaningful for us, but Pclass 3 Embarked from S is really lower than the others 3nd Pclass and male from Embarked Q lower than Male from Embarked S and C."
      ]
    },
    {
      "cell_type": "code",
      "execution_count": null,
      "metadata": {
        "_cell_guid": "2453bde7-7b9c-2290-4b21-3c120fc38682"
      },
      "outputs": [],
      "source": [
        "# Age"
      ]
    },
    {
      "cell_type": "code",
      "execution_count": null,
      "metadata": {
        "_cell_guid": "685b21eb-9ce0-8057-2acf-38cefdaef3cd"
      },
      "outputs": [],
      "source": [
        "# Age Count and by mean of survival\n",
        "df_train['Age'] = df_train['Age'].map(lambda s : s if np.isnan(s) else int(s))\n",
        "fig6, (axis1,axis2) = plt.subplots(2,1,figsize=(13,14))\n",
        "sns.countplot(x='Age', data=df_train,ax=axis1)\n",
        "sns.barplot(x='Age', y='Survived', data=df_train,errwidth=0.2,ax=axis2)"
      ]
    },
    {
      "cell_type": "markdown",
      "metadata": {
        "_cell_guid": "322127d7-edaa-9098-f92f-2c64dbc334dd"
      },
      "source": [
        "Observations:\n",
        "\n",
        " * Age by mean of survival is high for children and elderly and low for medium ages, following the opposite of the distribution of Age."
      ]
    },
    {
      "cell_type": "code",
      "execution_count": null,
      "metadata": {
        "_cell_guid": "6ec0a474-7151-cbc1-e2a6-7e2a74bced43"
      },
      "outputs": [],
      "source": [
        "# Kernel density of survivor and non survivor by Age\n",
        "g1 = sns.FacetGrid( df_train , hue='Survived' , size=3.5, aspect = 3)\n",
        "g1.map( sns.kdeplot , 'Age' , shade= True )\n",
        "g1.add_legend()\n",
        "\n",
        "# Kernel density of survivor and non survivor by Age and Sex \n",
        "g2 = sns.FacetGrid( df_train , hue='Survived' , size=3.5, aspect = 3 , row = 'Sex')\n",
        "g2.map( sns.kdeplot , 'Age' , shade= True )\n",
        "g2.add_legend()\n",
        "\n",
        "# Kernel density of survivor and non survivor by Age and Pclass\n",
        "g3 = sns.FacetGrid( df_train , hue='Survived' , size=3.5, aspect = 3 , row = 'Pclass')\n",
        "g3.map( sns.kdeplot , 'Age' , shade= True )\n",
        "g3.add_legend()"
      ]
    },
    {
      "cell_type": "markdown",
      "metadata": {
        "_cell_guid": "f98c2a33-c6a1-c94d-71ba-6844e160a89b"
      },
      "source": [
        "Observations:\n",
        "\n",
        " * For the males from around 15 to 30 the rate of survival is lower, and for young boys is bigger. \n",
        " * For young females from 0 to 20 were more likely to die than the ones from 30 to 60.\n",
        " * In Pclass 1 there is a separation around 40 years old before they were more likely to survive and after to die.\n",
        " * In Pclass 2 and 3 there is no clear separation but the child were more likely to survive and the older more likely to die.\n",
        " * Thinking about the creation of a feature for Child as the distribution show good survival rate for young passengers. Need to check if the Training and Test dataset have the same distribution of Age. "
      ]
    },
    {
      "cell_type": "code",
      "execution_count": null,
      "metadata": {
        "_cell_guid": "be5419a1-20d8-cb90-bf86-02c26d436905"
      },
      "outputs": [],
      "source": [
        "# Fare"
      ]
    },
    {
      "cell_type": "code",
      "execution_count": null,
      "metadata": {
        "_cell_guid": "bc1acfe0-bb30-172d-0dce-eedb25317cdb"
      },
      "outputs": [],
      "source": [
        "# Scatterplot Fare & Age\n",
        "g = sns.FacetGrid(df_train, hue=\"Survived\", size=5, aspect = 2)\n",
        "g=g.map(plt.scatter, \"Fare\", \"Age\",edgecolor=\"w\").add_legend()\n",
        "g.add_legend()\n",
        "g.set(xlim=(0, 550))\n",
        "\n",
        "# Scatterplot Fare & Age by Sex\n",
        "g = sns.FacetGrid(df_train, hue=\"Survived\", col=\"Sex\", margin_titles=True,\n",
        "                palette=\"Set1\",hue_kws=dict(marker=[\"^\", \"v\"]), size=5,aspect = 1)\n",
        "g=g.map(plt.scatter, \"Fare\", \"Age\",edgecolor=\"w\").add_legend()\n",
        "g.add_legend()\n",
        "g.set(xlim=(0, 300))\n",
        "\n",
        "# Scatterplot Fare & Age by Pclass\n",
        "g = sns.FacetGrid(df_train, col=\"Pclass\", hue=\"Survived\", size=5, aspect = 0.66)\n",
        "g=g.map(plt.scatter, \"Fare\", \"Age\",edgecolor=\"w\").add_legend()\n",
        "g.add_legend()\n",
        "g.set(xlim=(0, 300))\n",
        "\n",
        "# Scatterplot Fare & Age by Pclass & Sex\n",
        "g = sns.FacetGrid(df_train, hue=\"Survived\", col=\"Pclass\", row=\"Sex\" ,margin_titles=True,\n",
        "                  palette={1:\"red\", 0:\"grey\"},size=5, aspect = 0.66)\n",
        "g=g.map(plt.scatter, \"Fare\", \"Age\",edgecolor=\"w\").add_legend()\n",
        "g.set(xlim=(0, 300))"
      ]
    },
    {
      "cell_type": "markdown",
      "metadata": {
        "_cell_guid": "79066263-3197-2635-0fad-e1f342b0f299"
      },
      "source": [
        "Observations:\n",
        "\n",
        " * Female with Fare more than 50 are really likely to survive.\n",
        " * In Pclass 1 Fare more than 100 show a good increase in the rate but is made mostly by Female. "
      ]
    },
    {
      "cell_type": "markdown",
      "metadata": {
        "_cell_guid": "c51eab03-936f-5eb9-4826-599fea1ccfb7"
      },
      "source": [
        "## 3 - Feature engineering"
      ]
    },
    {
      "cell_type": "markdown",
      "metadata": {
        "_cell_guid": "c571a4e0-406b-8423-9c6c-9e13e2cade2e"
      },
      "source": [
        "[[back to top](#Table-of-contents)]"
      ]
    },
    {
      "cell_type": "markdown",
      "metadata": {
        "_cell_guid": "6df1cfc8-48ca-8610-0ced-095f8a35c0ad"
      },
      "source": [
        "The visualization concerning the feature engineering is in the section [Visualization Part 2](#5---Visualization-Part-2)"
      ]
    },
    {
      "cell_type": "markdown",
      "metadata": {
        "_cell_guid": "81a2a879-18a5-3830-355f-30652442a347"
      },
      "source": [
        "### 3-A Name"
      ]
    },
    {
      "cell_type": "markdown",
      "metadata": {
        "_cell_guid": "9077df71-a6ad-216c-1b4e-7be791d733ea"
      },
      "source": [
        "Creation of 4 features:\n",
        "\n",
        " * Name_Length = The number of letters of the full name\n",
        " * Name_Size = The categorized size: Short, Medium, Long and Very Long\n",
        " * Title = The extracted title of the passenger\n",
        " * Title_aggr = The aggregation of the less encountered values "
      ]
    },
    {
      "cell_type": "code",
      "execution_count": null,
      "metadata": {
        "_cell_guid": "4eae6fa4-6f6f-a414-5890-2d1e8b8fac1a"
      },
      "outputs": [],
      "source": [
        "#Create feature for the length of name \n",
        "combined[\"Name_Length\"] = combined[\"Name\"].apply(lambda x: len(x))\n",
        "\n",
        "# Create a categorical feature Name_Size\n",
        "combined['Name_Size']=pd.cut(combined['Name_Length']\n",
        "                            ,bins=[0,20,40,60,90]\n",
        "                            ,labels=[\"Short\",\"Medium\",\"Long\",\"Very Long\"])\n",
        "\n",
        "# Extract the title from each name by sliding between the ',' and the '.' \n",
        "combined['Title'] = combined['Name'].map(lambda name:name.split(',')[1].split('.')[0].strip())\n",
        "\n",
        "# Map for aggregated titles\n",
        "Title_Dictionary = {\n",
        "                    \"Mme\":        \"Mrs\",\n",
        "                    \"Mlle\":       \"Miss\",\n",
        "                    \"Ms\":         \"Mrs\",\n",
        "                    \"Mr\" :        \"Mr\",\n",
        "                    \"Mrs\" :       \"Mrs\",\n",
        "                    \"Miss\" :      \"Miss\",\n",
        "                    \"Capt\":       \"Officer\",\n",
        "                    \"Col\":        \"Officer\",\n",
        "                    \"Major\":      \"Officer\",\n",
        "                    \"Dr\":         \"Officer\",\n",
        "                    \"Rev\":        \"Officer\",\n",
        "                    \"Master\" :    \"Master\",\n",
        "                    \"Lady\" :      \"Royalty\",\n",
        "                    \"Jonkheer\":   \"Royalty\",\n",
        "                    \"Don\":        \"Royalty\",\n",
        "                    \"Sir\" :       \"Royalty\",\n",
        "                    \"Dona\":       \"Royalty\",\n",
        "                    \"the Countess\":\"Royalty\"\n",
        "                    }\n",
        "    \n",
        "# Mapping\n",
        "combined['Title_aggr'] = combined.Title.map(Title_Dictionary)"
      ]
    },
    {
      "cell_type": "markdown",
      "metadata": {
        "_cell_guid": "ccc62e0a-cd95-f734-5973-ced4edb12111"
      },
      "source": [
        "### 3-B Family"
      ]
    },
    {
      "cell_type": "markdown",
      "metadata": {
        "_cell_guid": "372b8c58-e084-5804-9cbf-5344cb673a10"
      },
      "source": [
        "Creation of 2 features:\n",
        "\n",
        " * Number of relatives = SibSp + Parch\n",
        " * Size_Family =  The categorised size : Alone, Small and Big"
      ]
    },
    {
      "cell_type": "code",
      "execution_count": null,
      "metadata": {
        "_cell_guid": "e26e1375-36bb-cba5-7607-5cf2c6ff3f82"
      },
      "outputs": [],
      "source": [
        "# Creation of a feature Number_of_relatives = SibSp + Parch\n",
        "combined['Number_of_relatives']=combined['SibSp']+combined['Parch']\n",
        "\n",
        "# Creation of a categorical feature Size_Family\n",
        "combined.loc[combined['Number_of_relatives'] == 0, 'Size_Family'] = 'Alone'\n",
        "combined.loc[ (combined['Number_of_relatives'] > 0) \n",
        "            & (combined['Number_of_relatives'] < 4), 'Size_Family'] = 'Small'\n",
        "combined.loc[combined['Number_of_relatives'] > 3, 'Size_Family'] = 'Big'"
      ]
    },
    {
      "cell_type": "markdown",
      "metadata": {
        "_cell_guid": "ac7ee888-44a4-00ae-64c5-86d4cf9a29be"
      },
      "source": [
        "### 3-C Cabin"
      ]
    },
    {
      "cell_type": "markdown",
      "metadata": {
        "_cell_guid": "f60d7ad3-4b0f-d8c8-73e5-bb704065e27b"
      },
      "source": [
        "Creation of the Deck feature by extraction of the cabin number"
      ]
    },
    {
      "cell_type": "code",
      "execution_count": null,
      "metadata": {
        "_cell_guid": "cf57e28d-91c9-32f4-0a52-fc736e360fc6"
      },
      "outputs": [],
      "source": [
        "# Mostly NaN values\n",
        "print('Number of null values:')\n",
        "display(combined.Cabin.isnull().sum())\n",
        "\n",
        "# Create a category Unknown\n",
        "combined['Cabin'] = combined.Cabin.fillna( 'U' )\n",
        "\n",
        "# Get the Deck \n",
        "combined[\"Deck\"]=combined.Cabin.str[0]"
      ]
    },
    {
      "cell_type": "markdown",
      "metadata": {
        "_cell_guid": "4f91785e-10c0-af36-4a6e-4385a97932c9"
      },
      "source": [
        "## 4 - Missing Values"
      ]
    },
    {
      "cell_type": "markdown",
      "metadata": {
        "_cell_guid": "0d6543ea-df27-1513-868f-1339e481dec6"
      },
      "source": [
        "[[back to top](#Table-of-contents)]"
      ]
    },
    {
      "cell_type": "markdown",
      "metadata": {
        "_cell_guid": "04a9cc0b-e058-bbbf-8f8f-83c464012841"
      },
      "source": [
        "Fare and Embarked have only 1 and 2 missing values so there is two main choice either to delete or to input some values.\n",
        "\n",
        "Age could require a more complex approach as there is a lot of missing values, for example, based on a prediction model.\n",
        "\n",
        "I took the choice to go with imputation based on multivariate analysis of the three features. "
      ]
    },
    {
      "cell_type": "markdown",
      "metadata": {
        "_cell_guid": "760ff961-9a2d-df8f-43c8-8cf7f5391a8b"
      },
      "source": [
        "**_Note about: Missing values_**\n",
        "\n",
        "Many algorithms cannot deal with missing values like distance measure-dependent algorithms, and real-world data tends to have a lot of missing values, it's therefore recommended to study the reasons before making any choice. \n",
        "\n",
        "The three major problems of missing data are:\n",
        "\n",
        " * Biased results\n",
        " * Decreased statistical power\n",
        " * Complicated analyses\n",
        "\n",
        "-----------------------------------------------------------------------------------------------------------\n",
        "\n",
        "There are different assumptions about missing data mechanisms [Rubin (1976)]:\n",
        "\n",
        "Let Ycom denote the complete data and partition it as Ycom = (Yobs, Ymis), where Yobs and Ymis are the observed and missing parts, respectively.\n",
        "\n",
        " * **Missing At Random** (MAR)\n",
        "Missing data is defined to be MAR if the distribution of missingness does not depend on Ymis. In other words, MAR allows the probabilities of missingness to depend on observed data Yobs but not on missing data Ymis.\n",
        "Missing value can depend on Yobs, but not Ymis.\n",
        "    \n",
        " * **Missing Completely At Random** (MCAR)\n",
        "An important special case of MAR, called missing completely at random (MCAR), occurs when the distribution does not depend on Yobs either. Meaning that the probability of missingness is unrelated to the values of any variables, whether missing or observed.\n",
        "Missing value neither depends on Yobs, nor Ymis.\n",
        "\n",
        " * **Missing Not At Random** (MNAR)\n",
        "When MAR assumption is violated and the distribution depends on Ymis, the missing data are said to be missing not at random (MNAR). The probability of a missing value depends on the variable that is missing.\n",
        "Missing value depends on Ymis.\n",
        "\n",
        "MAR is also called ignorable nonresponse, and MNAR is called nonignorable [Little and Rubin 2002]. MNAR is called \u201cnon-ignorable\u201d because the missing data mechanism itself has to be modeled as you deal with the missing data. In the MAR and MCAR mechanisms, imputation does not require that we make specific assumptions about how data are missing.\n",
        "\n",
        "Many missing data methods assume MCAR or MAR but data often are MNAR.\n",
        "Some MAR analysis methods using MNAR data are still pretty good for example Maximum Likelihood (ML) and Multiple imputation (MI) are often unbiased with NMAR data even though assume data is MAR [Schafer & Graham 2002]\n",
        "\n",
        "In most data sets, more than one feature will have missing data, and they may not all have the same mechanism for missing data. It\u2019s recommended to study the mechanism for each variable with missing data before choosing an approach.\n",
        "\n",
        "-----------------------------------------------------------------------------------------------------------\n",
        "Some of the classical methods to treat missing values:\n",
        "\n",
        "**Deletion**: Deletion of row or feature\n",
        "\n",
        " * Complete case deletion also called Listwise deletion  \n",
        "\n",
        "    The entire row is excluded from the dataset if any single values is missing.      \n",
        "Row deletion methods are used when the percentage of missing data is not so high and the missing data is assumed to be \u201cMissing completely at random\u201d. If data is MCAR then complete case deletion does not add any bias, but it does decrease the power of the analysis by decreasing the effective sample size. \n",
        "\n",
        "\n",
        " * Feature deletion\n",
        "\n",
        "    The entire feature that contains too many missing values is excluded.\n",
        "For example used when a significant number of values are missing and you don't want to add bias/lower variance with imputation techniques or are unable to predict reasonably well this feature with the non-missing ones. \n",
        "       \n",
        "**Single Imputation**: Substitute each missing value for a reasonable guess\n",
        "\n",
        " A Limitations of imputation techniques in general are that they lead to an underestimation of standard errors and, thus, overestimation of test statistics.\n",
        " \n",
        " * Univariate and multivariate analysis\n",
        "    * Univariate:\n",
        "        * Missing values are imputed based on values from the same variable\n",
        "    * Multivariate:\n",
        "        * Missing values are imputed based on values of other variables from the same row.\n",
        "    * Example:\n",
        "        * Mean - For normally distributed quantitative data that is assumed to be distributed similarly to the non-missing values. Note that univariate mean imputation attenuates any correlations involving the imputed variables and biased estimates of variances and covariances.\n",
        "        * Median - For non-normally distributed or discrete quantitative data or to ease outliers\n",
        "        * Most frequent value - For nominal and ordinal      \n",
        "\n",
        "\n",
        " * Constant\n",
        "\n",
        "    When the features are missing for some reason that should be reflected by their value.\n",
        "\n",
        "\n",
        " * Prediction model\n",
        "\n",
        "    A machine learning or statistical predictor is used with the non-missing values features to guess the missing values. Some examples are regression, logistic regression and others. The disadvantages are that the model estimated values are usually better-behaved than the true values and if there is no relationship with others non-missing features then the estimation will not be precise.\n",
        "\n",
        "\n",
        " * Knn imputation\n",
        "\n",
        "    Knn imputation has the advantages to handle both qualitative and quantitative features. Moreover, the data structure is taken into consideration as similarity of two features is determined using a distance function. Nonetheless, the choice of the k-value is critical and classical Knn is very time-consuming in analyzing large database. High k-value may include non-significant features and low may miss some significant ones.\n",
        "\n",
        "\n",
        " * Binary variable \n",
        "\n",
        "    Create a dummy to specify that this values were missing. This helping analysis or model prediction to understand that there is a difference between missing and non-missing data. Moreover, it can enable you to analyze correlation between missing values from different features.  \n",
        "\n",
        "\n",
        "**Some Advanced methods**:\n",
        "\n",
        " * Multiple imputation] (MI)\n",
        " * Maximum Likelihood (ML)\n",
        " * Expectation-maximization (EM)\n",
        " * SVM with kernel functions that can handle missing data\n",
        " * Hot deck "
      ]
    },
    {
      "cell_type": "markdown",
      "metadata": {
        "_cell_guid": "91273558-6b20-5610-a64f-db27c912b09d"
      },
      "source": [
        "### 4-A Embarked"
      ]
    },
    {
      "cell_type": "markdown",
      "metadata": {
        "_cell_guid": "709da34a-27d4-1279-1623-4e8f0637e203"
      },
      "source": [
        "Displaying the missing values and replacing them by looking at the boxplot of Embarked and Pclass with Fare. This assumes that the location where people embarked is related to the fare they paid and the Pclass they chose."
      ]
    },
    {
      "cell_type": "code",
      "execution_count": null,
      "metadata": {
        "_cell_guid": "23b3b99d-95d5-19b1-ec3f-eadb6adc410f"
      },
      "outputs": [],
      "source": [
        "# Get and display the rows where Embarked is null\n",
        "display(combined[combined.Embarked.isnull()][['Fare', 'Pclass', 'Embarked']])\n",
        "\n",
        "# Display boxplot of Embarked missing values\n",
        "combined.boxplot(column='Fare', by=['Embarked','Pclass'], figsize=(8,6))\n",
        "plt.axhline(y=80, color='blue')\n",
        "\n",
        "# Remplace null values by C as most people who are Pclass 1 and Fare 80 has Embarked from C\n",
        "combined = combined.set_value(combined.Embarked.isnull(), 'Embarked', 'C')"
      ]
    },
    {
      "cell_type": "markdown",
      "metadata": {
        "_cell_guid": "a662d526-21eb-6a93-df67-486d8d28fbb7"
      },
      "source": [
        "### 4-B Fare"
      ]
    },
    {
      "cell_type": "markdown",
      "metadata": {
        "_cell_guid": "5dc4e391-0aa4-7daf-15d1-fee775b47f03"
      },
      "source": [
        "Displaying the missing values and replacing them by the mean of Fare for the same Pclass and Embarked. This assumes the same assumption that for Embarked."
      ]
    },
    {
      "cell_type": "code",
      "execution_count": null,
      "metadata": {
        "_cell_guid": "f6c3af5b-9478-efba-b373-ca37cbc2d8b0"
      },
      "outputs": [],
      "source": [
        "# Visualization of the fare which is missing\n",
        "display(combined[combined.Fare.isnull()][['Pclass', 'Fare', 'Embarked']])\n",
        "combined.loc[(combined['Pclass']==3) & (combined['Embarked']=='S')].Fare.hist(bins=100,figsize=(8,6))\n",
        "\n",
        "# Get and affect the median to the missing value\n",
        "Fare_median=combined[(combined.Pclass==3) & (combined.Embarked=='S')].Fare.median()\n",
        "combined[\"Fare\"].fillna(Fare_median, inplace=True)"
      ]
    },
    {
      "cell_type": "markdown",
      "metadata": {
        "_cell_guid": "a3811f3a-cab1-036a-b298-1ebbb5ad293f"
      },
      "source": [
        "### 4-C Age and creation of a child feature"
      ]
    },
    {
      "cell_type": "markdown",
      "metadata": {
        "_cell_guid": "c4af9d94-71ae-d19d-f230-7c4b16c6f548"
      },
      "source": [
        "Filling Age by taking the mean of a group by with Sex, Pclass and Title_aggr. This assumes that the distribution of age is related to the Sex, the Pclass and the title. "
      ]
    },
    {
      "cell_type": "code",
      "execution_count": null,
      "metadata": {
        "_cell_guid": "ef201e86-a8d5-15f2-51fa-c125594f4810"
      },
      "outputs": [],
      "source": [
        "# Fill the NaN values with median using Sex, Pclass and Title\n",
        "grouped = combined.groupby(['Sex','Pclass','Title_aggr'])\n",
        "age_mean = grouped['Age'].mean()\n",
        "combined[\"Age\"] = combined.groupby(['Sex','Pclass','Title_aggr'])['Age'].transform(lambda x: x.fillna(x.mean()))\n",
        "combined.Age = combined.Age.astype(int)\n",
        "\n",
        "# Display the median by Sex Pclass and Title_aggr\n",
        "display(age_mean)"
      ]
    },
    {
      "cell_type": "code",
      "execution_count": null,
      "metadata": {
        "_cell_guid": "958d8784-8079-f34c-5ba3-c45c903c6b88"
      },
      "outputs": [],
      "source": [
        "# Kernel density of Age by Pclass, Sex and Title_aggr\n",
        "g1 = sns.FacetGrid( combined , row='Pclass' ,col='Sex',hue='Title_aggr', size = 5 , aspect=1)\n",
        "g1.map( sns.kdeplot , 'Age' , shade= True )\n",
        "g1.add_legend()"
      ]
    },
    {
      "cell_type": "markdown",
      "metadata": {
        "_cell_guid": "7ecd29d1-80c9-7899-a3e3-6034041ea7d3"
      },
      "source": [
        "Creation of a Child feature representing passengers younger than 7."
      ]
    },
    {
      "cell_type": "code",
      "execution_count": null,
      "metadata": {
        "_cell_guid": "e6c89de5-ceaf-91e9-5661-0f879ba9a8f9"
      },
      "outputs": [],
      "source": [
        "# Creation of a Child feature\n",
        "combined['Child'] = combined['Age'].map(lambda s : 1 if s < 7 else 0)"
      ]
    },
    {
      "cell_type": "markdown",
      "metadata": {
        "_cell_guid": "1507352c-8166-1d15-afac-7b9c3a092ba2"
      },
      "source": [
        "## 5 - Visualization Part 2"
      ]
    },
    {
      "cell_type": "markdown",
      "metadata": {
        "_cell_guid": "096c5cbd-bdec-83f4-96e2-8e70166de153"
      },
      "source": [
        "[[back to top](#Table-of-contents)]"
      ]
    },
    {
      "cell_type": "markdown",
      "metadata": {
        "_cell_guid": "75603861-ad7d-1666-e821-17580372cf80"
      },
      "source": [
        "This part of the visualization treats new features created during feature engineering."
      ]
    },
    {
      "cell_type": "code",
      "execution_count": null,
      "metadata": {
        "_cell_guid": "7c6e4aed-b85f-867b-3bec-38a208e93a40"
      },
      "outputs": [],
      "source": [
        "# Verification of missing values\n",
        "print('Number of null values :')\n",
        "display(combined.isnull().sum())\n",
        "\n",
        "# Split for visualization\n",
        "df_train, df_test= split_train_test(combined)\n",
        "\n",
        "# Display shape\n",
        "display(df_train.shape)\n",
        "display(df_test.shape)\n",
        "\n",
        "# Name of columns\n",
        "display(df_train.columns)"
      ]
    },
    {
      "cell_type": "markdown",
      "metadata": {
        "_cell_guid": "469602bd-827f-c26f-77b0-36c55d87fa94"
      },
      "source": [
        "### 5-A Name"
      ]
    },
    {
      "cell_type": "code",
      "execution_count": null,
      "metadata": {
        "_cell_guid": "c78748ec-f378-081b-d4d0-813857d5f0fa"
      },
      "outputs": [],
      "source": [
        "fig, ((axis1,axis2),(axis3,axis4),(axis5,axis6),(axis7,axis8)) = plt.subplots(4,2,figsize=(13,20))\n",
        "\n",
        "# Plot Name_Length\n",
        "sns.distplot(df_train['Name_Length'],ax=axis1)\n",
        "axis1.set_title(\" Hist and kde of Name_Length\")\n",
        "# Plot Name_Length by mean of survival\n",
        "sns.barplot(x='Name_Length', y='Survived', data=df_train,errwidth=0,ax=axis2)\n",
        "axis2.set_title(\" Name_Length by mean of survival\")\n",
        "\n",
        "# Plot Name_Size\n",
        "sns.countplot(x='Name_Size', data=df_train, order=[\"Short\",\"Medium\",\"Long\",\"Very Long\"], ax=axis3)\n",
        "axis3.set_title(\" Count of Name_Size\")\n",
        "# Plot Name_Size by mean of survival\n",
        "sns.barplot(x='Name_Size',y='Survived', data=df_train, order=[\"Short\",\"Medium\",\"Long\",\"Very Long\"], ax=axis4)\n",
        "axis4.set_title(\" Name_Size by mean of survival\")\n",
        "\n",
        "# Plot Title\n",
        "sns.countplot(x='Title', data=df_train, ax=axis5)\n",
        "axis5.set_title(\" Count of Title\")\n",
        "# Plot Title\n",
        "sns.barplot(x='Title',y='Survived', data=df_train, ax=axis6)\n",
        "axis6.set_title(\" Title by mean of survival\")\n",
        "\n",
        "# Plot Title aggregate\n",
        "sns.countplot(x='Title_aggr', data=df_train, ax=axis7)\n",
        "axis7.set_title(\" Count of Title_aggr\")\n",
        "# Plot Title aggregate\n",
        "sns.barplot(x='Title_aggr',y='Survived', data=df_train, ax=axis8)\n",
        "axis8.set_title(\" Title_aggr by mean of survival\")\n",
        "\n",
        "# Display Title aggregate and Name Size by mean of survival\n",
        "#sns.barplot(x='Title_aggr',y='Survived', hue='Name_Size', data=df_train,errwidth=1)"
      ]
    },
    {
      "cell_type": "markdown",
      "metadata": {
        "_cell_guid": "43839f65-fa15-fc76-f529-4d7079bb3cb1"
      },
      "source": [
        "Observations:\n",
        "\n",
        " * Name_Length has a big density between 15 and 35 and decrease after a small bump\n",
        " * Name_Length by mean of survival increase with Name_Length\n",
        " * Name_Size is mostly composed of Medium than Short\n",
        " * Name_Size by mean of survival increase with Name_Size\n",
        " * Title mostly composed of Mr, Mrs, Miss and Master\n",
        " * Title by mean of survival is low for Mr and high for Female and Master\n",
        " * Title_aggr aggregates all the small features of Title into Royalty and Officer"
      ]
    },
    {
      "cell_type": "markdown",
      "metadata": {
        "_cell_guid": "7e1b5642-c1a8-395a-d7d1-dc40d37a1803"
      },
      "source": [
        "### 5-B Family"
      ]
    },
    {
      "cell_type": "code",
      "execution_count": null,
      "metadata": {
        "_cell_guid": "921d809b-dc3e-8aab-e5f2-a54766aa450f"
      },
      "outputs": [],
      "source": [
        "fig, ((axis1,axis2),(axis3,axis4),(axis5,axis6),(axis7,axis8)) = plt.subplots(4,2,figsize=(13,20))\n",
        "\n",
        "# Plot Number_of_relatives\n",
        "sns.countplot(x='Number_of_relatives', data=df_train, ax=axis1)\n",
        "axis1.set_title(\" Count of Number_of_relatives\")\n",
        "# Plot Number_of_relatives by mean of survival\n",
        "fig2 = sns.barplot(x='Number_of_relatives',y='Survived', data=df_train, ax=axis2)\n",
        "axis2.set_title(\" Number_of_relatives by mean of survival\")\n",
        "\n",
        "# Plot Size_Family\n",
        "sns.countplot(x='Size_Family', data=df_train, order=['Alone', 'Small', 'Big'], ax=axis3)\n",
        "axis3.set_title(\" Count of Size_Family\")\n",
        "# Plot Size_Family by mean of survival\n",
        "sns.barplot(x='Size_Family',y='Survived', data=df_train, order=['Alone', 'Small', 'Big'], ax=axis4)\n",
        "axis4.set_title(\" Size_Family by mean of survival\")\n",
        "\n",
        "# Plot Number_of_relatives and Pclass \n",
        "sns.barplot(x='Number_of_relatives',y='Survived',hue='Pclass', data=df_train, ax=axis5)\n",
        "axis5.set_title(\" Number_of_relatives and Pclass by mean of survival\")\n",
        "# Plot Number_of_relatives and Pclass by mean of survival\n",
        "sns.barplot(x='Number_of_relatives',y='Survived',hue='Sex', data=df_train, ax=axis6)\n",
        "axis6.set_title(\" Number_of_relatives and Sex by mean of survival\")\n",
        "\n",
        "# Plot Size_Family and Pclass\n",
        "sns.barplot(x='Size_Family',y='Survived',hue='Pclass', data=df_train, order=['Alone', 'Small', 'Big'], ax=axis7)\n",
        "axis7.set_title(\"Size_Family and Pclass by mean of survival\")\n",
        "# Plot Size_Family  and Pclass by mean of survival\n",
        "sns.barplot(x='Size_Family',y='Survived',hue='Sex', data=df_train, order=['Alone', 'Small', 'Big'], ax=axis8)\n",
        "axis8.set_title(\" Size_Family and Sex by mean of survival\")"
      ]
    },
    {
      "cell_type": "markdown",
      "metadata": {
        "_cell_guid": "22c2c1fc-c8c6-61af-0788-359b0901f36a"
      },
      "source": [
        "Observations:\n",
        "\n",
        " * Number_of_relatives mostly 0, with some 1 and 2\n",
        " * Size_Family is mostly composed of Alone and Small.\n",
        " * Size_Family by mean of survival is low for Alone and Big and higher for Small group.\n",
        " * Male get an increase of the rate of survival with Number_of_relatives from 0 to 3."
      ]
    },
    {
      "cell_type": "markdown",
      "metadata": {
        "_cell_guid": "ebd31891-412f-46d9-efcb-24b2f5d86778"
      },
      "source": [
        "### 5-C Deck"
      ]
    },
    {
      "cell_type": "code",
      "execution_count": null,
      "metadata": {
        "_cell_guid": "c566105e-0a8d-115b-dcf8-958c8f3d2f79"
      },
      "outputs": [],
      "source": [
        "# Show Deck by size and mean of survival\n",
        "fig6, ((axis1,axis2),(axis3,axis4)) = plt.subplots(2,2,figsize=(13,10))\n",
        "sns.countplot(x='Deck', data=df_train, ax=axis1)\n",
        "sns.barplot(x='Deck', y='Survived', data=df_train, ax=axis2)\n",
        "sns.countplot(x='Deck', hue='Pclass', data=combined, ax=axis3)\n",
        "sns.countplot(x='Deck', hue='Embarked',data=combined, ax=axis4)\n",
        "fig6.suptitle(\"Deck by size and mean of survival\")"
      ]
    },
    {
      "cell_type": "markdown",
      "metadata": {
        "_cell_guid": "ada4ffc7-d21a-674c-9984-b37216139e0b"
      },
      "source": [
        "Observations:\n",
        "\n",
        " * Mostly Unknown and no significant difference for the mean of survival\n",
        " * No clear correlation with Pclass or Embarked, would be difficult to do some imputation as we only have a small amount available"
      ]
    },
    {
      "cell_type": "markdown",
      "metadata": {
        "_cell_guid": "8790cedc-f282-f99d-85cd-fa540cb608f5"
      },
      "source": [
        "### 5-D Child"
      ]
    },
    {
      "cell_type": "code",
      "execution_count": null,
      "metadata": {
        "_cell_guid": "778f37b9-f580-4bee-1638-af621ad64b01"
      },
      "outputs": [],
      "source": [
        "fig6, (axis1,axis2) = plt.subplots(1,2,figsize=(13,5))\n",
        "# Plot Child\n",
        "sns.countplot(df_train['Child'],ax=axis1)\n",
        "axis1.set_title(\" Count of Child\")\n",
        "# Plot Child by mean of survival\n",
        "sns.barplot(x='Child', y='Survived', data=df_train,errwidth=0,ax=axis2)\n",
        "axis2.set_title(\" Child by mean of survival\")"
      ]
    },
    {
      "cell_type": "markdown",
      "metadata": {
        "_cell_guid": "3a2b5908-6d5b-f090-cfda-d60cd346964d"
      },
      "source": [
        "### 5-E All features between Training and Testing set"
      ]
    },
    {
      "cell_type": "markdown",
      "metadata": {
        "_cell_guid": "70b9f3dc-01f8-651c-1841-3f36b9c085ec"
      },
      "source": [
        "Test the stratification of features between Training and Testing set, so that we have a better idea of which feature might be useful. Moreover, it can lead to the discover that some feature engineering will certainly not work well. "
      ]
    },
    {
      "cell_type": "code",
      "execution_count": null,
      "metadata": {
        "_cell_guid": "dd2c41fd-2b39-2e96-b969-9a35de222b97"
      },
      "outputs": [],
      "source": [
        "# Display columns\n",
        "display(combined.columns)\n",
        "\n",
        "# Display shape\n",
        "print('Shape of df_train : ',df_train.shape)\n",
        "print('Shape of df_test : ',df_test.shape)\n",
        "print('Shape of combined : ',combined.shape)\n",
        "\n",
        "# Ratio between the size of the training and testing set\n",
        "Ratio = df_train.shape[0]/df_test.shape[0]\n",
        "print('Ratio between training and testing set:',Ratio)"
      ]
    },
    {
      "cell_type": "markdown",
      "metadata": {
        "_cell_guid": "fcb494e7-cb5a-7c82-2464-f958cd988936"
      },
      "source": [
        "By a countplot we can check if the ratio of 2,1 is \"more or less\" followed for the qualitative features."
      ]
    },
    {
      "cell_type": "code",
      "execution_count": null,
      "metadata": {
        "_cell_guid": "31aa6b2d-aec1-b6aa-786b-120bb67d3289"
      },
      "outputs": [],
      "source": [
        "# Kde of Age, Fare, Name_Length and Number_of_relatives\n",
        "fig, ((axis1,axis2),(axis3,axis4))= plt.subplots(2,2,figsize=(13,20))\n",
        "\n",
        "# Age distribution within 3 datasets\n",
        "combined.Age.plot(kind='kde',ax=axis1)    \n",
        "df_train.Age.plot(kind='kde',ax=axis1)  \n",
        "df_test.Age.plot(kind='kde',ax=axis1)  \n",
        "axis1.set_xlabel(\"Age\")    \n",
        "axis1.set_title(\" Kde of Age for the 3 datasets\")\n",
        "axis1.legend(('Combined', 'Train','Test'))\n",
        "\n",
        "# Fare distribution within 3 datasets\n",
        "combined.Fare.plot(kind='kde',ax=axis2)    \n",
        "df_train.Fare.plot(kind='kde',ax=axis2)  \n",
        "df_test.Fare.plot(kind='kde',ax=axis2)  \n",
        "axis2.set_xlabel(\"Fare\")    \n",
        "axis2.set_title(\" Kde of Fare for the 3 datasets\")\n",
        "axis2.legend(('Combined', 'Train','Test'))\n",
        "\n",
        "# Name_Length distribution within 3 datasets\n",
        "combined.Name_Length.plot(kind='kde',ax=axis3)    \n",
        "df_train.Name_Length.plot(kind='kde',ax=axis3)  \n",
        "df_test.Name_Length.plot(kind='kde',ax=axis3)  \n",
        "axis3.set_xlabel(\"Name_Length\")    \n",
        "axis3.set_title(\" Kde of Name_Length for the 3 datasets\")\n",
        "axis3.legend(('Combined', 'Train','Test'))\n",
        "\n",
        "# Number_of_relatives distribution within 3 datasets\n",
        "combined.Number_of_relatives.plot(kind='kde',ax=axis4)    \n",
        "df_train.Number_of_relatives.plot(kind='kde',ax=axis4)  \n",
        "df_test.Number_of_relatives.plot(kind='kde',ax=axis4)  \n",
        "axis4.set_xlabel(\"Number_of_relatives\")    \n",
        "axis4.set_title(\" Kde of Number_of_relatives for the 3 datasets\")\n",
        "axis4.legend(('Combined', 'Train','Test'))"
      ]
    },
    {
      "cell_type": "markdown",
      "metadata": {
        "_cell_guid": "6f1f0b62-fb23-d7de-078b-b2945cbf8d58"
      },
      "source": [
        "Observations:\n",
        "\n",
        " * Age from the Test set have a lower bump for children in the kernel density.\n",
        " * Name_Length from Testing have more high values around 40."
      ]
    },
    {
      "cell_type": "code",
      "execution_count": null,
      "metadata": {
        "_cell_guid": "3815aece-9bee-31a2-ed2d-a4b2d327dfbf"
      },
      "outputs": [],
      "source": [
        "# Count of Pclass, Sex, Embarked, Name_Size, Title and Title_aggr\n",
        "fig, ((axis1,axis2),(axis3,axis4),(axis5,axis6))= plt.subplots(3,2,figsize=(13,20))\n",
        "\n",
        "# Pclass\n",
        "sns.countplot(x='Pclass',hue='Data_set', data=combined, ax=axis1)\n",
        "axis1.set_xlabel(\"Pclass\")    \n",
        "axis1.set_title(\" Countplot of Pclass for the training and testing set\")\n",
        "\n",
        "# Sex\n",
        "sns.countplot(x='Sex',hue='Data_set', data=combined, ax=axis2)\n",
        "axis2.set_xlabel(\"Sex\")    \n",
        "axis2.set_title(\" Countplot of Sex for the training and testing set\")\n",
        "\n",
        "# Embarked\n",
        "sns.countplot(x='Embarked',hue='Data_set', data=combined, ax=axis3)\n",
        "axis3.set_xlabel(\"Embarked\")    \n",
        "axis3.set_title(\" Countplot of Embarked for the training and testing set\")\n",
        "\n",
        "# Name_Size\n",
        "sns.countplot(x='Name_Size',hue='Data_set', data=combined, ax=axis4)\n",
        "axis4.set_xlabel(\"Name_Size\")    \n",
        "axis4.set_title(\" Countplot of Name_Size for the training and testing set\")\n",
        "\n",
        "# Title\n",
        "sns.countplot(x='Title',hue='Data_set', data=combined, ax=axis5)\n",
        "axis5.set_xlabel(\"Title\")    \n",
        "axis5.set_title(\" Countplot of Title for the training and testing set\")\n",
        "\n",
        "# Title_aggr\n",
        "sns.countplot(x='Title_aggr',hue='Data_set', data=combined, ax=axis6)\n",
        "axis6.set_xlabel(\"Title_aggr\")    \n",
        "axis6.set_title(\" Countplot of Title_aggr for the training and testing set\")"
      ]
    },
    {
      "cell_type": "markdown",
      "metadata": {
        "_cell_guid": "c1d517f1-f201-237c-a660-c0d01cdd385d"
      },
      "source": [
        "Observations:\n",
        "\n",
        " * Qualitative features seem well stratified between Train and Test"
      ]
    },
    {
      "cell_type": "markdown",
      "metadata": {
        "_cell_guid": "7473a944-395a-6cdf-079b-6415614120ae"
      },
      "source": [
        "## 6 - Features Encoding"
      ]
    },
    {
      "cell_type": "markdown",
      "metadata": {
        "_cell_guid": "f397ef7e-8427-c21d-81b1-4bb736b5fe7c"
      },
      "source": [
        "[[back to top](#Table-of-contents)]"
      ]
    },
    {
      "cell_type": "markdown",
      "metadata": {
        "_cell_guid": "0bc19a4c-9c17-7b18-5264-6393e35e8a89"
      },
      "source": [
        "**Note about: Feature encoding**\n",
        "\n",
        "Typically we distinguish between qualitative and quantitative variables.\n",
        "\n",
        "Quantitative (also known as numerical) variable is a numerical measurement expressed in terms of numbers and can be classified as:\n",
        "\n",
        " * Discrete: have a finite number of possible values\n",
        " * Continuous: have infinite possibilities\n",
        "\n",
        "Qualitative (also known as categorical) is a variable where the value doesn't represent a quantity but a group which is often referred as level. There is two type of categorical variable:\n",
        "\n",
        " * Ordinal: have an order\n",
        " * Nominal: have no order\n",
        "\n",
        "-----------------------\n",
        "\n",
        "A lot of implementations of machine learning algorithms require numerical data as input (as in scikit-learn for example), and we have to prepare our data accordingly. So when the implementation doesn't treat the problem of categorical features, there are different approaches for representing your features.\n",
        "\n",
        "Nominal:\n",
        "\n",
        "The representation that is generally used for nominal is dummy variable also known as one hot encoder.\n",
        "One dummy variable representing one level from the nominal variable. The information is binary either 1 or 0 to represent the presence or absence of a level. Depending on your application you may need to drop one of the levels from the categorical to escape multicollinearity.\n",
        "\n",
        "Another representation, that is for example often used for the representation of words in natural language processing (NLP), is 1-of-V coding where you represent one level of a nominal feature by a vector where the size is equal to the number of levels of this feature. Each level is represented by a row in the vector with 1 representing the presence and 0 the absence.\n",
        "\n",
        "Ordinal:\n",
        "\n",
        "The two representations that are generally used for ordinal are either dummy variable or to transform each category into a number, where the order and the differences between values matter. For example, {low, medium, big} could be encoded as {1, 2, 3}, in this case, it assumes that the difference from low to medium and medium to big is 1. It's forcing the model to have an order for this feature. In a lot of case starting with dummy variable enable to see if the model finds the order by itself and you may, for example, use the odds ratios from logistic regression to decide if the distances between levels should be equal or not.  "
      ]
    },
    {
      "cell_type": "code",
      "execution_count": null,
      "metadata": {
        "_cell_guid": "77f1b60a-9334-71f5-eb2a-7e49cf779701"
      },
      "outputs": [],
      "source": [
        "print('Shape of combined : ',combined.shape)\n",
        "print('Columns of combined :')\n",
        "display(combined.columns)\n",
        "#print('Number of Null values by features :')\n",
        "#display(combined.isnull().sum())\n",
        "display(combined[[\"Embarked\",\"Sex\",\"Title_aggr\",\"Size_Family\",\"Name_Size\",\"Pclass\"]].head())"
      ]
    },
    {
      "cell_type": "markdown",
      "metadata": {
        "_cell_guid": "07e03888-c58c-d876-ed32-704d247b404c"
      },
      "source": [
        "### 6-A Binary encoding"
      ]
    },
    {
      "cell_type": "code",
      "execution_count": null,
      "metadata": {
        "_cell_guid": "4182010b-96d9-858d-de4f-76a859e4ea9f"
      },
      "outputs": [],
      "source": [
        "# Male is set to 1 and female to 0\n",
        "combined['Sex'] = combined['Sex'].map(lambda s : 1 if s=='male' else 0)"
      ]
    },
    {
      "cell_type": "markdown",
      "metadata": {
        "_cell_guid": "d4a26d7a-b485-4713-5a32-80f9fb672547"
      },
      "source": [
        "### 6-B Categorical feature encoding"
      ]
    },
    {
      "cell_type": "markdown",
      "metadata": {
        "_cell_guid": "9c71f16d-fbb3-cd36-6dc3-4448db070412"
      },
      "source": [
        "### Label Encoding"
      ]
    },
    {
      "cell_type": "code",
      "execution_count": null,
      "metadata": {
        "_cell_guid": "8a98ea5a-ca12-d3dc-36b7-df472eb258dc"
      },
      "outputs": [],
      "source": [
        "# Dataframe with numerical categorical feature\n",
        "combined_num_cat = pd.DataFrame()\n",
        "\n",
        "# LabelEncoder\n",
        "labelEnc = LabelEncoder()\n",
        "\n",
        "# Columns to apply\n",
        "cat_str_vars = [\"Embarked\",\"Title_aggr\",\"Size_Family\",\"Name_Size\"]\n",
        "\n",
        "# Apply to string categorical features\n",
        "for col in cat_str_vars:\n",
        "    labelEnc.fit(np.unique(list(combined[col].values)))\n",
        "    combined_num_cat[col]=labelEnc.transform(combined[col].astype('str'))\n",
        "\n",
        "    \n",
        "# Add Sex,Pclass and Child\n",
        "combined_num_cat['Male'] = combined['Sex']\n",
        "combined_num_cat['Pclass'] = combined['Pclass']\n",
        "combined_num_cat['Child'] = combined['Child']\n",
        "\n",
        "# Display\n",
        "display(combined_num_cat.head())"
      ]
    },
    {
      "cell_type": "markdown",
      "metadata": {
        "_cell_guid": "de9e05c3-6cd5-e54d-70aa-2dda5169f5ac"
      },
      "source": [
        "#### One Hot Encoding"
      ]
    },
    {
      "cell_type": "markdown",
      "metadata": {
        "_cell_guid": "1ae3c44b-ac83-b964-3356-bc07fa0d1dda"
      },
      "source": [
        "**Note about: One Hot encoder**\n",
        "\n",
        "When a categorical feature contains two or more levels, a way of representation is to create a One Hot encoder also named dummy variables or indicator variables. It takes the value 0 or 1 to indicate the absence or presence of some level of the categorical feature. A categorical feature with k level will then create k dummy variables. \n",
        "\n",
        "The general guideline is as followed: If a variable has k levels, you can create only k-1 indicators. You have to choose one of the k categories as a \"baseline\" and leave out its indicator. But it depends on the model and the implementation used.\n",
        "\n",
        "Some of the reasons for this guideline are:\n",
        "\n",
        " * When giving K indicators it's adding redundancy to the representation of the data. Statistical redundancy has the property that it can be removed from the data without destroying any information.\n",
        "\n",
        "\n",
        " * Dropping one of the dummy variables may enable to avoid the state of Multicollinearity (e.g. dummy variable trap for regression). Which is a state of perfect correlations among the independent variables, meaning that one can be predicted from the others. It is, therefore, a type of disturbance in the data that may affect the results or the performances of the models used. Another way to escape Multicollinearity is to use [regularization][1]. \n",
        "\n",
        "\n",
        "When using filter methods for feature selection, you can, for example, drop the dummy feature that has the lowest/highest relevance to the target. I usually tend to go with the lowest. In theory, you have the same information no matter which one you choose to drop, but depending on how the selected model operate it can change slightly the performances.\n",
        "\n",
        "Tree-based methods can work directly without One Hot encoder in R or SAS for example but the implementation from sklearn asks for numerical values. Using label encoder (numerical encoder) would induce an order on the categories, so with sklearn implementation, I choose to go with One Hot encoder, even if for example Random Forest tend to be robust with label encoding.\n",
        "\n",
        "[1]: https://en.wikipedia.org/wiki/Regularization_(mathematics) "
      ]
    },
    {
      "cell_type": "code",
      "execution_count": null,
      "metadata": {
        "_cell_guid": "465cb83b-8a84-2889-57d3-c25ecd13addf"
      },
      "outputs": [],
      "source": [
        "def one_hot(df_in, cols):\n",
        "    df_out = pd.DataFrame()\n",
        "    for each in cols:\n",
        "        dummies = pd.get_dummies(df_in[each], prefix=each, drop_first=False)\n",
        "        df_out = pd.concat([df_out, dummies], axis=1)\n",
        "    return df_out"
      ]
    },
    {
      "cell_type": "code",
      "execution_count": null,
      "metadata": {
        "_cell_guid": "c88af03b-3d69-afbb-13ed-a5fc91bf676f"
      },
      "outputs": [],
      "source": [
        "# Columns to apply\n",
        "cat_vars=['Embarked',\"Title_aggr\",\"Size_Family\",\"Name_Size\",\"Pclass\"]\n",
        "\n",
        "# Get One Hot encoder\n",
        "combined_One_Hot_Cat = one_hot(combined,cat_vars)\n",
        "\n",
        "# Add Sex and Child\n",
        "combined_One_Hot_Cat['Male'] = combined['Sex']\n",
        "combined_One_Hot_Cat['Child'] = combined['Child']\n",
        "\n",
        "# Display\n",
        "display(combined_One_Hot_Cat.head())"
      ]
    },
    {
      "cell_type": "markdown",
      "metadata": {
        "_cell_guid": "8617383d-9910-3b30-f18c-68e63434a527"
      },
      "source": [
        "### 6-C Feature Scaling"
      ]
    },
    {
      "cell_type": "markdown",
      "metadata": {
        "_cell_guid": "64d3299b-818e-da1a-a488-83f35f21635e"
      },
      "source": [
        "[[back to top](#Table-of-contents)]"
      ]
    },
    {
      "cell_type": "markdown",
      "metadata": {
        "_cell_guid": "f1eb3bba-d486-69de-be98-f04d44a1d861"
      },
      "source": [
        "**Note about:  Feature Scaling**\n",
        "\n",
        "Feature scaling is not only important if we are comparing measurements that have different units, but it is also a general requirement for many machine learning algorithms. Feature scaling is a method used to standardize/normalize the range of independent variables. This is generally performed during the data preprocessing step. \n",
        "\n",
        "-----------------------------------------------------------------------------------------------\n",
        "\n",
        "Motivations\n",
        "  \n",
        " * If the range of values of raw data varies widely, in some machine learning algorithms, objective functions will not work properly without feature scaling.\n",
        " \n",
        " * Gradient descent converges much faster with feature scaling than without as it leads to increase the convergence speed and often the performances.\n",
        " \n",
        " -----------------------------------------------------------------------------------------------\n",
        " \n",
        "Two of the main methods for feature scaling are:\n",
        " \n",
        " * **Standardization** also known as Z-score normalization\n",
        " \n",
        "    The result of standardization is that the features will be rescaled so that they'll have the properties of a standard normal distribution with $\\mu = 0$ and $\\sigma = 1$, where $\\mu$ is the mean and $\\sigma$ is the standard deviation. Let $x$ be the feature that is going to be standardized, as follow:\n",
        "    \n",
        "    \\begin{equation} z = \\frac{x - \\mu}{\\sigma}\\end{equation} \n",
        "    \n",
        "    As a result, all variables in the dataset have equal means 0 and standard deviations 1 but different ranges.\n",
        "    \n",
        "    This method is widely used in many machine learning algorithms (e.g., support vector machines, logistic regression, and neural networks)\n",
        "      \n",
        " * **Normalization** also known as Feature scaling\n",
        "\n",
        "    In Normalization, the data are scaled to a fixed range, usually [0,1] or [-1,1]. The cost of having this bounded range is that we will end up with smaller standard deviations, which can suppress the effect of outliers. Let $x$ be the feature that is going to be normalized and $X_{min}=min(x)$  (resp. $X_{max}=max(x)$) \n",
        "    \n",
        "  The 0-1 scaling or Min-Max scaling is as followed: \\begin{equation} X_{norm} = \\frac{x - X_{min}}{X_{max}-X_{min}} \\end{equation}    \n",
        "    This method allows variables to have differing means and standard deviations but equal ranges. In this case, there is at least one observed value at the 0 and 1 endpoints.\n",
        "   A typical application of 0-1 scaling is for image processing and some neural network that require data on a 0-1 scale.  \n",
        "     \n",
        "   \n",
        "   \n",
        "-----------------------------------------------------------------------------------------------\n",
        "\n",
        "Some examples of models:\n",
        "\n",
        "* Scale-invariant \n",
        "    * Tree-based methods.   \n",
        "\n",
        "\n",
        "* Scale-variant \n",
        "    * K-nearest neighbors, k-means with a euclidean distance\n",
        "    * Logistic regression, SVMs, perceptrons, neural networks etc., while using gradient descent-based optimization\n",
        "    * Linear discriminant analysis, principal component analysis etc. since the model want to find direction for maximizing the variance, so scale impact on the measurement of a feature."
      ]
    },
    {
      "cell_type": "code",
      "execution_count": null,
      "metadata": {
        "_cell_guid": "fbb4a914-0843-81e8-fe65-e2e7dc3dcfd7"
      },
      "outputs": [],
      "source": [
        "# Columns and dataframe for features scalling\n",
        "std_columns = ['Fare','Age','Name_Length','Number_of_relatives']\n",
        "combined_num_std = pd.DataFrame(combined[std_columns])\n",
        "\n",
        "# StandardScaller process\n",
        "std_scale = StandardScaler()\n",
        "combined_num_std[std_columns] = std_scale.fit_transform(combined[std_columns].astype(float))\n",
        "\n",
        "# Display before and after\n",
        "display(combined[std_columns].head())\n",
        "display(combined_num_std[std_columns].head())"
      ]
    },
    {
      "cell_type": "code",
      "execution_count": null,
      "metadata": {
        "_cell_guid": "ed8ba214-65fd-4138-e01e-6887f8cf68c5"
      },
      "outputs": [],
      "source": [
        "# Continuous Quantitative Data : [Age, Fare]\n",
        "fig3, (axis1,axis2) = plt.subplots(2,1,figsize=(13,10))\n",
        "sns.distplot(combined_num_std['Age'].dropna(), bins=80, ax=axis1)\n",
        "sns.distplot(combined_num_std['Fare'], ax=axis2)\n",
        "fig3.suptitle(\"Histogram and kernel density estimate of continuous quantitative features\")"
      ]
    },
    {
      "cell_type": "markdown",
      "metadata": {
        "_cell_guid": "a5da78f5-a1a8-ed58-0a92-e40f3ec666a2"
      },
      "source": [
        "### 6-D Data Preparation"
      ]
    },
    {
      "cell_type": "markdown",
      "metadata": {
        "_cell_guid": "367653f1-ac23-2f8c-c056-822422f50c34"
      },
      "source": [
        "Available :\n",
        "\n",
        " * combined_num_std\n",
        " * combined_One_Hot_Cat\n",
        " * combined_num_cat"
      ]
    },
    {
      "cell_type": "markdown",
      "metadata": {
        "_cell_guid": "21d5519c-50ea-a15c-86f3-074432642ac1"
      },
      "source": [
        "Creation of 2 data sets:\n",
        "\n",
        " * label encoder + scaled quantitative features\n",
        " * one hot encoder + scaled quantitative features "
      ]
    },
    {
      "cell_type": "code",
      "execution_count": null,
      "metadata": {
        "_cell_guid": "9f0cdf11-ed0f-a9c9-ac5b-9c81266838c8"
      },
      "outputs": [],
      "source": [
        "# Concat into One Hot or Label encoding\n",
        "combined_OH_Std = pd.concat([combined_num_std,combined_One_Hot_Cat],axis=1)\n",
        "combined_Num_Std = pd.concat([combined_num_std,combined_num_cat],axis=1)\n",
        "\n",
        "# Display shape\n",
        "print('Shape of combined_OH_Std : ',combined_OH_Std.shape)\n",
        "print('Shape of combined_Num_Std : ',combined_Num_Std.shape)"
      ]
    },
    {
      "cell_type": "code",
      "execution_count": null,
      "metadata": {
        "_cell_guid": "6821a5e1-ac60-0a51-5fed-b1fc6d7a1680"
      },
      "outputs": [],
      "source": [
        "# Split into Train and Eval for submit prediction on kaggle\n",
        "Train_OH_Std, Eval_OH_Std= split_train_test(combined_OH_Std)\n",
        "Train_Num_Std, Eval_Num_Std = split_train_test(combined_Num_Std)\n",
        "\n",
        "# Display shape\n",
        "print('Shape of Train_OH_Std : ',Train_OH_Std.shape)\n",
        "print('Shape of Eval_OH_Std : ',Eval_OH_Std.shape)"
      ]
    },
    {
      "cell_type": "code",
      "execution_count": null,
      "metadata": {
        "_cell_guid": "0a28cf5f-2694-fd27-4881-e953ca732f4e"
      },
      "outputs": [],
      "source": [
        "# Select Data to use\n",
        "data = Train_OH_Std\n",
        "test_data = Eval_OH_Std\n",
        "target = targets\n",
        "columns_name = list(Train_OH_Std)\n",
        "\n",
        "# Train & Validation set\n",
        "X_train, X_test, y_train, y_test = train_test_split(data, target, test_size=0.20, random_state = 123,stratify=target)\n",
        "\n",
        "# Dataframe of prediction\n",
        "Prediction = pd.DataFrame()"
      ]
    },
    {
      "cell_type": "markdown",
      "metadata": {
        "_cell_guid": "3fe21c07-241d-c2fe-aff6-45ec121aca2e"
      },
      "source": [
        "## 7 - Features Selection"
      ]
    },
    {
      "cell_type": "markdown",
      "metadata": {
        "_cell_guid": "5dcb8339-6df4-84dc-5ac0-2aafa12ffa8a"
      },
      "source": [
        "[[back to top](#Table-of-contents)]"
      ]
    },
    {
      "cell_type": "markdown",
      "metadata": {
        "_cell_guid": "ed431324-dee7-4529-5c13-b3cb2cde0a3f"
      },
      "source": [
        "The feature selection part is a demonstration of how one may do feature selection with filter, wrapper and embedded methods using mostly sk-learn. It shows the first attempt to do feature selection and not the final choice that requires trials of subsets of features and the tuning of models for each selected subset.   "
      ]
    },
    {
      "cell_type": "markdown",
      "metadata": {
        "_cell_guid": "2d8e2077-245b-444a-7756-7e6979d88b83"
      },
      "source": [
        "Therefore, the feature selection made on this notebook does not give the best results but show how it can be made. Using regularization may enable to let all the level on some important qualitative features and lead to perform better than systematically deleting one level. "
      ]
    },
    {
      "cell_type": "markdown",
      "metadata": {
        "_cell_guid": "46d727fa-cbcb-10b6-edd5-5c0ad757133f"
      },
      "source": [
        "This part is about analyzing which features is important for the classification task and which to drop.\n",
        "\n",
        "Study the relation between:\n",
        "\n",
        "* Target and quantitative features with:\n",
        "    * Point Biserial Pearson Correlation\n",
        "    * Anova\n",
        "    * Linear Discriminant Analysis\n",
        "        \n",
        "        \n",
        "* Target and one hot categorical encoding with:\n",
        "    * Pearson Phi\n",
        "    * Chi 2 Independence and Cramer V\n",
        "    * Hamming and Dice distance      \n",
        "    \n",
        "        \n",
        "* Target and all features with:\n",
        "    * Logistic Regression\n",
        "    * Random Forest\n",
        "    * Recursive Feature Elimination with Logistic Regression"
      ]
    },
    {
      "cell_type": "markdown",
      "metadata": {
        "_cell_guid": "e48f0673-7455-c481-68dc-8bbd6c4d8789"
      },
      "source": [
        "**_Note about: Dimensionality Reduction_**\n",
        "\n",
        "Dimensionality Reduction can be divided into Feature Selection and Feature Extraction. However, dimensionality reduction is also used a lot in reference to Feature Extraction.\n",
        "\n",
        "Both methods seek to reduce the number of variables in the dataset, but a feature extraction method does so by creating new combinations of variables, where a feature selection method include and exclude variables present in the data without changing them.\n",
        "\n",
        "---------\n",
        "\n",
        "**Feature Selection**\n",
        "\n",
        "Feature selection methods can be used to identify and remove unneeded, irrelevant and redundant features from data that do not contribute to the accuracy of a predictive model or may, in fact, decrease the accuracy of the model.\n",
        "\n",
        "Three benefits of performing feature selection before modeling data are:\n",
        "\n",
        " * Reduces Overfitting: Less redundant data means less opportunity to make decisions based on noise.\n",
        " * Improves Accuracy: Less misleading data means modeling accuracy improves.\n",
        " * Reduces Training Time: Fewer data means that algorithms train faster.\n",
        "\n",
        "\n",
        "There are three general classes of feature selection algorithms: filter methods, wrapper methods and embedded methods.\n",
        "\n",
        "**Filter** Methods: \n",
        "\n",
        "Filter type methods select variables regardless of the model, but by applying a statistical measure to assign a score to each feature. The methods are often univariate or bivariate. The features are ranked by the score and either selected to be kept or removed from the dataset.\n",
        "Some examples are:\n",
        "\n",
        " * Information gain\n",
        " * Chi-square test\n",
        " * Fisher score\n",
        " * Pearson product-moment correlation coefficient\n",
        " * Variance threshold\n",
        "\n",
        "These methods are particularly effective in computation time and relatively robust to overfitting\n",
        "The main disadvantage is that filter methods tend to select redundant variables because they do not consider the relationships between variables. Therefore, they are mainly used as a pre-process methods, before Wrapper or Embedded methods.\n",
        "       \n",
        "**Wrapper** Methods:\n",
        "\n",
        "Wrapper methods consider the selection of a set of features as a search problem, using a fixed predictive model to score feature subsets where different combinations are evaluated and compared to other combinations\n",
        "\n",
        "Wrapper methods use a predictive model to measure the quality of subsets of features without incorporating knowledge about the specific structure of the classification or regression function, and can, therefore, be combined with any learning machine.\n",
        "\n",
        "Wrapper methods evaluate subsets of variables which allows, unlike filter approaches, to detect the possible interactions between variables. Some examples are:\n",
        "\n",
        " * Recursive feature elimination\n",
        " * Sequential feature selection algorithms\n",
        " * Genetic algorithms\n",
        "\n",
        "The two main disadvantages of Wrapper methods are:\n",
        "\n",
        " * The increasing overfitting risk when the number of observations is insufficient.\n",
        " * The significant computation time when the number of variables is large.\n",
        "\n",
        "**Embedded** Methods:\n",
        "\n",
        "There are models that learn which features best contribute to the performance of the model, while the model is being created. These models compute feature importance that can be used to discard unimportant features.\n",
        "Embedded methods take advantage of the variable selection process of a model and perform feature selection and classification simultaneously.\n",
        "\n",
        "These approaches tend to be between filters and wrappers in terms of computational complexity and less prone to overfitting. Embedded methods are quite similar to wrapper methods since they are also used to optimize the objective function. The difference to wrapper methods is that an intrinsic model building metric is used during learning. Some examples:\n",
        "\n",
        " * L1 (LASSO) regularization\n",
        " * Decision tree-based model feature importance\n",
        " * Recursive feature elimination with SVM (can be seen as wrapper)\n",
        "\n",
        "The boundaries are not really well defined, especially between Wrapper and Embedded.\n",
        "\n",
        "------------\n",
        "\n",
        "** Feature Extraction**\n",
        "\n",
        "Feature extraction serves two purposes, analyzing and reducing your features. \n",
        "Feature extraction transforms the data from a high-dimensional space to a space of fewer dimensions, having two purposes which are analyzing or reducing. \n",
        "\n",
        "When the number of features is high, or if you suspect that some of the features might not be meaningful or not well represented, you can use feature extraction methods to reduce the number of features or to get a better understanding thanks to the axis obtain than enable you to visualize high dimensional data in a set of 2D plot.  As feature extraction is about reducing the numbers of features and saving a lot of the information, in PCA for example when you choose the number of principal components to use, you also choose the percentage of variance explained by the representation.\n",
        "\n",
        "If you choose to take a number of principal components as the input of your models or others analysis, you are losing a certain amount of information and you may also loose the easiness of explaining your models, but you gain stronger features that can be used as input of various machine learning. Feature extraction is often used before a clustering or classification tasks.\n",
        "\n",
        "As an alternative, you can study your features with the results of the feature extraction methods and others analysis to choose if some features need to be dropped.\n",
        "\n",
        "Some of the main methods are: \n",
        "\n",
        " * Principal Component Analysis (PCA), unsupervised, which takes quantitative features and returns axes of maximal variance.\n",
        " * Multiple Correspondence Analysis (MCA), unsupervised, which takes qualitative features and appears to be the counterpart of principal component analysis for categorical data\n",
        " * Linear Discriminant Analysis (LDA), supervised, returns axes that maximize class separability.\n",
        " * Kernel PCA : uses kernel trick to transform non-linear data to a feature space where samples may be linearly separable\n",
        " * Advanced methods like t-SNE\n",
        "\n",
        "As the results of PCA and MCA are quantitative features, using MCA may enable to switch representation from categorical to quantitative features.\n",
        "\n",
        "It shall be noted though that regularization in classification models such as Logistic Regression, Support Vector Machines, or Neural Networks is to be preferred over using feature extraction to avoid overfitting. However, feature extraction is still a useful data compression technique to increase computational efficiency and data storage problems.   "
      ]
    },
    {
      "cell_type": "markdown",
      "metadata": {
        "_cell_guid": "0075f3b9-f979-35e3-0685-e35c288fdb44"
      },
      "source": [
        "### 7-A Filter Methods"
      ]
    },
    {
      "cell_type": "markdown",
      "metadata": {
        "_cell_guid": "8a43dd70-f753-69e6-188f-3a16ffc1cebc"
      },
      "source": [
        "### Quantitative Features"
      ]
    },
    {
      "cell_type": "code",
      "execution_count": null,
      "metadata": {
        "_cell_guid": "e43c93d1-0a75-e9fe-d252-4073933875c1"
      },
      "outputs": [],
      "source": [
        "# Features to apply\n",
        "Quantitative = ['Fare','Age','Name_Length','Number_of_relatives']\n",
        "\n",
        "# Concatenate data and target\n",
        "QF_Target = pd.concat([data[Quantitative],target],axis=1)\n",
        "\n",
        "# Create Survied and Died set\n",
        "Survived = QF_Target[QF_Target['Survived'] == 1]\n",
        "Died = QF_Target[QF_Target['Survived'] == 0]\n",
        "\n",
        "# Create results dataframes\n",
        "PointBiser = pd.DataFrame()\n",
        "TTest = pd.DataFrame()\n",
        "Anova = pd.DataFrame()\n",
        "Lda = pd.DataFrame() \n",
        "\n",
        "for var in enumerate(Quantitative) : \n",
        "    \n",
        "    # Point Biserial correlation\n",
        "    pb = stats.pointbiserialr(QF_Target['Survived'], QF_Target[var[1]])\n",
        "    PointBiser.loc[var[0],'Feature'] = var[1]\n",
        "    PointBiser.loc[var[0],'Point Biserial Pearson Corr'] = pb.correlation\n",
        "    PointBiser.loc[var[0],'Pval'] = pb.pvalue\n",
        "    PointBiser.sort_values('Pval',ascending=True,inplace=True)\n",
        "    \n",
        "    # One way Anova\n",
        "    anova_one_way = stats.f_oneway(Survived[var[1]], Died[var[1]])\n",
        "    Anova.loc[var[0],'Feature'] = var[1]\n",
        "    Anova.loc[var[0],'Anova F value'] = anova_one_way[0]\n",
        "    Anova.loc[var[0],'Pval'] = anova_one_way[1]\n",
        "    Anova.sort_values('Pval',ascending=True,inplace=True)  \n",
        "    \n",
        "# LDA\n",
        "lda = LinearDiscriminantAnalysis(n_components = 2, solver='svd')\n",
        "lda.fit(X_train[Quantitative], y_train)\n",
        "Lda['Feature'] = Quantitative\n",
        "Lda['LDA Coef'] = lda.coef_.transpose()\n",
        "Lda.sort_values('LDA Coef',ascending=False,inplace=True)\n",
        "\n",
        "y_train_pred_lda = lda.predict(X_train[Quantitative])\n",
        "y_test_pred_lda = lda.predict(X_test[Quantitative])\n",
        "\n",
        "lda_acc = accuracy_score(y_test, y_test_pred_lda)\n",
        "lda_cr= classification_report(y_test, y_test_pred_lda)\n",
        "lda_cm = confusion_matrix(y_test, y_test_pred_lda)\n",
        "\n",
        "lda_acc_train = accuracy_score(y_train, y_train_pred_lda)\n",
        "lda_cr_train = classification_report(y_train, y_train_pred_lda)\n",
        "lda_cm_train = confusion_matrix(y_train, y_train_pred_lda)\n",
        "\n",
        "# Display results\n",
        "display(PointBiser)\n",
        "display(Anova)\n",
        "display(Lda)\n",
        "\n",
        "# LDA Results\n",
        "print(\"LDA Results\\n\")\n",
        "print(\"-----------------------------------------------------------------------------\")\n",
        "print(\"Training set\")\n",
        "print( \"LDA Accuracy :\", lda_acc_train)\n",
        "print(lda_cr_train)\n",
        "print(\"Confusion Matrix :\\n\",lda_cm_train)\n",
        "print('Balance of classes',lda.priors_)\n",
        "print(\"-----------------------------------------------------------------------------\")\n",
        "print(\"Testing set\")\n",
        "print( \"LDA Accuracy :\", lda_acc)\n",
        "print(lda_cr)\n",
        "print(\"Confusion Matrix :\\n\",lda_cm)\n",
        "print(\"-----------------------------------------------------------------------------\")"
      ]
    },
    {
      "cell_type": "markdown",
      "metadata": {
        "_cell_guid": "c313a298-f37b-abea-4930-3ec803a4a01a"
      },
      "source": [
        "Observations:\n",
        "\n",
        "**Point Biserial Corr** - Pearson Corr applies to nominal and continuous features:\n",
        "\n",
        " * Very Small correlation for Age and Number_of_relatives with high p-values\n",
        " * Positive correlation for Fare and Name_Length with very small p-value\n",
        "    \n",
        "**Anova** - Test means equality between survived and not survived:\n",
        "\n",
        " * Can reject mean equality for Fare and Length\n",
        " * Can say nothing about Age and Number_of_relatives\n",
        "    \n",
        "**LDA** - Linear Discriminant Analysis:\n",
        "\n",
        " * Fare and Length have a positive and high coefficient\n",
        " * Age and Number_of_relatives have a negative and smaller coefficient  "
      ]
    },
    {
      "cell_type": "markdown",
      "metadata": {
        "_cell_guid": "3a9ebbbe-e123-d84a-669d-efecd68d1263"
      },
      "source": [
        "### Qualitative Features"
      ]
    },
    {
      "cell_type": "markdown",
      "metadata": {
        "_cell_guid": "4b39df49-de5e-80ad-18d1-0dadc886a40b"
      },
      "source": [
        "**Note about: \u03c72 test, Cramer V and p-value**\n",
        "\n",
        "The p-value from the \u03c72 test tells you the probability of getting a \u03c72 statistic as extreme as or more extreme than yours if the null hypothesis is true, but tells you nothing about how big the effect is.\n",
        "\n",
        "On the other hand, Cramer's V which is based on \u03c72 statistic is a measure of effect size. It tells you how big the effect is but tells you nothing about whether or not the effect is 'significant'. "
      ]
    },
    {
      "cell_type": "code",
      "execution_count": null,
      "metadata": {
        "_cell_guid": "37676546-d567-dcf4-c8c8-33ea6764205a"
      },
      "outputs": [],
      "source": [
        "from scipy.spatial import distance\n",
        "import scipy.stats as ss\n",
        "\n",
        "def Cramer_Chi2(crosstab):\n",
        "    n = crosstab.sum().sum()\n",
        "    chi2 = ss.chi2_contingency(crosstab)[0]\n",
        "    pval = ss.chi2_contingency(crosstab)[1]\n",
        "    CramerV = np.sqrt(chi2 / (n* (min(crosstab.shape) -1)))\n",
        "    return CramerV, chi2, pval"
      ]
    },
    {
      "cell_type": "code",
      "execution_count": null,
      "metadata": {
        "_cell_guid": "e954f049-9d2e-8c45-ac83-97eaac13bf69"
      },
      "outputs": [],
      "source": [
        "# Features to apply\n",
        "Qualitative = list(combined_One_Hot_Cat.columns)\n",
        "\n",
        "# Concant data and target\n",
        "QF_OH_Target = pd.concat([data[Qualitative],target],axis=1)\n",
        "\n",
        "# Result and temp dataframe\n",
        "confusion_mat = pd.DataFrame()\n",
        "Corr = pd.DataFrame()\n",
        "\n",
        "Corr['Pearson Phi'] = QF_OH_Target.corr(method='pearson')[\"Survived\"]\n",
        "\n",
        "for var in enumerate(Qualitative) : \n",
        "    confusion_mat = pd.crosstab(QF_OH_Target['Survived'], QF_OH_Target[var[1]])\n",
        "    Corr.loc[var[1],'Cramer V'] = Cramer_Chi2(confusion_mat)[0]\n",
        "    Corr.loc[var[1],'Test Chi 2 - Independance'] = Cramer_Chi2(confusion_mat)[1]\n",
        "    Corr.loc[var[1],'Chi 2 Pval']= Cramer_Chi2(confusion_mat)[2]\n",
        "    Corr.loc[var[1],'Hamming Distance'] = distance.hamming(QF_OH_Target['Survived'].astype(int), QF_OH_Target[var[1]].astype(int))\n",
        "    Corr.loc[var[1],'Dice Coefficient'] = distance.dice(QF_OH_Target['Survived'].astype(int), QF_OH_Target[var[1]].astype(int))\n",
        "    \n",
        "Corr.sort_values('Chi 2 Pval',ascending=True,inplace=True)\n",
        "display(Corr)"
      ]
    },
    {
      "cell_type": "markdown",
      "metadata": {
        "_cell_guid": "efd2774a-664d-22bf-3d51-8bee40e48bbc"
      },
      "source": [
        "**Pearson Phi**:\n",
        "\n",
        " * Very small correlation:\n",
        "    - Pclass_2\n",
        "    - Title_aggr_Master\n",
        "    - Name_Size_Very Long\n",
        "    - Title_aggr_Royalty\n",
        "    - Embarked_Q\n",
        "    - Name_Size_Medium\n",
        " * High Correlation:\n",
        "    - Positive: \n",
        "        - Sex_female\n",
        "        - Title_aggr_Mrs\n",
        "        - Title_aggr_Miss\n",
        "        - Pclass_1\n",
        "        - Size_Family_Small\n",
        "        - Name_Size_Long\n",
        "    - Negative: \n",
        "        - Sex_male\n",
        "        - Pclass_3\n",
        "\n",
        "**Chi 2 Independence and Cramer V**:\n",
        "\n",
        " * We can reject independence and the Cramer Corelation if high for:\n",
        "    - Title_aggr_Mr \n",
        "    - Sex_female \n",
        "    - Sex_male\n",
        "    --> The information of this 3 features is mostly the same\n",
        " * We can reject independence and the Cramer Correlation is medium for:\n",
        "    - Title_aggr_Mrs \n",
        "    - Title_aggr_Miss \n",
        "    - Pclass_3\n",
        "    - Pclass_1\n",
        "    - Size_Family_Small\n",
        "    - Name_Size_Long\n",
        "    - Size_Family_Alone\n",
        "    - Name_Size_Short\n",
        " * We can reject independence but the Cramer Correlation is low:\n",
        "    - Embarked_C\n",
        "    - Embarked_S\n",
        "    - Size_Family_Big\n",
        " * At 5 % we can't reject independence and the Cramer Correlation if very small:\n",
        "    - Name_Size_Very Long\n",
        "    - Title_aggr_Officer\n",
        "    - Title_aggr_Royalty\n",
        "    - Name_Size_Medium\n",
        "    - Embarked_Q \n",
        "        \n",
        "**Hamming distance - Tell us about the numbers of difference**:\n",
        "\n",
        " * High distance:\n",
        "    - Sex_male\n",
        "    - Title_aggr_Mr \n",
        "    - Pclass_3\n",
        "    - Size_Family_Alone\n",
        "    - Embarked_S\n",
        " * Medium:\n",
        "    - Name_Size_Short\n",
        "    - Name_Size_Medium\n",
        "    - Size_Family_Big\n",
        "    - Embarked_Q\n",
        "    - Pclass_2\n",
        "    - Title_aggr_Officer\n",
        "    - Title_aggr_Royalty\n",
        "    - Name_Size_Very Long \n",
        "    - Title_aggr_Master\n",
        "    - Embarked_C\n",
        " * Small distance:\n",
        "    - Size_Family_Small\n",
        "    - Name_Size_Long\n",
        "    - Pclass_1\n",
        "    - Title_aggr_Miss\n",
        "    - Title_aggr_Mrs\n",
        "    - Sex_female\n",
        "   \n",
        "**Dice - Tell us about how much disjoint (0) or equal (1)**:\n",
        "\n",
        " * Mostly disjoint:\n",
        "    - Sex_female\n",
        " * Medium:\n",
        "    - Size_Family_Alone\n",
        "    - Embarked_C\n",
        "    - Title_aggr_Mrs\n",
        "    - Embarked_S\n",
        "    - Name_Size_Medium\n",
        "    - Pclass_1\n",
        "    - Title_aggr_Miss\n",
        "    - Size_Family_Small\n",
        " * Mostly joint:\n",
        "    - Title_aggr_Royalty\n",
        "    - Name_Size_Very Long\n",
        "    - Title_aggr_Officer\n",
        "    - Size_Family_Big\n",
        "    - Title_aggr_Master\n",
        "    - Embarked_Q\n",
        "    - Title_aggr_Mr\n",
        "    - Name_Size_Short\n",
        "    - Sex_male\n",
        "    - Pclass_3"
      ]
    },
    {
      "cell_type": "markdown",
      "metadata": {
        "_cell_guid": "b7a983c3-4fc0-38d4-cc04-2f3d776d0c2a"
      },
      "source": [
        "#### Correlation matrix"
      ]
    },
    {
      "cell_type": "markdown",
      "metadata": {
        "_cell_guid": "e88ee691-aa0d-4c22-d196-1eeea1dcd969"
      },
      "source": [
        "Let plot the correlation matrix to see which features are highly correlated as it is one of the disadvantages of using filter methods."
      ]
    },
    {
      "cell_type": "code",
      "execution_count": null,
      "metadata": {
        "_cell_guid": "2e7a39c9-15e2-c5cc-2ca2-24c9bb8c7983"
      },
      "outputs": [],
      "source": [
        "corr = data.corr()\n",
        "fig, axis1 = plt.subplots(figsize=(15,15))\n",
        "sns.heatmap(corr, square=True, annot=True, ax=axis1)\n",
        "plt.title('Pearson Correlation of Features', y=1.05, size=15)"
      ]
    },
    {
      "cell_type": "markdown",
      "metadata": {
        "_cell_guid": "38d4ef65-d2c8-d52b-072c-87107c273225"
      },
      "source": [
        "### 7-B Feature importance with embedded methods"
      ]
    },
    {
      "cell_type": "markdown",
      "metadata": {
        "_cell_guid": "bbf4983b-322a-b8f9-5c0f-e69b4513be31"
      },
      "source": [
        "### Feature importance using Logistic Regression"
      ]
    },
    {
      "cell_type": "code",
      "execution_count": null,
      "metadata": {
        "_cell_guid": "37cdb5f5-d6ec-02ff-ec7d-d511f1f97516"
      },
      "outputs": [],
      "source": [
        "# Logistic Regression\n",
        "Lr = pd.DataFrame()\n",
        "lr = LogisticRegression()\n",
        "lr.fit(X_train, y_train)\n",
        "Lr['Feature'] = list(X_train.columns)\n",
        "Lr['LR Coef'] = lr.coef_.transpose()\n",
        "Lr['Odds Ratios'] = np.exp(lr.coef_.transpose())\n",
        "Lr.sort_values('LR Coef',ascending=False,inplace=True)\n",
        "\n",
        "y_train_pred_lr = lr.predict(X_train)\n",
        "y_test_pred_lr = lr.predict(X_test)\n",
        "\n",
        "lr_acc = accuracy_score(y_test, y_test_pred_lr)\n",
        "lr_cr= classification_report(y_test, y_test_pred_lr)\n",
        "lr_cm = confusion_matrix(y_test, y_test_pred_lr)\n",
        "\n",
        "lr_acc_train = accuracy_score(y_train, y_train_pred_lr)\n",
        "lr_cr_train = classification_report(y_train, y_train_pred_lr)\n",
        "lr_cm_train = confusion_matrix(y_train, y_train_pred_lr)\n",
        "\n",
        "display(Lr)\n",
        "\n",
        "# Logistic Regression Results\n",
        "print(\"Logistic Regression Results\\n\")\n",
        "print(\"-----------------------------------------------------------------------------\")\n",
        "print(\"Training set\")\n",
        "print( \"LR Accuracy :\", lr_acc_train)\n",
        "print(lr_cr_train)\n",
        "print(\"Confusion Matrix :\\n\",lr_cm_train)\n",
        "print(\"-----------------------------------------------------------------------------\")\n",
        "print(\"Testing set\")\n",
        "print( \"LR Accuracy :\", lr_acc)\n",
        "print(lr_cr)\n",
        "print(\"Confusion Matrix :\\n\",lr_cm)\n",
        "print(\"-----------------------------------------------------------------------------\")\n",
        "\n",
        "#print('intercept',lr.intercept_)"
      ]
    },
    {
      "cell_type": "markdown",
      "metadata": {
        "_cell_guid": "389f294d-0f3d-dbb5-8691-3d7213082acb"
      },
      "source": [
        "Observations:\n",
        "\n",
        " * The following categorical features don't affect the survival so much (less than 8% differences) as their odds ratio are close to 1:\n",
        "    * Embarked_C\n",
        "    * Name_Size_Long\n",
        "    * Pclass_2\n",
        "    * Name_Size_Medium\n",
        "    * Name_Size_Short\n",
        "\n",
        "\n",
        " * Note that as the quantitative features are standardized so the odds ratio values are much higher that what they would have been with their normal ranges of values."
      ]
    },
    {
      "cell_type": "markdown",
      "metadata": {
        "_cell_guid": "d5ee2f96-a775-1197-19bf-bcdb33f53576"
      },
      "source": [
        "Was able to perform logistic regression with all the features from each categorical variable because of the default regularization in the logistic regression from sk-learn that help to escape from multicollinearity problems (can try running the cell below to see what happen with the logistic regression from statsmodel that doesn't have regularization by default). "
      ]
    },
    {
      "cell_type": "code",
      "execution_count": null,
      "metadata": {
        "_cell_guid": "1cf1f1ba-903b-da3b-41f6-a0c917321f56"
      },
      "outputs": [],
      "source": [
        "# Not working properly because of multicolinearity problems\n",
        "#import statsmodels.api as sm\n",
        "# Add or not an intercept term\n",
        "#X_train['one'] = 1\n",
        "#logit = sm.Logit(y_train, X_train)\n",
        "#result = logit.fit()\n",
        "#print(result.summary())"
      ]
    },
    {
      "cell_type": "markdown",
      "metadata": {
        "_cell_guid": "b8798a0a-081c-a9fc-1124-3464f91dd787"
      },
      "source": [
        "### Feature importance using Random Forest"
      ]
    },
    {
      "cell_type": "code",
      "execution_count": null,
      "metadata": {
        "_cell_guid": "de45c578-a770-20dc-1440-996f8b7b5742"
      },
      "outputs": [],
      "source": [
        "# Random Forest\n",
        "Rf = pd.DataFrame()\n",
        "param_rf = {'criterion': 'gini', 'max_features': 'sqrt', 'min_samples_leaf': 8, 'min_samples_split': 2, 'n_estimators': 30}\n",
        "rf = RandomForestClassifier(**param_rf)\n",
        "rf.fit(X_train, y_train)\n",
        "Rf['Feature'] = list(X_train.columns)\n",
        "Rf['Rf Coef'] = rf.feature_importances_\n",
        "Rf.sort_values('Rf Coef',ascending=False,inplace=True)\n",
        "\n",
        "y_train_pred_rf = rf.predict(X_train)\n",
        "y_test_pred_rf = rf.predict(X_test)\n",
        "\n",
        "rf_acc = accuracy_score(y_test, y_test_pred_rf)\n",
        "rf_cr= classification_report(y_test, y_test_pred_rf)\n",
        "rf_cm = confusion_matrix(y_test, y_test_pred_rf)\n",
        "\n",
        "rf_acc_train = accuracy_score(y_train, y_train_pred_rf)\n",
        "rf_cr_train = classification_report(y_train, y_train_pred_rf)\n",
        "rf_cm_train = confusion_matrix(y_train, y_train_pred_rf)\n",
        "\n",
        "display(Rf)\n",
        "\n",
        "# Random Forest Results\n",
        "print(\"Random Forest Results\\n\")\n",
        "print(\"-----------------------------------------------------------------------------\")\n",
        "print(\"Training set\")\n",
        "print( \"RF Accuracy :\", rf_acc_train)\n",
        "print(rf_cr_train)\n",
        "print(\"Confusion Matrix :\\n\",rf_cm_train)\n",
        "print(\"-----------------------------------------------------------------------------\")\n",
        "print(\"Testing set\")\n",
        "print( \"RF Accuracy :\", rf_acc)\n",
        "print(rf_cr)\n",
        "print(\"Confusion Matrix :\\n\",rf_cm)\n",
        "print(\"-----------------------------------------------------------------------------\")"
      ]
    },
    {
      "cell_type": "markdown",
      "metadata": {
        "_cell_guid": "b28de214-1fa0-59b7-072b-caf03736f577"
      },
      "source": [
        "Observations:\n",
        "\n",
        " * This features have a really low importance for the tuned Random Forest Classifier:\n",
        "    * Title_aggr_Master\n",
        "    * Embarked_Q \n",
        "    * Name_Size_Short\n",
        "    * Embarked_C\n",
        "    * Title_aggr_Officer\n",
        "    * Name_Size_Very Long\n",
        "    * Title_aggr_Royalty"
      ]
    },
    {
      "cell_type": "markdown",
      "metadata": {
        "_cell_guid": "a39b154a-2757-2d82-ea83-728b8d7bde25"
      },
      "source": [
        "### 7-C First Drop"
      ]
    },
    {
      "cell_type": "markdown",
      "metadata": {
        "_cell_guid": "2f5405c7-cde2-59a9-d524-2097e4f06c9b"
      },
      "source": [
        "Using the analysis done just before we can make a first selection of features to drop.\n",
        "\n",
        "I took the choice to drop: \n",
        "\n",
        "* Number_of_relatives\n",
        "* Name_Length\n",
        "* Pclass_2\n",
        "* Embarked_Q\n",
        "* Name_Size_Medium\n",
        "* Name_Size_Very Long\n",
        "* Title_aggr_Royalty\n",
        "* Title_aggr_Officer\n",
        "* Size_Family_Big"
      ]
    },
    {
      "cell_type": "code",
      "execution_count": null,
      "metadata": {
        "_cell_guid": "53c8c68e-7459-afe6-6a87-d30624a28132"
      },
      "outputs": [],
      "source": [
        "# Display shape before\n",
        "print('Shape before:')\n",
        "display(data.shape)\n",
        "display(test_data.shape)\n",
        "\n",
        "# Dropping the features\n",
        "var_to_drop =['Number_of_relatives','Name_Length','Pclass_2','Embarked_Q','Name_Size_Medium','Name_Size_Very Long','Title_aggr_Royalty','Title_aggr_Officer','Size_Family_Big']\n",
        "#var_to_drop2 = ['Number_of_relatives','Name_Length','Title_aggr_Royalty','Title_aggr_Officer','Name_Size_Medium','Embarked_C','Pclass_2','Size_Family_Big']\n",
        "data.drop(var_to_drop,axis=1,inplace=True)\n",
        "test_data.drop(var_to_drop,axis=1,inplace=True)  \n",
        "\n",
        "# Train & Test\n",
        "X_train, X_test, y_train, y_test = train_test_split(data, target, test_size=0.20,random_state = 123,stratify=target)\n",
        "\n",
        "# Display shape after\n",
        "print('Shape after:')\n",
        "display(data.shape)\n",
        "display(test_data.shape)"
      ]
    },
    {
      "cell_type": "markdown",
      "metadata": {
        "_cell_guid": "6fe4045f-67ad-b49f-b48c-e21bd75d580f"
      },
      "source": [
        "### 7-D Recursive feature elimination"
      ]
    },
    {
      "cell_type": "code",
      "execution_count": null,
      "metadata": {
        "_cell_guid": "e55f6897-e551-2aec-46f0-c109c488ab57"
      },
      "outputs": [],
      "source": [
        "from sklearn.feature_selection import RFECV\n",
        "\n",
        "# Recursive feature elimination using Logistic Regression and different metrics\n",
        "lr = LogisticRegression()\n",
        "#svc = SVC(kernel='linear')\n",
        "\n",
        "rfecv_acc = RFECV(estimator=lr, step=1, cv=10, scoring = 'accuracy')\n",
        "rfecv_f1 = RFECV(estimator=lr, step=1, cv=10, scoring = 'f1')\n",
        "rfecv_prec = RFECV(estimator=lr, step=1, cv=10, scoring = 'precision')\n",
        "rfecv_recall = RFECV(estimator=lr, step=1, cv=10, scoring = 'recall')\n",
        "\n",
        "rfecv_acc.fit(data, target)\n",
        "rfecv_f1.fit(data, target)\n",
        "rfecv_prec.fit(data, target)\n",
        "rfecv_recall.fit(data, target)\n",
        "\n",
        "print(\"Optimal number of features for accuracy: %d\" % rfecv_acc.n_features_)\n",
        "print(\"Optimal number of features for f1: %d\" % rfecv_f1.n_features_)\n",
        "print(\"Optimal number of features for precision: %d\" % rfecv_prec.n_features_)\n",
        "print(\"Optimal number of features for recall: %d\" % rfecv_recall.n_features_)\n",
        "\n",
        "fig, axis1 = plt.subplots(figsize=(13,5))\n",
        "axis1.set_xlabel(\"Number of features selected\")\n",
        "axis1.set_ylabel(\"Cross validation score \")\n",
        "axis1.plot(range(1, len(rfecv_acc.grid_scores_) + 1), rfecv_acc.grid_scores_, 'r^', label = 'Accuracy')\n",
        "axis1.plot(range(1, len(rfecv_f1.grid_scores_) + 1), rfecv_f1.grid_scores_, 'bo', label = 'F1')\n",
        "axis1.plot(range(1, len(rfecv_prec.grid_scores_) + 1), rfecv_prec.grid_scores_, 'g-', label = 'Precision')\n",
        "axis1.plot(range(1, len(rfecv_recall.grid_scores_) + 1), rfecv_recall.grid_scores_, 'y-', label = 'Recall')\n",
        "axis1.legend()\n",
        "plt.show()\n",
        "\n",
        "# Get rank and sup into a dataframe\n",
        "Feature_rfe = pd.DataFrame()\n",
        "Feature_rfe['Feature'] = list(data.columns)\n",
        "Feature_rfe['RFECV Accuracy rank'] = rfecv_acc.ranking_\n",
        "Feature_rfe['RFECV f1 rank'] = rfecv_f1.ranking_\n",
        "Feature_rfe['RFECV Pressision rank'] = rfecv_prec.ranking_\n",
        "Feature_rfe['RFECV Recall rank'] = rfecv_recall.ranking_\n",
        "\n",
        "Feature_rfe.sort_values('RFECV Accuracy rank',inplace=True)\n",
        "display(Feature_rfe)"
      ]
    },
    {
      "cell_type": "code",
      "execution_count": null,
      "metadata": {
        "_cell_guid": "e690b3d5-ac58-2f58-b126-324a865c31ed"
      },
      "outputs": [],
      "source": [
        "Feature_to_drop_Acc = Feature_rfe.Feature[Feature_rfe['RFECV Accuracy rank']!=1]\n",
        "Feature_to_drop_Acc = list(Feature_to_drop_Acc)\n",
        "\n",
        "Feature_to_drop_f1 = Feature_rfe.Feature[Feature_rfe['RFECV f1 rank']!=1]\n",
        "Feature_to_drop_f1 = list(Feature_to_drop_f1)"
      ]
    },
    {
      "cell_type": "markdown",
      "metadata": {
        "_cell_guid": "b4daade6-595f-a018-7736-621112f65a16"
      },
      "source": [
        "### 7-E  Second Drop"
      ]
    },
    {
      "cell_type": "markdown",
      "metadata": {
        "_cell_guid": "2330c1d9-799d-80c3-7afc-c141566ec430"
      },
      "source": [
        "[[back to top](#Table-of-contents)]"
      ]
    },
    {
      "cell_type": "code",
      "execution_count": null,
      "metadata": {
        "_cell_guid": "bc6f231b-46da-595a-6c71-4e6a3c533471"
      },
      "outputs": [],
      "source": [
        "# Display shape before\n",
        "print('Shape before:')\n",
        "display(data.shape)\n",
        "display(test_data.shape)\n",
        "\n",
        "# Dropping the features\n",
        "# Choose Feature_to_drop_Acc or Feature_to_drop_f1\n",
        "Feature_to_drop = Feature_to_drop_f1\n",
        "data.drop(Feature_to_drop,axis=1,inplace=True)\n",
        "test_data.drop(Feature_to_drop,axis=1,inplace=True)  \n",
        "\n",
        "# Train & Test - The split is fixed by random_state\n",
        "X_train, X_test, y_train, y_test = train_test_split(data, target, test_size=0.20, random_state = 123,stratify=target)\n",
        "\n",
        "# Display shape after\n",
        "print('Shape after:')\n",
        "display(data.shape)\n",
        "display(test_data.shape)"
      ]
    },
    {
      "cell_type": "markdown",
      "metadata": {
        "_cell_guid": "93300dc2-8e22-84b3-3f23-7b86b55161ad"
      },
      "source": [
        "## 8 - Models Selection"
      ]
    },
    {
      "cell_type": "markdown",
      "metadata": {
        "_cell_guid": "e0b83cea-037f-82ed-4c5f-d5d12fe8ab83"
      },
      "source": [
        "First, the creation of helper functions for GridSearch, plotting learning curve and validation curve. Then, the test of some classifiers, before basic tuning of an SVM, a Logistic Regression and a Random Forest."
      ]
    },
    {
      "cell_type": "markdown",
      "metadata": {
        "_cell_guid": "d23afbf2-93ec-7c5b-636b-caea6f57329b"
      },
      "source": [
        "The model selection part shows the first attempt to run a GridSearch and the visualization of the results with learning and validation curves. I choose to let the first GridSearch, as it enables to see some kind of \"inflection points\" in the learning and validation curves. To tune the models, you may need to study this curve, choose some values that seem to perform well and input them into the part that set specific values and run again the curves. After some try, you can change the ranges of the parameters for the GridSearch accordingly and run it again. The \"bests\" specific parameters may change depending on the features you chose during feature selection particularly for Random Forest in the follow examples.  "
      ]
    },
    {
      "cell_type": "markdown",
      "metadata": {
        "_cell_guid": "7ca35039-f59c-4a26-42f6-134d639a5767"
      },
      "source": [
        "If you are only interested by the scores, I would suggest taking some time to tune Random Forest and Gradient Boosting, and if that's not enough to input your tuned models into a voting classifier with some other models that perform well and that compensate each other (look at the confusion matrix and precision/recall or directly investigate which passengers are leading to mistakes of classification) .\n",
        "With Gradient Boosting or Random Forest, using subsets of the features I was stuck around 80-82 % in the leaderboard, and for comparison, a more basic approach should lead to 78-80 %. "
      ]
    },
    {
      "cell_type": "markdown",
      "metadata": {
        "_cell_guid": "abe13338-d02d-1dde-b1e0-227c83733532"
      },
      "source": [
        "[[back to top](#Table-of-contents)]"
      ]
    },
    {
      "cell_type": "markdown",
      "metadata": {
        "_cell_guid": "bcfde773-461a-e7c1-7427-03cf2b7883db"
      },
      "source": [
        "### 8-A Helper functions"
      ]
    },
    {
      "cell_type": "code",
      "execution_count": null,
      "metadata": {
        "_cell_guid": "25dc70a3-9f6c-574a-9f20-4b2698be1aa3"
      },
      "outputs": [],
      "source": [
        "# Helper functions to analyse and get result\n",
        "\n",
        "\"\"\" \n",
        "========================\n",
        "Grid Score into a Pandas Dataframe\n",
        "========================\n",
        "\"\"\"\n",
        "def cv_results_to_df(cv_results):\n",
        "    \"\"\"\n",
        "    Convert a sklearn.model_selection.GridSearchCV.cv_results_ attribute to a tidy\n",
        "    pandas DataFrame where the output is filtered with only mean std and params, and sorted by mean test\n",
        "    \"\"\"\n",
        "    df=pd.DataFrame.from_dict(cv_results)\n",
        "    df=df[['mean_test_score', 'std_test_score', 'mean_train_score', 'std_train_score', 'params']]\n",
        "    df.sort_values('mean_test_score',ascending=False,inplace=True)\n",
        "    return df\n",
        "\n",
        "\n",
        "\"\"\" \n",
        "========================\n",
        "Plot confusion matrix \n",
        "========================\n",
        "\"\"\"\n",
        "def plot_confusion_matrix(cm, classes,\n",
        "                          normalize=False,\n",
        "                          title='Confusion matrix',\n",
        "                          cmap=plt.cm.Blues):\n",
        "    \"\"\"\n",
        "    This function prints and plots the confusion matrix.\n",
        "    Normalization can be applied by setting `normalize=True`.\n",
        "    \"\"\"\n",
        "    if normalize:\n",
        "        cm = cm.astype('float') / cm.sum(axis=1)[:, np.newaxis]\n",
        "        print(\"Normalized confusion matrix\")\n",
        "    else:\n",
        "        print('Confusion matrix, without normalization')\n",
        "\n",
        "    print(cm)\n",
        "\n",
        "    plt.imshow(cm, interpolation='nearest', cmap=cmap)\n",
        "    plt.title(title)\n",
        "    plt.colorbar()\n",
        "    tick_marks = np.arange(len(classes))\n",
        "    plt.xticks(tick_marks, classes, rotation=45)\n",
        "    plt.yticks(tick_marks, classes)\n",
        "\n",
        "    fmt = '.2f' if normalize else 'd'\n",
        "    thresh = cm.max() / 2.\n",
        "    for i, j in itertools.product(range(cm.shape[0]), range(cm.shape[1])):\n",
        "        plt.text(j, i, format(cm[i, j], fmt),\n",
        "                 horizontalalignment=\"center\",\n",
        "                 color=\"white\" if cm[i, j] > thresh else \"black\")\n",
        "\n",
        "    plt.tight_layout()\n",
        "    plt.ylabel('True label')\n",
        "    plt.xlabel('Predicted label')\n",
        "    \n",
        "\n",
        "\"\"\" \n",
        "========================\n",
        "Helper function for GridSearch\n",
        "========================\n",
        "\"\"\"    \n",
        "def grid_search_global(dict_pip, dict_param, scoring, cv ,X_train, y_train, X_test, y_test, verbose = 2):\n",
        "    \n",
        "    \"\"\"\n",
        "    This function help doing GridSearch with multiples pipelines of estimators and parameters.\n",
        "    \"\"\"\n",
        "    \n",
        "    # Creation of the return objects\n",
        "    dict_of_res={}\n",
        "    dict_of_best={}\n",
        "    df_results_global=pd.DataFrame()\n",
        "    \n",
        "    print (\"Starting Gridsearch\")\n",
        "    \n",
        "    for key in dict_param.keys():\n",
        "        gs = GridSearchCV(dict_pip[key], dict_param[key], verbose=0, refit=True, n_jobs=-1, cv=cv, scoring = scoring)\n",
        "        gs = gs.fit(X_train, y_train)\n",
        "        dict_of_res[key]=gs.grid_scores_\n",
        "        \n",
        "        # Prediction and scores for the evaluation set\n",
        "        y_test_pred=gs.predict(X_test)\n",
        "        validation_acc = accuracy_score(y_test,y_test_pred)\n",
        "        validation_Fscore = f1_score(y_test,y_test_pred)\n",
        "        confusion_mat = confusion_matrix(y_test,y_test_pred)\n",
        "        precission = precision_score(y_test,y_test_pred)\n",
        "        recall = recall_score(y_test,y_test_pred)\n",
        "        \n",
        "        # Saving of the results\n",
        "        df_results=cv_results_to_df(gs.cv_results_)\n",
        "        df_results['estimator'] = key\n",
        "        df_results['val_score'] = validation_acc\n",
        "        df_results['val_F_score'] = validation_Fscore\n",
        "        df_results['val_Precis'] = precission\n",
        "        df_results['val_Recall'] = recall\n",
        "        df_results['val_Confusion'] = str(confusion_mat)\n",
        "        df_results['|test-train|']=  np.absolute (df_results['mean_train_score'] - df_results['mean_test_score']) \n",
        "        df_results['|val-test|']= np.absolute(df_results['mean_test_score'] - df_results['val_score'])\n",
        "        \n",
        "        \n",
        "        df_results=df_results[['estimator','val_score','mean_test_score', 'mean_train_score', 'std_test_score', 'std_train_score',\n",
        "                               '|val-test|','|test-train|','val_F_score','val_Precis','val_Recall','val_Confusion', 'params']]\n",
        "        df_results_global=df_results_global.append(df_results)\n",
        "        \n",
        "        dict_of_best[key]=[gs.best_score_,gs.best_params_]\n",
        "        \n",
        "        # Display intermediate results\n",
        "        if (verbose > 1) :\n",
        "            print('\\n-------------------------------------------------------------------------------------------------------')\n",
        "            print (\"Gridsearch for \\n   estimator : %s \\n   parameters : %s \\n\" % (key,dict_param[key]))\n",
        "            print (\"Best mean_test_score :\", gs.best_score_)\n",
        "            print (\"Best params :\",gs.best_params_)\n",
        "            print(\"\\nResults for the pipeline \")\n",
        "            display(df_results)\n",
        "        \n",
        "    # Transfrom dict_of_best intro a Dataframe\n",
        "    df_best=pd.DataFrame.from_dict(dict_of_best,'index')\n",
        "    df_best.columns=['Scores','Parameters']\n",
        "    df_best.sort_values('Scores',ascending=False,inplace=True) \n",
        "    \n",
        "    # Sort the Dataframe of golbal results\n",
        "    df_results_global.sort_values('val_score',ascending=False,inplace=True)\n",
        " \n",
        "    # Display final results\n",
        "    if (verbose > 0) :   \n",
        "        print('\\n -------------------------------------------------------------------------------------------------------')\n",
        "        print('\\nList of best scores and parameters by pipeline')\n",
        "        display(df_best)\n",
        "        print('\\nSummary')\n",
        "        display(df_results_global) \n",
        "        print('\\n -------------------------------------------------------------------------------------------------------')  \n",
        "    print (\"Gridsearch Finished\")\n",
        "    return df_best, dict_of_best, df_results_global\n",
        "\n",
        "\n",
        "\"\"\" \n",
        "========================\n",
        "Plotting Learning Curves - From scikit learn example\n",
        "========================\n",
        "\"\"\"\n",
        "import numpy as np\n",
        "import matplotlib.pyplot as plt\n",
        "from sklearn.model_selection import learning_curve\n",
        "from sklearn.model_selection import StratifiedShuffleSplit\n",
        "\n",
        "\n",
        "def plot_learning_curve(estimator, title, X, y, ylim=None, cv=None,\n",
        "                        n_jobs=1, train_sizes=np.linspace(.1, 1.0, 5)):\n",
        "    \"\"\"\n",
        "    Generate a simple plot of the test and training learning curve.\n",
        "    Parameters\n",
        "    ----------\n",
        "    estimator : object type that implements the \"fit\" and \"predict\" methods\n",
        "        An object of that type which is cloned for each validation.\n",
        "    title : string\n",
        "        Title for the chart.\n",
        "    X : array-like, shape (n_samples, n_features)\n",
        "        Training vector, where n_samples is the number of samples and\n",
        "        n_features is the number of features.\n",
        "    y : array-like, shape (n_samples) or (n_samples, n_features), optional\n",
        "        Target relative to X for classification or regression;\n",
        "        None for unsupervised learning.\n",
        "    ylim : tuple, shape (ymin, ymax), optional\n",
        "        Defines minimum and maximum yvalues plotted.\n",
        "    cv : int, cross-validation generator or an iterable, optional\n",
        "        Determines the cross-validation splitting strategy.\n",
        "        Possible inputs for cv are:\n",
        "          - None, to use the default 3-fold cross-validation,\n",
        "          - integer, to specify the number of folds.\n",
        "          - An object to be used as a cross-validation generator.\n",
        "          - An iterable yielding train/test splits.\n",
        "        For integer/None inputs, if ``y`` is binary or multiclass,\n",
        "        :class:`StratifiedKFold` used. If the estimator is not a classifier\n",
        "        or if ``y`` is neither binary nor multiclass, :class:`KFold` is used.\n",
        "        Refer :ref:`User Guide <cross_validation>` for the various\n",
        "        cross-validators that can be used here.\n",
        "    n_jobs : integer, optional\n",
        "        Number of jobs to run in parallel (default 1).\n",
        "    \"\"\"\n",
        "    plt.figure()\n",
        "    plt.title(title)\n",
        "    if ylim is not None:\n",
        "        plt.ylim(0.7, 1)\n",
        "    plt.xlabel(\"Training examples\")\n",
        "    plt.ylabel(\"Score\")\n",
        "    train_sizes, train_scores, test_scores = learning_curve(\n",
        "        estimator, X, y, cv=cv, n_jobs=n_jobs, train_sizes=train_sizes)\n",
        "    train_scores_mean = np.mean(train_scores, axis=1)\n",
        "    train_scores_std = np.std(train_scores, axis=1)\n",
        "    test_scores_mean = np.mean(test_scores, axis=1)\n",
        "    test_scores_std = np.std(test_scores, axis=1)\n",
        "    plt.grid()\n",
        "\n",
        "    plt.fill_between(train_sizes, train_scores_mean - train_scores_std,\n",
        "                     train_scores_mean + train_scores_std, alpha=0.1,\n",
        "                     color=\"r\")\n",
        "    plt.fill_between(train_sizes, test_scores_mean - test_scores_std,\n",
        "                     test_scores_mean + test_scores_std, alpha=0.1, color=\"g\")\n",
        "    plt.plot(train_sizes, train_scores_mean, 'o-', color=\"r\",\n",
        "             label=\"Training score\")\n",
        "    plt.plot(train_sizes, test_scores_mean, 'o-', color=\"g\",\n",
        "             label=\"Cross-validation score\")\n",
        "\n",
        "    plt.legend(loc=\"best\")\n",
        "    return plt\n",
        "\n",
        "\n",
        "\"\"\" \n",
        "========================\n",
        "Plotting Validation Curves \n",
        "========================\n",
        "\"\"\"\n",
        "\n",
        "import matplotlib.pyplot as plt\n",
        "import numpy as np\n",
        "from sklearn.model_selection import validation_curve\n",
        "\n",
        "def plot_validation_curve(estimator, estimator_name, param_name, param_range, X, y, cv,\n",
        "    scoring='accuracy', scale='classic' , n_jobs=-1):\n",
        "    \n",
        "    \"\"\"\n",
        "    Generate a simple plot of the validation learning curve.\n",
        "    Parameters\n",
        "    ----------\n",
        "    estimator : object type that implements the \"fit\" and \"predict\" methods\n",
        "        An object of that type which is cloned for each validation.\n",
        "    estimator_name : name of the estimator.\n",
        "    param_range : range of parameters to try.\n",
        "    scoring : scoring metric to use.\n",
        "    scale : classic or semi log scale\n",
        "    X : array-like, shape (n_samples, n_features)\n",
        "        Training vector, where n_samples is the number of samples and\n",
        "        n_features is the number of features.\n",
        "    y : array-like, shape (n_samples) or (n_samples, n_features), optional\n",
        "        Target relative to X for classification or regression;\n",
        "        None for unsupervised learning.\n",
        "    ylim : tuple, shape (ymin, ymax), optional\n",
        "        Defines minimum and maximum yvalues plotted.\n",
        "    cv : int, cross-validation generator or an iterable\n",
        "    n_jobs : integer, optional\n",
        "        Number of jobs to run in parallel (default -1).\n",
        "    \"\"\" \n",
        "    train_scores, test_scores = validation_curve(\n",
        "        estimator, X, y, param_name=param_name, param_range=param_range,\n",
        "        cv=cv, scoring=scoring, n_jobs=n_jobs)\n",
        "\n",
        "    train_scores_mean = np.mean(train_scores, axis=1)\n",
        "    train_scores_std = np.std(train_scores, axis=1)\n",
        "    test_scores_mean = np.mean(test_scores, axis=1)\n",
        "    test_scores_std = np.std(test_scores, axis=1)\n",
        "    \n",
        "    title_fig='Validation Curve with %s' % estimator_name\n",
        "    plt.title(title_fig)\n",
        "    plt.xlabel(param_name)\n",
        "    plt.ylabel(\"Score : %s\" % scoring)\n",
        "    plt.ylim(0.7, 1)\n",
        "    lw = 2\n",
        "    \n",
        "    if (scale=='semilog'):\n",
        "        plt.semilogx(param_range, train_scores_mean, label=\"Training score\",\n",
        "                     color=\"darkorange\", lw=lw)\n",
        "        plt.fill_between(param_range, train_scores_mean - train_scores_std,\n",
        "                         train_scores_mean + train_scores_std, alpha=0.2,\n",
        "                         color=\"darkorange\", lw=lw)\n",
        "        plt.semilogx(param_range, test_scores_mean, label=\"Cross-validation score\",\n",
        "                     color=\"navy\", lw=lw)\n",
        "        plt.fill_between(param_range, test_scores_mean - test_scores_std,\n",
        "                         test_scores_mean + test_scores_std, alpha=0.2,\n",
        "                         color=\"navy\", lw=lw)\n",
        "    else :\n",
        "        plt.plot(param_range, train_scores_mean, label=\"Training score\",\n",
        "                     color=\"darkorange\", lw=lw)\n",
        "        plt.fill_between(param_range, train_scores_mean - train_scores_std,\n",
        "                         train_scores_mean + train_scores_std, alpha=0.2,\n",
        "                         color=\"darkorange\", lw=lw)\n",
        "        plt.plot(param_range, test_scores_mean, label=\"Cross-validation score\",\n",
        "                     color=\"navy\", lw=lw)\n",
        "        plt.fill_between(param_range, test_scores_mean - test_scores_std,\n",
        "                         test_scores_mean + test_scores_std, alpha=0.2,\n",
        "                         color=\"navy\", lw=lw) \n",
        "\n",
        "    plt.legend(loc=\"best\")\n",
        "    plt.show()\n",
        "    "
      ]
    },
    {
      "cell_type": "markdown",
      "metadata": {
        "_cell_guid": "b25b6fd0-d543-dba6-54ed-daa151de1d56"
      },
      "source": [
        "### 8-B Multiple Estimators "
      ]
    },
    {
      "cell_type": "code",
      "execution_count": null,
      "metadata": {
        "_cell_guid": "3093c901-df5d-c3aa-1a32-b8b008660695"
      },
      "outputs": [],
      "source": [
        "# Pipeline setup\n",
        "\n",
        "models = { \n",
        "    'RandomForestClassifier': RandomForestClassifier(),\n",
        "    'GradientBoostingClassifier': GradientBoostingClassifier(),\n",
        "    'SVC_linear': SVC(kernel='linear'),\n",
        "    'SVC_rbf': SVC(kernel='rbf'),\n",
        "    'LogisticRegression' : LogisticRegression(),\n",
        "    'Naive Bayes' : GaussianNB(),\n",
        "    'Knn' : KNeighborsClassifier()\n",
        "}\n",
        "\n",
        "# Parameters to default\n",
        "params = {\n",
        "    'RandomForestClassifier': {},\n",
        "    'GradientBoostingClassifier': {},\n",
        "    'SVC_linear': {},\n",
        "    'SVC_rbf': {},\n",
        "    'LogisticRegression' : {},\n",
        "    'Naive Bayes' : {},\n",
        "    'Knn' : {}\n",
        "}\n",
        "\n",
        "\n",
        "# Start grid search\n",
        "df_best, dic_best, d_res = grid_search_global(dict_pip = models, dict_param = params, \n",
        "                                              scoring ='accuracy', cv=10,\n",
        "                                              X_train = X_train  ,y_train = y_train, X_test = X_test, y_test = y_test,\n",
        "                                              verbose = 1)"
      ]
    },
    {
      "cell_type": "markdown",
      "metadata": {
        "_cell_guid": "c65e36d5-c736-c50f-58b9-c6a130ac88de"
      },
      "source": [
        "### 8-C SVC"
      ]
    },
    {
      "cell_type": "markdown",
      "metadata": {
        "_cell_guid": "7e2290b3-8550-6dd6-1a3c-8c44ed57ce26"
      },
      "source": [
        "If not familiar with the main parameters of the Support Vector Machine, a good interactive tool can be found [here](http://cs.stanford.edu/people/karpathy/svmjs/demo/)."
      ]
    },
    {
      "cell_type": "markdown",
      "metadata": {
        "_cell_guid": "c4015c7e-c9e2-04ea-d19a-14fe8d395b59"
      },
      "source": [
        "[[back to top](#Table-of-contents)]"
      ]
    },
    {
      "cell_type": "code",
      "execution_count": null,
      "metadata": {
        "_cell_guid": "aece22e5-1440-5e6e-1957-bcff9e61399d"
      },
      "outputs": [],
      "source": [
        "# Pipeline or model setup\n",
        "models = { \n",
        "    'SVC': SVC()\n",
        "}\n",
        "\n",
        "# Parameters setup\n",
        "params = {\n",
        "    'SVC': [\n",
        "        {'kernel': ['rbf'], \n",
        "             'C': [0.001, 0.003, 0.01, 0.03, 0.1, 0.3, 1, 3, 10, 30, 100], \n",
        "             'gamma': ['auto',0.001, 0.003, 0.01, 0.03, 0.1, 0.3, 1, 3]},\n",
        "        {'kernel': ['linear'], \n",
        "             'C': [0.001, 0.003, 0.01, 0.03, 0.1, 0.3, 1, 3, 10, 30, 100]}\n",
        "    ]\n",
        "\n",
        "}\n",
        "\n",
        "# Start grid search\n",
        "df_best_svc , dic_best_svc, d_res_svc = grid_search_global(dict_pip = models, dict_param = params, scoring ='accuracy',cv=10,\n",
        "                                            X_train = X_train  ,y_train = y_train, X_test = X_test, y_test = y_test,\n",
        "                                            verbose = 0)"
      ]
    },
    {
      "cell_type": "code",
      "execution_count": null,
      "metadata": {
        "_cell_guid": "fda6a37b-8e25-6265-4489-8d13e0653ef0"
      },
      "outputs": [],
      "source": [
        "# Filter results\n",
        "# Take care not to search for too small values because it will certainly lead to overfit to the split of the data\n",
        "diff = 0.02\n",
        "std = 0.04\n",
        "d_res_svc.sort_values(by=['val_score','std_test_score'],ascending=[False,True],inplace=True)\n",
        "d_res_svc_sort = d_res_svc.loc[(d_res_svc['val_score'] > 0.80) \n",
        "              & (d_res_svc['|val-test|'] < diff) \n",
        "              & (d_res_svc['|test-train|'] < diff)  \n",
        "              & (d_res_svc['std_test_score'] < std) \n",
        "              & (d_res_svc['std_train_score'] < std)]\n",
        "display(d_res_svc_sort)"
      ]
    },
    {
      "cell_type": "code",
      "execution_count": null,
      "metadata": {
        "_cell_guid": "20d6e5f6-4b60-ef25-c2c1-ab945abbabdb"
      },
      "outputs": [],
      "source": [
        "# Selection of the parameters to study\n",
        "index_selection_svc = [51, 68]\n",
        "df_study_svc = d_res_svc.loc[index_selection_svc,['estimator','params','val_score','mean_test_score','mean_train_score','val_F_score']]\n",
        "df_study_svc.reset_index(inplace=True)\n",
        "display(df_study_svc)"
      ]
    },
    {
      "cell_type": "code",
      "execution_count": null,
      "metadata": {
        "_cell_guid": "5d3f976f-b323-1004-6569-a6648c8aea7c"
      },
      "outputs": [],
      "source": [
        "# Enbale to set specific values if needed for testing learning and validation curve\n",
        "#df_study_svc.set_value(0,'params',{'C': 1, 'gamma': 1, 'kernel': 'rbf'})\n",
        "#df_study_svc.set_value(1,'params',{'C': 1, 'gamma': 10, 'kernel': 'rbf'})\n",
        "\n",
        "# Put 0 for scores\n",
        "#zeros =  np.zeros((df_study_svc.shape[0],4))\n",
        "#df_study_svc[['val_score','mean_test_score','mean_train_score','val_F_score']] = zeros"
      ]
    },
    {
      "cell_type": "code",
      "execution_count": null,
      "metadata": {
        "_cell_guid": "d0c66b8f-aac1-de31-e8d3-6e6d18bace01"
      },
      "outputs": [],
      "source": [
        "# Learning curve\n",
        "index = list(df_study_svc.index)\n",
        "for ind in index :\n",
        "    \n",
        "    # Extraction of values\n",
        "    estim = df_study_svc.loc[ind, 'estimator']\n",
        "    params = df_study_svc.loc[ind, 'params']\n",
        "    val_score = df_study_svc.loc[ind, 'val_score']\n",
        "    mean_test = df_study_svc.loc[ind, 'mean_test_score']\n",
        "    mean_train = df_study_svc.loc[ind, 'mean_train_score']\n",
        "    \n",
        "    # Print the values of the selected model\n",
        "    title = \"Learning Curves for the estimator %s which results are: \\n mean test: %s \\n mean train: %s \\n val_score : %s \\n with parameters %s)\" % (estim,mean_test,mean_train,val_score,params)\n",
        "    \n",
        "    # Build the model\n",
        "    estimator = models[estim]\n",
        "    estimator.set_params(**params)\n",
        "    \n",
        "    # Split\n",
        "    cv = StratifiedShuffleSplit(n_splits=30, test_size=0.2)\n",
        "    \n",
        "    plot_learning_curve(estimator, title, data, target, cv=cv, n_jobs=-1)\n",
        "    plt.show()"
      ]
    },
    {
      "cell_type": "code",
      "execution_count": null,
      "metadata": {
        "_cell_guid": "160a9435-a1d9-d140-3ffb-8228a42d40b3"
      },
      "outputs": [],
      "source": [
        "# Validation curve\n",
        "\n",
        "# Select the model and the ranges of parameters to study\n",
        "dict_Validation = { \n",
        "    'SVC': { 'C': np.linspace(0.001,10,200),\n",
        "            'gamma' : np.linspace(0.001,10,200)\n",
        "    }\n",
        "}\n",
        "\n",
        "for ind in index :\n",
        "\n",
        "    # Extraction of values\n",
        "    estim = df_study_svc.loc[ind, 'estimator']\n",
        "    params = df_study_svc.loc[ind, 'params']\n",
        "    mean_test = df_study_svc.loc[ind, 'mean_test_score']\n",
        "    mean_train = df_study_svc.loc[ind, 'mean_train_score']\n",
        "    val_score = df_study_svc.loc[ind, 'val_score']\n",
        "    \n",
        "    # Print the values of the selected model\n",
        "    print(\"Model: %s\\nMean test: %s\\nMean train: %s\\nVal score: %s \\nParams: %s\" % (estim,mean_test,mean_train,val_score,params))\n",
        "   \n",
        "    # Build the model\n",
        "    estimator = models[estim]\n",
        "    estimator.set_params(**params)\n",
        "    \n",
        "    # Split\n",
        "    cv = StratifiedShuffleSplit(n_splits=30, test_size=0.2)\n",
        "    \n",
        "    # Run validation curve\n",
        "    for key, value in dict_Validation[estim].items():\n",
        "        plot_validation_curve(estimator, estim, key, value, data, target, scoring='accuracy', cv=cv)\n",
        "        plt.show()"
      ]
    },
    {
      "cell_type": "code",
      "execution_count": null,
      "metadata": {
        "_cell_guid": "80a4ba4e-f10d-0514-4ffb-4925731c9477"
      },
      "outputs": [],
      "source": [
        "# Prediction\n",
        "# Example of Parameters chosen \n",
        "svc_params = {'C': 0.3, 'gamma': 0.3, 'kernel': 'rbf'} \n",
        "svc = SVC(**svc_params)\n",
        "svc.fit(data,target)\n",
        "svc_pred = svc.predict(test_data)\n",
        "Prediction['SVC'] = svc_pred"
      ]
    },
    {
      "cell_type": "markdown",
      "metadata": {
        "_cell_guid": "462aa0bc-20e3-4550-2403-3564312554a6"
      },
      "source": [
        "### 8-D Logistic Regression"
      ]
    },
    {
      "cell_type": "markdown",
      "metadata": {
        "_cell_guid": "4d00bda3-debb-6ae2-f929-f738eadbab7d"
      },
      "source": [
        "[[back to top](#Table-of-contents)]"
      ]
    },
    {
      "cell_type": "code",
      "execution_count": null,
      "metadata": {
        "_cell_guid": "00ef27fe-191e-a09a-1b7e-e096dc2ae861"
      },
      "outputs": [],
      "source": [
        "# Pipeline or model setup\n",
        "models = { \n",
        "    'LogisticRegression': LogisticRegression()\n",
        "}\n",
        "\n",
        "# Parameters setup\n",
        "params = { 'LogisticRegression' :  { 'C': [0.001, 0.003, 0.01, 0.03, 0.1, 0.3, 1, 3, 10, 30, 100],\n",
        "                                   'penalty': ['l1','l2']}\n",
        "}\n",
        "\n",
        "# Start grid search\n",
        "df_best_lr , dic_best_lr, d_res_lr = grid_search_global(dict_pip = models, dict_param = params, scoring ='accuracy',cv=10,\n",
        "                                            X_train = X_train  ,y_train = y_train, X_test = X_test, y_test = y_test,\n",
        "                                            verbose = 0)"
      ]
    },
    {
      "cell_type": "code",
      "execution_count": null,
      "metadata": {
        "_cell_guid": "46400ae7-78ad-3bac-bad1-4bb2950660b5"
      },
      "outputs": [],
      "source": [
        "# Filter results\n",
        "diff = 0.02\n",
        "std = 0.04\n",
        "d_res_lr.sort_values(by=['val_score','std_test_score'],ascending=[False,True],inplace=True)\n",
        "d_res_lr_sort = d_res_lr.loc[(d_res_lr['val_score'] > 0.80) \n",
        "              & (d_res_lr['|val-test|'] < diff) \n",
        "              & (d_res_lr['|test-train|'] < diff)  \n",
        "              & (d_res_lr['std_test_score'] < std) \n",
        "              & (d_res_lr['std_train_score'] < std)]\n",
        "display(d_res_lr_sort)\n",
        "\n",
        "# Take care not to search for too small values because it will certainly lead to overfit to the split of the data"
      ]
    },
    {
      "cell_type": "code",
      "execution_count": null,
      "metadata": {
        "_cell_guid": "c3ce119b-1cb8-e5fe-45ce-fd1b54fa058a"
      },
      "outputs": [],
      "source": [
        "# Selection of the parameters to study\n",
        "index_selection_lr = [13, 16]\n",
        "df_study_lr = d_res_lr.loc[index_selection_lr,['estimator','params','val_score','mean_test_score','mean_train_score','val_F_score']]\n",
        "df_study_lr.reset_index(inplace=True)\n",
        "display(df_study_lr)"
      ]
    },
    {
      "cell_type": "code",
      "execution_count": null,
      "metadata": {
        "_cell_guid": "47a88e29-b922-944a-84bd-04cc542418fc"
      },
      "outputs": [],
      "source": [
        "# Enbale to set specific values if needed for testing learning and validation curve\n",
        "#df_study_lr.set_value(1,'params',{'C': 1, 'penalty': 'l1'})\n",
        "#df_study_lr.set_value(1,'params',{'C': 1, 'penalty': 'l2'})\n",
        "\n",
        "# Put 0 for scores\n",
        "#zeros =  np.zeros((df_study_gbc.shape[0],4))\n",
        "#df_study_lr[['val_score','mean_test_score','mean_train_score','val_F_score']] = zeros"
      ]
    },
    {
      "cell_type": "code",
      "execution_count": null,
      "metadata": {
        "_cell_guid": "e7ebe2c8-4945-cdec-4a43-b7563757633e"
      },
      "outputs": [],
      "source": [
        "# Learning curve\n",
        "index = list(df_study_lr.index)\n",
        "\n",
        "for ind in index :\n",
        "    \n",
        "    # Extraction of values\n",
        "    estim = df_study_lr.loc[ind, 'estimator']\n",
        "    params = df_study_lr.loc[ind, 'params']\n",
        "    val_score = df_study_lr.loc[ind, 'val_score']\n",
        "    mean_test = df_study_lr.loc[ind, 'mean_test_score']\n",
        "    mean_train = df_study_lr.loc[ind, 'mean_train_score']\n",
        "    \n",
        "    # Print the values of the selected model\n",
        "    title = \"Learning Curves for the estimator %s which results are: \\n mean test: %s \\n mean train: %s \\n val_score : %s \\n with parameters %s)\" % (estim,mean_test,mean_train,val_score,params)\n",
        "    \n",
        "    # Build the model\n",
        "    estimator = models[estim]\n",
        "    estimator.set_params(**params)\n",
        "    \n",
        "    # Split\n",
        "    cv = StratifiedShuffleSplit(n_splits=30, test_size=0.2)\n",
        "    \n",
        "    plot_learning_curve(estimator, title, data, target, cv=cv, n_jobs=-1)\n",
        "    plt.show()"
      ]
    },
    {
      "cell_type": "code",
      "execution_count": null,
      "metadata": {
        "_cell_guid": "e8d70a62-9a90-c0f7-4b0b-98e01aa97fba"
      },
      "outputs": [],
      "source": [
        "# Validation curve\n",
        "\n",
        "# Select the model and the ranges of parameters to study\n",
        "dict_Validation = { \n",
        "    'LogisticRegression': { 'C': np.linspace(0.001,5,25)\n",
        "    }\n",
        "}\n",
        "for ind in index :\n",
        " \n",
        "    # Extraction of values\n",
        "    estim = df_study_lr.loc[ind, 'estimator']\n",
        "    params = df_study_lr.loc[ind, 'params']\n",
        "    mean_test = df_study_lr.loc[ind, 'mean_test_score']\n",
        "    mean_train = df_study_lr.loc[ind, 'mean_train_score']\n",
        "    val_score = df_study_lr.loc[ind, 'val_score']\n",
        "    \n",
        "    # Print the values of the selected model\n",
        "    print(\"Model: %s\\nMean test: %s\\nMean train: %s\\nVal score: %s \\nParams: %s\" % (estim,mean_test,mean_train,val_score,params))\n",
        "    \n",
        "    # Build the model\n",
        "    estimator = models[estim]\n",
        "    estimator.set_params(**params)\n",
        "    \n",
        "    # Split    \n",
        "    cv = StratifiedShuffleSplit(n_splits=30, test_size=0.2)\n",
        "    \n",
        "    # Run validation curve\n",
        "    for key, value in dict_Validation[estim].items():\n",
        "        plot_validation_curve(estimator, estim, key, value, data, target, scoring='accuracy', cv=cv)\n",
        "        plt.show()"
      ]
    },
    {
      "cell_type": "code",
      "execution_count": null,
      "metadata": {
        "_cell_guid": "e3380dab-dda8-0f0c-b7a5-fe508c221c6b"
      },
      "outputs": [],
      "source": [
        "# Prediction\n",
        "lr_params = # Parmeters chosen (e.g {'C': 10, 'penalty': 'l1'} )\n",
        "lr = LogisticRegression(**lr_params)\n",
        "lr.fit(data,target)\n",
        "lr_pred = lr.predict(test_data)\n",
        "Prediction['LR'] = lr_pred"
      ]
    },
    {
      "cell_type": "markdown",
      "metadata": {
        "_cell_guid": "3f3a44f6-ef51-38b2-13c4-ad8c54053225"
      },
      "source": [
        "### 8-E Random Forest"
      ]
    },
    {
      "cell_type": "markdown",
      "metadata": {
        "_cell_guid": "75fb17bf-d0ec-368c-a7c9-dd97052d24bb"
      },
      "source": [
        "[[back to top](#Table-of-contents)]"
      ]
    },
    {
      "cell_type": "code",
      "execution_count": null,
      "metadata": {
        "_cell_guid": "3f0b9bb5-c5b6-9ab8-74d2-7ea1a52338f4"
      },
      "outputs": [],
      "source": [
        "# Pipeline or model setup\n",
        "models = { \n",
        "    'RandomForestClassifier': RandomForestClassifier(),\n",
        "}\n",
        "\n",
        "# Parameters setup\n",
        "params = {\n",
        "    'RandomForestClassifier': { 'n_estimators': [10,30,100],\n",
        "                               'criterion' : ['gini','entropy'],\n",
        "                               'max_features': [2,3,4,5],\n",
        "                               'max_depth': [3,5,7],\n",
        "                               'min_samples_split': [2,3,5],\n",
        "                               'min_samples_leaf':  [2,3,5]\n",
        "                              }\n",
        "}\n",
        "\n",
        "# Start grid search\n",
        "df_best_rf, dic_best_rf, d_res_rf =grid_search_global(dict_pip = models, dict_param = params, scoring ='accuracy',cv=10,\n",
        "                                            X_train = X_train  ,y_train = y_train, X_test = X_test, y_test = y_test,\n",
        "                                            verbose = 0)"
      ]
    },
    {
      "cell_type": "code",
      "execution_count": null,
      "metadata": {
        "_cell_guid": "6f529441-032c-3a2a-708b-160234874345"
      },
      "outputs": [],
      "source": [
        "# Filter results\n",
        "diff = 0.02\n",
        "std = 0.04\n",
        "d_res_rf.sort_values(by=['val_score','std_test_score'],ascending=[False,True],inplace=True)\n",
        "d_res_rf_sort = d_res_rf.loc[(d_res_rf['val_score'] > 0.80) \n",
        "              & (d_res_rf['|val-test|'] < diff) \n",
        "              & (d_res_rf['|test-train|'] < diff)  \n",
        "              & (d_res_rf['std_test_score'] < std) \n",
        "              & (d_res_rf['std_train_score'] < std)]\n",
        "display(d_res_rf_sort)"
      ]
    },
    {
      "cell_type": "code",
      "execution_count": null,
      "metadata": {
        "_cell_guid": "84bd6e1b-b345-b15f-f3a2-447e3c8b4ea8"
      },
      "outputs": [],
      "source": [
        "# Selection of the parameters to study\n",
        "index_selection_rf = [33, 411]\n",
        "df_study_rf = d_res_rf.loc[index_selection_rf,['estimator','params','val_score','mean_test_score','mean_train_score','val_F_score']]\n",
        "df_study_rf.reset_index(inplace=True)\n",
        "display(df_study_rf)"
      ]
    },
    {
      "cell_type": "code",
      "execution_count": null,
      "metadata": {
        "_cell_guid": "d43f03cf-d4bf-9b5b-d0d1-d4023a09a83d"
      },
      "outputs": [],
      "source": [
        "# Learning curve\n",
        "\n",
        "index = list(df_study_rf.index)\n",
        "\n",
        "for ind in index :\n",
        "    \n",
        "    # Extraction of values\n",
        "    estim = df_study_rf.loc[ind, 'estimator']\n",
        "    params = df_study_rf.loc[ind, 'params']\n",
        "    val_score = df_study_rf.loc[ind, 'val_score']\n",
        "    mean_test = df_study_rf.loc[ind, 'mean_test_score']\n",
        "    mean_train = df_study_rf.loc[ind, 'mean_train_score']\n",
        "    \n",
        "    # Print the values of the selected model    \n",
        "    title = \"Learning Curves for the estimator %s which results are: \\n mean test: %s \\n mean train: %s \\n val_score : %s \\n with parameters %s)\" % (estim,mean_test,mean_train,val_score,params)\n",
        "\n",
        "    # Build the model\n",
        "    estimator = models[estim]\n",
        "    estimator.set_params(**params)\n",
        "    \n",
        "    # Split    \n",
        "    cv = StratifiedShuffleSplit(n_splits=30, test_size=0.2)\n",
        "    \n",
        "    plot_learning_curve(estimator, title, data, target, cv=cv, n_jobs=-1)\n",
        "    plt.show()"
      ]
    },
    {
      "cell_type": "code",
      "execution_count": null,
      "metadata": {
        "_cell_guid": "e50290b7-9d32-54d9-c12f-ae5509a700df"
      },
      "outputs": [],
      "source": [
        "# Validation curve\n",
        "\n",
        "# Select the model and the ranges of parameters to study\n",
        "dict_Validation = { \n",
        "    'RandomForestClassifier': {'n_estimators': range(1,100,2),\n",
        "                               'max_depth' : range(1,20,1),\n",
        "                               'max_features':range(1,6,1),\n",
        "                               'min_samples_split': range(2,10,1),\n",
        "                               'min_samples_leaf': range(2,10,1)}  \n",
        "}\n",
        "\n",
        "for ind in index :\n",
        "\n",
        "    # Extraction of values\n",
        "    estim = df_study_rf.loc[ind, 'estimator']\n",
        "    params = df_study_rf.loc[ind, 'params']\n",
        "    mean_test = df_study_rf.loc[ind, 'mean_test_score']\n",
        "    mean_train = df_study_rf.loc[ind, 'mean_train_score']\n",
        "    val_score = df_study_rf.loc[ind, 'val_score']\n",
        "    \n",
        "    # Print the values of the selected model\n",
        "    print(\"Model: %s\\nMean test: %s\\nMean train: %s\\nVal score: %s \\nParams: %s\" % (estim,mean_test,mean_train,val_score,params))\n",
        "    \n",
        "    # Build the model\n",
        "    estimator = models[estim]\n",
        "    estimator.set_params(**params)\n",
        "    \n",
        "    # Split\n",
        "    cv = StratifiedShuffleSplit(n_splits=30, test_size=0.2)\n",
        "\n",
        "    # Run validation curve\n",
        "    for key, value in dict_Validation[estim].items():\n",
        "        plot_validation_curve(estimator, estim, key, value, data, target, scoring='accuracy', cv=cv)\n",
        "        plt.show()"
      ]
    },
    {
      "cell_type": "code",
      "execution_count": null,
      "metadata": {
        "_cell_guid": "ae2defb7-116a-da33-328f-d53a4fcf45b1"
      },
      "outputs": [],
      "source": [
        "# Prediction \n",
        "RF_params =  # Parmeters chosen (e.g {'criterion': 'gini', 'max_depth': 3, 'max_features': 2, 'n_estimators': 10})\n",
        "rf = RandomForestClassifier(**RF_params)\n",
        "rf.fit(data,target)\n",
        "rf_pred = rf.predict(test_data)\n",
        "Prediction['RF'] = rf_pred"
      ]
    },
    {
      "cell_type": "markdown",
      "metadata": {
        "_cell_guid": "7763519c-e964-8809-971b-8183ef2eb367"
      },
      "source": [
        "## 9 - Submission"
      ]
    },
    {
      "cell_type": "markdown",
      "metadata": {
        "_cell_guid": "ca5f4483-d1ec-896e-14ee-653b51a8690d"
      },
      "source": [
        "[[back to top](#Table-of-contents)]"
      ]
    },
    {
      "cell_type": "code",
      "execution_count": null,
      "metadata": {
        "_cell_guid": "c74f6a42-c151-c927-6496-1013b1256a8c"
      },
      "outputs": [],
      "source": [
        "# Choose the prediction to submit and comment the others\n",
        "\n",
        "Predic = Prediction['SVC']\n",
        "#Predic = Prediction['LR']\n",
        "#Predic = Prediction['RF']"
      ]
    },
    {
      "cell_type": "code",
      "execution_count": null,
      "metadata": {
        "_cell_guid": "bc554c8e-1bcf-137b-f235-3a6cd82cea23"
      },
      "outputs": [],
      "source": [
        "# Save into a csv to submit\n",
        "submission = pd.DataFrame({\n",
        "        \"PassengerId\": PassengerId,\n",
        "        \"Survived\": Predic\n",
        "    })\n",
        "submission.to_csv('titanic_pred.csv', index=False)"
      ]
    },
    {
      "cell_type": "code",
      "execution_count": null,
      "metadata": {
        "_cell_guid": "360a76bc-628b-3e5f-e020-bfe9195b886b"
      },
      "outputs": [],
      "source": [
        ""
      ]
    }
  ],
  "metadata": {
    "_change_revision": 0,
    "_is_fork": false,
    "kernelspec": {
      "display_name": "Python 3",
      "language": "python",
      "name": "python3"
    },
    "language_info": {
      "codemirror_mode": {
        "name": "ipython",
        "version": 3
      },
      "file_extension": ".py",
      "mimetype": "text/x-python",
      "name": "python",
      "nbconvert_exporter": "python",
      "pygments_lexer": "ipython3",
      "version": "3.6.0"
    }
  },
  "nbformat": 4,
  "nbformat_minor": 0
}