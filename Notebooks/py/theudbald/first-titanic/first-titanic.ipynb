{
  "cells": [
    {
      "cell_type": "markdown",
      "metadata": {
        "_cell_guid": "a0c7fc1b-6c54-0897-d146-d14faf567bef"
      },
      "source": [
        "First Kaggle competition in order to test Kernels.\n",
        "Progress coming soon..."
      ]
    },
    {
      "cell_type": "code",
      "execution_count": null,
      "metadata": {
        "_cell_guid": "1f7b5fcc-4eb0-87b3-1804-2e2c264bac7f"
      },
      "outputs": [],
      "source": [
        "##### Functions\n",
        "def sex_indexer(sex_element):\n",
        "    if sex_element == \"male\":\n",
        "        return 0\n",
        "    elif sex_element == \"female\":\n",
        "        return 1\n",
        "    else:\n",
        "        print(\"erreur sexe\")\n",
        "        return 2\n",
        "    \n",
        "def embarked_indexer(embarked_element):\n",
        "    if (embarked_element == \"Q\"):\n",
        "        return 0\n",
        "    elif embarked_element == \"S\":\n",
        "        return 1\n",
        "    elif embarked_element == \"C\":\n",
        "        return 2\n",
        "    else:\n",
        "        return 0\n",
        "\n",
        "def age_estimator(df):\n",
        "    age_mean = df[[\"Age\", \"Title\"]].dropna().groupby(\"Title\").mean()\n",
        "    return age_mean\n",
        "    \n",
        "def title_estimator(name):\n",
        "    splitted_name = name.split(\".\")[0]\n",
        "    title = splitted_name.split(\", \")[1]\n",
        "    return str(title)\n",
        "\n",
        "def title_mapper(name):\n",
        "    \"\"\"\n",
        "    par importance\n",
        "    \"\"\"\n",
        "    splitted_name = name.split(\".\")[0]\n",
        "    title = splitted_name.split(\", \")[1]\n",
        "    if title in [\"Mr\", \"Don\", \"Dr\", \"Jonkheer\", \"Sir\"]: # Hommes\n",
        "        return 0\n",
        "    elif title in [\"Mrs\", \"Ms\", \"Dona\", \"Mme\", \"the Countess\"]: #Femmes\n",
        "        return 1\n",
        "    elif title in [\"Miss\", \"Mlle\", \"Lady\"]: # Jeunes\n",
        "        return 2\n",
        "    elif title in [\"Major\", \"Col\", \"Capt\"]: # Army\n",
        "        return 0\n",
        "    elif title in [\"Rev\"]: # Sacrifice\n",
        "        return 0\n",
        "    elif title in [\"Master\"]: # Sacrifice\n",
        "        return 6\n",
        "    else:\n",
        "        print(\"erreur !\", title)\n",
        "    "
      ]
    },
    {
      "cell_type": "code",
      "execution_count": null,
      "metadata": {
        "_cell_guid": "44974f92-af6e-4a2e-6db4-7a7ca0cd1c38"
      },
      "outputs": [],
      "source": [
        "import pandas as pd\n",
        "import seaborn as sns\n",
        "import numpy as np\n",
        "import matplotlib.pyplot as plt\n",
        "\n",
        "### importing the data\n",
        "train_df = pd.read_csv(\"../input/train.csv\")\n",
        "test_df = pd.read_csv(\"../input/test.csv\")\n",
        "full_df = pd.concat([train_df.drop(\"Survived\", axis=1), test_df])\n",
        "\n",
        "### Extract the title\n",
        "title_serie = full_df[\"Name\"].apply(title_estimator)\n",
        "title_count = title_serie.value_counts()\n",
        "\n",
        "train_df[\"Title\"] = train_df[\"Name\"].apply(title_mapper)\n",
        "test_df[\"Title\"] = test_df[\"Name\"].apply(title_mapper)\n",
        "\n",
        "### Cleaning NAs\n",
        "age_mean = age_estimator(train_df)\n",
        "for i, j in zip(age_mean.index.values, age_mean):\n",
        "    print(i,j)\n",
        "train_df[\"Age\"] = train_df[\"Age\"].fillna( train_df[\"Age\"].median())\n",
        "test_df[\"Age\"] = test_df[\"Age\"].fillna( train_df[\"Age\"].median())\n",
        "test_df[\"Fare\"] = test_df[\"Fare\"].fillna( train_df[\"Fare\"].median())\n",
        "\n",
        "\n",
        "### Categorical features\n",
        "train_df[\"Sex\"] = train_df[\"Sex\"].apply(sex_indexer)\n",
        "test_df[\"Sex\"] = test_df[\"Sex\"].apply(sex_indexer)\n",
        "\n",
        "train_df[\"Embarked\"] = train_df[\"Embarked\"].apply(embarked_indexer)\n",
        "test_df[\"Embarked\"] = test_df[\"Embarked\"].apply(embarked_indexer)"
      ]
    },
    {
      "cell_type": "code",
      "execution_count": null,
      "metadata": {
        "_cell_guid": "36464923-3811-62a9-7054-434563f04550"
      },
      "outputs": [],
      "source": [
        "pd.crosstab(train_df[\"Embarked\"], train_df[\"Survived\"])\n",
        "age_mean = train_df[[\"Age\", \"Title\"]].dropna().groupby(\"Title\").mean()\n",
        "print(age_mean)"
      ]
    },
    {
      "cell_type": "markdown",
      "metadata": {
        "_cell_guid": "007d6d73-9b5f-2bb8-4c49-9d82500fdb79"
      },
      "source": [
        "### Machine Learning"
      ]
    },
    {
      "cell_type": "code",
      "execution_count": null,
      "metadata": {
        "_cell_guid": "f396c96c-cc44-dbcc-dbbe-69eaf5cd774d"
      },
      "outputs": [],
      "source": [
        "from sklearn.tree import DecisionTreeClassifier\n",
        "from sklearn.tree import ExtraTreeClassifier\n",
        "from sklearn.metrics import precision_score\n",
        "from sklearn.model_selection import cross_val_score\n",
        "\n",
        "### Preparing the data\n",
        "X_train = train_df[[\"Fare\", \"Sex\", \"Embarked\"]]\n",
        "y_train = train_df[\"Survived\"]\n",
        "X_test = test_df[[\"Fare\", \"Sex\", \"Embarked\"]]\n",
        "\n",
        "### Machine Learning\n",
        "cross_scores = []\n",
        "train_scores = []\n",
        "params = []\n",
        "\n",
        "tr = ExtraTreeClassifier(criterion=\"gini\", max_depth=15)\n",
        "cross_score = cross_val_score(tr, X_train, y_train, cv=10)\n",
        "model = tr.fit(X_train, y_train)\n",
        "pred_train = model.predict(X_train)\n",
        "pred_test = model.predict(X_test)\n",
        "train_score = precision_score(y_train, pred_train)\n",
        "    \n",
        "print(np.mean(cross_score))\n",
        "#plt.plot(params, cross_scores, color=\"r\")\n",
        "#plt.plot(params, train_scores, color=\"b\")\n",
        "#plt.show()"
      ]
    },
    {
      "cell_type": "code",
      "execution_count": null,
      "metadata": {
        "_cell_guid": "40ad9c32-111f-70d2-bafa-25b1babb0451"
      },
      "outputs": [],
      "source": [
        "plt.scatter(train_df[\"Parch\"], train_df[\"Sex\"], c=y_train)\n",
        "plt.show()"
      ]
    },
    {
      "cell_type": "code",
      "execution_count": null,
      "metadata": {
        "_cell_guid": "c17ea1c2-c77d-af0f-dfb9-1156f4aaf53f"
      },
      "outputs": [],
      "source": [
        "submission = pd.DataFrame({\n",
        "        \"PassengerId\": test_df[\"PassengerId\"],\n",
        "        \"Survived\": pred_test\n",
        "    })\n",
        "submission.to_csv('titanic_3.csv', index=False)"
      ]
    },
    {
      "cell_type": "code",
      "execution_count": null,
      "metadata": {
        "_cell_guid": "3ee95a6a-85b9-bb4b-892e-263f7d278e34"
      },
      "outputs": [],
      "source": [
        "train_df.head()"
      ]
    },
    {
      "cell_type": "code",
      "execution_count": null,
      "metadata": {
        "_cell_guid": "a72f0594-b25e-e3f2-4d30-f1a7b498b324"
      },
      "outputs": [],
      "source": [
        ""
      ]
    }
  ],
  "metadata": {
    "_change_revision": 0,
    "_is_fork": false,
    "kernelspec": {
      "display_name": "Python 3",
      "language": "python",
      "name": "python3"
    },
    "language_info": {
      "codemirror_mode": {
        "name": "ipython",
        "version": 3
      },
      "file_extension": ".py",
      "mimetype": "text/x-python",
      "name": "python",
      "nbconvert_exporter": "python",
      "pygments_lexer": "ipython3",
      "version": "3.5.2"
    }
  },
  "nbformat": 4,
  "nbformat_minor": 0
}