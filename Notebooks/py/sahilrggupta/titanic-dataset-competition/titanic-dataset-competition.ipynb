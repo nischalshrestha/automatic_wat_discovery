{
  "cells": [
    {
      "cell_type": "code",
      "execution_count": null,
      "metadata": {
        "_cell_guid": "e8f831a5-5e5e-8dc7-0110-8ad9edf48959"
      },
      "outputs": [],
      "source": [
        "# This Python 3 environment comes with many helpful analytics libraries installed\n",
        "# It is defined by the kaggle/python docker image: https://github.com/kaggle/docker-python\n",
        "# For example, here's several helpful packages to load in \n",
        "\n",
        "import numpy as np # linear algebra\n",
        "import pandas as pd # data processing, CSV file I/O (e.g. pd.read_csv)\n",
        "from matplotlib import pyplot as plt #data plotting\n",
        "import seaborn as sns #data visulization\n",
        "from sklearn.svm import SVC\n",
        "from sklearn.ensemble import RandomForestClassifier\n",
        "from sklearn.linear_model import LogisticRegression\n",
        "from sklearn.naive_bayes import GaussianNB\n",
        "from sklearn.neighbors import KNeighborsClassifier\n",
        "\n",
        "\n",
        "\n",
        "# Input data files are available in the \"../input/\" directory.\n",
        "# For example, running this (by clicking run or pressing Shift+Enter) will list the files in the input directory\n",
        "\n",
        "from subprocess import check_output\n",
        "print(check_output([\"ls\", \"../input\"]).decode(\"utf8\"))\n",
        "\n",
        "# Any results you write to the current directory are saved as output."
      ]
    },
    {
      "cell_type": "code",
      "execution_count": null,
      "metadata": {
        "_cell_guid": "612a3011-28c7-9d01-4ebc-9130caac2a4c"
      },
      "outputs": [],
      "source": [
        "#load test and training dataset\n",
        "\n",
        "titanic_df = pd.read_csv(\"../input/train.csv\")\n",
        "test_df    = pd.read_csv(\"../input/test.csv\")\n",
        "print (titanic_df.head())\n",
        "print(titanic_df.info())\n",
        "print(\"----------------\")\n",
        "print(test_df.info())\n",
        "#by printing the info we identify the null objects present in the dataset"
      ]
    },
    {
      "cell_type": "code",
      "execution_count": null,
      "metadata": {
        "_cell_guid": "298e7100-70e6-a1b6-095f-f6491a163469"
      },
      "outputs": [],
      "source": [
        "#Now, the most important part: Looking at the dataset and dropping the features, \n",
        "#name is not important\n",
        "#for training set ID is not important but for test we need to keep it because submission requires it\n",
        "#ticket number is not important\n",
        "#So, we drop these features..\n",
        "titanic_df = titanic_df.drop(['PassengerId','Name','Ticket'],axis=1)\n",
        "test_df=test_df.drop(['Name','Ticket'], axis=1)\n",
        "titanic_df = titanic_df[pd.notnull(titanic_df['Embarked'])]\n",
        "\n",
        "\n"
      ]
    },
    {
      "cell_type": "code",
      "execution_count": null,
      "metadata": {
        "_cell_guid": "ecc5a13c-159c-419b-d654-f2a5ee04e89c"
      },
      "outputs": [],
      "source": [
        "titanic_df.columns\n"
      ]
    },
    {
      "cell_type": "code",
      "execution_count": null,
      "metadata": {
        "_cell_guid": "0d826d27-5589-79ea-f405-71dedcd85c65"
      },
      "outputs": [],
      "source": [
        "#now age has some null values, which need to be filled, so, we try to fill them with random int values\n",
        "#between mean(age)-std(age) and mean(age)+std(age)\n",
        "random_1=np.random.randint(titanic_df[\"Age\"].mean()-titanic_df[\"Age\"].std(), titanic_df[\"Age\"].mean()+titanic_df[\"Age\"].std(), size= titanic_df[\"Age\"].isnull().sum())\n",
        "\n",
        "random_2=np.random.randint(test_df[\"Age\"].mean()-test_df[\"Age\"].std(), test_df[\"Age\"].mean()+test_df[\"Age\"].std(), size= test_df[\"Age\"].isnull().sum())\n",
        "titanic_df[\"Age\"][np.isnan(titanic_df[\"Age\"])] = random_1\n",
        "test_df[\"Age\"][np.isnan(test_df[\"Age\"])] = random_2\n"
      ]
    },
    {
      "cell_type": "code",
      "execution_count": null,
      "metadata": {
        "_cell_guid": "eb4c92e0-019e-933a-a65d-fae628fdfc3c"
      },
      "outputs": [],
      "source": [
        ""
      ]
    },
    {
      "cell_type": "code",
      "execution_count": null,
      "metadata": {
        "_cell_guid": "b390f95c-3b9b-0214-21ad-925b250beeef"
      },
      "outputs": [],
      "source": [
        "#cabin has a lot of Nan value. Though it is important it should be dropped\n",
        "titanic_df=titanic_df.drop([\"Cabin\"], axis=1)\n",
        "test_df=test_df.drop([\"Cabin\"], axis=1)"
      ]
    },
    {
      "cell_type": "code",
      "execution_count": null,
      "metadata": {
        "_cell_guid": "4384e566-b247-c913-295d-83c50e46bb76"
      },
      "outputs": [],
      "source": [
        "#checking the info now\n",
        "titanic_df.info()"
      ]
    },
    {
      "cell_type": "code",
      "execution_count": null,
      "metadata": {
        "_cell_guid": "f7538f5f-2d8d-f970-efd0-a85fb3201a56"
      },
      "outputs": [],
      "source": [
        "#Fare, we need to fill 2 nan values in fare column of test_df, we do that by filling median of data in these places\n",
        "test_df[\"Fare\"].fillna(test_df[\"Fare\"].median(), inplace=True)\n",
        "titanic_df[\"Fare\"]=titanic_df[\"Fare\"].astype(int)\n",
        "test_df[\"Fare\"]=test_df[\"Fare\"].astype(int)"
      ]
    },
    {
      "cell_type": "code",
      "execution_count": null,
      "metadata": {
        "_cell_guid": "2abc0405-bfdb-187d-1b53-19f67ad87b2a"
      },
      "outputs": [],
      "source": [
        "#now we need to convert sex and embarked in classification value(0,1,2,...)\n",
        "titanic_df[\"Sex\"].loc[titanic_df[\"Sex\"]==\"male\"]=1\n",
        "titanic_df[\"Sex\"].loc[titanic_df[\"Sex\"]==\"female\"]=0\n",
        "\n",
        "test_df[\"Sex\"].loc[test_df[\"Sex\"]==\"male\"]=1\n",
        "test_df[\"Sex\"].loc[test_df[\"Sex\"]==\"female\"]=0"
      ]
    },
    {
      "cell_type": "code",
      "execution_count": null,
      "metadata": {
        "_cell_guid": "bfb4ebcf-ae4b-e601-cd4b-105e8c9282d4"
      },
      "outputs": [],
      "source": [
        "#converting embarked values\n",
        "titanic_df[\"Embarked\"].unique()\n",
        "titanic_df[\"Embarked\"].loc[titanic_df[\"Embarked\"]==\"C\"]=0\n",
        "titanic_df[\"Embarked\"].loc[titanic_df[\"Embarked\"]==\"S\"]=1\n",
        "titanic_df[\"Embarked\"].loc[titanic_df[\"Embarked\"]==\"Q\"]=2\n",
        "\n",
        "\n",
        "test_df[\"Embarked\"].loc[test_df[\"Embarked\"]==\"C\"]=0\n",
        "test_df[\"Embarked\"].loc[test_df[\"Embarked\"]==\"S\"]=1\n",
        "test_df[\"Embarked\"].loc[test_df[\"Embarked\"]==\"Q\"]=2\n"
      ]
    },
    {
      "cell_type": "code",
      "execution_count": null,
      "metadata": {
        "_cell_guid": "b2e6e183-af2d-2642-c9ef-2c8147ecd212"
      },
      "outputs": [],
      "source": [
        "#preparing X_train, Y_train and X_test\n",
        "Y_train=titanic_df[\"Survived\"]\n",
        "X_train=titanic_df.drop([\"Survived\"], axis=1)\n",
        "\n",
        "X_test=test_df.drop([\"PassengerId\"], axis=1)\n",
        "\n"
      ]
    },
    {
      "cell_type": "code",
      "execution_count": null,
      "metadata": {
        "_cell_guid": "cc25a2ff-50b3-f953-c606-380e111b3e2f"
      },
      "outputs": [],
      "source": [
        "Y_train.shape"
      ]
    },
    {
      "cell_type": "code",
      "execution_count": null,
      "metadata": {
        "_cell_guid": "2ee9ccf9-bb91-e65d-81f7-b3048042309f"
      },
      "outputs": [],
      "source": [
        "#preparing SVM classifier\n",
        "#SVM_classifier=SVC()\n",
        "#SVM_classifier.fit(X_train, Y_train)\n",
        "#Y_pred = SVM_classifier.predict(X_test)\n",
        "#SVM_classifier.score(X_train, Y_train)"
      ]
    },
    {
      "cell_type": "code",
      "execution_count": null,
      "metadata": {
        "_cell_guid": "9a3e86c4-3744-e6a8-3276-79cd8edb2be3"
      },
      "outputs": [],
      "source": [
        "# preparing Logistic Regression\n",
        "\n",
        "#logreg = LogisticRegression()\n",
        "#logreg.fit(X_train, Y_train)\n",
        "#Y_pred = logreg.predict(X_test)\n",
        "#logreg.score(X_train, Y_train)"
      ]
    },
    {
      "cell_type": "code",
      "execution_count": null,
      "metadata": {
        "_cell_guid": "bd8a88bb-7805-8feb-da2a-b8dad6139220"
      },
      "outputs": [],
      "source": [
        "# preparing Random Forests classifier\n",
        "\n",
        "random_forest = RandomForestClassifier(n_estimators=100)\n",
        "random_forest.fit(X_train, Y_train)\n",
        "Y_pred = random_forest.predict(X_test)\n",
        "random_forest.score(X_train, Y_train)"
      ]
    },
    {
      "cell_type": "code",
      "execution_count": null,
      "metadata": {
        "_cell_guid": "93c01cd4-1a4d-1797-40a0-6a045c532d96"
      },
      "outputs": [],
      "source": [
        "##knn = KNeighborsClassifier(n_neighbors = 3)\n",
        "#knn.fit(X_train, Y_train)\n",
        "#Y_pred = knn.predict(X_test)\n",
        "#knn.score(X_train, Y_train)"
      ]
    },
    {
      "cell_type": "code",
      "execution_count": null,
      "metadata": {
        "_cell_guid": "52643671-231c-3f30-d302-f0e6705baac3"
      },
      "outputs": [],
      "source": [
        "#preparing Gaussian Naive Bayes\n",
        "#gaussian = GaussianNB()\n",
        "#gaussian.fit(X_train, Y_train)\n",
        "#Y_pred = gaussian.predict(X_test)\n",
        "#gaussian.score(X_train, Y_train)"
      ]
    },
    {
      "cell_type": "code",
      "execution_count": null,
      "metadata": {
        "_cell_guid": "ce18c2bf-f83e-d9b8-5169-249f46aa0e64"
      },
      "outputs": [],
      "source": [
        "#we see that Random Forests has the best score and so we choose random forests as our main classifier finally\n"
      ]
    },
    {
      "cell_type": "code",
      "execution_count": null,
      "metadata": {
        "_cell_guid": "0304b062-b440-afbe-61cb-298594f8985e"
      },
      "outputs": [],
      "source": [
        "submission = pd.DataFrame({\n",
        "        \"PassengerId\": test_df[\"PassengerId\"],\n",
        "        \"Survived\": Y_pred\n",
        "    })\n",
        "submission.to_csv('titanic.csv', index=False)"
      ]
    },
    {
      "cell_type": "code",
      "execution_count": null,
      "metadata": {
        "_cell_guid": "3577b237-7ba8-1c14-f7d2-2abd90edc4ed"
      },
      "outputs": [],
      "source": [
        ""
      ]
    }
  ],
  "metadata": {
    "_change_revision": 0,
    "_is_fork": false,
    "kernelspec": {
      "display_name": "Python 3",
      "language": "python",
      "name": "python3"
    },
    "language_info": {
      "codemirror_mode": {
        "name": "ipython",
        "version": 3
      },
      "file_extension": ".py",
      "mimetype": "text/x-python",
      "name": "python",
      "nbconvert_exporter": "python",
      "pygments_lexer": "ipython3",
      "version": "3.5.2"
    }
  },
  "nbformat": 4,
  "nbformat_minor": 0
}