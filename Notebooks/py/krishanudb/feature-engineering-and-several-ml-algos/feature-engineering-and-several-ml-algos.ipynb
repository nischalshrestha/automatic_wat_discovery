{
  "cells": [
    {
      "cell_type": "markdown",
      "metadata": {
        "_cell_guid": "40c88b0d-bbc5-08df-d191-f47a5274257f"
      },
      "source": [
        "In this notebook I try to engineer a few features. I also try and apply several machine learning algorithms."
      ]
    },
    {
      "cell_type": "code",
      "execution_count": null,
      "metadata": {
        "_cell_guid": "3ac54a2b-8e7d-0f79-89b6-fd204c32c0e9"
      },
      "outputs": [],
      "source": [
        "import pandas as pd\n",
        "import numpy as np\n",
        "import matplotlib.pyplot as plt"
      ]
    },
    {
      "cell_type": "markdown",
      "metadata": {
        "_cell_guid": "caac1e9c-e845-d08c-b8bd-7520a441805d"
      },
      "source": [
        "# Part 1: Exploring the data adn Feature Engineering"
      ]
    },
    {
      "cell_type": "code",
      "execution_count": null,
      "metadata": {
        "_cell_guid": "4625ffa9-2672-b51e-4df3-248bf0611add"
      },
      "outputs": [],
      "source": [
        "df = pd.read_csv(\"../input/train.csv\")\n",
        "df.index = df.PassengerId\n",
        "df.drop('PassengerId', axis = 1, inplace = True)\n",
        "df.head()"
      ]
    },
    {
      "cell_type": "markdown",
      "metadata": {
        "_cell_guid": "6813e99d-f052-f9df-cd27-421600bc1cad"
      },
      "source": [
        "The \"train.csv\" was read into the kernel and it is called df. The Passenger ID column was made the index.\n",
        "\n",
        "## Overall boxplot for all numeric variables\n",
        "This is a quick view of how the numeric features vary with \"Survived\" or \"Not Survived\"\n",
        "\n",
        "P.S. There is a problem with these graphs. The y axis is same in all graphs, so the graph does not tell us as much as it should. Still, its a good first level visualization."
      ]
    },
    {
      "cell_type": "code",
      "execution_count": null,
      "metadata": {
        "_cell_guid": "9309e90e-a63d-7209-e15a-99fd1cc6ad18"
      },
      "outputs": [],
      "source": [
        "df.boxplot(by = 'Survived', figsize = (10, 20))\n",
        "plt.show()"
      ]
    },
    {
      "cell_type": "markdown",
      "metadata": {
        "_cell_guid": "8539fdbc-1017-ddb5-75c8-119c040f237c"
      },
      "source": [
        "## Playing around with features."
      ]
    },
    {
      "cell_type": "code",
      "execution_count": null,
      "metadata": {
        "_cell_guid": "42d3ec41-d4f1-f726-bc07-6607a7c225fd"
      },
      "outputs": [],
      "source": [
        "df[['Age', 'Survived']].boxplot(by = \"Survived\")\n",
        "plt.show()"
      ]
    },
    {
      "cell_type": "code",
      "execution_count": null,
      "metadata": {
        "_cell_guid": "b0044633-f1aa-dd86-2887-18f583f9ba7b"
      },
      "outputs": [],
      "source": [
        "ax = df[['Age', 'Survived', 'Sex']].groupby('Sex').boxplot(by = \"Survived\")\n",
        "plt.show()"
      ]
    },
    {
      "cell_type": "markdown",
      "metadata": {
        "_cell_guid": "73696e1b-6bcf-bb6c-8464-02cb8ca993f3"
      },
      "source": [
        "#### inference: We dont see a very clear pattern in age only. \n",
        "\n",
        "#### But age coupled with gender may be of much more predictive value."
      ]
    },
    {
      "cell_type": "markdown",
      "metadata": {
        "_cell_guid": "f5524e50-eb32-acd1-33bf-47a5d3059210"
      },
      "source": [
        "## Exploring socio economics"
      ]
    },
    {
      "cell_type": "code",
      "execution_count": null,
      "metadata": {
        "_cell_guid": "b221525c-b22e-9fd5-bb88-54dd6f912faa"
      },
      "outputs": [],
      "source": [
        "df[['Fare', 'Survived']].boxplot(by = \"Survived\")\n",
        "plt.show()"
      ]
    },
    {
      "cell_type": "markdown",
      "metadata": {
        "_cell_guid": "8b36cf13-a59a-968b-c463-68f7df3e0ad7"
      },
      "source": [
        "### How survival rates change with Pclass"
      ]
    },
    {
      "cell_type": "code",
      "execution_count": null,
      "metadata": {
        "_cell_guid": "819d6dcf-46e5-0396-2d4c-82768610a26a"
      },
      "outputs": [],
      "source": [
        "df[['Pclass', 'Survived']].groupby('Pclass').mean()"
      ]
    },
    {
      "cell_type": "markdown",
      "metadata": {
        "_cell_guid": "4e1b15d0-90d0-de96-9cf7-bc37785d6a75"
      },
      "source": [
        "## Exploring family effects"
      ]
    },
    {
      "cell_type": "code",
      "execution_count": null,
      "metadata": {
        "_cell_guid": "e79765fe-460a-f875-aeec-1e2b7c0ecea9"
      },
      "outputs": [],
      "source": [
        "df[['SibSp', 'Survived']].boxplot(by = 'Survived')\n",
        "plt.show()"
      ]
    },
    {
      "cell_type": "code",
      "execution_count": null,
      "metadata": {
        "_cell_guid": "c4bdf7a4-49b2-f24f-41b2-143791bba0ca"
      },
      "outputs": [],
      "source": [
        "tempdf1 = df[['SibSp', 'Survived']].groupby('SibSp').count().merge(df[['SibSp', 'Survived']].groupby('SibSp').mean(), right_index = True, left_index = True)\n",
        "tempdf1.columns = ['Count', 'Prob. Survived']\n",
        "tempdf1"
      ]
    },
    {
      "cell_type": "code",
      "execution_count": null,
      "metadata": {
        "_cell_guid": "96ab3a80-976f-4ac8-e19a-820dbf7572e4"
      },
      "outputs": [],
      "source": [
        "tempdf2 = df[['SibSp', 'Survived']].groupby('SibSp').count().merge(df[['SibSp', 'Survived']].groupby('SibSp').sum(), right_index = True, left_index = True)\n",
        "tempdf2.columns = ['Count', 'Survived']\n",
        "tempdf2.plot.bar(figsize = (10, 8))\n",
        "plt.show()"
      ]
    },
    {
      "cell_type": "code",
      "execution_count": null,
      "metadata": {
        "_cell_guid": "a8f56f30-8983-005d-ee54-a8dd45096a9b"
      },
      "outputs": [],
      "source": [
        "tempdf3 = df[['Parch', 'Survived']].groupby('Parch').count().merge(df[['Parch', 'Survived']].groupby('Parch').mean(), right_index = True, left_index = True)\n",
        "tempdf3.columns = ['Count', 'Ratio. Survived']\n",
        "tempdf3"
      ]
    },
    {
      "cell_type": "code",
      "execution_count": null,
      "metadata": {
        "_cell_guid": "09439051-a8c6-550a-bfda-311987c29e25"
      },
      "outputs": [],
      "source": [
        "df['Family_Size'] = df.Parch + df.SibSp + 1"
      ]
    },
    {
      "cell_type": "code",
      "execution_count": null,
      "metadata": {
        "_cell_guid": "8c4b71d0-6157-9df3-27cd-5970df21e02c"
      },
      "outputs": [],
      "source": [
        "tempdf4 = df[['Family_Size', 'Survived']].groupby('Family_Size').count().merge(df[['Family_Size', 'Survived']].groupby('Family_Size').mean(), right_index = True, left_index = True)\n",
        "tempdf4.columns = ['Count', 'Ratio. Survived']\n",
        "tempdf4"
      ]
    },
    {
      "cell_type": "code",
      "execution_count": null,
      "metadata": {
        "_cell_guid": "fe82ad64-65fe-193f-c2f0-1319ca4bfc61"
      },
      "outputs": [],
      "source": [
        "tempdf6 = df[['Family_Size', 'Survived']].groupby('Family_Size').count().merge(df[['Family_Size', 'Survived']].groupby('Family_Size').sum(), right_index = True, left_index = True)\n",
        "tempdf6.columns = ['Count', 'Survived']\n",
        "tempdf6.plot.bar(figsize = (8, 5))\n",
        "plt.show()"
      ]
    },
    {
      "cell_type": "markdown",
      "metadata": {
        "_cell_guid": "24635fac-e666-7679-92c9-eb486c3a458b"
      },
      "source": [
        "### There seems to be a clear pattern in the survival rate by family size. Hence it can be an important feature\n",
        "#### Since family size seems to be more predictive than 'Sibsp' and 'Parch', we frop the latter two."
      ]
    },
    {
      "cell_type": "code",
      "execution_count": null,
      "metadata": {
        "_cell_guid": "72b2c4b7-5339-1af7-2a4c-dcc4ba857dd8"
      },
      "outputs": [],
      "source": [
        "df.drop(['SibSp', 'Parch'], axis = 1, inplace = True)"
      ]
    },
    {
      "cell_type": "markdown",
      "metadata": {
        "_cell_guid": "dd0a10f6-bc52-7fe2-20c6-29d4248282e8"
      },
      "source": [
        "## Exploring Names"
      ]
    },
    {
      "cell_type": "code",
      "execution_count": null,
      "metadata": {
        "_cell_guid": "39980fe3-7fb6-df61-cb2d-821cac939d76"
      },
      "outputs": [],
      "source": [
        "df['Title'] = df['Name'].apply(lambda x: x.split(\",\")[1].split(\" \")[1])\n",
        "df.head()"
      ]
    },
    {
      "cell_type": "code",
      "execution_count": null,
      "metadata": {
        "_cell_guid": "9ace9774-1cfb-5ffa-fed7-4b3efc250b3a"
      },
      "outputs": [],
      "source": [
        "tempdf5 = df[['Title', 'Survived']].groupby('Title').count().merge(df[['Title', 'Survived']].groupby('Title').mean(), right_index = True, left_index = True)\n",
        "tempdf5.columns = ['Count', 'Ratio. Survived']\n",
        "tempdf5"
      ]
    },
    {
      "cell_type": "code",
      "execution_count": null,
      "metadata": {
        "_cell_guid": "78cee027-39ac-c126-b1d6-8d973fca2172"
      },
      "outputs": [],
      "source": [
        "df.drop('Name', inplace = True, axis = 1)\n",
        "df.head()"
      ]
    },
    {
      "cell_type": "markdown",
      "metadata": {
        "_cell_guid": "467456c5-6869-64fc-3134-fec6788872ac"
      },
      "source": [
        "### Since we have already extracted the most important features from the names column, we can drop it."
      ]
    },
    {
      "cell_type": "markdown",
      "metadata": {
        "_cell_guid": "69287a5c-f76b-d53b-a8db-825d295a5eaf"
      },
      "source": [
        "## About cabins and decks"
      ]
    },
    {
      "cell_type": "code",
      "execution_count": null,
      "metadata": {
        "_cell_guid": "dd78fb6b-35c2-090f-be53-40bb5dc2d93a"
      },
      "outputs": [],
      "source": [
        "df['Cabin'] = df['Cabin'].fillna('No')\n",
        "# Since all 3rd class passengers didnt have cabins\n",
        "df.head()"
      ]
    },
    {
      "cell_type": "markdown",
      "metadata": {
        "_cell_guid": "906f537d-170b-31e2-0dac-c1add7d513fd"
      },
      "source": [
        "### Extracting Cabin Deck and Number"
      ]
    },
    {
      "cell_type": "code",
      "execution_count": null,
      "metadata": {
        "_cell_guid": "11139407-75a2-36b7-1968-284b5a434cea"
      },
      "outputs": [],
      "source": [
        "df['Cabin_deck'] = df['Cabin'].apply(lambda x: x.split(\" \")[-1][0] if x != \"No\" else \"No\")\n",
        "df['Cabin_number'] = df['Cabin'].apply(lambda x: 0 if len(x) == 1 else int(x.split(\" \")[-1][1:]) if x != \"No\" else 0)\n",
        "df.head()"
      ]
    },
    {
      "cell_type": "code",
      "execution_count": null,
      "metadata": {
        "_cell_guid": "724dbbc5-61ba-eb57-0841-9e8e37e390df"
      },
      "outputs": [],
      "source": [
        "tempdf7 = df[['Cabin_deck', 'Survived']].groupby('Cabin_deck').count().merge(df[['Cabin_deck', 'Survived']].groupby('Cabin_deck').mean(), right_index = True, left_index = True)\n",
        "tempdf7.columns = ['Count', 'Ratio. Survived']\n",
        "tempdf7"
      ]
    },
    {
      "cell_type": "code",
      "execution_count": null,
      "metadata": {
        "_cell_guid": "b9f45fd6-a507-3ba4-13bb-54c1abaefbe7"
      },
      "outputs": [],
      "source": [
        "tempdf8 = df[['Cabin_number', 'Survived']].groupby('Cabin_number').count().merge(df[['Cabin_number', 'Survived']].groupby('Cabin_number').mean(), right_index = True, left_index = True)\n",
        "tempdf8.columns = ['Count', 'Ratio. Survived']\n",
        "tempdf8"
      ]
    },
    {
      "cell_type": "markdown",
      "metadata": {
        "_cell_guid": "03e37917-3b41-ab66-5b57-16153ea2e104"
      },
      "source": [
        "## Since cabin Number is not very informative in itself, it is changed to a range:"
      ]
    },
    {
      "cell_type": "code",
      "execution_count": null,
      "metadata": {
        "_cell_guid": "efa14179-27b2-ff67-71dd-5afdfa652057"
      },
      "outputs": [],
      "source": [
        "df['Cabin_numeric_range'] = df['Cabin_number'].apply(lambda x: str(int(x/10)) + \"0 to \" + str(int(x/10 + 1)) + \"0\" if x != 0 else \"No Cabin\")\n",
        "df.head()"
      ]
    },
    {
      "cell_type": "code",
      "execution_count": null,
      "metadata": {
        "_cell_guid": "e3a7a858-c675-b912-6a38-2cd74bca7292"
      },
      "outputs": [],
      "source": [
        "tempdf9 = df[['Cabin_numeric_range', 'Survived']].groupby('Cabin_numeric_range').count().merge(df[['Cabin_numeric_range', 'Survived']].groupby('Cabin_numeric_range').mean(), right_index = True, left_index = True)\n",
        "tempdf9.columns = ['Count', 'Ratio Survived']\n",
        "tempdf9"
      ]
    },
    {
      "cell_type": "markdown",
      "metadata": {
        "_cell_guid": "971e1b5c-cf50-7785-f3a9-a0fa6b97b2b2"
      },
      "source": [
        "## This seems that it might add to the predictive value."
      ]
    },
    {
      "cell_type": "code",
      "execution_count": null,
      "metadata": {
        "_cell_guid": "98af6bb6-b534-9d3f-5e68-531816429a73"
      },
      "outputs": [],
      "source": [
        "df.drop(['Cabin', 'Cabin_number'], inplace = True, axis = 1)\n",
        "df.head()"
      ]
    },
    {
      "cell_type": "code",
      "execution_count": null,
      "metadata": {
        "_cell_guid": "bdfdb2bb-1e5d-9d4a-ddbc-87409517642b"
      },
      "outputs": [],
      "source": [
        "df.drop('Ticket', inplace = True, axis = 1)\n",
        "df.head()"
      ]
    },
    {
      "cell_type": "code",
      "execution_count": null,
      "metadata": {
        "_cell_guid": "f1af3869-e0a3-c0c9-ac62-ce867802189a"
      },
      "outputs": [],
      "source": [
        "tempdf10 = df[['Embarked', 'Survived']].groupby('Embarked').count().merge(df[['Embarked', 'Survived']].groupby('Embarked').mean(), right_index = True, left_index = True)\n",
        "tempdf10.columns = ['Count', 'Ratio. Survived']\n",
        "tempdf10"
      ]
    },
    {
      "cell_type": "markdown",
      "metadata": {
        "_cell_guid": "79a1fddf-c2a3-c212-f48f-4d15468b7023"
      },
      "source": [
        "## Passangers boarding from C has a higher chance of survival compared to the rest. So we keep this feature."
      ]
    },
    {
      "cell_type": "markdown",
      "metadata": {
        "_cell_guid": "56ff38f9-5deb-e4fa-4930-49c071553c99"
      },
      "source": [
        "# Part 2: Processing all the features"
      ]
    },
    {
      "cell_type": "code",
      "execution_count": null,
      "metadata": {
        "_cell_guid": "cba0e9b4-e5b4-b142-0bb7-47415bd0c505"
      },
      "outputs": [],
      "source": [
        "df['Male'] = df['Sex'].apply(lambda x: 1 if x == \"male\" else 0)\n",
        "df.drop('Sex', inplace = True, axis = 1)\n",
        "df.head()"
      ]
    },
    {
      "cell_type": "markdown",
      "metadata": {
        "_cell_guid": "689f68c3-0ea0-5514-c971-31d3d00356d3"
      },
      "source": [
        "## Getting rid of NaNs"
      ]
    },
    {
      "cell_type": "code",
      "execution_count": null,
      "metadata": {
        "_cell_guid": "ba1f8871-1bb1-aea2-f5d7-14b642906e1d"
      },
      "outputs": [],
      "source": [
        "df['Age'].fillna(np.mean(df.Age), inplace = True)"
      ]
    },
    {
      "cell_type": "markdown",
      "metadata": {
        "_cell_guid": "3658990a-789c-506b-7220-2d92ae29f800"
      },
      "source": [
        "## Making Dummy variables"
      ]
    },
    {
      "cell_type": "code",
      "execution_count": null,
      "metadata": {
        "_cell_guid": "637e4466-49a0-709d-5ece-72d76fa18f65"
      },
      "outputs": [],
      "source": [
        "ndf = pd.get_dummies(df, columns = ['Embarked', 'Title', 'Cabin_deck', 'Cabin_numeric_range'])\n",
        "ndf.head()"
      ]
    },
    {
      "cell_type": "code",
      "execution_count": null,
      "metadata": {
        "_cell_guid": "65bd2293-49f9-5990-e9dd-5bc3f14d999b"
      },
      "outputs": [],
      "source": [
        "ndf.drop(['Cabin_numeric_range_No Cabin', 'Cabin_deck_No'], inplace = True, axis = 1)"
      ]
    },
    {
      "cell_type": "code",
      "execution_count": null,
      "metadata": {
        "_cell_guid": "c7b96801-a32a-84d9-020f-a3618510c494"
      },
      "outputs": [],
      "source": [
        "ndf.columns"
      ]
    },
    {
      "cell_type": "code",
      "execution_count": null,
      "metadata": {
        "_cell_guid": "c8706491-51f4-a15b-8507-1d4591108b16"
      },
      "outputs": [],
      "source": [
        "survived = ndf.Survived\n",
        "ndf.drop('Survived', inplace = True, axis = 1)"
      ]
    },
    {
      "cell_type": "code",
      "execution_count": null,
      "metadata": {
        "_cell_guid": "ac9a4665-4f03-1998-9105-825e3c65f98f"
      },
      "outputs": [],
      "source": [
        "ndf.head()"
      ]
    },
    {
      "cell_type": "markdown",
      "metadata": {
        "_cell_guid": "9e1f5be6-921d-3a8a-1c64-3b408a063d9c"
      },
      "source": [
        "## Making the train test splits"
      ]
    },
    {
      "cell_type": "code",
      "execution_count": null,
      "metadata": {
        "_cell_guid": "40647460-4670-8be1-2708-8e469bbf7dc1"
      },
      "outputs": [],
      "source": [
        "from sklearn.cross_validation import train_test_split as ttspl\n",
        "df_train, df_test, out_train, out_test = ttspl(ndf, survived, test_size = 0.25)"
      ]
    },
    {
      "cell_type": "markdown",
      "metadata": {
        "_cell_guid": "9c90c3dc-6337-cea2-9dd6-fb12770a6ffc"
      },
      "source": [
        "# Part 3: Machine Learning"
      ]
    },
    {
      "cell_type": "markdown",
      "metadata": {
        "_cell_guid": "d2c79134-6aa6-5b44-687b-59665e3c3c9c"
      },
      "source": [
        "## KNN Classifier"
      ]
    },
    {
      "cell_type": "code",
      "execution_count": null,
      "metadata": {
        "_cell_guid": "295a7ce9-302e-813f-e64e-a353e8e90a05"
      },
      "outputs": [],
      "source": [
        "from sklearn.neighbors import KNeighborsClassifier as KNN\n",
        "for i in range(1, 20):\n",
        "    knn = KNN(n_neighbors = i)\n",
        "    knn.fit(df_train, out_train)\n",
        "    print(\"Neighbors = \" + str(i) + \"\\t Score: \",)\n",
        "    print(knn.score(df_test, out_test))"
      ]
    },
    {
      "cell_type": "markdown",
      "metadata": {
        "_cell_guid": "959f3a2d-18b2-9f3d-b17e-83f317e3cb2b"
      },
      "source": [
        "### The KNN results show an accuracy of around 70%, which to be very honest is nothing close to what I was looking for. SO I will try other methods as well"
      ]
    },
    {
      "cell_type": "markdown",
      "metadata": {
        "_cell_guid": "42944974-efef-78ee-a8c7-d5154c36609e"
      },
      "source": [
        "## Naive Bayes Classifier"
      ]
    },
    {
      "cell_type": "markdown",
      "metadata": {
        "_cell_guid": "e72d31fa-b998-9f9d-d442-6d4b2777db52"
      },
      "source": [
        "### Gaussian NB"
      ]
    },
    {
      "cell_type": "code",
      "execution_count": null,
      "metadata": {
        "_cell_guid": "7f73692e-148b-5239-7771-a7a75fe624d4"
      },
      "outputs": [],
      "source": [
        "from sklearn.naive_bayes import GaussianNB as GNB\n",
        "gnb = GNB()\n",
        "gnb.fit(df_train, out_train)\n",
        "gnb.score(df_test, out_test)"
      ]
    },
    {
      "cell_type": "markdown",
      "metadata": {
        "_cell_guid": "b3607468-c19c-4ea5-e111-03c9e62cf4f5"
      },
      "source": [
        "### Not good"
      ]
    },
    {
      "cell_type": "code",
      "execution_count": null,
      "metadata": {
        "_cell_guid": "e50db17b-0600-4ef6-0989-f4c44857160a"
      },
      "outputs": [],
      "source": [
        "from sklearn.naive_bayes import MultinomialNB as MNB\n",
        "mnb = MNB()\n",
        "mnb.fit(df_train, out_train)\n",
        "mnb.score(df_test, out_test)"
      ]
    },
    {
      "cell_type": "markdown",
      "metadata": {
        "_cell_guid": "a0caa1a3-09aa-2c1d-bf04-aa4e2abec6e8"
      },
      "source": [
        "### Not good yet"
      ]
    },
    {
      "cell_type": "code",
      "execution_count": null,
      "metadata": {
        "_cell_guid": "b712f0fa-1781-9598-7570-789327fc10f4"
      },
      "outputs": [],
      "source": [
        "from sklearn.naive_bayes import BernoulliNB as BNB\n",
        "bnb = BNB()\n",
        "bnb.fit(df_train, out_train)\n",
        "bnb.score(df_test, out_test)"
      ]
    },
    {
      "cell_type": "markdown",
      "metadata": {
        "_cell_guid": "56650e65-4b69-0480-7da0-56cfdcbccf7f"
      },
      "source": [
        "### Better, but still not close to 90%"
      ]
    },
    {
      "cell_type": "markdown",
      "metadata": {
        "_cell_guid": "28dfecb3-16ac-bfb7-916a-61a8808dfc07"
      },
      "source": [
        "#### So the Naive Bayes Classifier also doesnot do a good job in this task.\n",
        "#### Now I will try and experiment with Tree based classifiers."
      ]
    },
    {
      "cell_type": "markdown",
      "metadata": {
        "_cell_guid": "2f3c4b43-1e62-1d74-70ba-21b038908bcb"
      },
      "source": [
        "## Decision Trees"
      ]
    },
    {
      "cell_type": "code",
      "execution_count": null,
      "metadata": {
        "_cell_guid": "9c8464fa-9fa7-c080-b10f-6e0806b98dfe"
      },
      "outputs": [],
      "source": [
        "from sklearn.cross_validation import cross_val_score as cvs\n",
        "from sklearn.tree import DecisionTreeClassifier as dtree\n",
        "tr = dtree()\n",
        "cvs(tr, df_train, out_train, cv = 10)"
      ]
    },
    {
      "cell_type": "markdown",
      "metadata": {
        "_cell_guid": "130bbefc-740e-61db-f2f6-3168a1504bb4"
      },
      "source": [
        "### Playing around with the tree parameters\n",
        "\n",
        "#### Effect of changing the max depth"
      ]
    },
    {
      "cell_type": "code",
      "execution_count": null,
      "metadata": {
        "_cell_guid": "73e301be-28dd-c0cf-373d-975e9778a744"
      },
      "outputs": [],
      "source": [
        "for i in range(2, 20):\n",
        "    tr = dtree(max_depth= i)\n",
        "    print(\"Max Depth = \" + str(i) + \"\\t Score: \")\n",
        "    print(np.mean(cvs(tr, df_train, out_train, cv = 10)))\n",
        "    print(\"\\n\")"
      ]
    },
    {
      "cell_type": "markdown",
      "metadata": {
        "_cell_guid": "29e30334-3dce-f75e-7acc-9019f0c5a2a1"
      },
      "source": [
        "### Visualization of effects of max depth"
      ]
    },
    {
      "cell_type": "code",
      "execution_count": null,
      "metadata": {
        "_cell_guid": "dd13d7d0-3d4b-b8cb-619c-4cde911dd613"
      },
      "outputs": [],
      "source": [
        "x = []\n",
        "y = []\n",
        "for i in range(2, 20):\n",
        "    x.append(i)\n",
        "    tr = dtree(max_depth= i)\n",
        "    y.append(np.mean(cvs(tr, df_train, out_train, cv = 10)))\n",
        "    \n",
        "p = plt.plot(x, y)\n",
        "plt.show()\n",
        "    "
      ]
    },
    {
      "cell_type": "markdown",
      "metadata": {
        "_cell_guid": "d8d0042c-2acd-9c32-3fb5-38adc3b6e1eb"
      },
      "source": [
        "#### Effect of changing the max leaf nodes"
      ]
    },
    {
      "cell_type": "code",
      "execution_count": null,
      "metadata": {
        "_cell_guid": "fb656ecf-c427-3529-047b-b0e24198abd4"
      },
      "outputs": [],
      "source": [
        "for i in range(2, 40):\n",
        "    tr = dtree(max_leaf_nodes = i)\n",
        "    print(\"Max Leaf Nodes = \" + str(i) + \"\\t Score: \")\n",
        "    print(np.mean(cvs(tr, df_train, out_train, cv = 10)))"
      ]
    },
    {
      "cell_type": "markdown",
      "metadata": {
        "_cell_guid": "555c2a32-c13f-9854-a670-914cdba61f6c"
      },
      "source": [
        "### Visualization of effects of leaf_nodes"
      ]
    },
    {
      "cell_type": "code",
      "execution_count": null,
      "metadata": {
        "_cell_guid": "e7b11912-c57a-bb59-7d5c-79f3f5794d3e"
      },
      "outputs": [],
      "source": [
        "x = []\n",
        "y = []\n",
        "for i in range(2, 100, 2):\n",
        "    x.append(i)\n",
        "    tr = dtree(max_leaf_nodes = i)\n",
        "    y.append(np.mean(cvs(tr, df_train, out_train, cv = 10)))\n",
        "    \n",
        "p = plt.plot(x, y)\n",
        "plt.show()"
      ]
    },
    {
      "cell_type": "markdown",
      "metadata": {
        "_cell_guid": "5da48c5f-c891-4249-cf15-1ee29fc603b3"
      },
      "source": [
        "Seems that max_leaf_nodes = 40 gives good results."
      ]
    },
    {
      "cell_type": "markdown",
      "metadata": {
        "_cell_guid": "f63b9cdc-fbf9-b340-fe3e-f1f3196db8c7"
      },
      "source": [
        "### Trying the parameters on the test_split data###"
      ]
    },
    {
      "cell_type": "code",
      "execution_count": null,
      "metadata": {
        "_cell_guid": "dc45e940-4338-be45-f735-214feca5e8f7"
      },
      "outputs": [],
      "source": [
        "tr = dtree(max_leaf_nodes = 40)\n",
        "tr.fit(df_train, out_train)\n",
        "tr.score(df_test, out_test)"
      ]
    },
    {
      "cell_type": "markdown",
      "metadata": {
        "_cell_guid": "c49532b4-431e-f4f9-96e5-93198396d794"
      },
      "source": [
        "### The out of sample accuracy is still around 80%. This is good. But still, more improvements are needed. I need to reach out of sample accuracy of around 90%"
      ]
    }
  ],
  "metadata": {
    "_change_revision": 0,
    "_is_fork": false,
    "kernelspec": {
      "display_name": "Python 3",
      "language": "python",
      "name": "python3"
    },
    "language_info": {
      "codemirror_mode": {
        "name": "ipython",
        "version": 3
      },
      "file_extension": ".py",
      "mimetype": "text/x-python",
      "name": "python",
      "nbconvert_exporter": "python",
      "pygments_lexer": "ipython3",
      "version": "3.6.0"
    }
  },
  "nbformat": 4,
  "nbformat_minor": 0
}