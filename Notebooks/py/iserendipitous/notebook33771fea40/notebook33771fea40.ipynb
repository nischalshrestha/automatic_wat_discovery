{
  "cells": [
    {
      "cell_type": "code",
      "execution_count": null,
      "metadata": {
        "_cell_guid": "ec877302-9645-442b-7755-48a88d4aab1f"
      },
      "outputs": [],
      "source": [
        "# This Python 3 environment comes with many helpful analytics libraries installed\n",
        "# It is defined by the kaggle/python docker image: https://github.com/kaggle/docker-python\n",
        "# For example, here's several helpful packages to load in \n",
        "\n",
        "import numpy as np # linear algebra\n",
        "import pandas as pd # data processing, CSV file I/O (e.g. pd.read_csv)\n",
        "\n",
        "# Input data files are available in the \"../input/\" directory.\n",
        "# For example, running this (by clicking run or pressing Shift+Enter) will list the files in the input directory\n",
        "\n",
        "from subprocess import check_output\n",
        "print(check_output([\"ls\", \"../input\"]).decode(\"utf8\"))\n",
        "\n",
        "# Any results you write to the current directory are saved as output."
      ]
    },
    {
      "cell_type": "code",
      "execution_count": null,
      "metadata": {
        "_cell_guid": "360f54ff-1a5a-079d-f6f5-085823ac2e28"
      },
      "outputs": [],
      "source": [
        "import numpy as np\n",
        "import pandas as pd\n",
        "import seaborn as sns"
      ]
    },
    {
      "cell_type": "code",
      "execution_count": null,
      "metadata": {
        "_cell_guid": "83e0b537-3dbe-9d09-ef37-939034329a36"
      },
      "outputs": [],
      "source": [
        "X_train = pd.read_csv('../input/train.csv')\n",
        "X_test = pd.read_csv('../input/test.csv')\n",
        "print(X_train.shape)\n",
        "print(X_test.shape)\n",
        "print(X_train.dtypes)"
      ]
    },
    {
      "cell_type": "code",
      "execution_count": null,
      "metadata": {
        "_cell_guid": "8fa055ae-9159-1c05-50c0-5b0fc51ae017"
      },
      "outputs": [],
      "source": [
        "X_train['Sex'] = X_train[X_train['Sex'].map({'female':0, 'male':1})]\n",
        "X_train.drop(['PassengerId', 'Name', 'Ticket', 'Cabin'], axis=1, inplace=True)\n",
        "if len(X_train.Embarked[X_train.Embarked.isnull()])>0:\n",
        "    X_train.Embarked[X_train.Embarked.isnull()]=X_train.Embarked.dropna().mode().values\n",
        "Ports=list(enumerate(np.unique(X_train['Embarked'])))\n",
        "Ports_dict = {name:i for i, name in Ports}\n",
        "X_train.Embarked = X_train.Embarked.map(lambda x: Ports_dict[x]).astype(int)\n",
        "median_age = X_train['Age'].dropna().median()\n",
        "if len(X_train.Age[X_train.Age.isnull()])>0:\n",
        "    X_train.loc[(X_train.Age.isnull()), 'Age']=median_age\n",
        "print(X_train.dtypes, X_train.shape)"
      ]
    },
    {
      "cell_type": "code",
      "execution_count": null,
      "metadata": {
        "_cell_guid": "d9eed062-7b98-9d9f-74b9-7268536281f5"
      },
      "outputs": [],
      "source": [
        "print(X_train[pd.isnull(X_train).any(axis=1)])"
      ]
    },
    {
      "cell_type": "code",
      "execution_count": null,
      "metadata": {
        "_cell_guid": "2b5c475e-194f-f2ce-1298-88c42ac7097b"
      },
      "outputs": [],
      "source": [
        "# we try to cut the age group to get a better glimpse, we will add a new column to training data here\n",
        "bins=[0,10,18,30,50,100]\n",
        "group_names = ['kid','teenager', 'youth', 'middle_aged', 'Senior']\n",
        "X_train['ages'] = pd.cut(X_train.Age, bins,labels=group_names )\n",
        "print(X_train.dtypes, X_train.head(5))"
      ]
    },
    {
      "cell_type": "code",
      "execution_count": null,
      "metadata": {
        "_cell_guid": "8acb175d-924e-8112-06fe-2b4c17faf56e"
      },
      "outputs": [],
      "source": [
        "sns.swarmplot(x='Survived', y='Age', hue='ages', data=X_train)\n"
      ]
    },
    {
      "cell_type": "code",
      "execution_count": null,
      "metadata": {
        "_cell_guid": "4498d53b-56ed-1ebb-84b2-7ec9558dcaad"
      },
      "outputs": [],
      "source": [
        "sns.factorplot(x='ages', y='Survived', col='Pclass', data=X_train, kind='bar')"
      ]
    },
    {
      "cell_type": "code",
      "execution_count": null,
      "metadata": {
        "_cell_guid": "4cd3e54c-f528-278e-c204-bfe5ce686c1e"
      },
      "outputs": [],
      "source": [
        "y_train = np.ravel(X_train.loc[:,['Survived']])\n",
        "X_train.drop(['Survived', 'ages'], axis=1, inplace=True)\n",
        "print(X_train.shape)"
      ]
    },
    {
      "cell_type": "code",
      "execution_count": null,
      "metadata": {
        "_cell_guid": "7e750f31-bd44-0efa-ec98-43ad116163ff"
      },
      "outputs": [],
      "source": [
        "# the same cleaning procedure for test data\n",
        "if len(X_test.Embarked[X_test.Embarked.isnull()])>0:\n",
        "    X_test.Embarked[X_test.Embarked.isnull()] = X_test.Embarked.dropna().mode().values\n",
        "ports = list(enumerate(np.unique(X_test['Embarked'])))\n",
        "ports_dict = {name:i for i, name in ports}\n",
        "X_test.Embarked = X_test.Embarked.map(lambda x: ports_dict[x]).astype(int)\n",
        "median_age_test = X_test['Age'].dropna().median()\n",
        "if len(X_test.Age[X_test.Age.isnull()])>0:\n",
        "    X_test.loc[(X_test.Age.isnull()), 'Age']=median_age_test\n",
        "\n",
        "median_fare = X_test['Fare'].dropna().median()\n",
        "if len(X_test.Fare[X_test.Fare.isnull()])>0:\n",
        "    X_test.loc[(X_test.Fare.isnull()), 'Fare']=median_fare\n",
        "X_test['Sex']=X_test['Sex'].map({'female':0, 'male':1})\n",
        "ids = X_test['PassengerId']\n",
        "X_test.drop(['Cabin', 'Name', 'Ticket', 'PassengerId'], axis=1, inplace=True)\n",
        "print(X_test.shape, X_test.dtypes)"
      ]
    },
    {
      "cell_type": "code",
      "execution_count": null,
      "metadata": {
        "_cell_guid": "8f1f310c-58fe-df15-be65-1dcffd0389d4"
      },
      "outputs": [],
      "source": [
        "#we will add Parch and Sibling into a single column in both training and testing data\n",
        "X_train['Family'] = X_train['Parch'] + X_train['SibSp']\n",
        "X_train.drop(['Parch', 'SibSp'], axis=1, inplace=True)\n",
        "X_test['Family'] = X_test['Parch'] + X_test['SibSp']\n",
        "X_test.drop(['Parch', 'SibSp'], axis=1, inplace=True)\n",
        "print(X_train.shape, X_test.shape)"
      ]
    },
    {
      "cell_type": "code",
      "execution_count": null,
      "metadata": {
        "_cell_guid": "99b0381c-f178-d52f-bd83-9894b6448841"
      },
      "outputs": [],
      "source": [
        "train_data = X_train.values\n",
        "test_data = X_test.values\n",
        "from sklearn.svm import SVC\n",
        "svc = SVC(C=1, kernel='rbf').fit(train_data, y_train)\n",
        "y_predict=svc.predict(test_data)\n",
        "print(svc.score(train_data, y_train))"
      ]
    },
    {
      "cell_type": "code",
      "execution_count": null,
      "metadata": {
        "_cell_guid": "73995886-96a5-a49c-026b-3a210618d246"
      },
      "outputs": [],
      "source": [
        "import csv\n",
        "predictions_file = open('myfirstsubmission.csv', 'wb')\n",
        "data = {'PassengerId':ids, 'Survived': y_predict}\n",
        "frame = pd.DataFrame(data)\n",
        "frame.to_csv('myfirstsubmission.csv', index=False)"
      ]
    },
    {
      "cell_type": "code",
      "execution_count": null,
      "metadata": {
        "_cell_guid": "8ba5b3dd-f921-87bd-dd3b-e4d894fe54cc"
      },
      "outputs": [],
      "source": ""
    }
  ],
  "metadata": {
    "_change_revision": 0,
    "_is_fork": false,
    "kernelspec": {
      "display_name": "Python 3",
      "language": "python",
      "name": "python3"
    },
    "language_info": {
      "codemirror_mode": {
        "name": "ipython",
        "version": 3
      },
      "file_extension": ".py",
      "mimetype": "text/x-python",
      "name": "python",
      "nbconvert_exporter": "python",
      "pygments_lexer": "ipython3",
      "version": "3.5.2"
    }
  },
  "nbformat": 4,
  "nbformat_minor": 0
}