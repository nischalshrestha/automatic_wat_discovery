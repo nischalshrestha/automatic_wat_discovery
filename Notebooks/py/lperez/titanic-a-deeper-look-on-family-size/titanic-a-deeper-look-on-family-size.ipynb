{
  "cells": [
    {
      "cell_type": "markdown",
      "metadata": {
        "_cell_guid": "85501a66-137e-9fcf-2efa-fb59da2e9ab9"
      },
      "source": [
        "# Introduction\n",
        "Several notebooks explain that family size has a great impact on survival rate on the Titanic. Travelling alone decreases significantly the chances of survival. This is true.\n",
        "\n",
        "But it does not mean that adding an \"Alone\" feature would help making a better prediction.\n",
        "\n",
        "Indeed, the reason why being alone decreases the survival rate is because being alone increases the chances of being a man. And on the Titanic, the rule was \"children and women first\".\n",
        "\n",
        "In this notebook, I demonstrate that it is worth adding a \"Large Family\" feature, but it is counter-productive to add an \"Alone\" feature in our prediction dataset. I also try to explain why.\n",
        "\n",
        "This is my first work on Kaggle. This notebook has been forked from [Titanic best working classifier by Sina][1].\n",
        "\n",
        "Of course, comments on this work are more than welcome!\n",
        "\n",
        "  [1]: https://www.kaggle.com/sinakhorami/titanic-best-working-classifier"
      ]
    },
    {
      "cell_type": "markdown",
      "metadata": {
        "_cell_guid": "7548315a-e1ec-dc3b-ca65-2cd54f3f86b8"
      },
      "source": [
        "# Reading data"
      ]
    },
    {
      "cell_type": "code",
      "execution_count": null,
      "metadata": {
        "_cell_guid": "4d2b99a7-9c9f-33ed-f783-6389040e8e8f"
      },
      "outputs": [],
      "source": [
        "%matplotlib inline\n",
        "import numpy as np\n",
        "import pandas as pd\n",
        "import re as re\n",
        "import seaborn as sns\n",
        "import matplotlib.pyplot as plt\n",
        "\n",
        "train = pd.read_csv('../input/train.csv', header = 0, dtype={'Age': np.float64})\n",
        "test  = pd.read_csv('../input/test.csv' , header = 0, dtype={'Age': np.float64})\n",
        "full_data = [train, test]\n",
        "\n",
        "print (train.info())"
      ]
    },
    {
      "cell_type": "markdown",
      "metadata": {
        "_cell_guid": "d7537822-b6f7-abf6-121e-b3de33ff7a99"
      },
      "source": [
        "# Feature Engineering\n",
        "\n",
        "In this notebook, we are going to look only at family size, and to other features related to families: age and sex."
      ]
    },
    {
      "cell_type": "markdown",
      "metadata": {
        "_cell_guid": "66261dae-ef38-aa2b-164f-abf2974c04ca"
      },
      "source": [
        "## SibSp and Parch\n",
        "\n",
        " - SibSp: number of siblings/spouse\n",
        " \n",
        " - Parch: number of childre/parents\n",
        "\n",
        "With the number of siblings/spouse and the number of children/parents we can create new feature called Family Size."
      ]
    },
    {
      "cell_type": "code",
      "execution_count": null,
      "metadata": {
        "_cell_guid": "0c6bc643-ec9d-4e22-b53d-9ba6d9840943"
      },
      "outputs": [],
      "source": [
        "for dataset in full_data:\n",
        "    dataset['FamilySize'] = dataset['SibSp'] + dataset['Parch'] + 1\n",
        "    \n",
        "pd.crosstab(train['FamilySize'], train['Survived']).plot(kind='bar', stacked=True, title=\"Survived by family size\")\n",
        "pd.crosstab(train['FamilySize'], train['Survived'], normalize='index').plot(kind='bar', stacked=True, title=\"Survived by family size (%)\")"
      ]
    },
    {
      "cell_type": "markdown",
      "metadata": {
        "_cell_guid": "88a8eae3-6c81-b406-24e1-aa480b7dcdb0"
      },
      "source": [
        "It seems that for families from 1 to 4 people, family size increases survival rates. But for families of 5 and up, survival rates is much lower."
      ]
    },
    {
      "cell_type": "markdown",
      "metadata": {
        "_cell_guid": "0dfe5046-dd85-129e-e519-bade909bcd04"
      },
      "source": [
        "## Sex and family size\n",
        "Let's split our dataset according to Sex feature and see what's happening for different family sizes."
      ]
    },
    {
      "cell_type": "code",
      "execution_count": null,
      "metadata": {
        "_cell_guid": "d74f8300-63ce-ffb3-25cb-5689ef4a70c7"
      },
      "outputs": [],
      "source": [
        "female = train[train['Sex'] == 'female']\n",
        "male = train[train['Sex'] == 'male']\n",
        " \n",
        "# Total number\n",
        "fig, [ax1, ax2] = plt.subplots(1,2, sharey=True)\n",
        "fig.set_figwidth(12)\n",
        "pd.crosstab(female['FamilySize'], female['Survived']).plot(kind='bar', stacked=True, title=\"Female\", ax=ax1)\n",
        "pd.crosstab(male['FamilySize'], male['Survived']).plot(kind='bar', stacked=True, title=\"Male\", ax=ax2)\n",
        "\n",
        "# Percentage\n",
        "fig, [ax1, ax2] = plt.subplots(1,2)\n",
        "fig.set_figwidth(12)\n",
        "pd.crosstab(female['FamilySize'], female['Survived'], normalize = 'index').plot(kind='bar', stacked=True, title=\"Female\", ax=ax1)\n",
        "pd.crosstab(male['FamilySize'], male['Survived'], normalize = 'index').plot(kind='bar', stacked=True, title=\"Male\", ax=ax2)"
      ]
    },
    {
      "cell_type": "markdown",
      "metadata": {
        "_cell_guid": "45bd3340-c736-d257-e8bc-fabae717ccb3"
      },
      "source": [
        "This is very interesting.\n",
        "\n",
        "First of all, we see that for both sex, family sizes of 5 and up lead to low survival rates.\n",
        "\n",
        "For females in families up to 4, the survival rate is about 80%, regardless of family size. \n",
        "\n",
        "For males in families up to 4, the survival rate increases with family size. Let's see how this effect is related to age."
      ]
    },
    {
      "cell_type": "markdown",
      "metadata": {
        "_cell_guid": "04c81c6e-e0b9-fbe4-9557-cf62105a75a1"
      },
      "source": [
        "## Male kids vs adults"
      ]
    },
    {
      "cell_type": "code",
      "execution_count": null,
      "metadata": {
        "_cell_guid": "73c4b949-5198-2cb8-e986-77af1019b814"
      },
      "outputs": [],
      "source": [
        "kidsmale = male[male['Age'] < 15]\n",
        "adultsmale = male[male['Age'] >=15 ]\n",
        "\n",
        "print (\"Number of male kids: \")\n",
        "print (kidsmale.groupby(['FamilySize']).size())\n",
        "print (\"\")\n",
        "print (\"Number of male adults: \")\n",
        "print (adultsmale.groupby(['FamilySize']).size())\n",
        "\n",
        "# Size of samples\n",
        "fig, [ax1, ax2] = plt.subplots(1,2)\n",
        "fig.set_figwidth(12)\n",
        "sns.countplot(x='FamilySize', data=kidsmale, ax=ax1)\n",
        "ax1.set_title('Number of male kids')\n",
        "sns.countplot(x='FamilySize', data=adultsmale, ax=ax2)\n",
        "ax2.set_title('Number of male adults')\n",
        "\n",
        "# Percentage\n",
        "fig, [ax1, ax2] = plt.subplots(1,2)\n",
        "fig.set_figwidth(12)\n",
        "pd.crosstab(kidsmale['FamilySize'], kidsmale['Survived'], normalize = 'index').plot(kind='bar', stacked=True, title=\"Kids male\", ax=ax1)\n",
        "pd.crosstab(adultsmale['FamilySize'], adultsmale['Survived'], normalize = 'index').plot(kind='bar', stacked=True, title=\"Adults male\", ax=ax2)"
      ]
    },
    {
      "cell_type": "markdown",
      "metadata": {
        "_cell_guid": "14b0cc3a-b2df-864d-2199-473da792d930"
      },
      "source": [
        "This is even more interesting. For males from families up to 4 people, we can see here that there is no real impact of family size. Indeed, in these families, almost all the male kids have survived, and the survival rate of male adults does not change with family size.\n",
        "\n",
        "## Conclusion on family size\n",
        "According to the previous analysis, we can make the following assumption: for families up to 4 people, the impact of family size on the survival rate can be explained by age and sex.\n",
        "\n",
        "Therefore, we don't need to create features like IsAlone. Let's try three different resolutions and see which one is the best:\n",
        "\n",
        "1. Without family size\n",
        "\n",
        "2. With a LargeFamilies feature (up to 4 / 5 and more)\n",
        "\n",
        "3. With a three classes FamilySize feature (alone, 2-4, 5 and more)"
      ]
    },
    {
      "cell_type": "markdown",
      "metadata": {
        "_cell_guid": "9b3e809d-20a3-afed-1de3-41e1cd01a349"
      },
      "source": [
        "# Preparing data for resolution\n",
        "\n",
        "## Family size categories\n",
        "Let's create LargeFamily (2 classes) and FamilyClass (3 classes) features."
      ]
    },
    {
      "cell_type": "code",
      "execution_count": null,
      "metadata": {
        "_cell_guid": "a4d69b2a-30dd-d233-b497-856923e4fab8"
      },
      "outputs": [],
      "source": [
        "for dataset in full_data:\n",
        "    dataset['LargeFamily'] = dataset['FamilySize'].apply(lambda r: 0 if r<=4 else 1)\n",
        "    \n",
        "    dataset.loc[ dataset['FamilySize'] == 1, 'FamilyClass'] = 0\n",
        "    dataset.loc[ (dataset['FamilySize'] <= 4) & (dataset['FamilySize'] > 1), 'FamilyClass'] = 1\n",
        "    dataset.loc[ dataset['FamilySize'] >= 5, 'FamilyClass'] = 2\n",
        "    dataset['FamilyClass'] = dataset['FamilyClass'].astype(int)"
      ]
    },
    {
      "cell_type": "markdown",
      "metadata": {
        "_cell_guid": "008b965d-1470-4e85-7ad5-76fb70273d29"
      },
      "source": [
        "\n",
        "\n",
        "## Names ##\n",
        "inside this feature we can find the title of people."
      ]
    },
    {
      "cell_type": "code",
      "execution_count": null,
      "metadata": {
        "_cell_guid": "c4f5efda-4c05-40ca-a3fb-b35a706f0e1d"
      },
      "outputs": [],
      "source": [
        "def get_title(name):\n",
        "\ttitle_search = re.search(' ([A-Za-z]+)\\.', name)\n",
        "\t# If the title exists, extract and return it.\n",
        "\tif title_search:\n",
        "\t\treturn title_search.group(1)\n",
        "\treturn \"\"\n",
        "\n",
        "for dataset in full_data:\n",
        "    dataset['Title'] = dataset['Name'].apply(get_title)\n",
        "\n",
        "print(pd.crosstab(train['Title'], train['Sex']))"
      ]
    },
    {
      "cell_type": "markdown",
      "metadata": {
        "_cell_guid": "4ba8d40c-caa4-7eb6-f170-a733d0d69926"
      },
      "source": [
        " so we have titles. let's categorize it and check the title impact on survival rate."
      ]
    },
    {
      "cell_type": "code",
      "execution_count": null,
      "metadata": {
        "_cell_guid": "97457988-dffd-37a7-67f2-ea12678c77bb"
      },
      "outputs": [],
      "source": [
        "for dataset in full_data:\n",
        "    dataset['Title'] = dataset['Title'].replace(['Lady', 'Countess','Capt', 'Col',\\\n",
        " \t'Don', 'Dr', 'Major', 'Rev', 'Sir', 'Jonkheer', 'Dona'], 'Rare')\n",
        "\n",
        "    dataset['Title'] = dataset['Title'].replace('Mlle', 'Miss')\n",
        "    dataset['Title'] = dataset['Title'].replace('Ms', 'Miss')\n",
        "    dataset['Title'] = dataset['Title'].replace('Mme', 'Mrs')\n",
        "\n",
        "print (train[['Title', 'Survived']].groupby(['Title'], as_index=False).mean())"
      ]
    },
    {
      "cell_type": "markdown",
      "metadata": {
        "_cell_guid": "4a22679a-56b7-6263-74a1-2c0e40451f14"
      },
      "source": [
        "# Other data\n",
        "Now let's clean all other fields and map our features into numerical values."
      ]
    },
    {
      "cell_type": "code",
      "execution_count": null,
      "metadata": {
        "_cell_guid": "c377cc55-0060-96f2-452c-1f1da6f33390"
      },
      "outputs": [],
      "source": [
        "for dataset in full_data:   \n",
        "    # Fill missing values in Embarked with most frequent port 'S'\n",
        "    dataset['Embarked'] = dataset['Embarked'].fillna('S')\n",
        "    \n",
        "    # Fill missing values in Fare with median\n",
        "    dataset['Fare'] = dataset['Fare'].fillna(train['Fare'].median())\n",
        "\n",
        "    # Fill missing values in age with random data based on mean and standard variation\n",
        "    age_avg \t   = dataset['Age'].mean()\n",
        "    age_std \t   = dataset['Age'].std()\n",
        "    age_null_count = dataset['Age'].isnull().sum()\n",
        "    \n",
        "    age_null_random_list = np.random.randint(age_avg - age_std, age_avg + age_std, size=age_null_count)\n",
        "    dataset['Age'][np.isnan(dataset['Age'])] = age_null_random_list\n",
        "    dataset['Age'] = dataset['Age'].astype(int)\n",
        "        \n",
        "    # Mapping Sex\n",
        "    dataset['Sex'] = dataset['Sex'].map( {'female': 0, 'male': 1} ).astype(int)\n",
        "    \n",
        "    # Mapping titles\n",
        "    title_mapping = {\"Mr\": 1, \"Miss\": 2, \"Mrs\": 3, \"Master\": 4, \"Rare\": 5}\n",
        "    dataset['Title'] = dataset['Title'].map(title_mapping)\n",
        "    dataset['Title'] = dataset['Title'].fillna(0)\n",
        "    \n",
        "    # Mapping Embarked\n",
        "    dataset['Embarked'] = dataset['Embarked'].map( {'S': 0, 'C': 1, 'Q': 2} ).astype(int)\n",
        "    \n",
        "    # Mapping Fare\n",
        "    dataset.loc[ dataset['Fare'] <= 7.91, 'Fare'] \t\t\t\t\t\t        = 0\n",
        "    dataset.loc[(dataset['Fare'] > 7.91) & (dataset['Fare'] <= 14.454), 'Fare'] = 1\n",
        "    dataset.loc[(dataset['Fare'] > 14.454) & (dataset['Fare'] <= 31), 'Fare']   = 2\n",
        "    dataset.loc[ dataset['Fare'] > 31, 'Fare'] \t\t\t\t\t\t\t        = 3\n",
        "    dataset['Fare'] = dataset['Fare'].astype(int)\n",
        "    \n",
        "    # Mapping Age\n",
        "    dataset.loc[ dataset['Age'] <= 16, 'Age'] \t\t\t\t\t       = 0\n",
        "    dataset.loc[(dataset['Age'] > 16) & (dataset['Age'] <= 32), 'Age'] = 1\n",
        "    dataset.loc[(dataset['Age'] > 32) & (dataset['Age'] <= 48), 'Age'] = 2\n",
        "    dataset.loc[(dataset['Age'] > 48) & (dataset['Age'] <= 64), 'Age'] = 3\n",
        "    dataset.loc[ dataset['Age'] > 64, 'Age']                           = 4\n",
        "    \n",
        "# Feature Selection\n",
        "drop_elements = ['PassengerId', 'Name', 'Ticket', 'Cabin', 'SibSp',\\\n",
        "                 'Parch', 'FamilySize']\n",
        "train = train.drop(drop_elements, axis = 1)\n",
        "\n",
        "test  = test.drop(drop_elements, axis = 1)\n",
        "\n",
        "print (train.head(10))"
      ]
    },
    {
      "cell_type": "markdown",
      "metadata": {
        "_cell_guid": "cffa50e5-cb50-abf7-078c-5f948dc4eff9"
      },
      "source": [
        "Good! now we have a clean dataset.\n",
        "\n",
        "Let's create 3 datasets from it:\n",
        "\n",
        "1. Without Family features\n",
        "\n",
        "2. With LargeFamily feature\n",
        "\n",
        "3. With FamilyClass feature"
      ]
    },
    {
      "cell_type": "code",
      "execution_count": null,
      "metadata": {
        "_cell_guid": "d1911e55-6b03-0d96-d5f9-65b92be8f038"
      },
      "outputs": [],
      "source": [
        "train1 = train.drop(['LargeFamily', 'FamilyClass'], axis=1)\n",
        "test1  =  test.drop(['LargeFamily', 'FamilyClass'], axis=1)\n",
        "\n",
        "train2 = train.drop(['FamilyClass'], axis=1)\n",
        "test2  =  test.drop(['FamilyClass'], axis=1)\n",
        "\n",
        "train3 = train.drop(['LargeFamily'], axis=1)\n",
        "test3  =  test.drop(['LargeFamily'], axis=1)\n",
        "\n",
        "dataset_all = [(train1, test1, 'Without family features'), (train2, test2, 'With large family feature'), (train3, test3, 'With family class feature')]"
      ]
    },
    {
      "cell_type": "markdown",
      "metadata": {
        "_cell_guid": "eb1f6f8e-64c0-fdae-efb8-4c44bb9995dc"
      },
      "source": [
        "Now let's find which classifier works better on each dataset. "
      ]
    },
    {
      "cell_type": "markdown",
      "metadata": {
        "_cell_guid": "dc991392-2a86-a9f8-1bc0-5a877d324e77"
      },
      "source": [
        "# Classifier Comparison #"
      ]
    },
    {
      "cell_type": "code",
      "execution_count": null,
      "metadata": {
        "_cell_guid": "793e174c-d6f6-5b92-0cfc-3aa434671197"
      },
      "outputs": [],
      "source": [
        "import matplotlib.pyplot as plt\n",
        "import seaborn as sns\n",
        "\n",
        "from sklearn.model_selection import StratifiedShuffleSplit\n",
        "from sklearn.metrics import accuracy_score, log_loss\n",
        "from sklearn.neighbors import KNeighborsClassifier\n",
        "from sklearn.svm import SVC\n",
        "from sklearn.tree import DecisionTreeClassifier\n",
        "from sklearn.ensemble import RandomForestClassifier, AdaBoostClassifier, GradientBoostingClassifier\n",
        "from sklearn.naive_bayes import GaussianNB\n",
        "from sklearn.discriminant_analysis import LinearDiscriminantAnalysis, QuadraticDiscriminantAnalysis\n",
        "from sklearn.linear_model import LogisticRegression\n",
        "\n",
        "classifiers = [\n",
        "    KNeighborsClassifier(3),\n",
        "    SVC(probability=True),\n",
        "    DecisionTreeClassifier(),\n",
        "    RandomForestClassifier(),\n",
        "\tAdaBoostClassifier(),\n",
        "    GradientBoostingClassifier(),\n",
        "    GaussianNB(),\n",
        "    LinearDiscriminantAnalysis(),\n",
        "    QuadraticDiscriminantAnalysis(),\n",
        "    LogisticRegression()]\n",
        "\n",
        "sss = StratifiedShuffleSplit(n_splits=10, test_size=0.1, random_state=0)\n",
        "\n",
        "for (train, test, dataset_name) in dataset_all:\n",
        "    \n",
        "    X = train.values[0::, 1::]\n",
        "    y = train.values[0::, 0]\n",
        "\n",
        "    log_cols = [\"Classifier\", \"Accuracy\"]\n",
        "    log \t = pd.DataFrame(columns=log_cols)\n",
        "    \n",
        "    acc_dict = {}\n",
        "\n",
        "    for train_index, test_index in sss.split(X, y):\n",
        "\t    X_train, X_test = X[train_index], X[test_index]\n",
        "\t    y_train, y_test = y[train_index], y[test_index]\n",
        "\t\n",
        "\t    for clf in classifiers:\n",
        "\t    \tname = clf.__class__.__name__\n",
        "\t    \tclf.fit(X_train, y_train)\n",
        "\t    \ttrain_predictions = clf.predict(X_test)\n",
        "\t    \tacc = accuracy_score(y_test, train_predictions)\n",
        "\t    \tif name in acc_dict:\n",
        "\t    \t\tacc_dict[name] += acc\n",
        "\t    \telse:\n",
        "\t    \t\tacc_dict[name] = acc\n",
        "\n",
        "    for clf in acc_dict:\n",
        "    \tacc_dict[clf] = acc_dict[clf] / 10.0\n",
        "    \tlog_entry = pd.DataFrame([[clf, acc_dict[clf]]], columns=log_cols)\n",
        "    \tlog = log.append(log_entry)\n",
        "\n",
        "    print ('Classifier Accuracy - ' + dataset_name)\n",
        "    print (log)\n",
        "    print ()\n",
        "        \n",
        "    plt.figure()\n",
        "        \n",
        "    plt.xlabel('Accuracy')\n",
        "    plt.title('Classifier Accuracy - ' + dataset_name)\n",
        "\n",
        "    sns.set_color_codes(\"muted\")\n",
        "    sns.barplot(x='Accuracy', y='Classifier', data=log, color=\"b\")"
      ]
    },
    {
      "cell_type": "markdown",
      "metadata": {
        "_cell_guid": "af4db595-f71d-9b63-741d-057365641f86"
      },
      "source": [
        "Great!\n",
        "\n",
        "We can see that adding LargeFamilies feature improves the scores.\n",
        "\n",
        "But these results also validate our previous assumption: the classifier score are worse with FamilyClass feature than with LargeFamilies feature. That means that we don't need to know if someone was travelling alone or with a family to make a better prediction. If we use the \"alone\" information, we over-specialize the classifiers and make them perform worse.\n",
        "\n",
        "Let's try to understand why this happens: people travelling with family members have much greater chances of being a kid or a woman than people travelling alone, and we already know that kids and women have the greatest survival chances. That's why knowing if someone was travelling alone has a great impact on survival rate. However, the information of being \"alone\" is a redundant information, and it is less informative than knowing if someone was a kid or a woman."
      ]
    },
    {
      "cell_type": "markdown",
      "metadata": {
        "_cell_guid": "af745ce7-7b06-408a-cc56-d1b34d83bb65"
      },
      "source": [
        "# Prediction #\n",
        "Let's use RandomForest classifier to predict our data. Let's also use the dataset with LargeFamily feature."
      ]
    },
    {
      "cell_type": "code",
      "execution_count": null,
      "metadata": {
        "_cell_guid": "08c2dc84-6306-cab1-b7e2-0647e722ea3e"
      },
      "outputs": [],
      "source": [
        "# Use dataset with LargeFamily feature\n",
        "train, test = train2.values, test2.values\n",
        "# Use candidate classifier\n",
        "candidate_classifier = RandomForestClassifier()\n",
        "candidate_classifier.fit(train[0::, 1::], train[0::, 0])\n",
        "result = candidate_classifier.predict(test)"
      ]
    }
  ],
  "metadata": {
    "_change_revision": 0,
    "_is_fork": false,
    "kernelspec": {
      "display_name": "Python 3",
      "language": "python",
      "name": "python3"
    },
    "language_info": {
      "codemirror_mode": {
        "name": "ipython",
        "version": 3
      },
      "file_extension": ".py",
      "mimetype": "text/x-python",
      "name": "python",
      "nbconvert_exporter": "python",
      "pygments_lexer": "ipython3",
      "version": "3.6.0"
    }
  },
  "nbformat": 4,
  "nbformat_minor": 0
}