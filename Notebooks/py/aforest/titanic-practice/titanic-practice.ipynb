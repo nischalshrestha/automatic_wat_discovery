{
  "metadata": {
    "kernelspec": {
      "display_name": "Python 3",
      "language": "python",
      "name": "python3"
    },
    "language_info": {
      "codemirror_mode": {
        "name": "ipython",
        "version": 3
      },
      "file_extension": ".py",
      "mimetype": "text/x-python",
      "name": "python",
      "nbconvert_exporter": "python",
      "pygments_lexer": "ipython3",
      "version": "3.5.2"
    }
  },
  "nbformat": 4,
  "nbformat_minor": 0,
  "cells": [
    {
      "cell_type": "markdown",
      "metadata": {
        "_cell_guid": "a25642bd-49fe-22bc-976a-4dd9fa101e7b",
        "_active": false
      },
      "source": "input files",
      "outputs": []
    },
    {
      "cell_type": "code",
      "execution_count": null,
      "metadata": {
        "_cell_guid": "dc179b00-0fb8-2534-814a-3706227a0a7a",
        "_active": false
      },
      "outputs": [],
      "source": "# This Python 3 environment comes with many helpful analytics libraries installed\n# It is defined by the kaggle/python docker image: https://github.com/kaggle/docker-python\n# For example, here's several helpful packages to load in \n\nimport numpy as np # linear algebra\nimport pandas as pd # data processing, CSV file I/O (e.g. pd.read_csv)\n# Input data files are available in the \"../input/\" directory.\n# For example, running this (by clicking run or pressing Shift+Enter) will list the files in the input directory\n\nfrom subprocess import check_output\nprint(check_output([\"ls\", \"../input\"]).decode(\"utf8\"))\n\n# Any results you write to the current directory are saved as output.\n\nimport matplotlib.pyplot as plt\nfrom pandas import Series, DataFrame\n\nfrom PIL import Image\n#from sklearn.cross_validation import train_test_split, cross_val_score, KFold\n#from sklearn.cross_validation import *\nfrom sklearn.linear_model import LogisticRegression as Classifier1\nfrom sklearn.metrics import accuracy_score\n#from sklearn.tree import DecisionTreeClassifier, export_graphviz\nfrom sklearn.ensemble import RandomForestClassifier as Classifier2\nfrom sklearn.ensemble import AdaBoostClassifier as Classifier3\nfrom sklearn.neighbors import KNeighborsClassifier as Classifier4\nfrom sklearn.ensemble import ExtraTreesClassifier as Classifier5\nfrom sklearn.svm import SVC as Classifier6\nfrom sklearn.svm import LinearSVC as Classifier7\nfrom sklearn.ensemble import GradientBoostingClassifier as Classifier8\nfrom sklearn.ensemble import BaggingClassifier as Classifier9"
    },
    {
      "cell_type": "code",
      "execution_count": null,
      "metadata": {
        "_cell_guid": "29b6824d-cdd9-2925-ba55-9e136cfe30dd",
        "_active": false
      },
      "outputs": [],
      "source": "data = pd.read_csv(\"../input/train.csv\")\ndata.head()"
    },
    {
      "cell_type": "code",
      "execution_count": null,
      "metadata": {
        "_cell_guid": "255f20bc-6bca-6462-3eb9-9b207d3f21cc",
        "_active": false
      },
      "outputs": [],
      "source": "data2 = pd.read_csv(\"../input/test.csv\")"
    },
    {
      "cell_type": "code",
      "execution_count": null,
      "metadata": {
        "_cell_guid": "41476357-d2f3-783d-5fd1-47c104083863",
        "_active": false
      },
      "outputs": [],
      "source": "tmp = data[['Age','Sex','Pclass','Fare','Survived','SibSp','Parch','Ticket','Embarked','Cabin','Name']]\nX = tmp[['Age','Sex','Pclass','Fare','SibSp','Parch','Embarked','Cabin']]\nX['gender'] = X['Sex'].map({'female':0,'male':1}).astype(int)\nX = X.drop(['Sex'], axis=1)\n\nX['emS'] = X['Embarked'].map({'S':1,'Q':0,'C':0,np.nan:0}).astype(int)\nX['emC'] = X['Embarked'].map({'S':0,'Q':0,'C':1,np.nan:0}).astype(int)\nX['emQ'] = X['Embarked'].map({'S':0,'Q':1,'C':0,np.nan:0}).astype(int)\nX = X.drop(['Embarked'], axis=1)\n\n# replacing missing cabins with U (for Uknown)\nX[ 'Cabin' ] = X.Cabin.fillna('U')\nX[ 'Cabin' ] = X[ 'Cabin' ].map( lambda c : c[0] )\nX['caA'] = X['Cabin'].map({'A':1,'B':0,'C':0,'D':0,'E':0,'F':0,'G':0,'T':0,'U':0}).astype(int)\nX['caB'] = X['Cabin'].map({'A':0,'B':1,'C':0,'D':0,'E':0,'F':0,'G':0,'T':0,'U':0}).astype(int)\nX['caC'] = X['Cabin'].map({'A':0,'B':0,'C':1,'D':0,'E':0,'F':0,'G':0,'T':0,'U':0}).astype(int)\nX['caD'] = X['Cabin'].map({'A':0,'B':0,'C':0,'D':1,'E':0,'F':0,'G':0,'T':0,'U':0}).astype(int)\nX['caE'] = X['Cabin'].map({'A':0,'B':0,'C':0,'D':0,'E':1,'F':0,'G':0,'T':0,'U':0}).astype(int)\nX['caF'] = X['Cabin'].map({'A':0,'B':0,'C':0,'D':0,'E':0,'F':1,'G':0,'T':0,'U':0}).astype(int)\nX['caG'] = X['Cabin'].map({'A':0,'B':0,'C':0,'D':0,'E':0,'F':0,'G':1,'T':0,'U':0}).astype(int)\nX['caT'] = X['Cabin'].map({'A':0,'B':0,'C':0,'D':0,'E':0,'F':0,'G':0,'T':1,'U':0}).astype(int)\nX = X.drop(['Cabin'], axis=1)\n\nX = X.fillna(X.mean())\nX = X.as_matrix()\n\ny = tmp['Survived']\nX"
    },
    {
      "cell_type": "code",
      "execution_count": null,
      "metadata": {
        "_cell_guid": "fd93bcd1-2a1b-d943-8ec5-3de6eb2b56b2",
        "_active": false
      },
      "outputs": [],
      "source": "tmp = data2[['Age','Sex','Pclass','Fare','SibSp','Parch','Ticket','Embarked','Cabin','Name']]\nTest = tmp[['Age','Sex','Pclass','Fare','SibSp','Parch','Embarked','Cabin']]\nTest['gender'] = Test['Sex'].map({'female':0,'male':1}).astype(int)\nTest = Test.drop(['Sex'], axis=1)\nTest['emS'] = Test['Embarked'].map({'S':1,'Q':0,'C':0,np.nan:0}).astype(int)\nTest['emC'] = Test['Embarked'].map({'S':0,'Q':0,'C':1,np.nan:0}).astype(int)\nTest['emQ'] = Test['Embarked'].map({'S':0,'Q':1,'C':0,np.nan:0}).astype(int)\nTest = Test.drop(['Embarked'], axis=1)\n\n# replacing missing cabins with U (for Uknown)\nTest[ 'Cabin' ] = Test.Cabin.fillna('U')\nTest[ 'Cabin' ] = Test[ 'Cabin' ].map( lambda c : c[0] )\nTest['caA'] = Test['Cabin'].map({'A':1,'B':0,'C':0,'D':0,'E':0,'F':0,'G':0,'T':0,'U':0}).astype(int)\nTest['caB'] = Test['Cabin'].map({'A':0,'B':1,'C':0,'D':0,'E':0,'F':0,'G':0,'T':0,'U':0}).astype(int)\nTest['caC'] = Test['Cabin'].map({'A':0,'B':0,'C':1,'D':0,'E':0,'F':0,'G':0,'T':0,'U':0}).astype(int)\nTest['caD'] = Test['Cabin'].map({'A':0,'B':0,'C':0,'D':1,'E':0,'F':0,'G':0,'T':0,'U':0}).astype(int)\nTest['caE'] = Test['Cabin'].map({'A':0,'B':0,'C':0,'D':0,'E':1,'F':0,'G':0,'T':0,'U':0}).astype(int)\nTest['caF'] = Test['Cabin'].map({'A':0,'B':0,'C':0,'D':0,'E':0,'F':1,'G':0,'T':0,'U':0}).astype(int)\nTest['caG'] = Test['Cabin'].map({'A':0,'B':0,'C':0,'D':0,'E':0,'F':0,'G':1,'T':0,'U':0}).astype(int)\nTest['caT'] = Test['Cabin'].map({'A':0,'B':0,'C':0,'D':0,'E':0,'F':0,'G':0,'T':1,'U':0}).astype(int)\nTest = Test.drop(['Cabin'], axis=1)\n\n\n\n#Test = Test.fillna({'Age':20,'Pclass':3,'Fare':7,'genr':1})\nTest = Test.fillna(Test.mean())\nTest = Test.as_matrix()"
    },
    {
      "cell_type": "code",
      "execution_count": null,
      "metadata": {
        "_cell_guid": "69db7c57-c889-4586-ce09-7fc278faaab7",
        "_active": false
      },
      "outputs": [],
      "source": "from keras.models import Sequential\nfrom keras.layers import Dense\nfrom keras.layers import Activation, Dropout\nfrom keras.utils.np_utils import to_categorical"
    },
    {
      "cell_type": "code",
      "execution_count": null,
      "metadata": {
        "_cell_guid": "5a37bcef-fb1d-0d88-a177-2e23c3eec88a",
        "_active": true
      },
      "outputs": [],
      "source": "model = Sequential()\n\nmodel.add(Dense(200, input_dim= 17))\nmodel.add(Activation(\"relu\"))\nmodel.add(Dropout(0.5))\n\nmodel.add(Dense(200))\nmodel.add(Activation(\"relu\"))\nmodel.add(Dropout(0.5))\n\nmodel.add(Dense(200))\nmodel.add(Activation(\"relu\"))\nmodel.add(Dropout(0.5))\n\nmodel.add(Dense(2))\nmodel.add(Activation('softmax'))\nmodel.compile(loss='categorical_crossentropy', optimizer='adam', metrics=['accuracy'])\n\nlabel_train_category = to_categorical(y)\n#label_test_category = to_categorical(Test)\n\n\nmodel.fit(X, label_train_category, nb_epoch=4000, batch_size=100, verbose=0)\n\nresults = model.predict_classes(Test, verbose=1)"
    },
    {
      "cell_type": "code",
      "execution_count": null,
      "metadata": {
        "_cell_guid": "4259411f-af7d-f766-2406-1593b5ab0130",
        "_active": false
      },
      "outputs": [],
      "source": "submit_csv1 = pd.DataFrame(data2['PassengerId'])\nsubmit_csv2 = pd.DataFrame()\n\nsubmit_csv2['Survived'] = results\n\n\nsubmit_csv = pd.concat([submit_csv1, submit_csv2], axis=1)\n\nsubmit_csv"
    },
    {
      "cell_type": "code",
      "execution_count": null,
      "metadata": {
        "_cell_guid": "7a10c6f7-3524-5a9c-7f33-f3642c0823a6",
        "_active": false
      },
      "outputs": [],
      "source": "submit_csv.to_csv('output.csv',header=True, index=False)"
    }
  ]
}