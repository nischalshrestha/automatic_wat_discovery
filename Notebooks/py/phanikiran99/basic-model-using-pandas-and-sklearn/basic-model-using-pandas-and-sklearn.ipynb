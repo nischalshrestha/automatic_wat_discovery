{
  "cells": [
    {
      "cell_type": "markdown",
      "metadata": {
        "_cell_guid": "d43df2c5-cb57-8c1e-20ea-121f0a042250"
      },
      "source": [
        "### Basic Model with sklearn \n",
        "- Feature Engineering , and Other advanced features are not applied yet. "
      ]
    },
    {
      "cell_type": "code",
      "execution_count": null,
      "metadata": {
        "_cell_guid": "c333c882-8aba-a016-d88c-22d6a26e6c0c"
      },
      "outputs": [],
      "source": [
        "# Import Libraries \n",
        "import pandas as pd\n",
        "import matplotlib.pyplot as plt\n",
        "from sklearn import linear_model\n",
        "from sklearn import ensemble\n",
        "import seaborn as sns\n",
        "# Ensures graphs to be displayed in ipynb\n",
        "%matplotlib inline   "
      ]
    },
    {
      "cell_type": "code",
      "execution_count": null,
      "metadata": {
        "_cell_guid": "d742ee0b-2e11-0d26-6214-04d06b25a007"
      },
      "outputs": [],
      "source": [
        "# read data into dataframe\n",
        "titanic_df = pd.read_csv('../input/train.csv',header=0)  # Always use header=0 to read header of csv files\n",
        "titanic_df.head()"
      ]
    },
    {
      "cell_type": "code",
      "execution_count": null,
      "metadata": {
        "_cell_guid": "f3be3b1f-2205-31e0-d885-dbc624df7ce8"
      },
      "outputs": [],
      "source": [
        "# we can see that the passenger details have been imported and we have all kind of dataformats available for each data field. \n",
        "# Next step is to munging the data \n",
        "# lets describe and get the info of the data to do so\n",
        "titanic_df.info()\n",
        "# we can observe that couple of information for age,embarked and cabin are missing. Out of which Embarked and Age seems relevent"
      ]
    },
    {
      "cell_type": "code",
      "execution_count": null,
      "metadata": {
        "_cell_guid": "41ecfb7b-d6fc-ff40-c0a9-22a3d11a11c4"
      },
      "outputs": [],
      "source": [
        "# Lets fill up missing values for age\n",
        "#  assign to a new varaible before that so the data is not lost\n",
        "cleaned_df = titanic_df\n",
        "cleaned_df['Age'] = cleaned_df['Age'].fillna(cleaned_df.Age.median())\n",
        "# cleaned_df.head()\n",
        "cleaned_df[cleaned_df['Age'] > 60][['Age','Sex','Pclass','Survived']].describe()"
      ]
    },
    {
      "cell_type": "code",
      "execution_count": null,
      "metadata": {
        "_cell_guid": "17bb9f72-a332-853d-32eb-d3949cb709ec"
      },
      "outputs": [],
      "source": [
        "# we can see that passengers above 60 only 22% of people survived from the crash. \n",
        "#Just exploring how many people are there for each class\n",
        "for i in range(1,4):\n",
        "    print (i, ' male ' , len(cleaned_df[ (cleaned_df['Sex'] == 'male') & (cleaned_df['Pclass'] == i) ]))\n",
        "    print (i, 'female' , len(cleaned_df[ (cleaned_df['Sex'] == 'female') & (cleaned_df['Pclass'] == i) ]))"
      ]
    },
    {
      "cell_type": "code",
      "execution_count": null,
      "metadata": {
        "_cell_guid": "a019d066-8d58-9ca6-baea-79fe0adff6f1"
      },
      "outputs": [],
      "source": [
        "# Lets also fix the embarked \n",
        "for i in ['S','C','Q']:\n",
        "    print (i, len(cleaned_df[cleaned_df['Embarked'] == i]))"
      ]
    },
    {
      "cell_type": "code",
      "execution_count": null,
      "metadata": {
        "_cell_guid": "668dd2bf-774d-3666-3c0a-02bf46ea6656",
        "collapsed": true
      },
      "outputs": [],
      "source": [
        "# we can see that we have maximum 'S' so let fill in with 'S' for those missing 2 values \n",
        "cleaned_df['Embarked'] = cleaned_df['Embarked'].fillna('S')"
      ]
    },
    {
      "cell_type": "code",
      "execution_count": null,
      "metadata": {
        "_cell_guid": "b6a6d7ee-cc15-891b-b986-7493b8627a44"
      },
      "outputs": [],
      "source": [
        "# Lets work on gender now , lets see the proportion of males survived vs female\n",
        "total_male = len(cleaned_df[(cleaned_df['Sex'] == 'male')])\n",
        "total_female = len(cleaned_df[(cleaned_df['Sex'] == 'female')])\n",
        "num_males_survived = len(cleaned_df[(cleaned_df['Sex'] == 'male') & cleaned_df['Survived'] == 1])\n",
        "num_females_survived = len(cleaned_df[(cleaned_df['Sex'] != 'male') & cleaned_df['Survived'] == 1])\n",
        "print (num_males_survived/float(total_male) * 100 ,'% of males survived')\n",
        "print (num_females_survived/float(total_female) * 100 ,'% of females survived')"
      ]
    },
    {
      "cell_type": "code",
      "execution_count": null,
      "metadata": {
        "_cell_guid": "a5657f4a-6ec8-1255-90e9-7dc3d8c74dbc"
      },
      "outputs": [],
      "source": [
        "# as it is hard to work on string data in ML lets convert the 'sex' to 'gender' and have values 0,1 for m and f\n",
        "cleaned_df['Gender'] = cleaned_df['Sex'].map({'female':0, 'male':1}).astype(int)"
      ]
    },
    {
      "cell_type": "code",
      "execution_count": null,
      "metadata": {
        "_cell_guid": "ccb03814-ca32-9816-e7ac-56b5d7b99bf0"
      },
      "outputs": [],
      "source": [
        "# now lets cleanup the parch (parent and children) and siblings \n",
        "cleaned_df['Family'] = cleaned_df['Parch'] + cleaned_df['SibSp']"
      ]
    },
    {
      "cell_type": "code",
      "execution_count": null,
      "metadata": {
        "_cell_guid": "6b7b4217-a46f-c542-da77-8d47617a3575"
      },
      "outputs": [],
      "source": [
        "# Lets display all datatypes that are not good for machine learning, like string/objects\n",
        "cleaned_df.dtypes[cleaned_df.dtypes.map(lambda x: x== 'object')]"
      ]
    },
    {
      "cell_type": "code",
      "execution_count": null,
      "metadata": {
        "_cell_guid": "a6729c72-40da-ce6b-4b73-a89379476103"
      },
      "outputs": [],
      "source": [
        "# As they dont add any value we can drop them to create our train_data (training data)\n",
        "train_data = cleaned_df.drop(['Name','Sex','Ticket','Cabin','Embarked'],axis=1)\n",
        "# we can also drop SibSp,Parch as they are part of Family now\n",
        "train_data = train_data.drop(['SibSp','Parch'],axis=1)"
      ]
    },
    {
      "cell_type": "code",
      "execution_count": null,
      "metadata": {
        "_cell_guid": "f4146f36-a565-9576-af50-1b1ee0a56025"
      },
      "outputs": [],
      "source": [
        "# Let us also prepare the test data in similar format as we did for train_data\n",
        "titanic_test_df = pd.read_csv('../input/test.csv',header=0)\n",
        "titanic_test_df.info()"
      ]
    },
    {
      "cell_type": "code",
      "execution_count": null,
      "metadata": {
        "_cell_guid": "37b822fd-a64b-d7e4-5f56-938403bb968d"
      },
      "outputs": [],
      "source": [
        "# we do have 418 valies of which only 332 values are available for age , \n",
        "# we can also merge SibSp and Parch and change the Sex to gender etc.. as we did for our train data\n",
        "# infact let us create a function to reuse the same for any kind of data\n",
        "def clean_up_df(df):\n",
        "    \"\"\" This function will cleanup Age(Median), Sex(Change to 0,1), SibSp,Parch(Merge to Family), Embarked data\n",
        "    Update to 'S' And Also deletes Name,Cabin details from titanic DF, Ensure to Pass DataFrame to this Function\"\"\"\n",
        "    df['Age'] = df['Age'].fillna(df['Age'].median())\n",
        "    df['Gender'] = df['Sex'].map({'female':0, 'male':1}).astype(int)\n",
        "    df['Family'] = df['Parch'] + df['SibSp']\n",
        "    df['Fare'] = df['Fare'].fillna(df['Fare'].mean())\n",
        "    df = df.drop(['SibSp','Parch','Sex','Name','Cabin','Embarked','Ticket'],axis=1)\n",
        "    return df\n",
        "# gender "
      ]
    },
    {
      "cell_type": "code",
      "execution_count": null,
      "metadata": {
        "_cell_guid": "9e5f4dfc-1a3f-fe5c-6fba-f8d2e5416c30"
      },
      "outputs": [],
      "source": [
        "test_df = clean_up_df(titanic_test_df)\n",
        "test_df.info()"
      ]
    },
    {
      "cell_type": "code",
      "execution_count": null,
      "metadata": {
        "_cell_guid": "01ca8594-6a2e-e1f6-ea73-9236d74fe558"
      },
      "outputs": [],
      "source": [
        "# lets explore full data with sns pairplots\n",
        "sns.pairplot(train_data,hue='Survived',size=3.5)"
      ]
    },
    {
      "cell_type": "code",
      "execution_count": null,
      "metadata": {
        "_cell_guid": "b5eb3e03-2a68-c223-183c-8cf91a34cef7"
      },
      "outputs": [],
      "source": [
        "# Logistic Regression \n",
        "logistic = linear_model.LogisticRegression()\n",
        "X = train_data.drop(['PassengerId','Survived'],axis=1)\n",
        "y = train_data['Survived']\n",
        "logistic.fit(X,y)\n",
        "logistic.score(X, y)"
      ]
    },
    {
      "cell_type": "code",
      "execution_count": null,
      "metadata": {
        "_cell_guid": "82365bf5-55df-6a63-2b1f-44e1c5844290"
      },
      "outputs": [],
      "source": [
        "X_test = test_df.drop(['PassengerId'],axis=1)"
      ]
    },
    {
      "cell_type": "code",
      "execution_count": null,
      "metadata": {
        "_cell_guid": "39d34e3a-daaf-6de8-1afe-ec8eca529ecd"
      },
      "outputs": [],
      "source": [
        "X_test.info()"
      ]
    },
    {
      "cell_type": "code",
      "execution_count": null,
      "metadata": {
        "_cell_guid": "6b1c2210-bfc2-62c8-cb23-3e4ad3528343"
      },
      "outputs": [],
      "source": [
        "y_pred = logistic.predict(X_test)"
      ]
    },
    {
      "cell_type": "code",
      "execution_count": null,
      "metadata": {
        "_cell_guid": "42917dda-f320-c808-4d05-bbbf69d22d39"
      },
      "outputs": [],
      "source": [
        "# Random Forests \n",
        "random_forest = ensemble.RandomForestClassifier(n_estimators=100)\n",
        "random_forest.fit(X,y)\n",
        "y_pred = random_forest.predict(X_test)\n",
        "random_forest.score(X,y)"
      ]
    },
    {
      "cell_type": "code",
      "execution_count": null,
      "metadata": {
        "_cell_guid": "ae3f0c8e-272f-0889-c177-0d031fe529aa"
      },
      "outputs": [],
      "source": [
        "submission = pd.DataFrame({\n",
        "        \"PassengerId\":test_df['PassengerId'],\n",
        "        \"Survived\":y_pred\n",
        "    })\n",
        "submission.to_csv('titanic.csv',index=False)"
      ]
    },
    {
      "cell_type": "code",
      "execution_count": null,
      "metadata": {
        "_cell_guid": "559d3aac-452d-2429-b538-a85495035591"
      },
      "outputs": [],
      "source": [
        "## Now that we completed our Basic Model we need to plot the learning curves which will help in improving the model"
      ]
    }
  ],
  "metadata": {
    "_change_revision": 0,
    "_is_fork": false,
    "kernelspec": {
      "display_name": "Python 3",
      "language": "python",
      "name": "python3"
    },
    "language_info": {
      "codemirror_mode": {
        "name": "ipython",
        "version": 3
      },
      "file_extension": ".py",
      "mimetype": "text/x-python",
      "name": "python",
      "nbconvert_exporter": "python",
      "pygments_lexer": "ipython3",
      "version": "3.5.2"
    }
  },
  "nbformat": 4,
  "nbformat_minor": 0
}