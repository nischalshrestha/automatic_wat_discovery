{
  "cells": [
    {
      "cell_type": "code",
      "execution_count": null,
      "metadata": {
        "_cell_guid": "ef995261-e930-6602-d4f9-5b4ae2fffd08"
      },
      "outputs": [],
      "source": [
        "\n",
        "%matplotlib inline  \n",
        "\n",
        "# This Python 3 environment comes with many helpful analytics libraries installed\n",
        "# It is defined by the kaggle/python docker image: https://github.com/kaggle/docker-python\n",
        "# For example, here's several helpful packages to load in \n",
        "\n",
        "import numpy as np # linear algebra\n",
        "import pandas as pd # data processing, CSV file I/O (e.g. pd.read_csv)\n",
        "import sklearn\n",
        "import matplotlib.pyplot as plt\n",
        "\n",
        "# Input data files are available in the \"../input/\" directory.\n",
        "# For example, running this (by clicking run or pressing Shift+Enter) will list the files in the input directory\n",
        "\n",
        "from subprocess import check_output\n",
        "print(check_output([\"ls\", \"../input\"]).decode(\"utf8\"))\n",
        "\n",
        "# Any results you write to the current directory are saved as output."
      ]
    },
    {
      "cell_type": "code",
      "execution_count": null,
      "metadata": {
        "_cell_guid": "41be7524-c89a-ead3-c7bf-eaa1d258ade7"
      },
      "outputs": [],
      "source": [
        "train_inp = pd.read_csv('../input/train.csv')\n",
        "#train_inp[(train_inp['Cabin'].notnull()) & (train_inp['Survived'] == 0)]\n",
        "#(train_inp[train_inp['Cabin'].isnull()].size - train_inp[(train_inp['Cabin'].isnull()) & (train_inp['Survived'] == 0)].size)/train_inp[train_inp['Cabin'].isnull()].size"
      ]
    },
    {
      "cell_type": "code",
      "execution_count": null,
      "metadata": {
        "_cell_guid": "ae0aaf57-9d0e-658b-ab28-91f4d4a38390"
      },
      "outputs": [],
      "source": [
        "test_inp = pd.read_csv('../input/test.csv')"
      ]
    },
    {
      "cell_type": "code",
      "execution_count": null,
      "metadata": {
        "_cell_guid": "b393932d-b5da-8f60-3887-4f6b2f402441"
      },
      "outputs": [],
      "source": [
        "# adjust gender to be binary values\n",
        "train = train_inp\n",
        "train['Sex_Bin'] = train['Sex'].map( {'female': 0, 'male': 1} ).astype(int)"
      ]
    },
    {
      "cell_type": "code",
      "execution_count": null,
      "metadata": {
        "_cell_guid": "f8071f99-5397-51b3-1008-8c5cafdacfb6"
      },
      "outputs": [],
      "source": [
        "#split fare values into bins of width $50.\n",
        "#This will be used later to fill in age gaps, using bins as categories.\n",
        "\n",
        "binsize = 50\n",
        "bins = [x for x in range(int(train['Fare'].min()), int(train['Fare'].max()) + binsize, binsize)]\n",
        "label = [x for x in range(1, len(bins))]\n",
        "train['Fare_Cat'] = pd.cut(train['Fare'],bins,labels = label)\n",
        "\n",
        "train['Cabin_isnan'] = 1\n",
        "train['Cabin_isnan'] = np.where(train['Cabin'].notnull(), 0, train['Cabin_isnan'])\n",
        "train.head(25)"
      ]
    },
    {
      "cell_type": "code",
      "execution_count": null,
      "metadata": {
        "_cell_guid": "d04fb723-59c8-e9dc-cc96-b4023e9897ed"
      },
      "outputs": [],
      "source": [
        "def fillna_mult(col, df, mult, *dne_action):\n",
        "#col is the column name in a Dataframe in which the user wants to fill in NANs\n",
        "#df is the input Dataframe\n",
        "#mult is a multiindexed Series, where the relevant columns in the original dataframe have been grouped\n",
        "#and aggregated appropriately.\n",
        "#the optional dne_action signifies what is to be done if the attributes in the row which has an NAN\n",
        "#that the user is trying to fill do not lead to a valid entry in the grouped multiindexed Series.\n",
        "#if left empty, or set with any value other than 'mc', all the entries of that tier will be averaged\n",
        "#if dne_action is assigned as 'mc', the most common value of all the elements at that tier will be used\n",
        "\n",
        "    dout = df.copy()\n",
        "    origna_str = col+'_origna'\n",
        "    fill_str = col+'_fill'\n",
        "    dout[origna_str] = 0\n",
        "    dout[fill_str] = df[col]\n",
        "    mult_index_names = list(mult.index.names)\n",
        "    print(len(mult_index_names))\n",
        "    print(mult_index_names)\n",
        "    for i in df[np.isnan(df[col])].index.tolist():\n",
        "        dout[origna_str].loc[i] = 1\n",
        "        dtemp = mult\n",
        "        for j in range(len(mult_index_names)):\n",
        "            if df[mult_index_names[j]].loc[i] in dtemp:\n",
        "                dtemp = dtemp[df[mult_index_names[j]].loc[i]]\n",
        "            elif dne_action == 'mc':\n",
        "                dtemp = dtemp.value_counts().idxmax()\n",
        "                break\n",
        "            else:\n",
        "                dtemp = dtemp.mean()\n",
        "                break\n",
        "        dout[fill_str].loc[i] = dtemp\n",
        "        \n",
        "    return dout\n",
        "   "
      ]
    },
    {
      "cell_type": "code",
      "execution_count": null,
      "metadata": {
        "_cell_guid": "856629d5-9ecb-56ce-4335-ce833d2c1e93"
      },
      "outputs": [],
      "source": [
        "#Values are give for the embarkation points, ignoring, and thus perpetuating any NANs\n",
        "train['Embarked_Num'] = train['Embarked'].map( { 'C': 1, 'Q': 2, 'S': 3} )"
      ]
    },
    {
      "cell_type": "code",
      "execution_count": null,
      "metadata": {
        "_cell_guid": "3b2ed5e8-0aff-5037-406a-5e6d4ff69864"
      },
      "outputs": [],
      "source": [
        "#The multiindexed Series is constructed using values which are not NANs in the newly formed Embarked_Num column\n",
        "tg = train[train['Embarked_Num'] > 0].groupby(['Survived', 'Pclass', 'Sex_Bin'])['Embarked_Num'].agg(lambda x:x.value_counts().index[0]).astype(int)"
      ]
    },
    {
      "cell_type": "code",
      "execution_count": null,
      "metadata": {
        "_cell_guid": "be32bbce-c1de-d265-1601-1cc5d409c820"
      },
      "outputs": [],
      "source": [
        "#Use fillna_mult to fill in NaN entries in the numerated Embarked field\n",
        "print(train.head(10).columns)\n",
        "train_new = fillna_mult('Embarked_Num', train, tg)\n",
        "print(train.head(10).columns)"
      ]
    },
    {
      "cell_type": "code",
      "execution_count": null,
      "metadata": {
        "_cell_guid": "380db2e3-beed-09f3-33d5-7d34f4699d02"
      },
      "outputs": [],
      "source": [
        "#The multiindexed Series is constructed using values which are not NaNs in the Age column\n",
        "tg = train[np.isfinite(train['Age'])].groupby(['Survived', 'Pclass', 'Sex_Bin','Embarked_Num_fill'])['Age'].agg('mean')\n",
        "train = fillna_mult('Age', train, tg)\n",
        "\n",
        "#Create a binned value for ages, with a bin size of 5, to use as a feature for filling in NaN fare values\n",
        "binsize = 5\n",
        "bins = [x for x in range(0, int(train['Age_fill'].max()) + binsize, binsize)]\n",
        "label = [x for x in range(1, len(bins))]\n",
        "train['Age_Cat'] = pd.cut(train['Age_fill'],bins,labels = label)\n",
        "\n",
        "tg = train[np.isfinite(train['Fare'])].groupby(['Pclass', 'Sex_Bin','Embarked_Num_fill', 'Age_Cat'])['Fare'].agg('mean')\n",
        "train = fillna_mult('Fare', train, tg)"
      ]
    },
    {
      "cell_type": "code",
      "execution_count": null,
      "metadata": {
        "_cell_guid": "05e90055-cf22-48b5-150b-23f28e9b80b7"
      },
      "outputs": [],
      "source": [
        "#Use all of the functions used to fill in the training data set to the test data set to fill in NaNs\n",
        "test = test_inp\n",
        "test['Sex_Bin'] = test['Sex'].map( {'female': 0, 'male': 1} ).astype(int)\n",
        "\n",
        "test['Embarked_Num'] = test['Embarked'].map( { 'C': 1, 'Q': 2, 'S': 3} )\n",
        "tg = test[test['Embarked_Num'] > 0].groupby([ 'Pclass', 'Sex_Bin'])['Embarked_Num'].agg(lambda x:x.value_counts().index[0]).astype(int)"
      ]
    },
    {
      "cell_type": "code",
      "execution_count": null,
      "metadata": {
        "_cell_guid": "5c512660-568b-29a3-5907-1d00c5f51101"
      },
      "outputs": [],
      "source": [
        "test = fillna_mult('Embarked_Num', test, tg)\n",
        "\n",
        "tg = test[np.isfinite(test['Age'])].groupby(['Pclass', 'Sex_Bin','Embarked_Num_fill'])['Age'].agg('mean')\n",
        "test = fillna_mult('Age', test, tg)\n",
        "\n",
        "\n",
        "test['Cabin_isnan'] = 1\n",
        "test['Cabin_isnan'] = np.where(test['Cabin'].notnull(), 0, test['Cabin_isnan'])"
      ]
    },
    {
      "cell_type": "code",
      "execution_count": null,
      "metadata": {
        "_cell_guid": "34054d11-8ead-8bc9-c44b-33bdadb68a73"
      },
      "outputs": [],
      "source": [
        "binsize = 5\n",
        "bins = [x for x in range(0, int(test['Age_fill'].max()) + binsize, binsize)]\n",
        "label = [x for x in range(1, len(bins))]\n",
        "test['Age_Cat'] = pd.cut(test['Age_fill'],bins,labels = label)\n",
        "\n",
        "tg = test[np.isfinite(test['Fare'])].groupby(['Pclass', 'Sex_Bin','Embarked_Num_fill', 'Age_Cat'])['Fare'].agg('mean')\n",
        "\n",
        "test[['Pclass', 'Sex_Bin','Embarked_Num_fill', 'Age_Cat']].loc[test[np.isnan(test['Fare'])].index.tolist()[0]]\n",
        "test = fillna_mult('Fare', test, tg, 'avg')"
      ]
    },
    {
      "cell_type": "code",
      "execution_count": null,
      "metadata": {
        "_cell_guid": "f45b5ee8-5323-9916-69bd-d3c40c7f77b7"
      },
      "outputs": [],
      "source": [
        "from sklearn.ensemble import RandomForestClassifier\n",
        "from sklearn.ensemble import ExtraTreesClassifier\n",
        "from sklearn.ensemble import GradientBoostingClassifier"
      ]
    },
    {
      "cell_type": "code",
      "execution_count": null,
      "metadata": {
        "_cell_guid": "e55272b5-96b0-70ff-2da2-6e5cd878ea8c"
      },
      "outputs": [],
      "source": [
        "from sklearn.model_selection import train_test_split\n",
        "\n",
        "#split the training data into a train/test subset\n",
        "X_train, X_test, y_train, y_test = train_test_split(train[['Cabin_isnan','Pclass', 'Sex_Bin','Embarked_Num_fill', 'Age_fill', 'SibSp', 'Parch', 'Fare_fill', 'Fare_origna', 'Age_origna', 'Embarked_Num_origna']].as_matrix(),\n",
        "                                                   train['Survived'].as_matrix(),\n",
        "                                                   test_size=0.05,\n",
        "                                                    random_state=0)\n",
        "\n",
        "#X = train[['Pclass', 'Sex_Bin','Embarked_Num_fill', 'Age_fill', 'SibSp', 'Parch', 'Fare_fill', 'Fare_origna', 'Age_origna', 'Embarked_Num_origna']].as_matrix()\n",
        "#Y = train['Survived'].as_matrix()"
      ]
    },
    {
      "cell_type": "code",
      "execution_count": null,
      "metadata": {
        "_cell_guid": "1b08c59a-b792-d457-a914-763bb0ec3c8b"
      },
      "outputs": [],
      "source": [
        "#Create a classifier model, based on random forests and train it using the training portion of the data from train.csv\n",
        "\n",
        "#clf = RandomForestClassifier(n_estimators=100, random_state=7)\n",
        "clf = ExtraTreesClassifier(n_estimators=100, random_state=7)\n",
        "#clf = GradientBoostingClassifier(n_estimators=50, learning_rate=0.5,\n",
        "#                                 max_depth=5, random_state=7)\n",
        "clf = clf.fit(X_train, y_train)"
      ]
    },
    {
      "cell_type": "code",
      "execution_count": null,
      "metadata": {
        "_cell_guid": "293bbd8d-e168-e0b4-7e44-c5a8931575d0"
      },
      "outputs": [],
      "source": [
        "clf.predict(X_test)"
      ]
    },
    {
      "cell_type": "code",
      "execution_count": null,
      "metadata": {
        "_cell_guid": "69f56c84-6c44-1e73-4926-fda1c511deec"
      },
      "outputs": [],
      "source": [
        "#Validate this model using the testing portion of the train.csv data\n",
        "clf.score(X_test, y_test)"
      ]
    },
    {
      "cell_type": "code",
      "execution_count": null,
      "metadata": {
        "_cell_guid": "9ebc346f-2ea3-a39c-c62e-f0ea69f02564"
      },
      "outputs": [],
      "source": [
        "clf.predict(test[['Cabin_isnan', 'Pclass', 'Sex_Bin','Embarked_Num_fill', 'Age_fill', 'SibSp', 'Parch', 'Fare_fill', 'Fare_origna', 'Age_origna', 'Embarked_Num_origna']].as_matrix())"
      ]
    },
    {
      "cell_type": "code",
      "execution_count": null,
      "metadata": {
        "_cell_guid": "3185d31d-70ca-3cb5-5315-4a3df8af8863"
      },
      "outputs": [],
      "source": [
        "#Determine the feature importances and plot the weights in a bar graph\n",
        "\n",
        "importances = clf.feature_importances_\n",
        "std = np.std([tree.feature_importances_ for tree in np.squeeze(clf.estimators_)],\n",
        "             axis=0)\n",
        "indices = np.argsort(importances)[::-1]\n",
        "feature_rank = [['Cabin_isnan', 'Pclass', 'Sex_Bin','Embarked_Num_fill', 'Age_fill', 'SibSp', 'Parch', 'Fare_fill', 'Fare_origna', 'Age_origna', 'Embarked_Num_origna'][x] for x in indices]\n",
        "# Print the feature ranking\n",
        "print(\"Feature ranking:\")\n",
        "\n",
        "for f in range(X_train.shape[1]):\n",
        "    print(\"%d. feature %s (%f)\" % (f + 1, feature_rank[f], importances[indices[f]]))\n",
        "\n",
        "plt.figure()\n",
        "plt.title(\"Feature importances\")\n",
        "plt.bar(range(X_train.shape[1]), importances[indices],\n",
        "       color=\"r\", yerr=std[indices], align=\"center\")\n",
        "plt.xticks(range(X_train.shape[1]), feature_rank, rotation='vertical')\n",
        "plt.xlim([-1, X_train.shape[1]])\n",
        "plt.show()"
      ]
    },
    {
      "cell_type": "code",
      "execution_count": null,
      "metadata": {
        "_cell_guid": "e8467955-7e4a-ac62-6375-af4dc07364bf"
      },
      "outputs": [],
      "source": [
        "from sklearn.model_selection import cross_val_score\n",
        "scores = cross_val_score(clf, X_test, y_test, cv=3)\n",
        "scores"
      ]
    },
    {
      "cell_type": "code",
      "execution_count": null,
      "metadata": {
        "_cell_guid": "ed9a8375-2686-3f1c-5dfc-09582ddff9b8"
      },
      "outputs": [],
      "source": [
        "test.head(25)"
      ]
    },
    {
      "cell_type": "code",
      "execution_count": null,
      "metadata": {
        "_cell_guid": "2a0d76ef-48fe-ab1e-9ae6-ead05bd52ea9"
      },
      "outputs": [],
      "source": ""
    },
    {
      "cell_type": "code",
      "execution_count": null,
      "metadata": {
        "_cell_guid": "91169722-4f5f-54d8-0056-194f43cf8fb2"
      },
      "outputs": [],
      "source": ""
    },
    {
      "cell_type": "code",
      "execution_count": null,
      "metadata": {
        "_cell_guid": "6e1d7432-5764-c711-f4e7-8a3440e08410"
      },
      "outputs": [],
      "source": ""
    }
  ],
  "metadata": {
    "_change_revision": 0,
    "_is_fork": false,
    "kernelspec": {
      "display_name": "Python 3",
      "language": "python",
      "name": "python3"
    },
    "language_info": {
      "codemirror_mode": {
        "name": "ipython",
        "version": 3
      },
      "file_extension": ".py",
      "mimetype": "text/x-python",
      "name": "python",
      "nbconvert_exporter": "python",
      "pygments_lexer": "ipython3",
      "version": "3.5.2"
    }
  },
  "nbformat": 4,
  "nbformat_minor": 0
}