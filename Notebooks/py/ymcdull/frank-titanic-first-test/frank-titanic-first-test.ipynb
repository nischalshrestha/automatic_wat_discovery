{"cells":[
 {
  "cell_type": "code",
  "execution_count": null,
  "metadata": {
   "collapsed": false
  },
  "outputs": [],
  "source": "# This Python 3 environment comes with many helpful analytics libraries installed\n# It is defined by the kaggle/python docker image: https://github.com/kaggle/docker-python\n# For example, here's several helpful packages to load in \n\nimport numpy as np # linear algebra\nimport pandas as pd # data processing, CSV file I/O (e.g. pd.read_csv)\nfrom sklearn.metrics import accuracy_score\nfrom sklearn.ensemble import GradientBoostingClassifier\nfrom sklearn.cross_validation import train_test_split\n\n# Input data files are available in the \"../input/\" directory.\n# For example, running this (by clicking run or pressing Shift+Enter) will list the files in the input directory\n\nfrom subprocess import check_output\nprint(check_output([\"ls\", \"../input\"]).decode(\"utf8\"))\n\n# Any results you write to the current directory are saved as output."
 },
 {
  "cell_type": "code",
  "execution_count": null,
  "metadata": {
   "collapsed": false
  },
  "outputs": [],
  "source": "train = pd.read_csv(\"../input/train.csv\")\ntest = pd.read_csv(\"../input/test.csv\")"
 },
 {
  "cell_type": "code",
  "execution_count": null,
  "metadata": {
   "collapsed": false
  },
  "outputs": [],
  "source": "### Try to use knn to predict ages, skipped now, try it later\n'''\nfrom sklearn.neighbors import KNeighborsClassifier\nknn = KNeighborsClassifier(n_neighbors = 5)\ncols_list = [\"Pclass\", \"SibSp\", \"Parch\", \"Fare\"]\nknown = train[train.Age.notnull()]\nX = known[cols_list]\ny = known.Age\nknn.fit(X,y)\n'''"
 },
 {
  "cell_type": "code",
  "execution_count": null,
  "metadata": {
   "collapsed": false
  },
  "outputs": [],
  "source": "#df[\"Ticket_Value\"] = df.Ticket.map(df.Ticket.value_counts())\n#df.drop(\"Ticket\", axis = 1, inplace = True)\n#df.Ticket_Value"
 },
 {
  "cell_type": "code",
  "execution_count": null,
  "metadata": {
   "collapsed": false
  },
  "outputs": [],
  "source": "### Deleted, move to loadData function\n### Pre-process\n# missing Fare\n#test.iloc[152, 8] = test.Fare.mean()\n\n#missing Embark\n#train.iloc[61, 11] = 'S'\n#train.iloc[829, 11] = 'S'\n\ndef loadData(df, test = False):\n    df.Fare[df.Fare.isnull()] = df.Fare.mean()\n    df.Embarked[df.Embarked.isnull()] = 'S'\n    df.Sex[df.Sex == \"male\"] = 1\n    df.Sex[df.Sex == \"female\"] = 0\n    df.Embarked[df.Embarked == \"S\"] = 0\n    df.Embarked[df.Embarked == \"C\"] = 1\n    df.Embarked[df.Embarked == \"Q\"] = 2\n\n    df[\"Ticket_Value\"] = df.Ticket.map(df.Ticket.value_counts())\n    df.drop(\"Ticket\", axis = 1, inplace = True)\n\n    \n    cols_list = [\"Pclass\", \"Sex\", \"SibSp\", \"Parch\", \"Fare\", \"Embarked\"]\n    \n    if test:\n        y = None\n    else:\n        y = df.Survived\n    X = df[cols_list]\n    \n    return X, y\n\nX, y = loadData(train)"
 },
 {
  "cell_type": "code",
  "execution_count": null,
  "metadata": {
   "collapsed": false
  },
  "outputs": [],
  "source": "### CV for naive gbm\ngbm = GradientBoostingClassifier()\nX_train, X_test, y_train, y_test = train_test_split(X, y, test_size = .33, random_state = 42)\ngbm.fit(X_train,y_train)\npred = gbm.predict(X_test)\nprint(accuracy_score(y_test, pred))\n\n### Predict result\nX, _ = loadData(test, test = True)\npred = gbm.predict(X)"
 },
 {
  "cell_type": "code",
  "execution_count": null,
  "metadata": {
   "collapsed": false
  },
  "outputs": [],
  "source": "### GridSearchCV for gbm\nfrom sklearn.cross_validation import KFold\nfrom sklearn.grid_search import GridSearchCV\n\nkfold = KFold(n = len(X), n_folds = 3, random_state = 42)\n\ngbm_grid = GridSearchCV(\n  estimator = GradientBoostingClassifier(warm_start = True, random_state = 42),\n    param_grid = {\n        \"n_estimators\": [100, 200],\n        \"max_depth\": [2, 3, 4],\n        \"learning_rate\": [1e-1, 1] \n    },\n    cv = kfold,\n    scoring = \"accuracy\"    \n)\n\ngbm_grid.fit(X, y)\n\n### Predict result\nX, _ = loadData(test, test = True)\npred = gbm.predict(X)"
 },
 {
  "cell_type": "code",
  "execution_count": null,
  "metadata": {
   "collapsed": false
  },
  "outputs": [],
  "source": "#gbm_grid.best_score_\ngbm_grid.best_params_"
 },
 {
  "cell_type": "code",
  "execution_count": null,
  "metadata": {
   "collapsed": false
  },
  "outputs": [],
  "source": "submission = pd.DataFrame()\nsubmission[\"PassengerId\"] = test.PassengerId\nsubmission[\"Survived\"] = pred"
 },
 {
  "cell_type": "code",
  "execution_count": null,
  "metadata": {
   "collapsed": false
  },
  "outputs": [],
  "source": "submission.to_csv(\"sub.csv\", index = False)"
 }
],"metadata":{"kernelspec":{"display_name":"Python 3","language":"python","name":"python3"}}, "nbformat": 4, "nbformat_minor": 0}