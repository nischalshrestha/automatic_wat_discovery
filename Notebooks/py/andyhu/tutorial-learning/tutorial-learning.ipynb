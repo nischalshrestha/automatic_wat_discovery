{
  "cells": [
    {
      "cell_type": "markdown",
      "metadata": {
        "_cell_guid": "361d6689-308c-a455-df8c-47024fb7088e"
      },
      "source": [
        "Follow the tutorial and try "
      ]
    },
    {
      "cell_type": "code",
      "execution_count": null,
      "metadata": {
        "_cell_guid": "6b288e5f-7d79-eb73-88c2-0115e17f7769"
      },
      "outputs": [],
      "source": [
        "#basic data tools\n",
        "import pandas as pd\n",
        "import numpy as np\n",
        "import random as rnd\n",
        "#visulization tools\n",
        "import seaborn as sns\n",
        "import matplotlib.pyplot as plt\n",
        "%matplotlib inline\n",
        "# machine learning algo\n",
        "from sklearn.svm import SVC, LinearSVC\n",
        "from sklearn.linear_model import LogisticRegression\n",
        "from sklearn.ensemble import RandomForestClassifier\n",
        "from sklearn.neighbors import KNeighborsClassifier\n",
        "from sklearn.naive_bayes import GaussianNB\n",
        "from sklearn.linear_model import Perceptron\n",
        "from sklearn.linear_model import SGDClassifier\n",
        "from sklearn.tree import DecisionTreeClassifier"
      ]
    },
    {
      "cell_type": "code",
      "execution_count": null,
      "metadata": {
        "_cell_guid": "47f3797f-c2ca-d77a-3d54-862ff2f3471b"
      },
      "outputs": [],
      "source": [
        "train_df=pd.read_csv(\"../input/train.csv\")\n",
        "test_df=pd.read_csv(\"../input/test.csv\")\n",
        "combine=[train_df, test_df]"
      ]
    },
    {
      "cell_type": "code",
      "execution_count": null,
      "metadata": {
        "_cell_guid": "2ef0b6b0-36e5-e84d-9fdd-f8086bf876ca"
      },
      "outputs": [],
      "source": [
        "print(train_df.shape,test_df.shape)\n",
        "print(train_df.columns.values)\n",
        "train_df.head()"
      ]
    },
    {
      "cell_type": "code",
      "execution_count": null,
      "metadata": {
        "_cell_guid": "216af747-5747-5256-fad0-bc6dcc0d69d4"
      },
      "outputs": [],
      "source": [
        "train_df.info()\n",
        "print('_'*40)\n",
        "test_df.info()"
      ]
    },
    {
      "cell_type": "code",
      "execution_count": null,
      "metadata": {
        "_cell_guid": "2e3c863b-df93-bb35-ed3f-de29116b5f27"
      },
      "outputs": [],
      "source": [
        "train_df.describe()"
      ]
    },
    {
      "cell_type": "code",
      "execution_count": null,
      "metadata": {
        "_cell_guid": "5a36e27e-e1d4-0447-c196-3d6eafa3ebc2"
      },
      "outputs": [],
      "source": [
        "train_df.describe(include=['O'])"
      ]
    },
    {
      "cell_type": "code",
      "execution_count": null,
      "metadata": {
        "_cell_guid": "bfc50eb6-39f1-59d1-cea5-ff4ade9c82d4"
      },
      "outputs": [],
      "source": [
        "train_df[['Pclass','Survived']].groupby(['Pclass'],as_index=False).mean().sort_values(by='Survived',ascending= False)"
      ]
    },
    {
      "cell_type": "code",
      "execution_count": null,
      "metadata": {
        "_cell_guid": "5aa9bc26-5d94-cfc8-35ab-5b56038c0913"
      },
      "outputs": [],
      "source": [
        "train_df[['Sex','Survived']].groupby(['Sex'],as_index=False).mean().sort_values(by='Survived',ascending= False)"
      ]
    },
    {
      "cell_type": "code",
      "execution_count": null,
      "metadata": {
        "_cell_guid": "29fb1dca-3671-ddbe-c48b-cc4bc7714d01"
      },
      "outputs": [],
      "source": [
        "train_df[['Age','Survived']].groupby(['Age'],as_index=False).mean().sort_values(by='Survived',ascending= False)"
      ]
    },
    {
      "cell_type": "code",
      "execution_count": null,
      "metadata": {
        "_cell_guid": "5e0dbd7c-4edf-9395-afc1-0bba7055a952"
      },
      "outputs": [],
      "source": [
        "train_df[['Parch','Survived']].groupby(['Parch'],as_index=False).mean().sort_values(by='Survived',ascending= False)"
      ]
    },
    {
      "cell_type": "code",
      "execution_count": null,
      "metadata": {
        "_cell_guid": "c19edce6-e950-7a49-1eed-4b8de654b79f"
      },
      "outputs": [],
      "source": [
        "train_df[['SibSp','Survived']].groupby(['SibSp'],as_index=False).mean().sort_values(by='Survived',ascending= False)"
      ]
    },
    {
      "cell_type": "code",
      "execution_count": null,
      "metadata": {
        "_cell_guid": "4379dcf2-ca6b-eae2-574c-67c3c8549ff7"
      },
      "outputs": [],
      "source": [
        "g=sns.FacetGrid(train_df, col='Survived')\n",
        "g.map(plt.hist, 'Age', bins=20)"
      ]
    },
    {
      "cell_type": "code",
      "execution_count": null,
      "metadata": {
        "_cell_guid": "ec94f2ef-68cb-dc1d-a77f-f7ef3ff34d49"
      },
      "outputs": [],
      "source": [
        "grid=sns.FacetGrid(train_df,col='Survived',row='Pclass',size=2.2, aspect=1.6)\n",
        "grid.map(plt.hist,'Age',alpha=.5, bins=20)\n",
        "grid.add_legend() "
      ]
    },
    {
      "cell_type": "code",
      "execution_count": null,
      "metadata": {
        "_cell_guid": "c18a9cc9-023a-491c-01bb-d6e2eb7a8b5e"
      },
      "outputs": [],
      "source": [
        "grid=sns.FacetGrid(train_df,row='Embarked',size=2.2, aspect=1.6)\n",
        "grid.map(sns.pointplot,'Pclass','Survived','Sex',palette='deep')\n",
        "grid.add_legend() "
      ]
    },
    {
      "cell_type": "code",
      "execution_count": null,
      "metadata": {
        "_cell_guid": "22fb7be2-e51b-cb50-123c-1746593bde39"
      },
      "outputs": [],
      "source": [
        "grid = sns.FacetGrid(train_df, row='Embarked', col='Survived', size=2.2, aspect=1.6)\n",
        "grid.map(sns.barplot, 'Sex', 'Fare', alpha=.5, ci=None)\n",
        "grid.add_legend()"
      ]
    },
    {
      "cell_type": "code",
      "execution_count": null,
      "metadata": {
        "_cell_guid": "8afba5a1-b93a-f522-988f-4fd32365fe49"
      },
      "outputs": [],
      "source": [
        "print('Before',train_df.shape, test_df.shape)\n",
        "train_df=train_df.drop(['Ticket','Cabin'],axis=1)\n",
        "test_df=test_df.drop(['Ticket','Cabin'],axis=1)\n",
        "print('After',train_df.shape, test_df.shape)"
      ]
    },
    {
      "cell_type": "code",
      "execution_count": null,
      "metadata": {
        "_cell_guid": "52b4e07d-8ad4-3d5d-e7a4-75cbf778a749"
      },
      "outputs": [],
      "source": [
        "#for dataset in combine:\n",
        "    #dataset['Title']=dataset.Name.str.extract('([A-Za-z]+)\\.',expand=False)\n",
        "    #dataset['Title'] = dataset.Name.str.extract(' ([A-Za-z]+)\\.', expand=False)\n",
        "train_df['Title'] = train_df.Name.str.extract(' ([A-Za-z]+)\\.', expand=False)\n",
        "test_df['Title'] = test_df.Name.str.extract(' ([A-Za-z]+)\\.', expand=False)\n",
        "pd.crosstab(train_df['Title'],train_df['Sex'])"
      ]
    },
    {
      "cell_type": "code",
      "execution_count": null,
      "metadata": {
        "_cell_guid": "a086e931-ed90-440a-f9a2-01c83d080750"
      },
      "outputs": [],
      "source": [
        "combine=[train_df,test_df]\n",
        "for dataset in combine:\n",
        "    dataset['Title'] = dataset['Title'].replace(['Lady', 'Countess','Capt', 'Col',\\\n",
        " \t'Don', 'Dr', 'Major', 'Rev', 'Sir', 'Jonkheer', 'Dona'], 'Rare')\n",
        "\n",
        "    dataset['Title'] = dataset['Title'].replace('Mlle', 'Miss')\n",
        "    dataset['Title'] = dataset['Title'].replace('Ms', 'Miss')\n",
        "    dataset['Title'] = dataset['Title'].replace('Mme', 'Mrs')\n",
        "    \n",
        "train_df[['Title', 'Survived']].groupby(['Title'], as_index=False).mean()"
      ]
    },
    {
      "cell_type": "code",
      "execution_count": null,
      "metadata": {
        "_cell_guid": "5da15223-9535-9c48-5a4b-1357df6cf52a"
      },
      "outputs": [],
      "source": [
        "title_mapping={'Mr':1,'Mrs':2,\"Miss\":3, 'Master':4,\"Rare\":5}\n",
        "for dataset in combine:\n",
        "    dataset['Title']=dataset['Title'].map(title_mapping)\n",
        "    dataset['Title']=dataset['Title'].fillna(0)\n",
        "train_df.head()"
      ]
    },
    {
      "cell_type": "code",
      "execution_count": null,
      "metadata": {
        "_cell_guid": "d029d0f9-00c9-8b81-ea64-90846b53883a"
      },
      "outputs": [],
      "source": [
        "train_df=train_df.drop(['PassengerId','Name'],axis=1)\n",
        "test_df=test_df.drop(['Name'],axis=1)\n",
        "print(train_df.shape, test_df.shape)"
      ]
    },
    {
      "cell_type": "code",
      "execution_count": null,
      "metadata": {
        "_cell_guid": "7a2316c6-ea97-0e75-f005-2f5c30eb1890"
      },
      "outputs": [],
      "source": [
        "combine=[train_df,test_df]\n",
        "for dataset in combine:\n",
        "    dataset['Sex']=dataset['Sex'].map({'male':1,'female':0}).astype(int)\n",
        "train_df.head()"
      ]
    },
    {
      "cell_type": "code",
      "execution_count": null,
      "metadata": {
        "_cell_guid": "bcb3efc9-22eb-260b-edfe-0149ee56beca"
      },
      "outputs": [],
      "source": [
        "guess_ages=np.zeros((2,3))\n",
        "combine=[train_df,test_df]\n",
        "for dataset in combine:\n",
        "    for i in range(0, 2):\n",
        "        for j in range(0, 3):\n",
        "            guess_df = dataset[(dataset['Sex'] == i) & (dataset['Pclass'] == j+1)]['Age'].dropna()\n",
        "\n",
        "            # age_mean = guess_df.mean()\n",
        "            # age_std = guess_df.std()\n",
        "            # age_guess = rnd.uniform(age_mean - age_std, age_mean + age_std)\n",
        "\n",
        "            age_guess = guess_df.median()\n",
        "\n",
        "            # Convert random age float to nearest .5 age\n",
        "            guess_ages[i,j] = int( age_guess/0.5 + 0.5 ) * 0.5\n",
        "            \n",
        "    for i in range(0, 2):\n",
        "        for j in range(0, 3):\n",
        "            dataset.loc[ (dataset.Age.isnull()) & (dataset.Sex == i) & (dataset.Pclass == j+1),\\\n",
        "                    'Age'] = guess_ages[i,j]\n",
        "\n",
        "    dataset['Age'] = dataset['Age'].astype(int)\n",
        "train_df.head()"
      ]
    },
    {
      "cell_type": "code",
      "execution_count": null,
      "metadata": {
        "_cell_guid": "bc7aaec1-e17c-f7fc-1a4d-1afba41d001e"
      },
      "outputs": [],
      "source": [
        "train_df['AgeBand'] = pd.cut(train_df['Age'], 5)\n",
        "train_df[['AgeBand', 'Survived']].groupby(['AgeBand'], as_index=False).mean().sort_values(by='AgeBand', ascending=True)\n",
        "for dataset in combine:    \n",
        "    dataset.loc[ dataset['Age'] <= 16, 'Age'] = 0\n",
        "    dataset.loc[(dataset['Age'] > 16) & (dataset['Age'] <= 32), 'Age'] = 1\n",
        "    dataset.loc[(dataset['Age'] > 32) & (dataset['Age'] <= 48), 'Age'] = 2\n",
        "    dataset.loc[(dataset['Age'] > 48) & (dataset['Age'] <= 64), 'Age'] = 3\n",
        "    dataset.loc[ dataset['Age'] > 64, 'Age']\n",
        "train_df.head()\n",
        "\n"
      ]
    },
    {
      "cell_type": "code",
      "execution_count": null,
      "metadata": {
        "_cell_guid": "476f5253-4adc-7830-f774-f11221773478"
      },
      "outputs": [],
      "source": [
        "train_df = train_df.drop(['AgeBand'], axis=1)\n",
        "combine = [train_df, test_df]\n",
        "train_df.head()\n",
        "for dataset in combine:\n",
        "    dataset['FamilySize'] = dataset['SibSp'] + dataset['Parch'] + 1\n",
        "\n",
        "train_df[['FamilySize', 'Survived']].groupby(['FamilySize'], as_index=False).mean().sort_values(by='Survived', ascending=False)\n",
        "for dataset in combine:\n",
        "    dataset['IsAlone'] = 0\n",
        "    dataset.loc[dataset['FamilySize'] == 1, 'IsAlone'] = 1\n",
        "\n",
        "train_df[['IsAlone', 'Survived']].groupby(['IsAlone'], as_index=False).mean()\n",
        "train_df = train_df.drop(['Parch', 'SibSp', 'FamilySize'], axis=1)\n",
        "test_df = test_df.drop(['Parch', 'SibSp', 'FamilySize'], axis=1)\n",
        "combine = [train_df, test_df]\n",
        "\n",
        "train_df.head()\n",
        "for dataset in combine:\n",
        "    dataset['Age*Class'] = dataset.Age * dataset.Pclass\n",
        "\n",
        "train_df.loc[:, ['Age*Class', 'Age', 'Pclass']].head(10)"
      ]
    },
    {
      "cell_type": "code",
      "execution_count": null,
      "metadata": {
        "_cell_guid": "6c58d79d-4158-4c86-c1f1-e4d62a8d89fd"
      },
      "outputs": [],
      "source": [
        "freq_port= train_df['Embarked'].dropna().mode()[0]\n",
        "for dataset in combine:\n",
        "    dataset['Embarked']=dataset['Embarked'].fillna(freq_port)\n",
        "    dataset['Embarked']=dataset['Embarked'].map({'S':0,'C':1,'Q':2}).astype(int)\n",
        "train_df.head()"
      ]
    },
    {
      "cell_type": "code",
      "execution_count": null,
      "metadata": {
        "_cell_guid": "cc2a1400-6c1c-973b-456f-2d68ec019a60"
      },
      "outputs": [],
      "source": [
        "test_df['Fare'].fillna(test_df['Fare'].dropna().median(), inplace=True)\n",
        "train_df['FareBand'] = pd.qcut(train_df['Fare'], 4)\n",
        "train_df[['FareBand', 'Survived']].groupby(['FareBand'], as_index=False).mean().sort_values(by='FareBand', ascending=True)\n",
        "#fare band seems to be a good feature"
      ]
    },
    {
      "cell_type": "code",
      "execution_count": null,
      "metadata": {
        "_cell_guid": "f113446d-8c1c-c442-f3dc-a93d25c53ec5"
      },
      "outputs": [],
      "source": [
        "for dataset in combine:\n",
        "    dataset.loc[ dataset['Fare'] <= 7.91, 'Fare'] = 0\n",
        "    dataset.loc[(dataset['Fare'] > 7.91) & (dataset['Fare'] <= 14.454), 'Fare'] = 1\n",
        "    dataset.loc[(dataset['Fare'] > 14.454) & (dataset['Fare'] <= 31), 'Fare']   = 2\n",
        "    dataset.loc[ dataset['Fare'] > 31, 'Fare'] = 3\n",
        "    dataset['Fare'] = dataset['Fare'].astype(int)\n",
        "\n",
        "train_df = train_df.drop(['FareBand'], axis=1)\n",
        "combine = [train_df, test_df]\n",
        "\n",
        "train_df.head()\n",
        "test_df.head()"
      ]
    },
    {
      "cell_type": "code",
      "execution_count": null,
      "metadata": {
        "_cell_guid": "e3b178d4-c911-3ae6-a224-b59a045abd05"
      },
      "outputs": [],
      "source": [
        "X_train=train_df.drop('Survived',axis=1)\n",
        "Y_train=train_df['Survived']\n",
        "X_test=test_df.drop('PassengerId',axis=1).copy()"
      ]
    },
    {
      "cell_type": "code",
      "execution_count": null,
      "metadata": {
        "_cell_guid": "e795d530-1535-fa93-9bc7-19dd1bcfcfe7"
      },
      "outputs": [],
      "source": [
        "logreg=LogisticRegression()\n",
        "logreg.fit(X_train,Y_train)\n",
        "Y_predict=logreg.predict(X_test)\n",
        "acc_log=round(logreg.score(X_train,Y_train)*100,2)\n",
        "acc_log"
      ]
    },
    {
      "cell_type": "code",
      "execution_count": null,
      "metadata": {
        "_cell_guid": "ceaa17e2-65a7-69b3-9be7-0190791be080"
      },
      "outputs": [],
      "source": [
        "coeff_df = pd.DataFrame(train_df.columns.delete(0))\n",
        "coeff_df.columns = ['Feature']\n",
        "coeff_df[\"Correlation\"] = pd.Series(logreg.coef_[0])\n",
        "\n",
        "coeff_df.sort_values(by='Correlation', ascending=False)"
      ]
    },
    {
      "cell_type": "code",
      "execution_count": null,
      "metadata": {
        "_cell_guid": "3f5afb8a-3ee6-157a-0ed4-ca1e957e71c1"
      },
      "outputs": [],
      "source": [
        "svc=SVC()\n",
        "svc.fit(X_train,Y_train)\n",
        "Y_predict=svc.predict(X_test)\n",
        "acc_svc=round(svc.score(X_train,Y_train)*100,2)\n",
        "acc_svc"
      ]
    },
    {
      "cell_type": "code",
      "execution_count": null,
      "metadata": {
        "_cell_guid": "8e0506e2-895d-3b41-de13-da4cabafaf64"
      },
      "outputs": [],
      "source": [
        "knn = KNeighborsClassifier(n_neighbors = 3)\n",
        "knn.fit(X_train, Y_train)\n",
        "Y_pred = knn.predict(X_test)\n",
        "acc_knn = round(knn.score(X_train, Y_train) * 100, 2)\n",
        "acc_knn"
      ]
    },
    {
      "cell_type": "code",
      "execution_count": null,
      "metadata": {
        "_cell_guid": "998c43c7-70ce-1ee5-6fbc-e964acf7d55f"
      },
      "outputs": [],
      "source": [
        "gaussian = GaussianNB()\n",
        "gaussian.fit(X_train, Y_train)\n",
        "Y_pred = gaussian.predict(X_test)\n",
        "acc_gaussian = round(gaussian.score(X_train, Y_train) * 100, 2)\n",
        "acc_gaussian"
      ]
    },
    {
      "cell_type": "code",
      "execution_count": null,
      "metadata": {
        "_cell_guid": "dc2a1173-941f-aff4-cfff-93eeb2cefa44"
      },
      "outputs": [],
      "source": [
        "perceptron = Perceptron()\n",
        "perceptron.fit(X_train, Y_train)\n",
        "Y_pred = perceptron.predict(X_test)\n",
        "acc_perceptron = round(perceptron.score(X_train, Y_train) * 100, 2)\n",
        "acc_perceptron"
      ]
    },
    {
      "cell_type": "code",
      "execution_count": null,
      "metadata": {
        "_cell_guid": "e31bc946-8703-865d-dff4-52e1c6ce22a2"
      },
      "outputs": [],
      "source": [
        "linear_svc = LinearSVC()\n",
        "linear_svc.fit(X_train, Y_train)\n",
        "Y_pred = linear_svc.predict(X_test)\n",
        "acc_linear_svc = round(linear_svc.score(X_train, Y_train) * 100, 2)\n",
        "acc_linear_svc"
      ]
    },
    {
      "cell_type": "code",
      "execution_count": null,
      "metadata": {
        "_cell_guid": "6efbcd7c-fe12-5d45-2b1c-97ceb8ca37ee"
      },
      "outputs": [],
      "source": [
        "# Stochastic Gradient Descent\n",
        "\n",
        "sgd = SGDClassifier()\n",
        "sgd.fit(X_train, Y_train)\n",
        "Y_pred = sgd.predict(X_test)\n",
        "acc_sgd = round(sgd.score(X_train, Y_train) * 100, 2)\n",
        "acc_sgd"
      ]
    },
    {
      "cell_type": "code",
      "execution_count": null,
      "metadata": {
        "_cell_guid": "05ea430c-0561-8e04-62c4-57d6cf5b6f59"
      },
      "outputs": [],
      "source": [
        "# Decision Tree\n",
        "\n",
        "decision_tree = DecisionTreeClassifier()\n",
        "decision_tree.fit(X_train, Y_train)\n",
        "Y_pred = decision_tree.predict(X_test)\n",
        "acc_decision_tree = round(decision_tree.score(X_train, Y_train) * 100, 2)\n",
        "acc_decision_tree"
      ]
    },
    {
      "cell_type": "code",
      "execution_count": null,
      "metadata": {
        "_cell_guid": "4ac52481-10ee-84a5-c1c5-c8638e88db6e"
      },
      "outputs": [],
      "source": [
        "# Random Forest\n",
        "\n",
        "random_forest = RandomForestClassifier(n_estimators=100)\n",
        "random_forest.fit(X_train, Y_train)\n",
        "Y_pred = random_forest.predict(X_test)\n",
        "random_forest.score(X_train, Y_train)\n",
        "acc_random_forest = round(random_forest.score(X_train, Y_train) * 100, 2)\n",
        "acc_random_forest"
      ]
    },
    {
      "cell_type": "code",
      "execution_count": null,
      "metadata": {
        "_cell_guid": "0c21f51d-6aa2-e6a0-05f4-f190eb6b14cf"
      },
      "outputs": [],
      "source": [
        "models = pd.DataFrame({\n",
        "    'Model': ['Support Vector Machines', 'KNN', 'Logistic Regression', \n",
        "              'Random Forest', 'Naive Bayes', 'Perceptron', \n",
        "              'Stochastic Gradient Decent', 'Linear SVC', \n",
        "              'Decision Tree'],\n",
        "    'Score': [acc_svc, acc_knn, acc_log, \n",
        "              acc_random_forest, acc_gaussian, acc_perceptron, \n",
        "              acc_sgd, acc_linear_svc, acc_decision_tree]})\n",
        "models.sort_values(by='Score', ascending=False)"
      ]
    },
    {
      "cell_type": "code",
      "execution_count": null,
      "metadata": {
        "_cell_guid": "77073255-80fb-b4ae-add6-554bc2860fb8"
      },
      "outputs": [],
      "source": [
        "submission=pd.DataFrame({\"PassengerId\":test_df[\"PassengerId\"], \"Survived\":Y_pred})\n",
        "submission.to_csv(\"submission.csv\", index=False)"
      ]
    }
  ],
  "metadata": {
    "_change_revision": 0,
    "_is_fork": false,
    "kernelspec": {
      "display_name": "Python 3",
      "language": "python",
      "name": "python3"
    },
    "language_info": {
      "codemirror_mode": {
        "name": "ipython",
        "version": 3
      },
      "file_extension": ".py",
      "mimetype": "text/x-python",
      "name": "python",
      "nbconvert_exporter": "python",
      "pygments_lexer": "ipython3",
      "version": "3.6.0"
    }
  },
  "nbformat": 4,
  "nbformat_minor": 0
}