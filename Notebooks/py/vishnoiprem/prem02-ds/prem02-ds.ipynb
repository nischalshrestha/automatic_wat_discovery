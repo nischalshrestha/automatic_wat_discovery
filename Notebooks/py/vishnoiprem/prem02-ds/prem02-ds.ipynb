{
  "cells": [
    {
      "cell_type": "markdown",
      "metadata": {
        "_cell_guid": "0d8e2998-ec11-8a62-5b22-79157303f3d4"
      },
      "source": [
        "**#01_Prem_DS_Titanic**"
      ]
    },
    {
      "cell_type": "code",
      "execution_count": null,
      "metadata": {
        "_cell_guid": "22b36c1e-b4a4-8611-b7e4-b1fdf23a421c"
      },
      "outputs": [],
      "source": [
        "# This Python 3 environment comes with many helpful analytics libraries installed\n",
        "# It is defined by the kaggle/python docker image: https://github.com/kaggle/docker-python\n",
        "# For example, here's several helpful packages to load in \n",
        "\n",
        "import numpy as np # linear algebra\n",
        "import pandas as pd # data processing, CSV file I/O (e.g. pd.read_csv)\n",
        "import re\n",
        "# Input data files are available in the \"../input/\" directory.\n",
        "# For example, running this (by clicking run or pressing Shift+Enter) will list the files in the input directory\n",
        "\n",
        "\n",
        "\n",
        "# Any results you write to the current directory are saved as output.\n",
        "\n",
        "import matplotlib.pyplot as plt\n",
        "%matplotlib inline\n",
        "import seaborn as sns\n",
        "sns.set(style=\"whitegrid\", color_codes=True)\n",
        "sns.set(font_scale=1)\n",
        "from subprocess import check_output\n",
        "print(check_output([\"ls\", \"../input/\"]).decode(\"utf8\"))\n",
        "#print(check_output([\"ls\", \"/Users/vishnoiprem/Udemy/kaggle/titanic\"]).decode(\"utf8\"))\n",
        "\n",
        "\n",
        "#genderclassmodel.csv"
      ]
    },
    {
      "cell_type": "code",
      "execution_count": null,
      "metadata": {
        "_cell_guid": "a4a59341-9d20-e54b-3dab-51d7a7144dc5"
      },
      "outputs": [],
      "source": [
        "#titanic.isnull().any()\n"
      ]
    },
    {
      "cell_type": "code",
      "execution_count": null,
      "metadata": {
        "_cell_guid": "5d45451f-9801-f7e6-8cd7-2a2c6eee8774"
      },
      "outputs": [],
      "source": [
        "\n",
        "#test=pd.read_csv('/Users/vishnoiprem/Udemy/kaggle/titanic/test.csv', header = 0, dtype={'Age': np.float64})\n",
        "#df=pd.read_csv('/Users/vishnoiprem/Udemy/kaggle/titanic/train.csv', header = 0, dtype={'Age': np.float64})\n",
        "df = pd.read_csv('../input/train.csv', header = 0, dtype={'Age': np.float64})\n",
        "test  = pd.read_csv('../input/test.csv' , header = 0, dtype={'Age': np.float64})\n",
        "\n",
        "#df.head(19)\n",
        "full_data=[test, df]\n",
        "\n",
        "df.head(10)\n",
        "#full_data"
      ]
    },
    {
      "cell_type": "code",
      "execution_count": null,
      "metadata": {
        "_cell_guid": "0cc68013-4b51-7f0f-f9b2-d1b21574710f"
      },
      "outputs": [],
      "source": [
        "df.columns[df.isnull().any()]"
      ]
    },
    {
      "cell_type": "code",
      "execution_count": null,
      "metadata": {
        "_cell_guid": "42528753-eb86-41ab-4a97-91698b999e48"
      },
      "outputs": [],
      "source": [
        "def mr_mrs_other(name):\n",
        "    if 'Mr.' in name:\n",
        "        return 'Mr'\n",
        "    elif 'Mrs.' in name:\n",
        "        return 'Mrs'\n",
        "    elif 'Miss.' in name:\n",
        "        return 'Miss' \n",
        "    else: \n",
        "        return 'Other'\n",
        "\n",
        "df['Gen_Clas']=df['Name'].apply(mr_mrs_other)\n",
        "fill_na=df[df['Gen_Clas']=='Other'][['Age','Pclass']].groupby('Pclass').mean()\n",
        "#fill_na\n",
        "a=np.array(fill_na)\n",
        "print(a[0][0],a[1][0],a[2][0])\n",
        "#df[(df['Gen_Clas']=='Other') & (df['Pclass']==1)]['Age'].fillna(a[0][0],inplace=False)\n",
        "#df[(df['Gen_Clas']=='Other') & (df['Pclass']==2)]['Age'].fillna(a[1][0],inplace=True)\n",
        "df[(df['Gen_Clas']=='Other') & (df['Pclass']==3)]['Age'].fillna(value=a[2][0], inplace=True)\n",
        "df[(df['Gen_Clas']=='Other') & (df['Pclass']==3)][['Age','Pclass','Gen_Clas']].head(10)\n",
        "\n",
        "#fill_na=df[df['Gen_Clas']=='Mr'][['Age','Pclass']].groupby('Pclass').mean()\n",
        "#df[(df['Gen_Clas']=='Mr') & (df['Pclass']==1)]['Age'].fillna(fill_na.loc[1],inplace=True)\n",
        "#df[(df['Gen_Clas']=='Mr') & (df['Pclass']==2)]['Age'].fillna(fill_na.loc[2],inplace=True)\n",
        "#df[(df['Gen_Clas']=='Mr') & (df['Pclass']==3)]['Age'].fillna(fill_na.loc[3],inplace=True)\n",
        "#\n",
        "#\n",
        "#fill_na=df[df['Gen_Clas']=='Mrs'][['Age','Pclass']].groupby('Pclass').mean()\n",
        "#df[(df['Gen_Clas']=='Mrs') & (df['Pclass']==1)]['Age'].fillna(fill_na.loc[1],inplace=True)\n",
        "#df[(df['Gen_Clas']=='Mrs') & (df['Pclass']==2)]['Age'].fillna(fill_na.loc[2],inplace=True)\n",
        "#df[(df['Gen_Clas']=='Mrs') & (df['Pclass']==3)]['Age'].fillna(fill_na.loc[3],inplace=True)\n",
        "#\n",
        "#\n",
        "#\n",
        "#fill_na=df[df['Gen_Clas']=='Miss'][['Age','Pclass']].groupby('Pclass').mean()\n",
        "#df[(df['Gen_Clas']=='Miss') & (df['Pclass']==1)]['Age'].fillna(fill_na.loc[1],inplace=True)\n",
        "#df[(df['Gen_Clas']=='Miss') & (df['Pclass']==2)]['Age'].fillna(fill_na.loc[2],inplace=True)\n",
        "#df[(df['Gen_Clas']=='Miss') & (df['Pclass']==3)]['Age'].fillna(fill_na.loc[3],inplace=True)\n",
        "#\n",
        "#\n",
        "#df[['Age','Gen_Clas','Pclass']]\n"
      ]
    },
    {
      "cell_type": "code",
      "execution_count": null,
      "metadata": {
        "_cell_guid": "1ae48f87-fb5b-6ce0-af28-336b6d2cd632"
      },
      "outputs": [],
      "source": [
        "fill_na=df[df['Gen_Clas']=='Mr'][['Age','Pclass']].groupby('Pclass').mean()\n",
        "fill_na.loc[3]\n",
        "#df[(df['Gen_Clas']=='Mr') & (df['Pclass']==1)]['Age'].fillna(fill_na.loc[1],inplace=True)\n",
        "#df[(df['Gen_Clas']=='Mr') & (df['Pclass']==2)]['Age'].fillna(fill_na.loc[2],inplace=True)\n",
        "df[(df['Gen_Clas']=='Mr') & (df['Pclass']==3)]['Age'].fillna(fill_na.loc[3],inplace=False).head(2)\n",
        "\n"
      ]
    },
    {
      "cell_type": "code",
      "execution_count": null,
      "metadata": {
        "_cell_guid": "05ff107f-c35d-3c71-8c55-c1245485e444"
      },
      "outputs": [],
      "source": [
        "print (df.info())"
      ]
    },
    {
      "cell_type": "markdown",
      "metadata": {
        "_cell_guid": "f94ae40d-4c1d-1026-7a47-899849a9512f"
      },
      "source": ""
    },
    {
      "cell_type": "code",
      "execution_count": null,
      "metadata": {
        "_cell_guid": "488f1ab1-0266-2d6c-9fcf-a805045d47b7"
      },
      "outputs": [],
      "source": [
        "df[['Pclass', 'Survived']].groupby(['Pclass'],as_index=False,axis=0).mean()"
      ]
    },
    {
      "cell_type": "markdown",
      "metadata": {
        "_cell_guid": "6b04cad7-b516-fc99-8763-7d1e0b07fa80"
      },
      "source": ""
    },
    {
      "cell_type": "code",
      "execution_count": null,
      "metadata": {
        "_cell_guid": "f2883fbb-c609-2bea-5a9a-7029dbae1ca8"
      },
      "outputs": [],
      "source": [
        "df[[\"Sex\", \"Survived\"]].groupby(['Sex'], as_index=False).mean()"
      ]
    },
    {
      "cell_type": "markdown",
      "metadata": {
        "_cell_guid": "b918c3f9-4004-22e4-d742-bb4b628add0b"
      },
      "source": ""
    },
    {
      "cell_type": "code",
      "execution_count": null,
      "metadata": {
        "_cell_guid": "aec3482f-8b84-5ad4-6e58-a9e61d1257ee"
      },
      "outputs": [],
      "source": [
        "for dataset in full_data:\n",
        "    dataset['FamilySize'] = dataset['SibSp'] + dataset['Parch'] + 1\n",
        "dataset[['FamilySize','Survived']].groupby(['FamilySize'], as_index=False).mean()\n"
      ]
    },
    {
      "cell_type": "code",
      "execution_count": null,
      "metadata": {
        "_cell_guid": "9af22e82-35f1-0cbd-ef02-8944ebb42208"
      },
      "outputs": [],
      "source": [
        "for dataset in full_data:\n",
        "    dataset['IsAlone'] = 0\n",
        "    dataset.loc[dataset['FamilySize'] == 1, 'IsAlone'] = 1\n",
        "\n",
        "#dataset.head(10)\n",
        "#dataset.loc[dataset['FamilySize'] == 1, 'IsAlone']\n",
        "#dataset['FamilySize']\n",
        "\n",
        "\n",
        "\n",
        "dataset[['IsAlone', 'Survived']].groupby(['IsAlone'], as_index=False).mean()"
      ]
    },
    {
      "cell_type": "markdown",
      "metadata": {
        "_cell_guid": "5ed7e6cd-8c46-3106-d59a-5296142cf6dc"
      },
      "source": ""
    },
    {
      "cell_type": "code",
      "execution_count": null,
      "metadata": {
        "_cell_guid": "64347b52-fe8a-874f-e649-6f0f2d0a914f"
      },
      "outputs": [],
      "source": [
        "for dataset in full_data:\n",
        "    dataset['Embarked'] = dataset['Embarked'].fillna('S')\n",
        "dataset.head(2)\n",
        "df[['Embarked', 'Survived']].groupby(['Embarked'], as_index=False).mean()"
      ]
    },
    {
      "cell_type": "markdown",
      "metadata": {
        "_cell_guid": "a3cb9b97-af8f-47a4-69d2-6342a819bb37"
      },
      "source": ""
    },
    {
      "cell_type": "code",
      "execution_count": null,
      "metadata": {
        "_cell_guid": "14e46067-a431-dd7c-bddd-de4d6bd61544"
      },
      "outputs": [],
      "source": [
        "for dataset in full_data:\n",
        "    dataset['Fare'] = dataset['Fare'].fillna(df['Fare'].median())\n",
        "    #print(dataset['Fare'])\n",
        "    \n",
        "df['CategoricalFare'] = pd.qcut(df['Fare'], 4)\n",
        "#df\n",
        "df[['CategoricalFare', 'Survived']].groupby(['CategoricalFare'], as_index=False).mean()"
      ]
    },
    {
      "cell_type": "markdown",
      "metadata": {
        "_cell_guid": "d2635fb7-c54d-e731-003f-b3e016eaeeb6"
      },
      "source": ""
    },
    {
      "cell_type": "code",
      "execution_count": null,
      "metadata": {
        "_cell_guid": "39e7e5b0-f336-fccb-9200-e8a7d1efc8c3"
      },
      "outputs": [],
      "source": ""
    },
    {
      "cell_type": "markdown",
      "metadata": {
        "_cell_guid": "eee261ba-96b7-7755-aead-4e68aaef17f0"
      },
      "source": ""
    },
    {
      "cell_type": "code",
      "execution_count": null,
      "metadata": {
        "_cell_guid": "8930f5b1-3310-0091-2a0b-e218338468bb"
      },
      "outputs": [],
      "source": [
        "def get_title(name):\n",
        "    title_search = re.search(' ([A-Za-z]+)\\.', name)\n",
        "    #print(title_search,name)\n",
        "    #If the title exists, extract and return it.\n",
        "    \n",
        "    if title_search:\n",
        "        return title_search.group(1)\n",
        "    return \"\"\n",
        "\n",
        "for dataset in full_data:\n",
        "    dataset['Title'] = dataset['Name'].apply(get_title)\n",
        "\n",
        "#dataset\n",
        "#pd.crosstab(df['Title'], df['Sex'])\n",
        "\n",
        "dataset[['Title','Survived']].groupby('Title',as_index=False).mean()"
      ]
    },
    {
      "cell_type": "code",
      "execution_count": null,
      "metadata": {
        "_cell_guid": "a4413f61-d19b-1abd-ea09-ad8af0aedf42"
      },
      "outputs": [],
      "source": [
        "def get_title(name):\n",
        "    title_search = re.search(' ([A-Za-z]+)\\.', name)\n",
        "    #print(title_search,name)\n",
        "    #If the title exists, extract and return it.\n",
        "    \n",
        "    if title_search:\n",
        "        return title_search.group(1)\n",
        "    return \"\"\n",
        "\n",
        "for dataset in full_data:\n",
        "    dataset['Title'] = dataset['Name'].apply(get_title)\n",
        "\n",
        "#dataset\n",
        "pd.crosstab(df['Title'], df['Sex'])"
      ]
    },
    {
      "cell_type": "code",
      "execution_count": null,
      "metadata": {
        "_cell_guid": "8f15e4ac-a9a7-18eb-38cd-ec57f2f4f0c6"
      },
      "outputs": [],
      "source": [
        "for dataset in full_data:\n",
        "    dataset['Title'] = dataset['Title'].replace(['Lady', 'Countess','Capt', 'Col',\\\n",
        " \t'Don', 'Dr', 'Major', 'Rev', 'Sir', 'Jonkheer', 'Dona'], 'Rare')\n",
        "\n",
        "    dataset['Title'] = dataset['Title'].replace('Mlle', 'Miss')\n",
        "    dataset['Title'] = dataset['Title'].replace('Ms', 'Miss')\n",
        "    dataset['Title'] = dataset['Title'].replace('Mme', 'Mrs')\n",
        "\n",
        "df[['Title', 'Survived']].groupby(['Title'], as_index=False).mean()"
      ]
    },
    {
      "cell_type": "code",
      "execution_count": null,
      "metadata": {
        "_cell_guid": "c4586532-a24e-dcec-003f-4902a578ab0c",
        "collapsed": true
      },
      "outputs": [],
      "source": ""
    },
    {
      "cell_type": "markdown",
      "metadata": {
        "_cell_guid": "0adb2a52-3702-8eb6-104f-54bf4db97f9c"
      },
      "source": ""
    },
    {
      "cell_type": "code",
      "execution_count": null,
      "metadata": {
        "_cell_guid": "330ec897-5bb6-2ff8-24f7-1bafbd7a3d85"
      },
      "outputs": [],
      "source": [
        "\n",
        "#train=pd.read_csv('/Users/vishnoiprem/Udemy/kaggle/titanic/train.csv', header = 0, dtype={'Age': np.float64})\n",
        "train = pd.read_csv('../input/train.csv', header = 0, dtype={'Age': np.float64})\n",
        "\n",
        "\n",
        "def get_title(name):\n",
        "    title_search = re.search(' ([A-Za-z]+)\\.', name)\n",
        "    #print(title_search,name)\n",
        "    #If the title exists, extract and return it.\n",
        "    \n",
        "    if title_search:\n",
        "        return title_search.group(1)\n",
        "    return \"\"\n",
        "\n",
        "for dataset in [train]:\n",
        "    dataset['Title'] = dataset['Name'].apply(get_title)\n",
        "\n",
        "for dataset in [train]:\n",
        "    dataset['Embarked'] = dataset['Embarked'].fillna('S')\n",
        "#train.head(10)\n",
        "#pd.crosstab(df['Title'], df['Sex'])\n",
        "\n",
        "for dataset in [train]:\n",
        "    dataset['Title'] = dataset['Title'].replace(['Lady', 'Countess','Capt', 'Col',\\\n",
        " \t'Don', 'Dr', 'Major', 'Rev', 'Sir', 'Jonkheer', 'Dona'], 'Rare')\n",
        "\n",
        "    dataset['Title'] = dataset['Title'].replace('Mlle', 'Miss')\n",
        "    dataset['Title'] = dataset['Title'].replace('Ms', 'Miss')\n",
        "    dataset['Title'] = dataset['Title'].replace('Mme', 'Mrs')\n",
        "\n",
        "for dataset in [train]:\n",
        "    age_avg   = dataset['Age'].mean()\n",
        "    age_std   = dataset['Age'].std()\n",
        "    age_null_count = dataset['Age'].isnull().sum()\n",
        "    #print(age_avg,age_std,age_null_count)\n",
        "    \n",
        "    age_null_random_list = np.random.randint(age_avg - age_std, age_avg + age_std, size=age_null_count)\n",
        "    #print(age_null_random_list)\n",
        "    dataset['Age'][np.isnan(dataset['Age'])] = age_null_random_list\n",
        "    dataset['Age'] = dataset['Age'].astype(int)\n",
        "\n",
        "\n",
        "\n",
        "for dataset in [train]:\n",
        "    # Mapping Sex\n",
        "    dataset['Sex'] = dataset['Sex'].map( {'female': 0, 'male': 1} ).astype(int)\n",
        "# Mapping titles\n",
        "    title_mapping = {\"Mr\": 1, \"Miss\": 2, \"Mrs\": 3, \"Master\": 4, \"Rare\": 5}\n",
        "    dataset['Title'] = dataset['Title'].map(title_mapping)\n",
        "    dataset['Title'] = dataset['Title'].fillna(0)\n",
        "    # Mapping Embarked\n",
        "    dataset['Embarked'] = dataset['Embarked'].map( {'S': 0, 'C': 1, 'Q': 2} ).astype(int)\n",
        " \n",
        " # Mapping Fare\n",
        "    dataset.loc[ dataset['Fare'] <= 7.91, 'Fare'] \t\t\t\t\t\t        = 0\n",
        "    dataset.loc[(dataset['Fare'] > 7.91) & (dataset['Fare'] <= 14.454), 'Fare'] = 1\n",
        "    dataset.loc[(dataset['Fare'] > 14.454) & (dataset['Fare'] <= 31), 'Fare']   = 2\n",
        "    dataset.loc[ dataset['Fare'] > 31, 'Fare'] \t\t\t\t\t\t\t        = 3\n",
        "    dataset['Fare'] = dataset['Fare'].astype(int)\n",
        "    \n",
        "    # Mapping Age\n",
        "    dataset.loc[ dataset['Age'] <= 16, 'Age'] \t\t\t\t\t       = 0\n",
        "    dataset.loc[(dataset['Age'] > 16) & (dataset['Age'] <= 32), 'Age'] = 1\n",
        "    dataset.loc[(dataset['Age'] > 32) & (dataset['Age'] <= 48), 'Age'] = 2\n",
        "    dataset.loc[(dataset['Age'] > 48) & (dataset['Age'] <= 64), 'Age'] = 3\n",
        "    dataset.loc[ dataset['Age'] > 64, 'Age']                           = 4\n",
        "\n",
        "\n",
        "drop_elements = ['PassengerId', 'Name', 'Ticket', 'Cabin', 'SibSp',\\\n",
        "                 'Parch']\n",
        "train = train.drop(drop_elements, axis = 1)\n",
        "\n",
        "\n",
        "train.head(10)"
      ]
    },
    {
      "cell_type": "code",
      "execution_count": null,
      "metadata": {
        "_cell_guid": "5e865e50-e9d7-3727-8704-41a609aada9b",
        "collapsed": true
      },
      "outputs": [],
      "source": ""
    },
    {
      "cell_type": "code",
      "execution_count": null,
      "metadata": {
        "_cell_guid": "92970c28-2dd4-bce6-9dc3-2b75d3fdfeb1"
      },
      "outputs": [],
      "source": [
        "train"
      ]
    },
    {
      "cell_type": "markdown",
      "metadata": {
        "_cell_guid": "91f131a0-6404-bd60-8ee5-9768d84bfc53"
      },
      "source": ""
    },
    {
      "cell_type": "code",
      "execution_count": null,
      "metadata": {
        "_cell_guid": "6833d291-64fa-7762-0415-fecba5aed1a6"
      },
      "outputs": [],
      "source": [
        "#train=pd.read_csv('/Users/vishnoiprem/Udemy/kaggle/titanic/train.csv')\n",
        "#test=pd.read_csv('/Users/vishnoiprem/Udemy/kaggle/titanic/train.csv')\n",
        "train= pd.read_csv('../input/train.csv')\n",
        "test = pd.read_csv('../input/test.csv')\n",
        "train.head(3)\n",
        "\n"
      ]
    },
    {
      "cell_type": "code",
      "execution_count": null,
      "metadata": {
        "_cell_guid": "7c9b30e4-b187-3f51-6a3a-b04ae105c75a"
      },
      "outputs": [],
      "source": [
        "sns.countplot(train['Survived'])"
      ]
    },
    {
      "cell_type": "code",
      "execution_count": null,
      "metadata": {
        "_cell_guid": "041da0e5-61fd-1752-a0ff-17b9f1799c47"
      },
      "outputs": [],
      "source": [
        "sns.factorplot('Pclass', 'Survived', data=train, hue='Sex')"
      ]
    },
    {
      "cell_type": "code",
      "execution_count": null,
      "metadata": {
        "_cell_guid": "fd80d4c5-00ff-6357-cbfd-060f6ac02299"
      },
      "outputs": [],
      "source": [
        "train['Age'].fillna(train['Age'].median(), inplace=True)\n",
        "sns.countplot(train['Survived'], hue=train['Sex'])"
      ]
    },
    {
      "cell_type": "code",
      "execution_count": null,
      "metadata": {
        "_cell_guid": "6bc79468-68c8-6fcd-16a6-da063a663766"
      },
      "outputs": [],
      "source": [
        "sns.countplot(train['Embarked'])"
      ]
    },
    {
      "cell_type": "code",
      "execution_count": null,
      "metadata": {
        "_cell_guid": "0c494632-9322-893f-a936-48557b382550"
      },
      "outputs": [],
      "source": [
        "sns.boxplot(train['Survived'],train['Fare'], hue= train['Embarked'])"
      ]
    },
    {
      "cell_type": "code",
      "execution_count": null,
      "metadata": {
        "_cell_guid": "8ca3bcd4-0c9b-2597-a68a-29c2629c9e40"
      },
      "outputs": [],
      "source": [
        "train[train['Embarked'].isnull()]"
      ]
    },
    {
      "cell_type": "code",
      "execution_count": null,
      "metadata": {
        "_cell_guid": "202dd463-d9c1-9dde-07eb-d8a932563ab7"
      },
      "outputs": [],
      "source": ""
    },
    {
      "cell_type": "code",
      "execution_count": null,
      "metadata": {
        "_cell_guid": "3183b36a-c7a1-5a24-e041-a974cf99587a"
      },
      "outputs": [],
      "source": ""
    },
    {
      "cell_type": "code",
      "execution_count": null,
      "metadata": {
        "_cell_guid": "56c7799c-9116-0ef6-6195-f2ae8d41e795"
      },
      "outputs": [],
      "source": ""
    },
    {
      "cell_type": "code",
      "execution_count": null,
      "metadata": {
        "_cell_guid": "efbf26e0-fdd0-f9f4-d501-25e8323e9937"
      },
      "outputs": [],
      "source": ""
    },
    {
      "cell_type": "code",
      "execution_count": null,
      "metadata": {
        "_cell_guid": "32a558f9-f5e5-e2f2-18c7-784fd3849618"
      },
      "outputs": [],
      "source": ""
    },
    {
      "cell_type": "code",
      "execution_count": null,
      "metadata": {
        "_cell_guid": "0972ba42-a399-9f10-5c92-03922f5b550b"
      },
      "outputs": [],
      "source": ""
    },
    {
      "cell_type": "code",
      "execution_count": null,
      "metadata": {
        "_cell_guid": "804d1806-32de-851f-8f27-ca3df94feba2"
      },
      "outputs": [],
      "source": ""
    },
    {
      "cell_type": "code",
      "execution_count": null,
      "metadata": {
        "_cell_guid": "6989684b-0aa3-281e-eec9-eb1dec981e7d"
      },
      "outputs": [],
      "source": ""
    },
    {
      "cell_type": "code",
      "execution_count": null,
      "metadata": {
        "_cell_guid": "b12aef4d-67e2-6028-e4ac-cef645e8df0d"
      },
      "outputs": [],
      "source": ""
    },
    {
      "cell_type": "code",
      "execution_count": null,
      "metadata": {
        "_cell_guid": "026efcc8-56f5-bbb2-4d27-663ba4c3061b",
        "collapsed": true
      },
      "outputs": [],
      "source": ""
    }
  ],
  "metadata": {
    "_change_revision": 0,
    "_is_fork": false,
    "kernelspec": {
      "display_name": "Python 3",
      "language": "python",
      "name": "python3"
    },
    "language_info": {
      "codemirror_mode": {
        "name": "ipython",
        "version": 3
      },
      "file_extension": ".py",
      "mimetype": "text/x-python",
      "name": "python",
      "nbconvert_exporter": "python",
      "pygments_lexer": "ipython3",
      "version": "3.6.0"
    }
  },
  "nbformat": 4,
  "nbformat_minor": 0
}