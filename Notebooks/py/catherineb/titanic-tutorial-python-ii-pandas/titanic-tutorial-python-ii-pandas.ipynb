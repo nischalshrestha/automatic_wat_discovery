{
  "cells": [
    {
      "cell_type": "markdown",
      "metadata": {
        "_cell_guid": "4a1d9f73-6a63-12e9-759d-7ebe00672d45"
      },
      "source": [
        "# Getting started with Python II\n",
        "\n",
        "I followed the tutorial here:\n",
        "https://www.kaggle.com/c/titanic/details/getting-started-with-python-ii\n",
        "\n",
        "*with Pandas*"
      ]
    },
    {
      "cell_type": "code",
      "execution_count": null,
      "metadata": {
        "_cell_guid": "298af68d-0570-4a6d-2551-0e5a74141f2e"
      },
      "outputs": [],
      "source": [
        "# This Python 3 environment comes with many helpful analytics libraries installed\n",
        "# It is defined by the kaggle/python docker image: https://github.com/kaggle/docker-python\n",
        "# For example, here's several helpful packages to load in \n",
        "\n",
        "import numpy as np # linear algebra\n",
        "import pandas as pd # data processing, CSV file I/O (e.g. pd.read_csv)\n",
        "\n",
        "# Input data files are available in the \"../input/\" directory.\n",
        "# For example, running this (by clicking run or pressing Shift+Enter) will list the files in the input directory\n",
        "\n",
        "from subprocess import check_output\n",
        "print(check_output([\"ls\", \"../input\"]).decode(\"utf8\"))\n",
        "\n",
        "# Any results you write to the current directory are saved as output."
      ]
    },
    {
      "cell_type": "code",
      "execution_count": null,
      "metadata": {
        "_cell_guid": "94ba9cc3-ea26-c207-8cc5-ed1a96837063"
      },
      "outputs": [],
      "source": [
        "# load the data\n",
        "# use Pandas own functions to read or write .csv files\n",
        "# Pandas infers numerical types (so now not every column is\n",
        "# a string, have int and floats - df.dtypes )\n",
        "\n",
        "df = pd.read_csv('../input/train.csv', header=0)\n",
        "\n",
        "# display: df, def.head(n), df.tail(n)\n",
        "# use df.info() - tells # rows, # non-null entries per column\n",
        "# and datatype\n",
        "# use df.describe() - calculates mean, std, min, max of \n",
        "# all numerical columns (left nulls out of calculation)"
      ]
    },
    {
      "cell_type": "code",
      "execution_count": null,
      "metadata": {
        "_cell_guid": "398c8eef-b2b6-536c-4cf0-ce93b5d57126"
      },
      "outputs": [],
      "source": [
        "# df['Age'][0:10] gives same as df.Age[0:10]\n",
        "# results is a data Series\n",
        "# df['Age'].mean() gives mean age\n",
        "# subset of data using: df[ ['Sex', 'Pclass', 'Age'] ]\n",
        "# filter data: df[df['Age'] > 60] gives passengers over 60\n",
        "# combine: df[df['Age'] > 60][['Sex', 'Pclass', 'Age', 'Survived']]\n",
        "# filter missing values: df[df['Age'].isnull()][['Sex', 'Pclass', 'Age', 'Survived']]\n",
        "\n",
        "# combine criteria:\n",
        "for i in range(1,4):\n",
        "    print (i, len(df[ (df['Sex'] == \"male\") & (df['Pclass'] == i)]) )"
      ]
    },
    {
      "cell_type": "code",
      "execution_count": null,
      "metadata": {
        "_cell_guid": "71e8ca42-a045-5a56-5402-30b877ea201a"
      },
      "outputs": [],
      "source": [
        "# draw a histogram (shortcut to features of matplotlib/pylab packages)\n",
        "import pylab as P\n",
        "df['Age'].hist()\n",
        "P.show()"
      ]
    },
    {
      "cell_type": "code",
      "execution_count": null,
      "metadata": {
        "_cell_guid": "f1e4e97e-6e44-65ec-de5c-6050bb9c2735"
      },
      "outputs": [],
      "source": [
        "df['Age'].dropna().hist(bins=16, range=(0,80), alpha=.5)\n",
        "P.show()"
      ]
    },
    {
      "cell_type": "markdown",
      "metadata": {
        "_cell_guid": "925b7ef4-de9e-12be-de8b-e60bcaf0292e"
      },
      "source": [
        "## Cleaning the data"
      ]
    },
    {
      "cell_type": "code",
      "execution_count": null,
      "metadata": {
        "_cell_guid": "15057928-0288-5ca2-b74a-dd52e89cdc1f"
      },
      "outputs": [],
      "source": [
        "# difficult to run analysis of strings of \"male\" and \"female\"\n",
        "# transform it\n",
        "\n",
        "# add a column with 4 for every value\n",
        "df['Gender'] = 4\n",
        "\n",
        "# use values in 'Sex' coloumn to update 'Gender' column\n",
        "df['Gender'] = df['Sex'].map( lambda x: x[0].upper() )\n",
        "# Gender column now has 'M' and 'F'\n",
        "\n",
        "# but ideally would like Gender as a binary integer\n",
        "# female = 0; male = 1\n",
        "df['Gender'] = df['Sex'].map( {'female': 0, 'male': 1} ).astype(int)\n",
        "\n",
        "# try same for embarked values\n",
        "df['Embarked'].unique() "
      ]
    },
    {
      "cell_type": "code",
      "execution_count": null,
      "metadata": {
        "_cell_guid": "290b7fec-166a-1c2b-372d-d562763a44de"
      },
      "outputs": [],
      "source": [
        "# add new column\n",
        "df['Origin'] = 4\n",
        "\n",
        "# 'S' = 0, 'C' = 1, 'Q' = 2, nan=4\n",
        "df['Origin'] = df['Embarked'].dropna().map( {'S':0, 'C':1, 'Q':2} ).astype(int)\n",
        "\n",
        "df.head(15)"
      ]
    },
    {
      "cell_type": "code",
      "execution_count": null,
      "metadata": {
        "_cell_guid": "2748d348-b997-564e-4d6b-123700dd0080"
      },
      "outputs": [],
      "source": [
        "# deal with missing values of Age\n",
        "# fill in missing values with guesses\n",
        "# age histogram positively skewed, so median seems better than mean\n",
        "# use age typical in each passanger class\n",
        "\n",
        "median_ages = np.zeros((2,3))\n",
        "\n",
        "for i in range(0,2):\n",
        "    for j in range(0,3):\n",
        "        median_ages[i,j] = df[(df['Gender'] == i) &\\\n",
        "                             (df['Pclass'] == j+1)]['Age'].dropna().median()\n",
        "        \n",
        "median_ages"
      ]
    },
    {
      "cell_type": "code",
      "execution_count": null,
      "metadata": {
        "_cell_guid": "61db9b62-f9a8-08e5-d6b0-59debe171121"
      },
      "outputs": [],
      "source": [
        "# make a new column where any null ages will be replaced by median for that class\n",
        "# make a copy of Age\n",
        "df['AgeFill'] = df['Age']\n",
        "\n",
        "df[ df['Age'].isnull() ][['Gender', 'Pclass', 'Age', 'AgeFill']].head(10)"
      ]
    },
    {
      "cell_type": "code",
      "execution_count": null,
      "metadata": {
        "_cell_guid": "08878d2a-7139-13a1-0922-48fb0f57d108"
      },
      "outputs": [],
      "source": [
        "# assign median ages\n",
        "for i in range(0,2):\n",
        "    for j in range(0,3):\n",
        "        df.loc[ (df.Age.isnull()) & (df.Gender == i) & (df.Pclass == j+1),\\\n",
        "              'AgeFill'] = median_ages[i,j]\n",
        "        \n",
        "      \n",
        "df[ df['Age'].isnull() ][['Gender','Pclass','Age','AgeFill']].head(10)"
      ]
    },
    {
      "cell_type": "code",
      "execution_count": null,
      "metadata": {
        "_cell_guid": "49d6bafa-5c7b-ae2c-107b-83e78f313edf"
      },
      "outputs": [],
      "source": [
        "# create feature which records whether the Age was originally missing\n",
        "df['AgeIsNull'] = pd.isnull(df.Age).astype(int)\n"
      ]
    },
    {
      "cell_type": "code",
      "execution_count": null,
      "metadata": {
        "_cell_guid": "aef36ab2-9341-594b-3ba8-7a6beae3cc5a"
      },
      "outputs": [],
      "source": [
        "# Parch = number of parents or children on board\n",
        "# SibSp = number of siblings or spouses\n",
        "df['FamilySize'] = df['SibSp'] + df['Parch']\n",
        "\n",
        "# create new feature\n",
        "df['Age*Class'] = df.AgeFill * df.Pclass\n",
        "\n",
        "df['FamilySize'].dropna().hist()\n"
      ]
    },
    {
      "cell_type": "code",
      "execution_count": null,
      "metadata": {
        "_cell_guid": "23ade04f-d1a1-6028-c378-6d0856837a5c"
      },
      "outputs": [],
      "source": [
        "df['Age*Class'].dropna().hist()"
      ]
    },
    {
      "cell_type": "code",
      "execution_count": null,
      "metadata": {
        "_cell_guid": "e13b2cff-c259-8c89-be09-7268ef7c482f"
      },
      "outputs": [],
      "source": [
        "# ML techniques don't usually work on strings\n",
        "# pythin requires data to be an array\n",
        "# sklearn package not written to use a pandas dataframe\n",
        "# (1) determine what columns are left which are not numeric\n",
        "# (2) send the pandas.DataFrame back to a numpy.array\n",
        "\n",
        "# in pandas, see column types using .info() or df.dtypes\n",
        "# use .dtypes to show which columns are an object:\n",
        "df.dtypes[df.dtypes.map(lambda x: x=='object')]"
      ]
    },
    {
      "cell_type": "code",
      "execution_count": null,
      "metadata": {
        "_cell_guid": "e6a046dc-f67b-e248-b7dd-b9a43137cd30"
      },
      "outputs": [],
      "source": [
        "# drop column we will not use:\n",
        "df = df.drop(['Name', 'Sex', 'Ticket', 'Cabin', 'Embarked'], axis=1)\n",
        "\n",
        "# can also drop Age, as now have AgeFill\n",
        "df = df.drop(['Age'], axis=1)\n",
        "\n",
        "# alternative command to srop any rows which still have missing values:\n",
        "df = df.dropna()"
      ]
    },
    {
      "cell_type": "code",
      "execution_count": null,
      "metadata": {
        "_cell_guid": "c3d479da-94bf-c6b2-8d7f-e0ebb34eb234"
      },
      "outputs": [],
      "source": [
        "# convert to numpy array\n",
        "train_data = df.values\n",
        "train_data"
      ]
    },
    {
      "cell_type": "code",
      "execution_count": null,
      "metadata": {
        "_cell_guid": "825dd461-49e4-7da2-7346-db2ba3c609ea"
      },
      "outputs": [],
      "source": [
        "data"
      ]
    },
    {
      "cell_type": "code",
      "execution_count": null,
      "metadata": {
        "_cell_guid": "9b7438dc-9327-6702-7bfc-730921ef9521"
      },
      "outputs": [],
      "source": ""
    }
  ],
  "metadata": {
    "_change_revision": 0,
    "_is_fork": false,
    "kernelspec": {
      "display_name": "Python 3",
      "language": "python",
      "name": "python3"
    },
    "language_info": {
      "codemirror_mode": {
        "name": "ipython",
        "version": 3
      },
      "file_extension": ".py",
      "mimetype": "text/x-python",
      "name": "python",
      "nbconvert_exporter": "python",
      "pygments_lexer": "ipython3",
      "version": "3.5.2"
    }
  },
  "nbformat": 4,
  "nbformat_minor": 0
}