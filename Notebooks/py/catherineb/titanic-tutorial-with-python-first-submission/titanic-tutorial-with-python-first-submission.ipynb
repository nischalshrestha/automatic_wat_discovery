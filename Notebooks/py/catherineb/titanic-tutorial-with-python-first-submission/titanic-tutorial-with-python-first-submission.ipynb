{
  "cells": [
    {
      "cell_type": "markdown",
      "metadata": {
        "_cell_guid": "c5a4ead8-38dc-b390-7853-75a190e1f2b2"
      },
      "source": [
        "# First submission\n",
        "\n",
        "Outcome predicted based on gender\n",
        "\n",
        "This follows the \"Getting started with Python\" tutorial:\n",
        "https://www.kaggle.com/c/titanic/details/getting-started-with-python"
      ]
    },
    {
      "cell_type": "code",
      "execution_count": null,
      "metadata": {
        "_cell_guid": "00444494-044d-858b-8e53-3c77cdac58ab"
      },
      "outputs": [],
      "source": [
        "# This Python 3 environment comes with many helpful analytics libraries installed\n",
        "# It is defined by the kaggle/python docker image: https://github.com/kaggle/docker-python\n",
        "# For example, here's several helpful packages to load in \n",
        "\n",
        "import numpy as np # linear algebra\n",
        "import pandas as pd # data processing, CSV file I/O (e.g. pd.read_csv)\n",
        "\n",
        "# Input data files are available in the \"../input/\" directory.\n",
        "# For example, running this (by clicking run or pressing Shift+Enter) will list the files in the input directory\n",
        "\n",
        "from subprocess import check_output\n",
        "print(check_output([\"ls\", \"../input\"]).decode(\"utf8\"))\n",
        "\n",
        "# Any results you write to the current directory are saved as output."
      ]
    },
    {
      "cell_type": "code",
      "execution_count": null,
      "metadata": {
        "_cell_guid": "c51bfef3-80c1-17a7-988c-41a4882ac550"
      },
      "outputs": [],
      "source": [
        "# import relevant packages\n",
        "\n",
        "import csv as csv # for reading and writing csv files\n",
        "\n",
        "# open the csv file in to a Python object\n",
        "csv_file_object = csv.reader(open('../input/train.csv'))\n",
        "\n",
        "header = next(csv_file_object) # next() command skips the first\n",
        "                                # line which is a header\n",
        "print(header)\n",
        "\n",
        "data = []  # create a variable called 'data'\n",
        "\n",
        "# run through aech row in the csv file, adding each row\n",
        "# to the data variable\n",
        "for row in csv_file_object:\n",
        "    data.append(row)\n",
        "    \n",
        "# covert from a list to an array\n",
        "# NB each item is currently a STRING\n",
        "data = np.array(data)"
      ]
    },
    {
      "cell_type": "code",
      "execution_count": null,
      "metadata": {
        "_cell_guid": "90d75d2f-1d18-001b-7d85-a0a0f6c95085"
      },
      "outputs": [],
      "source": [
        "print(data) # data is an array with just values (no header)\n",
        "            # values stored as strings"
      ]
    },
    {
      "cell_type": "code",
      "execution_count": null,
      "metadata": {
        "_cell_guid": "02e89505-98ad-8927-df29-d9bb183c911a"
      },
      "outputs": [],
      "source": [
        "print(data[0]) # see first row\n",
        "print(data[-1]) # and last row\n",
        "print(data[0,3]) # see 1st row, 4th column"
      ]
    },
    {
      "cell_type": "code",
      "execution_count": null,
      "metadata": {
        "_cell_guid": "f3605b14-ccd2-2841-ef44-f519f28ff0e9"
      },
      "outputs": [],
      "source": [
        "# if want specific column, e.g. gender column:\n",
        "# data[0::,4]\n",
        "# will need to convert strings to floats to do calculations\n",
        "# e.g Pclass into floats: data[0::,2].astype(np.float)\n",
        "\n",
        "# The size() function counts how many elements are in\n",
        "# the array and sum() sums the elements in the array\n",
        "\n",
        "# calculate the proportion of survivors on the Titanic\n",
        "number_passengers = np.size(data[0::,1].astype(np.float))\n",
        "number_survived = np.sum(data[0::,1].astype(np.float))\n",
        "proportion_survivors = number_survived / number_passengers\n",
        "\n",
        "print(proportion_survivors)"
      ]
    },
    {
      "cell_type": "code",
      "execution_count": null,
      "metadata": {
        "_cell_guid": "8bab84af-e8c3-bad5-5105-8f12aaca24f9"
      },
      "outputs": [],
      "source": [
        "# determine number of females and males that survived\n",
        "women_only_stats = data[0::,4] == \"female\" # finds where all\n",
        "                                           # elements of the gender\n",
        "                                           # column that equal \"female\"\n",
        "men_only_stats = data[0::,4] != \"female\" # finds where all the\n",
        "                                         # elements do not equal\n",
        "                                         # female (i.e. male)\n",
        "# use these new variables as a \"mask\" on our original data\n",
        "# to get stats on only men and only women"
      ]
    },
    {
      "cell_type": "code",
      "execution_count": null,
      "metadata": {
        "_cell_guid": "e3b6be18-4828-44ef-aeb6-f4f4350f53b2"
      },
      "outputs": [],
      "source": [
        "# Using the index from above select femails and males separately\n",
        "women_onboard = data[women_only_stats,1].astype(np.float)\n",
        "men_onboard = data[men_only_stats,1].astype(np.float)\n",
        "\n",
        "# Find the proportion of women and proportion of men that survived\n",
        "proportion_women_survived = np.sum(women_onboard) / np.size(women_onboard)\n",
        "proportion_men_survived = np.sum(men_onboard) / np.size(men_onboard)\n",
        "\n",
        "print('Proportion of women who survived is %s' % proportion_women_survived)\n",
        "print('Proportion of men who survived is %s' % proportion_men_survived)"
      ]
    },
    {
      "cell_type": "markdown",
      "metadata": {
        "_cell_guid": "2879142e-bdd0-cae9-a062-ca2aaa2558bb"
      },
      "source": [
        "# reading the test data and writing the gender model as a csv"
      ]
    },
    {
      "cell_type": "code",
      "execution_count": null,
      "metadata": {
        "_cell_guid": "d47a9ff0-4715-6496-7bfe-5f92e740c7ae"
      },
      "outputs": [],
      "source": [
        "# read in the test.csv and skip the header line\n",
        "test_file = open('../input/test.csv')\n",
        "test_file_object = csv.reader(test_file)\n",
        "header = next(test_file_object)"
      ]
    },
    {
      "cell_type": "code",
      "execution_count": null,
      "metadata": {
        "_cell_guid": "7c39cc02-0f5b-fad1-7191-a0c92d3ac26d"
      },
      "outputs": [],
      "source": [
        "# open a pointer to a new file so we can write to it\n",
        "# (the file does not exit yet)\n",
        "prediction_file = open(\"first_genderbasedmodel.csv\", \"wt\", newline='\\n')\n",
        "prediction_file_object = csv.writer(prediction_file)"
      ]
    },
    {
      "cell_type": "code",
      "execution_count": null,
      "metadata": {
        "_cell_guid": "fb333688-e37a-c9c9-3573-d6b47005cabf"
      },
      "outputs": [],
      "source": [
        "# read the test file row by row\n",
        "# see if male or femail and write survival prediction to a new file\n",
        "prediction_file_object.writerow([\"PassengerId\", \"Survived\"])\n",
        "for row in test_file_object:\n",
        "    if row[4] == 'female':\n",
        "        prediction_file_object.writerow([row[0], '1']) # predict 1\n",
        "    else:\n",
        "        prediction_file_object.writerow([row[0], '0']) # predict 0\n",
        "test_file.close()\n",
        "prediction_file.close()"
      ]
    },
    {
      "cell_type": "markdown",
      "metadata": {
        "_cell_guid": "fab1e699-287e-3640-ded5-3a50ba99d6bd"
      },
      "source": [
        "# Second submission\n",
        "\n",
        "Outcome predicted based on gender, class and fare"
      ]
    },
    {
      "cell_type": "code",
      "execution_count": null,
      "metadata": {
        "_cell_guid": "ecbb93b3-41c1-0890-000f-c1b57f5fae03"
      },
      "outputs": [],
      "source": [
        "# idea is to create a table which contains just 1s and 0s.\n",
        "# this will be a survivor reference table. \n",
        "# read test data, find passenger attributes, look them up in the table\n",
        "# determine if survived or not\n",
        "# array will be 2x3x4\n",
        "# ([female/male],[1st/2nd/3rd class],[4 bins of prices])\n",
        "# assume any fare >40 \"equals\" 39\n",
        "\n",
        "# add a ceiling to fares\n",
        "fare_ceiling = 40\n",
        "# modify the data in the Fare column to =39 if >=ceiling\n",
        "data[ data[0::,9].astype(np.float) >= fare_ceiling, 9 ] = fare_ceiling - 1\n",
        "\n",
        "fare_bracket_size = 10\n",
        "number_of_price_brackets = fare_ceiling // fare_bracket_size\n",
        "\n",
        "# know there were 1st, 2nd and 3rd classes\n",
        "number_of_classes = 3\n",
        "\n",
        "# better to calculate this from the data directly\n",
        "# take the length of an array of unique values in column index 2\n",
        "number_of_classes = len(np.unique(data[0::, 2]))\n",
        "\n",
        "# initialise the survival table with all zeros\n",
        "survival_table = np.zeros((2, number_of_classes, number_of_price_brackets))"
      ]
    },
    {
      "cell_type": "code",
      "execution_count": null,
      "metadata": {
        "_cell_guid": "aea9cdc5-1ec6-c7a7-b731-5d61f44b0eec"
      },
      "outputs": [],
      "source": [
        "# loop through each variable and find those passengers that agree with the statements:\n",
        "for i in range(number_of_classes):\n",
        "    for j in range(number_of_price_brackets):\n",
        "        \n",
        "        women_only_stats = data[\\\n",
        "                               (data[0::,4] == \"female\")\\\n",
        "                               &(data[0::,2].astype(np.float)\\\n",
        "                                == i+1)\\\n",
        "                               &(data[0:,9].astype(np.float)\\\n",
        "                                >= j*fare_bracket_size)\\\n",
        "                               &(data[0:,9].astype(np.float)\\\n",
        "                                < (j+1)*fare_bracket_size)\\\n",
        "                               , 1]\n",
        "        \n",
        "        men_only_stats = data[\\\n",
        "                            (data[0::,4] != \"female\")\\\n",
        "                            &(data[0::,2].astype(np.float)\\\n",
        "                             == i+1)\\\n",
        "                            &(data[0:,9].astype(np.float)\\\n",
        "                             >= j*fare_bracket_size)\\\n",
        "                            &(data[0:,9].astype(np.float)\\\n",
        "                             < (j+1)*fare_bracket_size)\\\n",
        "                            , 1]\n",
        "        \n",
        "        survival_table[0,i,j] = np.mean(women_only_stats.astype(np.float))\n",
        "        survival_table[1,i,j] = np.mean(men_only_stats.astype(np.float))\n",
        "        survival_table[ survival_table != survival_table ] = 0\n",
        "\n",
        "print(survival_table)\n",
        "# e.g. value of 0.914 signifies a 91.4% chance a passenger fitting those criteria survived"
      ]
    },
    {
      "cell_type": "code",
      "execution_count": null,
      "metadata": {
        "_cell_guid": "ba7dd33c-cd27-6f92-59f5-d1e162f4ecbe"
      },
      "outputs": [],
      "source": [
        "# assume for any probability >= 0.5 model predicts survival\n",
        "# and probability < 0.5 predicts not\n",
        "survival_table[ survival_table < 0.5 ] = 0\n",
        "survival_table[ survival_table >= 0.5 ] = 1\n",
        "\n",
        "print(survival_table)"
      ]
    },
    {
      "cell_type": "code",
      "execution_count": null,
      "metadata": {
        "_cell_guid": "b3670f0e-baad-d670-8d12-242dd23d6d34"
      },
      "outputs": [],
      "source": [
        "# loop through test file, find what criteria passenger fits\n",
        "# assign them a 1 or 0 according to our survival table\n",
        "test_file = open('../input/test.csv')\n",
        "test_file_object = csv.reader(test_file)\n",
        "header = next(test_file_object)\n",
        "predictions_file = open(\"second_genderclassmodel.csv\", \"wt\")\n",
        "p = csv.writer(predictions_file)\n",
        "p.writerow([\"PassengerId\", \"Survived\"])\n"
      ]
    },
    {
      "cell_type": "code",
      "execution_count": null,
      "metadata": {
        "_cell_guid": "a11a6d3c-50a8-e856-54c5-332c20189035"
      },
      "outputs": [],
      "source": [
        "# fares column in test file not binned\n",
        "# loop through each bin and see if the price of their ticket\n",
        "# falls in that bin. if so, break loop and assign that bin\n",
        "for row in test_file_object:\n",
        "    for j in range(number_of_price_brackets):\n",
        "        try: # some passengers have no fare data, so try \n",
        "            row[8] = float(row[8])  # to make a float\n",
        "        except: # if fails, assign bin according to class\n",
        "            bin_fare = 3 - float(row[1])\n",
        "            break\n",
        "        if row[8] > fare_ceiling: # if there is data, handle ceiling\n",
        "            bin_fare = number_of_price_brackets - 1\n",
        "            break\n",
        "        if row[8] >= j*fare_bracket_size\\\n",
        "        and row[8] < (j+1)*fare_bracket_size:\n",
        "            bin_fare = j\n",
        "            break\n",
        "    \n",
        "    if row[3] == \"female\":\n",
        "        p.writerow([row[0], int(survival_table[0, float(row[1])-1, bin_fare])])\n",
        "    else:\n",
        "        p.writerow([row[0], int(survival_table[1, float(row[1])-1, bin_fare])])\n",
        "            \n",
        "# close out the files\n",
        "test_file.close()\n",
        "predictions_file.close()"
      ]
    },
    {
      "cell_type": "code",
      "execution_count": null,
      "metadata": {
        "_cell_guid": "e1ea9dd8-a932-89f7-109f-88474bfbfc47"
      },
      "outputs": [],
      "source": [
        ""
      ]
    }
  ],
  "metadata": {
    "_change_revision": 0,
    "_is_fork": false,
    "kernelspec": {
      "display_name": "Python 3",
      "language": "python",
      "name": "python3"
    },
    "language_info": {
      "codemirror_mode": {
        "name": "ipython",
        "version": 3
      },
      "file_extension": ".py",
      "mimetype": "text/x-python",
      "name": "python",
      "nbconvert_exporter": "python",
      "pygments_lexer": "ipython3",
      "version": "3.5.2"
    }
  },
  "nbformat": 4,
  "nbformat_minor": 0
}