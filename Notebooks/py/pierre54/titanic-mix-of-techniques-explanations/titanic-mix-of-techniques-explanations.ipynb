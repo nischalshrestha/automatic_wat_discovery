{
  "cells": [
    {
      "cell_type": "markdown",
      "metadata": {
        "_cell_guid": "8fafee98-e529-18b6-690a-abcfc09ca5d6"
      },
      "source": [
        "Hi everyone!<br>\n",
        "I posted some minutes ago my first script on Kaggle and, now, I open a notebook to comment the choices I made.<br>\n",
        "I'm a beginner in data science (and in English) so all comments are welcome!"
      ]
    },
    {
      "cell_type": "markdown",
      "metadata": {
        "_cell_guid": "7fe825ba-72e0-bc5e-44f4-4eb2d59e728b"
      },
      "source": [
        "# Discovering of the dataset"
      ]
    },
    {
      "cell_type": "code",
      "execution_count": null,
      "metadata": {
        "_cell_guid": "0ee42c59-c05e-0dba-3cc5-6f2449bbe4de"
      },
      "outputs": [],
      "source": [
        "import pandas as pd\n",
        "train = pd.read_csv(\"../input/train.csv\")\n",
        "train.info()"
      ]
    },
    {
      "cell_type": "code",
      "execution_count": null,
      "metadata": {
        "_cell_guid": "05f73635-1de2-0b9b-fd40-b3b22c81203d"
      },
      "outputs": [],
      "source": [
        "train.describe()"
      ]
    },
    {
      "cell_type": "code",
      "execution_count": null,
      "metadata": {
        "_cell_guid": "3e58eb11-efcc-0f05-0501-c82a86d92cfd"
      },
      "outputs": [],
      "source": [
        "train.head()"
      ]
    },
    {
      "cell_type": "markdown",
      "metadata": {
        "_cell_guid": "118487a5-647f-4b4f-7053-ddf172187a9b"
      },
      "source": [
        "The two functions info and describe give us some interesting informations about the dataset and I used the head function to have an idea of them.<br>\n",
        "I made the choice to categorize them into 6 categories : Pid (passenger id), Class (it is not the class of the passenger but correspond to the Survived column), Continuous, Text, Discrete, Dummy (discrete variables with only two options)."
      ]
    },
    {
      "cell_type": "code",
      "execution_count": null,
      "metadata": {
        "_cell_guid": "fdc85e67-3faa-afec-d4a8-05ab2c9c1346"
      },
      "outputs": [],
      "source": [
        "Pid = \"PassengerId\"\n",
        "Class = \"Survived\"\n",
        "Continuous = [\"Pclass\", \"Age\", \"SibSp\", \"Parch\", \"Fare\"]\n",
        "Text = [\"Name\", \"Ticket\", \"Cabin\"]\n",
        "Discrete = \"Embarked\"\n",
        "Dummy = \"Sex\""
      ]
    },
    {
      "cell_type": "markdown",
      "metadata": {
        "_cell_guid": "faba0d3c-45fc-4975-542c-05e3fa0254bc"
      },
      "source": [
        "# Field empty cells\n",
        "The info function indicates that the columns Age, Cabin and Embarked contain missing value. I saw there is some methods to take care of the missing value : delete the column, delete the row or add an approximate value.<br>\n",
        "In the case of the \"Cabin\" column, we only have 204 values out of 891. Furthermore, it contains text who is difficult to handle so I chose to delete the column.\n",
        "In the case of the \"Embarked\" column, there are only two missing values. There is a temptation to delete the concerned rows but with only 891 values, I prefer to fill it by the most present value in the dateset.\n",
        "In the case of the \"Age\" column, we have 714 values out of 891. For the same reason, we will not delete the rows. But, this time, we have an important and easy-to-use information. So I chose to keep the column and fill empty cell by the mean value of the dataset.<br>\n",
        "I thought to make a linear regression to compute an approximate value for the Age column but I never see people did it on the forums I read; what do you think of this idea?"
      ]
    },
    {
      "cell_type": "code",
      "execution_count": null,
      "metadata": {
        "_cell_guid": "a30a0f63-4416-fc93-d8d3-eb3f2bfb707b"
      },
      "outputs": [],
      "source": [
        "train[\"Age\"] = train[\"Age\"].fillna(train[\"Age\"].mean())\n",
        "train[\"Embarked\"] = train[\"Embarked\"].fillna(train[\"Embarked\"].value_counts().idxmax())\n",
        "\n",
        "# ---- From now, I will use data in categorical variables ----- #\n",
        "train_pid = train[Pid]\n",
        "train_class = train[Class]\n",
        "train_continuous = train[Continuous]\n",
        "train_text = train[Text]\n",
        "train_discrete = train[Discrete]\n",
        "train_dummy = train[Dummy]"
      ]
    },
    {
      "cell_type": "markdown",
      "metadata": {
        "_cell_guid": "43ca2b5f-50b9-bf79-3f4f-f8949667a454"
      },
      "source": [
        "# Adding new data\n",
        "In this section, there is no surprise of you read other notebooks: I add two columns, one based on the title in the Name column, another based on the size of the family (SibSp + Parch + 1).<br>\n",
        "I also chose to categorize people in function of their title and only create two categories: regular title and the others in order to limit the number of variables in my model and avoid bad generalization.\n",
        "In many notebooks, I saw people using family name to create a new column. I didn't do it because I don't think we can talk about learning in this case. It will work in this case because the test set contains people from the same boat that the train set. But, now, let's imagine we want to create a model who can predict the probability of a person to die during a cruise. This time, the family name is totally useless. Your idea about this subject?<br>"
      ]
    },
    {
      "cell_type": "code",
      "execution_count": null,
      "metadata": {
        "_cell_guid": "affb2747-c429-f651-64d4-3e8fffe70f7f"
      },
      "outputs": [],
      "source": [
        "import re\n",
        "\n",
        "def getTitle(x):\n",
        "    result = re.compile(r'.*?,(.*?)\\.').search(x)\n",
        "    if result:\n",
        "        return result.group(1).strip()\n",
        "    else:\n",
        "        return ''\n",
        "\n",
        "train_family_size = train[\"SibSp\"] + train[\"Parch\"] + 1\n",
        "train_continuous = pd.concat([train_continuous, train_family_size], axis=1)\n",
        "\n",
        "train_title = train[\"Name\"].apply(getTitle)\n",
        "title_mapping = {\"Mr\": 0, \"Miss\": 0, \"Mrs\": 0, \"Master\": 0, \"Dr\": 1, \"Rev\": 1, \"Major\": 1, \"Col\": 1, \"Mlle\": 0, \"Mme\": 0, \"Don\": 1, \"Lady\": 1, \"the Countess\": 1, \"Jonkheer\": 1, \"Sir\": 1, \"Capt\": 1, \"Ms\": 0, \"Dona\": 1, \"\": 0}\n",
        "\n",
        "for k,v in title_mapping.items():\n",
        "    train_title[train_title == k] = v\n",
        "\n",
        "train_continuous = pd.concat([train_continuous, train_title], axis=1)"
      ]
    },
    {
      "cell_type": "markdown",
      "metadata": {
        "_cell_guid": "f67e889e-ef39-e1e1-ae58-26aa18705478"
      },
      "source": [
        "# Normalization of the data\n",
        "Because I want to use different algorithms to create my model, my continuous data have to be normalized."
      ]
    },
    {
      "cell_type": "code",
      "execution_count": null,
      "metadata": {
        "_cell_guid": "2597abec-831e-af8c-efca-3b18f2573f6f"
      },
      "outputs": [],
      "source": [
        "from sklearn import preprocessing as pp\n",
        "minmax_scaler = pp.MinMaxScaler((0,1)).fit(train_continuous)\n",
        "train_continuous = pd.DataFrame(minmax_scaler.transform(train_continuous))"
      ]
    },
    {
      "cell_type": "markdown",
      "metadata": {
        "_cell_guid": "59ad6e62-656e-37a3-9faa-b6088e746fe3"
      },
      "source": [
        "# Transformation of the other variables\n",
        "The dummy variables as the Sex column will be replaced by 0 and 1 value and the discrete variables as the Embarked columns will be replace same way but we will create many columns there are different values (in this case, we will create 3 columns). That's why we didn't create a lot of categories for the title column."
      ]
    },
    {
      "cell_type": "code",
      "execution_count": null,
      "metadata": {
        "_cell_guid": "636b061f-c82a-02a7-c0c1-28bce772de36"
      },
      "outputs": [],
      "source": [
        "train_discrete = pd.get_dummies(train_discrete)\n",
        "\n",
        "lb = pp.LabelBinarizer()\n",
        "lb.fit(train_dummy)\n",
        "train_dummy = pd.DataFrame(lb.transform(train_dummy))\n",
        "\n",
        "# ---- For information ... ----- #\n",
        "train_discrete.head()"
      ]
    },
    {
      "cell_type": "markdown",
      "metadata": {
        "_cell_guid": "a7b4bce1-c452-072d-28d3-1b76b105530a"
      },
      "source": [
        "Now, we can merge all the arrays to create the input of our model. I don't use the Ticket column because I found to hard to handle and I don't really see what it can bring to our model."
      ]
    },
    {
      "cell_type": "code",
      "execution_count": null,
      "metadata": {
        "_cell_guid": "cfefc425-a474-dbd1-d01a-2cfe3a3f6e77"
      },
      "outputs": [],
      "source": [
        "X = pd.concat([train_continuous, train_discrete, train_dummy], axis=1)"
      ]
    },
    {
      "cell_type": "markdown",
      "metadata": {
        "_cell_guid": "25d76525-f90f-6879-5810-33aa37966ad4"
      },
      "source": [
        "# Creation of the model\n",
        "I don't really now how to choose the best algorithm in function of the situation. In this case, I preferred to use aggregation in order to combine the forces (and the weakness) of all of them. Here is the list of them and the explanation of my choice:<br>\n",
        " - Random Forest: according me, it's the best method to find the perfect model but I'm scared by its trend to overfit;<br>\n",
        " - Nearest Neighbors: I was thinking of the situation, you are on a falling down boat and you want to survive, what do you do? You follow people who are going on safety boat and closer you are from a survival, higher are your chance to survive. It's an image but I guess this algorithm can be a good idea in this case. I used cross validation to choose the number of nearest neighbors K;<br>\n",
        " - Multi-layer Perceptron: I hope this algorithm will see weak signals in the data;<br>\n",
        " - Support vector machine (with kernel method): the perfect algorithm to find non-linear model but I used cross-validation to avoid overfit;<br>\n",
        "- Logistic regression: I wanted a fifth algorithm so I chose this one with no particular reason.<br>\n",
        "I would like to know what do you think of my choices. Good idea? Bad idea? Idea of improvement?"
      ]
    },
    {
      "cell_type": "code",
      "execution_count": null,
      "metadata": {
        "_cell_guid": "90cb9882-bb9d-6e83-8e6e-377bb377a5d9"
      },
      "outputs": [],
      "source": [
        "import numpy as np\n",
        "from sklearn import svm\n",
        "from sklearn.ensemble import RandomForestClassifier\n",
        "from sklearn.neighbors import KNeighborsClassifier\n",
        "from sklearn.model_selection import GridSearchCV\n",
        "from sklearn.neural_network import MLPClassifier\n",
        "from sklearn import linear_model as lm\n",
        "\n",
        "rfc = RandomForestClassifier(n_estimators=100)\n",
        "rfc.fit(X, train_class)\n",
        "\n",
        "knc = KNeighborsClassifier()\n",
        "Cs = np.linspace(1, 19, 10).astype(int)\n",
        "neigh = GridSearchCV(estimator=knc, param_grid=dict(n_neighbors=Cs), cv=10, n_jobs=-1)\n",
        "neigh.fit(X, train_class)\n",
        "\n",
        "mlp = MLPClassifier()\n",
        "mlp.fit(X, train_class)\n",
        "\n",
        "svc = svm.SVC()\n",
        "Cs = np.logspace(-6, 2)\n",
        "svc = GridSearchCV(estimator=svc, param_grid=dict(C=Cs), cv=10, n_jobs=-1)\n",
        "svc.fit(X, train_class)\n",
        "\n",
        "lr = lm.LogisticRegression()\n",
        "lr.fit(X, train_class)"
      ]
    },
    {
      "cell_type": "markdown",
      "metadata": {
        "_cell_guid": "f3b36319-a000-db05-5794-a1fb11c7ef85"
      },
      "source": [
        "# Predictions\n",
        "Now, we will do the same work on the test set. I think it's more common to used data from the train set to fill empty cell in the test set. What do you think about that?"
      ]
    },
    {
      "cell_type": "code",
      "execution_count": null,
      "metadata": {
        "_cell_guid": "262acfd4-d88d-ae3b-08c9-9c4f9f136793"
      },
      "outputs": [],
      "source": [
        "test = pd.read_csv(\"../input/test.csv\")\n",
        "\n",
        "test[\"Age\"] = test[\"Age\"].fillna(train[\"Age\"].mean())\n",
        "test[\"Fare\"] = test[\"Fare\"].fillna(train[\"Fare\"].mean())\n",
        "\n",
        "test_pid = test[Pid]\n",
        "test_continuous = test[Continuous]\n",
        "test_text = test[Text]\n",
        "test_discrete = test[Discrete]\n",
        "test_dummy = test[Dummy]\n",
        "\n",
        "test_family_size = test[\"SibSp\"] + test[\"Parch\"] + 1\n",
        "test_continuous = pd.concat([test_continuous, test_family_size], axis=1)\n",
        "\n",
        "test_title = test[\"Name\"].apply(getTitle)\n",
        "\n",
        "for k,v in title_mapping.items():\n",
        "    test_title[test_title == k] = v\n",
        "\n",
        "test_continuous = pd.concat([test_continuous, test_title], axis=1)\n",
        "\n",
        "test_continuous = pd.DataFrame(minmax_scaler.transform(test_continuous))\n",
        "\n",
        "test_discrete = pd.get_dummies(test_discrete)\n",
        "\n",
        "test_dummy = pd.DataFrame(lb.transform(test_dummy))\n",
        "\n",
        "X = pd.concat([test_pid, test_continuous, test_discrete, test_dummy], axis=1)"
      ]
    },
    {
      "cell_type": "markdown",
      "metadata": {
        "_cell_guid": "aadba51c-08e2-da5d-c6e0-9c1c0f1391aa"
      },
      "source": [
        "And to finish, I create the CSV file.<br>\n",
        "I didn't use preexisting class for the aggregation so I make the sum of all the results and put 1 if greater or equal 3, 0 else."
      ]
    },
    {
      "cell_type": "code",
      "execution_count": null,
      "metadata": {
        "_cell_guid": "311a05df-64e7-d952-01f2-853a2a4558f8"
      },
      "outputs": [],
      "source": [
        "import csv as csv\n",
        "result_file = open(\"result.csv\", \"w\")\n",
        "result_file_obj = csv.writer(result_file)\n",
        "result_file_obj.writerow([\"PassengerId\", \"Survived\"])\n",
        "for idx, row in X.iterrows():\n",
        "\tif(rfc.predict(row[1::].reshape(1, -1))[0] + neigh.predict(row[1::].reshape(1, -1))[0] + mlp.predict(row[1::].reshape(1, -1))[0] + svc.predict(row[1::].reshape(1, -1))[0] + lr.predict(row[1::].reshape(1, -1))[0] >= 3):\n",
        "\t\tresult_file_obj.writerow([row[\"PassengerId\"].astype(int), 1])\n",
        "\telse:\n",
        "\t\tresult_file_obj.writerow([row[\"PassengerId\"].astype(int), 0])\n",
        "\n",
        "result_file.close()"
      ]
    }
  ],
  "metadata": {
    "_change_revision": 0,
    "_is_fork": false,
    "kernelspec": {
      "display_name": "Python 3",
      "language": "python",
      "name": "python3"
    },
    "language_info": {
      "codemirror_mode": {
        "name": "ipython",
        "version": 3
      },
      "file_extension": ".py",
      "mimetype": "text/x-python",
      "name": "python",
      "nbconvert_exporter": "python",
      "pygments_lexer": "ipython3",
      "version": "3.5.2"
    }
  },
  "nbformat": 4,
  "nbformat_minor": 0
}