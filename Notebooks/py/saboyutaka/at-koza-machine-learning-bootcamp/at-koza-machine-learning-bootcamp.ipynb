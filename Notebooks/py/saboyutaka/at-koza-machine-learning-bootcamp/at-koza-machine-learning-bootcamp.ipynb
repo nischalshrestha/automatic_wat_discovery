{
  "cells": [
    {
      "cell_type": "markdown",
      "metadata": {
        "_cell_guid": "18cd64c8-c9bc-7fa5-2b40-3542a8601a42"
      },
      "source": [
        "# kaggle - Titanic: Machine Learning from Disaster"
      ]
    },
    {
      "cell_type": "code",
      "execution_count": null,
      "metadata": {
        "_cell_guid": "7d7c050a-157f-c1ac-d54f-ef9cdba5606a"
      },
      "outputs": [],
      "source": [
        "import numpy as np\n",
        "import pandas as pd\n",
        "import warnings\n",
        "import matplotlib.pyplot as plt\n",
        "%matplotlib inline"
      ]
    },
    {
      "cell_type": "code",
      "execution_count": null,
      "metadata": {
        "_cell_guid": "0317900c-9b08-3b58-cc98-4834ae09a792"
      },
      "outputs": [],
      "source": [
        "warnings.simplefilter(\"ignore\")"
      ]
    },
    {
      "cell_type": "markdown",
      "metadata": {
        "_cell_guid": "d54a8e5a-6f66-bbd1-af26-dca117f9010b"
      },
      "source": [
        "# \u5909\u6570\n",
        "\n",
        "## \u72ec\u7acb\u5909\u6570\uff08\u8aac\u660e\u5909\u6570\uff09\n",
        "\n",
        "- PassengerId: \u4e57\u5ba2ID\n",
        "- Pclass: \u5ba2\u5ba4\u306e\u7b49\u7d1a\uff081st, 2nd , 3rd\uff09\n",
        "- Name: \u540d\u524d\n",
        "- Sex: \u6027\u5225\n",
        "- Age: \u5e74\u9f62\n",
        "- SibSp: \u5171\u306b\u4e57\u8239\u3057\u3066\u3044\u305f\u5144\u5f1f\uff08siblings\uff09\u3084 \u914d\u5076\u8005\uff08spouses\uff09\u306e\u6570\n",
        "- Parch: \u5171\u306b\u4e57\u8239\u3057\u3066\u3044\u305f\u89aa\uff08parents\uff09\u3084\u5b50\u4f9b\uff08children\uff09\u306e\u6570\n",
        "- Ticket: \u30c1\u30b1\u30c3\u30c8\u306e\u30bf\u30a4\u30d7\n",
        "- Fare: \u30c1\u30b1\u30c3\u30c8\u306e\u6599\u91d1\n",
        "- Cabin: \u5ba2\u5ba4\u756a\u53f7\n",
        "- Embarked: \u4e57\u8239\u6e2f\uff08**Q**ueenstown, **C**herbourg, **S**outhampton\uff09\n",
        "\n",
        "## \u5f93\u5c5e\u5909\u6570\uff08\u76ee\u7684\u5909\u6570\uff09\n",
        "- Survived\uff1a\u751f\u5b58\u8005\u304b\u3069\u3046\u304b\uff081: \u52a9\u304b\u3063\u305f\u30010\uff1a\u52a9\u304b\u3089\u306a\u304b\u3063\u305f\uff09"
      ]
    },
    {
      "cell_type": "markdown",
      "metadata": {
        "_cell_guid": "23144398-3b1e-b24e-5768-53eec3a8ebe6"
      },
      "source": [
        "## Pandas\u3067\u4e0b\u3054\u3057\u3089\u3048"
      ]
    },
    {
      "cell_type": "code",
      "execution_count": null,
      "metadata": {
        "_cell_guid": "bcb77017-6036-8963-9096-996a569b900a"
      },
      "outputs": [],
      "source": [
        "# \u30c7\u30fc\u30bf\u306e\u8aad\u307f\u8fbc\u307f\uff08\u30c8\u30ec\u30fc\u30cb\u30f3\u30b0\u30c7\u30fc\u30bf\u3068\u30c6\u30b9\u30c8\u30c7\u30fc\u30bf\u306b\u3059\u3067\u306b\u5206\u304b\u308c\u3066\u3044\u308b\u3053\u3068\u306b\u6ce8\u76ee\uff09\n",
        "df_train = pd.read_csv('../input/train.csv') # \u30c8\u30ec\u30fc\u30cb\u30f3\u30b0\u30c7\u30fc\u30bf\n",
        "df_test = pd.read_csv('../input/test.csv') # \u30c6\u30b9\u30c8\u30c7\u30fc\u30bf"
      ]
    },
    {
      "cell_type": "code",
      "execution_count": null,
      "metadata": {
        "_cell_guid": "04fbca24-f4b7-6c05-49f3-df6e68abf145"
      },
      "outputs": [],
      "source": [
        "# SexId \u3092\u8ffd\u52a0\n",
        "df_train['SexId'] = df_train['Sex'].map({'male': 1, 'female': 0})\n",
        "df_test['SexId'] = df_test['Sex'].map({'male': 1, 'female': 0})"
      ]
    },
    {
      "cell_type": "code",
      "execution_count": null,
      "metadata": {
        "_cell_guid": "2e9ae43d-a300-f794-8b3b-cfc42b0f69f7"
      },
      "outputs": [],
      "source": [
        "# FamilySize = SibSp + Parch\n",
        "df_train['FamilySize'] = df_train['SibSp'] + df_train['Parch']\n",
        "df_test['FamilySize'] = df_test['SibSp'] + df_test['Parch']"
      ]
    },
    {
      "cell_type": "code",
      "execution_count": null,
      "metadata": {
        "_cell_guid": "cf34978b-4822-f91e-00e1-b5050c7faa53"
      },
      "outputs": [],
      "source": [
        "# Age\u306e\u6b20\u640d\u5024\u4fdd\u7ba1\n",
        "df_train['AgeNull'] = df_train['Age'].isnull()\n",
        "age_median = df_train['Age'].median()\n",
        "df_train['Age'].fillna(age_median, inplace=True)\n",
        "df_test['Age'].fillna(age_median, inplace=True)"
      ]
    },
    {
      "cell_type": "code",
      "execution_count": null,
      "metadata": {
        "_cell_guid": "f2400a67-022b-fcb2-daea-ea14d8fa3d40"
      },
      "outputs": [],
      "source": [
        "# Embarked\n",
        "common_embarked = df_train['Embarked'].value_counts().index[0]\n",
        "df_train['Embarked'].fillna(common_embarked, inplace=True)\n",
        "df_test['Embarked'].fillna(common_embarked, inplace=True)\n",
        "df_train['EmbarkedNum'] = df_train.Embarked.map({'S': 0, 'C': 1, 'Q': 2})\n",
        "df_test['EmbarkedNum'] = df_test.Embarked.map({'S': 0, 'C': 1, 'Q': 2})"
      ]
    },
    {
      "cell_type": "code",
      "execution_count": null,
      "metadata": {
        "_cell_guid": "589546cb-1a53-61c9-5bb2-5c5d6c075210"
      },
      "outputs": [],
      "source": [
        "# inputs = ['FamilySize', 'SexId', 'Age', 'EmbarkedNum']\n",
        "inputs = ['FamilySize', 'SexId', 'Age']"
      ]
    },
    {
      "cell_type": "code",
      "execution_count": null,
      "metadata": {
        "_cell_guid": "0b0633ad-f59b-a367-361c-747d2737fdb7"
      },
      "outputs": [],
      "source": [
        "X_train = df_train[inputs].values.astype('float32')\n",
        "X_test = df_test[inputs].values.astype('float32')"
      ]
    },
    {
      "cell_type": "code",
      "execution_count": null,
      "metadata": {
        "_cell_guid": "6b1e99e9-59ee-2734-7b70-4ad6f3bfce5e"
      },
      "outputs": [],
      "source": [
        "y_train = df_train['Survived'].values"
      ]
    },
    {
      "cell_type": "code",
      "execution_count": null,
      "metadata": {
        "_cell_guid": "6eaab00d-9b11-18a4-a697-d1d70cd4fb13"
      },
      "outputs": [],
      "source": [
        "if df_train.columns.values.__contains__('PassengerId'):\n",
        "    df_train.index = df_train.pop('PassengerId') "
      ]
    },
    {
      "cell_type": "code",
      "execution_count": null,
      "metadata": {
        "_cell_guid": "7b40b275-b1dc-38a4-4fff-9ef6f7e90e45"
      },
      "outputs": [],
      "source": [
        "if df_test.columns.values.__contains__('PassengerId'):\n",
        "    df_test.index = df_test.pop('PassengerId')"
      ]
    },
    {
      "cell_type": "markdown",
      "metadata": {
        "_cell_guid": "8b44b560-2856-ab91-ecb8-d7b4c422ec46"
      },
      "source": [
        "# \u6a5f\u68b0\u5b66\u7fd2"
      ]
    },
    {
      "cell_type": "markdown",
      "metadata": {
        "_cell_guid": "dd19d3c1-cad0-bff1-265d-7eb69ee04342"
      },
      "source": [
        "### \u30e2\u30c7\u30eb\u9078\u629e"
      ]
    },
    {
      "cell_type": "code",
      "execution_count": null,
      "metadata": {
        "_cell_guid": "4c82ea45-24c9-0631-0371-fe0ac1f60c2e"
      },
      "outputs": [],
      "source": [
        "# \u5206\u985e\u30e2\u30c7\u30eb\u306e\u8aad\u307f\u8fbc\u307f\n",
        "\n",
        "# \u30ed\u30b8\u30b9\u30c6\u30a3\u30c3\u30af\u56de\u5e30\n",
        "from sklearn.linear_model import LogisticRegression\n",
        "# K\u6700\u8fd1\u508d\u6cd5\n",
        "from sklearn.neighbors import KNeighborsClassifier\n",
        "# \u30b5\u30fc\u30dd\u30fc\u30c8\u30d9\u30af\u30bf\u30fc\u30de\u30b7\u30f3\n",
        "from sklearn.svm import SVC\n",
        "# \u6c7a\u5b9a\u6728\n",
        "from sklearn.tree import DecisionTreeClassifier\n",
        "# \u30e9\u30f3\u30c0\u30e0\u30d5\u30a9\u30ec\u30b9\u30c8\n",
        "from sklearn.ensemble import RandomForestClassifier\n",
        "# \u52fe\u914d\u30d6\u30fc\u30b9\u30c6\u30a3\u30f3\u30b0\n",
        "from sklearn.ensemble import GradientBoostingClassifier"
      ]
    },
    {
      "cell_type": "code",
      "execution_count": null,
      "metadata": {
        "_cell_guid": "38860c99-ae5f-40fe-c035-c2d52e01b2b2"
      },
      "outputs": [],
      "source": [
        "# \u4ea4\u5dee\u691c\u8a3c\u7528\u30e2\u30b8\u30e5\u30fc\u30eb\u306e\u8aad\u307f\u8fbc\u307f\n",
        "\n",
        "from sklearn.cross_validation import KFold, StratifiedKFold, cross_val_score"
      ]
    },
    {
      "cell_type": "code",
      "execution_count": null,
      "metadata": {
        "_cell_guid": "e0a9ac85-f092-d46d-dfce-e2ee2f22249c"
      },
      "outputs": [],
      "source": [
        "#\u3000\u8907\u6570\u306e\u5206\u985e\u5668\u3092\u7528\u610f\n",
        "classifiers = [\n",
        "    ('lr', LogisticRegression()), \n",
        "    ('knn', KNeighborsClassifier()),\n",
        "    ('linear svc', SVC(kernel=\"linear\")),\n",
        "    ('rbf svc', SVC(gamma=2)),\n",
        "    ('dt', DecisionTreeClassifier()),\n",
        "    ('rf', RandomForestClassifier(random_state=42)),\n",
        "    ('gbc', GradientBoostingClassifier())\n",
        "]"
      ]
    },
    {
      "cell_type": "code",
      "execution_count": null,
      "metadata": {
        "_cell_guid": "5c40b9e6-8feb-bcf8-31e2-9166f81d4ffe"
      },
      "outputs": [],
      "source": [
        "# \u305d\u308c\u305e\u308c\u306e\u30e2\u30c7\u30eb\u306b\u5bfe\u3057\u3066\u3001\u4ea4\u5dee\u691c\u8a3c\uff08CV\uff09\u3092\u304b\u3051\u308b\n",
        "import time\n",
        "results = {}\n",
        "exec_times = {}\n",
        "\n",
        "for name, model in classifiers:\n",
        "    tic = time.time()\n",
        "    result = cross_val_score(model, X_train, y_train, cv=5, scoring='accuracy')\n",
        "    exec_time = time.time() - tic\n",
        "    exec_times[name] = exec_time\n",
        "    results[name] = result\n",
        "    \n",
        "    print(\"{0:.3f} ({1:.3f}): time {2:.2f}s, {3}\".format(result.mean(), result.std(), exec_time, name))"
      ]
    },
    {
      "cell_type": "code",
      "execution_count": null,
      "metadata": {
        "_cell_guid": "0c1060ba-20aa-3240-eced-c00c0ab8acd3"
      },
      "outputs": [],
      "source": [
        "# \u7d50\u679c\u3092\u30c7\u30fc\u30bf\u30d5\u30ec\u30fc\u30e0\u306b\u5165\u308c\u308b\n",
        "df_results = pd.DataFrame(results)"
      ]
    },
    {
      "cell_type": "code",
      "execution_count": null,
      "metadata": {
        "_cell_guid": "af79dabd-7ced-021e-2350-2261205ad222"
      },
      "outputs": [],
      "source": [
        "# \u30dc\u30c3\u30af\u30b9\u30d7\u30ed\u30c3\u30c8\u306b\u3088\u308b\u7d50\u679c\u306e\u63cf\u753b\n",
        "df_results[df_results.median().sort_values(ascending=True).index].boxplot(vert=False);"
      ]
    },
    {
      "cell_type": "markdown",
      "metadata": {
        "_cell_guid": "f328cdfc-7937-c68b-d049-18ada64127ed"
      },
      "source": [
        "## GradientBoostingClassifier\u3067\u5b66\u7fd2"
      ]
    },
    {
      "cell_type": "code",
      "execution_count": null,
      "metadata": {
        "_cell_guid": "0d9cd3b5-3a20-7ec8-b936-4b53232712af"
      },
      "outputs": [],
      "source": [
        "# === \u7dda\u5f62\u30e2\u30c7\u30eb ===\n",
        "# \u30e2\u30b8\u30e5\u30fc\u30eb\u306e\u8aad\u307f\u8fbc\u307f\n",
        "# from sklearn import linear_model\n",
        "#  \u30e2\u30c7\u30eb\u69cb\u7bc9\n",
        "# model = linear_model.LogisticRegression()\n",
        "\n",
        "# === \u30b5\u30dd\u30fc\u30c8\u30d9\u30af\u30bf\u30fc\u30de\u30b7\u30f3 ===\n",
        "# \u30e2\u30b8\u30e5\u30fc\u30eb\u306e\u8aad\u307f\u8fbc\u307f\n",
        "#from sklearn import svm\n",
        "#  \u30e2\u30c7\u30eb\u69cb\u7bc9\n",
        "#model = svm.SVC()\n",
        "\n",
        "# === K\u6700\u8fd1\u508d\u6cd5 ===\n",
        "# \u30e2\u30b8\u30e5\u30fc\u30eb\u306e\u8aad\u307f\u8fbc\u307f\n",
        "#from sklearn.neighbors import KNeighborsClassifier\n",
        "#  \u30e2\u30c7\u30eb\u69cb\u7bc9\n",
        "#model = KNeighborsClassifier()\n",
        "\n",
        "# === \u30e9\u30f3\u30c0\u30e0\u30d5\u30a9\u30ec\u30b9\u30c8 ===\n",
        "# \u30e2\u30b8\u30e5\u30fc\u30eb\u306e\u8aad\u307f\u8fbc\u307f\n",
        "#from sklearn import ensemble\n",
        "#  \u30e2\u30c7\u30eb\u69cb\u7bc9\n",
        "#model = ensemble.RandomForestClassifier(n_estimators=5, max_depth=10)\n",
        "\n",
        "# === \u52fe\u914d\u30d6\u30fc\u30b9\u30c6\u30a3\u30f3\u30b0 ===\n",
        "# \u30e2\u30b8\u30e5\u30fc\u30eb\u306e\u8aad\u307f\u8fbc\u307f\n",
        "from sklearn import ensemble\n",
        "#  \u30e2\u30c7\u30eb\u69cb\u7bc9\n",
        "model = ensemble.GradientBoostingClassifier()"
      ]
    },
    {
      "cell_type": "code",
      "execution_count": null,
      "metadata": {
        "_cell_guid": "4af722d0-efd9-e16e-be43-baf0e9a003fe"
      },
      "outputs": [],
      "source": [
        "# \u5b66\u7fd2\n",
        "model.fit(X_train, y_train)"
      ]
    },
    {
      "cell_type": "code",
      "execution_count": null,
      "metadata": {
        "_cell_guid": "1ae9faf7-5913-b850-6e1e-45afddf99743"
      },
      "outputs": [],
      "source": [
        "# \u30c8\u30ec\u30fc\u30cb\u30f3\u30b0\u30bb\u30c3\u30c8\u306b\u5bfe\u3059\u308b\u4e88\u6e2c\n",
        "y_train_pred = model.predict(X_train)"
      ]
    },
    {
      "cell_type": "code",
      "execution_count": null,
      "metadata": {
        "_cell_guid": "469dc23a-b03d-bdc6-06cd-e1941aaa2942"
      },
      "outputs": [],
      "source": [
        "# \u30c6\u30b9\u30c8\u30bb\u30c3\u30c8\u306b\u5bfe\u3059\u308b\u4e88\u6e2c\n",
        "y_test_pred = model.predict(X_test)"
      ]
    },
    {
      "cell_type": "code",
      "execution_count": null,
      "metadata": {
        "_cell_guid": "808f1ff6-3c94-030e-abf0-b681265fdb4f"
      },
      "outputs": [],
      "source": [
        "# \u8a55\u4fa1\u57fa\u6e96\u30e2\u30b8\u30e5\u30fc\u30eb\uff08metrics\uff09\u306e\u8aad\u307f\u8fbc\u307f\n",
        "from sklearn import metrics"
      ]
    },
    {
      "cell_type": "code",
      "execution_count": null,
      "metadata": {
        "_cell_guid": "effb4f7d-f76d-6db2-afb0-999c75a43a61"
      },
      "outputs": [],
      "source": [
        "# \u30c8\u30ec\u30fc\u30cb\u30f3\u30b0\u30c7\u30fc\u30bf\u306b\u5bfe\u3059\u308b\u4e88\u6e2c\u7cbe\u5ea6\u3092\u8a08\u7b97\n",
        "print(metrics.accuracy_score(y_train, y_train_pred))"
      ]
    },
    {
      "cell_type": "code",
      "execution_count": null,
      "metadata": {
        "_cell_guid": "2829a90f-5860-43f9-98d6-02aafbdb6db9"
      },
      "outputs": [],
      "source": [
        "df_test['Survived'] = y_test_pred"
      ]
    },
    {
      "cell_type": "code",
      "execution_count": null,
      "metadata": {
        "_cell_guid": "a00d53ec-72da-3aae-44c6-58fb4d9507e9"
      },
      "outputs": [],
      "source": [
        "warnings.simplefilter(\"ignore\")\n",
        "\n",
        "df_fi = pd.DataFrame(model.feature_importances_, index=df_train[inputs].columns)\n",
        "df_fi.sort(columns=0, inplace=True)\n",
        "df_fi.plot(kind='barh', legend=False)"
      ]
    },
    {
      "cell_type": "markdown",
      "metadata": {
        "_cell_guid": "6681bbbf-f5b7-79f5-4232-559c87acaeb6"
      },
      "source": [
        "## \u30d1\u30e9\u30e1\u30fc\u30bf\u30fc\u30c1\u30e5\u30fc\u30cb\u30f3\u30b0"
      ]
    },
    {
      "cell_type": "code",
      "execution_count": null,
      "metadata": {
        "_cell_guid": "07b41082-34f2-f9ee-4ff8-d8e2388147fe"
      },
      "outputs": [],
      "source": [
        "# \u30e9\u30f3\u30c0\u30e0\u30b5\u30fc\u30c1\u7528\u306bRandomizedSearchCV\u30e2\u30b8\u30e5\u30fc\u30eb\u3092\u8aad\u307f\u8fbc\u3080\n",
        "from sklearn.grid_search import RandomizedSearchCV\n",
        "# \u5206\u5e03\u3092\u6307\u5b9a\u3059\u308b\u305f\u3081\u306bscipy.stats\u3092\u8aad\u307f\u8fbc\u3080\n",
        "import scipy.stats as stats"
      ]
    },
    {
      "cell_type": "markdown",
      "metadata": {
        "_cell_guid": "57667550-c833-ed54-a903-0ae188f889a3"
      },
      "source": [
        "### GradientBoostingClassifier Ver"
      ]
    },
    {
      "cell_type": "code",
      "execution_count": null,
      "metadata": {
        "_cell_guid": "9490b08a-b007-2881-b148-583ed87dabd8"
      },
      "outputs": [],
      "source": [
        "# \"loss\": 'deviance', \n",
        "# \"learning_rate\": 0.1, \n",
        "# \"n_estimators\": 100, \n",
        "# \"subsample\": 1.0, \n",
        "# \"min_samples_split\": 2, \n",
        "# \"min_samples_leaf\": 1, \n",
        "# \"min_weight_fraction_leaf\": 0.0, \n",
        "# \"max_depth\": 3, \n",
        "# \"init\": None, \n",
        "# \"random_state\": None, \n",
        "# \"max_features\": None, \n",
        "# \"verbose\": 0, \n",
        "# \"max_leaf_nodes\": None, \n",
        "# \"warm_start\": False, \n",
        "# \"presort\": 'auto'\n",
        "\n",
        "# \u30d1\u30e9\u30e1\u30fc\u30bf\u7a7a\u9593\u4e0a\u306b\u5206\u5e03\u3092\u6307\u5b9a\u3059\u308b\uff08\u4eca\u56de\u306f\u30e9\u30f3\u30c0\u30e0\u30d5\u30a9\u30ec\u30b9\u30c8\u3092\u4eee\u5b9a\uff09\n",
        "param_dist = {\n",
        "            \"n_estimators\": np.arange(75, 125),\n",
        "            \"min_samples_split\": stats.randint(2, 11), \n",
        "            \"min_samples_leaf\": stats.randint(1, 5), \n",
        "            \"max_features\": stats.randint(1, 3)\n",
        "}"
      ]
    },
    {
      "cell_type": "code",
      "execution_count": null,
      "metadata": {
        "_cell_guid": "d41f7f17-a4fe-dde4-4fb7-086978cd9829"
      },
      "outputs": [],
      "source": [
        "# \u30e9\u30f3\u30c0\u30e0\u30b5\u30fc\u30c1CV\u30aa\u30d6\u30b8\u30a7\u30af\u30c8\u3092\u4f5c\u308b\n",
        "random_search_gbc = RandomizedSearchCV(GradientBoostingClassifier(random_state=42), \n",
        "                                   param_distributions=param_dist, cv=10, \n",
        "                                   n_iter=10, random_state=42)"
      ]
    },
    {
      "cell_type": "code",
      "execution_count": null,
      "metadata": {
        "_cell_guid": "efbd3509-d4e9-a320-af67-ba183824f629"
      },
      "outputs": [],
      "source": [
        "# \u30e9\u30f3\u30c0\u30e0\u30b5\u30fc\u30c1\u3092\u5b9f\u884c\n",
        "tic = time.time() # \u6642\u9593\u8a08\u6e2c\u958b\u59cb\n",
        "random_search_gbc.fit(X_train, y_train)\n",
        "toc = time.time() # \u6642\u9593\u8a08\u6e2c\u7d42\u4e86"
      ]
    },
    {
      "cell_type": "code",
      "execution_count": null,
      "metadata": {
        "_cell_guid": "1e5c5494-a574-6508-9a76-af1d3b5a6e3e"
      },
      "outputs": [],
      "source": [
        "# \u7d50\u679c\u3092\u8868\u793a\n",
        "from pprint import pprint\n",
        "print(\"Best score: {0}\\nExecution time: {1:.2f} sec\".format(random_search_gbc.best_score_, toc - tic))\n",
        "print(\"Best param:\")\n",
        "pprint(random_search_gbc.best_params_)"
      ]
    },
    {
      "cell_type": "code",
      "execution_count": null,
      "metadata": {
        "_cell_guid": "5bd77c63-38d7-bd76-1175-c926900fbaea"
      },
      "outputs": [],
      "source": [
        "# \u30d9\u30b9\u30c8\u306a\u30d1\u30e9\u30e1\u30fc\u30bf\u3092\u5225\u540d\u3067\u4fdd\u5b58\n",
        "gbc_best_params = random_search_gbc.best_params_\n",
        "print(gbc_best_params)"
      ]
    },
    {
      "cell_type": "code",
      "execution_count": null,
      "metadata": {
        "_cell_guid": "03420530-e3c5-e086-a0fe-9a51459aa4c9"
      },
      "outputs": [],
      "source": [
        "# \u30e2\u30c7\u30eb\u306e\u69cb\u7bc9\uff08\u30e9\u30f3\u30c0\u30e0\u30b5\u30fc\u30c1\u3067\u898b\u3064\u3051\u305f\u30d9\u30b9\u30c8\u306a\u30d1\u30e9\u30e1\u30fc\u30bf\u3092\u4f7f\u7528\uff09\n",
        "best_gbc_model = GradientBoostingClassifier(random_state=42, **gbc_best_params)"
      ]
    },
    {
      "cell_type": "code",
      "execution_count": null,
      "metadata": {
        "_cell_guid": "3bfa8c3a-2d1d-68ef-34f8-56324d4fab3d"
      },
      "outputs": [],
      "source": [
        "# \u30e2\u30c7\u30eb\u306e\u5b66\u7fd2\n",
        "best_gbc_model.fit(X_train, y_train)"
      ]
    },
    {
      "cell_type": "code",
      "execution_count": null,
      "metadata": {
        "_cell_guid": "cff99198-300c-0ad5-7675-d3b150912bb3"
      },
      "outputs": [],
      "source": [
        "# \u30c8\u30ec\u30fc\u30cb\u30f3\u30b0\u30c7\u30fc\u30bf\u306b\u5bfe\u3059\u308b\u4e88\u6e2c\u7cbe\u5ea6\n",
        "print(\"mean accuracy (train): {0:.4f}\".format(best_gbc_model.score(X_train, y_train)))"
      ]
    },
    {
      "cell_type": "markdown",
      "metadata": {
        "_cell_guid": "06f2362c-32a7-3603-c612-358f1dc4f1be"
      },
      "source": [
        "### LogisticRegressionVer"
      ]
    },
    {
      "cell_type": "code",
      "execution_count": null,
      "metadata": {
        "_cell_guid": "f643a04a-763d-c246-a421-8c860723bbda"
      },
      "outputs": [],
      "source": [
        "# \"penalty\": 'l2', \n",
        "# \"dual\": False, \n",
        "# \"tol\": 0.0001, \n",
        "# \"C\": 1.0, \n",
        "# \"fit_intercept\": True, \n",
        "# \"intercept_scaling\": 1, \n",
        "# \"class_weight\": None, \n",
        "# \"random_state\": None, \n",
        "# \"solver\": 'liblinear', \n",
        "# \"max_iter\": 100, \n",
        "# \"multi_class\": 'ovr', \n",
        "# \"verbose\": 0, \n",
        "# \"warm_start\": False, \n",
        "# \"n_jobs\": 1\n",
        "\n",
        "# \u30d1\u30e9\u30e1\u30fc\u30bf\u7a7a\u9593\u4e0a\u306b\u5206\u5e03\u3092\u6307\u5b9a\u3059\u308b\uff08\u4eca\u56de\u306f\u30e9\u30f3\u30c0\u30e0\u30d5\u30a9\u30ec\u30b9\u30c8\u3092\u4eee\u5b9a\uff09\n",
        "param_dist = {\n",
        "            \"class_weight\": ['balanced', None], \n",
        "            \"max_iter\": np.arange(75, 125)\n",
        "}"
      ]
    },
    {
      "cell_type": "code",
      "execution_count": null,
      "metadata": {
        "_cell_guid": "c2329ac8-a4de-b66e-16cf-0a58ea9cd3c6"
      },
      "outputs": [],
      "source": [
        "# \u30e9\u30f3\u30c0\u30e0\u30b5\u30fc\u30c1CV\u30aa\u30d6\u30b8\u30a7\u30af\u30c8\u3092\u4f5c\u308b\n",
        "random_search_lr = RandomizedSearchCV(LogisticRegression(random_state=42), \n",
        "                                   param_distributions=param_dist, cv=10, \n",
        "                                   n_iter=10, random_state=42, n_jobs=-1)"
      ]
    },
    {
      "cell_type": "code",
      "execution_count": null,
      "metadata": {
        "_cell_guid": "88be7fa1-1e94-5638-1976-60c19af05c2d"
      },
      "outputs": [],
      "source": [
        "# \u30e9\u30f3\u30c0\u30e0\u30b5\u30fc\u30c1\u3092\u5b9f\u884c\n",
        "tic = time.time() # \u6642\u9593\u8a08\u6e2c\u958b\u59cb\n",
        "random_search_lr.fit(X_train, y_train)\n",
        "toc = time.time() # \u6642\u9593\u8a08\u6e2c\u7d42\u4e86"
      ]
    },
    {
      "cell_type": "code",
      "execution_count": null,
      "metadata": {
        "_cell_guid": "994e0245-82f6-53c1-1c30-1e5bb17bc9ce"
      },
      "outputs": [],
      "source": [
        "# \u7d50\u679c\u3092\u8868\u793a\n",
        "from pprint import pprint\n",
        "print(\"Best score: {0}\\nExecution time: {1:.2f} sec\".format(random_search_lr.best_score_, toc - tic))\n",
        "print(\"Best param:\")\n",
        "pprint(random_search_lr.best_params_)"
      ]
    },
    {
      "cell_type": "code",
      "execution_count": null,
      "metadata": {
        "_cell_guid": "c754a04b-c698-f2c3-c5fe-44f7716110e5"
      },
      "outputs": [],
      "source": [
        "# \u30d9\u30b9\u30c8\u306a\u30d1\u30e9\u30e1\u30fc\u30bf\u3092\u5225\u540d\u3067\u4fdd\u5b58\n",
        "lr_best_params = random_search_lr.best_params_\n",
        "print(lr_best_params)"
      ]
    },
    {
      "cell_type": "code",
      "execution_count": null,
      "metadata": {
        "_cell_guid": "8273e259-5f33-ccd8-8ed8-794392ec1260"
      },
      "outputs": [],
      "source": [
        "# \u30e2\u30c7\u30eb\u306e\u69cb\u7bc9\uff08\u30e9\u30f3\u30c0\u30e0\u30b5\u30fc\u30c1\u3067\u898b\u3064\u3051\u305f\u30d9\u30b9\u30c8\u306a\u30d1\u30e9\u30e1\u30fc\u30bf\u3092\u4f7f\u7528\uff09\n",
        "best_lr_model = LogisticRegression(random_state=42, **lr_best_params)"
      ]
    },
    {
      "cell_type": "code",
      "execution_count": null,
      "metadata": {
        "_cell_guid": "5e00f611-8de4-90b7-0f3a-dc60537d7f56"
      },
      "outputs": [],
      "source": [
        "# \u30e2\u30c7\u30eb\u306e\u5b66\u7fd2\n",
        "best_lr_model.fit(X_train, y_train)"
      ]
    },
    {
      "cell_type": "code",
      "execution_count": null,
      "metadata": {
        "_cell_guid": "618cccb1-fa31-7a4a-a45f-e1ce58c4cc13"
      },
      "outputs": [],
      "source": [
        "# \u30c8\u30ec\u30fc\u30cb\u30f3\u30b0\u30c7\u30fc\u30bf\u306b\u5bfe\u3059\u308b\u4e88\u6e2c\u7cbe\u5ea6\n",
        "print(\"mean accuracy (train): {0:.4f}\".format(best_lr_model.score(X_train, y_train)))"
      ]
    },
    {
      "cell_type": "markdown",
      "metadata": {
        "_cell_guid": "d145c5ce-bb78-569d-ce8a-75c50d5a44b6"
      },
      "source": [
        "### RandomForestClassifier Ver"
      ]
    },
    {
      "cell_type": "code",
      "execution_count": null,
      "metadata": {
        "_cell_guid": "35fdc248-7c52-f8fa-ec12-392fec71e8a2"
      },
      "outputs": [],
      "source": [
        "# \"n_estimators\": 10, \n",
        "# \"criterion\": 'gini', \n",
        "# \"max_depth\": None, \n",
        "# \"min_samples_split\": 2, \n",
        "# \"min_samples_leaf\": 1, \n",
        "# \"min_weight_fraction_leaf\": 0.0, \n",
        "# \"max_features\": 'auto', \n",
        "# \"max_leaf_nodes\": None, \n",
        "# \"bootstrap\": True, \n",
        "# \"oob_score\": False, \n",
        "# \"n_jobs\": 1, \n",
        "# \"random_state\": None, \n",
        "# \"verbose\": 0, \n",
        "# \"warm_start\": False, \n",
        "# \"class_weight\": None\n",
        "\n",
        "# \u30d1\u30e9\u30e1\u30fc\u30bf\u7a7a\u9593\u4e0a\u306b\u5206\u5e03\u3092\u6307\u5b9a\u3059\u308b\uff08\u4eca\u56de\u306f\u30e9\u30f3\u30c0\u30e0\u30d5\u30a9\u30ec\u30b9\u30c8\u3092\u4eee\u5b9a\uff09\n",
        "param_dist = {\n",
        "            \"n_estimators\": np.arange(75, 125),\n",
        "            \"min_samples_split\": stats.randint(2, 11), \n",
        "            \"min_samples_leaf\": stats.randint(1, 5), \n",
        "            \"max_features\": stats.randint(1, 3)\n",
        "}"
      ]
    },
    {
      "cell_type": "code",
      "execution_count": null,
      "metadata": {
        "_cell_guid": "c68130fc-c49c-2bda-d16c-748b44dba924"
      },
      "outputs": [],
      "source": [
        "# \u30e9\u30f3\u30c0\u30e0\u30b5\u30fc\u30c1CV\u30aa\u30d6\u30b8\u30a7\u30af\u30c8\u3092\u4f5c\u308b\n",
        "random_search_rf = RandomizedSearchCV(RandomForestClassifier(random_state=42), \n",
        "                                   param_distributions=param_dist, cv=10, \n",
        "                                   n_iter=10, random_state=42)"
      ]
    },
    {
      "cell_type": "code",
      "execution_count": null,
      "metadata": {
        "_cell_guid": "cf26c83b-bebe-4d41-d9c4-e9411863ab7f"
      },
      "outputs": [],
      "source": [
        "# \u30e9\u30f3\u30c0\u30e0\u30b5\u30fc\u30c1\u3092\u5b9f\u884c\n",
        "tic = time.time() # \u6642\u9593\u8a08\u6e2c\u958b\u59cb\n",
        "random_search_rf.fit(X_train, y_train)\n",
        "toc = time.time() # \u6642\u9593\u8a08\u6e2c\u7d42\u4e86"
      ]
    },
    {
      "cell_type": "code",
      "execution_count": null,
      "metadata": {
        "_cell_guid": "82b50e96-a436-4510-bcf1-e5bd617b4dd4"
      },
      "outputs": [],
      "source": [
        "# \u7d50\u679c\u3092\u8868\u793a\n",
        "from pprint import pprint\n",
        "print(\"Best score: {0}\\nExecution time: {1:.2f} sec\".format(random_search_rf.best_score_, toc - tic))\n",
        "print(\"Best param:\")\n",
        "pprint(random_search_rf.best_params_)"
      ]
    },
    {
      "cell_type": "code",
      "execution_count": null,
      "metadata": {
        "_cell_guid": "09d6c266-d99f-ace0-82e9-418c48ccb7b8"
      },
      "outputs": [],
      "source": [
        "# \u30d9\u30b9\u30c8\u306a\u30d1\u30e9\u30e1\u30fc\u30bf\u3092\u5225\u540d\u3067\u4fdd\u5b58\n",
        "rf_best_params = random_search_rf.best_params_\n",
        "print(rf_best_params)"
      ]
    },
    {
      "cell_type": "code",
      "execution_count": null,
      "metadata": {
        "_cell_guid": "b1254bdd-950c-04c4-47ea-c7174e57d668"
      },
      "outputs": [],
      "source": [
        "# \u30e2\u30c7\u30eb\u306e\u69cb\u7bc9\uff08\u30e9\u30f3\u30c0\u30e0\u30b5\u30fc\u30c1\u3067\u898b\u3064\u3051\u305f\u30d9\u30b9\u30c8\u306a\u30d1\u30e9\u30e1\u30fc\u30bf\u3092\u4f7f\u7528\uff09\n",
        "best_rf_model = RandomForestClassifier(random_state=42, **rf_best_params)"
      ]
    },
    {
      "cell_type": "code",
      "execution_count": null,
      "metadata": {
        "_cell_guid": "73a74338-4d4c-2d11-16f3-bfa4bc4adb6e"
      },
      "outputs": [],
      "source": [
        "# \u30e2\u30c7\u30eb\u306e\u5b66\u7fd2\n",
        "best_rf_model.fit(X_train, y_train)"
      ]
    },
    {
      "cell_type": "code",
      "execution_count": null,
      "metadata": {
        "_cell_guid": "6cfcf4e5-286c-5909-09bb-3a0c6983a23f"
      },
      "outputs": [],
      "source": [
        "# \u30c8\u30ec\u30fc\u30cb\u30f3\u30b0\u30c7\u30fc\u30bf\u306b\u5bfe\u3059\u308b\u4e88\u6e2c\u7cbe\u5ea6\n",
        "print(\"mean accuracy (train): {0:.4f}\".format(best_rf_model.score(X_train, y_train)))"
      ]
    },
    {
      "cell_type": "markdown",
      "metadata": {
        "_cell_guid": "5b3e5ef3-c247-7c3c-9092-2b9f4dafa434"
      },
      "source": [
        "## \u30e2\u30c7\u30eb\u30a2\u30f3\u30b5\u30f3\u30d6\u30eb\u306b\u3088\u308b\u4e88\u6e2c"
      ]
    },
    {
      "cell_type": "code",
      "execution_count": null,
      "metadata": {
        "_cell_guid": "fd1d360d-a21f-5e28-9989-a0ba30094141"
      },
      "outputs": [],
      "source": [
        "# VotingClassifier\u306e\u8aad\u307f\u8fbc\u307f\n",
        "from sklearn.ensemble import VotingClassifier"
      ]
    },
    {
      "cell_type": "code",
      "execution_count": null,
      "metadata": {
        "_cell_guid": "fdfd4e9a-52a1-c53b-4390-9b244a4775ec"
      },
      "outputs": [],
      "source": [
        "# \u8907\u6570\u306e\u30e2\u30c7\u30eb\u3092\u7528\u610f\u3002\u5404\u30e2\u30c7\u30eb\u306e\u30cf\u30a4\u30d1\u30fc\u30d1\u30e9\u30e1\u30fc\u30bf\u306f\u30c1\u30e5\u30fc\u30cb\u30f3\u30b0\u6e08\u307f\u3068\u4eee\u5b9a\n",
        "classifiers = [\n",
        "    ('gbc', GradientBoostingClassifier(random_state=42, **gbc_best_params)),\n",
        "    ('lr', LogisticRegression(random_state=42, **lr_best_params)),\n",
        "    ('rf', RandomForestClassifier(random_state=42, **rf_best_params))\n",
        "]"
      ]
    },
    {
      "cell_type": "code",
      "execution_count": null,
      "metadata": {
        "_cell_guid": "7b23bed5-ec7d-9ed9-95cd-1a31bdac9df1"
      },
      "outputs": [],
      "source": [
        "# VotingClassifier\u306e\u4f5c\u6210\n",
        "models = VotingClassifier(classifiers, weights=[1, 1, 1])"
      ]
    },
    {
      "cell_type": "code",
      "execution_count": null,
      "metadata": {
        "_cell_guid": "c2cd7f41-187d-c52b-90d1-75dc493586ab"
      },
      "outputs": [],
      "source": [
        "# \u30c8\u30ec\u30fc\u30cb\u30f3\u30b0\n",
        "models.fit(X_train, y_train)"
      ]
    },
    {
      "cell_type": "code",
      "execution_count": null,
      "metadata": {
        "_cell_guid": "41239fa6-5b6b-d17a-ec1d-7a02974aafd2"
      },
      "outputs": [],
      "source": [
        "# \u30c8\u30ec\u30fc\u30cb\u30f3\u30b0\u30c7\u30fc\u30bf\u306b\u5bfe\u3059\u308b\u4e88\u6e2c\u7cbe\u5ea6\n",
        "print(\"mean accuracy (train): {0:.4f}\".format(models.score(X_train, y_train)))"
      ]
    }
  ],
  "metadata": {
    "_change_revision": 0,
    "_is_fork": false,
    "kernelspec": {
      "display_name": "Python 3",
      "language": "python",
      "name": "python3"
    },
    "language_info": {
      "codemirror_mode": {
        "name": "ipython",
        "version": 3
      },
      "file_extension": ".py",
      "mimetype": "text/x-python",
      "name": "python",
      "nbconvert_exporter": "python",
      "pygments_lexer": "ipython3",
      "version": "3.5.2"
    }
  },
  "nbformat": 4,
  "nbformat_minor": 0
}