{
  "cells": [
    {
      "cell_type": "code",
      "execution_count": null,
      "metadata": {
        "_cell_guid": "2a50f669-a72d-3692-0157-e7ce1ca55ff1"
      },
      "outputs": [],
      "source": [
        "from __future__ import division\n",
        "import pandas as pd\n",
        "import numpy as np\n",
        "import re as re"
      ]
    },
    {
      "cell_type": "markdown",
      "metadata": {
        "_cell_guid": "e042f4cf-1c72-9e48-ac50-845560c98725"
      },
      "source": [
        "Reading the data"
      ]
    },
    {
      "cell_type": "code",
      "execution_count": null,
      "metadata": {
        "_cell_guid": "515e6545-01e4-45b2-0f65-6fa5d0663892"
      },
      "outputs": [],
      "source": [
        "# Train data\n",
        "train = pd.read_csv('../input/train.csv', header = 0, dtype={'Age': np.float64})\n",
        "# Test data\n",
        "test  = pd.read_csv('../input/test.csv' , header = 0, dtype={'Age': np.float64})"
      ]
    },
    {
      "cell_type": "markdown",
      "metadata": {
        "_cell_guid": "3361623d-4653-b1a0-bd97-461bc9d29365"
      },
      "source": [
        "Data cleanup (taken from gaohong notebook)"
      ]
    },
    {
      "cell_type": "code",
      "execution_count": null,
      "metadata": {
        "_cell_guid": "4ff7443d-1ffb-9565-bfd6-07ab6057b438"
      },
      "outputs": [],
      "source": [
        "#Use the Regular Expression to get the title from the name field.\n",
        "pattern = re.compile(r'.*?,(.*?)\\.')\n",
        "def getTitle(x):\n",
        "    result = pattern.search(x)\n",
        "    if result:\n",
        "        return result.group(1).strip()\n",
        "    else:\n",
        "        return ''\n",
        "\n",
        "train['Title'] = train['Name'].map(getTitle)\n",
        "test['Title'] = test['Name'].map(getTitle)\n",
        "\n",
        "#Set the missing Age of Title 'Master' \n",
        "master_age_mean = train['Age'][(train['Title']=='Master')&(train['Age']>0)].mean()\n",
        "train.loc[train[(train['Title']=='Master')&(train['Age'].isnull())].index, 'Age'] = master_age_mean\n",
        "test.loc[test[(test['Title']=='Master')&(test['Age'].isnull())].index, 'Age'] = master_age_mean\n",
        "\n",
        "#Set the missing Age of Title 'Mr' \n",
        "mr_age_mean = train['Age'][(train['Title']=='Mr')&(train['Age']>0)].mean()\n",
        "train.loc[train[(train['Title']=='Mr')&(train['Age'].isnull())].index, 'Age'] = mr_age_mean\n",
        "test.loc[test[(test['Title']=='Mr')&(test['Age'].isnull())].index, 'Age'] = mr_age_mean\n",
        "\n",
        "#Set the missing Age of Title 'Miss' or 'Ms'\n",
        "miss_age_mean = train['Age'][(train['Title']=='Miss')&(train['Age']>0)].mean()\n",
        "train.loc[train[(train['Title']=='Miss')&(train['Age'].isnull())].index, 'Age'] = miss_age_mean\n",
        "test.loc[test[((test['Title']=='Miss')|(test['Title']=='Ms'))&(test['Age'].isnull())].index, 'Age'] = miss_age_mean\n",
        "\n",
        "#Set the missing Age of Title 'Mrs' \n",
        "mrs_age_mean = train['Age'][(train['Title']=='Mrs')&(train['Age']>0)].mean()\n",
        "train.loc[train[(train['Title']=='Mrs')&(train['Age'].isnull())].index, 'Age'] = mrs_age_mean\n",
        "test.loc[test[(test['Title']=='Mrs')&(test['Age'].isnull())].index, 'Age'] = mrs_age_mean\n",
        "\n",
        "#Set the missing Age of Title 'Dr' \n",
        "dr_age_mean = train['Age'][(train['Title']=='Dr')&(train['Age']>0)].mean()\n",
        "train.loc[train[(train['Title']=='Dr')&(train['Age'].isnull())].index, 'Age'] = dr_age_mean\n",
        "test.loc[test[(test['Title']=='Mrs')&(test['Age'].isnull())].index, 'Age'] = dr_age_mean\n",
        "\n",
        "sex_to_int = {'male':1, 'female':0}\n",
        "train['SexInt'] = train['Sex'].map(sex_to_int)\n",
        "embark_to_int = {'S': 0, 'C':1, 'Q':2}\n",
        "train['EmbarkedInt'] = train['Embarked'].map(embark_to_int)\n",
        "train['EmbarkedInt'] = train['EmbarkedInt'].fillna(0)\n",
        "test['SexInt'] = test['Sex'].map(sex_to_int)\n",
        "test['EmbarkedInt'] = test['Embarked'].map(embark_to_int)\n",
        "test['EmbarkedInt'] = test['EmbarkedInt'].fillna(0)\n",
        "test['Fare'] = test['Fare'].fillna(test['Fare'].mean())\n",
        "train['FamilySize'] = train['SibSp'] + train['Parch']\n",
        "test['FamilySize'] = test['SibSp'] + test['Parch']\n",
        "\n",
        "ticket = train[train['Parch']==0]\n",
        "ticket = ticket.loc[ticket.Ticket.duplicated(False)]\n",
        "grouped = ticket.groupby(['Ticket'])\n",
        "#The Friends field indicate if the passenger has frineds/SibSp in the boat.\n",
        "train['Friends'] = 0\n",
        "#The below fields statistic how many are survived or not survived by sex.\n",
        "train['Male_Friends_Survived'] = 0\n",
        "train['Male_Friends_NotSurvived'] = 0\n",
        "train['Female_Friends_Survived'] = 0\n",
        "train['Female_Friends_NotSurvived'] = 0\n",
        "for (k, v) in grouped.groups.items():\n",
        "    for i in range(0, len(v)):\n",
        "        train.loc[v[i], 'Friends'] = 1\n",
        "        train.loc[v[i], 'Male_Friends_Survived'] = train[(train.Ticket==k)&(train.index!=v[i])&(train.Sex=='male')&(train.Survived==1)].Survived.count()\n",
        "        train.loc[v[i], 'Male_Friends_NotSurvived'] = train[(train.Ticket==k)&(train.index!=v[i])&(train.Sex=='male')&(train.Survived==0)].Survived.count()\n",
        "        train.loc[v[i], 'Female_Friends_Survived'] = train[(train.Ticket==k)&(train.index!=v[i])&(train.Sex=='female')&(train.Survived==1)].Survived.count()\n",
        "        train.loc[v[i], 'Female_Friends_NotSurvived'] = train[(train.Ticket==k)&(train.index!=v[i])&(train.Sex=='female')&(train.Survived==0)].Survived.count()\n",
        "\n",
        "test_ticket = test[test['Parch']==0]\n",
        "test['Friends'] = 0\n",
        "test['Male_Friends_Survived'] = 0\n",
        "test['Male_Friends_NotSurvived'] = 0\n",
        "test['Female_Friends_Survived'] = 0\n",
        "test['Female_Friends_NotSurvived'] = 0\n",
        "\n",
        "grouped = test_ticket.groupby(['Ticket'])\n",
        "for (k, v) in grouped.groups.items():\n",
        "    temp_df = train[train.Ticket==k]\n",
        "    length = temp_df.shape[0]\n",
        "    if temp_df.shape[0]>0:\n",
        "        for i in range(0, len(v)):\n",
        "            test.loc[v[i], 'Friends'] = 1\n",
        "            test.loc[v[i], 'Male_Friends_Survived'] = temp_df[(temp_df.Sex=='male')&(temp_df.Survived==1)].shape[0]\n",
        "            test.loc[v[i], 'Male_Friends_NotSurvived'] = temp_df[(temp_df.Sex=='male')&(temp_df.Survived==0)].shape[0]\n",
        "            test.loc[v[i], 'Female_Friends_Survived'] = temp_df[(temp_df.Sex=='female')&(temp_df.Survived==1)].shape[0]\n",
        "            test.loc[v[i], 'Female_Friends_NotSurvived'] = temp_df[(temp_df.Sex=='female')&(temp_df.Survived==0)].shape[0]\n",
        "            \n",
        "            \n",
        "train['FatherOnBoard'] = 0\n",
        "train['FatherSurvived'] = 0\n",
        "train['MotherOnBoard'] = 0\n",
        "train['MotherSurvived'] = 0\n",
        "train['ChildOnBoard'] = 0\n",
        "train['ChildSurvived'] = 0\n",
        "train['ChildNotSurvived'] = 0\n",
        "grouped = train[train.Parch>0].groupby('Ticket')\n",
        "for (k, v) in grouped.groups.items():\n",
        "    for i in range(0, len(v)):\n",
        "        if train.loc[v[i], 'Age']<19:\n",
        "            temp = train[(train.Ticket==k)&(train.Age>18)]\n",
        "            if temp[temp.SexInt==1].shape[0] == 1:\n",
        "                train.loc[v[i], 'FatherOnBoard'] = 1\n",
        "                train.loc[v[i], 'FatherSurvived'] = temp[temp.SexInt==1].Survived.sum()\n",
        "            if temp[temp.SexInt==0].shape[0] == 1:\n",
        "                train.loc[v[i], 'MotherOnBoard'] = 1\n",
        "                train.loc[v[i], 'MotherSurvived'] = temp[temp.SexInt==0].Survived.sum()\n",
        "        else:\n",
        "            temp = train[(train.Ticket==k)&(train.Age<19)]\n",
        "            length = temp.shape[0]\n",
        "            if length>0:\n",
        "                train.loc[v[i], 'ChildOnBoard'] = 1\n",
        "                train.loc[v[i], 'ChildSurvived'] = temp[temp.Survived==1].shape[0]\n",
        "                train.loc[v[i], 'ChildNotSurvived'] = temp[temp.Survived==0].shape[0]\n",
        "                \n",
        "                \n",
        "test['FatherOnBoard'] = 0\n",
        "test['FatherSurvived'] = 0\n",
        "test['MotherOnBoard'] = 0\n",
        "test['MotherSurvived'] = 0\n",
        "test['ChildOnBoard'] = 0\n",
        "test['ChildSurvived'] = 0\n",
        "test['ChildNotSurvived'] = 0\n",
        "grouped = test[test.Parch>0].groupby('Ticket')\n",
        "for (k, v) in grouped.groups.items():\n",
        "    temp = train[train.Ticket==k]\n",
        "    length = temp.shape[0]\n",
        "    if length>0:\n",
        "        for i in range(0, len(v)):\n",
        "            if test.loc[v[i], 'Age']<19:\n",
        "                if temp[(temp.SexInt==1)&(temp.Age>18)].shape[0] == 1:\n",
        "                    test.loc[v[i], 'FatherOnBoard'] = 1\n",
        "                    test.loc[v[i], 'FatherSurvived'] = temp[(temp.SexInt==1)&(temp.Age>18)].Survived.sum()\n",
        "                if temp[(temp.SexInt==0)&(temp.Age>18)].shape[0] == 1:\n",
        "                    test.loc[v[i], 'MotherOnBoard'] = 1\n",
        "                    test.loc[v[i], 'MotherSurvived'] = temp[(temp.SexInt==0)&(temp.Age>18)].Survived.sum()\n",
        "            else:\n",
        "                length = temp[temp.Age<19].shape[0]\n",
        "                if length>0:\n",
        "                    test.loc[v[i], 'ChildOnBoard'] = 1\n",
        "                    test.loc[v[i], 'ChildSurvived'] = temp[(temp.Age<19)&(temp.Survived==1)].shape[0]\n",
        "                    test.loc[v[i], 'ChildNotSurvived'] = temp[(temp.Age<19)&(temp.Survived==0)].shape[0]\n",
        "                    \n",
        "                    \n",
        "title_to_int = {'Mr':1, 'Miss':2, 'Mrs':3, 'Master':1, 'Dr':4, 'Rev':4, 'Mlle':2, 'Major':4, 'Col':4,\n",
        "        'Ms':3, 'Lady':3, 'the Countess':4, 'Sir':4, 'Mme':3, 'Capt':4, 'Jonkheer':4, 'Don':1, 'Dona':3}\n",
        "train['TitleInt'] = train['Title'].map(title_to_int)\n",
        "test['TitleInt'] = test['Title'].map(title_to_int)\n",
        "train.loc[train[train['Age']<13].index, 'TitleInt'] = 5\n",
        "test.loc[test[test['Age']<13].index, 'TitleInt'] = 5\n",
        "\n",
        "train['FareCat'] = pd.cut(train['Fare'], [-0.1, 50, 100, 150, 200, 300, 1000], right=True, \n",
        "        labels=[0, 1, 2, 3, 4, 5])\n",
        "test['FareCat'] = pd.cut(test['Fare'], [-0.1, 50, 100, 150, 200, 300, 1000], right=True, \n",
        "        labels=[0, 1, 2, 3, 4, 5])\n",
        "train['AgeCat'] = pd.cut(train['Age'], [-0.1, 12.1, 20, 30, 35, 40, 45, 50, 55, 65, 100], right=True, \n",
        "        labels=[0, 1, 2, 3, 4, 5, 6, 7, 8, 9])\n",
        "test['AgeCat'] = pd.cut(test['Age'], [-0.1, 12.1, 20, 30, 35, 40, 45, 50, 55, 65, 100], right=True, \n",
        "        labels=[0, 1, 2, 3, 4, 5, 6, 7, 8, 9])"
      ]
    },
    {
      "cell_type": "markdown",
      "metadata": {
        "_cell_guid": "afecefb4-e825-ecbe-4ee7-7b3730d4578b"
      },
      "source": [
        "Defining and scaling train and test data"
      ]
    },
    {
      "cell_type": "code",
      "execution_count": null,
      "metadata": {
        "_cell_guid": "ef9d42a2-1c35-c7b0-9b18-4a81cd8c99ae"
      },
      "outputs": [],
      "source": [
        "# Utility split method\n",
        "def split_data(x, y, split_value, indices=None):\n",
        "    # Keeping the indices is usefull sometimes\n",
        "    if indices is None:\n",
        "        indices = np.arange(x.shape[0])\n",
        "        # shuffling\n",
        "        np.random.shuffle(indices)\n",
        "    data = x[indices]\n",
        "    labels = y[indices]\n",
        "    nb_test_samples = int(split_value * data.shape[0])\n",
        "    \n",
        "    # Splitting\n",
        "    x_ = data[:-nb_test_samples]\n",
        "    y_ = labels[:-nb_test_samples]\n",
        "    _x = data[-nb_test_samples:]\n",
        "    _y = labels[-nb_test_samples:]\n",
        "    \n",
        "    return x_, y_, _x, _y, indices"
      ]
    },
    {
      "cell_type": "code",
      "execution_count": null,
      "metadata": {
        "_cell_guid": "eb767894-5623-383b-d0ac-4ed7edd9762b"
      },
      "outputs": [],
      "source": [
        "from sklearn.preprocessing import StandardScaler\n",
        "\n",
        "# Defining columns to use in the model\n",
        "columns = ['Pclass', 'SexInt', 'EmbarkedInt', 'Age', 'TitleInt','Fare', \n",
        "        'Friends', 'Male_Friends_Survived', 'Male_Friends_NotSurvived', 'Female_Friends_Survived', 'Female_Friends_NotSurvived',\n",
        "        'MotherOnBoard', 'MotherSurvived', 'ChildOnBoard', 'ChildSurvived', 'ChildNotSurvived']\n",
        "\n",
        "# train/test split\n",
        "x_train, y_train, x_test, y_test, _ = split_data(train[columns].values, train['Survived'].values, 0.2)\n",
        "\n",
        "# data scaling\n",
        "scaler = StandardScaler()\n",
        "scaled_x_train = scaler.fit_transform(x_train)\n",
        "scaled_x_test = scaler.transform(x_test)\n",
        "scaled_test = scaler.transform(test[columns])"
      ]
    },
    {
      "cell_type": "markdown",
      "metadata": {
        "_cell_guid": "639f071d-747d-abe9-49fd-f3ce7940349f"
      },
      "source": [
        "Dense Highway Neural Network model"
      ]
    },
    {
      "cell_type": "code",
      "execution_count": null,
      "metadata": {
        "_cell_guid": "bc28ffa1-e66e-32e1-9f1f-9e5eed526f73"
      },
      "outputs": [],
      "source": [
        "from keras.layers import Input\n",
        "from keras.layers.core import Dense, Dropout, Highway\n",
        "from keras.models import Model\n",
        "from keras.regularizers import l2\n",
        "from keras.optimizers import Adam\n",
        "from keras.utils import np_utils\n",
        "\n",
        "def dense_highway_nn(input_len, num_units, dropout=0.5):\n",
        "    input_x = Input(shape=(input_len,))\n",
        "    dense = Dense(num_units, init='normal', activation='relu')(input_x)\n",
        "    dropout = Dropout(dropout)(dense)\n",
        "    highway = Highway()(dropout)\n",
        "    output_y = Dense(1, activation='sigmoid')(highway)\n",
        "\n",
        "    model = Model(input=[input_x], output=[output_y])\n",
        "    model.compile(loss='binary_crossentropy',\n",
        "                  optimizer='adam',\n",
        "                  metrics=['acc'])\n",
        "    return model"
      ]
    },
    {
      "cell_type": "code",
      "execution_count": null,
      "metadata": {
        "_cell_guid": "4777e81e-e2ad-147d-8558-3f21c934bac4"
      },
      "outputs": [],
      "source": [
        "# Defining and fitting the NN model\n",
        "nn_model = dense_highway_nn(scaled_x_train.shape[1], 1000, dropout=0.5)\n",
        "nn_model.fit(scaled_x_train, y_train, validation_split=.2, shuffle=True,\n",
        "             nb_epoch=30, batch_size=32)\n",
        "\n",
        "# Score on x_test set\n",
        "scores = nn_model.evaluate(scaled_x_test, y_test, verbose=0)\n",
        "print(\"\\n%s: %.2f%%\" % (\"Test Accuracy\", scores[1] * 100))\n",
        "    \n",
        "\n",
        "# Final test fit\n",
        "train_scaled = scaler.fit_transform(train[columns])\n",
        "test_scaled = scaler.transform(test[columns])\n",
        "nn_model.fit(train_scaled, train['Survived'], nb_epoch=30, batch_size=32, verbose=0)\n",
        "\n",
        "# Final test predict\n",
        "test_proba = nn_model.predict(scaled_test)\n",
        "test_classes = np_utils.probas_to_classes(test_proba)\n",
        "\n",
        "# Competition submission\n",
        "submission = pd.DataFrame({\n",
        "        \"PassengerId\": test[\"PassengerId\"],\n",
        "        \"Survived\": test_classes\n",
        "    })\n",
        "submission.to_csv(\"titanic_predict_highwaynn.csv\", index=False)"
      ]
    }
  ],
  "metadata": {
    "_change_revision": 0,
    "_is_fork": false,
    "kernelspec": {
      "display_name": "Python 3",
      "language": "python",
      "name": "python3"
    },
    "language_info": {
      "codemirror_mode": {
        "name": "ipython",
        "version": 3
      },
      "file_extension": ".py",
      "mimetype": "text/x-python",
      "name": "python",
      "nbconvert_exporter": "python",
      "pygments_lexer": "ipython3",
      "version": "3.5.2"
    }
  },
  "nbformat": 4,
  "nbformat_minor": 0
}