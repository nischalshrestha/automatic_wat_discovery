{
  "cells": [
    {
      "cell_type": "markdown",
      "metadata": {
        "_cell_guid": "a4ba2720-90dd-b81c-4ea9-07c2afc684dc"
      },
      "source": [
        "Titanic Data"
      ]
    },
    {
      "cell_type": "code",
      "execution_count": null,
      "metadata": {
        "_cell_guid": "6bc51f90-0fbb-a485-12c0-324edc9fca85"
      },
      "outputs": [],
      "source": [
        "import pandas as pd\n",
        "import numpy as np\n",
        "import random as rnd\n",
        "\n",
        "# visualization\n",
        "import seaborn as sns\n",
        "import matplotlib.pyplot as plt\n",
        "%matplotlib inline\n",
        "\n",
        "# machine learning\n",
        "from sklearn.linear_model import LogisticRegression\n",
        "from sklearn.svm import SVC, LinearSVC\n",
        "from sklearn.ensemble import RandomForestClassifier\n",
        "from sklearn.neighbors import KNeighborsClassifier\n",
        "from sklearn.naive_bayes import GaussianNB\n",
        "from sklearn.linear_model import Perceptron\n",
        "from sklearn.linear_model import SGDClassifier\n",
        "from sklearn.tree import DecisionTreeClassifier\n",
        "\n",
        "\n",
        "from subprocess import check_output\n",
        "print(check_output([\"ls\", \"../input\"]).decode(\"utf8\"))\n",
        "\n",
        "# Any results you write to the current directory are saved as output."
      ]
    },
    {
      "cell_type": "code",
      "execution_count": null,
      "metadata": {
        "_cell_guid": "3cda71cf-b66d-b136-2e54-404c2f2c547f"
      },
      "outputs": [],
      "source": [
        "test_df = pd.read_csv(\"../input/test.csv\")\n",
        "train_df = pd.read_csv(\"../input/train.csv\")"
      ]
    },
    {
      "cell_type": "code",
      "execution_count": null,
      "metadata": {
        "_cell_guid": "a556432e-ae8b-9522-056f-d29179cc9ec3"
      },
      "outputs": [],
      "source": [
        "train_df.head(1)"
      ]
    },
    {
      "cell_type": "code",
      "execution_count": null,
      "metadata": {
        "_cell_guid": "8263c7df-df5f-2923-6368-9503fb1baf5d"
      },
      "outputs": [],
      "source": [
        "train_df.drop(['Name','PassengerId','Cabin','Ticket','Fare'],axis=1,inplace=True)\n",
        "test_df.drop(['Name','Cabin','Ticket','Fare'],axis=1,inplace=True)\n",
        "#train_df = train_df.dropna()\n",
        "#test_df = test_df.dropna()\n",
        "train_df.count()"
      ]
    },
    {
      "cell_type": "code",
      "execution_count": null,
      "metadata": {
        "_cell_guid": "f80d37fc-c018-c2ae-3744-36a55cdddcd7"
      },
      "outputs": [],
      "source": [
        "print(train_df['Age'].mean())\n",
        "print(train_df['SibSp'].mean())\n",
        "print(train_df['Parch'].mean())"
      ]
    },
    {
      "cell_type": "code",
      "execution_count": null,
      "metadata": {
        "_cell_guid": "10fcfed0-7379-f4ae-86fc-1abf31df1f39"
      },
      "outputs": [],
      "source": [
        "a = train_df[['PassengerId','Age','SibSp', 'Parch','Sex','Pclass']]\n",
        "a = a[a['Age'].isnull()]\n",
        "a[a['SibSp']==8]\n",
        "\n"
      ]
    },
    {
      "cell_type": "code",
      "execution_count": null,
      "metadata": {
        "_cell_guid": "be8a71d8-9200-4fd7-0799-089689c3e62f"
      },
      "outputs": [],
      "source": [
        "\n",
        "media_idade   = train_df[\"Age\"].mean()\n",
        "idade_std       = train_df[\"Age\"].std()\n",
        "qt_nan_idade = train_df[\"Age\"].isnull().sum()\n",
        "\n",
        "#GERAR UMA M\u00c9DIA DE IDADES\n",
        "rand_1 = np.random.randint(media_idade - idade_std, media_idade + idade_std, size = qt_nan_idade)\n",
        "rand_1"
      ]
    },
    {
      "cell_type": "code",
      "execution_count": null,
      "metadata": {
        "_cell_guid": "5037e698-e446-919d-078d-bd856a297220"
      },
      "outputs": [],
      "source": [
        "rand_1.mean()"
      ]
    },
    {
      "cell_type": "code",
      "execution_count": null,
      "metadata": {
        "_cell_guid": "932b1039-d0cb-7d18-d8b0-8a53ac5024a5"
      },
      "outputs": [],
      "source": [
        "fig, (axis1,axis2) = plt.subplots(1,2,figsize=(15,4))\n",
        "axis1.set_title('IDADE ANTES DE SER CONVERTIDA')\n",
        "axis2.set_title('IDADE DEPOIS DE SER CONVERTIDA')\n",
        "\n",
        "media_idade   = train_df[\"Age\"].mean()\n",
        "idade_std       = train_df[\"Age\"].std()\n",
        "qt_nan_idade = train_df[\"Age\"].isnull().sum()\n",
        "\n",
        "#GERAR UMA M\u00c9DIA DE IDADES\n",
        "rand_1 = np.random.randint(media_idade - idade_std, media_idade + idade+std, size = qt_nan_idade)\n",
        "train_df[\"Age\"][np.isnan(train_df[\"Age\"])] = rand_1\n",
        "\n",
        "average_age1   = test_df[\"Age\"].mean()\n",
        "std_age1       = test_df[\"Age\"].std()\n",
        "count_nan_age1 = test_df[\"Age\"].isnull().sum()\n",
        "\n",
        "#GERAR UMA M\u00c9DIA DE IDADES\n",
        "rand_2 = np.random.randint(average_age1 - std_age1, average_age1 + std_age1, size = count_nan_age1)\n",
        "\n",
        "test_df[\"Age\"][np.isnan(test_df[\"Age\"])] = rand_2\n",
        "\n",
        "\n",
        "train_df['Age'].hist(bins=70, ax=axis1)\n",
        "\n",
        "\n",
        "\n",
        "\n",
        "\n",
        "train_df['Age'].hist(bins=70, ax=axis1)\n",
        "\n",
        "# CONVERTENDO FLOAT PARA INT\n",
        "train_df['Age'] = train_df['Age'].astype(int)\n",
        "test_df['Age']  = test_df['Age'].astype(int)\n",
        "\n",
        "\n",
        "\n",
        "train_df['Age'].hist(bins=70, ax=axis2)\n",
        "\n",
        "\n",
        "print(train_df['Age'].mean())\n",
        "print(train_df['Age'].min())\n",
        "print(train_df['Age'].max())"
      ]
    },
    {
      "cell_type": "code",
      "execution_count": null,
      "metadata": {
        "_cell_guid": "446064ee-1c5e-cbc3-3977-d22462176251"
      },
      "outputs": [],
      "source": [
        "train_df.describe()"
      ]
    },
    {
      "cell_type": "code",
      "execution_count": null,
      "metadata": {
        "_cell_guid": "1dd2eede-0c3a-1b08-4cd1-31d1beb092f4"
      },
      "outputs": [],
      "source": [
        "train_df[['Pclass', 'Survived']].groupby(['Pclass'], as_index=False).mean().sort_values(by='Survived', ascending=False)"
      ]
    },
    {
      "cell_type": "code",
      "execution_count": null,
      "metadata": {
        "_cell_guid": "ec8c6fc1-48b7-edec-17d1-25d4d7a18f57"
      },
      "outputs": [],
      "source": [
        "train_df[[\"Sex\", \"Survived\"]].groupby(['Sex'], as_index=False).mean().sort_values(by='Survived', ascending=False)"
      ]
    },
    {
      "cell_type": "code",
      "execution_count": null,
      "metadata": {
        "_cell_guid": "477a0146-ac23-1139-52de-928d58e14ec3"
      },
      "outputs": [],
      "source": [
        "train_df[[\"SibSp\", \"Survived\"]].groupby(['SibSp'], as_index=False).mean().sort_values(by='Survived', ascending=False)"
      ]
    },
    {
      "cell_type": "code",
      "execution_count": null,
      "metadata": {
        "_cell_guid": "53c66555-9744-d8bc-1de9-722a013d5f90"
      },
      "outputs": [],
      "source": [
        "train_df[[\"Parch\", \"Survived\"]].groupby(['Parch'], as_index=False).mean().sort_values(by='Survived', ascending=False)"
      ]
    },
    {
      "cell_type": "code",
      "execution_count": null,
      "metadata": {
        "_cell_guid": "0251fbce-542e-48e9-9a43-81edf58d2c1a"
      },
      "outputs": [],
      "source": [
        "graph = sns.FacetGrid(train_df, col='Survived')\n",
        "graph.map(plt.hist, 'Age', bins=20)"
      ]
    },
    {
      "cell_type": "code",
      "execution_count": null,
      "metadata": {
        "_cell_guid": "8f703543-f2f3-57c7-1f5f-faede7ae41c7"
      },
      "outputs": [],
      "source": [
        "grid = sns.FacetGrid(train_df, col='Survived', row='Pclass', size=2.2, aspect=1.6)\n",
        "grid.map(plt.hist, 'Age', alpha=.5, bins=20)\n",
        "grid.add_legend()"
      ]
    },
    {
      "cell_type": "code",
      "execution_count": null,
      "metadata": {
        "_cell_guid": "5c598677-679d-27d7-7030-fc69a213a295"
      },
      "outputs": [],
      "source": [
        "train_df = train_df.dropna()"
      ]
    },
    {
      "cell_type": "code",
      "execution_count": null,
      "metadata": {
        "_cell_guid": "97c1b748-8136-e824-781f-cd060f943fab"
      },
      "outputs": [],
      "source": [
        "full_data = [train_df,test_df]"
      ]
    },
    {
      "cell_type": "code",
      "execution_count": null,
      "metadata": {
        "_cell_guid": "86d20d9e-0109-ddd1-6e64-97681afc8ee8"
      },
      "outputs": [],
      "source": [
        "full_data[1].info()"
      ]
    },
    {
      "cell_type": "code",
      "execution_count": null,
      "metadata": {
        "_cell_guid": "1da0a828-4262-c260-7c3c-dd204d2854ee"
      },
      "outputs": [],
      "source": [
        "for dataset in full_data:\n",
        "    dataset['Embarked'] = dataset['Embarked'].map( {'S': 0, 'C': 1, 'Q': 2} ).astype(int)\n",
        "\n",
        "train_df.head()"
      ]
    },
    {
      "cell_type": "code",
      "execution_count": null,
      "metadata": {
        "_cell_guid": "315b1971-ed8e-97f6-24f0-da35c2325bab"
      },
      "outputs": [],
      "source": [
        "full_data = [train_df, test_df]\n",
        "for dataset in full_data:\n",
        "    dataset['Sex'] = dataset['Sex'].map( {'female': 1, 'male': 0} ).astype(int)\n",
        "\n",
        "train_df.head()"
      ]
    },
    {
      "cell_type": "code",
      "execution_count": null,
      "metadata": {
        "_cell_guid": "51729ae0-a524-141b-3b6d-bcf5c076e99d"
      },
      "outputs": [],
      "source": [
        "for dataset in full_data:    \n",
        "    dataset.loc[ dataset['Age'] <= 16, 'Age'] = 0\n",
        "    dataset.loc[(dataset['Age'] > 16) & (dataset['Age'] <= 32), 'Age'] = 1\n",
        "    dataset.loc[(dataset['Age'] > 32) & (dataset['Age'] <= 48), 'Age'] = 2\n",
        "    dataset.loc[(dataset['Age'] > 48) & (dataset['Age'] <= 58), 'Age'] = 3\n",
        "    dataset.loc[ dataset['Age'] > 58, 'Age']\n",
        "train_df.head()"
      ]
    },
    {
      "cell_type": "code",
      "execution_count": null,
      "metadata": {
        "_cell_guid": "e638ce86-5194-3550-14c8-a545e755f1a3"
      },
      "outputs": [],
      "source": [
        "train_df\n",
        "print(train_df.columns)\n",
        "print(test_df.columns)"
      ]
    },
    {
      "cell_type": "code",
      "execution_count": null,
      "metadata": {
        "_cell_guid": "bbab117e-11fa-018d-0b03-092dc06e305d"
      },
      "outputs": [],
      "source": [
        ""
      ]
    },
    {
      "cell_type": "code",
      "execution_count": null,
      "metadata": {
        "_cell_guid": "1e0d52c9-a7b7-d307-49d3-82097f86e2f2"
      },
      "outputs": [],
      "source": [
        "X_train = train_df.drop(\"Survived\", axis=1)\n",
        "Y_train = train_df[\"Survived\"]\n",
        "X_test  = test_df.drop(\"PassengerId\", axis=1).copy()\n",
        "X_train.shape, Y_train.shape, X_test.shape\n",
        "print(train_df.columns)\n",
        "print(test_df.columns)"
      ]
    },
    {
      "cell_type": "code",
      "execution_count": null,
      "metadata": {
        "_cell_guid": "4580bbd0-f7e7-f463-d6ca-4c060f044c0d"
      },
      "outputs": [],
      "source": [
        "random_forest = RandomForestClassifier(n_estimators=400)\n",
        "random_forest.fit(X_train, Y_train)\n",
        "Y_pred = random_forest.predict(X_test)\n",
        "random_forest.score(X_train, Y_train)\n",
        "acc_random_forest = round(random_forest.score(X_train, Y_train) * 100, 2)\n",
        "acc_random_forest"
      ]
    },
    {
      "cell_type": "code",
      "execution_count": null,
      "metadata": {
        "_cell_guid": "e162a11d-1b77-4af2-fbad-071e8385dc24"
      },
      "outputs": [],
      "source": [
        "submission = pd.DataFrame({\n",
        "        \"PassengerId\": test_df[\"PassengerId\"],\n",
        "        \"Survived\": Y_pred\n",
        "    })\n",
        "submission.to_csv('submission.csv', index=False)"
      ]
    },
    {
      "cell_type": "code",
      "execution_count": null,
      "metadata": {
        "_cell_guid": "95cde3b2-a914-109b-9df2-41e4252c4a62"
      },
      "outputs": [],
      "source": [
        "test_df.count()"
      ]
    },
    {
      "cell_type": "code",
      "execution_count": null,
      "metadata": {
        "_cell_guid": "3d073b10-c43d-2c44-c042-96d2dc5580d3"
      },
      "outputs": [],
      "source": [
        ""
      ]
    }
  ],
  "metadata": {
    "_change_revision": 0,
    "_is_fork": false,
    "kernelspec": {
      "display_name": "Python 3",
      "language": "python",
      "name": "python3"
    },
    "language_info": {
      "codemirror_mode": {
        "name": "ipython",
        "version": 3
      },
      "file_extension": ".py",
      "mimetype": "text/x-python",
      "name": "python",
      "nbconvert_exporter": "python",
      "pygments_lexer": "ipython3",
      "version": "3.6.0"
    }
  },
  "nbformat": 4,
  "nbformat_minor": 0
}