{
  "cells": [
    {
      "cell_type": "markdown",
      "metadata": {
        "_cell_guid": "1e93e922-881c-c131-56c6-1437959f375f"
      },
      "source": [
        "First draft notebook exploring the Titanic dataset using Python. Aim is to learn Python data analysis and visualisation techniques."
      ]
    },
    {
      "cell_type": "code",
      "execution_count": null,
      "metadata": {
        "_cell_guid": "cfffd680-4845-0341-e7da-18a69dc57c55"
      },
      "outputs": [],
      "source": [
        "# This Python 3 environment comes with many helpful analytics libraries installed\n",
        "# It is defined by the kaggle/python docker image: https://github.com/kaggle/docker-python\n",
        "# For example, here's several helpful packages to load in \n",
        "\n",
        "import numpy as np # linear algebra\n",
        "import pandas as pd # data processing, CSV file I/O (e.g. pd.read_csv)\n",
        "\n",
        "# Input data files are available in the \"../input/\" directory.\n",
        "# For example, running this (by clicking run or pressing Shift+Enter) will list the files in the input directory\n",
        "\n",
        "from subprocess import check_output\n",
        "print(check_output([\"ls\", \"../input\"]).decode(\"utf8\"))\n",
        "\n",
        "# Any results you write to the current directory are saved as output."
      ]
    },
    {
      "cell_type": "code",
      "execution_count": null,
      "metadata": {
        "_cell_guid": "c679f9f7-2224-28ee-2f60-899389cbdb31"
      },
      "outputs": [],
      "source": [
        "import numpy as np\n",
        "import pandas as pd\n",
        "import sklearn\n",
        "from sklearn.ensemble import RandomForestClassifier\n",
        "from sklearn.tree import DecisionTreeClassifier\n",
        "from sklearn.ensemble import ExtraTreesClassifier\n",
        "from sklearn.model_selection import cross_val_score\n",
        "from sklearn.model_selection import train_test_split\n",
        "\n",
        "#Print you can execute arbitrary python code\n",
        "train = pd.read_csv(\"../input/train.csv\", dtype={\"Age\": np.float64}, )\n",
        "test = pd.read_csv(\"../input/test.csv\", dtype={\"Age\": np.float64}, )\n",
        "df = train\n",
        "print (train.head())"
      ]
    },
    {
      "cell_type": "markdown",
      "metadata": {
        "_cell_guid": "21bdca2c-2ea0-c2f7-5c45-8094d7b01e90"
      },
      "source": [
        "The above starts off our data exploration by displaying the header record of the training data set."
      ]
    },
    {
      "cell_type": "code",
      "execution_count": null,
      "metadata": {
        "_cell_guid": "9a7dd173-bad6-589a-3cf7-edc42573be06"
      },
      "outputs": [],
      "source": [
        "print (train.groupby('Pclass').mean())"
      ]
    },
    {
      "cell_type": "markdown",
      "metadata": {
        "_cell_guid": "84f1495c-f072-55d0-1d93-4257887b84ea"
      },
      "source": [
        "Using the above command, we can analyse the survival rate for each of the three Passenger Classes. So PClass '1' passengers had the;\n",
        "-\tHighest survival rate, 62.96%\n",
        "-\tThe highest age, of 38 years old and;\n",
        "-\tBy far the most expensive fare, at 84pounds, 400% more than second class\n",
        "\n",
        "It seems the Passenger Class you were in on the Titanic affected your odds or surviving. Unfortunately, there are reports that the lower classes were locked in the ship and not allow the chance to survive, which seems evident in the PClass survival stats.\n",
        "\n",
        "Expanding on the PClass data, we can include the gender of survivals to determine if gender affected survival rate;"
      ]
    },
    {
      "cell_type": "code",
      "execution_count": null,
      "metadata": {
        "_cell_guid": "03f15ed5-17ce-94f1-a0ee-84eb4744c859"
      },
      "outputs": [],
      "source": [
        "class_sex_grouping = (train.groupby(['Pclass','Sex']).mean())\n",
        "print (class_sex_grouping)"
      ]
    },
    {
      "cell_type": "markdown",
      "metadata": {
        "_cell_guid": "a13f9598-b644-de6c-b01a-b6f282f5a30b"
      },
      "source": [
        "This clearly shows that females had a higher chance of surviving in all three passenger\u2019s classes; 96.8% of females in first class survived, compared to 36.9% of males in the same class. The higher chances of female survivors is evident across all three Passenger Classes.\n",
        "\n",
        "Using matplotlib, we can graph the above values to visually depict Passenger Class/Gender survival chances;"
      ]
    },
    {
      "cell_type": "code",
      "execution_count": null,
      "metadata": {
        "_cell_guid": "a82e883a-e20c-69fa-fc9b-e8330575a0a8"
      },
      "outputs": [],
      "source": [
        "import matplotlib.pyplot as plt\n",
        "\n",
        "class_sex_grouping['Survived'].plot.bar()\n",
        "plt.show()"
      ]
    },
    {
      "cell_type": "markdown",
      "metadata": {
        "_cell_guid": "4a1201a7-4145-8cb9-80e0-d0941cbdb742"
      },
      "source": [
        "Additionally, survival situations often follow the \u2018women and children first\u2019 mentality which can be seen when we use the following command to split survival by age;"
      ]
    },
    {
      "cell_type": "code",
      "execution_count": null,
      "metadata": {
        "_cell_guid": "727e6674-a676-605a-5115-3c6c6ee29c14"
      },
      "outputs": [],
      "source": [
        "group_by_age = pd.cut(train[\"Age\"], np.arange(0, 90, 10))\n",
        "age_grouping = train.groupby(group_by_age).mean()\n",
        "age_grouping['Survived'].plot.bar()\n",
        "plt.show()"
      ]
    },
    {
      "cell_type": "markdown",
      "metadata": {
        "_cell_guid": "3ca39dd2-8b38-52dc-626d-82cb5f22bcf7"
      },
      "source": [
        "The Age bars show survival rates in 10 year increments. Clearly the youngest age bracket, between 0-10 years of age, has a survival expectancy of just under 60%."
      ]
    },
    {
      "cell_type": "markdown",
      "metadata": {
        "_cell_guid": "de20e3f0-fa86-ed2c-d09a-9c2bf656e4fd"
      },
      "source": [
        "Initial data analysis shows that the Passenger, Gender and Age are significant survival factors. Let's go back to the training data to determine all useful elements;"
      ]
    },
    {
      "cell_type": "code",
      "execution_count": null,
      "metadata": {
        "_cell_guid": "7a34e4e4-d343-2441-a461-0706e43a1223"
      },
      "outputs": [],
      "source": [
        "print (train.info())"
      ]
    },
    {
      "cell_type": "markdown",
      "metadata": {
        "_cell_guid": "54dbfb60-c336-6206-7229-2531a44edffb"
      },
      "source": [
        "We can see that the training data that there are 891 passengers and data columns 'Age', 'Cabin', and 'Embarked' have less than 891 entries, therefore there is missing data. \n",
        "\n",
        "As there is so much missing 'Cabin' data, only 204 of 891 entries, we will drop this from the training data as I deem it not useful at the moment.\n",
        "\n",
        "There are 714 'Age' entries out of 891, so it is missing 177 entries. We will fill these values by using the mean and/or median 'Age' values.\n",
        "\n",
        "As there are only two missing 'Embarked' entries, we will fill the two missing entries with an value to represent 'missing'."
      ]
    },
    {
      "cell_type": "code",
      "execution_count": null,
      "metadata": {
        "_cell_guid": "a89189f3-c45a-ee19-8072-0662797aa532"
      },
      "outputs": [],
      "source": [
        "train = train.drop(['Name', 'Cabin', 'Ticket'], axis=1) \n",
        "train = train.dropna()\n",
        "print (train.head())"
      ]
    },
    {
      "cell_type": "code",
      "execution_count": null,
      "metadata": {
        "_cell_guid": "2c1e3e12-0f45-b308-e4d8-6abcd5e3731e"
      },
      "outputs": [],
      "source": [
        "print (train.info())"
      ]
    },
    {
      "cell_type": "markdown",
      "metadata": {
        "_cell_guid": "85e7f422-d897-b8dd-9960-37c67368b25f"
      },
      "source": [
        "Now we need to convert the 'Sex' and 'Embarked to integer values. We will convert Male to '0' and Female to '1'. The embarked values are;\n",
        "C = Cherbourg, which we will convert to '0'\n",
        "Q = Queenstown, which we will convert to '1'\n",
        "S = Southampton, which we will convert to '3'"
      ]
    },
    {
      "cell_type": "code",
      "execution_count": null,
      "metadata": {
        "_cell_guid": "0664dfe5-739e-9063-ef33-7fe403c38d99"
      },
      "outputs": [],
      "source": [
        "#Create matrix for random forest classifier\n",
        "train.fillna(0, inplace=True)\n",
        "test.fillna(0, inplace=True)\n",
        "train.replace({'female':1,'male':0, 'S':1, 'C':2, 'Q':3}, inplace=True)\n",
        "test.replace({'female':1,'male':0, 'S':1, 'C':2, 'Q':3}, inplace=True)\n",
        "\n",
        "cols = ['Pclass','Age','SibSp', 'Embarked','Sex']\n",
        "x_train = train[cols]\n",
        "y_train = train['Survived']\n",
        "#x_train, x_test, y_train, y_test = train_test_split(train[cols], train['Survived'], test_size=0.75, random_state=42)\n",
        "x_test = test[cols]\n",
        "id_test = test['PassengerId']\n",
        "\n",
        "print(\"Training samples: {}\".format(len(x_train)))\n",
        "print(\"Testing samples: {}\".format(len(y_train)))\n",
        "\n",
        "#initialize the model\n",
        "model = RandomForestClassifier(n_estimators=100)\n",
        "model.fit(x_train, y_train)\n",
        "score = cross_val_score(model, x_train, y_train)\n",
        "print(\"RandomForestClassifier :\")\n",
        "print(score)\n",
        "\n",
        "output = pd.DataFrame(model.predict(x_test))\n",
        "print(type(output))\n",
        "print(type(id_test))\n",
        "submission = pd.concat([id_test,output],axis=1)\n",
        "submission.columns = ['PassengerId', 'Survived']\n",
        "\n",
        "#Any files you save will be available in the output tab below\n",
        "submission.to_csv('submission.csv', index=False)"
      ]
    },
    {
      "cell_type": "code",
      "execution_count": null,
      "metadata": {
        "_cell_guid": "292664ea-d4eb-0945-ac5e-ee91244de75c"
      },
      "outputs": [],
      "source": [
        ""
      ]
    }
  ],
  "metadata": {
    "_change_revision": 0,
    "_is_fork": false,
    "kernelspec": {
      "display_name": "Python 3",
      "language": "python",
      "name": "python3"
    },
    "language_info": {
      "codemirror_mode": {
        "name": "ipython",
        "version": 3
      },
      "file_extension": ".py",
      "mimetype": "text/x-python",
      "name": "python",
      "nbconvert_exporter": "python",
      "pygments_lexer": "ipython3",
      "version": "3.6.0"
    }
  },
  "nbformat": 4,
  "nbformat_minor": 0
}