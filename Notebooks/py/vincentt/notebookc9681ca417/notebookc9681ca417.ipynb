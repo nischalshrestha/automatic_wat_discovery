{
  "cells": [
    {
      "cell_type": "markdown",
      "metadata": {
        "_cell_guid": "4d7adacc-20d9-76e4-ec87-e37f25147657"
      },
      "source": [
        "# Introduction\n",
        "This is a machine learning for Titanice.\n",
        "We will start with: \n",
        "\n",
        "Descriptive information (exploratory)\n",
        "1. What are the profiles of people who survive and not survive?\n",
        "2. Is it true that kids and women are prioritized to survive?\n",
        "3. How does the existence of siblings and parents affect the likelihood to survive?\n",
        "\n",
        "Predictive information:\n",
        "1. who are the ones that is more likely to survive"
      ]
    },
    {
      "cell_type": "markdown",
      "metadata": {
        "_cell_guid": "8cbfcbb9-5d8a-ce05-857c-04a37ea02244"
      },
      "source": [
        "VARIABLE DESCRIPTIONS:\n",
        "survival        Survival\n",
        "                (0 = No; 1 = Yes)\n",
        "pclass          Passenger Class\n",
        "                (1 = 1st; 2 = 2nd; 3 = 3rd)\n",
        "name            Name\n",
        "sex             Sex\n",
        "age             Age\n",
        "sibsp           Number of Siblings/Spouses Aboard\n",
        "parch           Number of Parents/Children Aboard\n",
        "ticket          Ticket Number\n",
        "fare            Passenger Fare\n",
        "cabin           Cabin\n",
        "embarked        Port of Embarkation\n",
        "                (C = Cherbourg; Q = Queenstown; S = Southampton)\n",
        "\n",
        "SPECIAL NOTES:\n",
        "Pclass is a proxy for socio-economic status (SES)\n",
        " 1st ~ Upper; 2nd ~ Middle; 3rd ~ Lower\n",
        "\n",
        "Age is in Years; Fractional if Age less than One (1)\n",
        " If the Age is Estimated, it is in the form xx.5\n",
        "\n",
        "With respect to the family relation variables (i.e. sibsp and parch)\n",
        "some relations were ignored.  The following are the definitions used\n",
        "for sibsp and parch.\n",
        "\n",
        "Sibling:  Brother, Sister, Stepbrother, or Stepsister of Passenger Aboard Titanic\n",
        "Spouse:   Husband or Wife of Passenger Aboard Titanic (Mistresses and Fiances Ignored)\n",
        "Parent:   Mother or Father of Passenger Aboard Titanic\n",
        "Child:    Son, Daughter, Stepson, or Stepdaughter of Passenger Aboard Titanic\n",
        "\n",
        "Other family relatives excluded from this study include cousins,\n",
        "nephews/nieces, aunts/uncles, and in-laws.  Some children travelled\n",
        "only with a nanny, therefore parch=0 for them.  As well, some\n",
        "travelled with very close friends or neighbors in a village, however,\n",
        "the definitions do not support such relations."
      ]
    },
    {
      "cell_type": "code",
      "execution_count": null,
      "metadata": {
        "_cell_guid": "8467c3ef-ff3c-994e-cd55-c9b71c0ab459"
      },
      "outputs": [],
      "source": [
        "import numpy as np # linear algebra\n",
        "import pandas as pd # data processing, CSV file I/O (e.g. pd.read_csv)\n",
        "import seaborn as sns\n",
        "import matplotlib.pyplot as plt\n",
        "%matplotlib inline\n",
        "\n",
        "\n",
        "maindf = pd.read_csv('../input/train.csv')\n",
        "testdf = pd.read_csv('../input/test.csv')\n",
        "maindf.head()"
      ]
    },
    {
      "cell_type": "code",
      "execution_count": null,
      "metadata": {
        "_cell_guid": "759216e6-68fd-9e59-e440-55ad5e2f0cc5"
      },
      "outputs": [],
      "source": [
        "#Check columns informations\n",
        "maindf.info()\n",
        "print(\"----------------------------\")\n",
        "testdf.info()"
      ]
    },
    {
      "cell_type": "code",
      "execution_count": null,
      "metadata": {
        "_cell_guid": "81aa7c56-7791-6b6d-1d20-563039b3901e"
      },
      "outputs": [],
      "source": [
        "# Create a train set descriptors and result\n",
        "\n",
        "#Assumes that the PassengerID,name,ticket,cabin,and embarked do not matter\n",
        "#Assumes that Fare is correlated to pclass\n",
        "X = maindf.drop(['PassengerId','Survived','Name','Ticket','Cabin','Embarked','Fare'],axis=1)\n",
        "Xtest = testdf.drop(['PassengerId','Name','Ticket','Cabin','Embarked','Fare'],axis=1)\n",
        "y = maindf['Survived']"
      ]
    },
    {
      "cell_type": "code",
      "execution_count": null,
      "metadata": {
        "_cell_guid": "0f46f9b8-9bd1-4211-c0b9-3a4d169825bf"
      },
      "outputs": [],
      "source": [
        "X.head()"
      ]
    },
    {
      "cell_type": "markdown",
      "metadata": {
        "_cell_guid": "a658adb0-a80f-0f77-aaa0-d9889686bc60",
        "collapsed": true
      },
      "source": [
        "## Data Preparation \n",
        "\n",
        "We will bin the data of:\n",
        "1. Age\n",
        "2. SibSp\n",
        "3. Parch\n",
        "4. Fare"
      ]
    },
    {
      "cell_type": "code",
      "execution_count": null,
      "metadata": {
        "_cell_guid": "84541814-3145-5707-75e2-cd70a2eb1cfc"
      },
      "outputs": [],
      "source": [
        "X.shape"
      ]
    },
    {
      "cell_type": "code",
      "execution_count": null,
      "metadata": {
        "_cell_guid": "c900f1e7-f6fb-be1f-3f84-1b2518a3229d"
      },
      "outputs": [],
      "source": [
        "X.describe()"
      ]
    },
    {
      "cell_type": "code",
      "execution_count": null,
      "metadata": {
        "_cell_guid": "571662ef-d394-665c-3cb8-59b05f4f2bce"
      },
      "outputs": [],
      "source": [
        "#notice that the count of age is below than 714, indicate that there are empty values\n",
        "#What are the empty values in each column of X\n",
        "X.apply(lambda x: sum(x.isnull()),axis=0) "
      ]
    },
    {
      "cell_type": "code",
      "execution_count": null,
      "metadata": {
        "_cell_guid": "a0d01460-5215-8f5b-b34d-4675a42ff33e"
      },
      "outputs": [],
      "source": [
        "#Refill empty values with Mean\n",
        "X['Age'].fillna(maindf['Age'].mean(), inplace=True)\n",
        "Xtest['Age'].fillna(testdf['Age'].mean(), inplace=True)"
      ]
    },
    {
      "cell_type": "markdown",
      "metadata": {
        "_cell_guid": "a8770b80-26da-3cf3-6b13-26d54b03b330"
      },
      "source": [
        "#### Age\n",
        "**In order to better characterize the sample, the age range was classified according to growth stages: childhood (2 to 10 years), adolescence (11 to 17 years), young adult (18 to 40 years), adult (41 to 65 years) and elderly (> 65 years)**\n",
        "\n",
        "#### Fare\n",
        "**Min to First Quarter is Low, Quarter 1 to Quarter 2 is med, Quarter 2 to Quarter 3 is high, and Quarter 3 to quarter 4 is very high**\n",
        "\n",
        "#### Sex\n",
        "**Will be map to number male = 0 , female = 1**"
      ]
    },
    {
      "cell_type": "code",
      "execution_count": null,
      "metadata": {
        "_cell_guid": "ad33758f-479a-e4b7-6849-68a12d4a2857"
      },
      "outputs": [],
      "source": [
        "age_bins = [0, 2, 10, 17, 40, 65, 100]\n",
        "age_group = [0,1,2,3,4,5]\n",
        "X['Age']= pd.cut(X['Age'], age_bins, labels=age_group)\n",
        "# age_group = ['baby', 'child', 'adolescence', 'young adult','adult','elderly']\n",
        "Xtest['Age']= pd.cut(Xtest['Age'], age_bins, labels=age_group)\n",
        "\n",
        "# fare_bins = [0,7.910400, 14.454200, 31.000000, 512.329200]\n",
        "# fare_group = ['low', 'med', 'high', 'very high']\n",
        "# X['Fare']= pd.cut(X['Fare'], fare_bins, labels=fare_group)"
      ]
    },
    {
      "cell_type": "code",
      "execution_count": null,
      "metadata": {
        "_cell_guid": "dcdc2718-1509-2136-9b05-e286f0e14488",
        "collapsed": true
      },
      "outputs": [],
      "source": [
        "#Map Sex to 0,1\n",
        "X['Sex'] = X['Sex'].map({'male':0,'female':1})\n",
        "Xtest['Sex'] = Xtest['Sex'].map({'male':0,'female':1})"
      ]
    },
    {
      "cell_type": "code",
      "execution_count": null,
      "metadata": {
        "_cell_guid": "c16abdfd-82dc-51ce-3cf6-9871b4ad4195"
      },
      "outputs": [],
      "source": [
        "#SibSp would only care if the person brings spouse or sibling\n",
        "#Parch would only care if the person brings parent or children\n",
        "\n",
        "X['SibSp'][X['SibSp']>0]=1\n",
        "X['Parch'][X['Parch']>0]=1\n",
        "Xtest['SibSp'][Xtest['SibSp']>0]=1\n",
        "Xtest['Parch'][Xtest['Parch']>0]=1\n",
        "\n",
        "# X['WithSomebody'] = X['SibSp']+X['Parch']\n",
        "X.head()"
      ]
    },
    {
      "cell_type": "code",
      "execution_count": null,
      "metadata": {
        "_cell_guid": "4114f2ca-d096-481e-37a5-40d9ccd274f8"
      },
      "outputs": [],
      "source": [
        "X.shape"
      ]
    },
    {
      "cell_type": "code",
      "execution_count": null,
      "metadata": {
        "_cell_guid": "710d03e8-03e3-98f8-4f55-b12577c3d94a"
      },
      "outputs": [],
      "source": [
        "y.shape"
      ]
    },
    {
      "cell_type": "markdown",
      "metadata": {
        "_cell_guid": "384c62bf-e233-3bd7-9f80-3b82612731dc"
      },
      "source": [
        "### Is it true that kids and women are prioritized to survive? "
      ]
    },
    {
      "cell_type": "code",
      "execution_count": null,
      "metadata": {
        "_cell_guid": "11495dc4-e808-e900-5e37-f40029a5a4f0"
      },
      "outputs": [],
      "source": [
        "kidsorwoman = y[(X['Age']<3) | (X['Sex'] == 1)]\n",
        "kidsorwoman.value_counts()\n",
        "#From this result we know that kids or women are more likely to survive than die."
      ]
    },
    {
      "cell_type": "markdown",
      "metadata": {
        "_cell_guid": "8961ce45-be05-1f9e-b560-635f55e03fa8"
      },
      "source": [
        "### How does the existence of siblings and parents affect the likelihood to survive?"
      ]
    },
    {
      "cell_type": "code",
      "execution_count": null,
      "metadata": {
        "_cell_guid": "d3314cbd-934c-2f1d-fa4c-40ff54e1ce95"
      },
      "outputs": [],
      "source": [
        "nosiblingorparent = y[X['SibSp']+ X['Parch']<1]\n",
        "hassiblingorparent = y[X['SibSp']+ X['Parch']>=1]\n",
        "print(nosiblingorparent.value_counts())\n",
        "print('____________________')\n",
        "print(hassiblingorparent.value_counts())\n",
        "\n",
        "#From here we can see that the likelihood to survive is more if a person has anyone with him/her"
      ]
    },
    {
      "cell_type": "markdown",
      "metadata": {
        "_cell_guid": "175604c8-0f3f-77d6-e576-2265fd03ae73"
      },
      "source": [
        "## Training the model"
      ]
    },
    {
      "cell_type": "code",
      "execution_count": null,
      "metadata": {
        "_cell_guid": "8f9216b3-1dad-b133-b971-7e2baa25250a"
      },
      "outputs": [],
      "source": [
        "import numpy as np\n",
        "from sklearn import preprocessing,cross_validation\n",
        "from sklearn.tree import DecisionTreeClassifier"
      ]
    },
    {
      "cell_type": "code",
      "execution_count": null,
      "metadata": {
        "_cell_guid": "3361209a-38e7-06ff-ddd7-e8321fb09f8a",
        "collapsed": true
      },
      "outputs": [],
      "source": [
        "#splitting the train and test sets\n",
        "X_train, X_test, y_train,y_test= cross_validation.train_test_split(X,y,test_size=0.2)"
      ]
    },
    {
      "cell_type": "markdown",
      "metadata": {
        "_cell_guid": "2403cfd7-8d67-66f6-4f5c-54fa1b759f29"
      },
      "source": [
        "## DecisionTree Model Train"
      ]
    },
    {
      "cell_type": "code",
      "execution_count": null,
      "metadata": {
        "_cell_guid": "94601a6f-982d-6c25-dffc-3e061f6e0fc0"
      },
      "outputs": [],
      "source": [
        "clf = DecisionTreeClassifier()\n",
        "clf.fit(X_train,y_train)"
      ]
    },
    {
      "cell_type": "code",
      "execution_count": null,
      "metadata": {
        "_cell_guid": "166ab49c-aafd-61a8-8d8f-354fa0357910"
      },
      "outputs": [],
      "source": [
        "pd.DataFrame(X_train,y_train).head()\n",
        "accuracy = clf.score(X_test,y_test)\n",
        "print(accuracy)"
      ]
    },
    {
      "cell_type": "markdown",
      "metadata": {
        "_cell_guid": "cc8d8ac2-e9f4-7627-126d-80f8be7557dd"
      },
      "source": [
        "## Training Multiple Classifiers and Test Them"
      ]
    },
    {
      "cell_type": "code",
      "execution_count": null,
      "metadata": {
        "_cell_guid": "7717d9ef-6079-3159-5940-ddee9d88faa6"
      },
      "outputs": [],
      "source": [
        "from sklearn.metrics import accuracy_score, log_loss\n",
        "from sklearn.neighbors import KNeighborsClassifier\n",
        "from sklearn.svm import SVC, LinearSVC, NuSVC\n",
        "from sklearn.tree import DecisionTreeClassifier\n",
        "from sklearn.ensemble import RandomForestClassifier, AdaBoostClassifier, GradientBoostingClassifier\n",
        "from sklearn.naive_bayes import GaussianNB\n",
        "from sklearn.discriminant_analysis import LinearDiscriminantAnalysis\n",
        "from sklearn.discriminant_analysis import QuadraticDiscriminantAnalysis\n",
        "\n",
        "classifiers = [\n",
        "    KNeighborsClassifier(3),\n",
        "    SVC(kernel=\"rbf\", C=0.025, probability=True),\n",
        "    DecisionTreeClassifier(),\n",
        "    RandomForestClassifier(),\n",
        "    AdaBoostClassifier(),\n",
        "    GradientBoostingClassifier(),\n",
        "    GaussianNB(),\n",
        "    LinearDiscriminantAnalysis(),\n",
        "    QuadraticDiscriminantAnalysis()]\n",
        "\n",
        "# Logging for Visual Comparison\n",
        "log_cols=[\"Classifier\", \"Accuracy\", \"Log Loss\"]\n",
        "log = pd.DataFrame(columns=log_cols)\n",
        "\n",
        "for clf in classifiers:\n",
        "    clf.fit(X_train, y_train)\n",
        "    name = clf.__class__.__name__\n",
        "    \n",
        "    print(\"=\"*30)\n",
        "    print(name)\n",
        "    \n",
        "    print('****Results****')\n",
        "    train_predictions = clf.predict(X_test)\n",
        "    acc = accuracy_score(y_test, train_predictions)\n",
        "    print(\"Accuracy: {:.4%}\".format(acc))\n",
        "    \n",
        "    train_predictions = clf.predict_proba(X_test)\n",
        "    ll = log_loss(y_test, train_predictions)\n",
        "    print(\"Log Loss: {}\".format(ll))\n",
        "    \n",
        "    log_entry = pd.DataFrame([[name, acc*100, ll]], columns=log_cols)\n",
        "    log = log.append(log_entry)\n",
        "    \n",
        "print(\"=\"*30)"
      ]
    },
    {
      "cell_type": "code",
      "execution_count": null,
      "metadata": {
        "_cell_guid": "669e1b7c-8ecf-b2ae-f700-8ff6d4985e48"
      },
      "outputs": [],
      "source": [
        "sns.set_color_codes(\"muted\")\n",
        "sns.barplot(x='Accuracy', y='Classifier', data=log, color=\"b\")\n",
        "\n",
        "plt.xlabel('Accuracy %')\n",
        "plt.title('Classifier Accuracy')\n",
        "plt.show()\n",
        "\n",
        "sns.set_color_codes(\"muted\")\n",
        "sns.barplot(x='Log Loss', y='Classifier', data=log, color=\"g\")\n",
        "\n",
        "plt.xlabel('Log Loss')\n",
        "plt.title('Classifier Log Loss')\n",
        "plt.show()"
      ]
    },
    {
      "cell_type": "code",
      "execution_count": null,
      "metadata": {
        "_cell_guid": "7eb578a1-9fbb-1b2a-8275-483aa5e2a207"
      },
      "outputs": [],
      "source": [
        "# Predict Test Set\n",
        "\n",
        "favorite_clf = RandomForestClassifier()\n",
        "favorite_clf.fit(X_train, y_train)\n",
        "y_pred = pd.DataFrame(favorite_clf.predict(Xtest))"
      ]
    },
    {
      "cell_type": "code",
      "execution_count": null,
      "metadata": {
        "_cell_guid": "c2114374-4e61-daf0-1e18-ec05b365780e"
      },
      "outputs": [],
      "source": [
        "# Tidy and Export Submission\n",
        "submission = pd.DataFrame({\n",
        "        \"PassengerId\": testdf[\"PassengerId\"]    \n",
        "    })\n",
        "submission['Survived'] = y_pred\n",
        "\n",
        "submission.to_csv('submission.csv', index = False)\n",
        "submission.tail()"
      ]
    },
    {
      "cell_type": "code",
      "execution_count": null,
      "metadata": {
        "_cell_guid": "880f2e27-55b1-bb3d-3d8a-7ae46d15b634"
      },
      "outputs": [],
      "source": [
        "submission.shape"
      ]
    }
  ],
  "metadata": {
    "_change_revision": 0,
    "_is_fork": false,
    "kernelspec": {
      "display_name": "Python 3",
      "language": "python",
      "name": "python3"
    },
    "language_info": {
      "codemirror_mode": {
        "name": "ipython",
        "version": 3
      },
      "file_extension": ".py",
      "mimetype": "text/x-python",
      "name": "python",
      "nbconvert_exporter": "python",
      "pygments_lexer": "ipython3",
      "version": "3.5.2"
    }
  },
  "nbformat": 4,
  "nbformat_minor": 0
}