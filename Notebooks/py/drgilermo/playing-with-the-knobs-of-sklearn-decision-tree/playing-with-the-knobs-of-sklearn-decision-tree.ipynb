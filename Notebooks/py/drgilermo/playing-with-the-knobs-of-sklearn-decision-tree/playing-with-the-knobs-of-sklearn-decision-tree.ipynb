{
  "cells": [
    {
      "cell_type": "markdown",
      "metadata": {
        "_cell_guid": "0fa58290-72ab-9bc7-7da6-5c5104bb8ae2"
      },
      "source": [
        "Decision Tree is a basic but common and useful classification algorithm. It is also the basis of slightly more advanced classification techniques such as Random Forest and (some implementations of) Gradient Boosting. \n",
        "\n",
        "The Titanic data set, comprised of both categorical and numerical features, is a great use-case for tree-based algorithms, and indeed many kagglers used them in this competition.\n",
        "\n",
        "Sklearn is one of the most commonly used machine learning libraries in python, and in this script I will explore the effect of the different hyper-parameters of the [sklearn decision tree classifier.][1]  \n",
        "\n",
        "3 parameters would be exclude from this analysis: \n",
        "\n",
        " 1. min_weight_fraction_leaf \n",
        " 2. random_state \n",
        " 3. min_impurity_split\n",
        "\n",
        "  [1]: http://scikit-learn.org/stable/modules/generated/sklearn.tree.DecisionTreeClassifier.html"
      ]
    },
    {
      "cell_type": "code",
      "execution_count": null,
      "metadata": {
        "_cell_guid": "c3d773bb-6a9c-683d-f8de-3f26f0d5322b"
      },
      "outputs": [],
      "source": [
        "import numpy as np # linear algebra\n",
        "import pandas as pd # data processing, CSV file I/O (e.g. pd.read_csv)\n",
        "import time\n",
        "from sklearn.tree import DecisionTreeClassifier\n",
        "from sklearn.model_selection import train_test_split\n",
        "from sklearn.model_selection import GridSearchCV\n",
        "from sklearn.preprocessing import Imputer\n",
        "from sklearn.metrics import confusion_matrix\n",
        "from subprocess import check_output\n",
        "from sklearn import tree\n",
        "from IPython.display import Image as PImage\n",
        "from subprocess import check_call\n",
        "from PIL import Image, ImageDraw, ImageFont\n",
        "import re\n",
        "import matplotlib.pyplot as plt\n",
        "\n",
        "print(check_output([\"ls\", \"../input\"]).decode(\"utf8\"))"
      ]
    },
    {
      "cell_type": "markdown",
      "metadata": {
        "_cell_guid": "ca128ce4-1199-4559-4b29-3e43f9513c22"
      },
      "source": [
        "Read the data"
      ]
    },
    {
      "cell_type": "code",
      "execution_count": null,
      "metadata": {
        "_cell_guid": "bd643011-efdd-328a-eb7a-ce41d07d9da7"
      },
      "outputs": [],
      "source": [
        "train = pd.read_csv(\"../input/train.csv\")\n",
        "testset = pd.read_csv(\"../input/test.csv\")"
      ]
    },
    {
      "cell_type": "markdown",
      "metadata": {
        "_cell_guid": "56ec13c5-596f-1c42-2517-c549605fb38a"
      },
      "source": [
        "Encode the sex feature to be a binary one"
      ]
    },
    {
      "cell_type": "code",
      "execution_count": null,
      "metadata": {
        "_cell_guid": "4d678c62-65ab-51ad-d5b5-76eecd10c4cc"
      },
      "outputs": [],
      "source": [
        "train['Sex'][train.Sex == 'female'] = 1\n",
        "train['Sex'][train.Sex == 'male'] = 0\n",
        "train.head(5)"
      ]
    },
    {
      "cell_type": "markdown",
      "metadata": {
        "_cell_guid": "b9a9aa8b-85e7-9ab9-db8e-4ee3ccacdd7e"
      },
      "source": [
        "Using the new [Imputer][1] sklearn class to modify non-existent entries:\n",
        "\n",
        "\n",
        "  [1]: http://scikit-learn.org/stable/modules/generated/sklearn.preprocessing.Imputer.html"
      ]
    },
    {
      "cell_type": "code",
      "execution_count": null,
      "metadata": {
        "_cell_guid": "8aad6224-d768-33c6-e237-38cb3f0910b4"
      },
      "outputs": [],
      "source": [
        "imp = Imputer(missing_values='NaN', strategy='mean', axis=0)\n",
        "columns = ['Pclass','Sex','Age','Fare','Parch','SibSp']\n",
        "for col in columns:\n",
        "    train[col] = imp.fit_transform(train[col].reshape(-1,1))"
      ]
    },
    {
      "cell_type": "markdown",
      "metadata": {
        "_cell_guid": "eee7b8b8-9d07-0d11-e1ef-06df966429f5"
      },
      "source": [
        "Split the data to train and test sets:"
      ]
    },
    {
      "cell_type": "code",
      "execution_count": null,
      "metadata": {
        "_cell_guid": "70b215f3-79a7-d1f6-654e-eb3248e88b5c"
      },
      "outputs": [],
      "source": [
        "X = train[columns]\n",
        "y = train.Survived\n",
        "\n",
        "X_train, X_test, y_train, y_test = train_test_split(X, y, test_size=0.33, random_state=42)"
      ]
    },
    {
      "cell_type": "markdown",
      "metadata": {
        "_cell_guid": "15271401-8bb7-c7fa-3a25-994a2a7d1ac7"
      },
      "source": [
        "#Decision Tree Classifier Hyper-Parameters\n",
        "\n"
      ]
    },
    {
      "cell_type": "markdown",
      "metadata": {
        "_cell_guid": "35a09ce9-4c9f-4177-f339-7b3332a75fb5"
      },
      "source": [
        "## Criterion ##\n",
        "Copy-pasting from the  [sklearn documentation][1]:\n",
        "\n",
        "**criterion : string, optional (default=\u201dgini\u201d)\n",
        "The function to measure the quality of a split. Supported criteria are \u201cgini\u201d for the Gini impurity and \u201centropy\u201d for the information gain.**\n",
        "\n",
        "The split in each node is done based on a criterion. that is, we need to find a feature and a value of the feature that would partition the data into two groups for an optimal classification.\n",
        "\n",
        "This is usually done based on two metrics: [Gini Impurity and Entropy (or information gain][2]\n",
        "\n",
        "This choice is not considered to be very critical. In most cases both metrics would perform similarly.\n",
        "\n",
        "\n",
        "  [1]: http://scikit-learn.org/stable/modules/generated/sklearn.tree.DecisionTreeClassifier.html\n",
        "  [2]: http://haohanw.blogspot.co.il/2014/08/ml-decision-tree-rule-selection.html"
      ]
    },
    {
      "cell_type": "code",
      "execution_count": null,
      "metadata": {
        "_cell_guid": "adeaf285-bce5-5c76-cf13-7d85f921fa7a"
      },
      "outputs": [],
      "source": [
        "clf = DecisionTreeClassifier(max_depth = 3)\n",
        "clf.fit(X_train,y_train)\n",
        "print('Accuracy using the defualt gini impurity criterion...',clf.score(X_test,y_test))\n",
        "\n",
        "clf = DecisionTreeClassifier(max_depth = 3, criterion = \"entropy\")\n",
        "clf.fit(X_train,y_train)\n",
        "print('Accuracy using the entropy criterion...',clf.score(X_test,y_test))"
      ]
    },
    {
      "cell_type": "markdown",
      "metadata": {
        "_cell_guid": "107f409d-9dbc-af15-a233-c1c9c0f44471"
      },
      "source": [
        "## Splitter\n",
        "\n",
        "from the documentation:\n",
        "\n",
        "**The strategy used to choose the split at each node. Supported strategies are \u201cbest\u201d to choose the best split and \u201crandom\u201d to choose the best random split.**\n",
        "\n",
        "Usually, the decision tree chooses to split each node in the optimal point (based on the gini impurity or entropy information gain). However, it would be faster, and possibly not much worse, to use a random split.\n"
      ]
    },
    {
      "cell_type": "markdown",
      "metadata": {
        "_cell_guid": "7a69e062-09f9-1aac-671d-9e472432db54"
      },
      "source": [
        "We indeed see that our case is no different. "
      ]
    },
    {
      "cell_type": "code",
      "execution_count": null,
      "metadata": {
        "_cell_guid": "a416eb3c-46e5-f131-a317-8eecda5b060e"
      },
      "outputs": [],
      "source": [
        "t = time.time()\n",
        "clf = DecisionTreeClassifier(max_depth = 3, splitter = 'best')\n",
        "clf.fit(X_train,y_train)\n",
        "print('Best Split running time...',time.time() - t)\n",
        "print('Best Split accuracy...',clf.score(X_test,y_test))\n",
        "\n",
        "t = time.time()\n",
        "clf = DecisionTreeClassifier(max_depth = 3, splitter = 'random')\n",
        "clf.fit(X_train,y_train)\n",
        "print('Random Split running time...',time.time() - t)\n",
        "print('Random Split accuracy...',clf.score(X_test,y_test))"
      ]
    },
    {
      "cell_type": "code",
      "execution_count": null,
      "metadata": {
        "_cell_guid": "624188b1-9a8a-5972-f0cd-c47bc2349c18"
      },
      "outputs": [],
      "source": [
        "clf = DecisionTreeClassifier(max_depth = 3)\n",
        "clf.fit(X_train,y_train)\n",
        "\n",
        "with open(\"tree1.dot\", 'w') as f:\n",
        "     f = tree.export_graphviz(clf,\n",
        "                              out_file=f,\n",
        "                              max_depth = 5,\n",
        "                              impurity = False,\n",
        "                              feature_names = X_test.columns.values,\n",
        "                              class_names = ['No', 'Yes'],\n",
        "                              rounded = True,\n",
        "                              filled= True )\n",
        "        \n",
        "#Convert .dot to .png to allow display in web notebook\n",
        "check_call(['dot','-Tpng','tree1.dot','-o','tree1.png'])\n",
        "\n",
        "# Annotating chart with PIL\n",
        "img = Image.open(\"tree1.png\")\n",
        "draw = ImageDraw.Draw(img)\n",
        "img.save('sample-out.png')\n",
        "PImage(\"sample-out.png\")"
      ]
    },
    {
      "cell_type": "code",
      "execution_count": null,
      "metadata": {
        "_cell_guid": "c00d9277-4842-6602-c7dd-fc45ed9f0713"
      },
      "outputs": [],
      "source": [
        "clf = DecisionTreeClassifier(max_depth = 3 ,splitter = 'random')\n",
        "clf.fit(X_train,y_train)\n",
        "\n",
        "with open(\"tree1.dot\", 'w') as f:\n",
        "     f = tree.export_graphviz(clf,\n",
        "                              out_file=f,\n",
        "                              max_depth = 5,\n",
        "                              impurity = False,\n",
        "                              feature_names = X_test.columns.values,\n",
        "                              class_names = ['No', 'Yes'],\n",
        "                              rounded = True,\n",
        "                              filled= True )\n",
        "        \n",
        "#Convert .dot to .png to allow display in web notebook\n",
        "check_call(['dot','-Tpng','tree1.dot','-o','tree1.png'])\n",
        "\n",
        "# Annotating chart with PIL\n",
        "img = Image.open(\"tree1.png\")\n",
        "draw = ImageDraw.Draw(img)\n",
        "img.save('sample-out.png')\n",
        "PImage(\"sample-out.png\")"
      ]
    },
    {
      "cell_type": "markdown",
      "metadata": {
        "_cell_guid": "dc25ede2-6438-aa0a-49ef-c09c29a973f1"
      },
      "source": [
        "We can see that the random splitter chooses rather odd splitting values (for instance, split on 0.2 for the sex where 1 is female and 0 is male doesn't seem to make much sense logically). Since the split is random, this means that the selected feature can be different and the structure of the trees would be different.\n",
        "\n",
        "As expected, the random splitter trees is faster than the best-splitter tree, but performs worse.\n"
      ]
    },
    {
      "cell_type": "markdown",
      "metadata": {
        "_cell_guid": "d90440f5-b64e-761b-a63f-b8655a7c48e3"
      },
      "source": [
        "## Max Features\n",
        "\n",
        " - The number of features to consider when looking for the best split:\n",
        "    2. If int, then consider max_features features at each split.\n",
        "    3. If float, then max_features is a percentage and int(max_features * n_features) features are considered at each split.\n",
        "    4. If \u201cauto\u201d, then max_features=sqrt(n_features).\n",
        "    5. If \u201csqrt\u201d, then max_features=sqrt(n_features).\n",
        "    6. If \u201clog2\u201d, then max_features=log2(n_features).\n",
        "    7. If None, then max_features=n_features.\n",
        "    8. Note: the search for a split does not stop until at least one valid partition of the node samples is found, even if it requires to effectively inspect more than max_features features.\n",
        "\n",
        "As we are going to see, most hyper-parameters of the decision tree are concerned with over-fitting (and decision tree are prone definitely prone to over-fitting).\n",
        "\n",
        "At every node, the algorithm is looking for that feature and partition that would yield the best outcome. Using the max_feature knob, we can limit the number of features to be considered. the algorithm would randomly choose the number of features (based on the limit) and only then pick the best partition from the new cohort.\n",
        "\n",
        "This is done in order to increase the stability of the tree and reduce variance and over-fitting."
      ]
    },
    {
      "cell_type": "code",
      "execution_count": null,
      "metadata": {
        "_cell_guid": "219a27c2-b667-910b-907e-9850cc0f84cd"
      },
      "outputs": [],
      "source": [
        "test_score = []\n",
        "train_score = []\n",
        "max_features = range(len(columns)-1)\n",
        "for feat in max_features:\n",
        "    clf = DecisionTreeClassifier(max_features = feat + 1)\n",
        "    clf.fit(X_train,y_train)\n",
        "    train_score.append(clf.score(X_train,y_train))\n",
        "    test_score.append(clf.score(X_test,y_test))\n",
        "\n",
        "plt.figure(figsize = (8,8))\n",
        "plt.plot(max_features,train_score)\n",
        "plt.plot(max_features, test_score)\n",
        "plt.xlabel('Max Features')\n",
        "plt.ylabel('Accuracy')\n",
        "plt.legend(['Training set','Test set'])"
      ]
    },
    {
      "cell_type": "markdown",
      "metadata": {
        "_cell_guid": "aa967054-8223-f9f7-1cad-1c9a83783b7b"
      },
      "source": [
        "We see that the training score is constant and close to 100%, while the validation score is much lower. this is obviously a case of over-fitting. This is due to the fact that we haven't limited the tree depth. therefore, it keeps creating new knobs until all the leaves are \"pure\" (that is, only populated by samples either labelled as 1 or 0, but not both).\n",
        "\n",
        "Let's repeat that with a limit on the tree depth\n"
      ]
    },
    {
      "cell_type": "code",
      "execution_count": null,
      "metadata": {
        "_cell_guid": "764cf787-af36-e3fd-f086-b940567cc5ed"
      },
      "outputs": [],
      "source": [
        "test_score = []\n",
        "train_score = []\n",
        "max_features = range(len(columns)-1)\n",
        "for feat in max_features:\n",
        "    clf = DecisionTreeClassifier(max_features = feat + 1, max_depth = 5)\n",
        "    clf.fit(X_train,y_train)\n",
        "    train_score.append(clf.score(X_train,y_train))\n",
        "    test_score.append(clf.score(X_test,y_test))\n",
        "    \n",
        "plt.figure(figsize = (8,8))   \n",
        "plt.plot(max_features,train_score)\n",
        "plt.plot(max_features, test_score)\n",
        "plt.xlabel('Max Features')\n",
        "plt.ylabel('Accuracy')\n",
        "plt.legend(['Training set','Test set'])"
      ]
    },
    {
      "cell_type": "markdown",
      "metadata": {
        "_cell_guid": "14f99da7-6727-3fb7-4c39-4bf637c65666"
      },
      "source": [
        "There is no clear trend. Clearly when the number of features is too low the tree is under fitting. but even when we use all our features at every node we don't get to the point of over fitting.\n",
        "\n",
        "This is probably due to the fact that we have a relatively small number of features which were chosen carefully based on their apparent relevance. "
      ]
    },
    {
      "cell_type": "markdown",
      "metadata": {
        "_cell_guid": "b03b2e4e-54e2-5df5-cf98-cd69d2f4fec5"
      },
      "source": [
        "## Max Depth\n",
        "\n",
        "**The maximum depth of the tree. If None, then nodes are expanded until all leaves are pure or until all leaves contain less than min_samples_split samples.**\n",
        "\n",
        "I find this parameter to be the most useful in reducing over-fitting. "
      ]
    },
    {
      "cell_type": "code",
      "execution_count": null,
      "metadata": {
        "_cell_guid": "f67cc90b-1580-93f3-05e4-90342905b422"
      },
      "outputs": [],
      "source": [
        "test_score = []\n",
        "train_score = []\n",
        "for depth in range(20):\n",
        "    clf = DecisionTreeClassifier(max_depth = depth + 1)\n",
        "    clf.fit(X_train,y_train)\n",
        "    train_score.append(clf.score(X_train,y_train))\n",
        "    test_score.append(clf.score(X_test,y_test))\n",
        "\n",
        "plt.figure(figsize = (8,8))\n",
        "plt.plot(range(20),train_score)\n",
        "plt.plot(range(20), test_score)\n",
        "plt.xlabel('Tree Depth')\n",
        "plt.ylabel('Accuracy')\n",
        "plt.legend(['Training set','Test set'])"
      ]
    },
    {
      "cell_type": "markdown",
      "metadata": {
        "_cell_guid": "7e1d6a68-4cba-d14f-89c6-c1af72271234"
      },
      "source": [
        "The deeper the tree is, the better it fits the training data. however, if it is deep enough, if fails to generalize and starts to over-fit. more complex paths are created and the number of samples in every split is getting smaller and therefor less statistically meaningful. \n",
        "\n",
        "Let's visualize a shallow and a deep tree:"
      ]
    },
    {
      "cell_type": "code",
      "execution_count": null,
      "metadata": {
        "_cell_guid": "ebefe4fd-e7d7-ee68-47f7-f77e79a67682"
      },
      "outputs": [],
      "source": [
        "clf = DecisionTreeClassifier(max_depth = 6)\n",
        "clf.fit(X_train,y_train)\n",
        "\n",
        "with open(\"tree1.dot\", 'w') as f:\n",
        "     f = tree.export_graphviz(clf,\n",
        "                              out_file=f,\n",
        "                              max_depth = 5,\n",
        "                              impurity = False,\n",
        "                              feature_names = X_test.columns.values,\n",
        "                              class_names = ['No', 'Yes'],\n",
        "                              rounded = True,\n",
        "                              filled= True )\n",
        "        \n",
        "#Convert .dot to .png to allow display in web notebook\n",
        "check_call(['dot','-Tpng','tree1.dot','-o','tree1.png'])\n",
        "\n",
        "# Annotating chart with PIL\n",
        "img = Image.open(\"tree1.png\")\n",
        "draw = ImageDraw.Draw(img)\n",
        "img.save('sample-out.png')\n",
        "PImage(\"sample-out.png\")"
      ]
    },
    {
      "cell_type": "code",
      "execution_count": null,
      "metadata": {
        "_cell_guid": "4df009df-9114-a352-e060-cd2bd896b284"
      },
      "outputs": [],
      "source": [
        "clf = DecisionTreeClassifier(max_depth = 3)\n",
        "clf.fit(X_train,y_train)\n",
        "\n",
        "with open(\"tree1.dot\", 'w') as f:\n",
        "     f = tree.export_graphviz(clf,\n",
        "                              out_file=f,\n",
        "                              max_depth = 5,\n",
        "                              impurity = False,\n",
        "                              feature_names = X_test.columns.values,\n",
        "                              class_names = ['No', 'Yes'],\n",
        "                              rounded = True,\n",
        "                              filled= True )\n",
        "        \n",
        "#Convert .dot to .png to allow display in web notebook\n",
        "check_call(['dot','-Tpng','tree1.dot','-o','tree1.png'])\n",
        "\n",
        "# Annotating chart with PIL\n",
        "img = Image.open(\"tree1.png\")\n",
        "draw = ImageDraw.Draw(img)\n",
        "img.save('sample-out.png')\n",
        "PImage(\"sample-out.png\")"
      ]
    },
    {
      "cell_type": "markdown",
      "metadata": {
        "_cell_guid": "330cbed8-5889-cb37-0a18-71bb094d70ba"
      },
      "source": [
        "When the tree is deep, we get nodes and leaves with a very small number of samples, which are therefore not very informative. we can also see that in the shallower tree, though not as common. \n",
        "\n",
        "The shallow tree is more simple and straight forward: \n",
        "\n",
        " - if you're a man, you are unlikely to survive unless you're young.\n",
        " - If you're a woman, you're likely to survive unless you paid a low\n",
        "   fare and bought a low-class ticket.\n",
        "\n",
        "The deeper tree has more convulated rules: if you're younger than this, but older than this, but younger than this. etc.\n",
        "\n",
        "That's a good opportunity to look at the feature importance (based on the shallow tree):"
      ]
    },
    {
      "cell_type": "code",
      "execution_count": null,
      "metadata": {
        "_cell_guid": "915e0582-745b-45a6-f432-f35603a18922"
      },
      "outputs": [],
      "source": [
        "plt.barh(range(len(columns)),clf.feature_importances_)\n",
        "plt.yticks(range(len(columns)),columns)\n",
        "plt.xlabel('Feature Importance')"
      ]
    },
    {
      "cell_type": "markdown",
      "metadata": {
        "_cell_guid": "67de1e52-72e1-865a-b57d-71f6e3a1865c"
      },
      "source": [
        "## Min Sample Split\n",
        "\n",
        "**The minimum number of samples required to split an internal node:\n",
        "If int, then consider min_samples_split as the minimum number.\n",
        "If float, then min_samples_split is a percentage and ceil(min_samples_split * n_samples) are the minimum number of samples for each split.**\n",
        "\n",
        "This limitation is similar to the tree depth, bit instead of constraining the depth, it constrains the number of samples per split. we have seen in the previous example how a low number of samples in a split may lead to over-fitting"
      ]
    },
    {
      "cell_type": "code",
      "execution_count": null,
      "metadata": {
        "_cell_guid": "1404cb4c-16b8-974d-c2d8-c6376560d2fd"
      },
      "outputs": [],
      "source": [
        "test_score = []\n",
        "train_score = []\n",
        "min_sample_split = np.arange(5,100,5)\n",
        "for split in min_sample_split:\n",
        "    clf = DecisionTreeClassifier(min_samples_split = split)\n",
        "    clf.fit(X_train,y_train)\n",
        "    train_score.append(clf.score(X_train,y_train))\n",
        "    test_score.append(clf.score(X_test,y_test))\n",
        "    \n",
        "plt.figure(figsize = (8,8))   \n",
        "plt.plot(min_sample_split,train_score)\n",
        "plt.plot(min_sample_split, test_score)\n",
        "plt.xlabel('Min Sample Split')\n",
        "plt.ylabel('Accuracy')\n",
        "plt.legend(['Training set','Test set'])"
      ]
    },
    {
      "cell_type": "code",
      "execution_count": null,
      "metadata": {
        "_cell_guid": "5913303c-1e9c-50fc-1ca6-b41661787e98"
      },
      "outputs": [],
      "source": [
        "clf = DecisionTreeClassifier(min_samples_split = 5)\n",
        "clf.fit(X_train,y_train)\n",
        "\n",
        "with open(\"tree1.dot\", 'w') as f:\n",
        "     f = tree.export_graphviz(clf,\n",
        "                              out_file=f,\n",
        "                              max_depth = 5,\n",
        "                              impurity = False,\n",
        "                              feature_names = X_test.columns.values,\n",
        "                              class_names = ['No', 'Yes'],\n",
        "                              rounded = True,\n",
        "                              filled= True )\n",
        "        \n",
        "#Convert .dot to .png to allow display in web notebook\n",
        "check_call(['dot','-Tpng','tree1.dot','-o','tree1.png'])\n",
        "\n",
        "# Annotating chart with PIL\n",
        "img = Image.open(\"tree1.png\")\n",
        "draw = ImageDraw.Draw(img)\n",
        "img.save('sample-out.png')\n",
        "PImage(\"sample-out.png\")"
      ]
    },
    {
      "cell_type": "code",
      "execution_count": null,
      "metadata": {
        "_cell_guid": "8f8f1163-0e3d-a707-8d45-400e296eda90"
      },
      "outputs": [],
      "source": [
        "clf = DecisionTreeClassifier(min_samples_split = 80)\n",
        "clf.fit(X_train,y_train)\n",
        "\n",
        "with open(\"tree1.dot\", 'w') as f:\n",
        "     f = tree.export_graphviz(clf,\n",
        "                              out_file=f,\n",
        "                              max_depth = 5,\n",
        "                              impurity = False,\n",
        "                              feature_names = X_test.columns.values,\n",
        "                              class_names = ['No', 'Yes'],\n",
        "                              rounded = True,\n",
        "                              filled= True )\n",
        "        \n",
        "#Convert .dot to .png to allow display in web notebook\n",
        "check_call(['dot','-Tpng','tree1.dot','-o','tree1.png'])\n",
        "\n",
        "# Annotating chart with PIL\n",
        "img = Image.open(\"tree1.png\")\n",
        "draw = ImageDraw.Draw(img)\n",
        "img.save('sample-out.png')\n",
        "PImage(\"sample-out.png\")"
      ]
    },
    {
      "cell_type": "markdown",
      "metadata": {
        "_cell_guid": "896e714c-6b51-7535-a25e-cb7ba60dbe54"
      },
      "source": [
        "## Min sample leaf\n",
        "\n",
        "**The minimum number of samples required to be at a leaf node:\n",
        "If int, then consider min_samples_leaf as the minimum number.\n",
        "If float, then min_samples_leaf is a percentage and ceil(min_samples_leaf * n_samples) are the minimum number of samples for each node.**\n",
        "\n",
        "This is similar to the previous parameter, but concerns with the leaf nodes. this make it a stronger limitation (for the same limit value). If this limit is too tight, our model would under-fit:"
      ]
    },
    {
      "cell_type": "code",
      "execution_count": null,
      "metadata": {
        "_cell_guid": "63d52007-f517-9711-967d-1e116de61def"
      },
      "outputs": [],
      "source": [
        "test_score = []\n",
        "train_score = []\n",
        "min_sample_leaf = np.arange(5,100,5)\n",
        "for leaf in min_sample_leaf:\n",
        "    clf = DecisionTreeClassifier(min_samples_leaf = leaf)\n",
        "    clf.fit(X_train,y_train)\n",
        "    train_score.append(clf.score(X_train,y_train))\n",
        "    test_score.append(clf.score(X_test,y_test))\n",
        "\n",
        "plt.figure(figsize = (8,8))\n",
        "plt.plot(min_sample_split,train_score)\n",
        "plt.plot(min_sample_split, test_score)\n",
        "plt.xlabel('Min Sample Leaf')\n",
        "plt.ylabel('Accuracy')\n",
        "plt.legend(['Training set','Test set'])"
      ]
    },
    {
      "cell_type": "code",
      "execution_count": null,
      "metadata": {
        "_cell_guid": "cc4fd3c1-9f4b-ff14-e6ce-e7d31e477571"
      },
      "outputs": [],
      "source": [
        "clf = DecisionTreeClassifier(min_samples_leaf = 5)\n",
        "clf.fit(X_train,y_train)\n",
        "\n",
        "with open(\"tree1.dot\", 'w') as f:\n",
        "     f = tree.export_graphviz(clf,\n",
        "                              out_file=f,\n",
        "                              max_depth = 5,\n",
        "                              impurity = False,\n",
        "                              feature_names = X_test.columns.values,\n",
        "                              class_names = ['No', 'Yes'],\n",
        "                              rounded = True,\n",
        "                              filled= True )\n",
        "        \n",
        "#Convert .dot to .png to allow display in web notebook\n",
        "check_call(['dot','-Tpng','tree1.dot','-o','tree1.png'])\n",
        "\n",
        "# Annotating chart with PIL\n",
        "img = Image.open(\"tree1.png\")\n",
        "draw = ImageDraw.Draw(img)\n",
        "img.save('sample-out.png')\n",
        "PImage(\"sample-out.png\")"
      ]
    },
    {
      "cell_type": "code",
      "execution_count": null,
      "metadata": {
        "_cell_guid": "fb03d0e4-45b9-6349-c164-227ac2785bf4"
      },
      "outputs": [],
      "source": [
        "clf = DecisionTreeClassifier(min_samples_leaf = 45)\n",
        "clf.fit(X_train,y_train)\n",
        "\n",
        "with open(\"tree1.dot\", 'w') as f:\n",
        "     f = tree.export_graphviz(clf,\n",
        "                              out_file=f,\n",
        "                              max_depth = 5,\n",
        "                              impurity = False,\n",
        "                              feature_names = X_test.columns.values,\n",
        "                              class_names = ['No', 'Yes'],\n",
        "                              rounded = True,\n",
        "                              filled= True )\n",
        "        \n",
        "#Convert .dot to .png to allow display in web notebook\n",
        "check_call(['dot','-Tpng','tree1.dot','-o','tree1.png'])\n",
        "\n",
        "# Annotating chart with PIL\n",
        "img = Image.open(\"tree1.png\")\n",
        "draw = ImageDraw.Draw(img)\n",
        "img.save('sample-out.png')\n",
        "PImage(\"sample-out.png\")"
      ]
    },
    {
      "cell_type": "markdown",
      "metadata": {
        "_cell_guid": "2f255875-5ee0-7aa6-4f2a-6a03299d4b3b"
      },
      "source": [
        "## Min leaf nodes\n",
        "\n",
        "**Grow a tree with max_leaf_nodes in best-first fashion. Best nodes are defined as relative reduction in impurity. If None then unlimited number of leaf nodes.**"
      ]
    },
    {
      "cell_type": "code",
      "execution_count": null,
      "metadata": {
        "_cell_guid": "050133c6-26bd-e38e-d270-9f5860e2f695"
      },
      "outputs": [],
      "source": [
        "test_score = []\n",
        "train_score = []\n",
        "max_leaf_nodes  = np.arange(5,100,5)\n",
        "for leaf in max_leaf_nodes :\n",
        "    clf = DecisionTreeClassifier(max_leaf_nodes  = leaf)\n",
        "    clf.fit(X_train,y_train)\n",
        "    train_score.append(clf.score(X_train,y_train))\n",
        "    test_score.append(clf.score(X_test,y_test))\n",
        "    \n",
        "plt.figure(figsize = (8,8))\n",
        "plt.plot(min_sample_split,train_score)\n",
        "plt.plot(min_sample_split, test_score)\n",
        "plt.xlabel('Min Leaf Nodes')\n",
        "plt.ylabel('Accuracy')\n",
        "plt.legend(['Training set','Test set'])"
      ]
    },
    {
      "cell_type": "code",
      "execution_count": null,
      "metadata": {
        "_cell_guid": "59fa0dfc-70f4-1c01-8211-b384d173454d"
      },
      "outputs": [],
      "source": [
        "clf = DecisionTreeClassifier(max_leaf_nodes = 10)\n",
        "clf.fit(X_train,y_train)\n",
        "\n",
        "with open(\"tree1.dot\", 'w') as f:\n",
        "     f = tree.export_graphviz(clf,\n",
        "                              out_file=f,\n",
        "                              max_depth = 5,\n",
        "                              impurity = False,\n",
        "                              feature_names = X_test.columns.values,\n",
        "                              class_names = ['No', 'Yes'],\n",
        "                              rounded = True,\n",
        "                              filled= True )\n",
        "        \n",
        "#Convert .dot to .png to allow display in web notebook\n",
        "check_call(['dot','-Tpng','tree1.dot','-o','tree1.png'])\n",
        "\n",
        "# Annotating chart with PIL\n",
        "img = Image.open(\"tree1.png\")\n",
        "draw = ImageDraw.Draw(img)\n",
        "img.save('sample-out.png')\n",
        "PImage(\"sample-out.png\")"
      ]
    },
    {
      "cell_type": "markdown",
      "metadata": {
        "_cell_guid": "55e44230-c3a5-2106-a7a4-eaf1677415c8"
      },
      "source": [
        "## Class Weight\n",
        "\n",
        " - Weights associated with classes in the form {class_label: weight}. If\n",
        "   not given, all classes are supposed to have weight one. For\n",
        "   multi-output problems, a list of dicts can be provided in the same\n",
        "   order as the columns of y.\n",
        " - The \u201cbalanced\u201d mode uses the values of y to automatically adjust\n",
        "   weights inversely proportional to class frequencies in the input data\n",
        "   as n_samples / (n_classes * np.bincount(y)) For multi-output, the\n",
        "   weights of each column of y will be multiplied.\n",
        " - Note that these weights will be multiplied with sample_weight (passed\n",
        "   through the fit method) if sample_weight is specified.\n",
        "\n",
        "Unlike the last parameters, this one (usually) deals with class imbalance.\n",
        "\n",
        "We have a mild imbalance in our problem. 62% of all passangers died in the titanic disaster. In the training data the number is only 59%. but this parameter can come very handy where the data is more skewed. \n",
        "\n",
        "Let's say that for some reason we are more interested in the people who survived. that is, we don't mind our classifiers to have a higher rate of false positives (people who were predicted to survive but actually did not) as long as we get a lower false negative rate. that is, if someone survived, we are very likely to predict it (this is of course \"Recall\").\n",
        "\n",
        "Let's see the effect:"
      ]
    },
    {
      "cell_type": "code",
      "execution_count": null,
      "metadata": {
        "_cell_guid": "50bc47dd-392c-81fd-4d74-09a65d260b5c"
      },
      "outputs": [],
      "source": [
        "clf = DecisionTreeClassifier(max_depth = 3)\n",
        "clf.fit(X_train,y_train)\n",
        "print('Class Weight is normal...')\n",
        "print(confusion_matrix(y_test,clf.predict(X_test)))\n",
        "\n",
        "clf = DecisionTreeClassifier(max_depth = 3, class_weight = 'balanced')\n",
        "clf.fit(X_train,y_train)\n",
        "print('Class weight is balanced to compensate for class imbalance...')\n",
        "print(confusion_matrix(y_test,clf.predict(X_test)))"
      ]
    },
    {
      "cell_type": "markdown",
      "metadata": {
        "_cell_guid": "9e92a0ae-1216-8bc8-5aa7-8cd8a0c5bb6e"
      },
      "source": [
        "In the first confusion matrix, we can see that our classifier predicted that 192 people would drown, and 103 would survive where in fact 175 have died and 120 survived. so while the average accuracy is slightly above 82%' our accuracy is 90% when it comes to those who died, and 70% with those who survived.\n",
        "\n",
        "This makes sense since more people died than didn't and this pushes the classifier towards pessimism.\n",
        "\n",
        "In the second case, the accuracy goes down to 80%, but the difference between the positive and negative accuracy is now smaller: 82% accuracy when predicting someone would not survive, and 76% when predicting the opposite. "
      ]
    },
    {
      "cell_type": "markdown",
      "metadata": {
        "_cell_guid": "77f1b477-fdc2-2520-f440-480232ac8ebc"
      },
      "source": [
        "## Presort\n",
        "\n",
        "**Whether to presort the data to speed up the finding of best splits in fitting. For the default settings of a decision tree on large data sets, setting this to true may slow down the training process. When using either a smaller data set or a restricted depth, this may speed up the training.**\n",
        "\n",
        "In our case, the data set is small and our tree depth is restricted. therefore, if we can trust the documentation, we expect the algorithm to be faster when this option is enabled:"
      ]
    },
    {
      "cell_type": "code",
      "execution_count": null,
      "metadata": {
        "_cell_guid": "be9ec4cd-fb1d-f07e-1fe3-3949135e4ba7"
      },
      "outputs": [],
      "source": [
        "clf = DecisionTreeClassifier(max_depth = 3)\n",
        "t = time.time()\n",
        "clf.fit(X_train,y_train)\n",
        "print('Without presot accuracy', clf.score(X_test,y_test))\n",
        "print('Without presort runtime...',time.time() - t)\n",
        "\n",
        "clf = DecisionTreeClassifier(max_depth = 3, presort = True)\n",
        "t = time.time()\n",
        "clf.fit(X_train,y_train)\n",
        "print('With presot accuracy', clf.score(X_test,y_test))\n",
        "print('With Presort runtime...',time.time() - t)"
      ]
    },
    {
      "cell_type": "markdown",
      "metadata": {
        "_cell_guid": "4f496b5f-0415-b24f-b63c-a7aa81e858e4"
      },
      "source": [
        "There is some difference, although I was not able to repeat it very consistently..."
      ]
    }
  ],
  "metadata": {
    "_change_revision": 0,
    "_is_fork": false,
    "kernelspec": {
      "display_name": "Python 3",
      "language": "python",
      "name": "python3"
    },
    "language_info": {
      "codemirror_mode": {
        "name": "ipython",
        "version": 3
      },
      "file_extension": ".py",
      "mimetype": "text/x-python",
      "name": "python",
      "nbconvert_exporter": "python",
      "pygments_lexer": "ipython3",
      "version": "3.6.0"
    }
  },
  "nbformat": 4,
  "nbformat_minor": 0
}