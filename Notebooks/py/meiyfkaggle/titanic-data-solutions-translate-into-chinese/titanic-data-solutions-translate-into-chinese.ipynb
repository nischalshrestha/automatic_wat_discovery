{
  "cells": [
    {
      "cell_type": "markdown",
      "metadata": {
        "_cell_guid": "1e962b93-87b7-31de-e1a5-d1e9f851e122"
      },
      "source": [
        "\u5f15\u8a00:\u4e0e\u541b\u5171\u52c9\uff0c\u4e0d\u5f53\u4e4b\u5904\u8fd8\u671b\u6307\u51fa\u3002\u9644\u539f\u6587\u5730\u5740\uff0c[\u4f20\u9001\u95e8](https://www.kaggle.com/startupsci/titanic/titanic-data-science-solutions)\u3002"
      ]
    },
    {
      "cell_type": "markdown",
      "metadata": {
        "_cell_guid": "09838a4a-15a1-23a7-b666-62fb94bd04e7"
      },
      "source": [
        "##\u6cf0\u5766\u5c3c\u514b\u53f7\u6570\u636e\u79d1\u5b66\u89e3\u51b3\u65b9\u6848\n",
        "\u8fd9\u4e2anotebook\u662f[\u6570\u636e\u79d1\u5b66\u89e3\u51b3\u65b9\u6848](https://startupsci.com/)\u7684\u6307\u5357\u3002\u5c06\u5e26\u9886\u6211\u4eec\u901a\u8fc7\u4f20\u7edf\u7684\u5de5\u4f5c\u6d41\uff0c\u5728\u50cfkaggle\u8fd9\u6837\u7684\u7f51\u7ad9\u4e0a\u89e3\u51b3\u6570\u636e\u79d1\u5b66\u7ade\u8d5b\u3002\n",
        "\u6709\u5f88\u591a\u4f18\u79c0\u7684notebooks\u6765\u7814\u7a76\u6570\u636e\u79d1\u5b66\u7ade\u8d5b\u9879\u76ee\u3002\u4f46\u662f\u56e0\u4e3a\u8fd9\u4e9bnotebooks\u90fd\u662f\u4e13\u5bb6\u4e3a\u4e86\u4e13\u4e1a\u4eba\u58eb\u6240\u7f16\u5199\u7684\uff0c\u6240\u4ee5\u4ed6\u4eec\u4e2d\u7684\u5f88\u591a\u4eba\u90fd\u8df3\u8fc7\u4e86\u5bf9\u6709\u5173\u5982\u4f55\u5f62\u6210\u89e3\u51b3\u65b9\u6848\u7684\u89e3\u91ca\u3002\u672c\u6587\u7684\u76ee\u7684\u5c31\u662f\u901a\u8fc7\u4e00\u4e2a\u5faa\u5e8f\u6e10\u8fdb\u7684\u5de5\u4f5c\u6d41\uff0c\u6765\u89e3\u91ca\u6211\u4eec\u5728\u89e3\u51b3\u65b9\u6848\u7684\u5f00\u53d1\u4e2d\u6240\u6267\u884c\u7684\u6bcf\u4e00\u6b65\u548c\u91c7\u7528\u6bcf\u4e00\u4e2a\u51b3\u5b9a\u7684\u57fa\u672c\u539f\u7406\u3002\n",
        "\n",
        "##\u5de5\u4f5c\u6d41\u9636\u6bb5\n",
        "\u5728\u6570\u636e\u79d1\u5b66\u89e3\u51b3\u65b9\u6848\u8fd9\u672c\u4e66\u4e2d\uff0c\u7ade\u8d5b\u89e3\u51b3\u65b9\u6848\u5de5\u4f5c\u6d41\u88ab\u5212\u5206\u62107\u4e2a\u9636\u6bb5\u3002\n",
        "\n",
        "- 1.\u95ee\u9898\u6216\u8005\u96be\u9898\u7684\u5b9a\u4e49\n",
        "- 2.\u91c7\u96c6\u8bad\u7ec3\u96c6\u548c\u6d4b\u8bd5\u96c6\n",
        "- 3.\u6570\u636e\u89c4\u6574\uff0c\u9884\u5904\u7406\uff0c\u6e05\u6d17\u6570\u636e\n",
        "- 4.\u5206\u6790\uff0c\u8bc6\u522b\u6a21\u5f0f\u548c\u6570\u636e\u6316\u6398\n",
        "- 5.\u6a21\u578b\uff0c\u9884\u6d4b\u548c\u89e3\u51b3\u95ee\u9898\n",
        "- 6.\u53ef\u89c6\u5316\uff0c\u62a5\u544a\uff0c\u4ecb\u7ecd\u5f53\u524d\u89e3\u51b3\u95ee\u9898\u7684\u6b65\u9aa4\u4ee5\u53ca\u6700\u7ec8\u7684\u89e3\u51b3\u65b9\u6848\n",
        "- 7.\u4f9b\u5e94\u6216\u8005\u63d0\u4ea4\u7ed3\u679c\n",
        "\n",
        "\u5de5\u4f5c\u6d41\u663e\u793a\u4e86\u6bcf\u4e2a\u9636\u6bb5\u5982\u4f55\u8ddf\u7740\u53e6\u4e00\u4e2a\u9636\u6bb5\u7684\u4e00\u822c\u987a\u5e8f\u3002\u4f46\u662f\u6709\u4f8b\u5916\u7684\u60c5\u51b5\u3002\n",
        "\n",
        "- \u6211\u4eec\u53ef\u4ee5\u6574\u5408\u591a\u4e2a\u5de5\u4f5c\u6d41\u9636\u6bb5\u3002\u5982\u6211\u4eec\u53ef\u4ee5\u901a\u8fc7\u53ef\u89c6\u5316\u6570\u636e\u8fdb\u884c\u5206\u6790\u3002\n",
        "- \u6bd4\u663e\u793a\u7684\u66f4\u65e9\u7684\u6267\u884c\u67d0\u4e2a\u9636\u6bb5\u3002\u5982\u6211\u4eec\u53ef\u4ee5\u5728\u6570\u636e\u89c4\u6574\u524d\u540e\u8fdb\u884c\u6570\u636e\u5206\u6790\u3002\n",
        "- \u5728\u6211\u4eec\u7684\u5de5\u4f5c\u6d41\u4e2d\u591a\u6b21\u6267\u884c\u67d0\u4e2a\u9636\u6bb5\u3002\u5982\u53ef\u89c6\u5316\u9636\u6bb5\u53ef\u80fd\u4f1a\u88ab\u591a\u6b21\u4f7f\u7528\u3002\n",
        "- \u5b8c\u5168\u653e\u5f03\u67d0\u4e2a\u9636\u6bb5\u3002\u5982\u4f5c\u4e3a\u7ade\u8d5b\uff0c\u6211\u4eec\u53ef\u80fd\u4e0d\u9700\u8981\u4f9b\u5e94\u9636\u6bb5\u4f7f\u6211\u4eec\u7684\u6570\u636e\u96c6\u6765\u751f\u4ea7\u6216\u670d\u52a1\u3002\n",
        "\n",
        "##\u95ee\u9898\u548c\u96be\u9898\u5b9a\u4e49\n",
        "\u50cfkaggle\u8fd9\u6837\u7684\u7ade\u8d5b\u7f51\u7ad9\u5b9a\u4e49\u4e86\u8981\u89e3\u51b3\u7684\u95ee\u9898\u7684\uff0c\u540c\u65f6\u63d0\u4f9b\u6570\u636e\u96c6\u6765\u8bad\u7ec3\u4f60\u7684\u6570\u636e\u6a21\u578b\uff0c\u5e76\u6839\u636e\u6d4b\u8bd5\u96c6\u6d4b\u8bd5\u6a21\u578b\u7ed3\u679c\u3002\u6cf0\u5766\u5c3c\u514b\u53f7\u6551\u63f4\u7ade\u8d5b\u7684\u95ee\u9898\u5c31[\u88ab\u63cf\u8ff0\u5728Kaggle\u4e0a](https://www.kaggle.com/c/titanic)\u3002\n",
        "\n",
        "\u4ece\u5217\u51fa\u4e86\u5728\u6cf0\u5766\u5c3c\u514b\u53f7\u707e\u96be\u4e2d\u5e78\u5b58\u4e0b\u6765\u6216\u6ca1\u6709\u751f\u5b58\u7684\u4e58\u5ba2\u7684\u4e00\u7cfb\u5217\u8bad\u7ec3\u6837\u672c\u4e2d\u5b66\u4e60\u540e\uff0c\u6211\u4eec\u7684\u6a21\u578b\u80fd\u4e0d\u80fd\u901a\u8fc7\u4e00\u4e2a\u7ed9\u5b9a\u7684\u4e0d\u5305\u542b\u83b7\u6551\u4fe1\u606f\u7684\u6d4b\u8bd5\u96c6\uff0c\u9884\u6d4b\u6d4b\u8bd5\u96c6\u4e2d\u7684\u4e58\u5ba2\u662f\u5426\u83b7\u6551\u3002\n",
        "\n",
        "\u6211\u4eec\u4e5f\u60f3\u8981\u65e9\u65e5\u7406\u89e3\u6211\u4eec\u95ee\u9898\u7684\u9886\u57df\u3002[Kaggle \u7ade\u8d5b\u63cf\u8ff0\u9875](https://www.kaggle.com/c/titanic)\u3002\u4ee5\u4e0b\u662f\u8981\u5f3a\u8c03\u6ce8\u610f\u7684\u3002\n",
        "\n",
        "- 1912\u5e744\u670815\u65e5\uff0c\u6cf0\u5766\u5c3c\u514b\u53f7\u5728\u9996\u6b21\u822a\u884c\u4e2d\uff0c\u4e0e\u51b0\u5c71\u76f8\u649e\u540e\u6c89\u6ca1\uff0c\u57282224\u540d\u4e58\u5ba2\u548c\u8239\u5458\u4e2d\u9020\u62101502\u4eba\u6b7b\u4ea1\u3002\u4e5f\u5c31\u662f\u53ea\u670932%\u7684\u5b58\u6d3b\u7387\u3002\n",
        "- \u5176\u4e2d\u4e00\u4e2a\u5bfc\u81f4\u4e86\u5728\u8fd9\u573a\u6d77\u96be\u4e2d\u635f\u5931\u5982\u6b64\u591a\u751f\u547d\u7684\u539f\u56e0\u662f\u4e58\u5ba2\u548c\u8239\u5458\u6ca1\u6709\u8db3\u591f\u591a\u7684\u6551\u751f\u8239\u3002\n",
        "- \u5c3d\u7ba1\u5728\u8fd9\u6b21\u6c89\u8239\u4e8b\u4ef6\u4e2d\u6709\u4e00\u4e9b\u8fd0\u6c14\u7684\u539f\u56e0\uff0c\u4f46\u662f\u4e00\u4e9b\u50cf\u5973\u4eba\uff0c\u5b69\u5b50\uff0c\u4e0a\u5c42\u4eba\u58eb\u8fd9\u7c7b\u4eba\u6bd4\u5176\u4ed6\u4eba\u5e78\u5b58\u7684\u6982\u7387\u66f4\u5927\u3002\n",
        "\n",
        "##\u5de5\u4f5c\u6d41\u76ee\u6807\n",
        "\u6570\u636e\u79d1\u5b66\u7684\u89e3\u51b3\u65b9\u6848\u5de5\u4f5c\u6d41\u7a0b\u89e3\u51b3\u4e867\u4e2a\u76ee\u6807\u3002\n",
        "\n",
        "**\u5206\u7c7b.** \u6211\u4eec\u53ef\u80fd\u60f3\u8981\u5bf9\u6211\u4eec\u7684\u6837\u672c\u8fdb\u884c\u5206\u7c7b\u3002\u6211\u4eec\u4e5f\u53ef\u80fd\u60f3\u8981\u4e86\u89e3\u4e0d\u540c\u7c7b\u522b\u5bf9\u6211\u4eec\u7684\u89e3\u51b3\u65b9\u6848\u7684\u5f71\u54cd(implication)\u548c\u76f8\u5173\u6027\u3002\n",
        "\n",
        "**\u5173\u8054.**\u53ef\u4ee5\u6839\u636e\u8bad\u7ec3\u6570\u636e\u96c6\u4e2d\u7684\u53ef\u7528\u7279\u5f81\u6765\u89e3\u51b3\u95ee\u9898\u3002\u6570\u636e\u96c6\u4e2d\u7684\u54ea\u4e9b\u7279\u5f81\u5927\u5927\u6709\u52a9\u4e8e\u6211\u4eec\u7684\u89e3\u51b3\u65b9\u6848\u76ee\u6807\uff1f\u4ece\u7edf\u8ba1\u5b66(statistically)\u4e0a\u6765\u8bf4\uff0c\u7279\u5f81\u548c\u89e3\u51b3\u65b9\u6848\u76ee\u6807\u4e4b\u95f4\u6709\u6ca1\u6709\u76f8\u5173\u6027\uff1f\u5f53\u7279\u5f81\u503c\u6539\u53d8\u7684\u65f6\u5019\uff0c\u89e3\u51b3\u65b9\u6848\u7684\u72b6\u6001\u4e5f\u6539\u53d8\u4e86\uff0c\u53cd\u8fc7\u6765\u5462\uff1f\u8fd9\u53ef\u4ee5\u901a\u8fc7\u5728\u7ed9\u5b9a\u7684\u6570\u636e\u96c6\u4e2d\u5bf9\u6570\u503c\u578b\u548c\u5206\u7c7b\u7279\u5f81\u8fdb\u884c\u6d4b\u8bd5\u3002\u6211\u4eec\u4e5f\u60f3\u8981\u786e\u5b9a\u540e\u7eed\u76ee\u6807\u548c\u5de5\u4f5c\u6d41\u7a0b\u9636\u6bb5\u7684\u751f\u5b58\u4e4b\u5916\u7684\u7279\u5f81\u4e4b\u95f4\u7684\u76f8\u5173\u6027\u3002\u5173\u8054\u4e00\u5b9a\u7684\u7279\u5f81\u53ef\u80fd\u6709\u52a9\u4e8e\u521b\u5efa\uff0c\u5b8c\u6210\u6216\u4fee\u6b63\u7279\u5f81 \u3002\n",
        "\n",
        "**\u8f6c\u5316.** \u5efa\u6a21\u9636\u6bb5\uff0c\u9700\u8981\u5bf9\u6570\u636e\u8fdb\u884c\u9884\u5904\u7406\u3002\u4f9d\u8d56\u4e8e\u9009\u62e9\u7684\u6a21\u578b\u7b97\u6cd5\uff0c\u8fd8\u9700\u8981\u628a\u6240\u6709\u7684\u7279\u5f81\u8f6c\u5316\u6210\u6570\u503c\u7b49\u6548\u503c\u3002\u6bd4\u5982\u6587\u672c\u7c7b\u578b\u7684\u503c\u8f6c\u5316\u6210\u6570\u503c\u7c7b\u578b\u7684\u503c\u3002\n",
        "\n",
        "**\u5b8c\u6210.** \u6570\u636e\u9884\u5904\u7406\u53ef\u80fd\u9700\u8981\u6211\u4eec\u8bc4\u4f30\u67d0\u4e2a\u7279\u5f81\u6240\u6709\u7684\u7f3a\u5931\u503c\u3002\u6a21\u578b\u7b97\u6cd5\u5728\u6ca1\u6709\u7f3a\u5931\u503c\u7684\u65f6\u5019\u53ef\u80fd\u5de5\u4f5c\u7684\u66f4\u597d\u3002\n",
        "\n",
        "**\u4fee\u6b63.** \u6211\u4eec\u8fd8\u53ef\u4ee5\u5206\u6790\u7ed9\u5b9a\u7684\u8bad\u7ec3\u6570\u636e\u96c6\u4e2d\u7279\u5f81\u7684\u9519\u8bef\u6216\u53ef\u80fd\u4e0d\u51c6\u786e\u7684\u503c\uff0c\u5e76\u5c1d\u8bd5\u66f4\u6b63\u8fd9\u4e9b\u503c\u6216\u6392\u9664\u5305\u542b\u9519\u8bef\u7684\u6837\u672c\u3002\u4e00\u4e2a\u65b9\u5f0f\u662f\u68c0\u6d4b\u6240\u6709\u6211\u4eec\u6837\u672c\u6216\u7279\u5f81\u4e2d\u7684\u5f02\u5e38\u503c\u3002\u5982\u679c\u5b83\u5bf9\u6570\u636e\u5206\u6790\u6ca1\u4e00\u70b9\u7528\uff0c\u6216\u8005\u53ef\u80fd\u660e\u663e\u5bfc\u81f4\u7ed3\u679c\u504f\u5dee\u5f88\u5927\u7684\u8bdd\uff0c\u6211\u4eec\u4e5f\u53ef\u4ee5\u653e\u5f03\u67d0\u4e2a\u7279\u5f81\u3002\n",
        "\n",
        "**\u521b\u5efa.** \u6211\u4eec\u53ef\u4ee5\u57fa\u4e8e\u67d0\u4e2a\u5df2\u7ecf\u5b58\u5728\u5f53\u7279\u5f81\u6216\u8005\u4e00\u7cfb\u5217\u7279\u5f81\u6765\u521b\u9020\u51fa\u4e00\u4e2a\u65b0\u7684\u7279\u5f81\uff0c\u8fd9\u6837\u65b0\u7684\u7279\u5f81\u5c31\u7ee7\u627f\u4e86\u5176\u76f8\u5173\u6027\uff0c\u8f6c\u6362\u548c\u5b8c\u6574\u6027\u76ee\u6807\u3002\n",
        "\n",
        "**\u5236\u56fe.** \u600e\u4e48\u9009\u62e9\u6b63\u786e\u7684\u53ef\u89c6\u5316\u56fe\u548c\u5236\u56fe\u4f9d\u8d56\u6570\u636e\u7684\u6027\u8d28\u548c\u89e3\u51b3\u65b9\u6848\u7684\u76ee\u7684\u3002\u4e00\u4e2a\u597d\u7684\u5f00\u59cb\u5c31\u662f\u53bb\u9605\u8bfb\u8bba\u6587[Which chart or graph is right for you ?](http://www.tableau.com/learn/whitepapers/which-chart-or-graph-is-right-for-you#ERAcoH5sEG5CFlek.99)\n",
        "\n",
        "##2017\u5e741\u670829\u65e5\u91cd\u6784\u7248\u672c\n",
        "\u6211\u4eec\u57fa\u4e8e(a)\u6536\u5230\u7684\u8bfb\u8005\u7684\u8bc4\u8bba\uff0c\u8981\u91cd\u6784notebooo,(b)\u5c06notebook\u4eceJupyter(2.7)\u5185\u6838\u79fb\u690dKaggle\u5185\u6838(3.5)\u7684\u95ee\u9898,\u5e76\u4e14(c)\u5ba1\u67e5\u4e00\u4e9b\u6700\u4f73\u5b9e\u8df5\u7684\u6838\u5fc3\u51fd\u6570\u3002\n",
        "\n",
        "##\u7528\u6237\u8bc4\u8bba\n",
        "- \u6574\u5408\u8bad\u7ec3\u548c\u6d4b\u8bd5\u96c6\u7684\u4e00\u4e9b\u64cd\u4f5c\uff0c\u6bd4\u5982\u901a\u8fc7\u6570\u636e\u96c6\u628a\u6807\u9898\u8f6c\u6362\u6210\u6570\u503c\u7c7b\u578b\u7684\u503c\u3002\n",
        "- \u4fee\u6b63\u89c2\u70b9 - \u8239\u4e0a\u51e0\u4e4e 30%\u7684\u4e58\u5ba2\u662f\u6709\u5144\u5f1f\u59d0\u59b9\u548c/\u6216\u914d\u5076\u7684\u3002\n",
        "- \u4fee\u6b63\u7406\u89e3\u903b\u8f91\u56de\u5f52\u7cfb\u6570\n",
        "\n",
        "##\u79fb\u690d\u7684\u95ee\u9898\n",
        "- \u6307\u5b9a\u56fe\u7684\u7ef4\u5ea6\uff0c\u628a\u56fe\u4f8b\u52a0\u5230\u56fe\u4e2d\n",
        "\n",
        "##\u6700\u4f73\u5b9e\u8df5\n",
        "- \u5728\u9879\u76ee\u4e2d\u66f4\u65e9\u7684\u6267\u884c\u7279\u5f81\u76f8\u5173\u6027\u5206\u6790\n",
        "- \u7528\u591a\u79cd\u591a\u6837\u7684\u56fe\u56fe\u4f8b\u800c\u4e0d\u662f\u8986\u76d6\u53ef\u8bfb\u6027"
      ]
    },
    {
      "cell_type": "code",
      "execution_count": null,
      "metadata": {
        "_cell_guid": "dceea4f6-70d0-3bb1-aa69-67237f1dfd45"
      },
      "outputs": [],
      "source": [
        "# \u6570\u636e\u5206\u6790\u548c\u6570\u636e\u89c4\u6574\n",
        "import pandas as pd\n",
        "import numpy as np\n",
        "import random as rd\n",
        "\n",
        "# \u53ef\u89c6\u5316\n",
        "import seaborn as sns\n",
        "import matplotlib.pyplot as plt\n",
        "# \u4e0d\u8df3\u51fa\u9875\u9762,\u5728notebook\u4e2d\u5c55\u793a\u56fe\u8868\n",
        "%matplotlib inline \n",
        "\n",
        "# \u673a\u5668\u5b66\u4e60\u7b97\u6cd5\n",
        "from sklearn.linear_model import LogisticRegression\n",
        "from sklearn.svm import SVC,LinearSVC\n",
        "from sklearn.ensemble import RandomForestClassifier\n",
        "from sklearn.neighbors import KNeighborsClassifier\n",
        "from sklearn.naive_bayes import GaussianNB\n",
        "from sklearn.linear_model import Perceptron\n",
        "from sklearn.linear_model import SGDClassifier\n",
        "from sklearn.tree import DecisionTreeClassifier"
      ]
    },
    {
      "cell_type": "markdown",
      "metadata": {
        "_cell_guid": "43054106-d9b9-181a-71ac-945b837058d9"
      },
      "source": [
        "##\u6570\u636e\u91c7\u96c6\n",
        "python\u7684pandas\u5305\u5e2e\u52a9\u6211\u4eec\u5904\u7406\u6211\u4eec\u7684\u6570\u636e\u3002\u6211\u4eec\u4ece\u628a\u8bad\u7ec3\u96c6\u548c\u6d4b\u8bd5\u96c6\u91c7\u96c6\u6210Pandas\u7684DataFrame\u5f00\u59cb\u3002\u6211\u4eec\u4e5f\u628a\u8fd9\u4e9b\u6570\u636e\u96c6\u6574\u5408\u4e00\u8d77\u6267\u884c\u67d0\u4e9b\u64cd\u4f5c\u3002"
      ]
    },
    {
      "cell_type": "code",
      "execution_count": null,
      "metadata": {
        "_cell_guid": "03eb0d08-44ca-d211-44ca-8a0d9c47f71e"
      },
      "outputs": [],
      "source": [
        "train_df = pd.read_csv('../input/train.csv')\n",
        "test_df = pd.read_csv('../input/test.csv')\n",
        "combine = [train_df,test_df]"
      ]
    },
    {
      "cell_type": "markdown",
      "metadata": {
        "_cell_guid": "1dce872c-f60c-8eaf-cb29-d6451134106c"
      },
      "source": [
        "##\u901a\u8fc7\u6570\u636e\u63cf\u8ff0\u5206\u6790\n",
        "Pandas\u4e5f\u6709\u52a9\u4e8e\u63cf\u8ff0\u6570\u636e\u96c6\u56de\u7b54\u4ee5\u4e0b\u65e9\u5728\u6211\u4eec\u9879\u76ee\u4e2d\u7684\u95ee\u9898\u3002\n",
        "**\u6570\u636e\u96c6\u4e2d\u7684\u54ea\u4e9b\u7279\u5f81\u662f\u6709\u7528\u7684\uff1f**\n",
        "\u6ce8\u610f\u76f4\u63a5\u64cd\u4f5c\u6216\u5206\u6790\u7279\u5f81\u7684\u540d\u5b57\u6765\u3002\u8fd9\u4e9b\u7279\u5f81\u540d\u5b57\u7684\u63cf\u8ff0\u5728[Kaggle\u7684data\u9875\u9762](https://www.kaggle.com/c/titanic/data)"
      ]
    },
    {
      "cell_type": "code",
      "execution_count": null,
      "metadata": {
        "_cell_guid": "c726084f-6b9e-2d0c-be1c-92a9e116abf4"
      },
      "outputs": [],
      "source": [
        "# \u5c55\u793a\u6570\u636e\u96c6\u4e2d\u6240\u6709\u7684\u5217\n",
        "print(train_df.columns.values)"
      ]
    },
    {
      "cell_type": "markdown",
      "metadata": {
        "_cell_guid": "b236408c-bbe1-388a-5232-ae082a39f3d7"
      },
      "source": [
        "##\u54ea\u4e9b\u7279\u5f81\u662f\u5206\u7c7b\u7684\uff1f\n",
        "\u8fd9\u4e9b\u503c\u628a\u6837\u672c\u5206\u6210\u76f8\u4f3c\u6837\u672c\u7684\u96c6\u5408\u3002\u5206\u7c7b\u7279\u5f81\u662f\u4ee5\u540d\u4e49\u503c(nominal)\uff0c\u5e8f\u6570(ordinal)\uff0c\u6bd4\u4f8b(ratio)\u6216\u95f4\u9694\u503c(interval)\u4e3a\u57fa\u7840\u7684\u5417\uff1f \u9664\u6b64\u4e4b\u5916\uff0c\u8fd9\u6709\u52a9\u4e8e\u6211\u4eec\u9009\u62e9\u9002\u5f53\u7684\u53ef\u89c6\u5316\u7ed8\u56fe\u3002\n",
        "\n",
        "- \u5206\u7c7b(categorical):Servived,Sex,Embarked\u3002\u5e8f\u6570(ordinal):Pclass\u3002\n",
        "\n",
        "##\u54ea\u4e9b\u7279\u5f81\u662f\u6570\u503c\u578b\u7684\uff1f\n",
        "\u8fd9\u4e9b\u503c\u662f\u4ece\u4e0d\u540c\u6837\u672c\u53d8\u5316\u800c\u6765\u7684\u3002\u6570\u503c\u578b\u7279\u5f81\u662f\u4ee5\u79bb\u6563\uff0c\u8fde\u7eed\u6216\u65f6\u95f4\u5e8f\u5217\u4e3a\u57fa\u7840\u7684\u503c\u5417\uff1f\u9664\u6b64\u4e4b\u5916\uff0c\u8fd9\u6709\u52a9\u4e8e\u6211\u4eec\u9009\u62e9\u9002\u5f53\u7684\u53ef\u89c6\u5316\u7ed8\u56fe\u3002\n",
        "\n",
        "- \u8fde\u7eed(continous):Age,Fare\u3002\u79bb\u6563\u7684(discrete):SibSp,Parch\u3002"
      ]
    },
    {
      "cell_type": "code",
      "execution_count": null,
      "metadata": {
        "_cell_guid": "bae204e3-28e1-97c3-671a-b61bce354d00"
      },
      "outputs": [],
      "source": [
        "# \u9884\u89c8\u524d3\u884c\u6570\u636e,\u6ca1\u6709\u53c2\u6570\u9ed8\u8ba4\u524d\u4e94\u884c\n",
        "train_df.head(3)"
      ]
    },
    {
      "cell_type": "markdown",
      "metadata": {
        "_cell_guid": "39a52b70-85f5-a46f-1727-e9fa57e47267"
      },
      "source": [
        "**\u54ea\u4e2a\u7279\u5f81\u662f\u6df7\u5408\u6570\u636e\u7c7b\u578b\u7684\uff1f**\n",
        "\u6570\u503c\u578b\u7684(numerical)\u548c\u5b57\u6bcd\u6570\u5b57\u6df7\u5408\u7f16\u5236\u7684(alphanumeric)\u6570\u636e\u5728\u76f8\u540c\u7684\u7279\u5f81\u4e2d\u3002\u8fd9\u4e9b\u5c31\u662f\u9700\u8981\u4fee\u6b63\u7684\u76ee\u6807\u3002\n",
        "\n",
        "- Ticket \u662f\u6570\u5b57\u548c\u5b57\u6bcd\u6570\u5b57\u6df7\u5408\u7f16\u5236\u7684\u6570\u636e\u7c7b\u578b\u3002Cabin\u662f\u5b57\u6bcd\u6570\u5b57\u6df7\u5408\u7f16\u5236\u7684\u3002\n",
        "\n",
        "**\u54ea\u4e00\u4e2a\u7279\u5f81\u662f\u542b\u6709\u9519\u8bef\u548c\u6253\u5b57\u9519\u8bef\u7684\uff1f**\n",
        "\u8fd9\u5bf9\u5927\u6570\u636e\u96c6\u6765\u8bf4\u662f\u5f88\u96be\u5ba1\u67e5\u7684\uff0c\u7136\u800c\u4ece\u4e00\u4e2a\u5c0f\u6570\u636e\u96c6\u4e2d\u5ba1\u67e5\u51fa\u4e00\u5c0f\u90e8\u5206\u9700\u8981\u4fee\u6b63\u7684\u6837\u672c\u662f\u5f88\u7b80\u5355\u7684\u4e8b\u60c5\u3002\n",
        "\n",
        "- \u7279\u5f81Name\u53ef\u80fd\u662f\u5305\u542b\u9519\u8bef\u548c\u6253\u5b57\u9519\u8bef\u7684\uff0c\u56e0\u4e3a\u6709\u5f88\u591a\u65b9\u5f0f\u88ab\u7528\u6765\u63cf\u8ff0\u4e00\u4e2a\u540d\u5b57\uff0c\u5305\u62ec\u7528\u4e8e\u66ff\u4ee3\u540d\u79f0\u6216\u7f29\u5199\u7684\u79f0\u53f7\uff0c\u5706\u62ec\u53f7(round brackets)\u548c\u5f15\u53f7(quotes)\u3002"
      ]
    },
    {
      "cell_type": "code",
      "execution_count": null,
      "metadata": {
        "_cell_guid": "c534c4b5-bc37-8717-df86-baf3681fdd2d"
      },
      "outputs": [],
      "source": [
        "# \u9884\u89c8\u6700\u540e5\u884c\u6570\u636e\n",
        "train_df.tail()"
      ]
    },
    {
      "cell_type": "markdown",
      "metadata": {
        "_cell_guid": "a2d9fa77-ea62-c92c-4fee-0402079e8d4e"
      },
      "source": [
        "##\u54ea\u4e00\u4e2a\u7279\u5f81\u542b\u6709\u7a7a\u767d\uff0cnull\u6216\u7a7a\u503c?\n",
        "\u8fd9\u4e9b\u4e5f\u662f\u9700\u8981\u4fee\u6b63\u7684\u3002\n",
        "\n",
        "- Cabin>Age>Embarked \u542b\u6709\u4e00\u4e9bnull\u503c\u7684\u7279\u5f81\u5728\u8bad\u7ec3\u96c6\u4e2d\u7684\u987a\u5e8f\u3002\n",
        "- Cabin>Age \u5728\u6d4b\u8bd5\u96c6\u4e2d\u662f\u4e0d\u5b8c\u6574\u7684\u3002\n",
        "\n",
        "##\u5404\u79cd\u7279\u5f81\u7684\u6570\u636e\u7c7b\u578b\u662f\u4ec0\u4e48?\n",
        "\u8fd9\u5728\u8f6c\u5316\u76ee\u6807\u4e2d\u4f1a\u5e2e\u52a9\u6211\u4eec\u3002\n",
        "\n",
        "- 7\u4e2a\u7279\u5f81\u662f\u6574\u6570\u6216\u8005\u6d6e\u70b9\u6570\u7684\uff0c\u6d4b\u8bd5\u96c6\u4e2d\u5219\u662f6\u4e2a\n",
        "- 5\u4e2a\u7279\u5f81\u662f\u5b57\u7b26\u4e32\u7c7b\u578b\u7684"
      ]
    },
    {
      "cell_type": "code",
      "execution_count": null,
      "metadata": {
        "_cell_guid": "e64c9c83-1815-b721-e6a4-13b63d29a8c5"
      },
      "outputs": [],
      "source": [
        "train_df.info()\n",
        "print('_'*40)\n",
        "test_df.info()"
      ]
    },
    {
      "cell_type": "markdown",
      "metadata": {
        "_cell_guid": "ef57c56a-e0f8-3956-cf02-eb46e58393ec"
      },
      "source": [
        "##\u5728\u6837\u672c\u4e2d\uff0c\u6570\u503c\u578b\u7684\u7279\u5f81\u626e\u6f14\u4e86\u4ec0\u4e48\u89d2\u8272?\n",
        "\n",
        "\u9664\u4e86\u65e9\u671f\u7684\u89c1\u89e3\u4e4b\u5916\uff0c\u8fd9\u6709\u52a9\u4e8e\u6211\u4eec\u786e\u5b9a\uff0c\u5b9e\u9645\u95ee\u9898\u9886\u57df\u7684\u8bad\u7ec3\u96c6\u7684\u4ee3\u8868\u6027\u5982\u4f55\u3002\n",
        "\n",
        "\u603b\u6837\u672c\u6570\u662f891\u6216\u8005\u8bf4\u5728\u6cf0\u5766\u5c3c\u514b\u53f7\u4e0a\u7684\u5b9e\u9645\u7684\u4e58\u5ba2\u6570\u768440%\u3002\n",
        "\n",
        " - Survived\u662f\u4e00\u4e2a\u53ea\u67090\u548c1\u503c\u7684\u5206\u7c7b\u7279\u5f81\u3002\n",
        " - \u5927\u7ea638%\u7684\u6837\u672c\u5b58\u6d3b\u4ee3\u8868\u4e8632%\u7684\u5b9e\u9645\u5b58\u6d3b\u7387\u3002\n",
        " - \u7edd\u5bf9\u591a\u6570(75%)\u7684\u4e58\u5ba2\u662f\u6ca1\u6709\u643a\u5e26\u5b50\u5973\u6216\u8005\u7236\u6bcd\u7684\u3002\n",
        " - \u8239\u4e0a30%\u7684\u4e58\u5ba2\u662f\u6709\u5144\u5f1f\u59d0\u59b9(sibling)\u548c/\u6216\u914d\u5076(spouse)\u7684\u3002\n",
        " - \u7968\u4ef7\u51e0\u4e4e\u6ca1\u6709\u4e58\u5ba2\u4e4b\u95f4\u5b58\u5728\u7740\u663e\u8457\u7684\u5dee\u5f02,\u56e0\u4e3a\u53ea\u67091%\u7684\u4eba\u652f\u4ed8\u4e86\u9ad8\u8fbe512\u7f8e\u5143\u3002\n",
        " - \u4e0a\u4e86\u5e74\u7eaa\u7684\u4e58\u5ba2\u4e5f\u5f88\u5c11(65-80\u4e4b\u95f4\u7684\u53ea\u5360\u4e861%)"
      ]
    },
    {
      "cell_type": "code",
      "execution_count": null,
      "metadata": {
        "_cell_guid": "add7bf25-8802-ebaa-ee3f-9d298c83210d"
      },
      "outputs": [],
      "source": [
        "train_df.describe()\n",
        "# \u4f7f\u7528\u767e\u5206\u6570\u6765\u8bc4\u4f30\u5b58\u6d3b\u7387,\u6b63\u5982\u6211\u4eec\u7684\u95ee\u9898\u63cf\u8ff0\u4e2d\u63d0\u5230\u768438\uff05\u7684\u5b58\u6d3b\u7387\u3002\n",
        "# \u4f7f\u7528\u767e\u5206\u6570\u6765\u67e5\u770bParch\u7684\u5206\u5e03\u60c5\u51b5\n",
        "# SibSp\u5206\u5e03\u60c5\u51b5\n",
        "# \u5e74\u9f84\u548c\u7968\u4ef7[.1\uff0c.2\uff0c.3\uff0c.4\uff0c.5\uff0c.6\uff0c.7\uff0c.8\uff0c.9\uff0c.99]"
      ]
    },
    {
      "cell_type": "markdown",
      "metadata": {
        "_cell_guid": "6ff32d62-acdc-6d8e-61fe-0d119bfc0dca"
      },
      "source": [
        "##\u5206\u7c7b\u7279\u5f81\u626e\u6f14\u4e86\u4ec0\u4e48\u89d2\u8272?\n",
        "\n",
        "- Names \u5728\u6570\u636e\u96c6\u4e2d\u662f\u552f\u4e00\u7684(891\u4e2a\u6ca1\u6709\u91cd\u540d\u7684)\n",
        "- Sex \u53d8\u91cf\u53ea\u6709\u4e24\u4e2a\u53ef\u80fd\u7684\u503c\uff0c\u5176\u4e2d65%\u7684\u662f\u7537\u6027(\u6700\u591a\u7684\u662f\u7537\u6027\uff0c\u9891\u7387\uff1a577/891)\n",
        "- Cabin\u503c\u6709\u4e9b\u662f\u91cd\u590d(duplicates)\u7684\u5728\u6837\u672c\u4e2d\u3002\u4e5f\u53ef\u4ee5(alternatively)\u8bf4\u51e0\u4e2a\u4e58\u5ba2\u5171\u4eab\u4e00\u4e2a\u8239\u8231(cabin)\u3002\n",
        "- Ticket\u7279\u5f81\u6709\u5f88\u591a\u91cd\u590d\u7684\u503c\uff0c\u6bd4\u7387\u8fbe\u5230\u4e8622%(\u4e0d\u540c\u7684\u53ea\u6709681\u4e2a)\u3002"
      ]
    },
    {
      "cell_type": "code",
      "execution_count": null,
      "metadata": {
        "_cell_guid": "6398417e-ea7e-5026-7fdd-ba98f6475b81"
      },
      "outputs": [],
      "source": [
        "train_df.describe(include=['O'])"
      ]
    },
    {
      "cell_type": "markdown",
      "metadata": {
        "_cell_guid": "3a36b36f-df6d-5b73-86c1-2777083acfed"
      },
      "source": [
        "##\u57fa\u4e8e\u6570\u636e\u5206\u6790\u7684\u731c\u60f3\n",
        "\u5230\u76ee\u524d\u4e3a\u6b62\uff0c \u5b8c\u6210\u57fa\u4e8e\u6570\u636e\u5206\u6790\u7684\u5de5\u4f5c\uff0c\u6211\u4eec\u4f1a\u5f97\u5230\u5982\u4e0b\u731c\u60f3\u3002\u5728\u91c7\u53d6\u9002\u5f53\u7684\u884c\u52a8\u4e4b\u524d\uff0c\u6211\u4eec\u9700\u8981\u8fdb\u4e00\u6b65\u7684\u9a8c\u8bc1\u8fd9\u731c\u60f3\u3002\n",
        "\n",
        "##\u5173\u8054\n",
        "\u6211\u4eec\u60f3\u8981\u77e5\u9053\u6bcf\u4e00\u4e2a\u7279\u5f81\u662f\u5982\u4f55\u4e0e\u5b58\u6d3b\u7387\u5173\u8054\u7684\u3002\u6211\u4eec\u5e0c\u671b\u5728\u9879\u76ee\u521d\u671f\u5c31\u8fd9\u6837\u505a\uff0c\u5e76\u5feb\u901f\u5c06\u8fd9\u4e9b\u76f8\u5173\u6027\u4e0e\u9879\u76ee\u540e\u671f\u7684\u5efa\u6a21\u76f8\u5173\u6027\u8fdb\u884c\u5339\u914d\u3002\n",
        "\n",
        "##\u5b8c\u6210\n",
        "- \u56e0\u4e3a\u7279\u5f81Age\u80af\u5b9a\u548c\u5e78\u5b58\u8005\u76f8\u5173\uff0c\u6240\u4ee5\u6211\u4eec\u60f3\u8981\u5b8c\u6210Age\u7279\u5f81\u3002\n",
        "- \u56e0\u4e3a\u7279\u5f81Embarked\u548c\u5e78\u5b58\u8005\u6216\u8005\u5176\u4ed6\u91cd\u8981\u7684\u7279\u5f81\u76f8\u5173\uff0c\u6240\u4ee5\u6211\u4eec\u60f3\u8981\u5b8c\u6210Embarked\u7279\u5f81\u3002\n",
        "\n",
        "##\u4fee\u6b63\n",
        "- \u56e0\u4e3a\u6709\u5f88\u9ad8\u7684\u91cd\u590d\u6bd4\u4f8b\uff0c\u800c\u4e14Ticket\u548c\u5e78\u5b58\u8005\u4e4b\u95f4\u4e5f\u6ca1\u4ec0\u4e48\u76f8\u5173\u6027\uff0c\u6240\u4ee5\u7279\u5f81Ticket\u53ef\u4ee5\u4ece\u6211\u4eec\u7684\u6570\u636e\u5206\u6790\u4e2d\u88ab\u4e22\u5f03\u3002\n",
        "- \u56e0\u4e3a\u5728\u8bad\u7ec3\u96c6\u548c\u6d4b\u8bd5\u96c6\u4e2d\uff0c\u7279\u5f81Cabin\u90fd\u6709\u5927\u91cf\u4e0d\u6b63\u786e\u6216\u8005\u7a7a\u503c\uff0c\u6240\u4ee5\u6211\u4eec\u4e5f\u53ef\u4ee5\u4e22\u5f03\u8fd9\u4e2a\u7279\u5f81\u3002\n",
        "- PassengerId\u4e5f\u53ef\u4ee5\u4ece\u8bad\u7ec3\u96c6\u4e2d\u4e22\u5f03\uff0c\u56e0\u4e3a\u5b83\u5bf9\u5e78\u5b58\u8005\u6ca1\u6709\u4efb\u4f55\u5f71\u54cd\u3002\n",
        "- \u7279\u5f81Name\u76f8\u5bf9\u662f\u4e0d\u6807\u51c6(non-standard)\u7684\uff0c\u53ef\u80fd\u5bf9\u7ed3\u679c\u4e5f\u6ca1\u4ec0\u4e48\u76f4\u63a5(directly)\u5f71\u54cd\uff0c\u6240\u4ee5\u4e5f\u4e22\u5f03\u5b83\u3002\n",
        "\n",
        "##\u521b\u9020\n",
        "- \u6211\u4eec\u60f3\u8981\u521b\u9020\u4e00\u4e2a\u57fa\u4e8eParch\u548cSibSp\u7684Family\u7279\u5f81\u6765\u7edf\u8ba1\u8239\u4e0a\u5bb6\u5ead\u6210\u5458\u7684\u603b\u6570\u3002\n",
        "- \u6211\u4eec\u60f3\u8981\u8bbe\u8ba1\u4e00\u4e2aName\u7279\u5f81\u6765\u63d0\u53d6Title\u7136\u540e\u5f62\u6210\u4e00\u4e2a\u65b0\u7684\u7279\u5f81\u3002\n",
        "- \u6211\u4eec\u60f3\u8981\u4e3a\u4e86\u5e74\u9f84\u6bb5\u521b\u9020\u4e00\u4e2a\u65b0\u7684\u7279\u5f81\u3002\u8fd9\u6837\u5c31\u628a\u4e00\u4e2a\u8fde\u7eed(continous)\u7684\u6570\u503c\u578b\u7279\u5f81\u8f6c\u53d8\u6210\u4e86\u987a\u5e8f(ordinal)\u7684\u5206\u7c7b\u7279\u5f81\u3002\n",
        "\n",
        "##\u5206\u7c7b\n",
        "\u57fa\u4e8e\u8fd9\u4e2a\u95ee\u9898\u4e4b\u524d\u7684\u63cf\u8ff0\uff0c\u6211\u4eec\u4e5f\u53ef\u4ee5\u589e\u52a0\u8fdb\u6211\u4eec\u7684\u731c\u60f3\u3002\n",
        "- \u5973\u4eba(Sex=female)\u66f4\u53ef\u80fd\u83b7\u6551\u3002\n",
        "- \u513f\u7ae5(Age<?)\u66f4\u53ef\u80fd\u83b7\u6551\u3002\n",
        "- \u4e0a\u5c42\u4eba\u58eb(Pclass=1)\u66f4\u53ef\u80fd\u83b7\u6551\u3002\n",
        "\n",
        "##\u901a\u8fc7\u65cb\u8f6c\u7279\u5f81\u5206\u6790\n",
        "\u4e3a\u4e86\u9a8c\u8bc1\u6211\u4eec\u7684\u89c2\u5bdf\u548c\u64e6\u60f3\uff0c\u6211\u4eec\u53ef\u4ee5\u901a\u8fc7\u65cb\u8f6c\u6211\u4eec\u7684\u7279\u5f81\u6765\u5feb\u901f\u5206\u6790\u7279\u5f81\u4e4b\u95f4\u7684\u76f8\u5173\u6027\u4ee5\u4e92\u76f8\u9a8c\u8bc1\u3002\u6211\u4eec\u53ea\u80fd\u5728\u8fd9\u4e9b\u7279\u5f81\u5e76\u6ca1\u6709\u4efb\u4f55\u7a7a\u503c\u7684\u60c5\u51b5\u4e0b\u8fd9\u4e48\u505a\u3002\u5bf9\u4e8e\u5206\u7c7b\uff08\u6027\u522b\uff09\uff0c\u5e8f\u6570\uff08Pclass\uff09\u6216\u79bb\u6563\uff08SibSp\uff0cParch\uff09\u7c7b\u578b\u7684\u7279\u5f81\uff0c\u8fd9\u6837\u505a\u4e5f\u662f\u6709\u9053\u7406\u7684\n",
        "\n",
        "- Pclas \u6211\u4eec\u89c2\u5bdf\u5230Pclass=1\u548cServived\uff08classifying #3\uff09\u662f\u6b63\u76f8\u5173(>0.5)\u7684\u3002\u6211\u4eec\u51b3\u5b9a\u628a\u8fd9\u4e2a\u7279\u5f81\u52a0\u5165\u5230\u6211\u4eec\u7684\u6a21\u578b\u4e2d\u3002\n",
        "- Sex \u6211\u4eec\u5728\u95ee\u9898\u5b9a\u4e49\u4e2d\u8bc1\u5b9e\u4e86\u6211\u4eec\u7684\u89c2\u5bdf\uff0cSex=femall\u6709\u9ad8\u8fbe74%\u7684\u5b58\u6d3b\u7387\uff08classifying #1\uff09\u3002\n",
        "- SibSp and Parch \u56e0\u4e3a\u67d0\u4e9b\u4ef7\u503c\uff0c\u8fd9\u4e9b\u7279\u5f81\u662f\u96f6\u76f8\u5173\u7684\u3002\u6700\u597d\u4ece\u8fd9\u4e9b\u72ec\u7279\u7684\u7279\u5f81\uff08creating #1\uff09\u5bfc\u51fa\u4e00\u4e2a\u7279\u5f81\u6216\u4e00\u7ec4\u7279\u5f81\u3002"
      ]
    },
    {
      "cell_type": "code",
      "execution_count": null,
      "metadata": {
        "_cell_guid": "c91d1d89-f6dc-3095-8bce-5327637cc1df"
      },
      "outputs": [],
      "source": [
        "train_df[['Pclass','Survived']].groupby(['Pclass'],as_index=False).mean().sort_values(by='Survived',ascending=False)"
      ]
    },
    {
      "cell_type": "code",
      "execution_count": null,
      "metadata": {
        "_cell_guid": "c9244d33-2d43-44b0-1539-9321f47169d0"
      },
      "outputs": [],
      "source": [
        "train_df[['Sex','Survived']].groupby(['Sex'],as_index=False).mean().sort_values(by='Survived',ascending=False)"
      ]
    },
    {
      "cell_type": "code",
      "execution_count": null,
      "metadata": {
        "_cell_guid": "3c551074-0b22-d01f-73e5-1f526b26140c"
      },
      "outputs": [],
      "source": [
        "train_df[['SibSp','Survived']].groupby(['SibSp'],as_index=False).mean().sort_values(by='Survived',ascending=False)"
      ]
    },
    {
      "cell_type": "code",
      "execution_count": null,
      "metadata": {
        "_cell_guid": "bad21d1e-3f34-b6bf-9233-3fc394138ff5"
      },
      "outputs": [],
      "source": [
        "train_df[['Parch','Survived']].groupby(['Parch'],as_index=False).mean().sort_values(by='Survived',ascending=False)"
      ]
    },
    {
      "cell_type": "markdown",
      "metadata": {
        "_cell_guid": "f9ee360e-8e66-729c-cf1a-96bcd203a9b6"
      },
      "source": [
        "##\u901a\u8fc7\u53ef\u89c6\u5316\u6570\u636e\u8fdb\u884c\u5206\u6790\n",
        "\u73b0\u5728\u6211\u4eec\u53ef\u4ee5\u901a\u8fc7\u4f7f\u7528\u53ef\u89c6\u5316\u5de5\u5177\u5206\u6790\u6570\u636e\u6765\u7ee7\u7eed\u8bc1\u5b9e\u6211\u4eec\u7684\u4e00\u4e9b\u731c\u60f3\u4e86\u3002\n",
        "\n",
        "##\u6570\u503c\u7279\u5f81\u7684\u76f8\u5173\u6027\n",
        "\u8ba9\u6211\u4eec\u5f00\u59cb\u7406\u6e05\u6570\u503c\u578b\u7279\u5f81\u548c\u6211\u4eec\u7684\u89e3\u51b3\u65b9\u6848\u76ee\u6807(Survived)\u4e4b\u95f4\u7684\u76f8\u5173\u6027\u5427\u3002\n",
        "\n",
        "\u76f4\u65b9\u56fe\u5bf9\u4e8eAge\u8fd9\u6837\u7684\u8fde\u7eed\u6570\u503c\u578b\u53d8\u91cf\u7684\u6ce2\u6bb5(band)\u6216\u8303\u56f4\uff0c\u7528\u56fe\u8bc6\u522b(identify)\u662f\u5f88\u6709\u7528\u7684\u3002\u76f4\u65b9\u56fe\u53ef\u4ee5\u4f7f\u7528\u81ea\u52a8\u5b9a\u4e49\u7684\u4ed3\u6216\u540c\u7b49\u8303\u56f4\u7684\u6ce2\u6bb5\u6765\u8868\u660e\u6837\u672c\u7684\u5206\u5e03\u3002 \u8fd9\u6709\u52a9\u4e8e\u6211\u4eec\u56de\u7b54\u4e0e\u7279\u5b9a\u6ce2\u6bb5\u76f8\u5173\u7684\u95ee\u9898\uff08\u5a74\u513f(infants)\u6709\u66f4\u597d\u7684\u751f\u5b58\u7387\u5417\uff1f\uff09\n",
        "\n",
        "\u6ce8\u610f\u76f4\u65b9\u56fe\u53ef\u89c6\u5316\u4e2d\u7684y\u8f74\u4ee3\u8868\u7684\u662f\u6837\u672c\u6216\u8005\u4e58\u5ba2\u7684\u6570\u91cf\u3002\n",
        "\n",
        "##\u89c2\u5bdf\u7ed3\u679c\n",
        "- \u5a74\u513f(Age<4)\u6709\u8f83\u9ad8\u7684\u5b58\u6d3b\u7387\u3002\n",
        "- \u8001\u5e74\u4eba(Age=80)\u6709\u8f83\u9ad8\u7684\u5b58\u6d3b\u7387\u3002\n",
        "- \u5927\u91cf15-25\u5c81\u7684\u4eba\u6ca1\u6709\u5b58\u6d3b\u3002\n",
        "- \u7edd\u5927\u591a\u6570\u7684\u4eba\u572815-35\u5c81\u4e4b\u95f4\u3002\n",
        "\n",
        "## \u51b3\u7b56\n",
        "\u56e0\u4e3a\u540e\u7eed\u5de5\u4f5c\u6d41\u9636\u6bb5\u7684\u51b3\u7b56\uff0c\u8fd9\u4e2a\u7b80\u5355\u7684\u5206\u6790\u5c31\u80fd\u8bc1\u5b9e\u6211\u4eec\u7684\u731c\u60f3\u3002\n",
        "\n",
        "- \u6211\u4eec\u5e94\u8be5\u5728\u6211\u4eec\u6a21\u578b\u7684\u8bad\u7ec3\u4e2d\u8003\u8651\u5230\u7279\u5f81Age(\u6211\u4eec\u7684\u731c\u60f3 classifying#2)\u3002\n",
        "- \u5b8c\u6210\u7279\u5f81Age\uff0c\u4f7f\u5176\u6ca1\u6709\u7a7a\u503c(completing #1)\u3002\n",
        "- \u6211\u4eec\u5e94\u8be5\u8bbe\u5b9a\u5e74\u9f84\u6ce2\u6bb5(creating #3)\u3002"
      ]
    },
    {
      "cell_type": "code",
      "execution_count": null,
      "metadata": {
        "_cell_guid": "e528e942-0c8a-4f4c-e48b-7bb6081aba93"
      },
      "outputs": [],
      "source": [
        "g = sns.FacetGrid(train_df,col='Survived')\n",
        "g.map(plt.hist,'Age',bins=20)"
      ]
    },
    {
      "cell_type": "markdown",
      "metadata": {
        "_cell_guid": "70902715-2547-bc7d-d9b3-d50e2e865401"
      },
      "source": [
        "##\u6570\u503c\u548c\u5e8f\u6570\u7279\u5f81\u7684\u76f8\u5173\u6027\n",
        "\u6211\u4eec\u53ef\u4ee5\u6574\u5408\u591a\u4e2a\u7279\u5f81\uff0c\u4f7f\u7528\u5355\u4e2a\u56fe\u6765\u8bc6\u522b\u76f8\u5173\u6027\u3002\u8fd9\u53ef\u4ee5\u7528\u5177\u6709\u6570\u503c\u7684\u6570\u5b57\u548c\u5206\u7c7b\u7279\u5f81\u6765\u5b8c\u6210\u3002\n",
        "\n",
        "##\u89c2\u5bdf\u7ed3\u679c\n",
        "- \u6709\u5927\u91cfPclass=3\u7684\u4e58\u5ba2\uff0c\u7136\u800c\u5927\u90e8\u5206\u90fd\u6ca1\u6709\u5b58\u6d3b\u4e0b\u6765\u3002\u8bc1\u5b9e\u4e86\u6211\u4eec\u7684classifying\u731c\u60f3#2\u3002\n",
        "- Pclass=2\u548cPclass=3\u7684\u5a74\u513f\u66f4\u5bb9\u6613\u5b58\u6d3b\u3002\u8fdb\u4e00\u6b65\u8bc1\u5b9e\u4e86\u6211\u4eec\u7684classifying\u731c\u60f3#2\u3002\n",
        "- \u5927\u91cfPclass=1\u7684\u4eba\u5b58\u6d3b\u4e86\u4e0b\u6765\u3002\u8bc1\u5b9e\u4e86\u6211\u4eec\u7684classifying\u731c\u60f3#3\u3002\n",
        "\n",
        "##\u51b3\u7b56\n",
        "- \u6a21\u578b\u8bad\u7ec3\u4e2d\u8003\u8651Pclass\u7279\u5f81\u3002"
      ]
    },
    {
      "cell_type": "code",
      "execution_count": null,
      "metadata": {
        "_cell_guid": "52e22002-37cc-7ab2-bb3d-5b36067289e0"
      },
      "outputs": [],
      "source": [
        "# grid = sns.FacetGrid(train_df,col='Pclass',hue='Survived')\n",
        "grid = sns.FacetGrid(train_df,col='Survived',row='Pclass',size=2.2,aspect=1.6)\n",
        "grid.map(plt.hist,'Age',alpha=.5,bins=20)\n",
        "grid.add_legend();"
      ]
    },
    {
      "cell_type": "markdown",
      "metadata": {
        "_cell_guid": "aaf83bda-d383-c054-5e92-03f9500e0d98"
      },
      "source": [
        "##\u5206\u7c7b\u7279\u5f81\u7684\u76f8\u5173\u6027\n",
        "\u73b0\u5728\u6211\u4eec\u53ef\u4ee5\u5173\u8054\u5206\u7c7b\u7279\u5f81\u548c\u6211\u4eec\u7684\u89e3\u51b3\u65b9\u6848\u76ee\u6807\u4e86\u3002\n",
        "\n",
        "##\u89c2\u5bdf\u7ed3\u679c\n",
        "- \u5973\u6027\u4e58\u5ba2\u6bd4\u7537\u6027\u66f4\u5bb9\u6613\u5b58\u6d3b\u3002\u8bc1\u5b9e\u4e86classifying(#1)\u3002\n",
        "- \u610f\u5916\u7684\u662fEmbarked=C\u7684\u7537\u6027\u6709\u66f4\u9ad8\u7684\u5b58\u6d3b\u6bd4\u4f8b\u3002\u8fd9\u53ef\u80fd\u8bf4\u660e\u4e86Pclass\u4e0eEmbarked\u4e4b\u95f4\u548cPclass\u4e0eSurvived\u4e4b\u95f4\u5b58\u5728\u67d0\u79cd\u8054\u7cfb\uff0c\u800cEmbarked\u548cSurvived\u4e4b\u95f4\u7684\u8054\u7cfb\u5219\u4e0d\u662f\u5fc5\u8981\u7684\u3002\n",
        "- C\u548cQ\u6e2f\u53e3\u7684Pclass=2\u7684\u7537\u6027Pclass=3\u7684\u7537\u6027\u6709\u66f4\u9ad8\u7684\u5b58\u6d3b\u7387\u3002Completing(#2)\u3002\n",
        "- \u5728\u7537\u6027\u4e58\u5ba2\u4e2d\uff0c\u4e58\u8239\u7684\u6e2f\u53e3\u6539\u53d8(varying)\u4e86Pclass=3\u7684\u4e58\u5ba2\u7684\u5b58\u6d3b\u7387(#1)\u3002\n",
        "\n",
        "##\u51b3\u7b56\n",
        "- \u5728\u6a21\u578b\u8bad\u7ec3\u4e2d\u8003\u8651\u7279\u5f81Sex\u3002\n",
        "- \u5b8c\u6210\u5e76\u589e\u52a0Embarked\u7279\u5f81\u6765\u8bad\u7ec3\u6a21\u578b\u3002"
      ]
    },
    {
      "cell_type": "code",
      "execution_count": null,
      "metadata": {
        "_cell_guid": "9b2a4d9e-7158-5198-4c3d-6df5576ec4c7"
      },
      "outputs": [],
      "source": [
        "# grid = sns.FacetGrid(train_df,col='Embarked')\n",
        "grid = sns.FacetGrid(train_df,row='Embarked',size=2.2,aspect=1.6)\n",
        "grid.map(sns.pointplot,'Pclass','Survived','Sex',palette='deep')\n",
        "grid.add_legend()"
      ]
    },
    {
      "cell_type": "markdown",
      "metadata": {
        "_cell_guid": "cb5dd9d7-5e88-aea3-a902-d7cb19db1269"
      },
      "source": [
        "##\u5206\u7c7b\u548c\u6570\u503c\u578b\u7279\u5f81\u7684\u76f8\u5173\u6027\n",
        "\u6211\u4eec\u4e5f\u60f3\u8981\u5173\u8054\u5206\u7c7b\u7279\u5f81(\u975e\u6570\u5b57\u7684)\u548c\u6570\u503c\u578b\u7279\u5f81\u3002\u6211\u4eec\u53ef\u4ee5\u8003\u8651Embarked(\u5206\u7c7b\u7684\u975e\u6570\u5b57\u7684)\uff0cSex(\u5206\u7c7b\u7684\u975e\u6570\u5b57\u7684),Fare(\u8fde\u7eed\u6570\u5b57)\u548cSurvived(\u5206\u7c7b\u7684\u6570\u5b57\u7684)\u4e4b\u95f4\u7684\u76f8\u5173\u6027\u3002\n",
        "\n",
        "##\u89c2\u5bdf\u7ed3\u679c\n",
        "- \u652f\u4ed8\u7968\u4ef7\u5f88\u9ad8\u7684\u4e58\u5ba2\u6709\u66f4\u9ad8\u7684\u5b58\u6d3b\u7387\u3002\u8bc1\u5b9e\u4e86\u6211\u4eeccreating(#4)\u7968\u4ef7\u8303\u56f4\u7684\u731c\u60f3\u3002\n",
        "- \u4e58\u8239\u7684\u6e2f\u53e3\u548c\u5b58\u6d3b\u7387\u662f\u76f8\u5173\u7684\u3002\u8bc1\u5b9e\u4e86correlating(#1)\u548ccompleting(#2)\u3002\n",
        "\n",
        "##\u51b3\u7b56\n",
        "- \u8003\u8651\u7279\u5f81Fare\u7684\u6ce2\u6bb5\u3002"
      ]
    },
    {
      "cell_type": "code",
      "execution_count": null,
      "metadata": {
        "_cell_guid": "426e08ae-a4f5-de06-d7fc-3a9594dc0600"
      },
      "outputs": [],
      "source": [
        "# grid =sns.FacetGrid(train_df,col='Embarked',hue='Survived',palette={0:'k',1:'w'})\n",
        "grid = sns.FacetGrid(train_df,row='Embarked',col='Survived',size=2.2,aspect=1.6)\n",
        "grid.map(sns.barplot,'Sex','Fare',alpha=.5,ci=None)\n",
        "grid.add_legend()"
      ]
    },
    {
      "cell_type": "markdown",
      "metadata": {
        "_cell_guid": "cf4705e4-e118-3b5c-4efb-d6e5d9a75545"
      },
      "source": [
        "##\u6570\u636e\u89c4\u6574\n",
        "\u6211\u4eec\u6536\u96c6\u4e86\u6570\u4e2a\u6709\u5173\u6211\u4eec\u6570\u636e\u96c6\u548c\u89e3\u51b3\u65b9\u6848\u6240\u5fc5\u8981\u7684\u731c\u60f3\u548c\u51b3\u7b56\u3002\u5230\u76ee\u524d\u4e3a\u6b62\uff0c\u6211\u4eec\u6ca1\u6709\u5fc5\u8981\u6539\u8868\u4efb\u4f55\u4e00\u4e2a\u7279\u5f81\u6216\u8005\u7279\u5f81\u503c\u6765\u8fbe\u6210\u8fd9\u4e9b\u76ee\u7684\u3002\u73b0\u5728\u4e3a\u4e86\u4fee\u6b63\uff0c\u521b\u9020\u548c\u5b8c\u6210\u76ee\u6807,\u8ba9\u6211\u4eec\u6267\u884c\u6211\u4eec\u7684\u51b3\u7b56\u548c\u731c\u60f3\u3002\n",
        "\n",
        "##\u901a\u8fc7\u4e22\u5f03\u7279\u5f81\u6765\u4fee\u6b63\n",
        "\u8fd9\u662f\u4e00\u4e2a\u5f88\u597d\u7684\u8d77\u59cb\u76ee\u6807\u3002\u901a\u8fc7\u4e22\u5f03\u7279\u5f81\uff0c\u6211\u4eec\u53ea\u5904\u7406\u4e86\u5f88\u5c11\u7684\u6570\u636e\u70b9\u3002\u5374\u8ba9notebook\u52a0\u901f\u4ee5\u53ca\u7b80\u5316(eases)\u4e86\u5206\u6790\u3002\n",
        "\n",
        "\u6839\u636e\u6211\u4eec\u7684\u731c\u60f3\u548c\u51b3\u7b56\uff0c\u6211\u4eec\u60f3\u8981\u4e22\u5f03\u7279\u5f81Cabin(correcting #2)\u548cTicket(correcting #1)\u3002\n",
        "\n",
        "\u6ce8\u610f\u6211\u4eec\u8981\u540c\u65f6\u5728\u5408\u9002\u7684\u5730\u65b9\u6267\u884c\u64cd\u4f5c\u4ee5\u786e\u4fdd\u8bad\u7ec3\u96c6\u548c\u6d4b\u8bd5\u96c6\u59cb\u7ec8\u4fdd\u6301\u4e00\u81f4\u3002"
      ]
    },
    {
      "cell_type": "code",
      "execution_count": null,
      "metadata": {
        "_cell_guid": "beefd958-328f-06fc-5a42-febaa649cfc3"
      },
      "outputs": [],
      "source": [
        "print('Before',train_df.shape,test_df.shape,combine[0].shape,combine[1].shape)\n",
        "train_df = train_df.drop(['Ticket', 'Cabin'], axis=1)\n",
        "test_df = test_df.drop(['Ticket', 'Cabin'], axis=1)\n",
        "\n",
        "combine = [train_df,test_df]\n",
        "\n",
        "'After',train_df.shape,test_df.shape,combine[0].shape,combine[1].shape"
      ]
    },
    {
      "cell_type": "markdown",
      "metadata": {
        "_cell_guid": "053b87f0-6ab7-2cef-3202-70817ec0eb44"
      },
      "source": [
        "##\u4ece\u5b58\u5728\u7684\u7279\u5f81\u4e2d\u63d0\u51fa\u5e76\u521b\u9020\u4e00\u4e2a\u65b0\u7279\u5f81\n",
        "\u6211\u4eec\u60f3\u5206\u6790\u7279\u5f81Name\u662f\u5426\u53ef\u4ee5\u8bbe\u8ba1\u63d0\u53d6\u6210Title\u7279\u5f81\u4ee5\u53ca\u6d4b\u8bd5Title\u7279\u5f81\u548c\u751f\u5b58\u4e4b\u95f4\u7684\u5173\u7cfb,\u4e4b\u524d\u628a\u7279\u5f81Name\u548cPassengerId\u4e22\u5f03\u4e86\u3002\n",
        "\n",
        "\u5728\u4e0b\u9762\u7684\u4ee3\u7801\u4e2d\u6211\u4eec\u4f7f\u7528\u6b63\u5219\u8868\u8fbe\u5f0f\u63d0\u53d6Title\u7279\u5f81\u3002\u6b63\u5219\u8868\u8fbe\u5f0f(\\w+\\.)\u5339\u914d\u5728Name\u7279\u5f81\u4e2d\u4ee5\u70b9\u5b57\u7b26\u7ed3\u5c3e\u7684\u7b2c\u4e00\u4e2a\u5355\u8bcd\u3002expand=False\u8fd9\u4e2a\u6807\u8bb0\u8fd4\u56de\u4e00\u4e2aDataFrame\u3002\n",
        "\n",
        "##\u89c2\u5bdf\u7ed3\u679c\n",
        "\u5f53\u6211\u4eec\u7ed8\u5236Title,Age,Survive\u65f6\uff0c\u6211\u4eec\u6ce8\u610f\u5230\u4e86\u4e00\u4e0b\u89c2\u5bdf\u7ed3\u679c\u3002\n",
        "\n",
        "- \u5927\u591a\u6570\u6807\u9898\u7ed1\u5b9a\u5e74\u9f84\u7ec4\u51c6\u786e\u3002\u4f8b\u5982\uff1aMaster\u6807\u9898\u7684Age\u662f5\u5c81\u3002\n",
        "- \u6807\u9898\u5728\u5e74\u9f84\u6bb5\u4e4b\u95f4\u7684\u5b58\u6d3b\u7387\u7565\u6709\u4e0d\u540c\u3002\n",
        "- \u67d0\u4e9b\u6807\u9898\u7edd\u5927\u90e8\u5206\u90fd\u5b58\u6d3b\u4e86\u4e0b\u6765(Mme,Lady,Sir),\u800c\u6709\u7684\u5c31\u6ca1\u6709(Don,Rev,Jonkheer)\u3002\n",
        "\n",
        "##\u51b3\u7b56\n",
        "- \u6211\u4eec\u51b3\u5b9a\u5728\u6a21\u578b\u8bad\u7ec3\u4e2d\u4fdd\u7559\u65b0\u7684\u7279\u5f81Title"
      ]
    },
    {
      "cell_type": "code",
      "execution_count": null,
      "metadata": {
        "_cell_guid": "cb1eef13-803a-e8ca-2882-4cc0e471f5c0"
      },
      "outputs": [],
      "source": [
        "for dataset in combine:\n",
        "    dataset['Title'] = dataset.Name.str.extract('([A-Za-z]+\\.)',expand=False)\n",
        "pd.crosstab(train_df['Title'],train_df['Sex'])"
      ]
    },
    {
      "cell_type": "markdown",
      "metadata": {
        "_cell_guid": "30cf5ea6-0195-50ce-913b-dfdce224548a"
      },
      "source": [
        "\u6211\u4eec\u53ef\u4ee5\u7528\u66f4\u5e38\u7528\u7684\u540d\u79f0\u66ff\u6362\u8bb8\u591atitles\u6216\u8005\u5c06\u5b83\u4eec\u5206\u7c7b\u4e3a\u66f4\u7a00\u6709\u7684\u3002"
      ]
    },
    {
      "cell_type": "code",
      "execution_count": null,
      "metadata": {
        "_cell_guid": "9fa3ea4d-a0c6-6065-91d1-5b74345b5362"
      },
      "outputs": [],
      "source": [
        "for dataset in combine:\n",
        "    dataset['Title'] = dataset['Title'].replace(['Lady','Countess','Capt','Col',\n",
        "                                                'Don','Dr','Major','Rev','Sir','Jonkheer','Dona'],'Rare')\n",
        "    dataset['Title'] = dataset['Title'].replace('Mlle','Miss')\n",
        "    dataset['Title'] = dataset['Title'].replace('Ms','Miss')\n",
        "    dataset['Title'] = dataset['Title'].replace('Mme','Mrs')\n",
        "\n",
        "train_df[['Title','Survived']].groupby(['Title'],as_index=False).mean()"
      ]
    },
    {
      "cell_type": "markdown",
      "metadata": {
        "_cell_guid": "de844bf3-ac00-c4a7-42ce-0a708c797ff1"
      },
      "source": [
        "\u6211\u4eec\u53ef\u4ee5\u628a\u5206\u7c7b\u7684titles\u8f6c\u6362\u6210\u5e8f\u6570"
      ]
    },
    {
      "cell_type": "code",
      "execution_count": null,
      "metadata": {
        "_cell_guid": "2d906982-8f93-ebcd-2a2a-280a7622976c"
      },
      "outputs": [],
      "source": [
        "title_mapping = {\"Mr\": 1, \"Miss\": 2, \"Mrs\": 3, \"Master\": 4, \"Rare\": 5}\n",
        "for dataset in combine:\n",
        "    dataset['Title'] = dataset['Title'].map(title_mapping)\n",
        "    dataset['Title'] = dataset['Title'].fillna(0)\n",
        "\n",
        "train_df.head()"
      ]
    },
    {
      "cell_type": "markdown",
      "metadata": {
        "_cell_guid": "fcf8e4b9-bc90-4d3a-72fb-a79b12d0e80c"
      },
      "source": [
        "\u73b0\u5728\u8ba9\u6211\u4eec\u5b89\u5168\u7684\u4e22\u5f03\u8bad\u7ec3\u96c6\u548c\u6d4b\u8bd5\u96c6\u4e2d\u7684\u7279\u5f81Name\u5427\u3002\u540c\u6837\uff0c\u8bad\u7ec3\u96c6\u4e2d\u6211\u4eec\u4e5f\u4e0d\u9700\u8981\u7279\u5f81PassengerId\u3002"
      ]
    },
    {
      "cell_type": "code",
      "execution_count": null,
      "metadata": {
        "_cell_guid": "6ca00a32-dadf-bc4a-5cd0-1ee25b35a3b2"
      },
      "outputs": [],
      "source": [
        "train_df = train_df.drop(['Name', 'PassengerId'], axis=1)\n",
        "test_df = test_df.drop(['Name'], axis=1)\n",
        "combine = [train_df, test_df]\n",
        "train_df.shape, test_df.shape"
      ]
    },
    {
      "cell_type": "markdown",
      "metadata": {
        "_cell_guid": "213edff3-8074-1317-19c5-a59fb53e5430"
      },
      "source": [
        "##\u8f6c\u6362\u5206\u7c7b\u7279\u5f81\n",
        "\u73b0\u5728\u6211\u4eec\u53ef\u4ee5\u628a\u5305\u542b\u5b57\u7b26\u4e32\u7684\u7279\u5f81\u8f6c\u6362\u6210\u6570\u503c\u578b\u7684\u3002\u8fd9\u9700\u8981\u5927\u91cf\u7684\u7b97\u6cd5\u3002\u8fd9\u53ef\u4ee5\u5e2e\u52a9\u6211\u4eec\u8fbe\u6210\u5b8c\u6210\u7279\u5f81\u7684\u76ee\u6807\u3002\n",
        "\n",
        "\u8ba9\u6211\u4eec\u901a\u8fc7\u628a\u7279\u5f81Sex\u8f6c\u6362\u6210\u4e00\u4e2a\u65b0\u7684female=1,male=0\u7684\u7279\u5f81Gender\u7740\u624b\u5427\u3002"
      ]
    },
    {
      "cell_type": "code",
      "execution_count": null,
      "metadata": {
        "_cell_guid": "adf76dd2-8b51-a700-2881-23b895b3bedb"
      },
      "outputs": [],
      "source": [
        "for dataset in combine:\n",
        "    dataset['Sex'] = dataset['Sex'].map( {'female': 1, 'male': 0} ).astype(int)\n",
        "\n",
        "train_df.head()"
      ]
    },
    {
      "cell_type": "markdown",
      "metadata": {
        "_cell_guid": "78d10248-5671-6221-f3ba-df8f6d075751"
      },
      "source": [
        "##\u5b8c\u6210\u8fde\u7eed\u7684\u6570\u503c\u578b\u7279\u5f81\n",
        "\u73b0\u5728\u6211\u4eec\u5e94\u8be5\u5f00\u59cb\u8bc4\u4f30\u548c\u5b8c\u6210\u6709\u7f3a\u5931\u548c\u7a7a\u503c\u7684\u7279\u5f81\u4e86\u3002\u6211\u4eec\u5c31\u62ff\u7279\u5f81Age\u7ec3\u624b\u5427\u3002\n",
        "\n",
        "\u6211\u4eec\u8ba4\u4e3a\u8981\u5b8c\u6210\u4e00\u4e2a\u8fde\u7eed\u7684\u6570\u503c\u578b\u7279\u5f81\uff0c\u67093\u4e2a\u65b9\u6cd5\u3002\n",
        "\n",
        "- 1.\u4e00\u4e2a\u7b80\u5355\u7684\u65b9\u6cd5\u662f\u5728\u5e73\u5747\u503c(mean)\u548c\u6807\u51c6\u5dee(standard deviation)\u4e4b\u95f4\u751f\u6210\u4e00\u4e2a\u968f\u673a\u6570\u3002\n",
        "- 2.\u66f4\u7cbe\u786e\u7684\u731c\u6d4b\u7f3a\u5931\u503c\u7684\u65b9\u6cd5\u662f\u4f7f\u7528\u5173\u8054\u7684\u7279\u5f81\u3002\u5728\u6211\u4eec\u7684\u6848\u4f8b\u4e2d\u89c2\u5bdf\u5230\uff0cAge,Gender,Pclass\u662f\u6709\u8054\u7cfb\u7684\u3002\u4f7f\u7528\u7279\u5f81Pclaass\u548cGender\u7ec4\u5408\u7684\u96c6\u5408Age\u7684\u4e2d\u4f4d\u6570(median)\u6765\u731c\u6d4bAge\u7684\u503c\u3002\u6240\u4ee5Pclass=1\u548cGender=0,Pclass=1\u548cGender=1\u7b49\u7b49\u7ec4\u6210\u7684\u96c6\u5408Age\u7684\u4e2d\u4f4d\u6570\u5c31\u662f\u5e74\u9f84\u7684\u503c\u3002\n",
        "- 3.\u6574\u5408\u65b9\u6cd51\u548c\u65b9\u6cd52\u3002\u6240\u4ee5\u4e0d\u662f\u901a\u8fc7\u4e2d\u4f4d\u6570\u6765\u731c\u6d4b\u5e74\u9f84\u7684\u503c,\u800c\u662f\u57fa\u4e8ePclass\u548cGender\u7ec4\u5408\u6210\u7684\u96c6\u5408\uff0c\u4f7f\u7528\u5e73\u5747\u503c\u548c\u6807\u51c6\u5dee\u4e4b\u95f4\u7684\u968f\u673a\u6570\u3002\n",
        "\n",
        "\u65b9\u6cd51\u548c\u65b9\u6cd53\u5c06\u4f1a\u7ed9\u6211\u4eec\u7684\u6a21\u578b\u5e26\u6765\u968f\u673a\u566a\u97f3\u3002\u6267\u884c\u8d77\u6765\u7ed3\u679c\u4f1a\u51fa\u73b0\u591a\u6837\u6027\u3002\u6240\u4ee5\u6211\u4eec\u66f4\u503e\u5411\u4e8e\u4f7f\u7528\u65b9\u6cd52."
      ]
    },
    {
      "cell_type": "code",
      "execution_count": null,
      "metadata": {
        "_cell_guid": "9264fbfc-d0ba-a3a7-cda7-5b8c4e2fb75b"
      },
      "outputs": [],
      "source": [
        "# grid = sns.FacetGrid(train_df, col='Pclass', hue='Gender')\n",
        "grid = sns.FacetGrid(train_df, row='Pclass', col='Sex', size=2.2, aspect=1.6)\n",
        "grid.map(plt.hist, 'Age', alpha=.5, bins=20)\n",
        "grid.add_legend()"
      ]
    },
    {
      "cell_type": "markdown",
      "metadata": {
        "_cell_guid": "7d6b73a0-606d-7993-986a-3a92ac9cd1e9"
      },
      "source": [
        "\u8ba9\u6211\u4eec\u901a\u8fc7\u51c6\u5907\u4e00\u4e2a\u7a7a\u7684\u6570\u7ec4\u6765\u4fdd\u5b58\uff0c\u57fa\u4e8ePclas x Gender\u96c6\u5408\u7684\u731c\u6d4b\u7684Age\u7684\u503c\u3002"
      ]
    },
    {
      "cell_type": "code",
      "execution_count": null,
      "metadata": {
        "_cell_guid": "025d620e-96bf-143b-3059-769815f47752"
      },
      "outputs": [],
      "source": [
        "guess_ages = np.zeros((2,3))\n",
        "guess_ages"
      ]
    },
    {
      "cell_type": "markdown",
      "metadata": {
        "_cell_guid": "7e13088c-c492-c307-7d86-ff91621a807d"
      },
      "source": [
        "\u73b0\u5728\u6211\u4eec\u904d\u5386Sex(0 or 1)\u548cPclass(1,2,3)\u76846\u4e2a\u96c6\u5408\u6765\u8ba1\u7b97\u731c\u6d4b\u7684\u5e74\u9f84\u503c\u3002"
      ]
    },
    {
      "cell_type": "code",
      "execution_count": null,
      "metadata": {
        "_cell_guid": "c2879af1-c3e0-7c0a-caa5-5eb97f6df1b6"
      },
      "outputs": [],
      "source": [
        "for dataset in combine:\n",
        "    for i in range(0, 2):\n",
        "        for j in range(0, 3):\n",
        "            guess_df = dataset[(dataset['Sex'] == i) & \\\n",
        "                                  (dataset['Pclass'] == j+1)]['Age'].dropna()\n",
        "\n",
        "            # age_mean = guess_df.mean()\n",
        "            # age_std = guess_df.std()\n",
        "            # age_guess = rnd.uniform(age_mean - age_std, age_mean + age_std)\n",
        "\n",
        "            age_guess = guess_df.median()\n",
        "\n",
        "            # Convert random age float to nearest .5 age\n",
        "            guess_ages[i,j] = int( age_guess/0.5 + 0.5 ) * 0.5\n",
        "            \n",
        "    for i in range(0, 2):\n",
        "        for j in range(0, 3):\n",
        "            dataset.loc[ (dataset.Age.isnull()) & (dataset.Sex == i) & (dataset.Pclass == j+1),\\\n",
        "                    'Age'] = guess_ages[i,j]\n",
        "\n",
        "    dataset['Age'] = dataset['Age'].astype(int)\n",
        "\n",
        "train_df.head()"
      ]
    },
    {
      "cell_type": "markdown",
      "metadata": {
        "_cell_guid": "5e9947c6-6fc3-7ee0-3b1b-0a31787d3d78"
      },
      "source": [
        "\u8ba9\u6211\u4eec\u521b\u5efa\u5e74\u9f84\u6bb5\uff0c\u5e76\u786e\u5b9a\u4e0eSurvived\u7684\u76f8\u5173\u6027\u3002"
      ]
    },
    {
      "cell_type": "code",
      "execution_count": null,
      "metadata": {
        "_cell_guid": "9a15e669-ddec-e213-ffa1-bfbc27344b68"
      },
      "outputs": [],
      "source": [
        "train_df['AgeBand'] = pd.cut(train_df['Age'], 5)\n",
        "train_df[['AgeBand', 'Survived']].groupby(['AgeBand'], as_index=False).mean().sort_values(by='AgeBand', ascending=True)"
      ]
    },
    {
      "cell_type": "markdown",
      "metadata": {
        "_cell_guid": "c42842c7-e469-8b6c-53d9-e292b56873d7"
      },
      "source": [
        "\u8ba9\u6211\u4eec\u57fa\u4e8e\u8fd9\u4e9b\u5e74\u9f84\u6bb5\u628aAge\u7528\u5e8f\u6570\u8bcd\u66ff\u6362\u3002"
      ]
    },
    {
      "cell_type": "code",
      "execution_count": null,
      "metadata": {
        "_cell_guid": "20159110-e328-550c-1920-4a4815829d13"
      },
      "outputs": [],
      "source": [
        "for dataset in combine:    \n",
        "    dataset.loc[ dataset['Age'] <= 16, 'Age'] = 0\n",
        "    dataset.loc[(dataset['Age'] > 16) & (dataset['Age'] <= 32), 'Age'] = 1\n",
        "    dataset.loc[(dataset['Age'] > 32) & (dataset['Age'] <= 48), 'Age'] = 2\n",
        "    dataset.loc[(dataset['Age'] > 48) & (dataset['Age'] <= 64), 'Age'] = 3\n",
        "    dataset.loc[ dataset['Age'] > 64, 'Age']\n",
        "train_df.head()"
      ]
    },
    {
      "cell_type": "markdown",
      "metadata": {
        "_cell_guid": "3855a7f3-9dd8-9ec0-a67c-5df0e53521dd"
      },
      "source": [
        "\u6211\u4eec\u53ef\u4ee5\u79fb\u9664\u7279\u5f81AgeBand\u4e86\u3002"
      ]
    },
    {
      "cell_type": "code",
      "execution_count": null,
      "metadata": {
        "_cell_guid": "838fd659-ae07-c98b-0621-4ac53f16740f"
      },
      "outputs": [],
      "source": [
        "train_df = train_df.drop(['AgeBand'], axis=1)\n",
        "combine = [train_df, test_df]\n",
        "train_df.head()"
      ]
    },
    {
      "cell_type": "markdown",
      "metadata": {
        "_cell_guid": "3aec18de-1b35-02a5-7270-9b6d1a204a12"
      },
      "source": [
        "##\u7ec4\u5408\u5df2\u6709\u7684\u7279\u5f81\u521b\u5efa\u65b0\u7684\u7279\u5f81\n",
        "\u6211\u4eec\u53ef\u4ee5\u521b\u5efa\u4e00\u4e2a\u6574\u5408\u4e86Parch\u548cSibSp\u7684\u65b0\u7279\u5f81FamilySize\u3002\u8fd9\u6837\u8ba9\u6211\u4eec\u80fd\u591f\u4ece\u8bad\u7ec3\u96c6\u4e2d\u4e22\u5f03Parch\u548cSibSp\u3002"
      ]
    },
    {
      "cell_type": "code",
      "execution_count": null,
      "metadata": {
        "_cell_guid": "6c017e31-d010-a0b9-6aff-7b82bbbf350c"
      },
      "outputs": [],
      "source": [
        "for dataset in combine:\n",
        "    dataset['FamilySize'] = dataset['SibSp'] + dataset['Parch'] + 1\n",
        "\n",
        "train_df[['FamilySize', 'Survived']].groupby(['FamilySize'], as_index=False).mean().sort_values(by='Survived', ascending=False)"
      ]
    },
    {
      "cell_type": "markdown",
      "metadata": {
        "_cell_guid": "79fa06dd-58c0-dae2-d3db-f730a8d4687f"
      },
      "source": [
        "\u6211\u4eec\u53ef\u4ee5\u521b\u5efa\u53e6\u5916\u7684\u7279\u5f81IsAlong\u3002"
      ]
    },
    {
      "cell_type": "code",
      "execution_count": null,
      "metadata": {
        "_cell_guid": "8888aac9-33db-fe30-8a87-983a62ddf111"
      },
      "outputs": [],
      "source": [
        "for dataset in combine:\n",
        "    dataset['IsAlone'] = 0\n",
        "    dataset.loc[dataset['FamilySize'] == 1, 'IsAlone'] = 1\n",
        "\n",
        "train_df[['IsAlone', 'Survived']].groupby(['IsAlone'], as_index=False).mean()"
      ]
    },
    {
      "cell_type": "markdown",
      "metadata": {
        "_cell_guid": "ab603af9-74f4-3411-5859-1a807d1cbdd4"
      },
      "source": [
        "\u4e3a\u4e86\u8ba9FamilySize\u652f\u6301IsAlone,\u8ba9\u6211\u4eec\u4e22\u5f03\u7279\u5f81Parch\u5427\u3002"
      ]
    },
    {
      "cell_type": "code",
      "execution_count": null,
      "metadata": {
        "_cell_guid": "11ddf864-0d81-75cb-b414-7b2590e78240"
      },
      "outputs": [],
      "source": [
        "train_df = train_df.drop(['Parch', 'SibSp', 'FamilySize'], axis=1)\n",
        "test_df = test_df.drop(['Parch', 'SibSp', 'FamilySize'], axis=1)\n",
        "combine = [train_df, test_df]\n",
        "\n",
        "train_df.head()"
      ]
    },
    {
      "cell_type": "markdown",
      "metadata": {
        "_cell_guid": "15d26b85-2b32-fb3b-8487-faef5089fe89"
      },
      "source": [
        "\u6211\u4e48\u4e5f\u53ef\u4ee5\u6574\u5408Pclass\u548cAge\u521b\u5efa\u4e00\u4e2a\u4eba\u5de5\u7684\u7279\u5f81\u3002"
      ]
    },
    {
      "cell_type": "code",
      "execution_count": null,
      "metadata": {
        "_cell_guid": "519244d9-ad7d-13aa-64e5-42567f8662b6"
      },
      "outputs": [],
      "source": [
        "for dataset in combine:\n",
        "    dataset['Age*Class'] = dataset.Age * dataset.Pclass\n",
        "\n",
        "train_df.loc[:, ['Age*Class', 'Age', 'Pclass']].head(10)"
      ]
    },
    {
      "cell_type": "markdown",
      "metadata": {
        "_cell_guid": "b4a4cde9-538e-8e0a-18ac-c1b78d131ae3"
      },
      "source": [
        "##\u5b8c\u6210\u5206\u7c7b\u7279\u5f81\n",
        "\u57fa\u4e8e\u4e58\u8239\u6e2f\u53e3\uff0c\u7279\u5f81Embared\u6709S\uff0cQ\uff0cC\u8fd93\u4e2a\u503c\u3002\u6211\u4eec\u7684\u8bad\u7ec3\u96c6\u6709\u4e24\u4e2a\u7f3a\u5931\u503c\u3002\u6211\u4eec\u7528\u6700\u666e\u904d\u53d1\u751f(occurance)\u7684\u60c5\u51b5\u6765\u7b80\u5355\u586b\u5145\u5b83\u3002"
      ]
    },
    {
      "cell_type": "code",
      "execution_count": null,
      "metadata": {
        "_cell_guid": "64ab336c-128d-3e7f-e3fb-60d0fcbd10fe"
      },
      "outputs": [],
      "source": [
        "freq_port = train_df.Embarked.dropna().mode()[0]\n",
        "freq_port"
      ]
    },
    {
      "cell_type": "code",
      "execution_count": null,
      "metadata": {
        "_cell_guid": "99cc8551-1c3c-8d9d-0cbb-ff49462e78b2"
      },
      "outputs": [],
      "source": [
        "for dataset in combine:\n",
        "    dataset['Embarked'] = dataset['Embarked'].fillna(freq_port)\n",
        "    \n",
        "train_df[['Embarked', 'Survived']].groupby(['Embarked'], as_index=False).mean().sort_values(by='Survived', ascending=False)"
      ]
    },
    {
      "cell_type": "markdown",
      "metadata": {
        "_cell_guid": "3bab8a97-21eb-467e-ff79-5cd295f3dbe2"
      },
      "source": [
        "##\u628a\u5206\u7c7b\u7279\u5f81\u8f6c\u6362\u6210\u6570\u503c\u578b\u7684 \n",
        "\n",
        "\u6211\u4eec\u53ef\u4ee5\u901a\u8fc7\u521b\u5efa\u4e00\u4e2a\u6570\u503c\u578b\u7684Port\u7279\u5f81\u6765\u8f6c\u6362\u7279\u5f81EmbarkedFill\u3002"
      ]
    },
    {
      "cell_type": "code",
      "execution_count": null,
      "metadata": {
        "_cell_guid": "d4dcb298-fac0-3f67-2498-8f2d05c0e7df"
      },
      "outputs": [],
      "source": [
        "for dataset in combine:\n",
        "    dataset['Embarked'] = dataset['Embarked'].map( {'S': 0, 'C': 1, 'Q': 2} ).astype(int)\n",
        "\n",
        "train_df.head()"
      ]
    },
    {
      "cell_type": "markdown",
      "metadata": {
        "_cell_guid": "e716dc97-89fa-5215-5d52-04705a9e125d"
      },
      "source": [
        "##\u5feb\u901f\u5b8c\u6210\u548c\u8f6c\u6362\u6570\u503c\u578b\u7279\u5f81\n",
        "\u56e0\u4e3a\u5728\u6d4b\u8bd5\u96c6\u4e2d\u53ea\u6709\u5355\u4e00\u7684\u7f3a\u5931\u503c\uff0c\u6211\u4eec\u73b0\u5728\u53ef\u4ee5\u4f7f\u7528\u4f17\u6570\u6765\u5f97\u5230\u6700\u9891\u7e41\u53d1\u751f\u7684\u503c\u6765\u5b8c\u6210\u7279\u5f81Fare\u3002\u8fd9\u53ea\u9700\u8981\u4e00\u884c\u4ee3\u7801\u3002\n",
        "\n",
        "\u6ce8\u610f\u6211\u4eec\u66ff\u6362\u7684\u4ec5\u4ec5\u53ea\u662f\u5355\u4e00\u503c\uff0c\u6240\u4ee5\u6211\u4eec\u6ca1\u6709\u65e0\u9650\u5236\u7684\u521b\u5efa\u65b0\u7279\u5f81\u6216\u8005\u5bf9\u731c\u6d4b\u7f3a\u5931\u503c\u7684\u76f8\u5173\u6027\u505a\u66f4\u4e00\u6b65\u7684\u5206\u6790\u3002\u5b8c\u6210\u76ee\u6807\u7684\u5b9e\u73b0(achieve)\uff0c\u5fc5\u9700\u8981\u6a21\u578b\u7b97\u6cd5\u5728\u975e\u7a7a\u503c\u4e0a\u8fdb\u884c\u64cd\u4f5c\u3002\n",
        "\n",
        "\u6211\u4eec\u4e5f\u53ef\u80fd\u60f3\u8981\u628a\u8fd9\u4e2a\u7968\u4ef7\u6362\u6210\u4e24\u4f4d\u5c0f\u6570\uff0c\u56e0\u4e3a\u4ee3\u8868\u8d27\u5e01(currency)\u3002"
      ]
    },
    {
      "cell_type": "code",
      "execution_count": null,
      "metadata": {
        "_cell_guid": "22b33dac-39cd-fcfe-1119-8fca6d3eb7cc"
      },
      "outputs": [],
      "source": [
        "test_df['Fare'].fillna(test_df['Fare'].dropna().median(), inplace=True)\n",
        "test_df.head()"
      ]
    },
    {
      "cell_type": "markdown",
      "metadata": {
        "_cell_guid": "3d0e86d1-c542-1194-cc6b-e8b258025b04"
      },
      "source": [
        " \u6211\u4eec\u4e0d\u9700\u8981\u521b\u5efaFareBand \u3002"
      ]
    },
    {
      "cell_type": "code",
      "execution_count": null,
      "metadata": {
        "_cell_guid": "aaa54b89-64a6-c575-a0b9-daf89e1e4617"
      },
      "outputs": [],
      "source": [
        "train_df['FareBand'] = pd.qcut(train_df['Fare'], 4)\n",
        "train_df[['FareBand', 'Survived']].groupby(['FareBand'], as_index=False).mean().sort_values(by='FareBand', ascending=True)"
      ]
    },
    {
      "cell_type": "markdown",
      "metadata": {
        "_cell_guid": "a5639ed1-0a0e-9f1b-3124-249643df2c17"
      },
      "source": [
        "\u57fa\u4e8eFareBand\u628a\u7279\u5f81Fare\u8f6c\u5316\u6210\u5e8f\u6570\u3002"
      ]
    },
    {
      "cell_type": "code",
      "execution_count": null,
      "metadata": {
        "_cell_guid": "9ba38f40-3855-a427-bc85-e0378cecafa1"
      },
      "outputs": [],
      "source": [
        "for dataset in combine:\n",
        "    dataset.loc[ dataset['Fare'] <= 7.91, 'Fare'] = 0\n",
        "    dataset.loc[(dataset['Fare'] > 7.91) & (dataset['Fare'] <= 14.454), 'Fare'] = 1\n",
        "    dataset.loc[(dataset['Fare'] > 14.454) & (dataset['Fare'] <= 31), 'Fare']   = 2\n",
        "    dataset.loc[ dataset['Fare'] > 31, 'Fare'] = 3\n",
        "    dataset['Fare'] = dataset['Fare'].astype(int)\n",
        "\n",
        "train_df = train_df.drop(['FareBand'], axis=1)\n",
        "combine = [train_df, test_df]\n",
        "    \n",
        "train_df.head(10)"
      ]
    },
    {
      "cell_type": "markdown",
      "metadata": {
        "_cell_guid": "94b2fc9d-25d6-f934-36af-d7c7ca628efd"
      },
      "source": [
        "\u4ee5\u53ca\u6d4b\u8bd5\u96c6\u3002"
      ]
    },
    {
      "cell_type": "code",
      "execution_count": null,
      "metadata": {
        "_cell_guid": "24f5ccef-a986-8f96-a65d-1e801eab21d8"
      },
      "outputs": [],
      "source": [
        "test_df.head(10)"
      ]
    },
    {
      "cell_type": "markdown",
      "metadata": {
        "_cell_guid": "d0306e04-cc2c-597b-135a-2ce38493921c"
      },
      "source": [
        "##\u6a21\u578b\uff0c\u9884\u6d4b\u548c\u89e3\u51b3"
      ]
    },
    {
      "cell_type": "markdown",
      "metadata": {
        "_cell_guid": "5a6e8cdc-ee15-1039-eee7-b01d30df0439"
      },
      "source": [
        "\u73b0\u5728\u6211\u4eec\u51c6\u5907\u8bad\u7ec3\u6a21\u578b\u548c\u9884\u6d4b\u5fc5\u9700\u7684\u89e3\u51b3\u65b9\u6848\u3002\u670960+\u7684\u5efa\u6a21\u7b97\u6cd5(modelling algorithm)\u53ef\u4f9b\u9009\u62e9\u3002\u6211\u4eec\u5fc5\u987b\u4e86\u89e3\u95ee\u9898\u7684\u7c7b\u578b\u548c\u89e3\u51b3\u65b9\u6848\u7684\u8981\u6c42\uff0c\u4ee5\u7f29\u5c0f(narrow down )\u5230\u6211\u4eec\u53ef\u4ee5\u8bc4\u4f30\u7684\u51e0\u4e2a\u6a21\u578b\u3002\u6211\u4eec\u7684\u95ee\u9898\u662f\u5206\u7c7b\u548c\u56de\u5f52\u95ee\u9898\u3002\u6211\u4eec\u60f3\u8981\u8bc6\u522b\u51fa\u5728\u8f93\u51fa(Survived or not)\u548c\u5176\u4ed6\u53d8\u91cf\u6216\u7279\u5f81(Gender,Age,Port...)\u4e4b\u95f4\u7684\u5173\u7cfb\u3002\u6211\u4eec\u4e5f\u628a\u5b83\u4eec\u5212\u5206\u6210\u673a\u5668\u5b66\u4e60\u7684\u5206\u7c7b\u4e2d\u7684\u76d1\u7763\u5b66\u4e60(supervised learning)\uff0c\u56e0\u4e3a\u6211\u4eec\u5728\u8bad\u7ec3\u6a21\u578b\u65f6\uff0c\u662f\u7528\u7684\u7ed9\u5b9a\u7684\u6570\u636e\u96c6\u3002\u901a\u8fc7\u76d1\u7763\u5b66\u4e60\u518d\u52a0\u4e0a\u5206\u7c7b\u548c\u56de\u5f52\u7684\u6807\u51c6\uff0c\u6211\u4eec\u53ef\u4ee5\u7f29\u5c0f\u9009\u62e9\u7684\u6a21\u578b\u6570\u91cf\u3002\u5305\u62ec\uff1a\n",
        "\n",
        "- \u903b\u8f91\u56de\u5f52(Logistic Regression)\n",
        "- KNN\u6216\u8005k\u8fd1\u90bb(k-Nearest Neighbors)\n",
        "- \u652f\u6301\u5411\u91cf\u673a(Support Vector Machine)\n",
        "- \u6734\u7d20\u8d1d\u53f6\u65af\u5206\u7c7b\u5668(Naive Bayes classifier)\n",
        "- \u51b3\u7b56\u6811(Decision Tree)\n",
        "- \u968f\u673a\u68ee\u6797(Random Forest)\n",
        "- \u611f\u77e5\u673a(Perceptron)\n",
        "- \u4eba\u5de5\u795e\u7ecf\u7f51\u7edc(Artificial neural network)\n",
        "- RVM\u6216\u8005\u5173\u8054\u5411\u91cf\u673a(Relevance Vector Machine)"
      ]
    },
    {
      "cell_type": "code",
      "execution_count": null,
      "metadata": {
        "_cell_guid": "dd52ddb7-36d0-059b-efb3-40ddbfee1282"
      },
      "outputs": [],
      "source": [
        "X_train = train_df.drop(\"Survived\", axis=1)\n",
        "Y_train = train_df[\"Survived\"]\n",
        "X_test  = test_df.drop(\"PassengerId\", axis=1).copy()\n",
        "X_train.shape, Y_train.shape, X_test.shape"
      ]
    },
    {
      "cell_type": "markdown",
      "metadata": {
        "_cell_guid": "458e79b3-8131-7ea1-51d5-ef401bc8a52f"
      },
      "source": [
        "\u903b\u8f91\u56de\u5f52\u662f\u5728\u5de5\u4f5c\u6d41\u7684\u65e9\u671f\u8fd0\u884c\u7684\u6709\u7528\u6a21\u578b\u3002 \u903b\u8f91\u56de\u5f52\u901a\u8fc7\u4f7f\u7528\u903b\u8f91\u51fd\u6570\u4f30\u8ba1\u6982\u7387\u6765\u8861\u91cf\u5206\u7c7b\u56e0\u53d8\u91cf\uff08\u7279\u5f81\uff09\u4e0e\u4e00\u4e2a\u6216\u591a\u4e2a\u72ec\u7acb\u53d8\u91cf\uff08\u7279\u5f81\uff09\u4e4b\u95f4\u7684\u5173\u7cfb\uff0c\u5176\u662f\u7d2f\u79ef\u903b\u8f91\u5206\u5e03\u3002 \u53c2\u8003[\u7ef4\u57fa\u767e\u79d1](https://en.wikipedia.org/wiki/Logistic_regression)\n",
        "\n",
        "\u6ce8\u610f\u57fa\u4e8e\u6211\u4eec\u7684\u8bad\u7ec3\u6570\u636e\u96c6\u7684\u6a21\u578b\u4ea7\u751f\u7684\u4fe1\u5fc3\u5206\u6570\u3002"
      ]
    },
    {
      "cell_type": "code",
      "execution_count": null,
      "metadata": {
        "_cell_guid": "ec6504c1-2169-56bf-2f4d-5f30a7b9287c"
      },
      "outputs": [],
      "source": [
        "# Logistic Regression\n",
        "\n",
        "logreg = LogisticRegression()\n",
        "logreg.fit(X_train, Y_train)\n",
        "Y_pred = logreg.predict(X_test)\n",
        "acc_log = round(logreg.score(X_train, Y_train) * 100, 2)\n",
        "acc_log"
      ]
    },
    {
      "cell_type": "markdown",
      "metadata": {
        "_cell_guid": "f71eaee4-0977-64d7-a5d3-8ee1ed0bdcdc"
      },
      "source": [
        "\u6211\u4eec\u53ef\u4ee5\u4f7f\u7528\u903b\u8f91\u65af\u8482\u56de\u5f52\u5206\u7c7b\u6765\u9a8c\u8bc1\u6211\u4eec\u5bf9\u7279\u5f81\u521b\u5efa\u548c\u5b8c\u6210\u76ee\u6807\u7684\u731c\u60f3\u548c\u51b3\u7b56\u3002\u8fd9\u53ef\u4ee5\u901a\u8fc7\u8ba1\u7b97\u51b3\u7b56\u51fd\u6570\u4e2d\u7279\u5f81\u7684\u7cfb\u6570(coefficien)\u6765\u5b8c\u6210\u3002\n",
        "\n",
        "\u6b63\u7cfb\u6570(positive coefficient)\u63d0\u9ad8\u4e86\u53cd\u5e94\u7684\u5bf9\u6570\u51e0\u7387\uff08\u4ece\u800c\u589e\u52a0\u4e86\u6982\u7387\uff09\uff0c\u8d1f\u7cfb\u6570\u964d\u4f4e\u4e86\u53cd\u5e94\u7684\u5bf9\u6570\u51e0\u7387\uff08\u4ece\u800c\u964d\u4f4e\u4e86\u6982\u7387\uff09\u3002\n",
        "\n",
        "- Sex\u662f\u6700\u5927\u7684\u6b63\u7cfb\u6570\uff0c\u610f\u5473\u7740Sex\u503c\u7684\u589e\u52a0(\u7537\u6027:0\u81f3\u5973\u6027:1),Survived=1\u7684\u6982\u7387(probability)\u6700\u5927\u3002\n",
        "- \u968f\u7740Pclass\u7684\u589e\u52a0\uff0cSurvived=1\u7684\u6982\u7387\u53cd\u800c\u51cf\u5c11\u5230\u6700\u5c0f\u3002\n",
        "- Age*Class\u5bf9\u6a21\u578b\u6765\u8bf4\u5c31\u662f\u5f88\u597d\u7684\u4eba\u5de5\u7279\u5f81\uff0c\u56e0\u4e3a\u5b83\u548cSurvived\u662f\u7b2c\u4e8c\u8d1f\u76f8\u5173\u7684\u3002\n",
        "- \u56e0\u6b64Title\u662f\u7b2c\u4e8c\u6b63\u76f8\u5173\u7684\u3002"
      ]
    },
    {
      "cell_type": "code",
      "execution_count": null,
      "metadata": {
        "_cell_guid": "9b5cedba-90e1-c216-ca00-52b6dff6f521"
      },
      "outputs": [],
      "source": [
        "coeff_df = pd.DataFrame(train_df.columns.delete(0))\n",
        "coeff_df.columns = ['Feature']\n",
        "coeff_df[\"Correlation\"] = pd.Series(logreg.coef_[0])\n",
        "\n",
        "coeff_df.sort_values(by='Correlation', ascending=False)"
      ]
    },
    {
      "cell_type": "markdown",
      "metadata": {
        "_cell_guid": "33c91d0c-9739-783c-8181-52fa16121e5e"
      },
      "source": [
        "\u63a5\u4e0b\u6765\uff0c\u6211\u4eec\u4f7f\u7528\u652f\u6301\u5411\u91cf\u673a\u6a21\u578b\uff0c\u5b83\u4eec\u662f\u5177\u6709\u76f8\u5173\u5b66\u4e60\u7b97\u6cd5\u7684\u76d1\u7763\u5b66\u4e60\u6a21\u578b\uff0c\u7528\u4e8e\u5206\u6790\u5206\u7c7b\u548c\u56de\u5f52\u5206\u6790\u7684\u6570\u636e\u3002 \u7ed9\u5b9a\u4e00\u7ec4\u8bad\u7ec3\u6837\u672c\uff0c\u6bcf\u4e2a\u8bad\u7ec3\u6837\u672c\u88ab\u6807\u8bb0\u4e3a\u5c5e\u4e8e\u4e24\u4e2a\u7c7b\u522b\u4e2d\u7684\u4e00\u4e2a\u6216\u53e6\u4e00\u4e2a\uff0cSVM\u8bad\u7ec3\u7b97\u6cd5\u6784\u5efa\u4e00\u4e2a\u5c06\u65b0\u7684\u6d4b\u8bd5\u6837\u672c\u5206\u914d\u7ed9\u4e00\u4e2a\u7c7b\u522b\u6216\u53e6\u4e00\u4e2a\u7c7b\u522b\u7684\u6a21\u578b\uff0c\u4f7f\u5176\u6210\u4e3a\u975e\u6982\u7387\u4e8c\u8fdb\u5236\u7ebf\u6027\u5206\u7c7b\u5668\u3002 \u53c2\u8003[\u7ef4\u57fa\u767e\u79d1](https://en.wikipedia.org/wiki/Support_vector_machine)\n",
        "\n",
        "\u8bf7\u6ce8\u610f\uff0c\u8be5\u6a21\u578b\u4ea7\u751f\u7684\u81ea\u4fe1\u5206\u6570\u8981\u9ad8\u4e8e\u903b\u8f91\u65af\u8482\u56de\u5f52\u6a21\u578b\u3002"
      ]
    },
    {
      "cell_type": "code",
      "execution_count": null,
      "metadata": {
        "_cell_guid": "dd52f239-989e-fa41-ac52-d683de167611"
      },
      "outputs": [],
      "source": [
        "svc = SVC()\n",
        "svc.fit(X_train, Y_train)\n",
        "Y_pred = svc.predict(X_test)\n",
        "acc_svc = round(svc.score(X_train, Y_train) * 100, 2)\n",
        "acc_svc"
      ]
    },
    {
      "cell_type": "markdown",
      "metadata": {
        "_cell_guid": "9d65236b-82bd-6227-8c0f-7b3c51a1e124"
      },
      "source": [
        "\u5728\u56fe\u6848\u8bc6\u522b\u4e2d\uff0ck-\u8fd1\u90bb\u7b97\u6cd5\uff08\u6216\u7b80\u79f0k-NN\uff09\u662f\u7528\u4e8e\u5206\u7c7b\u548c\u5f52\u4e00\u5316\u7684\u975e\u53c2\u6570\u65b9\u6cd5\u3002 \u6837\u672c\u88ab\u79bb\u5b83\u6700\u8fd1\u7684\u6295\u7968\u6700\u591a\u7684\u6240\u5206\u7c7b\uff0c\u6837\u672c\u88ab\u5206\u914d\u7ed9\u5176k\u4e2a\u6700\u8fd1\u90bb\u5c45\u4e2d\u6700\u5e38\u89c1\u7684\u7c7b\uff08k\u662f\u6b63\u6574\u6570\uff0c\u901a\u5e38\u8f83\u5c0f\uff09\u3002 \u5982\u679ck = 1\uff0c\u5219\u5c06\u5bf9\u8c61\u7b80\u5355\u5730\u5206\u914d\u7ed9\u8be5\u5355\u4e2a\u6700\u8fd1\u90bb\u7684\u7c7b\u3002 \u53c2\u8003[\u7ef4\u57fa\u767e\u79d1](https://en.wikipedia.org/wiki/K-nearest_neighbors_algorithm)\n",
        "\n",
        "KNN\u7684\u81ea\u4fe1\u5206\u8981\u9ad8\u4e8e\u903b\u8f91\u65af\u8482\u56de\u5f52\uff0c\u4f46\u5dee\u4e8eSVM\u3002"
      ]
    },
    {
      "cell_type": "code",
      "execution_count": null,
      "metadata": {
        "_cell_guid": "eaad2eb7-b90b-0e1a-b492-516060543f07"
      },
      "outputs": [],
      "source": [
        "knn = KNeighborsClassifier(n_neighbors = 3)\n",
        "knn.fit(X_train, Y_train)\n",
        "Y_pred = knn.predict(X_test)\n",
        "acc_knn = round(knn.score(X_train, Y_train) * 100, 2)\n",
        "acc_knn"
      ]
    },
    {
      "cell_type": "markdown",
      "metadata": {
        "_cell_guid": "263584c9-68fd-f6a1-154d-c64498729412"
      },
      "source": [
        "\u5728\u673a\u5668\u5b66\u4e60\u4e2d\uff0c\u6734\u7d20\u8d1d\u53f6\u65af\u5206\u7c7b\u5668\u662f\u4e00\u4e2a\u7b80\u5355\u7684\u6982\u7387\u5206\u7c7b\u5668\u5bb6\u65cf\uff0c\u57fa\u4e8e\u8d1d\u53f6\u65af\u5b9a\u7406\u4e0e\u7279\u5f81\u4e4b\u95f4\u7684\u5f3a\u70c8\uff08\u6734\u7d20\uff09\u72ec\u7acb\u5047\u8bbe\u3002 \u6734\u7d20\u8d1d\u53f6\u65af\u5206\u7c7b\u5668\u5177\u6709\u5f88\u9ad8\u7684\u53ef\u6269\u5c55\u6027(scalable)\uff0c\u9700\u8981\u4e00\u7cfb\u5217\u53c2\u6570\u5728\u5b66\u4e60\u95ee\u9898\u4e2d\u7684\u53d8\u91cf\uff08\u7279\u5f81\uff09\u7684\u6570\u91cf\u7684\u7ebf\u6027\u5173\u7cfb\u3002 \u53c2\u8003\u7ef4\u57fa\u767e\u79d1\n",
        "\n",
        "\u8be5\u6a21\u578b\u4ea7\u751f\u7684\u81ea\u4fe1\u5206\u662f\u8fc4\u4eca\u4e3a\u6b62\u8bc4\u4f30\u7684\u6a21\u578b\u4e2d\u6700\u4f4e\u7684\u3002"
      ]
    },
    {
      "cell_type": "code",
      "execution_count": null,
      "metadata": {
        "_cell_guid": "882c8d6f-c6e4-1741-2a00-90477f23248c"
      },
      "outputs": [],
      "source": [
        "# Gaussian Naive Bayes\n",
        "\n",
        "gaussian = GaussianNB()\n",
        "gaussian.fit(X_train, Y_train)\n",
        "Y_pred = gaussian.predict(X_test)\n",
        "acc_gaussian = round(gaussian.score(X_train, Y_train) * 100, 2)\n",
        "acc_gaussian"
      ]
    },
    {
      "cell_type": "markdown",
      "metadata": {
        "_cell_guid": "54305a83-37eb-d4ee-46af-beef789a5c13"
      },
      "source": [
        "\u611f\u77e5\u5668\u662f\u7528\u4e8e\u4e8c\u8fdb\u5236\u5206\u7c7b\u5668\u7684\u76d1\u7763\u5b66\u4e60\u7684\u7b97\u6cd5\uff08\u53ef\u4ee5\u51b3\u5b9a\u7531\u6570\u5b57\u5411\u91cf\u8868\u793a\u7684\u8f93\u5165\u662f\u5426\u5c5e\u4e8e\u7279\u5b9a\u7c7b\u522b\u7684\u51fd\u6570\uff09\u3002 \u5b83\u662f\u4e00\u7c7b\u7ebf\u6027\u5206\u7c7b\u5668\uff0c\u5373\u57fa\u4e8e\u5c06\u6743\u91cd\u96c6\u5408\u4e0e\u7279\u5f81\u5411\u91cf\u7ec4\u5408\u7684\u7ebf\u6027\u9884\u6d4b\u51fd\u6570\u8fdb\u884c\u9884\u6d4b\u7684\u5206\u7c7b\u7b97\u6cd5\u3002 \u8be5\u7b97\u6cd5\u5141\u8bb8\u5728\u7ebf\u5b66\u4e60\uff0c\u56e0\u4e3a\u5b83\u4e00\u6b21\u5904\u7406\u8bad\u7ec3\u96c6\u4e2d\u7684\u5143\u7d20\u3002 \u53c2\u8003[\u7ef4\u57fa\u767e\u79d1](https://en.wikipedia.org/wiki/Perceptron)"
      ]
    },
    {
      "cell_type": "code",
      "execution_count": null,
      "metadata": {
        "_cell_guid": "b0181e81-be85-e819-d08d-9dfcfa415f3e"
      },
      "outputs": [],
      "source": [
        "# Perceptron\n",
        "\n",
        "perceptron = Perceptron()\n",
        "perceptron.fit(X_train, Y_train)\n",
        "Y_pred = perceptron.predict(X_test)\n",
        "acc_perceptron = round(perceptron.score(X_train, Y_train) * 100, 2)\n",
        "acc_perceptron"
      ]
    },
    {
      "cell_type": "code",
      "execution_count": null,
      "metadata": {
        "_cell_guid": "4b5e1456-f6f0-ca03-31af-0bed50a13f4e"
      },
      "outputs": [],
      "source": [
        "# Linear SVC\n",
        "\n",
        "linear_svc = LinearSVC()\n",
        "linear_svc.fit(X_train, Y_train)\n",
        "Y_pred = linear_svc.predict(X_test)\n",
        "acc_linear_svc = round(linear_svc.score(X_train, Y_train) * 100, 2)\n",
        "acc_linear_svc"
      ]
    },
    {
      "cell_type": "code",
      "execution_count": null,
      "metadata": {
        "_cell_guid": "44f4dd8d-b6a3-26f9-ccab-e065e54e31fe"
      },
      "outputs": [],
      "source": [
        "# Stochastic Gradient Descent\n",
        "\n",
        "sgd = SGDClassifier()\n",
        "sgd.fit(X_train, Y_train)\n",
        "Y_pred = sgd.predict(X_test)\n",
        "acc_sgd = round(sgd.score(X_train, Y_train) * 100, 2)\n",
        "acc_sgd"
      ]
    },
    {
      "cell_type": "markdown",
      "metadata": {
        "_cell_guid": "d048c6f1-2bb6-822a-2956-55e0977c1389"
      },
      "source": [
        "\u8be5\u6a21\u578b\u4f7f\u7528\u51b3\u7b56\u6811\u4f5c\u4e3a\u5c06\u7279\u5f81\uff08\u6811\u679d\uff09\u6620\u5c04\u5230\u5173\u4e8e\u76ee\u6807\u503c\uff08\u6811\u53f6\uff09\u7684\u7ed3\u8bba\u7684\u9884\u6d4b\u6a21\u578b\u3002 \u76ee\u6807\u53d8\u91cf\u53ef\u4ee5\u91c7\u53d6\u4e00\u7ec4\u6709\u9650\u503c\u7684\u6811\u6a21\u578b\u79f0\u4e3a\u5206\u7c7b\u6811; \u5728\u8fd9\u4e9b\u6811\u7ed3\u6784\u4e2d\uff0c\u53f6\u8868\u793a\u7c7b\u6807\u7b7e\uff0c\u5206\u652f\u8868\u793a\u5bfc\u81f4\u8fd9\u4e9b\u7c7b\u6807\u7b7e\u7684\u7279\u5f81\u7684\u8fde\u63a5\u3002 \u76ee\u6807\u53d8\u91cf\u53ef\u4ee5\u91c7\u7528\u8fde\u7eed\u503c\uff08\u901a\u5e38\u4e3a\u5b9e\u6570\uff09\u7684\u51b3\u7b56\u6811\u79f0\u4e3a\u56de\u5f52\u6811\u3002 \u53c2\u8003[\u7ef4\u57fa\u767e\u79d1](https://en.wikipedia.org/wiki/Decision_tree_learning)\n",
        "\n",
        "\u6a21\u578b\u4fe1\u5fc3\u5206\u6570\u5728\u8fc4\u4eca\u8bc4\u4f30\u7684\u6a21\u578b\u4e2d\u662f\u6700\u9ad8\u7684\u3002"
      ]
    },
    {
      "cell_type": "code",
      "execution_count": null,
      "metadata": {
        "_cell_guid": "a730c094-92f9-76fa-8554-37f2d6002352"
      },
      "outputs": [],
      "source": [
        "# Decision Tree\n",
        "\n",
        "decision_tree = DecisionTreeClassifier()\n",
        "decision_tree.fit(X_train, Y_train)\n",
        "Y_pred = decision_tree.predict(X_test)\n",
        "acc_decision_tree = round(decision_tree.score(X_train, Y_train) * 100, 2)\n",
        "acc_decision_tree"
      ]
    },
    {
      "cell_type": "markdown",
      "metadata": {
        "_cell_guid": "760149ba-c97f-2065-26d6-974c1e2ca526"
      },
      "source": [
        "\u968f\u673a\u68ee\u6797\u662f\u6700\u53d7\u6b22\u8fce\u7684\u3002 \u968f\u673a\u68ee\u6797\u6216\u968f\u673a\u51b3\u7b56\u68ee\u6797\u662f\u4e00\u79cd\u7528\u4e8e\u5206\u7c7b\uff0c\u56de\u5f52\u548c\u5176\u4ed6\u4efb\u52a1\u7684\u7efc\u5408\u5b66\u4e60\u65b9\u6cd5\uff0c\u901a\u8fc7\u5728\u8bad\u7ec3\u65f6\u95f4\u5185\u6784\u5efa\u591a\u4e2a\u51b3\u7b56\u6811\uff08n_estimators = 100\uff09\u5e76\u8f93\u51fa\u4f5c\u4e3a\u7c7b\u522b\uff08\u5206\u7c7b\uff09\u6a21\u5f0f\u7684\u7c7b\uff0c \u6216\u5e73\u5747\u9884\u6d4b\uff08\u56de\u5f52\uff09\u3002 \u53c2\u8003[\u7ef4\u57fa\u767e\u79d1](https://en.wikipedia.org/wiki/Random_forest)\n",
        "\n",
        "\u6a21\u578b\u4fe1\u5fc3\u5206\u6570\u5728\u8fc4\u4eca\u8bc4\u4f30\u7684\u6a21\u578b\u4e2d\u662f\u6700\u9ad8\u7684\u3002 \u6211\u4eec\u51b3\u5b9a\u4f7f\u7528\u6b64\u6a21\u578b\u7684\u8f93\u51fa\uff08Y_pred\uff09\u6765\u521b\u5efa\u6211\u4eec\u7684\u7ade\u4e89\u63d0\u4ea4\u7684\u7ed3\u679c\u3002"
      ]
    },
    {
      "cell_type": "code",
      "execution_count": null,
      "metadata": {
        "_cell_guid": "1631ce6f-8c3a-6616-10b9-2535e4c5962d"
      },
      "outputs": [],
      "source": [
        "# Random Forest\n",
        "\n",
        "random_forest = RandomForestClassifier(n_estimators=100)\n",
        "random_forest.fit(X_train, Y_train)\n",
        "Y_pred = random_forest.predict(X_test)\n",
        "random_forest.score(X_train, Y_train)\n",
        "acc_random_forest = round(random_forest.score(X_train, Y_train) * 100, 2)\n",
        "acc_random_forest"
      ]
    },
    {
      "cell_type": "markdown",
      "metadata": {
        "_cell_guid": "c230020b-7156-e3ff-33fe-f8760cad4f94"
      },
      "source": [
        "##\u6a21\u578b\u8bc4\u4f30\n",
        "\n",
        "\u73b0\u5728\u6211\u4eec\u53ef\u4ee5\u5bf9\u6240\u6709\u6a21\u578b\u7684\u8bc4\u4f30\u8fdb\u884c\u6392\u5e8f\uff0c\u4e3a\u6211\u4eec\u7684\u95ee\u9898\u9009\u62e9\u6700\u597d\u7684\u3002 \u5f53\u51b3\u7b56\u6811\u548c\u968f\u673a\u68ee\u6797\u5f97\u5206\u76f8\u540c\u65f6\uff0c\u6211\u4eec\u9009\u62e9\u4f7f\u7528\u968f\u673a\u68ee\u6797\uff0c\u56e0\u4e3a\u5b83\u4eec\u6b63\u786e\u5730\u51b3\u5b9a\u4e86\u6811\u6728\u8fc7\u5ea6\u9002\u5e94\u8bad\u7ec3\u96c6\u7684\u4e60\u60ef\u3002"
      ]
    },
    {
      "cell_type": "code",
      "execution_count": null,
      "metadata": {
        "_cell_guid": "f316d02b-493e-e88c-17f7-00ca370210ea"
      },
      "outputs": [],
      "source": [
        "models = pd.DataFrame({\n",
        "    'Model': ['Support Vector Machines', 'KNN', 'Logistic Regression', \n",
        "              'Random Forest', 'Naive Bayes', 'Perceptron', \n",
        "              'Stochastic Gradient Decent', 'Linear SVC', \n",
        "              'Decision Tree'],\n",
        "    'Score': [acc_svc, acc_knn, acc_log, \n",
        "              acc_random_forest, acc_gaussian, acc_perceptron, \n",
        "              acc_sgd, acc_linear_svc, acc_decision_tree]})\n",
        "models.sort_values(by='Score', ascending=False)"
      ]
    },
    {
      "cell_type": "code",
      "execution_count": null,
      "metadata": {
        "_cell_guid": "d2e24d0e-a4f3-f0ed-1c5a-a70120744f37"
      },
      "outputs": [],
      "source": [
        "submission = pd.DataFrame({\n",
        "        \"PassengerId\": test_df[\"PassengerId\"],\n",
        "        \"Survived\": Y_pred\n",
        "    })\n",
        "# submission.to_csv('../output/submission.csv', index=False)"
      ]
    },
    {
      "cell_type": "markdown",
      "metadata": {
        "_cell_guid": "74acfabf-cfea-eed5-33e9-9037209aa54f"
      },
      "source": [
        "\u6211\u4eec\u63d0\u4ea4\u7ed9\u6bd4\u8d5b\u7f51\u7ad9Kaggle\u7684\u7ed3\u679c\u662f\u5728\u603b\u51716,082\u540d\u4e2d\u83b7\u5f97\u4e863,883\u540d\u3002 \u8fd9\u4e2a\u7ed3\u679c\u5728\u6bd4\u8d5b\u5f00\u59cb\u65f6\u5c31\u662f\u6307\u5bfc\u6027\u7684\u3002 \u6b64\u7ed3\u679c\u4ec5\u4ec5\u662f\u63d0\u4ea4\u6570\u636e\u96c6\u7684\u4e00\u90e8\u5206\u3002 \u5bf9\u6211\u4eec\u7684\u7b2c\u4e00\u6b21\u5c1d\u8bd5\u6765\u8bf4\u8fd8\u4e0d\u9519\u3002 \u4efb\u4f55\u63d0\u9ad8\u6211\u4eec\u6210\u7ee9\u7684\u5efa\u8bae\u90fd\u662f\u6700\u53d7\u6b22\u8fce\u7684\u3002"
      ]
    }
  ],
  "metadata": {
    "_change_revision": 0,
    "_is_fork": false,
    "kernelspec": {
      "display_name": "Python 3",
      "language": "python",
      "name": "python3"
    },
    "language_info": {
      "codemirror_mode": {
        "name": "ipython",
        "version": 3
      },
      "file_extension": ".py",
      "mimetype": "text/x-python",
      "name": "python",
      "nbconvert_exporter": "python",
      "pygments_lexer": "ipython3",
      "version": "3.6.0"
    }
  },
  "nbformat": 4,
  "nbformat_minor": 0
}