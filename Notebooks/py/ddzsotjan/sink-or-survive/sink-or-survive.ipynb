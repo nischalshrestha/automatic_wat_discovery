{
  "cells": [
    {
      "cell_type": "markdown",
      "metadata": {
        "_cell_guid": "19503b75-a690-d52d-57af-bf2cf1122acf"
      },
      "source": [
        "# Sink or survive - data exploration in the Titanic challenge"
      ]
    },
    {
      "cell_type": "markdown",
      "metadata": {
        "_cell_guid": "255e5bcb-7534-9fb8-88e6-53c989480771"
      },
      "source": [
        "## 1. Introdution"
      ]
    },
    {
      "cell_type": "markdown",
      "metadata": {
        "_cell_guid": "3c1e8424-dc75-0f9a-00d3-2e67a28ba68a"
      },
      "source": [
        "As an aspiring data scientist, this notebook is my first attempt at performing and presenting a thorough analysis of a dataset on Kaggle.com: **Titanic - machine learning from disaster**. Based on a list of passengers with several attributes (name, sex, class, cabin, etc.), we have to predict who will survive the catastrophe. In order to do this, we shall look at the training data and scrutinise the different predictors one by one, engineering new features if neccessary for a better model. For the feature engineering - especially being a novice in machine learning - the forums on Kaggle have inspired me with quite a few ideas. Subsequently, we will construct a model for prediction by training a forest of decision trees on the features of the training data. This done, we will now apply this model to the test data (that does **not** contain the information about survival) and predict who is expected to survive - and who will sink. As this is an ongoing project, I will continuously update the model with better-constructed features and parameters. \n",
        "\n",
        "Here is the list according to which we will proceed."
      ]
    },
    {
      "cell_type": "markdown",
      "metadata": {
        "_cell_guid": "8f213136-367a-3db6-fdcf-dbb16f0a7c60"
      },
      "source": [
        "### 1.1. Imports\n",
        "Importing the neccessary Python libraries.\n",
        "### 1.2. Examining the features\n",
        "Exploring the predictors of the dataset and engineering new ones.\n",
        "### 1.3. Cleanup and preparation for analysis\n",
        "Dropping unnecessary columns, modifying the form of classification so that it is better matched with model training.\n",
        "### 1.4. Training the model\n",
        "Creating the actual model. We will use a decision tree based classification method, **Random Forests**.\n",
        "### 1.5. Prediction and predictor relevance\n",
        "Applying the model to the test data and examining the importance of the features used for prediction."
      ]
    },
    {
      "cell_type": "markdown",
      "metadata": {
        "_cell_guid": "f2496542-768b-6b7d-6547-603d3e3adee9"
      },
      "source": [
        "## 2. Imports and raw data\n",
        "First, we import the necessary libraries for handling the data, for numerical manipulation and for training the model. Also, for finding bits of text in a more extensive string, we import the library for regular expressions."
      ]
    },
    {
      "cell_type": "code",
      "execution_count": null,
      "metadata": {
        "_cell_guid": "cc9208fa-1946-ddcc-b0ef-2699f855396b"
      },
      "outputs": [],
      "source": [
        "# data handling \n",
        "import pandas as pd\n",
        "from pandas import Series, DataFrame\n",
        "\n",
        "from operator import itemgetter\n",
        "\n",
        "# numerical manipulation and visualization\n",
        "import numpy as np\n",
        "import matplotlib.pyplot as plt\n",
        "import seaborn as sns\n",
        "sns.set()\n",
        "sns.set_style('whitegrid')\n",
        "%matplotlib inline\n",
        "\n",
        "from scipy import stats\n",
        "\n",
        "# regular expressions\n",
        "import re\n",
        "\n",
        "# machine learning\n",
        "from sklearn.ensemble import RandomForestClassifier"
      ]
    },
    {
      "cell_type": "markdown",
      "metadata": {
        "_cell_guid": "8bf754e3-0c8f-82ad-80d9-ddfd02167684"
      },
      "source": [
        "We read in the **test** and **train** data as Pandas DataFrames, and examine the data structure."
      ]
    },
    {
      "cell_type": "code",
      "execution_count": null,
      "metadata": {
        "_cell_guid": "2138ae45-30e1-187b-4ae9-f2433d289698"
      },
      "outputs": [],
      "source": [
        "train_df = pd.read_csv('../input/train.csv', header=0)\n",
        "test_df = pd.read_csv('../input/test.csv', header=0)"
      ]
    },
    {
      "cell_type": "code",
      "execution_count": null,
      "metadata": {
        "_cell_guid": "d2df9bd6-368f-2e67-73dc-1332ec7c1b8c"
      },
      "outputs": [],
      "source": [
        "train_df.head()"
      ]
    },
    {
      "cell_type": "markdown",
      "metadata": {
        "_cell_guid": "00f86c72-2edb-a445-f1bd-1a49d28b784f"
      },
      "source": [
        "So, what do we have here? \n",
        "\n",
        "* **PassengerId** identifies the particular passenger - it will not be of much use for survival prediction\n",
        "* **Survived** is a binary predictor (yes: 1, no: 0) of survival - obviously, we only find it in the train data\n",
        "* **Pclass** signifies the ticket class with possible values 1, 2, and 3. This is already something worth to look at!\n",
        "* **Name** might not seem too interesting at first sight, but let's see if we can extract any useful information later on\n",
        "* **Sex** of the passengers is probably strongly correlated with survival\n",
        "* **Age**, as sex, is self-explanatory\n",
        "* **SibSp** is the number of siblings/spouses travelling with the person\n",
        "* **Parch** is the number of parents/children travelling with the person under consideration\n",
        "* **Ticket** is the serial number of the ticket\n",
        "* **Fare** is the money payed for the ticket\n",
        "* **Cabin** contains information about the location of the cabin, it can be a useful predictor for survival\n",
        "* **Embarked** shows the place of embarkation: Cherbourg (France), Southampton and Queenstown (UK), marked by their initials."
      ]
    },
    {
      "cell_type": "markdown",
      "metadata": {
        "_cell_guid": "a28fe582-77d0-d987-54e2-19e7889e901f"
      },
      "source": [
        "Let us get some global information about our raw data. It is obvious that quite a few entries are far from complete. We will have to do some clever data imputation to prepare the set for *machine learning*."
      ]
    },
    {
      "cell_type": "code",
      "execution_count": null,
      "metadata": {
        "_cell_guid": "b0bc868a-4c3d-a406-769e-613ab6418a03"
      },
      "outputs": [],
      "source": [
        "train_df.info()"
      ]
    },
    {
      "cell_type": "code",
      "execution_count": null,
      "metadata": {
        "_cell_guid": "de8981e4-4a8d-33b8-3309-9e1daf776e2d"
      },
      "outputs": [],
      "source": [
        "test_df.info()"
      ]
    },
    {
      "cell_type": "markdown",
      "metadata": {
        "_cell_guid": "352b583c-1ed7-85ac-612d-0f35812beaed"
      },
      "source": [
        "## 3. Examining the features\n",
        "After reading in the data, as well as getting a rough feeling for the contents, we can get down to a more detailed examination."
      ]
    },
    {
      "cell_type": "markdown",
      "metadata": {
        "_cell_guid": "37bf3c3e-b350-7e22-c395-ae0f4524d758"
      },
      "source": [
        "### 3.1. Is sex important?\n",
        "Well, obviously it is, in several senses and situations - but how about this one? The proverbial *\"Save the women and the children!\"* prompts us to consider it as an important predictor for survival.\n",
        "\n",
        "The graphs below indicate that there is a drastic difference of survival odds if you were a male or a female on the ship! For the almost twice as many women than men, the survival probability of woman passengers is about 4 times that of men."
      ]
    },
    {
      "cell_type": "code",
      "execution_count": null,
      "metadata": {
        "_cell_guid": "926614cf-b264-537b-65eb-4013f87183f1"
      },
      "outputs": [],
      "source": [
        "fig, (axis1, axis2) = plt.subplots(1, 2, figsize=(9, 3))\n",
        "\n",
        "sns.countplot(x='Sex', data=train_df, ax=axis1)\n",
        "sns.countplot(x='Survived', hue='Sex', data=train_df, ax=axis2)\n",
        "\n",
        "fig, (axis1) = plt.subplots(1, figsize=(4, 3))\n",
        "sns.barplot(x='Sex', y='Survived', data=train_df, ax=axis1)"
      ]
    },
    {
      "cell_type": "markdown",
      "metadata": {
        "_cell_guid": "451fc1b6-9086-a22c-42e4-2fab7ac0e5a0"
      },
      "source": [
        "### 3.2. Titles and entitlement\n",
        "\n",
        "On closer examination, we see that the **Name** column contains honorifics by each name. I would guess that probably those of the nobility have higher chances to survive. Let us see if it is the case. Extracting the titles has another importance: since there are quite a few age values missing, we will have to input them - however, if someone with a *Master* honorific (which was a common one for boys aged less than 16) gets an age of 50, or we have a *Mr* aged 2, we would be making a mistake.\n",
        "\n",
        "First, let us define a function that finds these titles using regular expressions and use it to fill a **Title** column with them. "
      ]
    },
    {
      "cell_type": "code",
      "execution_count": null,
      "metadata": {
        "_cell_guid": "aa6435af-9d52-a47f-b5cd-96ea803d9350"
      },
      "outputs": [],
      "source": [
        "def extract_title(name):  # function that returns a list of honorifics extracted from Names\n",
        "    \n",
        "    return re.findall(r',\\s[\\w\\s]+.', name)[0][2:-1]\n",
        "\n",
        "# Create and fill \n",
        "train_df['Title'] = train_df['Name'].map(extract_title)\n",
        "test_df['Title'] = test_df['Name'].map(extract_title)\n",
        "\n",
        "# See what kind of titles we have\n",
        "print((set(train_df['Title'].values) | set(test_df['Title'].values)))"
      ]
    },
    {
      "cell_type": "markdown",
      "metadata": {
        "_cell_guid": "cc19b5f9-4acc-1fc0-d19c-1dcc0c1ef4d4"
      },
      "source": [
        "We have got quite a few different titles on our hands! Some of them are your everyday Mr, Mrs, etc, but there are also special ones indicating a scientific degree, military occupation or nobility.\n",
        "\n",
        "There is another flavour to this: *ethnicity*! *Sir*, *Lady*, *Countess* suggest an anglo-saxon origin, *Mme* and *Mlle* are obviously French (possibly Belgian), *Jonkheer* could be Dutch (or Belgian) and *Don/Dona* suggest a Spanish/Portuguese/Italian origin. Was it easier to survive if you were English, or French, rather than of a  different nation?  In another version of this notebook, I will explore the relevance of ethnicity to see whether it can be a useful feature to predict survival - right now I just mark it as an interesting point.\n",
        "\n",
        "For now, let us translate the equivalents to English (for example *Mlle* corresponds to *Ms*) and then bin the titles. For the latter, there are many possible choices, here I will just leave the common titles (*Master*, *Mr*, *Ms*, *Mrs*) as they are, take the military and scientific titles and bin them into *special*, whereas the noble ones go - unsurprisingly - into *noble*."
      ]
    },
    {
      "cell_type": "code",
      "execution_count": null,
      "metadata": {
        "_cell_guid": "d5acedd2-311b-2627-9348-c9f2988a6ee1"
      },
      "outputs": [],
      "source": [
        "# Translating the equivalents:\n",
        "train_df.loc[train_df['Title'] == 'Mlle', 'Title'] = 'Ms'\n",
        "train_df.loc[train_df['Title'] == 'Miss', 'Title'] = 'Ms'\n",
        "train_df.loc[train_df['Title'] == 'Mme', 'Title'] = 'Mrs'\n",
        "\n",
        "test_df.loc[test_df['Title'] == 'Mlle', 'Title'] = 'Ms'\n",
        "test_df.loc[test_df['Title'] == 'Miss', 'Title'] = 'Ms'\n",
        "test_df.loc[test_df['Title'] == 'Mme', 'Title'] = 'Mrs'\n",
        "\n",
        "\n",
        "# Grouping \n",
        "def assign_title(title):\n",
        "    \n",
        "    if title in ['Don', 'Dona', 'Lady', 'the Countess', 'Sir', 'Jonkheer']:\n",
        "        return 'noble'\n",
        "    elif title in ['Dr', 'Rev', 'Major', 'Col', 'Capt', 'Major']:\n",
        "        return 'special'\n",
        "    else:\n",
        "        return title\n",
        "\n",
        "train_df['Title'] = train_df['Title'].map(assign_title)\n",
        "test_df['Title'] = train_df['Title'].map(assign_title)"
      ]
    },
    {
      "cell_type": "markdown",
      "metadata": {
        "_cell_guid": "24931a38-57a1-8ae5-c970-7b0e4c95eb57"
      },
      "source": [
        "Having extracted, translated and rearranged, let us now investigate the implications."
      ]
    },
    {
      "cell_type": "code",
      "execution_count": null,
      "metadata": {
        "_cell_guid": "8d6419fd-9cbf-8877-0352-36eccf105488"
      },
      "outputs": [],
      "source": [
        "figure, (axis1, axis2) = plt.subplots(1, 2, figsize=(9, 3))\n",
        "\n",
        "sns.barplot(x='Title', y='Survived', data=train_df, order = ['Mr', 'Master', 'Ms', \n",
        "                                                             'Mrs', 'special', 'noble'], ax=axis1)\n",
        "sns.barplot(x='Title', y='Survived', data=train_df, hue='Sex', order = ['special', 'noble'], ax=axis2)\n",
        "\n",
        "\n",
        "nobles = train_df[train_df['Title'] == 'special']\n",
        "non_nobles = train_df[train_df['Title'] != 'special']\n",
        "\n",
        "figure, (axis1, axis2) = plt.subplots(1, 2, figsize=(8, 3))\n",
        "\n",
        "sns.countplot(x='Survived', data=non_nobles, hue='Sex', ax=axis1)\n",
        "sns.countplot(x='Survived', data=nobles, hue='Sex', ax=axis2)"
      ]
    },
    {
      "cell_type": "markdown",
      "metadata": {
        "_cell_guid": "a94b6ce9-fef0-42f2-33d6-3a731498b073"
      },
      "source": [
        "Apparently, if you were a member of the nobility, you were in luck! Well, at least, your chances of survival were considerably higher than those of common mortals. Especially noblewomen - they really hit the jackpot on this one. We need to mention, however, that there were only 6 of them altogether, from whom 4 survived, i.e., nobility were less than 1% of the total number of passangers!  According to the graphs, *Mr* have by far the lowest chance of survival, young boys of age <16 survive on average. The survival rate of women is even higher, while **special** doesn't seem to indicate anything special. All in all, **Title** is apparently a valuable feature for predicting survival!"
      ]
    },
    {
      "cell_type": "markdown",
      "metadata": {
        "_cell_guid": "25f68f42-f0e0-2cc5-880a-6d335ad228cb"
      },
      "source": [
        "### 3.3. Does Age matter?\n",
        "\n",
        "It is reasonable to guess that age is going to factor into survival chances. Children, especially young ones, were surely helped to the lifeboats, whereas if you were old, the probability that you were left behind, or injured in the turbulent crowd, was much greater. These are of course speculations, so let the numbers speak!\n",
        "\n",
        "Unfortunately, some of the age values are missing, so we will have to assume them. There are several possible ways to do this: for example, one could randomly pick a value between the extrema of the age span of the passangers, or, better still, take the *mean* and the *standard deviation* of the age distribution, and randomly choose values from an interval of 2\\*std_dev centered around the mean. The way we will proceed is a bit more sophisticated. We will construct a probability kernel distribution estimate from the distribution of the existing values, and get the missing age values according to it.\n",
        "\n",
        "As an additional constraint, we add that the assigned age value should not clash with the honorific of the person, i.e., we don't want to  have a 5 year old *Mrs* or a *Master* who is close to retirement."
      ]
    },
    {
      "cell_type": "code",
      "execution_count": null,
      "metadata": {
        "_cell_guid": "3926e79e-e4ab-ef29-b54e-e4dea37495f9"
      },
      "outputs": [],
      "source": [
        "# Filling in the missing age values with ones chosen according to a given probability distribution\n",
        "def assign_age(df, age_range, probabilities):\n",
        "    \n",
        "    null_age_count = df['New_Age'].isnull().sum()  # number of null age values\n",
        "    random_ages = np.random.choice(age_range, size=null_age_count, p=probabilities)  \n",
        "                                                            # generate this number of age values\n",
        "                                                            # with the given probability distribution\n",
        "            \n",
        "    df.loc[df['New_Age'].isnull(), 'New_Age'] = random_ages  # assign the ages to the null value entries\n",
        "    \n",
        "    # Check that the ages do not clash with the honorifics\n",
        "    # Filters:\n",
        "    is_master = df['Title'] == 'Master'\n",
        "    not_master = df['Title'] != 'Master'\n",
        "    not_miss = df['Title'] != 'Ms'\n",
        "    is_younger = df['New_Age'] <= 16\n",
        "    is_older = df['New_Age'] > 16\n",
        "    \n",
        "    # If there is a clash, set those age values (and only those) that clash with the honorifics to zero\n",
        "    df.loc[is_master & is_older, 'New_Age'] = None\n",
        "    df.loc[not_master & not_miss & is_younger, 'New_Age'] = None\n",
        "    null_age_count = df['New_Age'].isnull().sum()\n",
        "    \n",
        "    return null_age_count  # how many New_Age entries are still null\n",
        "\n",
        "\n",
        "# Estimating the kernel density for the non-null age values\n",
        "train_kde = stats.gaussian_kde(train_df['Age'].dropna())\n",
        "train_age_min = train_df['Age'].dropna().min().astype(int)\n",
        "train_age_max = train_df['Age'].dropna().max().astype(int)\n",
        "\n",
        "test_kde = stats.gaussian_kde(test_df['Age'].dropna())\n",
        "test_age_min = test_df['Age'].dropna().min().astype(int)\n",
        "test_age_max = test_df['Age'].dropna().max().astype(int)\n",
        "\n",
        "\n",
        "# then build the age values to choose from and their probability distribution\n",
        "train_age_points = np.array(range(train_age_min, train_age_max+1))\n",
        "train_kde_points = train_kde(np.array(train_age_points))\n",
        "\n",
        "test_age_points = np.array(range(test_age_min, test_age_max+1))\n",
        "test_kde_points = test_kde(np.array(test_age_points))\n",
        "\n",
        "\n",
        "# We normalise the kde to get a probability sum of 1 (discretising the continuous probability function)\n",
        "train_kde_normalised = train_kde_points / (train_kde_points.sum())\n",
        "test_kde_normalised = test_kde_points / (test_kde_points.sum())\n",
        "\n",
        "\n",
        "null_count = train_df['Age'].isnull().sum()  # number of null age values\n",
        "train_df['New_Age'] = train_df['Age']\n",
        "\n",
        "# Now, we reassign age values according to the kde, until there are none which clash with the honorifics\n",
        "while null_count:\n",
        "    null_count = assign_age(train_df, train_age_points, train_kde_normalised)\n",
        "    \n",
        "# Doing the same for the test data\n",
        "null_count = test_df['Age'].isnull().sum()  # number of null age values\n",
        "test_df['New_Age'] = test_df['Age']\n",
        "while null_count:\n",
        "    null_count = assign_age(test_df, test_age_points, test_kde_normalised)"
      ]
    },
    {
      "cell_type": "markdown",
      "metadata": {
        "_cell_guid": "31c4a884-b2fe-6c61-4619-8830a20670a9"
      },
      "source": [
        "Now that we have filled in the missing values, let us look at the new distribution of age values."
      ]
    },
    {
      "cell_type": "code",
      "execution_count": null,
      "metadata": {
        "_cell_guid": "8dba6391-7204-d415-a5cd-d2593e3da4d6"
      },
      "outputs": [],
      "source": [
        "figure, (axis1, axis2) = plt.subplots(1, 2, figsize=(9, 3))\n",
        "\n",
        "fig1 = sns.distplot(train_df['Age'].dropna().astype(int), ax=axis1)\n",
        "fig2 = sns.distplot(train_df['New_Age'].dropna().astype(int), color='g', ax=axis2)\n",
        "\n",
        "fig1.set(ylim = (0, 1.3 * max(train_kde_normalised)))\n",
        "fig2.set(ylim = (0, 1.3 * max(train_kde_normalised)))\n",
        "\n",
        "# Putting the kde for both distributions in the same plot\n",
        "\n",
        "figure, axis1 = plt.subplots(1, 1, figsize=(9, 2))\n",
        "\n",
        "sns.kdeplot(train_df['Age'].dropna(), ax=axis1, shade=True)\n",
        "sns.kdeplot(train_df['New_Age'], ax=axis1, color='g', shade=True)\n",
        "\n",
        "# We see that the distribution is practically the same as before the imputation, and we also respected the prefixes!\n",
        "\n",
        "# Age distribution seems fine, we give the new values to 'Age' and drop 'New_Age'\n",
        "train_df['Age'] = train_df['New_Age'].astype(int)\n",
        "test_df['Age'] = test_df['New_Age'].astype(int)\n",
        "\n",
        "train_df.drop('New_Age', axis=1, inplace=True)\n",
        "test_df.drop('New_Age', axis=1, inplace=True)"
      ]
    },
    {
      "cell_type": "markdown",
      "metadata": {
        "_cell_guid": "942131c9-1602-d80e-c273-89d1b0c459c3"
      },
      "source": [
        "Apparently, we have done quite a good job: the new age distribution corresponds quite well to the original. This seems to be something we can work with. Let's get a feeling for the survival rate as a function of age."
      ]
    },
    {
      "cell_type": "code",
      "execution_count": null,
      "metadata": {
        "_cell_guid": "32acaa46-dad1-f770-4679-c2e1a1df88d4"
      },
      "outputs": [],
      "source": [
        "# Look at survival rates as a function of age\n",
        "average_survival = train_df[['Age', 'Survived']].groupby(['Age'], as_index=False).mean()\n",
        "\n",
        "# Plotting the survival rates\n",
        "sns.factorplot(x='Age', y ='Survived', kind='bar', data=average_survival, size=4, aspect=2.3)"
      ]
    },
    {
      "cell_type": "markdown",
      "metadata": {
        "_cell_guid": "8d1c36d7-5845-cd1e-dbd2-edad5ef64394"
      },
      "source": [
        "We see that survival rates below the age 16 are quite high. It would be advantageous to create bins for the age values to get a better grip on the connection between age and survival - so let's get to it!"
      ]
    },
    {
      "cell_type": "code",
      "execution_count": null,
      "metadata": {
        "_cell_guid": "938c8f5c-c896-20dd-f2e3-e2f0208fb34f"
      },
      "outputs": [],
      "source": [
        "# Binning the ages: we use the .cut() method of pandas\n",
        "train_df['Age bins'] = train_df['Age']\n",
        "test_df['Age bins'] = test_df['Age']\n",
        "\n",
        "age_bins = [-0.1, 5, 16, 25, 40, 60, 100]\n",
        "age_labels = ['(0-5)', '(6-16)', '(17-25)', '(26-40)', '(41-60)', '(61-)']\n",
        "train_df['Age bins'] = pd.cut(train_df['Age'], age_bins, labels=age_labels)\n",
        "test_df['Age bins'] = pd.cut(test_df['Age'], age_bins, labels=age_labels)\n",
        "\n",
        "figure, axis1 = plt.subplots(1, figsize = (7, 3))\n",
        "sns.barplot(x='Age bins', y='Survived', data=train_df)"
      ]
    },
    {
      "cell_type": "markdown",
      "metadata": {
        "_cell_guid": "3872b8ad-5860-3816-9396-7bbd100cc372"
      },
      "source": [
        "The barplots show that indeed below 16 years old, survival rates are above 0.5 on average, whereas for the older passengers the average chance to survive is well below 50%."
      ]
    },
    {
      "cell_type": "markdown",
      "metadata": {
        "_cell_guid": "87ceaf98-f5d3-613c-d9fd-efdc32e8228a"
      },
      "source": [
        "### 3.4. The power of Family\n",
        "\n",
        "Travelling all alone, or with a family where members look out for each other could make all the difference between survival or sinking to the bottom. Family size can be easily constructed adding predictors **Parch** and **SibSp**."
      ]
    },
    {
      "cell_type": "code",
      "execution_count": null,
      "metadata": {
        "_cell_guid": "8456c869-71ca-cfe6-bd30-1aa3f17a6b59"
      },
      "outputs": [],
      "source": [
        "train_df['FamMembers'] = train_df['SibSp'] + train_df['Parch'] + 1\n",
        "test_df['FamMembers'] = test_df['SibSp'] + test_df['Parch'] + 1\n",
        "\n",
        "sns.factorplot(x='FamMembers', data=train_df, kind='count', hue='Survived', size=4, aspect=1.7)\n",
        "sns.factorplot(x='FamMembers', y='Survived', data=train_df, kind='bar', hue='Sex', size=4, aspect=1.7)"
      ]
    },
    {
      "cell_type": "markdown",
      "metadata": {
        "_cell_guid": "f168caba-6888-e0cd-5daa-754784c8866f"
      },
      "source": [
        "We see an interesting trend here: survival rate is larger than 0.5 by families ranging from 2 to 4 members. Singletons as well as people in larger families have a lower chance of survival. Also, we see that while ladies have about the same survival rate until a family size of 4 (including all the single ladies), the odds to live for males increases with family size - just until families of 4.\n",
        "\n",
        "From this, it seems a sensible choice to categorise peoples' family size as **single**, **small** (the sweet spot between 2 and 4 members) and **large**."
      ]
    },
    {
      "cell_type": "code",
      "execution_count": null,
      "metadata": {
        "_cell_guid": "8e3fa91e-b9b5-29a3-488e-ed2a97113348"
      },
      "outputs": [],
      "source": [
        "train_df.loc[train_df['FamMembers'] > 4, 'FamSize'] = 'large (>4 members)'\n",
        "train_df.loc[(train_df['FamMembers'] >= 2) & (train_df['FamMembers'] <= 4), 'FamSize'] = 'small (2-4 members)'\n",
        "train_df.loc[train_df['FamMembers'] == 1, 'FamSize'] = 'single'\n",
        "\n",
        "test_df.loc[test_df['FamMembers'] > 4, 'FamSize'] = 'large (>4 members)'\n",
        "test_df.loc[(test_df['FamMembers'] >= 2) & (test_df['FamMembers'] <= 4), 'FamSize'] = 'small (2-4 members)'\n",
        "test_df.loc[test_df['FamMembers'] == 1, 'FamSize'] = 'single'"
      ]
    },
    {
      "cell_type": "code",
      "execution_count": null,
      "metadata": {
        "_cell_guid": "71af77c8-cb1e-9eaf-2853-47d22b23fdc1"
      },
      "outputs": [],
      "source": [
        "sns.factorplot(x='FamSize', y='Survived', data=train_df, kind='bar'\n",
        "               , order = ['single', 'small (2-4 members)', 'large (>4 members)'], size = 4, aspect =1.7)"
      ]
    },
    {
      "cell_type": "markdown",
      "metadata": {
        "_cell_guid": "3c769a2a-1c48-85fc-ea05-da962695485c"
      },
      "source": [
        "We see indeed that the small families (very possibly due to an optimal combination of cooperation and mobility) have a way larger rate of survival than single people or members of larger families!"
      ]
    },
    {
      "cell_type": "markdown",
      "metadata": {
        "_cell_guid": "976035cd-7b9a-ff07-aa2b-e60258093b35"
      },
      "source": [
        "### 3.5. Classy enough?\n",
        "\n",
        "The higher the ticket class, the higher the comfort - but what about the survival probability? Certainly, spaces occupied by 1st class passengers must have been wider and much less encumbered by people and objects than, say, in the 3rd class regions of the ship, which is an advantage in case of an evacuation. Also, 1st class cabins were on the deck closest to the lifeboats, so this seems to bode well for the upper crust.\n",
        "\n",
        "The **Pclass** column has all its values so we can go straight to the graphs and see the implications of poshness on survival."
      ]
    },
    {
      "cell_type": "code",
      "execution_count": null,
      "metadata": {
        "_cell_guid": "f907fe12-3ebb-24cb-a3d6-1512d2f4d8a4"
      },
      "outputs": [],
      "source": [
        "figure, (axis1, axis2) = plt.subplots(1, 2, figsize=(9, 3))\n",
        "sns.countplot(x='Pclass', data=train_df, hue='Sex', ax=axis1)\n",
        "sns.barplot(x='Pclass', y='Survived', data=train_df, hue='Sex', ax=axis2)"
      ]
    },
    {
      "cell_type": "markdown",
      "metadata": {
        "_cell_guid": "02672ebe-7c6a-41d0-9d88-d2f5a8f7cc90"
      },
      "source": [
        "And indeed, the chances of survival drop as ticket class increases. The probability to be rescued is lowest for 3rd-class passengers (which were, sadly, also the most numerous and were mostly left to fend for themselves in the wake of the disaster). It is interesting to note that for women, there is a larger jump in survival odds from 3rd to 2nd class, whereas for men it is from 2nd to 1st class. Nonetheless, it is true for both sexes that their prospects improve with the swankiness of their accommodations on the ship."
      ]
    },
    {
      "cell_type": "markdown",
      "metadata": {
        "_cell_guid": "fb36616a-289c-9fa0-8a82-06e74c8d327a"
      },
      "source": [
        "### 3.6. Putting a price on survival\n",
        "\n",
        "We have seen that passenger class has an effect on passenger survival. The prices paid for the tickets must certainly be correlated with the class which implies a connection with survival odds. Let's explore this a little bit more!\n",
        "\n",
        "First, however, we must input a single missing price value in the *test data*. For this, we simply take the median for the given class."
      ]
    },
    {
      "cell_type": "code",
      "execution_count": null,
      "metadata": {
        "_cell_guid": "18e2f62e-a221-3d58-9af1-96cca73cc2af"
      },
      "outputs": [],
      "source": [
        "no_fare = test_df['Fare'].isnull()\n",
        "no_fare_class = test_df[no_fare]['Pclass'].values[0]\n",
        "\n",
        "test_df.loc[no_fare, 'Fare'] = test_df[test_df['Pclass'] == no_fare_class]['Fare'].dropna().median()"
      ]
    },
    {
      "cell_type": "markdown",
      "metadata": {
        "_cell_guid": "566443cc-0b37-1914-e840-82627e1d9219"
      },
      "source": [
        "One more thing might be a bit of a puzzle at first sight: some of the adult passengers apparently paid nothing to get on board! However, with a bit of research on the internet they turn out to be employees on the ship, or connected in some way or another to the owners/operators of the vessel (by some of them it is obvious: the *LINE* entry for **Ticket** is a tell-tale sign, meaning that they were *American Line* employees)."
      ]
    },
    {
      "cell_type": "code",
      "execution_count": null,
      "metadata": {
        "_cell_guid": "47d87688-6a56-d49f-8263-5ae26ae61f16"
      },
      "outputs": [],
      "source": [
        "train_df[train_df['Fare']<3].head()"
      ]
    },
    {
      "cell_type": "markdown",
      "metadata": {
        "_cell_guid": "49ed468a-483c-5563-7070-237305137155"
      },
      "source": [
        "Having got confusion out of the way, let us look at the distribution of prices in each class."
      ]
    },
    {
      "cell_type": "code",
      "execution_count": null,
      "metadata": {
        "_cell_guid": "52b213f6-a550-535b-1eef-72cd13071483"
      },
      "outputs": [],
      "source": [
        "figure, (axis1, axis2, axis3) = plt.subplots(1, 3, figsize=(10,3))\n",
        "sns.distplot(test_df[train_df['Pclass'] == 3]['Fare'], ax=axis1)\n",
        "sns.distplot(test_df[train_df['Pclass'] == 2]['Fare'], ax=axis2)\n",
        "sns.distplot(test_df[train_df['Pclass'] == 1]['Fare'], ax=axis3)\n",
        "\n",
        "axis1.set_title('Pclass = 3', fontsize=15)\n",
        "axis2.set_title('Pclass = 2', fontsize=15)\n",
        "axis3.set_title('Pclass = 1', fontsize=15)"
      ]
    },
    {
      "cell_type": "markdown",
      "metadata": {
        "_cell_guid": "dd133e90-c34b-6eb9-7864-29994a07a924"
      },
      "source": [
        "Well, this comes as a bit of a surprise! It seems that prices are quite varied in each class and they encompass a wide spectrum so the correlation between price and class is not so obvious here. It could be a good idea however to plot the average fare for those who survived and those who didn't, sorted by class."
      ]
    },
    {
      "cell_type": "code",
      "execution_count": null,
      "metadata": {
        "_cell_guid": "c77d3ac9-1c4c-7bf6-7d11-cfec11d634b0"
      },
      "outputs": [],
      "source": [
        "sns.factorplot(x='Pclass', y='Fare', data=train_df, hue='Survived', kind='bar', size=3, aspect=2)"
      ]
    },
    {
      "cell_type": "markdown",
      "metadata": {
        "_cell_guid": "c4c7b7c8-edb2-a234-dd32-4285222b5c28"
      },
      "source": [
        "This is a bit more helpful: in case of 1st class passengers there definitely is a significant difference between the average fare paid by the passengers who survived and those who did not. \n",
        "\n",
        "For the moment, let us bin the fare values into three categories: *cheap*, *middle* and *expensive*."
      ]
    },
    {
      "cell_type": "code",
      "execution_count": null,
      "metadata": {
        "_cell_guid": "05f5e227-ec47-81c4-fd07-76da226d37f6"
      },
      "outputs": [],
      "source": [
        "train_df['Fare bins'] = train_df['Fare']\n",
        "test_df['Fare bins'] = test_df['Fare']\n",
        "fare_labels = ['Cheap', 'Middle', 'Expensive']\n",
        "\n",
        "train_df['Fare bins'] = pd.qcut(train_df['Fare bins'], 3, labels=fare_labels)\n",
        "test_df['Fare bins'] = pd.qcut(test_df['Fare bins'], 3, labels=fare_labels)\n",
        "                                "
      ]
    },
    {
      "cell_type": "markdown",
      "metadata": {
        "_cell_guid": "6abe9249-bb02-b47f-3278-68d9a10870ef"
      },
      "source": [
        "Let us look at the survival probabilities for the different price categories, filtered by class. We see that the supposed rule \"the more expensive the ticket, the larger the chances of survival\" hold for the 1st and 2nd class, but not for the 3rd! There, the survival rate is largest in the middle-range!"
      ]
    },
    {
      "cell_type": "code",
      "execution_count": null,
      "metadata": {
        "_cell_guid": "fd0d2da5-a33b-4a74-c431-5a2be3275b89"
      },
      "outputs": [],
      "source": [
        "sns.barplot(x='Fare bins', y='Survived', hue='Pclass', data=train_df)"
      ]
    },
    {
      "cell_type": "markdown",
      "metadata": {
        "_cell_guid": "cb457ed0-61cd-6381-4bb0-b6d498ac730a"
      },
      "source": [
        "### 3.6.1. Feature: Fare per person\n",
        "\n",
        "The fact that ticket prices vary so much inside a given class might be better understood if we look at **Fare** in the light of class **AND** family size."
      ]
    },
    {
      "cell_type": "code",
      "execution_count": null,
      "metadata": {
        "_cell_guid": "fd1ce1c9-0d2c-7edc-9554-c6bd379c461c"
      },
      "outputs": [],
      "source": [
        "sns.factorplot(x='FamSize', y='Fare', data=train_df, hue='Pclass', kind='bar', \n",
        "               order=['single', 'small (2-4 members)', 'large (>4 members)'], size=3, aspect=2)"
      ]
    },
    {
      "cell_type": "markdown",
      "metadata": {
        "_cell_guid": "db71e2f2-e07e-a89b-0339-90382dc7de97"
      },
      "source": [
        "Well, this is intriguing! It seems that the average fares for different family sizes differ, with a relatively small standard deviation! We are definitely on to something here. Let us go even further and make the same plot, but this time as the function of the precise number of family members."
      ]
    },
    {
      "cell_type": "code",
      "execution_count": null,
      "metadata": {
        "_cell_guid": "bd0c38c4-901a-c318-ee2b-ba189ee0d9bd"
      },
      "outputs": [],
      "source": [
        "sns.factorplot(x='FamMembers', y='Fare', data=train_df, hue='Pclass', kind='bar', size=3.5, aspect=2)"
      ]
    },
    {
      "cell_type": "markdown",
      "metadata": {
        "_cell_guid": "370607a8-fce4-1d42-d4ce-91ec5b6e9019"
      },
      "source": [
        "Apparently, in each class, the average fare price varies with the size of the family. Also, we can see an almost steady increase in the price as the family size increases (except for the 2nd class, for 5 and 6 people). The standard deviations are relatively small (especially for the lower classes), so we can infer from this that **Family size** plays an important role in the variations in price! So instead of really associating the **Fare** with only a single person, we should rather think about it as **the price of the space occupied by the people travelling together**.\n",
        "\n",
        "From this, it seems a good idea to construct a feature **Fare per person**. Let us look at the implications."
      ]
    },
    {
      "cell_type": "code",
      "execution_count": null,
      "metadata": {
        "_cell_guid": "0fd98317-398f-0e64-3ae4-95b548453830"
      },
      "outputs": [],
      "source": [
        "train_df['Fare/person'] = train_df['Fare']/train_df['FamMembers']\n",
        "test_df['Fare/person'] = test_df['Fare']/test_df['FamMembers']\n",
        "\n",
        "figure, (axis1, axis2) = plt.subplots(1, 2, figsize = (9.5,3))\n",
        "\n",
        "fig1 = sns.kdeplot(train_df[train_df['Pclass'] == 1]['Fare/person'], \n",
        "                   shade=True, ax=axis1, label= 'Pclass = 1')\n",
        "fig2 = sns.kdeplot(train_df[train_df['Pclass'] == 2]['Fare/person'], \n",
        "                   shade=True, ax=axis1, label= 'Pclass = 2')\n",
        "fig3 = sns.kdeplot(train_df[train_df['Pclass'] == 3]['Fare/person'], \n",
        "                   shade=True, ax=axis1, label= 'Pclass = 3')\n",
        "\n",
        "fig1.set(xlim = (0, 100))\n",
        "fig1.set_xlabel('Fare/person')\n",
        "fig2.set(xlim = (0, 100))\n",
        "fig3.set(xlim = (0, 100))\n",
        "\n",
        "sns.barplot(x='Pclass', y='Fare/person', data=train_df, hue='Survived', ax=axis2)"
      ]
    },
    {
      "cell_type": "markdown",
      "metadata": {
        "_cell_guid": "9634a0c3-e730-92fc-da79-41e5bfabe953"
      },
      "source": [
        "The **Fare/person** feature yields a much better separation in the distribution peaks of the different classes! Also, for the average fare of those who did and did not survive, we have a slightly better separation compared to **Fare**! This seems to be a potentially useful feature to help predicting survival in the test data. \n",
        "\n",
        "As with **Fare**, we put the values into bins, and look at the survival odds for the different classes."
      ]
    },
    {
      "cell_type": "code",
      "execution_count": null,
      "metadata": {
        "_cell_guid": "6519b70c-a543-b36b-2b67-e702941cb4c0"
      },
      "outputs": [],
      "source": [
        "train_df['Fare/person bins'] = train_df['Fare/person']\n",
        "test_df['Fare/person bins'] = test_df['Fare/person']\n",
        "\n",
        "fpp_bins = [-0.1, 20, 40, 60, 80, 100, 150, 600]\n",
        "fpp_labels = ['0-20', '21-40', '41-60', '61-80', '81-100', '101-150', '151-']\n",
        "train_df['Fare/person bins'] = pd.cut(train_df['Fare/person'], fpp_bins, labels=fpp_labels)\n",
        "test_df['Fare/person bins'] = pd.cut(test_df['Fare/person'], fpp_bins, labels=fpp_labels)\n",
        "\n",
        "sns.factorplot(x='Fare/person bins', y='Survived', hue='Pclass', data=train_df, kind='bar', \n",
        "               size=3, aspect=2.5)"
      ]
    },
    {
      "cell_type": "code",
      "execution_count": null,
      "metadata": {
        "_cell_guid": "45bcd297-c680-4c48-4e8a-f52c644837ab"
      },
      "outputs": [],
      "source": [
        "train_df.info()"
      ]
    },
    {
      "cell_type": "markdown",
      "metadata": {
        "_cell_guid": "f3bb1443-8f7c-8219-a90a-c164843acd4c"
      },
      "source": [
        "### 3.7. Where you Embarked - and where you arrive...\n",
        "\n",
        "The **Embarked** column has 3 possible values, *S, C* and *Q*, that is, the embarkation happened either at Southampton (UK), Cherbourg (France) or Queenstown (UK). Let's have a look whether the point of embarkation made any difference between sink and swim in the wake of the calamity.\n",
        "\n",
        "First, we have to do some value imputation, since the value is missing by two passengers. It is a possibility to choose a random city, but we have another handle: **Fare**. Both of these single ladies travelled 1st class and bought their tickets for 80 $."
      ]
    },
    {
      "cell_type": "code",
      "execution_count": null,
      "metadata": {
        "_cell_guid": "67e9f884-88bc-db3e-dbf9-ef3838814e25"
      },
      "outputs": [],
      "source": [
        "train_df[train_df['Embarked'].isnull()]"
      ]
    },
    {
      "cell_type": "markdown",
      "metadata": {
        "_cell_guid": "46ae8150-8ba5-7adf-4bd4-26a691e1cc91"
      },
      "source": [
        "We can examine the **Fare** distribution of 1st class passengers who embarked from the different cities, and look for the median values - and use it as a point of comparison with the price paid by these two passengers."
      ]
    },
    {
      "cell_type": "code",
      "execution_count": null,
      "metadata": {
        "_cell_guid": "ac2bd8df-e1d5-43c0-df95-52fa530566eb"
      },
      "outputs": [],
      "source": [
        "median_S = train_df[(train_df['Embarked'] == 'S') &(train_df['Pclass'] == 1)]['Fare'].median()\n",
        "median_C = train_df[(train_df['Embarked'] == 'C') &(train_df['Pclass'] == 1)]['Fare'].median()\n",
        "median_Q = train_df[(train_df['Embarked'] == 'Q') &(train_df['Pclass'] == 1)]['Fare'].median()\n",
        "\n",
        "figure, (axis1, axis2, axis3) = plt.subplots(1, 3, figsize=(11, 3))\n",
        "sns.distplot(train_df[(train_df['Embarked'] == 'S') & (train_df['Pclass'] == 1)]['Fare'], ax=axis1)\n",
        "sns.distplot(train_df[(train_df['Embarked'] == 'C') & (train_df['Pclass'] == 1)]['Fare'], ax=axis2)\n",
        "fig=sns.distplot(train_df[(train_df['Embarked'] == 'Q') & (train_df['Pclass'] == 1)]['Fare'], ax=axis3)\n",
        "fig.set(xlim=(80, 100))\n",
        "\n",
        "axis1.set_title('Southampton; median: ' + str(median_S), fontsize = 11)\n",
        "axis2.set_title('Cherbourg; median: ' + str(median_C), fontsize = 11)\n",
        "axis3.set_title('Queenstown; median: ' + str(median_Q), fontsize = 11)"
      ]
    },
    {
      "cell_type": "markdown",
      "metadata": {
        "_cell_guid": "326f6447-3053-37f9-f103-a3128e307b65"
      },
      "source": [
        "Based on the above, we choose their **Embarked** value to be *C*, since their fare is closest to the median of that particular distribution, also like the two ladies, most 1st class passengers who got on the ship in Cherbourg got their cabins on deck B (as seen in the **Cabin** column)."
      ]
    },
    {
      "cell_type": "code",
      "execution_count": null,
      "metadata": {
        "_cell_guid": "7f474d8a-e484-296e-d6e4-14ce8a1f6878"
      },
      "outputs": [],
      "source": [
        "train_df.loc[train_df['Embarked'].isnull(), 'Embarked'] = 'C'"
      ]
    },
    {
      "cell_type": "markdown",
      "metadata": {
        "_cell_guid": "67956ca2-60c5-bef1-c3e4-86cef784abf5"
      },
      "source": [
        "Having a full list of values, let's visualise survival odds according to where the passengers embarked."
      ]
    },
    {
      "cell_type": "code",
      "execution_count": null,
      "metadata": {
        "_cell_guid": "54fbbb15-4e7b-40b8-382b-0a173951c4ba"
      },
      "outputs": [],
      "source": [
        "figure, (axis1, axis2) = plt.subplots(1, 2, figsize=(9, 3))\n",
        "\n",
        "sns.countplot(x='Embarked', hue='Survived', data=train_df, ax=axis1)\n",
        "sns.barplot(x='Embarked', y='Survived', data=train_df, ax=axis2)"
      ]
    },
    {
      "cell_type": "markdown",
      "metadata": {
        "_cell_guid": "adf0fc26-b9ea-60d2-dffb-28d35b59fc4e"
      },
      "source": [
        "Apparently, those who waited for the ship in Cherbourg had much higher odds to survive then the others."
      ]
    },
    {
      "cell_type": "markdown",
      "metadata": {
        "_cell_guid": "b0fc4826-dcc6-8a9f-622f-ac42ca453e64"
      },
      "source": [
        "### 3.8.  Feature: Age * Pclass\n",
        "\n",
        "As we see a correlation in both the age bins and passenger class with survival odds, it is a good idea to engineer a new parameter by multiplying them and binning the result."
      ]
    },
    {
      "cell_type": "code",
      "execution_count": null,
      "metadata": {
        "_cell_guid": "2a041e9a-f8f9-5295-50dc-676cc08650d4"
      },
      "outputs": [],
      "source": [
        "train_df['Age*Pclass'] = train_df['Age'] * train_df['Pclass']\n",
        "test_df['Age*Pclass'] = test_df['Age'] * test_df['Pclass']\n",
        "\n",
        "train_df['Age*Pclass bins'] = pd.qcut(train_df['Age*Pclass'], 6)\n",
        "\n",
        "\n",
        "\n",
        "test_df['Age*Pclass bins'] = pd.qcut(test_df['Age*Pclass'], 6)\n",
        "\n",
        "sns.factorplot(x='Age*Pclass bins', y='Survived', data = train_df, kind='bar', size=3, aspect=2.3)"
      ]
    },
    {
      "cell_type": "markdown",
      "metadata": {
        "_cell_guid": "17f06309-40e2-3394-c067-a9a89cc30289"
      },
      "source": [
        "### 3.9. Cabin and Ticket\n",
        "\n",
        "**Cabin** values carry important information about the cabin location (the deck is signified by the letter), however, there are just too many missing values. As for **Ticket**, it was helpful to resolve the confusion about the 0 **Fare** values, but otherwise I do not see its use at the moment. For these reasons, I will forego to include these two predictors in the model."
      ]
    },
    {
      "cell_type": "markdown",
      "metadata": {
        "_cell_guid": "a035f98d-cf5b-1ef5-80eb-c9f87777eb5b"
      },
      "source": [
        "## 4. Clean up and preparation for modelling\n",
        "\n",
        "Having extracted the data, we will now put it in a form that is convenient for machine learning. This means, basically, that we assign numerical values to the categorical variables so that in the end we have a spreadsheet containing only numbers."
      ]
    },
    {
      "cell_type": "code",
      "execution_count": null,
      "metadata": {
        "_cell_guid": "5234e351-6d88-b656-28c0-f7705f884537"
      },
      "outputs": [],
      "source": [
        "train_df.info()"
      ]
    },
    {
      "cell_type": "markdown",
      "metadata": {
        "_cell_guid": "66e16157-0d3e-0a27-d49c-59b0df79e64f"
      },
      "source": [
        "From this we can take the predictors we want to use in our model. We can start by taking just a few of them and then building it up from there. After the selection, we substitute the strings with numbers. Below, I have put both binned and non-binned values, so that one can play around assigning the one or the other to build the model on."
      ]
    },
    {
      "cell_type": "code",
      "execution_count": null,
      "metadata": {
        "_cell_guid": "b45a2113-353d-2feb-f56f-22adfa2cd368"
      },
      "outputs": [],
      "source": [
        "# Initialising the training and test data\n",
        "X_train = pd.DataFrame({'Sex': train_df['Sex']})\n",
        "\n",
        "Y_train = train_df['Survived']\n",
        "\n",
        "X_test = pd.DataFrame({'Sex': test_df['Sex']})  "
      ]
    },
    {
      "cell_type": "code",
      "execution_count": null,
      "metadata": {
        "_cell_guid": "b4fb6218-1de8-b338-874a-53e9a1e29a31"
      },
      "outputs": [],
      "source": [
        "# We numerise the string values for the analysis - not all possible variables are used, feel free to play around with them!\n",
        "\n",
        "# Sex:\n",
        "X_train['Sex'] = train_df['Sex'].map({'female' : 0, 'male' : 1}).astype(int)\n",
        "X_test['Sex'] = test_df['Sex'].map({'female' : 0, 'male' : 1}).astype(int)\n",
        "\n",
        "# Embarkation:\n",
        "X_train['Embarked'] = train_df['Embarked'].map({'S' : 0, 'Q' : 1, 'C' : 2}).astype(int)\n",
        "X_test['Embarked'] = test_df['Embarked'].map({'S' : 0, 'Q' : 1, 'C' : 2}).astype(int)\n",
        "\n",
        "# Title\n",
        "X_train['Title'] = train_df['Title'].map({'Mr':0, 'Master':1, 'Ms':2, 'Mrs':3, 'special':4, 'noble':5}).astype(int)\n",
        "X_test['Title'] = test_df['Title'].map({'Mr':0, 'Master':1, 'Ms':2, 'Mrs':3, 'special':4, 'noble':5}).astype(int)\n",
        "\n",
        "# Age:\n",
        "X_train['Age'] = train_df['Age']\n",
        "X_test['Age'] = test_df['Age']\n",
        "\n",
        "# new_labels = [label for label in range(len(age_labels))]\n",
        "# label_dict = dict(zip(age_labels, new_labels))\n",
        "\n",
        "# X_train['Age bins'] = train_df['Age bins'].map(label_dict).astype(int)\n",
        "# X_test['Age bins'] = test_df['Age bins'].map(label_dict).astype(int)\n",
        "\n",
        "\n",
        "# Family size:\n",
        "famsize_labels = list(train_df['FamSize'].unique())\n",
        "new_labels = [label for label in range(len(famsize_labels))]\n",
        "label_dict = dict(zip(famsize_labels, new_labels))\n",
        "\n",
        "X_train[ 'FamSize'] = train_df['FamSize'].map(label_dict).astype(int)\n",
        "X_test['FamSize'] = test_df['FamSize'].map(label_dict).astype(int)\n",
        "\n",
        "\n",
        "# Fare:\n",
        "X_train['Fare'] = train_df['Fare']\n",
        "X_test['Fare'] = test_df['Fare']\n",
        "\n",
        "# new_labels = [label for label in range(len(fare_labels))]\n",
        "# label_dict = dict(zip(fare_labels, new_labels))\n",
        "\n",
        "# X_train['Fare bins'] = train_df['Fare bins'].map(label_dict).astype(int)\n",
        "# X_test['Fare bins'] = test_df['Fare bins'].map(label_dict).astype(int)\n",
        "\n",
        "\n",
        "# Parch:\n",
        "X_train['Parch'] = train_df['Parch']\n",
        "X_test['Parch'] = test_df['Parch']\n",
        "\n",
        "\n",
        "# SibSp:\n",
        "X_train['SibSp'] = train_df['SibSp']\n",
        "X_test['SibSp'] = test_df['SibSp']\n",
        "\n",
        "\n",
        "# Fare/person:\n",
        "X_train['Fare/person'] = train_df['Fare/person']\n",
        "X_test['Fare/person'] = test_df['Fare/person']\n",
        "\n",
        "# new_labels = [label for label in range(len(fpp_labels))]\n",
        "# label_dict = dict(zip(fpp_labels, new_labels))\n",
        "\n",
        "# X_train['Fare/person bins'] = train_df['Fare/person bins'].map(label_dict).astype(int)\n",
        "# X_test['Fare/person bins'] = test_df['Fare/person bins'].map(label_dict).astype(int)\n",
        "\n",
        "\n",
        "# Age*Pclass:\n",
        "X_train['Age*Pclass'] = train_df['Age*Pclass']\n",
        "X_test['Age*Pclass'] = test_df['Age*Pclass']\n",
        "\n",
        "# apc_labels = list(train_df['Age*Pclass bins'].unique())\n",
        "# new_labels = [label for label in range(len(apc_labels))]\n",
        "# label_dict = dict(zip(apc_labels, new_labels))\n",
        "# X_train['Age*Pclass bins'] = train_df['Age*Pclass bins'].map(label_dict).astype(int)\n",
        "\n",
        "# apc_labels = list(test_df['Age*Pclass bins'].unique())\n",
        "# new_labels = [label for label in range(len(apc_labels))]\n",
        "# label_dict = dict(zip(apc_labels, new_labels))\n",
        "# X_test['Age*Pclass bins'] = test_df['Age*Pclass bins'].map(label_dict).astype(int)"
      ]
    },
    {
      "cell_type": "code",
      "execution_count": null,
      "metadata": {
        "_cell_guid": "d41e9679-63c4-7567-db9c-2056dce66c80"
      },
      "outputs": [],
      "source": [
        "X_train.head(2)"
      ]
    },
    {
      "cell_type": "markdown",
      "metadata": {
        "_cell_guid": "679680ae-fc1f-ff77-0ef3-813c97c81772"
      },
      "source": [
        "## 5. Training the model and prediction\n",
        "\n",
        "In order to construct and train our model, we will rely on the random forest classifier of the package *sklearn*. First, e create the arrays for fitting and testing."
      ]
    },
    {
      "cell_type": "code",
      "execution_count": null,
      "metadata": {
        "_cell_guid": "5ff062ca-3e91-8f33-9a23-113977795c71"
      },
      "outputs": [],
      "source": [
        "X_train_np = X_train.values\n",
        "Y_train_np = Y_train.values\n",
        "\n",
        "X_test_np = X_test.values"
      ]
    },
    {
      "cell_type": "markdown",
      "metadata": {
        "_cell_guid": "03c77366-6010-7040-f2d6-cee1e774ea29"
      },
      "source": [
        "### 5.1. Growing our forests\n",
        "\n",
        "We take the train data and the known outcomes (survived or not) and fit a set of decision trees on them."
      ]
    },
    {
      "cell_type": "code",
      "execution_count": null,
      "metadata": {
        "_cell_guid": "5841e52c-f0ae-563c-c5a9-8e509dbe594e"
      },
      "outputs": [],
      "source": [
        "random_forests = RandomForestClassifier(n_estimators=50)\n",
        "random_forests.fit(X_train_np, Y_train_np)"
      ]
    },
    {
      "cell_type": "markdown",
      "metadata": {
        "_cell_guid": "cf3188df-eecf-098e-3e36-bb8f80702e04"
      },
      "source": [
        "## 5.2. Prediction and predictor relevance\n",
        "\n",
        "So, how well have we done? "
      ]
    },
    {
      "cell_type": "code",
      "execution_count": null,
      "metadata": {
        "_cell_guid": "356f9361-34cd-ab28-d5d1-00ab4536330d"
      },
      "outputs": [],
      "source": [
        "Y_pred_np = random_forests.predict(X_test_np)\n",
        "random_forests.score(X_train_np, Y_train_np)"
      ]
    },
    {
      "cell_type": "markdown",
      "metadata": {
        "_cell_guid": "d794c840-8d8c-dbcf-cfd2-ff806e5c1bd7"
      },
      "source": [
        "OK, it seems that the model describes the train data quite well - of course, we do not yet have information about possible overfitting! Let us see how important our different features were, engineered or otherwise!"
      ]
    },
    {
      "cell_type": "code",
      "execution_count": null,
      "metadata": {
        "_cell_guid": "c87ddff4-9688-b43e-3bf3-0a8c81874894"
      },
      "outputs": [],
      "source": [
        "predictors = list(X_train.columns.values)\n",
        "relevance = list(random_forests.feature_importances_)\n",
        "\n",
        "# in order to sort them in descending relevance we combine, sort, then split it again into two lists\n",
        "combined_list = list(zip(predictors, relevance))\n",
        "sorted_list = sorted(combined_list, key=itemgetter(1), reverse=True)\n",
        "unzipped = list(zip(*sorted_list))\n",
        "\n",
        "predictors = list(unzipped[0])\n",
        "relevance = list(unzipped[1])\n",
        "\n",
        "# Plotting the predictor relevance\n",
        "predictor_relevance = pd.DataFrame({\n",
        "        'Predictors' : predictors,\n",
        "        'Relevance' : relevance\n",
        "    })\n",
        "\n",
        "\n",
        "# sns.set(font_scale=1.3)\n",
        "sns.set_style('whitegrid')\n",
        "sns.factorplot(x='Relevance', y='Predictors', data=predictor_relevance, \n",
        "               palette='GnBu_r', kind='bar', size=4, aspect=1.5)"
      ]
    },
    {
      "cell_type": "markdown",
      "metadata": {
        "_cell_guid": "c00bb6a0-a635-2daa-37ef-92d9d9351787"
      },
      "source": [
        "It is apparent that it was worth it to engineer those features! **Title** is among the most important ones (which is no wonder because it incorporates sex, social status and, to some extent, age), so is **Age\\*Pclass** and **Fare/person**.\n",
        "\n",
        "However, as is pointed out in the description of this challenge, the number of entries in this set is not large at all. That is why, in a single classification step, our fancy model yields a lower prediction accuracy than a simple model involving **Sex** and **Pclass**, for example. In order to predict the survival of the passengers in the test data with a high accuracy, making use of our engineered features, I will have to do some cross-validation! This is going to be the next step of the analysis."
      ]
    },
    {
      "cell_type": "code",
      "execution_count": null,
      "metadata": {
        "_cell_guid": "a7424834-cd58-a813-d9c4-0fd5b079cbd6"
      },
      "outputs": [],
      "source": [
        "# Creating the submission csv\n",
        "submission = pd.DataFrame({\n",
        "        'PassengerId' : test_df['PassengerId'],\n",
        "        'Survived' : Y_pred_np\n",
        "    })\n",
        "\n",
        "submission.to_csv('sinkorsurvive.csv', index=False)"
      ]
    },
    {
      "cell_type": "markdown",
      "metadata": {
        "_cell_guid": "0298edad-3dc4-7108-0283-85bc489f5d00"
      },
      "source": [
        "## 6. Summary - so far...\n",
        "\n",
        "During the course of this notebook I have explored the possible connections between existing and engineered features of the dataset and the survival of the passengers. As a result, we could see some intriguing implications of some of the features on surviving the disaster: gender, social standing, fare per capita and age were among the most important predictors. After munging the data, I used a tree-based model for prediction: the random forest classifier of the sklearn package. However, since the data is relatively small, a single iteration of model building is not enough: one has to do cross-validation which will help refine the accuracy of the predicions. This is the next stage in the work coming up soon - so stay tuned!"
      ]
    },
    {
      "cell_type": "code",
      "execution_count": null,
      "metadata": {
        "_cell_guid": "36256284-2992-95d2-8135-8bda5e66e575"
      },
      "outputs": [],
      "source": ""
    }
  ],
  "metadata": {
    "_change_revision": 0,
    "_is_fork": false,
    "kernelspec": {
      "display_name": "Python 3",
      "language": "python",
      "name": "python3"
    },
    "language_info": {
      "codemirror_mode": {
        "name": "ipython",
        "version": 3
      },
      "file_extension": ".py",
      "mimetype": "text/x-python",
      "name": "python",
      "nbconvert_exporter": "python",
      "pygments_lexer": "ipython3",
      "version": "3.5.2"
    }
  },
  "nbformat": 4,
  "nbformat_minor": 0
}