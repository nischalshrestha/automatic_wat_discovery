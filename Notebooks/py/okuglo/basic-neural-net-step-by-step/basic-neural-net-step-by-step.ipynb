{
  "cells": [
    {
      "cell_type": "markdown",
      "metadata": {
        "_cell_guid": "86e99e3b-fab1-fe64-bbee-0ee73d40a700"
      },
      "source": [
        "# Deep Learning survival\n",
        "\n",
        "\n",
        "\n",
        "My Idea for this Kernel was that I wanted to do an absolute minimum of Data analytics and preprocessing and to let a neural net do the heavy lifting.\n",
        "\n",
        "In this notebook you will find that I first did some basic preprocessing to prepare the data for the Model.\n",
        "\n",
        "I then built a neural net using Keras(3 Layers fully connected)\n",
        "\n",
        "The final Result is an accurancy around xx percent.\n",
        "\n",
        "At some points the code is not very efficient however I decided to focus on readability.\n",
        "\n",
        "This is my first go on a Kaggle project so I'm looking forward to your Feedback."
      ]
    },
    {
      "cell_type": "code",
      "execution_count": null,
      "metadata": {
        "_cell_guid": "9530f955-eb96-4106-cac9-cdceb7ed084b"
      },
      "outputs": [],
      "source": [
        "import numpy as np\n",
        "from sklearn.cross_validation import train_test_split\n",
        "import pandas as pd\n",
        "from sklearn import preprocessing"
      ]
    },
    {
      "cell_type": "code",
      "execution_count": null,
      "metadata": {
        "_cell_guid": "68afdba5-372d-029b-cee9-63fbff706cde"
      },
      "outputs": [],
      "source": [
        "#Loading the data\n",
        "train = pd.read_csv(\"../input/train.csv\")\n",
        "test = pd.read_csv(\"../input/test.csv\")"
      ]
    },
    {
      "cell_type": "markdown",
      "metadata": {
        "_cell_guid": "c22a64ae-65c2-dac1-d21e-2bb0d1e48dfa"
      },
      "source": [
        "# Preprocessing"
      ]
    },
    {
      "cell_type": "markdown",
      "metadata": {
        "_cell_guid": "b7708e48-65a0-dab1-d212-9295c7933f75"
      },
      "source": [
        "Lets first take a quick look:"
      ]
    },
    {
      "cell_type": "code",
      "execution_count": null,
      "metadata": {
        "_cell_guid": "026a6341-bb5f-17c0-2a2f-fb1e4ffcfa81"
      },
      "outputs": [],
      "source": [
        "train.head(5)"
      ]
    },
    {
      "cell_type": "markdown",
      "metadata": {
        "_cell_guid": "a3ed48fe-db4a-0c1d-a16a-fd963e9bd47d"
      },
      "source": [
        "So there are some values which do not seem critical for survival, so lets just drop these"
      ]
    },
    {
      "cell_type": "code",
      "execution_count": null,
      "metadata": {
        "_cell_guid": "cd0e9178-61ba-2c0a-124d-bcf9c1e57495",
        "collapsed": true
      },
      "outputs": [],
      "source": [
        "del train['Name']\n",
        "del train['Ticket']\n",
        "del train['Cabin']\n",
        "del train['PassengerId']"
      ]
    },
    {
      "cell_type": "markdown",
      "metadata": {
        "_cell_guid": "dc54fb20-8338-5b0a-9256-2bfbc8ba43d6"
      },
      "source": [
        "The same has to be done for test"
      ]
    },
    {
      "cell_type": "code",
      "execution_count": null,
      "metadata": {
        "_cell_guid": "c5e93058-7625-012c-f6e9-51b5f8ad1094",
        "collapsed": true
      },
      "outputs": [],
      "source": [
        "del test['Name']\n",
        "del test['Ticket']\n",
        "del test['Cabin']\n",
        "del test['PassengerId']"
      ]
    },
    {
      "cell_type": "code",
      "execution_count": null,
      "metadata": {
        "_cell_guid": "8208adbe-ae01-e175-b184-ee9b85e163de"
      },
      "outputs": [],
      "source": [
        "list(train)"
      ]
    },
    {
      "cell_type": "markdown",
      "metadata": {
        "_cell_guid": "f9ff7659-5ff5-a277-5c65-5e5c9fba2ebe"
      },
      "source": [
        "For Convenience I move the survive Column to the end"
      ]
    },
    {
      "cell_type": "code",
      "execution_count": null,
      "metadata": {
        "_cell_guid": "183c1c98-1d2c-a860-659e-baef56905b17",
        "collapsed": true
      },
      "outputs": [],
      "source": [
        "survive = train['Survived']\n",
        "train.drop(labels=['Survived'], axis=1,inplace = True)\n",
        "train.insert(7, 'Survived', survive)"
      ]
    },
    {
      "cell_type": "markdown",
      "metadata": {
        "_cell_guid": "ddd85930-f78c-c87a-0343-b0a4ee9107b2"
      },
      "source": [
        "There are some Colums which contain NaN values. This will hurt us later on so lets see which columns we have to clean up:"
      ]
    },
    {
      "cell_type": "code",
      "execution_count": null,
      "metadata": {
        "_cell_guid": "03aad8c2-9964-ef23-d031-8185948a78f4"
      },
      "outputs": [],
      "source": [
        "train.isnull().any()"
      ]
    },
    {
      "cell_type": "markdown",
      "metadata": {
        "_cell_guid": "9f575e32-eb5e-be73-faa8-d179989194d6"
      },
      "source": [
        "So lets just Repalce the nan Values with a placeholder"
      ]
    },
    {
      "cell_type": "code",
      "execution_count": null,
      "metadata": {
        "_cell_guid": "df1a646a-0ecb-0cc7-8ecd-b6ea71a1da37",
        "collapsed": true
      },
      "outputs": [],
      "source": [
        "#replaces NaN in embarked\n",
        "train[\"Embarked\"] = train[\"Embarked\"].fillna(\"N\")\n",
        "test[\"Fare\"] = test[\"Fare\"].fillna(\"N\")"
      ]
    },
    {
      "cell_type": "markdown",
      "metadata": {
        "_cell_guid": "e6d837d7-8e79-80f2-9df5-e58ac2ea0759"
      },
      "source": [
        "For the age I assume, that people with NaN values for age have the average age of the crew. So I calculate that and replace the values.\n",
        "\n",
        "Here i actually made an aussmtion, which is that people without age specification are probably passengers with cheap tickets or no right identification. So I assumed that they should be younger than the average.\n",
        "\n",
        "I tested this later on and found, that it does not amke a difference in model performance"
      ]
    },
    {
      "cell_type": "code",
      "execution_count": null,
      "metadata": {
        "_cell_guid": "6446ac8b-9dff-621b-340c-eec5fe22df09"
      },
      "outputs": [],
      "source": [
        "#Average Age\n",
        "av_age = train[\"Age\"]\n",
        "av_age = av_age.mean()\n",
        "#Age correction - 8 years\n",
        "av_age = av_age-8\n",
        "print(av_age)"
      ]
    },
    {
      "cell_type": "code",
      "execution_count": null,
      "metadata": {
        "_cell_guid": "9d2577e2-c9ba-241c-8364-41d19a2965b4",
        "collapsed": true
      },
      "outputs": [],
      "source": [
        "#Replace NaN with the average Age\n",
        "train[\"Age\"] = train[\"Age\"].fillna(av_age)\n",
        "test[\"Age\"] = test[\"Age\"].fillna(av_age)\n",
        "test=test.fillna(0)"
      ]
    },
    {
      "cell_type": "markdown",
      "metadata": {
        "_cell_guid": "6c24fa19-b750-af4f-ab92-3529a231e19a"
      },
      "source": [
        "As a next step I replace alle the strings. As the neural net can only accept numbers"
      ]
    },
    {
      "cell_type": "code",
      "execution_count": null,
      "metadata": {
        "_cell_guid": "cb9c2773-2ba5-cd49-f8b3-b83ffafa52a3",
        "collapsed": true
      },
      "outputs": [],
      "source": [
        "#maps sex\n",
        "train['Sex'] = train['Sex'].map({'female': 1, 'male': 0})\n",
        "test['Sex'] = test['Sex'].map({'female': 1, 'male': 0})\n",
        "\n",
        "#maps embarked\n",
        "train['Embarked'] = train['Embarked'].map({'S': 0, 'C': 1,'Q': 2, 'N':3})\n",
        "test['Embarked'] = test['Embarked'].map({'S': 0, 'C': 1,'Q': 2, 'N':3})"
      ]
    },
    {
      "cell_type": "markdown",
      "metadata": {
        "_cell_guid": "f54f627a-c666-4a05-7c72-bfd455b65157"
      },
      "source": [
        "So lets's take a look at the resuls:"
      ]
    },
    {
      "cell_type": "code",
      "execution_count": null,
      "metadata": {
        "_cell_guid": "cadfef1f-6280-26d6-ad72-ed8592fade5b"
      },
      "outputs": [],
      "source": [
        "train.head(10)"
      ]
    },
    {
      "cell_type": "code",
      "execution_count": null,
      "metadata": {
        "_cell_guid": "f0dd66cc-6874-e5c3-2a9e-b32d62cd26aa"
      },
      "outputs": [],
      "source": [
        "test.head(10)"
      ]
    },
    {
      "cell_type": "markdown",
      "metadata": {
        "_cell_guid": "0b30ee7f-8991-d3cb-d256-9f9f6dd59ce1"
      },
      "source": [
        "When running the code I found that there was a string left somewhere in the test data. Here I'm correcting this"
      ]
    },
    {
      "cell_type": "code",
      "execution_count": null,
      "metadata": {
        "_cell_guid": "6e735c70-c42f-5050-8618-1139b59036e9"
      },
      "outputs": [],
      "source": [
        "from ipykernel import kernelapp as app\n",
        "\n",
        "test.columns = range(test.shape[1])\n",
        "train.columns = range(train.shape[1])\n",
        "test_norm=test\n",
        "train_norm=train\n",
        "test_norm = test.convert_objects(convert_numeric=True)\n",
        "train_norm = train.convert_objects(convert_numeric=True)"
      ]
    },
    {
      "cell_type": "markdown",
      "metadata": {
        "_cell_guid": "290ee230-b298-8bb9-2dc9-b1be802ed948"
      },
      "source": [
        "As a next step I'm converting the dataframes to numpy, which is the expected format of Keras"
      ]
    },
    {
      "cell_type": "code",
      "execution_count": null,
      "metadata": {
        "_cell_guid": "08e85416-aebc-6733-4adc-88970a3712b8"
      },
      "outputs": [],
      "source": [
        "#pandas to numpy\n",
        "trainnum = train_norm.as_matrix([0,1,2,3,4,5,6])\n",
        "testnum = test_norm.as_matrix([0,1,2,3,4,5,6])\n",
        "\n",
        "labels = train_norm.as_matrix([7])\n",
        "#make printing numpy pretty\n",
        "np.set_printoptions(precision=3)"
      ]
    },
    {
      "cell_type": "markdown",
      "metadata": {
        "_cell_guid": "a795aff2-c4ad-5899-e4f7-702cb224e205"
      },
      "source": [
        "# Normalization\n",
        "This step is optional and the model still funtions if it is removed. However it has increased the models Performance by 4% during my testing. This does make sense. Because Higher Values mean that the impact on the model is higher. This means that without Normalization the Age has a much bigger impact than gender. Normalization helps the model to put things in the right perspective."
      ]
    },
    {
      "cell_type": "code",
      "execution_count": null,
      "metadata": {
        "_cell_guid": "c855c52a-2916-c38e-a458-658a785af378"
      },
      "outputs": [],
      "source": [
        "min_max_scaler = preprocessing.MinMaxScaler()\n",
        "trainnum_norm = min_max_scaler.fit_transform(trainnum)"
      ]
    },
    {
      "cell_type": "code",
      "execution_count": null,
      "metadata": {
        "_cell_guid": "d1d13ab9-77e4-e0ee-8755-9f3831582dde"
      },
      "outputs": [],
      "source": [
        "trainnum_norm [3]"
      ]
    },
    {
      "cell_type": "code",
      "execution_count": null,
      "metadata": {
        "_cell_guid": "6f465432-7d93-b0e7-d427-aa6483c18e09"
      },
      "outputs": [],
      "source": [
        "testnum = np.nan_to_num(testnum)"
      ]
    },
    {
      "cell_type": "code",
      "execution_count": null,
      "metadata": {
        "_cell_guid": "451861dc-c4b0-a9ed-a800-013dae272507"
      },
      "outputs": [],
      "source": [
        "min_max_scaler2 = preprocessing.MinMaxScaler()\n",
        "testnum_norm = min_max_scaler2.fit_transform(testnum)"
      ]
    },
    {
      "cell_type": "code",
      "execution_count": null,
      "metadata": {
        "_cell_guid": "4597f2b5-bcd6-ed95-6ef4-b8f51417abe8"
      },
      "outputs": [],
      "source": [
        "testnum_norm[3]"
      ]
    },
    {
      "cell_type": "markdown",
      "metadata": {
        "_cell_guid": "f8bf050a-8480-1878-2a8a-f9084b676ac0"
      },
      "source": [
        "# Let the learning begin!"
      ]
    },
    {
      "cell_type": "code",
      "execution_count": null,
      "metadata": {
        "_cell_guid": "509442b6-8320-c883-4b80-62db12479cf9"
      },
      "outputs": [],
      "source": [
        "import tensorflow as tf\n",
        "import keras    "
      ]
    },
    {
      "cell_type": "code",
      "execution_count": null,
      "metadata": {
        "_cell_guid": "87155c15-b663-0ec5-9782-1e16632127b7",
        "collapsed": true
      },
      "outputs": [],
      "source": [
        "from keras.models import Sequential"
      ]
    },
    {
      "cell_type": "code",
      "execution_count": null,
      "metadata": {
        "_cell_guid": "96c3a556-37b9-9e85-6f12-d8a6713cf33a"
      },
      "outputs": [],
      "source": [
        "np.broadcast(trainnum_norm).shape"
      ]
    },
    {
      "cell_type": "markdown",
      "metadata": {
        "_cell_guid": "48c76711-311f-e5a7-3fae-2e97110e4cd8"
      },
      "source": [
        "This is where the model is defined. I decided to go for 3 Layers. "
      ]
    },
    {
      "cell_type": "code",
      "execution_count": null,
      "metadata": {
        "_cell_guid": "dd4e3b31-b9f8-b156-f8bc-66b55b2931c0"
      },
      "outputs": [],
      "source": [
        "from keras.layers import Dense, Activation, Dropout\n",
        "\n",
        "model = Sequential()\n",
        "model.add(Dense(units=6240, input_dim=7))\n",
        "model.add(Activation('relu'))\n",
        "model.add(Dropout(0.5))\n",
        "\n",
        "model.add(Dense(units=3000))\n",
        "model.add(Activation('tanh'))\n",
        "model.add(Dropout(0.5))\n",
        "\n",
        "model.add(Dense(units=128))\n",
        "model.add(Activation('tanh'))\n",
        "model.add(Dropout(0.5))\n",
        "\n",
        "model.add(Dense(units=1))\n",
        "model.add(Activation('sigmoid'))"
      ]
    },
    {
      "cell_type": "markdown",
      "metadata": {
        "_cell_guid": "690a0d12-f09a-eb6c-229c-f28baeb0de51"
      },
      "source": [
        "This is where the Hyperparameters are set. I'm using a fairly low learning rate, as the model learns pretty quickly anyway. "
      ]
    },
    {
      "cell_type": "code",
      "execution_count": null,
      "metadata": {
        "_cell_guid": "3b1bd40a-cf6d-2a72-c688-a5a4811153ef"
      },
      "outputs": [],
      "source": [
        "from keras import optimizers\n",
        "\n",
        "opt=keras.optimizers.Adam(lr=0.00005, beta_1=0.9, beta_2=0.999, epsilon=1e-08, decay=0)\n",
        "\n",
        "model.compile(loss='binary_crossentropy',\n",
        "              optimizer=opt,\n",
        "              metrics=['accuracy'])"
      ]
    },
    {
      "cell_type": "markdown",
      "metadata": {
        "_cell_guid": "c850b8b9-59db-9bfa-fda6-db780f2906c7"
      },
      "source": [
        "This is where the training happens. During my experimentation I found taht roughly 100 epochs do lead to convergence. However for a final run I've increased the number of epochs. During parameter optimization I've held back 10% of the data for Validation. However for the final run I've used all of the data."
      ]
    },
    {
      "cell_type": "markdown",
      "metadata": {
        "_cell_guid": "d744ab06-db41-c0e7-ed8f-586c49708af4"
      },
      "source": [
        "Batch size is another highly relevant parameter. Huge batch sizes make model a bit more robust, while small sizes make the results better. However this can lead to overfitting. I found 25 to be a good compromise"
      ]
    },
    {
      "cell_type": "code",
      "execution_count": null,
      "metadata": {
        "_cell_guid": "96dd42a9-195c-fd7a-cd20-dc235c6eb854"
      },
      "outputs": [],
      "source": [
        "model.fit(trainnum_norm, labels, epochs=25, batch_size=25, validation_split=0.1)\n",
        "\n",
        "scores = model.evaluate(trainnum_norm, labels)\n",
        "print(\"\\n%s: %.2f%%\" % (model.metrics_names[1], scores[1]*100))"
      ]
    },
    {
      "cell_type": "markdown",
      "metadata": {
        "_cell_guid": "c583d05d-a1cb-2eb6-2d50-2f14fc577a2d"
      },
      "source": [
        "The next step is the prediction"
      ]
    },
    {
      "cell_type": "code",
      "execution_count": null,
      "metadata": {
        "_cell_guid": "22a2163a-2f69-2129-dfe1-2b217eac7a80"
      },
      "outputs": [],
      "source": [
        "survival = model.predict(testnum_norm, verbose=1)"
      ]
    },
    {
      "cell_type": "markdown",
      "metadata": {
        "_cell_guid": "d1143e1c-09b1-fef3-f749-399d25cc6004"
      },
      "source": [
        "Here I am reshaping the data to gereate the right output for Kaggle"
      ]
    },
    {
      "cell_type": "code",
      "execution_count": null,
      "metadata": {
        "_cell_guid": "ee9c4a6e-9d35-72d3-7ddc-d9941e0bbac8"
      },
      "outputs": [],
      "source": [
        "\n",
        "survived = (survival + 0.5 ).astype(\"int\")\n",
        "ids = np.asarray(list(range(892,1310)))\n",
        "\n",
        "survive = survived.reshape(418) \n",
        "\n",
        "output = pd.DataFrame({ 'PassengerId' : ids,  'Survived': survive }, index =(range(891,1309)) )"
      ]
    },
    {
      "cell_type": "code",
      "execution_count": null,
      "metadata": {
        "_cell_guid": "0a8a812d-65ca-3a73-a9c7-4c71c163ae19"
      },
      "outputs": [],
      "source": [
        "output.head(8)"
      ]
    },
    {
      "cell_type": "code",
      "execution_count": null,
      "metadata": {
        "_cell_guid": "505d6bc6-3f71-ba68-c82f-a4935a398074"
      },
      "outputs": [],
      "source": [
        "output.to_csv('../working/submission.csv', index=False)"
      ]
    },
    {
      "cell_type": "code",
      "execution_count": null,
      "metadata": {
        "_cell_guid": "cac3258a-805d-a8fb-6f44-b6e22139f45b"
      },
      "outputs": [],
      "source": [
        ""
      ]
    }
  ],
  "metadata": {
    "_change_revision": 0,
    "_is_fork": false,
    "kernelspec": {
      "display_name": "Python 3",
      "language": "python",
      "name": "python3"
    },
    "language_info": {
      "codemirror_mode": {
        "name": "ipython",
        "version": 3
      },
      "file_extension": ".py",
      "mimetype": "text/x-python",
      "name": "python",
      "nbconvert_exporter": "python",
      "pygments_lexer": "ipython3",
      "version": "3.6.0"
    }
  },
  "nbformat": 4,
  "nbformat_minor": 0
}