{
  "cells": [
    {
      "cell_type": "markdown",
      "metadata": {
        "_cell_guid": "e95520bd-d650-b592-cdf3-546886025add"
      },
      "source": [
        "# Introduction\n",
        "\n",
        " 1. [Very Quick Summary](##very-quick-summary)\n",
        " 2. [Survival Relationships](##survival-relationships)\n",
        " 2. [Missing Values](##missing-values)\n",
        " 2. [Feature Engineering](##feature-engineering)\n",
        " 2. [Predicting](##predicting)\n",
        "\n",
        "## Very Quick Summary"
      ]
    },
    {
      "cell_type": "code",
      "execution_count": null,
      "metadata": {
        "_cell_guid": "37b84af7-757c-8c2f-18c6-0294ea987a4a"
      },
      "outputs": [],
      "source": [
        "library(ggplot2)\n",
        "library(dplyr,warn.conflicts = FALSE)\n",
        "library(formattable,warn.conflicts = FALSE)\n",
        "\n",
        "tr = read.csv(\"../input/train.csv\")\n",
        "pr = read.csv(\"../input/test.csv\")\n",
        "\n",
        "#formattable(summary(tr))"
      ]
    },
    {
      "cell_type": "markdown",
      "metadata": {
        "_cell_guid": "132285e8-6a4b-8eec-a7e6-baf762f5837c"
      },
      "source": [
        "Display the top lines. Gives us another perspective. It will probably be hard to get something out of:\n",
        "\n",
        " - Cabin: it look like there are a lot of null values\n",
        " - Tickets: the string pattern/meaning will be hard to transform into value"
      ]
    },
    {
      "cell_type": "code",
      "execution_count": null,
      "metadata": {
        "_cell_guid": "ac319050-9a7e-f686-9363-68bc44d15272"
      },
      "outputs": [],
      "source": [
        "formattable(head(tr,100))"
      ]
    },
    {
      "cell_type": "markdown",
      "metadata": {
        "_cell_guid": "5517e4ba-7f7a-e671-a866-7b58e9e0fe73"
      },
      "source": [
        "## Survival Relationships\n",
        "\n",
        "Check the relationship between every variables and survivability.\n",
        "\n",
        "### Pclass\n",
        "\n",
        "There are very few class categories, but the survivability ratio between the three of them is very clear."
      ]
    },
    {
      "cell_type": "code",
      "execution_count": null,
      "metadata": {
        "_cell_guid": "4f96b625-75d1-3a24-9bef-497eba2556a2"
      },
      "outputs": [],
      "source": [
        "trPclass <- tr %>% group_by(Pclass) %>% summarize(cnt=n(),surv=mean(Survived)) %>% arrange(-surv) %>% as.data.frame()\n",
        "formattable(trPclass)"
      ]
    },
    {
      "cell_type": "markdown",
      "metadata": {
        "_cell_guid": "1497de70-d843-eb17-b275-8ceaa17d1171"
      },
      "source": [
        "### Sex\n",
        "\n",
        "Note that there are almost two males for one female. Female has a much better chance of survival."
      ]
    },
    {
      "cell_type": "code",
      "execution_count": null,
      "metadata": {
        "_cell_guid": "a4bcaf3c-25ef-c400-5d5a-c48ef524bb2b"
      },
      "outputs": [],
      "source": [
        "trSex <- tr %>% group_by(Sex) %>% summarize(cnt=n(),surv=mean(Survived)) %>% arrange(-surv) %>% as.data.frame()\n",
        "formattable(trSex)\n",
        "\n"
      ]
    },
    {
      "cell_type": "markdown",
      "metadata": {
        "_cell_guid": "c32eb8ff-b9ba-6370-ba65-051ecda159ef"
      },
      "source": [
        "### Age\n",
        "\n",
        "We have 177 age null values, we will need to take care of at a later stage. Let's just look into the distribution here.\n",
        "\n",
        "The age is probably not very predictive as there are no clear relationship between the two variables. We will know more about predictability when we run the model."
      ]
    },
    {
      "cell_type": "code",
      "execution_count": null,
      "metadata": {
        "_cell_guid": "548b882c-282e-aa62-4154-e942d9bc76cc"
      },
      "outputs": [],
      "source": [
        "ggplot(subset(tr,!is.na(Age)), aes(x = Age, fill = factor(Survived))) + geom_histogram(bins=15,position = 'dodge')\n",
        "\n"
      ]
    },
    {
      "cell_type": "markdown",
      "metadata": {
        "_cell_guid": "0390bc1a-b558-dbf1-659e-622fb39141b3"
      },
      "source": [
        "### Siblings\n",
        "\n",
        " - Having siblings do improve your chances of survival"
      ]
    },
    {
      "cell_type": "code",
      "execution_count": null,
      "metadata": {
        "_cell_guid": "d03d6f73-c967-1446-a312-a892bfd747c1"
      },
      "outputs": [],
      "source": [
        "ggplot(tr, aes(x = SibSp, fill = factor(Survived))) + geom_bar(position='dodge')"
      ]
    },
    {
      "cell_type": "markdown",
      "metadata": {
        "_cell_guid": "17f5f271-a133-671a-f4f7-b3c881259379"
      },
      "source": [
        "### Parents/Children\n",
        "\n",
        "Small families do have a better chance of survival."
      ]
    },
    {
      "cell_type": "code",
      "execution_count": null,
      "metadata": {
        "_cell_guid": "a350dc1e-2c93-3461-4039-8c7fd03bd036"
      },
      "outputs": [],
      "source": [
        "ggplot(tr, aes(x = Parch, fill = factor(Survived))) + geom_bar(position='dodge')"
      ]
    },
    {
      "cell_type": "markdown",
      "metadata": {
        "_cell_guid": "3d24d422-6233-83dd-67c9-c2b2cfc59710"
      },
      "source": [
        "### Fare\n",
        "\n",
        "We can note a slight increase of survivability when the ticket fare increases. However as most of the tickets have been bought at a low price, this will just help us a little."
      ]
    },
    {
      "cell_type": "code",
      "execution_count": null,
      "metadata": {
        "_cell_guid": "a26edfcd-5d7c-ff8c-9104-fa87d53ef107"
      },
      "outputs": [],
      "source": [
        "ggplot(tr, aes(x = Fare, fill = factor(Survived))) + geom_histogram(bins=15,position='dodge')"
      ]
    },
    {
      "cell_type": "markdown",
      "metadata": {
        "_cell_guid": "bfde93c6-3951-ffdd-b093-757e9907058b"
      },
      "source": [
        "### Embarked\n",
        "\n",
        "Only three significant categories and 20% of our population can be classified with a higher chance of survival.\n",
        "We have two missing values."
      ]
    },
    {
      "cell_type": "code",
      "execution_count": null,
      "metadata": {
        "_cell_guid": "7b6aa86f-bed2-f364-b74c-87ef6d587ee4"
      },
      "outputs": [],
      "source": [
        "trEmbarked <- tr %>% group_by(Embarked) %>% summarize(cnt=n(),surv=mean(Survived)) %>% arrange(-surv) %>% as.data.frame()\n",
        "formattable(trEmbarked)"
      ]
    },
    {
      "cell_type": "markdown",
      "metadata": {
        "_cell_guid": "0345639a-a0e6-e2e0-40e0-f884089cf18f"
      },
      "source": [
        "## Feature Enginnering\n",
        "\n",
        "We've just looked into the raw data. Let's see if we can enrich it with the other string columns.\n",
        "\n",
        "###Name\n",
        "\n",
        "Name is a string variable. String variables can be rich, but they should be transformed to categorical or -even better- numerical variables to be useful.\n",
        "\n",
        "From our first lines, we can deduce everyone's title is between a comma and a dot. Let's extract this first and see."
      ]
    },
    {
      "cell_type": "code",
      "execution_count": null,
      "metadata": {
        "_cell_guid": "54c4b7f9-6e0c-8777-ad53-68989796d63e"
      },
      "outputs": [],
      "source": [
        "tr$title <- gsub('(.*, )|(\\\\..*)', '', tr$Name)\n",
        "tr$title[tr$title == \"Ms\"] <- \"Miss\"\n",
        "tr$title[tr$title == \"Mlle\"] <- \"Miss\"\n",
        "tr$title[!tr$title %in% c(\"Miss\",\"Mrs\",\"Mr\")] <- \"Other\"\n",
        "\n",
        "trTitle <- tr %>% group_by(title) %>% summarize(cnt=n(),surv=mean(Survived)) %>% arrange(-surv) %>% as.data.frame()\n",
        "formattable(trTitle)"
      ]
    },
    {
      "cell_type": "markdown",
      "metadata": {
        "_cell_guid": "1caf86c4-1a1e-df7e-5dc5-7f3babc1f747"
      },
      "source": [
        "### Cabin\n",
        "\n",
        "As mentioned earlier, Cabin is probably a column hard to get any value from due to the null values. Let's just count.\n",
        "Well maybe, we were a bit quick in our judgement. The numbers of non-null values are small, but it seems that it could have some predictive potential."
      ]
    },
    {
      "cell_type": "code",
      "execution_count": null,
      "metadata": {
        "_cell_guid": "80c06da7-eca0-6816-889d-798b30f00ad1"
      },
      "outputs": [],
      "source": [
        "tr$cabinCharCnt <- sapply(tr$Cabin,function(x) nchar(as.character(x))> 0)\n",
        "trCabin <- tr %>% group_by(cabinCharCnt) %>% summarize(cnt=n(),surv=mean(Survived)) %>% arrange(-cnt) %>% as.data.frame()\n",
        "formattable(trCabin)\n"
      ]
    },
    {
      "cell_type": "markdown",
      "metadata": {
        "_cell_guid": "5c2998c2-0c86-b8f1-a55a-620ce88e383e"
      },
      "source": [
        "### Tickets\n",
        "\n",
        "Tickets are quite hard to figure out. We will just make an attempt to remove the numbers and see what we get.\n",
        "With 660 without any value and nothing clear out of the other tiny categories, we will just give up on this field."
      ]
    },
    {
      "cell_type": "code",
      "execution_count": null,
      "metadata": {
        "_cell_guid": "4f24c123-aea9-779c-7f56-858c3fc54931"
      },
      "outputs": [],
      "source": [
        "tr$ticketsCnt <- sapply(tr$Ticket,function(x) nchar(as.character(x)))\n",
        "#Count number of character in tickets\n",
        "#trTickets <- tr %>% group_by(ticketsCnt) %>% summarize(cnt=n(),surv=mean(Survived)) %>% arrange(-cnt) %>% as.data.frame()\n",
        "    \n",
        "#Remove digits\n",
        "tr$ticketLetter <- gsub('[0-9/\\\\.]+', '', toupper(tr$Ticket))\n",
        "trTickets <- tr %>% group_by(ticketLetter) %>% summarize(cnt=n(),surv=mean(Survived)) %>% arrange(-cnt) %>% as.data.frame()\n",
        "formattable(trTickets)\n",
        "    "
      ]
    },
    {
      "cell_type": "markdown",
      "metadata": {
        "_cell_guid": "f85023fe-1e86-de87-941d-31a3be25eee7"
      },
      "source": [
        "## Missing Values\n",
        "\n",
        "### Embarked"
      ]
    },
    {
      "cell_type": "code",
      "execution_count": null,
      "metadata": {
        "_cell_guid": "3455ba05-5b18-d894-75b5-9e80e47b41e5"
      },
      "outputs": [],
      "source": [
        "formattable(subset(tr,nchar(as.character(Embarked)) == 0))"
      ]
    },
    {
      "cell_type": "code",
      "execution_count": null,
      "metadata": {
        "_cell_guid": "39af5462-d40e-3f8b-978a-00519c692409"
      },
      "outputs": [],
      "source": [
        "library(rpart)\n",
        "\n",
        "class_emb_mod <- rpart(Embarked ~ ., data=subset(tr,nchar(as.character(Embarked)) > 0), method=\"class\", na.action=na.omit) \n",
        "emb_pred <- predict(class_emb_mod, subset(tr,nchar(as.character(Embarked)) == 0))"
      ]
    },
    {
      "cell_type": "markdown",
      "metadata": {
        "_cell_guid": "17f2e769-36df-eb73-f8fc-a8beef0779b4"
      },
      "source": [
        "### Age"
      ]
    },
    {
      "cell_type": "code",
      "execution_count": null,
      "metadata": {
        "_cell_guid": "8014482c-a75d-d9b9-29cc-2e3fe8cc805b"
      },
      "outputs": [],
      "source": [
        "formattable(head(subset(tr,is.na(Age))))"
      ]
    },
    {
      "cell_type": "code",
      "execution_count": null,
      "metadata": {
        "_cell_guid": "70140421-9625-65ef-4d10-690ff52f0a9a"
      },
      "outputs": [],
      "source": [
        "library(mice)\n",
        "# perform mice imputation, based on random forests\n",
        "miceMod <- mice(tr, method=\"rf\") \n",
        "# generate the completed data\n",
        "miceOutput <- complete(miceMod)  \n",
        "anyNA(miceOutput)"
      ]
    },
    {
      "cell_type": "markdown",
      "metadata": {
        "_cell_guid": "51aef7bc-d578-d87b-bac6-97f9115934f4"
      },
      "source": [
        "## Predicting"
      ]
    },
    {
      "cell_type": "markdown",
      "metadata": {
        "_cell_guid": "d78096ab-448f-cdc6-4ba6-664c485c1d19"
      },
      "source": [
        "### Random Forest"
      ]
    },
    {
      "cell_type": "code",
      "execution_count": null,
      "metadata": {
        "_cell_guid": "54aa10ab-b515-13f9-f144-d9347a38cabc"
      },
      "outputs": [],
      "source": [
        "library(randomForest)"
      ]
    },
    {
      "cell_type": "markdown",
      "metadata": {
        "_cell_guid": "05c03724-066b-2f1e-7d2c-f3ccc0b6919b"
      },
      "source": [
        "### Boost"
      ]
    },
    {
      "cell_type": "code",
      "execution_count": null,
      "metadata": {
        "_cell_guid": "b9d9f092-0fa8-6789-08b1-cb4f351a4763"
      },
      "outputs": [],
      "source": [
        "null"
      ]
    }
  ],
  "metadata": {
    "_change_revision": 0,
    "_is_fork": false,
    "kernelspec": {
      "display_name": "Python 3",
      "language": "python",
      "name": "python3"
    },
    "language_info": {
      "codemirror_mode": {
        "name": "ipython",
        "version": 3
      },
      "file_extension": ".py",
      "mimetype": "text/x-python",
      "name": "python",
      "nbconvert_exporter": "python",
      "pygments_lexer": "ipython3",
      "version": "3.6.0"
    }
  },
  "nbformat": 4,
  "nbformat_minor": 0
}