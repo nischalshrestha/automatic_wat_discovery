{
  "cells": [
    {
      "cell_type": "markdown",
      "metadata": {
        "_cell_guid": "fbca6081-8089-ae0d-f10a-8efc2b1a1713"
      },
      "source": [
        "In this notebook, I will explore the Titanic dataset as well as review a couple of statistics techniques in R.\n",
        "\n",
        "# Introduction\n",
        "\n",
        " 1. [Very Quick Summary](##very-quick-summary)\n",
        " 2. [Survival Relationships](##survival-relationships)\n",
        " 3. [Missing Values](##missing-values)\n",
        " 4. [Feature Engineering](##feature-engineering)\n",
        " 5. [Predicting](##predicting)\n",
        "\n",
        "## Very Quick Summary\n",
        "\n",
        "We will start our analysis by loading a couple of useful libraries and get a quick grasp of the data we've just loaded."
      ]
    },
    {
      "cell_type": "code",
      "execution_count": null,
      "metadata": {
        "_cell_guid": "5d055093-318d-b620-709e-82e7242d4422"
      },
      "outputs": [],
      "source": [
        "library(ggplot2)\n",
        "library(dplyr,warn.conflicts = FALSE)\n",
        "library(formattable,warn.conflicts = FALSE)\n",
        "\n",
        "tr = read.csv(\"../input/train.csv\")\n",
        "pr = read.csv(\"../input/test.csv\")\n",
        "pr$Survived <- NA\n",
        "mergedData <- rbind(tr,pr)\n",
        "\n",
        "formattable(summary(tr))"
      ]
    },
    {
      "cell_type": "markdown",
      "metadata": {
        "_cell_guid": "a99ea972-58aa-c34f-8a96-cddf4eae3650"
      },
      "source": [
        "Display the top lines. Gives us another perspective. It will probably be hard to get something out of:\n",
        "\n",
        " - Cabin: it look like there are a lot of null values\n",
        " - Tickets: the string pattern/meaning will be hard to transform into value"
      ]
    },
    {
      "cell_type": "code",
      "execution_count": null,
      "metadata": {
        "_cell_guid": "d79eb99a-025a-13cc-4bc3-d75f863cac78"
      },
      "outputs": [],
      "source": [
        "formattable(head(tr,100))"
      ]
    },
    {
      "cell_type": "markdown",
      "metadata": {
        "_cell_guid": "f8a2cc2d-c13b-f04c-fd1c-f8f158a40212"
      },
      "source": [
        "## Survival Relationships\n",
        "\n",
        "Check the relationship between every variables and survivability.\n",
        "\n",
        "### Pclass\n",
        "\n",
        "There are very few class categories, but the survivability ratio between the three of them is very clear."
      ]
    },
    {
      "cell_type": "code",
      "execution_count": null,
      "metadata": {
        "_cell_guid": "dd459f86-d354-7948-444f-68f33c7ee1cb"
      },
      "outputs": [],
      "source": [
        "trPclass <- tr %>% group_by(Pclass) %>% summarize(cnt=n(),surv=mean(Survived)) %>% arrange(-surv) %>% as.data.frame()\n",
        "formattable(trPclass)"
      ]
    },
    {
      "cell_type": "markdown",
      "metadata": {
        "_cell_guid": "665d200f-6e87-3ca6-01a7-05c0ccd22b46"
      },
      "source": [
        "### Sex\n",
        "\n",
        "Note that there are almost two males for one female. Female has a much better chance of survival."
      ]
    },
    {
      "cell_type": "code",
      "execution_count": null,
      "metadata": {
        "_cell_guid": "2a8fe1ac-9675-4af0-15ac-08da80b29459"
      },
      "outputs": [],
      "source": [
        "trSex <- tr %>% group_by(Sex) %>% summarize(cnt=n(),surv=mean(Survived)) %>% arrange(-surv) %>% as.data.frame()\n",
        "formattable(trSex)\n",
        "\n"
      ]
    },
    {
      "cell_type": "markdown",
      "metadata": {
        "_cell_guid": "1b70d445-148f-ddaa-9b24-7675a7ae3b3b"
      },
      "source": [
        "### Age\n",
        "\n",
        "We have 177 age null values, we will need to take care of at a later stage. Let's just look into the distribution here.\n",
        "\n",
        "The age is probably not very predictive as there are no clear relationship between the two variables. We will know more about predictability when we run the model."
      ]
    },
    {
      "cell_type": "code",
      "execution_count": null,
      "metadata": {
        "_cell_guid": "f02d2946-a359-c7c6-63f9-dc5c17323f78"
      },
      "outputs": [],
      "source": [
        "ggplot(subset(tr,!is.na(Age)), aes(x = Age, fill = factor(Survived))) + geom_histogram(bins=15,position = 'dodge')\n",
        "\n"
      ]
    },
    {
      "cell_type": "markdown",
      "metadata": {
        "_cell_guid": "dc9a43ab-71a9-c729-a3eb-535a29711e6f"
      },
      "source": [
        "### Siblings\n",
        "\n",
        " - Having siblings do improve your chances of survival"
      ]
    },
    {
      "cell_type": "code",
      "execution_count": null,
      "metadata": {
        "_cell_guid": "a5f88d96-461a-0a52-7063-940e6675dcb3"
      },
      "outputs": [],
      "source": [
        "#library(ggvis)\n",
        "\n",
        "#on_hover <- function(x) {\n",
        "#  if(is.null(x)) return(NULL)\n",
        "#  mgi_symbol <- x\n",
        "#  mgi_symbol\n",
        "#}\n",
        "#ggvis(tr,props(x = ~SibSp, y = ~Survived, y2 = 0)) +  mark_rect(props(width := 10))\n",
        "\n",
        "ggplot(tr, aes(x = SibSp, fill = factor(Survived))) + geom_bar(position='dodge')"
      ]
    },
    {
      "cell_type": "markdown",
      "metadata": {
        "_cell_guid": "0bd1c9d6-34ec-27a4-c55b-9fd3f9db9097"
      },
      "source": [
        "### Parents/Children\n",
        "\n",
        "Small families do have a better chance of survival."
      ]
    },
    {
      "cell_type": "code",
      "execution_count": null,
      "metadata": {
        "_cell_guid": "ef852b0d-d2db-7c2c-071e-509a38b4ad96"
      },
      "outputs": [],
      "source": [
        "ggplot(tr, aes(x = Parch, fill = factor(Survived))) + geom_bar(position='dodge')"
      ]
    },
    {
      "cell_type": "markdown",
      "metadata": {
        "_cell_guid": "5ef5f217-02a7-3aeb-9d7f-55d91517d9ec"
      },
      "source": [
        "### Fare\n",
        "\n",
        "We can note a slight increase of survivability when the ticket fare increases. However as most of the tickets have been bought at a low price, this will just help us a little."
      ]
    },
    {
      "cell_type": "code",
      "execution_count": null,
      "metadata": {
        "_cell_guid": "c5c23f2f-c508-7226-af12-ff165b7abef6"
      },
      "outputs": [],
      "source": [
        "ggplot(tr, aes(x = Fare, fill = factor(Survived))) + geom_histogram(bins=15,position='dodge')"
      ]
    },
    {
      "cell_type": "markdown",
      "metadata": {
        "_cell_guid": "1d62f5ed-2aa6-4984-83aa-b834091b0921"
      },
      "source": [
        "### Embarked\n",
        "\n",
        "Only three significant categories and 20% of our population can be classified with a higher chance of survival.\n",
        "We have two missing values."
      ]
    },
    {
      "cell_type": "code",
      "execution_count": null,
      "metadata": {
        "_cell_guid": "081b5591-17bc-d1fa-5aa7-dfdd5aa71826"
      },
      "outputs": [],
      "source": [
        "trEmbarked <- tr %>% group_by(Embarked) %>% summarize(cnt=n(),surv=mean(Survived)) %>% arrange(-surv) %>% as.data.frame()\n",
        "formattable(trEmbarked)"
      ]
    },
    {
      "cell_type": "markdown",
      "metadata": {
        "_cell_guid": "220a32d0-eb81-ee10-0882-a01ae8cb7ef0"
      },
      "source": [
        "## Feature Enginnering\n",
        "\n",
        "We've just looked into the raw data. Let's see if we can enrich it with the other string columns.\n",
        "\n",
        "###Name\n",
        "\n",
        "Name is a string variable. String variables can be rich, but they should be transformed to categorical or -even better- numerical variables to be useful.\n",
        "\n",
        "From our first lines, we can deduce everyone's title is between a comma and a dot. Let's extract this first and see."
      ]
    },
    {
      "cell_type": "code",
      "execution_count": null,
      "metadata": {
        "_cell_guid": "7e5524f9-a930-017b-e69d-c254bbaf39e9"
      },
      "outputs": [],
      "source": [
        "mergedData$title <- gsub('(.*, )|(\\\\..*)', '', mergedData$Name)\n",
        "mergedData$title[mergedData$title == \"Ms\"] <- \"Miss\"\n",
        "mergedData$title[mergedData$title == \"Mlle\"] <- \"Miss\"\n",
        "mergedData$title[!mergedData$title %in% c(\"Miss\",\"Mrs\",\"Mr\")] <- \"Other\"\n",
        "\n",
        "trTitle <- mergedData[!is.na(mergedData$Survived),] %>% group_by(title) %>% summarize(cnt=n(),surv=mean(Survived)) %>% arrange(-surv) %>% as.data.frame()\n",
        "formattable(trTitle)"
      ]
    },
    {
      "cell_type": "markdown",
      "metadata": {
        "_cell_guid": "a8a1df1e-7f7e-40bc-9af4-d2c41603c293"
      },
      "source": [
        "### Cabin\n",
        "\n",
        "As mentioned earlier, Cabin is probably a column hard to get any value from due to the null values. Let's just count.\n",
        "Well maybe, we were a bit quick in our judgement. The numbers of non-null values are small, but it seems that it could have some predictive potential."
      ]
    },
    {
      "cell_type": "code",
      "execution_count": null,
      "metadata": {
        "_cell_guid": "584806e6-8576-6d7c-8f2c-10317a26c5cf"
      },
      "outputs": [],
      "source": [
        "mergedData$cabinCharCnt <- sapply(mergedData$Cabin,function(x) nchar(as.character(x))> 0)\n",
        "trCabin <- mergedData[!is.na(mergedData$Survived),] %>% group_by(cabinCharCnt) %>% summarize(cnt=n(),surv=mean(Survived)) %>% arrange(-cnt) %>% as.data.frame()\n",
        "formattable(trCabin)\n"
      ]
    },
    {
      "cell_type": "markdown",
      "metadata": {
        "_cell_guid": "2da3a95a-03da-62f1-d31a-7348fc3b02cb"
      },
      "source": [
        "### Tickets\n",
        "\n",
        "Tickets are quite hard to figure out. We will just make an attempt to remove the numbers and see what we get.\n",
        "With 660 without any value and nothing clear out of the other tiny categories, we will just give up on this field."
      ]
    },
    {
      "cell_type": "code",
      "execution_count": null,
      "metadata": {
        "_cell_guid": "b385a8fb-f559-c994-3b03-ae319bfb7995"
      },
      "outputs": [],
      "source": [
        "mergedData$ticketsCnt <- sapply(mergedData$Ticket,function(x) nchar(as.character(x)))\n",
        "#Count number of character in tickets\n",
        "#trTickets <- tr %>% group_by(ticketsCnt) %>% summarize(cnt=n(),surv=mean(Survived)) %>% arrange(-cnt) %>% as.data.frame()\n",
        "    \n",
        "#Remove digits\n",
        "mergedData$ticketLetter <- gsub('[0-9/\\\\.]+', '', toupper(mergedData$Ticket))\n",
        "trTickets <- mergedData[!is.na(mergedData$Survived),] %>% group_by(ticketLetter) %>% summarize(cnt=n(),surv=mean(Survived)) %>% arrange(-cnt) %>% as.data.frame()\n",
        "formattable(trTickets)\n",
        "    "
      ]
    },
    {
      "cell_type": "markdown",
      "metadata": {
        "_cell_guid": "c29f124f-073d-15c0-aaf3-d7daa531c216"
      },
      "source": [
        "## Missing Values\n",
        "\n",
        "### Embarked"
      ]
    },
    {
      "cell_type": "code",
      "execution_count": null,
      "metadata": {
        "_cell_guid": "8bbb3349-20cb-a40e-5b8b-e86ecd18b338"
      },
      "outputs": [],
      "source": [
        "formattable(subset(mergedData,nchar(as.character(Embarked)) == 0))"
      ]
    },
    {
      "cell_type": "code",
      "execution_count": null,
      "metadata": {
        "_cell_guid": "448c9385-91cb-a7ea-e13d-652595d2e7bb"
      },
      "outputs": [],
      "source": [
        "library(rpart)\n",
        "\n",
        "mergedData$Name <- NULL\n",
        "mergedData$Ticket <- NULL\n",
        "mergedData$Cabin <- NULL\n",
        "mergedData$ticketsCnt <- NULL\n",
        "mergedData$ticketLetter <- NULL\n",
        "trClean1 <- mergedData\n",
        "class_emb_mod <- rpart(Embarked ~ . - Survived, data=subset(trClean1,nchar(as.character(Embarked)) > 0), method=\"class\", na.action=na.omit) \n",
        "emb_pred <- predict(class_emb_mod, subset(trClean1,nchar(as.character(Embarked)) == 0))\n",
        "trClean1$Embarked[nchar(as.character(trClean1$Embarked)) == 0] <- colnames(emb_pred)[apply(emb_pred, 1, which.max)]\n"
      ]
    },
    {
      "cell_type": "markdown",
      "metadata": {
        "_cell_guid": "11d1b5d8-7009-9d76-3be8-6975bde1522a"
      },
      "source": [
        "### Age"
      ]
    },
    {
      "cell_type": "code",
      "execution_count": null,
      "metadata": {
        "_cell_guid": "f03b22a6-34c2-c854-e089-1f51a27ebdab"
      },
      "outputs": [],
      "source": [
        "formattable(head(subset(tr,is.na(Age))))"
      ]
    },
    {
      "cell_type": "code",
      "execution_count": null,
      "metadata": {
        "_cell_guid": "1f02a066-2d7f-2677-0be0-2e78f83cd1a9"
      },
      "outputs": [],
      "source": [
        "library(mice)\n",
        "\n",
        "trClean2 <- trClean1\n",
        "# perform mice imputation, based on random forests\n",
        "miceMod <- mice(trClean2[,!names(trClean2) %in% \"Survived\"], method=\"rf\",printFlag=FALSE) \n",
        "# generate the completed data\n",
        "trClean2[,!names(trClean2) %in% \"Survived\"] <- complete(miceMod)\n",
        "#anyNA(miceOutput)\n",
        "head(trClean2)"
      ]
    },
    {
      "cell_type": "markdown",
      "metadata": {
        "_cell_guid": "5e7cba7d-8e39-ce50-7fe2-c778b7aaefee"
      },
      "source": [
        "## Predicting"
      ]
    },
    {
      "cell_type": "markdown",
      "metadata": {
        "_cell_guid": "9b617e4f-bbd9-8dc7-3dcc-1da48a51d680"
      },
      "source": [
        "### Random Forest"
      ]
    },
    {
      "cell_type": "code",
      "execution_count": null,
      "metadata": {
        "_cell_guid": "b513c9f2-b6a0-965e-269a-610701836c60"
      },
      "outputs": [],
      "source": [
        "library(randomForest)\n",
        "set.seed(415)\n",
        "trClean <- trClean2\n",
        "#lapply(trClean, class)\n",
        "trClean$Survived <- as.factor(trClean$Survived)\n",
        "trClean$title <- as.factor(trClean$title)\n",
        "\n",
        "trRF <- trClean[!is.na(trClean$Survived),]\n",
        "fit <- randomForest(Survived ~ . - PassengerId,\n",
        "                      data=trRF, \n",
        "                      importance=TRUE, \n",
        "                      ntree=2000)\n",
        "fit$confusion\n",
        "varImpPlot(fit)"
      ]
    },
    {
      "cell_type": "code",
      "execution_count": null,
      "metadata": {
        "_cell_guid": "fabc9912-3689-b324-a6df-3704b041b824"
      },
      "outputs": [],
      "source": [
        "prRF <- trClean[is.na(trClean$Survived),]\n",
        "prediction <- predict(fit, prRF)\n",
        "prRF$Survived <-prediction\n",
        "formattable(prRF)"
      ]
    }
  ],
  "metadata": {
    "_change_revision": 0,
    "_is_fork": false,
    "kernelspec": {
      "display_name": "Python 3",
      "language": "python",
      "name": "python3"
    },
    "language_info": {
      "codemirror_mode": {
        "name": "ipython",
        "version": 3
      },
      "file_extension": ".py",
      "mimetype": "text/x-python",
      "name": "python",
      "nbconvert_exporter": "python",
      "pygments_lexer": "ipython3",
      "version": "3.6.0"
    }
  },
  "nbformat": 4,
  "nbformat_minor": 0
}