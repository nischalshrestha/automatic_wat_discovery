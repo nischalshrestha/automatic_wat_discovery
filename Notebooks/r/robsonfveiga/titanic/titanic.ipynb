{
  "cells": [
    {
      "cell_type": "markdown",
      "metadata": {
        "_cell_guid": "6e65c9eb-3845-ed33-3015-c3d0bd279da2"
      },
      "source": [
        "# Titanic Analysis (Under onstruction)"
      ]
    },
    {
      "cell_type": "markdown",
      "metadata": {
        "_cell_guid": "46de3091-443c-2415-0faa-2a2c5aed3e1f"
      },
      "source": [
        "#### Importa\u00e7\u00e3o das bibliotecas\n",
        "\n",
        "Primeiro \u00e9 feito a importa\u00e7\u00e3o das bibliotecas necess\u00e1rias"
      ]
    },
    {
      "cell_type": "code",
      "execution_count": null,
      "metadata": {
        "_cell_guid": "5f3d10ed-7b85-c0e0-9f80-a7cc629f6d15"
      },
      "outputs": [],
      "source": [
        "py.offline.init_notebook_mode();"
      ]
    },
    {
      "cell_type": "markdown",
      "metadata": {
        "_cell_guid": "2a79ac3d-d085-ed8b-7093-ee6605dc2e80"
      },
      "source": [
        "#### Lendo o dataset\n",
        "Realizando a leitura e inserindo em um dataframe que ser\u00e1 utilizado como base para todas manipula\u00e7\u00f5es"
      ]
    },
    {
      "cell_type": "code",
      "execution_count": null,
      "metadata": {
        "_cell_guid": "026c98e8-25fa-efb4-4a97-821b8e99c7c8"
      },
      "outputs": [],
      "source": [
        "data_csv = csv.reader(open(\"../input/train.csv\",newline=''));\n",
        "\n",
        "header = np.array(next(data_csv));\n",
        "data=[]                          \n",
        "for row in data_csv:      \n",
        "    data.append(row);             \n",
        "    \n",
        "data = p.DataFrame(np.array(data),columns=header);"
      ]
    },
    {
      "cell_type": "markdown",
      "metadata": {
        "_cell_guid": "6809604f-b5d6-2b86-c7a5-a051102c0f9d"
      },
      "source": [
        "#### Convertendo os dados\n",
        "Convertendo os dados para valores os quais tornam o trabalho mais facil e performatico"
      ]
    },
    {
      "cell_type": "code",
      "execution_count": null,
      "metadata": {
        "_cell_guid": "1695d73c-131e-6041-151c-51102e42a6a6"
      },
      "outputs": [],
      "source": [
        "data.Survived = p.to_numeric(data.Survived);\n",
        "data.Pclass   = p.to_numeric(data.Pclass);"
      ]
    },
    {
      "cell_type": "markdown",
      "metadata": {
        "_cell_guid": "c61ae186-013d-6f74-a42e-3dc437365c92"
      },
      "source": [
        "### Tipos de vari\u00e1veis\n",
        "\n",
        "<table class=\"table\" >\n",
        "    <thead>\n",
        "        <tr>\n",
        "            <th >Variable Name</th>\n",
        "            <th>Description</th>\n",
        "            <th >Type</th>\n",
        "        </tr>\n",
        "    </thead>\n",
        "    <tbody>\n",
        "        <tr class=\"odd\">\n",
        "            <td align=\"left\">Survived</td>\n",
        "            <td align=\"left\">Survived (1) or died (0)</td>\n",
        "            <td style=\"color:#587D96;\">Qualitative / Nominal</td>\n",
        "        </tr>\n",
        "        <tr class=\"even\">\n",
        "            <td align=\"left\">Pclass</td>\n",
        "            <td align=\"left\">Passenger\u2019s class</td>\n",
        "            <td style=\"color:#587D96;\">Qualitative / Ordinal</td>\n",
        "        </tr>\n",
        "        <tr class=\"odd\">\n",
        "            <td align=\"left\">Name</td>\n",
        "            <td align=\"left\">Passenger\u2019s name</td>\n",
        "            <td style=\"color:#587D96;\">Qualitative / Nominal</td>\n",
        "        </tr>\n",
        "        <tr class=\"even\">\n",
        "            <td align=\"left\">Sex</td>\n",
        "            <td align=\"left\">Passenger\u2019s sex</td>\n",
        "            <td style=\"color:#587D96;\">Qualitative / Nominal</td>\n",
        "        </tr>\n",
        "        <tr class=\"odd\">\n",
        "            <td align=\"left\">Age</td>\n",
        "            <td align=\"left\">Passenger\u2019s age</td>\n",
        "            <td style=\"color:#A6246E\">Quantitative / Continuous</td>\n",
        "        </tr>\n",
        "        <tr class=\"even\">\n",
        "            <td align=\"left\">SibSp</td>\n",
        "            <td align=\"left\">Number of siblings/spouses aboard</td>\n",
        "            <td style=\"color:#A6246E\">Quantitative / Discrete</td>\n",
        "        </tr>\n",
        "        <tr class=\"odd\">\n",
        "            <td align=\"left\">Parch</td>\n",
        "            <td align=\"left\">Number of parents/children aboard</td>\n",
        "            <td style=\"color:#A6246E\">Quantitative / Discrete</td>\n",
        "        </tr>\n",
        "        <tr class=\"even\">\n",
        "            <td align=\"left\">Ticket</td>\n",
        "            <td align=\"left\">Ticket number</td>\n",
        "            <td style=\"color:#587D96;\">Qualitative / Nominal</td>\n",
        "        </tr>\n",
        "        <tr class=\"odd\">\n",
        "            <td align=\"left\">Fare</td>\n",
        "            <td align=\"left\">Fare</td>\n",
        "           <td style=\"color:#A6246E\">Quantitative / Continuous</td>\n",
        "        </tr>\n",
        "        <tr class=\"even\">\n",
        "            <td align=\"left\">Cabin</td>\n",
        "            <td align=\"left\">Cabin</td>\n",
        "            <td style=\"color:#587D96;\">Qualitative / Nominal</td>\n",
        "        </tr>\n",
        "        <tr class=\"odd\">\n",
        "            <td align=\"left\">Embarked</td>\n",
        "            <td align=\"left\">Port of embarkation</td>\n",
        "            <td style=\"color:#587D96;\">Qualitative / Nominal</td>\n",
        "        </tr>\n",
        "    </tbody>\n",
        "</table>"
      ]
    },
    {
      "cell_type": "markdown",
      "metadata": {
        "_cell_guid": "2e2b03c8-b054-0f2c-42d1-17eb58902681"
      },
      "source": [
        "### Contadores\n",
        "\n",
        "Neste momento quero analisar qual qualidade de passageiro era mais presente para em uma analise seguinte correlacionar as informa\u00e7\u00f5es"
      ]
    },
    {
      "cell_type": "code",
      "execution_count": null,
      "metadata": {
        "_cell_guid": "164fcf63-e338-d634-11e0-4d6eb4e5a37b"
      },
      "outputs": [],
      "source": [
        "\n",
        "number_passengers           = np.shape(data)[0];\n",
        "\n",
        "#Seuvived\n",
        "number_survived             = np.shape(data[data[\"Survived\"]==1])[0];\n",
        "number_no_survived          = np.shape(data[data[\"Survived\"]==0])[0];\n",
        "\n",
        "#Sex\n",
        "number_female               = np.shape(data[data[\"Sex\"]==\"female\"])[0];\n",
        "number_male                 = np.shape(data[data[\"Sex\"]==\"male\"])[0];\n",
        "\n",
        "#Socio Economic Status\n",
        "number_class_1                     = np.shape(data[data[\"Pclass\"]==1])[0];\n",
        "number_class_2                     = np.shape(data[data[\"Pclass\"]==2])[0];\n",
        "number_class_3                     = np.shape(data[data[\"Pclass\"]==3])[0];"
      ]
    },
    {
      "cell_type": "markdown",
      "metadata": {
        "_cell_guid": "a9089c10-0380-021c-d3cd-597d865c901f"
      },
      "source": [
        "Verificando se existe gaps nas colunas de classe e sexo dos passageiros"
      ]
    },
    {
      "cell_type": "code",
      "execution_count": null,
      "metadata": {
        "_cell_guid": "33c61d81-c581-6ec1-4382-d1271747060e"
      },
      "outputs": [],
      "source": [
        "print(\"column sex is whole filled:   \" + str(np.count_nonzero(data[\"Sex\"])==number_passengers));\n",
        "print(\"column class is whole filled: \" + str(np.count_nonzero(data[\"Pclass\"])==number_passengers));"
      ]
    },
    {
      "cell_type": "code",
      "execution_count": null,
      "metadata": {
        "_cell_guid": "3010122d-019e-ba3b-e7ab-1873196f24be"
      },
      "outputs": [],
      "source": [
        "labels        = np.array([\"Female\",\"Male\",\"Class 1\",\"Class 2\",\"Class 3\"]);\n",
        "values     = np.array([number_female,number_male,number_class_1,number_class_2,number_class_3]);\n",
        "valuesFrame     = p.DataFrame(values,labels);\n",
        "\n",
        "\n",
        "#Plot configs\n",
        "plotConfig = [go.Bar(\n",
        "            x=labels,\n",
        "            y=values\n",
        "    )]\n",
        "\n",
        "layout = go.Layout(\n",
        "    title='Total passengers by Qualitative / Ordinal',\n",
        "    \n",
        "   \n",
        ")\n",
        "\n",
        "fig = go.Figure(data=plotConfig, layout=layout)\n",
        "\n",
        "\n",
        "py.offline.iplot(fig)"
      ]
    },
    {
      "cell_type": "markdown",
      "metadata": {
        "_cell_guid": "f0c7fd4f-e020-bf18-c7c4-31456ef52f05"
      },
      "source": [
        "Analisando o grafico acima podemos perceber quer entre os passageiros uma caracteristica muito presente era sexo masculino e pessoas de classe 3. Portantos no navio havia muitos homens e pessoas de classe baixa. Agora vamos ver como estas informa\u00e7\u00f5es se relacionam."
      ]
    },
    {
      "cell_type": "code",
      "execution_count": null,
      "metadata": {
        "_cell_guid": "ace6fe69-4f33-4dbd-001b-d1fd043a63f5",
        "collapsed": true
      },
      "outputs": [],
      "source": [
        "number_female_suvived               = np.shape(data[data[\"Sex\"]==\"female\"])[0];\n",
        "number_male                 = np.shape(data[data[\"Sex\"]==\"male\"])[0];"
      ]
    }
  ],
  "metadata": {
    "_change_revision": 0,
    "_is_fork": false,
    "kernelspec": {
      "display_name": "Python 3",
      "language": "python",
      "name": "python3"
    },
    "language_info": {
      "codemirror_mode": {
        "name": "ipython",
        "version": 3
      },
      "file_extension": ".py",
      "mimetype": "text/x-python",
      "name": "python",
      "nbconvert_exporter": "python",
      "pygments_lexer": "ipython3",
      "version": "3.6.0"
    }
  },
  "nbformat": 4,
  "nbformat_minor": 0
}