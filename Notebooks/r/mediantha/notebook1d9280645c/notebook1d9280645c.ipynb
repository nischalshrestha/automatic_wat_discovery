{
  "cells": [
    {
      "cell_type": "code",
      "execution_count": null,
      "metadata": {
        "_cell_guid": "c2d0352a-ed70-5627-a814-253aebfbc774"
      },
      "outputs": [],
      "source": [
        "# This Python 3 environment comes with many helpful analytics libraries installed\n",
        "# It is defined by the kaggle/python docker image: https://github.com/kaggle/docker-python\n",
        "# For example, here's several helpful packages to load in \n",
        "\n",
        "import numpy as np # linear algebra\n",
        "import pandas as pd # data processing, CSV file I/O (e.g. pd.read_csv)\n",
        "\n",
        "# Input data files are available in the \"../input/\" directory.\n",
        "# For example, running this (by clicking run or pressing Shift+Enter) will list the files in the input directory\n",
        "\n",
        "from subprocess import check_output\n",
        "print(check_output([\"ls\", \"../input\"]).decode(\"utf8\"))\n",
        "\n",
        "# Any results you write to the current directory are saved as output."
      ]
    },
    {
      "cell_type": "code",
      "execution_count": null,
      "metadata": {
        "_cell_guid": "f8bb5490-c022-2249-5868-d1a0b4c826ff"
      },
      "outputs": [],
      "source": [
        "# Load packages\n",
        "library('ggplot2') # visualization\n",
        "library('ggthemes') # visualization\n",
        "library('scales') # visualization\n",
        "library('dplyr') # data manipulation\n",
        "library('mice') # imputation\n",
        "library('randomForest') # classification algorithm\n",
        "\n",
        "train <- read.csv('../input/train.csv', stringsAsFactors = F)\n",
        "test  <- read.csv('../input/test.csv', stringsAsFactors = F)\n",
        "\n",
        "full  <- bind_rows(train, test) # bind training & test data\n",
        "\n",
        "# check data\n",
        "str(full)"
      ]
    }
  ],
  "metadata": {
    "_change_revision": 0,
    "_is_fork": false,
    "kernelspec": {
      "display_name": "Python 3",
      "language": "python",
      "name": "python3"
    },
    "language_info": {
      "codemirror_mode": {
        "name": "ipython",
        "version": 3
      },
      "file_extension": ".py",
      "mimetype": "text/x-python",
      "name": "python",
      "nbconvert_exporter": "python",
      "pygments_lexer": "ipython3",
      "version": "3.6.0"
    }
  },
  "nbformat": 4,
  "nbformat_minor": 0
}