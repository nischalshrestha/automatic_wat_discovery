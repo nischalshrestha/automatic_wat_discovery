{
  "cells": [
    {
      "cell_type": "markdown",
      "metadata": {
        "_cell_guid": "22899ded-caf3-eaa9-c3e8-943c80c7e50e"
      },
      "source": ""
    },
    {
      "cell_type": "code",
      "execution_count": null,
      "metadata": {
        "_cell_guid": "8aa90062-01db-5109-fb8e-b6ffb2b87ae4"
      },
      "outputs": [],
      "source": [
        "\n",
        "import matplotlib.pyplot as plt\n",
        "%matplotlib inline\n",
        "import random\n",
        "import numpy as np\n",
        "import pandas as pd\n",
        "from sklearn import datasets, svm, tree, preprocessing, metrics\n",
        "import sklearn.ensemble as ske\n",
        "import tensorflow as tf"
      ]
    },
    {
      "cell_type": "code",
      "execution_count": null,
      "metadata": {
        "_cell_guid": "04108fc7-fa33-a825-ab3a-c96a3dfc0073"
      },
      "outputs": [],
      "source": [
        "titanic_df = pd.read_excel('train.csv', 'titanic3', index_col=None, na_values=['NA'])"
      ]
    },
    {
      "cell_type": "code",
      "execution_count": null,
      "metadata": {
        "_cell_guid": "f188184b-e930-34de-087a-cfd15a61a4ae"
      },
      "outputs": [],
      "source": [
        "\n",
        "titanic_df.head()"
      ]
    },
    {
      "cell_type": "code",
      "execution_count": null,
      "metadata": {
        "_cell_guid": "4bc80ae9-bf52-902a-1080-3ff7be1bb38c"
      },
      "outputs": [],
      "source": [
        "titanic_df.groupby('pclass').mean()"
      ]
    }
  ],
  "metadata": {
    "_change_revision": 0,
    "_is_fork": false,
    "kernelspec": {
      "display_name": "Python 3",
      "language": "python",
      "name": "python3"
    },
    "language_info": {
      "codemirror_mode": {
        "name": "ipython",
        "version": 3
      },
      "file_extension": ".py",
      "mimetype": "text/x-python",
      "name": "python",
      "nbconvert_exporter": "python",
      "pygments_lexer": "ipython3",
      "version": "3.6.0"
    }
  },
  "nbformat": 4,
  "nbformat_minor": 0
}